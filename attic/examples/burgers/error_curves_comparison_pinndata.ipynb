{
 "cells": [
  {
   "cell_type": "code",
   "execution_count": 1,
   "metadata": {},
   "outputs": [],
   "source": [
    "import jax.numpy as jnp\n",
    "import jax\n",
    "jax.config.update(\"jax_enable_x64\", True)\n",
    "from jax import jit,grad,hessian,jacfwd,jacrev\n",
    "import numpy as np\n",
    "import matplotlib.pyplot as plt\n",
    "import jax\n",
    "from tqdm.auto import tqdm\n",
    "plt.style.use(\"ggplot\")\n",
    "\n",
    "from importlib import reload\n",
    "import KernelTools\n",
    "reload(KernelTools)\n",
    "from KernelTools import *\n",
    "from EquationModel import InducedRKHS,OperatorModel,CholOperatorModel\n",
    "from parabolic_data_utils import (\n",
    "    build_burgers_data,build_tx_grid,\n",
    "    build_tx_grid_chebyshev,setup_problem_data\n",
    ")\n",
    "from plotting import plot_input_data,plot_compare_error\n",
    "from evaluation_metrics import compute_results    \n",
    "from data_utils import MinMaxScaler\n",
    "from evaluation_metrics import get_nrmse\n",
    "\n",
    "from Kernels import log1pexp,inv_log1pexp\n",
    "from Kernels import (\n",
    "    get_centered_scaled_poly_kernel,\n",
    "    get_anisotropic_gaussianRBF,\n",
    "    fit_kernel_params\n",
    ")\n",
    "from EquationModel import CholInducedRKHS, CholOperatorModel, OperatorPDEModel\n",
    "from functools import partial\n",
    "\n",
    "import Optimizers\n",
    "import importlib\n",
    "importlib.reload(Optimizers)\n",
    "from Optimizers import CholeskyLM,SVD_LM"
   ]
  },
  {
   "cell_type": "code",
   "execution_count": 2,
   "metadata": {},
   "outputs": [],
   "source": [
    "# import tensorflow as tf\n",
    "import numpy as np\n",
    "import matplotlib.pyplot as plt\n",
    "import scipy.io\n",
    "from scipy.interpolate import griddata\n",
    "from scipy.spatial import distance\n",
    "from matplotlib import cm\n",
    "import time\n",
    "from mpl_toolkits.mplot3d import Axes3D\n",
    "# from pyDOE import lhs\n",
    "# #    import sobol_seq\n",
    "import os\n",
    "# from sklearn.preprocessing import MinMaxScaler"
   ]
  },
  {
   "cell_type": "code",
   "execution_count": 3,
   "metadata": {},
   "outputs": [],
   "source": [
    "def sparsifyDynamics(Theta,dXdt,lamb,n):\n",
    "    # Initial guess: Least-squares\n",
    "    Xi = np.linalg.lstsq(Theta,dXdt,rcond=None)[0]\n",
    "\n",
    "    for k in range(10):\n",
    "        smallinds = np.abs(Xi) < lamb # Find small coeffs.\n",
    "        Xi[smallinds]=0 # and threshold\n",
    "        for ind in range(n): # n is state dimension\n",
    "            biginds = smallinds[:,ind] == 0\n",
    "            # Regress onto remaining terms to find sparse Xi\n",
    "            Xi[biginds,ind] = np.linalg.lstsq(Theta[:,\n",
    "                biginds],dXdt[:,ind],rcond=None)[0]\n",
    "        return Xi"
   ]
  },
  {
   "cell_type": "code",
   "execution_count": 4,
   "metadata": {},
   "outputs": [],
   "source": [
    "def get_data_rand_coll(n_coll, n_obs,seed, data_for_pinn = False): \n",
    "    '''\n",
    "    n_coll (int) : Integer less than 101 x 256.\n",
    "    n_obs (int)    : Integet less than n_coll.\n",
    "    seed (int)     : Seed to choose data point set.\n",
    "    '''     \n",
    "    # Generate data\n",
    "    data = scipy.io.loadmat('/home/juanfelipe/Desktop/research/keql/examples/burgers/data/burgers.mat')\n",
    "    # t\n",
    "    t = jnp.real(data['t'].flatten()[:,None])\n",
    "    # Scale t\n",
    "    scaler_t = MinMaxScaler()\n",
    "    t = scaler_t.fit_transform(t)\n",
    "    # x\n",
    "    x = np.real(data['x'].flatten()[:,None])\n",
    "    # Scale x\n",
    "    scaler_x = MinMaxScaler()\n",
    "    x = scaler_x.fit_transform(x)\n",
    "    # u true values\n",
    "    Exact = np.real(data['usol'])\n",
    "\n",
    "    # Fine meshgrid\n",
    "    T, X = np.meshgrid(t,x)\n",
    "\n",
    "    # Fine pairs (t,x)\n",
    "    X_star = np.hstack((T.flatten()[:,None], X.flatten()[:,None]))\n",
    "    # Fine u values\n",
    "    u_star = Exact.flatten()[:,None]\n",
    "    \n",
    "    # Triples at collocation point set\n",
    "    N_all = n_coll\n",
    "    triplets_fine = np.hstack([X_star,u_star])\n",
    "    triplets_all = jax.random.choice(key = jax.random.PRNGKey(0), a = triplets_fine, shape = (N_all,), replace=False)\n",
    "    \n",
    "    # Collocation point set\n",
    "    tx_all = triplets_all[:,:2]\n",
    "\n",
    "\n",
    "    N_obs = n_obs\n",
    "    triplets_obs = jax.random.choice(key = jax.random.PRNGKey(seed), a = triplets_all, shape = (N_obs,), replace=False)\n",
    "    # triplets_obs = triplets_all[idx_obs,:] # Choose data point set from collocation point set\n",
    "    # Data point set\n",
    "    tx_obs = triplets_obs[:,:2]\n",
    "    u_obs = triplets_obs[:,-1]\n",
    "\n",
    "    u_star = triplets_fine[:,-1]\n",
    "\n",
    "    # Invert them to be ready for PINNSR\n",
    "    if data_for_pinn:\n",
    "        tx_train = tx_train.at[:,[1,0]].set(tx_train[:,[0,1]])\n",
    "\n",
    "        tx_val = tx_val.at[:,[1,0]].set(tx_val[:,[0,1]])\n",
    "\n",
    "        tx_all = tx_all.at[:,[1,0]].set(tx_all[:,[0,1]])\n",
    "\n",
    "        X_star = X_star.at[:,[1,0]].set(X_star[:,[0,1]])\n",
    "\n",
    "        triplets_fine = triplets_fine.at[:,[1,0]].set(triplets_fine[:,[0,1]])\n",
    "    \n",
    "    return tx_obs, u_obs, tx_all, u_star, X_star"
   ]
  },
  {
   "cell_type": "code",
   "execution_count": 5,
   "metadata": {},
   "outputs": [],
   "source": [
    "def get_data_unif_coll(n_coll_t, n_coll_x, n_obs, seed, data_for_pinn = False):  \n",
    "    '''\n",
    "    n_coll_t (int) : Integer less than 101.\n",
    "    n_coll_x (int) : Integer less than 256.\n",
    "    n_obs (int)    : Integet less than n_coll_t x n_coll_x.\n",
    "    seed (int)     : Seed to choose data point set.\n",
    "    '''  \n",
    "    data = scipy.io.loadmat('/home/juanfelipe/Desktop/research/keql/examples/burgers/data/burgers.mat')\n",
    "    # t\n",
    "    t = jnp.real(data['t'].flatten())\n",
    "    # Scale t\n",
    "    # scaler_t = MinMaxScaler()\n",
    "    # t = scaler_t.fit_transform(t)\n",
    "    # x\n",
    "    x = jnp.real(data['x'].flatten())\n",
    "    # Scale x\n",
    "    # scaler_x = MinMaxScaler()\n",
    "    # x = scaler_x.fit_transform(x)\n",
    "    # u true values\n",
    "    Exact = jnp.real(data['usol'])\n",
    "\n",
    "    # Fine meshgrid\n",
    "    T, X = jnp.meshgrid(t,x)\n",
    "\n",
    "    # Fine pairs (t,x)\n",
    "    X_star = jnp.hstack((T.flatten()[:,None], X.flatten()[:,None]))\n",
    "    lb, ub = X_star.min(0), X_star.max(0)    \n",
    "    # Fine u values\n",
    "    u_star = Exact.flatten()[:,None]\n",
    "    triplets_fine = jnp.hstack([X_star,u_star])\n",
    "\n",
    "\n",
    "    # Triples at collocation point set\n",
    "    idx_t_all = jnp.round(jnp.linspace(0, len(t) - 1, n_coll_t)).astype(int)\n",
    "    t_all = t[idx_t_all]\n",
    "    idx_x_all = jnp.round(jnp.linspace(0, len(x) - 1, n_coll_x)).astype(int)\n",
    "    x_all = x[idx_x_all]\n",
    "    # Collocation meshgrid\n",
    "    T_all, X_all = jnp.meshgrid(t_all,x_all)\n",
    "    # Collocation_pairs\n",
    "    tx_all = np.hstack((T_all.flatten()[:,None], X_all.flatten()[:,None]))\n",
    "\n",
    "    def is_in_array2(coords, array2):\n",
    "        # Compare each coordinate pair to all rows in array2 and return True if it matches any row\n",
    "        return jnp.any(jnp.all(coords == array2, axis=1))\n",
    "    check_inclusion = jax.vmap(lambda row: is_in_array2(row[:2], tx_all))\n",
    "\n",
    "    coords_to_check = triplets_fine[:,:2]\n",
    "    triplets_all = triplets_fine[check_inclusion(coords_to_check)]\n",
    "\n",
    "    # Collocation point set\n",
    "    tx_all = triplets_all[:,:2]\n",
    "\n",
    "    N_obs = n_obs\n",
    "    triplets_obs = jax.random.choice(key = jax.random.PRNGKey(seed), a = triplets_all, shape = (N_obs,), replace=False)\n",
    "    triplets_train = triplets_obs[:int(N_obs*0.8),:]\n",
    "    triplets_val = triplets_obs[int(N_obs*0.8):,:]\n",
    "\n",
    "    # Data point set\n",
    "    tx_train = triplets_train[:,:2]\n",
    "    u_train = triplets_train[:,-1]\n",
    "\n",
    "    # Validation point set\n",
    "    tx_val = triplets_val[:,:2]\n",
    "    u_val = triplets_val[:,-1]\n",
    "\n",
    "\n",
    "    # Invert them to be ready for PINNSR\n",
    "    if data_for_pinn:\n",
    "        tx_train = tx_train.at[:,[1,0]].set(tx_train[:,[0,1]])\n",
    "\n",
    "        tx_val = tx_val.at[:,[1,0]].set(tx_val[:,[0,1]])\n",
    "\n",
    "        tx_all = tx_all.at[:,[1,0]].set(tx_all[:,[0,1]])\n",
    "\n",
    "        X_star = X_star.at[:,[1,0]].set(X_star[:,[0,1]])\n",
    "\n",
    "        triplets_fine = triplets_fine.at[:,[1,0]].set(triplets_fine[:,[0,1]])\n",
    "\n",
    "    u_star = triplets_fine[:,-1]\n",
    "\n",
    "    return tx_train, u_train, tx_val, u_val, tx_all, lb, ub, u_star, X_star"
   ]
  },
  {
   "cell_type": "markdown",
   "metadata": {},
   "source": [
    "We will compare `1.5 step` , `PINNSR` and  `SINDy` methods by using:\n",
    "\n",
    "- Collocation point set: Randomly selected.\n",
    "- Data point set: Randomly selected from Collocation point set.\n",
    "\n",
    "by measuring the error of the recovered $u$ on the full given data.\n",
    "\n",
    "We call the two functions `get_error_1_5` and `get_error_SINDy` in this notebook and later we upload the data resulting from `PINNSR` since they run on different Python environments."
   ]
  },
  {
   "cell_type": "code",
   "execution_count": 6,
   "metadata": {},
   "outputs": [],
   "source": [
    "def get_error_1_5(n_obs, n_coll_t,n_coll_x, run):\n",
    "    \n",
    "    tx_train, u_train, tx_val, u_val, tx_all, lb, ub, u_star, X_star = get_data_unif_coll(n_coll_t=n_coll_t,n_coll_x=n_coll_x,n_obs = n_obs,seed=run)\n",
    "    \n",
    "    # # if using val\n",
    "    # tx_obs = jnp.vstack([tx_train,tx_val])\n",
    "    # u_obs  = jnp.concatenate([u_train,u_val]).flatten()    \n",
    "\n",
    "    # if not using val\n",
    "    tx_obs = tx_train\n",
    "    u_obs  = u_train   \n",
    "\n",
    "    # Run 1_5 step method\n",
    "\n",
    "    u_operators = (eval_k,)\n",
    "    feature_operators = (eval_k,dx_k,dxx_k)\n",
    "\n",
    "    # Choose u kernel\n",
    "    def param_ani_gaussian_RBF(x,y,params):\n",
    "        lengthscales = log1pexp(params)\n",
    "        return get_anisotropic_gaussianRBF(1.,jnp.diag(lengthscales))(x,y)\n",
    "    \n",
    "    fitted_params,ml_value = fit_kernel_params(param_ani_gaussian_RBF,tx_obs,u_obs,jnp.zeros(2))\n",
    "    ML_lengthscales = log1pexp(fitted_params)\n",
    "    # print(1/(jnp.sqrt(ML_lengthscales)))\n",
    "    k_u = get_anisotropic_gaussianRBF(1.,jnp.diag(log1pexp(fitted_params)))\n",
    "\n",
    "    # RKHS class for u\n",
    "    u_model = CholInducedRKHS(\n",
    "        tx_all,\n",
    "        u_operators,\n",
    "        k_u,\n",
    "        nugget_size = 1e-8\n",
    "        )\n",
    "    u_params_init = u_model.get_fitted_params(tx_obs,u_obs)\n",
    "\n",
    "    grid_features_init = (\n",
    "        (u_model.evaluate_operators(feature_operators,tx_all,u_params_init))\n",
    "        .reshape(\n",
    "                len(tx_all),\n",
    "                len(feature_operators),\n",
    "                order = 'F'\n",
    "            )\n",
    "    )\n",
    "\n",
    "    # Choose kernel for P\n",
    "    k_P_u_part = get_centered_scaled_poly_kernel(2,grid_features_init,c=1.,scaling = 'diagonal')\n",
    "    @vectorize_kfunc\n",
    "    def k_P(x,y):\n",
    "        return k_P_u_part(x[2:],y[2:])\n",
    "    P_model = OperatorModel(k_P)    \n",
    "        \n",
    "    # Equation model that has u and P object\n",
    "    EqnModel = OperatorPDEModel(\n",
    "        P_model,\n",
    "        (u_model,),\n",
    "        (tx_obs,),\n",
    "        (u_obs,),\n",
    "        (tx_all,),\n",
    "        feature_operators,\n",
    "        rhs_operator=dt_k,\n",
    "        datafit_weight = 100\n",
    "    )\n",
    "\n",
    "    # Optimize - LM\n",
    "    params_init = jnp.hstack([u_params_init,jnp.zeros(len(grid_features_init))])\n",
    "    params,convergence_data = CholeskyLM(\n",
    "        params_init.copy(),\n",
    "        EqnModel,\n",
    "        beta = 1e-11,\n",
    "        max_iter = 201,\n",
    "        init_alpha=0.1,\n",
    "        line_search_increase_ratio=1.4,\n",
    "        print_every = 100\n",
    "    )\n",
    "    p_adjusted,refine_convergence_data = SVD_LM(params,EqnModel,1e-3,50,overall_regularization=1e-12)\n",
    "    # u_params\n",
    "    u_sol = p_adjusted[:u_model.num_params]\n",
    "    # u_true \n",
    "    u_true = u_star.flatten()\n",
    "    # get error\n",
    "    error_u_field = get_nrmse(u_true, u_model.point_evaluate(X_star,u_sol))\n",
    "    \n",
    "    return error_u_field"
   ]
  },
  {
   "cell_type": "code",
   "execution_count": 7,
   "metadata": {},
   "outputs": [],
   "source": [
    "def get_error_SINDy(n_obs, n_coll_t, n_coll_x, run):\n",
    "    tx_train, u_train, tx_val, u_val, tx_all, _, _, u_star, X_star = get_data_unif_coll(n_coll_t=n_coll_t,n_coll_x=n_coll_x,n_obs = n_obs,seed=run)\n",
    "    \n",
    "    # # if using val\n",
    "    # tx_obs = jnp.vstack([tx_train,tx_val])\n",
    "    # u_obs  = jnp.concatenate([u_train,u_val]).flatten()    \n",
    "\n",
    "    # if not using val\n",
    "    tx_obs = tx_train\n",
    "    u_obs  = u_train\n",
    "\n",
    "    # Run SINDy method\n",
    "\n",
    "    u_operators = (eval_k,)\n",
    "    feature_operators = (eval_k,dt_k,dx_k,dxx_k)\n",
    "\n",
    "    def param_ani_gaussian_RBF(x,y,params):\n",
    "        lengthscales = log1pexp(params)\n",
    "        return get_anisotropic_gaussianRBF(1.,jnp.diag(lengthscales))(x,y)\n",
    "\n",
    "    fitted_params,ml_value = fit_kernel_params(param_ani_gaussian_RBF,tx_obs,u_obs,jnp.zeros(2))\n",
    "    ML_lengthscales = log1pexp(fitted_params)\n",
    "\n",
    "    k_u = get_anisotropic_gaussianRBF(1.,jnp.diag(log1pexp(fitted_params)))\n",
    "\n",
    "    # print(1/(jnp.sqrt(ML_lengthscales)))\n",
    "\n",
    "    u_model = CholInducedRKHS(\n",
    "        tx_obs,\n",
    "        u_operators,\n",
    "        k_u,\n",
    "        nugget_size = 1e-8\n",
    "        )\n",
    "\n",
    "    u_params = u_model.get_fitted_params(tx_obs,u_obs)\n",
    "\n",
    "    # S = (\n",
    "    #     (u_model.evaluate_operators(feature_operators,tx_all,u_params))\n",
    "    #     .reshape(\n",
    "    #             len(tx_all), \n",
    "    #             len(feature_operators),\n",
    "    #             order = 'F'\n",
    "    #         )\n",
    "    # )\n",
    "\n",
    "    # U_t = S[:,1]\n",
    "    # UU_x = jnp.multiply(S[:,0],S[:,2])\n",
    "    # U_xx = S[:,3]\n",
    "\n",
    "    # Theta = jnp.vstack([UU_x, U_xx]).T\n",
    "    \n",
    "    # res = sparsifyDynamics(Theta,U_t.reshape(-1,1),lamb = 1e-8, n = 1)\n",
    "    #print(f'SINDy recovered equation: u_t = {round(res[0][0],4)}uu_x + {round(res[1][0],4)}u_xx')\n",
    "    \n",
    "    # u_true \n",
    "    u_true = u_star.flatten()\n",
    "    # get error\n",
    "    error_u_field = get_nrmse(u_true, u_model.point_evaluate(X_star,u_params))\n",
    "    \n",
    "    return error_u_field"
   ]
  },
  {
   "cell_type": "code",
   "execution_count": 8,
   "metadata": {},
   "outputs": [],
   "source": [
    "err = {\n",
    "    '1_5_mthd': [],\n",
    "    'SINDy':   []\n",
    "}"
   ]
  },
  {
   "cell_type": "code",
   "execution_count": 9,
   "metadata": {},
   "outputs": [
    {
     "name": "stdout",
     "output_type": "stream",
     "text": [
      "n_obs =  20\n"
     ]
    },
    {
     "data": {
      "application/vnd.jupyter.widget-view+json": {
       "model_id": "f4f1e806428046c28c0e5360e24265ed",
       "version_major": 2,
       "version_minor": 0
      },
      "text/plain": [
       "  0%|          | 0/201 [00:00<?, ?it/s]"
      ]
     },
     "metadata": {},
     "output_type": "display_data"
    },
    {
     "name": "stdout",
     "output_type": "stream",
     "text": [
      "Iteration 0, loss = 7.305e-05, Jres = 11.1, alpha = 0.08333, improvement_ratio = 1.0\n",
      "Iteration 1, loss = 6.879e-05, Jres = 0.0989, alpha = 0.06944, improvement_ratio = 1.004\n",
      "Iteration 2, loss = 6.755e-05, Jres = 0.01029, alpha = 0.05787, improvement_ratio = 1.007\n",
      "Iteration 3, loss = 6.704e-05, Jres = 0.005708, alpha = 0.04823, improvement_ratio = 1.01\n",
      "Iteration 4, loss = 6.677e-05, Jres = 0.003669, alpha = 0.04019, improvement_ratio = 1.012\n",
      "Iteration 5, loss = 6.655e-05, Jres = 0.002005, alpha = 0.03349, improvement_ratio = 1.009\n",
      "Iteration 100, loss = 2.649e-07, Jres = 0.004133, alpha = 8.333e-07, improvement_ratio = 0.9941\n",
      "Iteration 200, loss = 1.353e-07, Jres = 2.341e-05, alpha = 8.333e-07, improvement_ratio = 0.9996\n"
     ]
    },
    {
     "data": {
      "application/vnd.jupyter.widget-view+json": {
       "model_id": "dd6f9384100545d0bb3615059a14ebf0",
       "version_major": 2,
       "version_minor": 0
      },
      "text/plain": [
       "  0%|          | 0/50 [00:00<?, ?it/s]"
      ]
     },
     "metadata": {},
     "output_type": "display_data"
    },
    {
     "name": "stdout",
     "output_type": "stream",
     "text": [
      "Iteration 0, loss = 1.3497334550790553e-07\n"
     ]
    },
    {
     "data": {
      "application/vnd.jupyter.widget-view+json": {
       "model_id": "d8302a69c3fc408d95067fbc3b3d5219",
       "version_major": 2,
       "version_minor": 0
      },
      "text/plain": [
       "  0%|          | 0/201 [00:00<?, ?it/s]"
      ]
     },
     "metadata": {},
     "output_type": "display_data"
    },
    {
     "name": "stdout",
     "output_type": "stream",
     "text": [
      "Iteration 0, loss = 5.654e-05, Jres = 4.487, alpha = 0.08333, improvement_ratio = 0.9999\n",
      "Iteration 1, loss = 5.528e-05, Jres = 0.0654, alpha = 0.06944, improvement_ratio = 1.002\n",
      "Iteration 2, loss = 5.494e-05, Jres = 0.002762, alpha = 0.05787, improvement_ratio = 1.008\n",
      "Iteration 3, loss = 5.475e-05, Jres = 0.0008469, alpha = 0.04823, improvement_ratio = 1.011\n",
      "Iteration 4, loss = 5.46e-05, Jres = 0.0004935, alpha = 0.04019, improvement_ratio = 1.011\n",
      "Iteration 5, loss = 5.446e-05, Jres = 0.0004057, alpha = 0.03349, improvement_ratio = 1.009\n",
      "Iteration 100, loss = 3.144e-06, Jres = 0.01098, alpha = 8.333e-07, improvement_ratio = 1.002\n",
      "Iteration 200, loss = 1.47e-06, Jres = 0.003477, alpha = 8.333e-07, improvement_ratio = 1.001\n"
     ]
    },
    {
     "data": {
      "application/vnd.jupyter.widget-view+json": {
       "model_id": "aff40ee580d04cf1a6c391ac5716328a",
       "version_major": 2,
       "version_minor": 0
      },
      "text/plain": [
       "  0%|          | 0/50 [00:00<?, ?it/s]"
      ]
     },
     "metadata": {},
     "output_type": "display_data"
    },
    {
     "name": "stdout",
     "output_type": "stream",
     "text": [
      "Iteration 0, loss = 1.4679780574280647e-06\n"
     ]
    },
    {
     "data": {
      "application/vnd.jupyter.widget-view+json": {
       "model_id": "79c78b092e0a484bbfe5c1fb6f3b79f3",
       "version_major": 2,
       "version_minor": 0
      },
      "text/plain": [
       "  0%|          | 0/201 [00:00<?, ?it/s]"
      ]
     },
     "metadata": {},
     "output_type": "display_data"
    },
    {
     "name": "stdout",
     "output_type": "stream",
     "text": [
      "Iteration 0, loss = 8.901e-05, Jres = 13.7, alpha = 0.08333, improvement_ratio = 1.0\n",
      "Iteration 1, loss = 8.061e-05, Jres = 0.1395, alpha = 0.06944, improvement_ratio = 1.002\n",
      "Iteration 2, loss = 7.899e-05, Jres = 0.01354, alpha = 0.05787, improvement_ratio = 1.003\n",
      "Iteration 3, loss = 7.84e-05, Jres = 0.005495, alpha = 0.04823, improvement_ratio = 1.004\n",
      "Iteration 4, loss = 7.801e-05, Jres = 0.002592, alpha = 0.04019, improvement_ratio = 1.004\n",
      "Iteration 5, loss = 7.763e-05, Jres = 0.001157, alpha = 0.03349, improvement_ratio = 1.002\n",
      "Iteration 100, loss = 1.259e-06, Jres = 0.0002406, alpha = 8.333e-07, improvement_ratio = 1.002\n",
      "Iteration 200, loss = 9.141e-07, Jres = 1.29e-05, alpha = 8.333e-07, improvement_ratio = 1.0\n"
     ]
    },
    {
     "data": {
      "application/vnd.jupyter.widget-view+json": {
       "model_id": "9de3254b376049a88bf63a9c2e29de03",
       "version_major": 2,
       "version_minor": 0
      },
      "text/plain": [
       "  0%|          | 0/50 [00:00<?, ?it/s]"
      ]
     },
     "metadata": {},
     "output_type": "display_data"
    },
    {
     "name": "stdout",
     "output_type": "stream",
     "text": [
      "Iteration 0, loss = 9.133438225036793e-07\n"
     ]
    },
    {
     "data": {
      "application/vnd.jupyter.widget-view+json": {
       "model_id": "f84296610923496b83bff4af2cd4f792",
       "version_major": 2,
       "version_minor": 0
      },
      "text/plain": [
       "  0%|          | 0/201 [00:00<?, ?it/s]"
      ]
     },
     "metadata": {},
     "output_type": "display_data"
    },
    {
     "name": "stdout",
     "output_type": "stream",
     "text": [
      "Iteration 0, loss = 0.0001871, Jres = 8.909, alpha = 0.08333, improvement_ratio = 1.0\n",
      "Iteration 1, loss = 0.0001365, Jres = 0.04721, alpha = 0.06944, improvement_ratio = 1.004\n",
      "Iteration 2, loss = 0.0001205, Jres = 0.01596, alpha = 0.05787, improvement_ratio = 1.005\n",
      "Iteration 3, loss = 0.000116, Jres = 0.01137, alpha = 0.04823, improvement_ratio = 1.009\n",
      "Iteration 4, loss = 0.0001145, Jres = 0.005732, alpha = 0.04019, improvement_ratio = 1.013\n",
      "Iteration 5, loss = 0.0001138, Jres = 0.002453, alpha = 0.03349, improvement_ratio = 1.012\n",
      "Iteration 100, loss = 2.912e-07, Jres = 0.0005456, alpha = 8.333e-07, improvement_ratio = 0.9994\n",
      "Iteration 200, loss = 1.166e-07, Jres = 1.773e-05, alpha = 8.333e-07, improvement_ratio = 1.0\n"
     ]
    },
    {
     "data": {
      "application/vnd.jupyter.widget-view+json": {
       "model_id": "a0f3f9199cd24fdba08fdbe78259db3b",
       "version_major": 2,
       "version_minor": 0
      },
      "text/plain": [
       "  0%|          | 0/50 [00:00<?, ?it/s]"
      ]
     },
     "metadata": {},
     "output_type": "display_data"
    },
    {
     "name": "stdout",
     "output_type": "stream",
     "text": [
      "Iteration 0, loss = 1.1617136087901115e-07\n"
     ]
    },
    {
     "data": {
      "application/vnd.jupyter.widget-view+json": {
       "model_id": "9bec19a8bd574bdc9b11642db080de68",
       "version_major": 2,
       "version_minor": 0
      },
      "text/plain": [
       "  0%|          | 0/201 [00:00<?, ?it/s]"
      ]
     },
     "metadata": {},
     "output_type": "display_data"
    },
    {
     "name": "stdout",
     "output_type": "stream",
     "text": [
      "Iteration 0, loss = 0.0003054, Jres = 5.867, alpha = 0.08333, improvement_ratio = 1.0\n",
      "Iteration 1, loss = 0.000265, Jres = 0.08758, alpha = 0.06944, improvement_ratio = 1.01\n",
      "Iteration 2, loss = 0.0002583, Jres = 0.02736, alpha = 0.05787, improvement_ratio = 1.015\n",
      "Iteration 3, loss = 0.0002539, Jres = 0.01429, alpha = 0.04823, improvement_ratio = 1.004\n",
      "Iteration 4, loss = 0.0002493, Jres = 0.01108, alpha = 0.04019, improvement_ratio = 0.999\n",
      "Iteration 5, loss = 0.000244, Jres = 0.01163, alpha = 0.03349, improvement_ratio = 0.998\n",
      "Iteration 100, loss = 5.642e-06, Jres = 0.001744, alpha = 8.333e-07, improvement_ratio = 1.002\n",
      "Iteration 200, loss = 4.825e-06, Jres = 0.0004741, alpha = 8.333e-07, improvement_ratio = 1.003\n"
     ]
    },
    {
     "data": {
      "application/vnd.jupyter.widget-view+json": {
       "model_id": "243ff6c16e0045ceb7b4e3c0f59742b2",
       "version_major": 2,
       "version_minor": 0
      },
      "text/plain": [
       "  0%|          | 0/50 [00:00<?, ?it/s]"
      ]
     },
     "metadata": {},
     "output_type": "display_data"
    },
    {
     "name": "stdout",
     "output_type": "stream",
     "text": [
      "Iteration 0, loss = 4.822738613377097e-06\n",
      "n_obs =  30\n"
     ]
    },
    {
     "data": {
      "application/vnd.jupyter.widget-view+json": {
       "model_id": "3c323cbe1ae0410f891b7819b165ff83",
       "version_major": 2,
       "version_minor": 0
      },
      "text/plain": [
       "  0%|          | 0/201 [00:00<?, ?it/s]"
      ]
     },
     "metadata": {},
     "output_type": "display_data"
    },
    {
     "name": "stdout",
     "output_type": "stream",
     "text": [
      "Iteration 0, loss = 0.0001169, Jres = 5.916, alpha = 0.08333, improvement_ratio = 1.0\n",
      "Iteration 1, loss = 0.0001129, Jres = 0.05969, alpha = 0.06944, improvement_ratio = 1.001\n",
      "Iteration 2, loss = 0.0001121, Jres = 0.00471, alpha = 0.05787, improvement_ratio = 1.003\n",
      "Iteration 3, loss = 0.0001119, Jres = 0.001552, alpha = 0.04823, improvement_ratio = 1.005\n",
      "Iteration 4, loss = 0.0001118, Jres = 0.0006504, alpha = 0.04019, improvement_ratio = 1.006\n",
      "Iteration 5, loss = 0.0001117, Jres = 0.000355, alpha = 0.03349, improvement_ratio = 1.004\n",
      "Iteration 100, loss = 2.348e-06, Jres = 6.188e-05, alpha = 8.333e-07, improvement_ratio = 1.001\n",
      "Iteration 200, loss = 1.825e-06, Jres = 1.468e-05, alpha = 8.333e-07, improvement_ratio = 1.001\n"
     ]
    },
    {
     "data": {
      "application/vnd.jupyter.widget-view+json": {
       "model_id": "d402bb4da0404756a27570d812fe0478",
       "version_major": 2,
       "version_minor": 0
      },
      "text/plain": [
       "  0%|          | 0/50 [00:00<?, ?it/s]"
      ]
     },
     "metadata": {},
     "output_type": "display_data"
    },
    {
     "name": "stdout",
     "output_type": "stream",
     "text": [
      "Iteration 0, loss = 1.8234926013211343e-06\n",
      "Iteration 40 Step Failed\n",
      "Iteration 41 Step Failed\n",
      "Iteration 47 Step Failed\n"
     ]
    },
    {
     "data": {
      "application/vnd.jupyter.widget-view+json": {
       "model_id": "b7ad436e2b2e4a4982ea53325352c15a",
       "version_major": 2,
       "version_minor": 0
      },
      "text/plain": [
       "  0%|          | 0/201 [00:00<?, ?it/s]"
      ]
     },
     "metadata": {},
     "output_type": "display_data"
    },
    {
     "name": "stdout",
     "output_type": "stream",
     "text": [
      "Iteration 0, loss = 0.01844, Jres = 16.8, alpha = 0.08333, improvement_ratio = 0.9655\n",
      "Iteration 1, loss = 0.01732, Jres = 3.543, alpha = 0.06944, improvement_ratio = 1.009\n",
      "Iteration 2, loss = 0.01676, Jres = 0.2471, alpha = 0.05787, improvement_ratio = 1.01\n",
      "Iteration 3, loss = 0.01628, Jres = 0.2706, alpha = 0.04823, improvement_ratio = 1.005\n",
      "Iteration 4, loss = 0.01581, Jres = 0.2094, alpha = 0.04019, improvement_ratio = 1.003\n",
      "Iteration 5, loss = 0.01533, Jres = 0.1833, alpha = 0.03349, improvement_ratio = 1.002\n",
      "Iteration 100, loss = 0.003015, Jres = 197.1, alpha = 3.281e-05, improvement_ratio = 0.4152\n",
      "Iteration 200, loss = 0.002006, Jres = 746.5, alpha = 1.846e-05, improvement_ratio = 0.3049\n"
     ]
    },
    {
     "data": {
      "application/vnd.jupyter.widget-view+json": {
       "model_id": "d1da44eeeca744e6b9526f67e1ea6c43",
       "version_major": 2,
       "version_minor": 0
      },
      "text/plain": [
       "  0%|          | 0/50 [00:00<?, ?it/s]"
      ]
     },
     "metadata": {},
     "output_type": "display_data"
    },
    {
     "name": "stdout",
     "output_type": "stream",
     "text": [
      "Iteration 0, loss = 0.0020054941397192323\n"
     ]
    },
    {
     "data": {
      "application/vnd.jupyter.widget-view+json": {
       "model_id": "469dd90e97a549e996f82d8599fedc75",
       "version_major": 2,
       "version_minor": 0
      },
      "text/plain": [
       "  0%|          | 0/201 [00:00<?, ?it/s]"
      ]
     },
     "metadata": {},
     "output_type": "display_data"
    },
    {
     "name": "stdout",
     "output_type": "stream",
     "text": [
      "Iteration 0, loss = 2.926e-05, Jres = 3.75, alpha = 0.08333, improvement_ratio = 1.0\n",
      "Iteration 1, loss = 2.038e-05, Jres = 0.05169, alpha = 0.06944, improvement_ratio = 1.0\n",
      "Iteration 2, loss = 1.798e-05, Jres = 0.005961, alpha = 0.05787, improvement_ratio = 1.0\n",
      "Iteration 3, loss = 1.733e-05, Jres = 0.002553, alpha = 0.04823, improvement_ratio = 1.0\n",
      "Iteration 4, loss = 1.717e-05, Jres = 0.001169, alpha = 0.04019, improvement_ratio = 0.9999\n",
      "Iteration 5, loss = 1.714e-05, Jres = 0.000499, alpha = 0.03349, improvement_ratio = 0.9998\n",
      "Iteration 100, loss = 1.624e-06, Jres = 0.001759, alpha = 8.333e-07, improvement_ratio = 0.9995\n",
      "Iteration 200, loss = 1.204e-06, Jres = 0.0008337, alpha = 8.333e-07, improvement_ratio = 1.001\n"
     ]
    },
    {
     "data": {
      "application/vnd.jupyter.widget-view+json": {
       "model_id": "527432b488a54fc5bab1157214d04e2d",
       "version_major": 2,
       "version_minor": 0
      },
      "text/plain": [
       "  0%|          | 0/50 [00:00<?, ?it/s]"
      ]
     },
     "metadata": {},
     "output_type": "display_data"
    },
    {
     "name": "stdout",
     "output_type": "stream",
     "text": [
      "Iteration 0, loss = 1.20345955300227e-06\n"
     ]
    },
    {
     "data": {
      "application/vnd.jupyter.widget-view+json": {
       "model_id": "e8012c37d1694e89bc8106b6cc7c2710",
       "version_major": 2,
       "version_minor": 0
      },
      "text/plain": [
       "  0%|          | 0/201 [00:00<?, ?it/s]"
      ]
     },
     "metadata": {},
     "output_type": "display_data"
    },
    {
     "name": "stdout",
     "output_type": "stream",
     "text": [
      "Iteration 0, loss = 6.703e-05, Jres = 13.17, alpha = 0.08333, improvement_ratio = 1.0\n",
      "Iteration 1, loss = 5.902e-05, Jres = 0.06598, alpha = 0.06944, improvement_ratio = 1.002\n",
      "Iteration 2, loss = 5.713e-05, Jres = 0.008367, alpha = 0.05787, improvement_ratio = 1.004\n",
      "Iteration 3, loss = 5.666e-05, Jres = 0.003072, alpha = 0.04823, improvement_ratio = 1.007\n",
      "Iteration 4, loss = 5.651e-05, Jres = 0.001377, alpha = 0.04019, improvement_ratio = 1.01\n",
      "Iteration 5, loss = 5.64e-05, Jres = 0.0009106, alpha = 0.03349, improvement_ratio = 1.006\n",
      "Iteration 100, loss = 1.549e-06, Jres = 0.01888, alpha = 8.333e-07, improvement_ratio = 0.9864\n",
      "Iteration 200, loss = 1.11e-06, Jres = 0.004285, alpha = 8.333e-07, improvement_ratio = 0.997\n"
     ]
    },
    {
     "data": {
      "application/vnd.jupyter.widget-view+json": {
       "model_id": "de000a9fdd164296a3a1660ea3be8c60",
       "version_major": 2,
       "version_minor": 0
      },
      "text/plain": [
       "  0%|          | 0/50 [00:00<?, ?it/s]"
      ]
     },
     "metadata": {},
     "output_type": "display_data"
    },
    {
     "name": "stdout",
     "output_type": "stream",
     "text": [
      "Iteration 0, loss = 1.1089148845024945e-06\n"
     ]
    },
    {
     "data": {
      "application/vnd.jupyter.widget-view+json": {
       "model_id": "9a5384aa163e46709d4701e02903843d",
       "version_major": 2,
       "version_minor": 0
      },
      "text/plain": [
       "  0%|          | 0/201 [00:00<?, ?it/s]"
      ]
     },
     "metadata": {},
     "output_type": "display_data"
    },
    {
     "name": "stdout",
     "output_type": "stream",
     "text": [
      "Iteration 0, loss = 0.001221, Jres = 3.92, alpha = 0.08333, improvement_ratio = 1.0\n",
      "Iteration 1, loss = 0.001207, Jres = 0.08974, alpha = 0.06944, improvement_ratio = 0.9983\n",
      "Iteration 2, loss = 0.001198, Jres = 0.02228, alpha = 0.05787, improvement_ratio = 0.997\n",
      "Iteration 3, loss = 0.00119, Jres = 0.02631, alpha = 0.04823, improvement_ratio = 0.9971\n",
      "Iteration 4, loss = 0.001181, Jres = 0.02767, alpha = 0.04019, improvement_ratio = 0.9977\n",
      "Iteration 5, loss = 0.001173, Jres = 0.02735, alpha = 0.03349, improvement_ratio = 0.9989\n",
      "Iteration 100, loss = 0.0001124, Jres = 0.9259, alpha = 2.981e-06, improvement_ratio = 0.4778\n",
      "Iteration 200, loss = 8.301e-05, Jres = 0.02915, alpha = 8.333e-07, improvement_ratio = 0.9981\n"
     ]
    },
    {
     "data": {
      "application/vnd.jupyter.widget-view+json": {
       "model_id": "8173ec2e6f8e47e7b44da00391ff254a",
       "version_major": 2,
       "version_minor": 0
      },
      "text/plain": [
       "  0%|          | 0/50 [00:00<?, ?it/s]"
      ]
     },
     "metadata": {},
     "output_type": "display_data"
    },
    {
     "name": "stdout",
     "output_type": "stream",
     "text": [
      "Iteration 0, loss = 8.29900827451266e-05\n",
      "n_obs =  40\n"
     ]
    },
    {
     "data": {
      "application/vnd.jupyter.widget-view+json": {
       "model_id": "47dd2886a95441c686a7933cb6d7bb7b",
       "version_major": 2,
       "version_minor": 0
      },
      "text/plain": [
       "  0%|          | 0/201 [00:00<?, ?it/s]"
      ]
     },
     "metadata": {},
     "output_type": "display_data"
    },
    {
     "name": "stdout",
     "output_type": "stream",
     "text": [
      "Iteration 0, loss = 0.0002008, Jres = 1.528, alpha = 0.08333, improvement_ratio = 1.0\n",
      "Iteration 1, loss = 0.0001873, Jres = 0.03248, alpha = 0.06944, improvement_ratio = 1.002\n",
      "Iteration 2, loss = 0.0001806, Jres = 0.009016, alpha = 0.05787, improvement_ratio = 1.005\n",
      "Iteration 3, loss = 0.0001774, Jres = 0.01679, alpha = 0.04823, improvement_ratio = 1.01\n",
      "Iteration 4, loss = 0.0001758, Jres = 0.0169, alpha = 0.04019, improvement_ratio = 1.017\n",
      "Iteration 5, loss = 0.0001751, Jres = 0.01322, alpha = 0.03349, improvement_ratio = 1.025\n",
      "Iteration 100, loss = 7.444e-06, Jres = 0.8778, alpha = 5.681e-06, improvement_ratio = 0.8773\n",
      "Iteration 200, loss = 1.11e-06, Jres = 0.1066, alpha = 8.333e-07, improvement_ratio = 0.8765\n"
     ]
    },
    {
     "data": {
      "application/vnd.jupyter.widget-view+json": {
       "model_id": "dcdaded887d441279be0ae39ebac4abd",
       "version_major": 2,
       "version_minor": 0
      },
      "text/plain": [
       "  0%|          | 0/50 [00:00<?, ?it/s]"
      ]
     },
     "metadata": {},
     "output_type": "display_data"
    },
    {
     "name": "stdout",
     "output_type": "stream",
     "text": [
      "Iteration 0, loss = 1.1073033272977343e-06\n"
     ]
    },
    {
     "data": {
      "application/vnd.jupyter.widget-view+json": {
       "model_id": "6b1c3551718243f486b3bb28e62bdd3c",
       "version_major": 2,
       "version_minor": 0
      },
      "text/plain": [
       "  0%|          | 0/201 [00:00<?, ?it/s]"
      ]
     },
     "metadata": {},
     "output_type": "display_data"
    },
    {
     "name": "stdout",
     "output_type": "stream",
     "text": [
      "Iteration 0, loss = 0.0001491, Jres = 8.001, alpha = 0.08333, improvement_ratio = 0.9998\n",
      "Iteration 1, loss = 0.000124, Jres = 0.05513, alpha = 0.06944, improvement_ratio = 0.9998\n",
      "Iteration 2, loss = 0.0001164, Jres = 0.1262, alpha = 0.05787, improvement_ratio = 1.0\n",
      "Iteration 3, loss = 0.0001137, Jres = 0.09131, alpha = 0.04823, improvement_ratio = 1.002\n",
      "Iteration 4, loss = 0.0001125, Jres = 0.06212, alpha = 0.04019, improvement_ratio = 1.004\n",
      "Iteration 5, loss = 0.0001116, Jres = 0.04046, alpha = 0.03349, improvement_ratio = 1.003\n",
      "Iteration 100, loss = 4.569e-06, Jres = 0.1907, alpha = 8.333e-07, improvement_ratio = 0.891\n",
      "Iteration 200, loss = 2.167e-06, Jres = 0.0009845, alpha = 8.333e-07, improvement_ratio = 0.9999\n"
     ]
    },
    {
     "data": {
      "application/vnd.jupyter.widget-view+json": {
       "model_id": "b1c04de70e304affaaec9cd85a4b88ed",
       "version_major": 2,
       "version_minor": 0
      },
      "text/plain": [
       "  0%|          | 0/50 [00:00<?, ?it/s]"
      ]
     },
     "metadata": {},
     "output_type": "display_data"
    },
    {
     "name": "stdout",
     "output_type": "stream",
     "text": [
      "Iteration 0, loss = 2.1649769249166817e-06\n",
      "Iteration 37 Step Failed\n"
     ]
    },
    {
     "data": {
      "application/vnd.jupyter.widget-view+json": {
       "model_id": "3cb07428fef741ebab1992bbcd804418",
       "version_major": 2,
       "version_minor": 0
      },
      "text/plain": [
       "  0%|          | 0/201 [00:00<?, ?it/s]"
      ]
     },
     "metadata": {},
     "output_type": "display_data"
    },
    {
     "name": "stdout",
     "output_type": "stream",
     "text": [
      "Iteration 0, loss = 0.0001142, Jres = 24.9, alpha = 0.08333, improvement_ratio = 1.0\n",
      "Iteration 1, loss = 9.342e-05, Jres = 0.07497, alpha = 0.06944, improvement_ratio = 1.0\n",
      "Iteration 2, loss = 8.909e-05, Jres = 0.01097, alpha = 0.05787, improvement_ratio = 1.0\n",
      "Iteration 3, loss = 8.809e-05, Jres = 0.004297, alpha = 0.04823, improvement_ratio = 1.0\n",
      "Iteration 4, loss = 8.78e-05, Jres = 0.003524, alpha = 0.04019, improvement_ratio = 1.001\n",
      "Iteration 5, loss = 8.762e-05, Jres = 0.002879, alpha = 0.03349, improvement_ratio = 1.001\n",
      "Iteration 100, loss = 5.045e-06, Jres = 0.0004791, alpha = 8.333e-07, improvement_ratio = 0.9986\n",
      "Iteration 200, loss = 3.064e-06, Jres = 0.001984, alpha = 8.333e-07, improvement_ratio = 0.9988\n"
     ]
    },
    {
     "data": {
      "application/vnd.jupyter.widget-view+json": {
       "model_id": "fb8b80472a954b86a8b0210075add052",
       "version_major": 2,
       "version_minor": 0
      },
      "text/plain": [
       "  0%|          | 0/50 [00:00<?, ?it/s]"
      ]
     },
     "metadata": {},
     "output_type": "display_data"
    },
    {
     "name": "stdout",
     "output_type": "stream",
     "text": [
      "Iteration 0, loss = 3.061600964378133e-06\n"
     ]
    },
    {
     "data": {
      "application/vnd.jupyter.widget-view+json": {
       "model_id": "c5f9544c804d4c9c9513d9b1a020b8c5",
       "version_major": 2,
       "version_minor": 0
      },
      "text/plain": [
       "  0%|          | 0/201 [00:00<?, ?it/s]"
      ]
     },
     "metadata": {},
     "output_type": "display_data"
    },
    {
     "name": "stdout",
     "output_type": "stream",
     "text": [
      "Iteration 0, loss = 0.0005725, Jres = 12.41, alpha = 0.08333, improvement_ratio = 1.0\n",
      "Iteration 1, loss = 0.000568, Jres = 0.09236, alpha = 0.06944, improvement_ratio = 0.9998\n",
      "Iteration 2, loss = 0.0005666, Jres = 0.007319, alpha = 0.05787, improvement_ratio = 1.001\n",
      "Iteration 3, loss = 0.0005656, Jres = 0.003966, alpha = 0.04823, improvement_ratio = 1.001\n",
      "Iteration 4, loss = 0.0005646, Jres = 0.003346, alpha = 0.04019, improvement_ratio = 1.001\n",
      "Iteration 5, loss = 0.0005635, Jres = 0.002799, alpha = 0.03349, improvement_ratio = 1.001\n",
      "Iteration 100, loss = 4.147e-05, Jres = 0.006873, alpha = 8.333e-07, improvement_ratio = 1.021\n",
      "Iteration 200, loss = 2.323e-05, Jres = 0.0005815, alpha = 8.333e-07, improvement_ratio = 1.0\n"
     ]
    },
    {
     "data": {
      "application/vnd.jupyter.widget-view+json": {
       "model_id": "073a71cb666f4bdb8d63eeac39299ec0",
       "version_major": 2,
       "version_minor": 0
      },
      "text/plain": [
       "  0%|          | 0/50 [00:00<?, ?it/s]"
      ]
     },
     "metadata": {},
     "output_type": "display_data"
    },
    {
     "name": "stdout",
     "output_type": "stream",
     "text": [
      "Iteration 0, loss = 2.3209156857067205e-05\n",
      "Iteration 32 Step Failed\n",
      "Iteration 37 Step Failed\n"
     ]
    },
    {
     "data": {
      "application/vnd.jupyter.widget-view+json": {
       "model_id": "46a9923a95ce4d1b89b4dc6abc6ecf2c",
       "version_major": 2,
       "version_minor": 0
      },
      "text/plain": [
       "  0%|          | 0/201 [00:00<?, ?it/s]"
      ]
     },
     "metadata": {},
     "output_type": "display_data"
    },
    {
     "name": "stdout",
     "output_type": "stream",
     "text": [
      "Iteration 0, loss = 0.0009933, Jres = 4.214, alpha = 0.08333, improvement_ratio = 0.9964\n",
      "Iteration 1, loss = 0.0009457, Jres = 0.1584, alpha = 0.06944, improvement_ratio = 1.017\n",
      "Iteration 2, loss = 0.0009353, Jres = 0.2547, alpha = 0.05787, improvement_ratio = 1.028\n",
      "Iteration 3, loss = 0.000929, Jres = 0.1085, alpha = 0.04823, improvement_ratio = 1.017\n",
      "Iteration 4, loss = 0.0009233, Jres = 0.05976, alpha = 0.04019, improvement_ratio = 1.01\n",
      "Iteration 5, loss = 0.0009175, Jres = 0.04215, alpha = 0.03349, improvement_ratio = 1.007\n",
      "Iteration 100, loss = 9.214e-05, Jres = 0.002891, alpha = 8.333e-07, improvement_ratio = 1.003\n",
      "Iteration 200, loss = 7.453e-05, Jres = 0.003354, alpha = 8.333e-07, improvement_ratio = 1.005\n"
     ]
    },
    {
     "data": {
      "application/vnd.jupyter.widget-view+json": {
       "model_id": "9daf72c76d2a4a719abf5d3c0702080d",
       "version_major": 2,
       "version_minor": 0
      },
      "text/plain": [
       "  0%|          | 0/50 [00:00<?, ?it/s]"
      ]
     },
     "metadata": {},
     "output_type": "display_data"
    },
    {
     "name": "stdout",
     "output_type": "stream",
     "text": [
      "Iteration 0, loss = 7.450464533445175e-05\n",
      "n_obs =  50\n"
     ]
    },
    {
     "data": {
      "application/vnd.jupyter.widget-view+json": {
       "model_id": "9638115428ce42abaddfb94d43e15e85",
       "version_major": 2,
       "version_minor": 0
      },
      "text/plain": [
       "  0%|          | 0/201 [00:00<?, ?it/s]"
      ]
     },
     "metadata": {},
     "output_type": "display_data"
    },
    {
     "name": "stdout",
     "output_type": "stream",
     "text": [
      "Iteration 0, loss = 0.0003898, Jres = 7.685, alpha = 0.08333, improvement_ratio = 1.0\n",
      "Iteration 1, loss = 0.0003859, Jres = 0.05288, alpha = 0.06944, improvement_ratio = 1.006\n",
      "Iteration 2, loss = 0.0003847, Jres = 0.005858, alpha = 0.05787, improvement_ratio = 1.003\n",
      "Iteration 3, loss = 0.000384, Jres = 0.00228, alpha = 0.04823, improvement_ratio = 1.002\n",
      "Iteration 4, loss = 0.0003834, Jres = 0.001721, alpha = 0.04019, improvement_ratio = 1.002\n",
      "Iteration 5, loss = 0.0003828, Jres = 0.001537, alpha = 0.03349, improvement_ratio = 1.002\n",
      "Iteration 100, loss = 2.711e-05, Jres = 0.001018, alpha = 8.333e-07, improvement_ratio = 1.001\n",
      "Iteration 200, loss = 2.123e-05, Jres = 7.224e-05, alpha = 8.333e-07, improvement_ratio = 0.9999\n"
     ]
    },
    {
     "data": {
      "application/vnd.jupyter.widget-view+json": {
       "model_id": "451c07f8f53c447baf752e55e0778e81",
       "version_major": 2,
       "version_minor": 0
      },
      "text/plain": [
       "  0%|          | 0/50 [00:00<?, ?it/s]"
      ]
     },
     "metadata": {},
     "output_type": "display_data"
    },
    {
     "name": "stdout",
     "output_type": "stream",
     "text": [
      "Iteration 0, loss = 2.122135108127193e-05\n"
     ]
    },
    {
     "data": {
      "application/vnd.jupyter.widget-view+json": {
       "model_id": "a9876cd1201d4636b7fec3aa417a950a",
       "version_major": 2,
       "version_minor": 0
      },
      "text/plain": [
       "  0%|          | 0/201 [00:00<?, ?it/s]"
      ]
     },
     "metadata": {},
     "output_type": "display_data"
    },
    {
     "name": "stdout",
     "output_type": "stream",
     "text": [
      "Iteration 0, loss = 0.0001691, Jres = 9.62, alpha = 0.08333, improvement_ratio = 1.0\n",
      "Iteration 1, loss = 0.0001592, Jres = 0.0545, alpha = 0.06944, improvement_ratio = 0.9972\n",
      "Iteration 2, loss = 0.0001568, Jres = 0.103, alpha = 0.05787, improvement_ratio = 0.9973\n",
      "Iteration 3, loss = 0.0001553, Jres = 0.06331, alpha = 0.04823, improvement_ratio = 0.9995\n",
      "Iteration 4, loss = 0.000154, Jres = 0.03783, alpha = 0.04019, improvement_ratio = 0.9999\n",
      "Iteration 5, loss = 0.0001525, Jres = 0.02414, alpha = 0.03349, improvement_ratio = 0.9997\n",
      "Iteration 100, loss = 2.678e-06, Jres = 0.004835, alpha = 8.333e-07, improvement_ratio = 1.0\n",
      "Iteration 200, loss = 1.937e-06, Jres = 4.316e-05, alpha = 8.333e-07, improvement_ratio = 1.0\n"
     ]
    },
    {
     "data": {
      "application/vnd.jupyter.widget-view+json": {
       "model_id": "2fb2816c510f4222ae4226d08b7bd05f",
       "version_major": 2,
       "version_minor": 0
      },
      "text/plain": [
       "  0%|          | 0/50 [00:00<?, ?it/s]"
      ]
     },
     "metadata": {},
     "output_type": "display_data"
    },
    {
     "name": "stdout",
     "output_type": "stream",
     "text": [
      "Iteration 0, loss = 1.934930137715201e-06\n"
     ]
    },
    {
     "data": {
      "application/vnd.jupyter.widget-view+json": {
       "model_id": "b7761c174a334b8496c15989298b6263",
       "version_major": 2,
       "version_minor": 0
      },
      "text/plain": [
       "  0%|          | 0/201 [00:00<?, ?it/s]"
      ]
     },
     "metadata": {},
     "output_type": "display_data"
    },
    {
     "name": "stdout",
     "output_type": "stream",
     "text": [
      "Iteration 0, loss = 0.001492, Jres = 3.17, alpha = 0.08333, improvement_ratio = 0.9926\n",
      "Iteration 1, loss = 0.001455, Jres = 0.1183, alpha = 0.06944, improvement_ratio = 0.9988\n",
      "Iteration 2, loss = 0.001442, Jres = 0.03217, alpha = 0.05787, improvement_ratio = 0.9996\n",
      "Iteration 3, loss = 0.001435, Jres = 0.0202, alpha = 0.04823, improvement_ratio = 0.9982\n",
      "Iteration 4, loss = 0.001429, Jres = 0.01253, alpha = 0.04019, improvement_ratio = 0.9983\n",
      "Iteration 5, loss = 0.001422, Jres = 0.005925, alpha = 0.03349, improvement_ratio = 0.9991\n",
      "Iteration 100, loss = 8.017e-05, Jres = 0.3661, alpha = 8.333e-07, improvement_ratio = 0.9606\n",
      "Iteration 200, loss = 5.157e-05, Jres = 0.008178, alpha = 8.333e-07, improvement_ratio = 0.9997\n"
     ]
    },
    {
     "data": {
      "application/vnd.jupyter.widget-view+json": {
       "model_id": "7fdd6726e50e476a9c4da08ef9b9bf9d",
       "version_major": 2,
       "version_minor": 0
      },
      "text/plain": [
       "  0%|          | 0/50 [00:00<?, ?it/s]"
      ]
     },
     "metadata": {},
     "output_type": "display_data"
    },
    {
     "name": "stdout",
     "output_type": "stream",
     "text": [
      "Iteration 0, loss = 5.1537584113644034e-05\n"
     ]
    },
    {
     "data": {
      "application/vnd.jupyter.widget-view+json": {
       "model_id": "bcfbf1e26ff147c99363e02588229189",
       "version_major": 2,
       "version_minor": 0
      },
      "text/plain": [
       "  0%|          | 0/201 [00:00<?, ?it/s]"
      ]
     },
     "metadata": {},
     "output_type": "display_data"
    },
    {
     "name": "stdout",
     "output_type": "stream",
     "text": [
      "Iteration 0, loss = 0.0003152, Jres = 3.744, alpha = 0.08333, improvement_ratio = 1.0\n",
      "Iteration 1, loss = 0.0003128, Jres = 0.07454, alpha = 0.06944, improvement_ratio = 1.012\n",
      "Iteration 2, loss = 0.0003124, Jres = 0.004641, alpha = 0.05787, improvement_ratio = 1.004\n",
      "Iteration 3, loss = 0.0003121, Jres = 0.001779, alpha = 0.04823, improvement_ratio = 1.001\n",
      "Iteration 4, loss = 0.0003118, Jres = 0.001876, alpha = 0.04019, improvement_ratio = 1.001\n",
      "Iteration 5, loss = 0.0003115, Jres = 0.00197, alpha = 0.03349, improvement_ratio = 1.001\n",
      "Iteration 100, loss = 1.573e-05, Jres = 0.00364, alpha = 8.333e-07, improvement_ratio = 1.009\n",
      "Iteration 200, loss = 1.027e-05, Jres = 0.000527, alpha = 8.333e-07, improvement_ratio = 1.001\n"
     ]
    },
    {
     "data": {
      "application/vnd.jupyter.widget-view+json": {
       "model_id": "e8c282cf245242579bdeb98f1408a068",
       "version_major": 2,
       "version_minor": 0
      },
      "text/plain": [
       "  0%|          | 0/50 [00:00<?, ?it/s]"
      ]
     },
     "metadata": {},
     "output_type": "display_data"
    },
    {
     "name": "stdout",
     "output_type": "stream",
     "text": [
      "Iteration 0, loss = 1.0263205880061185e-05\n"
     ]
    },
    {
     "data": {
      "application/vnd.jupyter.widget-view+json": {
       "model_id": "04156134e359408eb9c479294cc6967e",
       "version_major": 2,
       "version_minor": 0
      },
      "text/plain": [
       "  0%|          | 0/201 [00:00<?, ?it/s]"
      ]
     },
     "metadata": {},
     "output_type": "display_data"
    },
    {
     "name": "stdout",
     "output_type": "stream",
     "text": [
      "Iteration 0, loss = 0.0007964, Jres = 12.29, alpha = 0.08333, improvement_ratio = 0.9995\n",
      "Iteration 1, loss = 0.000788, Jres = 0.1316, alpha = 0.06944, improvement_ratio = 1.006\n",
      "Iteration 2, loss = 0.0007843, Jres = 0.02173, alpha = 0.05787, improvement_ratio = 1.008\n",
      "Iteration 3, loss = 0.0007813, Jres = 0.01421, alpha = 0.04823, improvement_ratio = 1.005\n",
      "Iteration 4, loss = 0.0007783, Jres = 0.009323, alpha = 0.04019, improvement_ratio = 1.003\n",
      "Iteration 5, loss = 0.0007751, Jres = 0.006972, alpha = 0.03349, improvement_ratio = 1.001\n",
      "Iteration 100, loss = 7.541e-05, Jres = 0.03911, alpha = 8.333e-07, improvement_ratio = 1.004\n",
      "Iteration 200, loss = 5.25e-05, Jres = 0.008738, alpha = 8.333e-07, improvement_ratio = 1.002\n"
     ]
    },
    {
     "data": {
      "application/vnd.jupyter.widget-view+json": {
       "model_id": "68e2a33420a74708891dbe0de56716f2",
       "version_major": 2,
       "version_minor": 0
      },
      "text/plain": [
       "  0%|          | 0/50 [00:00<?, ?it/s]"
      ]
     },
     "metadata": {},
     "output_type": "display_data"
    },
    {
     "name": "stdout",
     "output_type": "stream",
     "text": [
      "Iteration 0, loss = 5.2468124067969155e-05\n",
      "n_obs =  60\n"
     ]
    },
    {
     "data": {
      "application/vnd.jupyter.widget-view+json": {
       "model_id": "6cf5808528f344e2a246cf6f64f7fedf",
       "version_major": 2,
       "version_minor": 0
      },
      "text/plain": [
       "  0%|          | 0/201 [00:00<?, ?it/s]"
      ]
     },
     "metadata": {},
     "output_type": "display_data"
    },
    {
     "name": "stdout",
     "output_type": "stream",
     "text": [
      "Iteration 0, loss = 0.0005035, Jres = 12.7, alpha = 0.08333, improvement_ratio = 0.9994\n",
      "Iteration 1, loss = 0.0003708, Jres = 0.2104, alpha = 0.06944, improvement_ratio = 1.011\n",
      "Iteration 2, loss = 0.0003348, Jres = 0.4265, alpha = 0.05787, improvement_ratio = 1.015\n",
      "Iteration 3, loss = 0.0003224, Jres = 0.2245, alpha = 0.04823, improvement_ratio = 1.02\n",
      "Iteration 4, loss = 0.0003165, Jres = 0.1639, alpha = 0.04019, improvement_ratio = 1.02\n",
      "Iteration 5, loss = 0.0003124, Jres = 0.1062, alpha = 0.03349, improvement_ratio = 1.014\n",
      "Iteration 100, loss = 1.891e-05, Jres = 0.00143, alpha = 8.333e-07, improvement_ratio = 1.007\n",
      "Iteration 200, loss = 9.561e-06, Jres = 0.0001576, alpha = 8.333e-07, improvement_ratio = 1.004\n"
     ]
    },
    {
     "data": {
      "application/vnd.jupyter.widget-view+json": {
       "model_id": "e2b3c86f12fd4c96a12a04a0ff9bdc20",
       "version_major": 2,
       "version_minor": 0
      },
      "text/plain": [
       "  0%|          | 0/50 [00:00<?, ?it/s]"
      ]
     },
     "metadata": {},
     "output_type": "display_data"
    },
    {
     "name": "stdout",
     "output_type": "stream",
     "text": [
      "Iteration 0, loss = 9.550759517985787e-06\n"
     ]
    },
    {
     "data": {
      "application/vnd.jupyter.widget-view+json": {
       "model_id": "7d5f15ed51754608916f68927cb50f98",
       "version_major": 2,
       "version_minor": 0
      },
      "text/plain": [
       "  0%|          | 0/201 [00:00<?, ?it/s]"
      ]
     },
     "metadata": {},
     "output_type": "display_data"
    },
    {
     "name": "stdout",
     "output_type": "stream",
     "text": [
      "Iteration 0, loss = 0.001023, Jres = 8.339, alpha = 0.08333, improvement_ratio = 1.001\n",
      "Iteration 1, loss = 0.0009932, Jres = 0.143, alpha = 0.06944, improvement_ratio = 1.007\n",
      "Iteration 2, loss = 0.0009832, Jres = 0.235, alpha = 0.05787, improvement_ratio = 0.999\n",
      "Iteration 3, loss = 0.0009766, Jres = 0.06647, alpha = 0.04823, improvement_ratio = 0.9999\n",
      "Iteration 4, loss = 0.0009704, Jres = 0.01454, alpha = 0.04019, improvement_ratio = 1.001\n",
      "Iteration 5, loss = 0.0009639, Jres = 0.01428, alpha = 0.03349, improvement_ratio = 1.001\n",
      "Iteration 100, loss = 2.675e-05, Jres = 0.001297, alpha = 8.333e-07, improvement_ratio = 1.001\n",
      "Iteration 200, loss = 1.911e-05, Jres = 0.0001992, alpha = 8.333e-07, improvement_ratio = 1.0\n"
     ]
    },
    {
     "data": {
      "application/vnd.jupyter.widget-view+json": {
       "model_id": "8d388050c9174f79acae3478d1eaf9c8",
       "version_major": 2,
       "version_minor": 0
      },
      "text/plain": [
       "  0%|          | 0/50 [00:00<?, ?it/s]"
      ]
     },
     "metadata": {},
     "output_type": "display_data"
    },
    {
     "name": "stdout",
     "output_type": "stream",
     "text": [
      "Iteration 0, loss = 1.909522558017963e-05\n"
     ]
    },
    {
     "data": {
      "application/vnd.jupyter.widget-view+json": {
       "model_id": "d3de33330db54f52ade0ce55725ea948",
       "version_major": 2,
       "version_minor": 0
      },
      "text/plain": [
       "  0%|          | 0/201 [00:00<?, ?it/s]"
      ]
     },
     "metadata": {},
     "output_type": "display_data"
    },
    {
     "name": "stdout",
     "output_type": "stream",
     "text": [
      "Iteration 0, loss = 0.0006823, Jres = 9.421, alpha = 0.08333, improvement_ratio = 0.9996\n",
      "Iteration 1, loss = 0.0006692, Jres = 0.08501, alpha = 0.06944, improvement_ratio = 1.006\n",
      "Iteration 2, loss = 0.0006667, Jres = 0.01097, alpha = 0.05787, improvement_ratio = 1.001\n",
      "Iteration 3, loss = 0.0006659, Jres = 0.003862, alpha = 0.04823, improvement_ratio = 0.9966\n",
      "Iteration 4, loss = 0.0006654, Jres = 0.002731, alpha = 0.04019, improvement_ratio = 0.9983\n",
      "Iteration 5, loss = 0.000665, Jres = 0.002982, alpha = 0.03349, improvement_ratio = 1.0\n",
      "Iteration 100, loss = 0.0001086, Jres = 4.418, alpha = 7.001e-06, improvement_ratio = 0.8539\n",
      "Iteration 200, loss = 2.251e-05, Jres = 7.552, alpha = 1e-06, improvement_ratio = 0.7972\n"
     ]
    },
    {
     "data": {
      "application/vnd.jupyter.widget-view+json": {
       "model_id": "f82c6cdae5f848de9ea06ef02d8e3195",
       "version_major": 2,
       "version_minor": 0
      },
      "text/plain": [
       "  0%|          | 0/50 [00:00<?, ?it/s]"
      ]
     },
     "metadata": {},
     "output_type": "display_data"
    },
    {
     "name": "stdout",
     "output_type": "stream",
     "text": [
      "Iteration 0, loss = 2.2499163012137726e-05\n"
     ]
    },
    {
     "data": {
      "application/vnd.jupyter.widget-view+json": {
       "model_id": "772042b12eea4b9184341eb931896398",
       "version_major": 2,
       "version_minor": 0
      },
      "text/plain": [
       "  0%|          | 0/201 [00:00<?, ?it/s]"
      ]
     },
     "metadata": {},
     "output_type": "display_data"
    },
    {
     "name": "stdout",
     "output_type": "stream",
     "text": [
      "Iteration 0, loss = 0.0002875, Jres = 4.276, alpha = 0.08333, improvement_ratio = 1.0\n",
      "Iteration 1, loss = 0.0002862, Jres = 0.07846, alpha = 0.06944, improvement_ratio = 1.007\n",
      "Iteration 2, loss = 0.0002859, Jres = 0.003233, alpha = 0.05787, improvement_ratio = 0.9999\n",
      "Iteration 3, loss = 0.0002857, Jres = 0.0009616, alpha = 0.04823, improvement_ratio = 1.0\n",
      "Iteration 4, loss = 0.0002854, Jres = 0.0009356, alpha = 0.04019, improvement_ratio = 1.001\n",
      "Iteration 5, loss = 0.0002851, Jres = 0.001003, alpha = 0.03349, improvement_ratio = 1.001\n",
      "Iteration 100, loss = 2.667e-05, Jres = 0.0006519, alpha = 8.333e-07, improvement_ratio = 1.001\n",
      "Iteration 200, loss = 2.367e-05, Jres = 0.0002178, alpha = 8.333e-07, improvement_ratio = 1.0\n"
     ]
    },
    {
     "data": {
      "application/vnd.jupyter.widget-view+json": {
       "model_id": "a4dc12b743c0434c8994c9b8a75227b6",
       "version_major": 2,
       "version_minor": 0
      },
      "text/plain": [
       "  0%|          | 0/50 [00:00<?, ?it/s]"
      ]
     },
     "metadata": {},
     "output_type": "display_data"
    },
    {
     "name": "stdout",
     "output_type": "stream",
     "text": [
      "Iteration 0, loss = 2.366703571382625e-05\n"
     ]
    },
    {
     "data": {
      "application/vnd.jupyter.widget-view+json": {
       "model_id": "e08cced002e04274a5935cab0ed96f67",
       "version_major": 2,
       "version_minor": 0
      },
      "text/plain": [
       "  0%|          | 0/201 [00:00<?, ?it/s]"
      ]
     },
     "metadata": {},
     "output_type": "display_data"
    },
    {
     "name": "stdout",
     "output_type": "stream",
     "text": [
      "Iteration 0, loss = 0.0003969, Jres = 12.31, alpha = 0.08333, improvement_ratio = 0.9999\n",
      "Iteration 1, loss = 0.0003838, Jres = 0.1141, alpha = 0.06944, improvement_ratio = 1.006\n",
      "Iteration 2, loss = 0.0003805, Jres = 0.02198, alpha = 0.05787, improvement_ratio = 1.004\n",
      "Iteration 3, loss = 0.0003789, Jres = 0.01512, alpha = 0.04823, improvement_ratio = 1.003\n",
      "Iteration 4, loss = 0.0003776, Jres = 0.005703, alpha = 0.04019, improvement_ratio = 1.002\n",
      "Iteration 5, loss = 0.0003762, Jres = 0.002224, alpha = 0.03349, improvement_ratio = 1.001\n",
      "Iteration 100, loss = 1.745e-05, Jres = 0.002761, alpha = 8.333e-07, improvement_ratio = 1.001\n",
      "Iteration 200, loss = 1.219e-05, Jres = 0.004681, alpha = 8.333e-07, improvement_ratio = 0.9988\n"
     ]
    },
    {
     "data": {
      "application/vnd.jupyter.widget-view+json": {
       "model_id": "aef7f565367d4e9c886ca93673bb255c",
       "version_major": 2,
       "version_minor": 0
      },
      "text/plain": [
       "  0%|          | 0/50 [00:00<?, ?it/s]"
      ]
     },
     "metadata": {},
     "output_type": "display_data"
    },
    {
     "name": "stdout",
     "output_type": "stream",
     "text": [
      "Iteration 0, loss = 1.2180139595548986e-05\n",
      "n_obs =  70\n"
     ]
    },
    {
     "data": {
      "application/vnd.jupyter.widget-view+json": {
       "model_id": "ee19066910404e12b4079c9e1a54408c",
       "version_major": 2,
       "version_minor": 0
      },
      "text/plain": [
       "  0%|          | 0/201 [00:00<?, ?it/s]"
      ]
     },
     "metadata": {},
     "output_type": "display_data"
    },
    {
     "name": "stdout",
     "output_type": "stream",
     "text": [
      "Iteration 0, loss = 0.0001547, Jres = 2.891, alpha = 0.08333, improvement_ratio = 1.0\n",
      "Iteration 1, loss = 0.0001519, Jres = 0.04312, alpha = 0.06944, improvement_ratio = 1.01\n",
      "Iteration 2, loss = 0.0001514, Jres = 0.005944, alpha = 0.05787, improvement_ratio = 1.007\n",
      "Iteration 3, loss = 0.0001512, Jres = 0.001978, alpha = 0.04823, improvement_ratio = 1.003\n",
      "Iteration 4, loss = 0.000151, Jres = 0.001139, alpha = 0.04019, improvement_ratio = 1.001\n",
      "Iteration 5, loss = 0.0001507, Jres = 0.000949, alpha = 0.03349, improvement_ratio = 1.001\n",
      "Iteration 100, loss = 1.45e-05, Jres = 0.0006455, alpha = 8.333e-07, improvement_ratio = 1.001\n",
      "Iteration 200, loss = 1.23e-05, Jres = 0.0001216, alpha = 8.333e-07, improvement_ratio = 1.0\n"
     ]
    },
    {
     "data": {
      "application/vnd.jupyter.widget-view+json": {
       "model_id": "4417044091dc4bfca761cf5919a09318",
       "version_major": 2,
       "version_minor": 0
      },
      "text/plain": [
       "  0%|          | 0/50 [00:00<?, ?it/s]"
      ]
     },
     "metadata": {},
     "output_type": "display_data"
    },
    {
     "name": "stdout",
     "output_type": "stream",
     "text": [
      "Iteration 0, loss = 1.22933352238523e-05\n"
     ]
    },
    {
     "data": {
      "application/vnd.jupyter.widget-view+json": {
       "model_id": "1b79e19d6f5b45adbf630a81f8c79057",
       "version_major": 2,
       "version_minor": 0
      },
      "text/plain": [
       "  0%|          | 0/201 [00:00<?, ?it/s]"
      ]
     },
     "metadata": {},
     "output_type": "display_data"
    },
    {
     "name": "stdout",
     "output_type": "stream",
     "text": [
      "Iteration 0, loss = 0.001086, Jres = 4.58, alpha = 0.08333, improvement_ratio = 0.9999\n",
      "Iteration 1, loss = 0.001064, Jres = 0.2046, alpha = 0.06944, improvement_ratio = 1.003\n",
      "Iteration 2, loss = 0.001055, Jres = 0.06657, alpha = 0.05787, improvement_ratio = 1.013\n",
      "Iteration 3, loss = 0.001046, Jres = 0.034, alpha = 0.04823, improvement_ratio = 1.014\n",
      "Iteration 4, loss = 0.001037, Jres = 0.02552, alpha = 0.04019, improvement_ratio = 1.012\n",
      "Iteration 5, loss = 0.001026, Jres = 0.02521, alpha = 0.03349, improvement_ratio = 1.011\n",
      "Iteration 100, loss = 1.666e-05, Jres = 0.001034, alpha = 8.333e-07, improvement_ratio = 1.0\n",
      "Iteration 200, loss = 1.161e-05, Jres = 4.674e-05, alpha = 8.333e-07, improvement_ratio = 1.0\n"
     ]
    },
    {
     "data": {
      "application/vnd.jupyter.widget-view+json": {
       "model_id": "3ccf7cc631514b8e9ce724e07c87e053",
       "version_major": 2,
       "version_minor": 0
      },
      "text/plain": [
       "  0%|          | 0/50 [00:00<?, ?it/s]"
      ]
     },
     "metadata": {},
     "output_type": "display_data"
    },
    {
     "name": "stdout",
     "output_type": "stream",
     "text": [
      "Iteration 0, loss = 1.1602338086149092e-05\n"
     ]
    },
    {
     "data": {
      "application/vnd.jupyter.widget-view+json": {
       "model_id": "8445ec01d394413da4694e79100ca6b5",
       "version_major": 2,
       "version_minor": 0
      },
      "text/plain": [
       "  0%|          | 0/201 [00:00<?, ?it/s]"
      ]
     },
     "metadata": {},
     "output_type": "display_data"
    },
    {
     "name": "stdout",
     "output_type": "stream",
     "text": [
      "Iteration 0, loss = 0.0007317, Jres = 8.604, alpha = 0.08333, improvement_ratio = 0.9995\n",
      "Iteration 1, loss = 0.0007251, Jres = 0.0702, alpha = 0.06944, improvement_ratio = 1.025\n",
      "Iteration 2, loss = 0.0007237, Jres = 0.00906, alpha = 0.05787, improvement_ratio = 1.011\n",
      "Iteration 3, loss = 0.0007231, Jres = 0.005675, alpha = 0.04823, improvement_ratio = 1.0\n",
      "Iteration 4, loss = 0.0007225, Jres = 0.00482, alpha = 0.04019, improvement_ratio = 0.9996\n",
      "Iteration 5, loss = 0.000722, Jres = 0.004463, alpha = 0.03349, improvement_ratio = 1.0\n",
      "Iteration 100, loss = 2.427e-05, Jres = 0.007491, alpha = 8.333e-07, improvement_ratio = 0.9979\n",
      "Iteration 200, loss = 1.99e-05, Jres = 0.0006837, alpha = 8.333e-07, improvement_ratio = 1.0\n"
     ]
    },
    {
     "data": {
      "application/vnd.jupyter.widget-view+json": {
       "model_id": "bbe1b480e29a4557afc0784a8a950575",
       "version_major": 2,
       "version_minor": 0
      },
      "text/plain": [
       "  0%|          | 0/50 [00:00<?, ?it/s]"
      ]
     },
     "metadata": {},
     "output_type": "display_data"
    },
    {
     "name": "stdout",
     "output_type": "stream",
     "text": [
      "Iteration 0, loss = 1.9895756230583103e-05\n"
     ]
    },
    {
     "data": {
      "application/vnd.jupyter.widget-view+json": {
       "model_id": "bb6747f1f744483ea44ad94d12b45518",
       "version_major": 2,
       "version_minor": 0
      },
      "text/plain": [
       "  0%|          | 0/201 [00:00<?, ?it/s]"
      ]
     },
     "metadata": {},
     "output_type": "display_data"
    },
    {
     "name": "stdout",
     "output_type": "stream",
     "text": [
      "Iteration 0, loss = 0.0002541, Jres = 5.833, alpha = 0.08333, improvement_ratio = 1.0\n",
      "Iteration 1, loss = 0.000253, Jres = 0.09181, alpha = 0.06944, improvement_ratio = 1.003\n",
      "Iteration 2, loss = 0.0002527, Jres = 0.003132, alpha = 0.05787, improvement_ratio = 0.9997\n",
      "Iteration 3, loss = 0.0002524, Jres = 0.001006, alpha = 0.04823, improvement_ratio = 1.0\n",
      "Iteration 4, loss = 0.000252, Jres = 0.001026, alpha = 0.04019, improvement_ratio = 1.0\n",
      "Iteration 5, loss = 0.0002516, Jres = 0.001187, alpha = 0.03349, improvement_ratio = 1.001\n",
      "Iteration 100, loss = 2.387e-05, Jres = 0.002998, alpha = 8.333e-07, improvement_ratio = 1.002\n",
      "Iteration 200, loss = 1.982e-05, Jres = 0.0001661, alpha = 8.333e-07, improvement_ratio = 1.0\n"
     ]
    },
    {
     "data": {
      "application/vnd.jupyter.widget-view+json": {
       "model_id": "19c576d75b83415cb9b20dbb003ba2cd",
       "version_major": 2,
       "version_minor": 0
      },
      "text/plain": [
       "  0%|          | 0/50 [00:00<?, ?it/s]"
      ]
     },
     "metadata": {},
     "output_type": "display_data"
    },
    {
     "name": "stdout",
     "output_type": "stream",
     "text": [
      "Iteration 0, loss = 1.9815629164974232e-05\n",
      "Iteration 46 Step Failed\n",
      "Iteration 47 Step Failed\n",
      "Iteration 48 Step Failed\n",
      "Iteration 49 Step Failed\n"
     ]
    },
    {
     "data": {
      "application/vnd.jupyter.widget-view+json": {
       "model_id": "cddc04ea44e046af8f00dabdf444a8e9",
       "version_major": 2,
       "version_minor": 0
      },
      "text/plain": [
       "  0%|          | 0/201 [00:00<?, ?it/s]"
      ]
     },
     "metadata": {},
     "output_type": "display_data"
    },
    {
     "name": "stdout",
     "output_type": "stream",
     "text": [
      "Iteration 0, loss = 0.0009934, Jres = 6.559, alpha = 0.08333, improvement_ratio = 1.0\n",
      "Iteration 1, loss = 0.0009684, Jres = 0.0762, alpha = 0.06944, improvement_ratio = 1.006\n",
      "Iteration 2, loss = 0.0009564, Jres = 0.02348, alpha = 0.05787, improvement_ratio = 1.007\n",
      "Iteration 3, loss = 0.0009463, Jres = 0.01127, alpha = 0.04823, improvement_ratio = 1.005\n",
      "Iteration 4, loss = 0.0009357, Jres = 0.009719, alpha = 0.04019, improvement_ratio = 1.004\n",
      "Iteration 5, loss = 0.0009239, Jres = 0.0108, alpha = 0.03349, improvement_ratio = 1.003\n",
      "Iteration 100, loss = 2.278e-05, Jres = 0.0043, alpha = 8.333e-07, improvement_ratio = 1.0\n",
      "Iteration 200, loss = 1.585e-05, Jres = 0.0003735, alpha = 8.333e-07, improvement_ratio = 1.0\n"
     ]
    },
    {
     "data": {
      "application/vnd.jupyter.widget-view+json": {
       "model_id": "d138ee21e40c46a0860f77a175491516",
       "version_major": 2,
       "version_minor": 0
      },
      "text/plain": [
       "  0%|          | 0/50 [00:00<?, ?it/s]"
      ]
     },
     "metadata": {},
     "output_type": "display_data"
    },
    {
     "name": "stdout",
     "output_type": "stream",
     "text": [
      "Iteration 0, loss = 1.584056025205588e-05\n",
      "n_obs =  80\n"
     ]
    },
    {
     "data": {
      "application/vnd.jupyter.widget-view+json": {
       "model_id": "b190cbdfb92543bc8d24156fcd910922",
       "version_major": 2,
       "version_minor": 0
      },
      "text/plain": [
       "  0%|          | 0/201 [00:00<?, ?it/s]"
      ]
     },
     "metadata": {},
     "output_type": "display_data"
    },
    {
     "name": "stdout",
     "output_type": "stream",
     "text": [
      "Iteration 0, loss = 0.0001223, Jres = 2.681, alpha = 0.08333, improvement_ratio = 1.0\n",
      "Iteration 1, loss = 0.0001192, Jres = 0.0448, alpha = 0.06944, improvement_ratio = 1.011\n",
      "Iteration 2, loss = 0.0001188, Jres = 0.005179, alpha = 0.05787, improvement_ratio = 1.011\n",
      "Iteration 3, loss = 0.0001187, Jres = 0.001349, alpha = 0.04823, improvement_ratio = 1.006\n",
      "Iteration 4, loss = 0.0001186, Jres = 0.0007372, alpha = 0.04019, improvement_ratio = 1.002\n",
      "Iteration 5, loss = 0.0001185, Jres = 0.0007171, alpha = 0.03349, improvement_ratio = 1.001\n",
      "Iteration 100, loss = 1.631e-05, Jres = 0.0007137, alpha = 8.333e-07, improvement_ratio = 1.0\n",
      "Iteration 200, loss = 1.503e-05, Jres = 0.000311, alpha = 8.333e-07, improvement_ratio = 1.002\n"
     ]
    },
    {
     "data": {
      "application/vnd.jupyter.widget-view+json": {
       "model_id": "c04c3ed948bc44d4be276e06e4d82514",
       "version_major": 2,
       "version_minor": 0
      },
      "text/plain": [
       "  0%|          | 0/50 [00:00<?, ?it/s]"
      ]
     },
     "metadata": {},
     "output_type": "display_data"
    },
    {
     "name": "stdout",
     "output_type": "stream",
     "text": [
      "Iteration 0, loss = 1.5023722766279382e-05\n"
     ]
    },
    {
     "data": {
      "application/vnd.jupyter.widget-view+json": {
       "model_id": "ed7fd70daa7a4a16b899f2814dc09cc6",
       "version_major": 2,
       "version_minor": 0
      },
      "text/plain": [
       "  0%|          | 0/201 [00:00<?, ?it/s]"
      ]
     },
     "metadata": {},
     "output_type": "display_data"
    },
    {
     "name": "stdout",
     "output_type": "stream",
     "text": [
      "Iteration 0, loss = 0.0006043, Jres = 14.8, alpha = 0.08333, improvement_ratio = 1.001\n",
      "Iteration 1, loss = 0.0005942, Jres = 0.1793, alpha = 0.06944, improvement_ratio = 1.008\n",
      "Iteration 2, loss = 0.000586, Jres = 0.04888, alpha = 0.05787, improvement_ratio = 1.002\n",
      "Iteration 3, loss = 0.0005772, Jres = 0.04111, alpha = 0.04823, improvement_ratio = 1.002\n",
      "Iteration 4, loss = 0.0005675, Jres = 0.04211, alpha = 0.04019, improvement_ratio = 1.003\n",
      "Iteration 5, loss = 0.0005567, Jres = 0.04433, alpha = 0.03349, improvement_ratio = 1.003\n",
      "Iteration 100, loss = 1.958e-05, Jres = 0.0007344, alpha = 8.333e-07, improvement_ratio = 1.001\n",
      "Iteration 200, loss = 1.407e-05, Jres = 0.0002074, alpha = 8.333e-07, improvement_ratio = 1.0\n"
     ]
    },
    {
     "data": {
      "application/vnd.jupyter.widget-view+json": {
       "model_id": "c2a2015a935c4bf699a4b6b453297f9a",
       "version_major": 2,
       "version_minor": 0
      },
      "text/plain": [
       "  0%|          | 0/50 [00:00<?, ?it/s]"
      ]
     },
     "metadata": {},
     "output_type": "display_data"
    },
    {
     "name": "stdout",
     "output_type": "stream",
     "text": [
      "Iteration 0, loss = 1.4063250348105313e-05\n"
     ]
    },
    {
     "data": {
      "application/vnd.jupyter.widget-view+json": {
       "model_id": "94ea1d6fb00741be993ffc1def7f1c5f",
       "version_major": 2,
       "version_minor": 0
      },
      "text/plain": [
       "  0%|          | 0/201 [00:00<?, ?it/s]"
      ]
     },
     "metadata": {},
     "output_type": "display_data"
    },
    {
     "name": "stdout",
     "output_type": "stream",
     "text": [
      "Iteration 0, loss = 0.0008166, Jres = 8.579, alpha = 0.08333, improvement_ratio = 1.0\n",
      "Iteration 1, loss = 0.0008118, Jres = 0.07077, alpha = 0.06944, improvement_ratio = 1.035\n",
      "Iteration 2, loss = 0.0008097, Jres = 0.0452, alpha = 0.05787, improvement_ratio = 1.011\n",
      "Iteration 3, loss = 0.0008079, Jres = 0.01608, alpha = 0.04823, improvement_ratio = 1.006\n",
      "Iteration 4, loss = 0.0008063, Jres = 0.01304, alpha = 0.04019, improvement_ratio = 1.006\n",
      "Iteration 5, loss = 0.0008046, Jres = 0.01304, alpha = 0.03349, improvement_ratio = 1.006\n",
      "Iteration 100, loss = 2.498e-05, Jres = 0.08386, alpha = 8.333e-07, improvement_ratio = 0.9978\n",
      "Iteration 200, loss = 1.932e-05, Jres = 0.004639, alpha = 8.333e-07, improvement_ratio = 1.001\n"
     ]
    },
    {
     "data": {
      "application/vnd.jupyter.widget-view+json": {
       "model_id": "a6d278e70aa84eb190b725403708e494",
       "version_major": 2,
       "version_minor": 0
      },
      "text/plain": [
       "  0%|          | 0/50 [00:00<?, ?it/s]"
      ]
     },
     "metadata": {},
     "output_type": "display_data"
    },
    {
     "name": "stdout",
     "output_type": "stream",
     "text": [
      "Iteration 0, loss = 1.9313763861716873e-05\n"
     ]
    },
    {
     "data": {
      "application/vnd.jupyter.widget-view+json": {
       "model_id": "779c007b9f604d5f8df54bd2043718bc",
       "version_major": 2,
       "version_minor": 0
      },
      "text/plain": [
       "  0%|          | 0/201 [00:00<?, ?it/s]"
      ]
     },
     "metadata": {},
     "output_type": "display_data"
    },
    {
     "name": "stdout",
     "output_type": "stream",
     "text": [
      "Iteration 0, loss = 0.000295, Jres = 5.611, alpha = 0.08333, improvement_ratio = 1.0\n",
      "Iteration 1, loss = 0.0002936, Jres = 0.08984, alpha = 0.06944, improvement_ratio = 1.0\n",
      "Iteration 2, loss = 0.0002931, Jres = 0.003438, alpha = 0.05787, improvement_ratio = 1.0\n",
      "Iteration 3, loss = 0.0002926, Jres = 0.001238, alpha = 0.04823, improvement_ratio = 1.0\n",
      "Iteration 4, loss = 0.0002921, Jres = 0.001384, alpha = 0.04019, improvement_ratio = 1.0\n",
      "Iteration 5, loss = 0.0002915, Jres = 0.001634, alpha = 0.03349, improvement_ratio = 1.0\n",
      "Iteration 100, loss = 3.022e-05, Jres = 0.001107, alpha = 8.333e-07, improvement_ratio = 1.009\n",
      "Iteration 200, loss = 2.32e-05, Jres = 9.475e-05, alpha = 8.333e-07, improvement_ratio = 1.0\n"
     ]
    },
    {
     "data": {
      "application/vnd.jupyter.widget-view+json": {
       "model_id": "2bbef158d7644036a26e8e204a64953e",
       "version_major": 2,
       "version_minor": 0
      },
      "text/plain": [
       "  0%|          | 0/50 [00:00<?, ?it/s]"
      ]
     },
     "metadata": {},
     "output_type": "display_data"
    },
    {
     "name": "stdout",
     "output_type": "stream",
     "text": [
      "Iteration 0, loss = 2.3189420577265764e-05\n"
     ]
    },
    {
     "data": {
      "application/vnd.jupyter.widget-view+json": {
       "model_id": "9505148426bb4ab5bbb884eba11a4c01",
       "version_major": 2,
       "version_minor": 0
      },
      "text/plain": [
       "  0%|          | 0/201 [00:00<?, ?it/s]"
      ]
     },
     "metadata": {},
     "output_type": "display_data"
    },
    {
     "name": "stdout",
     "output_type": "stream",
     "text": [
      "Iteration 0, loss = 0.0003143, Jres = 8.781, alpha = 0.08333, improvement_ratio = 1.0\n",
      "Iteration 1, loss = 0.0003085, Jres = 0.1041, alpha = 0.06944, improvement_ratio = 1.007\n",
      "Iteration 2, loss = 0.0003076, Jres = 0.008012, alpha = 0.05787, improvement_ratio = 1.01\n",
      "Iteration 3, loss = 0.000307, Jres = 0.002345, alpha = 0.04823, improvement_ratio = 1.004\n",
      "Iteration 4, loss = 0.0003064, Jres = 0.001126, alpha = 0.04019, improvement_ratio = 1.002\n",
      "Iteration 5, loss = 0.0003059, Jres = 0.0008411, alpha = 0.03349, improvement_ratio = 1.001\n",
      "Iteration 100, loss = 3.379e-05, Jres = 0.0005146, alpha = 8.333e-07, improvement_ratio = 1.002\n",
      "Iteration 200, loss = 2.544e-05, Jres = 0.0002087, alpha = 8.333e-07, improvement_ratio = 1.001\n"
     ]
    },
    {
     "data": {
      "application/vnd.jupyter.widget-view+json": {
       "model_id": "75ffda76b2024b73aa96eb0e4b3c89fb",
       "version_major": 2,
       "version_minor": 0
      },
      "text/plain": [
       "  0%|          | 0/50 [00:00<?, ?it/s]"
      ]
     },
     "metadata": {},
     "output_type": "display_data"
    },
    {
     "name": "stdout",
     "output_type": "stream",
     "text": [
      "Iteration 0, loss = 2.5424341433922164e-05\n",
      "n_obs =  90\n"
     ]
    },
    {
     "data": {
      "application/vnd.jupyter.widget-view+json": {
       "model_id": "f1dfb34a34114061a6dcd460ec670281",
       "version_major": 2,
       "version_minor": 0
      },
      "text/plain": [
       "  0%|          | 0/201 [00:00<?, ?it/s]"
      ]
     },
     "metadata": {},
     "output_type": "display_data"
    },
    {
     "name": "stdout",
     "output_type": "stream",
     "text": [
      "Iteration 0, loss = 0.0002379, Jres = 11.94, alpha = 0.08333, improvement_ratio = 1.0\n",
      "Iteration 1, loss = 0.0002355, Jres = 0.115, alpha = 0.06944, improvement_ratio = 1.003\n",
      "Iteration 2, loss = 0.0002344, Jres = 0.005127, alpha = 0.05787, improvement_ratio = 1.001\n",
      "Iteration 3, loss = 0.0002332, Jres = 0.001376, alpha = 0.04823, improvement_ratio = 0.9997\n",
      "Iteration 4, loss = 0.000232, Jres = 0.002505, alpha = 0.04019, improvement_ratio = 0.9996\n",
      "Iteration 5, loss = 0.0002306, Jres = 0.002918, alpha = 0.03349, improvement_ratio = 0.9996\n",
      "Iteration 100, loss = 1.678e-05, Jres = 0.001005, alpha = 8.333e-07, improvement_ratio = 1.001\n",
      "Iteration 200, loss = 1.178e-05, Jres = 0.0002825, alpha = 8.333e-07, improvement_ratio = 1.0\n"
     ]
    },
    {
     "data": {
      "application/vnd.jupyter.widget-view+json": {
       "model_id": "097aab9fbe8b4a4c8977f7c95d2784e1",
       "version_major": 2,
       "version_minor": 0
      },
      "text/plain": [
       "  0%|          | 0/50 [00:00<?, ?it/s]"
      ]
     },
     "metadata": {},
     "output_type": "display_data"
    },
    {
     "name": "stdout",
     "output_type": "stream",
     "text": [
      "Iteration 0, loss = 1.1777148480830886e-05\n"
     ]
    },
    {
     "data": {
      "application/vnd.jupyter.widget-view+json": {
       "model_id": "2c678baf6b114852b68c8ab7f865d82a",
       "version_major": 2,
       "version_minor": 0
      },
      "text/plain": [
       "  0%|          | 0/201 [00:00<?, ?it/s]"
      ]
     },
     "metadata": {},
     "output_type": "display_data"
    },
    {
     "name": "stdout",
     "output_type": "stream",
     "text": [
      "Iteration 0, loss = 0.001263, Jres = 29.03, alpha = 0.08333, improvement_ratio = 0.9999\n",
      "Iteration 1, loss = 0.001246, Jres = 0.1719, alpha = 0.06944, improvement_ratio = 0.9982\n",
      "Iteration 2, loss = 0.001236, Jres = 0.0215, alpha = 0.05787, improvement_ratio = 1.001\n",
      "Iteration 3, loss = 0.001226, Jres = 0.01361, alpha = 0.04823, improvement_ratio = 1.002\n",
      "Iteration 4, loss = 0.001215, Jres = 0.01484, alpha = 0.04019, improvement_ratio = 1.003\n",
      "Iteration 5, loss = 0.001202, Jres = 0.01717, alpha = 0.03349, improvement_ratio = 1.003\n",
      "Iteration 100, loss = 3.358e-05, Jres = 0.002021, alpha = 8.333e-07, improvement_ratio = 1.001\n",
      "Iteration 200, loss = 2.502e-05, Jres = 0.000694, alpha = 8.333e-07, improvement_ratio = 1.0\n"
     ]
    },
    {
     "data": {
      "application/vnd.jupyter.widget-view+json": {
       "model_id": "ce874b9a46254851b4fac1fa6d50b9bd",
       "version_major": 2,
       "version_minor": 0
      },
      "text/plain": [
       "  0%|          | 0/50 [00:00<?, ?it/s]"
      ]
     },
     "metadata": {},
     "output_type": "display_data"
    },
    {
     "name": "stdout",
     "output_type": "stream",
     "text": [
      "Iteration 0, loss = 2.5007203782575774e-05\n"
     ]
    },
    {
     "data": {
      "application/vnd.jupyter.widget-view+json": {
       "model_id": "6203b41e3a74446b8f8335df14853bf6",
       "version_major": 2,
       "version_minor": 0
      },
      "text/plain": [
       "  0%|          | 0/201 [00:00<?, ?it/s]"
      ]
     },
     "metadata": {},
     "output_type": "display_data"
    },
    {
     "name": "stdout",
     "output_type": "stream",
     "text": [
      "Iteration 0, loss = 0.000834, Jres = 4.181, alpha = 0.08333, improvement_ratio = 1.0\n",
      "Iteration 1, loss = 0.0008284, Jres = 0.06508, alpha = 0.06944, improvement_ratio = 1.03\n",
      "Iteration 2, loss = 0.000826, Jres = 0.01961, alpha = 0.05787, improvement_ratio = 1.011\n",
      "Iteration 3, loss = 0.000824, Jres = 0.01252, alpha = 0.04823, improvement_ratio = 1.006\n",
      "Iteration 4, loss = 0.0008221, Jres = 0.01116, alpha = 0.04019, improvement_ratio = 1.004\n",
      "Iteration 5, loss = 0.0008205, Jres = 0.01066, alpha = 0.03349, improvement_ratio = 1.004\n",
      "Iteration 100, loss = 0.0001678, Jres = 0.1181, alpha = 1e-06, improvement_ratio = 0.6785\n",
      "Iteration 200, loss = 6.341e-05, Jres = 0.002241, alpha = 8.333e-07, improvement_ratio = 1.006\n"
     ]
    },
    {
     "data": {
      "application/vnd.jupyter.widget-view+json": {
       "model_id": "7b509142c3214458a9a234c25ee56e34",
       "version_major": 2,
       "version_minor": 0
      },
      "text/plain": [
       "  0%|          | 0/50 [00:00<?, ?it/s]"
      ]
     },
     "metadata": {},
     "output_type": "display_data"
    },
    {
     "name": "stdout",
     "output_type": "stream",
     "text": [
      "Iteration 0, loss = 6.337843536286231e-05\n"
     ]
    },
    {
     "data": {
      "application/vnd.jupyter.widget-view+json": {
       "model_id": "91c7c9c59a87440487f1461aed24de67",
       "version_major": 2,
       "version_minor": 0
      },
      "text/plain": [
       "  0%|          | 0/201 [00:00<?, ?it/s]"
      ]
     },
     "metadata": {},
     "output_type": "display_data"
    },
    {
     "name": "stdout",
     "output_type": "stream",
     "text": [
      "Iteration 0, loss = 0.0009332, Jres = 8.521, alpha = 0.08333, improvement_ratio = 1.001\n",
      "Iteration 1, loss = 0.0009296, Jres = 0.0885, alpha = 0.06944, improvement_ratio = 1.021\n",
      "Iteration 2, loss = 0.0009274, Jres = 0.008514, alpha = 0.05787, improvement_ratio = 1.006\n",
      "Iteration 3, loss = 0.0009254, Jres = 0.008447, alpha = 0.04823, improvement_ratio = 1.002\n",
      "Iteration 4, loss = 0.0009237, Jres = 0.008484, alpha = 0.04019, improvement_ratio = 1.002\n",
      "Iteration 5, loss = 0.0009223, Jres = 0.008254, alpha = 0.03349, improvement_ratio = 1.002\n",
      "Iteration 100, loss = 7.214e-05, Jres = 0.001337, alpha = 8.333e-07, improvement_ratio = 0.9998\n",
      "Iteration 200, loss = 6.056e-05, Jres = 0.0005653, alpha = 8.333e-07, improvement_ratio = 1.001\n"
     ]
    },
    {
     "data": {
      "application/vnd.jupyter.widget-view+json": {
       "model_id": "823b611b39bd4a82a60c362cede784d3",
       "version_major": 2,
       "version_minor": 0
      },
      "text/plain": [
       "  0%|          | 0/50 [00:00<?, ?it/s]"
      ]
     },
     "metadata": {},
     "output_type": "display_data"
    },
    {
     "name": "stdout",
     "output_type": "stream",
     "text": [
      "Iteration 0, loss = 6.0546792215124846e-05\n",
      "Iteration 37 Step Failed\n",
      "Iteration 38 Step Failed\n",
      "Iteration 39 Step Failed\n",
      "Iteration 40 Step Failed\n",
      "Iteration 41 Step Failed\n"
     ]
    },
    {
     "data": {
      "application/vnd.jupyter.widget-view+json": {
       "model_id": "059ac2f9c58b4995b54cd83b7d45e06d",
       "version_major": 2,
       "version_minor": 0
      },
      "text/plain": [
       "  0%|          | 0/201 [00:00<?, ?it/s]"
      ]
     },
     "metadata": {},
     "output_type": "display_data"
    },
    {
     "name": "stdout",
     "output_type": "stream",
     "text": [
      "Iteration 0, loss = 0.0003362, Jres = 10.97, alpha = 0.08333, improvement_ratio = 1.0\n",
      "Iteration 1, loss = 0.0003296, Jres = 0.1228, alpha = 0.06944, improvement_ratio = 1.006\n",
      "Iteration 2, loss = 0.0003285, Jres = 0.009642, alpha = 0.05787, improvement_ratio = 1.008\n",
      "Iteration 3, loss = 0.0003278, Jres = 0.003195, alpha = 0.04823, improvement_ratio = 1.004\n",
      "Iteration 4, loss = 0.0003272, Jres = 0.001506, alpha = 0.04019, improvement_ratio = 1.001\n",
      "Iteration 5, loss = 0.0003265, Jres = 0.001045, alpha = 0.03349, improvement_ratio = 1.001\n",
      "Iteration 100, loss = 2.799e-05, Jres = 0.0006016, alpha = 8.333e-07, improvement_ratio = 1.007\n",
      "Iteration 200, loss = 2.235e-05, Jres = 0.0001223, alpha = 8.333e-07, improvement_ratio = 0.9999\n"
     ]
    },
    {
     "data": {
      "application/vnd.jupyter.widget-view+json": {
       "model_id": "a6ab244d26e34b6ba6f15aa82b4e97c6",
       "version_major": 2,
       "version_minor": 0
      },
      "text/plain": [
       "  0%|          | 0/50 [00:00<?, ?it/s]"
      ]
     },
     "metadata": {},
     "output_type": "display_data"
    },
    {
     "name": "stdout",
     "output_type": "stream",
     "text": [
      "Iteration 0, loss = 2.233879616281597e-05\n",
      "Iteration 42 Step Failed\n",
      "Iteration 43 Step Failed\n",
      "Iteration 44 Step Failed\n",
      "Iteration 45 Step Failed\n",
      "n_obs =  100\n"
     ]
    },
    {
     "data": {
      "application/vnd.jupyter.widget-view+json": {
       "model_id": "29e8d0fe356243d48f67e144277e445d",
       "version_major": 2,
       "version_minor": 0
      },
      "text/plain": [
       "  0%|          | 0/201 [00:00<?, ?it/s]"
      ]
     },
     "metadata": {},
     "output_type": "display_data"
    },
    {
     "name": "stdout",
     "output_type": "stream",
     "text": [
      "Iteration 0, loss = 0.001115, Jres = 50.68, alpha = 0.08333, improvement_ratio = 0.9995\n",
      "Iteration 1, loss = 0.001093, Jres = 0.4762, alpha = 0.06944, improvement_ratio = 1.025\n",
      "Iteration 2, loss = 0.001087, Jres = 0.1355, alpha = 0.05787, improvement_ratio = 1.016\n",
      "Iteration 3, loss = 0.001081, Jres = 0.01864, alpha = 0.04823, improvement_ratio = 1.006\n",
      "Iteration 4, loss = 0.001075, Jres = 0.03313, alpha = 0.04019, improvement_ratio = 1.004\n",
      "Iteration 5, loss = 0.001069, Jres = 0.03685, alpha = 0.03349, improvement_ratio = 1.003\n",
      "Iteration 100, loss = 2.419e-05, Jres = 0.0005671, alpha = 8.333e-07, improvement_ratio = 1.002\n",
      "Iteration 200, loss = 1.486e-05, Jres = 8.31e-05, alpha = 8.333e-07, improvement_ratio = 1.0\n"
     ]
    },
    {
     "data": {
      "application/vnd.jupyter.widget-view+json": {
       "model_id": "03c936b8cccb4740975b7c60bb72cd1d",
       "version_major": 2,
       "version_minor": 0
      },
      "text/plain": [
       "  0%|          | 0/50 [00:00<?, ?it/s]"
      ]
     },
     "metadata": {},
     "output_type": "display_data"
    },
    {
     "name": "stdout",
     "output_type": "stream",
     "text": [
      "Iteration 0, loss = 1.4849747337763583e-05\n"
     ]
    },
    {
     "data": {
      "application/vnd.jupyter.widget-view+json": {
       "model_id": "4c4054e0acf1499fa028a3a9d0714cad",
       "version_major": 2,
       "version_minor": 0
      },
      "text/plain": [
       "  0%|          | 0/201 [00:00<?, ?it/s]"
      ]
     },
     "metadata": {},
     "output_type": "display_data"
    },
    {
     "name": "stdout",
     "output_type": "stream",
     "text": [
      "Iteration 0, loss = 0.002387, Jres = 15.9, alpha = 0.08333, improvement_ratio = 0.9995\n",
      "Iteration 1, loss = 0.002304, Jres = 0.2346, alpha = 0.06944, improvement_ratio = 1.012\n",
      "Iteration 2, loss = 0.002256, Jres = 0.1719, alpha = 0.05787, improvement_ratio = 1.01\n",
      "Iteration 3, loss = 0.00221, Jres = 0.1054, alpha = 0.04823, improvement_ratio = 1.01\n",
      "Iteration 4, loss = 0.002159, Jres = 0.09319, alpha = 0.04019, improvement_ratio = 1.01\n",
      "Iteration 5, loss = 0.002104, Jres = 0.1023, alpha = 0.03349, improvement_ratio = 1.012\n",
      "Iteration 100, loss = 0.000115, Jres = 0.1587, alpha = 8.333e-07, improvement_ratio = 0.9765\n",
      "Iteration 200, loss = 9.487e-05, Jres = 0.003344, alpha = 8.333e-07, improvement_ratio = 1.0\n"
     ]
    },
    {
     "data": {
      "application/vnd.jupyter.widget-view+json": {
       "model_id": "4bc91bd7a4e045aa9ab7720758515fb7",
       "version_major": 2,
       "version_minor": 0
      },
      "text/plain": [
       "  0%|          | 0/50 [00:00<?, ?it/s]"
      ]
     },
     "metadata": {},
     "output_type": "display_data"
    },
    {
     "name": "stdout",
     "output_type": "stream",
     "text": [
      "Iteration 0, loss = 9.484295422493801e-05\n"
     ]
    },
    {
     "data": {
      "application/vnd.jupyter.widget-view+json": {
       "model_id": "786e77785fc54969b946006c07023539",
       "version_major": 2,
       "version_minor": 0
      },
      "text/plain": [
       "  0%|          | 0/201 [00:00<?, ?it/s]"
      ]
     },
     "metadata": {},
     "output_type": "display_data"
    },
    {
     "name": "stdout",
     "output_type": "stream",
     "text": [
      "Iteration 0, loss = 0.001217, Jres = 3.251, alpha = 0.08333, improvement_ratio = 1.003\n",
      "Iteration 1, loss = 0.001201, Jres = 0.1762, alpha = 0.06944, improvement_ratio = 1.031\n",
      "Iteration 2, loss = 0.001195, Jres = 0.07178, alpha = 0.05787, improvement_ratio = 1.026\n",
      "Iteration 3, loss = 0.00119, Jres = 0.04852, alpha = 0.04823, improvement_ratio = 1.015\n",
      "Iteration 4, loss = 0.001186, Jres = 0.0402, alpha = 0.04019, improvement_ratio = 1.008\n",
      "Iteration 5, loss = 0.001182, Jres = 0.03588, alpha = 0.03349, improvement_ratio = 1.005\n",
      "Iteration 100, loss = 7.023e-05, Jres = 0.001621, alpha = 8.333e-07, improvement_ratio = 1.004\n",
      "Iteration 200, loss = 3.23e-05, Jres = 0.0005031, alpha = 8.333e-07, improvement_ratio = 1.0\n"
     ]
    },
    {
     "data": {
      "application/vnd.jupyter.widget-view+json": {
       "model_id": "1ae3d8b3141a498aa7272ea7630f4483",
       "version_major": 2,
       "version_minor": 0
      },
      "text/plain": [
       "  0%|          | 0/50 [00:00<?, ?it/s]"
      ]
     },
     "metadata": {},
     "output_type": "display_data"
    },
    {
     "name": "stdout",
     "output_type": "stream",
     "text": [
      "Iteration 0, loss = 3.2281873611346504e-05\n"
     ]
    },
    {
     "data": {
      "application/vnd.jupyter.widget-view+json": {
       "model_id": "f981cf7ba7294c519de5efa8e54115b8",
       "version_major": 2,
       "version_minor": 0
      },
      "text/plain": [
       "  0%|          | 0/201 [00:00<?, ?it/s]"
      ]
     },
     "metadata": {},
     "output_type": "display_data"
    },
    {
     "name": "stdout",
     "output_type": "stream",
     "text": [
      "Iteration 0, loss = 0.0006324, Jres = 9.164, alpha = 0.08333, improvement_ratio = 1.001\n",
      "Iteration 1, loss = 0.0006272, Jres = 0.1346, alpha = 0.06944, improvement_ratio = 1.017\n",
      "Iteration 2, loss = 0.0006246, Jres = 0.01383, alpha = 0.05787, improvement_ratio = 1.005\n",
      "Iteration 3, loss = 0.0006224, Jres = 0.009515, alpha = 0.04823, improvement_ratio = 1.002\n",
      "Iteration 4, loss = 0.0006202, Jres = 0.009251, alpha = 0.04019, improvement_ratio = 1.001\n",
      "Iteration 5, loss = 0.0006181, Jres = 0.009609, alpha = 0.03349, improvement_ratio = 1.001\n",
      "Iteration 100, loss = 5.458e-05, Jres = 0.0006533, alpha = 8.333e-07, improvement_ratio = 1.0\n",
      "Iteration 200, loss = 4.691e-05, Jres = 8.534e-05, alpha = 8.333e-07, improvement_ratio = 1.0\n"
     ]
    },
    {
     "data": {
      "application/vnd.jupyter.widget-view+json": {
       "model_id": "a99adb8d538c403ca95d96b281809275",
       "version_major": 2,
       "version_minor": 0
      },
      "text/plain": [
       "  0%|          | 0/50 [00:00<?, ?it/s]"
      ]
     },
     "metadata": {},
     "output_type": "display_data"
    },
    {
     "name": "stdout",
     "output_type": "stream",
     "text": [
      "Iteration 0, loss = 4.6894936758729074e-05\n"
     ]
    },
    {
     "data": {
      "application/vnd.jupyter.widget-view+json": {
       "model_id": "b308899b63184d07a5a119fcfc009d54",
       "version_major": 2,
       "version_minor": 0
      },
      "text/plain": [
       "  0%|          | 0/201 [00:00<?, ?it/s]"
      ]
     },
     "metadata": {},
     "output_type": "display_data"
    },
    {
     "name": "stdout",
     "output_type": "stream",
     "text": [
      "Iteration 0, loss = 0.0005597, Jres = 4.851, alpha = 0.08333, improvement_ratio = 1.0\n",
      "Iteration 1, loss = 0.0005567, Jres = 0.07775, alpha = 0.06944, improvement_ratio = 1.007\n",
      "Iteration 2, loss = 0.0005549, Jres = 0.005742, alpha = 0.05787, improvement_ratio = 1.002\n",
      "Iteration 3, loss = 0.0005528, Jres = 0.001797, alpha = 0.04823, improvement_ratio = 1.0\n",
      "Iteration 4, loss = 0.0005506, Jres = 0.001844, alpha = 0.04019, improvement_ratio = 1.0\n",
      "Iteration 5, loss = 0.000548, Jres = 0.001893, alpha = 0.03349, improvement_ratio = 1.0\n",
      "Iteration 100, loss = 2.353e-05, Jres = 0.00126, alpha = 8.333e-07, improvement_ratio = 1.0\n",
      "Iteration 200, loss = 1.92e-05, Jres = 3.85e-05, alpha = 8.333e-07, improvement_ratio = 1.0\n"
     ]
    },
    {
     "data": {
      "application/vnd.jupyter.widget-view+json": {
       "model_id": "c69af62804a14cbdb13edfb8059bf49c",
       "version_major": 2,
       "version_minor": 0
      },
      "text/plain": [
       "  0%|          | 0/50 [00:00<?, ?it/s]"
      ]
     },
     "metadata": {},
     "output_type": "display_data"
    },
    {
     "name": "stdout",
     "output_type": "stream",
     "text": [
      "Iteration 0, loss = 1.9190422007161005e-05\n"
     ]
    }
   ],
   "source": [
    "# Run loop\n",
    "NUM_RUNS = 5\n",
    "N_OBS = [int(i) for i in jnp.arange(20,110,10)]\n",
    "for n_obs in N_OBS:\n",
    "    print(\"n_obs = \",n_obs)\n",
    "    u_error_1_5 = []\n",
    "    u_error_SINDy = []\n",
    "    for run in range(NUM_RUNS):\n",
    "        # Run\n",
    "        res_1_5 = get_error_1_5(n_obs = n_obs,n_coll_t=31,n_coll_x=26,run=run)\n",
    "        res_SINDy = get_error_SINDy(n_obs = n_obs,n_coll_t=31,n_coll_x=26,run=run)\n",
    "        # Append\n",
    "        u_error_1_5.append(res_1_5)\n",
    "        u_error_SINDy.append(res_SINDy)\n",
    "    # Append each list    \n",
    "    err['1_5_mthd'].append(u_error_1_5)\n",
    "    err['SINDy'].append(u_error_SINDy)   \n",
    "    # Save after\n",
    "    jnp.save('errors_comparisons/err_1_5_w_SINDy', err)"
   ]
  },
  {
   "cell_type": "code",
   "execution_count": 10,
   "metadata": {},
   "outputs": [],
   "source": [
    "err = jnp.load('errors_comparisons/err_1_5_w_SINDy.npy', allow_pickle=True).item()"
   ]
  },
  {
   "cell_type": "code",
   "execution_count": 11,
   "metadata": {},
   "outputs": [
    {
     "data": {
      "image/png": "[encoded data removed]",
      "text/plain": [
       "<Figure size 640x480 with 1 Axes>"
      ]
     },
     "metadata": {},
     "output_type": "display_data"
    }
   ],
   "source": [
    "# Collocation points errors plot\n",
    "# plt.title('Error vs. N | Burgers')\n",
    "# Colors\n",
    "c2 = 'black'\n",
    "c1 = 'black'\n",
    "# SINDy method plot\n",
    "mean_SINDy = jnp.array([jnp.mean(e) for e in jnp.array(err['SINDy'])])\n",
    "sd_SINDy = jnp.array([jnp.std(e) for e in jnp.array(err['SINDy'])])\n",
    "# Plot 2 method\n",
    "plt.plot(N_OBS, mean_SINDy, label = f'SINDy', marker= 's', color = c2,linestyle = 'dashed')\n",
    "plt.fill_between(N_OBS, mean_SINDy - sd_SINDy, mean_SINDy + sd_SINDy, alpha=.1, color = c2)\n",
    "plt.yscale('log')\n",
    "# 1_5 step method plot\n",
    "\n",
    "# 1_5 method\n",
    "mean_i_opt_1_5 = jnp.array([jnp.mean(e) for e in jnp.array(err['1_5_mthd'])])\n",
    "sd_i_opt_1_5 = jnp.array([jnp.std(e) for e in jnp.array(err['1_5_mthd'])])\n",
    "# Plot 1_5 method\n",
    "plt.plot(N_OBS, mean_i_opt_1_5, label =  f'1.5 step', marker= 'o', color = c1)\n",
    "plt.fill_between(N_OBS, mean_i_opt_1_5 - sd_i_opt_1_5, mean_i_opt_1_5 + sd_i_opt_1_5, alpha=.1, color = c1)\n",
    "plt.yscale('log')\n",
    "\n",
    "plt.legend(loc = 'upper right')\n",
    "\n",
    "plt.ylabel('u_error')\n",
    "plt.xlabel('N_obs')\n",
    "# # adding labels to the plotlines\n",
    "# xvals_2step = [5]*4 + [7.5]\n",
    "# xvals_1step = [6.5]+[7]*4\n",
    "# xvals = xvals_2step + xvals_1step\n",
    "# lines = plt.gca().get_lines()\n",
    "# labelLines(lines, align=True, xvals = xvals)\n",
    "# # add legend box\n",
    "# legend_elements = [Line2D([0], [0], color= c2, label='2-step'),\n",
    "#                    Line2D([0], [0], color= c1, label='1.5-step')]\n",
    "# plt.legend(handles = legend_elements, loc = 'upper right')\n",
    "plt.show()"
   ]
  }
 ],
 "metadata": {
  "kernelspec": {
   "display_name": "sindy",
   "language": "python",
   "name": "python3"
  },
  "language_info": {
   "codemirror_mode": {
    "name": "ipython",
    "version": 3
   },
   "file_extension": ".py",
   "mimetype": "text/x-python",
   "name": "python",
   "nbconvert_exporter": "python",
   "pygments_lexer": "ipython3",
   "version": "3.12.3"
  }
 },
 "nbformat": 4,
 "nbformat_minor": 2
}
