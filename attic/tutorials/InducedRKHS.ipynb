{
 "cells": [
  {
   "cell_type": "markdown",
   "metadata": {},
   "source": [
    "# Generalized representer formula"
   ]
  },
  {
   "cell_type": "code",
   "execution_count": null,
   "metadata": {},
   "outputs": [],
   "source": [
    "import jax\n",
    "import jax.numpy as jnp\n",
    "import matplotlib.pyplot as plt\n",
    "from Kernels import get_gaussianRBF\n",
    "from KernelTools import *\n",
    "from EquationModel import CholInducedRKHS"
   ]
  },
  {
   "cell_type": "markdown",
   "metadata": {},
   "source": [
    "## Introduction to `InducedRKHS`"
   ]
  },
  {
   "cell_type": "markdown",
   "metadata": {},
   "source": [
    "Given\n",
    "\n",
    "- Kernel: $K: \\mathbb{R}^d \\times \\mathbb{R}^d \\to \\mathbb{R}$,\n",
    "- Basis points: $X = \\left\\{x_1,\\dots,x_M\\right\\} \\subset \\mathbb{R}^d$,\n",
    "- Basis operators: $\\phi = \\left[\\phi_1,\\dots,\\phi_K \\right]$,\n",
    "\n",
    "we can represent an element of the correponding RKHS $H_K$ of $K$ as\n",
    "\n",
    "$$\n",
    "\\begin{align*}\n",
    "u(x) &= \\sum_{m=1}^M \\phi_1 \\left(K(x,x')\\right)_{x' = x_m} \\alpha_{1,m} + \\dots + \\sum_{m=1}^M \\phi_K \\left(K(x,x')\\right)_{x' = x_m} \\alpha_{K,m} \\\\\n",
    "&:= \\sum_{m=1}^M  K(x,\\phi_{1,m}) \\alpha_{1,m} + \\dots + \\sum_{m=1}^M K(x,\\phi_{K,m}) \\alpha_{K,m} \\\\\n",
    "&:= K(x,\\phi_{1})^\\top \\alpha_{1} + \\dots + K(x,\\phi_{K})^\\top \\alpha_{K} \\\\\n",
    "&:= K(x,\\phi)^\\top \\alpha \\\\\n",
    "\\end{align*} \n",
    "$$\n",
    "where $\\{\\alpha_1,\\dots,\\alpha_K\\} \\subset \\mathbb{R}^M$ and $\\alpha = [\\alpha_1,\\dots,\\alpha_K] \\in \\mathbb{R}^{MK}$."
   ]
  },
  {
   "cell_type": "code",
   "execution_count": 2,
   "metadata": {},
   "outputs": [],
   "source": [
    "# Given\n",
    "K = get_gaussianRBF(0.1)\n",
    "basis_pts = jax.random.normal(jax.random.PRNGKey(0), shape = (100,2))\n",
    "basis_ops = (eval_k, dx_k, dxx_k)"
   ]
  },
  {
   "cell_type": "markdown",
   "metadata": {},
   "source": [
    "We can use the class `CholInducedRKHS` to create the function $u$"
   ]
  },
  {
   "cell_type": "code",
   "execution_count": 3,
   "metadata": {},
   "outputs": [],
   "source": [
    "# Create an object\n",
    "u_model = CholInducedRKHS(\n",
    "    basis_pts,\n",
    "    basis_ops,\n",
    "    K \n",
    "    )"
   ]
  },
  {
   "cell_type": "markdown",
   "metadata": {},
   "source": [
    "If we know the value of  $\\alpha$"
   ]
  },
  {
   "cell_type": "code",
   "execution_count": 4,
   "metadata": {},
   "outputs": [],
   "source": [
    "# alpha \n",
    "alpha = jnp.ones(len(basis_pts)*len(basis_ops))"
   ]
  },
  {
   "cell_type": "markdown",
   "metadata": {},
   "source": [
    "In order to evaluate $u$, we call the method `point_evaluate`"
   ]
  },
  {
   "cell_type": "code",
   "execution_count": null,
   "metadata": {},
   "outputs": [],
   "source": [
    "# Evaluation pts\n",
    "eval_pts = jax.random.normal(jax.random.PRNGKey(0), shape = (500,2))\n",
    "# Evaluate u at eval_pts\n",
    "u_model.point_evaluate(eval_pts,alpha)"
   ]
  },
  {
   "cell_type": "markdown",
   "metadata": {},
   "source": [
    "## Kernel ridge regression"
   ]
  },
  {
   "cell_type": "markdown",
   "metadata": {},
   "source": [
    "Usually, when we are doing kernel methods we want to solve the problem "
   ]
  },
  {
   "cell_type": "markdown",
   "metadata": {},
   "source": [
    "$$\n",
    "\\underset{u \\in H_K}{\\min} \\|u\\|_{H_K}^2 \\quad \\text{s.t.} \\quad u(x_i) = y_i\n",
    "$$\n",
    "\n",
    "where $X = \\{(x_i,y_i)\\}_{i=1}^N \\subset \\mathbb{R}^d$. Whose solution is given by \n",
    "\n",
    "$$\n",
    "u(x) = K(x,X) K(x,X)^{-1} y\n",
    "$$"
   ]
  },
  {
   "cell_type": "code",
   "execution_count": null,
   "metadata": {},
   "outputs": [],
   "source": []
  }
 ],
 "metadata": {
  "kernelspec": {
   "display_name": "myenv",
   "language": "python",
   "name": "python3"
  },
  "language_info": {
   "codemirror_mode": {
    "name": "ipython",
    "version": 3
   },
   "file_extension": ".py",
   "mimetype": "text/x-python",
   "name": "python",
   "nbconvert_exporter": "python",
   "pygments_lexer": "ipython3",
   "version": "3.12.8"
  }
 },
 "nbformat": 4,
 "nbformat_minor": 2
}
