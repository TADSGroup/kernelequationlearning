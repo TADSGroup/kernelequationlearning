{
 "cells": [
  {
   "cell_type": "markdown",
   "metadata": {},
   "source": [
    "# Generalized representer formula"
   ]
  },
  {
   "cell_type": "code",
   "execution_count": 2,
   "metadata": {},
   "outputs": [
    {
     "name": "stderr",
     "output_type": "stream",
     "text": [
      "/home/juanfelipe/anaconda3/envs/myenv/lib/python3.12/site-packages/tqdm/auto.py:21: TqdmWarning: IProgress not found. Please update jupyter and ipywidgets. See https://ipywidgets.readthedocs.io/en/stable/user_install.html\n",
      "  from .autonotebook import tqdm as notebook_tqdm\n"
     ]
    }
   ],
   "source": [
    "import jax\n",
    "import jax.numpy as jnp\n",
    "import matplotlib.pyplot as plt\n",
    "from Kernels import get_gaussianRBF\n",
    "from KernelTools import *\n",
    "from EquationModel import CholInducedRKHS"
   ]
  },
  {
   "cell_type": "markdown",
   "metadata": {},
   "source": [
    "## Introduction to `CholInducedRKHS`"
   ]
  },
  {
   "cell_type": "markdown",
   "metadata": {},
   "source": [
    "Given\n",
    "\n",
    "- Kernel: $K: \\mathbb{R}^d \\times \\mathbb{R}^d \\to \\mathbb{R}$,\n",
    "- Basis points: $X = \\left\\{x_1,\\dots,x_M\\right\\} \\subset \\mathbb{R}^d$,\n",
    "- Basis operators: $\\phi = \\left[\\phi_1,\\dots,\\phi_Q \\right]$,\n",
    "\n",
    "we can represent an element of the correponding RKHS $H_K$ of $K$ as\n",
    "\n",
    "$$\n",
    "\\begin{align*}\n",
    "u(x) &= \\sum_{m=1}^M \\phi_1 \\left(K(x,x')\\right)_{x' = x_m} \\beta_{1,m} + \\dots + \\sum_{m=1}^M \\phi_Q \\left(K(x,x')\\right)_{x' = x_m} \\beta_{Q,m} \\\\\n",
    "&:= \\sum_{m=1}^M  K(x,\\phi_{1,m}) \\beta_{1,m} + \\dots + \\sum_{m=1}^M K(x,\\phi_{Q,m}) \\beta_{Q,m} \\\\\n",
    "&:= K(x,\\delta_X \\circ \\phi_{1})^\\top \\beta_{1} + \\dots + K(x,\\delta_X \\circ \\phi_{Q})^\\top \\beta_{Q} \\\\\n",
    "&:= K(x,\\phi)^\\top \\beta \\\\\n",
    "\\end{align*} \n",
    "$$\n",
    "where $\\{\\beta_1,\\dots,\\beta_Q\\} \\subset \\mathbb{R}^M$ and $\\beta = \\operatorname{vec}[\\beta_1,\\dots,\\beta_Q] \\in \\mathbb{R}^{MQ}$, where also \n",
    "\n",
    "$$\n",
    "\\beta = \\left(L^\\top\\right)^{-1} \\alpha\n",
    "$$\n",
    "\n",
    "and $K(\\phi,\\phi) = L L^\\top$ with\n",
    "\n",
    "$$\n",
    "K(\\phi,\\phi) :=\n",
    "\\begin{bmatrix}\n",
    "K(\\phi_1,\\phi_1) & \\dots &K(\\phi_1,\\phi_Q) \\\\\n",
    "\\vdots & \\ddots & \\vdots \\\\\n",
    "K(\\phi_Q,\\phi_1) & \\dots &K(\\phi_Q,\\phi_Q) \\\\\n",
    "\\end{bmatrix}.\n",
    "$$\n",
    "\n",
    "In summary, our model given the basis points, basis operators and a kernel is given by,\n",
    "$$\n",
    "u(x) = K(x,\\phi)^T \\left(L^\\top\\right)^{-1} \\alpha\n",
    "$$"
   ]
  },
  {
   "cell_type": "code",
   "execution_count": 12,
   "metadata": {},
   "outputs": [],
   "source": [
    "# Given\n",
    "K = get_gaussianRBF(0.1)\n",
    "basis_pts = jax.random.normal(jax.random.PRNGKey(0), shape = (50,2)) # M = 50, d = 2\n",
    "basis_ops = (eval_k, dx_k, dxx_k) # Q = 3"
   ]
  },
  {
   "cell_type": "markdown",
   "metadata": {},
   "source": [
    "We can use the class `CholInducedRKHS` to create the function $u$"
   ]
  },
  {
   "cell_type": "code",
   "execution_count": 4,
   "metadata": {},
   "outputs": [],
   "source": [
    "# Create an object\n",
    "u_model = CholInducedRKHS(\n",
    "    basis_pts,\n",
    "    basis_ops,\n",
    "    K \n",
    "    )"
   ]
  },
  {
   "cell_type": "markdown",
   "metadata": {},
   "source": [
    "If we know the value of  $\\alpha$"
   ]
  },
  {
   "cell_type": "code",
   "execution_count": 5,
   "metadata": {},
   "outputs": [],
   "source": [
    "# alpha \n",
    "alpha = jnp.ones(len(basis_pts)*len(basis_ops))"
   ]
  },
  {
   "cell_type": "markdown",
   "metadata": {},
   "source": [
    "> Notice that `u_model.num_params = len(basis_pts)*len(basis_ops)`"
   ]
  },
  {
   "cell_type": "markdown",
   "metadata": {},
   "source": [
    "In order to evaluate $u$ at a new set of points $\\bar X = \\{x_1,\\dots,x_N\\} \\subset \\mathbb{R}^d$, we call the method `point_evaluate`"
   ]
  },
  {
   "cell_type": "code",
   "execution_count": 6,
   "metadata": {},
   "outputs": [
    {
     "data": {
      "text/plain": [
       "Array([ 1.02790385e-01,  2.23019689e-01,  1.39417505e+00,  1.53730869e+00,\n",
       "        7.65631157e-13,  1.27246284e+00,  3.59051526e-01,  1.03798795e+00,\n",
       "        2.25111872e-01,  1.45417929e-01,  2.90732443e-01,  1.75836647e+00,\n",
       "        2.74264395e-01,  1.57710910e-01,  5.71521744e-02,  1.41322706e-03,\n",
       "        4.13329840e-01,  1.07529664e+00,  6.71443966e-14,  1.45550012e-16,\n",
       "        5.52786514e-02,  1.04689646e+00,  4.67338413e-02,  3.10636305e-19,\n",
       "        3.33243981e-03,  3.81695614e-35,  5.02751209e-05,  2.80149698e-01,\n",
       "        1.69907138e-02,  0.00000000e+00,  9.74068940e-01,  6.98249400e-01,\n",
       "        1.10536337e+00,  7.99819708e-01,  1.96490530e-33,  1.04360925e-02,\n",
       "        1.53633437e-07,  1.40858218e-01,  4.11508530e-02,  3.48224282e-01,\n",
       "        9.64362249e-02,  2.11817653e-24,  1.32595956e-01,  3.28202329e-14,\n",
       "        6.04260981e-01,  6.29478774e-04,  7.58219361e-02,  1.40270126e+00,\n",
       "        4.69731271e-01,  2.50477111e-04,  4.71596956e-01,  3.65466923e-01,\n",
       "        2.93266475e-01,  4.58447784e-01,  4.87177730e-01,  3.91898632e-01,\n",
       "        1.36817411e-01,  4.24065554e-14,  2.45599728e-03,  5.14390506e-02,\n",
       "        1.37899574e-02,  1.28171099e-02,  3.23222950e-02,  3.26933175e-01,\n",
       "        7.67301142e-01,  2.44782448e-01,  1.96161389e-01,  6.12364769e-01,\n",
       "        4.18619543e-01,  3.45237464e-01,  1.15202999e+00,  1.21556409e-02,\n",
       "        1.40248775e+00,  1.95223585e-01,  1.12313271e+00,  3.10635448e-01,\n",
       "        6.63807273e-01,  2.56210387e-01,  2.55240262e-01,  2.23689526e-01,\n",
       "        3.38765532e-01,  1.51151139e-02,  2.14744141e-05,  6.66455328e-01,\n",
       "        4.25290205e-02,  4.23354447e-01,  1.51006460e+00,  2.77628779e-01,\n",
       "       -1.06741339e-02,  6.24769449e-01,  2.60630965e-01,  4.13395166e-01,\n",
       "        3.22392224e-10,  2.72070438e-01,  2.76995096e-02,  1.25557327e+00,\n",
       "        1.59900784e+00,  1.08535205e-05,  8.49146843e-01,  1.62718266e-01,\n",
       "        7.42468774e-01,  7.38872588e-01,  6.74909772e-03,  3.56396660e-02,\n",
       "        3.93052474e-02,  1.48192704e-01,  1.17138959e-02,  7.30454624e-02,\n",
       "        1.62574667e-02,  3.33930773e-13,  8.89230609e-01,  2.39740267e-01,\n",
       "        1.27923751e+00,  9.97009516e-01,  1.35885298e-01,  5.62370718e-02,\n",
       "        1.16503519e-12,  5.56862473e-01,  1.39151424e-01,  4.31828678e-01,\n",
       "        6.59722537e-02,  9.40392911e-02,  1.39942682e+00,  8.43150377e-01,\n",
       "        2.00758964e-01,  1.34216040e-01,  7.44700953e-02,  3.24342400e-01,\n",
       "        7.93312073e-01,  4.59464128e-16,  1.48737933e-02,  1.36139497e-01,\n",
       "        1.64869592e-01,  2.26563308e-04,  4.24140534e-14,  2.68332273e-01,\n",
       "        6.49526119e-01,  3.05280566e-01,  6.67722166e-01,  1.14897406e-03,\n",
       "        8.37661475e-02,  9.35913978e-15,  2.12231465e-03,  6.79301156e-05,\n",
       "        8.34692195e-02,  4.42423597e-02,  4.54371989e-01,  2.54551909e-04,\n",
       "        7.73695886e-01,  1.16339013e-01,  2.22979397e-01,  4.37752120e-02,\n",
       "        2.08048543e-04,  1.43155432e-03,  4.37016219e-01,  7.10850418e-01,\n",
       "        4.55563888e-02, -4.15475965e-02,  7.64410943e-02,  1.15402639e+00,\n",
       "        6.71485066e-01,  1.21174768e-08,  1.00955423e-02,  1.21178459e-06,\n",
       "        3.31308230e-14,  6.63974404e-01,  8.67525488e-02,  2.73807805e-13,\n",
       "        3.36308211e-01,  5.18977530e-02,  3.22860181e-02,  1.63019508e-01,\n",
       "        2.75478989e-01,  1.09770155e+00,  6.79466041e-07,  5.71379066e-01,\n",
       "        2.40772694e-01,  4.17185783e-01,  4.97239828e-03,  5.19026145e-02,\n",
       "        2.54891008e-01,  1.13243204e-05,  7.70556092e-01,  9.87142531e-15,\n",
       "        1.54085578e-10,  3.90299469e-01,  3.60935082e-05,  2.25394197e-05,\n",
       "        1.66488910e+00,  1.42377015e-04,  9.81919020e-02,  7.78710365e-01,\n",
       "        7.73334177e-04,  5.42880297e-01,  1.27467978e+00,  5.32530606e-01,\n",
       "        5.88699102e-01,  1.07221961e+00,  1.66043794e+00,  4.27758135e-03],      dtype=float32)"
      ]
     },
     "execution_count": 6,
     "metadata": {},
     "output_type": "execute_result"
    }
   ],
   "source": [
    "# Evaluation pts\n",
    "eval_pts = jax.random.normal(jax.random.PRNGKey(0), shape = (200,2)) # N = 200\n",
    "# Evaluate u at eval_pts\n",
    "u_model.point_evaluate(eval_pts,alpha)"
   ]
  },
  {
   "cell_type": "markdown",
   "metadata": {},
   "source": [
    "But maybe we want the function itself, but it will not be vectorized "
   ]
  },
  {
   "cell_type": "code",
   "execution_count": 11,
   "metadata": {},
   "outputs": [
    {
     "data": {
      "text/plain": [
       "function"
      ]
     },
     "execution_count": 11,
     "metadata": {},
     "output_type": "execute_result"
    }
   ],
   "source": [
    "u_func = u_model.get_eval_function(alpha)\n",
    "type(u_func)"
   ]
  },
  {
   "cell_type": "markdown",
   "metadata": {},
   "source": [
    "To get the matrix $K(\\phi,\\phi)$"
   ]
  },
  {
   "cell_type": "code",
   "execution_count": null,
   "metadata": {},
   "outputs": [
    {
     "data": {
      "text/plain": [
       "(150, 150)"
      ]
     },
     "execution_count": 16,
     "metadata": {},
     "output_type": "execute_result"
    }
   ],
   "source": [
    "u_model.kmat.shape"
   ]
  },
  {
   "cell_type": "markdown",
   "metadata": {},
   "source": [
    "To get the Cholesky factor $L^T$"
   ]
  },
  {
   "cell_type": "code",
   "execution_count": null,
   "metadata": {},
   "outputs": [
    {
     "data": {
      "text/plain": [
       "(150, 150)"
      ]
     },
     "execution_count": 17,
     "metadata": {},
     "output_type": "execute_result"
    }
   ],
   "source": [
    "u_model.cholT.shape"
   ]
  },
  {
   "cell_type": "markdown",
   "metadata": {},
   "source": [
    "## Fit the model"
   ]
  },
  {
   "cell_type": "markdown",
   "metadata": {},
   "source": [
    "Let's call $U = \\{u: u(x) = K(x,\\phi)^\\top\\beta \\text{ for some } \\beta\\} \\subset H_K$. Say we want to fit the a model $u$ to the data \n",
    "$$\n",
    "\\bar X = \\{x_1,\\dots,x_N\\}\\subset \\mathbb{R}^d \\text{ with corresponding values }  \\{y_1,\\dots,y_N\\} \\subset \\mathbb{R}\n",
    "$$\n",
    "\n",
    "and for simplicty let $y = [y_1,\\dots,y_N]^\\top$"
   ]
  },
  {
   "cell_type": "markdown",
   "metadata": {},
   "source": [
    "$$\n",
    "\\underset{u \\in U}{\\min} \\|u\\|_{H_K}^2 \\quad \\text{s.t.} \\quad u(\\bar X) = y\n",
    "$$\n",
    "\n",
    "Notice that we can relax the problem to\n",
    "\n",
    "$$\n",
    "\\underset{u \\in U}{\\min} \\|u\\|_{H_K}^2 + \\|u(\\bar X) - y\\|_{2}^2  .\n",
    "$$\n",
    "\n",
    "In addition, since each element can be identified with $\\beta$ then the problem above is equivalent to finite dimensional problem,\n",
    "\n",
    "$$\n",
    "\\underset{\\beta \\in \\mathbb{R}^{MK}}{\\min} \\|K(\\cdot,\\phi)\\beta\\|_{H_K}^2 + \\|K(\\bar X,\\phi)\\beta - y\\|_{2}^2,\n",
    "$$\n",
    "and finally, using the relation between $\\alpha$ and $\\beta$\n",
    "\n",
    "$$\n",
    "\\begin{align*}\n",
    "\\|K(\\cdot,\\phi)\\beta\\|_{H_K}^2 \n",
    "&= \\|\\sum_{j=1}^{MQ} K(\\cdot,\\phi_j)\\beta_j\\|_{H_K}^2 \\\\\n",
    "&= \\langle \\sum_{j=1}^{MQ} K(\\cdot,\\phi_j)\\beta_j, \\sum_{j=1}^{MQ} K(\\cdot,\\phi_j)\\beta_j \\rangle_{H_K}\\\\\n",
    "&= \\beta^\\top K(\\phi,\\phi) \\beta\\\\\n",
    "&= \\left(\\left(L^\\top\\right)^{-1} \\alpha \\right)^\\top K(\\phi,\\phi) \\left(\\left(L^\\top\\right)^{-1} \\alpha \\right)\\\\\n",
    "&= \\alpha^\\top L^{-1} K(\\phi,\\phi) \\left(L^\\top\\right)^{-1} \\alpha \\\\\n",
    "&= \\alpha^\\top L^{-1} L L^\\top \\left(L^\\top\\right)^{-1} \\alpha \\\\\n",
    "&= \\alpha^\\top \\alpha \\\\\n",
    "&= \\|\\alpha\\|_{H_K}^2. \n",
    "\\end{align*}\n",
    "$$\n",
    "\n",
    "Thus, we want to solve the regularized least-squares (quadratic problem)\n",
    "$$\n",
    "\\underset{\\alpha \\in \\mathbb{R}^{MQ}}{\\min} \\quad \\lambda\\|\\alpha\\|_{2}^2 + \\|K(\\bar X,\\phi)\\left(L^\\top\\right)^{-1}\\alpha - y\\|_{2}^2.\n",
    "$$\n",
    "For simplicity, let's call $R = K(\\bar X,\\phi)\\left(L^\\top\\right)^{-1}$. Then the solution using the SVD of $R$ is given by\n",
    "\n",
    "$$\n",
    "\\alpha =\\sum_{i=1}^{r} \\frac{\\sigma_i\\left(u_i^T y\\right)}{\\sigma_i^2+\\lambda} v_i\n",
    "$$\n",
    "\n",
    "where $R = \\sum_{i=1}^{r}\\sigma_i u_i v_i^T$ and $r = \\min\\{MS,N\\}$\n",
    "\n",
    "\n",
    "\n"
   ]
  },
  {
   "cell_type": "markdown",
   "metadata": {},
   "source": [
    "This vector can be computed via the method `get_fitted_params()`"
   ]
  },
  {
   "cell_type": "code",
   "execution_count": null,
   "metadata": {},
   "outputs": [],
   "source": [
    "# Training data\n",
    "X_bar = jax.random.normal(jax.random.PRNGKey(0), shape = (70,2)) \n",
    "y = jax.random.normal(jax.random.PRNGKey(0), shape = (70,))\n",
    "# Regularizer\n",
    "lmb = 1e-6\n",
    "# Fit params\n",
    "fitted_alpha = u_model.get_fitted_params(X_bar, y, lam = lmb)"
   ]
  }
 ],
 "metadata": {
  "kernelspec": {
   "display_name": "myenv",
   "language": "python",
   "name": "python3"
  },
  "language_info": {
   "codemirror_mode": {
    "name": "ipython",
    "version": 3
   },
   "file_extension": ".py",
   "mimetype": "text/x-python",
   "name": "python",
   "nbconvert_exporter": "python",
   "pygments_lexer": "ipython3",
   "version": "3.12.8"
  }
 },
 "nbformat": 4,
 "nbformat_minor": 2
}
