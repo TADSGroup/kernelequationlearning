{
 "cells": [
  {
   "cell_type": "code",
   "execution_count": 1,
   "metadata": {},
   "outputs": [],
   "source": [
    "import jax\n",
    "jax.config.update(\"jax_enable_x64\", True)\n",
    "\n",
    "import numpy as np\n",
    "import jax.numpy as jnp\n",
    "from importlib import reload\n",
    "\n",
    "import KernelTools\n",
    "reload(KernelTools)\n",
    "from KernelTools import *\n",
    "\n",
    "from Kernels import *\n",
    "\n",
    "import matplotlib.pyplot as plt\n",
    "plt.style.use('ggplot')\n",
    "from tqdm.auto import tqdm\n",
    "\n",
    "from jax.scipy.linalg import solve\n",
    "\n",
    "\n",
    "import sympy as sym\n",
    "from sympy import factorial\n",
    "from sympy.series.series import series\n"
   ]
  },
  {
   "cell_type": "code",
   "execution_count": 2,
   "metadata": {},
   "outputs": [
    {
     "data": {
      "text/plain": [
       "Array(nan, dtype=float64, weak_type=True)"
      ]
     },
     "execution_count": 2,
     "metadata": {},
     "output_type": "execute_result"
    }
   ],
   "source": [
    "jax.grad(jnp.linalg.norm)(0.)"
   ]
  },
  {
   "cell_type": "code",
   "execution_count": 25,
   "metadata": {},
   "outputs": [],
   "source": [
    "from jax import custom_jvp\n",
    "\n",
    "@custom_jvp\n",
    "def two_norm(x):\n",
    "  return jnp.sqrt(jnp.sum(x**2))\n",
    "\n",
    "@two_norm.defjvp\n",
    "def two_norm_jvp(primals, tangents):\n",
    "  x, = primals\n",
    "  x_dot, = tangents\n",
    "  ans = two_norm(x)\n",
    "  ans_dot = jnp.dot(x,x_dot)/(two_norm(x)+1e-32)\n",
    "  return ans, jnp.where(ans!=0,ans_dot,0.)\n"
   ]
  },
  {
   "cell_type": "code",
   "execution_count": 29,
   "metadata": {},
   "outputs": [],
   "source": [
    "def build_matern(p,rho):\n",
    "    exp_multiplier = -sym.sqrt(2 * p + 1)\n",
    "    coefficients = [\n",
    "        (factorial(p)/factorial(2*p)) * (factorial(p + i) / (factorial(i) * factorial(p - i)))\n",
    "        * (sym.sqrt(8 * p + 4))**(p - i) \n",
    "        for i in range(p + 1)]\n",
    "    powers = list(range(p,-1,-1))\n",
    "\n",
    "    jax_coefficients = jnp.array(list(map(float,coefficients)))\n",
    "    jax_powers = jnp.array(powers)\n",
    "    jax_exp_multiplier = float(exp_multiplier)\n",
    "\n",
    "    d = sym.symbols('d')\n",
    "    matern = sum([c * (d**power) for c,power in zip(coefficients,powers)])*sym.exp(exp_multiplier * d)\n",
    "\n",
    "    def matern_func(x,y):\n",
    "        scaled_diff = (x-y)/rho\n",
    "        d = two_norm(scaled_diff)\n",
    "        matern_eval= jnp.sum(jax_coefficients*jnp.power(d,jax_powers))*jnp.exp(jax_exp_multiplier * d)\n",
    "        return matern_eval#jnp.where(d2<eps, asymptotic, true)\n",
    "        \n",
    "    return matern_func\n"
   ]
  },
  {
   "cell_type": "code",
   "execution_count": 45,
   "metadata": {},
   "outputs": [],
   "source": [
    "p = 2\n",
    "\n",
    "exp_multiplier = -sym.sqrt(2 * p + 1)\n",
    "coefficients = [\n",
    "    (factorial(p)/factorial(2*p)) * (factorial(p + i) / (factorial(i) * factorial(p - i)))\n",
    "    * (sym.sqrt(8 * p + 4))**(p - i) \n",
    "    for i in range(p + 1)]\n",
    "powers = list(range(p,-1,-1))\n",
    "\n",
    "jax_coefficients = jnp.array(list(map(float,coefficients)))\n",
    "jax_powers = jnp.array(powers)\n",
    "jax_exp_multiplier = float(exp_multiplier)\n",
    "\n",
    "d = sym.symbols('d')\n",
    "matern = sum([c * (d**(power/2)) for c,power in zip(coefficients,powers)])*sym.exp(exp_multiplier * sym.sqrt(d))\n",
    "# S = series(sym.log(matern),d,1e-6,2*p+1).removeO()\n",
    "S = series(matern,d,0,2*p+1).removeO()\n",
    "# polyS = sym.Poly(S,d)\n",
    "# asy_coeffs = polyS.coeffs()\n",
    "# asy_coeffs = jnp.array(list(map(float,asy_coeffs)))\n",
    "\n",
    "# asy_powers = polyS.monoms()\n",
    "# half_asy_powers = jnp.array(asy_powers)[:,0]//2"
   ]
  },
  {
   "cell_type": "code",
   "execution_count": 46,
   "metadata": {},
   "outputs": [
    {
     "data": {
      "text/latex": [
       "$\\displaystyle \\left(\\sqrt{5} d^{0.5} + \\frac{5 d^{1.0}}{3} + 1\\right) e^{- \\sqrt{5} \\sqrt{d}}$"
      ],
      "text/plain": [
       "(sqrt(5)*d**0.5 + 5*d**1.0/3 + 1)*exp(-sqrt(5)*sqrt(d))"
      ]
     },
     "execution_count": 46,
     "metadata": {},
     "output_type": "execute_result"
    }
   ],
   "source": [
    "sym.simplify(matern)"
   ]
  },
  {
   "cell_type": "code",
   "execution_count": 47,
   "metadata": {},
   "outputs": [
    {
     "data": {
      "text/latex": [
       "$\\displaystyle \\left(\\frac{0.5 \\sqrt{5}}{d^{0.5}} + 1.66666666666667\\right) e^{- \\sqrt{5} \\sqrt{d}} - \\frac{\\sqrt{5} \\left(\\sqrt{5} d^{0.5} + \\frac{5 d^{1.0}}{3} + 1\\right) e^{- \\sqrt{5} \\sqrt{d}}}{2 \\sqrt{d}}$"
      ],
      "text/plain": [
       "(0.5*sqrt(5)/d**0.5 + 1.66666666666667)*exp(-sqrt(5)*sqrt(d)) - sqrt(5)*(sqrt(5)*d**0.5 + 5*d**1.0/3 + 1)*exp(-sqrt(5)*sqrt(d))/(2*sqrt(d))"
      ]
     },
     "execution_count": 47,
     "metadata": {},
     "output_type": "execute_result"
    }
   ],
   "source": [
    "sym.simplify(sym.Derivative(matern,d))"
   ]
  },
  {
   "cell_type": "code",
   "execution_count": 28,
   "metadata": {},
   "outputs": [
    {
     "name": "stdout",
     "output_type": "stream",
     "text": [
      "[2 1 0]\n"
     ]
    },
    {
     "data": {
      "image/png": "[encoded data removed]",
      "text/plain": [
       "<Figure size 500x200 with 1 Axes>"
      ]
     },
     "metadata": {},
     "output_type": "display_data"
    }
   ],
   "source": [
    "k = setup_matern(2)(1.)\n",
    "extent = 0.1\n",
    "grid = jnp.linspace(-extent,extent,500)\n",
    "result = jax.vmap(diff2_k(diff2_k(k,0),1),in_axes = (None,0))(0.,grid)\n",
    "plt.figure(figsize=(5,2))\n",
    "plt.plot(grid,result)\n",
    "plt.title(\"$k_{xxyy}(x,y)$ for k = Matern(5/2,1.)\")\n",
    "plt.show()"
   ]
  },
  {
   "cell_type": "code",
   "execution_count": 49,
   "metadata": {},
   "outputs": [],
   "source": [
    "import jax\n",
    "import sympy\n",
    "import sympy2jax\n",
    "\n",
    "x_sym = sympy.symbols(\"x_sym\")\n",
    "cosx = 1.0 * sympy.cos(x_sym)\n",
    "sinx = 2.0 * sympy.sin(x_sym)\n",
    "mod = sympy2jax.SymbolicModule([cosx, sinx])  # PyTree of input expressions\n",
    "\n",
    "x = jax.numpy.zeros(3)\n",
    "out = mod(x_sym=x)  # PyTree of results.\n",
    "params = jax.tree.leaves(mod)  # 1.0 and 2.0 are parameters.\n"
   ]
  },
  {
   "cell_type": "code",
   "execution_count": 50,
   "metadata": {},
   "outputs": [
    {
     "data": {
      "text/plain": [
       "SymbolicModule(\n",
       "  nodes=[\n",
       "    _Func(\n",
       "      _func=<function fn_>,\n",
       "      _args=[\n",
       "        _Float(_value=weak_f64[]),\n",
       "        _Func(_func=<wrapped function cos>, _args=[_Symbol(_name='x_sym')])\n",
       "      ]\n",
       "    ),\n",
       "    _Func(\n",
       "      _func=<function fn_>,\n",
       "      _args=[\n",
       "        _Float(_value=weak_f64[]),\n",
       "        _Func(_func=<wrapped function sin>, _args=[_Symbol(_name='x_sym')])\n",
       "      ]\n",
       "    )\n",
       "  ],\n",
       "  has_extra_funcs=False\n",
       ")"
      ]
     },
     "execution_count": 50,
     "metadata": {},
     "output_type": "execute_result"
    }
   ],
   "source": [
    "mod"
   ]
  }
 ],
 "metadata": {
  "kernelspec": {
   "display_name": "kernel_eq",
   "language": "python",
   "name": "python3"
  },
  "language_info": {
   "codemirror_mode": {
    "name": "ipython",
    "version": 3
   },
   "file_extension": ".py",
   "mimetype": "text/x-python",
   "name": "python",
   "nbconvert_exporter": "python",
   "pygments_lexer": "ipython3",
   "version": "3.13.0"
  }
 },
 "nbformat": 4,
 "nbformat_minor": 2
}
