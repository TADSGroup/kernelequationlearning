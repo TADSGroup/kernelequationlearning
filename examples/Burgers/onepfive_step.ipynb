{
  "cells": [
    {
      "attachments": {},
      "cell_type": "markdown",
      "metadata": {
        "id": "_Lr5zZpo4oaV"
      },
      "source": [
        "## Burgers: One-pfive step Method"
      ]
    },
    {
      "cell_type": "code",
      "execution_count": 1,
      "metadata": {},
      "outputs": [
        {
          "name": "stdout",
          "output_type": "stream",
          "text": [
            "(100, 320)\n"
          ]
        }
      ],
      "source": [
        "import sys\n",
        "import os\n",
        "import numpy as np\n",
        "import matplotlib.pyplot as plt \n",
        "from sklearn.kernel_ridge import KernelRidge\n",
        "from sklearn.metrics.pairwise import polynomial_kernel\n",
        "from tqdm import tqdm\n",
        "import jax.numpy as jnp\n",
        "from jax import grad, jit\n",
        "from jaxopt import LBFGS\n",
        "from jaxopt import GradientDescent\n",
        "from functools import partial\n",
        "from jax.config import config;\n",
        "sys.path.append('/home/juanfelipe/Desktop/research/keql/source')\n",
        "from parameter_learning import *\n",
        "from plotlib import *\n",
        "from models import * \n",
        "from kernels import *\n",
        "from data_loader_Burgers import *\n",
        "from loss import *\n",
        "from utils import *\n",
        "\n",
        "\n",
        "os.environ[\"XLA_PYTHON_CLIENT_PREALLOCATE\"] = \"false\"\n",
        "config.update(\"jax_enable_x64\", True)"
      ]
    },
    {
      "cell_type": "code",
      "execution_count": 2,
      "metadata": {},
      "outputs": [],
      "source": [
        "# Import values from 2-step\n",
        "two_step_dict = np.load('data/two_step_dict.npy', allow_pickle=True)\n",
        "two_step_dict = two_step_dict.item()"
      ]
    },
    {
      "cell_type": "code",
      "execution_count": 3,
      "metadata": {},
      "outputs": [
        {
          "data": {
            "text/plain": [
              "{'optim_sgm_u': array([3.248985  , 4.83397914]),\n",
              " 'optim_nugget_u': array([1.e-14, 1.e-08]),\n",
              " 'rkhs_u': [68882.41757428925],\n",
              " 'optim_sgm_P': 2,\n",
              " 'optim_nugget_P': 1e-16,\n",
              " 'nugget_P': 1e-07,\n",
              " 'rkhs_P_train': 0.0633075124203382,\n",
              " 'f_gh_tr_pred': array([-3.80720620e-03, -3.30603005e-03, -2.87649140e-03, -2.52349606e-03,\n",
              "        -2.20986211e-03, -1.96440024e-03, -1.78908856e-03, -1.68292259e-03,\n",
              "        -1.64264627e-03, -1.65678450e-03, -1.72042619e-03, -1.82218264e-03,\n",
              "        -1.94141847e-03, -2.08069103e-03, -2.22099764e-03, -2.35204713e-03,\n",
              "        -2.46635013e-03, -2.55489106e-03, -2.62804485e-03, -2.68202902e-03,\n",
              "        -6.51604611e-03, -6.14951809e-03, -5.87797151e-03, -5.69919914e-03,\n",
              "        -5.57713453e-03, -5.51212416e-03, -5.49095811e-03, -5.50023836e-03,\n",
              "        -5.52476727e-03, -5.55497959e-03, -5.57678937e-03, -5.57791135e-03,\n",
              "        -5.55004270e-03, -5.48064229e-03, -5.36319942e-03, -5.19347477e-03,\n",
              "        -4.97067135e-03, -4.71494963e-03, -4.40013857e-03, -4.04960312e-03,\n",
              "        -1.45382728e-02, -1.45103545e-02, -1.44177670e-02, -1.43238251e-02,\n",
              "        -1.42166203e-02, -1.40889276e-02, -1.39250942e-02, -1.37098891e-02,\n",
              "        -1.34481204e-02, -1.30958884e-02, -1.26580004e-02, -1.21274567e-02,\n",
              "        -1.15397267e-02, -1.08204613e-02, -1.00064056e-02, -9.10505086e-03,\n",
              "        -8.12909876e-03, -7.15860189e-03, -6.09423670e-03, -5.02216915e-03,\n",
              "        -1.48632774e-02, -1.44529314e-02, -1.39373764e-02, -1.33762470e-02,\n",
              "        -1.27070895e-02, -1.19722065e-02, -1.11829626e-02, -1.03513650e-02,\n",
              "        -9.54079288e-03, -8.66125401e-03, -7.77414926e-03, -6.89014673e-03,\n",
              "        -6.06928927e-03, -5.21619630e-03, -4.38869987e-03, -3.59194073e-03,\n",
              "        -2.83093379e-03, -2.15237335e-03, -1.47770384e-03, -8.58084663e-04,\n",
              "        -6.98745818e-03, -5.84976441e-03, -4.66636266e-03, -3.52741614e-03,\n",
              "        -2.31935120e-03, -1.14724246e-03, -4.32834609e-05,  9.65140903e-04,\n",
              "         1.80731791e-03,  2.57315778e-03,  3.19634952e-03,  3.67337006e-03,\n",
              "         3.99137672e-03,  4.19848719e-03,  4.28436959e-03,  4.26643270e-03,\n",
              "         4.16412437e-03,  4.00844816e-03,  3.79752555e-03,  3.55534956e-03,\n",
              "         1.83473932e-03,  2.66652788e-03,  3.45280400e-03,  4.13541936e-03,\n",
              "         4.79071922e-03,  5.36995054e-03,  5.87055288e-03,  6.28912776e-03,\n",
              "         6.60374037e-03,  6.84813233e-03,  6.99446838e-03,  7.03892004e-03,\n",
              "         6.98687655e-03,  6.83451107e-03,  6.58880970e-03,  6.26032295e-03,\n",
              "         5.86267248e-03,  5.43919684e-03,  4.95249322e-03,  4.44340726e-03,\n",
              "         2.95266482e-03,  3.54392042e-03,  4.05667262e-03,  4.46668608e-03,\n",
              "         4.82177733e-03,  5.09462458e-03,  5.29098959e-03,  5.41792013e-03,\n",
              "         5.47926731e-03,  5.48650410e-03,  5.43623948e-03,  5.32965925e-03,\n",
              "         5.17880847e-03,  4.96643336e-03,  4.70332852e-03,  4.39415426e-03,\n",
              "         4.04524664e-03,  3.68743708e-03,  3.28404718e-03,  2.86513952e-03,\n",
              "         8.46429657e-04,  1.36233631e-03,  1.88422224e-03,  2.33925557e-03,\n",
              "         2.76444774e-03,  3.11860729e-03,  3.39423027e-03,  3.58643471e-03,\n",
              "         3.68932515e-03,  3.71699078e-03,  3.66513458e-03,  3.54149379e-03,\n",
              "         3.36850847e-03,  3.13526248e-03,  2.86230839e-03,  2.56043948e-03,\n",
              "         2.23913387e-03,  1.92599004e-03,  1.58765280e-03,  1.24782340e-03,\n",
              "        -4.57881995e-03, -3.93434324e-03, -3.34167155e-03, -2.81734870e-03,\n",
              "        -2.29633428e-03, -1.81708781e-03, -1.38541713e-03, -1.00666376e-03,\n",
              "        -7.02009229e-04, -4.35135965e-04, -2.26455194e-04, -7.35744760e-05,\n",
              "         2.28980213e-05,  7.97094801e-05,  9.45595718e-05,  7.23669259e-05,\n",
              "         1.73173283e-05, -6.16086506e-05, -1.72124073e-04, -3.08715569e-04,\n",
              "        -6.21967511e-03, -6.02369585e-03, -5.80488740e-03, -5.58191022e-03,\n",
              "        -5.33039875e-03, -5.06667444e-03, -4.79327046e-03, -4.51234523e-03,\n",
              "        -4.24255795e-03, -3.95130681e-03, -3.65629205e-03, -3.35888972e-03,\n",
              "        -3.07899614e-03, -2.78561066e-03, -2.50255339e-03, -2.23826112e-03,\n",
              "        -2.00275716e-03, -1.81689566e-03, -1.66688845e-03, -1.57365251e-03,\n",
              "        -4.79593482e-03, -5.01276341e-03, -5.19388820e-03, -5.32876638e-03,\n",
              "        -5.43108751e-03, -5.49359724e-03, -5.52008682e-03, -5.51357869e-03,\n",
              "        -5.47866894e-03, -5.41106806e-03, -5.31136141e-03, -5.17919399e-03,\n",
              "        -5.02622403e-03, -4.83696320e-03, -4.62702564e-03, -4.40646438e-03,\n",
              "        -4.18757068e-03, -3.99482550e-03, -3.81589991e-03, -3.67362584e-03,\n",
              "        -3.08996961e-03, -3.24725401e-03, -3.39531263e-03, -3.56012509e-03,\n",
              "        -3.77196838e-03, -4.02414700e-03, -4.31531430e-03, -4.64075636e-03,\n",
              "        -4.97133516e-03, -5.33815864e-03, -5.70814360e-03, -6.06650660e-03,\n",
              "        -6.37945375e-03, -6.67227419e-03, -6.91203945e-03, -7.08960211e-03,\n",
              "        -7.19991154e-03, -7.24168770e-03, -7.22357444e-03, -7.14835907e-03,\n",
              "        -1.68911642e-03, -1.29672867e-03, -9.48259040e-04, -6.66830878e-04,\n",
              "        -4.27445109e-04, -2.56152346e-04, -1.56712253e-04, -1.31963438e-04,\n",
              "        -1.79286585e-04, -3.06401413e-04, -5.12604844e-04, -7.94671568e-04,\n",
              "        -1.12307338e-03, -1.52825416e-03, -1.97699751e-03, -2.45208917e-03,\n",
              "        -2.93511283e-03, -3.38074886e-03, -3.82914727e-03, -4.23866488e-03,\n",
              "        -1.28081250e-03, -6.61848342e-04,  4.83328749e-06,  6.76780928e-04,\n",
              "         1.43860163e-03,  2.24467822e-03,  3.08319112e-03,  3.93448526e-03,\n",
              "         4.72248012e-03,  5.51238928e-03,  6.21466889e-03,  6.78876210e-03,\n",
              "         7.17863652e-03,  7.40465001e-03,  7.41801719e-03,  7.21245061e-03,\n",
              "         6.79526782e-03,  6.22709417e-03,  5.46562380e-03,  4.57811765e-03,\n",
              "        -1.83500758e-03, -1.05884162e-03, -2.28033585e-04,  5.66818245e-04,\n",
              "         1.41397318e-03,  2.25859675e-03,  3.09627892e-03,  3.92130326e-03,\n",
              "         4.67872584e-03,  5.45196673e-03,  6.17758646e-03,  6.83689311e-03,\n",
              "         7.37791176e-03,  7.84692472e-03,  8.18505914e-03,  8.37185323e-03,\n",
              "         8.39059229e-03,  8.24471238e-03,  7.91214168e-03,  7.40063881e-03,\n",
              "        -1.05435073e-03, -3.41855997e-04,  2.82646477e-04,  7.79606634e-04,\n",
              "         1.22177502e-03,  1.59728378e-03,  1.93285344e-03,  2.25283774e-03,\n",
              "         2.55451951e-03,  2.88096028e-03,  3.20827661e-03,  3.52249040e-03,\n",
              "         3.78910225e-03,  4.02181794e-03,  4.18377291e-03,  4.25954651e-03,\n",
              "         4.23847975e-03,  4.12513907e-03,  3.90459058e-03,  3.58430183e-03,\n",
              "        -2.77398888e-03, -2.33782749e-03, -1.98092332e-03, -1.70467347e-03,\n",
              "        -1.45017904e-03, -1.21398907e-03, -9.79114680e-04, -7.36595655e-04,\n",
              "        -5.01259732e-04, -2.50780210e-04, -1.16898650e-05,  2.02802786e-04,\n",
              "         3.71986225e-04,  5.09538549e-04,  5.99832045e-04,  6.42446069e-04,\n",
              "         6.39384862e-04,  5.97787702e-04,  5.16212358e-04,  4.00125011e-04,\n",
              "        -3.70569224e-03, -2.64804669e-03, -1.60990535e-03, -7.01313002e-04,\n",
              "         1.51458512e-04,  8.57341560e-04,  1.39890141e-03,  1.77412419e-03,\n",
              "         1.98580545e-03,  2.08137736e-03,  2.07123946e-03,  1.98527728e-03,\n",
              "         1.86027209e-03,  1.70317938e-03,  1.53866151e-03,  1.37850975e-03,\n",
              "         1.22878698e-03,  1.09872009e-03,  9.70336861e-04,  8.48346978e-04,\n",
              "         1.26270875e-04,  1.09000810e-03,  1.84795570e-03,  2.35761800e-03,\n",
              "         2.68723472e-03,  2.82401240e-03,  2.80820563e-03,  2.68636338e-03,\n",
              "         2.51541989e-03,  2.31071455e-03,  2.11043198e-03,  1.93276452e-03,\n",
              "         1.79381441e-03,  1.67676544e-03,  1.58610075e-03,  1.51285908e-03,\n",
              "         1.44623598e-03,  1.37978145e-03,  1.29595397e-03,  1.19113667e-03,\n",
              "        -6.39929769e-03, -5.88046307e-03, -5.47403476e-03, -5.11782875e-03,\n",
              "        -4.74734416e-03, -4.37641872e-03, -4.00150286e-03, -3.62208495e-03,\n",
              "        -3.26151728e-03, -2.87530551e-03, -2.48592234e-03, -2.09346475e-03,\n",
              "        -1.72270293e-03, -1.33168516e-03, -9.52024162e-04, -5.95810201e-04,\n",
              "        -2.77185133e-04, -2.40463801e-05,  1.84595580e-04,  3.24436116e-04,\n",
              "        -5.56750555e-03, -5.08495724e-03, -4.64983741e-03, -4.27632570e-03,\n",
              "        -3.91485011e-03, -3.58804571e-03, -3.29453576e-03, -3.03315072e-03,\n",
              "        -2.81554742e-03, -2.61361470e-03, -2.44098722e-03, -2.29688754e-03,\n",
              "        -2.18671837e-03, -2.09616927e-03, -2.03248908e-03, -1.99535316e-03,\n",
              "        -1.98456628e-03, -1.99842315e-03, -2.03871036e-03, -2.10550845e-03,\n",
              "        -4.83147690e-03, -4.41682492e-03, -4.03049482e-03, -3.69324095e-03,\n",
              "        -3.36320161e-03, -3.06243934e-03, -2.79093191e-03, -2.54851829e-03,\n",
              "        -2.34669637e-03, -2.15990528e-03, -2.00121778e-03, -1.87024979e-03,\n",
              "        -1.77199454e-03, -1.69389443e-03, -1.64267718e-03, -1.61821082e-03,\n",
              "        -1.62044541e-03, -1.64696043e-03, -1.70114994e-03, -1.78227252e-03,\n",
              "        -4.53880646e-03, -4.15905195e-03, -3.80023626e-03, -3.48276551e-03,\n",
              "        -3.16792319e-03, -2.87701073e-03, -2.61061254e-03, -2.36912318e-03,\n",
              "        -2.16481176e-03, -1.97227411e-03, -1.80511582e-03, -1.66344060e-03,\n",
              "        -1.55352587e-03, -1.46188867e-03, -1.39655366e-03, -1.35806095e-03,\n",
              "        -1.34707906e-03, -1.36255744e-03, -1.40720170e-03, -1.48168369e-03,\n",
              "        -4.15330743e-03, -3.87870048e-03, -3.61379946e-03, -3.37580723e-03,\n",
              "        -3.13740305e-03, -2.91610465e-03, -2.71381762e-03, -2.53205561e-03,\n",
              "        -2.38072592e-03, -2.24158626e-03, -2.12509329e-03, -2.03130371e-03,\n",
              "        -1.96363555e-03, -1.91338256e-03, -1.88516564e-03, -1.87879862e-03,\n",
              "        -1.89425684e-03, -1.92891020e-03, -1.98749247e-03, -2.06913874e-03,\n",
              "        -3.29858541e-03, -3.10622759e-03, -2.92142269e-03, -2.75651602e-03,\n",
              "        -2.59346391e-03, -2.44565532e-03, -2.31570337e-03, -2.20590137e-03,\n",
              "        -2.12263266e-03, -2.05677813e-03, -2.01502626e-03, -1.99765893e-03,\n",
              "        -2.00340305e-03, -2.03238663e-03, -2.08402830e-03, -2.15719343e-03,\n",
              "        -2.25066392e-03, -2.35612307e-03, -2.48575440e-03, -2.63268842e-03,\n",
              "        -2.38874385e-03, -2.17788384e-03, -1.98371913e-03, -1.81861006e-03,\n",
              "        -1.66319791e-03, -1.52967198e-03, -1.41946187e-03, -1.33406853e-03,\n",
              "        -1.27765296e-03, -1.24433654e-03, -1.23935898e-03, -1.26326456e-03,\n",
              "        -1.31226373e-03, -1.39220572e-03, -1.50020379e-03, -1.63522971e-03,\n",
              "        -1.79596714e-03, -1.96936622e-03, -2.17551293e-03, -2.40253442e-03,\n",
              "        -1.72722495e-03, -1.49725961e-03, -1.28369367e-03, -1.10120708e-03,\n",
              "        -9.29264646e-04, -7.81437884e-04, -6.58872847e-04, -5.62547447e-04,\n",
              "        -4.96666132e-04, -4.53814855e-04, -4.39750491e-04, -4.55269808e-04,\n",
              "        -4.97561063e-04, -5.72521593e-04, -6.78910119e-04, -8.17038496e-04,\n",
              "        -9.86974376e-04, -1.17577275e-03, -1.40651058e-03, -1.66740938e-03,\n",
              "        -9.40654324e-04, -6.81290210e-04, -4.64155993e-04, -2.96608136e-04,\n",
              "        -1.55584903e-04, -4.98588874e-05,  2.38629606e-05,  6.89125886e-05,\n",
              "         8.78474810e-05,  8.54135397e-05,  6.14741456e-05,  1.69474939e-05,\n",
              "        -4.37271740e-05, -1.28874539e-04, -2.36776976e-04, -3.69433204e-04,\n",
              "        -5.29154452e-04, -7.06340135e-04, -9.25250011e-04, -1.17752747e-03,\n",
              "        -5.35004059e-04, -1.70946096e-04,  1.26829855e-04,  3.47287644e-04,\n",
              "         5.20458332e-04,  6.34774675e-04,  6.95731969e-04,  7.09845476e-04,\n",
              "         6.86627509e-04,  6.29798430e-04,  5.46049095e-04,  4.40622071e-04,\n",
              "         3.25002705e-04,  1.86811980e-04,  3.33225636e-05, -1.36480011e-04,\n",
              "        -3.24915863e-04, -5.22206388e-04, -7.56611049e-04, -1.02033649e-03,\n",
              "        -9.68854549e-04, -5.46622291e-04, -1.89008491e-04,  8.82392230e-05,\n",
              "         3.20887069e-04,  4.92708534e-04,  6.08326676e-04,  6.73550891e-04,\n",
              "         6.94695657e-04,  6.80645665e-04,  6.34942717e-04,  5.62712380e-04,\n",
              "         4.73886657e-04,  3.59457773e-04,  2.24903909e-04,  6.91993796e-05,\n",
              "        -1.10035270e-04, -3.03225940e-04, -5.38222134e-04, -8.07716871e-04,\n",
              "        -1.69739234e-03, -1.34775453e-03, -1.03907797e-03, -7.85477566e-04,\n",
              "        -5.54261016e-04, -3.60896604e-04, -2.03132538e-04, -7.81423199e-05,\n",
              "         1.23143378e-05,  8.23311682e-05,  1.27794235e-04,  1.50185779e-04,\n",
              "         1.50504180e-04,  1.27960192e-04,  7.98184974e-05,  2.99514426e-06,\n",
              "        -1.06347176e-04, -2.42747820e-04, -4.27270062e-04, -6.56327424e-04,\n",
              "        -2.78838169e-03, -2.58221124e-03, -2.37922704e-03, -2.19184651e-03,\n",
              "        -1.99763790e-03, -1.80943007e-03, -1.62816060e-03, -1.45490995e-03,\n",
              "        -1.30046886e-03, -1.14742281e-03, -1.00834398e-03, -8.86539735e-04,\n",
              "        -7.91192480e-04, -7.14578376e-04, -6.68024775e-04, -6.56329242e-04,\n",
              "        -6.84134023e-04, -7.50189294e-04, -8.66194399e-04, -1.03213609e-03,\n",
              "        -2.79572540e-03, -2.81199059e-03, -2.81488551e-03, -2.80322021e-03,\n",
              "        -2.77428861e-03, -2.72841593e-03, -2.66727928e-03, -2.59407066e-03,\n",
              "        -2.51807970e-03, -2.43476889e-03, -2.35432050e-03, -2.28238854e-03,\n",
              "        -2.22729441e-03, -2.18682137e-03, -2.16916676e-03, -2.17793637e-03,\n",
              "        -2.21601724e-03, -2.28058384e-03, -2.38111004e-03, -2.51529249e-03,\n",
              "        -1.17719841e-04, -1.58771322e-04, -2.21989638e-04, -2.98668254e-04,\n",
              "        -3.97887493e-04, -5.15547010e-04, -6.51973609e-04, -8.07626383e-04,\n",
              "        -9.72062037e-04, -1.16592078e-03, -1.37898301e-03, -1.60988895e-03,\n",
              "        -1.84148953e-03, -2.09978917e-03, -2.36700438e-03, -2.63898706e-03,\n",
              "        -2.91149418e-03, -3.16483975e-03, -3.42732110e-03, -3.68013820e-03,\n",
              "         2.93941110e-03,  3.16967052e-03,  3.32634343e-03,  3.40064975e-03,\n",
              "         3.39993193e-03,  3.31726326e-03,  3.15432935e-03,  2.91410290e-03,\n",
              "         2.62119179e-03,  2.24438620e-03,  1.80720867e-03,  1.31880246e-03,\n",
              "         8.22074915e-04,  2.66698007e-04, -3.03993058e-04, -8.76185737e-04,\n",
              "        -1.43634377e-03, -1.94132778e-03, -2.44393852e-03, -2.90320082e-03,\n",
              "         4.28039788e-03,  4.64507755e-03,  4.94763047e-03,  5.17032031e-03,\n",
              "         5.33643060e-03,  5.42616944e-03,  5.43629639e-03,  5.36434424e-03,\n",
              "         5.22061607e-03,  4.98792105e-03,  4.67607400e-03,  4.29119614e-03,\n",
              "         3.87025095e-03,  3.37153896e-03,  2.83301373e-03,  2.26939454e-03,\n",
              "         1.69578874e-03,  1.15984442e-03,  6.07054453e-04,  8.20857644e-05,\n",
              "         3.48176415e-03,  3.98977608e-03,  4.43084777e-03,  4.78145608e-03,\n",
              "         5.08387403e-03,  5.31435101e-03,  5.47441257e-03,  5.56645094e-03,\n",
              "         5.59370939e-03,  5.56316386e-03,  5.47559326e-03,  5.33593832e-03,\n",
              "         5.16177672e-03,  4.93684592e-03,  4.67670419e-03,  4.38737558e-03,\n",
              "         4.07468335e-03,  3.76385748e-03,  3.42048899e-03,  3.06722187e-03,\n",
              "        -7.52316298e-05,  4.80537114e-04,  9.94975691e-04,  1.44109133e-03,\n",
              "         1.87446008e-03,  2.26611672e-03,  2.61653548e-03,  2.92644696e-03,\n",
              "         3.18193406e-03,  3.41588202e-03,  3.61218724e-03,  3.77181813e-03,\n",
              "         3.88930998e-03,  3.97995517e-03,  4.03572663e-03,  4.05664662e-03,\n",
              "         4.04235426e-03,  3.99605506e-03,  3.91085935e-03,  3.78706600e-03,\n",
              "        -2.30837600e-03, -1.80559482e-03, -1.33408941e-03, -9.18547883e-04,\n",
              "        -5.06281335e-04, -1.23163841e-04,  2.31769829e-04,  5.59316207e-04,\n",
              "         8.43086304e-04,  1.11883323e-03,  1.36802104e-03,  1.59027310e-03,\n",
              "         1.77415997e-03,  1.94155044e-03,  2.07855329e-03,  2.18320401e-03,\n",
              "         2.25319806e-03,  2.28511626e-03,  2.28033886e-03,  2.23293994e-03,\n",
              "        -3.87188368e-03, -3.31222877e-03, -2.79665058e-03, -2.34517909e-03,\n",
              "        -1.89767929e-03, -1.48104053e-03, -1.09368794e-03, -7.34574902e-04,\n",
              "        -4.21837737e-04, -1.16200915e-04,  1.61766271e-04,  4.11435736e-04,\n",
              "         6.19653509e-04,  8.11128516e-04,  9.70278916e-04,  1.09515782e-03,\n",
              "         1.18365249e-03,  1.23175229e-03,  1.24342807e-03,  1.21250958e-03]),\n",
              " 'rkhs_P_test': 0.15932582948909435}"
            ]
          },
          "execution_count": 3,
          "metadata": {},
          "output_type": "execute_result"
        }
      ],
      "source": [
        "two_step_dict"
      ]
    },
    {
      "attachments": {},
      "cell_type": "markdown",
      "metadata": {
        "id": "R0dMsZlmnk27"
      },
      "source": [
        "### Cost function"
      ]
    },
    {
      "attachments": {},
      "cell_type": "markdown",
      "metadata": {},
      "source": [
        "Create objective function `L`"
      ]
    },
    {
      "cell_type": "markdown",
      "metadata": {},
      "source": [
        "$$\n",
        "L(Z_0) = f(X_N)^T \\Gamma(S_N,S_N)^{-1} f(X_N) + \\lambda \\sum_{i=1}^m (Z_{0,i*N:(i+1)*N})^T K(X_N,X_N)^{-1}(Z_{0,i*N:(i+1)*N})\n",
        "$$\n",
        "where\n",
        "$$\n",
        "Z_0[M] = U[M].\n",
        "$$"
      ]
    },
    {
      "cell_type": "markdown",
      "metadata": {},
      "source": [
        "1. Get `f_gh_tr_pred` from two step to be the new `f` in the 1.5 step method."
      ]
    },
    {
      "cell_type": "code",
      "execution_count": 4,
      "metadata": {},
      "outputs": [],
      "source": [
        "# First column in Gamma(S_N,S_N)\n",
        "X = X_gh_tr # (N_gh_tr*m, 2)\n",
        "\n",
        "# Second column in Gamma(S_N,S_N)\n",
        "U = U_gh_tr.reshape(N_gh_tr*m,) # (N_gh_tr*m, )\n",
        "\n",
        "# f(X_N)\n",
        "#f = f_Test(model,e_test)\n",
        "f = two_step_dict['f_gh_tr_pred']"
      ]
    },
    {
      "cell_type": "code",
      "execution_count": 5,
      "metadata": {},
      "outputs": [],
      "source": [
        "# Load values of U predicted from 2-step at te points: originally wrong\n",
        "U_gh_tr_pred = np.load('data/U_gh_tr_pred.npy')\n",
        "U_x_gh_tr_pred = np.load('data/U_x_gh_tr_pred.npy')\n",
        "U_xx_gh_tr_pred = np.load('data/U_xx_gh_tr_pred.npy')\n",
        "# Build Z_warm\n",
        "Z_warm = jnp.array(U_gh_tr_pred.T.reshape(N_gh_tr*m,)) "
      ]
    },
    {
      "cell_type": "code",
      "execution_count": 6,
      "metadata": {},
      "outputs": [],
      "source": [
        "# # Load values of U predicted from 2-step at te points: originally wrong\n",
        "# U_te_pred = np.load('data/U_te_pred.npy')\n",
        "# U_x_te_pred = np.load('data/U_x_te_pred.npy')\n",
        "# U_xx_te_pred = np.load('data/U_xx_te_pred.npy')\n",
        "# # Build Z_warm\n",
        "# Z_warm = jnp.array(U_te_pred.T.reshape(N_te*m,)) "
      ]
    },
    {
      "cell_type": "markdown",
      "metadata": {},
      "source": [
        "First iteration RKHS norm of P "
      ]
    },
    {
      "cell_type": "markdown",
      "metadata": {},
      "source": [
        "Gaussian"
      ]
    },
    {
      "cell_type": "code",
      "execution_count": 7,
      "metadata": {},
      "outputs": [],
      "source": [
        "S = jnp.zeros((N_gh_tr*m, 5))\n",
        "\n",
        "# Split Z\n",
        "for i in range(m):\n",
        "    Zi = Z_warm[i*N_gh_tr:(i+1)*N_gh_tr]\n",
        "    optim_sgm = two_step_dict.get('optim_sgm_u')[i]\n",
        "    optim_nugget = two_step_dict.get('optim_nugget_u')[i]\n",
        "    G = K_2D(Gaussian2D, X[:N_gh_tr], X[:N_gh_tr], optim_sgm) \n",
        "    alphas = jnp.linalg.solve(G + optim_nugget*jnp.eye(N_gh_tr),Zi)\n",
        "\n",
        "    Zi_x = jnp.dot(K_dot2D(Gaussian2D, X[:N_gh_tr], X[:N_gh_tr], optim_sgm, 1), alphas)\n",
        "    Zi_xx = jnp.dot(K_2dot2D(Gaussian2D, X[:N_gh_tr], X[:N_gh_tr], optim_sgm, 1,1), alphas)\n",
        "\n",
        "    Si = jnp.vstack((X[:N_gh_tr].T, Zi, Zi_x,Zi_xx)).T\n",
        "    # print shapes and values here\n",
        "    S = S.at[i*N_gh_tr:(i+1)*N_gh_tr,:].set(Si)\n",
        "# Scaling S_N\n",
        "scaler_s_train = MinMaxScaler()\n",
        "S = scaler_s_train.fit_transform(S)\n",
        "S = jnp.array(S)\n",
        "# Gamma(S_N,S_N)\n",
        "optim_sgm_P = two_step_dict.get('optim_sgm_P')\n",
        "Gamma = K(Gaussian, S, S, optim_sgm_P)\n",
        "nugget_P = two_step_dict.get('optim_nugget_P') \n",
        "Gamma = Gamma + nugget_P*jnp.eye(jnp.size(Gamma,0))\n",
        "#print(\"cond(Gamma) = \", jnp.linalg.cond(Gamma))\n",
        "\n",
        "# (Gamma(S_N,S_N) + alpha_Gamma*I)^-1 * f\n",
        "b = jnp.linalg.solve(Gamma,f)\n",
        "\n",
        "rkhs_P_first_iter = jnp.dot(f.T , b)"
      ]
    },
    {
      "cell_type": "markdown",
      "metadata": {},
      "source": [
        "Poly2"
      ]
    },
    {
      "cell_type": "code",
      "execution_count": 8,
      "metadata": {},
      "outputs": [],
      "source": [
        "S = jnp.zeros((N_gh_tr*m, 5))\n",
        "\n",
        "# Split Z\n",
        "for i in range(m):\n",
        "    Zi = Z_warm[i*N_gh_tr:(i+1)*N_gh_tr]\n",
        "    optim_sgm = two_step_dict.get('optim_sgm_u')[i]\n",
        "    optim_nugget = two_step_dict.get('optim_nugget_u')[i]\n",
        "    G = K_2D(Gaussian2D, X[:N_gh_tr], X[:N_gh_tr], optim_sgm) \n",
        "    alphas = jnp.linalg.solve(G + optim_nugget*jnp.eye(N_gh_tr),Zi)\n",
        "\n",
        "    Zi_x = jnp.dot(K_dot2D(Gaussian2D, X[:N_gh_tr], X[:N_gh_tr], optim_sgm, 1), alphas)\n",
        "    Zi_xx = jnp.dot(K_2dot2D(Gaussian2D, X[:N_gh_tr], X[:N_gh_tr], optim_sgm, 1,1), alphas)\n",
        "\n",
        "    Si = jnp.vstack((X[:N_gh_tr].T, Zi, Zi_x,Zi_xx)).T\n",
        "    # print shapes and values here\n",
        "    S = S.at[i*N_gh_tr:(i+1)*N_gh_tr,:].set(Si)\n",
        "# Scaling S_N\n",
        "scaler_s_train = MinMaxScaler()\n",
        "S = scaler_s_train.fit_transform(S)\n",
        "S = jnp.array(S)\n",
        "# Gamma(S_N,S_N)\n",
        "#optim_sgm_P = two_step_dict.get('optim_sgm_P')\n",
        "Gamma = K(Polynomial,S, S, jnp.array([1,2]))\n",
        "#nugget_P = two_step_dict.get('optim_nugget_P') \n",
        "Gamma = Gamma + nugget_P*jnp.eye(jnp.size(Gamma,0))\n",
        "#print(\"cond(Gamma) = \", jnp.linalg.cond(Gamma))\n",
        "\n",
        "# (Gamma(S_N,S_N) + alpha_Gamma*I)^-1 * f\n",
        "b = jnp.linalg.solve(Gamma,f)\n",
        "\n",
        "rkhs_P_first_iter = jnp.dot(f.T , b)"
      ]
    },
    {
      "cell_type": "markdown",
      "metadata": {},
      "source": [
        "First iteration RKHS norm of u"
      ]
    },
    {
      "cell_type": "code",
      "execution_count": 9,
      "metadata": {},
      "outputs": [],
      "source": [
        "# Second term\n",
        "sigma_K = jnp.array(two_step_dict.get('optim_sgm_u'))\n",
        "nugget_K = two_step_dict.get('optim_nugget_u')\n",
        "K_XNs = []\n",
        "for i in range(m):\n",
        "    K_XN = K(Gaussian,X_gh_tr[:N_gh_tr],X_gh_tr[:N_gh_tr],sigma_K[i]) \n",
        "    K_XNs.append(K_XN + nugget_K[i]*jnp.eye(N_gh_tr))\n",
        "\n",
        "rkhs_u_first_iter = []\n",
        "for i in range(m):\n",
        "    Zi = Z_warm[i*N_gh_tr:(i+1)*N_gh_tr]\n",
        "    c = jnp.linalg.solve(K_XNs[i],Zi)\n",
        "    rkhs_u_first_iter.append(jnp.reshape(jnp.dot(Zi.T , c),()))"
      ]
    },
    {
      "cell_type": "code",
      "execution_count": 10,
      "metadata": {},
      "outputs": [
        {
          "data": {
            "text/plain": [
              "(50, 2)"
            ]
          },
          "execution_count": 10,
          "metadata": {},
          "output_type": "execute_result"
        }
      ],
      "source": [
        "X_tr.shape"
      ]
    },
    {
      "cell_type": "code",
      "execution_count": 11,
      "metadata": {},
      "outputs": [],
      "source": [
        "def L(Z, X, U, M, f, two_step_dict, lmbd):\n",
        "    \"\"\"Cost function for 1.5-step method.\n",
        "    \n",
        "    Args:\n",
        "        Z: Vector [Z^1 Z^2 Z^3]^T. m*N\n",
        "        X: List of mN points of dimension d.\n",
        "        U: List of N1+N2+N3 values of functions u^(1),...u^(N).\n",
        "        M: Bolean array which contains where true values reside.\n",
        "        f: List of mN values of functions u^(1),...u^(N).\n",
        "        two_step_dict: Dictionary with values from 2-step.\n",
        "        lmbd: Lagrange multiplier in the loss function.\n",
        "    Returns:\n",
        "        scalar: a cost of this solution.    \n",
        "    \"\"\" \n",
        "\n",
        "    ### Set up\n",
        "    N = 20*20\n",
        "    m = 2\n",
        "    #print('Z:', Z)\n",
        "    # Constrain the value of Z with known info\n",
        "    Z = jnp.where(M, U, Z)\n",
        "    # Just use Z_warm instead of using line 21.\n",
        "    # Cd + 1 = 4\n",
        "    S = jnp.zeros((N_gh_tr*m, 5))\n",
        "    \n",
        "    # Split Z\n",
        "    for i in range(m):\n",
        "        Zi = Z[i*N_gh_tr:(i+1)*N_gh_tr]\n",
        "        optim_sgm = two_step_dict.get('optim_sgm_u')[i]\n",
        "        optim_nugget = two_step_dict.get('optim_nugget_u')[i]\n",
        "        G = K_2D(Gaussian2D, X[:N_gh_tr], X[:N_gh_tr], optim_sgm) \n",
        "        alphas = jnp.linalg.solve(G + optim_nugget*jnp.eye(N),Zi)\n",
        "\n",
        "        Zi_x = jnp.dot(K_dot2D(Gaussian2D, X[:N_gh_tr], X[:N_gh_tr], optim_sgm, 1), alphas)\n",
        "        Zi_xx = jnp.dot(K_2dot2D(Gaussian2D, X[:N_gh_tr], X[:N_gh_tr], optim_sgm, 1,1), alphas)\n",
        "\n",
        "        Si = jnp.vstack((X[:N].T,Zi, Zi_x,Zi_xx)).T\n",
        "        # print shapes and values here\n",
        "        S = S.at[i*N_gh_tr:(i+1)*N_gh_tr,:].set(Si)\n",
        "    # Scaling S_N\n",
        "    scaler_s_train = MinMaxScaler()\n",
        "    S = scaler_s_train.fit_transform(S)\n",
        "    S = jnp.array(S)\n",
        "    # Gamma(S_N,S_N)\n",
        "    optim_sgm_P = two_step_dict.get('optim_sgm_P')\n",
        "    #Gamma = K(Gaussian, S, S, optim_sgm_P)\n",
        "    Gamma = K(Polynomial,S, S, jnp.array([1,2]))\n",
        "    nugget_P = two_step_dict.get('nugget_P') \n",
        "    Gamma = Gamma + nugget_P*jnp.eye(jnp.size(Gamma,0))\n",
        "    #print(\"cond(Gamma) = \", jnp.linalg.cond(Gamma))\n",
        "\n",
        "    # (Gamma(S_N,S_N) + alpha_Gamma*I)^-1 * f\n",
        "    b = jnp.linalg.solve(Gamma,f)\n",
        "\n",
        "    # First term\n",
        "    #L1 = jnp.dot(f.T , b) / two_step_dict.get('rkhs_P_train')\n",
        "    L1 = jnp.dot(f.T , b) / rkhs_P_first_iter\n",
        "    #print('L1: ', L1)\n",
        "\n",
        "    # Second term\n",
        "    sigma_K = jnp.array(two_step_dict.get('optim_sgm_u'))\n",
        "    nugget_K = two_step_dict.get('optim_nugget_u')\n",
        "    K_XNs = []\n",
        "    for i in range(m):\n",
        "        K_XN = K(Gaussian,X[:N_gh_tr],X[:N_gh_tr],sigma_K[i]) \n",
        "        K_XNs.append(K_XN + nugget_K[i]*jnp.eye(N_gh_tr))\n",
        "    \n",
        "    L2 = 0.\n",
        "    \n",
        "    for i in range(m):\n",
        "        Zi = Z[i*N_gh_tr:(i+1)*N_gh_tr]\n",
        "        c = jnp.linalg.solve(K_XNs[i],Zi)\n",
        "        L2 += jnp.reshape(jnp.dot(Zi.T , c),()) / rkhs_u_first_iter[i]\n",
        "        \n",
        "        #print('L2_',i+1,':',jnp.reshape(jnp.dot(Zi.T , c),()) / rkhs_u_first_iter[i])      \n",
        "    return L1 + lmbd*L2\n",
        "    "
      ]
    },
    {
      "attachments": {},
      "cell_type": "markdown",
      "metadata": {
        "id": "zDReXRvPnk27"
      },
      "source": [
        "#### Gradient descent"
      ]
    },
    {
      "attachments": {},
      "cell_type": "markdown",
      "metadata": {
        "id": "3SObhiRznk27"
      },
      "source": [
        "Training data"
      ]
    },
    {
      "cell_type": "code",
      "execution_count": 12,
      "metadata": {
        "id": "E9BVaRatnk27"
      },
      "outputs": [],
      "source": [
        "# First column in Gamma(S_N,S_N)\n",
        "X = X_gh_tr # (N_gh_tr*m, 2)\n",
        "\n",
        "# Second column in Gamma(S_N,S_N)\n",
        "U = U_gh_tr.reshape(N_gh_tr*m,) # N*m x 1\n",
        "\n",
        "# f(X_N)\n",
        "#f = f_Test(model,e_test)\n",
        "f = two_step_dict['f_gh_tr_pred']"
      ]
    },
    {
      "attachments": {},
      "cell_type": "markdown",
      "metadata": {
        "id": "lA8nCyg_nk28"
      },
      "source": [
        "Initial guess: `Z_warm`"
      ]
    },
    {
      "cell_type": "code",
      "execution_count": 13,
      "metadata": {},
      "outputs": [],
      "source": [
        "# Load values of U predicted from 2-step at te points: originally wrong\n",
        "U_gh_tr_pred = np.load('data/U_gh_tr_pred.npy')\n",
        "U_x_gh_tr_pred = np.load('data/U_x_gh_tr_pred.npy')\n",
        "U_xx_gh_tr_pred = np.load('data/U_xx_gh_tr_pred.npy')\n",
        "# Build Z_warm\n",
        "Z_warm = jnp.array(U_gh_tr_pred.T.reshape(N_gh_tr*m,)) "
      ]
    },
    {
      "cell_type": "code",
      "execution_count": 14,
      "metadata": {},
      "outputs": [],
      "source": [
        "lmbda = 1/m"
      ]
    },
    {
      "cell_type": "code",
      "execution_count": 15,
      "metadata": {},
      "outputs": [
        {
          "ename": "ValueError",
          "evalue": "Incompatible shapes for broadcasting: shapes=[(2, 400), (800,), (800,)]",
          "output_type": "error",
          "traceback": [
            "\u001b[0;31m---------------------------------------------------------------------------\u001b[0m",
            "\u001b[0;31mValueError\u001b[0m                                Traceback (most recent call last)",
            "    \u001b[0;31m[... skipping hidden 1 frame]\u001b[0m\n",
            "File \u001b[0;32m~/anaconda3/envs/jaxenv/lib/python3.11/site-packages/jax/_src/util.py:284\u001b[0m, in \u001b[0;36mcache.<locals>.wrap.<locals>.wrapper\u001b[0;34m(*args, **kwargs)\u001b[0m\n\u001b[1;32m    283\u001b[0m \u001b[38;5;28;01melse\u001b[39;00m:\n\u001b[0;32m--> 284\u001b[0m   \u001b[38;5;28;01mreturn\u001b[39;00m \u001b[43mcached\u001b[49m\u001b[43m(\u001b[49m\u001b[43mconfig\u001b[49m\u001b[38;5;241;43m.\u001b[39;49m\u001b[43m_trace_context\u001b[49m\u001b[43m(\u001b[49m\u001b[43m)\u001b[49m\u001b[43m,\u001b[49m\u001b[43m \u001b[49m\u001b[38;5;241;43m*\u001b[39;49m\u001b[43margs\u001b[49m\u001b[43m,\u001b[49m\u001b[43m \u001b[49m\u001b[38;5;241;43m*\u001b[39;49m\u001b[38;5;241;43m*\u001b[39;49m\u001b[43mkwargs\u001b[49m\u001b[43m)\u001b[49m\n",
            "File \u001b[0;32m~/anaconda3/envs/jaxenv/lib/python3.11/site-packages/jax/_src/util.py:277\u001b[0m, in \u001b[0;36mcache.<locals>.wrap.<locals>.cached\u001b[0;34m(_, *args, **kwargs)\u001b[0m\n\u001b[1;32m    275\u001b[0m \u001b[38;5;129m@functools\u001b[39m\u001b[38;5;241m.\u001b[39mlru_cache(max_size)\n\u001b[1;32m    276\u001b[0m \u001b[38;5;28;01mdef\u001b[39;00m \u001b[38;5;21mcached\u001b[39m(_, \u001b[38;5;241m*\u001b[39margs, \u001b[38;5;241m*\u001b[39m\u001b[38;5;241m*\u001b[39mkwargs):\n\u001b[0;32m--> 277\u001b[0m   \u001b[38;5;28;01mreturn\u001b[39;00m \u001b[43mf\u001b[49m\u001b[43m(\u001b[49m\u001b[38;5;241;43m*\u001b[39;49m\u001b[43margs\u001b[49m\u001b[43m,\u001b[49m\u001b[43m \u001b[49m\u001b[38;5;241;43m*\u001b[39;49m\u001b[38;5;241;43m*\u001b[39;49m\u001b[43mkwargs\u001b[49m\u001b[43m)\u001b[49m\n",
            "File \u001b[0;32m~/anaconda3/envs/jaxenv/lib/python3.11/site-packages/jax/_src/lax/lax.py:153\u001b[0m, in \u001b[0;36m_broadcast_shapes_cached\u001b[0;34m(*shapes)\u001b[0m\n\u001b[1;32m    151\u001b[0m \u001b[38;5;129m@cache\u001b[39m()\n\u001b[1;32m    152\u001b[0m \u001b[38;5;28;01mdef\u001b[39;00m \u001b[38;5;21m_broadcast_shapes_cached\u001b[39m(\u001b[38;5;241m*\u001b[39mshapes: Tuple[\u001b[38;5;28mint\u001b[39m, \u001b[38;5;241m.\u001b[39m\u001b[38;5;241m.\u001b[39m\u001b[38;5;241m.\u001b[39m]) \u001b[38;5;241m-\u001b[39m\u001b[38;5;241m>\u001b[39m Tuple[\u001b[38;5;28mint\u001b[39m, \u001b[38;5;241m.\u001b[39m\u001b[38;5;241m.\u001b[39m\u001b[38;5;241m.\u001b[39m]:\n\u001b[0;32m--> 153\u001b[0m   \u001b[38;5;28;01mreturn\u001b[39;00m \u001b[43m_broadcast_shapes_uncached\u001b[49m\u001b[43m(\u001b[49m\u001b[38;5;241;43m*\u001b[39;49m\u001b[43mshapes\u001b[49m\u001b[43m)\u001b[49m\n",
            "File \u001b[0;32m~/anaconda3/envs/jaxenv/lib/python3.11/site-packages/jax/_src/lax/lax.py:169\u001b[0m, in \u001b[0;36m_broadcast_shapes_uncached\u001b[0;34m(*shapes)\u001b[0m\n\u001b[1;32m    168\u001b[0m \u001b[38;5;28;01mif\u001b[39;00m result_shape \u001b[38;5;129;01mis\u001b[39;00m \u001b[38;5;28;01mNone\u001b[39;00m:\n\u001b[0;32m--> 169\u001b[0m   \u001b[38;5;28;01mraise\u001b[39;00m \u001b[38;5;167;01mValueError\u001b[39;00m(\u001b[38;5;124mf\u001b[39m\u001b[38;5;124m\"\u001b[39m\u001b[38;5;124mIncompatible shapes for broadcasting: shapes=\u001b[39m\u001b[38;5;132;01m{\u001b[39;00m\u001b[38;5;28mlist\u001b[39m(shapes)\u001b[38;5;132;01m}\u001b[39;00m\u001b[38;5;124m\"\u001b[39m)\n\u001b[1;32m    170\u001b[0m \u001b[38;5;28;01mreturn\u001b[39;00m result_shape\n",
            "\u001b[0;31mValueError\u001b[0m: Incompatible shapes for broadcasting: shapes=[(2, 400), (800,), (800,)]",
            "\nDuring handling of the above exception, another exception occurred:\n",
            "\u001b[0;31mValueError\u001b[0m                                Traceback (most recent call last)",
            "Cell \u001b[0;32mIn[15], line 1\u001b[0m\n\u001b[0;32m----> 1\u001b[0m \u001b[43mL\u001b[49m\u001b[43m(\u001b[49m\u001b[43mZ_warm\u001b[49m\u001b[43m,\u001b[49m\u001b[43m \u001b[49m\u001b[43mX\u001b[49m\u001b[43m,\u001b[49m\u001b[43m \u001b[49m\u001b[43mU\u001b[49m\u001b[43m,\u001b[49m\u001b[43m \u001b[49m\u001b[43mM\u001b[49m\u001b[43m,\u001b[49m\u001b[43m \u001b[49m\u001b[43mf\u001b[49m\u001b[43m,\u001b[49m\u001b[43m \u001b[49m\u001b[43mtwo_step_dict\u001b[49m\u001b[43m,\u001b[49m\u001b[43m \u001b[49m\u001b[43mlmbd\u001b[49m\u001b[38;5;241;43m=\u001b[39;49m\u001b[43mlmbda\u001b[49m\u001b[43m)\u001b[49m\n",
            "Cell \u001b[0;32mIn[11], line 21\u001b[0m, in \u001b[0;36mL\u001b[0;34m(Z, X, U, M, f, two_step_dict, lmbd)\u001b[0m\n\u001b[1;32m     18\u001b[0m m \u001b[38;5;241m=\u001b[39m \u001b[38;5;241m2\u001b[39m\n\u001b[1;32m     19\u001b[0m \u001b[38;5;66;03m#print('Z:', Z)\u001b[39;00m\n\u001b[1;32m     20\u001b[0m \u001b[38;5;66;03m# Constrain the value of Z with known info\u001b[39;00m\n\u001b[0;32m---> 21\u001b[0m Z \u001b[38;5;241m=\u001b[39m \u001b[43mjnp\u001b[49m\u001b[38;5;241;43m.\u001b[39;49m\u001b[43mwhere\u001b[49m\u001b[43m(\u001b[49m\u001b[43mM\u001b[49m\u001b[43m,\u001b[49m\u001b[43m \u001b[49m\u001b[43mU\u001b[49m\u001b[43m,\u001b[49m\u001b[43m \u001b[49m\u001b[43mZ\u001b[49m\u001b[43m)\u001b[49m\n\u001b[1;32m     22\u001b[0m \u001b[38;5;66;03m# Just use Z_warm instead of using line 21.\u001b[39;00m\n\u001b[1;32m     23\u001b[0m \u001b[38;5;66;03m# Cd + 1 = 4\u001b[39;00m\n\u001b[1;32m     24\u001b[0m S \u001b[38;5;241m=\u001b[39m jnp\u001b[38;5;241m.\u001b[39mzeros((N_gh_tr\u001b[38;5;241m*\u001b[39mm, \u001b[38;5;241m5\u001b[39m))\n",
            "File \u001b[0;32m~/anaconda3/envs/jaxenv/lib/python3.11/site-packages/jax/_src/numpy/lax_numpy.py:1068\u001b[0m, in \u001b[0;36mwhere\u001b[0;34m(condition, x, y, size, fill_value)\u001b[0m\n\u001b[1;32m   1066\u001b[0m \u001b[38;5;28;01mif\u001b[39;00m size \u001b[38;5;129;01mis\u001b[39;00m \u001b[38;5;129;01mnot\u001b[39;00m \u001b[38;5;28;01mNone\u001b[39;00m \u001b[38;5;129;01mor\u001b[39;00m fill_value \u001b[38;5;129;01mis\u001b[39;00m \u001b[38;5;129;01mnot\u001b[39;00m \u001b[38;5;28;01mNone\u001b[39;00m:\n\u001b[1;32m   1067\u001b[0m   \u001b[38;5;28;01mraise\u001b[39;00m \u001b[38;5;167;01mValueError\u001b[39;00m(\u001b[38;5;124m\"\u001b[39m\u001b[38;5;124msize and fill_value arguments cannot be used in three-term where function.\u001b[39m\u001b[38;5;124m\"\u001b[39m)\n\u001b[0;32m-> 1068\u001b[0m \u001b[38;5;28;01mreturn\u001b[39;00m \u001b[43mutil\u001b[49m\u001b[38;5;241;43m.\u001b[39;49m\u001b[43m_where\u001b[49m\u001b[43m(\u001b[49m\u001b[43mcondition\u001b[49m\u001b[43m,\u001b[49m\u001b[43m \u001b[49m\u001b[43mx\u001b[49m\u001b[43m,\u001b[49m\u001b[43m \u001b[49m\u001b[43my\u001b[49m\u001b[43m)\u001b[49m\n",
            "    \u001b[0;31m[... skipping hidden 12 frame]\u001b[0m\n",
            "File \u001b[0;32m~/anaconda3/envs/jaxenv/lib/python3.11/site-packages/jax/_src/numpy/util.py:421\u001b[0m, in \u001b[0;36m_where\u001b[0;34m(condition, x, y)\u001b[0m\n\u001b[1;32m    419\u001b[0m   condition \u001b[38;5;241m=\u001b[39m lax\u001b[38;5;241m.\u001b[39mne(condition, lax\u001b[38;5;241m.\u001b[39m_zero(condition))\n\u001b[1;32m    420\u001b[0m x, y \u001b[38;5;241m=\u001b[39m promote_dtypes(x, y)\n\u001b[0;32m--> 421\u001b[0m condition_arr, x_arr, y_arr \u001b[38;5;241m=\u001b[39m \u001b[43m_broadcast_arrays\u001b[49m\u001b[43m(\u001b[49m\u001b[43mcondition\u001b[49m\u001b[43m,\u001b[49m\u001b[43m \u001b[49m\u001b[43mx\u001b[49m\u001b[43m,\u001b[49m\u001b[43m \u001b[49m\u001b[43my\u001b[49m\u001b[43m)\u001b[49m\n\u001b[1;32m    422\u001b[0m \u001b[38;5;28;01mtry\u001b[39;00m:\n\u001b[1;32m    423\u001b[0m   is_always_empty \u001b[38;5;241m=\u001b[39m core\u001b[38;5;241m.\u001b[39mis_empty_shape(x_arr\u001b[38;5;241m.\u001b[39mshape)\n",
            "    \u001b[0;31m[... skipping hidden 12 frame]\u001b[0m\n",
            "File \u001b[0;32m~/anaconda3/envs/jaxenv/lib/python3.11/site-packages/jax/_src/numpy/util.py:381\u001b[0m, in \u001b[0;36m_broadcast_arrays\u001b[0;34m(*args)\u001b[0m\n\u001b[1;32m    379\u001b[0m \u001b[38;5;28;01mif\u001b[39;00m \u001b[38;5;129;01mnot\u001b[39;00m shapes \u001b[38;5;129;01mor\u001b[39;00m \u001b[38;5;28mall\u001b[39m(core\u001b[38;5;241m.\u001b[39msymbolic_equal_shape(shapes[\u001b[38;5;241m0\u001b[39m], s) \u001b[38;5;28;01mfor\u001b[39;00m s \u001b[38;5;129;01min\u001b[39;00m shapes):\n\u001b[1;32m    380\u001b[0m   \u001b[38;5;28;01mreturn\u001b[39;00m [lax\u001b[38;5;241m.\u001b[39masarray(arg) \u001b[38;5;28;01mfor\u001b[39;00m arg \u001b[38;5;129;01min\u001b[39;00m args]\n\u001b[0;32m--> 381\u001b[0m result_shape \u001b[38;5;241m=\u001b[39m \u001b[43mlax\u001b[49m\u001b[38;5;241;43m.\u001b[39;49m\u001b[43mbroadcast_shapes\u001b[49m\u001b[43m(\u001b[49m\u001b[38;5;241;43m*\u001b[39;49m\u001b[43mshapes\u001b[49m\u001b[43m)\u001b[49m\n\u001b[1;32m    382\u001b[0m \u001b[38;5;28;01mreturn\u001b[39;00m [_broadcast_to(arg, result_shape) \u001b[38;5;28;01mfor\u001b[39;00m arg \u001b[38;5;129;01min\u001b[39;00m args]\n",
            "    \u001b[0;31m[... skipping hidden 1 frame]\u001b[0m\n",
            "File \u001b[0;32m~/anaconda3/envs/jaxenv/lib/python3.11/site-packages/jax/_src/lax/lax.py:169\u001b[0m, in \u001b[0;36m_broadcast_shapes_uncached\u001b[0;34m(*shapes)\u001b[0m\n\u001b[1;32m    167\u001b[0m result_shape \u001b[38;5;241m=\u001b[39m _try_broadcast_shapes(shape_list)\n\u001b[1;32m    168\u001b[0m \u001b[38;5;28;01mif\u001b[39;00m result_shape \u001b[38;5;129;01mis\u001b[39;00m \u001b[38;5;28;01mNone\u001b[39;00m:\n\u001b[0;32m--> 169\u001b[0m   \u001b[38;5;28;01mraise\u001b[39;00m \u001b[38;5;167;01mValueError\u001b[39;00m(\u001b[38;5;124mf\u001b[39m\u001b[38;5;124m\"\u001b[39m\u001b[38;5;124mIncompatible shapes for broadcasting: shapes=\u001b[39m\u001b[38;5;132;01m{\u001b[39;00m\u001b[38;5;28mlist\u001b[39m(shapes)\u001b[38;5;132;01m}\u001b[39;00m\u001b[38;5;124m\"\u001b[39m)\n\u001b[1;32m    170\u001b[0m \u001b[38;5;28;01mreturn\u001b[39;00m result_shape\n",
            "\u001b[0;31mValueError\u001b[0m: Incompatible shapes for broadcasting: shapes=[(2, 400), (800,), (800,)]"
          ]
        }
      ],
      "source": [
        "L(Z_warm, X, U, M, f, two_step_dict, lmbd=lmbda)"
      ]
    },
    {
      "attachments": {},
      "cell_type": "markdown",
      "metadata": {
        "id": "KWnglrOmnk28"
      },
      "source": [
        "Run the gradient descent for `100` epochs"
      ]
    },
    {
      "cell_type": "markdown",
      "metadata": {},
      "source": [
        "### Optimization of L"
      ]
    },
    {
      "cell_type": "code",
      "execution_count": null,
      "metadata": {},
      "outputs": [],
      "source": [
        "# Load the warm-up\n",
        "# Z = np.copy(Z_warm)"
      ]
    },
    {
      "cell_type": "code",
      "execution_count": null,
      "metadata": {},
      "outputs": [],
      "source": [
        "solver = LBFGS(fun=L, maxiter=1000, linesearch='backtracking', history_size = 20)\n",
        "res = solver.run(Z_warm, X = X, U = U, M = M, f =f , two_step_dict=two_step_dict, lmbd=lmbda)"
      ]
    },
    {
      "cell_type": "code",
      "execution_count": null,
      "metadata": {},
      "outputs": [],
      "source": [
        "Z = res.params"
      ]
    },
    {
      "cell_type": "code",
      "execution_count": null,
      "metadata": {},
      "outputs": [
        {
          "data": {
            "text/plain": [
              "Array(False, dtype=bool)"
            ]
          },
          "execution_count": 18,
          "metadata": {},
          "output_type": "execute_result"
        }
      ],
      "source": [
        "np.all(Z_warm==Z)"
      ]
    },
    {
      "cell_type": "markdown",
      "metadata": {},
      "source": [
        "Evaluate `Z`"
      ]
    },
    {
      "cell_type": "code",
      "execution_count": null,
      "metadata": {},
      "outputs": [],
      "source": [
        "S = jnp.zeros((N_gh_tr*m, 5))\n",
        "\n",
        "# Split Z\n",
        "for i in range(m):\n",
        "    Zi = Z[i*N_gh_tr:(i+1)*N_gh_tr]\n",
        "    optim_sgm = two_step_dict.get('optim_sgm_u')[i]\n",
        "    optim_nugget = two_step_dict.get('optim_nugget_u')[i]\n",
        "    G = K_2D(Gaussian2D, X[:N_gh_tr], X[:N_gh_tr], optim_sgm) \n",
        "    alphas = jnp.linalg.solve(G + optim_nugget*jnp.eye(N_gh_tr),Zi)\n",
        "    Zi_x = jnp.dot(K_dot2D(Gaussian2D, X[:N_gh_tr], X[:N_gh_tr], optim_sgm, 1), alphas)\n",
        "    Zi_xx = jnp.dot(K_2dot2D(Gaussian2D, X[:N_gh_tr], X[:N_gh_tr], optim_sgm, 1,1), alphas)\n",
        "    Si = jnp.vstack((X[:N_gh_tr].T,Zi, Zi_x,Zi_xx)).T\n",
        "    S = S.at[i*N_gh_tr:(i+1)*N_gh_tr,:].set(Si)\n",
        "\n",
        "\n",
        "\n",
        "# Load gradients from 2-step\n",
        "U_te_pred = np.load('data/U_te_pred.npy')\n",
        "U_x_te_pred = np.load('data/U_x_te_pred.npy')\n",
        "U_xx_te_pred = np.load('data/U_xx_te_pred.npy')\n",
        "s_train = S\n",
        "s_test = np.hstack((X_te, U_te.T.reshape(-1,1), U_x_te_pred.T.reshape(-1,1), U_xx_te_pred.T.reshape(-1,1))) # (N_te*m, 5)\n",
        "f_train = two_step_dict['f_gh_tr_pred']\n",
        "f_test = U_t_te.T.reshape(N_te*m,1).flatten()\n",
        "f_train2 = -s_train[:,2]*s_train[:,3] + 0.01*s_train[:,4]\n",
        "f_test2 = -s_test[:,2]*s_test[:,3] + 0.01*s_test[:,4]\n",
        "scaler_s_train = MinMaxScaler()\n",
        "s_train_s = scaler_s_train.fit_transform(s_train)\n",
        "s_test_s = scaler_s_train.transform(s_test)\n",
        "\n",
        "optim_sgm_P, optim_nugget_P = grid_search_RBF(s_train_s , f_train)\n",
        "\n",
        "krr_optimal_P = KernelRidge(kernel='rbf', alpha = two_step_dict.get('optim_nugget_P'), gamma=1/(2*(two_step_dict.get('optim_sgm_P')**2))) \n",
        "krr_optimal_P.fit(s_train_s, f_train) \n",
        "f_pred_train = krr_optimal_P.predict(s_train_s) \n",
        "f_pred_test = krr_optimal_P.predict(s_test_s)"
      ]
    },
    {
      "cell_type": "code",
      "execution_count": null,
      "metadata": {},
      "outputs": [
        {
          "data": {
            "image/png": "[encoded data removed]",
            "text/plain": [
              "<Figure size 700x500 with 8 Axes>"
            ]
          },
          "metadata": {},
          "output_type": "display_data"
        }
      ],
      "source": [
        "# Interpolant P^* at gh_tr points : P^*(hat S) vs. P(hat S)\n",
        "fig, axs = plt.subplots(figsize = (7,5), nrows = m, ncols = 2, sharex = True, sharey = True)\n",
        "fig.subplots_adjust(hspace=0.2, wspace=0.1)\n",
        "fig.suptitle('Second step: P ({}) predictions at training points'.format(m))\n",
        "for i in range(m):\n",
        "        axsi0 = axs[i,0].tricontourf(S[i*N_gh_tr:(i+1)*N_gh_tr,0], S[i*N_gh_tr:(i+1)*N_gh_tr,1], f_pred_train[i*N_gh_tr:(i+1)*N_gh_tr])\n",
        "        plt.colorbar(axsi0, ax = axs[i,0])\n",
        "        axsi1 = axs[i,1].tricontourf(S[i*N_gh_tr:(i+1)*N_gh_tr,0], S[i*N_gh_tr:(i+1)*N_gh_tr,1], f_train2[i*N_gh_tr:(i+1)*N_gh_tr])\n",
        "        plt.colorbar(axsi1, ax = axs[i,1])\n",
        "        axs[i,0].set_yticklabels([])\n",
        "        axs[i,0].set_xticklabels([])\n",
        "        axs[i,0].set_yticks([])\n",
        "        axs[i,0].set_xticks([])\n",
        "        axs[i,1].set_yticklabels([])\n",
        "        axs[i,1].set_xticklabels([])\n",
        "        axs[i,1].set_yticks([])\n",
        "        axs[i,1].set_xticks([])"
      ]
    },
    {
      "cell_type": "code",
      "execution_count": null,
      "metadata": {},
      "outputs": [
        {
          "data": {
            "image/png": "[encoded data removed]",
            "text/plain": [
              "<Figure size 700x500 with 12 Axes>"
            ]
          },
          "metadata": {},
          "output_type": "display_data"
        }
      ],
      "source": [
        "# Interpolant P^* at testing points : P^*(hat S) vs. P(hat S)\n",
        "fig, axs = plt.subplots(figsize = (7,5), nrows = m, ncols = 3, sharex = True, sharey = True)\n",
        "fig.subplots_adjust(hspace=0.2, wspace=0.1)\n",
        "fig.suptitle('P predictions with m = {} at testing points'.format(m))\n",
        "for i in range(m):\n",
        "        axsi0 = axs[i,0].tricontourf(X_te[i*N_te:(i+1)*N_te,0], X_te[i*N_te:(i+1)*N_te,1], f_pred_test[i*N_te:(i+1)*N_te])\n",
        "        plt.colorbar(axsi0, ax = axs[i,0])\n",
        "        axsi1 = axs[i,1].tricontourf(X_te[i*N_te:(i+1)*N_te,0], X_te[i*N_te:(i+1)*N_te,1], f_test2[i*N_te:(i+1)*N_te])\n",
        "        plt.colorbar(axsi1, ax = axs[i,1])\n",
        "        axsi2 = axs[i,2].tricontourf(X_te[i*N_te:(i+1)*N_te,0], X_te[i*N_te:(i+1)*N_te,1], np.abs(f_test2[i*N_te:(i+1)*N_te]-f_pred_test[i*N_te:(i+1)*N_te]))\n",
        "        plt.colorbar(axsi2, ax = axs[i,2])\n",
        "        axs[i,0].set_yticklabels([])\n",
        "        axs[i,0].set_xticklabels([])\n",
        "        axs[i,0].set_yticks([])\n",
        "        axs[i,0].set_xticks([])\n",
        "        axs[i,1].set_yticklabels([])\n",
        "        axs[i,1].set_xticklabels([])\n",
        "        axs[i,1].set_yticks([])\n",
        "        axs[i,1].set_xticks([])\n",
        "        axs[i,2].set_yticklabels([])\n",
        "        axs[i,2].set_xticklabels([])\n",
        "        axs[i,2].set_yticks([])\n",
        "        axs[i,2].set_xticks([])"
      ]
    },
    {
      "cell_type": "code",
      "execution_count": null,
      "metadata": {},
      "outputs": [
        {
          "name": "stdout",
          "output_type": "stream",
          "text": [
            "Normalized MSEs between P and P^ for 2 functions\n",
            "m = 0 nmse_train = 0.8002554562034047\n",
            "m = 0 nmse_test = 5.195524047819434\n",
            "m = 1 nmse_train = 0.8600420651308819\n",
            "m = 1 nmse_test = 18.05496592054556\n"
          ]
        }
      ],
      "source": [
        "# NMSEs: P at training points and testing points\n",
        "print('Normalized MSEs between P and P^ for {} functions'.format(m))\n",
        "for i in range(m):\n",
        "    n_mse_train = rel_mse(f_train2[i*N_gh_tr:(i+1)*N_gh_tr],f_pred_train[i*N_gh_tr:(i+1)*N_gh_tr])\n",
        "    n_mse_test = rel_mse(f_test2[i*N_te:(i+1)*N_te], f_pred_test[i*N_te:(i+1)*N_te])\n",
        "    print('m = {} nmse_train = {}'.format(i,n_mse_train))\n",
        "    print('m = {} nmse_test = {}'.format(i,n_mse_test))"
      ]
    },
    {
      "cell_type": "code",
      "execution_count": null,
      "metadata": {},
      "outputs": [],
      "source": [
        "# Interpolant P^* at gh_tr points : P^*(hat S) vs. P(hat S)\n",
        "fig, axs = plt.subplots(figsize = (7,5), nrows = m, ncols = 2, sharex = True, sharey = True)\n",
        "fig.subplots_adjust(hspace=0.2, wspace=0.1)\n",
        "fig.suptitle('Second step: P ({}) predictions at training points'.format(m))\n",
        "for i in range(m):\n",
        "        axsi0 = axs[i,0].tricontourf(S[i*N_gh_tr:(i+1)*N_gh_tr,0], S[i*N_gh_tr:(i+1)*N_gh_tr,1], f_pred_train[i*N_gh_tr:(i+1)*N_gh_tr])\n",
        "        plt.colorbar(axsi0, ax = axs[i,0])\n",
        "        axsi1 = axs[i,1].tricontourf(S[i*N_gh_tr:(i+1)*N_gh_tr,0], S[i*N_gh_tr:(i+1)*N_gh_tr,1], f[i*N_gh_tr:(i+1)*N_gh_tr])\n",
        "        plt.colorbar(axsi1, ax = axs[i,1])\n",
        "        axs[i,0].set_yticklabels([])\n",
        "        axs[i,0].set_xticklabels([])\n",
        "        axs[i,0].set_yticks([])\n",
        "        axs[i,0].set_xticks([])\n",
        "        axs[i,1].set_yticklabels([])\n",
        "        axs[i,1].set_xticklabels([])\n",
        "        axs[i,1].set_yticks([])\n",
        "        axs[i,1].set_xticks([])"
      ]
    }
  ],
  "metadata": {
    "colab": {
      "provenance": []
    },
    "kernelspec": {
      "display_name": "base",
      "language": "python",
      "name": "python3"
    },
    "language_info": {
      "codemirror_mode": {
        "name": "ipython",
        "version": 3
      },
      "file_extension": ".py",
      "mimetype": "text/x-python",
      "name": "python",
      "nbconvert_exporter": "python",
      "pygments_lexer": "ipython3",
      "version": "3.11.3"
    },
    "vscode": {
      "interpreter": {
        "hash": "9f30f608a882a0e3e1ee7bdaf111a2fb524766c624535f9d75a6d8e97b170942"
      }
    }
  },
  "nbformat": 4,
  "nbformat_minor": 0
}
