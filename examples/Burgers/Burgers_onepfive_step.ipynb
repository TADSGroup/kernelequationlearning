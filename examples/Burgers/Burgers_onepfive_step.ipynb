{
  "cells": [
    {
      "attachments": {},
      "cell_type": "markdown",
      "metadata": {
        "id": "_Lr5zZpo4oaV"
      },
      "source": [
        "## Burgers: One-pfive step Method"
      ]
    },
    {
      "cell_type": "code",
      "execution_count": 29,
      "metadata": {},
      "outputs": [],
      "source": [
        "import sys\n",
        "import os\n",
        "import numpy as np\n",
        "import matplotlib.pyplot as plt \n",
        "from sklearn.kernel_ridge import KernelRidge\n",
        "from sklearn.metrics.pairwise import polynomial_kernel\n",
        "from tqdm import tqdm\n",
        "import jax.numpy as jnp\n",
        "from jax import grad, jit\n",
        "from jax.scipy.optimize import minimize\n",
        "from jaxopt import LBFGS\n",
        "from jaxopt import GradientDescent\n",
        "from functools import partial\n",
        "from jax.config import config;\n",
        "sys.path.append('/home/juanfelipe/Desktop/research/keql/source')\n",
        "from parameter_learning import *\n",
        "from plotlib import *\n",
        "from models import * \n",
        "from kernels import *\n",
        "from data_loader_Burgers5 import *\n",
        "from loss import *\n",
        "from utils import *\n",
        "\n",
        "\n",
        "os.environ[\"XLA_PYTHON_CLIENT_PREALLOCATE\"] = \"false\"\n",
        "config.update(\"jax_enable_x64\", True)"
      ]
    },
    {
      "cell_type": "code",
      "execution_count": 30,
      "metadata": {},
      "outputs": [],
      "source": [
        "# Import values from 2-step\n",
        "two_step_dict = np.load('data/two_step_dict.npy', allow_pickle=True)\n",
        "two_step_dict = two_step_dict.item()"
      ]
    },
    {
      "attachments": {},
      "cell_type": "markdown",
      "metadata": {
        "id": "R0dMsZlmnk27"
      },
      "source": [
        "### Cost function"
      ]
    },
    {
      "attachments": {},
      "cell_type": "markdown",
      "metadata": {},
      "source": [
        "Create objective function `L`"
      ]
    },
    {
      "cell_type": "markdown",
      "metadata": {},
      "source": [
        "$$\n",
        "L(Z_0) = f(X_N)^T \\Gamma(S_N,S_N)^{-1} f(X_N) + \\lambda \\sum_{i=1}^m (Z_{0,i*N:(i+1)*N})^T K(X_N,X_N)^{-1}(Z_{0,i*N:(i+1)*N})\n",
        "$$\n",
        "where\n",
        "$$\n",
        "Z_0[M] = U[M].\n",
        "$$"
      ]
    },
    {
      "cell_type": "markdown",
      "metadata": {},
      "source": [
        "1. Get `f_gh_tr_pred` from two step to be the new `f` in the 1.5 step method."
      ]
    },
    {
      "cell_type": "code",
      "execution_count": 31,
      "metadata": {},
      "outputs": [],
      "source": [
        "# First column in Gamma(S_N,S_N)\n",
        "X = X_gh_tr # (N_gh_tr*m, 2)\n",
        "\n",
        "# Second column in Gamma(S_N,S_N)\n",
        "U = U_gh_tr.reshape(N_gh_tr*m,) # (N_gh_tr*m, )\n",
        "\n",
        "# f(X_N)\n",
        "#f = f_Test(model,e_test)\n",
        "f = two_step_dict['f_gh_tr_pred']"
      ]
    },
    {
      "cell_type": "code",
      "execution_count": 32,
      "metadata": {},
      "outputs": [],
      "source": [
        "# Load values of U predicted from 2-step at te points: originally wrong\n",
        "U_gh_tr_pred = np.load('data/U_gh_tr_pred.npy')\n",
        "U_x_gh_tr_pred = np.load('data/U_x_gh_tr_pred.npy')\n",
        "U_xx_gh_tr_pred = np.load('data/U_xx_gh_tr_pred.npy')\n",
        "# Build Z_warm\n",
        "Z_warm = jnp.array(U_gh_tr_pred.T.reshape(N_gh_tr*m,)) "
      ]
    },
    {
      "cell_type": "code",
      "execution_count": 33,
      "metadata": {},
      "outputs": [],
      "source": [
        "# # Load values of U predicted from 2-step at te points: originally wrong\n",
        "# U_te_pred = np.load('data/U_te_pred.npy')\n",
        "# U_x_te_pred = np.load('data/U_x_te_pred.npy')\n",
        "# U_xx_te_pred = np.load('data/U_xx_te_pred.npy')\n",
        "# # Build Z_warm\n",
        "# Z_warm = jnp.array(U_te_pred.T.reshape(N_te*m,)) "
      ]
    },
    {
      "cell_type": "markdown",
      "metadata": {},
      "source": [
        "First iteration RKHS norm of P "
      ]
    },
    {
      "cell_type": "markdown",
      "metadata": {},
      "source": [
        "Gaussian"
      ]
    },
    {
      "cell_type": "code",
      "execution_count": 34,
      "metadata": {},
      "outputs": [],
      "source": [
        "S = jnp.zeros((N_gh_tr*m, 5))\n",
        "\n",
        "# Split Z\n",
        "for i in range(m):\n",
        "    Zi = Z_warm[i*N_gh_tr:(i+1)*N_gh_tr]\n",
        "    optim_sgm = two_step_dict.get('optim_sgm_u')[i]\n",
        "    optim_nugget = two_step_dict.get('optim_nugget_u')[i]\n",
        "    G = K_2D(Gaussian2D, X[:N_gh_tr], X[:N_gh_tr], optim_sgm) \n",
        "    alphas = jnp.linalg.solve(G + optim_nugget*jnp.eye(N_gh_tr),Zi)\n",
        "\n",
        "    Zi_x = jnp.dot(K_dot2D(Gaussian2D, X[:N_gh_tr], X[:N_gh_tr], optim_sgm, 1), alphas)\n",
        "    Zi_xx = jnp.dot(K_2dot2D(Gaussian2D, X[:N_gh_tr], X[:N_gh_tr], optim_sgm, 1,1), alphas)\n",
        "\n",
        "    Si = jnp.vstack((X[:N_gh_tr].T, Zi, Zi_x,Zi_xx)).T\n",
        "    # print shapes and values here\n",
        "    S = S.at[i*N_gh_tr:(i+1)*N_gh_tr,:].set(Si)\n",
        "# Scaling S_N\n",
        "scaler_s_train = MinMaxScaler()\n",
        "S = scaler_s_train.fit_transform(S)\n",
        "S = jnp.array(S)\n",
        "# Gamma(S_N,S_N)\n",
        "optim_sgm_P = two_step_dict.get('optim_sgm_P')\n",
        "Gamma = K(Gaussian, S, S, optim_sgm_P)\n",
        "nugget_P = two_step_dict.get('optim_nugget_P') \n",
        "Gamma = Gamma + nugget_P*jnp.eye(jnp.size(Gamma,0))\n",
        "#print(\"cond(Gamma) = \", jnp.linalg.cond(Gamma))\n",
        "\n",
        "# (Gamma(S_N,S_N) + alpha_Gamma*I)^-1 * f\n",
        "b = jnp.linalg.solve(Gamma,f)\n",
        "\n",
        "rkhs_P_first_iter = jnp.dot(f.T , b)"
      ]
    },
    {
      "cell_type": "markdown",
      "metadata": {},
      "source": [
        "Poly2"
      ]
    },
    {
      "cell_type": "code",
      "execution_count": 35,
      "metadata": {},
      "outputs": [],
      "source": [
        "S = jnp.zeros((N_gh_tr*m, 5))\n",
        "\n",
        "# Split Z\n",
        "for i in range(m):\n",
        "    Zi = Z_warm[i*N_gh_tr:(i+1)*N_gh_tr]\n",
        "    optim_sgm = two_step_dict.get('optim_sgm_u')[i]\n",
        "    optim_nugget = two_step_dict.get('optim_nugget_u')[i]\n",
        "    G = K_2D(Gaussian2D, X[:N_gh_tr], X[:N_gh_tr], optim_sgm) \n",
        "    alphas = jnp.linalg.solve(G + optim_nugget*jnp.eye(N_gh_tr),Zi)\n",
        "\n",
        "    Zi_x = jnp.dot(K_dot2D(Gaussian2D, X[:N_gh_tr], X[:N_gh_tr], optim_sgm, 1), alphas)\n",
        "    Zi_xx = jnp.dot(K_2dot2D(Gaussian2D, X[:N_gh_tr], X[:N_gh_tr], optim_sgm, 1,1), alphas)\n",
        "\n",
        "    Si = jnp.vstack((X[:N_gh_tr].T, Zi, Zi_x,Zi_xx)).T\n",
        "    # print shapes and values here\n",
        "    S = S.at[i*N_gh_tr:(i+1)*N_gh_tr,:].set(Si)\n",
        "# Scaling S_N\n",
        "scaler_s_train = MinMaxScaler()\n",
        "S = scaler_s_train.fit_transform(S)\n",
        "S = jnp.array(S)\n",
        "# Gamma(S_N,S_N)\n",
        "#optim_sgm_P = two_step_dict.get('optim_sgm_P')\n",
        "Gamma = K(Polynomial,S, S, jnp.array([1,2]))\n",
        "#nugget_P = two_step_dict.get('optim_nugget_P') \n",
        "Gamma = Gamma + nugget_P*jnp.eye(jnp.size(Gamma,0))\n",
        "#print(\"cond(Gamma) = \", jnp.linalg.cond(Gamma))\n",
        "\n",
        "# (Gamma(S_N,S_N) + alpha_Gamma*I)^-1 * f\n",
        "b = jnp.linalg.solve(Gamma,f)\n",
        "\n",
        "rkhs_P_first_iter = jnp.dot(f.T , b)"
      ]
    },
    {
      "cell_type": "markdown",
      "metadata": {},
      "source": [
        "First iteration RKHS norm of u"
      ]
    },
    {
      "cell_type": "code",
      "execution_count": 36,
      "metadata": {},
      "outputs": [],
      "source": [
        "# Second term\n",
        "sigma_K = jnp.array(two_step_dict.get('optim_sgm_u'))\n",
        "nugget_K = two_step_dict.get('optim_nugget_u')\n",
        "K_XNs = []\n",
        "for i in range(m):\n",
        "    K_XN = K(Gaussian,X_gh_tr[:N_gh_tr],X_gh_tr[:N_gh_tr],sigma_K[i]) \n",
        "    K_XNs.append(K_XN + nugget_K[i]*jnp.eye(N_gh_tr))\n",
        "\n",
        "rkhs_u_first_iter = []\n",
        "for i in range(m):\n",
        "    Zi = Z_warm[i*N_gh_tr:(i+1)*N_gh_tr]\n",
        "    c = jnp.linalg.solve(K_XNs[i],Zi)\n",
        "    rkhs_u_first_iter.append(jnp.reshape(jnp.dot(Zi.T , c),()))"
      ]
    },
    {
      "cell_type": "code",
      "execution_count": 37,
      "metadata": {},
      "outputs": [
        {
          "data": {
            "text/plain": [
              "(50, 2)"
            ]
          },
          "execution_count": 37,
          "metadata": {},
          "output_type": "execute_result"
        }
      ],
      "source": [
        "X_tr.shape"
      ]
    },
    {
      "cell_type": "code",
      "execution_count": 38,
      "metadata": {},
      "outputs": [],
      "source": [
        "def L(Z, X, U, M, f, two_step_dict, lmbd):\n",
        "    \"\"\"Cost function for 1.5-step method.\n",
        "    \n",
        "    Args:\n",
        "        Z: Vector [Z^1 Z^2 Z^3]^T. m*N\n",
        "        X: List of mN points of dimension d.\n",
        "        U: List of N1+N2+N3 values of functions u^(1),...u^(N).\n",
        "        M: Bolean array which contains where true values reside.\n",
        "        f: List of mN values of functions u^(1),...u^(N).\n",
        "        two_step_dict: Dictionary with values from 2-step.\n",
        "        lmbd: Lagrange multiplier in the loss function.\n",
        "    Returns:\n",
        "        scalar: a cost of this solution.    \n",
        "    \"\"\" \n",
        "\n",
        "    ### Set up\n",
        "    N = 20*20\n",
        "    m = 2\n",
        "    #print('Z:', Z)\n",
        "    # Constrain the value of Z with known info\n",
        "    #Z = jnp.where(M, U, Z)\n",
        "    # Just use Z_warm instead of using line 21.\n",
        "    # Cd + 1 = 4\n",
        "    S = jnp.zeros((N_gh_tr*m, 5))\n",
        "    \n",
        "    # Split Z\n",
        "    for i in range(m):\n",
        "        Zi = Z[i*N_gh_tr:(i+1)*N_gh_tr]\n",
        "        optim_sgm = two_step_dict.get('optim_sgm_u')[i]\n",
        "        optim_nugget = two_step_dict.get('optim_nugget_u')[i]\n",
        "        G = K_2D(Gaussian2D, X[:N_gh_tr], X[:N_gh_tr], optim_sgm) \n",
        "        alphas = jnp.linalg.solve(G + optim_nugget*jnp.eye(N),Zi)\n",
        "\n",
        "        Zi_x = jnp.dot(K_dot2D(Gaussian2D, X[:N_gh_tr], X[:N_gh_tr], optim_sgm, 1), alphas)\n",
        "        Zi_xx = jnp.dot(K_2dot2D(Gaussian2D, X[:N_gh_tr], X[:N_gh_tr], optim_sgm, 1,1), alphas)\n",
        "\n",
        "        Si = jnp.vstack((X[:N].T,Zi, Zi_x,Zi_xx)).T\n",
        "        # print shapes and values here\n",
        "        S = S.at[i*N_gh_tr:(i+1)*N_gh_tr,:].set(Si)\n",
        "    # Scaling S_N\n",
        "    scaler_s_train = MinMaxScaler()\n",
        "    S = scaler_s_train.fit_transform(S)\n",
        "    S = jnp.array(S)\n",
        "    # Gamma(S_N,S_N)\n",
        "    optim_sgm_P = two_step_dict.get('optim_sgm_P')\n",
        "    #Gamma = K(Gaussian, S, S, optim_sgm_P)\n",
        "    Gamma = K(Polynomial,S, S, jnp.array([1,2]))\n",
        "    nugget_P = two_step_dict.get('nugget_P') \n",
        "    Gamma = Gamma + nugget_P*jnp.eye(jnp.size(Gamma,0))\n",
        "    #print(\"cond(Gamma) = \", jnp.linalg.cond(Gamma))\n",
        "\n",
        "    # (Gamma(S_N,S_N) + alpha_Gamma*I)^-1 * f\n",
        "    b = jnp.linalg.solve(Gamma,f)\n",
        "\n",
        "    # First term\n",
        "    #L1 = jnp.dot(f.T , b) / two_step_dict.get('rkhs_P_train')\n",
        "    L1 = jnp.dot(f.T , b) / rkhs_P_first_iter\n",
        "    #print('L1: ', L1)\n",
        "\n",
        "    # Second term\n",
        "    sigma_K = jnp.array(two_step_dict.get('optim_sgm_u'))\n",
        "    nugget_K = two_step_dict.get('optim_nugget_u')\n",
        "    K_XNs = []\n",
        "    for i in range(m):\n",
        "        K_XN = K(Gaussian,X[:N_gh_tr],X[:N_gh_tr],sigma_K[i]) \n",
        "        K_XNs.append(K_XN + nugget_K[i]*jnp.eye(N_gh_tr))\n",
        "    \n",
        "    L2 = 0.\n",
        "    \n",
        "    for i in range(m):\n",
        "        Zi = Z[i*N_gh_tr:(i+1)*N_gh_tr]\n",
        "        c = jnp.linalg.solve(K_XNs[i],Zi)\n",
        "        # L2 += jnp.reshape(jnp.dot(Zi.T , c),()) / two_step_dict.get('rkhs_u')[i]\n",
        "        if i ==0:\n",
        "            L2 += jnp.reshape(jnp.dot(Zi.T , c),()) / rkhs_u_first_iter[i]\n",
        "        else:\n",
        "            L2 += jnp.reshape(jnp.dot(Zi.T , c),())\n",
        "        #print('L2_',i+1,':',jnp.reshape(jnp.dot(Zi.T , c),()) / rkhs_u_first_iter[i])      \n",
        "    return L1 + lmbd*L2\n",
        "    "
      ]
    },
    {
      "attachments": {},
      "cell_type": "markdown",
      "metadata": {
        "id": "zDReXRvPnk27"
      },
      "source": [
        "#### Gradient descent"
      ]
    },
    {
      "attachments": {},
      "cell_type": "markdown",
      "metadata": {
        "id": "3SObhiRznk27"
      },
      "source": [
        "Training data"
      ]
    },
    {
      "cell_type": "code",
      "execution_count": 39,
      "metadata": {
        "id": "E9BVaRatnk27"
      },
      "outputs": [],
      "source": [
        "# First column in Gamma(S_N,S_N)\n",
        "X = X_gh_tr # (N_gh_tr*m, 2)\n",
        "\n",
        "# Second column in Gamma(S_N,S_N)\n",
        "U = U_gh_tr.reshape(N_gh_tr*m,) # N*m x 1\n",
        "\n",
        "# f(X_N)\n",
        "#f = f_Test(model,e_test)\n",
        "f = two_step_dict['f_gh_tr_pred']"
      ]
    },
    {
      "attachments": {},
      "cell_type": "markdown",
      "metadata": {
        "id": "lA8nCyg_nk28"
      },
      "source": [
        "Initial guess: `Z_warm`"
      ]
    },
    {
      "cell_type": "code",
      "execution_count": 40,
      "metadata": {},
      "outputs": [],
      "source": [
        "# Load values of U predicted from 2-step at te points: originally wrong\n",
        "U_gh_tr_pred = np.load('data/U_gh_tr_pred.npy')\n",
        "U_x_gh_tr_pred = np.load('data/U_x_gh_tr_pred.npy')\n",
        "U_xx_gh_tr_pred = np.load('data/U_xx_gh_tr_pred.npy')\n",
        "# Build Z_warm\n",
        "Z_warm = jnp.array(U_gh_tr_pred.T.reshape(N_gh_tr*m,)) "
      ]
    },
    {
      "cell_type": "code",
      "execution_count": 41,
      "metadata": {},
      "outputs": [],
      "source": [
        "lmbda = 1e-2/m"
      ]
    },
    {
      "cell_type": "code",
      "execution_count": 42,
      "metadata": {},
      "outputs": [
        {
          "data": {
            "text/plain": [
              "Array(281.04315154, dtype=float64)"
            ]
          },
          "execution_count": 42,
          "metadata": {},
          "output_type": "execute_result"
        }
      ],
      "source": [
        "L(Z_warm, X, U, M, f, two_step_dict, lmbd=lmbda)"
      ]
    },
    {
      "attachments": {},
      "cell_type": "markdown",
      "metadata": {
        "id": "w_MgRkiDnk28"
      },
      "source": [
        "Initialize the grad functions with `jit` to be efficient"
      ]
    },
    {
      "cell_type": "code",
      "execution_count": 43,
      "metadata": {
        "colab": {
          "base_uri": "https://localhost:8080/"
        },
        "id": "lbXfnabQnk28",
        "outputId": "3877f2f6-f6ca-41b4-eebb-aaec41004fd0"
      },
      "outputs": [
        {
          "data": {
            "text/plain": [
              "Array([-4.65853147e-04, -6.33529744e-04, -5.78155345e-04, -5.47307740e-04,\n",
              "        3.82743575e-04, -3.86466746e-03,  1.50120233e-03, -1.24455971e-03,\n",
              "       -1.37819970e-03, -8.48256959e-04, -2.52744706e-03,  2.61516793e-03,\n",
              "       -4.70344364e-03,  3.23354522e-03, -3.44536918e-03, -2.36215530e-03,\n",
              "        3.07701484e-03, -2.49089776e-03, -3.36101903e-05, -2.84042840e-04,\n",
              "        3.96296216e-03,  5.92916397e-03,  2.36258923e-03,  6.01672311e-03,\n",
              "        6.06521826e-03,  1.12744671e-02,  5.68390552e-03,  5.24501612e-03,\n",
              "        1.08260951e-02,  7.89715502e-03,  9.28606315e-03,  5.28693691e-03,\n",
              "        7.15022092e-03,  3.55373077e-03,  1.37183477e-02,  4.96900375e-03,\n",
              "        1.42238498e-03,  5.33130444e-03,  3.72946973e-03,  2.30145745e-03,\n",
              "       -1.40141947e-02, -1.82494238e-02, -1.01000153e-02, -2.14686750e-02,\n",
              "       -2.43182362e-02, -2.51380844e-02, -2.90303170e-02, -2.23981920e-02,\n",
              "       -2.24144764e-02, -3.95080086e-02, -1.90319502e-02, -2.44550833e-02,\n",
              "       -2.53733607e-02, -2.50476037e-02, -2.14375496e-02, -2.19411345e-02,\n",
              "       -1.48206649e-02, -1.30396363e-02, -1.28249556e-02, -8.64525732e-03,\n",
              "        3.54971537e-02,  4.19477980e-02,  3.62444513e-02,  4.64245996e-02,\n",
              "        7.03057088e-02,  5.50055332e-02,  6.41835476e-02,  6.61399780e-02,\n",
              "        7.43459157e-02,  5.79034444e-02,  6.46198505e-02,  7.62416980e-02,\n",
              "        6.22994228e-02,  4.64319351e-02,  6.09691341e-02,  4.69725487e-02,\n",
              "        4.18770584e-02,  3.51937956e-02,  3.12745312e-02,  2.42398214e-02,\n",
              "       -4.51899568e-02, -5.43738382e-02, -5.33824559e-02, -7.11895087e-02,\n",
              "       -7.50149894e-02, -8.23210924e-02, -8.98821333e-02, -8.67776344e-02,\n",
              "       -8.40665166e-02, -8.87752435e-02, -9.46242882e-02, -9.08529311e-02,\n",
              "       -7.91726576e-02, -7.43147539e-02, -6.73454176e-02, -6.20767763e-02,\n",
              "       -5.87761615e-02, -4.59299415e-02, -4.40098276e-02, -3.60469685e-02,\n",
              "        7.02921115e-03,  1.27060828e-02,  2.35893124e-02,  1.83791407e-02,\n",
              "        1.85609557e-02,  2.75974450e-02,  3.00961722e-02,  2.29091515e-02,\n",
              "        2.86265276e-02,  2.21567616e-02,  3.62951423e-02,  2.10399379e-02,\n",
              "        2.71259182e-02,  1.94254574e-02,  1.56394958e-02,  1.65660371e-02,\n",
              "        1.43787976e-02,  1.69225407e-02,  1.29248698e-02,  1.73595932e-02,\n",
              "        5.41835217e-02,  5.38050750e-02,  5.63957987e-02,  5.94390986e-02,\n",
              "        7.95677974e-02,  6.56384584e-02,  8.29536114e-02,  7.20103308e-02,\n",
              "        7.87951685e-02,  8.38008574e-02,  8.34372932e-02,  8.15118284e-02,\n",
              "        6.65516190e-02,  7.78871810e-02,  5.77721375e-02,  7.63540317e-02,\n",
              "        4.52620647e-02,  4.56626359e-02,  4.25269118e-02,  2.62949401e-02,\n",
              "       -6.02966780e-02, -6.32067073e-02, -7.56360372e-02, -8.34522606e-02,\n",
              "       -8.77382327e-02, -8.79443975e-02, -1.01325034e-01, -8.69085189e-02,\n",
              "       -1.07235414e-01, -1.02683735e-01, -9.69115362e-02, -9.92208326e-02,\n",
              "       -9.36450013e-02, -8.59938781e-02, -7.70756188e-02, -7.95097241e-02,\n",
              "       -6.77983560e-02, -5.65136196e-02, -5.40390922e-02, -4.30318910e-02,\n",
              "       -8.11981984e-03, -1.18394244e-02,  5.38242472e-03, -4.17007927e-03,\n",
              "        6.11064436e-03, -9.59984847e-03, -6.87483122e-03, -1.23113120e-03,\n",
              "       -2.45921061e-04, -6.20112449e-03, -2.92567149e-04, -1.15724642e-02,\n",
              "        2.14724523e-03,  1.16156000e-03, -5.81807419e-03, -3.71031917e-03,\n",
              "        5.65809604e-03,  2.34251829e-03, -2.44286088e-05,  3.43497014e-03,\n",
              "        7.52145155e-02,  7.99242896e-02,  8.48125406e-02,  8.43080725e-02,\n",
              "        9.42280082e-02,  1.05943888e-01,  9.87007215e-02,  1.03726464e-01,\n",
              "        1.10954073e-01,  1.16383755e-01,  8.51813821e-02,  1.19709704e-01,\n",
              "        9.53761785e-02,  9.23214198e-02,  7.80169106e-02,  8.46683812e-02,\n",
              "        6.33034724e-02,  6.19465795e-02,  5.03425657e-02,  5.43542250e-02,\n",
              "       -4.72363721e-02, -4.54029083e-02, -6.62911430e-02, -5.33578106e-02,\n",
              "       -7.01134895e-02, -7.47895630e-02, -6.21339948e-02, -5.11695842e-02,\n",
              "       -8.69186924e-02, -7.05089516e-02, -6.34020961e-02, -6.54846630e-02,\n",
              "       -6.42111731e-02, -6.90181016e-02, -4.89826866e-02, -5.15764995e-02,\n",
              "       -5.02700754e-02, -4.43686804e-02, -3.06811111e-02, -5.17828129e-02,\n",
              "       -4.58254916e-02, -4.88454704e-02, -4.73125929e-02, -4.52992368e-02,\n",
              "       -5.42239281e-02, -4.98846496e-02, -7.10854534e-02, -6.50102016e-02,\n",
              "       -5.94400811e-02, -5.44335610e-02, -6.23226904e-02, -6.10454473e-02,\n",
              "       -5.19962777e-02, -5.04687653e-02, -4.83016996e-02, -4.41018173e-02,\n",
              "       -3.39056589e-02, -3.70529154e-02, -3.32877856e-02, -1.51172919e-02,\n",
              "        9.18850284e-02,  1.01235511e-01,  9.44909509e-02,  1.16241880e-01,\n",
              "        1.09771993e-01,  1.33382391e-01,  1.23632312e-01,  1.31393155e-01,\n",
              "        1.13849097e-01,  1.19829894e-01,  1.29707593e-01,  1.13539668e-01,\n",
              "        1.12022311e-01,  1.05646150e-01,  9.91514819e-02,  9.61473430e-02,\n",
              "        9.26549205e-02,  6.88664729e-02,  7.37371347e-02,  6.36691073e-02,\n",
              "       -3.63320290e-02, -4.41875740e-02, -3.81137726e-02, -4.38189176e-02,\n",
              "       -6.02406640e-02, -4.44854358e-02, -5.59558933e-02, -4.99631348e-02,\n",
              "       -4.30249722e-02, -3.26809039e-02, -5.23528092e-02, -5.25225023e-02,\n",
              "       -3.85954848e-02, -3.69649699e-02, -3.47501878e-02, -7.05484592e-02,\n",
              "       -3.77922849e-02, -2.59134735e-02, -3.78812736e-02, -3.59901993e-02,\n",
              "       -6.16052811e-02, -6.69347750e-02, -7.07584847e-02, -6.50219526e-02,\n",
              "       -9.20051615e-02, -8.29632262e-02, -8.24370892e-02, -8.41184729e-02,\n",
              "       -9.51453710e-02, -9.07814125e-02, -7.87191413e-02, -7.40932573e-02,\n",
              "       -9.01409952e-02, -7.01220033e-02, -5.24621840e-02, -4.91635005e-02,\n",
              "       -3.94876937e-02, -5.26291193e-02, -4.19833086e-02, -3.50094664e-02,\n",
              "        9.45695023e-02,  1.09757757e-01,  1.18558337e-01,  1.05415004e-01,\n",
              "        1.37408978e-01,  1.44273881e-01,  1.33693013e-01,  1.33080234e-01,\n",
              "        1.29719847e-01,  1.34108806e-01,  1.29222543e-01,  1.15211158e-01,\n",
              "        1.27577647e-01,  1.03771976e-01,  8.91582695e-02,  1.01225559e-01,\n",
              "        6.75606736e-02,  8.18056758e-02,  7.64611892e-02,  6.76541974e-02,\n",
              "       -5.74077717e-02, -7.72694213e-02, -7.26378767e-02, -7.73798494e-02,\n",
              "       -8.16153828e-02, -9.24456667e-02, -8.86487953e-02, -9.12848564e-02,\n",
              "       -8.17431844e-02, -6.78934111e-02, -9.59076087e-02, -7.63167374e-02,\n",
              "       -6.53550295e-02, -6.45212656e-02, -7.15484806e-02, -5.47673123e-02,\n",
              "       -5.29970904e-02, -4.92677364e-02, -5.24645991e-02, -4.64101132e-02,\n",
              "        1.76658992e-02,  3.74632145e-02,  1.32103800e-02,  4.46627791e-02,\n",
              "        1.91157541e-02,  3.95170222e-02,  2.59174604e-02,  3.72333693e-02,\n",
              "        3.17578353e-02,  2.48672437e-02,  2.98643192e-02,  2.56639051e-02,\n",
              "        2.81846954e-02,  1.87191558e-02,  2.53293933e-02,  2.16117013e-02,\n",
              "        2.30314979e-02,  1.42300401e-02,  2.12700959e-02,  1.75587437e-02,\n",
              "       -3.73373202e-03, -1.40502301e-02, -9.84347664e-05, -1.34843586e-02,\n",
              "       -9.60816846e-03, -5.83551414e-03, -8.51116843e-03, -1.23357598e-02,\n",
              "       -9.15103698e-03, -1.79739975e-03, -1.60426998e-02, -4.14857620e-03,\n",
              "       -5.96479768e-03, -9.32228810e-04, -1.69097314e-02,  6.45138234e-04,\n",
              "       -8.26677754e-03, -4.68536981e-03, -5.53008238e-03, -5.23531056e-03,\n",
              "        1.40594579e-04,  2.84023967e-03, -2.36703329e-03,  3.04281947e-03,\n",
              "        4.98634976e-03, -8.90548087e-03,  8.38566759e-03,  2.78385304e-03,\n",
              "       -2.03971631e-03, -4.80868843e-03,  9.82181621e-03, -9.23380266e-04,\n",
              "        1.14414210e-03, -8.55885381e-03,  1.15323080e-02,  7.86976280e-05,\n",
              "       -6.52339064e-03,  6.77294182e-03, -1.49637686e-03,  9.26240307e-04,\n",
              "        3.96680723e+02,  3.04102001e+02,  2.34149457e+02,  1.87077157e+02,\n",
              "        1.54111786e+02,  1.35113880e+02,  1.26077198e+02,  1.22944006e+02,\n",
              "        1.21937650e+02,  1.19657079e+02,  1.13300381e+02,  1.00621826e+02,\n",
              "        8.14943189e+01,  5.26189594e+01,  1.45491646e+01, -3.26347976e+01,\n",
              "       -8.84736422e+01, -1.48274505e+02, -2.18621147e+02, -2.94924734e+02,\n",
              "       -1.03507909e+03, -8.81257279e+02, -7.50315076e+02, -6.46530795e+02,\n",
              "       -5.53910953e+02, -4.75154846e+02, -4.05032458e+02, -3.37959352e+02,\n",
              "       -2.72736395e+02, -1.96588902e+02, -1.09592282e+02, -9.16735635e+00,\n",
              "        9.86091199e+01,  2.26805200e+02,  3.67246386e+02,  5.16757888e+02,\n",
              "        6.71137802e+02,  8.16518858e+02,  9.66147776e+02,  1.10578552e+03,\n",
              "        2.11308572e+02,  2.71832313e+02,  2.92787707e+02,  2.78020223e+02,\n",
              "        2.28810097e+02,  1.49441063e+02,  4.52519776e+01, -7.78478556e+01,\n",
              "       -2.05459586e+02, -3.47679235e+02, -4.90937699e+02, -6.29738939e+02,\n",
              "       -7.51861796e+02, -8.68430835e+02, -9.67781286e+02, -1.04686017e+03,\n",
              "       -1.10327420e+03, -1.13409805e+03, -1.14212695e+03, -1.12422947e+03,\n",
              "        1.17978373e+03,  1.10050025e+03,  1.02698680e+03,  9.63715951e+02,\n",
              "        9.02280239e+02,  8.45128260e+02,  7.89538631e+02,  7.32066892e+02,\n",
              "        6.72873662e+02,  6.01064639e+02,  5.17006862e+02,  4.18537511e+02,\n",
              "        3.11926051e+02,  1.84481723e+02,  4.46895999e+01, -1.03581580e+02,\n",
              "       -2.55070920e+02, -3.94946477e+02, -5.34121693e+02, -6.56695687e+02,\n",
              "        2.52841658e+02,  1.37004090e+02,  7.14062417e+01,  5.56813420e+01,\n",
              "        8.53379229e+01,  1.57633226e+02,  2.65152276e+02,  3.98806872e+02,\n",
              "        5.39434575e+02,  6.94711199e+02,  8.46195019e+02,  9.84874062e+02,\n",
              "        1.09700560e+03,  1.19133848e+03,  1.25680333e+03,  1.29224100e+03,\n",
              "        1.29862539e+03,  1.28061363e+03,  1.24002075e+03,  1.18249577e+03,\n",
              "       -1.16613552e+03, -1.24892625e+03, -1.28452753e+03, -1.27547848e+03,\n",
              "       -1.22286826e+03, -1.12972224e+03, -1.00109654e+03, -8.42961249e+02,\n",
              "       -6.73024583e+02, -4.76496177e+02, -2.70116885e+02, -6.03395245e+01,\n",
              "        1.34844224e+02,  3.34707073e+02,  5.22203408e+02,  6.93325810e+02,\n",
              "        8.44783950e+02,  9.67037037e+02,  1.07351439e+03,  1.15457618e+03,\n",
              "       -1.16634682e+03, -1.14981111e+03, -1.14132914e+03, -1.14263834e+03,\n",
              "       -1.15466129e+03, -1.17696028e+03, -1.20737176e+03, -1.24240890e+03,\n",
              "       -1.27559232e+03, -1.30624999e+03, -1.32711623e+03, -1.33347932e+03,\n",
              "       -1.32283836e+03, -1.29157121e+03, -1.23902240e+03, -1.16630766e+03,\n",
              "       -1.07640668e+03, -9.80251233e+02, -8.71507055e+02, -7.62698269e+02,\n",
              "        5.26439494e+02,  6.71549769e+02,  7.51389860e+02,  7.63930327e+02,\n",
              "        7.11178193e+02,  5.94495884e+02,  4.21595595e+02,  2.03162855e+02,\n",
              "       -3.25032159e+01, -3.01445929e+02, -5.75440898e+02, -8.40909595e+02,\n",
              "       -1.07230588e+03, -1.28952807e+03, -1.47085567e+03, -1.61301678e+03,\n",
              "       -1.71603895e+03, -1.77995542e+03, -1.81801362e+03, -1.83253292e+03,\n",
              "        1.87921816e+03,  2.06366074e+03,  2.18952126e+03,  2.25337188e+03,\n",
              "        2.26462176e+03,  2.22149800e+03,  2.13015133e+03,  1.99839192e+03,\n",
              "        1.84538961e+03,  1.66082064e+03,  1.46242722e+03,  1.25843995e+03,\n",
              "        1.06759107e+03,  8.71157048e+02,  6.84825790e+02,  5.10467316e+02,\n",
              "        3.48296084e+02,  2.05771229e+02,  6.30359086e+01, -7.34047504e+01,\n",
              "        5.56042123e+02,  5.93106024e+02,  6.36705430e+02,  6.86383397e+02,\n",
              "        7.50480513e+02,  8.27422186e+02,  9.17188584e+02,  1.01841581e+03,\n",
              "        1.12176692e+03,  1.23651306e+03,  1.35168510e+03,  1.46195523e+03,\n",
              "        1.55632014e+03,  1.64154098e+03,  1.70669869e+03,  1.74811792e+03,\n",
              "        1.76339615e+03,  1.75301868e+03,  1.71616040e+03,  1.65455989e+03,\n",
              "       -1.51928462e+03, -1.68657919e+03, -1.79286889e+03, -1.83241251e+03,\n",
              "       -1.80835634e+03, -1.71790276e+03, -1.56626207e+03, -1.36183483e+03,\n",
              "       -1.13101603e+03, -8.57046608e+02, -5.66776686e+02, -2.73657400e+02,\n",
              "       -6.30480331e+00,  2.58624863e+02,  4.95894954e+02,  7.00283577e+02,\n",
              "        8.69654332e+02,  9.97785952e+02,  1.10391635e+03,  1.18445546e+03,\n",
              "       -1.69483662e+03, -1.92428045e+03, -2.09909560e+03, -2.21120178e+03,\n",
              "       -2.27491861e+03, -2.28484905e+03, -2.24702744e+03, -2.16964144e+03,\n",
              "       -2.06924297e+03, -1.94292295e+03, -1.80598549e+03, -1.66711451e+03,\n",
              "       -1.54078534e+03, -1.41550478e+03, -1.30128745e+03, -1.19736430e+03,\n",
              "       -1.10049519e+03, -1.01109294e+03, -9.11730800e+02, -8.00840944e+02,\n",
              "        6.62226027e+02,  6.23668447e+02,  5.75536560e+02,  5.18485758e+02,\n",
              "        4.42307747e+02,  3.47368316e+02,  2.31671253e+02,  9.43418235e+01,\n",
              "       -5.42301491e+01, -2.30670386e+02, -4.22653163e+02, -6.24911572e+02,\n",
              "       -8.18661650e+02, -1.02066043e+03, -1.21025225e+03, -1.37855801e+03,\n",
              "       -1.51694228e+03, -1.61280965e+03, -1.67187564e+03, -1.68207210e+03,\n",
              "        1.74392110e+03,  1.89538000e+03,  2.00350178e+03,  2.06117440e+03,\n",
              "        2.07297393e+03,  2.03349123e+03,  1.94491871e+03,  1.81186575e+03,\n",
              "        1.65200961e+03,  1.45333202e+03,  1.23426738e+03,  1.00485246e+03,\n",
              "        7.88396448e+02,  5.66679744e+02,  3.61425172e+02,  1.79142045e+02,\n",
              "        2.44477216e+01, -9.35869362e+01, -1.89075183e+02, -2.54830209e+02,\n",
              "        5.12834151e+02,  6.83990263e+02,  8.25797676e+02,  9.30959378e+02,\n",
              "        1.01307528e+03,  1.06713747e+03,  1.09740441e+03,  1.10945189e+03,\n",
              "        1.10979455e+03,  1.10456472e+03,  1.09929519e+03,  1.09867106e+03,\n",
              "        1.10505338e+03,  1.12025865e+03,  1.14312433e+03,  1.17056457e+03,\n",
              "        1.19769098e+03,  1.21736310e+03,  1.22540652e+03,  1.21327434e+03,\n",
              "       -1.21344425e+03, -1.18928512e+03, -1.15996581e+03, -1.12516719e+03,\n",
              "       -1.07744676e+03, -1.01529609e+03, -9.35493320e+02, -8.35436599e+02,\n",
              "       -7.21351288e+02, -5.78811620e+02, -4.15793482e+02, -2.35693554e+02,\n",
              "       -5.53322104e+01,  1.41098742e+02,  3.34075716e+02,  5.13998740e+02,\n",
              "        6.70795814e+02,  7.88385405e+02,  8.72876808e+02,  9.08337180e+02,\n",
              "       -1.03856600e+03, -1.15804675e+03, -1.25719172e+03, -1.32887226e+03,\n",
              "       -1.37975134e+03, -1.40335645e+03, -1.39970393e+03, -1.37013185e+03,\n",
              "       -1.32095634e+03, -1.24961563e+03, -1.16326875e+03, -1.06742946e+03,\n",
              "       -9.73926537e+02, -8.76943259e+02, -7.88298687e+02, -7.13551726e+02,\n",
              "       -6.57494503e+02, -6.25194551e+02, -6.15071429e+02, -6.31103965e+02,\n",
              "        8.15561551e+02,  7.29758543e+02,  6.52677507e+02,  5.87155040e+02,\n",
              "        5.22878938e+02,  4.61006955e+02,  3.97798942e+02,  3.29366764e+02,\n",
              "        2.56989756e+02,  1.68969173e+02,  6.79259378e+01, -4.62437707e+01,\n",
              "       -1.64276467e+02, -2.97804667e+02, -4.34938584e+02, -5.69541814e+02,\n",
              "       -6.94595852e+02, -7.96967466e+02, -8.82630056e+02, -9.38210667e+02,\n",
              "        4.25947271e+02,  4.79738881e+02,  5.38260836e+02,  5.94823283e+02,\n",
              "        6.53062887e+02,  7.05721367e+02,  7.49278923e+02,  7.80815450e+02,\n",
              "        7.97743123e+02,  8.01479633e+02,  7.91240445e+02,  7.69296475e+02,\n",
              "        7.41342766e+02,  7.08765821e+02,  6.79265837e+02,  6.59618733e+02,\n",
              "        6.56708867e+02,  6.75040407e+02,  7.22118946e+02,  8.01580917e+02,\n",
              "       -3.29297856e+02, -3.16150488e+02, -3.13389221e+02, -3.18422755e+02,\n",
              "       -3.29179789e+02, -3.42240476e+02, -3.54110301e+02, -3.61501532e+02,\n",
              "       -3.61921991e+02, -3.53659824e+02, -3.35702279e+02, -3.08567855e+02,\n",
              "       -2.76261660e+02, -2.37586467e+02, -1.98310625e+02, -1.63054449e+02,\n",
              "       -1.36720253e+02, -1.24352372e+02, -1.28412395e+02, -1.53412987e+02],      dtype=float64)"
            ]
          },
          "execution_count": 43,
          "metadata": {},
          "output_type": "execute_result"
        }
      ],
      "source": [
        "grad_Z = jit(grad(L, argnums=0))\n",
        "\n",
        "# Run once to trigger JIT compilation.\n",
        "grad_Z(Z_warm, X, U, M, f, two_step_dict, lmbda)\n",
        "# Warm start here !!!"
      ]
    },
    {
      "attachments": {},
      "cell_type": "markdown",
      "metadata": {
        "id": "KWnglrOmnk28"
      },
      "source": [
        "Run the gradient descent for `100` epochs"
      ]
    },
    {
      "cell_type": "markdown",
      "metadata": {},
      "source": [
        "### Optimization of L"
      ]
    },
    {
      "cell_type": "code",
      "execution_count": 44,
      "metadata": {},
      "outputs": [],
      "source": [
        "# Load the warm-up\n",
        "Z = np.copy(Z_warm)"
      ]
    },
    {
      "cell_type": "code",
      "execution_count": 45,
      "metadata": {},
      "outputs": [],
      "source": [
        "# solver = LBFGS(fun=L, maxiter=1000)\n",
        "# res = solver.run(Z, X = X, U = U, M = M, f =f , two_step_dict=two_step_dict, lmbd=lmbda)"
      ]
    },
    {
      "cell_type": "code",
      "execution_count": 46,
      "metadata": {},
      "outputs": [],
      "source": [
        "solver = LBFGS(fun=L, maxiter=1000, linesearch='backtracking', history_size = 20)"
      ]
    },
    {
      "cell_type": "code",
      "execution_count": 47,
      "metadata": {},
      "outputs": [],
      "source": [
        "res = solver.run(Z, X = X, U = U, M = M, f =f , two_step_dict=two_step_dict, lmbd=lmbda)"
      ]
    },
    {
      "cell_type": "code",
      "execution_count": 48,
      "metadata": {},
      "outputs": [],
      "source": [
        "Z = res.params"
      ]
    },
    {
      "cell_type": "code",
      "execution_count": 49,
      "metadata": {},
      "outputs": [],
      "source": [
        "# u_t = u_train.T.reshape(N*m,1)\n",
        "# # Load true gradients from 2-step\n",
        "# u_x_train = np.load('data/u_x_train.npy')\n",
        "# u_xx_train = np.load('data/u_xx_train.npy')\n",
        "# # Build true Z\n",
        "# Z_true = np.hstack([u_t, u_x_train.T.reshape(N*m,1),u_xx_train.T.reshape(N*m,1)])"
      ]
    },
    {
      "cell_type": "code",
      "execution_count": 50,
      "metadata": {},
      "outputs": [],
      "source": [
        "# Only do this for the first time - \n",
        "#Z = np.copy(Z_warm)\n",
        "#Z = np.load('data/Z.npy')"
      ]
    },
    {
      "cell_type": "markdown",
      "metadata": {},
      "source": [
        "0. Run it for more iterations until it actually converges to a minimum!!!\n",
        "1. Line search (using $p_k = - \\nabla f$) using Armijo condition. Pick $\\alpha_k$ such that satisfy the two Wolfe conditions. Test: Loss must always goes down here. \n",
        "2. Newton-Armijo.\n",
        "3. Read Quasi-Newton algorithm in Nocedal, when the Hessian is not PD.  "
      ]
    },
    {
      "cell_type": "code",
      "execution_count": 51,
      "metadata": {
        "colab": {
          "base_uri": "https://localhost:8080/"
        },
        "id": "Z9zAYK3Onk28",
        "outputId": "4fd3b5ca-7ba7-48ea-a37a-5bd73f86e8e7"
      },
      "outputs": [],
      "source": [
        "# # mses = []\n",
        "# # S = jnp.zeros((N*m,4))\n",
        "# # kernel = Gaussian\n",
        "# # If trained previously use Z\n",
        "# # if np.all(Z != Z_warm):\n",
        "# #     Z = np.load('data/Z.npy')\n",
        "# # else:\n",
        "# #     Z = np.copy(Z_warm)\n",
        "# Z = np.copy(Z_warm)\n",
        "# learning_rate = 1e-7\n",
        "# for i in range(100):\n",
        "#     delta_Z = grad_Z(Z, X, U, M, f, two_step_dict, lmbda)\n",
        "#     lr = jnp.linalg.norm(Z)/jnp.linalg.norm(delta_Z)*learning_rate\n",
        "#     Z -= lr * delta_Z\n",
        "\n",
        "#     if i % 10 == 0:\n",
        "#         print('iter:', i )\n",
        "#         print('loss: ', L(Z, X, U, M, f, two_step_dict, lmbda))\n",
        "#         #print('mse:', mse)\n",
        "    \n",
        "# # Save at the end of iterations\n",
        "# #np.save('data/Z.npy',Z)"
      ]
    },
    {
      "cell_type": "code",
      "execution_count": 52,
      "metadata": {},
      "outputs": [
        {
          "data": {
            "text/plain": [
              "Array(False, dtype=bool)"
            ]
          },
          "execution_count": 52,
          "metadata": {},
          "output_type": "execute_result"
        }
      ],
      "source": [
        "np.all(Z_warm==Z)"
      ]
    },
    {
      "cell_type": "markdown",
      "metadata": {},
      "source": [
        "Evaluate `Z`"
      ]
    },
    {
      "cell_type": "code",
      "execution_count": 53,
      "metadata": {},
      "outputs": [],
      "source": [
        "S = jnp.zeros((N_gh_tr*m, 5))\n",
        "\n",
        "# Split Z\n",
        "for i in range(m):\n",
        "    Zi = Z[i*N_gh_tr:(i+1)*N_gh_tr]\n",
        "    optim_sgm = two_step_dict.get('optim_sgm_u')[i]\n",
        "    optim_nugget = two_step_dict.get('optim_nugget_u')[i]\n",
        "    G = K_2D(Gaussian2D, X[:N_gh_tr], X[:N_gh_tr], optim_sgm) \n",
        "    alphas = jnp.linalg.solve(G + optim_nugget*jnp.eye(N_gh_tr),Zi)\n",
        "    Zi_x = jnp.dot(K_dot2D(Gaussian2D, X[:N_gh_tr], X[:N_gh_tr], optim_sgm, 1), alphas)\n",
        "    Zi_xx = jnp.dot(K_2dot2D(Gaussian2D, X[:N_gh_tr], X[:N_gh_tr], optim_sgm, 1,1), alphas)\n",
        "    Si = jnp.vstack((X[:N_gh_tr].T,Zi, Zi_x,Zi_xx)).T\n",
        "    S = S.at[i*N_gh_tr:(i+1)*N_gh_tr,:].set(Si)\n",
        "\n",
        "\n",
        "\n",
        "# Load gradients from 2-step\n",
        "U_te_pred = np.load('data/U_te_pred.npy')\n",
        "U_x_te_pred = np.load('data/U_x_te_pred.npy')\n",
        "U_xx_te_pred = np.load('data/U_xx_te_pred.npy')\n",
        "s_train = S\n",
        "s_test = np.hstack((X_te, U_te.T.reshape(-1,1), U_x_te_pred.T.reshape(-1,1), U_xx_te_pred.T.reshape(-1,1))) # (N_te*m, 5)\n",
        "f_train = two_step_dict['f_gh_tr_pred']\n",
        "f_test = U_t_te.T.reshape(N_te*m,1).flatten()\n",
        "f_train2 = -s_train[:,2]*s_train[:,3] + 0.01*s_train[:,4]\n",
        "f_test2 = -s_test[:,2]*s_test[:,3] + 0.01*s_test[:,4]\n",
        "scaler_s_train = MinMaxScaler()\n",
        "s_train_s = scaler_s_train.fit_transform(s_train)\n",
        "s_test_s = scaler_s_train.transform(s_test)\n",
        "\n",
        "optim_sgm_P, optim_nugget_P = grid_search_RBF(s_train_s , f_train)\n",
        "\n",
        "krr_optimal_P = KernelRidge(kernel='rbf', alpha = two_step_dict.get('optim_nugget_P'), gamma=1/(2*(two_step_dict.get('optim_sgm_P')**2))) \n",
        "krr_optimal_P.fit(s_train_s, f_train) \n",
        "f_pred_train = krr_optimal_P.predict(s_train_s) \n",
        "f_pred_test = krr_optimal_P.predict(s_test_s)"
      ]
    },
    {
      "cell_type": "code",
      "execution_count": 54,
      "metadata": {},
      "outputs": [
        {
          "data": {
            "image/png": "[encoded data removed]",
            "text/plain": [
              "<Figure size 700x500 with 8 Axes>"
            ]
          },
          "metadata": {},
          "output_type": "display_data"
        }
      ],
      "source": [
        "# Interpolant P^* at gh_tr points : P^*(hat S) vs. P(hat S)\n",
        "fig, axs = plt.subplots(figsize = (7,5), nrows = m, ncols = 2, sharex = True, sharey = True)\n",
        "fig.subplots_adjust(hspace=0.2, wspace=0.1)\n",
        "fig.suptitle('Second step: P ({}) predictions at training points'.format(m))\n",
        "for i in range(m):\n",
        "        axsi0 = axs[i,0].tricontourf(S[i*N_gh_tr:(i+1)*N_gh_tr,0], S[i*N_gh_tr:(i+1)*N_gh_tr,1], f_pred_train[i*N_gh_tr:(i+1)*N_gh_tr])\n",
        "        plt.colorbar(axsi0, ax = axs[i,0])\n",
        "        axsi1 = axs[i,1].tricontourf(S[i*N_gh_tr:(i+1)*N_gh_tr,0], S[i*N_gh_tr:(i+1)*N_gh_tr,1], f_train2[i*N_gh_tr:(i+1)*N_gh_tr])\n",
        "        plt.colorbar(axsi1, ax = axs[i,1])\n",
        "        axs[i,0].set_yticklabels([])\n",
        "        axs[i,0].set_xticklabels([])\n",
        "        axs[i,0].set_yticks([])\n",
        "        axs[i,0].set_xticks([])\n",
        "        axs[i,1].set_yticklabels([])\n",
        "        axs[i,1].set_xticklabels([])\n",
        "        axs[i,1].set_yticks([])\n",
        "        axs[i,1].set_xticks([])"
      ]
    },
    {
      "cell_type": "code",
      "execution_count": 55,
      "metadata": {},
      "outputs": [
        {
          "data": {
            "image/png": "[encoded data removed]",
            "text/plain": [
              "<Figure size 700x500 with 12 Axes>"
            ]
          },
          "metadata": {},
          "output_type": "display_data"
        }
      ],
      "source": [
        "# Interpolant P^* at testing points : P^*(hat S) vs. P(hat S)\n",
        "fig, axs = plt.subplots(figsize = (7,5), nrows = m, ncols = 3, sharex = True, sharey = True)\n",
        "fig.subplots_adjust(hspace=0.2, wspace=0.1)\n",
        "fig.suptitle('P predictions with m = {} at testing points'.format(m))\n",
        "for i in range(m):\n",
        "        axsi0 = axs[i,0].tricontourf(X_te[i*N_te:(i+1)*N_te,0], X_te[i*N_te:(i+1)*N_te,1], f_pred_test[i*N_te:(i+1)*N_te])\n",
        "        plt.colorbar(axsi0, ax = axs[i,0])\n",
        "        axsi1 = axs[i,1].tricontourf(X_te[i*N_te:(i+1)*N_te,0], X_te[i*N_te:(i+1)*N_te,1], f_test2[i*N_te:(i+1)*N_te])\n",
        "        plt.colorbar(axsi1, ax = axs[i,1])\n",
        "        axsi2 = axs[i,2].tricontourf(X_te[i*N_te:(i+1)*N_te,0], X_te[i*N_te:(i+1)*N_te,1], np.abs(f_test2[i*N_te:(i+1)*N_te]-f_pred_test[i*N_te:(i+1)*N_te]))\n",
        "        plt.colorbar(axsi2, ax = axs[i,2])\n",
        "        axs[i,0].set_yticklabels([])\n",
        "        axs[i,0].set_xticklabels([])\n",
        "        axs[i,0].set_yticks([])\n",
        "        axs[i,0].set_xticks([])\n",
        "        axs[i,1].set_yticklabels([])\n",
        "        axs[i,1].set_xticklabels([])\n",
        "        axs[i,1].set_yticks([])\n",
        "        axs[i,1].set_xticks([])\n",
        "        axs[i,2].set_yticklabels([])\n",
        "        axs[i,2].set_xticklabels([])\n",
        "        axs[i,2].set_yticks([])\n",
        "        axs[i,2].set_xticks([])"
      ]
    },
    {
      "cell_type": "code",
      "execution_count": 56,
      "metadata": {},
      "outputs": [
        {
          "name": "stdout",
          "output_type": "stream",
          "text": [
            "Normalized MSEs between P and P^ for 2 functions\n",
            "m = 0 nmse_train = 0.7753551389891767\n",
            "m = 0 nmse_test = 5.799002508837929\n",
            "m = 1 nmse_train = 0.8967278016900824\n",
            "m = 1 nmse_test = 13.731678519452947\n"
          ]
        }
      ],
      "source": [
        "# NMSEs: P at training points and testing points\n",
        "print('Normalized MSEs between P and P^ for {} functions'.format(m))\n",
        "for i in range(m):\n",
        "    n_mse_train = rel_mse(f_train2[i*N_gh_tr:(i+1)*N_gh_tr],f_pred_train[i*N_gh_tr:(i+1)*N_gh_tr])\n",
        "    n_mse_test = rel_mse(f_test2[i*N_te:(i+1)*N_te], f_pred_test[i*N_te:(i+1)*N_te])\n",
        "    print('m = {} nmse_train = {}'.format(i,n_mse_train))\n",
        "    print('m = {} nmse_test = {}'.format(i,n_mse_test))"
      ]
    }
  ],
  "metadata": {
    "colab": {
      "provenance": []
    },
    "kernelspec": {
      "display_name": "base",
      "language": "python",
      "name": "python3"
    },
    "language_info": {
      "codemirror_mode": {
        "name": "ipython",
        "version": 3
      },
      "file_extension": ".py",
      "mimetype": "text/x-python",
      "name": "python",
      "nbconvert_exporter": "python",
      "pygments_lexer": "ipython3",
      "version": "3.11.3"
    },
    "vscode": {
      "interpreter": {
        "hash": "9f30f608a882a0e3e1ee7bdaf111a2fb524766c624535f9d75a6d8e97b170942"
      }
    }
  },
  "nbformat": 4,
  "nbformat_minor": 0
}
