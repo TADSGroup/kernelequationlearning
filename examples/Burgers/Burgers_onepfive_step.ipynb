{
  "cells": [
    {
      "attachments": {},
      "cell_type": "markdown",
      "metadata": {
        "id": "_Lr5zZpo4oaV"
      },
      "source": [
        "## Burgers: One-pfive step Method"
      ]
    },
    {
      "cell_type": "code",
      "execution_count": 1,
      "metadata": {},
      "outputs": [],
      "source": [
        "import sys\n",
        "#sys.path.append('/Users/josorior/Documents/UW/research/keql/KEQL/source')\n",
        "#sys.path.append('/Users/yasaminjalalian/Repos/KEQL/source')\n",
        "sys.path.append('/home/juanfelipe/Desktop/research/keql/source')"
      ]
    },
    {
      "cell_type": "code",
      "execution_count": 2,
      "metadata": {},
      "outputs": [],
      "source": [
        "import os\n",
        "\n",
        "os.environ[\"XLA_PYTHON_CLIENT_PREALLOCATE\"] = \"false\""
      ]
    },
    {
      "cell_type": "code",
      "execution_count": 3,
      "metadata": {
        "id": "0XfbL3pvnk27"
      },
      "outputs": [
        {
          "name": "stdout",
          "output_type": "stream",
          "text": [
            "(100, 320)\n"
          ]
        }
      ],
      "source": [
        "import numpy as np\n",
        "import matplotlib.pyplot as plt \n",
        "from sklearn.kernel_ridge import KernelRidge\n",
        "from tqdm import tqdm\n",
        "from parameter_learning import *\n",
        "from plotlib import *\n",
        "from models import * \n",
        "from kernels import *\n",
        "from data_loader_Burgers5 import *\n",
        "from loss import *\n",
        "from utils import *\n",
        "\n",
        "import jax.numpy as jnp\n",
        "from jax import grad, jit\n",
        "from jax.scipy.optimize import minimize\n",
        "from jax.config import config; \n",
        "config.update(\"jax_enable_x64\", True)\n",
        "\n",
        "from functools import partial # for jit to make codes faster"
      ]
    },
    {
      "cell_type": "code",
      "execution_count": 4,
      "metadata": {},
      "outputs": [],
      "source": [
        "# Import values from 2-step\n",
        "two_step_dict = np.load('data/two_step_dict.npy', allow_pickle=True)\n",
        "two_step_dict = two_step_dict.item()"
      ]
    },
    {
      "cell_type": "code",
      "execution_count": 5,
      "metadata": {},
      "outputs": [
        {
          "data": {
            "text/plain": [
              "{'optim_sgm_u': array([1.06175706, 6.40914066, 2.12145157]),\n",
              " 'optim_nugget_u': array([1.00000000e-08, 4.83293024e-09, 1.00000000e-14]),\n",
              " 'rkhs_u': [60212845.59795037],\n",
              " 'optim_sgm_P': 0.14628186644230176,\n",
              " 'optim_nugget_P': 1e-08,\n",
              " 'nugget_P': 1e-07,\n",
              " 'rkhs_P_train': 1.0081583328838113,\n",
              " 'f_gh_tr_pred': array([-0.02174992, -0.0231847 , -0.02257531, ...,  0.00156083,\n",
              "         0.00157798,  0.00161245]),\n",
              " 'rkhs_P_test': 0.3246365905999198}"
            ]
          },
          "execution_count": 5,
          "metadata": {},
          "output_type": "execute_result"
        }
      ],
      "source": [
        "two_step_dict"
      ]
    },
    {
      "attachments": {},
      "cell_type": "markdown",
      "metadata": {
        "id": "R0dMsZlmnk27"
      },
      "source": [
        "### Cost function"
      ]
    },
    {
      "attachments": {},
      "cell_type": "markdown",
      "metadata": {},
      "source": [
        "Create objective function `L`"
      ]
    },
    {
      "cell_type": "markdown",
      "metadata": {},
      "source": [
        "$$\n",
        "L(Z_0) = f(X_N)^T \\Gamma(S_N,S_N)^{-1} f(X_N) + \\lambda \\sum_{i=1}^m (Z_{0,i*N:(i+1)*N})^T K(X_N,X_N)^{-1}(Z_{0,i*N:(i+1)*N})\n",
        "$$\n",
        "where\n",
        "$$\n",
        "Z_0[M] = U[M].\n",
        "$$"
      ]
    },
    {
      "cell_type": "markdown",
      "metadata": {},
      "source": [
        "1. Get `f_gh_tr_pred` from two step to be the new `f` in the 1.5 step method."
      ]
    },
    {
      "cell_type": "code",
      "execution_count": 6,
      "metadata": {},
      "outputs": [],
      "source": [
        "# First column in Gamma(S_N,S_N)\n",
        "X = X_gh_tr # (N_gh_tr*m, 2)\n",
        "\n",
        "# Second column in Gamma(S_N,S_N)\n",
        "U = U_gh_tr.reshape(N_gh_tr*m,) # (N_gh_tr*m, )\n",
        "\n",
        "# f(X_N)\n",
        "#f = f_Test(model,e_test)\n",
        "f = two_step_dict['f_gh_tr_pred']"
      ]
    },
    {
      "cell_type": "code",
      "execution_count": 7,
      "metadata": {},
      "outputs": [],
      "source": [
        "# Load values of U predicted from 2-step at te points: originally wrong\n",
        "U_gh_tr_pred = np.load('data/U_gh_tr_pred.npy')\n",
        "U_x_gh_tr_pred = np.load('data/U_x_gh_tr_pred.npy')\n",
        "U_xx_gh_tr_pred = np.load('data/U_xx_gh_tr_pred.npy')\n",
        "# Build Z_warm\n",
        "Z_warm = jnp.array(U_gh_tr_pred.T.reshape(N_gh_tr*m,)) "
      ]
    },
    {
      "cell_type": "code",
      "execution_count": 8,
      "metadata": {},
      "outputs": [],
      "source": [
        "# # Load values of U predicted from 2-step at te points: originally wrong\n",
        "# U_te_pred = np.load('data/U_te_pred.npy')\n",
        "# U_x_te_pred = np.load('data/U_x_te_pred.npy')\n",
        "# U_xx_te_pred = np.load('data/U_xx_te_pred.npy')\n",
        "# # Build Z_warm\n",
        "# Z_warm = jnp.array(U_te_pred.T.reshape(N_te*m,)) "
      ]
    },
    {
      "cell_type": "markdown",
      "metadata": {},
      "source": [
        "First iteration RKHS norm of P "
      ]
    },
    {
      "cell_type": "code",
      "execution_count": 9,
      "metadata": {},
      "outputs": [],
      "source": [
        "S = jnp.zeros((N_gh_tr*m, 5))\n",
        "\n",
        "# Split Z\n",
        "for i in range(m):\n",
        "    Zi = Z_warm[i*N_gh_tr:(i+1)*N_gh_tr]\n",
        "    optim_sgm = two_step_dict.get('optim_sgm_u')[i]\n",
        "    optim_nugget = two_step_dict.get('optim_nugget_u')[i]\n",
        "    G = K_2D(Gaussian2D, X[:N_gh_tr], X[:N_gh_tr], optim_sgm) \n",
        "    alphas = jnp.linalg.solve(G + optim_nugget*jnp.eye(N_gh_tr),Zi)\n",
        "\n",
        "    Zi_x = jnp.dot(K_dot2D(Gaussian2D, X[:N_gh_tr], X[:N_gh_tr], optim_sgm, 1), alphas)\n",
        "    Zi_xx = jnp.dot(K_2dot2D(Gaussian2D, X[:N_gh_tr], X[:N_gh_tr], optim_sgm, 1,1), alphas)\n",
        "\n",
        "    Si = jnp.vstack((X[:N_gh_tr].T, Zi, Zi_x,Zi_xx)).T\n",
        "    # print shapes and values here\n",
        "    S = S.at[i*N_gh_tr:(i+1)*N_gh_tr,:].set(Si)\n",
        "# Scaling S_N\n",
        "scaler_s_train = MinMaxScaler()\n",
        "S = scaler_s_train.fit_transform(S)\n",
        "S = jnp.array(S)\n",
        "# Gamma(S_N,S_N)\n",
        "optim_sgm_P = two_step_dict.get('optim_sgm_P')\n",
        "Gamma = K(Gaussian, S, S, optim_sgm_P)\n",
        "nugget_P = two_step_dict.get('optim_nugget_P') \n",
        "Gamma = Gamma + nugget_P*jnp.eye(jnp.size(Gamma,0))\n",
        "#print(\"cond(Gamma) = \", jnp.linalg.cond(Gamma))\n",
        "\n",
        "# (Gamma(S_N,S_N) + alpha_Gamma*I)^-1 * f\n",
        "b = jnp.linalg.solve(Gamma,f)\n",
        "\n",
        "rkhs_P_first_iter = jnp.dot(f.T , b)"
      ]
    },
    {
      "cell_type": "markdown",
      "metadata": {},
      "source": [
        "First iteration RKHS norm of u"
      ]
    },
    {
      "cell_type": "code",
      "execution_count": 10,
      "metadata": {},
      "outputs": [],
      "source": [
        "# Second term\n",
        "sigma_K = jnp.array(two_step_dict.get('optim_sgm_u'))\n",
        "nugget_K = two_step_dict.get('optim_nugget_u')\n",
        "K_XNs = []\n",
        "for i in range(m):\n",
        "    K_XN = K(Gaussian,X_gh_tr[:N_gh_tr],X_gh_tr[:N_gh_tr],sigma_K[i]) \n",
        "    K_XNs.append(K_XN + nugget_K[i]*jnp.eye(N_gh_tr))\n",
        "\n",
        "rkhs_u_first_iter = []\n",
        "for i in range(m):\n",
        "    Zi = Z_warm[i*N_gh_tr:(i+1)*N_gh_tr]\n",
        "    c = jnp.linalg.solve(K_XNs[i],Zi)\n",
        "    rkhs_u_first_iter.append(jnp.reshape(jnp.dot(Zi.T , c),()))"
      ]
    },
    {
      "cell_type": "code",
      "execution_count": 11,
      "metadata": {},
      "outputs": [
        {
          "data": {
            "text/plain": [
              "(1200, 2)"
            ]
          },
          "execution_count": 11,
          "metadata": {},
          "output_type": "execute_result"
        }
      ],
      "source": [
        "X_tr.shape"
      ]
    },
    {
      "cell_type": "code",
      "execution_count": 12,
      "metadata": {},
      "outputs": [],
      "source": [
        "def L(Z, X, U, M, f, two_step_dict, lmbd):\n",
        "    \"\"\"Cost function for 1.5-step method.\n",
        "    \n",
        "    Args:\n",
        "        Z: Vector [Z^1 Z^2 Z^3]^T. m*N\n",
        "        X: List of mN points of dimension d.\n",
        "        U: List of N1+N2+N3 values of functions u^(1),...u^(N).\n",
        "        M: Bolean array which contains where true values reside.\n",
        "        f: List of mN values of functions u^(1),...u^(N).\n",
        "        two_step_dict: Dictionary with values from 2-step.\n",
        "        lmbd: Lagrange multiplier in the loss function.\n",
        "    Returns:\n",
        "        scalar: a cost of this solution.    \n",
        "    \"\"\" \n",
        "\n",
        "    ### Set up\n",
        "    N = 1600\n",
        "    m = 3 \n",
        "    #print('Z:', Z)\n",
        "    # Constrain the value of Z with known info\n",
        "    #Z = jnp.where(M, U, Z)\n",
        "    # Just use Z_warm instead of using line 21.\n",
        "    # Cd + 1 = 4\n",
        "    S = jnp.zeros((N_gh_tr*m, 5))\n",
        "    \n",
        "    # Split Z\n",
        "    for i in range(m):\n",
        "        Zi = Z[i*N_gh_tr:(i+1)*N_gh_tr]\n",
        "        optim_sgm = two_step_dict.get('optim_sgm_u')[i]\n",
        "        optim_nugget = two_step_dict.get('optim_nugget_u')[i]\n",
        "        G = K_2D(Gaussian2D, X[:N_gh_tr], X[:N_gh_tr], optim_sgm) \n",
        "        alphas = jnp.linalg.solve(G + optim_nugget*jnp.eye(N),Zi)\n",
        "\n",
        "        Zi_x = jnp.dot(K_dot2D(Gaussian2D, X[:N_gh_tr], X[:N_gh_tr], optim_sgm, 1), alphas)\n",
        "        Zi_xx = jnp.dot(K_2dot2D(Gaussian2D, X[:N_gh_tr], X[:N_gh_tr], optim_sgm, 1,1), alphas)\n",
        "\n",
        "        Si = jnp.vstack((X[:N].T,Zi, Zi_x,Zi_xx)).T\n",
        "        # print shapes and values here\n",
        "        S = S.at[i*N_gh_tr:(i+1)*N_gh_tr,:].set(Si)\n",
        "    # Scaling S_N\n",
        "    scaler_s_train = MinMaxScaler()\n",
        "    S = scaler_s_train.fit_transform(S)\n",
        "    S = jnp.array(S)\n",
        "    # Gamma(S_N,S_N)\n",
        "    optim_sgm_P = two_step_dict.get('optim_sgm_P')\n",
        "    Gamma = K(Gaussian, S, S, optim_sgm_P)\n",
        "    nugget_P = two_step_dict.get('nugget_P') \n",
        "    Gamma = Gamma + nugget_P*jnp.eye(jnp.size(Gamma,0))\n",
        "    #print(\"cond(Gamma) = \", jnp.linalg.cond(Gamma))\n",
        "\n",
        "    # (Gamma(S_N,S_N) + alpha_Gamma*I)^-1 * f\n",
        "    b = jnp.linalg.solve(Gamma,f)\n",
        "\n",
        "    # First term\n",
        "    #L1 = jnp.dot(f.T , b) / two_step_dict.get('rkhs_P_train')\n",
        "    L1 = jnp.dot(f.T , b) / rkhs_P_first_iter\n",
        "    #print('L1: ', L1)\n",
        "\n",
        "    # Second term\n",
        "    sigma_K = jnp.array(two_step_dict.get('optim_sgm_u'))\n",
        "    nugget_K = two_step_dict.get('optim_nugget_u')\n",
        "    K_XNs = []\n",
        "    for i in range(m):\n",
        "        K_XN = K(Gaussian,X[:N_gh_tr],X[:N_gh_tr],sigma_K[i]) \n",
        "        K_XNs.append(K_XN + nugget_K[i]*jnp.eye(N_gh_tr))\n",
        "    \n",
        "    L2 = 0.\n",
        "    \n",
        "    for i in range(m):\n",
        "        Zi = Z[i*N_gh_tr:(i+1)*N_gh_tr]\n",
        "        c = jnp.linalg.solve(K_XNs[i],Zi)\n",
        "        # L2 += jnp.reshape(jnp.dot(Zi.T , c),()) / two_step_dict.get('rkhs_u')[i]\n",
        "        L2 += jnp.reshape(jnp.dot(Zi.T , c),()) / rkhs_u_first_iter[i]\n",
        "        #print('L2_',i+1,':',jnp.reshape(jnp.dot(Zi.T , c),()) / rkhs_u_first_iter[i])      \n",
        "    return L1 + lmbd*L2\n",
        "    "
      ]
    },
    {
      "attachments": {},
      "cell_type": "markdown",
      "metadata": {
        "id": "zDReXRvPnk27"
      },
      "source": [
        "#### Gradient descent"
      ]
    },
    {
      "attachments": {},
      "cell_type": "markdown",
      "metadata": {
        "id": "3SObhiRznk27"
      },
      "source": [
        "Training data"
      ]
    },
    {
      "cell_type": "code",
      "execution_count": 13,
      "metadata": {
        "id": "E9BVaRatnk27"
      },
      "outputs": [],
      "source": [
        "# First column in Gamma(S_N,S_N)\n",
        "X = X_gh_tr # (N_gh_tr*m, 2)\n",
        "\n",
        "# Second column in Gamma(S_N,S_N)\n",
        "U = U_gh_tr.reshape(N_gh_tr*m,) # N*m x 1\n",
        "\n",
        "# f(X_N)\n",
        "#f = f_Test(model,e_test)\n",
        "f = two_step_dict['f_gh_tr_pred']"
      ]
    },
    {
      "attachments": {},
      "cell_type": "markdown",
      "metadata": {
        "id": "lA8nCyg_nk28"
      },
      "source": [
        "Initial guess: `Z_warm`"
      ]
    },
    {
      "cell_type": "code",
      "execution_count": 14,
      "metadata": {},
      "outputs": [],
      "source": [
        "# Load values of U predicted from 2-step at te points: originally wrong\n",
        "U_gh_tr_pred = np.load('data/U_gh_tr_pred.npy')\n",
        "U_x_gh_tr_pred = np.load('data/U_x_gh_tr_pred.npy')\n",
        "U_xx_gh_tr_pred = np.load('data/U_xx_gh_tr_pred.npy')\n",
        "# Build Z_warm\n",
        "Z_warm = jnp.array(U_gh_tr_pred.T.reshape(N_gh_tr*m,)) "
      ]
    },
    {
      "cell_type": "code",
      "execution_count": 15,
      "metadata": {},
      "outputs": [],
      "source": [
        "lmbda = 1/m"
      ]
    },
    {
      "cell_type": "code",
      "execution_count": 16,
      "metadata": {},
      "outputs": [
        {
          "data": {
            "text/plain": [
              "Array(1.56027397, dtype=float64)"
            ]
          },
          "execution_count": 16,
          "metadata": {},
          "output_type": "execute_result"
        }
      ],
      "source": [
        "L(Z_warm, X, U, M, f, two_step_dict, lmbd=lmbda)"
      ]
    },
    {
      "attachments": {},
      "cell_type": "markdown",
      "metadata": {
        "id": "w_MgRkiDnk28"
      },
      "source": [
        "Initialize the grad functions with `jit` to be efficient"
      ]
    },
    {
      "cell_type": "code",
      "execution_count": 17,
      "metadata": {
        "colab": {
          "base_uri": "https://localhost:8080/"
        },
        "id": "lbXfnabQnk28",
        "outputId": "3877f2f6-f6ca-41b4-eebb-aaec41004fd0"
      },
      "outputs": [
        {
          "data": {
            "text/plain": [
              "Array([ 0.35755953, -3.49584457, 12.20142136, ..., -0.05458562,\n",
              "        0.04374959, -0.01797415], dtype=float64)"
            ]
          },
          "execution_count": 17,
          "metadata": {},
          "output_type": "execute_result"
        }
      ],
      "source": [
        "grad_Z = jit(grad(L, argnums=0))\n",
        "\n",
        "# Run once to trigger JIT compilation.\n",
        "grad_Z(Z_warm, X, U, M, f, two_step_dict, lmbda)\n",
        "# Warm start here !!!"
      ]
    },
    {
      "attachments": {},
      "cell_type": "markdown",
      "metadata": {
        "id": "KWnglrOmnk28"
      },
      "source": [
        "Run the gradient descent for `100` epochs"
      ]
    },
    {
      "cell_type": "markdown",
      "metadata": {},
      "source": [
        "### Optimization of L"
      ]
    },
    {
      "cell_type": "code",
      "execution_count": 18,
      "metadata": {},
      "outputs": [],
      "source": [
        "# Load the warm-up\n",
        "Z = np.copy(Z_warm)"
      ]
    },
    {
      "cell_type": "code",
      "execution_count": 19,
      "metadata": {},
      "outputs": [],
      "source": [
        "# u_t = u_train.T.reshape(N*m,1)\n",
        "# # Load true gradients from 2-step\n",
        "# u_x_train = np.load('data/u_x_train.npy')\n",
        "# u_xx_train = np.load('data/u_xx_train.npy')\n",
        "# # Build true Z\n",
        "# Z_true = np.hstack([u_t, u_x_train.T.reshape(N*m,1),u_xx_train.T.reshape(N*m,1)])"
      ]
    },
    {
      "cell_type": "code",
      "execution_count": 20,
      "metadata": {},
      "outputs": [],
      "source": [
        "# Only do this for the first time - \n",
        "#Z = np.copy(Z_warm)\n",
        "#Z = np.load('data/Z.npy')"
      ]
    },
    {
      "cell_type": "markdown",
      "metadata": {},
      "source": [
        "0. Run it for more iterations until it actually converges to a minimum!!!\n",
        "1. Line search (using $p_k = - \\nabla f$) using Armijo condition. Pick $\\alpha_k$ such that satisfy the two Wolfe conditions. Test: Loss must always goes down here. \n",
        "2. Newton-Armijo.\n",
        "3. Read Quasi-Newton algorithm in Nocedal, when the Hessian is not PD.  "
      ]
    },
    {
      "cell_type": "code",
      "execution_count": 21,
      "metadata": {
        "colab": {
          "base_uri": "https://localhost:8080/"
        },
        "id": "Z9zAYK3Onk28",
        "outputId": "4fd3b5ca-7ba7-48ea-a37a-5bd73f86e8e7"
      },
      "outputs": [
        {
          "name": "stdout",
          "output_type": "stream",
          "text": [
            "iter: 0\n",
            "loss:  1.5595482479380975\n",
            "iter: 10\n",
            "loss:  1.5546783888903661\n",
            "iter: 20\n",
            "loss:  1.5493278706229532\n",
            "iter: 30\n",
            "loss:  1.5428031413126813\n",
            "iter: 40\n",
            "loss:  1.5352342279592992\n",
            "iter: 50\n",
            "loss:  1.526900624578499\n",
            "iter: 60\n",
            "loss:  1.5180726834613316\n",
            "iter: 70\n",
            "loss:  1.5090977068607847\n",
            "iter: 80\n",
            "loss:  1.500382502126759\n",
            "iter: 90\n",
            "loss:  1.4918945641207775\n",
            "iter: 100\n",
            "loss:  1.4836894731886732\n",
            "iter: 110\n",
            "loss:  1.4757993896315396\n",
            "iter: 120\n",
            "loss:  1.4682296551547152\n",
            "iter: 130\n",
            "loss:  1.460978816270178\n",
            "iter: 140\n",
            "loss:  1.454024860987365\n",
            "iter: 150\n",
            "loss:  1.447347870874833\n",
            "iter: 160\n",
            "loss:  1.4409259439601243\n",
            "iter: 170\n",
            "loss:  1.4347446813949771\n",
            "iter: 180\n",
            "loss:  1.4287797071682444\n",
            "iter: 190\n",
            "loss:  1.4230122702033774\n",
            "iter: 200\n",
            "loss:  1.417425867351566\n",
            "iter: 210\n",
            "loss:  1.4120043970005502\n",
            "iter: 220\n",
            "loss:  1.4067578006848327\n",
            "iter: 230\n",
            "loss:  1.4016562652088016\n",
            "iter: 240\n",
            "loss:  1.3966994418142922\n",
            "iter: 250\n",
            "loss:  1.3918903399929863\n",
            "iter: 260\n",
            "loss:  1.3872053443892578\n",
            "iter: 270\n",
            "loss:  1.38266854425627\n",
            "iter: 280\n",
            "loss:  1.3782609045751628\n",
            "iter: 290\n",
            "loss:  1.3739601407430269\n",
            "iter: 300\n",
            "loss:  1.3698205197745783\n",
            "iter: 310\n",
            "loss:  1.3657679915337697\n",
            "iter: 320\n",
            "loss:  1.361851069362559\n",
            "iter: 330\n",
            "loss:  1.3580685480996022\n",
            "iter: 340\n",
            "loss:  1.3543674456614603\n",
            "iter: 350\n",
            "loss:  1.3507882612464828\n",
            "iter: 360\n",
            "loss:  1.3473336364056228\n",
            "iter: 370\n",
            "loss:  1.3439709658182901\n",
            "iter: 380\n",
            "loss:  1.3407020047865552\n",
            "iter: 390\n",
            "loss:  1.3375291490715433\n",
            "iter: 400\n",
            "loss:  1.3344824772353343\n",
            "iter: 410\n",
            "loss:  1.3315406426563576\n",
            "iter: 420\n",
            "loss:  1.3286676149848253\n",
            "iter: 430\n",
            "loss:  1.3258845367819394\n",
            "iter: 440\n",
            "loss:  1.3231776556284212\n",
            "iter: 450\n",
            "loss:  1.3205188110997637\n",
            "iter: 460\n",
            "loss:  1.3179911976524257\n",
            "iter: 470\n",
            "loss:  1.3156527087961845\n",
            "iter: 480\n",
            "loss:  1.3133516419724627\n",
            "iter: 490\n",
            "loss:  1.3111539104528196\n",
            "iter: 500\n",
            "loss:  1.3090092637435151\n",
            "iter: 510\n",
            "loss:  1.3068707623767235\n",
            "iter: 520\n",
            "loss:  1.3048905863242384\n",
            "iter: 530\n",
            "loss:  1.3029674883722917\n",
            "iter: 540\n",
            "loss:  1.301016267355378\n",
            "iter: 550\n",
            "loss:  1.2991751199431363\n",
            "iter: 560\n",
            "loss:  1.2973385938916713\n",
            "iter: 570\n",
            "loss:  1.2956277587083134\n",
            "iter: 580\n",
            "loss:  1.2939494114249392\n",
            "iter: 590\n",
            "loss:  1.2923018123990766\n",
            "iter: 600\n",
            "loss:  1.2906977649030071\n",
            "iter: 610\n",
            "loss:  1.289170198072921\n",
            "iter: 620\n",
            "loss:  1.2876380143649966\n",
            "iter: 630\n",
            "loss:  1.286083368421901\n",
            "iter: 640\n",
            "loss:  1.284550279376891\n",
            "iter: 650\n",
            "loss:  1.2831231674856416\n",
            "iter: 660\n",
            "loss:  1.2816699389940711\n",
            "iter: 670\n",
            "loss:  1.2803056866829308\n",
            "iter: 680\n",
            "loss:  1.2789835902414703\n",
            "iter: 690\n",
            "loss:  1.2776427059362083\n",
            "iter: 700\n",
            "loss:  1.2763225454924059\n",
            "iter: 710\n",
            "loss:  1.2750432284017175\n",
            "iter: 720\n",
            "loss:  1.273822179849037\n",
            "iter: 730\n",
            "loss:  1.2726281824033547\n",
            "iter: 740\n",
            "loss:  1.2714067511632239\n",
            "iter: 750\n",
            "loss:  1.2701775922793794\n",
            "iter: 760\n",
            "loss:  1.2690380949442592\n",
            "iter: 770\n",
            "loss:  1.2678952547640545\n",
            "iter: 780\n",
            "loss:  1.2667053714907652\n",
            "iter: 790\n",
            "loss:  1.2656150283060992\n",
            "iter: 800\n",
            "loss:  1.264478018485247\n",
            "iter: 810\n",
            "loss:  1.2634178734166417\n",
            "iter: 820\n",
            "loss:  1.2622714832055872\n",
            "iter: 830\n",
            "loss:  1.2611731146279797\n",
            "iter: 840\n",
            "loss:  1.2600703530242456\n",
            "iter: 850\n",
            "loss:  1.259032356678009\n",
            "iter: 860\n",
            "loss:  1.2579259513511543\n",
            "iter: 870\n",
            "loss:  1.2568797395875373\n",
            "iter: 880\n",
            "loss:  1.2558966846410937\n",
            "iter: 890\n",
            "loss:  1.254878703305228\n",
            "iter: 900\n",
            "loss:  1.25385961950111\n",
            "iter: 910\n",
            "loss:  1.2528333397436913\n",
            "iter: 920\n",
            "loss:  1.2518814495871402\n",
            "iter: 930\n",
            "loss:  1.2508837241146196\n",
            "iter: 940\n",
            "loss:  1.2499616225863652\n",
            "iter: 950\n",
            "loss:  1.249036085158618\n",
            "iter: 960\n",
            "loss:  1.2480481305105506\n",
            "iter: 970\n",
            "loss:  1.2471341479672347\n",
            "iter: 980\n",
            "loss:  1.246204611418816\n",
            "iter: 990\n",
            "loss:  1.245276614640471\n",
            "iter: 1000\n",
            "loss:  1.2443699339653784\n",
            "iter: 1010\n",
            "loss:  1.243430852328327\n",
            "iter: 1020\n",
            "loss:  1.2425315848791043\n",
            "iter: 1030\n",
            "loss:  1.2416738733764574\n",
            "iter: 1040\n",
            "loss:  1.2407539789149857\n",
            "iter: 1050\n",
            "loss:  1.2398740564514235\n",
            "iter: 1060\n",
            "loss:  1.2389847190506513\n",
            "iter: 1070\n",
            "loss:  1.2380636834126795\n",
            "iter: 1080\n",
            "loss:  1.2372361567414056\n",
            "iter: 1090\n",
            "loss:  1.2363439419698836\n",
            "iter: 1100\n",
            "loss:  1.2354628591216739\n",
            "iter: 1110\n",
            "loss:  1.2345734003245468\n",
            "iter: 1120\n",
            "loss:  1.2337563543797407\n",
            "iter: 1130\n",
            "loss:  1.232870678347514\n",
            "iter: 1140\n",
            "loss:  1.2320583447663838\n",
            "iter: 1150\n",
            "loss:  1.2311837781543318\n",
            "iter: 1160\n",
            "loss:  1.2303795176656003\n",
            "iter: 1170\n",
            "loss:  1.2296283981481695\n",
            "iter: 1180\n",
            "loss:  1.2287390803025446\n",
            "iter: 1190\n",
            "loss:  1.227949197010113\n",
            "iter: 1200\n",
            "loss:  1.2271100189679145\n",
            "iter: 1210\n",
            "loss:  1.226276713185344\n",
            "iter: 1220\n",
            "loss:  1.2255065028280285\n",
            "iter: 1230\n",
            "loss:  1.2246716367857944\n",
            "iter: 1240\n",
            "loss:  1.2239194846473895\n",
            "iter: 1250\n",
            "loss:  1.223076854270397\n",
            "iter: 1260\n",
            "loss:  1.222351237751273\n",
            "iter: 1270\n",
            "loss:  1.22154610639731\n",
            "iter: 1280\n",
            "loss:  1.220805131776872\n",
            "iter: 1290\n",
            "loss:  1.2200249673366288\n",
            "iter: 1300\n",
            "loss:  1.2192167444099757\n",
            "iter: 1310\n",
            "loss:  1.2184587198253147\n",
            "iter: 1320\n",
            "loss:  1.2177502569483432\n",
            "iter: 1330\n",
            "loss:  1.2169011794777687\n",
            "iter: 1340\n",
            "loss:  1.2162188110626846\n",
            "iter: 1350\n",
            "loss:  1.215420292136429\n",
            "iter: 1360\n",
            "loss:  1.2146971323607758\n",
            "iter: 1370\n",
            "loss:  1.213990885034887\n",
            "iter: 1380\n",
            "loss:  1.2132179827055594\n",
            "iter: 1390\n",
            "loss:  1.2124761312095118\n",
            "iter: 1400\n",
            "loss:  1.2117961966884432\n",
            "iter: 1410\n",
            "loss:  1.211101308424421\n",
            "iter: 1420\n",
            "loss:  1.2103355647946799\n",
            "iter: 1430\n",
            "loss:  1.20966502703019\n",
            "iter: 1440\n",
            "loss:  1.208902728716112\n",
            "iter: 1450\n",
            "loss:  1.208242031905138\n",
            "iter: 1460\n",
            "loss:  1.207567915917087\n",
            "iter: 1470\n",
            "loss:  1.2068374120970848\n",
            "iter: 1480\n",
            "loss:  1.2062432621259662\n",
            "iter: 1490\n",
            "loss:  1.20547835324481\n",
            "iter: 1500\n",
            "loss:  1.2048345648512189\n",
            "iter: 1510\n",
            "loss:  1.204101417904861\n",
            "iter: 1520\n",
            "loss:  1.2034447792803944\n",
            "iter: 1530\n",
            "loss:  1.2028134202067813\n",
            "iter: 1540\n",
            "loss:  1.2021712511667753\n",
            "iter: 1550\n",
            "loss:  1.2014699840320708\n",
            "iter: 1560\n",
            "loss:  1.2007688143931696\n",
            "iter: 1570\n",
            "loss:  1.2001290605478692\n",
            "iter: 1580\n",
            "loss:  1.1994868353643735\n",
            "iter: 1590\n",
            "loss:  1.1988402999284609\n",
            "iter: 1600\n",
            "loss:  1.1981748684218423\n",
            "iter: 1610\n",
            "loss:  1.1975225814064892\n",
            "iter: 1620\n",
            "loss:  1.1968709143856735\n",
            "iter: 1630\n",
            "loss:  1.19630013729849\n",
            "iter: 1640\n",
            "loss:  1.1957594004483787\n",
            "iter: 1650\n",
            "loss:  1.1950679151484684\n",
            "iter: 1660\n",
            "loss:  1.1944536881918357\n",
            "iter: 1670\n",
            "loss:  1.193846725891683\n",
            "iter: 1680\n",
            "loss:  1.193166081131407\n",
            "iter: 1690\n",
            "loss:  1.1925527807862502\n",
            "iter: 1700\n",
            "loss:  1.191962439990325\n",
            "iter: 1710\n",
            "loss:  1.1913743855171255\n",
            "iter: 1720\n",
            "loss:  1.1908015325078454\n",
            "iter: 1730\n",
            "loss:  1.1902312410001565\n",
            "iter: 1740\n",
            "loss:  1.1895421495959375\n",
            "iter: 1750\n",
            "loss:  1.1889149910843444\n",
            "iter: 1760\n",
            "loss:  1.188532303238982\n",
            "iter: 1770\n",
            "loss:  1.1877776985637472\n",
            "iter: 1780\n",
            "loss:  1.1872450640793528\n",
            "iter: 1790\n",
            "loss:  1.1866689279773324\n",
            "iter: 1800\n",
            "loss:  1.1861595529474143\n",
            "iter: 1810\n",
            "loss:  1.1855059464192743\n",
            "iter: 1820\n",
            "loss:  1.1849268208350352\n",
            "iter: 1830\n",
            "loss:  1.184389840721796\n",
            "iter: 1840\n",
            "loss:  1.1838323359346787\n",
            "iter: 1850\n",
            "loss:  1.183253466329382\n",
            "iter: 1860\n",
            "loss:  1.1827685270847894\n",
            "iter: 1870\n",
            "loss:  1.1821568144876375\n",
            "iter: 1880\n",
            "loss:  1.1816822804150828\n",
            "iter: 1890\n",
            "loss:  1.181079723726122\n",
            "iter: 1900\n",
            "loss:  1.1805802828513121\n",
            "iter: 1910\n",
            "loss:  1.1800765113210003\n",
            "iter: 1920\n",
            "loss:  1.1794782552041136\n",
            "iter: 1930\n",
            "loss:  1.1789681515993853\n",
            "iter: 1940\n",
            "loss:  1.1784524929997198\n",
            "iter: 1950\n",
            "loss:  1.1779331802792121\n",
            "iter: 1960\n",
            "loss:  1.177356172367424\n",
            "iter: 1970\n",
            "loss:  1.1768038835021772\n",
            "iter: 1980\n",
            "loss:  1.1763349336951547\n",
            "iter: 1990\n",
            "loss:  1.1757946537949595\n",
            "iter: 2000\n",
            "loss:  1.175306018624833\n",
            "iter: 2010\n",
            "loss:  1.174798186326183\n",
            "iter: 2020\n",
            "loss:  1.1742972182449358\n",
            "iter: 2030\n",
            "loss:  1.1737583512777963\n",
            "iter: 2040\n",
            "loss:  1.1732514349269119\n",
            "iter: 2050\n",
            "loss:  1.1727761051582672\n",
            "iter: 2060\n",
            "loss:  1.1722660749553406\n",
            "iter: 2070\n",
            "loss:  1.1718151050318923\n",
            "iter: 2080\n",
            "loss:  1.1712622326388653\n",
            "iter: 2090\n",
            "loss:  1.170809573444798\n",
            "iter: 2100\n",
            "loss:  1.1704019752377808\n",
            "iter: 2110\n",
            "loss:  1.1697928603377756\n",
            "iter: 2120\n",
            "loss:  1.169402686757252\n",
            "iter: 2130\n",
            "loss:  1.1688008119429465\n",
            "iter: 2140\n",
            "loss:  1.1683614419366326\n",
            "iter: 2150\n",
            "loss:  1.1678961339038627\n",
            "iter: 2160\n",
            "loss:  1.1674580976255002\n",
            "iter: 2170\n",
            "loss:  1.1669857725296826\n",
            "iter: 2180\n",
            "loss:  1.166478309689146\n",
            "iter: 2190\n",
            "loss:  1.1659791145949543\n",
            "iter: 2200\n",
            "loss:  1.165585330251648\n",
            "iter: 2210\n",
            "loss:  1.165138183256604\n",
            "iter: 2220\n",
            "loss:  1.1646755767612427\n",
            "iter: 2230\n",
            "loss:  1.1641773431369533\n",
            "iter: 2240\n",
            "loss:  1.1637135925112403\n",
            "iter: 2250\n",
            "loss:  1.1632828238233568\n",
            "iter: 2260\n",
            "loss:  1.1628478292339661\n",
            "iter: 2270\n",
            "loss:  1.1624471756170625\n",
            "iter: 2280\n",
            "loss:  1.1619888539924557\n",
            "iter: 2290\n",
            "loss:  1.1614778522186866\n",
            "iter: 2300\n",
            "loss:  1.1610428441706957\n",
            "iter: 2310\n",
            "loss:  1.1606619603591484\n",
            "iter: 2320\n",
            "loss:  1.1602516364506985\n",
            "iter: 2330\n",
            "loss:  1.159788450076897\n",
            "iter: 2340\n",
            "loss:  1.159397762503941\n",
            "iter: 2350\n",
            "loss:  1.1588819494734444\n",
            "iter: 2360\n",
            "loss:  1.1585395179266391\n",
            "iter: 2370\n",
            "loss:  1.158122343160392\n",
            "iter: 2380\n",
            "loss:  1.1575570101338983\n",
            "iter: 2390\n",
            "loss:  1.157254166013174\n",
            "iter: 2400\n",
            "loss:  1.1567721598094058\n",
            "iter: 2410\n",
            "loss:  1.1563329040940709\n",
            "iter: 2420\n",
            "loss:  1.1558782198301802\n",
            "iter: 2430\n",
            "loss:  1.1555153755877745\n",
            "iter: 2440\n",
            "loss:  1.1551221766687718\n",
            "iter: 2450\n",
            "loss:  1.154751763892279\n",
            "iter: 2460\n",
            "loss:  1.1542247153929175\n",
            "iter: 2470\n",
            "loss:  1.1539591983022623\n",
            "iter: 2480\n",
            "loss:  1.1534477589722518\n",
            "iter: 2490\n",
            "loss:  1.1530498918959449\n",
            "iter: 2500\n",
            "loss:  1.1526971577544785\n",
            "iter: 2510\n",
            "loss:  1.152257658888154\n",
            "iter: 2520\n",
            "loss:  1.1518469767613133\n",
            "iter: 2530\n",
            "loss:  1.1514666312992117\n",
            "iter: 2540\n",
            "loss:  1.151152003921907\n",
            "iter: 2550\n",
            "loss:  1.1507048663418553\n",
            "iter: 2560\n",
            "loss:  1.1501409794554167\n",
            "iter: 2570\n",
            "loss:  1.1499572268140135\n",
            "iter: 2580\n",
            "loss:  1.1495462534885712\n",
            "iter: 2590\n",
            "loss:  1.1491183054515441\n",
            "iter: 2600\n",
            "loss:  1.1487172312109097\n",
            "iter: 2610\n",
            "loss:  1.1483677194606117\n",
            "iter: 2620\n",
            "loss:  1.1480296301531534\n",
            "iter: 2630\n",
            "loss:  1.147599997846123\n",
            "iter: 2640\n",
            "loss:  1.147099835002632\n",
            "iter: 2650\n",
            "loss:  1.1467674436890454\n",
            "iter: 2660\n",
            "loss:  1.1465087507032623\n",
            "iter: 2670\n",
            "loss:  1.146052998838342\n",
            "iter: 2680\n",
            "loss:  1.145683558759652\n",
            "iter: 2690\n",
            "loss:  1.145289053864632\n",
            "iter: 2700\n",
            "loss:  1.144930169426573\n",
            "iter: 2710\n",
            "loss:  1.1445675061512846\n",
            "iter: 2720\n",
            "loss:  1.1442184676409026\n",
            "iter: 2730\n",
            "loss:  1.143787474317445\n",
            "iter: 2740\n",
            "loss:  1.1435156239842699\n",
            "iter: 2750\n",
            "loss:  1.1430938851157877\n",
            "iter: 2760\n",
            "loss:  1.142715405605096\n",
            "iter: 2770\n",
            "loss:  1.1423300678709305\n",
            "iter: 2780\n",
            "loss:  1.1420714895986959\n",
            "iter: 2790\n",
            "loss:  1.1416649169417155\n",
            "iter: 2800\n",
            "loss:  1.1413124949676383\n",
            "iter: 2810\n",
            "loss:  1.1408906953403508\n",
            "iter: 2820\n",
            "loss:  1.1406361195059107\n",
            "iter: 2830\n",
            "loss:  1.140265318555556\n",
            "iter: 2840\n",
            "loss:  1.1398251603482292\n",
            "iter: 2850\n",
            "loss:  1.1395464665929234\n",
            "iter: 2860\n",
            "loss:  1.1392051089588295\n",
            "iter: 2870\n",
            "loss:  1.138796078794349\n",
            "iter: 2880\n",
            "loss:  1.1384764652795747\n",
            "iter: 2890\n",
            "loss:  1.1381505623281591\n",
            "iter: 2900\n",
            "loss:  1.1377382746341096\n",
            "iter: 2910\n",
            "loss:  1.1373752300341144\n",
            "iter: 2920\n",
            "loss:  1.1371218178087719\n",
            "iter: 2930\n",
            "loss:  1.136774806664558\n",
            "iter: 2940\n",
            "loss:  1.1364767262346478\n",
            "iter: 2950\n",
            "loss:  1.1359303192065844\n",
            "iter: 2960\n",
            "loss:  1.135721946093915\n",
            "iter: 2970\n",
            "loss:  1.1354299287891585\n",
            "iter: 2980\n",
            "loss:  1.135020168156732\n",
            "iter: 2990\n",
            "loss:  1.1346896391902286\n"
          ]
        }
      ],
      "source": [
        "# mses = []\n",
        "# S = jnp.zeros((N*m,4))\n",
        "# kernel = Gaussian\n",
        "# If trained previously use Z\n",
        "# if np.all(Z != Z_warm):\n",
        "#     Z = np.load('data/Z.npy')\n",
        "# else:\n",
        "#     Z = np.copy(Z_warm)\n",
        "Z = np.copy(Z_warm)\n",
        "learning_rate = 1e-7\n",
        "for i in range(3000):\n",
        "    delta_Z = grad_Z(Z, X, U, M, f, two_step_dict, lmbda)\n",
        "    lr = jnp.linalg.norm(Z)/jnp.linalg.norm(delta_Z)*learning_rate\n",
        "    Z -= lr * delta_Z\n",
        "\n",
        "    if i % 10 == 0:\n",
        "        print('iter:', i )\n",
        "        print('loss: ', L(Z, X, U, M, f, two_step_dict, lmbda))\n",
        "        #print('mse:', mse)\n",
        "    \n",
        "# Save at the end of iterations\n",
        "#np.save('data/Z.npy',Z)"
      ]
    },
    {
      "cell_type": "markdown",
      "metadata": {},
      "source": [
        "- If it does decrease the loss for 10 steps then look for a different alpha, say alpha bigger than it was to make the algorithm more efficient ( if we find for example a flat region)."
      ]
    },
    {
      "cell_type": "code",
      "execution_count": 22,
      "metadata": {},
      "outputs": [
        {
          "data": {
            "text/plain": [
              "Array(False, dtype=bool)"
            ]
          },
          "execution_count": 22,
          "metadata": {},
          "output_type": "execute_result"
        }
      ],
      "source": [
        "np.all(Z_warm==Z)"
      ]
    },
    {
      "cell_type": "markdown",
      "metadata": {},
      "source": [
        "Evaluate `Z`"
      ]
    },
    {
      "cell_type": "code",
      "execution_count": 23,
      "metadata": {},
      "outputs": [],
      "source": [
        "S = jnp.zeros((N_gh_tr*m, 5))\n",
        "\n",
        "# Split Z\n",
        "for i in range(m):\n",
        "    Zi = Z[i*N_gh_tr:(i+1)*N_gh_tr]\n",
        "    optim_sgm = two_step_dict.get('optim_sgm_u')[i]\n",
        "    optim_nugget = two_step_dict.get('optim_nugget_u')[i]\n",
        "    G = K_2D(Gaussian2D, X[:N_gh_tr], X[:N_gh_tr], optim_sgm) \n",
        "    alphas = jnp.linalg.solve(G + optim_nugget*jnp.eye(N_gh_tr),Zi)\n",
        "    Zi_x = jnp.dot(K_dot2D(Gaussian2D, X[:N_gh_tr], X[:N_gh_tr], optim_sgm, 1), alphas)\n",
        "    Zi_xx = jnp.dot(K_2dot2D(Gaussian2D, X[:N_gh_tr], X[:N_gh_tr], optim_sgm, 1,1), alphas)\n",
        "    Si = jnp.vstack((X[:N_gh_tr].T,Zi, Zi_x,Zi_xx)).T\n",
        "    S = S.at[i*N_gh_tr:(i+1)*N_gh_tr,:].set(Si)\n",
        "\n",
        "\n",
        "\n",
        "# Load gradients from 2-step\n",
        "U_te_pred = np.load('data/U_te_pred.npy')\n",
        "U_x_te_pred = np.load('data/U_x_te_pred.npy')\n",
        "U_xx_te_pred = np.load('data/U_xx_te_pred.npy')\n",
        "s_train = S\n",
        "s_test = np.hstack((X_te, U_te.T.reshape(-1,1), U_x_te_pred.T.reshape(-1,1), U_xx_te_pred.T.reshape(-1,1))) # (N_te*m, 5)\n",
        "f_train = two_step_dict['f_gh_tr_pred']\n",
        "f_test = U_t_te.T.reshape(N_te*m,1).flatten()\n",
        "f_train2 = -s_train[:,2]*s_train[:,3] + 0.01*s_train[:,4]\n",
        "f_test2 = -s_test[:,2]*s_test[:,3] + 0.01*s_test[:,4]\n",
        "scaler_s_train = MinMaxScaler()\n",
        "s_train_s = scaler_s_train.fit_transform(s_train)\n",
        "s_test_s = scaler_s_train.transform(s_test)\n",
        "\n",
        "optim_sgm_P, optim_nugget_P = grid_search_RBF(s_train_s , f_train)\n",
        "\n",
        "krr_optimal_P = KernelRidge(kernel='rbf', alpha = two_step_dict.get('optim_nugget_P'), gamma=1/(2*(two_step_dict.get('optim_sgm_P')**2))) \n",
        "krr_optimal_P.fit(s_train_s, f_train) \n",
        "f_pred_train = krr_optimal_P.predict(s_train_s) \n",
        "f_pred_test = krr_optimal_P.predict(s_test_s)"
      ]
    },
    {
      "cell_type": "code",
      "execution_count": 24,
      "metadata": {},
      "outputs": [
        {
          "data": {
            "image/png": "[encoded data removed]",
            "text/plain": [
              "<Figure size 700x500 with 12 Axes>"
            ]
          },
          "metadata": {},
          "output_type": "display_data"
        }
      ],
      "source": [
        "# Interpolant P^* at gh_tr points : P^*(hat S) vs. P(hat S)\n",
        "fig, axs = plt.subplots(figsize = (7,5), nrows = m, ncols = 2, sharex = True, sharey = True)\n",
        "fig.subplots_adjust(hspace=0.2, wspace=0.1)\n",
        "fig.suptitle('Second step: P ({}) predictions at training points'.format(m))\n",
        "for i in range(m):\n",
        "        axsi0 = axs[i,0].tricontourf(S[i*N_gh_tr:(i+1)*N_gh_tr,0], S[i*N_gh_tr:(i+1)*N_gh_tr,1], f_pred_train[i*N_gh_tr:(i+1)*N_gh_tr])\n",
        "        plt.colorbar(axsi0, ax = axs[i,0])\n",
        "        axsi1 = axs[i,1].tricontourf(S[i*N_gh_tr:(i+1)*N_gh_tr,0], S[i*N_gh_tr:(i+1)*N_gh_tr,1], f_train2[i*N_gh_tr:(i+1)*N_gh_tr])\n",
        "        plt.colorbar(axsi1, ax = axs[i,1])\n",
        "        axs[i,0].set_yticklabels([])\n",
        "        axs[i,0].set_xticklabels([])\n",
        "        axs[i,0].set_yticks([])\n",
        "        axs[i,0].set_xticks([])\n",
        "        axs[i,1].set_yticklabels([])\n",
        "        axs[i,1].set_xticklabels([])\n",
        "        axs[i,1].set_yticks([])\n",
        "        axs[i,1].set_xticks([])"
      ]
    },
    {
      "cell_type": "code",
      "execution_count": 28,
      "metadata": {},
      "outputs": [
        {
          "data": {
            "image/png": "[encoded data removed]",
            "text/plain": [
              "<Figure size 700x500 with 12 Axes>"
            ]
          },
          "metadata": {},
          "output_type": "display_data"
        }
      ],
      "source": [
        "# Interpolant P^* at testing points : P^*(hat S) vs. P(hat S)\n",
        "fig, axs = plt.subplots(figsize = (7,5), nrows = m, ncols = 2, sharex = True, sharey = True)\n",
        "fig.subplots_adjust(hspace=0.2, wspace=0.1)\n",
        "fig.suptitle('Second-step: P ({}) predictions at testing points'.format(m))\n",
        "for i in range(m):\n",
        "        axsi0 = axs[i,0].tricontourf(X_te[i*N_te:(i+1)*N_te,0], X_te[i*N_te:(i+1)*N_te,1], f_pred_test[i*N_te:(i+1)*N_te])\n",
        "        plt.colorbar(axsi0, ax = axs[i,0])\n",
        "        axsi1 = axs[i,1].tricontourf(X_te[i*N_te:(i+1)*N_te,0], X_te[i*N_te:(i+1)*N_te,1], f_test2[i*N_te:(i+1)*N_te])\n",
        "        plt.colorbar(axsi1, ax = axs[i,1])\n",
        "        axs[i,0].set_yticklabels([])\n",
        "        axs[i,0].set_xticklabels([])\n",
        "        axs[i,0].set_yticks([])\n",
        "        axs[i,0].set_xticks([])\n",
        "        axs[i,1].set_yticklabels([])\n",
        "        axs[i,1].set_xticklabels([])\n",
        "        axs[i,1].set_yticks([])\n",
        "        axs[i,1].set_xticks([])"
      ]
    },
    {
      "cell_type": "code",
      "execution_count": 27,
      "metadata": {},
      "outputs": [
        {
          "name": "stdout",
          "output_type": "stream",
          "text": [
            "Normalized MSEs between P and P^ for 3 functions\n",
            "m = 0 nmse_train = 0.1839744114446458\n",
            "m = 0 nmse_test = 0.2598964806683761\n",
            "m = 1 nmse_train = 0.10902073046488034\n",
            "m = 1 nmse_test = 0.8205313020602625\n",
            "m = 2 nmse_train = 0.09997172257761923\n",
            "m = 2 nmse_test = 0.22872767905832236\n"
          ]
        }
      ],
      "source": [
        "# NMSEs: P at training points and testing points\n",
        "print('Normalized MSEs between P and P^ for {} functions'.format(m))\n",
        "for i in range(m):\n",
        "    n_mse_train = mean_squared_error(f_pred_train[i*N_gh_tr:(i+1)*N_gh_tr], f_train2[i*N_gh_tr:(i+1)*N_gh_tr])/mean_squared_error(f_pred_train[i*N_gh_tr:(i+1)*N_gh_tr]*0, f_train2[i*N_gh_tr:(i+1)*N_gh_tr])\n",
        "    n_mse_test = mean_squared_error(f_pred_test[i*N_te:(i+1)*N_te], f_test2[i*N_te:(i+1)*N_te])/mean_squared_error(f_pred_test[i*N_te:(i+1)*N_te]*0, f_test2[i*N_te:(i+1)*N_te])\n",
        "    print('m = {} nmse_train = {}'.format(i,n_mse_train))\n",
        "    print('m = {} nmse_test = {}'.format(i,n_mse_test))"
      ]
    },
    {
      "cell_type": "markdown",
      "metadata": {},
      "source": [
        "Plot the differences ! "
      ]
    },
    {
      "cell_type": "markdown",
      "metadata": {},
      "source": []
    }
  ],
  "metadata": {
    "colab": {
      "provenance": []
    },
    "kernelspec": {
      "display_name": "base",
      "language": "python",
      "name": "python3"
    },
    "language_info": {
      "codemirror_mode": {
        "name": "ipython",
        "version": 3
      },
      "file_extension": ".py",
      "mimetype": "text/x-python",
      "name": "python",
      "nbconvert_exporter": "python",
      "pygments_lexer": "ipython3",
      "version": "3.11.3"
    },
    "vscode": {
      "interpreter": {
        "hash": "9f30f608a882a0e3e1ee7bdaf111a2fb524766c624535f9d75a6d8e97b170942"
      }
    }
  },
  "nbformat": 4,
  "nbformat_minor": 0
}
