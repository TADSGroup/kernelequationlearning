{
  "cells": [
    {
      "attachments": {},
      "cell_type": "markdown",
      "metadata": {
        "id": "_Lr5zZpo4oaV"
      },
      "source": [
        "## Burgers: One-pfive step Method"
      ]
    },
    {
      "cell_type": "code",
      "execution_count": 1,
      "metadata": {},
      "outputs": [],
      "source": [
        "import sys\n",
        "#sys.path.append('/Users/josorior/Documents/UW/research/keql/KEQL/source')\n",
        "#sys.path.append('/Users/yasaminjalalian/Repos/KEQL/source')\n",
        "sys.path.append('/home/juanfelipe/Desktop/research/keql/source')"
      ]
    },
    {
      "cell_type": "code",
      "execution_count": 2,
      "metadata": {},
      "outputs": [],
      "source": [
        "import os\n",
        "\n",
        "os.environ[\"XLA_PYTHON_CLIENT_PREALLOCATE\"] = \"false\""
      ]
    },
    {
      "cell_type": "code",
      "execution_count": 3,
      "metadata": {
        "id": "0XfbL3pvnk27"
      },
      "outputs": [],
      "source": [
        "import numpy as np\n",
        "import matplotlib.pyplot as plt \n",
        "from sklearn.kernel_ridge import KernelRidge\n",
        "from tqdm import tqdm\n",
        "from parameter_learning import *\n",
        "from plotlib import *\n",
        "from models import * \n",
        "from kernels import *\n",
        "from data_loader_Burgers import *\n",
        "from loss import *\n",
        "from utils import *\n",
        "\n",
        "import jax.numpy as jnp\n",
        "from jax import grad, jit\n",
        "from jax.scipy.optimize import minimize\n",
        "from jax.config import config; \n",
        "config.update(\"jax_enable_x64\", True)\n",
        "\n",
        "from functools import partial # for jit to make codes faster"
      ]
    },
    {
      "cell_type": "code",
      "execution_count": 4,
      "metadata": {},
      "outputs": [],
      "source": [
        "# Import values from 2-step\n",
        "two_step_dict = np.load('data/two_step_dict.npy', allow_pickle=True)\n",
        "two_step_dict = two_step_dict.item()"
      ]
    },
    {
      "cell_type": "code",
      "execution_count": 5,
      "metadata": {},
      "outputs": [],
      "source": [
        "w = np.array([[1],[2]])"
      ]
    },
    {
      "cell_type": "code",
      "execution_count": 6,
      "metadata": {},
      "outputs": [
        {
          "data": {
            "text/plain": [
              "(1, 2)"
            ]
          },
          "execution_count": 6,
          "metadata": {},
          "output_type": "execute_result"
        }
      ],
      "source": [
        "w.T.shape"
      ]
    },
    {
      "cell_type": "code",
      "execution_count": 7,
      "metadata": {},
      "outputs": [
        {
          "data": {
            "text/plain": [
              "{'optim_sgm_u': array([1.49543749]),\n",
              " 'optim_nugget_u': array([1.e-08]),\n",
              " 'rkhs_u': [14.036562213055037],\n",
              " 'optim_sgm_P': 0.8622462224614437,\n",
              " 'optim_nugget_P': 1e-08,\n",
              " 'nugget_P': 1e-07,\n",
              " 'rkhs_P_train': 591.2448227749965,\n",
              " 'f_pred_test': array([ 2.74771010e-05,  1.87609112e-05,  2.21540686e-05, ...,\n",
              "        -6.62624186e-02,  6.04915965e-03,  1.58772361e-03]),\n",
              " 'rkhs_P_test': 995.0395151371536}"
            ]
          },
          "execution_count": 7,
          "metadata": {},
          "output_type": "execute_result"
        }
      ],
      "source": [
        "two_step_dict"
      ]
    },
    {
      "attachments": {},
      "cell_type": "markdown",
      "metadata": {
        "id": "R0dMsZlmnk27"
      },
      "source": [
        "### Cost function"
      ]
    },
    {
      "attachments": {},
      "cell_type": "markdown",
      "metadata": {},
      "source": [
        "Create objective function `L`"
      ]
    },
    {
      "cell_type": "markdown",
      "metadata": {},
      "source": [
        "$$\n",
        "L(Z_0) = f(X_N)^T \\Gamma(S_N,S_N)^{-1} f(X_N) + \\lambda \\sum_{i=1}^m (Z_{0,i*N:(i+1)*N})^T K(X_N,X_N)^{-1}(Z_{0,i*N:(i+1)*N})\n",
        "$$\n",
        "where\n",
        "$$\n",
        "Z_0[M] = U[M].\n",
        "$$"
      ]
    },
    {
      "cell_type": "code",
      "execution_count": 8,
      "metadata": {},
      "outputs": [],
      "source": [
        "# First column in Gamma(S_N,S_N)\n",
        "X = X_test # N*m x 2\n",
        "\n",
        "# Second column in Gamma(S_N,S_N)\n",
        "U = u_test.reshape(N_test * m ,) # N*m x 1\n",
        "\n",
        "# f(X_N)\n",
        "#f = f_Test(model,e_test)\n",
        "f = two_step_dict['f_pred_test']"
      ]
    },
    {
      "cell_type": "code",
      "execution_count": 9,
      "metadata": {},
      "outputs": [],
      "source": [
        "# Load values of U predicted from 2-step\n",
        "u_pred_test = np.load('data/u_pred_test.npy')\n",
        "u_x_pred_test = np.load('data/u_x_pred_test.npy')\n",
        "u_xx_pred_test = np.load('data/u_xx_pred_test.npy')\n",
        "# Build Z_warm\n",
        "Z_warm = jnp.array(u_pred_test.T.reshape(N_test*m,)) "
      ]
    },
    {
      "cell_type": "markdown",
      "metadata": {},
      "source": [
        "First iteration RKHS norm of P "
      ]
    },
    {
      "cell_type": "code",
      "execution_count": 10,
      "metadata": {},
      "outputs": [],
      "source": [
        "S = jnp.zeros((N*m, 5))\n",
        "\n",
        "# Split Z\n",
        "for i in range(m):\n",
        "    Zi = Z_warm[i*N:(i+1)*N]\n",
        "    optim_sgm = two_step_dict.get('optim_sgm_u')[i]\n",
        "    optim_nugget = two_step_dict.get('optim_nugget_u')[i]\n",
        "    G = K_2D(Gaussian2D, X[:N], X[:N], optim_sgm) \n",
        "    alphas = jnp.linalg.solve(G + optim_nugget*jnp.eye(N),Zi)\n",
        "\n",
        "    Zi_x = jnp.dot(K_dot2D(Gaussian2D, X[:N], X[:N], optim_sgm, 1), alphas)\n",
        "    Zi_xx = jnp.dot(K_2dot2D(Gaussian2D, X[:N], X[:N], optim_sgm, 1,1), alphas)\n",
        "\n",
        "    Si = jnp.vstack((X[:N].T,Zi, Zi_x,Zi_xx)).T\n",
        "    # print shapes and values here\n",
        "    S = S.at[i*N:(i+1)*N,:].set(Si)\n",
        "# Scaling S_N\n",
        "scaler_s_train = MinMaxScaler()\n",
        "S = scaler_s_train.fit_transform(S)\n",
        "S = jnp.array(S)\n",
        "# Gamma(S_N,S_N)\n",
        "optim_sgm_P = two_step_dict.get('optim_sgm_P')\n",
        "Gamma = K(Gaussian, S, S, optim_sgm_P)\n",
        "nugget_P = two_step_dict.get('nugget_P') \n",
        "Gamma = Gamma + nugget_P*jnp.eye(jnp.size(Gamma,0))\n",
        "#print(\"cond(Gamma) = \", jnp.linalg.cond(Gamma))\n",
        "\n",
        "# (Gamma(S_N,S_N) + alpha_Gamma*I)^-1 * f\n",
        "b = jnp.linalg.solve(Gamma,f)\n",
        "\n",
        "rkhs_P_first_iter = jnp.dot(f.T , b)"
      ]
    },
    {
      "cell_type": "markdown",
      "metadata": {},
      "source": [
        "First iteration RKHS norm of u"
      ]
    },
    {
      "cell_type": "code",
      "execution_count": 11,
      "metadata": {},
      "outputs": [],
      "source": [
        "# Second term\n",
        "sigma_K = jnp.array(two_step_dict.get('optim_sgm_u'))\n",
        "nugget_K = two_step_dict.get('optim_nugget_u')\n",
        "K_XNs = []\n",
        "for i in range(m):\n",
        "    K_XN = K(Gaussian,X[:N],X[:N],sigma_K[i]) \n",
        "    K_XNs.append(K_XN + nugget_K[i]*jnp.eye(N))\n",
        "\n",
        "rkhs_u_first_iter = []\n",
        "for i in range(m):\n",
        "    Zi = Z_warm[i*N:(i+1)*N]\n",
        "    c = jnp.linalg.solve(K_XNs[i],Zi)\n",
        "    rkhs_u_first_iter.append(jnp.reshape(jnp.dot(Zi.T , c),()))"
      ]
    },
    {
      "cell_type": "code",
      "execution_count": 12,
      "metadata": {},
      "outputs": [],
      "source": [
        "def L(Z, X, U, M, f, two_step_dict, lmbd):\n",
        "    \"\"\"Cost function for 1.5-step method.\n",
        "    \n",
        "    Args:\n",
        "        Z: Vector [Z^1 Z^2 Z^3]^T. m*N\n",
        "        X: List of mN points of dimension d.\n",
        "        U: List of N1+N2+N3 values of functions u^(1),...u^(N).\n",
        "        M: Bolean array which contains where true values reside.\n",
        "        f: List of mN values of functions u^(1),...u^(N).\n",
        "        two_step_dict: Dictionary with values from 2-step.\n",
        "        lmbd: Lagrange multiplier in the loss function.\n",
        "    Returns:\n",
        "        scalar: a cost of this solution.    \n",
        "    \"\"\" \n",
        "\n",
        "    ### Set up\n",
        "    N = 2000 \n",
        "    m = 1 \n",
        "    #print('Z:', Z)\n",
        "    # Constrain the value of Z with known info\n",
        "    #Z = jnp.where(M, U, Z)\n",
        "    # Just use Z_warm instead of using line 21.\n",
        "    # Cd + 1 = 4\n",
        "    S = jnp.zeros((N*m, 5))\n",
        "    \n",
        "    # Split Z\n",
        "    for i in range(m):\n",
        "        Zi = Z[i*N:(i+1)*N]\n",
        "        optim_sgm = two_step_dict.get('optim_sgm_u')[i]\n",
        "        optim_nugget = two_step_dict.get('optim_nugget_u')[i]\n",
        "        G = K_2D(Gaussian2D, X[:N], X[:N], optim_sgm) \n",
        "        alphas = jnp.linalg.solve(G + optim_nugget*jnp.eye(N),Zi)\n",
        "\n",
        "        Zi_x = jnp.dot(K_dot2D(Gaussian2D, X[:N], X[:N], optim_sgm, 1), alphas)\n",
        "        Zi_xx = jnp.dot(K_2dot2D(Gaussian2D, X[:N], X[:N], optim_sgm, 1,1), alphas)\n",
        "\n",
        "        Si = jnp.vstack((X[:N].T,Zi, Zi_x,Zi_xx)).T\n",
        "        # print shapes and values here\n",
        "        S = S.at[i*N:(i+1)*N,:].set(Si)\n",
        "    # Scaling S_N\n",
        "    scaler_s_train = MinMaxScaler()\n",
        "    S = scaler_s_train.fit_transform(S)\n",
        "    S = jnp.array(S)\n",
        "    # Gamma(S_N,S_N)\n",
        "    optim_sgm_P = two_step_dict.get('optim_sgm_P')\n",
        "    Gamma = K(Gaussian, S, S, optim_sgm_P)\n",
        "    nugget_P = two_step_dict.get('nugget_P') \n",
        "    Gamma = Gamma + nugget_P*jnp.eye(jnp.size(Gamma,0))\n",
        "    #print(\"cond(Gamma) = \", jnp.linalg.cond(Gamma))\n",
        "\n",
        "    # (Gamma(S_N,S_N) + alpha_Gamma*I)^-1 * f\n",
        "    b = jnp.linalg.solve(Gamma,f)\n",
        "\n",
        "    # First term\n",
        "    #L1 = jnp.dot(f.T , b) / two_step_dict.get('rkhs_P_train')\n",
        "    L1 = jnp.dot(f.T , b) / rkhs_P_first_iter\n",
        "    #print('L1: ', L1)\n",
        "\n",
        "    # Second term\n",
        "    sigma_K = jnp.array(two_step_dict.get('optim_sgm_u'))\n",
        "    nugget_K = two_step_dict.get('optim_nugget_u')\n",
        "    K_XNs = []\n",
        "    for i in range(m):\n",
        "        K_XN = K(Gaussian,X[:N],X[:N],sigma_K[i]) \n",
        "        K_XNs.append(K_XN + nugget_K[i]*jnp.eye(N))\n",
        "    \n",
        "    L2 = 0.\n",
        "    \n",
        "    for i in range(m):\n",
        "        Zi = Z[i*N:(i+1)*N]\n",
        "        c = jnp.linalg.solve(K_XNs[i],Zi)\n",
        "        # L2 += jnp.reshape(jnp.dot(Zi.T , c),()) / two_step_dict.get('rkhs_u')[i]\n",
        "        L2 += jnp.reshape(jnp.dot(Zi.T , c),()) / rkhs_u_first_iter[i]\n",
        "        #print('L2_',i+1,':',jnp.reshape(jnp.dot(Zi.T , c),()) / rkhs_u_first_iter[i])      \n",
        "    return L1 + lmbd*L2\n",
        "    "
      ]
    },
    {
      "attachments": {},
      "cell_type": "markdown",
      "metadata": {
        "id": "zDReXRvPnk27"
      },
      "source": [
        "#### Gradient descent"
      ]
    },
    {
      "attachments": {},
      "cell_type": "markdown",
      "metadata": {
        "id": "3SObhiRznk27"
      },
      "source": [
        "Training data"
      ]
    },
    {
      "cell_type": "code",
      "execution_count": 13,
      "metadata": {
        "id": "E9BVaRatnk27"
      },
      "outputs": [],
      "source": [
        "# First column in Gamma(S_N,S_N)\n",
        "X = X_test # N*m x 2\n",
        "\n",
        "# Second column in Gamma(S_N,S_N)\n",
        "U = u_test.reshape(N_test * m ,) # N*m x 1\n",
        "\n",
        "# f(X_N)\n",
        "#f = f_Test(model,e_test)\n",
        "f = two_step_dict['f_pred_test']"
      ]
    },
    {
      "attachments": {},
      "cell_type": "markdown",
      "metadata": {
        "id": "lA8nCyg_nk28"
      },
      "source": [
        "Initial guess: `Z_warm`"
      ]
    },
    {
      "cell_type": "code",
      "execution_count": 14,
      "metadata": {},
      "outputs": [],
      "source": [
        "# Load values of U predicted from 2-step\n",
        "u_pred_test = np.load('data/u_pred_test.npy')\n",
        "u_x_pred_test = np.load('data/u_x_pred_test.npy')\n",
        "u_xx_pred_test = np.load('data/u_xx_pred_test.npy')\n",
        "# Build Z_warm\n",
        "Z_warm = jnp.array(u_pred_test.T.reshape(N_test*m,)) "
      ]
    },
    {
      "cell_type": "code",
      "execution_count": 15,
      "metadata": {},
      "outputs": [],
      "source": [
        "lmbda = 1"
      ]
    },
    {
      "cell_type": "code",
      "execution_count": 16,
      "metadata": {},
      "outputs": [
        {
          "data": {
            "text/plain": [
              "Array(2., dtype=float64)"
            ]
          },
          "execution_count": 16,
          "metadata": {},
          "output_type": "execute_result"
        }
      ],
      "source": [
        "L(Z_warm, X, U, M, f, two_step_dict, lmbd=lmbda)"
      ]
    },
    {
      "attachments": {},
      "cell_type": "markdown",
      "metadata": {
        "id": "w_MgRkiDnk28"
      },
      "source": [
        "Initialize the grad functions with `jit` to be efficient"
      ]
    },
    {
      "cell_type": "code",
      "execution_count": 17,
      "metadata": {
        "colab": {
          "base_uri": "https://localhost:8080/"
        },
        "id": "lbXfnabQnk28",
        "outputId": "3877f2f6-f6ca-41b4-eebb-aaec41004fd0"
      },
      "outputs": [
        {
          "data": {
            "text/plain": [
              "Array([-1.55673888, -0.00953654,  0.14857926, ...,  0.71117465,\n",
              "       -2.09735259,  1.11519734], dtype=float64)"
            ]
          },
          "execution_count": 17,
          "metadata": {},
          "output_type": "execute_result"
        }
      ],
      "source": [
        "grad_Z = jit(grad(L, argnums=0))\n",
        "\n",
        "# Run once to trigger JIT compilation.\n",
        "grad_Z(Z_warm, X, U, M, f, two_step_dict, lmbda)\n",
        "# Warm start here !!!"
      ]
    },
    {
      "attachments": {},
      "cell_type": "markdown",
      "metadata": {
        "id": "KWnglrOmnk28"
      },
      "source": [
        "Run the gradient descent for `100` epochs"
      ]
    },
    {
      "cell_type": "markdown",
      "metadata": {},
      "source": [
        "### Optimization of L"
      ]
    },
    {
      "cell_type": "code",
      "execution_count": 18,
      "metadata": {},
      "outputs": [],
      "source": [
        "# Load the warm-up\n",
        "Z = np.copy(Z_warm)"
      ]
    },
    {
      "cell_type": "code",
      "execution_count": 19,
      "metadata": {},
      "outputs": [],
      "source": [
        "# u_t = u_train.T.reshape(N*m,1)\n",
        "# # Load true gradients from 2-step\n",
        "# u_x_train = np.load('data/u_x_train.npy')\n",
        "# u_xx_train = np.load('data/u_xx_train.npy')\n",
        "# # Build true Z\n",
        "# Z_true = np.hstack([u_t, u_x_train.T.reshape(N*m,1),u_xx_train.T.reshape(N*m,1)])"
      ]
    },
    {
      "cell_type": "code",
      "execution_count": 20,
      "metadata": {},
      "outputs": [],
      "source": [
        "# Only do this for the first time - \n",
        "#Z = np.copy(Z_warm)\n",
        "#Z = np.load('data/Z.npy')"
      ]
    },
    {
      "cell_type": "markdown",
      "metadata": {},
      "source": [
        "0. Run it for more iterations until it actually converges to a minimum!!!\n",
        "1. Line search (using $p_k = - \\nabla f$) using Armijo condition. Pick $\\alpha_k$ such that satisfy the two Wolfe conditions. Test: Loss must always goes down here. \n",
        "2. Newton-Armijo.\n",
        "3. Read Quasi-Newton algorithm in Nocedal, when the Hessian is not PD.  "
      ]
    },
    {
      "cell_type": "code",
      "execution_count": 21,
      "metadata": {
        "colab": {
          "base_uri": "https://localhost:8080/"
        },
        "id": "Z9zAYK3Onk28",
        "outputId": "4fd3b5ca-7ba7-48ea-a37a-5bd73f86e8e7"
      },
      "outputs": [
        {
          "name": "stdout",
          "output_type": "stream",
          "text": [
            "iter: 0\n",
            "loss:  2.005972126742673\n",
            "iter: 10\n",
            "loss:  1.9675590691952913\n",
            "iter: 20\n",
            "loss:  1.9381329097813316\n",
            "iter: 30\n",
            "loss:  1.9120625042038888\n",
            "iter: 40\n",
            "loss:  1.890787263483553\n",
            "iter: 50\n",
            "loss:  1.8691459806807544\n",
            "iter: 60\n",
            "loss:  1.8481415108732273\n",
            "iter: 70\n",
            "loss:  1.8300652532011048\n",
            "iter: 80\n",
            "loss:  1.814180965742255\n",
            "iter: 90\n",
            "loss:  1.7972047804475324\n",
            "iter: 100\n",
            "loss:  1.7841332854009684\n",
            "iter: 110\n",
            "loss:  1.768690362864388\n",
            "iter: 120\n",
            "loss:  1.754595482315493\n",
            "iter: 130\n",
            "loss:  1.7406061407343496\n",
            "iter: 140\n",
            "loss:  1.7283454769009743\n",
            "iter: 150\n",
            "loss:  1.7156075578042707\n",
            "iter: 160\n",
            "loss:  1.7066744549436526\n",
            "iter: 170\n",
            "loss:  1.6952522665533833\n",
            "iter: 180\n",
            "loss:  1.6842979166967098\n",
            "iter: 190\n",
            "loss:  1.6731406111503002\n",
            "iter: 200\n",
            "loss:  1.6643041088919706\n",
            "iter: 210\n",
            "loss:  1.655701344344442\n",
            "iter: 220\n",
            "loss:  1.6460264084376104\n",
            "iter: 230\n",
            "loss:  1.6365658545161954\n",
            "iter: 240\n",
            "loss:  1.629482885034863\n",
            "iter: 250\n",
            "loss:  1.6214466463764154\n",
            "iter: 260\n",
            "loss:  1.61075329427343\n",
            "iter: 270\n",
            "loss:  1.602036193396457\n",
            "iter: 280\n",
            "loss:  1.596300105436398\n",
            "iter: 290\n",
            "loss:  1.587784021563496\n",
            "iter: 300\n",
            "loss:  1.5797698803887348\n",
            "iter: 310\n",
            "loss:  1.5726216450913828\n",
            "iter: 320\n",
            "loss:  1.5650723805505404\n",
            "iter: 330\n",
            "loss:  1.557844692413826\n",
            "iter: 340\n",
            "loss:  1.5517871383695105\n",
            "iter: 350\n",
            "loss:  1.545029599982902\n",
            "iter: 360\n",
            "loss:  1.5377247860268786\n",
            "iter: 370\n",
            "loss:  1.5340633255500231\n",
            "iter: 380\n",
            "loss:  1.5256318428045792\n",
            "iter: 390\n",
            "loss:  1.5224771209960455\n",
            "iter: 400\n",
            "loss:  1.5137280082207223\n",
            "iter: 410\n",
            "loss:  1.508156293313938\n",
            "iter: 420\n",
            "loss:  1.5023529382435905\n",
            "iter: 430\n",
            "loss:  1.4961754619753371\n",
            "iter: 440\n",
            "loss:  1.4908067570000814\n",
            "iter: 450\n",
            "loss:  1.4850978623680708\n",
            "iter: 460\n",
            "loss:  1.4800984953594942\n",
            "iter: 470\n",
            "loss:  1.4741026495342173\n",
            "iter: 480\n",
            "loss:  1.4687094721868903\n",
            "iter: 490\n",
            "loss:  1.4660050990877962\n",
            "iter: 500\n",
            "loss:  1.4584205739336198\n",
            "iter: 510\n",
            "loss:  1.4520125638548267\n",
            "iter: 520\n",
            "loss:  1.4475717824320915\n",
            "iter: 530\n",
            "loss:  1.4420172937864737\n",
            "iter: 540\n",
            "loss:  1.4366583604814671\n",
            "iter: 550\n",
            "loss:  1.431935910497628\n",
            "iter: 560\n",
            "loss:  1.4270519638736843\n",
            "iter: 570\n",
            "loss:  1.4220016216353137\n",
            "iter: 580\n",
            "loss:  1.4175884022021692\n",
            "iter: 590\n",
            "loss:  1.4127402577646309\n",
            "iter: 600\n",
            "loss:  1.4076855691031929\n",
            "iter: 610\n",
            "loss:  1.4026994018577943\n",
            "iter: 620\n",
            "loss:  1.3976217599285878\n",
            "iter: 630\n",
            "loss:  1.3929457111157262\n",
            "iter: 640\n",
            "loss:  1.3880899479987145\n",
            "iter: 650\n",
            "loss:  1.3831938663266663\n",
            "iter: 660\n",
            "loss:  1.3783765767729275\n",
            "iter: 670\n",
            "loss:  1.3732244114974335\n",
            "iter: 680\n",
            "loss:  1.368466107188996\n",
            "iter: 690\n",
            "loss:  1.3639428840128553\n",
            "iter: 700\n",
            "loss:  1.3591433791728018\n",
            "iter: 710\n",
            "loss:  1.3544471609895918\n",
            "iter: 720\n",
            "loss:  1.3499413499548794\n",
            "iter: 730\n",
            "loss:  1.3452867738152963\n",
            "iter: 740\n",
            "loss:  1.3407487115737193\n",
            "iter: 750\n",
            "loss:  1.3362228231272044\n",
            "iter: 760\n",
            "loss:  1.3315901392063871\n",
            "iter: 770\n",
            "loss:  1.326876952627068\n",
            "iter: 780\n",
            "loss:  1.3224022437524163\n",
            "iter: 790\n",
            "loss:  1.3178409793902575\n",
            "iter: 800\n",
            "loss:  1.3130496816272401\n",
            "iter: 810\n",
            "loss:  1.3086906320114862\n",
            "iter: 820\n",
            "loss:  1.3036126715617518\n",
            "iter: 830\n",
            "loss:  1.2990435301464385\n",
            "iter: 840\n",
            "loss:  1.2944108237599736\n",
            "iter: 850\n",
            "loss:  1.289843478321665\n",
            "iter: 860\n",
            "loss:  1.2857329302124085\n",
            "iter: 870\n",
            "loss:  1.2806641438042967\n",
            "iter: 880\n",
            "loss:  1.276150551053863\n",
            "iter: 890\n",
            "loss:  1.2715073000008434\n",
            "iter: 900\n",
            "loss:  1.2672201056072283\n",
            "iter: 910\n",
            "loss:  1.2622612165792646\n",
            "iter: 920\n",
            "loss:  1.2579615481415176\n",
            "iter: 930\n",
            "loss:  1.2534888948984233\n",
            "iter: 940\n",
            "loss:  1.2486760718408567\n",
            "iter: 950\n",
            "loss:  1.2442399577626144\n",
            "iter: 960\n",
            "loss:  1.2397469218829844\n",
            "iter: 970\n",
            "loss:  1.2351908168681538\n",
            "iter: 980\n",
            "loss:  1.2305355708413817\n",
            "iter: 990\n",
            "loss:  1.2261269781270558\n"
          ]
        }
      ],
      "source": [
        "# mses = []\n",
        "# S = jnp.zeros((N*m,4))\n",
        "# kernel = Gaussian\n",
        "# If trained previously use Z\n",
        "# if np.all(Z != Z_warm):\n",
        "#     Z = np.load('data/Z.npy')\n",
        "# else:\n",
        "#     Z = np.copy(Z_warm)\n",
        "Z = np.copy(Z_warm)\n",
        "learning_rate = 1e-5\n",
        "for i in range(1000):\n",
        "    delta_Z = grad_Z(Z, X, U, M, f, two_step_dict, lmbda)\n",
        "    lr = jnp.linalg.norm(Z)/jnp.linalg.norm(delta_Z)*learning_rate\n",
        "    Z -= lr * delta_Z\n",
        "\n",
        "    if i % 10 == 0:\n",
        "        print('iter:', i )\n",
        "        print('loss: ', L(Z, X, U, M, f, two_step_dict, lmbda))\n",
        "        #print('mse:', mse)\n",
        "    \n",
        "# Save at the end of iterations\n",
        "#np.save('data/Z.npy',Z)"
      ]
    },
    {
      "cell_type": "markdown",
      "metadata": {},
      "source": [
        "- If it does decrease the loss for 10 steps then look for a different alpha, say alpha bigger than it was to make the algorithm more efficient ( if we find for example a flat region)."
      ]
    },
    {
      "cell_type": "code",
      "execution_count": 22,
      "metadata": {},
      "outputs": [
        {
          "data": {
            "text/plain": [
              "Array(False, dtype=bool)"
            ]
          },
          "execution_count": 22,
          "metadata": {},
          "output_type": "execute_result"
        }
      ],
      "source": [
        "np.all(Z_warm==Z)"
      ]
    },
    {
      "cell_type": "markdown",
      "metadata": {},
      "source": [
        "Evaluate `Z`"
      ]
    },
    {
      "cell_type": "code",
      "execution_count": 23,
      "metadata": {},
      "outputs": [],
      "source": [
        "S = jnp.zeros((N*m, 5))\n",
        "\n",
        "# Split Z\n",
        "for i in range(m):\n",
        "    Zi = Z[i*N:(i+1)*N]\n",
        "    optim_sgm = two_step_dict.get('optim_sgm_u')[i]\n",
        "    optim_nugget = two_step_dict.get('optim_nugget_u')[i]\n",
        "    G = K_2D(Gaussian2D, X[:N], X[:N], optim_sgm) \n",
        "    alphas = jnp.linalg.solve(G + optim_nugget*jnp.eye(N),Zi)\n",
        "    Zi_x = jnp.dot(K_dot2D(Gaussian2D, X[:N], X[:N], optim_sgm, 1), alphas)\n",
        "    Zi_xx = jnp.dot(K_2dot2D(Gaussian2D, X[:N], X[:N], optim_sgm, 1,1), alphas)\n",
        "    Si = jnp.vstack((X[:N].T,Zi, Zi_x,Zi_xx)).T\n",
        "    S = S.at[i*N:(i+1)*N,:].set(Si)\n",
        "\n",
        "\n",
        "\n",
        "# Load gradients from 2-step\n",
        "u_x_pred_test  = np.load('data/u_x_pred_test.npy')\n",
        "u_xx_pred_test = np.load('data/u_xx_pred_test.npy')\n",
        "s_train = S\n",
        "s_test = np.hstack((X_test,u_test.T.reshape(-1,1),u_x_pred_test.T.reshape(-1,1),u_xx_pred_test.T.reshape(-1,1))) # 1000 * 5\n",
        "f_train = u_t_train.T\n",
        "f_test = u_t_test.T\n",
        "f_train2 = -s_train[:,2]*s_train[:,3] + 0.1*s_train[:,4]\n",
        "f_test2 = -s_test[:,2]*s_test[:,3] + 0.1*s_test[:,4]\n",
        "scaler_s_train = MinMaxScaler()\n",
        "s_train_s = scaler_s_train.fit_transform(S)\n",
        "s_test_s = scaler_s_train.transform(s_test)\n",
        "\n",
        "optim_sgm_P, optim_nugget_P = grid_search_RBF(s_train_s,f_test)\n",
        "\n",
        "krr_optimal_P = KernelRidge(kernel='rbf', alpha = two_step_dict.get('optim_nugget_P'), gamma=1/(2*(two_step_dict.get('optim_sgm_P')**2))) \n",
        "krr_optimal_P.fit(s_train_s, f_test) \n",
        "f_pred_train = krr_optimal_P.predict(s_train_s) \n",
        "f_pred_test = krr_optimal_P.predict(s_test_s)"
      ]
    },
    {
      "cell_type": "code",
      "execution_count": 24,
      "metadata": {},
      "outputs": [
        {
          "data": {
            "image/png": "[encoded data removed]",
            "text/plain": [
              "<Figure size 600x300 with 4 Axes>"
            ]
          },
          "metadata": {},
          "output_type": "display_data"
        }
      ],
      "source": [
        "# Interpolant P^* at training points : P^*(hat S) vs. P(hat S)\n",
        "fig, (ax1, ax2) = plt.subplots(nrows = 1, ncols=2 ,sharey= True, figsize = (6,3),constrained_layout=True)\n",
        "n_mse = mean_squared_error(f_pred_train, f_train2)/mean_squared_error(f_pred_train*0, f_train2)\n",
        "# u_t_train2 should be the estimation at the predicted input using the training collocation points and use the algebraic relation between the estimated gradients. \n",
        "fig.suptitle('2-step method: Second step | Relative MSE: {}'.format(round(n_mse,15)))\n",
        "ax1plot = ax1.tricontourf(S[:,0], S[:,1], f_pred_train, levels = np.arange(-0.6,0.75,0.05))\n",
        "plt.colorbar(ax1plot, ax=ax1)\n",
        "ax1.set_title('f_pred_train')\n",
        "ax2plot = ax2.tricontourf(S[:,0], S[:,1], f_train2)\n",
        "plt.colorbar(ax2plot, ax=ax2)\n",
        "ax2.set_title('f_true_train')\n",
        "plt.show()"
      ]
    },
    {
      "cell_type": "code",
      "execution_count": 89,
      "metadata": {},
      "outputs": [
        {
          "data": {
            "image/png": "[encoded data removed]",
            "text/plain": [
              "<Figure size 1000x200 with 3 Axes>"
            ]
          },
          "metadata": {},
          "output_type": "display_data"
        }
      ],
      "source": [
        "# Plot at testing points\n",
        "fig, axs = plt.subplots(nrows = 1, ncols=3 , figsize = (10, 2),constrained_layout=True)\n",
        "fig.suptitle(f'1.5-step method: lr = {learning_rate}, lambda = {lmbda}')\n",
        "axs[0].plot(x_test[:e_test], f_test[:e_test] , marker= 'o', label = 'true')\n",
        "axs[0].plot(x_test[:e_test], f_pred_test[:e_test], marker= 'o', label = 'pred')\n",
        "axs[0].legend()\n",
        "axs[0].set_title('$P_{true}$ vs $P_{pred}$')\n",
        "axs[1].plot(x_test[e_test:2*e_test], f_test[e_test:2*e_test],marker= 'o', label = 'true')\n",
        "axs[1].plot(x_test[e_test:2*e_test], f_pred_test[e_test:2*e_test],marker= 'o', label = 'pred')\n",
        "axs[1].legend()\n",
        "axs[1].set_title('$P_{true}$ vs $P_{pred}$')\n",
        "axs[2].plot(x_test[2*e_test:3*e_test], f_test[2*e_test:3*e_test],marker= 'o', label = 'true')\n",
        "axs[2].plot(x_test[2*e_test:3*e_test], f_pred_test[2*e_test:3*e_test],marker= 'o', label = 'pred')\n",
        "axs[2].legend()\n",
        "axs[2].set_title('$P_{true}$ vs $P_{pred}$')\n",
        "fig.show()"
      ]
    }
  ],
  "metadata": {
    "colab": {
      "provenance": []
    },
    "kernelspec": {
      "display_name": "base",
      "language": "python",
      "name": "python3"
    },
    "language_info": {
      "codemirror_mode": {
        "name": "ipython",
        "version": 3
      },
      "file_extension": ".py",
      "mimetype": "text/x-python",
      "name": "python",
      "nbconvert_exporter": "python",
      "pygments_lexer": "ipython3",
      "version": "3.11.3"
    },
    "vscode": {
      "interpreter": {
        "hash": "9f30f608a882a0e3e1ee7bdaf111a2fb524766c624535f9d75a6d8e97b170942"
      }
    }
  },
  "nbformat": 4,
  "nbformat_minor": 0
}
