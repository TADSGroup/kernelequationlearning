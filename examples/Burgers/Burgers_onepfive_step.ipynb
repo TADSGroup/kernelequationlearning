{
  "cells": [
    {
      "attachments": {},
      "cell_type": "markdown",
      "metadata": {
        "id": "_Lr5zZpo4oaV"
      },
      "source": [
        "## Burgers: One-pfive step Method"
      ]
    },
    {
      "cell_type": "code",
      "execution_count": 1,
      "metadata": {},
      "outputs": [
        {
          "name": "stdout",
          "output_type": "stream",
          "text": [
            "(100, 320)\n"
          ]
        }
      ],
      "source": [
        "import sys\n",
        "import os\n",
        "import numpy as np\n",
        "import matplotlib.pyplot as plt \n",
        "from sklearn.kernel_ridge import KernelRidge\n",
        "from sklearn.metrics.pairwise import polynomial_kernel\n",
        "from tqdm import tqdm\n",
        "import jax.numpy as jnp\n",
        "from jax import grad, jit\n",
        "from jax.scipy.optimize import minimize\n",
        "from jaxopt import LBFGS\n",
        "from jaxopt import GradientDescent\n",
        "from functools import partial\n",
        "from jax.config import config;\n",
        "sys.path.append('/home/juanfelipe/Desktop/research/keql/source')\n",
        "from parameter_learning import *\n",
        "from plotlib import *\n",
        "from models import * \n",
        "from kernels import *\n",
        "from data_loader_Burgers5 import *\n",
        "from loss import *\n",
        "from utils import *\n",
        "\n",
        "\n",
        "os.environ[\"XLA_PYTHON_CLIENT_PREALLOCATE\"] = \"false\"\n",
        "config.update(\"jax_enable_x64\", True)"
      ]
    },
    {
      "cell_type": "code",
      "execution_count": 2,
      "metadata": {},
      "outputs": [],
      "source": [
        "# Import values from 2-step\n",
        "two_step_dict = np.load('data/two_step_dict.npy', allow_pickle=True)\n",
        "two_step_dict = two_step_dict.item()"
      ]
    },
    {
      "attachments": {},
      "cell_type": "markdown",
      "metadata": {
        "id": "R0dMsZlmnk27"
      },
      "source": [
        "### Cost function"
      ]
    },
    {
      "attachments": {},
      "cell_type": "markdown",
      "metadata": {},
      "source": [
        "Create objective function `L`"
      ]
    },
    {
      "cell_type": "markdown",
      "metadata": {},
      "source": [
        "$$\n",
        "L(Z_0) = f(X_N)^T \\Gamma(S_N,S_N)^{-1} f(X_N) + \\lambda \\sum_{i=1}^m (Z_{0,i*N:(i+1)*N})^T K(X_N,X_N)^{-1}(Z_{0,i*N:(i+1)*N})\n",
        "$$\n",
        "where\n",
        "$$\n",
        "Z_0[M] = U[M].\n",
        "$$"
      ]
    },
    {
      "cell_type": "markdown",
      "metadata": {},
      "source": [
        "1. Get `f_gh_tr_pred` from two step to be the new `f` in the 1.5 step method."
      ]
    },
    {
      "cell_type": "code",
      "execution_count": 3,
      "metadata": {},
      "outputs": [],
      "source": [
        "# First column in Gamma(S_N,S_N)\n",
        "X = X_gh_tr # (N_gh_tr*m, 2)\n",
        "\n",
        "# Second column in Gamma(S_N,S_N)\n",
        "U = U_gh_tr.reshape(N_gh_tr*m,) # (N_gh_tr*m, )\n",
        "\n",
        "# f(X_N)\n",
        "#f = f_Test(model,e_test)\n",
        "f = two_step_dict['f_gh_tr_pred']"
      ]
    },
    {
      "cell_type": "code",
      "execution_count": 4,
      "metadata": {},
      "outputs": [],
      "source": [
        "# Load values of U predicted from 2-step at te points: originally wrong\n",
        "U_gh_tr_pred = np.load('data/U_gh_tr_pred.npy')\n",
        "U_x_gh_tr_pred = np.load('data/U_x_gh_tr_pred.npy')\n",
        "U_xx_gh_tr_pred = np.load('data/U_xx_gh_tr_pred.npy')\n",
        "# Build Z_warm\n",
        "Z_warm = jnp.array(U_gh_tr_pred.T.reshape(N_gh_tr*m,)) "
      ]
    },
    {
      "cell_type": "code",
      "execution_count": 5,
      "metadata": {},
      "outputs": [],
      "source": [
        "# # Load values of U predicted from 2-step at te points: originally wrong\n",
        "# U_te_pred = np.load('data/U_te_pred.npy')\n",
        "# U_x_te_pred = np.load('data/U_x_te_pred.npy')\n",
        "# U_xx_te_pred = np.load('data/U_xx_te_pred.npy')\n",
        "# # Build Z_warm\n",
        "# Z_warm = jnp.array(U_te_pred.T.reshape(N_te*m,)) "
      ]
    },
    {
      "cell_type": "markdown",
      "metadata": {},
      "source": [
        "First iteration RKHS norm of P "
      ]
    },
    {
      "cell_type": "markdown",
      "metadata": {},
      "source": [
        "Gaussian"
      ]
    },
    {
      "cell_type": "code",
      "execution_count": 6,
      "metadata": {},
      "outputs": [],
      "source": [
        "S = jnp.zeros((N_gh_tr*m, 5))\n",
        "\n",
        "# Split Z\n",
        "for i in range(m):\n",
        "    Zi = Z_warm[i*N_gh_tr:(i+1)*N_gh_tr]\n",
        "    optim_sgm = two_step_dict.get('optim_sgm_u')[i]\n",
        "    optim_nugget = two_step_dict.get('optim_nugget_u')[i]\n",
        "    G = K_2D(Gaussian2D, X[:N_gh_tr], X[:N_gh_tr], optim_sgm) \n",
        "    alphas = jnp.linalg.solve(G + optim_nugget*jnp.eye(N_gh_tr),Zi)\n",
        "\n",
        "    Zi_x = jnp.dot(K_dot2D(Gaussian2D, X[:N_gh_tr], X[:N_gh_tr], optim_sgm, 1), alphas)\n",
        "    Zi_xx = jnp.dot(K_2dot2D(Gaussian2D, X[:N_gh_tr], X[:N_gh_tr], optim_sgm, 1,1), alphas)\n",
        "\n",
        "    Si = jnp.vstack((X[:N_gh_tr].T, Zi, Zi_x,Zi_xx)).T\n",
        "    # print shapes and values here\n",
        "    S = S.at[i*N_gh_tr:(i+1)*N_gh_tr,:].set(Si)\n",
        "# Scaling S_N\n",
        "scaler_s_train = MinMaxScaler()\n",
        "S = scaler_s_train.fit_transform(S)\n",
        "S = jnp.array(S)\n",
        "# Gamma(S_N,S_N)\n",
        "optim_sgm_P = two_step_dict.get('optim_sgm_P')\n",
        "Gamma = K(Gaussian, S, S, optim_sgm_P)\n",
        "nugget_P = two_step_dict.get('optim_nugget_P') \n",
        "Gamma = Gamma + nugget_P*jnp.eye(jnp.size(Gamma,0))\n",
        "#print(\"cond(Gamma) = \", jnp.linalg.cond(Gamma))\n",
        "\n",
        "# (Gamma(S_N,S_N) + alpha_Gamma*I)^-1 * f\n",
        "b = jnp.linalg.solve(Gamma,f)\n",
        "\n",
        "rkhs_P_first_iter = jnp.dot(f.T , b)"
      ]
    },
    {
      "cell_type": "markdown",
      "metadata": {},
      "source": [
        "Poly2"
      ]
    },
    {
      "cell_type": "code",
      "execution_count": 7,
      "metadata": {},
      "outputs": [],
      "source": [
        "S = jnp.zeros((N_gh_tr*m, 5))\n",
        "\n",
        "# Split Z\n",
        "for i in range(m):\n",
        "    Zi = Z_warm[i*N_gh_tr:(i+1)*N_gh_tr]\n",
        "    optim_sgm = two_step_dict.get('optim_sgm_u')[i]\n",
        "    optim_nugget = two_step_dict.get('optim_nugget_u')[i]\n",
        "    G = K_2D(Gaussian2D, X[:N_gh_tr], X[:N_gh_tr], optim_sgm) \n",
        "    alphas = jnp.linalg.solve(G + optim_nugget*jnp.eye(N_gh_tr),Zi)\n",
        "\n",
        "    Zi_x = jnp.dot(K_dot2D(Gaussian2D, X[:N_gh_tr], X[:N_gh_tr], optim_sgm, 1), alphas)\n",
        "    Zi_xx = jnp.dot(K_2dot2D(Gaussian2D, X[:N_gh_tr], X[:N_gh_tr], optim_sgm, 1,1), alphas)\n",
        "\n",
        "    Si = jnp.vstack((X[:N_gh_tr].T, Zi, Zi_x,Zi_xx)).T\n",
        "    # print shapes and values here\n",
        "    S = S.at[i*N_gh_tr:(i+1)*N_gh_tr,:].set(Si)\n",
        "# Scaling S_N\n",
        "scaler_s_train = MinMaxScaler()\n",
        "S = scaler_s_train.fit_transform(S)\n",
        "S = jnp.array(S)\n",
        "# Gamma(S_N,S_N)\n",
        "#optim_sgm_P = two_step_dict.get('optim_sgm_P')\n",
        "Gamma = K(Polynomial,S, S, jnp.array([1,2]))\n",
        "#nugget_P = two_step_dict.get('optim_nugget_P') \n",
        "Gamma = Gamma + nugget_P*jnp.eye(jnp.size(Gamma,0))\n",
        "#print(\"cond(Gamma) = \", jnp.linalg.cond(Gamma))\n",
        "\n",
        "# (Gamma(S_N,S_N) + alpha_Gamma*I)^-1 * f\n",
        "b = jnp.linalg.solve(Gamma,f)\n",
        "\n",
        "rkhs_P_first_iter = jnp.dot(f.T , b)"
      ]
    },
    {
      "cell_type": "markdown",
      "metadata": {},
      "source": [
        "First iteration RKHS norm of u"
      ]
    },
    {
      "cell_type": "code",
      "execution_count": 8,
      "metadata": {},
      "outputs": [],
      "source": [
        "# Second term\n",
        "sigma_K = jnp.array(two_step_dict.get('optim_sgm_u'))\n",
        "nugget_K = two_step_dict.get('optim_nugget_u')\n",
        "K_XNs = []\n",
        "for i in range(m):\n",
        "    K_XN = K(Gaussian,X_gh_tr[:N_gh_tr],X_gh_tr[:N_gh_tr],sigma_K[i]) \n",
        "    K_XNs.append(K_XN + nugget_K[i]*jnp.eye(N_gh_tr))\n",
        "\n",
        "rkhs_u_first_iter = []\n",
        "for i in range(m):\n",
        "    Zi = Z_warm[i*N_gh_tr:(i+1)*N_gh_tr]\n",
        "    c = jnp.linalg.solve(K_XNs[i],Zi)\n",
        "    rkhs_u_first_iter.append(jnp.reshape(jnp.dot(Zi.T , c),()))"
      ]
    },
    {
      "cell_type": "code",
      "execution_count": 9,
      "metadata": {},
      "outputs": [
        {
          "data": {
            "text/plain": [
              "(50, 2)"
            ]
          },
          "execution_count": 9,
          "metadata": {},
          "output_type": "execute_result"
        }
      ],
      "source": [
        "X_tr.shape"
      ]
    },
    {
      "cell_type": "code",
      "execution_count": 10,
      "metadata": {},
      "outputs": [],
      "source": [
        "def L(Z, X, U, M, f, two_step_dict, lmbd):\n",
        "    \"\"\"Cost function for 1.5-step method.\n",
        "    \n",
        "    Args:\n",
        "        Z: Vector [Z^1 Z^2 Z^3]^T. m*N\n",
        "        X: List of mN points of dimension d.\n",
        "        U: List of N1+N2+N3 values of functions u^(1),...u^(N).\n",
        "        M: Bolean array which contains where true values reside.\n",
        "        f: List of mN values of functions u^(1),...u^(N).\n",
        "        two_step_dict: Dictionary with values from 2-step.\n",
        "        lmbd: Lagrange multiplier in the loss function.\n",
        "    Returns:\n",
        "        scalar: a cost of this solution.    \n",
        "    \"\"\" \n",
        "\n",
        "    ### Set up\n",
        "    N = 20*20\n",
        "    m = 2\n",
        "    #print('Z:', Z)\n",
        "    # Constrain the value of Z with known info\n",
        "    #Z = jnp.where(M, U, Z)\n",
        "    # Just use Z_warm instead of using line 21.\n",
        "    # Cd + 1 = 4\n",
        "    S = jnp.zeros((N_gh_tr*m, 5))\n",
        "    \n",
        "    # Split Z\n",
        "    for i in range(m):\n",
        "        Zi = Z[i*N_gh_tr:(i+1)*N_gh_tr]\n",
        "        optim_sgm = two_step_dict.get('optim_sgm_u')[i]\n",
        "        optim_nugget = two_step_dict.get('optim_nugget_u')[i]\n",
        "        G = K_2D(Gaussian2D, X[:N_gh_tr], X[:N_gh_tr], optim_sgm) \n",
        "        alphas = jnp.linalg.solve(G + optim_nugget*jnp.eye(N),Zi)\n",
        "\n",
        "        Zi_x = jnp.dot(K_dot2D(Gaussian2D, X[:N_gh_tr], X[:N_gh_tr], optim_sgm, 1), alphas)\n",
        "        Zi_xx = jnp.dot(K_2dot2D(Gaussian2D, X[:N_gh_tr], X[:N_gh_tr], optim_sgm, 1,1), alphas)\n",
        "\n",
        "        Si = jnp.vstack((X[:N].T,Zi, Zi_x,Zi_xx)).T\n",
        "        # print shapes and values here\n",
        "        S = S.at[i*N_gh_tr:(i+1)*N_gh_tr,:].set(Si)\n",
        "    # Scaling S_N\n",
        "    scaler_s_train = MinMaxScaler()\n",
        "    S = scaler_s_train.fit_transform(S)\n",
        "    S = jnp.array(S)\n",
        "    # Gamma(S_N,S_N)\n",
        "    optim_sgm_P = two_step_dict.get('optim_sgm_P')\n",
        "    #Gamma = K(Gaussian, S, S, optim_sgm_P)\n",
        "    Gamma = K(Polynomial,S, S, jnp.array([1,2]))\n",
        "    nugget_P = two_step_dict.get('nugget_P') \n",
        "    Gamma = Gamma + nugget_P*jnp.eye(jnp.size(Gamma,0))\n",
        "    #print(\"cond(Gamma) = \", jnp.linalg.cond(Gamma))\n",
        "\n",
        "    # (Gamma(S_N,S_N) + alpha_Gamma*I)^-1 * f\n",
        "    b = jnp.linalg.solve(Gamma,f)\n",
        "\n",
        "    # First term\n",
        "    #L1 = jnp.dot(f.T , b) / two_step_dict.get('rkhs_P_train')\n",
        "    L1 = jnp.dot(f.T , b) / rkhs_P_first_iter\n",
        "    #print('L1: ', L1)\n",
        "\n",
        "    # Second term\n",
        "    sigma_K = jnp.array(two_step_dict.get('optim_sgm_u'))\n",
        "    nugget_K = two_step_dict.get('optim_nugget_u')\n",
        "    K_XNs = []\n",
        "    for i in range(m):\n",
        "        K_XN = K(Gaussian,X[:N_gh_tr],X[:N_gh_tr],sigma_K[i]) \n",
        "        K_XNs.append(K_XN + nugget_K[i]*jnp.eye(N_gh_tr))\n",
        "    \n",
        "    L2 = 0.\n",
        "    \n",
        "    for i in range(m):\n",
        "        Zi = Z[i*N_gh_tr:(i+1)*N_gh_tr]\n",
        "        c = jnp.linalg.solve(K_XNs[i],Zi)\n",
        "        # L2 += jnp.reshape(jnp.dot(Zi.T , c),()) / two_step_dict.get('rkhs_u')[i]\n",
        "        L2 += jnp.reshape(jnp.dot(Zi.T , c),()) / rkhs_u_first_iter[i]\n",
        "        #print('L2_',i+1,':',jnp.reshape(jnp.dot(Zi.T , c),()) / rkhs_u_first_iter[i])      \n",
        "    return L1 + lmbd*L2\n",
        "    "
      ]
    },
    {
      "attachments": {},
      "cell_type": "markdown",
      "metadata": {
        "id": "zDReXRvPnk27"
      },
      "source": [
        "#### Gradient descent"
      ]
    },
    {
      "attachments": {},
      "cell_type": "markdown",
      "metadata": {
        "id": "3SObhiRznk27"
      },
      "source": [
        "Training data"
      ]
    },
    {
      "cell_type": "code",
      "execution_count": 11,
      "metadata": {
        "id": "E9BVaRatnk27"
      },
      "outputs": [],
      "source": [
        "# First column in Gamma(S_N,S_N)\n",
        "X = X_gh_tr # (N_gh_tr*m, 2)\n",
        "\n",
        "# Second column in Gamma(S_N,S_N)\n",
        "U = U_gh_tr.reshape(N_gh_tr*m,) # N*m x 1\n",
        "\n",
        "# f(X_N)\n",
        "#f = f_Test(model,e_test)\n",
        "f = two_step_dict['f_gh_tr_pred']"
      ]
    },
    {
      "attachments": {},
      "cell_type": "markdown",
      "metadata": {
        "id": "lA8nCyg_nk28"
      },
      "source": [
        "Initial guess: `Z_warm`"
      ]
    },
    {
      "cell_type": "code",
      "execution_count": 12,
      "metadata": {},
      "outputs": [],
      "source": [
        "# Load values of U predicted from 2-step at te points: originally wrong\n",
        "U_gh_tr_pred = np.load('data/U_gh_tr_pred.npy')\n",
        "U_x_gh_tr_pred = np.load('data/U_x_gh_tr_pred.npy')\n",
        "U_xx_gh_tr_pred = np.load('data/U_xx_gh_tr_pred.npy')\n",
        "# Build Z_warm\n",
        "Z_warm = jnp.array(U_gh_tr_pred.T.reshape(N_gh_tr*m,)) "
      ]
    },
    {
      "cell_type": "code",
      "execution_count": 13,
      "metadata": {},
      "outputs": [],
      "source": [
        "lmbda = 1e-4/m"
      ]
    },
    {
      "cell_type": "code",
      "execution_count": 14,
      "metadata": {},
      "outputs": [
        {
          "data": {
            "text/plain": [
              "Array(0.00010033, dtype=float64)"
            ]
          },
          "execution_count": 14,
          "metadata": {},
          "output_type": "execute_result"
        }
      ],
      "source": [
        "L(Z_warm, X, U, M, f, two_step_dict, lmbd=lmbda)"
      ]
    },
    {
      "attachments": {},
      "cell_type": "markdown",
      "metadata": {
        "id": "w_MgRkiDnk28"
      },
      "source": [
        "Initialize the grad functions with `jit` to be efficient"
      ]
    },
    {
      "cell_type": "code",
      "execution_count": 15,
      "metadata": {
        "colab": {
          "base_uri": "https://localhost:8080/"
        },
        "id": "lbXfnabQnk28",
        "outputId": "3877f2f6-f6ca-41b4-eebb-aaec41004fd0"
      },
      "outputs": [
        {
          "data": {
            "text/plain": [
              "Array([-5.16619755e-06, -6.72270877e-06, -6.12549661e-06, -5.63008393e-06,\n",
              "        3.63305802e-06, -3.86306048e-05,  1.50577416e-05, -1.22257092e-05,\n",
              "       -1.36106247e-05, -8.31707021e-06, -2.51748435e-05,  2.61370065e-05,\n",
              "       -4.72571958e-05,  3.18677065e-05, -3.51589254e-05, -2.46275113e-05,\n",
              "        2.97380863e-05, -2.62556581e-05, -1.63319208e-06, -4.16223291e-06,\n",
              "        4.13183838e-05,  6.12582028e-05,  2.60080690e-05,  6.25463516e-05,\n",
              "        6.33982697e-05,  1.15276645e-04,  5.88940330e-05,  5.45113406e-05,\n",
              "        1.09752158e-04,  8.01664188e-05,  9.39000531e-05,  5.35250992e-05,\n",
              "        7.21558284e-05,  3.62743842e-05,  1.38222951e-04,  5.08505006e-05,\n",
              "        1.55715368e-05,  5.51963850e-05,  3.92567130e-05,  2.52551914e-05,\n",
              "       -1.43088207e-04, -1.86361104e-04, -1.05641369e-04, -2.19977815e-04,\n",
              "       -2.48728424e-04, -2.57034160e-04, -2.95507146e-04, -2.28644090e-04,\n",
              "       -2.28110687e-04, -3.98831034e-04, -1.92887418e-04, -2.46354293e-04,\n",
              "       -2.55592258e-04, -2.51769633e-04, -2.15530609e-04, -2.20786177e-04,\n",
              "       -1.49502996e-04, -1.32105383e-04, -1.30081409e-04, -8.85263412e-05,\n",
              "        3.60502835e-04,  4.25728973e-04,  3.69168537e-04,  4.71161585e-04,\n",
              "        7.09418725e-04,  5.57170475e-04,  6.46767810e-04,  6.65873495e-04,\n",
              "        7.48019285e-04,  5.82092867e-04,  6.48670258e-04,  7.65007414e-04,\n",
              "        6.25342279e-04,  4.67287691e-04,  6.12929553e-04,  4.73827380e-04,\n",
              "        4.23513683e-04,  3.57028802e-04,  3.18315656e-04,  2.48058663e-04,\n",
              "       -4.60365605e-04, -5.53207969e-04, -5.44183157e-04, -7.22031629e-04,\n",
              "       -7.60364970e-04, -8.33210357e-04, -9.07424472e-04, -8.74703172e-04,\n",
              "       -8.47535225e-04, -8.92909832e-04, -9.50664095e-04, -9.11014473e-04,\n",
              "       -7.95773944e-04, -7.45533685e-04, -6.76927877e-04, -6.24576074e-04,\n",
              "       -5.92269556e-04, -4.64058607e-04, -4.45508824e-04, -3.66021921e-04,\n",
              "        8.46698162e-05,  1.41218178e-04,  2.50332398e-04,  1.96007056e-04,\n",
              "        1.98194346e-04,  2.86971029e-04,  3.10062960e-04,  2.36167985e-04,\n",
              "        2.93373921e-04,  2.26940450e-04,  3.66727576e-04,  2.13642410e-04,\n",
              "        2.75320570e-04,  1.97414682e-04,  1.60496679e-04,  1.70675978e-04,\n",
              "        1.49699208e-04,  1.75251739e-04,  1.36102485e-04,  1.80438001e-04,\n",
              "        5.27593480e-04,  5.24093988e-04,  5.50790456e-04,  5.82427924e-04,\n",
              "        7.84188767e-04,  6.47084788e-04,  8.21598166e-04,  7.12816796e-04,\n",
              "        7.82863540e-04,  8.33493496e-04,  8.30706797e-04,  8.11751471e-04,\n",
              "        6.62095268e-04,  7.74899107e-04,  5.72945035e-04,  7.57109320e-04,\n",
              "        4.45633727e-04,  4.48806116e-04,  4.16888189e-04,  2.54554032e-04,\n",
              "       -5.91312586e-04, -6.20403080e-04, -7.46590657e-04, -8.23689190e-04,\n",
              "       -8.69179220e-04, -8.72361153e-04, -1.00667886e-03, -8.63456748e-04,\n",
              "       -1.06911585e-03, -1.02304954e-03, -9.66915564e-04, -9.89183441e-04,\n",
              "       -9.33965695e-04, -8.57284694e-04, -7.66049511e-04, -7.89829834e-04,\n",
              "       -6.72000488e-04, -5.58061561e-04, -5.33108752e-04, -4.22959768e-04,\n",
              "       -9.45192047e-05, -1.30615833e-04,  4.26159680e-05, -5.00685945e-05,\n",
              "        5.17671222e-05, -1.01741504e-04, -7.33637106e-05, -1.73867081e-05,\n",
              "       -4.56822591e-06, -6.51585553e-05, -4.28219376e-06, -1.17596268e-04,\n",
              "        1.89893985e-05,  8.54390364e-06, -6.22506920e-05, -4.28688954e-05,\n",
              "        4.99107564e-05,  1.60039235e-05, -8.15087005e-06,  2.64895334e-05,\n",
              "        7.68154424e-04,  8.13535539e-04,  8.59766344e-04,  8.53715581e-04,\n",
              "        9.49296059e-04,  1.06680308e-03,  9.91390263e-04,  1.04032502e-03,\n",
              "        1.11253504e-03,  1.16621336e-03,  8.52985119e-04,  1.19879270e-03,\n",
              "        9.55626111e-04,  9.27070549e-04,  7.84437306e-04,  8.53461266e-04,\n",
              "        6.40559990e-04,  6.28326365e-04,  5.12646510e-04,  5.52737329e-04,\n",
              "       -4.89593124e-04, -4.68705672e-04, -6.74771778e-04, -5.42677550e-04,\n",
              "       -7.08405896e-04, -7.52760825e-04, -6.25075732e-04, -5.13776351e-04,\n",
              "       -8.70718648e-04, -7.05871617e-04, -6.35380708e-04, -6.55535995e-04,\n",
              "       -6.43200764e-04, -6.93579510e-04, -4.94758009e-04, -5.22299647e-04,\n",
              "       -5.10690303e-04, -4.53100322e-04, -3.16634589e-04, -5.27612875e-04,\n",
              "       -4.44111740e-04, -4.77113998e-04, -4.64147927e-04, -4.47538855e-04,\n",
              "       -5.37893361e-04, -4.96018560e-04, -7.10111851e-04, -6.49797772e-04,\n",
              "       -5.94027245e-04, -5.44774718e-04, -6.22749946e-04, -6.11020583e-04,\n",
              "       -5.18662769e-04, -5.02077186e-04, -4.79434083e-04, -4.34490562e-04,\n",
              "       -3.32328836e-04, -3.62216209e-04, -3.24183094e-04, -1.42741366e-04,\n",
              "        9.04221417e-04,  1.00061681e-03,  9.36673106e-04,  1.15620176e-03,\n",
              "        1.09481460e-03,  1.33084845e-03,  1.23634968e-03,  1.31340044e-03,\n",
              "        1.13910638e-03,  1.19844894e-03,  1.29720656e-03,  1.13606578e-03,\n",
              "        1.11921580e-03,  1.05437748e-03,  9.88103468e-04,  9.55372890e-04,\n",
              "        9.19864790e-04,  6.80834971e-04,  7.28777599e-04,  6.28498333e-04,\n",
              "       -3.46197240e-04, -4.28116618e-04, -3.71454524e-04, -4.31477253e-04,\n",
              "       -5.97388296e-04, -4.42950621e-04, -5.58423777e-04, -4.98069244e-04,\n",
              "       -4.31247401e-04, -3.26989764e-04, -5.22866909e-04, -5.26031234e-04,\n",
              "       -3.85923148e-04, -3.67141477e-04, -3.44217358e-04, -7.00168113e-04,\n",
              "       -3.71047635e-04, -2.52127079e-04, -3.70951446e-04, -3.52946659e-04,\n",
              "       -6.31614343e-04, -6.81208118e-04, -7.14848687e-04, -6.54816112e-04,\n",
              "       -9.21813604e-04, -8.29501204e-04, -8.22810176e-04, -8.39099070e-04,\n",
              "       -9.49923054e-04, -9.05538778e-04, -7.84408907e-04, -7.41482371e-04,\n",
              "       -9.00029436e-04, -7.02440859e-04, -5.29477685e-04, -4.97178601e-04,\n",
              "       -4.02485842e-04, -5.35116321e-04, -4.29223840e-04, -3.58983770e-04,\n",
              "        9.59300673e-04,  1.10779279e-03,  1.19140857e-03,  1.05806628e-03,\n",
              "        1.37444305e-03,  1.44191737e-03,  1.33513816e-03,  1.32736872e-03,\n",
              "        1.29504283e-03,  1.33806172e-03,  1.28985326e-03,  1.15017525e-03,\n",
              "        1.27499725e-03,  1.03883051e-03,  8.95211537e-04,  1.01744901e-03,\n",
              "        6.83271422e-04,  8.26572676e-04,  7.74258801e-04,  6.86010673e-04,\n",
              "       -5.83687220e-04, -7.79843107e-04, -7.30418262e-04, -7.76400756e-04,\n",
              "       -8.16404119e-04, -9.23324430e-04, -8.85387981e-04, -9.10901159e-04,\n",
              "       -8.14844429e-04, -6.77692891e-04, -9.57350964e-04, -7.61513600e-04,\n",
              "       -6.52980502e-04, -6.46554547e-04, -7.17449338e-04, -5.51448388e-04,\n",
              "       -5.35579650e-04, -4.98507812e-04, -5.31513407e-04, -4.70774271e-04,\n",
              "        1.83245278e-04,  3.79224489e-04,  1.35040495e-04,  4.47318946e-04,\n",
              "        1.91242866e-04,  3.93689091e-04,  2.57500841e-04,  3.70610581e-04,\n",
              "        3.15624601e-04,  2.46901425e-04,  2.98066182e-04,  2.54700705e-04,\n",
              "        2.82249136e-04,  1.88030035e-04,  2.54729198e-04,  2.19250957e-04,\n",
              "        2.34352253e-04,  1.46607504e-04,  2.17676182e-04,  1.80358738e-04,\n",
              "       -4.18088918e-05, -1.43598156e-04, -3.07347627e-06, -1.35126170e-04,\n",
              "       -9.58804872e-05, -5.70441571e-05, -8.34426064e-05, -1.21529604e-04,\n",
              "       -8.95467221e-05, -1.67026605e-05, -1.58690669e-04, -4.07403706e-05,\n",
              "       -5.94158808e-05, -9.77707403e-06, -1.70319397e-04,  4.17495653e-06,\n",
              "       -8.56072984e-05, -5.00026828e-05, -5.88460914e-05, -5.57009500e-05,\n",
              "        2.29339437e-06,  2.90036329e-05, -2.33300329e-05,  3.04219374e-05,\n",
              "        5.00456003e-05, -8.94285566e-05,  8.35084392e-05,  2.81555745e-05,\n",
              "       -2.08077781e-05, -4.87217577e-05,  9.84023070e-05, -9.41276622e-06,\n",
              "        1.11725133e-05, -8.56497991e-05,  1.15841406e-04,  1.23932845e-06,\n",
              "       -6.45505184e-05,  6.86392909e-05, -1.40449822e-05,  1.01607308e-05,\n",
              "        7.01790358e-05,  5.37734258e-05,  4.13865803e-05,  3.30600386e-05,\n",
              "        2.72388084e-05,  2.38950626e-05,  2.23165057e-05,  2.17818269e-05,\n",
              "        2.16189426e-05,  2.12254538e-05,  2.01023794e-05,  1.78508198e-05,\n",
              "        1.44487718e-05,  9.30994493e-06,  2.53312014e-06, -5.86700734e-06,\n",
              "       -1.58083616e-05, -2.64552112e-05, -3.89795748e-05, -5.25643812e-05,\n",
              "       -1.82739906e-04, -1.55581624e-04, -1.32474133e-04, -1.14167708e-04,\n",
              "       -9.78359716e-05, -8.39487127e-05, -7.15762034e-05, -5.97261852e-05,\n",
              "       -4.81836342e-05, -3.46852334e-05, -1.92420076e-05, -1.39707373e-06,\n",
              "        1.77669069e-05,  4.05718163e-05,  6.55625812e-05,  9.21728049e-05,\n",
              "        1.19653496e-04,  1.45535117e-04,  1.72175400e-04,  1.97039080e-04,\n",
              "        3.54280598e-05,  4.64328145e-05,  5.03896099e-05,  4.79657326e-05,\n",
              "        3.94107365e-05,  2.54706794e-05,  7.09344157e-06, -1.46706431e-05,\n",
              "       -3.72660605e-05, -6.24748488e-05, -8.78890240e-05, -1.12528978e-04,\n",
              "       -1.34220094e-04, -1.54934872e-04, -1.72598369e-04, -1.86665110e-04,\n",
              "       -1.96707105e-04, -2.02201108e-04, -2.03643892e-04, -2.00476137e-04,\n",
              "        2.12519010e-04,  1.98239850e-04,  1.84970577e-04,  1.73526813e-04,\n",
              "        1.62396571e-04,  1.52033712e-04,  1.41959688e-04,  1.31566053e-04,\n",
              "        1.20892743e-04,  1.07985477e-04,  9.29196401e-05,  7.53100363e-05,\n",
              "        5.62745501e-05,  3.35450440e-05,  8.63359441e-06, -1.77740715e-05,\n",
              "       -4.47446214e-05, -6.96413186e-05, -9.44094774e-05, -1.16221407e-04,\n",
              "        4.20135664e-05,  2.15027210e-05,  9.94732246e-06,  7.27265733e-06,\n",
              "        1.26928726e-05,  2.57097420e-05,  4.50004420e-05,  6.89441290e-05,\n",
              "        9.41180218e-05,  1.21903463e-04,  1.49006415e-04,  1.73820893e-04,\n",
              "        1.93892798e-04,  2.10792996e-04,  2.22543903e-04,  2.28939831e-04,\n",
              "        2.30155157e-04,  2.27016096e-04,  2.19855289e-04,  2.09674984e-04,\n",
              "       -2.05309400e-04, -2.19984073e-04, -2.26296265e-04, -2.24693925e-04,\n",
              "       -2.15368931e-04, -1.98856393e-04, -1.76051907e-04, -1.48013467e-04,\n",
              "       -1.17880823e-04, -8.30314330e-05, -4.64339940e-05, -9.23325318e-06,\n",
              "        2.53796054e-05,  6.08215230e-05,  9.40687450e-05,  1.24409503e-04,\n",
              "        1.51259058e-04,  1.72925153e-04,  1.91786143e-04,  2.06131643e-04,\n",
              "       -2.07734208e-04, -2.04896248e-04, -2.03501732e-04, -2.03846130e-04,\n",
              "       -2.06101425e-04, -2.10176970e-04, -2.15682783e-04, -2.21994505e-04,\n",
              "       -2.27953742e-04, -2.33446407e-04, -2.37175460e-04, -2.38303470e-04,\n",
              "       -2.36389138e-04, -2.30787804e-04, -2.21386679e-04, -2.08387601e-04,\n",
              "       -1.92324123e-04, -1.75148779e-04, -1.55729110e-04, -1.36300364e-04,\n",
              "        9.31978454e-05,  1.19098475e-04,  1.33391692e-04,  1.35709967e-04,\n",
              "        1.26420360e-04,  1.05758657e-04,  7.50952725e-05,  3.63292200e-05,\n",
              "       -5.51232640e-06, -5.32752368e-05, -1.01945976e-04, -1.49110818e-04,\n",
              "       -1.90229058e-04, -2.28835439e-04, -2.61069291e-04, -2.86347945e-04,\n",
              "       -3.04675123e-04, -3.16054343e-04, -3.22841622e-04, -3.25447419e-04,\n",
              "        3.35212731e-04,  3.67974972e-04,  3.90307107e-04,  4.01604300e-04,\n",
              "        4.03533741e-04,  3.95784780e-04,  3.79452591e-04,  3.55927393e-04,\n",
              "        3.28625433e-04,  2.95700440e-04,  2.60314739e-04,  2.23933732e-04,\n",
              "        1.89896640e-04,  1.54863635e-04,  1.21632984e-04,  9.05394494e-05,\n",
              "        6.16231771e-05,  3.62157927e-05,  1.07795115e-05, -1.35239689e-05,\n",
              "        9.88554555e-05,  1.05377493e-04,  1.13068325e-04,  1.21852898e-04,\n",
              "        1.33210956e-04,  1.46867929e-04,  1.62821332e-04,  1.80828743e-04,\n",
              "        1.99227441e-04,  2.19667363e-04,  2.40195346e-04,  2.59861893e-04,\n",
              "        2.76703994e-04,  2.91929332e-04,  3.03590052e-04,  3.11030037e-04,\n",
              "        3.13819580e-04,  3.12038790e-04,  3.05547059e-04,  2.94647685e-04,\n",
              "       -2.71191412e-04, -3.00849961e-04, -3.19649813e-04, -3.26577920e-04,\n",
              "       -3.22182608e-04, -3.05975100e-04, -2.78884806e-04, -2.42408606e-04,\n",
              "       -2.01250048e-04, -1.52417329e-04, -1.00694519e-04, -4.84753105e-05,\n",
              "       -8.54193963e-07,  4.63290518e-05,  8.85810054e-05,  1.24973022e-04,\n",
              "        1.55125467e-04,  1.77931655e-04,  1.96816098e-04,  2.11139996e-04,\n",
              "       -3.01146214e-04, -3.41933887e-04, -3.73017568e-04, -3.92960131e-04,\n",
              "       -4.04309931e-04, -4.06108443e-04, -3.99429917e-04, -3.85731022e-04,\n",
              "       -3.67950090e-04, -3.45578019e-04, -3.21330419e-04, -2.96748957e-04,\n",
              "       -2.74397348e-04, -2.52242502e-04, -2.32054586e-04, -2.13693037e-04,\n",
              "       -1.96578027e-04, -1.80774119e-04, -1.63191300e-04, -1.43541934e-04,\n",
              "        1.17969175e-04,  1.11000505e-04,  1.02335916e-04,  9.21033327e-05,\n",
              "        7.84813666e-05,  6.15448269e-05,  4.09414160e-05,  1.65171498e-05,\n",
              "       -9.88196702e-06, -4.12102834e-05, -7.52779255e-05, -1.11150637e-04,\n",
              "       -1.45498404e-04, -1.81291423e-04, -2.14866978e-04, -2.44650747e-04,\n",
              "       -2.69111827e-04, -2.86023313e-04, -2.96388481e-04, -2.98073456e-04,\n",
              "        3.09725802e-04,  3.36702376e-04,  3.55958590e-04,  3.66231505e-04,\n",
              "        3.68339406e-04,  3.61320994e-04,  3.45567572e-04,  3.21899777e-04,\n",
              "        2.93462467e-04,  2.58117430e-04,  2.19143405e-04,  1.78325095e-04,\n",
              "        1.39808976e-04,  1.00351941e-04,  6.38183432e-05,  3.13660322e-05,\n",
              "        3.81680360e-06, -1.72126392e-05, -3.42354499e-05, -4.59691620e-05,\n",
              "        9.36154017e-05,  1.24067054e-04,  1.49260718e-04,  1.67907886e-04,\n",
              "        1.82424095e-04,  1.91924934e-04,  1.97171327e-04,  1.99158329e-04,\n",
              "        1.99058252e-04,  1.97944420e-04,  1.96813153e-04,  1.96500119e-04,\n",
              "        1.97439833e-04,  1.99933052e-04,  2.03787410e-04,  2.08456620e-04,\n",
              "        2.13074086e-04,  2.16384426e-04,  2.17624751e-04,  2.15290277e-04,\n",
              "       -2.18484021e-04, -2.14362319e-04, -2.09286458e-04, -2.03185969e-04,\n",
              "       -1.94740077e-04, -1.83666497e-04, -1.69387099e-04, -1.51436368e-04,\n",
              "       -1.30936566e-04, -1.05298606e-04, -7.59578998e-05, -4.35271401e-05,\n",
              "       -1.10356195e-05,  2.43679284e-05,  5.91727842e-05,  9.16574955e-05,\n",
              "        1.20016853e-04,  1.41352199e-04,  1.56791389e-04,  1.63463026e-04,\n",
              "       -1.83918394e-04, -2.04914772e-04, -2.22303673e-04, -2.34843281e-04,\n",
              "       -2.43705290e-04, -2.47764667e-04, -2.47034549e-04, -2.41760529e-04,\n",
              "       -2.33065295e-04, -2.20501123e-04, -2.05338847e-04, -1.88554877e-04,\n",
              "       -1.72225875e-04, -1.55346653e-04, -1.39992100e-04, -1.27140023e-04,\n",
              "       -1.17631693e-04, -1.12329999e-04, -1.10999898e-04, -1.14312833e-04,\n",
              "        1.44883622e-04,  1.29335484e-04,  1.15369122e-04,  1.03508255e-04,\n",
              "        9.19000443e-05,  8.07716385e-05,  6.94640612e-05,  5.72907429e-05,\n",
              "        4.44768303e-05,  2.89502179e-05,  1.11744061e-05, -8.87256775e-06,\n",
              "       -2.95693002e-05, -5.29559094e-05, -7.69455492e-05, -1.00459785e-04,\n",
              "       -1.22264785e-04, -1.40065024e-04, -1.54886604e-04, -1.64391392e-04,\n",
              "        7.59037372e-05,  8.56533258e-05,  9.62302411e-05,  1.06428783e-04,\n",
              "        1.16905582e-04,  1.26352951e-04,  1.34138451e-04,  1.39737697e-04,\n",
              "        1.42692286e-04,  1.43246337e-04,  1.41263626e-04,  1.37152005e-04,\n",
              "        1.31946583e-04,  1.25873237e-04,  1.20325915e-04,  1.16522278e-04,\n",
              "        1.15700230e-04,  1.18690690e-04,  1.26807541e-04,  1.40727389e-04,\n",
              "       -5.86134471e-05, -5.63121177e-05, -5.58571925e-05, -5.67836173e-05,\n",
              "       -5.87242449e-05, -6.10661146e-05, -6.31855571e-05, -6.44964015e-05,\n",
              "       -6.45561261e-05, -6.30586241e-05, -5.98253689e-05, -5.49502843e-05,\n",
              "       -4.91514068e-05, -4.22115803e-05, -3.51625133e-05, -2.88285627e-05,\n",
              "       -2.40840278e-05, -2.18312572e-05, -2.25029334e-05, -2.69061920e-05],      dtype=float64)"
            ]
          },
          "execution_count": 15,
          "metadata": {},
          "output_type": "execute_result"
        }
      ],
      "source": [
        "grad_Z = jit(grad(L, argnums=0))\n",
        "\n",
        "# Run once to trigger JIT compilation.\n",
        "grad_Z(Z_warm, X, U, M, f, two_step_dict, lmbda)\n",
        "# Warm start here !!!"
      ]
    },
    {
      "attachments": {},
      "cell_type": "markdown",
      "metadata": {
        "id": "KWnglrOmnk28"
      },
      "source": [
        "Run the gradient descent for `100` epochs"
      ]
    },
    {
      "cell_type": "markdown",
      "metadata": {},
      "source": [
        "### Optimization of L"
      ]
    },
    {
      "cell_type": "code",
      "execution_count": 16,
      "metadata": {},
      "outputs": [],
      "source": [
        "# Load the warm-up\n",
        "Z = np.copy(Z_warm)"
      ]
    },
    {
      "cell_type": "code",
      "execution_count": null,
      "metadata": {},
      "outputs": [],
      "source": [
        "# solver = LBFGS(fun=L, maxiter=1000)\n",
        "# res = solver.run(Z, X = X, U = U, M = M, f =f , two_step_dict=two_step_dict, lmbd=lmbda)"
      ]
    },
    {
      "cell_type": "code",
      "execution_count": 17,
      "metadata": {},
      "outputs": [],
      "source": [
        "solver = LBFGS(fun=L, maxiter=1000, linesearch='backtracking', history_size = 20)"
      ]
    },
    {
      "cell_type": "code",
      "execution_count": 18,
      "metadata": {},
      "outputs": [],
      "source": [
        "res = solver.run(Z, X = X, U = U, M = M, f =f , two_step_dict=two_step_dict, lmbd=lmbda)"
      ]
    },
    {
      "cell_type": "code",
      "execution_count": 19,
      "metadata": {},
      "outputs": [],
      "source": [
        "Z = res.params"
      ]
    },
    {
      "cell_type": "code",
      "execution_count": null,
      "metadata": {},
      "outputs": [],
      "source": [
        "# u_t = u_train.T.reshape(N*m,1)\n",
        "# # Load true gradients from 2-step\n",
        "# u_x_train = np.load('data/u_x_train.npy')\n",
        "# u_xx_train = np.load('data/u_xx_train.npy')\n",
        "# # Build true Z\n",
        "# Z_true = np.hstack([u_t, u_x_train.T.reshape(N*m,1),u_xx_train.T.reshape(N*m,1)])"
      ]
    },
    {
      "cell_type": "code",
      "execution_count": null,
      "metadata": {},
      "outputs": [],
      "source": [
        "# Only do this for the first time - \n",
        "#Z = np.copy(Z_warm)\n",
        "#Z = np.load('data/Z.npy')"
      ]
    },
    {
      "cell_type": "markdown",
      "metadata": {},
      "source": [
        "0. Run it for more iterations until it actually converges to a minimum!!!\n",
        "1. Line search (using $p_k = - \\nabla f$) using Armijo condition. Pick $\\alpha_k$ such that satisfy the two Wolfe conditions. Test: Loss must always goes down here. \n",
        "2. Newton-Armijo.\n",
        "3. Read Quasi-Newton algorithm in Nocedal, when the Hessian is not PD.  "
      ]
    },
    {
      "cell_type": "code",
      "execution_count": null,
      "metadata": {
        "colab": {
          "base_uri": "https://localhost:8080/"
        },
        "id": "Z9zAYK3Onk28",
        "outputId": "4fd3b5ca-7ba7-48ea-a37a-5bd73f86e8e7"
      },
      "outputs": [],
      "source": [
        "# # mses = []\n",
        "# # S = jnp.zeros((N*m,4))\n",
        "# # kernel = Gaussian\n",
        "# # If trained previously use Z\n",
        "# # if np.all(Z != Z_warm):\n",
        "# #     Z = np.load('data/Z.npy')\n",
        "# # else:\n",
        "# #     Z = np.copy(Z_warm)\n",
        "# Z = np.copy(Z_warm)\n",
        "# learning_rate = 1e-7\n",
        "# for i in range(100):\n",
        "#     delta_Z = grad_Z(Z, X, U, M, f, two_step_dict, lmbda)\n",
        "#     lr = jnp.linalg.norm(Z)/jnp.linalg.norm(delta_Z)*learning_rate\n",
        "#     Z -= lr * delta_Z\n",
        "\n",
        "#     if i % 10 == 0:\n",
        "#         print('iter:', i )\n",
        "#         print('loss: ', L(Z, X, U, M, f, two_step_dict, lmbda))\n",
        "#         #print('mse:', mse)\n",
        "    \n",
        "# # Save at the end of iterations\n",
        "# #np.save('data/Z.npy',Z)"
      ]
    },
    {
      "cell_type": "code",
      "execution_count": 20,
      "metadata": {},
      "outputs": [
        {
          "data": {
            "text/plain": [
              "Array(False, dtype=bool)"
            ]
          },
          "execution_count": 20,
          "metadata": {},
          "output_type": "execute_result"
        }
      ],
      "source": [
        "np.all(Z_warm==Z)"
      ]
    },
    {
      "cell_type": "markdown",
      "metadata": {},
      "source": [
        "Evaluate `Z`"
      ]
    },
    {
      "cell_type": "code",
      "execution_count": 21,
      "metadata": {},
      "outputs": [],
      "source": [
        "S = jnp.zeros((N_gh_tr*m, 5))\n",
        "\n",
        "# Split Z\n",
        "for i in range(m):\n",
        "    Zi = Z[i*N_gh_tr:(i+1)*N_gh_tr]\n",
        "    optim_sgm = two_step_dict.get('optim_sgm_u')[i]\n",
        "    optim_nugget = two_step_dict.get('optim_nugget_u')[i]\n",
        "    G = K_2D(Gaussian2D, X[:N_gh_tr], X[:N_gh_tr], optim_sgm) \n",
        "    alphas = jnp.linalg.solve(G + optim_nugget*jnp.eye(N_gh_tr),Zi)\n",
        "    Zi_x = jnp.dot(K_dot2D(Gaussian2D, X[:N_gh_tr], X[:N_gh_tr], optim_sgm, 1), alphas)\n",
        "    Zi_xx = jnp.dot(K_2dot2D(Gaussian2D, X[:N_gh_tr], X[:N_gh_tr], optim_sgm, 1,1), alphas)\n",
        "    Si = jnp.vstack((X[:N_gh_tr].T,Zi, Zi_x,Zi_xx)).T\n",
        "    S = S.at[i*N_gh_tr:(i+1)*N_gh_tr,:].set(Si)\n",
        "\n",
        "\n",
        "\n",
        "# Load gradients from 2-step\n",
        "U_te_pred = np.load('data/U_te_pred.npy')\n",
        "U_x_te_pred = np.load('data/U_x_te_pred.npy')\n",
        "U_xx_te_pred = np.load('data/U_xx_te_pred.npy')\n",
        "s_train = S\n",
        "s_test = np.hstack((X_te, U_te.T.reshape(-1,1), U_x_te_pred.T.reshape(-1,1), U_xx_te_pred.T.reshape(-1,1))) # (N_te*m, 5)\n",
        "f_train = two_step_dict['f_gh_tr_pred']\n",
        "f_test = U_t_te.T.reshape(N_te*m,1).flatten()\n",
        "f_train2 = -s_train[:,2]*s_train[:,3] + 0.01*s_train[:,4]\n",
        "f_test2 = -s_test[:,2]*s_test[:,3] + 0.01*s_test[:,4]\n",
        "scaler_s_train = MinMaxScaler()\n",
        "s_train_s = scaler_s_train.fit_transform(s_train)\n",
        "s_test_s = scaler_s_train.transform(s_test)\n",
        "\n",
        "optim_sgm_P, optim_nugget_P = grid_search_RBF(s_train_s , f_train)\n",
        "\n",
        "krr_optimal_P = KernelRidge(kernel='rbf', alpha = two_step_dict.get('optim_nugget_P'), gamma=1/(2*(two_step_dict.get('optim_sgm_P')**2))) \n",
        "krr_optimal_P.fit(s_train_s, f_train) \n",
        "f_pred_train = krr_optimal_P.predict(s_train_s) \n",
        "f_pred_test = krr_optimal_P.predict(s_test_s)"
      ]
    },
    {
      "cell_type": "code",
      "execution_count": 22,
      "metadata": {},
      "outputs": [
        {
          "data": {
            "image/png": "[encoded data removed]",
            "text/plain": [
              "<Figure size 700x500 with 8 Axes>"
            ]
          },
          "metadata": {},
          "output_type": "display_data"
        }
      ],
      "source": [
        "# Interpolant P^* at gh_tr points : P^*(hat S) vs. P(hat S)\n",
        "fig, axs = plt.subplots(figsize = (7,5), nrows = m, ncols = 2, sharex = True, sharey = True)\n",
        "fig.subplots_adjust(hspace=0.2, wspace=0.1)\n",
        "fig.suptitle('Second step: P ({}) predictions at training points'.format(m))\n",
        "for i in range(m):\n",
        "        axsi0 = axs[i,0].tricontourf(S[i*N_gh_tr:(i+1)*N_gh_tr,0], S[i*N_gh_tr:(i+1)*N_gh_tr,1], f_pred_train[i*N_gh_tr:(i+1)*N_gh_tr])\n",
        "        plt.colorbar(axsi0, ax = axs[i,0])\n",
        "        axsi1 = axs[i,1].tricontourf(S[i*N_gh_tr:(i+1)*N_gh_tr,0], S[i*N_gh_tr:(i+1)*N_gh_tr,1], f_train2[i*N_gh_tr:(i+1)*N_gh_tr])\n",
        "        plt.colorbar(axsi1, ax = axs[i,1])\n",
        "        axs[i,0].set_yticklabels([])\n",
        "        axs[i,0].set_xticklabels([])\n",
        "        axs[i,0].set_yticks([])\n",
        "        axs[i,0].set_xticks([])\n",
        "        axs[i,1].set_yticklabels([])\n",
        "        axs[i,1].set_xticklabels([])\n",
        "        axs[i,1].set_yticks([])\n",
        "        axs[i,1].set_xticks([])"
      ]
    },
    {
      "cell_type": "code",
      "execution_count": 23,
      "metadata": {},
      "outputs": [
        {
          "data": {
            "image/png": "[encoded data removed]",
            "text/plain": [
              "<Figure size 700x500 with 12 Axes>"
            ]
          },
          "metadata": {},
          "output_type": "display_data"
        }
      ],
      "source": [
        "# Interpolant P^* at testing points : P^*(hat S) vs. P(hat S)\n",
        "fig, axs = plt.subplots(figsize = (7,5), nrows = m, ncols = 3, sharex = True, sharey = True)\n",
        "fig.subplots_adjust(hspace=0.2, wspace=0.1)\n",
        "fig.suptitle('P predictions with m = {} at testing points'.format(m))\n",
        "for i in range(m):\n",
        "        axsi0 = axs[i,0].tricontourf(X_te[i*N_te:(i+1)*N_te,0], X_te[i*N_te:(i+1)*N_te,1], f_pred_test[i*N_te:(i+1)*N_te])\n",
        "        plt.colorbar(axsi0, ax = axs[i,0])\n",
        "        axsi1 = axs[i,1].tricontourf(X_te[i*N_te:(i+1)*N_te,0], X_te[i*N_te:(i+1)*N_te,1], f_test2[i*N_te:(i+1)*N_te])\n",
        "        plt.colorbar(axsi1, ax = axs[i,1])\n",
        "        axsi2 = axs[i,2].tricontourf(X_te[i*N_te:(i+1)*N_te,0], X_te[i*N_te:(i+1)*N_te,1], np.abs(f_test2[i*N_te:(i+1)*N_te]-f_pred_test[i*N_te:(i+1)*N_te]))\n",
        "        plt.colorbar(axsi2, ax = axs[i,2])\n",
        "        axs[i,0].set_yticklabels([])\n",
        "        axs[i,0].set_xticklabels([])\n",
        "        axs[i,0].set_yticks([])\n",
        "        axs[i,0].set_xticks([])\n",
        "        axs[i,1].set_yticklabels([])\n",
        "        axs[i,1].set_xticklabels([])\n",
        "        axs[i,1].set_yticks([])\n",
        "        axs[i,1].set_xticks([])\n",
        "        axs[i,2].set_yticklabels([])\n",
        "        axs[i,2].set_xticklabels([])\n",
        "        axs[i,2].set_yticks([])\n",
        "        axs[i,2].set_xticks([])"
      ]
    },
    {
      "cell_type": "code",
      "execution_count": 24,
      "metadata": {},
      "outputs": [
        {
          "name": "stdout",
          "output_type": "stream",
          "text": [
            "Normalized MSEs between P and P^ for 2 functions\n",
            "m = 0 nmse_train = 0.7680768761250406\n",
            "m = 0 nmse_test = 1.501260644966155\n",
            "m = 1 nmse_train = 0.5993429169123797\n",
            "m = 1 nmse_test = 0.8250856168158748\n"
          ]
        }
      ],
      "source": [
        "# NMSEs: P at training points and testing points\n",
        "print('Normalized MSEs between P and P^ for {} functions'.format(m))\n",
        "for i in range(m):\n",
        "    n_mse_train = rel_mse(f_train2[i*N_gh_tr:(i+1)*N_gh_tr],f_pred_train[i*N_gh_tr:(i+1)*N_gh_tr])\n",
        "    n_mse_test = rel_mse(f_test2[i*N_te:(i+1)*N_te], f_pred_test[i*N_te:(i+1)*N_te])\n",
        "    print('m = {} nmse_train = {}'.format(i,n_mse_train))\n",
        "    print('m = {} nmse_test = {}'.format(i,n_mse_test))"
      ]
    }
  ],
  "metadata": {
    "colab": {
      "provenance": []
    },
    "kernelspec": {
      "display_name": "base",
      "language": "python",
      "name": "python3"
    },
    "language_info": {
      "codemirror_mode": {
        "name": "ipython",
        "version": 3
      },
      "file_extension": ".py",
      "mimetype": "text/x-python",
      "name": "python",
      "nbconvert_exporter": "python",
      "pygments_lexer": "ipython3",
      "version": "3.11.3"
    },
    "vscode": {
      "interpreter": {
        "hash": "9f30f608a882a0e3e1ee7bdaf111a2fb524766c624535f9d75a6d8e97b170942"
      }
    }
  },
  "nbformat": 4,
  "nbformat_minor": 0
}
