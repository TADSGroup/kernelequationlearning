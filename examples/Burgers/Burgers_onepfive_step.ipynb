{
  "cells": [
    {
      "attachments": {},
      "cell_type": "markdown",
      "metadata": {
        "id": "_Lr5zZpo4oaV"
      },
      "source": [
        "## Burgers: One-pfive step Method"
      ]
    },
    {
      "cell_type": "code",
      "execution_count": 1,
      "metadata": {},
      "outputs": [
        {
          "name": "stdout",
          "output_type": "stream",
          "text": [
            "(100, 320)\n"
          ]
        }
      ],
      "source": [
        "import sys\n",
        "import os\n",
        "import numpy as np\n",
        "import matplotlib.pyplot as plt \n",
        "from sklearn.kernel_ridge import KernelRidge\n",
        "from sklearn.metrics.pairwise import polynomial_kernel\n",
        "from tqdm import tqdm\n",
        "import jax.numpy as jnp\n",
        "from jax import grad, jit\n",
        "from jax.scipy.optimize import minimize\n",
        "from jaxopt import LBFGS\n",
        "from jaxopt import GradientDescent\n",
        "from functools import partial\n",
        "from jax.config import config;\n",
        "sys.path.append('/home/juanfelipe/Desktop/research/keql/source')\n",
        "from parameter_learning import *\n",
        "from plotlib import *\n",
        "from models import * \n",
        "from kernels import *\n",
        "from data_loader_Burgers5 import *\n",
        "from loss import *\n",
        "from utils import *\n",
        "\n",
        "\n",
        "os.environ[\"XLA_PYTHON_CLIENT_PREALLOCATE\"] = \"false\"\n",
        "config.update(\"jax_enable_x64\", True)"
      ]
    },
    {
      "cell_type": "code",
      "execution_count": 2,
      "metadata": {},
      "outputs": [],
      "source": [
        "# Import values from 2-step\n",
        "two_step_dict = np.load('data/two_step_dict.npy', allow_pickle=True)\n",
        "two_step_dict = two_step_dict.item()"
      ]
    },
    {
      "attachments": {},
      "cell_type": "markdown",
      "metadata": {
        "id": "R0dMsZlmnk27"
      },
      "source": [
        "### Cost function"
      ]
    },
    {
      "attachments": {},
      "cell_type": "markdown",
      "metadata": {},
      "source": [
        "Create objective function `L`"
      ]
    },
    {
      "cell_type": "markdown",
      "metadata": {},
      "source": [
        "$$\n",
        "L(Z_0) = f(X_N)^T \\Gamma(S_N,S_N)^{-1} f(X_N) + \\lambda \\sum_{i=1}^m (Z_{0,i*N:(i+1)*N})^T K(X_N,X_N)^{-1}(Z_{0,i*N:(i+1)*N})\n",
        "$$\n",
        "where\n",
        "$$\n",
        "Z_0[M] = U[M].\n",
        "$$"
      ]
    },
    {
      "cell_type": "markdown",
      "metadata": {},
      "source": [
        "1. Get `f_gh_tr_pred` from two step to be the new `f` in the 1.5 step method."
      ]
    },
    {
      "cell_type": "code",
      "execution_count": 3,
      "metadata": {},
      "outputs": [],
      "source": [
        "# First column in Gamma(S_N,S_N)\n",
        "X = X_gh_tr # (N_gh_tr*m, 2)\n",
        "\n",
        "# Second column in Gamma(S_N,S_N)\n",
        "U = U_gh_tr.reshape(N_gh_tr*m,) # (N_gh_tr*m, )\n",
        "\n",
        "# f(X_N)\n",
        "#f = f_Test(model,e_test)\n",
        "f = two_step_dict['f_gh_tr_pred']"
      ]
    },
    {
      "cell_type": "code",
      "execution_count": 4,
      "metadata": {},
      "outputs": [],
      "source": [
        "# Load values of U predicted from 2-step at te points: originally wrong\n",
        "U_gh_tr_pred = np.load('data/U_gh_tr_pred.npy')\n",
        "U_x_gh_tr_pred = np.load('data/U_x_gh_tr_pred.npy')\n",
        "U_xx_gh_tr_pred = np.load('data/U_xx_gh_tr_pred.npy')\n",
        "# Build Z_warm\n",
        "Z_warm = jnp.array(U_gh_tr_pred.T.reshape(N_gh_tr*m,)) "
      ]
    },
    {
      "cell_type": "code",
      "execution_count": 5,
      "metadata": {},
      "outputs": [],
      "source": [
        "# # Load values of U predicted from 2-step at te points: originally wrong\n",
        "# U_te_pred = np.load('data/U_te_pred.npy')\n",
        "# U_x_te_pred = np.load('data/U_x_te_pred.npy')\n",
        "# U_xx_te_pred = np.load('data/U_xx_te_pred.npy')\n",
        "# # Build Z_warm\n",
        "# Z_warm = jnp.array(U_te_pred.T.reshape(N_te*m,)) "
      ]
    },
    {
      "cell_type": "markdown",
      "metadata": {},
      "source": [
        "First iteration RKHS norm of P "
      ]
    },
    {
      "cell_type": "markdown",
      "metadata": {},
      "source": [
        "Gaussian"
      ]
    },
    {
      "cell_type": "code",
      "execution_count": 6,
      "metadata": {},
      "outputs": [],
      "source": [
        "S = jnp.zeros((N_gh_tr*m, 5))\n",
        "\n",
        "# Split Z\n",
        "for i in range(m):\n",
        "    Zi = Z_warm[i*N_gh_tr:(i+1)*N_gh_tr]\n",
        "    optim_sgm = two_step_dict.get('optim_sgm_u')[i]\n",
        "    optim_nugget = two_step_dict.get('optim_nugget_u')[i]\n",
        "    G = K_2D(Gaussian2D, X[:N_gh_tr], X[:N_gh_tr], optim_sgm) \n",
        "    alphas = jnp.linalg.solve(G + optim_nugget*jnp.eye(N_gh_tr),Zi)\n",
        "\n",
        "    Zi_x = jnp.dot(K_dot2D(Gaussian2D, X[:N_gh_tr], X[:N_gh_tr], optim_sgm, 1), alphas)\n",
        "    Zi_xx = jnp.dot(K_2dot2D(Gaussian2D, X[:N_gh_tr], X[:N_gh_tr], optim_sgm, 1,1), alphas)\n",
        "\n",
        "    Si = jnp.vstack((X[:N_gh_tr].T, Zi, Zi_x,Zi_xx)).T\n",
        "    # print shapes and values here\n",
        "    S = S.at[i*N_gh_tr:(i+1)*N_gh_tr,:].set(Si)\n",
        "# Scaling S_N\n",
        "scaler_s_train = MinMaxScaler()\n",
        "S = scaler_s_train.fit_transform(S)\n",
        "S = jnp.array(S)\n",
        "# Gamma(S_N,S_N)\n",
        "optim_sgm_P = two_step_dict.get('optim_sgm_P')\n",
        "Gamma = K(Gaussian, S, S, optim_sgm_P)\n",
        "nugget_P = two_step_dict.get('optim_nugget_P') \n",
        "Gamma = Gamma + nugget_P*jnp.eye(jnp.size(Gamma,0))\n",
        "#print(\"cond(Gamma) = \", jnp.linalg.cond(Gamma))\n",
        "\n",
        "# (Gamma(S_N,S_N) + alpha_Gamma*I)^-1 * f\n",
        "b = jnp.linalg.solve(Gamma,f)\n",
        "\n",
        "rkhs_P_first_iter = jnp.dot(f.T , b)"
      ]
    },
    {
      "cell_type": "markdown",
      "metadata": {},
      "source": [
        "Poly2"
      ]
    },
    {
      "cell_type": "code",
      "execution_count": 8,
      "metadata": {},
      "outputs": [],
      "source": [
        "S = jnp.zeros((N_gh_tr*m, 5))\n",
        "\n",
        "# Split Z\n",
        "for i in range(m):\n",
        "    Zi = Z_warm[i*N_gh_tr:(i+1)*N_gh_tr]\n",
        "    optim_sgm = two_step_dict.get('optim_sgm_u')[i]\n",
        "    optim_nugget = two_step_dict.get('optim_nugget_u')[i]\n",
        "    G = K_2D(Gaussian2D, X[:N_gh_tr], X[:N_gh_tr], optim_sgm) \n",
        "    alphas = jnp.linalg.solve(G + optim_nugget*jnp.eye(N_gh_tr),Zi)\n",
        "\n",
        "    Zi_x = jnp.dot(K_dot2D(Gaussian2D, X[:N_gh_tr], X[:N_gh_tr], optim_sgm, 1), alphas)\n",
        "    Zi_xx = jnp.dot(K_2dot2D(Gaussian2D, X[:N_gh_tr], X[:N_gh_tr], optim_sgm, 1,1), alphas)\n",
        "\n",
        "    Si = jnp.vstack((X[:N_gh_tr].T, Zi, Zi_x,Zi_xx)).T\n",
        "    # print shapes and values here\n",
        "    S = S.at[i*N_gh_tr:(i+1)*N_gh_tr,:].set(Si)\n",
        "# Scaling S_N\n",
        "scaler_s_train = MinMaxScaler()\n",
        "S = scaler_s_train.fit_transform(S)\n",
        "S = jnp.array(S)\n",
        "# Gamma(S_N,S_N)\n",
        "#optim_sgm_P = two_step_dict.get('optim_sgm_P')\n",
        "Gamma = K(Polynomial,S, S, jnp.array([1,2]))\n",
        "#nugget_P = two_step_dict.get('optim_nugget_P') \n",
        "Gamma = Gamma + nugget_P*jnp.eye(jnp.size(Gamma,0))\n",
        "#print(\"cond(Gamma) = \", jnp.linalg.cond(Gamma))\n",
        "\n",
        "# (Gamma(S_N,S_N) + alpha_Gamma*I)^-1 * f\n",
        "b = jnp.linalg.solve(Gamma,f)\n",
        "\n",
        "rkhs_P_first_iter = jnp.dot(f.T , b)"
      ]
    },
    {
      "cell_type": "markdown",
      "metadata": {},
      "source": [
        "First iteration RKHS norm of u"
      ]
    },
    {
      "cell_type": "code",
      "execution_count": null,
      "metadata": {},
      "outputs": [],
      "source": [
        "# Second term\n",
        "sigma_K = jnp.array(two_step_dict.get('optim_sgm_u'))\n",
        "nugget_K = two_step_dict.get('optim_nugget_u')\n",
        "K_XNs = []\n",
        "for i in range(m):\n",
        "    K_XN = K(Gaussian,X_gh_tr[:N_gh_tr],X_gh_tr[:N_gh_tr],sigma_K[i]) \n",
        "    K_XNs.append(K_XN + nugget_K[i]*jnp.eye(N_gh_tr))\n",
        "\n",
        "rkhs_u_first_iter = []\n",
        "for i in range(m):\n",
        "    Zi = Z_warm[i*N_gh_tr:(i+1)*N_gh_tr]\n",
        "    c = jnp.linalg.solve(K_XNs[i],Zi)\n",
        "    rkhs_u_first_iter.append(jnp.reshape(jnp.dot(Zi.T , c),()))"
      ]
    },
    {
      "cell_type": "code",
      "execution_count": null,
      "metadata": {},
      "outputs": [
        {
          "data": {
            "text/plain": [
              "(50, 2)"
            ]
          },
          "execution_count": 9,
          "metadata": {},
          "output_type": "execute_result"
        }
      ],
      "source": [
        "X_tr.shape"
      ]
    },
    {
      "cell_type": "code",
      "execution_count": null,
      "metadata": {},
      "outputs": [],
      "source": [
        "def L(Z, X, U, M, f, two_step_dict, lmbd):\n",
        "    \"\"\"Cost function for 1.5-step method.\n",
        "    \n",
        "    Args:\n",
        "        Z: Vector [Z^1 Z^2 Z^3]^T. m*N\n",
        "        X: List of mN points of dimension d.\n",
        "        U: List of N1+N2+N3 values of functions u^(1),...u^(N).\n",
        "        M: Bolean array which contains where true values reside.\n",
        "        f: List of mN values of functions u^(1),...u^(N).\n",
        "        two_step_dict: Dictionary with values from 2-step.\n",
        "        lmbd: Lagrange multiplier in the loss function.\n",
        "    Returns:\n",
        "        scalar: a cost of this solution.    \n",
        "    \"\"\" \n",
        "\n",
        "    ### Set up\n",
        "    N = 20*20\n",
        "    m = 2\n",
        "    #print('Z:', Z)\n",
        "    # Constrain the value of Z with known info\n",
        "    #Z = jnp.where(M, U, Z)\n",
        "    # Just use Z_warm instead of using line 21.\n",
        "    # Cd + 1 = 4\n",
        "    S = jnp.zeros((N_gh_tr*m, 5))\n",
        "    \n",
        "    # Split Z\n",
        "    for i in range(m):\n",
        "        Zi = Z[i*N_gh_tr:(i+1)*N_gh_tr]\n",
        "        optim_sgm = two_step_dict.get('optim_sgm_u')[i]\n",
        "        optim_nugget = two_step_dict.get('optim_nugget_u')[i]\n",
        "        G = K_2D(Gaussian2D, X[:N_gh_tr], X[:N_gh_tr], optim_sgm) \n",
        "        alphas = jnp.linalg.solve(G + optim_nugget*jnp.eye(N),Zi)\n",
        "\n",
        "        Zi_x = jnp.dot(K_dot2D(Gaussian2D, X[:N_gh_tr], X[:N_gh_tr], optim_sgm, 1), alphas)\n",
        "        Zi_xx = jnp.dot(K_2dot2D(Gaussian2D, X[:N_gh_tr], X[:N_gh_tr], optim_sgm, 1,1), alphas)\n",
        "\n",
        "        Si = jnp.vstack((X[:N].T,Zi, Zi_x,Zi_xx)).T\n",
        "        # print shapes and values here\n",
        "        S = S.at[i*N_gh_tr:(i+1)*N_gh_tr,:].set(Si)\n",
        "    # Scaling S_N\n",
        "    scaler_s_train = MinMaxScaler()\n",
        "    S = scaler_s_train.fit_transform(S)\n",
        "    S = jnp.array(S)\n",
        "    # Gamma(S_N,S_N)\n",
        "    optim_sgm_P = two_step_dict.get('optim_sgm_P')\n",
        "    #Gamma = K(Gaussian, S, S, optim_sgm_P)\n",
        "    Gamma = K(Polynomial,S, S, jnp.array([1,2]))\n",
        "    nugget_P = two_step_dict.get('nugget_P') \n",
        "    Gamma = Gamma + nugget_P*jnp.eye(jnp.size(Gamma,0))\n",
        "    #print(\"cond(Gamma) = \", jnp.linalg.cond(Gamma))\n",
        "\n",
        "    # (Gamma(S_N,S_N) + alpha_Gamma*I)^-1 * f\n",
        "    b = jnp.linalg.solve(Gamma,f)\n",
        "\n",
        "    # First term\n",
        "    #L1 = jnp.dot(f.T , b) / two_step_dict.get('rkhs_P_train')\n",
        "    L1 = jnp.dot(f.T , b) / rkhs_P_first_iter\n",
        "    #print('L1: ', L1)\n",
        "\n",
        "    # Second term\n",
        "    sigma_K = jnp.array(two_step_dict.get('optim_sgm_u'))\n",
        "    nugget_K = two_step_dict.get('optim_nugget_u')\n",
        "    K_XNs = []\n",
        "    for i in range(m):\n",
        "        K_XN = K(Gaussian,X[:N_gh_tr],X[:N_gh_tr],sigma_K[i]) \n",
        "        K_XNs.append(K_XN + nugget_K[i]*jnp.eye(N_gh_tr))\n",
        "    \n",
        "    L2 = 0.\n",
        "    \n",
        "    for i in range(m):\n",
        "        Zi = Z[i*N_gh_tr:(i+1)*N_gh_tr]\n",
        "        c = jnp.linalg.solve(K_XNs[i],Zi)\n",
        "        # L2 += jnp.reshape(jnp.dot(Zi.T , c),()) / two_step_dict.get('rkhs_u')[i]\n",
        "        L2 += jnp.reshape(jnp.dot(Zi.T , c),()) / rkhs_u_first_iter[i]\n",
        "        #print('L2_',i+1,':',jnp.reshape(jnp.dot(Zi.T , c),()) / rkhs_u_first_iter[i])      \n",
        "    return L1 + lmbd*L2\n",
        "    "
      ]
    },
    {
      "attachments": {},
      "cell_type": "markdown",
      "metadata": {
        "id": "zDReXRvPnk27"
      },
      "source": [
        "#### Gradient descent"
      ]
    },
    {
      "attachments": {},
      "cell_type": "markdown",
      "metadata": {
        "id": "3SObhiRznk27"
      },
      "source": [
        "Training data"
      ]
    },
    {
      "cell_type": "code",
      "execution_count": null,
      "metadata": {
        "id": "E9BVaRatnk27"
      },
      "outputs": [],
      "source": [
        "# First column in Gamma(S_N,S_N)\n",
        "X = X_gh_tr # (N_gh_tr*m, 2)\n",
        "\n",
        "# Second column in Gamma(S_N,S_N)\n",
        "U = U_gh_tr.reshape(N_gh_tr*m,) # N*m x 1\n",
        "\n",
        "# f(X_N)\n",
        "#f = f_Test(model,e_test)\n",
        "f = two_step_dict['f_gh_tr_pred']"
      ]
    },
    {
      "attachments": {},
      "cell_type": "markdown",
      "metadata": {
        "id": "lA8nCyg_nk28"
      },
      "source": [
        "Initial guess: `Z_warm`"
      ]
    },
    {
      "cell_type": "code",
      "execution_count": null,
      "metadata": {},
      "outputs": [],
      "source": [
        "# Load values of U predicted from 2-step at te points: originally wrong\n",
        "U_gh_tr_pred = np.load('data/U_gh_tr_pred.npy')\n",
        "U_x_gh_tr_pred = np.load('data/U_x_gh_tr_pred.npy')\n",
        "U_xx_gh_tr_pred = np.load('data/U_xx_gh_tr_pred.npy')\n",
        "# Build Z_warm\n",
        "Z_warm = jnp.array(U_gh_tr_pred.T.reshape(N_gh_tr*m,)) "
      ]
    },
    {
      "cell_type": "code",
      "execution_count": null,
      "metadata": {},
      "outputs": [],
      "source": [
        "lmbda = 1e-4/m"
      ]
    },
    {
      "cell_type": "code",
      "execution_count": null,
      "metadata": {},
      "outputs": [
        {
          "data": {
            "text/plain": [
              "Array(0.00010009, dtype=float64)"
            ]
          },
          "execution_count": 14,
          "metadata": {},
          "output_type": "execute_result"
        }
      ],
      "source": [
        "L(Z_warm, X, U, M, f, two_step_dict, lmbd=lmbda)"
      ]
    },
    {
      "attachments": {},
      "cell_type": "markdown",
      "metadata": {
        "id": "w_MgRkiDnk28"
      },
      "source": [
        "Initialize the grad functions with `jit` to be efficient"
      ]
    },
    {
      "cell_type": "code",
      "execution_count": null,
      "metadata": {
        "colab": {
          "base_uri": "https://localhost:8080/"
        },
        "id": "lbXfnabQnk28",
        "outputId": "3877f2f6-f6ca-41b4-eebb-aaec41004fd0"
      },
      "outputs": [
        {
          "ename": "TracerArrayConversionError",
          "evalue": "The numpy.ndarray conversion method __array__() was called on the JAX Tracer object Traced<ShapedArray(float64[800,5])>with<JVPTrace(level=3/0)> with\n  primal = Traced<ShapedArray(float64[800,5])>with<DynamicJaxprTrace(level=1/0)>\n  tangent = Traced<ShapedArray(float64[800,5])>with<JaxprTrace(level=2/0)> with\n    pval = (ShapedArray(float64[800,5]), None)\n    recipe = JaxprEqnRecipe(eqn_id=<object object at 0x7f18ec315860>, in_tracers=(Traced<ShapedArray(float64[800,5]):JaxprTrace(level=2/0)>,), out_tracer_refs=[<weakref at 0x7f18ec2f23e0; to 'JaxprTracer' at 0x7f18ec313740>], out_avals=[ShapedArray(float64[800,5])], primitive=copy, params={}, effects=set(), source_info=SourceInfo(traceback=<jaxlib.xla_extension.Traceback object at 0x7f18ec36cc70>, name_stack=NameStack(stack=(Transform(name='jvp'),))))\nSee https://jax.readthedocs.io/en/latest/errors.html#jax.errors.TracerArrayConversionError",
          "output_type": "error",
          "traceback": [
            "\u001b[0;31m---------------------------------------------------------------------------\u001b[0m",
            "\u001b[0;31mTracerArrayConversionError\u001b[0m                Traceback (most recent call last)",
            "Cell \u001b[0;32mIn[15], line 4\u001b[0m\n\u001b[1;32m      1\u001b[0m grad_Z \u001b[38;5;241m=\u001b[39m jit(grad(L, argnums\u001b[38;5;241m=\u001b[39m\u001b[38;5;241m0\u001b[39m))\n\u001b[1;32m      3\u001b[0m \u001b[38;5;66;03m# Run once to trigger JIT compilation.\u001b[39;00m\n\u001b[0;32m----> 4\u001b[0m \u001b[43mgrad_Z\u001b[49m\u001b[43m(\u001b[49m\u001b[43mZ_warm\u001b[49m\u001b[43m,\u001b[49m\u001b[43m \u001b[49m\u001b[43mX\u001b[49m\u001b[43m,\u001b[49m\u001b[43m \u001b[49m\u001b[43mU\u001b[49m\u001b[43m,\u001b[49m\u001b[43m \u001b[49m\u001b[43mM\u001b[49m\u001b[43m,\u001b[49m\u001b[43m \u001b[49m\u001b[43mf\u001b[49m\u001b[43m,\u001b[49m\u001b[43m \u001b[49m\u001b[43mtwo_step_dict\u001b[49m\u001b[43m,\u001b[49m\u001b[43m \u001b[49m\u001b[43mlmbda\u001b[49m\u001b[43m)\u001b[49m\n\u001b[1;32m      5\u001b[0m \u001b[38;5;66;03m# Warm start here !!!\u001b[39;00m\n",
            "    \u001b[0;31m[... skipping hidden 22 frame]\u001b[0m\n",
            "Cell \u001b[0;32mIn[10], line 47\u001b[0m, in \u001b[0;36mL\u001b[0;34m(Z, X, U, M, f, two_step_dict, lmbd)\u001b[0m\n\u001b[1;32m     45\u001b[0m optim_sgm_P \u001b[38;5;241m=\u001b[39m two_step_dict\u001b[38;5;241m.\u001b[39mget(\u001b[38;5;124m'\u001b[39m\u001b[38;5;124moptim_sgm_P\u001b[39m\u001b[38;5;124m'\u001b[39m)\n\u001b[1;32m     46\u001b[0m \u001b[38;5;66;03m#Gamma = K(Gaussian, S, S, optim_sgm_P)\u001b[39;00m\n\u001b[0;32m---> 47\u001b[0m Gamma \u001b[38;5;241m=\u001b[39m \u001b[43mpolynomial_kernel\u001b[49m\u001b[43m(\u001b[49m\u001b[43mS\u001b[49m\u001b[43m,\u001b[49m\u001b[43m \u001b[49m\u001b[43mS\u001b[49m\u001b[43m,\u001b[49m\u001b[43m \u001b[49m\u001b[43mdegree\u001b[49m\u001b[38;5;241;43m=\u001b[39;49m\u001b[38;5;241;43m2\u001b[39;49m\u001b[43m)\u001b[49m\n\u001b[1;32m     48\u001b[0m nugget_P \u001b[38;5;241m=\u001b[39m two_step_dict\u001b[38;5;241m.\u001b[39mget(\u001b[38;5;124m'\u001b[39m\u001b[38;5;124mnugget_P\u001b[39m\u001b[38;5;124m'\u001b[39m) \n\u001b[1;32m     49\u001b[0m Gamma \u001b[38;5;241m=\u001b[39m Gamma \u001b[38;5;241m+\u001b[39m nugget_P\u001b[38;5;241m*\u001b[39mjnp\u001b[38;5;241m.\u001b[39meye(jnp\u001b[38;5;241m.\u001b[39msize(Gamma,\u001b[38;5;241m0\u001b[39m))\n",
            "File \u001b[0;32m~/anaconda3/envs/jaxenv/lib/python3.11/site-packages/sklearn/metrics/pairwise.py:1237\u001b[0m, in \u001b[0;36mpolynomial_kernel\u001b[0;34m(X, Y, degree, gamma, coef0)\u001b[0m\n\u001b[1;32m   1207\u001b[0m \u001b[38;5;28;01mdef\u001b[39;00m \u001b[38;5;21mpolynomial_kernel\u001b[39m(X, Y\u001b[38;5;241m=\u001b[39m\u001b[38;5;28;01mNone\u001b[39;00m, degree\u001b[38;5;241m=\u001b[39m\u001b[38;5;241m3\u001b[39m, gamma\u001b[38;5;241m=\u001b[39m\u001b[38;5;28;01mNone\u001b[39;00m, coef0\u001b[38;5;241m=\u001b[39m\u001b[38;5;241m1\u001b[39m):\n\u001b[1;32m   1208\u001b[0m \u001b[38;5;250m    \u001b[39m\u001b[38;5;124;03m\"\"\"\u001b[39;00m\n\u001b[1;32m   1209\u001b[0m \u001b[38;5;124;03m    Compute the polynomial kernel between X and Y.\u001b[39;00m\n\u001b[1;32m   1210\u001b[0m \n\u001b[0;32m   (...)\u001b[0m\n\u001b[1;32m   1235\u001b[0m \u001b[38;5;124;03m        The polynomial kernel.\u001b[39;00m\n\u001b[1;32m   1236\u001b[0m \u001b[38;5;124;03m    \"\"\"\u001b[39;00m\n\u001b[0;32m-> 1237\u001b[0m     X, Y \u001b[38;5;241m=\u001b[39m \u001b[43mcheck_pairwise_arrays\u001b[49m\u001b[43m(\u001b[49m\u001b[43mX\u001b[49m\u001b[43m,\u001b[49m\u001b[43m \u001b[49m\u001b[43mY\u001b[49m\u001b[43m)\u001b[49m\n\u001b[1;32m   1238\u001b[0m     \u001b[38;5;28;01mif\u001b[39;00m gamma \u001b[38;5;129;01mis\u001b[39;00m \u001b[38;5;28;01mNone\u001b[39;00m:\n\u001b[1;32m   1239\u001b[0m         gamma \u001b[38;5;241m=\u001b[39m \u001b[38;5;241m1.0\u001b[39m \u001b[38;5;241m/\u001b[39m X\u001b[38;5;241m.\u001b[39mshape[\u001b[38;5;241m1\u001b[39m]\n",
            "File \u001b[0;32m~/anaconda3/envs/jaxenv/lib/python3.11/site-packages/sklearn/metrics/pairwise.py:139\u001b[0m, in \u001b[0;36mcheck_pairwise_arrays\u001b[0;34m(X, Y, precomputed, dtype, accept_sparse, force_all_finite, copy)\u001b[0m\n\u001b[1;32m     63\u001b[0m \u001b[38;5;28;01mdef\u001b[39;00m \u001b[38;5;21mcheck_pairwise_arrays\u001b[39m(\n\u001b[1;32m     64\u001b[0m     X,\n\u001b[1;32m     65\u001b[0m     Y,\n\u001b[0;32m   (...)\u001b[0m\n\u001b[1;32m     71\u001b[0m     copy\u001b[38;5;241m=\u001b[39m\u001b[38;5;28;01mFalse\u001b[39;00m,\n\u001b[1;32m     72\u001b[0m ):\n\u001b[1;32m     73\u001b[0m \u001b[38;5;250m    \u001b[39m\u001b[38;5;124;03m\"\"\"Set X and Y appropriately and checks inputs.\u001b[39;00m\n\u001b[1;32m     74\u001b[0m \n\u001b[1;32m     75\u001b[0m \u001b[38;5;124;03m    If Y is None, it is set as a pointer to X (i.e. not a copy).\u001b[39;00m\n\u001b[0;32m   (...)\u001b[0m\n\u001b[1;32m    137\u001b[0m \u001b[38;5;124;03m        If Y was None, safe_Y will be a pointer to X.\u001b[39;00m\n\u001b[1;32m    138\u001b[0m \u001b[38;5;124;03m    \"\"\"\u001b[39;00m\n\u001b[0;32m--> 139\u001b[0m     X, Y, dtype_float \u001b[38;5;241m=\u001b[39m \u001b[43m_return_float_dtype\u001b[49m\u001b[43m(\u001b[49m\u001b[43mX\u001b[49m\u001b[43m,\u001b[49m\u001b[43m \u001b[49m\u001b[43mY\u001b[49m\u001b[43m)\u001b[49m\n\u001b[1;32m    141\u001b[0m     estimator \u001b[38;5;241m=\u001b[39m \u001b[38;5;124m\"\u001b[39m\u001b[38;5;124mcheck_pairwise_arrays\u001b[39m\u001b[38;5;124m\"\u001b[39m\n\u001b[1;32m    142\u001b[0m     \u001b[38;5;28;01mif\u001b[39;00m dtype \u001b[38;5;129;01mis\u001b[39;00m \u001b[38;5;28;01mNone\u001b[39;00m:\n",
            "File \u001b[0;32m~/anaconda3/envs/jaxenv/lib/python3.11/site-packages/sklearn/metrics/pairwise.py:45\u001b[0m, in \u001b[0;36m_return_float_dtype\u001b[0;34m(X, Y)\u001b[0m\n\u001b[1;32m     40\u001b[0m \u001b[38;5;250m\u001b[39m\u001b[38;5;124;03m\"\"\"\u001b[39;00m\n\u001b[1;32m     41\u001b[0m \u001b[38;5;124;03m1. If dtype of X and Y is float32, then dtype float32 is returned.\u001b[39;00m\n\u001b[1;32m     42\u001b[0m \u001b[38;5;124;03m2. Else dtype float is returned.\u001b[39;00m\n\u001b[1;32m     43\u001b[0m \u001b[38;5;124;03m\"\"\"\u001b[39;00m\n\u001b[1;32m     44\u001b[0m \u001b[38;5;28;01mif\u001b[39;00m \u001b[38;5;129;01mnot\u001b[39;00m issparse(X) \u001b[38;5;129;01mand\u001b[39;00m \u001b[38;5;129;01mnot\u001b[39;00m \u001b[38;5;28misinstance\u001b[39m(X, np\u001b[38;5;241m.\u001b[39mndarray):\n\u001b[0;32m---> 45\u001b[0m     X \u001b[38;5;241m=\u001b[39m \u001b[43mnp\u001b[49m\u001b[38;5;241;43m.\u001b[39;49m\u001b[43masarray\u001b[49m\u001b[43m(\u001b[49m\u001b[43mX\u001b[49m\u001b[43m)\u001b[49m\n\u001b[1;32m     47\u001b[0m \u001b[38;5;28;01mif\u001b[39;00m Y \u001b[38;5;129;01mis\u001b[39;00m \u001b[38;5;28;01mNone\u001b[39;00m:\n\u001b[1;32m     48\u001b[0m     Y_dtype \u001b[38;5;241m=\u001b[39m X\u001b[38;5;241m.\u001b[39mdtype\n",
            "File \u001b[0;32m~/anaconda3/envs/jaxenv/lib/python3.11/site-packages/jax/_src/core.py:598\u001b[0m, in \u001b[0;36mTracer.__array__\u001b[0;34m(self, *args, **kw)\u001b[0m\n\u001b[1;32m    597\u001b[0m \u001b[38;5;28;01mdef\u001b[39;00m \u001b[38;5;21m__array__\u001b[39m(\u001b[38;5;28mself\u001b[39m, \u001b[38;5;241m*\u001b[39margs, \u001b[38;5;241m*\u001b[39m\u001b[38;5;241m*\u001b[39mkw):\n\u001b[0;32m--> 598\u001b[0m   \u001b[38;5;28;01mraise\u001b[39;00m TracerArrayConversionError(\u001b[38;5;28mself\u001b[39m)\n",
            "\u001b[0;31mTracerArrayConversionError\u001b[0m: The numpy.ndarray conversion method __array__() was called on the JAX Tracer object Traced<ShapedArray(float64[800,5])>with<JVPTrace(level=3/0)> with\n  primal = Traced<ShapedArray(float64[800,5])>with<DynamicJaxprTrace(level=1/0)>\n  tangent = Traced<ShapedArray(float64[800,5])>with<JaxprTrace(level=2/0)> with\n    pval = (ShapedArray(float64[800,5]), None)\n    recipe = JaxprEqnRecipe(eqn_id=<object object at 0x7f18ec315860>, in_tracers=(Traced<ShapedArray(float64[800,5]):JaxprTrace(level=2/0)>,), out_tracer_refs=[<weakref at 0x7f18ec2f23e0; to 'JaxprTracer' at 0x7f18ec313740>], out_avals=[ShapedArray(float64[800,5])], primitive=copy, params={}, effects=set(), source_info=SourceInfo(traceback=<jaxlib.xla_extension.Traceback object at 0x7f18ec36cc70>, name_stack=NameStack(stack=(Transform(name='jvp'),))))\nSee https://jax.readthedocs.io/en/latest/errors.html#jax.errors.TracerArrayConversionError"
          ]
        }
      ],
      "source": [
        "grad_Z = jit(grad(L, argnums=0))\n",
        "\n",
        "# Run once to trigger JIT compilation.\n",
        "grad_Z(Z_warm, X, U, M, f, two_step_dict, lmbda)\n",
        "# Warm start here !!!"
      ]
    },
    {
      "attachments": {},
      "cell_type": "markdown",
      "metadata": {
        "id": "KWnglrOmnk28"
      },
      "source": [
        "Run the gradient descent for `100` epochs"
      ]
    },
    {
      "cell_type": "markdown",
      "metadata": {},
      "source": [
        "### Optimization of L"
      ]
    },
    {
      "cell_type": "code",
      "execution_count": null,
      "metadata": {},
      "outputs": [],
      "source": [
        "# Load the warm-up\n",
        "Z = np.copy(Z_warm)"
      ]
    },
    {
      "cell_type": "code",
      "execution_count": null,
      "metadata": {},
      "outputs": [],
      "source": [
        "# solver = LBFGS(fun=L, maxiter=1000)\n",
        "# res = solver.run(Z, X = X, U = U, M = M, f =f , two_step_dict=two_step_dict, lmbd=lmbda)"
      ]
    },
    {
      "cell_type": "code",
      "execution_count": null,
      "metadata": {},
      "outputs": [],
      "source": [
        "solver = LBFGS(fun=L, maxiter=1000, linesearch='backtracking', history_size = 20)"
      ]
    },
    {
      "cell_type": "code",
      "execution_count": null,
      "metadata": {},
      "outputs": [],
      "source": [
        "res = solver.run(Z, X = X, U = U, M = M, f =f , two_step_dict=two_step_dict, lmbd=lmbda)"
      ]
    },
    {
      "cell_type": "code",
      "execution_count": null,
      "metadata": {},
      "outputs": [],
      "source": [
        "Z = res.params"
      ]
    },
    {
      "cell_type": "code",
      "execution_count": null,
      "metadata": {},
      "outputs": [],
      "source": [
        "# u_t = u_train.T.reshape(N*m,1)\n",
        "# # Load true gradients from 2-step\n",
        "# u_x_train = np.load('data/u_x_train.npy')\n",
        "# u_xx_train = np.load('data/u_xx_train.npy')\n",
        "# # Build true Z\n",
        "# Z_true = np.hstack([u_t, u_x_train.T.reshape(N*m,1),u_xx_train.T.reshape(N*m,1)])"
      ]
    },
    {
      "cell_type": "code",
      "execution_count": null,
      "metadata": {},
      "outputs": [],
      "source": [
        "# Only do this for the first time - \n",
        "#Z = np.copy(Z_warm)\n",
        "#Z = np.load('data/Z.npy')"
      ]
    },
    {
      "cell_type": "markdown",
      "metadata": {},
      "source": [
        "0. Run it for more iterations until it actually converges to a minimum!!!\n",
        "1. Line search (using $p_k = - \\nabla f$) using Armijo condition. Pick $\\alpha_k$ such that satisfy the two Wolfe conditions. Test: Loss must always goes down here. \n",
        "2. Newton-Armijo.\n",
        "3. Read Quasi-Newton algorithm in Nocedal, when the Hessian is not PD.  "
      ]
    },
    {
      "cell_type": "code",
      "execution_count": null,
      "metadata": {
        "colab": {
          "base_uri": "https://localhost:8080/"
        },
        "id": "Z9zAYK3Onk28",
        "outputId": "4fd3b5ca-7ba7-48ea-a37a-5bd73f86e8e7"
      },
      "outputs": [],
      "source": [
        "# # mses = []\n",
        "# # S = jnp.zeros((N*m,4))\n",
        "# # kernel = Gaussian\n",
        "# # If trained previously use Z\n",
        "# # if np.all(Z != Z_warm):\n",
        "# #     Z = np.load('data/Z.npy')\n",
        "# # else:\n",
        "# #     Z = np.copy(Z_warm)\n",
        "# Z = np.copy(Z_warm)\n",
        "# learning_rate = 1e-7\n",
        "# for i in range(100):\n",
        "#     delta_Z = grad_Z(Z, X, U, M, f, two_step_dict, lmbda)\n",
        "#     lr = jnp.linalg.norm(Z)/jnp.linalg.norm(delta_Z)*learning_rate\n",
        "#     Z -= lr * delta_Z\n",
        "\n",
        "#     if i % 10 == 0:\n",
        "#         print('iter:', i )\n",
        "#         print('loss: ', L(Z, X, U, M, f, two_step_dict, lmbda))\n",
        "#         #print('mse:', mse)\n",
        "    \n",
        "# # Save at the end of iterations\n",
        "# #np.save('data/Z.npy',Z)"
      ]
    },
    {
      "cell_type": "code",
      "execution_count": null,
      "metadata": {},
      "outputs": [
        {
          "data": {
            "text/plain": [
              "Array(False, dtype=bool)"
            ]
          },
          "execution_count": 23,
          "metadata": {},
          "output_type": "execute_result"
        }
      ],
      "source": [
        "np.all(Z_warm==Z)"
      ]
    },
    {
      "cell_type": "markdown",
      "metadata": {},
      "source": [
        "Evaluate `Z`"
      ]
    },
    {
      "cell_type": "code",
      "execution_count": null,
      "metadata": {},
      "outputs": [],
      "source": [
        "S = jnp.zeros((N_gh_tr*m, 5))\n",
        "\n",
        "# Split Z\n",
        "for i in range(m):\n",
        "    Zi = Z[i*N_gh_tr:(i+1)*N_gh_tr]\n",
        "    optim_sgm = two_step_dict.get('optim_sgm_u')[i]\n",
        "    optim_nugget = two_step_dict.get('optim_nugget_u')[i]\n",
        "    G = K_2D(Gaussian2D, X[:N_gh_tr], X[:N_gh_tr], optim_sgm) \n",
        "    alphas = jnp.linalg.solve(G + optim_nugget*jnp.eye(N_gh_tr),Zi)\n",
        "    Zi_x = jnp.dot(K_dot2D(Gaussian2D, X[:N_gh_tr], X[:N_gh_tr], optim_sgm, 1), alphas)\n",
        "    Zi_xx = jnp.dot(K_2dot2D(Gaussian2D, X[:N_gh_tr], X[:N_gh_tr], optim_sgm, 1,1), alphas)\n",
        "    Si = jnp.vstack((X[:N_gh_tr].T,Zi, Zi_x,Zi_xx)).T\n",
        "    S = S.at[i*N_gh_tr:(i+1)*N_gh_tr,:].set(Si)\n",
        "\n",
        "\n",
        "\n",
        "# Load gradients from 2-step\n",
        "U_te_pred = np.load('data/U_te_pred.npy')\n",
        "U_x_te_pred = np.load('data/U_x_te_pred.npy')\n",
        "U_xx_te_pred = np.load('data/U_xx_te_pred.npy')\n",
        "s_train = S\n",
        "s_test = np.hstack((X_te, U_te.T.reshape(-1,1), U_x_te_pred.T.reshape(-1,1), U_xx_te_pred.T.reshape(-1,1))) # (N_te*m, 5)\n",
        "f_train = two_step_dict['f_gh_tr_pred']\n",
        "f_test = U_t_te.T.reshape(N_te*m,1).flatten()\n",
        "f_train2 = -s_train[:,2]*s_train[:,3] + 0.01*s_train[:,4]\n",
        "f_test2 = -s_test[:,2]*s_test[:,3] + 0.01*s_test[:,4]\n",
        "scaler_s_train = MinMaxScaler()\n",
        "s_train_s = scaler_s_train.fit_transform(s_train)\n",
        "s_test_s = scaler_s_train.transform(s_test)\n",
        "\n",
        "optim_sgm_P, optim_nugget_P = grid_search_RBF(s_train_s , f_train)\n",
        "\n",
        "krr_optimal_P = KernelRidge(kernel='rbf', alpha = two_step_dict.get('optim_nugget_P'), gamma=1/(2*(two_step_dict.get('optim_sgm_P')**2))) \n",
        "krr_optimal_P.fit(s_train_s, f_train) \n",
        "f_pred_train = krr_optimal_P.predict(s_train_s) \n",
        "f_pred_test = krr_optimal_P.predict(s_test_s)"
      ]
    },
    {
      "cell_type": "code",
      "execution_count": null,
      "metadata": {},
      "outputs": [
        {
          "data": {
            "image/png": "[encoded data removed]",
            "text/plain": [
              "<Figure size 700x500 with 8 Axes>"
            ]
          },
          "metadata": {},
          "output_type": "display_data"
        }
      ],
      "source": [
        "# Interpolant P^* at gh_tr points : P^*(hat S) vs. P(hat S)\n",
        "fig, axs = plt.subplots(figsize = (7,5), nrows = m, ncols = 2, sharex = True, sharey = True)\n",
        "fig.subplots_adjust(hspace=0.2, wspace=0.1)\n",
        "fig.suptitle('Second step: P ({}) predictions at training points'.format(m))\n",
        "for i in range(m):\n",
        "        axsi0 = axs[i,0].tricontourf(S[i*N_gh_tr:(i+1)*N_gh_tr,0], S[i*N_gh_tr:(i+1)*N_gh_tr,1], f_pred_train[i*N_gh_tr:(i+1)*N_gh_tr])\n",
        "        plt.colorbar(axsi0, ax = axs[i,0])\n",
        "        axsi1 = axs[i,1].tricontourf(S[i*N_gh_tr:(i+1)*N_gh_tr,0], S[i*N_gh_tr:(i+1)*N_gh_tr,1], f_train2[i*N_gh_tr:(i+1)*N_gh_tr])\n",
        "        plt.colorbar(axsi1, ax = axs[i,1])\n",
        "        axs[i,0].set_yticklabels([])\n",
        "        axs[i,0].set_xticklabels([])\n",
        "        axs[i,0].set_yticks([])\n",
        "        axs[i,0].set_xticks([])\n",
        "        axs[i,1].set_yticklabels([])\n",
        "        axs[i,1].set_xticklabels([])\n",
        "        axs[i,1].set_yticks([])\n",
        "        axs[i,1].set_xticks([])"
      ]
    },
    {
      "cell_type": "code",
      "execution_count": null,
      "metadata": {},
      "outputs": [
        {
          "data": {
            "image/png": "[encoded data removed]",
            "text/plain": [
              "<Figure size 700x500 with 12 Axes>"
            ]
          },
          "metadata": {},
          "output_type": "display_data"
        }
      ],
      "source": [
        "# Interpolant P^* at testing points : P^*(hat S) vs. P(hat S)\n",
        "fig, axs = plt.subplots(figsize = (7,5), nrows = m, ncols = 3, sharex = True, sharey = True)\n",
        "fig.subplots_adjust(hspace=0.2, wspace=0.1)\n",
        "fig.suptitle('P predictions with m = {} at testing points'.format(m))\n",
        "for i in range(m):\n",
        "        axsi0 = axs[i,0].tricontourf(X_te[i*N_te:(i+1)*N_te,0], X_te[i*N_te:(i+1)*N_te,1], f_pred_test[i*N_te:(i+1)*N_te])\n",
        "        plt.colorbar(axsi0, ax = axs[i,0])\n",
        "        axsi1 = axs[i,1].tricontourf(X_te[i*N_te:(i+1)*N_te,0], X_te[i*N_te:(i+1)*N_te,1], f_test2[i*N_te:(i+1)*N_te])\n",
        "        plt.colorbar(axsi1, ax = axs[i,1])\n",
        "        axsi2 = axs[i,2].tricontourf(X_te[i*N_te:(i+1)*N_te,0], X_te[i*N_te:(i+1)*N_te,1], np.abs(f_test2[i*N_te:(i+1)*N_te]-f_pred_test[i*N_te:(i+1)*N_te]))\n",
        "        plt.colorbar(axsi2, ax = axs[i,2])\n",
        "        axs[i,0].set_yticklabels([])\n",
        "        axs[i,0].set_xticklabels([])\n",
        "        axs[i,0].set_yticks([])\n",
        "        axs[i,0].set_xticks([])\n",
        "        axs[i,1].set_yticklabels([])\n",
        "        axs[i,1].set_xticklabels([])\n",
        "        axs[i,1].set_yticks([])\n",
        "        axs[i,1].set_xticks([])\n",
        "        axs[i,2].set_yticklabels([])\n",
        "        axs[i,2].set_xticklabels([])\n",
        "        axs[i,2].set_yticks([])\n",
        "        axs[i,2].set_xticks([])"
      ]
    },
    {
      "cell_type": "code",
      "execution_count": null,
      "metadata": {},
      "outputs": [
        {
          "name": "stdout",
          "output_type": "stream",
          "text": [
            "Normalized MSEs between P and P^ for 2 functions\n",
            "m = 0 nmse_train = 0.5960164993075082\n",
            "m = 0 nmse_test = 1.0703904495108947\n",
            "m = 1 nmse_train = 0.6991022087248884\n",
            "m = 1 nmse_test = 0.8450439190636443\n"
          ]
        }
      ],
      "source": [
        "# NMSEs: P at training points and testing points\n",
        "print('Normalized MSEs between P and P^ for {} functions'.format(m))\n",
        "for i in range(m):\n",
        "    n_mse_train = rel_mse(f_train2[i*N_gh_tr:(i+1)*N_gh_tr],f_pred_train[i*N_gh_tr:(i+1)*N_gh_tr])\n",
        "    n_mse_test = rel_mse(f_test2[i*N_te:(i+1)*N_te], f_pred_test[i*N_te:(i+1)*N_te])\n",
        "    print('m = {} nmse_train = {}'.format(i,n_mse_train))\n",
        "    print('m = {} nmse_test = {}'.format(i,n_mse_test))"
      ]
    }
  ],
  "metadata": {
    "colab": {
      "provenance": []
    },
    "kernelspec": {
      "display_name": "base",
      "language": "python",
      "name": "python3"
    },
    "language_info": {
      "codemirror_mode": {
        "name": "ipython",
        "version": 3
      },
      "file_extension": ".py",
      "mimetype": "text/x-python",
      "name": "python",
      "nbconvert_exporter": "python",
      "pygments_lexer": "ipython3",
      "version": "3.11.3"
    },
    "vscode": {
      "interpreter": {
        "hash": "9f30f608a882a0e3e1ee7bdaf111a2fb524766c624535f9d75a6d8e97b170942"
      }
    }
  },
  "nbformat": 4,
  "nbformat_minor": 0
}
