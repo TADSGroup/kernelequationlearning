{
  "cells": [
    {
      "attachments": {},
      "cell_type": "markdown",
      "metadata": {
        "id": "_Lr5zZpo4oaV"
      },
      "source": [
        "## Burger's equation: One-step Method"
      ]
    },
    {
      "cell_type": "code",
      "execution_count": 1,
      "metadata": {},
      "outputs": [],
      "source": [
        "import sys\n",
        "#sys.path.append('/Users/josorior/Documents/UW/research/keql/KEQL/source')\n",
        "#sys.path.append('/Users/yasaminjalalian/Repos/KEQL/source')\n",
        "sys.path.append('/home/juanfelipe/Desktop/research/keql/source')"
      ]
    },
    {
      "cell_type": "code",
      "execution_count": 2,
      "metadata": {},
      "outputs": [],
      "source": [
        "import os\n",
        "\n",
        "os.environ[\"XLA_PYTHON_CLIENT_PREALLOCATE\"] = \"false\""
      ]
    },
    {
      "cell_type": "code",
      "execution_count": 3,
      "metadata": {
        "id": "0XfbL3pvnk27"
      },
      "outputs": [],
      "source": [
        "import numpy as np\n",
        "import matplotlib.pyplot as plt \n",
        "from sklearn.kernel_ridge import KernelRidge\n",
        "from tqdm import tqdm\n",
        "from parameter_learning import *\n",
        "from plotlib import *\n",
        "from models import * \n",
        "from kernels import *\n",
        "from data_loader_Burgers import *\n",
        "from loss import *\n",
        "from utils import *\n",
        "\n",
        "import jax.numpy as jnp\n",
        "from jax import grad, jit\n",
        "from jax.scipy.optimize import minimize\n",
        "from jax.config import config; \n",
        "config.update(\"jax_enable_x64\", True)\n",
        "\n",
        "from functools import partial # for jit to make codes faster"
      ]
    },
    {
      "cell_type": "code",
      "execution_count": 4,
      "metadata": {},
      "outputs": [],
      "source": [
        "# Import values from 2-step\n",
        "two_step_dict = np.load('data/two_step_dict.npy', allow_pickle=True)\n",
        "two_step_dict = two_step_dict.item()"
      ]
    },
    {
      "cell_type": "code",
      "execution_count": 5,
      "metadata": {},
      "outputs": [
        {
          "data": {
            "text/plain": [
              "{'optim_sgm_u': array([1.47490831]),\n",
              " 'optim_nugget_u': array([1.e-14]),\n",
              " 'rkhs_u': [16.14674216464213],\n",
              " 'optim_sgm_P': 1.3005357932905341,\n",
              " 'optim_nugget_P': 1e-08,\n",
              " 'nugget_P': 1e-07,\n",
              " 'rkhs_P': 2633.4070797782597,\n",
              " 'f_pred_test': array([ 0.00019969,  0.00011049,  0.00181175, ...,  0.0486241 ,\n",
              "        -0.00011663,  0.00151771])}"
            ]
          },
          "execution_count": 5,
          "metadata": {},
          "output_type": "execute_result"
        }
      ],
      "source": [
        "two_step_dict"
      ]
    },
    {
      "attachments": {},
      "cell_type": "markdown",
      "metadata": {
        "id": "R0dMsZlmnk27"
      },
      "source": [
        "### Cost function"
      ]
    },
    {
      "attachments": {},
      "cell_type": "markdown",
      "metadata": {},
      "source": [
        "Compute `Kphiphi` and its corresponding regularizing matrix `R`"
      ]
    },
    {
      "cell_type": "code",
      "execution_count": 6,
      "metadata": {},
      "outputs": [],
      "source": [
        "# Create Kphiphi\n",
        "X = X_train\n",
        "sigma_K = jnp.array(two_step_dict.get('optim_sgm_u'))\n",
        "# Create auxiliary functions per example. \n",
        "Kphiphis = [Kphiphi_Burgers_assembly( X[i*N_train:(i+1)*N_train] , k = 'Gaussian2D', k_param = sigma_K[i]) for i in range(m)]"
      ]
    },
    {
      "cell_type": "code",
      "execution_count": 7,
      "metadata": {},
      "outputs": [],
      "source": [
        "Rs = [jnp.diag(jnp.diag(Kphiphis[i])) for i in range(m)]"
      ]
    },
    {
      "cell_type": "markdown",
      "metadata": {},
      "source": [
        "Training data"
      ]
    },
    {
      "cell_type": "code",
      "execution_count": 8,
      "metadata": {},
      "outputs": [],
      "source": [
        "# First column in Gamma(S_N,S_N)\n",
        "X = X_train # N_train*m x 1\n",
        "\n",
        "# Second column in Gamma(S_N,S_N)\n",
        "U = u_train.reshape(N_train*m,1) # N_train*m x 1\n",
        "\n",
        "# f(X_N)\n",
        "f = u_t_train"
      ]
    },
    {
      "cell_type": "markdown",
      "metadata": {},
      "source": [
        "Initial guess: `Z_warm`"
      ]
    },
    {
      "cell_type": "code",
      "execution_count": 9,
      "metadata": {},
      "outputs": [],
      "source": [
        "# Load gradients from 2-step\n",
        "u_x_pred_train  = np.load('data/u_x_pred_train.npy')\n",
        "u_xx_pred_train = np.load('data/u_xx_pred_train.npy')\n",
        "# Build Z_warm\n",
        "Z_warm = np.hstack([u_x_pred_train.T.reshape(N_train*m,1),u_xx_pred_train.T.reshape(N_train*m,1)])\n",
        "Z_warm = Z_warm.T.flatten()"
      ]
    },
    {
      "cell_type": "code",
      "execution_count": 10,
      "metadata": {},
      "outputs": [],
      "source": [
        "alpha_K = 1e-7 # Nugget \n",
        "Kphiphis = [Kphiphis[i] + alpha_K*Rs[i] for i in range(m)] \n",
        "\n",
        "ZZ = jnp.hstack((U.reshape(-1,1),Z_warm.reshape(2,m*N_train).T))\n",
        "# Compute the RKHS norm of u of first iteration\n",
        "Z_0 = jnp.reshape(ZZ[N_train*0:N_train*(0+1),:].T, (N_train*3,1))  \n",
        "c = jnp.linalg.solve(Kphiphis[0],Z_0)\n",
        "rkhs_u_0 = jnp.reshape(jnp.dot(Z_0.T , c),())\n",
        "two_step_dict['rkhs_u'] = rkhs_u_0"
      ]
    },
    {
      "attachments": {},
      "cell_type": "markdown",
      "metadata": {},
      "source": [
        "Create objective function `L`"
      ]
    },
    {
      "cell_type": "code",
      "execution_count": 11,
      "metadata": {
        "id": "h_NGuiAznk27"
      },
      "outputs": [],
      "source": [
        "def L(Z, X, U, f, Kphiphis, Rs, two_step_dict, lmbd):\n",
        "    \"\"\"Cost function for 1-step method.\n",
        "    \n",
        "    Args:\n",
        "        Z: Vector of optimization variables in the cost function. 2*m*N\n",
        "        X: List of mN points of dimension d.\n",
        "        U: List of mN values of functions u^(1),...u^(N).\n",
        "        f: List of mN values of functions u^(1),...u^(N).\n",
        "        R: Matrices that regularizes each Kphiphi.\n",
        "        two_step_dict: Dictionary with values from 2-step.\n",
        "        lmbd: Lagrange multiplier in the loss function. \n",
        "    Returns:\n",
        "        scalar: a cost of this solution.    \n",
        "    \"\"\" \n",
        "    m = 1\n",
        "    N = X.shape[0]\n",
        "    # Re-shape Z into a matrix\n",
        "    Z = Z.reshape(2,m*N).T\n",
        "    ### First term\n",
        "\n",
        "    # Build S_N\n",
        "    S1 = jnp.hstack([X,U])\n",
        "    S = jnp.hstack([S1,Z])\n",
        "\n",
        "    # Scaling S_N\n",
        "    scaler_s_train = MinMaxScaler()\n",
        "    S = scaler_s_train.fit_transform(S)\n",
        "    # Gamma(S_N,S_N) \n",
        "    optim_sgm_P = two_step_dict.get('optim_sgm_P')\n",
        "    Gamma = K(Gaussian, S, S, optim_sgm_P)\n",
        "    nugget_P = two_step_dict.get('nugget_P')\n",
        "    Gamma = Gamma + nugget_P*jnp.eye(jnp.size(Gamma,0)) \n",
        "    #print(\"cond(Gamma) = \", jnp.linalg.cond(Gamma)) # Condition number of Gamma\n",
        "\n",
        "    # (Gamma(S_N,S_N) + alpha_Gamma*I)^-1 * f\n",
        "    b = jnp.linalg.solve(Gamma,f)\n",
        "\n",
        "    # First term\n",
        "    L1 = jnp.dot(f.T , b) / two_step_dict.get('rkhs_P')\n",
        "    #print(\"L1(Z_warm) = \", L1)\n",
        "\n",
        "\n",
        "    ### Second term\n",
        "\n",
        "    L2 = 0.\n",
        "\n",
        "    alpha_K = 1e-7 # Nugget \n",
        "    #Kphiphis = [Kphiphis[i] + alpha_K*Rs[i] for i in range(m)] \n",
        "    #print(\"cond(Kphiphi) = \", jnp.linalg.cond(Kphiphis[0])) # Condition number\n",
        "\n",
        "    \n",
        "    ZZ = jnp.hstack((U.reshape(-1,1),Z))\n",
        "    for i in range(m):\n",
        "        Z_i = jnp.reshape(ZZ[N_train*i : N_train*(i+1) , :].T,(N_train * 3, 1)) \n",
        "        #print('Z_{}'.format(i),Z_i) \n",
        "        c = jnp.linalg.solve(Kphiphis[i],Z_i) \n",
        "        L2 += jnp.reshape(jnp.dot(Z_i.T , c),()) / two_step_dict.get('rkhs_u') # NORMALIZATION MIGHT NOT BE NEEDED HERE IN THE 1.5 STEP METHOD\n",
        "        #print(two_step_dict.get('rkhs_u'))\n",
        "        #print(\"L2_(Z_warm)_{} = \".format(i+1),jnp.reshape(jnp.dot(Z_i.T , c),()) / two_step_dict.get('rkhs_u'))\n",
        "    # Compute the total loss per epoch - It's going down !\n",
        "    # Compute the loss per function u epoch  \n",
        "    # Compute the total loss normalized per epoch\n",
        "    # Compute the loss per function u normalized per epoch\n",
        "\n",
        "    #print(\"L2(Z_warm) = \",L2)\n",
        "\n",
        "    return L1 + lmbd*L2 # Return loss."
      ]
    },
    {
      "cell_type": "markdown",
      "metadata": {},
      "source": [
        "- Use 10 for training and 1000 in total as ghosts.\n",
        "- 5 - 20\n",
        "- 10 - 100\n",
        "- 50 - 200\n",
        "- 100 - 500\n",
        "- but using 10 solutions sampled from a GP. Or try ChatGPT."
      ]
    },
    {
      "attachments": {},
      "cell_type": "markdown",
      "metadata": {
        "id": "zDReXRvPnk27"
      },
      "source": [
        "#### Training data and warm up"
      ]
    },
    {
      "cell_type": "code",
      "execution_count": 12,
      "metadata": {},
      "outputs": [
        {
          "data": {
            "text/plain": [
              "Array(21.46984835, dtype=float64)"
            ]
          },
          "execution_count": 12,
          "metadata": {},
          "output_type": "execute_result"
        }
      ],
      "source": [
        "L(Z_warm, X, U, f, Kphiphis, Rs, two_step_dict, lmbd = 1/m)"
      ]
    },
    {
      "cell_type": "code",
      "execution_count": 13,
      "metadata": {},
      "outputs": [],
      "source": [
        "lmbd_min = 1/m "
      ]
    },
    {
      "attachments": {},
      "cell_type": "markdown",
      "metadata": {},
      "source": [
        "#### LBFGS"
      ]
    },
    {
      "cell_type": "code",
      "execution_count": 14,
      "metadata": {},
      "outputs": [],
      "source": [
        "# Load the warm-up \n",
        "Z = np.copy(Z_warm) "
      ]
    },
    {
      "cell_type": "code",
      "execution_count": 15,
      "metadata": {},
      "outputs": [],
      "source": [
        "result = minimize(L, Z, args=(X, U, f, Kphiphis, Rs, two_step_dict, 1/m), method= 'BFGS')"
      ]
    },
    {
      "cell_type": "code",
      "execution_count": 16,
      "metadata": {},
      "outputs": [],
      "source": [
        "Z = result.x.reshape(2, N_train * m).T"
      ]
    },
    {
      "attachments": {},
      "cell_type": "markdown",
      "metadata": {},
      "source": [
        "#### Evaluation of `Z`"
      ]
    },
    {
      "cell_type": "code",
      "execution_count": 17,
      "metadata": {},
      "outputs": [],
      "source": [
        "# Load true gradients from 2-step\n",
        "u_x_train = np.load('data/u_x_train.npy')\n",
        "u_xx_train = np.load('data/u_xx_train.npy')\n",
        "# Build true Z\n",
        "Z_true = np.hstack([u_x_train.T.reshape(N_train * m, 1),u_xx_train.T.reshape(N_train * m, 1)])"
      ]
    },
    {
      "cell_type": "markdown",
      "metadata": {},
      "source": [
        "#### Predictions of P"
      ]
    },
    {
      "cell_type": "markdown",
      "metadata": {},
      "source": [
        "Recall on the Representer formula\n",
        "\n",
        "$$\n",
        "P^*(\\cdot) = \\Gamma(\\cdot,S_N) \\Gamma(S_N,S_N)^{-1} f(X_N)\n",
        "$$"
      ]
    },
    {
      "cell_type": "code",
      "execution_count": 18,
      "metadata": {},
      "outputs": [],
      "source": [
        "# Build S_N - Training data\n",
        "S1 = jnp.hstack([X_train,U])\n",
        "S = jnp.hstack([S1,Z])\n",
        "# Load gradients from 2-step\n",
        "u_x_pred_test  = np.load('data/u_x_pred_test.npy')\n",
        "u_xx_pred_test = np.load('data/u_xx_pred_test.npy')\n",
        "s_test = np.hstack((X_test,u_test.T.reshape(-1,1),u_x_pred_test.T.reshape(-1,1),u_xx_pred_test.T.reshape(-1,1)))  # 30 * 4\n",
        "f_train = u_t_train\n",
        "f_test = u_t_test\n",
        "scaler_s_train = MinMaxScaler()\n",
        "s_train_s = scaler_s_train.fit_transform(S)\n",
        "s_test_s = scaler_s_train.transform(s_test)\n",
        "\n",
        "optim_sgm_P, optim_nugget_P = grid_search_RBF(s_train_s,f_train)\n",
        "\n",
        "krr_optimal_P = KernelRidge(kernel='rbf', alpha = two_step_dict.get('optim_nugget_P'), gamma=1/(2*(two_step_dict.get('optim_sgm_P')**2))) \n",
        "krr_optimal_P.fit(s_train_s, f_train) \n",
        "f_pred_train = krr_optimal_P.predict(s_train_s) \n",
        "f_pred_test = krr_optimal_P.predict(s_test_s)\n",
        "f_train2 = -S[:,2]*S[:,3] + 0.1*S[:,4]"
      ]
    },
    {
      "cell_type": "code",
      "execution_count": 19,
      "metadata": {},
      "outputs": [
        {
          "data": {
            "image/png": "[encoded data removed]",
            "text/plain": [
              "<Figure size 600x300 with 4 Axes>"
            ]
          },
          "metadata": {},
          "output_type": "display_data"
        }
      ],
      "source": [
        "# Interpolant P^* at training points : P^*(hat S) vs. P(hat S)\n",
        "fig, (ax1, ax2) = plt.subplots(nrows = 1, ncols=2 ,sharey= True, figsize = (6,3),constrained_layout=True)\n",
        "n_mse = mean_squared_error(f_pred_train, f_train2)/mean_squared_error(f_pred_train*0, f_train2)\n",
        "# u_t_train2 should be the estimation at the predicted input using the training collocation points and use the algebraic relation between the estimated gradients. \n",
        "fig.suptitle('2-step method: Second step | Relative MSE: {}'.format(round(n_mse,15)))\n",
        "ax1plot = ax1.tricontourf(S[:,0], S[:,1], f_pred_train, levels = np.arange(-0.6,0.75,0.05))\n",
        "plt.colorbar(ax1plot, ax=ax1)\n",
        "ax1.set_title('f_pred_train')\n",
        "ax2plot = ax2.tricontourf(S[:,0], S[:,1], f_train2)\n",
        "plt.colorbar(ax2plot, ax=ax2)\n",
        "ax2.set_title('f_true_train')\n",
        "plt.show()"
      ]
    },
    {
      "cell_type": "code",
      "execution_count": 21,
      "metadata": {},
      "outputs": [
        {
          "name": "stderr",
          "output_type": "stream",
          "text": [
            "100%|██████████| 5/5 [03:54<00:00, 46.95s/it]\n",
            "100%|██████████| 5/5 [03:51<00:00, 46.39s/it]]\n",
            "100%|██████████| 5/5 [03:51<00:00, 46.34s/it]]\n",
            "100%|██████████| 5/5 [03:53<00:00, 46.72s/it]]\n",
            "100%|██████████| 5/5 [03:53<00:00, 46.62s/it]]\n",
            "100%|██████████| 5/5 [19:25<00:00, 233.07s/it]\n"
          ]
        },
        {
          "name": "stdout",
          "output_type": "stream",
          "text": [
            "[[0.77571253 0.5816119  1.05855179 4.769731   5.9364292 ]\n",
            " [0.77571253 0.54987335 2.95228841 1.39061207 1.62488352]\n",
            " [0.77571253 0.62892326 2.56867638 1.19789291 7.48680689]\n",
            " [0.77571253 0.65578613 0.71341967 1.23083861 4.06624119]\n",
            " [0.77571253 0.56763551 0.91354305 1.4867488  6.75745944]]\n"
          ]
        },
        {
          "data": {
            "image/png": "[encoded data removed]",
            "text/plain": [
              "<Figure size 640x480 with 1 Axes>"
            ]
          },
          "metadata": {},
          "output_type": "display_data"
        }
      ],
      "source": [
        "mses_P_all = []\n",
        "for j in tqdm(range(5)):\n",
        "    # Compute std per feature of s_train_s\n",
        "    stds = np.std(S, axis = 0)\n",
        "    beta = np.arange(0.0,0.25,0.05)\n",
        "    scales = np.outer(beta, stds) \n",
        "    mses_P = []\n",
        "    for i in tqdm(range(len(scales))):\n",
        "        # Scales for current iteration\n",
        "        scale = scales[i,:]\n",
        "        # Copy s_train\n",
        "        s_test = np.copy(S)\n",
        "        # Perturb feature that contains u^* - Do this 10 times and average !!!\n",
        "        s_test[:,2] = np.random.normal(S[:,2] , scale = scale[2])\n",
        "        # Apply step one to perturbed u's \n",
        "        optim_sgm, alphas, optim_lmbd = kernel_parameters_Gaussian_2D(X_train, s_test[:,2].reshape(-1,1), N_train)\n",
        "        _, _, u_x_pred, u_xx_pred = predictions_Burgers(X_train, X_train, Gaussian2D, optim_sgm, alphas, N_train, N_train)\n",
        "        s_test[:,3] = u_x_pred.T.reshape(-1,1).flatten()\n",
        "        s_test[:,4] = u_xx_pred.T.reshape(-1,1).flatten()\n",
        "        # Scale the new s_test\n",
        "        s_test_s = scaler_s_train.transform(s_test)\n",
        "        # Compute predictions on test\n",
        "        f_pred_test = krr_optimal_P.predict(s_test_s)\n",
        "        # True test -> Why if I use this rule for s_test_s the bellow rule cannot be compared with f_pred_test\n",
        "        f_true_test = -s_test[:,2]*s_test[:,3] + 0.1*s_test[:,4]\n",
        "        # Compute mse per scale \n",
        "        mses_P.append(mean_squared_error(f_true_test,f_pred_test)/mean_squared_error(0*f_true_test,f_true_test))\n",
        "# Plot - We have a vector of dimension 4 of scales vs. mses\n",
        "    mses_P_all.append(mses_P)\n",
        "mses_P_all = np.array(mses_P_all)\n",
        "print(mses_P_all)\n",
        "mean_mses_P_all = np.mean(mses_P_all, axis = 0)\n",
        "plt.plot(beta,mean_mses_P_all,'.-')\n",
        "plt.xlabel('noise level: percentage of std of u^*')\n",
        "plt.ylabel('mse: f_pred vs. f_true')\n",
        "plt.show()"
      ]
    }
  ],
  "metadata": {
    "colab": {
      "provenance": []
    },
    "kernelspec": {
      "display_name": "base",
      "language": "python",
      "name": "python3"
    },
    "language_info": {
      "codemirror_mode": {
        "name": "ipython",
        "version": 3
      },
      "file_extension": ".py",
      "mimetype": "text/x-python",
      "name": "python",
      "nbconvert_exporter": "python",
      "pygments_lexer": "ipython3",
      "version": "3.11.3"
    },
    "vscode": {
      "interpreter": {
        "hash": "9f30f608a882a0e3e1ee7bdaf111a2fb524766c624535f9d75a6d8e97b170942"
      }
    }
  },
  "nbformat": 4,
  "nbformat_minor": 0
}
