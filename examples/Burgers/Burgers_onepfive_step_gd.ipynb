{
  "cells": [
    {
      "attachments": {},
      "cell_type": "markdown",
      "metadata": {
        "id": "_Lr5zZpo4oaV"
      },
      "source": [
        "## Burgers: One-pfive step Method"
      ]
    },
    {
      "cell_type": "code",
      "execution_count": 1,
      "metadata": {},
      "outputs": [],
      "source": [
        "import sys\n",
        "#sys.path.append('/Users/josorior/Documents/UW/research/keql/KEQL/source')\n",
        "#sys.path.append('/Users/yasaminjalalian/Repos/KEQL/source')\n",
        "sys.path.append('/home/juanfelipe/Desktop/research/keql/source')"
      ]
    },
    {
      "cell_type": "code",
      "execution_count": 2,
      "metadata": {},
      "outputs": [],
      "source": [
        "import os\n",
        "\n",
        "os.environ[\"XLA_PYTHON_CLIENT_PREALLOCATE\"] = \"false\""
      ]
    },
    {
      "cell_type": "code",
      "execution_count": 3,
      "metadata": {
        "id": "0XfbL3pvnk27"
      },
      "outputs": [],
      "source": [
        "import numpy as np\n",
        "import matplotlib.pyplot as plt \n",
        "from sklearn.kernel_ridge import KernelRidge\n",
        "from tqdm import tqdm\n",
        "from parameter_learning import *\n",
        "from plotlib import *\n",
        "from models import * \n",
        "from kernels import *\n",
        "from data_loader_Burgers import *\n",
        "from loss import *\n",
        "from utils import *\n",
        "\n",
        "import jax.numpy as jnp\n",
        "from jax import grad, jit\n",
        "from jax.scipy.optimize import minimize\n",
        "from jax.config import config; \n",
        "config.update(\"jax_enable_x64\", True)\n",
        "\n",
        "from functools import partial # for jit to make codes faster"
      ]
    },
    {
      "cell_type": "code",
      "execution_count": 4,
      "metadata": {},
      "outputs": [],
      "source": [
        "# Import values from 2-step\n",
        "two_step_dict = np.load('data/two_step_dict.npy', allow_pickle=True)\n",
        "two_step_dict = two_step_dict.item()"
      ]
    },
    {
      "cell_type": "code",
      "execution_count": 5,
      "metadata": {},
      "outputs": [
        {
          "data": {
            "text/plain": [
              "{'optim_sgm_u': array([2.96574483]),\n",
              " 'optim_nugget_u': array([2.97635144e-11]),\n",
              " 'rkhs_u': [95713.68448437436],\n",
              " 'optim_sgm_P': 0.5714432601422236,\n",
              " 'optim_nugget_P': 7.847599703514623e-13,\n",
              " 'nugget_P': 1e-07,\n",
              " 'rkhs_P': 180.91761304813213,\n",
              " 'f_pred_test': array([-2.06753612e-07, -1.19581819e-06, -2.00274758e-01, ...,\n",
              "        -1.19007174e-02, -1.83284283e-06,  1.91243365e-03])}"
            ]
          },
          "execution_count": 5,
          "metadata": {},
          "output_type": "execute_result"
        }
      ],
      "source": [
        "two_step_dict"
      ]
    },
    {
      "attachments": {},
      "cell_type": "markdown",
      "metadata": {
        "id": "R0dMsZlmnk27"
      },
      "source": [
        "### Cost function"
      ]
    },
    {
      "attachments": {},
      "cell_type": "markdown",
      "metadata": {},
      "source": [
        "Create objective function `L`"
      ]
    },
    {
      "cell_type": "markdown",
      "metadata": {},
      "source": [
        "$$\n",
        "L(Z_0) = f(X_N)^T \\Gamma(S_N,S_N)^{-1} f(X_N) + \\lambda \\sum_{i=1}^m (Z_{0,i*N:(i+1)*N})^T K(X_N,X_N)^{-1}(Z_{0,i*N:(i+1)*N})\n",
        "$$\n",
        "where\n",
        "$$\n",
        "Z_0[M] = U[M].\n",
        "$$"
      ]
    },
    {
      "cell_type": "markdown",
      "metadata": {},
      "source": [
        "1. Test by M = [True]."
      ]
    },
    {
      "cell_type": "code",
      "execution_count": 75,
      "metadata": {},
      "outputs": [],
      "source": [
        "def L(Z, X, U, M, f, two_step_dict, lmbd):\n",
        "    \"\"\"Cost function for 1.5-step method.\n",
        "    \n",
        "    Args:\n",
        "        Z: Vector [Z^1 Z^2 Z^3]^T. m*N\n",
        "        X: List of mN points of dimension d.\n",
        "        U: List of N1+N2+N3 values of functions u^(1),...u^(N).\n",
        "        M: Bolean array which contains where true values reside.\n",
        "        f: List of mN values of functions u^(1),...u^(N).\n",
        "        two_step_dict: Dictionary with values from 2-step.\n",
        "        lmbd: Lagrange multiplier in the loss function.\n",
        "    Returns:\n",
        "        scalar: a cost of this solution.    \n",
        "    \"\"\" \n",
        "\n",
        "    ### Set up\n",
        "    N = 10 \n",
        "    m = 3 \n",
        "    #print('Z:', Z)\n",
        "    # Constrain the value of Z with known info\n",
        "    #Z = jnp.where(M, U, Z)\n",
        "    # Just use Z_warm instead of using line 21.\n",
        "    # Cd + 1 = 4\n",
        "    S = jnp.zeros((N*m,4))\n",
        "    \n",
        "    # Split Z\n",
        "    for i in range(m):\n",
        "        Zi = Z[i*N:(i+1)*N]\n",
        "        optim_sgm = two_step_dict.get('optim_sgm_u')[i]\n",
        "        optim_nugget = two_step_dict.get('optim_nugget_u')[i]\n",
        "        G = K(Gaussian, X[:N], X[:N], optim_sgm) \n",
        "        alphas = jnp.linalg.solve(G + optim_nugget*jnp.eye(N),Zi)\n",
        "\n",
        "        Zi_x = jnp.dot(K_dot(Gaussian, X[:N], X[:N], optim_sgm, 0), alphas)\n",
        "        Zi_xx = jnp.dot(K_2dot(Gaussian, X[:N], X[:N], optim_sgm, 0,0), alphas)\n",
        "\n",
        "        Si = jnp.vstack((X[:N],Zi, Zi_x,Zi_xx)).T\n",
        "        # print shapes and values here\n",
        "        S = S.at[i*N:(i+1)*N,:].set(Si)\n",
        "    # Scaling S_N\n",
        "    scaler_s_train = MinMaxScaler()\n",
        "    S = scaler_s_train.fit_transform(S)\n",
        "    # Gamma(S_N,S_N)\n",
        "    optim_sgm_P = two_step_dict.get('optim_sgm_P') \n",
        "    Gamma = K(Gaussian, S, S, optim_sgm_P)\n",
        "    nugget_P = two_step_dict.get('nugget_P') \n",
        "    Gamma = Gamma + nugget_P*jnp.eye(jnp.size(Gamma,0))\n",
        "    #print(\"cond(Gamma) = \", jnp.linalg.cond(Gamma))\n",
        "\n",
        "    # (Gamma(S_N,S_N) + alpha_Gamma*I)^-1 * f\n",
        "    b = jnp.linalg.solve(Gamma,f)\n",
        "\n",
        "    # First term\n",
        "    L1 = jnp.dot(f.T , b) / two_step_dict.get('rkhs_P')\n",
        "    #print('L1: ', L1)\n",
        "\n",
        "    # Second term\n",
        "    sigma_K = jnp.array(two_step_dict.get('optim_sgm_u'))\n",
        "    nugget_K = two_step_dict.get('optim_nugget_u')\n",
        "    K_XNs = []\n",
        "    for i in range(m):\n",
        "        K_XN = K(Gaussian,X[:N],X[:N],sigma_K[i]) \n",
        "        K_XNs.append(K_XN + nugget_K[i]*jnp.eye(N))\n",
        "    \n",
        "    L2 = 0.\n",
        "    \n",
        "    for i in range(m):\n",
        "        #print('Z_constrained:', Z_warm)\n",
        "        Zi = Z[i*N:(i+1)*N] # print out each of these and display the graphs here ! \n",
        "        c = jnp.linalg.solve(K_XNs[i],Zi)\n",
        "        #print(K_XNs[i][:5,:5])\n",
        "        #print(Zi)\n",
        "        #print(Zi.shape)\n",
        "        #print(c)\n",
        "        L2 += jnp.reshape(jnp.dot(Zi.T , c),()) / two_step_dict.get('rkhs_u')[i]\n",
        "        #print('L2_',i,':',jnp.reshape(jnp.dot(Zi.T , c),()) / two_step_dict.get('rkhs_u')[i] )      \n",
        "    \n",
        "    return L1 + lmbd*L2\n",
        "    "
      ]
    },
    {
      "attachments": {},
      "cell_type": "markdown",
      "metadata": {
        "id": "zDReXRvPnk27"
      },
      "source": [
        "#### Gradient descent"
      ]
    },
    {
      "attachments": {},
      "cell_type": "markdown",
      "metadata": {
        "id": "3SObhiRznk27"
      },
      "source": [
        "Training data"
      ]
    },
    {
      "cell_type": "code",
      "execution_count": 76,
      "metadata": {
        "id": "E9BVaRatnk27"
      },
      "outputs": [],
      "source": [
        "# First column in Gamma(S_N,S_N)\n",
        "X = x_test_all.flatten() # N*m * 1\n",
        "\n",
        "# Second column in Gamma(S_N,S_N)\n",
        "U = u_test.T.reshape(N*m,) # N*m * 1\n",
        "\n",
        "# f(X_N)\n",
        "#f = f_Test(model,e_test)\n",
        "f = two_step_dict['f_pred_test']"
      ]
    },
    {
      "attachments": {},
      "cell_type": "markdown",
      "metadata": {
        "id": "lA8nCyg_nk28"
      },
      "source": [
        "Initial guess: `Z_warm`"
      ]
    },
    {
      "cell_type": "code",
      "execution_count": 77,
      "metadata": {},
      "outputs": [],
      "source": [
        "# Load values of U predicted from 2-step\n",
        "u_pred_test = np.load('data/u_pred_test.npy')\n",
        "u_x_pred_test = np.load('data/u_x_pred_test.npy')\n",
        "u_xx_pred_test = np.load('data/u_xx_pred_test.npy')\n",
        "# Build Z_warm\n",
        "Z_warm = jnp.array(u_pred_test.T.reshape(N*m,)) "
      ]
    },
    {
      "cell_type": "code",
      "execution_count": 78,
      "metadata": {},
      "outputs": [],
      "source": [
        "lmbda = 1e5"
      ]
    },
    {
      "cell_type": "code",
      "execution_count": 79,
      "metadata": {},
      "outputs": [
        {
          "data": {
            "text/plain": [
              "Array(300001.58624811, dtype=float64)"
            ]
          },
          "execution_count": 79,
          "metadata": {},
          "output_type": "execute_result"
        }
      ],
      "source": [
        "L(Z_warm, X, U, M, f, two_step_dict, lmbd=lmbda)"
      ]
    },
    {
      "attachments": {},
      "cell_type": "markdown",
      "metadata": {
        "id": "w_MgRkiDnk28"
      },
      "source": [
        "Initialize the grad functions with `jit` to be efficient"
      ]
    },
    {
      "cell_type": "code",
      "execution_count": 80,
      "metadata": {
        "colab": {
          "base_uri": "https://localhost:8080/"
        },
        "id": "lbXfnabQnk28",
        "outputId": "3877f2f6-f6ca-41b4-eebb-aaec41004fd0"
      },
      "outputs": [
        {
          "data": {
            "text/plain": [
              "Array([ 3.08269173e+01, -8.27407638e+01,  8.42692156e+01, -3.02349214e+01,\n",
              "        7.40307777e+04,  7.98210492e+00, -7.15267765e+00, -2.08974800e+05,\n",
              "        4.84229404e+04, -7.11664363e-01,  3.32363765e+03, -1.38479469e+04,\n",
              "        2.22024009e+05,  1.68280203e+05, -1.40899942e+05, -3.84025618e+05,\n",
              "       -2.84089889e+05,  1.33000114e+05,  4.41880863e+05, -8.24337285e+04,\n",
              "       -1.90193044e+02,  7.80442763e+04, -5.95353389e+03, -1.05703249e+05,\n",
              "       -1.81882511e+04,  1.68573062e+04, -1.03173923e+04,  6.38334585e+04,\n",
              "       -8.88829057e+02,  8.54308758e+01], dtype=float64)"
            ]
          },
          "execution_count": 80,
          "metadata": {},
          "output_type": "execute_result"
        }
      ],
      "source": [
        "grad_Z = jit(grad(L, argnums=0))\n",
        "\n",
        "# Run once to trigger JIT compilation.\n",
        "grad_Z(Z_warm, X, U, M, f, two_step_dict, lmbda)\n",
        "# Warm start here !!!"
      ]
    },
    {
      "attachments": {},
      "cell_type": "markdown",
      "metadata": {
        "id": "KWnglrOmnk28"
      },
      "source": [
        "Run the gradient descent for `100` epochs"
      ]
    },
    {
      "cell_type": "markdown",
      "metadata": {},
      "source": [
        "### Optimization of L"
      ]
    },
    {
      "cell_type": "code",
      "execution_count": 81,
      "metadata": {},
      "outputs": [],
      "source": [
        "# Load the warm-up\n",
        "Z = np.copy(Z_warm)"
      ]
    },
    {
      "cell_type": "code",
      "execution_count": 82,
      "metadata": {},
      "outputs": [],
      "source": [
        "# u_t = u_train.T.reshape(N*m,1)\n",
        "# # Load true gradients from 2-step\n",
        "# u_x_train = np.load('data/u_x_train.npy')\n",
        "# u_xx_train = np.load('data/u_xx_train.npy')\n",
        "# # Build true Z\n",
        "# Z_true = np.hstack([u_t, u_x_train.T.reshape(N*m,1),u_xx_train.T.reshape(N*m,1)])"
      ]
    },
    {
      "cell_type": "code",
      "execution_count": 83,
      "metadata": {},
      "outputs": [],
      "source": [
        "# Only do this for the first time - \n",
        "#Z = np.copy(Z_warm)\n",
        "#Z = np.load('data/Z.npy')"
      ]
    },
    {
      "cell_type": "markdown",
      "metadata": {},
      "source": [
        "0. Run it for more iterations until it actually converges to a minimum!!!\n",
        "1. Line search (using $p_k = - \\nabla f$) using Armijo condition. Pick $\\alpha_k$ such that satisfy the two Wolfe conditions. Test: Loss must always goes down here. \n",
        "2. Newton-Armijo.\n",
        "3. Read Quasi-Newton algorithm in Nocedal, when the Hessian is not PD.  "
      ]
    },
    {
      "cell_type": "code",
      "execution_count": 84,
      "metadata": {
        "colab": {
          "base_uri": "https://localhost:8080/"
        },
        "id": "Z9zAYK3Onk28",
        "outputId": "4fd3b5ca-7ba7-48ea-a37a-5bd73f86e8e7"
      },
      "outputs": [
        {
          "name": "stdout",
          "output_type": "stream",
          "text": [
            "iter: 0\n",
            "loss:  300001.586230009\n",
            "iter: 10\n",
            "loss:  300001.5861044218\n",
            "iter: 20\n",
            "loss:  300001.58601710474\n",
            "iter: 30\n",
            "loss:  300001.5859298642\n",
            "iter: 40\n",
            "loss:  300001.58584262646\n",
            "iter: 50\n",
            "loss:  300001.58575538814\n",
            "iter: 60\n",
            "loss:  300001.58566815325\n",
            "iter: 70\n",
            "loss:  300001.58558091905\n",
            "iter: 80\n",
            "loss:  300001.5854936848\n",
            "iter: 90\n",
            "loss:  300001.5854064526\n",
            "iter: 100\n",
            "loss:  300001.585319224\n",
            "iter: 110\n",
            "loss:  300001.5852319949\n",
            "iter: 120\n",
            "loss:  300001.58514476765\n",
            "iter: 130\n",
            "loss:  300001.5850575412\n",
            "iter: 140\n",
            "loss:  300001.5849703163\n",
            "iter: 150\n",
            "loss:  300001.5848830929\n",
            "iter: 160\n",
            "loss:  300001.58479586995\n",
            "iter: 170\n",
            "loss:  300001.5847086474\n",
            "iter: 180\n",
            "loss:  300001.584621428\n",
            "iter: 190\n",
            "loss:  300001.5845342102\n",
            "iter: 200\n",
            "loss:  300001.5844469918\n",
            "iter: 210\n",
            "loss:  300001.5843597767\n",
            "iter: 220\n",
            "loss:  300001.58427256084\n",
            "iter: 230\n",
            "loss:  300001.5841853477\n",
            "iter: 240\n",
            "loss:  300001.5840981368\n",
            "iter: 250\n",
            "loss:  300001.5840109255\n",
            "iter: 260\n",
            "loss:  300001.5839237163\n",
            "iter: 270\n",
            "loss:  300001.5838365078\n",
            "iter: 280\n",
            "loss:  300001.58374929935\n",
            "iter: 290\n",
            "loss:  300001.5836620932\n",
            "iter: 300\n",
            "loss:  300001.5835748874\n",
            "iter: 310\n",
            "loss:  300001.5834876823\n",
            "iter: 320\n",
            "loss:  300001.5834004801\n",
            "iter: 330\n",
            "loss:  300001.5833132793\n",
            "iter: 340\n",
            "loss:  300001.58322607976\n",
            "iter: 350\n",
            "loss:  300001.5831388793\n",
            "iter: 360\n",
            "loss:  300001.5830516815\n",
            "iter: 370\n",
            "loss:  300001.5829644847\n",
            "iter: 380\n",
            "loss:  300001.5828772891\n",
            "iter: 390\n",
            "loss:  300001.582790096\n",
            "iter: 400\n",
            "loss:  300001.5827029023\n",
            "iter: 410\n",
            "loss:  300001.58261571\n",
            "iter: 420\n",
            "loss:  300001.5825285178\n",
            "iter: 430\n",
            "loss:  300001.5824413272\n",
            "iter: 440\n",
            "loss:  300001.58235413913\n",
            "iter: 450\n",
            "loss:  300001.5822669513\n",
            "iter: 460\n",
            "loss:  300001.5821797645\n",
            "iter: 470\n",
            "loss:  300001.58209258085\n",
            "iter: 480\n",
            "loss:  300001.5820053944\n",
            "iter: 490\n",
            "loss:  300001.5819182134\n",
            "iter: 500\n",
            "loss:  300001.5818310303\n",
            "iter: 510\n",
            "loss:  300001.5817438487\n",
            "iter: 520\n",
            "loss:  300001.58165666816\n",
            "iter: 530\n",
            "loss:  300001.58156948973\n",
            "iter: 540\n",
            "loss:  300001.58148231206\n",
            "iter: 550\n",
            "loss:  300001.5813951371\n",
            "iter: 560\n",
            "loss:  300001.5813079607\n",
            "iter: 570\n",
            "loss:  300001.58122078615\n",
            "iter: 580\n",
            "loss:  300001.581133614\n",
            "iter: 590\n",
            "loss:  300001.5810464387\n",
            "iter: 600\n",
            "loss:  300001.58095926896\n",
            "iter: 610\n",
            "loss:  300001.58087209694\n",
            "iter: 620\n",
            "loss:  300001.5807849272\n",
            "iter: 630\n",
            "loss:  300001.5806977601\n",
            "iter: 640\n",
            "loss:  300001.5806105922\n",
            "iter: 650\n",
            "loss:  300001.58052342694\n",
            "iter: 660\n",
            "loss:  300001.58043626236\n",
            "iter: 670\n",
            "loss:  300001.5803490985\n",
            "iter: 680\n",
            "loss:  300001.58026193525\n",
            "iter: 690\n",
            "loss:  300001.5801747734\n",
            "iter: 700\n",
            "loss:  300001.5800876111\n",
            "iter: 710\n",
            "loss:  300001.5800004512\n",
            "iter: 720\n",
            "loss:  300001.57991329196\n",
            "iter: 730\n",
            "loss:  300001.5798261339\n",
            "iter: 740\n",
            "loss:  300001.57973897737\n",
            "iter: 750\n",
            "loss:  300001.57965181913\n",
            "iter: 760\n",
            "loss:  300001.5795646632\n",
            "iter: 770\n",
            "loss:  300001.57947750844\n",
            "iter: 780\n",
            "loss:  300001.5793903563\n",
            "iter: 790\n",
            "loss:  300001.57930320443\n",
            "iter: 800\n",
            "loss:  300001.5792160515\n",
            "iter: 810\n",
            "loss:  300001.57912889967\n",
            "iter: 820\n",
            "loss:  300001.57904174906\n",
            "iter: 830\n",
            "loss:  300001.57895459933\n",
            "iter: 840\n",
            "loss:  300001.57886744983\n",
            "iter: 850\n",
            "loss:  300001.57878030237\n",
            "iter: 860\n",
            "loss:  300001.5786931573\n",
            "iter: 870\n",
            "loss:  300001.5786060114\n",
            "iter: 880\n",
            "loss:  300001.57851886685\n",
            "iter: 890\n",
            "loss:  300001.5784317251\n",
            "iter: 900\n",
            "loss:  300001.578344582\n",
            "iter: 910\n",
            "loss:  300001.5782574401\n",
            "iter: 920\n",
            "loss:  300001.57817029796\n",
            "iter: 930\n",
            "loss:  300001.57808315894\n",
            "iter: 940\n",
            "loss:  300001.5779960185\n",
            "iter: 950\n",
            "loss:  300001.5779088792\n",
            "iter: 960\n",
            "loss:  300001.57782174303\n",
            "iter: 970\n",
            "loss:  300001.5777346083\n",
            "iter: 980\n",
            "loss:  300001.57764747174\n",
            "iter: 990\n",
            "loss:  300001.57756033767\n"
          ]
        }
      ],
      "source": [
        "# mses = []\n",
        "# S = jnp.zeros((N*m,4))\n",
        "# kernel = Gaussian\n",
        "# If trained previously use Z\n",
        "# if np.all(Z != Z_warm):\n",
        "#     Z = np.load('data/Z.npy')\n",
        "# else:\n",
        "#     Z = np.copy(Z_warm)\n",
        "Z = np.copy(Z_warm)\n",
        "learning_rate = 1e-12\n",
        "for i in range(1000):\n",
        "    delta_Z = grad_Z(Z, X, U, M, f, two_step_dict, lmbda)\n",
        "    lr = jnp.linalg.norm(Z)/jnp.linalg.norm(delta_Z)*learning_rate\n",
        "    Z -= lr * delta_Z\n",
        "    \n",
        "    # # Pred\n",
        "    # for j in range(m):\n",
        "    #     Zi = Z[j*N:(j+1)*N]\n",
        "    #     #optim_sgm , optim_lmbd = grid_search_RBF_JAX(X[:N].reshape(N,1),Zi.reshape(-1,1))\n",
        "    #     optim_sgm , optim_lmbd = 0.5, 1e-4\n",
        "    #     G = K(kernel, X[:N], X[:N], optim_sgm) \n",
        "    #     alphas = jnp.linalg.solve(G + optim_lmbd*jnp.eye(N),Zi)\n",
        "    #     Zi_x = jnp.dot(K_dot(kernel, X[:N], X[:N], optim_sgm, 0), alphas)\n",
        "    #     Zi_xx = jnp.dot(K_2dot(kernel, X[:N], X[:N], optim_sgm, 0,0), alphas)\n",
        "    #     Si = jnp.vstack((X[:N],Zi, Zi_x,Zi_xx)).T\n",
        "    #     S = S.at[j*N:(j+1)*N,:].set(Si)\n",
        "    # Spred = S[:,-3:]\n",
        "    # mse = mean_squared_error(Spred,Z_true)/mean_squared_error(0*Spred,Z_true)\n",
        "    # mses.append(mse)\n",
        "    if i % 10 == 0:\n",
        "        print('iter:', i )\n",
        "        print('loss: ',L(Z, X, U, M, f, two_step_dict, lmbda))\n",
        "        #print('mse:', mse)\n",
        "    \n",
        "# Save at the end of iterations\n",
        "#np.save('data/Z.npy',Z)"
      ]
    },
    {
      "cell_type": "markdown",
      "metadata": {},
      "source": [
        "- If it does decrease the loss for 10 steps then look for a different alpha, say alpha bigger than it was to make the algorithm more efficient ( if we find for example a flat region)."
      ]
    },
    {
      "cell_type": "code",
      "execution_count": 86,
      "metadata": {},
      "outputs": [
        {
          "data": {
            "text/plain": [
              "Array(False, dtype=bool)"
            ]
          },
          "execution_count": 86,
          "metadata": {},
          "output_type": "execute_result"
        }
      ],
      "source": [
        "np.all(Z_warm==Z)"
      ]
    },
    {
      "cell_type": "markdown",
      "metadata": {},
      "source": [
        "Evaluate `Z`"
      ]
    },
    {
      "cell_type": "code",
      "execution_count": 87,
      "metadata": {},
      "outputs": [
        {
          "name": "stderr",
          "output_type": "stream",
          "text": [
            "100%|██████████| 3/3 [00:00<00:00,  3.21it/s]\n"
          ]
        }
      ],
      "source": [
        "# Build S_N - Training data\n",
        "S = jnp.zeros((N*m,4))\n",
        "kernel = Gaussian\n",
        "# Split Z\n",
        "for i in tqdm(range(m)):\n",
        "    Zi = Z[i*N:(i+1)*N]\n",
        "    optim_sgm , optim_lmbd = two_step_dict.get('optim_sgm_u')[i], two_step_dict.get('optim_nugget_u')[i]\n",
        "    G = K(kernel, X[:N], X[:N], optim_sgm) \n",
        "    alphas = jnp.linalg.solve(G + optim_lmbd*jnp.eye(N),Zi)\n",
        "    Zi_x = jnp.dot(K_dot(kernel, X[:N], X[:N], optim_sgm, 0), alphas)\n",
        "    Zi_xx = jnp.dot(K_2dot(kernel, X[:N], X[:N], optim_sgm, 0,0), alphas)\n",
        "    Si = jnp.vstack((X[:N],Zi, Zi_x,Zi_xx)).T\n",
        "    S = S.at[i*N:(i+1)*N,:].set(Si)\n",
        "\n",
        "# Load gradients from 2-step\n",
        "u_x_pred_test  = np.load('data/u_x_pred_test.npy')\n",
        "u_xx_pred_test = np.load('data/u_xx_pred_test.npy')\n",
        "s_test = np.hstack((x_test_all.reshape(-1,1),u_test.T.reshape(-1,1),u_x_pred_test.T.reshape(-1,1),u_xx_pred_test.T.reshape(-1,1)))  # 30 * 4\n",
        "f_train = f_Train(model)\n",
        "f_test = f_Test(model,e_test)\n",
        "scaler_s_train = MinMaxScaler()\n",
        "s_train_s = scaler_s_train.fit_transform(S)\n",
        "s_test_s = scaler_s_train.transform(s_test)\n",
        "\n",
        "optim_sgm_P, optim_nugget_P = grid_search_RBF(s_train_s,f_test)\n",
        "\n",
        "krr_optimal_P = KernelRidge(kernel='rbf', alpha = two_step_dict.get('optim_nugget_P'), gamma=1/(2*(two_step_dict.get('optim_sgm_P')**2))) \n",
        "krr_optimal_P.fit(s_train_s, f_test) \n",
        "f_pred_train = krr_optimal_P.predict(s_train_s) \n",
        "f_pred_test = krr_optimal_P.predict(s_test_s)"
      ]
    },
    {
      "cell_type": "code",
      "execution_count": 89,
      "metadata": {},
      "outputs": [
        {
          "data": {
            "image/png": "[encoded data removed]",
            "text/plain": [
              "<Figure size 1000x200 with 3 Axes>"
            ]
          },
          "metadata": {},
          "output_type": "display_data"
        }
      ],
      "source": [
        "# Plot at testing points\n",
        "fig, axs = plt.subplots(nrows = 1, ncols=3 , figsize = (10, 2),constrained_layout=True)\n",
        "fig.suptitle(f'1.5-step method: lr = {learning_rate}, lambda = {lmbda}')\n",
        "axs[0].plot(x_test[:e_test], f_test[:e_test] , marker= 'o', label = 'true')\n",
        "axs[0].plot(x_test[:e_test], f_pred_test[:e_test], marker= 'o', label = 'pred')\n",
        "axs[0].legend()\n",
        "axs[0].set_title('$P_{true}$ vs $P_{pred}$')\n",
        "axs[1].plot(x_test[e_test:2*e_test], f_test[e_test:2*e_test],marker= 'o', label = 'true')\n",
        "axs[1].plot(x_test[e_test:2*e_test], f_pred_test[e_test:2*e_test],marker= 'o', label = 'pred')\n",
        "axs[1].legend()\n",
        "axs[1].set_title('$P_{true}$ vs $P_{pred}$')\n",
        "axs[2].plot(x_test[2*e_test:3*e_test], f_test[2*e_test:3*e_test],marker= 'o', label = 'true')\n",
        "axs[2].plot(x_test[2*e_test:3*e_test], f_pred_test[2*e_test:3*e_test],marker= 'o', label = 'pred')\n",
        "axs[2].legend()\n",
        "axs[2].set_title('$P_{true}$ vs $P_{pred}$')\n",
        "fig.show()"
      ]
    }
  ],
  "metadata": {
    "colab": {
      "provenance": []
    },
    "kernelspec": {
      "display_name": "base",
      "language": "python",
      "name": "python3"
    },
    "language_info": {
      "codemirror_mode": {
        "name": "ipython",
        "version": 3
      },
      "file_extension": ".py",
      "mimetype": "text/x-python",
      "name": "python",
      "nbconvert_exporter": "python",
      "pygments_lexer": "ipython3",
      "version": "3.11.3"
    },
    "vscode": {
      "interpreter": {
        "hash": "9f30f608a882a0e3e1ee7bdaf111a2fb524766c624535f9d75a6d8e97b170942"
      }
    }
  },
  "nbformat": 4,
  "nbformat_minor": 0
}
