{
  "cells": [
    {
      "attachments": {},
      "cell_type": "markdown",
      "metadata": {
        "id": "_Lr5zZpo4oaV"
      },
      "source": [
        "## Burger's equation: One-step Method"
      ]
    },
    {
      "cell_type": "code",
      "execution_count": 1,
      "metadata": {},
      "outputs": [],
      "source": [
        "import sys\n",
        "#sys.path.append('/Users/josorior/Documents/UW/research/keql/KEQL/source')\n",
        "#sys.path.append('/Users/yasaminjalalian/Repos/KEQL/source')\n",
        "sys.path.append('/home/juanfelipe/Desktop/research/keql/source')"
      ]
    },
    {
      "cell_type": "code",
      "execution_count": 2,
      "metadata": {},
      "outputs": [],
      "source": [
        "import os\n",
        "\n",
        "os.environ[\"XLA_PYTHON_CLIENT_PREALLOCATE\"] = \"false\""
      ]
    },
    {
      "cell_type": "code",
      "execution_count": 3,
      "metadata": {
        "id": "0XfbL3pvnk27"
      },
      "outputs": [],
      "source": [
        "import numpy as np\n",
        "import matplotlib.pyplot as plt \n",
        "from sklearn.kernel_ridge import KernelRidge\n",
        "from parameter_learning import *\n",
        "from plotlib import *\n",
        "from models import * \n",
        "from kernels import *\n",
        "from data_loader_Burgers import *\n",
        "from loss import *\n",
        "from utils import *\n",
        "\n",
        "import jax.numpy as jnp\n",
        "from jax import grad, jit\n",
        "from jax.scipy.optimize import minimize\n",
        "from jax.config import config; \n",
        "config.update(\"jax_enable_x64\", True)\n",
        "\n",
        "from functools import partial # for jit to make codes faster"
      ]
    },
    {
      "cell_type": "code",
      "execution_count": 4,
      "metadata": {},
      "outputs": [],
      "source": [
        "# Import values from 2-step\n",
        "two_step_dict = np.load('data/two_step_dict.npy', allow_pickle=True)\n",
        "two_step_dict = two_step_dict.item()"
      ]
    },
    {
      "cell_type": "code",
      "execution_count": 5,
      "metadata": {},
      "outputs": [
        {
          "data": {
            "text/plain": [
              "{'optim_sgm_u': array([2.96574483]),\n",
              " 'optim_nugget_u': array([2.97635144e-11]),\n",
              " 'rkhs_u': [95713.68448437436],\n",
              " 'optim_sgm_P': 0.5714432601422236,\n",
              " 'optim_nugget_P': 7.847599703514623e-13,\n",
              " 'nugget_P': 1e-07,\n",
              " 'rkhs_P': 180.91761304813213,\n",
              " 'f_pred_test': array([-2.06753612e-07, -1.19581819e-06, -2.00274758e-01, ...,\n",
              "        -1.19007174e-02, -1.83284283e-06,  1.91243365e-03])}"
            ]
          },
          "execution_count": 5,
          "metadata": {},
          "output_type": "execute_result"
        }
      ],
      "source": [
        "two_step_dict"
      ]
    },
    {
      "attachments": {},
      "cell_type": "markdown",
      "metadata": {
        "id": "R0dMsZlmnk27"
      },
      "source": [
        "### Cost function"
      ]
    },
    {
      "attachments": {},
      "cell_type": "markdown",
      "metadata": {},
      "source": [
        "Compute `Kphiphi` and its corresponding regularizing matrix `R`"
      ]
    },
    {
      "cell_type": "code",
      "execution_count": 6,
      "metadata": {},
      "outputs": [],
      "source": [
        "# Create Kphiphi\n",
        "X = X_train\n",
        "sigma_K = jnp.array(two_step_dict.get('optim_sgm_u'))\n",
        "# Create auxiliary functions per example. \n",
        "Kphiphis = [Kphiphi_Burgers_assembly( X[i*e:(i+1)*e] , k = 'Gaussian2D', k_param = sigma_K[i]) for i in range(m)]"
      ]
    },
    {
      "cell_type": "code",
      "execution_count": 7,
      "metadata": {},
      "outputs": [],
      "source": [
        "Rs = [jnp.diag(jnp.diag(Kphiphis[i])) for i in range(m)]"
      ]
    },
    {
      "cell_type": "markdown",
      "metadata": {},
      "source": [
        "Training data"
      ]
    },
    {
      "cell_type": "code",
      "execution_count": 8,
      "metadata": {},
      "outputs": [],
      "source": [
        "# First column in Gamma(S_N,S_N)\n",
        "X = X_train # N*m * 1\n",
        "\n",
        "# Second column in Gamma(S_N,S_N)\n",
        "U = u_train.reshape(e*m,1) # N*m * 1\n",
        "\n",
        "# f(X_N)\n",
        "f = u_t_train"
      ]
    },
    {
      "cell_type": "markdown",
      "metadata": {},
      "source": [
        "Initial guess: `Z_warm`"
      ]
    },
    {
      "cell_type": "code",
      "execution_count": 9,
      "metadata": {},
      "outputs": [],
      "source": [
        "# Load gradients from 2-step\n",
        "u_x_pred_train  = np.load('data/u_x_pred_train.npy')\n",
        "u_xx_pred_train = np.load('data/u_xx_pred_train.npy')\n",
        "# Build Z_warm\n",
        "Z_warm = np.hstack([u_x_pred_train.T.reshape(e*m,1),u_xx_pred_train.T.reshape(e*m,1)])\n",
        "Z_warm = Z_warm.T.flatten()"
      ]
    },
    {
      "cell_type": "code",
      "execution_count": 10,
      "metadata": {},
      "outputs": [],
      "source": [
        "alpha_K = 1e-7 # Nugget \n",
        "Kphiphis = [Kphiphis[i] + alpha_K*Rs[i] for i in range(m)] \n",
        "\n",
        "ZZ = jnp.hstack((U.reshape(-1,1),Z_warm.reshape(2,m*N).T))\n",
        "# Compute the RKHS norm of u of first iteration\n",
        "Z_0 = jnp.reshape(ZZ[e*0:e*(0+1),:].T,(e*3,1))  \n",
        "c = jnp.linalg.solve(Kphiphis[0],Z_0)\n",
        "rkhs_u_0 = jnp.reshape(jnp.dot(Z_0.T , c),())\n",
        "two_step_dict['rkhs_u'] = rkhs_u_0"
      ]
    },
    {
      "cell_type": "code",
      "execution_count": 11,
      "metadata": {},
      "outputs": [
        {
          "data": {
            "text/plain": [
              "Array(2.75471631e+08, dtype=float64)"
            ]
          },
          "execution_count": 11,
          "metadata": {},
          "output_type": "execute_result"
        }
      ],
      "source": [
        "rkhs_u_0"
      ]
    },
    {
      "attachments": {},
      "cell_type": "markdown",
      "metadata": {},
      "source": [
        "Create objective function `L`"
      ]
    },
    {
      "cell_type": "code",
      "execution_count": 12,
      "metadata": {
        "id": "h_NGuiAznk27"
      },
      "outputs": [],
      "source": [
        "def L(Z, X, U, f, Kphiphis, Rs, two_step_dict, lmbd):\n",
        "    \"\"\"Cost function for 1-step method.\n",
        "    \n",
        "    Args:\n",
        "        Z: Vector of optimization variables in the cost function. 2*m*N\n",
        "        X: List of mN points of dimension d.\n",
        "        U: List of mN values of functions u^(1),...u^(N).\n",
        "        f: List of mN values of functions u^(1),...u^(N).\n",
        "        R: Matrices that regularizes each Kphiphi.\n",
        "        two_step_dict: Dictionary with values from 2-step.\n",
        "        lmbd: Lagrange multiplier in the loss function. \n",
        "    Returns:\n",
        "        scalar: a cost of this solution.    \n",
        "    \"\"\" \n",
        "    m = 1\n",
        "    N = X.shape[0]\n",
        "    # Re-shape Z into a matrix\n",
        "    Z = Z.reshape(2,m*N).T\n",
        "    ### First term\n",
        "\n",
        "    # Build S_N\n",
        "    S1 = jnp.hstack([X,U])\n",
        "    S = jnp.hstack([S1,Z])\n",
        "\n",
        "    # Scaling S_N\n",
        "    scaler_s_train = MinMaxScaler()\n",
        "    S = scaler_s_train.fit_transform(S)\n",
        "    # Gamma(S_N,S_N) \n",
        "    optim_sgm_P = two_step_dict.get('optim_sgm_P')\n",
        "    Gamma = K(Gaussian, S, S, optim_sgm_P)\n",
        "    nugget_P = two_step_dict.get('nugget_P')\n",
        "    Gamma = Gamma + nugget_P*jnp.eye(jnp.size(Gamma,0)) \n",
        "    #print(\"cond(Gamma) = \", jnp.linalg.cond(Gamma)) # Condition number of Gamma\n",
        "\n",
        "    # (Gamma(S_N,S_N) + alpha_Gamma*I)^-1 * f\n",
        "    b = jnp.linalg.solve(Gamma,f)\n",
        "\n",
        "    # First term\n",
        "    L1 = jnp.dot(f.T , b) / two_step_dict.get('rkhs_P')\n",
        "    print(\"L1(Z_warm) = \", L1)\n",
        "\n",
        "\n",
        "    ### Second term\n",
        "\n",
        "    L2 = 0.\n",
        "\n",
        "    alpha_K = 1e-7 # Nugget \n",
        "    #Kphiphis = [Kphiphis[i] + alpha_K*Rs[i] for i in range(m)] \n",
        "    print(\"cond(Kphiphi) = \", jnp.linalg.cond(Kphiphis[0])) # Condition number\n",
        "\n",
        "    \n",
        "    ZZ = jnp.hstack((U.reshape(-1,1),Z))\n",
        "    for i in range(m):\n",
        "        Z_i = jnp.reshape(ZZ[e*i:e*(i+1),:].T,(e*3,1)) \n",
        "        #print('Z_{}'.format(i),Z_i) \n",
        "        c = jnp.linalg.solve(Kphiphis[i],Z_i) \n",
        "        L2 += jnp.reshape(jnp.dot(Z_i.T , c),()) / two_step_dict.get('rkhs_u') # NORMALIZATION MIGHT NOT BE NEEDED HERE IN THE 1.5 STEP METHOD\n",
        "        print(two_step_dict.get('rkhs_u'))\n",
        "        print(\"L2_(Z_warm)_{} = \".format(i+1),jnp.reshape(jnp.dot(Z_i.T , c),()) / two_step_dict.get('rkhs_u'))\n",
        "    # Compute the total loss per epoch - It's going down !\n",
        "    # Compute the loss per function u epoch  \n",
        "    # Compute the total loss normalized per epoch\n",
        "    # Compute the loss per function u normalized per epoch\n",
        "\n",
        "    #print(\"L2(Z_warm) = \",L2)\n",
        "\n",
        "    return L1 + lmbd*L2 # Return loss."
      ]
    },
    {
      "attachments": {},
      "cell_type": "markdown",
      "metadata": {
        "id": "zDReXRvPnk27"
      },
      "source": [
        "#### Training data and warm up"
      ]
    },
    {
      "cell_type": "code",
      "execution_count": 13,
      "metadata": {},
      "outputs": [
        {
          "name": "stdout",
          "output_type": "stream",
          "text": [
            "L1(Z_warm) =  1.0015193603089971\n",
            "cond(Kphiphi) =  3054866210.723728\n",
            "275471630.7552787\n",
            "L2_(Z_warm)_1 =  1.0\n"
          ]
        },
        {
          "data": {
            "text/plain": [
              "Array(2.00151936, dtype=float64)"
            ]
          },
          "execution_count": 13,
          "metadata": {},
          "output_type": "execute_result"
        }
      ],
      "source": [
        "L(Z_warm, X, U, f, Kphiphis, Rs, two_step_dict, lmbd = 1/m)"
      ]
    },
    {
      "cell_type": "code",
      "execution_count": 14,
      "metadata": {},
      "outputs": [],
      "source": [
        "lmbd_min = 1/m "
      ]
    },
    {
      "attachments": {},
      "cell_type": "markdown",
      "metadata": {},
      "source": [
        "#### LBFGS"
      ]
    },
    {
      "cell_type": "code",
      "execution_count": 15,
      "metadata": {},
      "outputs": [],
      "source": [
        "# Load the warm-up \n",
        "Z = np.copy(Z_warm) "
      ]
    },
    {
      "cell_type": "code",
      "execution_count": 16,
      "metadata": {},
      "outputs": [
        {
          "name": "stdout",
          "output_type": "stream",
          "text": [
            "L1(Z_warm) =  Traced<ConcreteArray(1.0015193603089971, dtype=float64)>with<JVPTrace(level=2/0)> with\n",
            "  primal = Array(1.00151936, dtype=float64)\n",
            "  tangent = Traced<ShapedArray(float64[])>with<JaxprTrace(level=1/0)> with\n",
            "    pval = (ShapedArray(float64[]), None)\n",
            "    recipe = JaxprEqnRecipe(eqn_id=<object object at 0x7fb0582471f0>, in_tracers=(Traced<ShapedArray(float64[]):JaxprTrace(level=1/0)>, Traced<ConcreteArray(180.91761304813213, dtype=float64):JaxprTrace(level=1/0)>), out_tracer_refs=[<weakref at 0x7fb0581922f0; to 'JaxprTracer' at 0x7fb058192430>], out_avals=[ShapedArray(float64[])], primitive=pjit, params={'jaxpr': { lambda ; a:f64[] b:f64[]. let c:f64[] = div a b in (c,) }, 'in_shardings': (UnspecifiedValue, UnspecifiedValue), 'out_shardings': (UnspecifiedValue,), 'resource_env': None, 'donated_invars': (False, False), 'name': 'true_divide', 'keep_unused': False, 'inline': True}, effects=set(), source_info=SourceInfo(traceback=<jaxlib.xla_extension.Traceback object at 0x7fb0581a0070>, name_stack=NameStack(stack=(Transform(name='jvp'),))))\n",
            "cond(Kphiphi) =  3054866210.723728\n",
            "275471630.7552787\n",
            "L2_(Z_warm)_1 =  Traced<ConcreteArray(1.0, dtype=float64)>with<JVPTrace(level=2/0)> with\n",
            "  primal = Array(1., dtype=float64)\n",
            "  tangent = Traced<ShapedArray(float64[])>with<JaxprTrace(level=1/0)> with\n",
            "    pval = (ShapedArray(float64[]), None)\n",
            "    recipe = JaxprEqnRecipe(eqn_id=<object object at 0x7fb0582479f0>, in_tracers=(Traced<ShapedArray(float64[]):JaxprTrace(level=1/0)>, Traced<ConcreteArray(275471630.7552787, dtype=float64):JaxprTrace(level=1/0)>), out_tracer_refs=[<weakref at 0x7fb0581ab740; to 'JaxprTracer' at 0x7fb0581ab6f0>], out_avals=[ShapedArray(float64[])], primitive=pjit, params={'jaxpr': { lambda ; a:f64[] b:f64[]. let c:f64[] = div a b in (c,) }, 'in_shardings': (UnspecifiedValue, UnspecifiedValue), 'out_shardings': (UnspecifiedValue,), 'resource_env': None, 'donated_invars': (False, False), 'name': 'true_divide', 'keep_unused': False, 'inline': True}, effects=set(), source_info=SourceInfo(traceback=<jaxlib.xla_extension.Traceback object at 0x7fb048702430>, name_stack=NameStack(stack=(Transform(name='jvp'),))))\n",
            "L1(Z_warm) =  Traced<ShapedArray(float64[])>with<JVPTrace(level=4/0)> with\n",
            "  primal = Traced<ShapedArray(float64[])>with<DynamicJaxprTrace(level=2/0)>\n",
            "  tangent = Traced<ShapedArray(float64[])>with<JaxprTrace(level=3/0)> with\n",
            "    pval = (ShapedArray(float64[]), None)\n",
            "    recipe = JaxprEqnRecipe(eqn_id=<object object at 0x7fb04872dda0>, in_tracers=(Traced<ShapedArray(float64[]):JaxprTrace(level=3/0)>, Traced<ConcreteArray(180.91761304813213, dtype=float64):JaxprTrace(level=3/0)>), out_tracer_refs=[<weakref at 0x7fb0487afec0; to 'JaxprTracer' at 0x7fb0487afe70>], out_avals=[ShapedArray(float64[])], primitive=pjit, params={'jaxpr': { lambda ; a:f64[] b:f64[]. let c:f64[] = div a b in (c,) }, 'in_shardings': (UnspecifiedValue, UnspecifiedValue), 'out_shardings': (UnspecifiedValue,), 'resource_env': None, 'donated_invars': (False, False), 'name': 'true_divide', 'keep_unused': False, 'inline': True}, effects=set(), source_info=SourceInfo(traceback=<jaxlib.xla_extension.Traceback object at 0x7fb0487c6bb0>, name_stack=NameStack(stack=(Transform(name='jvp'),))))\n",
            "cond(Kphiphi) =  Traced<ShapedArray(float64[])>with<DynamicJaxprTrace(level=2/0)>\n",
            "275471630.7552787\n",
            "L2_(Z_warm)_1 =  Traced<ShapedArray(float64[])>with<JVPTrace(level=4/0)> with\n",
            "  primal = Traced<ShapedArray(float64[])>with<DynamicJaxprTrace(level=2/0)>\n",
            "  tangent = Traced<ShapedArray(float64[])>with<JaxprTrace(level=3/0)> with\n",
            "    pval = (ShapedArray(float64[]), None)\n",
            "    recipe = JaxprEqnRecipe(eqn_id=<object object at 0x7fb04872e280>, in_tracers=(Traced<ShapedArray(float64[]):JaxprTrace(level=3/0)>, Traced<ConcreteArray(275471630.7552787, dtype=float64):JaxprTrace(level=3/0)>), out_tracer_refs=[<weakref at 0x7fb0487be660; to 'JaxprTracer' at 0x7fb0487be610>], out_avals=[ShapedArray(float64[])], primitive=pjit, params={'jaxpr': { lambda ; a:f64[] b:f64[]. let c:f64[] = div a b in (c,) }, 'in_shardings': (UnspecifiedValue, UnspecifiedValue), 'out_shardings': (UnspecifiedValue,), 'resource_env': None, 'donated_invars': (False, False), 'name': 'true_divide', 'keep_unused': False, 'inline': True}, effects=set(), source_info=SourceInfo(traceback=<jaxlib.xla_extension.Traceback object at 0x7fb0487ca1f0>, name_stack=NameStack(stack=(Transform(name='jvp'),))))\n",
            "L1(Z_warm) =  Traced<ShapedArray(float64[])>with<JVPTrace(level=5/0)> with\n",
            "  primal = Traced<ShapedArray(float64[])>with<DynamicJaxprTrace(level=3/0)>\n",
            "  tangent = Traced<ShapedArray(float64[])>with<JaxprTrace(level=4/0)> with\n",
            "    pval = (ShapedArray(float64[]), None)\n",
            "    recipe = JaxprEqnRecipe(eqn_id=<object object at 0x7fb0485e85a0>, in_tracers=(Traced<ShapedArray(float64[]):JaxprTrace(level=4/0)>, Traced<ConcreteArray(180.91761304813213, dtype=float64):JaxprTrace(level=4/0)>), out_tracer_refs=[<weakref at 0x7fb0485ee520; to 'JaxprTracer' at 0x7fb0485ee4d0>], out_avals=[ShapedArray(float64[])], primitive=pjit, params={'jaxpr': { lambda ; a:f64[] b:f64[]. let c:f64[] = div a b in (c,) }, 'in_shardings': (UnspecifiedValue, UnspecifiedValue), 'out_shardings': (UnspecifiedValue,), 'resource_env': None, 'donated_invars': (False, False), 'name': 'true_divide', 'keep_unused': False, 'inline': True}, effects=set(), source_info=SourceInfo(traceback=<jaxlib.xla_extension.Traceback object at 0x7fb0485d7630>, name_stack=NameStack(stack=(Transform(name='jvp'),))))\n",
            "cond(Kphiphi) =  Traced<ShapedArray(float64[])>with<DynamicJaxprTrace(level=3/0)>\n",
            "275471630.7552787\n",
            "L2_(Z_warm)_1 =  Traced<ShapedArray(float64[])>with<JVPTrace(level=5/0)> with\n",
            "  primal = Traced<ShapedArray(float64[])>with<DynamicJaxprTrace(level=3/0)>\n",
            "  tangent = Traced<ShapedArray(float64[])>with<JaxprTrace(level=4/0)> with\n",
            "    pval = (ShapedArray(float64[]), None)\n",
            "    recipe = JaxprEqnRecipe(eqn_id=<object object at 0x7fb0485e8a80>, in_tracers=(Traced<ShapedArray(float64[]):JaxprTrace(level=4/0)>, Traced<ConcreteArray(275471630.7552787, dtype=float64):JaxprTrace(level=4/0)>), out_tracer_refs=[<weakref at 0x7fb0485f8e00; to 'JaxprTracer' at 0x7fb0485f8db0>], out_avals=[ShapedArray(float64[])], primitive=pjit, params={'jaxpr': { lambda ; a:f64[] b:f64[]. let c:f64[] = div a b in (c,) }, 'in_shardings': (UnspecifiedValue, UnspecifiedValue), 'out_shardings': (UnspecifiedValue,), 'resource_env': None, 'donated_invars': (False, False), 'name': 'true_divide', 'keep_unused': False, 'inline': True}, effects=set(), source_info=SourceInfo(traceback=<jaxlib.xla_extension.Traceback object at 0x7fb0485f38b0>, name_stack=NameStack(stack=(Transform(name='jvp'),))))\n",
            "L1(Z_warm) =  Traced<ShapedArray(float64[])>with<JVPTrace(level=5/0)> with\n",
            "  primal = Traced<ShapedArray(float64[])>with<DynamicJaxprTrace(level=3/0)>\n",
            "  tangent = Traced<ShapedArray(float64[])>with<JaxprTrace(level=4/0)> with\n",
            "    pval = (ShapedArray(float64[]), None)\n",
            "    recipe = JaxprEqnRecipe(eqn_id=<object object at 0x7fb0485e8b70>, in_tracers=(Traced<ShapedArray(float64[]):JaxprTrace(level=4/0)>, Traced<ConcreteArray(180.91761304813213, dtype=float64):JaxprTrace(level=4/0)>), out_tracer_refs=[<weakref at 0x7fb0485ec810; to 'JaxprTracer' at 0x7fb0485edee0>], out_avals=[ShapedArray(float64[])], primitive=pjit, params={'jaxpr': { lambda ; a:f64[] b:f64[]. let c:f64[] = div a b in (c,) }, 'in_shardings': (UnspecifiedValue, UnspecifiedValue), 'out_shardings': (UnspecifiedValue,), 'resource_env': None, 'donated_invars': (False, False), 'name': 'true_divide', 'keep_unused': False, 'inline': True}, effects=set(), source_info=SourceInfo(traceback=<jaxlib.xla_extension.Traceback object at 0x7fb04864d4b0>, name_stack=NameStack(stack=(Transform(name='jvp'),))))\n",
            "cond(Kphiphi) =  Traced<ShapedArray(float64[])>with<DynamicJaxprTrace(level=3/0)>\n",
            "275471630.7552787\n",
            "L2_(Z_warm)_1 =  Traced<ShapedArray(float64[])>with<JVPTrace(level=5/0)> with\n",
            "  primal = Traced<ShapedArray(float64[])>with<DynamicJaxprTrace(level=3/0)>\n",
            "  tangent = Traced<ShapedArray(float64[])>with<JaxprTrace(level=4/0)> with\n",
            "    pval = (ShapedArray(float64[]), None)\n",
            "    recipe = JaxprEqnRecipe(eqn_id=<object object at 0x7fb0485e8d70>, in_tracers=(Traced<ShapedArray(float64[]):JaxprTrace(level=4/0)>, Traced<ConcreteArray(275471630.7552787, dtype=float64):JaxprTrace(level=4/0)>), out_tracer_refs=[<weakref at 0x7fb0485fa930; to 'JaxprTracer' at 0x7fb0485fa8e0>], out_avals=[ShapedArray(float64[])], primitive=pjit, params={'jaxpr': { lambda ; a:f64[] b:f64[]. let c:f64[] = div a b in (c,) }, 'in_shardings': (UnspecifiedValue, UnspecifiedValue), 'out_shardings': (UnspecifiedValue,), 'resource_env': None, 'donated_invars': (False, False), 'name': 'true_divide', 'keep_unused': False, 'inline': True}, effects=set(), source_info=SourceInfo(traceback=<jaxlib.xla_extension.Traceback object at 0x7fb0486553b0>, name_stack=NameStack(stack=(Transform(name='jvp'),))))\n"
          ]
        }
      ],
      "source": [
        "result = minimize(L, Z, args=(X, U, f, Kphiphis, Rs, two_step_dict, 1/m), method= 'BFGS')"
      ]
    },
    {
      "cell_type": "code",
      "execution_count": 17,
      "metadata": {},
      "outputs": [],
      "source": [
        "Z = result.x.reshape(2,m*N).T"
      ]
    },
    {
      "attachments": {},
      "cell_type": "markdown",
      "metadata": {},
      "source": [
        "#### Evaluation of `Z`"
      ]
    },
    {
      "cell_type": "code",
      "execution_count": 18,
      "metadata": {},
      "outputs": [],
      "source": [
        "# Load true gradients from 2-step\n",
        "u_x_train = np.load('data/u_x_train.npy')\n",
        "u_xx_train = np.load('data/u_xx_train.npy')\n",
        "# Build true Z\n",
        "Z_true = np.hstack([u_x_train.T.reshape(e*m,1),u_xx_train.T.reshape(e*m,1)])"
      ]
    },
    {
      "cell_type": "markdown",
      "metadata": {},
      "source": [
        "#### Predictions of P"
      ]
    },
    {
      "cell_type": "markdown",
      "metadata": {},
      "source": [
        "Recall on the Representer formula\n",
        "\n",
        "$$\n",
        "P^*(\\cdot) = \\Gamma(\\cdot,S_N) \\Gamma(S_N,S_N)^{-1} f(X_N)\n",
        "$$"
      ]
    },
    {
      "cell_type": "code",
      "execution_count": 19,
      "metadata": {},
      "outputs": [],
      "source": [
        "# Build S_N - Training data\n",
        "S1 = jnp.hstack([X_train,U])\n",
        "S = jnp.hstack([S1,Z])\n",
        "# Load gradients from 2-step\n",
        "u_x_pred_test  = np.load('data/u_x_pred_test.npy')\n",
        "u_xx_pred_test = np.load('data/u_xx_pred_test.npy')\n",
        "s_test = np.hstack((X_test,u_test.T.reshape(-1,1),u_x_pred_test.T.reshape(-1,1),u_xx_pred_test.T.reshape(-1,1)))  # 30 * 4\n",
        "f_train = u_t_train\n",
        "f_test = u_t_test\n",
        "scaler_s_train = MinMaxScaler()\n",
        "s_train_s = scaler_s_train.fit_transform(S)\n",
        "s_test_s = scaler_s_train.transform(s_test)\n",
        "\n",
        "optim_sgm_P, optim_nugget_P = grid_search_RBF(s_train_s,f_train)\n",
        "\n",
        "krr_optimal_P = KernelRidge(kernel='rbf', alpha = two_step_dict.get('optim_nugget_P'), gamma=1/(2*(two_step_dict.get('optim_sgm_P')**2))) \n",
        "krr_optimal_P.fit(s_train_s, f_train) \n",
        "f_pred_train = krr_optimal_P.predict(s_train_s) \n",
        "f_pred_test = krr_optimal_P.predict(s_test_s)\n",
        "f_train2 = -S[:,2]*S[:,3] + 0.1*S[:,4]"
      ]
    },
    {
      "cell_type": "code",
      "execution_count": 20,
      "metadata": {},
      "outputs": [
        {
          "data": {
            "image/png": "[encoded data removed]",
            "text/plain": [
              "<Figure size 600x300 with 4 Axes>"
            ]
          },
          "metadata": {},
          "output_type": "display_data"
        }
      ],
      "source": [
        "# Interpolant P^* at training points : P^*(hat S) vs. P(hat S)\n",
        "fig, (ax1, ax2) = plt.subplots(nrows = 1, ncols=2 ,sharey= True, figsize = (6,3),constrained_layout=True)\n",
        "n_mse = mean_squared_error(f_pred_train, f_train2)/mean_squared_error(f_pred_train*0, f_train2)\n",
        "# u_t_train2 should be the estimation at the predicted input using the training collocation points and use the algebraic relation between the estimated gradients. \n",
        "fig.suptitle('2-step method: Second step | Relative MSE: {}'.format(round(n_mse,15)))\n",
        "ax1plot = ax1.tricontourf(S[:,0], S[:,1], f_pred_train, levels = np.arange(-0.6,0.75,0.05))\n",
        "plt.colorbar(ax1plot, ax=ax1)\n",
        "ax1.set_title('f_pred_train')\n",
        "ax2plot = ax2.tricontourf(S[:,0], S[:,1], f_train2)\n",
        "plt.colorbar(ax2plot, ax=ax2)\n",
        "ax2.set_title('f_true_train')\n",
        "plt.show()"
      ]
    }
  ],
  "metadata": {
    "colab": {
      "provenance": []
    },
    "kernelspec": {
      "display_name": "base",
      "language": "python",
      "name": "python3"
    },
    "language_info": {
      "codemirror_mode": {
        "name": "ipython",
        "version": 3
      },
      "file_extension": ".py",
      "mimetype": "text/x-python",
      "name": "python",
      "nbconvert_exporter": "python",
      "pygments_lexer": "ipython3",
      "version": "3.11.3"
    },
    "vscode": {
      "interpreter": {
        "hash": "9f30f608a882a0e3e1ee7bdaf111a2fb524766c624535f9d75a6d8e97b170942"
      }
    }
  },
  "nbformat": 4,
  "nbformat_minor": 0
}
