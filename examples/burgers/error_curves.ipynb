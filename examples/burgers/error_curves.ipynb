{
 "cells": [
  {
   "cell_type": "code",
   "execution_count": 1,
   "metadata": {},
   "outputs": [],
   "source": [
    "# jax\n",
    "import jax\n",
    "# jax.config.update(\"jax_default_device\",jax.devices()[1])\n",
    "jax.config.update(\"jax_enable_x64\", True)\n",
    "import jax.numpy as jnp\n",
    "from jax import jit,grad,jacfwd,jacrev,vmap\n",
    "from jax.random import PRNGKey as pkey\n",
    "from jax.scipy.linalg import solve\n",
    "# Other libraries\n",
    "import numpy as np\n",
    "import matplotlib.pyplot as plt\n",
    "from tqdm.auto import tqdm\n",
    "plt.style.use(\"ggplot\")\n",
    "from importlib import reload\n",
    "from functools import partial\n",
    "\n",
    "# Our libraries\n",
    "import KernelTools\n",
    "reload(KernelTools)\n",
    "from KernelTools import *\n",
    "from EquationModel import (OperatorModel, OperatorPDEModel,CholInducedRKHS,\n",
    "                            CholOperatorModel)\n",
    "import plotting\n",
    "reload(plotting)\n",
    "from plotting import (plot_obs,plot_compare_error,\n",
    "                      plot_input_data,plot_compare_error,\n",
    "                      plot_obs_parabolic, plot_init_final_parabolic)\n",
    "\n",
    "from evaluation_metrics import get_nrmse,table_u_errors\n",
    "from data_utils import (\n",
    "    get_xy_grid_pairs, # changed - could live in parabolic_data_utils ?\n",
    "    build_xy_grid,\n",
    "    sample_xy_grid_latin,\n",
    "    build_input_observations,\n",
    "    build_u_obs_single,\n",
    "    build_u_obs_all,\n",
    "    sample_multiple_xy_grids_latin\n",
    ")\n",
    "\n",
    "from parabolic_data_utils import (\n",
    "    build_burgers_data,build_tx_grid,\n",
    "    build_tx_grid_chebyshev,setup_problem_data,\n",
    "    GP_Sampler_1D_Pinned\n",
    ")\n",
    "\n",
    "from Kernels import (\n",
    "    get_gaussianRBF,\n",
    "    get_centered_scaled_poly_kernel,\n",
    "    fit_kernel_params,log1pexp,\n",
    "    inv_log1pexp,get_anisotropic_gaussianRBF\n",
    ")"
   ]
  },
  {
   "cell_type": "code",
   "execution_count": 2,
   "metadata": {},
   "outputs": [],
   "source": [
    "def run_exp_opt_err(alpha,n_obs,run):\n",
    "\n",
    "    # Sample m training functions as initial conditions from a GP\n",
    "    m = 1\n",
    "    kernel_GP = get_gaussianRBF(0.2)\n",
    "    xy_pts = jnp.linspace(0,1,50) # Pts to build interpolants\n",
    "    u0_true_functions = tuple(GP_Sampler_1D_Pinned(num_samples = m,\n",
    "                                            X = xy_pts, \n",
    "                                            smooth = alpha,\n",
    "                                            kernel = kernel_GP,\n",
    "                                            reg = 1e-8,\n",
    "                                            seed = 2024\n",
    "                                        )\n",
    "                            )\n",
    "\n",
    "    vec_u0_true_functions = tuple([np.vectorize(u) for u in u0_true_functions])\n",
    "    vmapped_u0_true_functions = tuple([jax.vmap(u) for u in u0_true_functions])\n",
    "    # Solve m Burgers' equations with IC's: u0_true_functions \n",
    "    # kappa = 0.001\n",
    "    # alpha = 5.\n",
    "    kappa = 0.01\n",
    "    alpha = 1.\n",
    "\n",
    "    u_true_functions = []\n",
    "    ut_true_functions = []\n",
    "    interpolants = []\n",
    "    t_vals_s = []\n",
    "    sols_s = []\n",
    "\n",
    "    for u0_true_function in vec_u0_true_functions:\n",
    "        res = list(build_burgers_data(func_u0=u0_true_function,\n",
    "                        kappa = kappa,\n",
    "                        alpha = alpha,\n",
    "                        k_timestep=0.0001,\n",
    "                        n_finite_diff=1999))\n",
    "    u_true_functions.append(res[0])\n",
    "    ut_true_functions.append(res[1])\n",
    "    interpolants.append(res[2])\n",
    "    t_vals_s.append(res[3])\n",
    "    sols_s.append(res[4])\n",
    "\n",
    "    # Ghost Chebyshev grids\n",
    "    num_grid_x = 31\n",
    "    num_grid_t = 26\n",
    "    # num_grid_x = 7\n",
    "    # num_grid_t = 6\n",
    "\n",
    "    tx_ints , tx_bdys = [], []\n",
    "    for _ in range(m):\n",
    "        res = build_tx_grid_chebyshev([0,1],[0,1],\n",
    "                                num_grid_t,\n",
    "                                num_grid_x,\n",
    "                                alpha = 0.5)\n",
    "        tx_ints.append(res[0])\n",
    "        tx_bdys.append(res[1])\n",
    "\n",
    "    tx_ints = tuple(tx_ints)\n",
    "    tx_bdys = tuple(tx_bdys)\n",
    "    # Tuple of ghost grids\n",
    "    tx_all = tuple(jnp.vstack([tx_int,tx_bdy]) for tx_int,tx_bdy in zip(tx_ints,tx_bdys))\n",
    "\n",
    "\n",
    "    # List of number of observation points per u\n",
    "    num_obs = [n_obs]*m\n",
    "\n",
    "    # Get (X^m, u^m(X^m))\n",
    "    tx_obs = []\n",
    "    u_obs = []\n",
    "    for i, (tx_int,tx_bdy) in enumerate(zip(tx_ints,tx_bdys)):\n",
    "        _,tx_ob = setup_problem_data(\n",
    "            tx_int,\n",
    "            tx_bdy,\n",
    "            num_obs[i],\n",
    "            jax.random.PRNGKey(i),\n",
    "            times_to_observe = (0,)\n",
    "                )\n",
    "        tx_obs.append(tx_ob)\n",
    "\n",
    "    u_obs = tuple(u(tx_ob) for tx_ob,u in zip(tx_obs,u_true_functions))\n",
    "\n",
    "    # Define grid to plot\n",
    "    num_fine_grid = 300\n",
    "    initial_time = 0\n",
    "    final_time = 1\n",
    "    t_fine,x_fine = jnp.meshgrid(jnp.linspace(initial_time,final_time,num_fine_grid),jnp.linspace(0,1,num_fine_grid))\n",
    "    tx_fine = jnp.vstack([t_fine.flatten(),x_fine.flatten()]).T\n",
    "\n",
    "    # Plot initial and final conditions\n",
    "    num_fine_grid = 500\n",
    "    grid_points = jnp.linspace(0,1,num_fine_grid)\n",
    "\n",
    "    # Features of u and P\n",
    "    u_operators = (eval_k,) # This enforces 1_5 step method\n",
    "    feature_operators = (eval_k,dx_k,dxx_k)\n",
    "\n",
    "\n",
    "    # Fit parameters of kernel for u\n",
    "    def param_ani_gaussian_RBF(x,y,params):\n",
    "        lengthscales = log1pexp(params)\n",
    "        return get_anisotropic_gaussianRBF(1.,jnp.diag(lengthscales))(x,y)\n",
    "\n",
    "    fitted_params_s = []\n",
    "    ml_value_s = []\n",
    "    k_u_s = []\n",
    "    for i in range(m):\n",
    "        res = fit_kernel_params(param_ani_gaussian_RBF,tx_obs[i],u_obs[i],jnp.zeros(2))\n",
    "        ML_lengthscales = log1pexp(res[0])\n",
    "        k_u_s.append(get_anisotropic_gaussianRBF(1.,jnp.diag(log1pexp(res[0]))))\n",
    "        #print(1/(jnp.sqrt(ML_lengthscales)))\n",
    "\n",
    "    u_models = tuple([CholInducedRKHS(\n",
    "        tx_all[i],\n",
    "        u_operators,\n",
    "        k_u_s[i]\n",
    "        ) for i in range(m)])\n",
    "    \n",
    "\n",
    "    # Get necessary tuples\n",
    "    observation_points = tuple(tx_obs)\n",
    "    observation_values = tuple(u_obs)\n",
    "    collocation_points = tx_ints\n",
    "\n",
    "    all_u_params_init = tuple([\n",
    "        model.get_fitted_params(obs_loc,obs_val)\n",
    "        for obs_loc,obs_val,model in zip(observation_points,observation_values,u_models)])\n",
    "\n",
    "    grid_features_u_init = jnp.vstack([(\n",
    "        model.evaluate_operators(feature_operators,tx_int,model_params)).reshape(\n",
    "                len(tx_int),\n",
    "                len(feature_operators),\n",
    "                order = 'F'\n",
    "            ) for tx_int,model,model_params in zip(tx_ints,u_models,all_u_params_init)])\n",
    "\n",
    "    k_P_u_part = get_centered_scaled_poly_kernel(2,grid_features_u_init,c=1.,scaling = 'diagonal')\n",
    "\n",
    "    @vectorize_kfunc\n",
    "    def k_P(x,y):\n",
    "        return k_P_u_part(x[2:],y[2:])\n",
    "\n",
    "    P_model = OperatorModel(k_P)\n",
    "\n",
    "    EqnModel  = OperatorPDEModel(\n",
    "        P_model,\n",
    "        u_models,\n",
    "        observation_points,\n",
    "        observation_values,\n",
    "        collocation_points,\n",
    "        feature_operators,\n",
    "        rhs_operator=dt_k,\n",
    "        datafit_weight = 5.,\n",
    "        )\n",
    "\n",
    "    import LM_Solve\n",
    "    import importlib\n",
    "    importlib.reload(LM_Solve)\n",
    "    from LM_Solve import LevenbergMarquadtMinimize,adaptive_refine_solution\n",
    "    params_init = jnp.hstack(list(all_u_params_init)+[jnp.zeros(m*len(tx_ints[0]))])\n",
    "\n",
    "    params,convergence_data = LevenbergMarquadtMinimize(\n",
    "        params_init.copy(),\n",
    "        EqnModel,\n",
    "        beta = 1e-11,\n",
    "        max_iter = 501,\n",
    "        init_alpha=0.1,\n",
    "        line_search_increase_ratio=1.4,\n",
    "        print_every = 100\n",
    "    )\n",
    "    p_adjusted,refine_convergence_data = adaptive_refine_solution(params,EqnModel,1e-3,500)\n",
    "\n",
    "    equation_residuals = EqnModel.equation_residual(params)\n",
    "    equation_residuals_refined = EqnModel.equation_residual(p_adjusted)\n",
    "\n",
    "    u_sols = EqnModel.get_u_params(p_adjusted)\n",
    "    P_sol = EqnModel.get_P_params(p_adjusted)\n",
    "\n",
    "    u_sols = EqnModel.get_u_params(params)\n",
    "    P_sol = EqnModel.get_P_params(params)\n",
    "\n",
    "\n",
    "\n",
    "    #### Operator learning error : 1.5 step method\n",
    "    # Sample m u0 new functions from a GP\n",
    "    M = 15\n",
    "    kernel_GP = get_gaussianRBF(0.2)\n",
    "    xy_pts = jnp.linspace(0,1,50) # Pts to build interpolants\n",
    "    u0_new_true_functions = tuple(GP_Sampler_1D_Pinned(num_samples = M,\n",
    "                                            X = xy_pts, \n",
    "                                            smooth= alpha,\n",
    "                                            kernel = kernel_GP,\n",
    "                                            reg = 1e-8,\n",
    "                                            seed = run\n",
    "                                        )\n",
    "                            )\n",
    "\n",
    "    vec_u0_new_true_functions = tuple([np.vectorize(u) for u in u0_new_true_functions])\n",
    "    vmapped_u0_new_true_functions = tuple([jax.vmap(u) for u in u0_new_true_functions])\n",
    "    # Solve m Burgers' equations with IC's: u0_true_functions \n",
    "    # kappa = 0.001\n",
    "    # alpha = 5.\n",
    "    kappa = 0.01\n",
    "    alpha = 1.\n",
    "\n",
    "    u_new_true_functions = []\n",
    "    ut_new_true_functions = []\n",
    "    interpolants_new = []\n",
    "    t_vals_s_new = []\n",
    "    sols_s_new = []\n",
    "\n",
    "    for u0_new_true_function in vec_u0_new_true_functions:\n",
    "        res = list(build_burgers_data(func_u0=u0_new_true_function,\n",
    "                        kappa = kappa,\n",
    "                        alpha = alpha,\n",
    "                        k_timestep=0.0001,\n",
    "                        n_finite_diff=1999))\n",
    "        u_new_true_functions.append(res[0])\n",
    "        ut_new_true_functions.append(res[1])\n",
    "        interpolants_new.append(res[2])\n",
    "        t_vals_s_new.append(res[3])\n",
    "        sols_s_new.append(res[4])\n",
    "\n",
    "    # Colocation points for learning u\n",
    "    num_grid_x = 31\n",
    "    num_grid_t = 26\n",
    "    tx_int,tx_bdy = build_tx_grid_chebyshev([0,1],[0,1],num_grid_t,num_grid_x,alpha = 0.5)\n",
    "\n",
    "    tx_all,_ = setup_problem_data(\n",
    "        tx_int,\n",
    "        tx_bdy,\n",
    "        60,\n",
    "        jax.random.PRNGKey(55),\n",
    "        times_to_observe = (0,)\n",
    "    )\n",
    "\n",
    "    new_u_eval_fines = []\n",
    "    for i in range(M):\n",
    "        model_grid_features = EqnModel.get_stacked_eqn_features(u_sols)\n",
    "        @jit\n",
    "        def get_pred_ut(input_features):\n",
    "            return P_model.kernel_function(input_features,model_grid_features)@P_sol\n",
    "\n",
    "        tx_init_bdy = jnp.vstack([tx_int[tx_int[:,0]==0],tx_bdy])\n",
    "\n",
    "        new_obs = u_new_true_functions[i](tx_init_bdy)    \n",
    "\n",
    "        tx_all_ = tx_all[0]\n",
    "\n",
    "        # Object to capture learned solution : Fixing the first ?\n",
    "        u_model = CholInducedRKHS(tx_all,\n",
    "                                    feature_operators,\n",
    "                                    k_u_s[0]\n",
    "                                    )\n",
    "\n",
    "        class PdeModel():\n",
    "            datafit_weight = 50.\n",
    "            @jit\n",
    "            def get_grid_features(u_params):\n",
    "                evaluation = u_model.evaluate_operators(feature_operators,tx_int,u_params)\n",
    "                grid_features = evaluation.reshape(len(tx_int),len(feature_operators),order = 'F')\n",
    "                return jnp.hstack([tx_int,grid_features])\n",
    "            \n",
    "            @jit\n",
    "            def get_grid_target(u_params):\n",
    "                return u_model.evaluate_operators((dt_k,),tx_int,u_params)\n",
    "            \n",
    "            @jit\n",
    "            def eval_obs_points(u_params):\n",
    "                return u_model.point_evaluate(tx_init_bdy,u_params)\n",
    "            \n",
    "            @jit\n",
    "            def datafit_residual(u_params):\n",
    "                obs_preds = PdeModel.eval_obs_points(u_params)\n",
    "                return new_obs - obs_preds\n",
    "            \n",
    "            @jit\n",
    "            def equation_residual(u_params):\n",
    "                P_features = PdeModel.get_grid_features(u_params)\n",
    "                P_model_preds = get_pred_ut(P_features)\n",
    "                ugrid_target = PdeModel.get_grid_target(u_params)\n",
    "                return (ugrid_target - P_model_preds)\n",
    "            \n",
    "            @jit\n",
    "            def F(u_params):\n",
    "                eqn_res = PdeModel.equation_residual(u_params)\n",
    "                data_res = PdeModel.datafit_residual(u_params)\n",
    "                return jnp.hstack([\n",
    "                    PdeModel.datafit_weight * data_res/jnp.sqrt(len(data_res)),\n",
    "                    eqn_res/jnp.sqrt(len(eqn_res))\n",
    "                    ])\n",
    "            \n",
    "            jac = jit(jacrev(F))\n",
    "\n",
    "            def loss(u_params):\n",
    "                return jnp.linalg.norm(PdeModel.F(u_params))**2\n",
    "            \n",
    "            @jit\n",
    "            def damping_matrix(u_params):\n",
    "                return u_model.kmat+1e-5 * diagpart(u_model.kmat)\n",
    "            \n",
    "\n",
    "        # OPTIMIZE\n",
    "        new_u_init = jnp.zeros(tx_all.shape[0]*len(feature_operators))\n",
    "\n",
    "        u_params_pde,pde_convergence_data = LevenbergMarquadtMinimize(\n",
    "            new_u_init.copy(),\n",
    "            PdeModel,\n",
    "            beta = 0.,\n",
    "            max_iter = 101,\n",
    "            init_alpha=0.05,\n",
    "            line_search_increase_ratio=1.4,\n",
    "            print_every = 10\n",
    "        )\n",
    "        u_pde_adj,pde_refine_conv_data = adaptive_refine_solution(u_params_pde,PdeModel,1e-1,150)\n",
    "\n",
    "        new_u_eval_fines.append(u_model.point_evaluate(tx_fine,u_pde_adj))\n",
    "\n",
    "    # True\n",
    "    new_u_true_eval_fines = [u(tx_fine) for u in u_new_true_functions]\n",
    "    # Pred\n",
    "    new_u_eval_fines = new_u_eval_fines\n",
    "\n",
    "    i_opt_1_5 = jnp.mean(jnp.array([get_nrmse(t,p) for t, p in zip(new_u_eval_fines,new_u_true_eval_fines)]))\n",
    "\n",
    "\n",
    "    #### Operator learning error : 2 step method\n",
    "\n",
    "    new_u_eval_fines_2step = []\n",
    "    for i in range(M):\n",
    "        model_grid_features = EqnModel.get_stacked_eqn_features(u_sols)\n",
    "\n",
    "        tx_init_bdy = jnp.vstack([tx_int[tx_int[:,0]==0],tx_bdy])\n",
    "\n",
    "        new_obs = u_new_true_functions[i](tx_init_bdy)    \n",
    "\n",
    "        tx_all_ = tx_all[0]\n",
    "\n",
    "        # Object to capture learned solution : Fixing the first ?\n",
    "        u_model = CholInducedRKHS(tx_all,\n",
    "                                    feature_operators,\n",
    "                                    k_u_s[0]\n",
    "                                    )\n",
    "\n",
    "        @jit\n",
    "        def get_pred_ut_2step(input_features):\n",
    "            init_P_features = EqnModel.get_stacked_eqn_features(all_u_params_init)\n",
    "            rhs_stacked = EqnModel.stacked_collocation_rhs\n",
    "            P_params_naive = P_model.fit_params(init_P_features,rhs_stacked,nugget = 1e-8)\n",
    "            return P_model.predict_new(input_features,init_P_features,P_params_naive)\n",
    "        \n",
    "\n",
    "        class PdeModel():\n",
    "            datafit_weight = 50.\n",
    "            @jit\n",
    "            def get_grid_features(u_params):\n",
    "                evaluation = u_model.evaluate_operators(feature_operators,tx_int,u_params)\n",
    "                grid_features = evaluation.reshape(len(tx_int),len(feature_operators),order = 'F')\n",
    "                return jnp.hstack([tx_int,grid_features])\n",
    "            \n",
    "            @jit\n",
    "            def get_grid_target(u_params):\n",
    "                return u_model.evaluate_operators((dt_k,),tx_int,u_params)\n",
    "            \n",
    "            @jit\n",
    "            def eval_obs_points(u_params):\n",
    "                return u_model.point_evaluate(tx_init_bdy,u_params)\n",
    "            \n",
    "            @jit\n",
    "            def datafit_residual(u_params):\n",
    "                obs_preds = PdeModel.eval_obs_points(u_params)\n",
    "                return new_obs - obs_preds\n",
    "            \n",
    "            @jit\n",
    "            def equation_residual(u_params):\n",
    "                P_features = PdeModel.get_grid_features(u_params)\n",
    "                P_model_preds = get_pred_ut_2step(P_features)\n",
    "                ugrid_target = PdeModel.get_grid_target(u_params)\n",
    "                return (ugrid_target - P_model_preds)\n",
    "            \n",
    "            @jit\n",
    "            def F(u_params):\n",
    "                eqn_res = PdeModel.equation_residual(u_params)\n",
    "                data_res = PdeModel.datafit_residual(u_params)\n",
    "                return jnp.hstack([\n",
    "                    PdeModel.datafit_weight * data_res/jnp.sqrt(len(data_res)),\n",
    "                    eqn_res/jnp.sqrt(len(eqn_res))\n",
    "                    ])\n",
    "            \n",
    "            jac = jit(jacrev(F))\n",
    "\n",
    "            def loss(u_params):\n",
    "                return jnp.linalg.norm(PdeModel.F(u_params))**2\n",
    "            \n",
    "            @jit\n",
    "            def damping_matrix(u_params):\n",
    "                return u_model.kmat+1e-5 * diagpart(u_model.kmat)\n",
    "            \n",
    "\n",
    "        # OPTIMIZE\n",
    "        new_u_init = jnp.zeros(tx_all.shape[0]*len(feature_operators))\n",
    "\n",
    "        u_params_pde,pde_convergence_data = LevenbergMarquadtMinimize(\n",
    "            new_u_init.copy(),\n",
    "            PdeModel,\n",
    "            beta = 0.,\n",
    "            max_iter = 101,\n",
    "            init_alpha=0.05,\n",
    "            line_search_increase_ratio=1.4,\n",
    "            print_every = 10\n",
    "        )\n",
    "        u_pde_adj,pde_refine_conv_data = adaptive_refine_solution(u_params_pde,PdeModel,1e-1,150)\n",
    "\n",
    "        new_u_eval_fines_2step.append(u_model.point_evaluate(tx_fine,u_pde_adj))\n",
    "    \n",
    "    # True\n",
    "    new_u_true_eval_fines = [u(tx_fine) for u in u_new_true_functions]\n",
    "    # Pred\n",
    "    new_u_eval_fines2step = new_u_eval_fines_2step\n",
    "\n",
    "    i_opt_2 = jnp.mean(jnp.array([get_nrmse(t,p) for t, p in zip(new_u_eval_fines_2step,new_u_true_eval_fines)]))\n",
    "\n",
    "    return i_opt_1_5, i_opt_2"
   ]
  },
  {
   "cell_type": "code",
   "execution_count": 3,
   "metadata": {},
   "outputs": [],
   "source": [
    "err = {\n",
    "    '1_5_mthd': [],\n",
    "    '2_mthd':   []\n",
    "}"
   ]
  },
  {
   "cell_type": "code",
   "execution_count": 4,
   "metadata": {},
   "outputs": [
    {
     "data": {
      "application/vnd.jupyter.widget-view+json": {
       "model_id": "7c65b7b976d04be8bd8e9c70725121b1",
       "version_major": 2,
       "version_minor": 0
      },
      "text/plain": [
       "  0%|          | 0/10099 [00:00<?, ?it/s]"
      ]
     },
     "metadata": {},
     "output_type": "display_data"
    },
    {
     "data": {
      "application/vnd.jupyter.widget-view+json": {
       "model_id": "255aa454053d427dae9d73d1f137ef20",
       "version_major": 2,
       "version_minor": 0
      },
      "text/plain": [
       "  0%|          | 0/501 [00:00<?, ?it/s]"
      ]
     },
     "metadata": {},
     "output_type": "display_data"
    },
    {
     "name": "stdout",
     "output_type": "stream",
     "text": [
      "Iteration 0, loss = 0.4439, Jres = 44.89, alpha = 0.08333, improvement_ratio = 0.9712\n",
      "Iteration 1, loss = 0.2334, Jres = 7.763, alpha = 0.06944, improvement_ratio = 1.006\n",
      "Iteration 2, loss = 0.1549, Jres = 2.457, alpha = 0.05787, improvement_ratio = 1.018\n",
      "Iteration 3, loss = 0.115, Jres = 1.103, alpha = 0.04823, improvement_ratio = 1.031\n",
      "Iteration 4, loss = 0.09098, Jres = 0.7302, alpha = 0.04019, improvement_ratio = 1.053\n",
      "Iteration 5, loss = 0.07271, Jres = 0.6387, alpha = 0.03349, improvement_ratio = 1.072\n",
      "Iteration 100, loss = 0.006384, Jres = 0.000123, alpha = 8.333e-07, improvement_ratio = 1.0\n",
      "Iteration 200, loss = 0.006171, Jres = 9.157e-06, alpha = 8.333e-07, improvement_ratio = 1.0\n",
      "Iteration 300, loss = 0.00606, Jres = 5.466e-06, alpha = 8.333e-07, improvement_ratio = 1.0\n",
      "Iteration 400, loss = 0.005981, Jres = 5.766e-06, alpha = 8.333e-07, improvement_ratio = 1.0\n",
      "Iteration 500, loss = 0.005919, Jres = 5.734e-06, alpha = 8.333e-07, improvement_ratio = 1.0\n"
     ]
    },
    {
     "data": {
      "application/vnd.jupyter.widget-view+json": {
       "model_id": "25c336a2248e4f0e80484db9727d591f",
       "version_major": 2,
       "version_minor": 0
      },
      "text/plain": [
       "  0%|          | 0/500 [00:00<?, ?it/s]"
      ]
     },
     "metadata": {},
     "output_type": "display_data"
    },
    {
     "name": "stdout",
     "output_type": "stream",
     "text": [
      "Iteration 0, loss = 0.005917640246862752\n",
      "Iteration 93 Step Failed\n",
      "Iteration 234 Step Failed\n",
      "Iteration 306 Step Failed\n",
      "Iteration 318 Step Failed\n",
      "Iteration 360 Step Failed\n",
      "Iteration 385 Step Failed\n",
      "Iteration 412 Step Failed\n",
      "Iteration 422 Step Failed\n",
      "Iteration 423 Step Failed\n",
      "Iteration 443 Step Failed\n",
      "Iteration 452 Step Failed\n",
      "Iteration 456 Step Failed\n",
      "Iteration 462 Step Failed\n",
      "Iteration 475 Step Failed\n",
      "Iteration 494 Step Failed\n",
      "Iteration 496 Step Failed\n",
      "Iteration 497 Step Failed\n",
      "Iteration 498 Step Failed\n",
      "Iteration 499 Step Failed\n"
     ]
    },
    {
     "data": {
      "application/vnd.jupyter.widget-view+json": {
       "model_id": "ffd69e407b9249298614b055d92c5b83",
       "version_major": 2,
       "version_minor": 0
      },
      "text/plain": [
       "  0%|          | 0/10099 [00:00<?, ?it/s]"
      ]
     },
     "metadata": {},
     "output_type": "display_data"
    },
    {
     "data": {
      "application/vnd.jupyter.widget-view+json": {
       "model_id": "12fb1b1bf4ba472ba7229c094e7621c6",
       "version_major": 2,
       "version_minor": 0
      },
      "text/plain": [
       "  0%|          | 0/10099 [00:00<?, ?it/s]"
      ]
     },
     "metadata": {},
     "output_type": "display_data"
    },
    {
     "data": {
      "application/vnd.jupyter.widget-view+json": {
       "model_id": "e9c5bb5b823f4732a2fc04903b70f86c",
       "version_major": 2,
       "version_minor": 0
      },
      "text/plain": [
       "  0%|          | 0/10099 [00:00<?, ?it/s]"
      ]
     },
     "metadata": {},
     "output_type": "display_data"
    },
    {
     "data": {
      "application/vnd.jupyter.widget-view+json": {
       "model_id": "508b3ebd432146cf8b6264e00d0efcb0",
       "version_major": 2,
       "version_minor": 0
      },
      "text/plain": [
       "  0%|          | 0/10099 [00:00<?, ?it/s]"
      ]
     },
     "metadata": {},
     "output_type": "display_data"
    },
    {
     "data": {
      "application/vnd.jupyter.widget-view+json": {
       "model_id": "25e03e202f33421b836795cd5ac09e08",
       "version_major": 2,
       "version_minor": 0
      },
      "text/plain": [
       "  0%|          | 0/10099 [00:00<?, ?it/s]"
      ]
     },
     "metadata": {},
     "output_type": "display_data"
    },
    {
     "data": {
      "application/vnd.jupyter.widget-view+json": {
       "model_id": "9b3e69ef34964b58980d3224484d6765",
       "version_major": 2,
       "version_minor": 0
      },
      "text/plain": [
       "  0%|          | 0/10099 [00:00<?, ?it/s]"
      ]
     },
     "metadata": {},
     "output_type": "display_data"
    },
    {
     "data": {
      "application/vnd.jupyter.widget-view+json": {
       "model_id": "f2111ba5c4ea490f8576020e70d8f346",
       "version_major": 2,
       "version_minor": 0
      },
      "text/plain": [
       "  0%|          | 0/10099 [00:00<?, ?it/s]"
      ]
     },
     "metadata": {},
     "output_type": "display_data"
    },
    {
     "data": {
      "application/vnd.jupyter.widget-view+json": {
       "model_id": "143d3acba9e04f94a801a2c6ab9425ad",
       "version_major": 2,
       "version_minor": 0
      },
      "text/plain": [
       "  0%|          | 0/10099 [00:00<?, ?it/s]"
      ]
     },
     "metadata": {},
     "output_type": "display_data"
    },
    {
     "data": {
      "application/vnd.jupyter.widget-view+json": {
       "model_id": "f980ade2fc7b4c5e934345f7d3ecbead",
       "version_major": 2,
       "version_minor": 0
      },
      "text/plain": [
       "  0%|          | 0/10099 [00:00<?, ?it/s]"
      ]
     },
     "metadata": {},
     "output_type": "display_data"
    },
    {
     "data": {
      "application/vnd.jupyter.widget-view+json": {
       "model_id": "70a56037ac114085b811aa8fcdedf766",
       "version_major": 2,
       "version_minor": 0
      },
      "text/plain": [
       "  0%|          | 0/10099 [00:00<?, ?it/s]"
      ]
     },
     "metadata": {},
     "output_type": "display_data"
    },
    {
     "data": {
      "application/vnd.jupyter.widget-view+json": {
       "model_id": "2c894ca6a4fd4a93a1ba06c128a2022c",
       "version_major": 2,
       "version_minor": 0
      },
      "text/plain": [
       "  0%|          | 0/10099 [00:00<?, ?it/s]"
      ]
     },
     "metadata": {},
     "output_type": "display_data"
    },
    {
     "data": {
      "application/vnd.jupyter.widget-view+json": {
       "model_id": "d4323b4f1f604845b0856963c1957fb1",
       "version_major": 2,
       "version_minor": 0
      },
      "text/plain": [
       "  0%|          | 0/10099 [00:00<?, ?it/s]"
      ]
     },
     "metadata": {},
     "output_type": "display_data"
    },
    {
     "data": {
      "application/vnd.jupyter.widget-view+json": {
       "model_id": "43c7df7c442c4501a8092ec0516a4ada",
       "version_major": 2,
       "version_minor": 0
      },
      "text/plain": [
       "  0%|          | 0/10099 [00:00<?, ?it/s]"
      ]
     },
     "metadata": {},
     "output_type": "display_data"
    },
    {
     "data": {
      "application/vnd.jupyter.widget-view+json": {
       "model_id": "73117b0cf04e46fd9342649a6a599b07",
       "version_major": 2,
       "version_minor": 0
      },
      "text/plain": [
       "  0%|          | 0/10099 [00:00<?, ?it/s]"
      ]
     },
     "metadata": {},
     "output_type": "display_data"
    },
    {
     "data": {
      "application/vnd.jupyter.widget-view+json": {
       "model_id": "32dc4f6f5a714ee6960411fe2c87fdd1",
       "version_major": 2,
       "version_minor": 0
      },
      "text/plain": [
       "  0%|          | 0/10099 [00:00<?, ?it/s]"
      ]
     },
     "metadata": {},
     "output_type": "display_data"
    },
    {
     "data": {
      "application/vnd.jupyter.widget-view+json": {
       "model_id": "075c7e48a1bc4632bf50251f3fe8484a",
       "version_major": 2,
       "version_minor": 0
      },
      "text/plain": [
       "  0%|          | 0/101 [00:00<?, ?it/s]"
      ]
     },
     "metadata": {},
     "output_type": "display_data"
    },
    {
     "name": "stdout",
     "output_type": "stream",
     "text": [
      "Iteration 0, loss = 1.638, Jres = 196.5, alpha = 0.04167, improvement_ratio = 0.9916\n",
      "Iteration 1, loss = 0.1715, Jres = 4.618, alpha = 0.03472, improvement_ratio = 0.9439\n",
      "Iteration 2, loss = 0.0991, Jres = 0.48, alpha = 0.03472, improvement_ratio = 0.73\n",
      "Iteration 3, loss = 0.09496, Jres = 0.3193, alpha = 0.1601, improvement_ratio = 0.1157\n",
      "Iteration 4, loss = 0.06491, Jres = 0.511, alpha = 0.1334, improvement_ratio = 0.9506\n",
      "Iteration 5, loss = 0.06318, Jres = 0.0481, alpha = 0.1112, improvement_ratio = 0.8806\n",
      "Iteration 10, loss = 0.05612, Jres = 0.003731, alpha = 0.04467, improvement_ratio = 1.003\n",
      "Iteration 20, loss = 0.0349, Jres = 0.001714, alpha = 0.007215, improvement_ratio = 1.007\n",
      "Iteration 30, loss = 0.02449, Jres = 0.0009828, alpha = 0.001165, improvement_ratio = 1.023\n",
      "Iteration 40, loss = 0.01896, Jres = 0.001302, alpha = 0.0001882, improvement_ratio = 1.004\n",
      "Iteration 50, loss = 0.01235, Jres = 0.002943, alpha = 3.039e-05, improvement_ratio = 1.001\n",
      "Iteration 60, loss = 0.007356, Jres = 0.01061, alpha = 8.482e-06, improvement_ratio = 1.005\n",
      "Iteration 70, loss = 0.004089, Jres = 0.00395, alpha = 1.37e-06, improvement_ratio = 0.9926\n",
      "Iteration 80, loss = 0.002974, Jres = 0.01809, alpha = 1.2e-06, improvement_ratio = 0.6264\n",
      "Iteration 90, loss = 0.00267, Jres = 0.0002059, alpha = 8.333e-07, improvement_ratio = 1.015\n",
      "Iteration 100, loss = 0.002472, Jres = 0.0008584, alpha = 8.333e-07, improvement_ratio = 1.068\n"
     ]
    },
    {
     "data": {
      "application/vnd.jupyter.widget-view+json": {
       "model_id": "5fe3b084e36342ac8d48542584d248d8",
       "version_major": 2,
       "version_minor": 0
      },
      "text/plain": [
       "  0%|          | 0/150 [00:00<?, ?it/s]"
      ]
     },
     "metadata": {},
     "output_type": "display_data"
    },
    {
     "name": "stdout",
     "output_type": "stream",
     "text": [
      "Iteration 0, loss = 0.004943795912096925\n",
      "Iteration 56 Step Failed\n",
      "Iteration 141 Step Failed\n",
      "Iteration 142 Step Failed\n"
     ]
    },
    {
     "data": {
      "application/vnd.jupyter.widget-view+json": {
       "model_id": "ed2f6a3aa3894ad3b2a817df05700cc9",
       "version_major": 2,
       "version_minor": 0
      },
      "text/plain": [
       "  0%|          | 0/101 [00:00<?, ?it/s]"
      ]
     },
     "metadata": {},
     "output_type": "display_data"
    },
    {
     "name": "stdout",
     "output_type": "stream",
     "text": [
      "Iteration 0, loss = 0.9929, Jres = 131.1, alpha = 0.04167, improvement_ratio = 0.9905\n",
      "Line Search Failed!\n",
      "Final Iteration Results\n",
      "Iteration 1, loss = 0.9241, Jres = 131.1, alpha = 41.83\n"
     ]
    },
    {
     "data": {
      "application/vnd.jupyter.widget-view+json": {
       "model_id": "2eca36d55433415e93d96c2474a3d792",
       "version_major": 2,
       "version_minor": 0
      },
      "text/plain": [
       "  0%|          | 0/150 [00:00<?, ?it/s]"
      ]
     },
     "metadata": {},
     "output_type": "display_data"
    },
    {
     "name": "stdout",
     "output_type": "stream",
     "text": [
      "Iteration 0, loss = 1.8481101847165988\n"
     ]
    },
    {
     "data": {
      "application/vnd.jupyter.widget-view+json": {
       "model_id": "bc8806022a364993861ff8c587189ee2",
       "version_major": 2,
       "version_minor": 0
      },
      "text/plain": [
       "  0%|          | 0/101 [00:00<?, ?it/s]"
      ]
     },
     "metadata": {},
     "output_type": "display_data"
    },
    {
     "name": "stdout",
     "output_type": "stream",
     "text": [
      "Iteration 0, loss = 1.382, Jres = 196.9, alpha = 0.04167, improvement_ratio = 0.9929\n",
      "Iteration 1, loss = 0.3254, Jres = 4.002, alpha = 0.04167, improvement_ratio = 0.7951\n",
      "Iteration 2, loss = 0.08829, Jres = 1.162, alpha = 0.03472, improvement_ratio = 0.8994\n",
      "Iteration 3, loss = 0.05924, Jres = 0.2867, alpha = 0.02894, improvement_ratio = 0.9815\n",
      "Iteration 4, loss = 0.05602, Jres = 0.03981, alpha = 0.02411, improvement_ratio = 0.9944\n",
      "Iteration 5, loss = 0.05372, Jres = 0.004382, alpha = 0.02009, improvement_ratio = 1.013\n",
      "Iteration 10, loss = 0.03946, Jres = 0.007485, alpha = 0.008075, improvement_ratio = 1.042\n",
      "Iteration 20, loss = 0.008441, Jres = 0.001015, alpha = 0.001304, improvement_ratio = 1.011\n",
      "Iteration 30, loss = 0.004875, Jres = 0.001816, alpha = 0.0002106, improvement_ratio = 1.005\n",
      "Iteration 40, loss = 0.003318, Jres = 0.001035, alpha = 3.402e-05, improvement_ratio = 1.023\n",
      "Iteration 50, loss = 0.002457, Jres = 0.00143, alpha = 5.494e-06, improvement_ratio = 0.9817\n",
      "Iteration 60, loss = 0.001796, Jres = 0.0016, alpha = 8.874e-07, improvement_ratio = 0.9464\n",
      "Iteration 70, loss = 0.00135, Jres = 0.0007123, alpha = 8.333e-07, improvement_ratio = 0.975\n",
      "Iteration 80, loss = 0.001228, Jres = 0.001819, alpha = 6.275e-06, improvement_ratio = 0.581\n",
      "Iteration 90, loss = 0.001208, Jres = 0.0009352, alpha = 1.435e-05, improvement_ratio = 0.4239\n",
      "Iteration 100, loss = 0.001037, Jres = 0.0004044, alpha = 3.015e-05, improvement_ratio = 0.2557\n"
     ]
    },
    {
     "data": {
      "application/vnd.jupyter.widget-view+json": {
       "model_id": "de2ad0b98f0f452fa5c0d68d4ab64c20",
       "version_major": 2,
       "version_minor": 0
      },
      "text/plain": [
       "  0%|          | 0/150 [00:00<?, ?it/s]"
      ]
     },
     "metadata": {},
     "output_type": "display_data"
    },
    {
     "name": "stdout",
     "output_type": "stream",
     "text": [
      "Iteration 0, loss = 0.0020740394349467017\n",
      "Iteration 94 Step Failed\n",
      "Iteration 95 Step Failed\n",
      "Iteration 104 Step Failed\n",
      "Iteration 105 Step Failed\n"
     ]
    },
    {
     "data": {
      "application/vnd.jupyter.widget-view+json": {
       "model_id": "5fe57788571d477aa5072ef05b056ab9",
       "version_major": 2,
       "version_minor": 0
      },
      "text/plain": [
       "  0%|          | 0/101 [00:00<?, ?it/s]"
      ]
     },
     "metadata": {},
     "output_type": "display_data"
    },
    {
     "name": "stdout",
     "output_type": "stream",
     "text": [
      "Iteration 0, loss = 0.2323, Jres = 119.7, alpha = 0.04167, improvement_ratio = 0.9969\n",
      "Iteration 1, loss = 0.05741, Jres = 1.008, alpha = 0.03472, improvement_ratio = 0.8024\n",
      "Iteration 2, loss = 0.01669, Jres = 0.3614, alpha = 0.02894, improvement_ratio = 0.968\n",
      "Iteration 3, loss = 0.01539, Jres = 0.03194, alpha = 0.02411, improvement_ratio = 1.035\n",
      "Iteration 4, loss = 0.01466, Jres = 0.006674, alpha = 0.02009, improvement_ratio = 1.462\n",
      "Iteration 5, loss = 0.01385, Jres = 0.009567, alpha = 0.01674, improvement_ratio = 1.382\n",
      "Iteration 10, loss = 0.01272, Jres = 0.000478, alpha = 0.006729, improvement_ratio = 1.001\n",
      "Iteration 20, loss = 0.01045, Jres = 0.0006097, alpha = 0.001087, improvement_ratio = 1.01\n",
      "Iteration 30, loss = 0.008854, Jres = 0.0003916, alpha = 0.0001755, improvement_ratio = 1.0\n",
      "Iteration 40, loss = 0.007556, Jres = 0.00185, alpha = 2.835e-05, improvement_ratio = 1.042\n",
      "Iteration 50, loss = 0.002117, Jres = 0.001576, alpha = 4.579e-06, improvement_ratio = 0.9702\n",
      "Iteration 60, loss = 0.001774, Jres = 0.0003613, alpha = 1.491e-06, improvement_ratio = 1.003\n",
      "Iteration 70, loss = 0.001499, Jres = 0.0003815, alpha = 8.333e-07, improvement_ratio = 0.9959\n",
      "Iteration 80, loss = 0.001354, Jres = 0.0001771, alpha = 8.333e-07, improvement_ratio = 0.9995\n",
      "Iteration 90, loss = 0.001263, Jres = 4.772e-05, alpha = 8.333e-07, improvement_ratio = 1.0\n",
      "Iteration 100, loss = 0.0012, Jres = 3.269e-05, alpha = 8.333e-07, improvement_ratio = 1.001\n"
     ]
    },
    {
     "data": {
      "application/vnd.jupyter.widget-view+json": {
       "model_id": "e408e1e8448d4eb28df800ce2c5db381",
       "version_major": 2,
       "version_minor": 0
      },
      "text/plain": [
       "  0%|          | 0/150 [00:00<?, ?it/s]"
      ]
     },
     "metadata": {},
     "output_type": "display_data"
    },
    {
     "name": "stdout",
     "output_type": "stream",
     "text": [
      "Iteration 0, loss = 0.002400421832310286\n",
      "Iteration 3 Step Failed\n",
      "Iteration 4 Step Failed\n",
      "Iteration 5 Step Failed\n",
      "Iteration 6 Step Failed\n",
      "Iteration 7 Step Failed\n",
      "Iteration 8 Step Failed\n",
      "Iteration 9 Step Failed\n",
      "Iteration 11 Step Failed\n",
      "Iteration 12 Step Failed\n",
      "Iteration 13 Step Failed\n",
      "Iteration 14 Step Failed\n",
      "Iteration 15 Step Failed\n",
      "Iteration 17 Step Failed\n",
      "Iteration 18 Step Failed\n",
      "Iteration 19 Step Failed\n",
      "Iteration 20 Step Failed\n",
      "Iteration 21 Step Failed\n",
      "Iteration 22 Step Failed\n",
      "Iteration 23 Step Failed\n",
      "Iteration 24 Step Failed\n",
      "Iteration 25 Step Failed\n",
      "Iteration 26 Step Failed\n",
      "Converged by no improvement\n"
     ]
    },
    {
     "data": {
      "application/vnd.jupyter.widget-view+json": {
       "model_id": "f1116aafedd94bd796c89d7629a5a353",
       "version_major": 2,
       "version_minor": 0
      },
      "text/plain": [
       "  0%|          | 0/101 [00:00<?, ?it/s]"
      ]
     },
     "metadata": {},
     "output_type": "display_data"
    },
    {
     "name": "stdout",
     "output_type": "stream",
     "text": [
      "Iteration 0, loss = 0.4817, Jres = 113.8, alpha = 0.04167, improvement_ratio = 0.9942\n",
      "Iteration 1, loss = 0.08398, Jres = 1.488, alpha = 0.03472, improvement_ratio = 0.9127\n",
      "Iteration 2, loss = 0.04427, Jres = 0.4646, alpha = 0.02894, improvement_ratio = 0.9898\n",
      "Iteration 3, loss = 0.04255, Jres = 0.03189, alpha = 0.02411, improvement_ratio = 1.018\n",
      "Iteration 4, loss = 0.04142, Jres = 0.002704, alpha = 0.02009, improvement_ratio = 1.013\n",
      "Iteration 5, loss = 0.04038, Jres = 0.001637, alpha = 0.01674, improvement_ratio = 1.01\n",
      "Iteration 10, loss = 0.03603, Jres = 0.001477, alpha = 0.006729, improvement_ratio = 1.012\n",
      "Iteration 20, loss = 0.02754, Jres = 0.006697, alpha = 0.001087, improvement_ratio = 1.089\n",
      "Iteration 30, loss = 0.006098, Jres = 0.005686, alpha = 0.0001755, improvement_ratio = 1.024\n",
      "Iteration 40, loss = 0.003204, Jres = 0.001526, alpha = 4.082e-05, improvement_ratio = 1.01\n",
      "Iteration 50, loss = 0.002393, Jres = 0.009832, alpha = 3.216e-05, improvement_ratio = 0.9704\n",
      "Iteration 60, loss = 0.001849, Jres = 0.005894, alpha = 7.478e-06, improvement_ratio = 0.3936\n",
      "Iteration 70, loss = 0.001662, Jres = 8.665e-06, alpha = 0.0002706, improvement_ratio = 1.0\n",
      "Iteration 80, loss = 0.001604, Jres = 3.123e-05, alpha = 4.37e-05, improvement_ratio = 0.9969\n",
      "Iteration 90, loss = 0.001451, Jres = 0.0001276, alpha = 7.057e-06, improvement_ratio = 1.001\n",
      "Iteration 100, loss = 0.00104, Jres = 0.001383, alpha = 1.14e-06, improvement_ratio = 0.9693\n"
     ]
    },
    {
     "data": {
      "application/vnd.jupyter.widget-view+json": {
       "model_id": "79d6414efb1446dda444fa82a2f770a6",
       "version_major": 2,
       "version_minor": 0
      },
      "text/plain": [
       "  0%|          | 0/150 [00:00<?, ?it/s]"
      ]
     },
     "metadata": {},
     "output_type": "display_data"
    },
    {
     "name": "stdout",
     "output_type": "stream",
     "text": [
      "Iteration 0, loss = 0.002080127197308497\n",
      "Iteration 64 Step Failed\n",
      "Iteration 65 Step Failed\n"
     ]
    },
    {
     "data": {
      "application/vnd.jupyter.widget-view+json": {
       "model_id": "4459a22314b145be8cb7c83b626e3522",
       "version_major": 2,
       "version_minor": 0
      },
      "text/plain": [
       "  0%|          | 0/101 [00:00<?, ?it/s]"
      ]
     },
     "metadata": {},
     "output_type": "display_data"
    },
    {
     "name": "stdout",
     "output_type": "stream",
     "text": [
      "Iteration 0, loss = 0.9443, Jres = 174.8, alpha = 0.04167, improvement_ratio = 0.9939\n",
      "Iteration 1, loss = 0.594, Jres = 2.88, alpha = 0.04167, improvement_ratio = 0.3794\n",
      "Iteration 2, loss = 0.03888, Jres = 2.475, alpha = 0.03472, improvement_ratio = 0.9735\n",
      "Iteration 3, loss = 0.02131, Jres = 0.2163, alpha = 0.02894, improvement_ratio = 0.9958\n",
      "Iteration 4, loss = 0.0204, Jres = 0.02406, alpha = 0.02411, improvement_ratio = 1.019\n",
      "Iteration 5, loss = 0.01983, Jres = 0.001658, alpha = 0.02009, improvement_ratio = 1.018\n",
      "Iteration 10, loss = 0.0171, Jres = 0.0009932, alpha = 0.008075, improvement_ratio = 1.011\n",
      "Iteration 20, loss = 0.01038, Jres = 0.002168, alpha = 0.001304, improvement_ratio = 1.029\n",
      "Iteration 30, loss = 0.00572, Jres = 0.001501, alpha = 0.0002106, improvement_ratio = 0.9553\n",
      "Iteration 40, loss = 0.003899, Jres = 0.001964, alpha = 3.402e-05, improvement_ratio = 0.9936\n",
      "Iteration 50, loss = 0.002797, Jres = 0.00233, alpha = 1.329e-05, improvement_ratio = 0.752\n",
      "Iteration 60, loss = 0.001918, Jres = 0.003042, alpha = 2.576e-06, improvement_ratio = 0.9064\n",
      "Iteration 70, loss = 0.001254, Jres = 0.001488, alpha = 8.333e-07, improvement_ratio = 0.973\n",
      "Iteration 80, loss = 0.001001, Jres = 0.0001815, alpha = 8.333e-07, improvement_ratio = 1.004\n",
      "Iteration 90, loss = 0.0008829, Jres = 0.0009802, alpha = 8.333e-07, improvement_ratio = 0.9428\n",
      "Iteration 100, loss = 0.0008, Jres = 0.0003265, alpha = 8.333e-07, improvement_ratio = 0.9981\n"
     ]
    },
    {
     "data": {
      "application/vnd.jupyter.widget-view+json": {
       "model_id": "390141db8e9f4bd69422047fa62478c3",
       "version_major": 2,
       "version_minor": 0
      },
      "text/plain": [
       "  0%|          | 0/150 [00:00<?, ?it/s]"
      ]
     },
     "metadata": {},
     "output_type": "display_data"
    },
    {
     "name": "stdout",
     "output_type": "stream",
     "text": [
      "Iteration 0, loss = 0.0015999736707505462\n",
      "Iteration 50 Step Failed\n",
      "Iteration 73 Step Failed\n",
      "Iteration 80 Step Failed\n",
      "Iteration 98 Step Failed\n",
      "Iteration 101 Step Failed\n",
      "Iteration 118 Step Failed\n",
      "Iteration 125 Step Failed\n",
      "Iteration 132 Step Failed\n",
      "Iteration 139 Step Failed\n"
     ]
    },
    {
     "data": {
      "application/vnd.jupyter.widget-view+json": {
       "model_id": "c4ba0e4d4d184f1f93345abc5072e7a8",
       "version_major": 2,
       "version_minor": 0
      },
      "text/plain": [
       "  0%|          | 0/101 [00:00<?, ?it/s]"
      ]
     },
     "metadata": {},
     "output_type": "display_data"
    },
    {
     "name": "stdout",
     "output_type": "stream",
     "text": [
      "Iteration 0, loss = 1.121, Jres = 182.7, alpha = 0.04167, improvement_ratio = 0.9935\n",
      "Iteration 1, loss = 0.3883, Jres = 3.159, alpha = 0.04167, improvement_ratio = 0.6747\n",
      "Iteration 2, loss = 0.3119, Jres = 1.381, alpha = 0.04167, improvement_ratio = 0.2225\n",
      "Iteration 3, loss = 0.06616, Jres = 1.314, alpha = 0.03472, improvement_ratio = 0.9111\n",
      "Iteration 4, loss = 0.06245, Jres = 0.1573, alpha = 0.1143, improvement_ratio = 0.1453\n",
      "Iteration 5, loss = 0.04119, Jres = 0.2198, alpha = 0.09528, improvement_ratio = 0.9498\n",
      "Iteration 10, loss = 0.03683, Jres = 0.001193, alpha = 0.03829, improvement_ratio = 1.003\n",
      "Iteration 20, loss = 0.02794, Jres = 0.001202, alpha = 0.006184, improvement_ratio = 0.9989\n",
      "Iteration 30, loss = 0.0205, Jres = 0.001458, alpha = 0.0009988, improvement_ratio = 1.014\n",
      "Iteration 40, loss = 0.009751, Jres = 0.00135, alpha = 0.0001613, improvement_ratio = 1.01\n",
      "Iteration 50, loss = 0.005702, Jres = 0.002551, alpha = 2.605e-05, improvement_ratio = 1.011\n",
      "Iteration 60, loss = 0.003019, Jres = 0.007305, alpha = 5.049e-06, improvement_ratio = 0.7872\n",
      "Iteration 70, loss = 0.001859, Jres = 0.002439, alpha = 1.174e-06, improvement_ratio = 0.953\n",
      "Iteration 80, loss = 0.001434, Jres = 0.0002461, alpha = 8.333e-07, improvement_ratio = 1.009\n",
      "Iteration 90, loss = 0.001207, Jres = 0.0001946, alpha = 8.333e-07, improvement_ratio = 1.007\n",
      "Iteration 100, loss = 0.001029, Jres = 0.0002576, alpha = 8.333e-07, improvement_ratio = 1.003\n"
     ]
    },
    {
     "data": {
      "application/vnd.jupyter.widget-view+json": {
       "model_id": "1f56d35a0bab44d3b0dc4d74743004a0",
       "version_major": 2,
       "version_minor": 0
      },
      "text/plain": [
       "  0%|          | 0/150 [00:00<?, ?it/s]"
      ]
     },
     "metadata": {},
     "output_type": "display_data"
    },
    {
     "name": "stdout",
     "output_type": "stream",
     "text": [
      "Iteration 0, loss = 0.0020589692205576168\n",
      "Iteration 83 Step Failed\n"
     ]
    },
    {
     "data": {
      "application/vnd.jupyter.widget-view+json": {
       "model_id": "bc80117b7ded43868135dd84b4afe3f4",
       "version_major": 2,
       "version_minor": 0
      },
      "text/plain": [
       "  0%|          | 0/101 [00:00<?, ?it/s]"
      ]
     },
     "metadata": {},
     "output_type": "display_data"
    },
    {
     "name": "stdout",
     "output_type": "stream",
     "text": [
      "Iteration 0, loss = 0.8817, Jres = 135.2, alpha = 0.04167, improvement_ratio = 0.9917\n",
      "Iteration 1, loss = 0.1308, Jres = 2.67, alpha = 0.03472, improvement_ratio = 0.9406\n",
      "Iteration 2, loss = 0.08518, Jres = 0.317, alpha = 0.02894, improvement_ratio = 0.9696\n",
      "Iteration 3, loss = 0.07671, Jres = 0.0502, alpha = 0.02411, improvement_ratio = 0.9877\n",
      "Iteration 4, loss = 0.07068, Jres = 0.009398, alpha = 0.02009, improvement_ratio = 0.996\n",
      "Iteration 5, loss = 0.0651, Jres = 0.005545, alpha = 0.01674, improvement_ratio = 0.9959\n",
      "Iteration 10, loss = 0.0429, Jres = 0.003165, alpha = 0.006729, improvement_ratio = 0.9955\n",
      "Iteration 20, loss = 0.02766, Jres = 0.003966, alpha = 0.001087, improvement_ratio = 1.241\n",
      "Iteration 30, loss = 0.02215, Jres = 0.001378, alpha = 0.0001755, improvement_ratio = 1.001\n",
      "Iteration 40, loss = 0.01441, Jres = 0.003744, alpha = 2.835e-05, improvement_ratio = 0.9946\n",
      "Iteration 50, loss = 0.006231, Jres = 0.004156, alpha = 4.579e-06, improvement_ratio = 0.9866\n",
      "Iteration 60, loss = 0.003619, Jres = 0.001384, alpha = 8.874e-07, improvement_ratio = 1.001\n",
      "Iteration 70, loss = 0.002927, Jres = 0.002135, alpha = 8.333e-07, improvement_ratio = 0.998\n",
      "Iteration 80, loss = 0.002652, Jres = 0.0004064, alpha = 8.333e-07, improvement_ratio = 0.8836\n",
      "Iteration 90, loss = 0.002531, Jres = 0.002097, alpha = 1.44e-06, improvement_ratio = 0.1363\n",
      "Iteration 100, loss = 0.002453, Jres = 0.0009306, alpha = 1.728e-06, improvement_ratio = 0.354\n"
     ]
    },
    {
     "data": {
      "application/vnd.jupyter.widget-view+json": {
       "model_id": "22a356bc5faf4c4298d8fb31c349c210",
       "version_major": 2,
       "version_minor": 0
      },
      "text/plain": [
       "  0%|          | 0/150 [00:00<?, ?it/s]"
      ]
     },
     "metadata": {},
     "output_type": "display_data"
    },
    {
     "name": "stdout",
     "output_type": "stream",
     "text": [
      "Iteration 0, loss = 0.0049058714470180615\n",
      "Iteration 53 Step Failed\n",
      "Iteration 54 Step Failed\n",
      "Iteration 65 Step Failed\n",
      "Iteration 66 Step Failed\n",
      "Iteration 79 Step Failed\n",
      "Iteration 105 Step Failed\n",
      "Iteration 106 Step Failed\n",
      "Iteration 115 Step Failed\n",
      "Iteration 122 Step Failed\n",
      "Iteration 129 Step Failed\n"
     ]
    },
    {
     "data": {
      "application/vnd.jupyter.widget-view+json": {
       "model_id": "ea8158163b4c46a2a9429ef612febd06",
       "version_major": 2,
       "version_minor": 0
      },
      "text/plain": [
       "  0%|          | 0/101 [00:00<?, ?it/s]"
      ]
     },
     "metadata": {},
     "output_type": "display_data"
    },
    {
     "name": "stdout",
     "output_type": "stream",
     "text": [
      "Iteration 0, loss = 0.109, Jres = 73.67, alpha = 0.04167, improvement_ratio = 0.997\n",
      "Iteration 1, loss = 0.03643, Jres = 0.3896, alpha = 0.03472, improvement_ratio = 0.9222\n",
      "Iteration 2, loss = 0.02789, Jres = 0.04731, alpha = 0.02894, improvement_ratio = 0.948\n",
      "Iteration 3, loss = 0.02272, Jres = 0.008859, alpha = 0.02411, improvement_ratio = 0.9919\n",
      "Iteration 4, loss = 0.01834, Jres = 0.02322, alpha = 0.02009, improvement_ratio = 0.9841\n",
      "Iteration 5, loss = 0.0153, Jres = 0.004781, alpha = 0.01674, improvement_ratio = 0.9942\n",
      "Iteration 10, loss = 0.009507, Jres = 0.00115, alpha = 0.006729, improvement_ratio = 0.9955\n",
      "Iteration 20, loss = 0.008111, Jres = 0.0001018, alpha = 0.001087, improvement_ratio = 1.0\n",
      "Iteration 30, loss = 0.006595, Jres = 0.001632, alpha = 0.0001755, improvement_ratio = 0.9885\n",
      "Iteration 40, loss = 0.004975, Jres = 0.001414, alpha = 2.835e-05, improvement_ratio = 1.032\n",
      "Iteration 50, loss = 0.003926, Jres = 0.0008499, alpha = 6.593e-06, improvement_ratio = 0.988\n",
      "Iteration 60, loss = 0.00378, Jres = 7.547e-06, alpha = 0.005914, improvement_ratio = 0.9992\n",
      "Iteration 70, loss = 0.003774, Jres = 7.689e-06, alpha = 0.0009552, improvement_ratio = 1.003\n",
      "Iteration 80, loss = 0.003756, Jres = 1.479e-05, alpha = 0.0001543, improvement_ratio = 1.003\n",
      "Iteration 90, loss = 0.003681, Jres = 7.906e-05, alpha = 2.491e-05, improvement_ratio = 1.004\n",
      "Iteration 100, loss = 0.003449, Jres = 0.0002433, alpha = 4.024e-06, improvement_ratio = 1.014\n"
     ]
    },
    {
     "data": {
      "application/vnd.jupyter.widget-view+json": {
       "model_id": "1b955d583ff94320bacf4f12812fb01b",
       "version_major": 2,
       "version_minor": 0
      },
      "text/plain": [
       "  0%|          | 0/150 [00:00<?, ?it/s]"
      ]
     },
     "metadata": {},
     "output_type": "display_data"
    },
    {
     "name": "stdout",
     "output_type": "stream",
     "text": [
      "Iteration 0, loss = 0.0068981147311287525\n",
      "Iteration 57 Step Failed\n"
     ]
    },
    {
     "data": {
      "application/vnd.jupyter.widget-view+json": {
       "model_id": "043c73445d504519895c4372a02a6511",
       "version_major": 2,
       "version_minor": 0
      },
      "text/plain": [
       "  0%|          | 0/101 [00:00<?, ?it/s]"
      ]
     },
     "metadata": {},
     "output_type": "display_data"
    },
    {
     "name": "stdout",
     "output_type": "stream",
     "text": [
      "Iteration 0, loss = 0.5153, Jres = 117.6, alpha = 0.04167, improvement_ratio = 0.9937\n",
      "Iteration 1, loss = 0.08918, Jres = 1.756, alpha = 0.03472, improvement_ratio = 0.9493\n",
      "Iteration 2, loss = 0.06204, Jres = 0.2711, alpha = 0.02894, improvement_ratio = 0.9901\n",
      "Iteration 3, loss = 0.05997, Jres = 0.02247, alpha = 0.02411, improvement_ratio = 1.001\n",
      "Iteration 4, loss = 0.0585, Jres = 0.001915, alpha = 0.02009, improvement_ratio = 1.001\n",
      "Iteration 5, loss = 0.05712, Jres = 0.003408, alpha = 0.01674, improvement_ratio = 1.002\n",
      "Iteration 10, loss = 0.0508, Jres = 0.005595, alpha = 0.006729, improvement_ratio = 0.9916\n",
      "Iteration 20, loss = 0.0427, Jres = 0.003566, alpha = 0.001087, improvement_ratio = 0.9893\n",
      "Iteration 30, loss = 0.03624, Jres = 0.0009172, alpha = 0.0001755, improvement_ratio = 1.003\n",
      "Iteration 40, loss = 0.03063, Jres = 0.004143, alpha = 2.835e-05, improvement_ratio = 1.032\n",
      "Iteration 50, loss = 0.02098, Jres = 0.01228, alpha = 9.23e-06, improvement_ratio = 0.4494\n",
      "Iteration 60, loss = 0.01788, Jres = 0.009774, alpha = 0.00662, improvement_ratio = 0.3814\n",
      "Iteration 70, loss = 0.01778, Jres = 0.0009474, alpha = 0.01557, improvement_ratio = 0.3905\n",
      "Iteration 80, loss = 0.01778, Jres = 3.833e-05, alpha = 0.00901, improvement_ratio = 0.9216\n",
      "Iteration 90, loss = 0.01777, Jres = 0.0005653, alpha = 0.009936, improvement_ratio = 0.5918\n",
      "Iteration 100, loss = 0.01776, Jres = 4.956e-05, alpha = 0.002773, improvement_ratio = 0.8977\n"
     ]
    },
    {
     "data": {
      "application/vnd.jupyter.widget-view+json": {
       "model_id": "e01b1f351dca468aa98a98c5468710ef",
       "version_major": 2,
       "version_minor": 0
      },
      "text/plain": [
       "  0%|          | 0/150 [00:00<?, ?it/s]"
      ]
     },
     "metadata": {},
     "output_type": "display_data"
    },
    {
     "name": "stdout",
     "output_type": "stream",
     "text": [
      "Iteration 0, loss = 0.03552897981091176\n",
      "Iteration 56 Step Failed\n",
      "Iteration 70 Step Failed\n",
      "Iteration 84 Step Failed\n",
      "Iteration 100 Step Failed\n",
      "Iteration 123 Step Failed\n",
      "Iteration 132 Step Failed\n"
     ]
    },
    {
     "data": {
      "application/vnd.jupyter.widget-view+json": {
       "model_id": "be2ba71cce6f498f9a70baa52811bf20",
       "version_major": 2,
       "version_minor": 0
      },
      "text/plain": [
       "  0%|          | 0/101 [00:00<?, ?it/s]"
      ]
     },
     "metadata": {},
     "output_type": "display_data"
    },
    {
     "name": "stdout",
     "output_type": "stream",
     "text": [
      "Iteration 0, loss = 0.1009, Jres = 80.52, alpha = 0.04167, improvement_ratio = 0.9972\n",
      "Iteration 1, loss = 0.01911, Jres = 0.5819, alpha = 0.03472, improvement_ratio = 0.8636\n",
      "Iteration 2, loss = 0.00584, Jres = 0.2748, alpha = 0.02894, improvement_ratio = 0.991\n",
      "Iteration 3, loss = 0.005412, Jres = 0.02009, alpha = 0.02411, improvement_ratio = 1.002\n",
      "Iteration 4, loss = 0.005155, Jres = 0.0004281, alpha = 0.02009, improvement_ratio = 1.002\n",
      "Iteration 5, loss = 0.004918, Jres = 0.0002928, alpha = 0.01674, improvement_ratio = 1.002\n",
      "Iteration 10, loss = 0.003795, Jres = 0.0004714, alpha = 0.006729, improvement_ratio = 1.008\n",
      "Iteration 20, loss = 0.001839, Jres = 0.0007319, alpha = 0.001087, improvement_ratio = 1.03\n",
      "Iteration 30, loss = 0.0007837, Jres = 0.0002841, alpha = 0.0001755, improvement_ratio = 1.021\n",
      "Iteration 40, loss = 0.0005626, Jres = 0.0003832, alpha = 2.835e-05, improvement_ratio = 0.9941\n",
      "Iteration 50, loss = 0.0004428, Jres = 0.0002735, alpha = 5.494e-06, improvement_ratio = 0.9967\n",
      "Iteration 60, loss = 0.0003069, Jres = 0.0003114, alpha = 8.874e-07, improvement_ratio = 0.9742\n",
      "Iteration 70, loss = 0.0002499, Jres = 0.0005355, alpha = 8.333e-07, improvement_ratio = 0.8899\n",
      "Iteration 80, loss = 0.0002176, Jres = 0.000855, alpha = 8.333e-07, improvement_ratio = 0.8635\n",
      "Iteration 90, loss = 0.0001976, Jres = 4.046e-05, alpha = 8.333e-07, improvement_ratio = 0.9993\n",
      "Iteration 100, loss = 0.0001857, Jres = 1.474e-05, alpha = 8.333e-07, improvement_ratio = 0.9997\n"
     ]
    },
    {
     "data": {
      "application/vnd.jupyter.widget-view+json": {
       "model_id": "8e910eeac62d4a5ab581754162b80323",
       "version_major": 2,
       "version_minor": 0
      },
      "text/plain": [
       "  0%|          | 0/150 [00:00<?, ?it/s]"
      ]
     },
     "metadata": {},
     "output_type": "display_data"
    },
    {
     "name": "stdout",
     "output_type": "stream",
     "text": [
      "Iteration 0, loss = 0.00037134446899240005\n",
      "Iteration 4 Step Failed\n",
      "Iteration 5 Step Failed\n",
      "Iteration 6 Step Failed\n",
      "Iteration 7 Step Failed\n",
      "Iteration 8 Step Failed\n",
      "Iteration 9 Step Failed\n",
      "Iteration 10 Step Failed\n",
      "Iteration 11 Step Failed\n",
      "Iteration 12 Step Failed\n",
      "Iteration 13 Step Failed\n",
      "Iteration 14 Step Failed\n",
      "Iteration 15 Step Failed\n",
      "Iteration 16 Step Failed\n",
      "Iteration 17 Step Failed\n",
      "Iteration 18 Step Failed\n",
      "Iteration 19 Step Failed\n",
      "Iteration 20 Step Failed\n",
      "Iteration 21 Step Failed\n",
      "Iteration 23 Step Failed\n",
      "Iteration 24 Step Failed\n",
      "Iteration 25 Step Failed\n",
      "Iteration 26 Step Failed\n",
      "Iteration 27 Step Failed\n",
      "Iteration 28 Step Failed\n",
      "Iteration 29 Step Failed\n",
      "Iteration 30 Step Failed\n",
      "Iteration 31 Step Failed\n",
      "Iteration 32 Step Failed\n",
      "Converged by no improvement\n"
     ]
    },
    {
     "data": {
      "application/vnd.jupyter.widget-view+json": {
       "model_id": "33d669e0c940462db7e28a186f2b19bc",
       "version_major": 2,
       "version_minor": 0
      },
      "text/plain": [
       "  0%|          | 0/101 [00:00<?, ?it/s]"
      ]
     },
     "metadata": {},
     "output_type": "display_data"
    },
    {
     "name": "stdout",
     "output_type": "stream",
     "text": [
      "Iteration 0, loss = 2.365, Jres = 225.7, alpha = 0.04167, improvement_ratio = 0.9902\n",
      "Iteration 1, loss = 0.8917, Jres = 5.797, alpha = 0.04167, improvement_ratio = 0.6416\n",
      "Iteration 2, loss = 0.1023, Jres = 2.944, alpha = 0.03472, improvement_ratio = 0.9716\n",
      "Iteration 3, loss = 0.06467, Jres = 0.3425, alpha = 0.02894, improvement_ratio = 0.9688\n",
      "Iteration 4, loss = 0.05516, Jres = 0.04245, alpha = 0.02411, improvement_ratio = 1.006\n",
      "Iteration 5, loss = 0.04853, Jres = 0.008638, alpha = 0.02009, improvement_ratio = 1.0\n",
      "Iteration 10, loss = 0.03236, Jres = 0.001613, alpha = 0.008075, improvement_ratio = 0.9998\n",
      "Iteration 20, loss = 0.02366, Jres = 0.001038, alpha = 0.001304, improvement_ratio = 1.007\n",
      "Iteration 30, loss = 0.01384, Jres = 0.002629, alpha = 0.0002106, improvement_ratio = 1.004\n",
      "Iteration 40, loss = 0.008321, Jres = 0.004128, alpha = 3.402e-05, improvement_ratio = 0.946\n",
      "Iteration 50, loss = 0.005689, Jres = 0.001156, alpha = 5.494e-06, improvement_ratio = 0.9979\n",
      "Iteration 60, loss = 0.004297, Jres = 0.01913, alpha = 1.278e-06, improvement_ratio = 0.2481\n",
      "Iteration 70, loss = 0.001999, Jres = 0.003557, alpha = 8.333e-07, improvement_ratio = 0.9867\n",
      "Iteration 80, loss = 0.001514, Jres = 0.0003472, alpha = 8.333e-07, improvement_ratio = 1.006\n",
      "Iteration 90, loss = 0.001262, Jres = 0.000688, alpha = 8.333e-07, improvement_ratio = 0.8813\n",
      "Iteration 100, loss = 0.001068, Jres = 0.0001681, alpha = 8.333e-07, improvement_ratio = 1.007\n"
     ]
    },
    {
     "data": {
      "application/vnd.jupyter.widget-view+json": {
       "model_id": "1822f7d673ba4a89b4e187f2e9c39cc2",
       "version_major": 2,
       "version_minor": 0
      },
      "text/plain": [
       "  0%|          | 0/150 [00:00<?, ?it/s]"
      ]
     },
     "metadata": {},
     "output_type": "display_data"
    },
    {
     "name": "stdout",
     "output_type": "stream",
     "text": [
      "Iteration 0, loss = 0.002135153081971941\n",
      "Iteration 72 Step Failed\n",
      "Iteration 102 Step Failed\n"
     ]
    },
    {
     "data": {
      "application/vnd.jupyter.widget-view+json": {
       "model_id": "7e65b7305b544f3fa502414ea180ff89",
       "version_major": 2,
       "version_minor": 0
      },
      "text/plain": [
       "  0%|          | 0/101 [00:00<?, ?it/s]"
      ]
     },
     "metadata": {},
     "output_type": "display_data"
    },
    {
     "name": "stdout",
     "output_type": "stream",
     "text": [
      "Iteration 0, loss = 0.8048, Jres = 147.9, alpha = 0.04167, improvement_ratio = 0.994\n",
      "Iteration 1, loss = 0.5151, Jres = 2.541, alpha = 0.04167, improvement_ratio = 0.3789\n",
      "Iteration 2, loss = 0.08065, Jres = 1.732, alpha = 0.03472, improvement_ratio = 0.9274\n",
      "Iteration 3, loss = 0.04339, Jres = 0.2694, alpha = 0.02894, improvement_ratio = 0.9733\n",
      "Iteration 4, loss = 0.0408, Jres = 0.02352, alpha = 0.02411, improvement_ratio = 0.9338\n",
      "Iteration 5, loss = 0.03925, Jres = 0.007936, alpha = 0.02009, improvement_ratio = 0.9986\n",
      "Iteration 10, loss = 0.03288, Jres = 0.002232, alpha = 0.008075, improvement_ratio = 1.011\n",
      "Iteration 20, loss = 0.02454, Jres = 0.00152, alpha = 0.001304, improvement_ratio = 1.012\n",
      "Iteration 30, loss = 0.01914, Jres = 0.002725, alpha = 0.0002528, improvement_ratio = 0.7682\n",
      "Iteration 40, loss = 0.01757, Jres = 0.002724, alpha = 0.0006936, improvement_ratio = 0.8977\n",
      "Iteration 50, loss = 0.01587, Jres = 0.002516, alpha = 0.0001344, improvement_ratio = 0.6837\n",
      "Iteration 60, loss = 0.0137, Jres = 0.003063, alpha = 2.605e-05, improvement_ratio = 1.0\n",
      "Iteration 70, loss = 0.01021, Jres = 0.006755, alpha = 6.059e-06, improvement_ratio = 0.4317\n",
      "Iteration 80, loss = 0.007165, Jres = 0.003045, alpha = 9.785e-07, improvement_ratio = 0.9365\n",
      "Iteration 90, loss = 0.005462, Jres = 0.00169, alpha = 8.333e-07, improvement_ratio = 1.037\n",
      "Iteration 100, loss = 0.004628, Jres = 0.0001892, alpha = 8.333e-07, improvement_ratio = 1.002\n"
     ]
    },
    {
     "data": {
      "application/vnd.jupyter.widget-view+json": {
       "model_id": "a0bf8b7cefcc45ef867066b2dd8142ca",
       "version_major": 2,
       "version_minor": 0
      },
      "text/plain": [
       "  0%|          | 0/150 [00:00<?, ?it/s]"
      ]
     },
     "metadata": {},
     "output_type": "display_data"
    },
    {
     "name": "stdout",
     "output_type": "stream",
     "text": [
      "Iteration 0, loss = 0.009255645885572822\n",
      "Iteration 5 Step Failed\n",
      "Iteration 6 Step Failed\n",
      "Iteration 7 Step Failed\n",
      "Iteration 9 Step Failed\n",
      "Iteration 10 Step Failed\n",
      "Iteration 12 Step Failed\n",
      "Iteration 13 Step Failed\n",
      "Iteration 14 Step Failed\n",
      "Iteration 15 Step Failed\n",
      "Iteration 16 Step Failed\n",
      "Iteration 17 Step Failed\n",
      "Iteration 18 Step Failed\n",
      "Iteration 19 Step Failed\n",
      "Iteration 20 Step Failed\n",
      "Iteration 21 Step Failed\n",
      "Iteration 22 Step Failed\n",
      "Iteration 23 Step Failed\n",
      "Iteration 24 Step Failed\n",
      "Iteration 25 Step Failed\n",
      "Converged by no improvement\n"
     ]
    },
    {
     "data": {
      "application/vnd.jupyter.widget-view+json": {
       "model_id": "a3cff868c37344d3b7f4dabdcf2d6cbf",
       "version_major": 2,
       "version_minor": 0
      },
      "text/plain": [
       "  0%|          | 0/101 [00:00<?, ?it/s]"
      ]
     },
     "metadata": {},
     "output_type": "display_data"
    },
    {
     "name": "stdout",
     "output_type": "stream",
     "text": [
      "Iteration 0, loss = 0.7959, Jres = 165.4, alpha = 0.04167, improvement_ratio = 0.9939\n",
      "Iteration 1, loss = 0.7004, Jres = 3.037, alpha = 1.446, improvement_ratio = 0.1231\n",
      "Iteration 2, loss = 0.4563, Jres = 2.212, alpha = 1.446, improvement_ratio = 0.362\n",
      "Iteration 3, loss = 0.04234, Jres = 2.888, alpha = 1.205, improvement_ratio = 0.9507\n",
      "Iteration 4, loss = 0.02533, Jres = 0.3953, alpha = 1.205, improvement_ratio = 0.6912\n",
      "Iteration 5, loss = 0.01826, Jres = 0.113, alpha = 1.004, improvement_ratio = 0.9387\n",
      "Iteration 10, loss = 0.01548, Jres = 0.002604, alpha = 0.4036, improvement_ratio = 1.008\n",
      "Iteration 20, loss = 0.01278, Jres = 0.001826, alpha = 0.06519, improvement_ratio = 0.9461\n",
      "Iteration 30, loss = 0.01019, Jres = 0.009227, alpha = 0.03772, improvement_ratio = 0.2433\n",
      "Iteration 40, loss = 0.009193, Jres = 0.006164, alpha = 0.07823, improvement_ratio = 0.209\n",
      "Iteration 50, loss = 0.008745, Jres = 0.003006, alpha = 0.07823, improvement_ratio = 0.4173\n",
      "Iteration 60, loss = 0.008424, Jres = 0.001506, alpha = 0.07823, improvement_ratio = 0.6939\n",
      "Iteration 70, loss = 0.008083, Jres = 0.0008145, alpha = 0.0262, improvement_ratio = 0.9256\n",
      "Iteration 80, loss = 0.006988, Jres = 0.002055, alpha = 0.005077, improvement_ratio = 0.7311\n",
      "Iteration 90, loss = 0.00628, Jres = 0.003579, alpha = 0.04719, improvement_ratio = 0.1923\n",
      "Iteration 100, loss = 0.006143, Jres = 0.0009961, alpha = 0.04719, improvement_ratio = 0.6379\n"
     ]
    },
    {
     "data": {
      "application/vnd.jupyter.widget-view+json": {
       "model_id": "8056119eb67b4dde88f581eea06af01e",
       "version_major": 2,
       "version_minor": 0
      },
      "text/plain": [
       "  0%|          | 0/150 [00:00<?, ?it/s]"
      ]
     },
     "metadata": {},
     "output_type": "display_data"
    },
    {
     "name": "stdout",
     "output_type": "stream",
     "text": [
      "Iteration 0, loss = 0.012286675847763547\n",
      "Iteration 47 Step Failed\n"
     ]
    },
    {
     "data": {
      "application/vnd.jupyter.widget-view+json": {
       "model_id": "ea98e28e19b24605a6f61d4fa3edf89b",
       "version_major": 2,
       "version_minor": 0
      },
      "text/plain": [
       "  0%|          | 0/101 [00:00<?, ?it/s]"
      ]
     },
     "metadata": {},
     "output_type": "display_data"
    },
    {
     "name": "stdout",
     "output_type": "stream",
     "text": [
      "Iteration 0, loss = 3.057, Jres = 224.9, alpha = 0.04167, improvement_ratio = 0.9869\n",
      "Iteration 1, loss = 0.2082, Jres = 7.58, alpha = 0.03472, improvement_ratio = 0.9488\n",
      "Iteration 2, loss = 0.05791, Jres = 0.8525, alpha = 0.02894, improvement_ratio = 0.9729\n",
      "Iteration 3, loss = 0.04992, Jres = 0.09237, alpha = 0.02411, improvement_ratio = 0.9975\n",
      "Iteration 4, loss = 0.04687, Jres = 0.006528, alpha = 0.02009, improvement_ratio = 1.004\n",
      "Iteration 5, loss = 0.04405, Jres = 0.001587, alpha = 0.01674, improvement_ratio = 1.006\n",
      "Iteration 10, loss = 0.03015, Jres = 0.002205, alpha = 0.006729, improvement_ratio = 1.012\n",
      "Iteration 20, loss = 0.01379, Jres = 0.0003925, alpha = 0.001087, improvement_ratio = 1.002\n",
      "Iteration 30, loss = 0.01073, Jres = 0.000535, alpha = 0.0001755, improvement_ratio = 0.9978\n",
      "Iteration 40, loss = 0.008834, Jres = 0.0007372, alpha = 2.835e-05, improvement_ratio = 0.9873\n",
      "Iteration 50, loss = 0.007206, Jres = 0.001092, alpha = 4.579e-06, improvement_ratio = 0.9847\n",
      "Iteration 60, loss = 0.006055, Jres = 0.002, alpha = 1.065e-06, improvement_ratio = 0.9657\n",
      "Iteration 70, loss = 0.005324, Jres = 0.001072, alpha = 8.333e-07, improvement_ratio = 1.01\n",
      "Iteration 80, loss = 0.004895, Jres = 0.0009562, alpha = 8.333e-07, improvement_ratio = 1.0\n",
      "Iteration 90, loss = 0.004575, Jres = 0.0002283, alpha = 8.333e-07, improvement_ratio = 1.002\n",
      "Iteration 100, loss = 0.004364, Jres = 4.636e-05, alpha = 8.333e-07, improvement_ratio = 1.003\n"
     ]
    },
    {
     "data": {
      "application/vnd.jupyter.widget-view+json": {
       "model_id": "a9c7d0ddc23d4f70ba9c5a9574c8343f",
       "version_major": 2,
       "version_minor": 0
      },
      "text/plain": [
       "  0%|          | 0/150 [00:00<?, ?it/s]"
      ]
     },
     "metadata": {},
     "output_type": "display_data"
    },
    {
     "name": "stdout",
     "output_type": "stream",
     "text": [
      "Iteration 0, loss = 0.008727105881931426\n",
      "Iteration 1 Step Failed\n",
      "Iteration 2 Step Failed\n",
      "Iteration 3 Step Failed\n",
      "Iteration 4 Step Failed\n",
      "Iteration 5 Step Failed\n",
      "Iteration 6 Step Failed\n",
      "Iteration 7 Step Failed\n",
      "Iteration 8 Step Failed\n",
      "Iteration 10 Step Failed\n",
      "Iteration 12 Step Failed\n",
      "Iteration 13 Step Failed\n",
      "Iteration 14 Step Failed\n",
      "Iteration 15 Step Failed\n",
      "Iteration 16 Step Failed\n",
      "Iteration 17 Step Failed\n",
      "Iteration 18 Step Failed\n",
      "Iteration 19 Step Failed\n",
      "Iteration 20 Step Failed\n",
      "Iteration 22 Step Failed\n",
      "Iteration 23 Step Failed\n",
      "Iteration 24 Step Failed\n",
      "Iteration 25 Step Failed\n",
      "Iteration 26 Step Failed\n",
      "Iteration 27 Step Failed\n",
      "Iteration 28 Step Failed\n",
      "Iteration 29 Step Failed\n",
      "Iteration 30 Step Failed\n",
      "Iteration 31 Step Failed\n",
      "Converged by no improvement\n"
     ]
    },
    {
     "data": {
      "application/vnd.jupyter.widget-view+json": {
       "model_id": "68054c46cd0b4100bab87cb8a6145d82",
       "version_major": 2,
       "version_minor": 0
      },
      "text/plain": [
       "  0%|          | 0/101 [00:00<?, ?it/s]"
      ]
     },
     "metadata": {},
     "output_type": "display_data"
    },
    {
     "name": "stdout",
     "output_type": "stream",
     "text": [
      "Iteration 0, loss = 6.371e-06, Jres = 196.5, alpha = 0.04167, improvement_ratio = 1.0\n",
      "Iteration 1, loss = 3.231e-06, Jres = 0.000178, alpha = 0.03472, improvement_ratio = 1.0\n",
      "Iteration 2, loss = 2.667e-06, Jres = 1.502e-05, alpha = 0.02894, improvement_ratio = 1.0\n",
      "Iteration 3, loss = 2.348e-06, Jres = 1.038e-05, alpha = 0.02411, improvement_ratio = 1.0\n",
      "Iteration 4, loss = 2.132e-06, Jres = 9.269e-06, alpha = 0.02009, improvement_ratio = 1.0\n",
      "Iteration 5, loss = 1.98e-06, Jres = 8.81e-06, alpha = 0.01674, improvement_ratio = 1.0\n",
      "Iteration 10, loss = 1.583e-06, Jres = 7.931e-06, alpha = 0.006729, improvement_ratio = 1.0\n",
      "Iteration 20, loss = 8.208e-07, Jres = 5.697e-06, alpha = 0.001087, improvement_ratio = 1.0\n",
      "Iteration 30, loss = 8.665e-08, Jres = 1.648e-06, alpha = 0.0001755, improvement_ratio = 1.0\n",
      "Iteration 40, loss = 1.024e-08, Jres = 9.247e-08, alpha = 2.835e-05, improvement_ratio = 1.0\n",
      "Iteration 50, loss = 2.45e-09, Jres = 1.025e-08, alpha = 4.579e-06, improvement_ratio = 1.0\n"
     ]
    },
    {
     "data": {
      "application/vnd.jupyter.widget-view+json": {
       "model_id": "3da0e112aaf84b8da44788c493c88574",
       "version_major": 2,
       "version_minor": 0
      },
      "text/plain": [
       "  0%|          | 0/150 [00:00<?, ?it/s]"
      ]
     },
     "metadata": {},
     "output_type": "display_data"
    },
    {
     "name": "stdout",
     "output_type": "stream",
     "text": [
      "Iteration 0, loss = 4.1484960310593344e-09\n",
      "Iteration 132 Step Failed\n",
      "Iteration 133 Step Failed\n",
      "Iteration 134 Step Failed\n",
      "Iteration 135 Step Failed\n",
      "Iteration 136 Step Failed\n",
      "Iteration 137 Step Failed\n",
      "Converged by no improvement\n"
     ]
    },
    {
     "data": {
      "application/vnd.jupyter.widget-view+json": {
       "model_id": "10e2ec12c2224a048fe15fe81be0038c",
       "version_major": 2,
       "version_minor": 0
      },
      "text/plain": [
       "  0%|          | 0/101 [00:00<?, ?it/s]"
      ]
     },
     "metadata": {},
     "output_type": "display_data"
    },
    {
     "name": "stdout",
     "output_type": "stream",
     "text": [
      "Iteration 0, loss = 6.485e-05, Jres = 131.1, alpha = 0.04167, improvement_ratio = 1.0\n",
      "Iteration 1, loss = 4.136e-05, Jres = 0.0002848, alpha = 0.03472, improvement_ratio = 1.0\n",
      "Iteration 2, loss = 3.421e-05, Jres = 5.602e-05, alpha = 0.02894, improvement_ratio = 1.0\n",
      "Iteration 3, loss = 2.985e-05, Jres = 4.163e-05, alpha = 0.02411, improvement_ratio = 1.0\n",
      "Iteration 4, loss = 2.701e-05, Jres = 3.7e-05, alpha = 0.02009, improvement_ratio = 1.0\n",
      "Iteration 5, loss = 2.505e-05, Jres = 3.479e-05, alpha = 0.01674, improvement_ratio = 1.0\n",
      "Iteration 10, loss = 1.877e-05, Jres = 3.01e-05, alpha = 0.006729, improvement_ratio = 1.0\n",
      "Iteration 20, loss = 8.608e-06, Jres = 1.924e-05, alpha = 0.001087, improvement_ratio = 1.0\n",
      "Iteration 30, loss = 8.103e-07, Jres = 5.525e-06, alpha = 0.0001755, improvement_ratio = 1.0\n",
      "Iteration 40, loss = 5.518e-08, Jres = 3.169e-07, alpha = 2.835e-05, improvement_ratio = 1.0\n",
      "Iteration 50, loss = 7.374e-09, Jres = 3.226e-08, alpha = 4.579e-06, improvement_ratio = 1.0\n"
     ]
    },
    {
     "data": {
      "application/vnd.jupyter.widget-view+json": {
       "model_id": "527725aab7b74922a2737121c81f09cd",
       "version_major": 2,
       "version_minor": 0
      },
      "text/plain": [
       "  0%|          | 0/150 [00:00<?, ?it/s]"
      ]
     },
     "metadata": {},
     "output_type": "display_data"
    },
    {
     "name": "stdout",
     "output_type": "stream",
     "text": [
      "Iteration 0, loss = 5.442884840530771e-09\n",
      "Iteration 1 Step Failed\n",
      "Iteration 2 Step Failed\n",
      "Iteration 3 Step Failed\n",
      "Iteration 4 Step Failed\n",
      "Iteration 5 Step Failed\n",
      "Iteration 6 Step Failed\n",
      "Iteration 7 Step Failed\n",
      "Iteration 8 Step Failed\n",
      "Iteration 9 Step Failed\n",
      "Iteration 10 Step Failed\n",
      "Iteration 11 Step Failed\n",
      "Iteration 12 Step Failed\n",
      "Iteration 13 Step Failed\n",
      "Iteration 14 Step Failed\n",
      "Iteration 15 Step Failed\n",
      "Iteration 16 Step Failed\n",
      "Iteration 17 Step Failed\n",
      "Iteration 18 Step Failed\n",
      "Iteration 19 Step Failed\n",
      "Iteration 20 Step Failed\n",
      "Iteration 21 Step Failed\n",
      "Iteration 22 Step Failed\n",
      "Iteration 23 Step Failed\n",
      "Iteration 24 Step Failed\n",
      "Iteration 25 Step Failed\n",
      "Converged by no improvement\n"
     ]
    },
    {
     "data": {
      "application/vnd.jupyter.widget-view+json": {
       "model_id": "2bfee82f0d744b57b209badcee4c8bcb",
       "version_major": 2,
       "version_minor": 0
      },
      "text/plain": [
       "  0%|          | 0/101 [00:00<?, ?it/s]"
      ]
     },
     "metadata": {},
     "output_type": "display_data"
    },
    {
     "name": "stdout",
     "output_type": "stream",
     "text": [
      "Iteration 0, loss = 9.234e-06, Jres = 196.9, alpha = 0.04167, improvement_ratio = 1.0\n",
      "Iteration 1, loss = 5.441e-06, Jres = 8.064e-05, alpha = 0.03472, improvement_ratio = 1.0\n",
      "Iteration 2, loss = 4.285e-06, Jres = 1.954e-05, alpha = 0.02894, improvement_ratio = 1.0\n",
      "Iteration 3, loss = 3.617e-06, Jres = 1.439e-05, alpha = 0.02411, improvement_ratio = 1.0\n",
      "Iteration 4, loss = 3.199e-06, Jres = 1.257e-05, alpha = 0.02009, improvement_ratio = 1.0\n",
      "Iteration 5, loss = 2.921e-06, Jres = 1.168e-05, alpha = 0.01674, improvement_ratio = 1.0\n",
      "Iteration 10, loss = 2.127e-06, Jres = 1.003e-05, alpha = 0.006729, improvement_ratio = 1.0\n",
      "Iteration 20, loss = 9.565e-07, Jres = 6.371e-06, alpha = 0.001087, improvement_ratio = 1.0\n",
      "Iteration 30, loss = 8.986e-08, Jres = 1.806e-06, alpha = 0.0001755, improvement_ratio = 1.0\n",
      "Iteration 40, loss = 6.168e-09, Jres = 9.016e-08, alpha = 2.835e-05, improvement_ratio = 1.0\n"
     ]
    },
    {
     "data": {
      "application/vnd.jupyter.widget-view+json": {
       "model_id": "15d67b0e31ba47cd98a05c940515daa4",
       "version_major": 2,
       "version_minor": 0
      },
      "text/plain": [
       "  0%|          | 0/150 [00:00<?, ?it/s]"
      ]
     },
     "metadata": {},
     "output_type": "display_data"
    },
    {
     "name": "stdout",
     "output_type": "stream",
     "text": [
      "Iteration 0, loss = 2.5715537419204367e-09\n",
      "Iteration 134 Step Failed\n",
      "Iteration 135 Step Failed\n",
      "Iteration 137 Step Failed\n",
      "Iteration 138 Step Failed\n",
      "Iteration 139 Step Failed\n",
      "Iteration 140 Step Failed\n",
      "Converged by no improvement\n"
     ]
    },
    {
     "data": {
      "application/vnd.jupyter.widget-view+json": {
       "model_id": "eb31528ccfd747f2af9847790ebd2857",
       "version_major": 2,
       "version_minor": 0
      },
      "text/plain": [
       "  0%|          | 0/101 [00:00<?, ?it/s]"
      ]
     },
     "metadata": {},
     "output_type": "display_data"
    },
    {
     "name": "stdout",
     "output_type": "stream",
     "text": [
      "Iteration 0, loss = 9.275e-06, Jres = 119.7, alpha = 0.04167, improvement_ratio = 1.0\n",
      "Iteration 1, loss = 5.79e-06, Jres = 7.591e-05, alpha = 0.03472, improvement_ratio = 1.0\n",
      "Iteration 2, loss = 4.628e-06, Jres = 2.043e-05, alpha = 0.02894, improvement_ratio = 1.0\n",
      "Iteration 3, loss = 3.942e-06, Jres = 1.521e-05, alpha = 0.02411, improvement_ratio = 1.0\n",
      "Iteration 4, loss = 3.511e-06, Jres = 1.325e-05, alpha = 0.02009, improvement_ratio = 1.0\n",
      "Iteration 5, loss = 3.216e-06, Jres = 1.226e-05, alpha = 0.01674, improvement_ratio = 1.0\n",
      "Iteration 10, loss = 2.229e-06, Jres = 1.026e-05, alpha = 0.006729, improvement_ratio = 1.0\n",
      "Iteration 20, loss = 8.917e-07, Jres = 6.143e-06, alpha = 0.001087, improvement_ratio = 1.0\n",
      "Iteration 30, loss = 1.038e-07, Jres = 1.787e-06, alpha = 0.0001755, improvement_ratio = 1.0\n",
      "Iteration 40, loss = 1.208e-08, Jres = 1.169e-07, alpha = 2.835e-05, improvement_ratio = 1.0\n",
      "Iteration 50, loss = 1.526e-09, Jres = 1.245e-08, alpha = 4.579e-06, improvement_ratio = 1.0\n"
     ]
    },
    {
     "data": {
      "application/vnd.jupyter.widget-view+json": {
       "model_id": "869c6c6ab80e490bbfdf2096a7c45e29",
       "version_major": 2,
       "version_minor": 0
      },
      "text/plain": [
       "  0%|          | 0/150 [00:00<?, ?it/s]"
      ]
     },
     "metadata": {},
     "output_type": "display_data"
    },
    {
     "name": "stdout",
     "output_type": "stream",
     "text": [
      "Iteration 0, loss = 2.3141154170206883e-09\n",
      "Iteration 2 Step Failed\n",
      "Iteration 7 Step Failed\n",
      "Iteration 8 Step Failed\n",
      "Iteration 9 Step Failed\n",
      "Iteration 10 Step Failed\n",
      "Iteration 11 Step Failed\n",
      "Iteration 12 Step Failed\n",
      "Iteration 13 Step Failed\n",
      "Iteration 14 Step Failed\n",
      "Iteration 15 Step Failed\n",
      "Iteration 16 Step Failed\n",
      "Iteration 17 Step Failed\n",
      "Iteration 18 Step Failed\n",
      "Iteration 19 Step Failed\n",
      "Iteration 20 Step Failed\n",
      "Iteration 21 Step Failed\n",
      "Iteration 22 Step Failed\n",
      "Iteration 23 Step Failed\n",
      "Iteration 24 Step Failed\n",
      "Iteration 25 Step Failed\n",
      "Converged by no improvement\n"
     ]
    },
    {
     "data": {
      "application/vnd.jupyter.widget-view+json": {
       "model_id": "a5a2482253a84c0eac1c90826c98eac8",
       "version_major": 2,
       "version_minor": 0
      },
      "text/plain": [
       "  0%|          | 0/101 [00:00<?, ?it/s]"
      ]
     },
     "metadata": {},
     "output_type": "display_data"
    },
    {
     "name": "stdout",
     "output_type": "stream",
     "text": [
      "Iteration 0, loss = 2.483e-05, Jres = 113.8, alpha = 0.04167, improvement_ratio = 1.0\n",
      "Iteration 1, loss = 1.513e-05, Jres = 0.0002017, alpha = 0.03472, improvement_ratio = 1.0\n",
      "Iteration 2, loss = 1.241e-05, Jres = 3.296e-05, alpha = 0.02894, improvement_ratio = 1.0\n",
      "Iteration 3, loss = 1.08e-05, Jres = 2.436e-05, alpha = 0.02411, improvement_ratio = 1.0\n",
      "Iteration 4, loss = 9.749e-06, Jres = 2.175e-05, alpha = 0.02009, improvement_ratio = 1.0\n",
      "Iteration 5, loss = 9.019e-06, Jres = 2.053e-05, alpha = 0.01674, improvement_ratio = 1.0\n",
      "Iteration 10, loss = 6.794e-06, Jres = 1.791e-05, alpha = 0.006729, improvement_ratio = 1.0\n",
      "Iteration 20, loss = 3.161e-06, Jres = 1.162e-05, alpha = 0.001087, improvement_ratio = 1.0\n",
      "Iteration 30, loss = 2.927e-07, Jres = 3.313e-06, alpha = 0.0001755, improvement_ratio = 1.0\n",
      "Iteration 40, loss = 1.995e-08, Jres = 1.745e-07, alpha = 2.835e-05, improvement_ratio = 1.0\n",
      "Iteration 50, loss = 2.948e-09, Jres = 1.394e-08, alpha = 4.579e-06, improvement_ratio = 1.0\n"
     ]
    },
    {
     "data": {
      "application/vnd.jupyter.widget-view+json": {
       "model_id": "e803e8c32df645a8be68f7f7452b5fc2",
       "version_major": 2,
       "version_minor": 0
      },
      "text/plain": [
       "  0%|          | 0/150 [00:00<?, ?it/s]"
      ]
     },
     "metadata": {},
     "output_type": "display_data"
    },
    {
     "name": "stdout",
     "output_type": "stream",
     "text": [
      "Iteration 0, loss = 4.464289765314128e-09\n",
      "Iteration 1 Step Failed\n",
      "Iteration 2 Step Failed\n",
      "Iteration 3 Step Failed\n",
      "Iteration 4 Step Failed\n",
      "Iteration 5 Step Failed\n",
      "Iteration 6 Step Failed\n",
      "Iteration 7 Step Failed\n",
      "Iteration 8 Step Failed\n",
      "Iteration 9 Step Failed\n",
      "Iteration 10 Step Failed\n",
      "Iteration 11 Step Failed\n",
      "Iteration 12 Step Failed\n",
      "Iteration 13 Step Failed\n",
      "Iteration 15 Step Failed\n",
      "Iteration 16 Step Failed\n",
      "Iteration 17 Step Failed\n",
      "Iteration 18 Step Failed\n",
      "Iteration 19 Step Failed\n",
      "Iteration 20 Step Failed\n",
      "Iteration 21 Step Failed\n",
      "Iteration 23 Step Failed\n",
      "Iteration 24 Step Failed\n",
      "Iteration 25 Step Failed\n",
      "Converged by no improvement\n"
     ]
    },
    {
     "data": {
      "application/vnd.jupyter.widget-view+json": {
       "model_id": "581eecb2ea79475fb143e7c0323945ae",
       "version_major": 2,
       "version_minor": 0
      },
      "text/plain": [
       "  0%|          | 0/101 [00:00<?, ?it/s]"
      ]
     },
     "metadata": {},
     "output_type": "display_data"
    },
    {
     "name": "stdout",
     "output_type": "stream",
     "text": [
      "Iteration 0, loss = 5.346e-05, Jres = 174.8, alpha = 0.04167, improvement_ratio = 1.0\n",
      "Iteration 1, loss = 3.327e-05, Jres = 0.000295, alpha = 0.03472, improvement_ratio = 1.0\n",
      "Iteration 2, loss = 2.75e-05, Jres = 5.059e-05, alpha = 0.02894, improvement_ratio = 1.0\n",
      "Iteration 3, loss = 2.399e-05, Jres = 3.71e-05, alpha = 0.02411, improvement_ratio = 1.0\n",
      "Iteration 4, loss = 2.172e-05, Jres = 3.292e-05, alpha = 0.02009, improvement_ratio = 1.0\n",
      "Iteration 5, loss = 2.016e-05, Jres = 3.097e-05, alpha = 0.01674, improvement_ratio = 1.0\n",
      "Iteration 10, loss = 1.543e-05, Jres = 2.703e-05, alpha = 0.006729, improvement_ratio = 1.0\n",
      "Iteration 20, loss = 7.352e-06, Jres = 1.769e-05, alpha = 0.001087, improvement_ratio = 1.0\n",
      "Iteration 30, loss = 7.038e-07, Jres = 5.101e-06, alpha = 0.0001755, improvement_ratio = 1.0\n",
      "Iteration 40, loss = 4.868e-08, Jres = 2.974e-07, alpha = 2.835e-05, improvement_ratio = 1.0\n",
      "Iteration 50, loss = 7.051e-09, Jres = 2.978e-08, alpha = 4.579e-06, improvement_ratio = 1.0\n"
     ]
    },
    {
     "data": {
      "application/vnd.jupyter.widget-view+json": {
       "model_id": "52b9ad12c0ef4bafa23365c32c1ee690",
       "version_major": 2,
       "version_minor": 0
      },
      "text/plain": [
       "  0%|          | 0/150 [00:00<?, ?it/s]"
      ]
     },
     "metadata": {},
     "output_type": "display_data"
    },
    {
     "name": "stdout",
     "output_type": "stream",
     "text": [
      "Iteration 0, loss = 4.486766667420588e-09\n",
      "Iteration 0 Step Failed\n",
      "Iteration 1 Step Failed\n",
      "Iteration 3 Step Failed\n",
      "Iteration 5 Step Failed\n",
      "Iteration 6 Step Failed\n",
      "Iteration 7 Step Failed\n",
      "Iteration 9 Step Failed\n",
      "Iteration 10 Step Failed\n",
      "Iteration 11 Step Failed\n",
      "Iteration 12 Step Failed\n",
      "Iteration 13 Step Failed\n",
      "Iteration 14 Step Failed\n",
      "Iteration 15 Step Failed\n",
      "Iteration 16 Step Failed\n",
      "Iteration 17 Step Failed\n",
      "Iteration 18 Step Failed\n",
      "Iteration 19 Step Failed\n",
      "Iteration 20 Step Failed\n",
      "Iteration 21 Step Failed\n",
      "Iteration 22 Step Failed\n",
      "Iteration 23 Step Failed\n",
      "Iteration 24 Step Failed\n",
      "Iteration 25 Step Failed\n",
      "Converged by no improvement\n"
     ]
    },
    {
     "data": {
      "application/vnd.jupyter.widget-view+json": {
       "model_id": "f70f1cf614f54dfe96543157d2aec5b2",
       "version_major": 2,
       "version_minor": 0
      },
      "text/plain": [
       "  0%|          | 0/101 [00:00<?, ?it/s]"
      ]
     },
     "metadata": {},
     "output_type": "display_data"
    },
    {
     "name": "stdout",
     "output_type": "stream",
     "text": [
      "Iteration 0, loss = 3.112e-05, Jres = 182.7, alpha = 0.04167, improvement_ratio = 1.0\n",
      "Iteration 1, loss = 1.923e-05, Jres = 0.0001627, alpha = 0.03472, improvement_ratio = 1.0\n",
      "Iteration 2, loss = 1.548e-05, Jres = 3.818e-05, alpha = 0.02894, improvement_ratio = 1.0\n",
      "Iteration 3, loss = 1.325e-05, Jres = 2.806e-05, alpha = 0.02411, improvement_ratio = 1.0\n",
      "Iteration 4, loss = 1.184e-05, Jres = 2.46e-05, alpha = 0.02009, improvement_ratio = 1.0\n",
      "Iteration 5, loss = 1.089e-05, Jres = 2.292e-05, alpha = 0.01674, improvement_ratio = 1.0\n",
      "Iteration 10, loss = 8.001e-06, Jres = 1.964e-05, alpha = 0.006729, improvement_ratio = 1.0\n",
      "Iteration 20, loss = 3.604e-06, Jres = 1.242e-05, alpha = 0.001087, improvement_ratio = 1.0\n",
      "Iteration 30, loss = 3.416e-07, Jres = 3.552e-06, alpha = 0.0001755, improvement_ratio = 1.0\n",
      "Iteration 40, loss = 2.285e-08, Jres = 1.961e-07, alpha = 2.835e-05, improvement_ratio = 1.0\n",
      "Iteration 50, loss = 3.021e-09, Jres = 1.672e-08, alpha = 4.579e-06, improvement_ratio = 1.0\n"
     ]
    },
    {
     "data": {
      "application/vnd.jupyter.widget-view+json": {
       "model_id": "2923f432441246f78677c6d8cf430abf",
       "version_major": 2,
       "version_minor": 0
      },
      "text/plain": [
       "  0%|          | 0/150 [00:00<?, ?it/s]"
      ]
     },
     "metadata": {},
     "output_type": "display_data"
    },
    {
     "name": "stdout",
     "output_type": "stream",
     "text": [
      "Iteration 0, loss = 3.326591875847015e-09\n",
      "Iteration 1 Step Failed\n",
      "Iteration 3 Step Failed\n",
      "Iteration 4 Step Failed\n",
      "Iteration 5 Step Failed\n",
      "Iteration 6 Step Failed\n",
      "Iteration 7 Step Failed\n",
      "Iteration 9 Step Failed\n",
      "Iteration 10 Step Failed\n",
      "Iteration 11 Step Failed\n",
      "Iteration 12 Step Failed\n",
      "Iteration 13 Step Failed\n",
      "Iteration 14 Step Failed\n",
      "Iteration 15 Step Failed\n",
      "Iteration 16 Step Failed\n",
      "Iteration 17 Step Failed\n",
      "Iteration 18 Step Failed\n",
      "Iteration 19 Step Failed\n",
      "Iteration 20 Step Failed\n",
      "Iteration 21 Step Failed\n",
      "Iteration 22 Step Failed\n",
      "Iteration 23 Step Failed\n",
      "Iteration 24 Step Failed\n",
      "Iteration 25 Step Failed\n",
      "Converged by no improvement\n"
     ]
    },
    {
     "data": {
      "application/vnd.jupyter.widget-view+json": {
       "model_id": "e8d89b7d1be4437180dc92ff6146299e",
       "version_major": 2,
       "version_minor": 0
      },
      "text/plain": [
       "  0%|          | 0/101 [00:00<?, ?it/s]"
      ]
     },
     "metadata": {},
     "output_type": "display_data"
    },
    {
     "name": "stdout",
     "output_type": "stream",
     "text": [
      "Iteration 0, loss = 2.26e-05, Jres = 135.2, alpha = 0.04167, improvement_ratio = 1.0\n",
      "Iteration 1, loss = 1.437e-05, Jres = 0.0001147, alpha = 0.03472, improvement_ratio = 1.0\n",
      "Iteration 2, loss = 1.16e-05, Jres = 3.231e-05, alpha = 0.02894, improvement_ratio = 1.0\n",
      "Iteration 3, loss = 9.945e-06, Jres = 2.418e-05, alpha = 0.02411, improvement_ratio = 1.0\n",
      "Iteration 4, loss = 8.902e-06, Jres = 2.121e-05, alpha = 0.02009, improvement_ratio = 1.0\n",
      "Iteration 5, loss = 8.193e-06, Jres = 1.974e-05, alpha = 0.01674, improvement_ratio = 1.0\n",
      "Iteration 10, loss = 5.847e-06, Jres = 1.676e-05, alpha = 0.006729, improvement_ratio = 1.0\n",
      "Iteration 20, loss = 2.467e-06, Jres = 1.029e-05, alpha = 0.001087, improvement_ratio = 1.0\n",
      "Iteration 30, loss = 2.616e-07, Jres = 2.979e-06, alpha = 0.0001755, improvement_ratio = 1.0\n",
      "Iteration 40, loss = 2.447e-08, Jres = 1.834e-07, alpha = 2.835e-05, improvement_ratio = 1.0\n",
      "Iteration 50, loss = 3.051e-09, Jres = 1.776e-08, alpha = 4.579e-06, improvement_ratio = 1.0\n"
     ]
    },
    {
     "data": {
      "application/vnd.jupyter.widget-view+json": {
       "model_id": "045897238eb041d4ae3915a9afd220d8",
       "version_major": 2,
       "version_minor": 0
      },
      "text/plain": [
       "  0%|          | 0/150 [00:00<?, ?it/s]"
      ]
     },
     "metadata": {},
     "output_type": "display_data"
    },
    {
     "name": "stdout",
     "output_type": "stream",
     "text": [
      "Iteration 0, loss = 2.6282248945288204e-09\n",
      "Iteration 2 Step Failed\n",
      "Iteration 3 Step Failed\n",
      "Iteration 4 Step Failed\n",
      "Iteration 5 Step Failed\n",
      "Iteration 6 Step Failed\n",
      "Iteration 7 Step Failed\n",
      "Iteration 9 Step Failed\n",
      "Iteration 10 Step Failed\n",
      "Iteration 11 Step Failed\n",
      "Iteration 12 Step Failed\n",
      "Iteration 13 Step Failed\n",
      "Iteration 14 Step Failed\n",
      "Iteration 15 Step Failed\n",
      "Iteration 16 Step Failed\n",
      "Iteration 17 Step Failed\n",
      "Iteration 18 Step Failed\n",
      "Iteration 19 Step Failed\n",
      "Iteration 20 Step Failed\n",
      "Iteration 21 Step Failed\n",
      "Iteration 22 Step Failed\n",
      "Iteration 23 Step Failed\n",
      "Iteration 24 Step Failed\n",
      "Iteration 25 Step Failed\n",
      "Converged by no improvement\n"
     ]
    },
    {
     "data": {
      "application/vnd.jupyter.widget-view+json": {
       "model_id": "59688fa801b743afb24ec30a2495bda9",
       "version_major": 2,
       "version_minor": 0
      },
      "text/plain": [
       "  0%|          | 0/101 [00:00<?, ?it/s]"
      ]
     },
     "metadata": {},
     "output_type": "display_data"
    },
    {
     "name": "stdout",
     "output_type": "stream",
     "text": [
      "Iteration 0, loss = 1.056e-05, Jres = 73.67, alpha = 0.04167, improvement_ratio = 1.0\n",
      "Iteration 1, loss = 6.605e-06, Jres = 8.531e-05, alpha = 0.03472, improvement_ratio = 1.0\n",
      "Iteration 2, loss = 5.314e-06, Jres = 2.214e-05, alpha = 0.02894, improvement_ratio = 1.0\n",
      "Iteration 3, loss = 4.545e-06, Jres = 1.635e-05, alpha = 0.02411, improvement_ratio = 1.0\n",
      "Iteration 4, loss = 4.066e-06, Jres = 1.431e-05, alpha = 0.02009, improvement_ratio = 1.0\n",
      "Iteration 5, loss = 3.749e-06, Jres = 1.334e-05, alpha = 0.01674, improvement_ratio = 1.0\n",
      "Iteration 10, loss = 2.788e-06, Jres = 1.152e-05, alpha = 0.006729, improvement_ratio = 1.0\n",
      "Iteration 20, loss = 1.283e-06, Jres = 7.386e-06, alpha = 0.001087, improvement_ratio = 1.0\n",
      "Iteration 30, loss = 1.328e-07, Jres = 2.149e-06, alpha = 0.0001755, improvement_ratio = 1.0\n",
      "Iteration 40, loss = 1.095e-08, Jres = 1.319e-07, alpha = 2.835e-05, improvement_ratio = 1.0\n",
      "Iteration 50, loss = 1.474e-09, Jres = 1.318e-08, alpha = 4.579e-06, improvement_ratio = 1.0\n"
     ]
    },
    {
     "data": {
      "application/vnd.jupyter.widget-view+json": {
       "model_id": "2e2a9da5308c454c8f9cf9c8297650d7",
       "version_major": 2,
       "version_minor": 0
      },
      "text/plain": [
       "  0%|          | 0/150 [00:00<?, ?it/s]"
      ]
     },
     "metadata": {},
     "output_type": "display_data"
    },
    {
     "name": "stdout",
     "output_type": "stream",
     "text": [
      "Iteration 0, loss = 1.953429000881505e-09\n",
      "Iteration 4 Step Failed\n",
      "Iteration 6 Step Failed\n",
      "Iteration 7 Step Failed\n",
      "Iteration 8 Step Failed\n",
      "Iteration 9 Step Failed\n",
      "Iteration 10 Step Failed\n",
      "Iteration 11 Step Failed\n",
      "Iteration 12 Step Failed\n",
      "Iteration 13 Step Failed\n",
      "Iteration 14 Step Failed\n",
      "Iteration 16 Step Failed\n",
      "Iteration 17 Step Failed\n",
      "Iteration 18 Step Failed\n",
      "Iteration 19 Step Failed\n",
      "Iteration 20 Step Failed\n",
      "Iteration 21 Step Failed\n",
      "Iteration 22 Step Failed\n",
      "Iteration 23 Step Failed\n",
      "Iteration 25 Step Failed\n",
      "Converged by no improvement\n"
     ]
    },
    {
     "data": {
      "application/vnd.jupyter.widget-view+json": {
       "model_id": "c2f6a6c6f5cd412b95a9af30aa804f6f",
       "version_major": 2,
       "version_minor": 0
      },
      "text/plain": [
       "  0%|          | 0/101 [00:00<?, ?it/s]"
      ]
     },
     "metadata": {},
     "output_type": "display_data"
    },
    {
     "name": "stdout",
     "output_type": "stream",
     "text": [
      "Iteration 0, loss = 2.455e-06, Jres = 117.6, alpha = 0.04167, improvement_ratio = 1.0\n",
      "Iteration 1, loss = 1.039e-06, Jres = 6.873e-05, alpha = 0.03472, improvement_ratio = 1.0\n",
      "Iteration 2, loss = 6.879e-07, Jres = 4.975e-06, alpha = 0.02894, improvement_ratio = 1.0\n",
      "Iteration 3, loss = 5.319e-07, Jres = 3.51e-06, alpha = 0.02411, improvement_ratio = 1.0\n",
      "Iteration 4, loss = 4.396e-07, Jres = 3.228e-06, alpha = 0.02009, improvement_ratio = 1.0\n",
      "Iteration 5, loss = 3.755e-07, Jres = 3.133e-06, alpha = 0.01674, improvement_ratio = 1.0\n",
      "Iteration 10, loss = 2.348e-07, Jres = 2.89e-06, alpha = 0.006729, improvement_ratio = 1.0\n",
      "Iteration 20, loss = 1.2e-07, Jres = 2.07e-06, alpha = 0.001087, improvement_ratio = 1.0\n",
      "Iteration 30, loss = 1.854e-08, Jres = 5.865e-07, alpha = 0.0001755, improvement_ratio = 1.0\n",
      "Iteration 40, loss = 5.596e-09, Jres = 1.728e-08, alpha = 2.835e-05, improvement_ratio = 1.0\n"
     ]
    },
    {
     "data": {
      "application/vnd.jupyter.widget-view+json": {
       "model_id": "8eac967c4c974f3eb28c6abff5610647",
       "version_major": 2,
       "version_minor": 0
      },
      "text/plain": [
       "  0%|          | 0/150 [00:00<?, ?it/s]"
      ]
     },
     "metadata": {},
     "output_type": "display_data"
    },
    {
     "name": "stdout",
     "output_type": "stream",
     "text": [
      "Iteration 0, loss = 8.760685274288138e-09\n",
      "Converged by no improvement\n"
     ]
    },
    {
     "data": {
      "application/vnd.jupyter.widget-view+json": {
       "model_id": "4b7ba907888f4e87956b10641035a8ec",
       "version_major": 2,
       "version_minor": 0
      },
      "text/plain": [
       "  0%|          | 0/101 [00:00<?, ?it/s]"
      ]
     },
     "metadata": {},
     "output_type": "display_data"
    },
    {
     "name": "stdout",
     "output_type": "stream",
     "text": [
      "Iteration 0, loss = 8.551e-07, Jres = 80.52, alpha = 0.04167, improvement_ratio = 1.0\n",
      "Iteration 1, loss = 4.474e-07, Jres = 3.078e-05, alpha = 0.03472, improvement_ratio = 1.0\n",
      "Iteration 2, loss = 3.277e-07, Jres = 3.998e-06, alpha = 0.02894, improvement_ratio = 1.0\n",
      "Iteration 3, loss = 2.667e-07, Jres = 3.109e-06, alpha = 0.02411, improvement_ratio = 1.0\n",
      "Iteration 4, loss = 2.284e-07, Jres = 2.717e-06, alpha = 0.02009, improvement_ratio = 1.0\n",
      "Iteration 5, loss = 2.004e-07, Jres = 2.499e-06, alpha = 0.01674, improvement_ratio = 1.0\n",
      "Iteration 10, loss = 1.076e-07, Jres = 1.921e-06, alpha = 0.006729, improvement_ratio = 1.0\n",
      "Iteration 20, loss = 2.531e-08, Jres = 9.076e-07, alpha = 0.001087, improvement_ratio = 1.0\n",
      "Iteration 30, loss = 7.149e-09, Jres = 2.67e-07, alpha = 0.0001755, improvement_ratio = 1.0\n",
      "Iteration 40, loss = 3.179e-09, Jres = 2.662e-08, alpha = 2.835e-05, improvement_ratio = 1.0\n"
     ]
    },
    {
     "data": {
      "application/vnd.jupyter.widget-view+json": {
       "model_id": "328e5bbbbb5d4bb28ed062b2cafbfb33",
       "version_major": 2,
       "version_minor": 0
      },
      "text/plain": [
       "  0%|          | 0/150 [00:00<?, ?it/s]"
      ]
     },
     "metadata": {},
     "output_type": "display_data"
    },
    {
     "name": "stdout",
     "output_type": "stream",
     "text": [
      "Iteration 0, loss = 2.2018636589422637e-09\n",
      "Iteration 132 Step Failed\n",
      "Converged by no improvement\n"
     ]
    },
    {
     "data": {
      "application/vnd.jupyter.widget-view+json": {
       "model_id": "414b49dccd1b48b9a83ab44122c9f2c6",
       "version_major": 2,
       "version_minor": 0
      },
      "text/plain": [
       "  0%|          | 0/101 [00:00<?, ?it/s]"
      ]
     },
     "metadata": {},
     "output_type": "display_data"
    },
    {
     "name": "stdout",
     "output_type": "stream",
     "text": [
      "Iteration 0, loss = 4.07e-06, Jres = 225.7, alpha = 0.04167, improvement_ratio = 1.0\n",
      "Iteration 1, loss = 1.829e-06, Jres = 8.998e-05, alpha = 0.03472, improvement_ratio = 1.0\n",
      "Iteration 2, loss = 1.196e-06, Jres = 1.07e-05, alpha = 0.02894, improvement_ratio = 1.0\n",
      "Iteration 3, loss = 8.72e-07, Jres = 7.388e-06, alpha = 0.02411, improvement_ratio = 1.0\n",
      "Iteration 4, loss = 6.921e-07, Jres = 5.779e-06, alpha = 0.02009, improvement_ratio = 1.0\n",
      "Iteration 5, loss = 5.869e-07, Jres = 4.914e-06, alpha = 0.01674, improvement_ratio = 1.0\n",
      "Iteration 10, loss = 3.59e-07, Jres = 3.863e-06, alpha = 0.006729, improvement_ratio = 1.0\n",
      "Iteration 20, loss = 1.482e-07, Jres = 2.264e-06, alpha = 0.001087, improvement_ratio = 1.0\n",
      "Iteration 30, loss = 2.055e-08, Jres = 6.537e-07, alpha = 0.0001755, improvement_ratio = 1.0\n",
      "Iteration 40, loss = 3.033e-09, Jres = 2.737e-08, alpha = 2.835e-05, improvement_ratio = 1.0\n"
     ]
    },
    {
     "data": {
      "application/vnd.jupyter.widget-view+json": {
       "model_id": "a91cd9e72e694a43b59d9ef70b42e3d8",
       "version_major": 2,
       "version_minor": 0
      },
      "text/plain": [
       "  0%|          | 0/150 [00:00<?, ?it/s]"
      ]
     },
     "metadata": {},
     "output_type": "display_data"
    },
    {
     "name": "stdout",
     "output_type": "stream",
     "text": [
      "Iteration 0, loss = 4.160233581644047e-09\n",
      "Iteration 131 Step Failed\n",
      "Iteration 132 Step Failed\n",
      "Converged by no improvement\n"
     ]
    },
    {
     "data": {
      "application/vnd.jupyter.widget-view+json": {
       "model_id": "936bcf990f494e3084205a0d23f5f3b3",
       "version_major": 2,
       "version_minor": 0
      },
      "text/plain": [
       "  0%|          | 0/101 [00:00<?, ?it/s]"
      ]
     },
     "metadata": {},
     "output_type": "display_data"
    },
    {
     "name": "stdout",
     "output_type": "stream",
     "text": [
      "Iteration 0, loss = 1.558e-05, Jres = 147.9, alpha = 0.04167, improvement_ratio = 1.0\n",
      "Iteration 1, loss = 1.008e-05, Jres = 0.0001301, alpha = 0.03472, improvement_ratio = 1.0\n",
      "Iteration 2, loss = 8.394e-06, Jres = 2.69e-05, alpha = 0.02894, improvement_ratio = 1.0\n",
      "Iteration 3, loss = 7.373e-06, Jres = 2.03e-05, alpha = 0.02411, improvement_ratio = 1.0\n",
      "Iteration 4, loss = 6.711e-06, Jres = 1.818e-05, alpha = 0.02009, improvement_ratio = 1.0\n",
      "Iteration 5, loss = 6.248e-06, Jres = 1.718e-05, alpha = 0.01674, improvement_ratio = 1.0\n",
      "Iteration 10, loss = 4.673e-06, Jres = 1.495e-05, alpha = 0.006729, improvement_ratio = 1.0\n",
      "Iteration 20, loss = 2.117e-06, Jres = 9.529e-06, alpha = 0.001087, improvement_ratio = 1.0\n",
      "Iteration 30, loss = 2.092e-07, Jres = 2.754e-06, alpha = 0.0001755, improvement_ratio = 1.0\n",
      "Iteration 40, loss = 1.638e-08, Jres = 1.633e-07, alpha = 2.835e-05, improvement_ratio = 1.0\n",
      "Iteration 50, loss = 2.062e-09, Jres = 1.569e-08, alpha = 4.579e-06, improvement_ratio = 1.0\n"
     ]
    },
    {
     "data": {
      "application/vnd.jupyter.widget-view+json": {
       "model_id": "d43ef5040a3a422899cb26ded57415db",
       "version_major": 2,
       "version_minor": 0
      },
      "text/plain": [
       "  0%|          | 0/150 [00:00<?, ?it/s]"
      ]
     },
     "metadata": {},
     "output_type": "display_data"
    },
    {
     "name": "stdout",
     "output_type": "stream",
     "text": [
      "Iteration 0, loss = 2.2684402493433317e-09\n",
      "Iteration 1 Step Failed\n",
      "Iteration 2 Step Failed\n",
      "Iteration 3 Step Failed\n",
      "Iteration 4 Step Failed\n",
      "Iteration 5 Step Failed\n",
      "Iteration 6 Step Failed\n",
      "Iteration 7 Step Failed\n",
      "Iteration 9 Step Failed\n",
      "Iteration 10 Step Failed\n",
      "Iteration 11 Step Failed\n",
      "Iteration 12 Step Failed\n",
      "Iteration 13 Step Failed\n",
      "Iteration 14 Step Failed\n",
      "Iteration 15 Step Failed\n",
      "Iteration 16 Step Failed\n",
      "Iteration 17 Step Failed\n",
      "Iteration 18 Step Failed\n",
      "Iteration 20 Step Failed\n",
      "Iteration 21 Step Failed\n",
      "Iteration 22 Step Failed\n",
      "Iteration 23 Step Failed\n",
      "Iteration 24 Step Failed\n",
      "Converged by no improvement\n"
     ]
    },
    {
     "data": {
      "application/vnd.jupyter.widget-view+json": {
       "model_id": "7cf42adc29b14df0b359c3342f522c18",
       "version_major": 2,
       "version_minor": 0
      },
      "text/plain": [
       "  0%|          | 0/101 [00:00<?, ?it/s]"
      ]
     },
     "metadata": {},
     "output_type": "display_data"
    },
    {
     "name": "stdout",
     "output_type": "stream",
     "text": [
      "Iteration 0, loss = 4.279e-05, Jres = 165.4, alpha = 0.04167, improvement_ratio = 1.0\n",
      "Iteration 1, loss = 2.652e-05, Jres = 0.0002717, alpha = 0.03472, improvement_ratio = 1.0\n",
      "Iteration 2, loss = 2.2e-05, Jres = 4.451e-05, alpha = 0.02894, improvement_ratio = 1.0\n",
      "Iteration 3, loss = 1.929e-05, Jres = 3.288e-05, alpha = 0.02411, improvement_ratio = 1.0\n",
      "Iteration 4, loss = 1.752e-05, Jres = 2.938e-05, alpha = 0.02009, improvement_ratio = 1.0\n",
      "Iteration 5, loss = 1.628e-05, Jres = 2.775e-05, alpha = 0.01674, improvement_ratio = 1.0\n",
      "Iteration 10, loss = 1.239e-05, Jres = 2.424e-05, alpha = 0.006729, improvement_ratio = 1.0\n",
      "Iteration 20, loss = 5.844e-06, Jres = 1.577e-05, alpha = 0.001087, improvement_ratio = 1.0\n",
      "Iteration 30, loss = 5.552e-07, Jres = 4.538e-06, alpha = 0.0001755, improvement_ratio = 1.0\n",
      "Iteration 40, loss = 3.552e-08, Jres = 2.552e-07, alpha = 2.835e-05, improvement_ratio = 1.0\n",
      "Iteration 50, loss = 4.76e-09, Jres = 2.393e-08, alpha = 4.579e-06, improvement_ratio = 1.0\n"
     ]
    },
    {
     "data": {
      "application/vnd.jupyter.widget-view+json": {
       "model_id": "f0c0118ff7f44a588d1dbe1a8f5c4240",
       "version_major": 2,
       "version_minor": 0
      },
      "text/plain": [
       "  0%|          | 0/150 [00:00<?, ?it/s]"
      ]
     },
     "metadata": {},
     "output_type": "display_data"
    },
    {
     "name": "stdout",
     "output_type": "stream",
     "text": [
      "Iteration 0, loss = 3.931382152002598e-09\n",
      "Iteration 1 Step Failed\n",
      "Iteration 2 Step Failed\n",
      "Iteration 3 Step Failed\n",
      "Iteration 4 Step Failed\n",
      "Iteration 5 Step Failed\n",
      "Iteration 6 Step Failed\n",
      "Iteration 7 Step Failed\n",
      "Iteration 8 Step Failed\n",
      "Iteration 9 Step Failed\n",
      "Iteration 11 Step Failed\n",
      "Iteration 12 Step Failed\n",
      "Iteration 13 Step Failed\n",
      "Iteration 14 Step Failed\n",
      "Iteration 16 Step Failed\n",
      "Iteration 17 Step Failed\n",
      "Iteration 18 Step Failed\n",
      "Iteration 19 Step Failed\n",
      "Iteration 20 Step Failed\n",
      "Iteration 22 Step Failed\n",
      "Iteration 23 Step Failed\n",
      "Iteration 24 Step Failed\n",
      "Iteration 25 Step Failed\n",
      "Converged by no improvement\n"
     ]
    },
    {
     "data": {
      "application/vnd.jupyter.widget-view+json": {
       "model_id": "a1984fdc330048249731a93ca8146a27",
       "version_major": 2,
       "version_minor": 0
      },
      "text/plain": [
       "  0%|          | 0/101 [00:00<?, ?it/s]"
      ]
     },
     "metadata": {},
     "output_type": "display_data"
    },
    {
     "name": "stdout",
     "output_type": "stream",
     "text": [
      "Iteration 0, loss = 4.246e-05, Jres = 224.9, alpha = 0.04167, improvement_ratio = 1.0\n",
      "Iteration 1, loss = 2.551e-05, Jres = 0.0003247, alpha = 0.03472, improvement_ratio = 1.0\n",
      "Iteration 2, loss = 2.13e-05, Jres = 4.365e-05, alpha = 0.02894, improvement_ratio = 1.0\n",
      "Iteration 3, loss = 1.878e-05, Jres = 3.194e-05, alpha = 0.02411, improvement_ratio = 1.0\n",
      "Iteration 4, loss = 1.713e-05, Jres = 2.863e-05, alpha = 0.02009, improvement_ratio = 1.0\n",
      "Iteration 5, loss = 1.597e-05, Jres = 2.715e-05, alpha = 0.01674, improvement_ratio = 1.0\n",
      "Iteration 10, loss = 1.249e-05, Jres = 2.401e-05, alpha = 0.006729, improvement_ratio = 1.0\n",
      "Iteration 20, loss = 6.157e-06, Jres = 1.609e-05, alpha = 0.001087, improvement_ratio = 1.0\n",
      "Iteration 30, loss = 6.031e-07, Jres = 4.665e-06, alpha = 0.0001755, improvement_ratio = 1.0\n",
      "Iteration 40, loss = 4.62e-08, Jres = 2.761e-07, alpha = 2.835e-05, improvement_ratio = 1.0\n",
      "Iteration 50, loss = 7.535e-09, Jres = 3.072e-08, alpha = 4.579e-06, improvement_ratio = 1.0\n"
     ]
    },
    {
     "data": {
      "application/vnd.jupyter.widget-view+json": {
       "model_id": "aeb0ee7db2b6464c8fc117b0e25ad1b2",
       "version_major": 2,
       "version_minor": 0
      },
      "text/plain": [
       "  0%|          | 0/150 [00:00<?, ?it/s]"
      ]
     },
     "metadata": {},
     "output_type": "display_data"
    },
    {
     "name": "stdout",
     "output_type": "stream",
     "text": [
      "Iteration 0, loss = 4.067114701075925e-09\n",
      "Iteration 3 Step Failed\n",
      "Iteration 4 Step Failed\n",
      "Iteration 5 Step Failed\n",
      "Iteration 6 Step Failed\n",
      "Iteration 7 Step Failed\n",
      "Iteration 8 Step Failed\n",
      "Iteration 9 Step Failed\n",
      "Iteration 10 Step Failed\n",
      "Iteration 11 Step Failed\n",
      "Iteration 12 Step Failed\n",
      "Iteration 13 Step Failed\n",
      "Iteration 14 Step Failed\n",
      "Iteration 16 Step Failed\n",
      "Iteration 17 Step Failed\n",
      "Iteration 18 Step Failed\n",
      "Iteration 19 Step Failed\n",
      "Iteration 20 Step Failed\n",
      "Iteration 21 Step Failed\n",
      "Iteration 22 Step Failed\n",
      "Iteration 23 Step Failed\n",
      "Iteration 24 Step Failed\n",
      "Iteration 25 Step Failed\n",
      "Converged by no improvement\n"
     ]
    },
    {
     "data": {
      "application/vnd.jupyter.widget-view+json": {
       "model_id": "18e22fac6cce42e490a23eaedb6f6137",
       "version_major": 2,
       "version_minor": 0
      },
      "text/plain": [
       "  0%|          | 0/10099 [00:00<?, ?it/s]"
      ]
     },
     "metadata": {},
     "output_type": "display_data"
    },
    {
     "data": {
      "application/vnd.jupyter.widget-view+json": {
       "model_id": "531665f5b4554f3cb64b7c4cbabcab3d",
       "version_major": 2,
       "version_minor": 0
      },
      "text/plain": [
       "  0%|          | 0/501 [00:00<?, ?it/s]"
      ]
     },
     "metadata": {},
     "output_type": "display_data"
    },
    {
     "name": "stdout",
     "output_type": "stream",
     "text": [
      "Iteration 0, loss = 0.4439, Jres = 44.89, alpha = 0.08333, improvement_ratio = 0.9712\n",
      "Iteration 1, loss = 0.2334, Jres = 7.763, alpha = 0.06944, improvement_ratio = 1.006\n",
      "Iteration 2, loss = 0.1549, Jres = 2.457, alpha = 0.05787, improvement_ratio = 1.018\n",
      "Iteration 3, loss = 0.115, Jres = 1.103, alpha = 0.04823, improvement_ratio = 1.031\n",
      "Iteration 4, loss = 0.09098, Jres = 0.7302, alpha = 0.04019, improvement_ratio = 1.053\n",
      "Iteration 5, loss = 0.07271, Jres = 0.6387, alpha = 0.03349, improvement_ratio = 1.072\n",
      "Iteration 100, loss = 0.006384, Jres = 0.000123, alpha = 8.333e-07, improvement_ratio = 1.0\n",
      "Iteration 200, loss = 0.006171, Jres = 9.157e-06, alpha = 8.333e-07, improvement_ratio = 1.0\n",
      "Iteration 300, loss = 0.00606, Jres = 5.466e-06, alpha = 8.333e-07, improvement_ratio = 1.0\n",
      "Iteration 400, loss = 0.005981, Jres = 5.766e-06, alpha = 8.333e-07, improvement_ratio = 1.0\n",
      "Iteration 500, loss = 0.005919, Jres = 5.734e-06, alpha = 8.333e-07, improvement_ratio = 1.0\n"
     ]
    },
    {
     "data": {
      "application/vnd.jupyter.widget-view+json": {
       "model_id": "6d4cbaada0d5442f8a44d1fe065bb37e",
       "version_major": 2,
       "version_minor": 0
      },
      "text/plain": [
       "  0%|          | 0/500 [00:00<?, ?it/s]"
      ]
     },
     "metadata": {},
     "output_type": "display_data"
    },
    {
     "name": "stdout",
     "output_type": "stream",
     "text": [
      "Iteration 0, loss = 0.005917640246862752\n",
      "Iteration 93 Step Failed\n",
      "Iteration 234 Step Failed\n",
      "Iteration 306 Step Failed\n",
      "Iteration 318 Step Failed\n",
      "Iteration 360 Step Failed\n",
      "Iteration 385 Step Failed\n",
      "Iteration 412 Step Failed\n",
      "Iteration 422 Step Failed\n",
      "Iteration 423 Step Failed\n",
      "Iteration 443 Step Failed\n",
      "Iteration 452 Step Failed\n",
      "Iteration 456 Step Failed\n",
      "Iteration 462 Step Failed\n",
      "Iteration 475 Step Failed\n",
      "Iteration 494 Step Failed\n",
      "Iteration 496 Step Failed\n",
      "Iteration 497 Step Failed\n",
      "Iteration 498 Step Failed\n",
      "Iteration 499 Step Failed\n"
     ]
    },
    {
     "data": {
      "application/vnd.jupyter.widget-view+json": {
       "model_id": "f849994a0de1425bb9592760306a93d0",
       "version_major": 2,
       "version_minor": 0
      },
      "text/plain": [
       "  0%|          | 0/10099 [00:00<?, ?it/s]"
      ]
     },
     "metadata": {},
     "output_type": "display_data"
    },
    {
     "data": {
      "application/vnd.jupyter.widget-view+json": {
       "model_id": "a0d1156fc6ae425fbb35926043501f3d",
       "version_major": 2,
       "version_minor": 0
      },
      "text/plain": [
       "  0%|          | 0/10099 [00:00<?, ?it/s]"
      ]
     },
     "metadata": {},
     "output_type": "display_data"
    },
    {
     "data": {
      "application/vnd.jupyter.widget-view+json": {
       "model_id": "3cd1dbecdc194f358249ffdc6e1f49ac",
       "version_major": 2,
       "version_minor": 0
      },
      "text/plain": [
       "  0%|          | 0/10099 [00:00<?, ?it/s]"
      ]
     },
     "metadata": {},
     "output_type": "display_data"
    },
    {
     "data": {
      "application/vnd.jupyter.widget-view+json": {
       "model_id": "194537c4c841409788f76e1314437d48",
       "version_major": 2,
       "version_minor": 0
      },
      "text/plain": [
       "  0%|          | 0/10099 [00:00<?, ?it/s]"
      ]
     },
     "metadata": {},
     "output_type": "display_data"
    },
    {
     "data": {
      "application/vnd.jupyter.widget-view+json": {
       "model_id": "6a26f91a4a74426891448b50de3c25a1",
       "version_major": 2,
       "version_minor": 0
      },
      "text/plain": [
       "  0%|          | 0/10099 [00:00<?, ?it/s]"
      ]
     },
     "metadata": {},
     "output_type": "display_data"
    },
    {
     "data": {
      "application/vnd.jupyter.widget-view+json": {
       "model_id": "668dc05741494479ad52b645771c0e9d",
       "version_major": 2,
       "version_minor": 0
      },
      "text/plain": [
       "  0%|          | 0/10099 [00:00<?, ?it/s]"
      ]
     },
     "metadata": {},
     "output_type": "display_data"
    },
    {
     "data": {
      "application/vnd.jupyter.widget-view+json": {
       "model_id": "9c43ceb0982f44acba8362c16014c67a",
       "version_major": 2,
       "version_minor": 0
      },
      "text/plain": [
       "  0%|          | 0/10099 [00:00<?, ?it/s]"
      ]
     },
     "metadata": {},
     "output_type": "display_data"
    },
    {
     "data": {
      "application/vnd.jupyter.widget-view+json": {
       "model_id": "659b884f88054cb09158ff237aa95454",
       "version_major": 2,
       "version_minor": 0
      },
      "text/plain": [
       "  0%|          | 0/10099 [00:00<?, ?it/s]"
      ]
     },
     "metadata": {},
     "output_type": "display_data"
    },
    {
     "data": {
      "application/vnd.jupyter.widget-view+json": {
       "model_id": "d8596ff92f1a4d96a59cb3196605ca76",
       "version_major": 2,
       "version_minor": 0
      },
      "text/plain": [
       "  0%|          | 0/10099 [00:00<?, ?it/s]"
      ]
     },
     "metadata": {},
     "output_type": "display_data"
    },
    {
     "data": {
      "application/vnd.jupyter.widget-view+json": {
       "model_id": "43b1f6639e8b495299339890902fef78",
       "version_major": 2,
       "version_minor": 0
      },
      "text/plain": [
       "  0%|          | 0/10099 [00:00<?, ?it/s]"
      ]
     },
     "metadata": {},
     "output_type": "display_data"
    },
    {
     "data": {
      "application/vnd.jupyter.widget-view+json": {
       "model_id": "018f0a852a7c48e48941b5ee61f9280b",
       "version_major": 2,
       "version_minor": 0
      },
      "text/plain": [
       "  0%|          | 0/10099 [00:00<?, ?it/s]"
      ]
     },
     "metadata": {},
     "output_type": "display_data"
    },
    {
     "data": {
      "application/vnd.jupyter.widget-view+json": {
       "model_id": "05c4f2ca470a467986c6c4505ea54946",
       "version_major": 2,
       "version_minor": 0
      },
      "text/plain": [
       "  0%|          | 0/10099 [00:00<?, ?it/s]"
      ]
     },
     "metadata": {},
     "output_type": "display_data"
    },
    {
     "data": {
      "application/vnd.jupyter.widget-view+json": {
       "model_id": "807d526dd6ce47ada8f0053141ba5ae0",
       "version_major": 2,
       "version_minor": 0
      },
      "text/plain": [
       "  0%|          | 0/10099 [00:00<?, ?it/s]"
      ]
     },
     "metadata": {},
     "output_type": "display_data"
    },
    {
     "data": {
      "application/vnd.jupyter.widget-view+json": {
       "model_id": "5b05ec2f5f7546d480bbfc00f9cee4f5",
       "version_major": 2,
       "version_minor": 0
      },
      "text/plain": [
       "  0%|          | 0/10099 [00:00<?, ?it/s]"
      ]
     },
     "metadata": {},
     "output_type": "display_data"
    },
    {
     "data": {
      "application/vnd.jupyter.widget-view+json": {
       "model_id": "b3404e63d8af4a9c84e044ca0994be03",
       "version_major": 2,
       "version_minor": 0
      },
      "text/plain": [
       "  0%|          | 0/10099 [00:00<?, ?it/s]"
      ]
     },
     "metadata": {},
     "output_type": "display_data"
    },
    {
     "data": {
      "application/vnd.jupyter.widget-view+json": {
       "model_id": "5c636c85795542e686e557285743a41d",
       "version_major": 2,
       "version_minor": 0
      },
      "text/plain": [
       "  0%|          | 0/101 [00:00<?, ?it/s]"
      ]
     },
     "metadata": {},
     "output_type": "display_data"
    },
    {
     "name": "stdout",
     "output_type": "stream",
     "text": [
      "Iteration 0, loss = 1.712, Jres = 234.7, alpha = 0.04167, improvement_ratio = 0.9933\n",
      "Iteration 1, loss = 0.3022, Jres = 4.36, alpha = 0.03472, improvement_ratio = 0.844\n",
      "Iteration 2, loss = 0.04883, Jres = 1.512, alpha = 0.02894, improvement_ratio = 0.9658\n",
      "Iteration 3, loss = 0.0358, Jres = 0.1568, alpha = 0.02411, improvement_ratio = 0.9918\n",
      "Iteration 4, loss = 0.03401, Jres = 0.01296, alpha = 0.02009, improvement_ratio = 1.001\n",
      "Iteration 5, loss = 0.03273, Jres = 0.001776, alpha = 0.01674, improvement_ratio = 1.001\n",
      "Iteration 10, loss = 0.02876, Jres = 0.000875, alpha = 0.006729, improvement_ratio = 1.0\n",
      "Iteration 20, loss = 0.02338, Jres = 0.0007709, alpha = 0.001087, improvement_ratio = 1.005\n",
      "Iteration 30, loss = 0.01741, Jres = 0.002167, alpha = 0.0001755, improvement_ratio = 1.031\n",
      "Iteration 40, loss = 0.008623, Jres = 0.004123, alpha = 2.835e-05, improvement_ratio = 0.9979\n",
      "Iteration 50, loss = 0.006547, Jres = 0.01005, alpha = 2.297e-05, improvement_ratio = 0.7389\n",
      "Iteration 60, loss = 0.005463, Jres = 0.002761, alpha = 5.342e-06, improvement_ratio = 1.005\n",
      "Iteration 70, loss = 0.004743, Jres = 0.0002877, alpha = 1.449e-06, improvement_ratio = 1.009\n",
      "Iteration 80, loss = 0.004145, Jres = 0.0006669, alpha = 8.333e-07, improvement_ratio = 0.9965\n",
      "Iteration 90, loss = 0.003988, Jres = 0.0006583, alpha = 0.0002614, improvement_ratio = 0.1393\n",
      "Iteration 100, loss = 0.003986, Jres = 0.0002146, alpha = 0.0002614, improvement_ratio = 0.4497\n"
     ]
    },
    {
     "data": {
      "application/vnd.jupyter.widget-view+json": {
       "model_id": "9ec57375a29f465eab45ae189d5711fb",
       "version_major": 2,
       "version_minor": 0
      },
      "text/plain": [
       "  0%|          | 0/150 [00:00<?, ?it/s]"
      ]
     },
     "metadata": {},
     "output_type": "display_data"
    },
    {
     "name": "stdout",
     "output_type": "stream",
     "text": [
      "Iteration 0, loss = 0.007972485682894772\n",
      "Iteration 79 Step Failed\n",
      "Iteration 98 Step Failed\n",
      "Iteration 103 Step Failed\n",
      "Iteration 108 Step Failed\n",
      "Iteration 115 Step Failed\n",
      "Iteration 122 Step Failed\n",
      "Iteration 123 Step Failed\n"
     ]
    },
    {
     "data": {
      "application/vnd.jupyter.widget-view+json": {
       "model_id": "d0b849dda45a4a63a2f91f726794bcc4",
       "version_major": 2,
       "version_minor": 0
      },
      "text/plain": [
       "  0%|          | 0/101 [00:00<?, ?it/s]"
      ]
     },
     "metadata": {},
     "output_type": "display_data"
    },
    {
     "name": "stdout",
     "output_type": "stream",
     "text": [
      "Iteration 0, loss = 2.404, Jres = 240.3, alpha = 0.04167, improvement_ratio = 0.9909\n",
      "Iteration 1, loss = 0.1765, Jres = 6.115, alpha = 0.03472, improvement_ratio = 0.9578\n",
      "Iteration 2, loss = 0.08101, Jres = 0.6179, alpha = 0.02894, improvement_ratio = 0.9875\n",
      "Iteration 3, loss = 0.07047, Jres = 0.04497, alpha = 0.02411, improvement_ratio = 1.001\n",
      "Iteration 4, loss = 0.06334, Jres = 0.00574, alpha = 0.02009, improvement_ratio = 0.9969\n",
      "Iteration 5, loss = 0.05726, Jres = 0.003521, alpha = 0.01674, improvement_ratio = 0.9964\n",
      "Iteration 10, loss = 0.03467, Jres = 0.002622, alpha = 0.006729, improvement_ratio = 0.9983\n",
      "Iteration 20, loss = 0.01372, Jres = 0.001135, alpha = 0.001087, improvement_ratio = 1.001\n",
      "Iteration 30, loss = 0.008624, Jres = 0.0007912, alpha = 0.0001755, improvement_ratio = 1.004\n",
      "Iteration 40, loss = 0.006913, Jres = 0.001908, alpha = 0.0003162, improvement_ratio = 1.193\n",
      "Iteration 50, loss = 0.005516, Jres = 0.0004558, alpha = 5.106e-05, improvement_ratio = 0.9988\n",
      "Iteration 60, loss = 0.004563, Jres = 0.0008966, alpha = 1.188e-05, improvement_ratio = 1.099\n",
      "Iteration 70, loss = 0.003807, Jres = 0.002595, alpha = 3.977e-06, improvement_ratio = 0.7651\n",
      "Iteration 80, loss = 0.002924, Jres = 0.000604, alpha = 8.333e-07, improvement_ratio = 0.9974\n",
      "Iteration 90, loss = 0.002278, Jres = 0.001733, alpha = 8.333e-07, improvement_ratio = 0.9525\n",
      "Iteration 100, loss = 0.001903, Jres = 0.0001678, alpha = 8.333e-07, improvement_ratio = 1.002\n"
     ]
    },
    {
     "data": {
      "application/vnd.jupyter.widget-view+json": {
       "model_id": "d9671cb42c5f4e5483b5fb4830fbdfbc",
       "version_major": 2,
       "version_minor": 0
      },
      "text/plain": [
       "  0%|          | 0/150 [00:00<?, ?it/s]"
      ]
     },
     "metadata": {},
     "output_type": "display_data"
    },
    {
     "name": "stdout",
     "output_type": "stream",
     "text": [
      "Iteration 0, loss = 0.0038054074101108344\n"
     ]
    },
    {
     "data": {
      "application/vnd.jupyter.widget-view+json": {
       "model_id": "449c9bcd0f464205b36bfd45a59ce8eb",
       "version_major": 2,
       "version_minor": 0
      },
      "text/plain": [
       "  0%|          | 0/101 [00:00<?, ?it/s]"
      ]
     },
     "metadata": {},
     "output_type": "display_data"
    },
    {
     "name": "stdout",
     "output_type": "stream",
     "text": [
      "Iteration 0, loss = 0.1559, Jres = 73.77, alpha = 0.04167, improvement_ratio = 0.9967\n",
      "Iteration 1, loss = 0.03293, Jres = 0.7007, alpha = 0.03472, improvement_ratio = 0.9676\n",
      "Iteration 2, loss = 0.02783, Jres = 0.08813, alpha = 0.02894, improvement_ratio = 0.9975\n",
      "Iteration 3, loss = 0.02651, Jres = 0.005699, alpha = 0.02411, improvement_ratio = 0.9941\n",
      "Iteration 4, loss = 0.02537, Jres = 0.002226, alpha = 0.02009, improvement_ratio = 0.9851\n",
      "Iteration 5, loss = 0.02432, Jres = 0.002743, alpha = 0.01674, improvement_ratio = 0.9897\n",
      "Iteration 10, loss = 0.02012, Jres = 0.001601, alpha = 0.006729, improvement_ratio = 0.9943\n",
      "Iteration 20, loss = 0.01592, Jres = 0.0008846, alpha = 0.001087, improvement_ratio = 0.9977\n",
      "Iteration 30, loss = 0.01333, Jres = 0.0008993, alpha = 0.0001755, improvement_ratio = 0.9999\n",
      "Iteration 40, loss = 0.009972, Jres = 0.005489, alpha = 2.835e-05, improvement_ratio = 0.9214\n",
      "Iteration 50, loss = 0.005906, Jres = 0.03674, alpha = 1.595e-05, improvement_ratio = 0.9863\n",
      "Iteration 60, loss = 0.003985, Jres = 0.001976, alpha = 2.576e-06, improvement_ratio = 0.9836\n",
      "Iteration 70, loss = 0.002525, Jres = 0.002631, alpha = 8.333e-07, improvement_ratio = 0.8969\n",
      "Iteration 80, loss = 0.00213, Jres = 0.0001287, alpha = 8.333e-07, improvement_ratio = 1.002\n",
      "Iteration 90, loss = 0.001986, Jres = 7.214e-05, alpha = 8.333e-07, improvement_ratio = 1.004\n",
      "Iteration 100, loss = 0.001891, Jres = 6.903e-05, alpha = 8.333e-07, improvement_ratio = 1.006\n"
     ]
    },
    {
     "data": {
      "application/vnd.jupyter.widget-view+json": {
       "model_id": "7b3b7957ef4f4f7f9c5ffe95ad66a250",
       "version_major": 2,
       "version_minor": 0
      },
      "text/plain": [
       "  0%|          | 0/150 [00:00<?, ?it/s]"
      ]
     },
     "metadata": {},
     "output_type": "display_data"
    },
    {
     "name": "stdout",
     "output_type": "stream",
     "text": [
      "Iteration 0, loss = 0.0037813122686013363\n",
      "Iteration 6 Step Failed\n",
      "Iteration 8 Step Failed\n",
      "Iteration 9 Step Failed\n",
      "Iteration 10 Step Failed\n",
      "Iteration 12 Step Failed\n",
      "Iteration 13 Step Failed\n",
      "Iteration 14 Step Failed\n",
      "Iteration 15 Step Failed\n",
      "Iteration 16 Step Failed\n",
      "Iteration 17 Step Failed\n",
      "Iteration 18 Step Failed\n",
      "Iteration 20 Step Failed\n",
      "Iteration 21 Step Failed\n",
      "Iteration 22 Step Failed\n",
      "Iteration 23 Step Failed\n",
      "Iteration 24 Step Failed\n",
      "Iteration 25 Step Failed\n",
      "Iteration 26 Step Failed\n",
      "Iteration 27 Step Failed\n",
      "Iteration 28 Step Failed\n",
      "Iteration 29 Step Failed\n",
      "Converged by no improvement\n"
     ]
    },
    {
     "data": {
      "application/vnd.jupyter.widget-view+json": {
       "model_id": "c09df407dede43708030411bc53a7560",
       "version_major": 2,
       "version_minor": 0
      },
      "text/plain": [
       "  0%|          | 0/101 [00:00<?, ?it/s]"
      ]
     },
     "metadata": {},
     "output_type": "display_data"
    },
    {
     "name": "stdout",
     "output_type": "stream",
     "text": [
      "Iteration 0, loss = 0.5369, Jres = 105.4, alpha = 0.04167, improvement_ratio = 0.9921\n",
      "Iteration 1, loss = 0.152, Jres = 1.454, alpha = 0.03472, improvement_ratio = 0.9211\n",
      "Iteration 2, loss = 0.09969, Jres = 0.1809, alpha = 0.02894, improvement_ratio = 1.004\n",
      "Iteration 3, loss = 0.07465, Jres = 0.07639, alpha = 0.02411, improvement_ratio = 1.004\n",
      "Iteration 4, loss = 0.05858, Jres = 0.01752, alpha = 0.02009, improvement_ratio = 1.034\n",
      "Iteration 5, loss = 0.04698, Jres = 0.02015, alpha = 0.01674, improvement_ratio = 1.038\n",
      "Iteration 10, loss = 0.03032, Jres = 0.002503, alpha = 0.006729, improvement_ratio = 1.004\n",
      "Iteration 20, loss = 0.02479, Jres = 0.0005866, alpha = 0.001087, improvement_ratio = 1.004\n",
      "Iteration 30, loss = 0.02108, Jres = 0.003459, alpha = 0.0001755, improvement_ratio = 0.9682\n",
      "Iteration 40, loss = 0.01573, Jres = 0.02129, alpha = 0.0001659, improvement_ratio = 1.124\n",
      "Iteration 50, loss = 0.01228, Jres = 4.404e-05, alpha = 0.005002, improvement_ratio = 0.999\n",
      "Iteration 60, loss = 0.01215, Jres = 5.104e-05, alpha = 0.0008079, improvement_ratio = 0.9996\n",
      "Iteration 70, loss = 0.0117, Jres = 0.0001343, alpha = 0.0001305, improvement_ratio = 0.999\n",
      "Iteration 80, loss = 0.01061, Jres = 0.0003037, alpha = 2.107e-05, improvement_ratio = 1.002\n",
      "Iteration 90, loss = 0.008533, Jres = 0.002325, alpha = 3.403e-06, improvement_ratio = 0.9522\n",
      "Iteration 100, loss = 0.006201, Jres = 0.008415, alpha = 1e-06, improvement_ratio = 0.7817\n"
     ]
    },
    {
     "data": {
      "application/vnd.jupyter.widget-view+json": {
       "model_id": "7f949267e8eb49e08426b11af8400715",
       "version_major": 2,
       "version_minor": 0
      },
      "text/plain": [
       "  0%|          | 0/150 [00:00<?, ?it/s]"
      ]
     },
     "metadata": {},
     "output_type": "display_data"
    },
    {
     "name": "stdout",
     "output_type": "stream",
     "text": [
      "Iteration 0, loss = 0.01240225091612719\n",
      "Iteration 44 Step Failed\n",
      "Iteration 45 Step Failed\n",
      "Iteration 55 Step Failed\n",
      "Iteration 86 Step Failed\n"
     ]
    },
    {
     "data": {
      "application/vnd.jupyter.widget-view+json": {
       "model_id": "472f49c63dc445b08bb45833ff938b4d",
       "version_major": 2,
       "version_minor": 0
      },
      "text/plain": [
       "  0%|          | 0/101 [00:00<?, ?it/s]"
      ]
     },
     "metadata": {},
     "output_type": "display_data"
    },
    {
     "name": "stdout",
     "output_type": "stream",
     "text": [
      "Iteration 0, loss = 0.6915, Jres = 154.2, alpha = 0.04167, improvement_ratio = 0.9943\n",
      "Iteration 1, loss = 0.1615, Jres = 2.552, alpha = 0.04167, improvement_ratio = 0.7729\n",
      "Iteration 2, loss = 0.02761, Jres = 0.9217, alpha = 0.03472, improvement_ratio = 0.8726\n",
      "Iteration 3, loss = 0.007842, Jres = 0.2587, alpha = 0.02894, improvement_ratio = 0.9858\n",
      "Iteration 4, loss = 0.007119, Jres = 0.02848, alpha = 0.02411, improvement_ratio = 1.005\n",
      "Iteration 5, loss = 0.006808, Jres = 0.0006753, alpha = 0.02009, improvement_ratio = 1.006\n",
      "Iteration 10, loss = 0.00551, Jres = 0.0004543, alpha = 0.008075, improvement_ratio = 1.002\n",
      "Iteration 20, loss = 0.003812, Jres = 0.0006827, alpha = 0.001304, improvement_ratio = 1.005\n",
      "Iteration 30, loss = 0.003036, Jres = 0.0006056, alpha = 0.0002106, improvement_ratio = 1.025\n",
      "Iteration 40, loss = 0.002517, Jres = 0.001078, alpha = 0.06244, improvement_ratio = 0.1182\n",
      "Iteration 50, loss = 0.002512, Jres = 6.8e-05, alpha = 0.07493, improvement_ratio = 0.7921\n",
      "Iteration 60, loss = 0.002509, Jres = 5.04e-05, alpha = 0.0121, improvement_ratio = 0.989\n",
      "Iteration 70, loss = 0.002492, Jres = 0.0001412, alpha = 0.002345, improvement_ratio = 0.7529\n",
      "Iteration 80, loss = 0.002482, Jres = 0.0001066, alpha = 0.08374, improvement_ratio = 0.4946\n",
      "Iteration 90, loss = 0.002481, Jres = 4.968e-05, alpha = 0.01947, improvement_ratio = 0.9902\n",
      "Iteration 100, loss = 0.002471, Jres = 6.96e-05, alpha = 0.003145, improvement_ratio = 0.9387\n"
     ]
    },
    {
     "data": {
      "application/vnd.jupyter.widget-view+json": {
       "model_id": "88e4b599871a4174bc895e20a492dc1f",
       "version_major": 2,
       "version_minor": 0
      },
      "text/plain": [
       "  0%|          | 0/150 [00:00<?, ?it/s]"
      ]
     },
     "metadata": {},
     "output_type": "display_data"
    },
    {
     "name": "stdout",
     "output_type": "stream",
     "text": [
      "Iteration 0, loss = 0.00494243485499669\n",
      "Iteration 45 Step Failed\n"
     ]
    },
    {
     "data": {
      "application/vnd.jupyter.widget-view+json": {
       "model_id": "99001ffc8ae3400da59c0549d224579e",
       "version_major": 2,
       "version_minor": 0
      },
      "text/plain": [
       "  0%|          | 0/101 [00:00<?, ?it/s]"
      ]
     },
     "metadata": {},
     "output_type": "display_data"
    },
    {
     "name": "stdout",
     "output_type": "stream",
     "text": [
      "Iteration 0, loss = 0.3588, Jres = 122.3, alpha = 0.04167, improvement_ratio = 0.9958\n",
      "Iteration 1, loss = 0.1101, Jres = 1.049, alpha = 0.03472, improvement_ratio = 0.8464\n",
      "Iteration 2, loss = 0.05994, Jres = 0.4791, alpha = 0.02894, improvement_ratio = 0.9215\n",
      "Iteration 3, loss = 0.04944, Jres = 0.0975, alpha = 0.02411, improvement_ratio = 0.9968\n",
      "Iteration 4, loss = 0.04395, Jres = 0.005019, alpha = 0.02009, improvement_ratio = 0.9979\n",
      "Iteration 5, loss = 0.03884, Jres = 0.002809, alpha = 0.01674, improvement_ratio = 0.9982\n",
      "Iteration 10, loss = 0.02068, Jres = 0.002223, alpha = 0.006729, improvement_ratio = 0.9946\n",
      "Iteration 20, loss = 0.01104, Jres = 0.0009653, alpha = 0.001087, improvement_ratio = 0.9975\n",
      "Iteration 30, loss = 0.008439, Jres = 0.0005401, alpha = 0.0001755, improvement_ratio = 0.9985\n",
      "Iteration 40, loss = 0.006619, Jres = 0.000792, alpha = 2.835e-05, improvement_ratio = 1.009\n",
      "Iteration 50, loss = 0.00431, Jres = 0.00201, alpha = 4.579e-06, improvement_ratio = 0.8995\n",
      "Iteration 60, loss = 0.004004, Jres = 0.002014, alpha = 0.006809, improvement_ratio = 0.3426\n",
      "Iteration 70, loss = 0.003998, Jres = 6.749e-05, alpha = 0.01177, improvement_ratio = 0.4855\n",
      "Iteration 80, loss = 0.003996, Jres = 1.385e-05, alpha = 0.003284, improvement_ratio = 0.9832\n",
      "Iteration 90, loss = 0.003987, Jres = 1.728e-05, alpha = 0.0005303, improvement_ratio = 0.9902\n",
      "Iteration 100, loss = 0.003938, Jres = 0.0003778, alpha = 0.0001233, improvement_ratio = 0.63\n"
     ]
    },
    {
     "data": {
      "application/vnd.jupyter.widget-view+json": {
       "model_id": "52656925a9eb468b9a35cd4d6c5438ba",
       "version_major": 2,
       "version_minor": 0
      },
      "text/plain": [
       "  0%|          | 0/150 [00:00<?, ?it/s]"
      ]
     },
     "metadata": {},
     "output_type": "display_data"
    },
    {
     "name": "stdout",
     "output_type": "stream",
     "text": [
      "Iteration 0, loss = 0.007875511741868802\n",
      "Iteration 53 Step Failed\n",
      "Iteration 54 Step Failed\n",
      "Iteration 68 Step Failed\n",
      "Iteration 69 Step Failed\n",
      "Iteration 80 Step Failed\n",
      "Iteration 81 Step Failed\n",
      "Iteration 82 Step Failed\n",
      "Iteration 83 Step Failed\n",
      "Iteration 108 Step Failed\n"
     ]
    },
    {
     "data": {
      "application/vnd.jupyter.widget-view+json": {
       "model_id": "2e6fdcf601f14a60903fc3727e2a53ce",
       "version_major": 2,
       "version_minor": 0
      },
      "text/plain": [
       "  0%|          | 0/101 [00:00<?, ?it/s]"
      ]
     },
     "metadata": {},
     "output_type": "display_data"
    },
    {
     "name": "stdout",
     "output_type": "stream",
     "text": [
      "Iteration 0, loss = 1.548, Jres = 129.8, alpha = 0.04167, improvement_ratio = 0.9828\n",
      "Iteration 1, loss = 0.3507, Jres = 2.98, alpha = 0.03472, improvement_ratio = 0.9292\n",
      "Iteration 2, loss = 0.2635, Jres = 0.2366, alpha = 0.02894, improvement_ratio = 0.9934\n",
      "Iteration 3, loss = 0.2188, Jres = 0.04116, alpha = 0.02411, improvement_ratio = 0.968\n",
      "Iteration 4, loss = 0.1835, Jres = 0.03979, alpha = 0.02009, improvement_ratio = 0.9867\n",
      "Iteration 5, loss = 0.1565, Jres = 0.02415, alpha = 0.01674, improvement_ratio = 0.9805\n",
      "Iteration 10, loss = 0.08592, Jres = 0.01369, alpha = 0.006729, improvement_ratio = 1.002\n",
      "Iteration 20, loss = 0.04069, Jres = 0.002441, alpha = 0.001087, improvement_ratio = 1.021\n",
      "Iteration 30, loss = 0.03017, Jres = 0.004329, alpha = 0.0001755, improvement_ratio = 0.9919\n",
      "Iteration 40, loss = 0.02036, Jres = 0.003282, alpha = 2.835e-05, improvement_ratio = 0.9917\n",
      "Iteration 50, loss = 0.006223, Jres = 0.003978, alpha = 4.579e-06, improvement_ratio = 1.051\n",
      "Iteration 60, loss = 0.004619, Jres = 0.0001755, alpha = 5.322e-05, improvement_ratio = 1.003\n",
      "Iteration 70, loss = 0.004288, Jres = 0.002123, alpha = 8.596e-06, improvement_ratio = 1.001\n",
      "Iteration 80, loss = 0.003593, Jres = 0.001937, alpha = 1.388e-06, improvement_ratio = 0.8991\n",
      "Iteration 90, loss = 0.003163, Jres = 0.003353, alpha = 1.084e-05, improvement_ratio = 0.5533\n",
      "Iteration 100, loss = 0.003103, Jres = 0.0004157, alpha = 4.357e-06, improvement_ratio = 0.914\n"
     ]
    },
    {
     "data": {
      "application/vnd.jupyter.widget-view+json": {
       "model_id": "12829abc12b24be596bfaff126269191",
       "version_major": 2,
       "version_minor": 0
      },
      "text/plain": [
       "  0%|          | 0/150 [00:00<?, ?it/s]"
      ]
     },
     "metadata": {},
     "output_type": "display_data"
    },
    {
     "name": "stdout",
     "output_type": "stream",
     "text": [
      "Iteration 0, loss = 0.006205404561056459\n",
      "Iteration 98 Step Failed\n",
      "Iteration 99 Step Failed\n",
      "Iteration 121 Step Failed\n",
      "Iteration 123 Step Failed\n",
      "Iteration 125 Step Failed\n"
     ]
    },
    {
     "data": {
      "application/vnd.jupyter.widget-view+json": {
       "model_id": "103da424cc6545cb9622e476f8ae90a5",
       "version_major": 2,
       "version_minor": 0
      },
      "text/plain": [
       "  0%|          | 0/101 [00:00<?, ?it/s]"
      ]
     },
     "metadata": {},
     "output_type": "display_data"
    },
    {
     "name": "stdout",
     "output_type": "stream",
     "text": [
      "Iteration 0, loss = 0.5058, Jres = 99.27, alpha = 0.04167, improvement_ratio = 0.9915\n",
      "Iteration 1, loss = 0.1389, Jres = 1.256, alpha = 0.03472, improvement_ratio = 0.9262\n",
      "Iteration 2, loss = 0.1136, Jres = 0.2406, alpha = 0.02894, improvement_ratio = 0.9885\n",
      "Iteration 3, loss = 0.1049, Jres = 0.0203, alpha = 0.02411, improvement_ratio = 0.9924\n",
      "Iteration 4, loss = 0.09709, Jres = 0.00961, alpha = 0.02009, improvement_ratio = 1.003\n",
      "Iteration 5, loss = 0.08967, Jres = 0.007972, alpha = 0.01674, improvement_ratio = 1.006\n",
      "Iteration 10, loss = 0.05673, Jres = 0.005983, alpha = 0.006729, improvement_ratio = 1.026\n",
      "Iteration 20, loss = 0.02426, Jres = 0.001614, alpha = 0.001087, improvement_ratio = 1.004\n",
      "Iteration 30, loss = 0.01782, Jres = 0.003842, alpha = 0.0002106, improvement_ratio = 0.7994\n",
      "Iteration 40, loss = 0.01733, Jres = 0.001603, alpha = 0.005222, improvement_ratio = 0.5434\n",
      "Iteration 50, loss = 0.01721, Jres = 0.0003947, alpha = 0.002518, improvement_ratio = 0.9009\n",
      "Iteration 60, loss = 0.01692, Jres = 0.002877, alpha = 0.001215, improvement_ratio = 0.5558\n",
      "Iteration 70, loss = 0.01655, Jres = 0.0009384, alpha = 0.0004881, improvement_ratio = 0.9322\n",
      "Iteration 80, loss = 0.01558, Jres = 0.0004902, alpha = 7.883e-05, improvement_ratio = 1.01\n",
      "Iteration 90, loss = 0.01308, Jres = 0.001663, alpha = 1.273e-05, improvement_ratio = 1.028\n",
      "Iteration 100, loss = 0.01121, Jres = 0.004571, alpha = 2.467e-06, improvement_ratio = 0.8754\n"
     ]
    },
    {
     "data": {
      "application/vnd.jupyter.widget-view+json": {
       "model_id": "a074743d5d0b439facdf4fa64681f6c3",
       "version_major": 2,
       "version_minor": 0
      },
      "text/plain": [
       "  0%|          | 0/150 [00:00<?, ?it/s]"
      ]
     },
     "metadata": {},
     "output_type": "display_data"
    },
    {
     "name": "stdout",
     "output_type": "stream",
     "text": [
      "Iteration 0, loss = 0.02241032224191026\n",
      "Iteration 43 Step Failed\n",
      "Iteration 66 Step Failed\n",
      "Iteration 67 Step Failed\n",
      "Iteration 68 Step Failed\n",
      "Iteration 89 Step Failed\n",
      "Iteration 112 Step Failed\n",
      "Iteration 126 Step Failed\n",
      "Iteration 128 Step Failed\n"
     ]
    },
    {
     "data": {
      "application/vnd.jupyter.widget-view+json": {
       "model_id": "3a1640f858f540f5b1d53f4bc726b5fa",
       "version_major": 2,
       "version_minor": 0
      },
      "text/plain": [
       "  0%|          | 0/101 [00:00<?, ?it/s]"
      ]
     },
     "metadata": {},
     "output_type": "display_data"
    },
    {
     "name": "stdout",
     "output_type": "stream",
     "text": [
      "Iteration 0, loss = 0.8928, Jres = 126.3, alpha = 0.04167, improvement_ratio = 0.9908\n",
      "Iteration 1, loss = 0.6135, Jres = 2.266, alpha = 0.04167, improvement_ratio = 0.3646\n",
      "Iteration 2, loss = 0.1705, Jres = 0.9283, alpha = 0.03472, improvement_ratio = 0.9376\n",
      "Iteration 3, loss = 0.1603, Jres = 0.1328, alpha = 0.03472, improvement_ratio = 0.2522\n",
      "Iteration 4, loss = 0.1204, Jres = 0.2763, alpha = 0.02894, improvement_ratio = 0.9608\n",
      "Iteration 5, loss = 0.1114, Jres = 0.033, alpha = 0.02411, improvement_ratio = 0.9997\n",
      "Iteration 10, loss = 0.08519, Jres = 0.008165, alpha = 0.00969, improvement_ratio = 1.036\n",
      "Iteration 20, loss = 0.01141, Jres = 0.003353, alpha = 0.001565, improvement_ratio = 1.013\n",
      "Iteration 30, loss = 0.006822, Jres = 0.0009171, alpha = 0.0002528, improvement_ratio = 1.005\n",
      "Iteration 40, loss = 0.0041, Jres = 0.007866, alpha = 5.878e-05, improvement_ratio = 0.8993\n",
      "Iteration 50, loss = 0.002651, Jres = 0.0008272, alpha = 1.367e-05, improvement_ratio = 0.9973\n",
      "Iteration 60, loss = 0.002022, Jres = 0.002089, alpha = 2.208e-06, improvement_ratio = 0.8167\n",
      "Iteration 70, loss = 0.001493, Jres = 0.002898, alpha = 8.627e-07, improvement_ratio = 0.8763\n",
      "Iteration 80, loss = 0.001291, Jres = 0.001237, alpha = 2.522e-06, improvement_ratio = 1.039\n",
      "Iteration 90, loss = 0.0009629, Jres = 0.003166, alpha = 8.445e-07, improvement_ratio = 0.8247\n",
      "Iteration 100, loss = 0.0008785, Jres = 8.089e-05, alpha = 8.333e-07, improvement_ratio = 0.9992\n"
     ]
    },
    {
     "data": {
      "application/vnd.jupyter.widget-view+json": {
       "model_id": "fe33047f033a4c3d84f84df54e350249",
       "version_major": 2,
       "version_minor": 0
      },
      "text/plain": [
       "  0%|          | 0/150 [00:00<?, ?it/s]"
      ]
     },
     "metadata": {},
     "output_type": "display_data"
    },
    {
     "name": "stdout",
     "output_type": "stream",
     "text": [
      "Iteration 0, loss = 0.001756932915215282\n",
      "Iteration 17 Step Failed\n",
      "Iteration 18 Step Failed\n",
      "Iteration 19 Step Failed\n",
      "Iteration 20 Step Failed\n",
      "Iteration 21 Step Failed\n",
      "Iteration 23 Step Failed\n",
      "Iteration 24 Step Failed\n",
      "Iteration 25 Step Failed\n",
      "Iteration 26 Step Failed\n",
      "Iteration 27 Step Failed\n",
      "Iteration 28 Step Failed\n",
      "Iteration 29 Step Failed\n",
      "Iteration 30 Step Failed\n",
      "Iteration 31 Step Failed\n",
      "Iteration 32 Step Failed\n",
      "Converged by no improvement\n"
     ]
    },
    {
     "data": {
      "application/vnd.jupyter.widget-view+json": {
       "model_id": "11f81ee525944727a4446e35f7611c6b",
       "version_major": 2,
       "version_minor": 0
      },
      "text/plain": [
       "  0%|          | 0/101 [00:00<?, ?it/s]"
      ]
     },
     "metadata": {},
     "output_type": "display_data"
    },
    {
     "name": "stdout",
     "output_type": "stream",
     "text": [
      "Iteration 0, loss = 0.2107, Jres = 114.2, alpha = 0.04167, improvement_ratio = 0.9969\n",
      "Iteration 1, loss = 0.04527, Jres = 0.7188, alpha = 0.03472, improvement_ratio = 0.9541\n",
      "Iteration 2, loss = 0.03508, Jres = 0.09015, alpha = 0.02894, improvement_ratio = 0.988\n",
      "Iteration 3, loss = 0.03104, Jres = 0.008084, alpha = 0.02411, improvement_ratio = 0.9963\n",
      "Iteration 4, loss = 0.02746, Jres = 0.002277, alpha = 0.02009, improvement_ratio = 0.9955\n",
      "Iteration 5, loss = 0.02418, Jres = 0.002072, alpha = 0.01674, improvement_ratio = 0.9943\n",
      "Iteration 10, loss = 0.01321, Jres = 0.001634, alpha = 0.006729, improvement_ratio = 0.9925\n",
      "Iteration 20, loss = 0.006827, Jres = 0.006171, alpha = 0.001565, improvement_ratio = 0.7728\n",
      "Iteration 30, loss = 0.004145, Jres = 0.001014, alpha = 0.0002528, improvement_ratio = 1.001\n",
      "Iteration 40, loss = 0.002169, Jres = 0.0004941, alpha = 4.082e-05, improvement_ratio = 1.001\n",
      "Iteration 50, loss = 0.001587, Jres = 0.001714, alpha = 7.912e-06, improvement_ratio = 0.7994\n",
      "Iteration 60, loss = 0.001061, Jres = 0.003166, alpha = 1.84e-06, improvement_ratio = 0.7622\n",
      "Iteration 70, loss = 0.0007319, Jres = 0.0005311, alpha = 8.333e-07, improvement_ratio = 0.9697\n",
      "Iteration 80, loss = 0.0006424, Jres = 0.0004252, alpha = 8.333e-07, improvement_ratio = 0.9921\n",
      "Iteration 90, loss = 0.0005956, Jres = 0.0009802, alpha = 5.378e-06, improvement_ratio = 0.2734\n",
      "Iteration 100, loss = 0.0005718, Jres = 0.000198, alpha = 1.251e-06, improvement_ratio = 0.9963\n"
     ]
    },
    {
     "data": {
      "application/vnd.jupyter.widget-view+json": {
       "model_id": "9cc5a23244364046a752c527c0ba7a60",
       "version_major": 2,
       "version_minor": 0
      },
      "text/plain": [
       "  0%|          | 0/150 [00:00<?, ?it/s]"
      ]
     },
     "metadata": {},
     "output_type": "display_data"
    },
    {
     "name": "stdout",
     "output_type": "stream",
     "text": [
      "Iteration 0, loss = 0.0011436759179641693\n",
      "Iteration 55 Step Failed\n"
     ]
    },
    {
     "data": {
      "application/vnd.jupyter.widget-view+json": {
       "model_id": "343c7c7ec15c411298dc545a9a365db9",
       "version_major": 2,
       "version_minor": 0
      },
      "text/plain": [
       "  0%|          | 0/101 [00:00<?, ?it/s]"
      ]
     },
     "metadata": {},
     "output_type": "display_data"
    },
    {
     "name": "stdout",
     "output_type": "stream",
     "text": [
      "Iteration 0, loss = 0.6942, Jres = 104.6, alpha = 0.04167, improvement_ratio = 0.9878\n",
      "Iteration 1, loss = 0.1769, Jres = 1.921, alpha = 0.03472, improvement_ratio = 0.9064\n",
      "Iteration 2, loss = 0.131, Jres = 0.1634, alpha = 0.02894, improvement_ratio = 0.9837\n",
      "Iteration 3, loss = 0.105, Jres = 0.03303, alpha = 0.02411, improvement_ratio = 0.9099\n",
      "Iteration 4, loss = 0.08234, Jres = 0.04806, alpha = 0.02009, improvement_ratio = 0.8831\n",
      "Iteration 5, loss = 0.06248, Jres = 0.05952, alpha = 0.01674, improvement_ratio = 0.9852\n",
      "Iteration 10, loss = 0.02979, Jres = 0.06324, alpha = 0.01163, improvement_ratio = 0.6267\n",
      "Iteration 20, loss = 0.02772, Jres = 0.006682, alpha = 17.29, improvement_ratio = 0.3309\n",
      "Iteration 30, loss = 0.02763, Jres = 0.0009015, alpha = 17.29, improvement_ratio = 0.6268\n",
      "Iteration 40, loss = 0.02758, Jres = 0.0007556, alpha = 4.022, improvement_ratio = 0.8446\n",
      "Iteration 50, loss = 0.02752, Jres = 0.001035, alpha = 11.04, improvement_ratio = 0.4563\n",
      "Iteration 60, loss = 0.02748, Jres = 0.0007283, alpha = 4.435, improvement_ratio = 0.8919\n",
      "Iteration 70, loss = 0.02742, Jres = 0.002638, alpha = 8.941, improvement_ratio = 0.1936\n",
      "Iteration 80, loss = 0.02738, Jres = 0.0007723, alpha = 8.941, improvement_ratio = 0.6994\n",
      "Iteration 90, loss = 0.02732, Jres = 0.0007511, alpha = 2.495, improvement_ratio = 0.7822\n",
      "Iteration 100, loss = 0.02726, Jres = 0.001465, alpha = 7.043, improvement_ratio = 0.3253\n"
     ]
    },
    {
     "data": {
      "application/vnd.jupyter.widget-view+json": {
       "model_id": "b6ec63aca0f44a469ce082f04ac9ffc7",
       "version_major": 2,
       "version_minor": 0
      },
      "text/plain": [
       "  0%|          | 0/150 [00:00<?, ?it/s]"
      ]
     },
     "metadata": {},
     "output_type": "display_data"
    },
    {
     "name": "stdout",
     "output_type": "stream",
     "text": [
      "Iteration 0, loss = 0.05452631138392669\n",
      "Iteration 66 Step Failed\n",
      "Iteration 115 Step Failed\n",
      "Iteration 116 Step Failed\n",
      "Iteration 122 Step Failed\n"
     ]
    },
    {
     "data": {
      "application/vnd.jupyter.widget-view+json": {
       "model_id": "e224cb90872b489380cb9e2ecb27df3d",
       "version_major": 2,
       "version_minor": 0
      },
      "text/plain": [
       "  0%|          | 0/101 [00:00<?, ?it/s]"
      ]
     },
     "metadata": {},
     "output_type": "display_data"
    },
    {
     "name": "stdout",
     "output_type": "stream",
     "text": [
      "Iteration 0, loss = 1.113, Jres = 146.0, alpha = 0.04167, improvement_ratio = 0.9893\n",
      "Iteration 1, loss = 0.3493, Jres = 2.402, alpha = 0.03472, improvement_ratio = 0.8725\n",
      "Iteration 2, loss = 0.2432, Jres = 0.3277, alpha = 0.02894, improvement_ratio = 0.9764\n",
      "Iteration 3, loss = 0.1876, Jres = 0.09333, alpha = 0.02411, improvement_ratio = 0.9639\n",
      "Iteration 4, loss = 0.1506, Jres = 0.06836, alpha = 0.02009, improvement_ratio = 0.9258\n",
      "Iteration 5, loss = 0.1261, Jres = 0.08727, alpha = 0.01674, improvement_ratio = 0.8588\n",
      "Iteration 10, loss = 0.06475, Jres = 0.08189, alpha = 0.01163, improvement_ratio = 0.9492\n",
      "Iteration 20, loss = 0.0183, Jres = 0.007412, alpha = 0.001878, improvement_ratio = 1.009\n",
      "Iteration 30, loss = 0.009101, Jres = 0.003899, alpha = 0.0003033, improvement_ratio = 0.9923\n",
      "Iteration 40, loss = 0.004351, Jres = 0.03271, alpha = 0.0001016, improvement_ratio = 0.7079\n",
      "Iteration 50, loss = 0.001245, Jres = 0.00854, alpha = 1.969e-05, improvement_ratio = 0.8902\n",
      "Iteration 60, loss = 0.0004873, Jres = 0.003031, alpha = 9.494e-06, improvement_ratio = 0.9652\n",
      "Iteration 70, loss = 0.0003507, Jres = 0.0005799, alpha = 1.533e-06, improvement_ratio = 0.9087\n",
      "Iteration 80, loss = 0.0002142, Jres = 0.002855, alpha = 1e-06, improvement_ratio = 0.7309\n",
      "Iteration 90, loss = 0.0001488, Jres = 0.0004141, alpha = 8.333e-07, improvement_ratio = 0.9853\n",
      "Iteration 100, loss = 0.00012, Jres = 0.0001557, alpha = 8.333e-07, improvement_ratio = 0.9967\n"
     ]
    },
    {
     "data": {
      "application/vnd.jupyter.widget-view+json": {
       "model_id": "6a705b7b58b04537a84a708496cbc0a4",
       "version_major": 2,
       "version_minor": 0
      },
      "text/plain": [
       "  0%|          | 0/150 [00:00<?, ?it/s]"
      ]
     },
     "metadata": {},
     "output_type": "display_data"
    },
    {
     "name": "stdout",
     "output_type": "stream",
     "text": [
      "Iteration 0, loss = 0.0002399033894024942\n",
      "Iteration 100 Step Failed\n"
     ]
    },
    {
     "data": {
      "application/vnd.jupyter.widget-view+json": {
       "model_id": "bc6dc0b044284733ac40fdfd0c183f9c",
       "version_major": 2,
       "version_minor": 0
      },
      "text/plain": [
       "  0%|          | 0/101 [00:00<?, ?it/s]"
      ]
     },
     "metadata": {},
     "output_type": "display_data"
    },
    {
     "name": "stdout",
     "output_type": "stream",
     "text": [
      "Iteration 0, loss = 5.552, Jres = 303.4, alpha = 0.04167, improvement_ratio = 0.9871\n",
      "Iteration 1, loss = 4.987, Jres = 11.39, alpha = 7.778, improvement_ratio = 0.1073\n",
      "Iteration 2, loss = 0.5093, Jres = 12.82, alpha = 6.482, improvement_ratio = 0.9604\n",
      "Iteration 3, loss = 0.3028, Jres = 1.528, alpha = 5.402, improvement_ratio = 1.009\n",
      "Iteration 4, loss = 0.2726, Jres = 0.1564, alpha = 4.501, improvement_ratio = 1.015\n",
      "Iteration 5, loss = 0.2542, Jres = 0.02944, alpha = 3.751, improvement_ratio = 1.02\n",
      "Iteration 10, loss = 0.1985, Jres = 0.008265, alpha = 1.508, improvement_ratio = 1.01\n",
      "Iteration 20, loss = 0.155, Jres = 0.006458, alpha = 0.2435, improvement_ratio = 1.01\n",
      "Iteration 30, loss = 0.1182, Jres = 0.003512, alpha = 0.03932, improvement_ratio = 1.003\n",
      "Iteration 40, loss = 0.0872, Jres = 0.01838, alpha = 0.006351, improvement_ratio = 1.002\n",
      "Iteration 50, loss = 0.07565, Jres = 0.001763, alpha = 0.001026, improvement_ratio = 1.012\n",
      "Iteration 60, loss = 0.0636, Jres = 0.003868, alpha = 0.0001657, improvement_ratio = 0.9975\n",
      "Iteration 70, loss = 0.05229, Jres = 0.00149, alpha = 2.675e-05, improvement_ratio = 1.007\n",
      "Iteration 80, loss = 0.04165, Jres = 0.005491, alpha = 4.321e-06, improvement_ratio = 0.9499\n",
      "Iteration 90, loss = 0.03536, Jres = 0.00508, alpha = 1.206e-06, improvement_ratio = 0.9638\n",
      "Iteration 100, loss = 0.03217, Jres = 0.0013, alpha = 8.333e-07, improvement_ratio = 0.9673\n"
     ]
    },
    {
     "data": {
      "application/vnd.jupyter.widget-view+json": {
       "model_id": "11fedad1e0fd4592afe275ac9b7988de",
       "version_major": 2,
       "version_minor": 0
      },
      "text/plain": [
       "  0%|          | 0/150 [00:00<?, ?it/s]"
      ]
     },
     "metadata": {},
     "output_type": "display_data"
    },
    {
     "name": "stdout",
     "output_type": "stream",
     "text": [
      "Iteration 0, loss = 0.0643409478535419\n",
      "Iteration 67 Step Failed\n"
     ]
    },
    {
     "data": {
      "application/vnd.jupyter.widget-view+json": {
       "model_id": "59ebde755099437f9bb6d836d2e491ec",
       "version_major": 2,
       "version_minor": 0
      },
      "text/plain": [
       "  0%|          | 0/101 [00:00<?, ?it/s]"
      ]
     },
     "metadata": {},
     "output_type": "display_data"
    },
    {
     "name": "stdout",
     "output_type": "stream",
     "text": [
      "Iteration 0, loss = 1.515, Jres = 197.1, alpha = 0.04167, improvement_ratio = 0.9926\n",
      "Iteration 1, loss = 0.6125, Jres = 3.718, alpha = 0.04167, improvement_ratio = 0.635\n",
      "Iteration 2, loss = 0.1175, Jres = 1.869, alpha = 0.03472, improvement_ratio = 0.9685\n",
      "Iteration 3, loss = 0.09005, Jres = 0.2054, alpha = 0.02894, improvement_ratio = 1.017\n",
      "Iteration 4, loss = 0.08236, Jres = 0.01628, alpha = 0.02411, improvement_ratio = 1.054\n",
      "Iteration 5, loss = 0.07609, Jres = 0.009146, alpha = 0.02009, improvement_ratio = 1.048\n",
      "Iteration 10, loss = 0.05177, Jres = 0.006648, alpha = 0.008075, improvement_ratio = 1.099\n",
      "Iteration 20, loss = 0.03429, Jres = 0.007696, alpha = 0.001304, improvement_ratio = 0.946\n",
      "Iteration 30, loss = 0.02488, Jres = 0.001001, alpha = 0.0002528, improvement_ratio = 1.01\n",
      "Iteration 40, loss = 0.01988, Jres = 0.001585, alpha = 4.082e-05, improvement_ratio = 0.9992\n",
      "Iteration 50, loss = 0.01641, Jres = 0.001609, alpha = 7.912e-06, improvement_ratio = 0.969\n",
      "Iteration 60, loss = 0.01167, Jres = 0.01074, alpha = 1.278e-06, improvement_ratio = 0.8693\n",
      "Iteration 70, loss = 0.008763, Jres = 0.001189, alpha = 8.333e-07, improvement_ratio = 1.008\n",
      "Iteration 80, loss = 0.007431, Jres = 0.0003825, alpha = 8.333e-07, improvement_ratio = 1.007\n",
      "Iteration 90, loss = 0.006494, Jres = 0.0007027, alpha = 8.333e-07, improvement_ratio = 1.02\n",
      "Iteration 100, loss = 0.005906, Jres = 0.0005739, alpha = 7.937e-05, improvement_ratio = 0.5708\n"
     ]
    },
    {
     "data": {
      "application/vnd.jupyter.widget-view+json": {
       "model_id": "448ef2c71c964b24aea1b118604c229d",
       "version_major": 2,
       "version_minor": 0
      },
      "text/plain": [
       "  0%|          | 0/150 [00:00<?, ?it/s]"
      ]
     },
     "metadata": {},
     "output_type": "display_data"
    },
    {
     "name": "stdout",
     "output_type": "stream",
     "text": [
      "Iteration 0, loss = 0.011811160723273692\n",
      "Iteration 53 Step Failed\n",
      "Iteration 56 Step Failed\n",
      "Iteration 92 Step Failed\n",
      "Iteration 113 Step Failed\n",
      "Iteration 115 Step Failed\n"
     ]
    },
    {
     "data": {
      "application/vnd.jupyter.widget-view+json": {
       "model_id": "ba882f3e2de34dcc8fead43eeafbbe2f",
       "version_major": 2,
       "version_minor": 0
      },
      "text/plain": [
       "  0%|          | 0/101 [00:00<?, ?it/s]"
      ]
     },
     "metadata": {},
     "output_type": "display_data"
    },
    {
     "name": "stdout",
     "output_type": "stream",
     "text": [
      "Iteration 0, loss = 1.26, Jres = 126.9, alpha = 0.04167, improvement_ratio = 0.9865\n",
      "Iteration 1, loss = 0.2843, Jres = 2.949, alpha = 0.03472, improvement_ratio = 0.9475\n",
      "Iteration 2, loss = 0.2013, Jres = 0.1734, alpha = 0.02894, improvement_ratio = 1.034\n",
      "Iteration 3, loss = 0.1629, Jres = 0.08404, alpha = 0.02411, improvement_ratio = 1.012\n",
      "Iteration 4, loss = 0.1395, Jres = 0.01884, alpha = 0.02009, improvement_ratio = 1.026\n",
      "Iteration 5, loss = 0.1237, Jres = 0.01452, alpha = 0.01674, improvement_ratio = 1.07\n",
      "Iteration 10, loss = 0.1027, Jres = 0.003062, alpha = 0.006729, improvement_ratio = 1.001\n",
      "Iteration 20, loss = 0.08927, Jres = 0.00248, alpha = 0.001087, improvement_ratio = 1.004\n",
      "Iteration 30, loss = 0.059, Jres = 0.01934, alpha = 0.0001755, improvement_ratio = 1.074\n",
      "Iteration 40, loss = 0.03769, Jres = 0.003846, alpha = 0.2799, improvement_ratio = 0.1678\n",
      "Iteration 50, loss = 0.03766, Jres = 0.0005891, alpha = 0.6964, improvement_ratio = 0.2495\n",
      "Iteration 60, loss = 0.03765, Jres = 0.0001728, alpha = 0.6964, improvement_ratio = 0.6393\n",
      "Iteration 70, loss = 0.03765, Jres = 0.0001396, alpha = 0.1943, improvement_ratio = 0.895\n",
      "Iteration 80, loss = 0.03763, Jres = 0.00086, alpha = 0.6399, improvement_ratio = 0.2487\n",
      "Iteration 90, loss = 0.03763, Jres = 0.0001718, alpha = 0.6399, improvement_ratio = 0.621\n",
      "Iteration 100, loss = 0.03762, Jres = 0.0001324, alpha = 0.1786, improvement_ratio = 0.9039\n"
     ]
    },
    {
     "data": {
      "application/vnd.jupyter.widget-view+json": {
       "model_id": "09e1bc65bb804f01982b63acfabf89e9",
       "version_major": 2,
       "version_minor": 0
      },
      "text/plain": [
       "  0%|          | 0/150 [00:00<?, ?it/s]"
      ]
     },
     "metadata": {},
     "output_type": "display_data"
    },
    {
     "name": "stdout",
     "output_type": "stream",
     "text": [
      "Iteration 0, loss = 0.07523683712360568\n",
      "Iteration 43 Step Failed\n",
      "Iteration 44 Step Failed\n",
      "Iteration 101 Step Failed\n",
      "Iteration 108 Step Failed\n",
      "Iteration 115 Step Failed\n",
      "Iteration 122 Step Failed\n"
     ]
    },
    {
     "name": "stderr",
     "output_type": "stream",
     "text": [
      "2024-09-26 23:55:41.843873: W external/xla/xla/tsl/framework/bfc_allocator.cc:482] Allocator (GPU_0_bfc) ran out of memory trying to allocate 8.65GiB (rounded to 9285121024)requested by op \n",
      "2024-09-26 23:55:41.844973: W external/xla/xla/tsl/framework/bfc_allocator.cc:494] *********************************___________________________________________________________________\n",
      "E0926 23:55:41.844993 2701010 pjrt_stream_executor_client.cc:2985] Execution of replica 0 failed: RESOURCE_EXHAUSTED: Out of memory while trying to allocate 9285120928 bytes.\n"
     ]
    },
    {
     "ename": "XlaRuntimeError",
     "evalue": "RESOURCE_EXHAUSTED: Out of memory while trying to allocate 9285120928 bytes.",
     "output_type": "error",
     "traceback": [
      "\u001b[0;31m---------------------------------------------------------------------------\u001b[0m",
      "\u001b[0;31mXlaRuntimeError\u001b[0m                           Traceback (most recent call last)",
      "Cell \u001b[0;32mIn[4], line 8\u001b[0m\n\u001b[1;32m      5\u001b[0m i_opt_2 \u001b[38;5;241m=\u001b[39m []\n\u001b[1;32m      6\u001b[0m \u001b[38;5;28;01mfor\u001b[39;00m run \u001b[38;5;129;01min\u001b[39;00m \u001b[38;5;28mrange\u001b[39m(NUM_RUNS):\n\u001b[1;32m      7\u001b[0m     \u001b[38;5;66;03m# Run\u001b[39;00m\n\u001b[0;32m----> 8\u001b[0m     res \u001b[38;5;241m=\u001b[39m \u001b[43mrun_exp_opt_err\u001b[49m\u001b[43m(\u001b[49m\u001b[43malpha\u001b[49m\u001b[43m,\u001b[49m\u001b[38;5;241;43m60\u001b[39;49m\u001b[43m,\u001b[49m\u001b[43mrun\u001b[49m\u001b[43m)\u001b[49m\n\u001b[1;32m      9\u001b[0m     \u001b[38;5;66;03m# Append\u001b[39;00m\n\u001b[1;32m     10\u001b[0m     i_opt_1_5\u001b[38;5;241m.\u001b[39mappend(res[\u001b[38;5;241m0\u001b[39m])\n",
      "Cell \u001b[0;32mIn[2], line 314\u001b[0m, in \u001b[0;36mrun_exp_opt_err\u001b[0;34m(alpha, n_obs, run)\u001b[0m\n\u001b[1;32m    303\u001b[0m     u_params_pde,pde_convergence_data \u001b[38;5;241m=\u001b[39m LevenbergMarquadtMinimize(\n\u001b[1;32m    304\u001b[0m         new_u_init\u001b[38;5;241m.\u001b[39mcopy(),\n\u001b[1;32m    305\u001b[0m         PdeModel,\n\u001b[0;32m   (...)\u001b[0m\n\u001b[1;32m    310\u001b[0m         print_every \u001b[38;5;241m=\u001b[39m \u001b[38;5;241m10\u001b[39m\n\u001b[1;32m    311\u001b[0m     )\n\u001b[1;32m    312\u001b[0m     u_pde_adj,pde_refine_conv_data \u001b[38;5;241m=\u001b[39m adaptive_refine_solution(u_params_pde,PdeModel,\u001b[38;5;241m1e-1\u001b[39m,\u001b[38;5;241m150\u001b[39m)\n\u001b[0;32m--> 314\u001b[0m     new_u_eval_fines\u001b[38;5;241m.\u001b[39mappend(\u001b[43mu_model\u001b[49m\u001b[38;5;241;43m.\u001b[39;49m\u001b[43mpoint_evaluate\u001b[49m\u001b[43m(\u001b[49m\u001b[43mtx_fine\u001b[49m\u001b[43m,\u001b[49m\u001b[43mu_pde_adj\u001b[49m\u001b[43m)\u001b[49m)\n\u001b[1;32m    316\u001b[0m \u001b[38;5;66;03m# True\u001b[39;00m\n\u001b[1;32m    317\u001b[0m new_u_true_eval_fines \u001b[38;5;241m=\u001b[39m [u(tx_fine) \u001b[38;5;28;01mfor\u001b[39;00m u \u001b[38;5;129;01min\u001b[39;00m u_new_true_functions]\n",
      "    \u001b[0;31m[... skipping hidden 10 frame]\u001b[0m\n",
      "File \u001b[0;32m~/miniconda3/envs/myjaxenv/lib/python3.12/site-packages/jax/_src/interpreters/pxla.py:1253\u001b[0m, in \u001b[0;36mExecuteReplicated.__call__\u001b[0;34m(self, *args)\u001b[0m\n\u001b[1;32m   1251\u001b[0m   \u001b[38;5;28mself\u001b[39m\u001b[38;5;241m.\u001b[39m_handle_token_bufs(result_token_bufs, sharded_runtime_token)\n\u001b[1;32m   1252\u001b[0m \u001b[38;5;28;01melse\u001b[39;00m:\n\u001b[0;32m-> 1253\u001b[0m   results \u001b[38;5;241m=\u001b[39m \u001b[38;5;28;43mself\u001b[39;49m\u001b[38;5;241;43m.\u001b[39;49m\u001b[43mxla_executable\u001b[49m\u001b[38;5;241;43m.\u001b[39;49m\u001b[43mexecute_sharded\u001b[49m\u001b[43m(\u001b[49m\u001b[43minput_bufs\u001b[49m\u001b[43m)\u001b[49m\n\u001b[1;32m   1255\u001b[0m \u001b[38;5;28;01mif\u001b[39;00m dispatch\u001b[38;5;241m.\u001b[39mneeds_check_special():\n\u001b[1;32m   1256\u001b[0m   out_arrays \u001b[38;5;241m=\u001b[39m results\u001b[38;5;241m.\u001b[39mdisassemble_into_single_device_arrays()\n",
      "\u001b[0;31mXlaRuntimeError\u001b[0m: RESOURCE_EXHAUSTED: Out of memory while trying to allocate 9285120928 bytes."
     ]
    },
    {
     "ename": "",
     "evalue": "",
     "output_type": "error",
     "traceback": [
      "\u001b[1;31mThe Kernel crashed while executing code in the the current cell or a previous cell. Please review the code in the cell(s) to identify a possible cause of the failure. Click <a href='https://aka.ms/vscodeJupyterKernelCrash'>here</a> for more info. View Jupyter <a href='command:jupyter.viewOutput'>log</a> for further details."
     ]
    }
   ],
   "source": [
    "NUM_RUNS = 3\n",
    "REGULARITY = [1,2,3,4]\n",
    "for alpha in REGULARITY:\n",
    "    i_opt_1_5 = []\n",
    "    i_opt_2 = []\n",
    "    for run in range(NUM_RUNS):\n",
    "        # Run\n",
    "        res = run_exp_opt_err(alpha,60,run)\n",
    "        # Append\n",
    "        i_opt_1_5.append(res[0])\n",
    "        i_opt_2.append(res[1])\n",
    "    # Append each list    \n",
    "    err['1_5_mthd'].append(i_opt_1_5)\n",
    "    err['2_mthd'].append(i_opt_2)   \n",
    "# Save after\n",
    "jnp.save('errors_opt/err_vs_smooth', err)"
   ]
  }
 ],
 "metadata": {
  "kernelspec": {
   "display_name": "keqlenv",
   "language": "python",
   "name": "python3"
  },
  "language_info": {
   "codemirror_mode": {
    "name": "ipython",
    "version": 3
   },
   "file_extension": ".py",
   "mimetype": "text/x-python",
   "name": "python",
   "nbconvert_exporter": "python",
   "pygments_lexer": "ipython3",
   "version": "3.12.4"
  }
 },
 "nbformat": 4,
 "nbformat_minor": 2
}
