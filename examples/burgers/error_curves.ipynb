{
 "cells": [
  {
   "cell_type": "code",
   "execution_count": 1,
   "metadata": {},
   "outputs": [],
   "source": [
    "# jax\n",
    "import jax\n",
    "# jax.config.update(\"jax_default_device\",jax.devices()[1])\n",
    "jax.config.update(\"jax_enable_x64\", True)\n",
    "import jax.numpy as jnp\n",
    "from jax import jit,grad,jacfwd,jacrev,vmap\n",
    "from jax.random import PRNGKey as pkey\n",
    "from jax.scipy.linalg import solve\n",
    "# Other libraries\n",
    "import numpy as np\n",
    "import matplotlib.pyplot as plt\n",
    "from tqdm.auto import tqdm\n",
    "plt.style.use(\"ggplot\")\n",
    "from importlib import reload\n",
    "from functools import partial\n",
    "\n",
    "# Our libraries\n",
    "import KernelTools\n",
    "reload(KernelTools)\n",
    "from KernelTools import *\n",
    "from EquationModel import (OperatorModel, OperatorPDEModel,CholInducedRKHS,\n",
    "                            CholOperatorModel)\n",
    "import plotting\n",
    "reload(plotting)\n",
    "from plotting import (plot_obs,plot_compare_error,\n",
    "                      plot_input_data,plot_compare_error,\n",
    "                      plot_obs_parabolic, plot_init_final_parabolic)\n",
    "\n",
    "from evaluation_metrics import get_nrmse,table_u_errors\n",
    "from data_utils import (\n",
    "    get_xy_grid_pairs, # changed - could live in parabolic_data_utils ?\n",
    "    build_xy_grid,\n",
    "    sample_xy_grid_latin,\n",
    "    build_input_observations,\n",
    "    build_u_obs_single,\n",
    "    build_u_obs_all,\n",
    "    sample_multiple_xy_grids_latin\n",
    ")\n",
    "\n",
    "from parabolic_data_utils import (\n",
    "    build_burgers_data,build_tx_grid,\n",
    "    build_tx_grid_chebyshev,setup_problem_data,\n",
    "    GP_Sampler_1D_Pinned\n",
    ")\n",
    "\n",
    "from Kernels import (\n",
    "    get_gaussianRBF,\n",
    "    get_centered_scaled_poly_kernel,\n",
    "    fit_kernel_params,log1pexp,\n",
    "    inv_log1pexp,get_anisotropic_gaussianRBF\n",
    ")"
   ]
  },
  {
   "cell_type": "code",
   "execution_count": 2,
   "metadata": {},
   "outputs": [],
   "source": [
    "def run_exp_opt_err(alpha,n_obs,run):\n",
    "\n",
    "    # Sample m training functions as initial conditions from a GP\n",
    "    m = 1\n",
    "    kernel_GP = get_gaussianRBF(0.2)\n",
    "    xy_pts = jnp.linspace(0,1,50) # Pts to build interpolants\n",
    "    u0_true_functions = tuple(GP_Sampler_1D_Pinned(num_samples = m,\n",
    "                                            X = xy_pts, \n",
    "                                            smooth = alpha,\n",
    "                                            kernel = kernel_GP,\n",
    "                                            reg = 1e-8,\n",
    "                                            seed = 2024\n",
    "                                        )\n",
    "                            )\n",
    "\n",
    "    vec_u0_true_functions = tuple([np.vectorize(u) for u in u0_true_functions])\n",
    "    vmapped_u0_true_functions = tuple([jax.vmap(u) for u in u0_true_functions])\n",
    "    # Solve m Burgers' equations with IC's: u0_true_functions \n",
    "    # kappa = 0.001\n",
    "    # alpha = 5.\n",
    "    kappa = 0.01\n",
    "    alpha = 1.\n",
    "\n",
    "    u_true_functions = []\n",
    "    ut_true_functions = []\n",
    "    interpolants = []\n",
    "    t_vals_s = []\n",
    "    sols_s = []\n",
    "\n",
    "    for u0_true_function in vec_u0_true_functions:\n",
    "        res = list(build_burgers_data(func_u0=u0_true_function,\n",
    "                        kappa = kappa,\n",
    "                        alpha = alpha,\n",
    "                        k_timestep=0.0001,\n",
    "                        n_finite_diff=1999))\n",
    "    u_true_functions.append(res[0])\n",
    "    ut_true_functions.append(res[1])\n",
    "    interpolants.append(res[2])\n",
    "    t_vals_s.append(res[3])\n",
    "    sols_s.append(res[4])\n",
    "\n",
    "    # Ghost Chebyshev grids\n",
    "    num_grid_x = 31\n",
    "    num_grid_t = 26\n",
    "    # num_grid_x = 7\n",
    "    # num_grid_t = 6\n",
    "\n",
    "    tx_ints , tx_bdys = [], []\n",
    "    for _ in range(m):\n",
    "        res = build_tx_grid_chebyshev([0,1],[0,1],\n",
    "                                num_grid_t,\n",
    "                                num_grid_x,\n",
    "                                alpha = 0.5)\n",
    "        tx_ints.append(res[0])\n",
    "        tx_bdys.append(res[1])\n",
    "\n",
    "    tx_ints = tuple(tx_ints)\n",
    "    tx_bdys = tuple(tx_bdys)\n",
    "    # Tuple of ghost grids\n",
    "    tx_all = tuple(jnp.vstack([tx_int,tx_bdy]) for tx_int,tx_bdy in zip(tx_ints,tx_bdys))\n",
    "\n",
    "\n",
    "    # List of number of observation points per u\n",
    "    num_obs = [n_obs]*m\n",
    "\n",
    "    # Get (X^m, u^m(X^m))\n",
    "    tx_obs = []\n",
    "    u_obs = []\n",
    "    for i, (tx_int,tx_bdy) in enumerate(zip(tx_ints,tx_bdys)):\n",
    "        _,tx_ob = setup_problem_data(\n",
    "            tx_int,\n",
    "            tx_bdy,\n",
    "            num_obs[i],\n",
    "            jax.random.PRNGKey(i),\n",
    "            times_to_observe = (0,)\n",
    "                )\n",
    "        tx_obs.append(tx_ob)\n",
    "\n",
    "    u_obs = tuple(u(tx_ob) for tx_ob,u in zip(tx_obs,u_true_functions))\n",
    "\n",
    "    # Define grid to plot\n",
    "    num_fine_grid = 300\n",
    "    initial_time = 0\n",
    "    final_time = 1\n",
    "    t_fine,x_fine = jnp.meshgrid(jnp.linspace(initial_time,final_time,num_fine_grid),jnp.linspace(0,1,num_fine_grid))\n",
    "    tx_fine = jnp.vstack([t_fine.flatten(),x_fine.flatten()]).T\n",
    "\n",
    "    # Plot initial and final conditions\n",
    "    num_fine_grid = 500\n",
    "    grid_points = jnp.linspace(0,1,num_fine_grid)\n",
    "\n",
    "    # Features of u and P\n",
    "    u_operators = (eval_k,) # This enforces 1_5 step method\n",
    "    feature_operators = (eval_k,dx_k,dxx_k)\n",
    "\n",
    "\n",
    "    # Fit parameters of kernel for u\n",
    "    def param_ani_gaussian_RBF(x,y,params):\n",
    "        lengthscales = log1pexp(params)\n",
    "        return get_anisotropic_gaussianRBF(1.,jnp.diag(lengthscales))(x,y)\n",
    "\n",
    "    fitted_params_s = []\n",
    "    ml_value_s = []\n",
    "    k_u_s = []\n",
    "    for i in range(m):\n",
    "        res = fit_kernel_params(param_ani_gaussian_RBF,tx_obs[i],u_obs[i],jnp.zeros(2))\n",
    "        ML_lengthscales = log1pexp(res[0])\n",
    "        k_u_s.append(get_anisotropic_gaussianRBF(1.,jnp.diag(log1pexp(res[0]))))\n",
    "        #print(1/(jnp.sqrt(ML_lengthscales)))\n",
    "\n",
    "    u_models = tuple([CholInducedRKHS(\n",
    "        tx_all[i],\n",
    "        u_operators,\n",
    "        k_u_s[i]\n",
    "        ) for i in range(m)])\n",
    "    \n",
    "\n",
    "    # Get necessary tuples\n",
    "    observation_points = tuple(tx_obs)\n",
    "    observation_values = tuple(u_obs)\n",
    "    collocation_points = tx_ints\n",
    "\n",
    "    all_u_params_init = tuple([\n",
    "        model.get_fitted_params(obs_loc,obs_val)\n",
    "        for obs_loc,obs_val,model in zip(observation_points,observation_values,u_models)])\n",
    "\n",
    "    grid_features_u_init = jnp.vstack([(\n",
    "        model.evaluate_operators(feature_operators,tx_int,model_params)).reshape(\n",
    "                len(tx_int),\n",
    "                len(feature_operators),\n",
    "                order = 'F'\n",
    "            ) for tx_int,model,model_params in zip(tx_ints,u_models,all_u_params_init)])\n",
    "\n",
    "    k_P_u_part = get_centered_scaled_poly_kernel(2,grid_features_u_init,c=1.,scaling = 'diagonal')\n",
    "\n",
    "    @vectorize_kfunc\n",
    "    def k_P(x,y):\n",
    "        return k_P_u_part(x[2:],y[2:])\n",
    "\n",
    "    P_model = OperatorModel(k_P)\n",
    "\n",
    "    EqnModel  = OperatorPDEModel(\n",
    "        P_model,\n",
    "        u_models,\n",
    "        observation_points,\n",
    "        observation_values,\n",
    "        collocation_points,\n",
    "        feature_operators,\n",
    "        rhs_operator=dt_k,\n",
    "        datafit_weight = 5.,\n",
    "        )\n",
    "\n",
    "    import LM_Solve\n",
    "    import importlib\n",
    "    importlib.reload(LM_Solve)\n",
    "    from LM_Solve import LevenbergMarquadtMinimize,adaptive_refine_solution\n",
    "    params_init = jnp.hstack(list(all_u_params_init)+[jnp.zeros(m*len(tx_ints[0]))])\n",
    "\n",
    "    params,convergence_data = LevenbergMarquadtMinimize(\n",
    "        params_init.copy(),\n",
    "        EqnModel,\n",
    "        beta = 1e-11,\n",
    "        max_iter = 501,\n",
    "        init_alpha=0.1,\n",
    "        line_search_increase_ratio=1.4,\n",
    "        print_every = 100\n",
    "    )\n",
    "    p_adjusted,refine_convergence_data = adaptive_refine_solution(params,EqnModel,1e-3,500)\n",
    "\n",
    "    equation_residuals = EqnModel.equation_residual(params)\n",
    "    equation_residuals_refined = EqnModel.equation_residual(p_adjusted)\n",
    "\n",
    "    u_sols = EqnModel.get_u_params(p_adjusted)\n",
    "    P_sol = EqnModel.get_P_params(p_adjusted)\n",
    "\n",
    "    u_sols = EqnModel.get_u_params(params)\n",
    "    P_sol = EqnModel.get_P_params(params)\n",
    "\n",
    "\n",
    "\n",
    "    #### Operator learning error : 1.5 step method\n",
    "    # Sample m u0 new functions from a GP\n",
    "    M = 15\n",
    "    kernel_GP = get_gaussianRBF(0.2)\n",
    "    xy_pts = jnp.linspace(0,1,50) # Pts to build interpolants\n",
    "    u0_new_true_functions = tuple(GP_Sampler_1D_Pinned(num_samples = M,\n",
    "                                            X = xy_pts, \n",
    "                                            smooth= alpha,\n",
    "                                            kernel = kernel_GP,\n",
    "                                            reg = 1e-8,\n",
    "                                            seed = run\n",
    "                                        )\n",
    "                            )\n",
    "\n",
    "    vec_u0_new_true_functions = tuple([np.vectorize(u) for u in u0_new_true_functions])\n",
    "    vmapped_u0_new_true_functions = tuple([jax.vmap(u) for u in u0_new_true_functions])\n",
    "    # Solve m Burgers' equations with IC's: u0_true_functions \n",
    "    # kappa = 0.001\n",
    "    # alpha = 5.\n",
    "    kappa = 0.01\n",
    "    alpha = 1.\n",
    "\n",
    "    u_new_true_functions = []\n",
    "    ut_new_true_functions = []\n",
    "    interpolants_new = []\n",
    "    t_vals_s_new = []\n",
    "    sols_s_new = []\n",
    "\n",
    "    for u0_new_true_function in vec_u0_new_true_functions:\n",
    "        res = list(build_burgers_data(func_u0=u0_new_true_function,\n",
    "                        kappa = kappa,\n",
    "                        alpha = alpha,\n",
    "                        k_timestep=0.0001,\n",
    "                        n_finite_diff=1999))\n",
    "        u_new_true_functions.append(res[0])\n",
    "        ut_new_true_functions.append(res[1])\n",
    "        interpolants_new.append(res[2])\n",
    "        t_vals_s_new.append(res[3])\n",
    "        sols_s_new.append(res[4])\n",
    "\n",
    "    # Colocation points for learning u\n",
    "    num_grid_x = 31\n",
    "    num_grid_t = 26\n",
    "    tx_int,tx_bdy = build_tx_grid_chebyshev([0,1],[0,1],num_grid_t,num_grid_x,alpha = 0.5)\n",
    "\n",
    "    tx_all,_ = setup_problem_data(\n",
    "        tx_int,\n",
    "        tx_bdy,\n",
    "        60,\n",
    "        jax.random.PRNGKey(55),\n",
    "        times_to_observe = (0,)\n",
    "    )\n",
    "\n",
    "    new_u_eval_fines = []\n",
    "    for i in range(M):\n",
    "        model_grid_features = EqnModel.get_stacked_eqn_features(u_sols)\n",
    "        @jit\n",
    "        def get_pred_ut(input_features):\n",
    "            return P_model.kernel_function(input_features,model_grid_features)@P_sol\n",
    "\n",
    "        tx_init_bdy = jnp.vstack([tx_int[tx_int[:,0]==0],tx_bdy])\n",
    "\n",
    "        new_obs = u_new_true_functions[i](tx_init_bdy)    \n",
    "\n",
    "        tx_all_ = tx_all[0]\n",
    "\n",
    "        # Object to capture learned solution : Fixing the first ?\n",
    "        u_model = CholInducedRKHS(tx_all,\n",
    "                                    feature_operators,\n",
    "                                    k_u_s[0]\n",
    "                                    )\n",
    "\n",
    "        class PdeModel():\n",
    "            datafit_weight = 50.\n",
    "            @jit\n",
    "            def get_grid_features(u_params):\n",
    "                evaluation = u_model.evaluate_operators(feature_operators,tx_int,u_params)\n",
    "                grid_features = evaluation.reshape(len(tx_int),len(feature_operators),order = 'F')\n",
    "                return jnp.hstack([tx_int,grid_features])\n",
    "            \n",
    "            @jit\n",
    "            def get_grid_target(u_params):\n",
    "                return u_model.evaluate_operators((dt_k,),tx_int,u_params)\n",
    "            \n",
    "            @jit\n",
    "            def eval_obs_points(u_params):\n",
    "                return u_model.point_evaluate(tx_init_bdy,u_params)\n",
    "            \n",
    "            @jit\n",
    "            def datafit_residual(u_params):\n",
    "                obs_preds = PdeModel.eval_obs_points(u_params)\n",
    "                return new_obs - obs_preds\n",
    "            \n",
    "            @jit\n",
    "            def equation_residual(u_params):\n",
    "                P_features = PdeModel.get_grid_features(u_params)\n",
    "                P_model_preds = get_pred_ut(P_features)\n",
    "                ugrid_target = PdeModel.get_grid_target(u_params)\n",
    "                return (ugrid_target - P_model_preds)\n",
    "            \n",
    "            @jit\n",
    "            def F(u_params):\n",
    "                eqn_res = PdeModel.equation_residual(u_params)\n",
    "                data_res = PdeModel.datafit_residual(u_params)\n",
    "                return jnp.hstack([\n",
    "                    PdeModel.datafit_weight * data_res/jnp.sqrt(len(data_res)),\n",
    "                    eqn_res/jnp.sqrt(len(eqn_res))\n",
    "                    ])\n",
    "            \n",
    "            jac = jit(jacrev(F))\n",
    "\n",
    "            def loss(u_params):\n",
    "                return jnp.linalg.norm(PdeModel.F(u_params))**2\n",
    "            \n",
    "            @jit\n",
    "            def damping_matrix(u_params):\n",
    "                return u_model.kmat+1e-5 * diagpart(u_model.kmat)\n",
    "            \n",
    "\n",
    "        # OPTIMIZE\n",
    "        new_u_init = jnp.zeros(tx_all.shape[0]*len(feature_operators))\n",
    "\n",
    "        u_params_pde,pde_convergence_data = LevenbergMarquadtMinimize(\n",
    "            new_u_init.copy(),\n",
    "            PdeModel,\n",
    "            beta = 0.,\n",
    "            max_iter = 101,\n",
    "            init_alpha=0.05,\n",
    "            line_search_increase_ratio=1.4,\n",
    "            print_every = 10\n",
    "        )\n",
    "        u_pde_adj,pde_refine_conv_data = adaptive_refine_solution(u_params_pde,PdeModel,1e-1,150)\n",
    "\n",
    "        new_u_eval_fines.append(u_model.point_evaluate(tx_fine,u_pde_adj))\n",
    "\n",
    "    # True\n",
    "    new_u_true_eval_fines = [u(tx_fine) for u in u_new_true_functions]\n",
    "    # Pred\n",
    "    new_u_eval_fines = new_u_eval_fines\n",
    "\n",
    "    i_opt_1_5 = jnp.mean(jnp.array([get_nrmse(t,p) for t, p in zip(new_u_eval_fines,new_u_true_eval_fines)]))\n",
    "\n",
    "\n",
    "    #### Operator learning error : 2 step method\n",
    "\n",
    "    new_u_eval_fines_2step = []\n",
    "    for i in range(M):\n",
    "        model_grid_features = EqnModel.get_stacked_eqn_features(u_sols)\n",
    "\n",
    "        tx_init_bdy = jnp.vstack([tx_int[tx_int[:,0]==0],tx_bdy])\n",
    "\n",
    "        new_obs = u_new_true_functions[i](tx_init_bdy)    \n",
    "\n",
    "        tx_all_ = tx_all[0]\n",
    "\n",
    "        # Object to capture learned solution : Fixing the first ?\n",
    "        u_model = CholInducedRKHS(tx_all,\n",
    "                                    feature_operators,\n",
    "                                    k_u_s[0]\n",
    "                                    )\n",
    "\n",
    "        @jit\n",
    "        def get_pred_ut_2step(input_features):\n",
    "            init_P_features = EqnModel.get_stacked_eqn_features(all_u_params_init)\n",
    "            rhs_stacked = EqnModel.stacked_collocation_rhs\n",
    "            P_params_naive = P_model.fit_params(init_P_features,rhs_stacked,nugget = 1e-8)\n",
    "            return P_model.predict_new(input_features,init_P_features,P_params_naive)\n",
    "        \n",
    "\n",
    "        class PdeModel():\n",
    "            datafit_weight = 50.\n",
    "            @jit\n",
    "            def get_grid_features(u_params):\n",
    "                evaluation = u_model.evaluate_operators(feature_operators,tx_int,u_params)\n",
    "                grid_features = evaluation.reshape(len(tx_int),len(feature_operators),order = 'F')\n",
    "                return jnp.hstack([tx_int,grid_features])\n",
    "            \n",
    "            @jit\n",
    "            def get_grid_target(u_params):\n",
    "                return u_model.evaluate_operators((dt_k,),tx_int,u_params)\n",
    "            \n",
    "            @jit\n",
    "            def eval_obs_points(u_params):\n",
    "                return u_model.point_evaluate(tx_init_bdy,u_params)\n",
    "            \n",
    "            @jit\n",
    "            def datafit_residual(u_params):\n",
    "                obs_preds = PdeModel.eval_obs_points(u_params)\n",
    "                return new_obs - obs_preds\n",
    "            \n",
    "            @jit\n",
    "            def equation_residual(u_params):\n",
    "                P_features = PdeModel.get_grid_features(u_params)\n",
    "                P_model_preds = get_pred_ut_2step(P_features)\n",
    "                ugrid_target = PdeModel.get_grid_target(u_params)\n",
    "                return (ugrid_target - P_model_preds)\n",
    "            \n",
    "            @jit\n",
    "            def F(u_params):\n",
    "                eqn_res = PdeModel.equation_residual(u_params)\n",
    "                data_res = PdeModel.datafit_residual(u_params)\n",
    "                return jnp.hstack([\n",
    "                    PdeModel.datafit_weight * data_res/jnp.sqrt(len(data_res)),\n",
    "                    eqn_res/jnp.sqrt(len(eqn_res))\n",
    "                    ])\n",
    "            \n",
    "            jac = jit(jacrev(F))\n",
    "\n",
    "            def loss(u_params):\n",
    "                return jnp.linalg.norm(PdeModel.F(u_params))**2\n",
    "            \n",
    "            @jit\n",
    "            def damping_matrix(u_params):\n",
    "                return u_model.kmat+1e-5 * diagpart(u_model.kmat)\n",
    "            \n",
    "\n",
    "        # OPTIMIZE\n",
    "        new_u_init = jnp.zeros(tx_all.shape[0]*len(feature_operators))\n",
    "\n",
    "        u_params_pde,pde_convergence_data = LevenbergMarquadtMinimize(\n",
    "            new_u_init.copy(),\n",
    "            PdeModel,\n",
    "            beta = 0.,\n",
    "            max_iter = 101,\n",
    "            init_alpha=0.05,\n",
    "            line_search_increase_ratio=1.4,\n",
    "            print_every = 10\n",
    "        )\n",
    "        u_pde_adj,pde_refine_conv_data = adaptive_refine_solution(u_params_pde,PdeModel,1e-1,150)\n",
    "\n",
    "        new_u_eval_fines_2step.append(u_model.point_evaluate(tx_fine,u_pde_adj))\n",
    "    \n",
    "    # True\n",
    "    new_u_true_eval_fines = [u(tx_fine) for u in u_new_true_functions]\n",
    "    # Pred\n",
    "    new_u_eval_fines2step = new_u_eval_fines_2step\n",
    "\n",
    "    i_opt_2 = jnp.mean(jnp.array([get_nrmse(t,p) for t, p in zip(new_u_eval_fines_2step,new_u_true_eval_fines)]))\n",
    "\n",
    "    return i_opt_1_5, i_opt_2"
   ]
  },
  {
   "cell_type": "code",
   "execution_count": 3,
   "metadata": {},
   "outputs": [],
   "source": [
    "err = {\n",
    "    '1_5_mthd': [],\n",
    "    '2_mthd':   []\n",
    "}"
   ]
  },
  {
   "cell_type": "code",
   "execution_count": 4,
   "metadata": {},
   "outputs": [
    {
     "data": {
      "application/vnd.jupyter.widget-view+json": {
       "model_id": "56ad3671e7aa46d7bf28dbc912672b40",
       "version_major": 2,
       "version_minor": 0
      },
      "text/plain": [
       "  0%|          | 0/10099 [00:00<?, ?it/s]"
      ]
     },
     "metadata": {},
     "output_type": "display_data"
    },
    {
     "data": {
      "application/vnd.jupyter.widget-view+json": {
       "model_id": "3247c7b723ce48ab9f5a555878ca1e1b",
       "version_major": 2,
       "version_minor": 0
      },
      "text/plain": [
       "  0%|          | 0/501 [00:00<?, ?it/s]"
      ]
     },
     "metadata": {},
     "output_type": "display_data"
    },
    {
     "name": "stdout",
     "output_type": "stream",
     "text": [
      "Iteration 0, loss = 0.4439, Jres = 44.89, alpha = 0.08333, improvement_ratio = 0.9712\n",
      "Iteration 1, loss = 0.2334, Jres = 7.763, alpha = 0.06944, improvement_ratio = 1.006\n",
      "Iteration 2, loss = 0.1549, Jres = 2.457, alpha = 0.05787, improvement_ratio = 1.018\n",
      "Iteration 3, loss = 0.115, Jres = 1.103, alpha = 0.04823, improvement_ratio = 1.031\n",
      "Iteration 4, loss = 0.09098, Jres = 0.7302, alpha = 0.04019, improvement_ratio = 1.053\n",
      "Iteration 5, loss = 0.07271, Jres = 0.6387, alpha = 0.03349, improvement_ratio = 1.072\n",
      "Iteration 100, loss = 0.006384, Jres = 0.000123, alpha = 8.333e-07, improvement_ratio = 1.0\n",
      "Iteration 200, loss = 0.006171, Jres = 9.157e-06, alpha = 8.333e-07, improvement_ratio = 1.0\n",
      "Iteration 300, loss = 0.00606, Jres = 5.466e-06, alpha = 8.333e-07, improvement_ratio = 1.0\n",
      "Iteration 400, loss = 0.005981, Jres = 5.766e-06, alpha = 8.333e-07, improvement_ratio = 1.0\n",
      "Iteration 500, loss = 0.005919, Jres = 5.734e-06, alpha = 8.333e-07, improvement_ratio = 1.0\n"
     ]
    },
    {
     "data": {
      "application/vnd.jupyter.widget-view+json": {
       "model_id": "e3b6005118bd4787b48f53c2d2b2f5ed",
       "version_major": 2,
       "version_minor": 0
      },
      "text/plain": [
       "  0%|          | 0/500 [00:00<?, ?it/s]"
      ]
     },
     "metadata": {},
     "output_type": "display_data"
    },
    {
     "name": "stdout",
     "output_type": "stream",
     "text": [
      "Iteration 0, loss = 0.005917640246862752\n",
      "Iteration 93 Step Failed\n",
      "Iteration 234 Step Failed\n",
      "Iteration 306 Step Failed\n",
      "Iteration 318 Step Failed\n",
      "Iteration 360 Step Failed\n",
      "Iteration 385 Step Failed\n",
      "Iteration 412 Step Failed\n",
      "Iteration 422 Step Failed\n",
      "Iteration 423 Step Failed\n",
      "Iteration 443 Step Failed\n",
      "Iteration 452 Step Failed\n",
      "Iteration 456 Step Failed\n",
      "Iteration 462 Step Failed\n",
      "Iteration 475 Step Failed\n",
      "Iteration 494 Step Failed\n",
      "Iteration 496 Step Failed\n",
      "Iteration 497 Step Failed\n",
      "Iteration 498 Step Failed\n",
      "Iteration 499 Step Failed\n"
     ]
    },
    {
     "data": {
      "application/vnd.jupyter.widget-view+json": {
       "model_id": "16f7844c3a7a4dbd8520b7b8bf6eb2b1",
       "version_major": 2,
       "version_minor": 0
      },
      "text/plain": [
       "  0%|          | 0/10099 [00:00<?, ?it/s]"
      ]
     },
     "metadata": {},
     "output_type": "display_data"
    },
    {
     "data": {
      "application/vnd.jupyter.widget-view+json": {
       "model_id": "aef1968b1b344905b88b203381287e77",
       "version_major": 2,
       "version_minor": 0
      },
      "text/plain": [
       "  0%|          | 0/10099 [00:00<?, ?it/s]"
      ]
     },
     "metadata": {},
     "output_type": "display_data"
    },
    {
     "data": {
      "application/vnd.jupyter.widget-view+json": {
       "model_id": "c9624aa30874402ebe34bf1b4602ce9f",
       "version_major": 2,
       "version_minor": 0
      },
      "text/plain": [
       "  0%|          | 0/10099 [00:00<?, ?it/s]"
      ]
     },
     "metadata": {},
     "output_type": "display_data"
    },
    {
     "data": {
      "application/vnd.jupyter.widget-view+json": {
       "model_id": "20838428b7e246b69794f6eeba98b2ab",
       "version_major": 2,
       "version_minor": 0
      },
      "text/plain": [
       "  0%|          | 0/10099 [00:00<?, ?it/s]"
      ]
     },
     "metadata": {},
     "output_type": "display_data"
    },
    {
     "data": {
      "application/vnd.jupyter.widget-view+json": {
       "model_id": "23af8794bf51482f8121e833c6f6ba20",
       "version_major": 2,
       "version_minor": 0
      },
      "text/plain": [
       "  0%|          | 0/10099 [00:00<?, ?it/s]"
      ]
     },
     "metadata": {},
     "output_type": "display_data"
    },
    {
     "data": {
      "application/vnd.jupyter.widget-view+json": {
       "model_id": "70098fb34f92437282fa2ee01a1735f4",
       "version_major": 2,
       "version_minor": 0
      },
      "text/plain": [
       "  0%|          | 0/10099 [00:00<?, ?it/s]"
      ]
     },
     "metadata": {},
     "output_type": "display_data"
    },
    {
     "data": {
      "application/vnd.jupyter.widget-view+json": {
       "model_id": "627b20518c004901b97cf11e0347c1a0",
       "version_major": 2,
       "version_minor": 0
      },
      "text/plain": [
       "  0%|          | 0/10099 [00:00<?, ?it/s]"
      ]
     },
     "metadata": {},
     "output_type": "display_data"
    },
    {
     "data": {
      "application/vnd.jupyter.widget-view+json": {
       "model_id": "80d3e238fa7f4703a348da614a0eab58",
       "version_major": 2,
       "version_minor": 0
      },
      "text/plain": [
       "  0%|          | 0/10099 [00:00<?, ?it/s]"
      ]
     },
     "metadata": {},
     "output_type": "display_data"
    },
    {
     "data": {
      "application/vnd.jupyter.widget-view+json": {
       "model_id": "e4750ef55f9d4545af03767ac09311e6",
       "version_major": 2,
       "version_minor": 0
      },
      "text/plain": [
       "  0%|          | 0/10099 [00:00<?, ?it/s]"
      ]
     },
     "metadata": {},
     "output_type": "display_data"
    },
    {
     "data": {
      "application/vnd.jupyter.widget-view+json": {
       "model_id": "a980bfe3b9e346529497c8b2afb2fc25",
       "version_major": 2,
       "version_minor": 0
      },
      "text/plain": [
       "  0%|          | 0/10099 [00:00<?, ?it/s]"
      ]
     },
     "metadata": {},
     "output_type": "display_data"
    },
    {
     "data": {
      "application/vnd.jupyter.widget-view+json": {
       "model_id": "f726c3e22e5f478c9763d0194b2b7c44",
       "version_major": 2,
       "version_minor": 0
      },
      "text/plain": [
       "  0%|          | 0/10099 [00:00<?, ?it/s]"
      ]
     },
     "metadata": {},
     "output_type": "display_data"
    },
    {
     "data": {
      "application/vnd.jupyter.widget-view+json": {
       "model_id": "9afc7aba1b2647adb77ac371ad370bfa",
       "version_major": 2,
       "version_minor": 0
      },
      "text/plain": [
       "  0%|          | 0/10099 [00:00<?, ?it/s]"
      ]
     },
     "metadata": {},
     "output_type": "display_data"
    },
    {
     "data": {
      "application/vnd.jupyter.widget-view+json": {
       "model_id": "8b1d7cda9ec64cc69de17aa1fb84aab5",
       "version_major": 2,
       "version_minor": 0
      },
      "text/plain": [
       "  0%|          | 0/10099 [00:00<?, ?it/s]"
      ]
     },
     "metadata": {},
     "output_type": "display_data"
    },
    {
     "data": {
      "application/vnd.jupyter.widget-view+json": {
       "model_id": "44a05bfee4054070a0e38be6b5defe48",
       "version_major": 2,
       "version_minor": 0
      },
      "text/plain": [
       "  0%|          | 0/10099 [00:00<?, ?it/s]"
      ]
     },
     "metadata": {},
     "output_type": "display_data"
    },
    {
     "data": {
      "application/vnd.jupyter.widget-view+json": {
       "model_id": "fde5dcb4c526491ba1c9a73232182569",
       "version_major": 2,
       "version_minor": 0
      },
      "text/plain": [
       "  0%|          | 0/10099 [00:00<?, ?it/s]"
      ]
     },
     "metadata": {},
     "output_type": "display_data"
    },
    {
     "data": {
      "application/vnd.jupyter.widget-view+json": {
       "model_id": "ebf68910da4f47788b6099ffb948d89a",
       "version_major": 2,
       "version_minor": 0
      },
      "text/plain": [
       "  0%|          | 0/101 [00:00<?, ?it/s]"
      ]
     },
     "metadata": {},
     "output_type": "display_data"
    },
    {
     "name": "stdout",
     "output_type": "stream",
     "text": [
      "Iteration 0, loss = 1.638, Jres = 196.5, alpha = 0.04167, improvement_ratio = 0.9916\n",
      "Iteration 1, loss = 0.1715, Jres = 4.618, alpha = 0.03472, improvement_ratio = 0.9439\n",
      "Iteration 2, loss = 0.0991, Jres = 0.48, alpha = 0.03472, improvement_ratio = 0.73\n",
      "Iteration 3, loss = 0.09496, Jres = 0.3193, alpha = 0.1601, improvement_ratio = 0.1157\n",
      "Iteration 4, loss = 0.06491, Jres = 0.511, alpha = 0.1334, improvement_ratio = 0.9506\n",
      "Iteration 5, loss = 0.06318, Jres = 0.0481, alpha = 0.1112, improvement_ratio = 0.8806\n",
      "Iteration 10, loss = 0.05612, Jres = 0.003731, alpha = 0.04467, improvement_ratio = 1.003\n",
      "Iteration 20, loss = 0.0349, Jres = 0.001714, alpha = 0.007215, improvement_ratio = 1.007\n",
      "Iteration 30, loss = 0.02449, Jres = 0.0009828, alpha = 0.001165, improvement_ratio = 1.023\n",
      "Iteration 40, loss = 0.01896, Jres = 0.001302, alpha = 0.0001882, improvement_ratio = 1.004\n",
      "Iteration 50, loss = 0.01235, Jres = 0.002943, alpha = 3.039e-05, improvement_ratio = 1.001\n",
      "Iteration 60, loss = 0.007356, Jres = 0.01061, alpha = 8.482e-06, improvement_ratio = 1.005\n",
      "Iteration 70, loss = 0.004089, Jres = 0.00395, alpha = 1.37e-06, improvement_ratio = 0.9926\n",
      "Iteration 80, loss = 0.002974, Jres = 0.01809, alpha = 1.2e-06, improvement_ratio = 0.6264\n",
      "Iteration 90, loss = 0.00267, Jres = 0.0002059, alpha = 8.333e-07, improvement_ratio = 1.015\n",
      "Iteration 100, loss = 0.002472, Jres = 0.0008584, alpha = 8.333e-07, improvement_ratio = 1.068\n"
     ]
    },
    {
     "data": {
      "application/vnd.jupyter.widget-view+json": {
       "model_id": "a36bfb3a3c5747d29b8ba5414dbe4816",
       "version_major": 2,
       "version_minor": 0
      },
      "text/plain": [
       "  0%|          | 0/150 [00:00<?, ?it/s]"
      ]
     },
     "metadata": {},
     "output_type": "display_data"
    },
    {
     "name": "stdout",
     "output_type": "stream",
     "text": [
      "Iteration 0, loss = 0.004943795912096925\n",
      "Iteration 56 Step Failed\n",
      "Iteration 141 Step Failed\n",
      "Iteration 142 Step Failed\n"
     ]
    },
    {
     "data": {
      "application/vnd.jupyter.widget-view+json": {
       "model_id": "d16a218a33154541832daa761b30952b",
       "version_major": 2,
       "version_minor": 0
      },
      "text/plain": [
       "  0%|          | 0/101 [00:00<?, ?it/s]"
      ]
     },
     "metadata": {},
     "output_type": "display_data"
    },
    {
     "name": "stdout",
     "output_type": "stream",
     "text": [
      "Iteration 0, loss = 0.9929, Jres = 131.1, alpha = 0.04167, improvement_ratio = 0.9905\n",
      "Line Search Failed!\n",
      "Final Iteration Results\n",
      "Iteration 1, loss = 0.9241, Jres = 131.1, alpha = 41.83\n"
     ]
    },
    {
     "data": {
      "application/vnd.jupyter.widget-view+json": {
       "model_id": "6f3d12f7b39147f8a1955fbc58674638",
       "version_major": 2,
       "version_minor": 0
      },
      "text/plain": [
       "  0%|          | 0/150 [00:00<?, ?it/s]"
      ]
     },
     "metadata": {},
     "output_type": "display_data"
    },
    {
     "name": "stdout",
     "output_type": "stream",
     "text": [
      "Iteration 0, loss = 1.8481101847165988\n"
     ]
    },
    {
     "data": {
      "application/vnd.jupyter.widget-view+json": {
       "model_id": "1c1e1aae4e4e459d9a7830a9ef67a91f",
       "version_major": 2,
       "version_minor": 0
      },
      "text/plain": [
       "  0%|          | 0/101 [00:00<?, ?it/s]"
      ]
     },
     "metadata": {},
     "output_type": "display_data"
    },
    {
     "name": "stdout",
     "output_type": "stream",
     "text": [
      "Iteration 0, loss = 1.382, Jres = 196.9, alpha = 0.04167, improvement_ratio = 0.9929\n",
      "Iteration 1, loss = 0.3254, Jres = 4.002, alpha = 0.04167, improvement_ratio = 0.7951\n",
      "Iteration 2, loss = 0.08829, Jres = 1.162, alpha = 0.03472, improvement_ratio = 0.8994\n",
      "Iteration 3, loss = 0.05924, Jres = 0.2867, alpha = 0.02894, improvement_ratio = 0.9815\n",
      "Iteration 4, loss = 0.05602, Jres = 0.03981, alpha = 0.02411, improvement_ratio = 0.9944\n",
      "Iteration 5, loss = 0.05372, Jres = 0.004382, alpha = 0.02009, improvement_ratio = 1.013\n",
      "Iteration 10, loss = 0.03946, Jres = 0.007485, alpha = 0.008075, improvement_ratio = 1.042\n",
      "Iteration 20, loss = 0.008441, Jres = 0.001015, alpha = 0.001304, improvement_ratio = 1.011\n",
      "Iteration 30, loss = 0.004875, Jres = 0.001816, alpha = 0.0002106, improvement_ratio = 1.005\n",
      "Iteration 40, loss = 0.003318, Jres = 0.001035, alpha = 3.402e-05, improvement_ratio = 1.023\n",
      "Iteration 50, loss = 0.002457, Jres = 0.00143, alpha = 5.494e-06, improvement_ratio = 0.9817\n",
      "Iteration 60, loss = 0.001796, Jres = 0.0016, alpha = 8.874e-07, improvement_ratio = 0.9464\n",
      "Iteration 70, loss = 0.00135, Jres = 0.0007123, alpha = 8.333e-07, improvement_ratio = 0.975\n",
      "Iteration 80, loss = 0.001228, Jres = 0.001819, alpha = 6.275e-06, improvement_ratio = 0.581\n",
      "Iteration 90, loss = 0.001208, Jres = 0.0009352, alpha = 1.435e-05, improvement_ratio = 0.4239\n",
      "Iteration 100, loss = 0.001037, Jres = 0.0004044, alpha = 3.015e-05, improvement_ratio = 0.2557\n"
     ]
    },
    {
     "data": {
      "application/vnd.jupyter.widget-view+json": {
       "model_id": "ba108b33a68842efa4d494983d2f0d7a",
       "version_major": 2,
       "version_minor": 0
      },
      "text/plain": [
       "  0%|          | 0/150 [00:00<?, ?it/s]"
      ]
     },
     "metadata": {},
     "output_type": "display_data"
    },
    {
     "name": "stdout",
     "output_type": "stream",
     "text": [
      "Iteration 0, loss = 0.0020740394349467017\n",
      "Iteration 94 Step Failed\n",
      "Iteration 95 Step Failed\n",
      "Iteration 104 Step Failed\n",
      "Iteration 105 Step Failed\n"
     ]
    },
    {
     "data": {
      "application/vnd.jupyter.widget-view+json": {
       "model_id": "6ce9f393bd5249c686e5afed0b08478a",
       "version_major": 2,
       "version_minor": 0
      },
      "text/plain": [
       "  0%|          | 0/101 [00:00<?, ?it/s]"
      ]
     },
     "metadata": {},
     "output_type": "display_data"
    },
    {
     "name": "stdout",
     "output_type": "stream",
     "text": [
      "Iteration 0, loss = 0.2323, Jres = 119.7, alpha = 0.04167, improvement_ratio = 0.9969\n",
      "Iteration 1, loss = 0.05741, Jres = 1.008, alpha = 0.03472, improvement_ratio = 0.8024\n",
      "Iteration 2, loss = 0.01669, Jres = 0.3614, alpha = 0.02894, improvement_ratio = 0.968\n",
      "Iteration 3, loss = 0.01539, Jres = 0.03194, alpha = 0.02411, improvement_ratio = 1.035\n",
      "Iteration 4, loss = 0.01466, Jres = 0.006674, alpha = 0.02009, improvement_ratio = 1.462\n",
      "Iteration 5, loss = 0.01385, Jres = 0.009567, alpha = 0.01674, improvement_ratio = 1.382\n",
      "Iteration 10, loss = 0.01272, Jres = 0.000478, alpha = 0.006729, improvement_ratio = 1.001\n",
      "Iteration 20, loss = 0.01045, Jres = 0.0006097, alpha = 0.001087, improvement_ratio = 1.01\n",
      "Iteration 30, loss = 0.008854, Jres = 0.0003916, alpha = 0.0001755, improvement_ratio = 1.0\n",
      "Iteration 40, loss = 0.007556, Jres = 0.00185, alpha = 2.835e-05, improvement_ratio = 1.042\n",
      "Iteration 50, loss = 0.002117, Jres = 0.001576, alpha = 4.579e-06, improvement_ratio = 0.9702\n",
      "Iteration 60, loss = 0.001774, Jres = 0.0003613, alpha = 1.491e-06, improvement_ratio = 1.003\n",
      "Iteration 70, loss = 0.001499, Jres = 0.0003815, alpha = 8.333e-07, improvement_ratio = 0.9959\n",
      "Iteration 80, loss = 0.001354, Jres = 0.0001771, alpha = 8.333e-07, improvement_ratio = 0.9995\n",
      "Iteration 90, loss = 0.001263, Jres = 4.772e-05, alpha = 8.333e-07, improvement_ratio = 1.0\n",
      "Iteration 100, loss = 0.0012, Jres = 3.269e-05, alpha = 8.333e-07, improvement_ratio = 1.001\n"
     ]
    },
    {
     "data": {
      "application/vnd.jupyter.widget-view+json": {
       "model_id": "b582155547a3422c80756c53bf84eb07",
       "version_major": 2,
       "version_minor": 0
      },
      "text/plain": [
       "  0%|          | 0/150 [00:00<?, ?it/s]"
      ]
     },
     "metadata": {},
     "output_type": "display_data"
    },
    {
     "name": "stdout",
     "output_type": "stream",
     "text": [
      "Iteration 0, loss = 0.002400421832310286\n",
      "Iteration 3 Step Failed\n",
      "Iteration 4 Step Failed\n",
      "Iteration 5 Step Failed\n",
      "Iteration 6 Step Failed\n",
      "Iteration 7 Step Failed\n",
      "Iteration 8 Step Failed\n",
      "Iteration 9 Step Failed\n",
      "Iteration 11 Step Failed\n",
      "Iteration 12 Step Failed\n",
      "Iteration 13 Step Failed\n",
      "Iteration 14 Step Failed\n",
      "Iteration 15 Step Failed\n",
      "Iteration 17 Step Failed\n",
      "Iteration 18 Step Failed\n",
      "Iteration 19 Step Failed\n",
      "Iteration 20 Step Failed\n",
      "Iteration 21 Step Failed\n",
      "Iteration 22 Step Failed\n",
      "Iteration 23 Step Failed\n",
      "Iteration 24 Step Failed\n",
      "Iteration 25 Step Failed\n",
      "Iteration 26 Step Failed\n",
      "Converged by no improvement\n"
     ]
    },
    {
     "data": {
      "application/vnd.jupyter.widget-view+json": {
       "model_id": "f4ecd3f46e814edd9f319340d40b3a64",
       "version_major": 2,
       "version_minor": 0
      },
      "text/plain": [
       "  0%|          | 0/101 [00:00<?, ?it/s]"
      ]
     },
     "metadata": {},
     "output_type": "display_data"
    },
    {
     "name": "stdout",
     "output_type": "stream",
     "text": [
      "Iteration 0, loss = 0.4817, Jres = 113.8, alpha = 0.04167, improvement_ratio = 0.9942\n",
      "Iteration 1, loss = 0.08398, Jres = 1.488, alpha = 0.03472, improvement_ratio = 0.9127\n",
      "Iteration 2, loss = 0.04427, Jres = 0.4646, alpha = 0.02894, improvement_ratio = 0.9898\n",
      "Iteration 3, loss = 0.04255, Jres = 0.03189, alpha = 0.02411, improvement_ratio = 1.018\n",
      "Iteration 4, loss = 0.04142, Jres = 0.002704, alpha = 0.02009, improvement_ratio = 1.013\n",
      "Iteration 5, loss = 0.04038, Jres = 0.001637, alpha = 0.01674, improvement_ratio = 1.01\n",
      "Iteration 10, loss = 0.03603, Jres = 0.001477, alpha = 0.006729, improvement_ratio = 1.012\n",
      "Iteration 20, loss = 0.02754, Jres = 0.006697, alpha = 0.001087, improvement_ratio = 1.089\n",
      "Iteration 30, loss = 0.006098, Jres = 0.005686, alpha = 0.0001755, improvement_ratio = 1.024\n",
      "Iteration 40, loss = 0.003204, Jres = 0.001526, alpha = 4.082e-05, improvement_ratio = 1.01\n",
      "Iteration 50, loss = 0.002393, Jres = 0.009832, alpha = 3.216e-05, improvement_ratio = 0.9704\n",
      "Iteration 60, loss = 0.001849, Jres = 0.005894, alpha = 7.478e-06, improvement_ratio = 0.3936\n",
      "Iteration 70, loss = 0.001662, Jres = 8.665e-06, alpha = 0.0002706, improvement_ratio = 1.0\n",
      "Iteration 80, loss = 0.001604, Jres = 3.123e-05, alpha = 4.37e-05, improvement_ratio = 0.9969\n",
      "Iteration 90, loss = 0.001451, Jres = 0.0001276, alpha = 7.057e-06, improvement_ratio = 1.001\n",
      "Iteration 100, loss = 0.00104, Jres = 0.001383, alpha = 1.14e-06, improvement_ratio = 0.9693\n"
     ]
    },
    {
     "data": {
      "application/vnd.jupyter.widget-view+json": {
       "model_id": "4bac723a7c68464eb82ad0fc2263f1d8",
       "version_major": 2,
       "version_minor": 0
      },
      "text/plain": [
       "  0%|          | 0/150 [00:00<?, ?it/s]"
      ]
     },
     "metadata": {},
     "output_type": "display_data"
    },
    {
     "name": "stdout",
     "output_type": "stream",
     "text": [
      "Iteration 0, loss = 0.002080127197308497\n",
      "Iteration 64 Step Failed\n",
      "Iteration 65 Step Failed\n"
     ]
    },
    {
     "data": {
      "application/vnd.jupyter.widget-view+json": {
       "model_id": "4ba62107e3104a2880b22aa002993ef1",
       "version_major": 2,
       "version_minor": 0
      },
      "text/plain": [
       "  0%|          | 0/101 [00:00<?, ?it/s]"
      ]
     },
     "metadata": {},
     "output_type": "display_data"
    },
    {
     "name": "stdout",
     "output_type": "stream",
     "text": [
      "Iteration 0, loss = 0.9443, Jres = 174.8, alpha = 0.04167, improvement_ratio = 0.9939\n",
      "Iteration 1, loss = 0.594, Jres = 2.88, alpha = 0.04167, improvement_ratio = 0.3794\n",
      "Iteration 2, loss = 0.03888, Jres = 2.475, alpha = 0.03472, improvement_ratio = 0.9735\n",
      "Iteration 3, loss = 0.02131, Jres = 0.2163, alpha = 0.02894, improvement_ratio = 0.9958\n",
      "Iteration 4, loss = 0.0204, Jres = 0.02406, alpha = 0.02411, improvement_ratio = 1.019\n",
      "Iteration 5, loss = 0.01983, Jres = 0.001658, alpha = 0.02009, improvement_ratio = 1.018\n",
      "Iteration 10, loss = 0.0171, Jres = 0.0009932, alpha = 0.008075, improvement_ratio = 1.011\n",
      "Iteration 20, loss = 0.01038, Jres = 0.002168, alpha = 0.001304, improvement_ratio = 1.029\n",
      "Iteration 30, loss = 0.00572, Jres = 0.001501, alpha = 0.0002106, improvement_ratio = 0.9553\n",
      "Iteration 40, loss = 0.003899, Jres = 0.001964, alpha = 3.402e-05, improvement_ratio = 0.9936\n",
      "Iteration 50, loss = 0.002797, Jres = 0.00233, alpha = 1.329e-05, improvement_ratio = 0.752\n",
      "Iteration 60, loss = 0.001918, Jres = 0.003042, alpha = 2.576e-06, improvement_ratio = 0.9064\n",
      "Iteration 70, loss = 0.001254, Jres = 0.001488, alpha = 8.333e-07, improvement_ratio = 0.973\n",
      "Iteration 80, loss = 0.001001, Jres = 0.0001815, alpha = 8.333e-07, improvement_ratio = 1.004\n",
      "Iteration 90, loss = 0.0008829, Jres = 0.0009802, alpha = 8.333e-07, improvement_ratio = 0.9428\n",
      "Iteration 100, loss = 0.0008, Jres = 0.0003265, alpha = 8.333e-07, improvement_ratio = 0.9981\n"
     ]
    },
    {
     "data": {
      "application/vnd.jupyter.widget-view+json": {
       "model_id": "d6567c7b71ce4aafb43c822bf3fcde64",
       "version_major": 2,
       "version_minor": 0
      },
      "text/plain": [
       "  0%|          | 0/150 [00:00<?, ?it/s]"
      ]
     },
     "metadata": {},
     "output_type": "display_data"
    },
    {
     "name": "stdout",
     "output_type": "stream",
     "text": [
      "Iteration 0, loss = 0.0015999736707505462\n",
      "Iteration 50 Step Failed\n",
      "Iteration 73 Step Failed\n",
      "Iteration 80 Step Failed\n",
      "Iteration 98 Step Failed\n",
      "Iteration 101 Step Failed\n",
      "Iteration 118 Step Failed\n",
      "Iteration 125 Step Failed\n",
      "Iteration 132 Step Failed\n",
      "Iteration 139 Step Failed\n"
     ]
    },
    {
     "data": {
      "application/vnd.jupyter.widget-view+json": {
       "model_id": "176a25fac07b4efc835abcead0b2619a",
       "version_major": 2,
       "version_minor": 0
      },
      "text/plain": [
       "  0%|          | 0/101 [00:00<?, ?it/s]"
      ]
     },
     "metadata": {},
     "output_type": "display_data"
    },
    {
     "name": "stdout",
     "output_type": "stream",
     "text": [
      "Iteration 0, loss = 1.121, Jres = 182.7, alpha = 0.04167, improvement_ratio = 0.9935\n",
      "Iteration 1, loss = 0.3883, Jres = 3.159, alpha = 0.04167, improvement_ratio = 0.6747\n",
      "Iteration 2, loss = 0.3119, Jres = 1.381, alpha = 0.04167, improvement_ratio = 0.2225\n",
      "Iteration 3, loss = 0.06616, Jres = 1.314, alpha = 0.03472, improvement_ratio = 0.9111\n",
      "Iteration 4, loss = 0.06245, Jres = 0.1573, alpha = 0.1143, improvement_ratio = 0.1453\n",
      "Iteration 5, loss = 0.04119, Jres = 0.2198, alpha = 0.09528, improvement_ratio = 0.9498\n",
      "Iteration 10, loss = 0.03683, Jres = 0.001193, alpha = 0.03829, improvement_ratio = 1.003\n",
      "Iteration 20, loss = 0.02794, Jres = 0.001202, alpha = 0.006184, improvement_ratio = 0.9989\n",
      "Iteration 30, loss = 0.0205, Jres = 0.001458, alpha = 0.0009988, improvement_ratio = 1.014\n",
      "Iteration 40, loss = 0.009751, Jres = 0.00135, alpha = 0.0001613, improvement_ratio = 1.01\n",
      "Iteration 50, loss = 0.005702, Jres = 0.002551, alpha = 2.605e-05, improvement_ratio = 1.011\n",
      "Iteration 60, loss = 0.003019, Jres = 0.007305, alpha = 5.049e-06, improvement_ratio = 0.7872\n",
      "Iteration 70, loss = 0.001859, Jres = 0.002439, alpha = 1.174e-06, improvement_ratio = 0.953\n",
      "Iteration 80, loss = 0.001434, Jres = 0.0002461, alpha = 8.333e-07, improvement_ratio = 1.009\n",
      "Iteration 90, loss = 0.001207, Jres = 0.0001946, alpha = 8.333e-07, improvement_ratio = 1.007\n",
      "Iteration 100, loss = 0.001029, Jres = 0.0002576, alpha = 8.333e-07, improvement_ratio = 1.003\n"
     ]
    },
    {
     "data": {
      "application/vnd.jupyter.widget-view+json": {
       "model_id": "9d5920e6194d4b76b5bdcab22be1f697",
       "version_major": 2,
       "version_minor": 0
      },
      "text/plain": [
       "  0%|          | 0/150 [00:00<?, ?it/s]"
      ]
     },
     "metadata": {},
     "output_type": "display_data"
    },
    {
     "name": "stdout",
     "output_type": "stream",
     "text": [
      "Iteration 0, loss = 0.0020589692205576168\n",
      "Iteration 83 Step Failed\n"
     ]
    },
    {
     "data": {
      "application/vnd.jupyter.widget-view+json": {
       "model_id": "09bfaa647cf7491287151085c1113bb3",
       "version_major": 2,
       "version_minor": 0
      },
      "text/plain": [
       "  0%|          | 0/101 [00:00<?, ?it/s]"
      ]
     },
     "metadata": {},
     "output_type": "display_data"
    },
    {
     "name": "stdout",
     "output_type": "stream",
     "text": [
      "Iteration 0, loss = 0.8817, Jres = 135.2, alpha = 0.04167, improvement_ratio = 0.9917\n",
      "Iteration 1, loss = 0.1308, Jres = 2.67, alpha = 0.03472, improvement_ratio = 0.9406\n",
      "Iteration 2, loss = 0.08518, Jres = 0.317, alpha = 0.02894, improvement_ratio = 0.9696\n",
      "Iteration 3, loss = 0.07671, Jres = 0.0502, alpha = 0.02411, improvement_ratio = 0.9877\n",
      "Iteration 4, loss = 0.07068, Jres = 0.009398, alpha = 0.02009, improvement_ratio = 0.996\n",
      "Iteration 5, loss = 0.0651, Jres = 0.005545, alpha = 0.01674, improvement_ratio = 0.9959\n",
      "Iteration 10, loss = 0.0429, Jres = 0.003165, alpha = 0.006729, improvement_ratio = 0.9955\n",
      "Iteration 20, loss = 0.02766, Jres = 0.003966, alpha = 0.001087, improvement_ratio = 1.241\n",
      "Iteration 30, loss = 0.02215, Jres = 0.001378, alpha = 0.0001755, improvement_ratio = 1.001\n",
      "Iteration 40, loss = 0.01441, Jres = 0.003744, alpha = 2.835e-05, improvement_ratio = 0.9946\n",
      "Iteration 50, loss = 0.006231, Jres = 0.004156, alpha = 4.579e-06, improvement_ratio = 0.9866\n",
      "Iteration 60, loss = 0.003619, Jres = 0.001384, alpha = 8.874e-07, improvement_ratio = 1.001\n",
      "Iteration 70, loss = 0.002927, Jres = 0.002135, alpha = 8.333e-07, improvement_ratio = 0.998\n",
      "Iteration 80, loss = 0.002652, Jres = 0.0004064, alpha = 8.333e-07, improvement_ratio = 0.8836\n",
      "Iteration 90, loss = 0.002531, Jres = 0.002097, alpha = 1.44e-06, improvement_ratio = 0.1363\n",
      "Iteration 100, loss = 0.002453, Jres = 0.0009306, alpha = 1.728e-06, improvement_ratio = 0.354\n"
     ]
    },
    {
     "data": {
      "application/vnd.jupyter.widget-view+json": {
       "model_id": "9bde66b3a33348ffa6528d566f978705",
       "version_major": 2,
       "version_minor": 0
      },
      "text/plain": [
       "  0%|          | 0/150 [00:00<?, ?it/s]"
      ]
     },
     "metadata": {},
     "output_type": "display_data"
    },
    {
     "name": "stdout",
     "output_type": "stream",
     "text": [
      "Iteration 0, loss = 0.0049058714470180615\n",
      "Iteration 53 Step Failed\n",
      "Iteration 54 Step Failed\n",
      "Iteration 65 Step Failed\n",
      "Iteration 66 Step Failed\n",
      "Iteration 79 Step Failed\n",
      "Iteration 105 Step Failed\n",
      "Iteration 106 Step Failed\n",
      "Iteration 115 Step Failed\n",
      "Iteration 122 Step Failed\n",
      "Iteration 129 Step Failed\n"
     ]
    },
    {
     "data": {
      "application/vnd.jupyter.widget-view+json": {
       "model_id": "fa455a2e4aa143359f056d7d7fdc9431",
       "version_major": 2,
       "version_minor": 0
      },
      "text/plain": [
       "  0%|          | 0/101 [00:00<?, ?it/s]"
      ]
     },
     "metadata": {},
     "output_type": "display_data"
    },
    {
     "name": "stdout",
     "output_type": "stream",
     "text": [
      "Iteration 0, loss = 0.109, Jres = 73.67, alpha = 0.04167, improvement_ratio = 0.997\n",
      "Iteration 1, loss = 0.03643, Jres = 0.3896, alpha = 0.03472, improvement_ratio = 0.9222\n",
      "Iteration 2, loss = 0.02789, Jres = 0.04731, alpha = 0.02894, improvement_ratio = 0.948\n",
      "Iteration 3, loss = 0.02272, Jres = 0.008859, alpha = 0.02411, improvement_ratio = 0.9919\n",
      "Iteration 4, loss = 0.01834, Jres = 0.02322, alpha = 0.02009, improvement_ratio = 0.9841\n",
      "Iteration 5, loss = 0.0153, Jres = 0.004781, alpha = 0.01674, improvement_ratio = 0.9942\n",
      "Iteration 10, loss = 0.009507, Jres = 0.00115, alpha = 0.006729, improvement_ratio = 0.9955\n",
      "Iteration 20, loss = 0.008111, Jres = 0.0001018, alpha = 0.001087, improvement_ratio = 1.0\n",
      "Iteration 30, loss = 0.006595, Jres = 0.001632, alpha = 0.0001755, improvement_ratio = 0.9885\n",
      "Iteration 40, loss = 0.004975, Jres = 0.001414, alpha = 2.835e-05, improvement_ratio = 1.032\n",
      "Iteration 50, loss = 0.003926, Jres = 0.0008499, alpha = 6.593e-06, improvement_ratio = 0.988\n",
      "Iteration 60, loss = 0.00378, Jres = 7.547e-06, alpha = 0.005914, improvement_ratio = 0.9992\n",
      "Iteration 70, loss = 0.003774, Jres = 7.689e-06, alpha = 0.0009552, improvement_ratio = 1.003\n",
      "Iteration 80, loss = 0.003756, Jres = 1.479e-05, alpha = 0.0001543, improvement_ratio = 1.003\n",
      "Iteration 90, loss = 0.003681, Jres = 7.906e-05, alpha = 2.491e-05, improvement_ratio = 1.004\n",
      "Iteration 100, loss = 0.003449, Jres = 0.0002433, alpha = 4.024e-06, improvement_ratio = 1.014\n"
     ]
    },
    {
     "data": {
      "application/vnd.jupyter.widget-view+json": {
       "model_id": "44c7b9a1b1304fc89921d2a45b15650c",
       "version_major": 2,
       "version_minor": 0
      },
      "text/plain": [
       "  0%|          | 0/150 [00:00<?, ?it/s]"
      ]
     },
     "metadata": {},
     "output_type": "display_data"
    },
    {
     "name": "stdout",
     "output_type": "stream",
     "text": [
      "Iteration 0, loss = 0.0068981147311287525\n",
      "Iteration 57 Step Failed\n"
     ]
    },
    {
     "data": {
      "application/vnd.jupyter.widget-view+json": {
       "model_id": "7cc647d3c8104cfaaafd403502d48125",
       "version_major": 2,
       "version_minor": 0
      },
      "text/plain": [
       "  0%|          | 0/101 [00:00<?, ?it/s]"
      ]
     },
     "metadata": {},
     "output_type": "display_data"
    },
    {
     "name": "stdout",
     "output_type": "stream",
     "text": [
      "Iteration 0, loss = 0.5153, Jres = 117.6, alpha = 0.04167, improvement_ratio = 0.9937\n",
      "Iteration 1, loss = 0.08918, Jres = 1.756, alpha = 0.03472, improvement_ratio = 0.9493\n",
      "Iteration 2, loss = 0.06204, Jres = 0.2711, alpha = 0.02894, improvement_ratio = 0.9901\n",
      "Iteration 3, loss = 0.05997, Jres = 0.02247, alpha = 0.02411, improvement_ratio = 1.001\n",
      "Iteration 4, loss = 0.0585, Jres = 0.001915, alpha = 0.02009, improvement_ratio = 1.001\n",
      "Iteration 5, loss = 0.05712, Jres = 0.003408, alpha = 0.01674, improvement_ratio = 1.002\n",
      "Iteration 10, loss = 0.0508, Jres = 0.005595, alpha = 0.006729, improvement_ratio = 0.9916\n",
      "Iteration 20, loss = 0.0427, Jres = 0.003566, alpha = 0.001087, improvement_ratio = 0.9893\n",
      "Iteration 30, loss = 0.03624, Jres = 0.0009172, alpha = 0.0001755, improvement_ratio = 1.003\n",
      "Iteration 40, loss = 0.03063, Jres = 0.004143, alpha = 2.835e-05, improvement_ratio = 1.032\n",
      "Iteration 50, loss = 0.02098, Jres = 0.01228, alpha = 9.23e-06, improvement_ratio = 0.4494\n",
      "Iteration 60, loss = 0.01788, Jres = 0.009774, alpha = 0.00662, improvement_ratio = 0.3814\n",
      "Iteration 70, loss = 0.01778, Jres = 0.0009474, alpha = 0.01557, improvement_ratio = 0.3905\n",
      "Iteration 80, loss = 0.01778, Jres = 3.833e-05, alpha = 0.00901, improvement_ratio = 0.9216\n",
      "Iteration 90, loss = 0.01777, Jres = 0.0005653, alpha = 0.009936, improvement_ratio = 0.5918\n",
      "Iteration 100, loss = 0.01776, Jres = 4.956e-05, alpha = 0.002773, improvement_ratio = 0.8977\n"
     ]
    },
    {
     "data": {
      "application/vnd.jupyter.widget-view+json": {
       "model_id": "34e434c36a4b41d3b4993257c405ffe3",
       "version_major": 2,
       "version_minor": 0
      },
      "text/plain": [
       "  0%|          | 0/150 [00:00<?, ?it/s]"
      ]
     },
     "metadata": {},
     "output_type": "display_data"
    },
    {
     "name": "stdout",
     "output_type": "stream",
     "text": [
      "Iteration 0, loss = 0.03552897981091176\n",
      "Iteration 56 Step Failed\n",
      "Iteration 70 Step Failed\n",
      "Iteration 84 Step Failed\n",
      "Iteration 100 Step Failed\n",
      "Iteration 123 Step Failed\n",
      "Iteration 132 Step Failed\n"
     ]
    },
    {
     "data": {
      "application/vnd.jupyter.widget-view+json": {
       "model_id": "e98e5f2f8a5946529494a429a7a41a5c",
       "version_major": 2,
       "version_minor": 0
      },
      "text/plain": [
       "  0%|          | 0/101 [00:00<?, ?it/s]"
      ]
     },
     "metadata": {},
     "output_type": "display_data"
    },
    {
     "name": "stdout",
     "output_type": "stream",
     "text": [
      "Iteration 0, loss = 0.1009, Jres = 80.52, alpha = 0.04167, improvement_ratio = 0.9972\n",
      "Iteration 1, loss = 0.01911, Jres = 0.5819, alpha = 0.03472, improvement_ratio = 0.8636\n",
      "Iteration 2, loss = 0.00584, Jres = 0.2748, alpha = 0.02894, improvement_ratio = 0.991\n",
      "Iteration 3, loss = 0.005412, Jres = 0.02009, alpha = 0.02411, improvement_ratio = 1.002\n",
      "Iteration 4, loss = 0.005155, Jres = 0.0004281, alpha = 0.02009, improvement_ratio = 1.002\n",
      "Iteration 5, loss = 0.004918, Jres = 0.0002928, alpha = 0.01674, improvement_ratio = 1.002\n",
      "Iteration 10, loss = 0.003795, Jres = 0.0004714, alpha = 0.006729, improvement_ratio = 1.008\n",
      "Iteration 20, loss = 0.001839, Jres = 0.0007319, alpha = 0.001087, improvement_ratio = 1.03\n",
      "Iteration 30, loss = 0.0007837, Jres = 0.0002841, alpha = 0.0001755, improvement_ratio = 1.021\n",
      "Iteration 40, loss = 0.0005626, Jres = 0.0003832, alpha = 2.835e-05, improvement_ratio = 0.9941\n",
      "Iteration 50, loss = 0.0004428, Jres = 0.0002735, alpha = 5.494e-06, improvement_ratio = 0.9967\n",
      "Iteration 60, loss = 0.0003069, Jres = 0.0003114, alpha = 8.874e-07, improvement_ratio = 0.9742\n",
      "Iteration 70, loss = 0.0002499, Jres = 0.0005355, alpha = 8.333e-07, improvement_ratio = 0.8899\n",
      "Iteration 80, loss = 0.0002176, Jres = 0.000855, alpha = 8.333e-07, improvement_ratio = 0.8635\n",
      "Iteration 90, loss = 0.0001976, Jres = 4.046e-05, alpha = 8.333e-07, improvement_ratio = 0.9993\n",
      "Iteration 100, loss = 0.0001857, Jres = 1.474e-05, alpha = 8.333e-07, improvement_ratio = 0.9997\n"
     ]
    },
    {
     "data": {
      "application/vnd.jupyter.widget-view+json": {
       "model_id": "d289c492398645038f23e970019f1d69",
       "version_major": 2,
       "version_minor": 0
      },
      "text/plain": [
       "  0%|          | 0/150 [00:00<?, ?it/s]"
      ]
     },
     "metadata": {},
     "output_type": "display_data"
    },
    {
     "name": "stdout",
     "output_type": "stream",
     "text": [
      "Iteration 0, loss = 0.00037134446899240005\n",
      "Iteration 4 Step Failed\n",
      "Iteration 5 Step Failed\n",
      "Iteration 6 Step Failed\n",
      "Iteration 7 Step Failed\n",
      "Iteration 8 Step Failed\n",
      "Iteration 9 Step Failed\n",
      "Iteration 10 Step Failed\n",
      "Iteration 11 Step Failed\n",
      "Iteration 12 Step Failed\n",
      "Iteration 13 Step Failed\n",
      "Iteration 14 Step Failed\n",
      "Iteration 15 Step Failed\n",
      "Iteration 16 Step Failed\n",
      "Iteration 17 Step Failed\n",
      "Iteration 18 Step Failed\n",
      "Iteration 19 Step Failed\n",
      "Iteration 20 Step Failed\n",
      "Iteration 21 Step Failed\n",
      "Iteration 23 Step Failed\n",
      "Iteration 24 Step Failed\n",
      "Iteration 25 Step Failed\n",
      "Iteration 26 Step Failed\n",
      "Iteration 27 Step Failed\n",
      "Iteration 28 Step Failed\n",
      "Iteration 29 Step Failed\n",
      "Iteration 30 Step Failed\n",
      "Iteration 31 Step Failed\n",
      "Iteration 32 Step Failed\n",
      "Converged by no improvement\n"
     ]
    },
    {
     "data": {
      "application/vnd.jupyter.widget-view+json": {
       "model_id": "e6a1667f51cb4d169a9c4b94b8be436a",
       "version_major": 2,
       "version_minor": 0
      },
      "text/plain": [
       "  0%|          | 0/101 [00:00<?, ?it/s]"
      ]
     },
     "metadata": {},
     "output_type": "display_data"
    },
    {
     "name": "stdout",
     "output_type": "stream",
     "text": [
      "Iteration 0, loss = 2.365, Jres = 225.7, alpha = 0.04167, improvement_ratio = 0.9902\n",
      "Iteration 1, loss = 0.8917, Jres = 5.797, alpha = 0.04167, improvement_ratio = 0.6416\n",
      "Iteration 2, loss = 0.1023, Jres = 2.944, alpha = 0.03472, improvement_ratio = 0.9716\n",
      "Iteration 3, loss = 0.06467, Jres = 0.3425, alpha = 0.02894, improvement_ratio = 0.9688\n",
      "Iteration 4, loss = 0.05516, Jres = 0.04245, alpha = 0.02411, improvement_ratio = 1.006\n",
      "Iteration 5, loss = 0.04853, Jres = 0.008638, alpha = 0.02009, improvement_ratio = 1.0\n",
      "Iteration 10, loss = 0.03236, Jres = 0.001613, alpha = 0.008075, improvement_ratio = 0.9998\n",
      "Iteration 20, loss = 0.02366, Jres = 0.001038, alpha = 0.001304, improvement_ratio = 1.007\n",
      "Iteration 30, loss = 0.01384, Jres = 0.002629, alpha = 0.0002106, improvement_ratio = 1.004\n",
      "Iteration 40, loss = 0.008321, Jres = 0.004128, alpha = 3.402e-05, improvement_ratio = 0.946\n",
      "Iteration 50, loss = 0.005689, Jres = 0.001156, alpha = 5.494e-06, improvement_ratio = 0.9979\n",
      "Iteration 60, loss = 0.004297, Jres = 0.01913, alpha = 1.278e-06, improvement_ratio = 0.2481\n",
      "Iteration 70, loss = 0.001999, Jres = 0.003557, alpha = 8.333e-07, improvement_ratio = 0.9867\n",
      "Iteration 80, loss = 0.001514, Jres = 0.0003472, alpha = 8.333e-07, improvement_ratio = 1.006\n",
      "Iteration 90, loss = 0.001262, Jres = 0.000688, alpha = 8.333e-07, improvement_ratio = 0.8813\n",
      "Iteration 100, loss = 0.001068, Jres = 0.0001681, alpha = 8.333e-07, improvement_ratio = 1.007\n"
     ]
    },
    {
     "data": {
      "application/vnd.jupyter.widget-view+json": {
       "model_id": "9207fe58b98f4516b4ab34df0e9d4f81",
       "version_major": 2,
       "version_minor": 0
      },
      "text/plain": [
       "  0%|          | 0/150 [00:00<?, ?it/s]"
      ]
     },
     "metadata": {},
     "output_type": "display_data"
    },
    {
     "name": "stdout",
     "output_type": "stream",
     "text": [
      "Iteration 0, loss = 0.002135153081971941\n",
      "Iteration 72 Step Failed\n",
      "Iteration 102 Step Failed\n"
     ]
    },
    {
     "data": {
      "application/vnd.jupyter.widget-view+json": {
       "model_id": "53f1790d4b8d436ab88eadf3adc09375",
       "version_major": 2,
       "version_minor": 0
      },
      "text/plain": [
       "  0%|          | 0/101 [00:00<?, ?it/s]"
      ]
     },
     "metadata": {},
     "output_type": "display_data"
    },
    {
     "name": "stdout",
     "output_type": "stream",
     "text": [
      "Iteration 0, loss = 0.8048, Jres = 147.9, alpha = 0.04167, improvement_ratio = 0.994\n",
      "Iteration 1, loss = 0.5151, Jres = 2.541, alpha = 0.04167, improvement_ratio = 0.3789\n",
      "Iteration 2, loss = 0.08065, Jres = 1.732, alpha = 0.03472, improvement_ratio = 0.9274\n",
      "Iteration 3, loss = 0.04339, Jres = 0.2694, alpha = 0.02894, improvement_ratio = 0.9733\n",
      "Iteration 4, loss = 0.0408, Jres = 0.02352, alpha = 0.02411, improvement_ratio = 0.9338\n",
      "Iteration 5, loss = 0.03925, Jres = 0.007936, alpha = 0.02009, improvement_ratio = 0.9986\n",
      "Iteration 10, loss = 0.03288, Jres = 0.002232, alpha = 0.008075, improvement_ratio = 1.011\n",
      "Iteration 20, loss = 0.02454, Jres = 0.00152, alpha = 0.001304, improvement_ratio = 1.012\n",
      "Iteration 30, loss = 0.01914, Jres = 0.002725, alpha = 0.0002528, improvement_ratio = 0.7682\n",
      "Iteration 40, loss = 0.01757, Jres = 0.002724, alpha = 0.0006936, improvement_ratio = 0.8977\n",
      "Iteration 50, loss = 0.01587, Jres = 0.002516, alpha = 0.0001344, improvement_ratio = 0.6837\n",
      "Iteration 60, loss = 0.0137, Jres = 0.003063, alpha = 2.605e-05, improvement_ratio = 1.0\n",
      "Iteration 70, loss = 0.01021, Jres = 0.006755, alpha = 6.059e-06, improvement_ratio = 0.4317\n",
      "Iteration 80, loss = 0.007165, Jres = 0.003045, alpha = 9.785e-07, improvement_ratio = 0.9365\n",
      "Iteration 90, loss = 0.005462, Jres = 0.00169, alpha = 8.333e-07, improvement_ratio = 1.037\n",
      "Iteration 100, loss = 0.004628, Jres = 0.0001892, alpha = 8.333e-07, improvement_ratio = 1.002\n"
     ]
    },
    {
     "data": {
      "application/vnd.jupyter.widget-view+json": {
       "model_id": "0f3daff353764e65826206d660125dc5",
       "version_major": 2,
       "version_minor": 0
      },
      "text/plain": [
       "  0%|          | 0/150 [00:00<?, ?it/s]"
      ]
     },
     "metadata": {},
     "output_type": "display_data"
    },
    {
     "name": "stdout",
     "output_type": "stream",
     "text": [
      "Iteration 0, loss = 0.009255645885572822\n",
      "Iteration 5 Step Failed\n",
      "Iteration 6 Step Failed\n",
      "Iteration 7 Step Failed\n",
      "Iteration 9 Step Failed\n",
      "Iteration 10 Step Failed\n",
      "Iteration 12 Step Failed\n",
      "Iteration 13 Step Failed\n",
      "Iteration 14 Step Failed\n",
      "Iteration 15 Step Failed\n",
      "Iteration 16 Step Failed\n",
      "Iteration 17 Step Failed\n",
      "Iteration 18 Step Failed\n",
      "Iteration 19 Step Failed\n",
      "Iteration 20 Step Failed\n",
      "Iteration 21 Step Failed\n",
      "Iteration 22 Step Failed\n",
      "Iteration 23 Step Failed\n",
      "Iteration 24 Step Failed\n",
      "Iteration 25 Step Failed\n",
      "Converged by no improvement\n"
     ]
    },
    {
     "data": {
      "application/vnd.jupyter.widget-view+json": {
       "model_id": "ef6257bf48f74490891c6c08437e6c53",
       "version_major": 2,
       "version_minor": 0
      },
      "text/plain": [
       "  0%|          | 0/101 [00:00<?, ?it/s]"
      ]
     },
     "metadata": {},
     "output_type": "display_data"
    },
    {
     "name": "stdout",
     "output_type": "stream",
     "text": [
      "Iteration 0, loss = 0.7959, Jres = 165.4, alpha = 0.04167, improvement_ratio = 0.9939\n",
      "Iteration 1, loss = 0.7004, Jres = 3.037, alpha = 1.446, improvement_ratio = 0.1231\n",
      "Iteration 2, loss = 0.4563, Jres = 2.212, alpha = 1.446, improvement_ratio = 0.362\n",
      "Iteration 3, loss = 0.04234, Jres = 2.888, alpha = 1.205, improvement_ratio = 0.9507\n",
      "Iteration 4, loss = 0.02533, Jres = 0.3953, alpha = 1.205, improvement_ratio = 0.6912\n",
      "Iteration 5, loss = 0.01826, Jres = 0.113, alpha = 1.004, improvement_ratio = 0.9387\n",
      "Iteration 10, loss = 0.01548, Jres = 0.002604, alpha = 0.4036, improvement_ratio = 1.008\n",
      "Iteration 20, loss = 0.01278, Jres = 0.001826, alpha = 0.06519, improvement_ratio = 0.9461\n",
      "Iteration 30, loss = 0.01019, Jres = 0.009227, alpha = 0.03772, improvement_ratio = 0.2433\n",
      "Iteration 40, loss = 0.009193, Jres = 0.006164, alpha = 0.07823, improvement_ratio = 0.209\n",
      "Iteration 50, loss = 0.008745, Jres = 0.003006, alpha = 0.07823, improvement_ratio = 0.4173\n",
      "Iteration 60, loss = 0.008424, Jres = 0.001506, alpha = 0.07823, improvement_ratio = 0.6939\n",
      "Iteration 70, loss = 0.008083, Jres = 0.0008145, alpha = 0.0262, improvement_ratio = 0.9256\n",
      "Iteration 80, loss = 0.006988, Jres = 0.002055, alpha = 0.005077, improvement_ratio = 0.7311\n",
      "Iteration 90, loss = 0.00628, Jres = 0.003579, alpha = 0.04719, improvement_ratio = 0.1923\n",
      "Iteration 100, loss = 0.006143, Jres = 0.0009961, alpha = 0.04719, improvement_ratio = 0.6379\n"
     ]
    },
    {
     "data": {
      "application/vnd.jupyter.widget-view+json": {
       "model_id": "67338cac905e4731b577834a4a679e54",
       "version_major": 2,
       "version_minor": 0
      },
      "text/plain": [
       "  0%|          | 0/150 [00:00<?, ?it/s]"
      ]
     },
     "metadata": {},
     "output_type": "display_data"
    },
    {
     "name": "stdout",
     "output_type": "stream",
     "text": [
      "Iteration 0, loss = 0.012286675847763547\n",
      "Iteration 47 Step Failed\n"
     ]
    },
    {
     "data": {
      "application/vnd.jupyter.widget-view+json": {
       "model_id": "f3311952d5fc43a6b68655a5f78c1ee2",
       "version_major": 2,
       "version_minor": 0
      },
      "text/plain": [
       "  0%|          | 0/101 [00:00<?, ?it/s]"
      ]
     },
     "metadata": {},
     "output_type": "display_data"
    },
    {
     "name": "stdout",
     "output_type": "stream",
     "text": [
      "Iteration 0, loss = 3.057, Jres = 224.9, alpha = 0.04167, improvement_ratio = 0.9869\n",
      "Iteration 1, loss = 0.2082, Jres = 7.58, alpha = 0.03472, improvement_ratio = 0.9488\n",
      "Iteration 2, loss = 0.05791, Jres = 0.8525, alpha = 0.02894, improvement_ratio = 0.9729\n",
      "Iteration 3, loss = 0.04992, Jres = 0.09237, alpha = 0.02411, improvement_ratio = 0.9975\n",
      "Iteration 4, loss = 0.04687, Jres = 0.006528, alpha = 0.02009, improvement_ratio = 1.004\n",
      "Iteration 5, loss = 0.04405, Jres = 0.001587, alpha = 0.01674, improvement_ratio = 1.006\n",
      "Iteration 10, loss = 0.03015, Jres = 0.002205, alpha = 0.006729, improvement_ratio = 1.012\n",
      "Iteration 20, loss = 0.01379, Jres = 0.0003925, alpha = 0.001087, improvement_ratio = 1.002\n",
      "Iteration 30, loss = 0.01073, Jres = 0.000535, alpha = 0.0001755, improvement_ratio = 0.9978\n",
      "Iteration 40, loss = 0.008834, Jres = 0.0007372, alpha = 2.835e-05, improvement_ratio = 0.9873\n",
      "Iteration 50, loss = 0.007206, Jres = 0.001092, alpha = 4.579e-06, improvement_ratio = 0.9847\n",
      "Iteration 60, loss = 0.006055, Jres = 0.002, alpha = 1.065e-06, improvement_ratio = 0.9657\n",
      "Iteration 70, loss = 0.005324, Jres = 0.001072, alpha = 8.333e-07, improvement_ratio = 1.01\n",
      "Iteration 80, loss = 0.004895, Jres = 0.0009562, alpha = 8.333e-07, improvement_ratio = 1.0\n",
      "Iteration 90, loss = 0.004575, Jres = 0.0002283, alpha = 8.333e-07, improvement_ratio = 1.002\n",
      "Iteration 100, loss = 0.004364, Jres = 4.636e-05, alpha = 8.333e-07, improvement_ratio = 1.003\n"
     ]
    },
    {
     "data": {
      "application/vnd.jupyter.widget-view+json": {
       "model_id": "4e6c11440a3343d391968df857842742",
       "version_major": 2,
       "version_minor": 0
      },
      "text/plain": [
       "  0%|          | 0/150 [00:00<?, ?it/s]"
      ]
     },
     "metadata": {},
     "output_type": "display_data"
    },
    {
     "name": "stdout",
     "output_type": "stream",
     "text": [
      "Iteration 0, loss = 0.008727105881931426\n",
      "Iteration 1 Step Failed\n",
      "Iteration 2 Step Failed\n",
      "Iteration 3 Step Failed\n",
      "Iteration 4 Step Failed\n",
      "Iteration 5 Step Failed\n",
      "Iteration 6 Step Failed\n",
      "Iteration 7 Step Failed\n",
      "Iteration 8 Step Failed\n",
      "Iteration 10 Step Failed\n",
      "Iteration 12 Step Failed\n",
      "Iteration 13 Step Failed\n",
      "Iteration 14 Step Failed\n",
      "Iteration 15 Step Failed\n",
      "Iteration 16 Step Failed\n",
      "Iteration 17 Step Failed\n",
      "Iteration 18 Step Failed\n",
      "Iteration 19 Step Failed\n",
      "Iteration 20 Step Failed\n",
      "Iteration 22 Step Failed\n",
      "Iteration 23 Step Failed\n",
      "Iteration 24 Step Failed\n",
      "Iteration 25 Step Failed\n",
      "Iteration 26 Step Failed\n",
      "Iteration 27 Step Failed\n",
      "Iteration 28 Step Failed\n",
      "Iteration 29 Step Failed\n",
      "Iteration 30 Step Failed\n",
      "Iteration 31 Step Failed\n",
      "Converged by no improvement\n"
     ]
    },
    {
     "data": {
      "application/vnd.jupyter.widget-view+json": {
       "model_id": "3e5e5335c49e4fd28b7b20c5add5bde7",
       "version_major": 2,
       "version_minor": 0
      },
      "text/plain": [
       "  0%|          | 0/101 [00:00<?, ?it/s]"
      ]
     },
     "metadata": {},
     "output_type": "display_data"
    },
    {
     "name": "stdout",
     "output_type": "stream",
     "text": [
      "Iteration 0, loss = 6.371e-06, Jres = 196.5, alpha = 0.04167, improvement_ratio = 1.0\n",
      "Iteration 1, loss = 3.231e-06, Jres = 0.000178, alpha = 0.03472, improvement_ratio = 1.0\n",
      "Iteration 2, loss = 2.667e-06, Jres = 1.502e-05, alpha = 0.02894, improvement_ratio = 1.0\n",
      "Iteration 3, loss = 2.348e-06, Jres = 1.038e-05, alpha = 0.02411, improvement_ratio = 1.0\n",
      "Iteration 4, loss = 2.132e-06, Jres = 9.269e-06, alpha = 0.02009, improvement_ratio = 1.0\n",
      "Iteration 5, loss = 1.98e-06, Jres = 8.81e-06, alpha = 0.01674, improvement_ratio = 1.0\n",
      "Iteration 10, loss = 1.583e-06, Jres = 7.931e-06, alpha = 0.006729, improvement_ratio = 1.0\n",
      "Iteration 20, loss = 8.208e-07, Jres = 5.697e-06, alpha = 0.001087, improvement_ratio = 1.0\n",
      "Iteration 30, loss = 8.665e-08, Jres = 1.648e-06, alpha = 0.0001755, improvement_ratio = 1.0\n",
      "Iteration 40, loss = 1.024e-08, Jres = 9.247e-08, alpha = 2.835e-05, improvement_ratio = 1.0\n",
      "Iteration 50, loss = 2.45e-09, Jres = 1.025e-08, alpha = 4.579e-06, improvement_ratio = 1.0\n"
     ]
    },
    {
     "data": {
      "application/vnd.jupyter.widget-view+json": {
       "model_id": "dc89ede60ef84e4cbb5bbc94d9b766e9",
       "version_major": 2,
       "version_minor": 0
      },
      "text/plain": [
       "  0%|          | 0/150 [00:00<?, ?it/s]"
      ]
     },
     "metadata": {},
     "output_type": "display_data"
    },
    {
     "name": "stdout",
     "output_type": "stream",
     "text": [
      "Iteration 0, loss = 4.1484960310593344e-09\n",
      "Iteration 132 Step Failed\n",
      "Iteration 133 Step Failed\n",
      "Iteration 134 Step Failed\n",
      "Iteration 135 Step Failed\n",
      "Iteration 136 Step Failed\n",
      "Iteration 137 Step Failed\n",
      "Converged by no improvement\n"
     ]
    },
    {
     "data": {
      "application/vnd.jupyter.widget-view+json": {
       "model_id": "2736c2c684a4460d826aa70e4a75e131",
       "version_major": 2,
       "version_minor": 0
      },
      "text/plain": [
       "  0%|          | 0/101 [00:00<?, ?it/s]"
      ]
     },
     "metadata": {},
     "output_type": "display_data"
    },
    {
     "name": "stdout",
     "output_type": "stream",
     "text": [
      "Iteration 0, loss = 6.485e-05, Jres = 131.1, alpha = 0.04167, improvement_ratio = 1.0\n",
      "Iteration 1, loss = 4.136e-05, Jres = 0.0002848, alpha = 0.03472, improvement_ratio = 1.0\n",
      "Iteration 2, loss = 3.421e-05, Jres = 5.602e-05, alpha = 0.02894, improvement_ratio = 1.0\n",
      "Iteration 3, loss = 2.985e-05, Jres = 4.163e-05, alpha = 0.02411, improvement_ratio = 1.0\n",
      "Iteration 4, loss = 2.701e-05, Jres = 3.7e-05, alpha = 0.02009, improvement_ratio = 1.0\n",
      "Iteration 5, loss = 2.505e-05, Jres = 3.479e-05, alpha = 0.01674, improvement_ratio = 1.0\n",
      "Iteration 10, loss = 1.877e-05, Jres = 3.01e-05, alpha = 0.006729, improvement_ratio = 1.0\n",
      "Iteration 20, loss = 8.608e-06, Jres = 1.924e-05, alpha = 0.001087, improvement_ratio = 1.0\n",
      "Iteration 30, loss = 8.103e-07, Jres = 5.525e-06, alpha = 0.0001755, improvement_ratio = 1.0\n",
      "Iteration 40, loss = 5.518e-08, Jres = 3.169e-07, alpha = 2.835e-05, improvement_ratio = 1.0\n",
      "Iteration 50, loss = 7.374e-09, Jres = 3.226e-08, alpha = 4.579e-06, improvement_ratio = 1.0\n"
     ]
    },
    {
     "data": {
      "application/vnd.jupyter.widget-view+json": {
       "model_id": "04b1303074b149dc901699938c571631",
       "version_major": 2,
       "version_minor": 0
      },
      "text/plain": [
       "  0%|          | 0/150 [00:00<?, ?it/s]"
      ]
     },
     "metadata": {},
     "output_type": "display_data"
    },
    {
     "name": "stdout",
     "output_type": "stream",
     "text": [
      "Iteration 0, loss = 5.442884840530771e-09\n",
      "Iteration 1 Step Failed\n",
      "Iteration 2 Step Failed\n",
      "Iteration 3 Step Failed\n",
      "Iteration 4 Step Failed\n",
      "Iteration 5 Step Failed\n",
      "Iteration 6 Step Failed\n",
      "Iteration 7 Step Failed\n",
      "Iteration 8 Step Failed\n",
      "Iteration 9 Step Failed\n",
      "Iteration 10 Step Failed\n",
      "Iteration 11 Step Failed\n",
      "Iteration 12 Step Failed\n",
      "Iteration 13 Step Failed\n",
      "Iteration 14 Step Failed\n",
      "Iteration 15 Step Failed\n",
      "Iteration 16 Step Failed\n",
      "Iteration 17 Step Failed\n",
      "Iteration 18 Step Failed\n",
      "Iteration 19 Step Failed\n",
      "Iteration 20 Step Failed\n",
      "Iteration 21 Step Failed\n",
      "Iteration 22 Step Failed\n",
      "Iteration 23 Step Failed\n",
      "Iteration 24 Step Failed\n",
      "Iteration 25 Step Failed\n",
      "Converged by no improvement\n"
     ]
    },
    {
     "data": {
      "application/vnd.jupyter.widget-view+json": {
       "model_id": "57f7216277b24079bff004e21c3d7813",
       "version_major": 2,
       "version_minor": 0
      },
      "text/plain": [
       "  0%|          | 0/101 [00:00<?, ?it/s]"
      ]
     },
     "metadata": {},
     "output_type": "display_data"
    },
    {
     "name": "stdout",
     "output_type": "stream",
     "text": [
      "Iteration 0, loss = 9.234e-06, Jres = 196.9, alpha = 0.04167, improvement_ratio = 1.0\n",
      "Iteration 1, loss = 5.441e-06, Jres = 8.064e-05, alpha = 0.03472, improvement_ratio = 1.0\n",
      "Iteration 2, loss = 4.285e-06, Jres = 1.954e-05, alpha = 0.02894, improvement_ratio = 1.0\n",
      "Iteration 3, loss = 3.617e-06, Jres = 1.439e-05, alpha = 0.02411, improvement_ratio = 1.0\n",
      "Iteration 4, loss = 3.199e-06, Jres = 1.257e-05, alpha = 0.02009, improvement_ratio = 1.0\n",
      "Iteration 5, loss = 2.921e-06, Jres = 1.168e-05, alpha = 0.01674, improvement_ratio = 1.0\n",
      "Iteration 10, loss = 2.127e-06, Jres = 1.003e-05, alpha = 0.006729, improvement_ratio = 1.0\n",
      "Iteration 20, loss = 9.565e-07, Jres = 6.371e-06, alpha = 0.001087, improvement_ratio = 1.0\n",
      "Iteration 30, loss = 8.986e-08, Jres = 1.806e-06, alpha = 0.0001755, improvement_ratio = 1.0\n",
      "Iteration 40, loss = 6.168e-09, Jres = 9.016e-08, alpha = 2.835e-05, improvement_ratio = 1.0\n"
     ]
    },
    {
     "data": {
      "application/vnd.jupyter.widget-view+json": {
       "model_id": "5c0d6bceae07412aa63bc3ad33bc6e41",
       "version_major": 2,
       "version_minor": 0
      },
      "text/plain": [
       "  0%|          | 0/150 [00:00<?, ?it/s]"
      ]
     },
     "metadata": {},
     "output_type": "display_data"
    },
    {
     "name": "stdout",
     "output_type": "stream",
     "text": [
      "Iteration 0, loss = 2.5715537419204367e-09\n",
      "Iteration 134 Step Failed\n",
      "Iteration 135 Step Failed\n",
      "Iteration 137 Step Failed\n",
      "Iteration 138 Step Failed\n",
      "Iteration 139 Step Failed\n",
      "Iteration 140 Step Failed\n",
      "Converged by no improvement\n"
     ]
    },
    {
     "data": {
      "application/vnd.jupyter.widget-view+json": {
       "model_id": "9ad69d129f0e4b28a17655b1996792c1",
       "version_major": 2,
       "version_minor": 0
      },
      "text/plain": [
       "  0%|          | 0/101 [00:00<?, ?it/s]"
      ]
     },
     "metadata": {},
     "output_type": "display_data"
    },
    {
     "name": "stdout",
     "output_type": "stream",
     "text": [
      "Iteration 0, loss = 9.275e-06, Jres = 119.7, alpha = 0.04167, improvement_ratio = 1.0\n",
      "Iteration 1, loss = 5.79e-06, Jres = 7.591e-05, alpha = 0.03472, improvement_ratio = 1.0\n",
      "Iteration 2, loss = 4.628e-06, Jres = 2.043e-05, alpha = 0.02894, improvement_ratio = 1.0\n",
      "Iteration 3, loss = 3.942e-06, Jres = 1.521e-05, alpha = 0.02411, improvement_ratio = 1.0\n",
      "Iteration 4, loss = 3.511e-06, Jres = 1.325e-05, alpha = 0.02009, improvement_ratio = 1.0\n",
      "Iteration 5, loss = 3.216e-06, Jres = 1.226e-05, alpha = 0.01674, improvement_ratio = 1.0\n",
      "Iteration 10, loss = 2.229e-06, Jres = 1.026e-05, alpha = 0.006729, improvement_ratio = 1.0\n",
      "Iteration 20, loss = 8.917e-07, Jres = 6.143e-06, alpha = 0.001087, improvement_ratio = 1.0\n",
      "Iteration 30, loss = 1.038e-07, Jres = 1.787e-06, alpha = 0.0001755, improvement_ratio = 1.0\n",
      "Iteration 40, loss = 1.208e-08, Jres = 1.169e-07, alpha = 2.835e-05, improvement_ratio = 1.0\n",
      "Iteration 50, loss = 1.526e-09, Jres = 1.245e-08, alpha = 4.579e-06, improvement_ratio = 1.0\n"
     ]
    },
    {
     "data": {
      "application/vnd.jupyter.widget-view+json": {
       "model_id": "fb9095a7f549406da5f5a07b89c7ee7f",
       "version_major": 2,
       "version_minor": 0
      },
      "text/plain": [
       "  0%|          | 0/150 [00:00<?, ?it/s]"
      ]
     },
     "metadata": {},
     "output_type": "display_data"
    },
    {
     "name": "stdout",
     "output_type": "stream",
     "text": [
      "Iteration 0, loss = 2.3141154170206883e-09\n",
      "Iteration 2 Step Failed\n",
      "Iteration 7 Step Failed\n",
      "Iteration 8 Step Failed\n",
      "Iteration 9 Step Failed\n",
      "Iteration 10 Step Failed\n",
      "Iteration 11 Step Failed\n",
      "Iteration 12 Step Failed\n",
      "Iteration 13 Step Failed\n",
      "Iteration 14 Step Failed\n",
      "Iteration 15 Step Failed\n",
      "Iteration 16 Step Failed\n",
      "Iteration 17 Step Failed\n",
      "Iteration 18 Step Failed\n",
      "Iteration 19 Step Failed\n",
      "Iteration 20 Step Failed\n",
      "Iteration 21 Step Failed\n",
      "Iteration 22 Step Failed\n",
      "Iteration 23 Step Failed\n",
      "Iteration 24 Step Failed\n",
      "Iteration 25 Step Failed\n",
      "Converged by no improvement\n"
     ]
    },
    {
     "data": {
      "application/vnd.jupyter.widget-view+json": {
       "model_id": "8d9a15c9609046d6b4f7d9960e5a1a69",
       "version_major": 2,
       "version_minor": 0
      },
      "text/plain": [
       "  0%|          | 0/101 [00:00<?, ?it/s]"
      ]
     },
     "metadata": {},
     "output_type": "display_data"
    },
    {
     "name": "stdout",
     "output_type": "stream",
     "text": [
      "Iteration 0, loss = 2.483e-05, Jres = 113.8, alpha = 0.04167, improvement_ratio = 1.0\n",
      "Iteration 1, loss = 1.513e-05, Jres = 0.0002017, alpha = 0.03472, improvement_ratio = 1.0\n",
      "Iteration 2, loss = 1.241e-05, Jres = 3.296e-05, alpha = 0.02894, improvement_ratio = 1.0\n",
      "Iteration 3, loss = 1.08e-05, Jres = 2.436e-05, alpha = 0.02411, improvement_ratio = 1.0\n",
      "Iteration 4, loss = 9.749e-06, Jres = 2.175e-05, alpha = 0.02009, improvement_ratio = 1.0\n",
      "Iteration 5, loss = 9.019e-06, Jres = 2.053e-05, alpha = 0.01674, improvement_ratio = 1.0\n",
      "Iteration 10, loss = 6.794e-06, Jres = 1.791e-05, alpha = 0.006729, improvement_ratio = 1.0\n",
      "Iteration 20, loss = 3.161e-06, Jres = 1.162e-05, alpha = 0.001087, improvement_ratio = 1.0\n",
      "Iteration 30, loss = 2.927e-07, Jres = 3.313e-06, alpha = 0.0001755, improvement_ratio = 1.0\n",
      "Iteration 40, loss = 1.995e-08, Jres = 1.745e-07, alpha = 2.835e-05, improvement_ratio = 1.0\n",
      "Iteration 50, loss = 2.948e-09, Jres = 1.394e-08, alpha = 4.579e-06, improvement_ratio = 1.0\n"
     ]
    },
    {
     "data": {
      "application/vnd.jupyter.widget-view+json": {
       "model_id": "e61d7a6bf8aa402e8f5327bd6a36de65",
       "version_major": 2,
       "version_minor": 0
      },
      "text/plain": [
       "  0%|          | 0/150 [00:00<?, ?it/s]"
      ]
     },
     "metadata": {},
     "output_type": "display_data"
    },
    {
     "name": "stdout",
     "output_type": "stream",
     "text": [
      "Iteration 0, loss = 4.464289765314128e-09\n",
      "Iteration 1 Step Failed\n",
      "Iteration 2 Step Failed\n",
      "Iteration 3 Step Failed\n",
      "Iteration 4 Step Failed\n",
      "Iteration 5 Step Failed\n",
      "Iteration 6 Step Failed\n",
      "Iteration 7 Step Failed\n",
      "Iteration 8 Step Failed\n",
      "Iteration 9 Step Failed\n",
      "Iteration 10 Step Failed\n",
      "Iteration 11 Step Failed\n",
      "Iteration 12 Step Failed\n",
      "Iteration 13 Step Failed\n",
      "Iteration 15 Step Failed\n",
      "Iteration 16 Step Failed\n",
      "Iteration 17 Step Failed\n",
      "Iteration 18 Step Failed\n",
      "Iteration 19 Step Failed\n",
      "Iteration 20 Step Failed\n",
      "Iteration 21 Step Failed\n",
      "Iteration 23 Step Failed\n",
      "Iteration 24 Step Failed\n",
      "Iteration 25 Step Failed\n",
      "Converged by no improvement\n"
     ]
    },
    {
     "data": {
      "application/vnd.jupyter.widget-view+json": {
       "model_id": "011efadf413f4fcda1f0d576c21dfb4f",
       "version_major": 2,
       "version_minor": 0
      },
      "text/plain": [
       "  0%|          | 0/101 [00:00<?, ?it/s]"
      ]
     },
     "metadata": {},
     "output_type": "display_data"
    },
    {
     "name": "stdout",
     "output_type": "stream",
     "text": [
      "Iteration 0, loss = 5.346e-05, Jres = 174.8, alpha = 0.04167, improvement_ratio = 1.0\n",
      "Iteration 1, loss = 3.327e-05, Jres = 0.000295, alpha = 0.03472, improvement_ratio = 1.0\n",
      "Iteration 2, loss = 2.75e-05, Jres = 5.059e-05, alpha = 0.02894, improvement_ratio = 1.0\n",
      "Iteration 3, loss = 2.399e-05, Jres = 3.71e-05, alpha = 0.02411, improvement_ratio = 1.0\n",
      "Iteration 4, loss = 2.172e-05, Jres = 3.292e-05, alpha = 0.02009, improvement_ratio = 1.0\n",
      "Iteration 5, loss = 2.016e-05, Jres = 3.097e-05, alpha = 0.01674, improvement_ratio = 1.0\n",
      "Iteration 10, loss = 1.543e-05, Jres = 2.703e-05, alpha = 0.006729, improvement_ratio = 1.0\n",
      "Iteration 20, loss = 7.352e-06, Jres = 1.769e-05, alpha = 0.001087, improvement_ratio = 1.0\n",
      "Iteration 30, loss = 7.038e-07, Jres = 5.101e-06, alpha = 0.0001755, improvement_ratio = 1.0\n",
      "Iteration 40, loss = 4.868e-08, Jres = 2.974e-07, alpha = 2.835e-05, improvement_ratio = 1.0\n",
      "Iteration 50, loss = 7.051e-09, Jres = 2.978e-08, alpha = 4.579e-06, improvement_ratio = 1.0\n"
     ]
    },
    {
     "data": {
      "application/vnd.jupyter.widget-view+json": {
       "model_id": "e26f06cd5a9d491fb624c9c476eadf12",
       "version_major": 2,
       "version_minor": 0
      },
      "text/plain": [
       "  0%|          | 0/150 [00:00<?, ?it/s]"
      ]
     },
     "metadata": {},
     "output_type": "display_data"
    },
    {
     "name": "stdout",
     "output_type": "stream",
     "text": [
      "Iteration 0, loss = 4.486766667420588e-09\n",
      "Iteration 0 Step Failed\n",
      "Iteration 1 Step Failed\n",
      "Iteration 3 Step Failed\n",
      "Iteration 5 Step Failed\n",
      "Iteration 6 Step Failed\n",
      "Iteration 7 Step Failed\n",
      "Iteration 9 Step Failed\n",
      "Iteration 10 Step Failed\n",
      "Iteration 11 Step Failed\n",
      "Iteration 12 Step Failed\n",
      "Iteration 13 Step Failed\n",
      "Iteration 14 Step Failed\n",
      "Iteration 15 Step Failed\n",
      "Iteration 16 Step Failed\n",
      "Iteration 17 Step Failed\n",
      "Iteration 18 Step Failed\n",
      "Iteration 19 Step Failed\n",
      "Iteration 20 Step Failed\n",
      "Iteration 21 Step Failed\n",
      "Iteration 22 Step Failed\n",
      "Iteration 23 Step Failed\n",
      "Iteration 24 Step Failed\n",
      "Iteration 25 Step Failed\n",
      "Converged by no improvement\n"
     ]
    },
    {
     "data": {
      "application/vnd.jupyter.widget-view+json": {
       "model_id": "50e558982efe4b52a2be64cc178fe609",
       "version_major": 2,
       "version_minor": 0
      },
      "text/plain": [
       "  0%|          | 0/101 [00:00<?, ?it/s]"
      ]
     },
     "metadata": {},
     "output_type": "display_data"
    },
    {
     "name": "stdout",
     "output_type": "stream",
     "text": [
      "Iteration 0, loss = 3.112e-05, Jres = 182.7, alpha = 0.04167, improvement_ratio = 1.0\n",
      "Iteration 1, loss = 1.923e-05, Jres = 0.0001627, alpha = 0.03472, improvement_ratio = 1.0\n",
      "Iteration 2, loss = 1.548e-05, Jres = 3.818e-05, alpha = 0.02894, improvement_ratio = 1.0\n",
      "Iteration 3, loss = 1.325e-05, Jres = 2.806e-05, alpha = 0.02411, improvement_ratio = 1.0\n",
      "Iteration 4, loss = 1.184e-05, Jres = 2.46e-05, alpha = 0.02009, improvement_ratio = 1.0\n",
      "Iteration 5, loss = 1.089e-05, Jres = 2.292e-05, alpha = 0.01674, improvement_ratio = 1.0\n",
      "Iteration 10, loss = 8.001e-06, Jres = 1.964e-05, alpha = 0.006729, improvement_ratio = 1.0\n",
      "Iteration 20, loss = 3.604e-06, Jres = 1.242e-05, alpha = 0.001087, improvement_ratio = 1.0\n",
      "Iteration 30, loss = 3.416e-07, Jres = 3.552e-06, alpha = 0.0001755, improvement_ratio = 1.0\n",
      "Iteration 40, loss = 2.285e-08, Jres = 1.961e-07, alpha = 2.835e-05, improvement_ratio = 1.0\n",
      "Iteration 50, loss = 3.021e-09, Jres = 1.672e-08, alpha = 4.579e-06, improvement_ratio = 1.0\n"
     ]
    },
    {
     "data": {
      "application/vnd.jupyter.widget-view+json": {
       "model_id": "0596960f812b4610a7141001215b2c89",
       "version_major": 2,
       "version_minor": 0
      },
      "text/plain": [
       "  0%|          | 0/150 [00:00<?, ?it/s]"
      ]
     },
     "metadata": {},
     "output_type": "display_data"
    },
    {
     "name": "stdout",
     "output_type": "stream",
     "text": [
      "Iteration 0, loss = 3.326591875847015e-09\n",
      "Iteration 1 Step Failed\n",
      "Iteration 3 Step Failed\n",
      "Iteration 4 Step Failed\n",
      "Iteration 5 Step Failed\n",
      "Iteration 6 Step Failed\n",
      "Iteration 7 Step Failed\n",
      "Iteration 9 Step Failed\n",
      "Iteration 10 Step Failed\n",
      "Iteration 11 Step Failed\n",
      "Iteration 12 Step Failed\n",
      "Iteration 13 Step Failed\n",
      "Iteration 14 Step Failed\n",
      "Iteration 15 Step Failed\n",
      "Iteration 16 Step Failed\n",
      "Iteration 17 Step Failed\n",
      "Iteration 18 Step Failed\n",
      "Iteration 19 Step Failed\n",
      "Iteration 20 Step Failed\n",
      "Iteration 21 Step Failed\n",
      "Iteration 22 Step Failed\n",
      "Iteration 23 Step Failed\n",
      "Iteration 24 Step Failed\n",
      "Iteration 25 Step Failed\n",
      "Converged by no improvement\n"
     ]
    },
    {
     "data": {
      "application/vnd.jupyter.widget-view+json": {
       "model_id": "4e864f0a8b1949adb326e5758b89c5ca",
       "version_major": 2,
       "version_minor": 0
      },
      "text/plain": [
       "  0%|          | 0/101 [00:00<?, ?it/s]"
      ]
     },
     "metadata": {},
     "output_type": "display_data"
    },
    {
     "name": "stdout",
     "output_type": "stream",
     "text": [
      "Iteration 0, loss = 2.26e-05, Jres = 135.2, alpha = 0.04167, improvement_ratio = 1.0\n",
      "Iteration 1, loss = 1.437e-05, Jres = 0.0001147, alpha = 0.03472, improvement_ratio = 1.0\n",
      "Iteration 2, loss = 1.16e-05, Jres = 3.231e-05, alpha = 0.02894, improvement_ratio = 1.0\n",
      "Iteration 3, loss = 9.945e-06, Jres = 2.418e-05, alpha = 0.02411, improvement_ratio = 1.0\n",
      "Iteration 4, loss = 8.902e-06, Jres = 2.121e-05, alpha = 0.02009, improvement_ratio = 1.0\n",
      "Iteration 5, loss = 8.193e-06, Jres = 1.974e-05, alpha = 0.01674, improvement_ratio = 1.0\n",
      "Iteration 10, loss = 5.847e-06, Jres = 1.676e-05, alpha = 0.006729, improvement_ratio = 1.0\n",
      "Iteration 20, loss = 2.467e-06, Jres = 1.029e-05, alpha = 0.001087, improvement_ratio = 1.0\n",
      "Iteration 30, loss = 2.616e-07, Jres = 2.979e-06, alpha = 0.0001755, improvement_ratio = 1.0\n",
      "Iteration 40, loss = 2.447e-08, Jres = 1.834e-07, alpha = 2.835e-05, improvement_ratio = 1.0\n",
      "Iteration 50, loss = 3.051e-09, Jres = 1.776e-08, alpha = 4.579e-06, improvement_ratio = 1.0\n"
     ]
    },
    {
     "data": {
      "application/vnd.jupyter.widget-view+json": {
       "model_id": "51478d9a943b4c608c9a76447bd3e184",
       "version_major": 2,
       "version_minor": 0
      },
      "text/plain": [
       "  0%|          | 0/150 [00:00<?, ?it/s]"
      ]
     },
     "metadata": {},
     "output_type": "display_data"
    },
    {
     "name": "stdout",
     "output_type": "stream",
     "text": [
      "Iteration 0, loss = 2.6282248945288204e-09\n",
      "Iteration 2 Step Failed\n",
      "Iteration 3 Step Failed\n",
      "Iteration 4 Step Failed\n",
      "Iteration 5 Step Failed\n",
      "Iteration 6 Step Failed\n",
      "Iteration 7 Step Failed\n",
      "Iteration 9 Step Failed\n",
      "Iteration 10 Step Failed\n",
      "Iteration 11 Step Failed\n",
      "Iteration 12 Step Failed\n",
      "Iteration 13 Step Failed\n",
      "Iteration 14 Step Failed\n",
      "Iteration 15 Step Failed\n",
      "Iteration 16 Step Failed\n",
      "Iteration 17 Step Failed\n",
      "Iteration 18 Step Failed\n",
      "Iteration 19 Step Failed\n",
      "Iteration 20 Step Failed\n",
      "Iteration 21 Step Failed\n",
      "Iteration 22 Step Failed\n",
      "Iteration 23 Step Failed\n",
      "Iteration 24 Step Failed\n",
      "Iteration 25 Step Failed\n",
      "Converged by no improvement\n"
     ]
    },
    {
     "data": {
      "application/vnd.jupyter.widget-view+json": {
       "model_id": "d795ff6f848747769343640ed3213d90",
       "version_major": 2,
       "version_minor": 0
      },
      "text/plain": [
       "  0%|          | 0/101 [00:00<?, ?it/s]"
      ]
     },
     "metadata": {},
     "output_type": "display_data"
    },
    {
     "name": "stdout",
     "output_type": "stream",
     "text": [
      "Iteration 0, loss = 1.056e-05, Jres = 73.67, alpha = 0.04167, improvement_ratio = 1.0\n",
      "Iteration 1, loss = 6.605e-06, Jres = 8.531e-05, alpha = 0.03472, improvement_ratio = 1.0\n",
      "Iteration 2, loss = 5.314e-06, Jres = 2.214e-05, alpha = 0.02894, improvement_ratio = 1.0\n",
      "Iteration 3, loss = 4.545e-06, Jres = 1.635e-05, alpha = 0.02411, improvement_ratio = 1.0\n",
      "Iteration 4, loss = 4.066e-06, Jres = 1.431e-05, alpha = 0.02009, improvement_ratio = 1.0\n",
      "Iteration 5, loss = 3.749e-06, Jres = 1.334e-05, alpha = 0.01674, improvement_ratio = 1.0\n",
      "Iteration 10, loss = 2.788e-06, Jres = 1.152e-05, alpha = 0.006729, improvement_ratio = 1.0\n",
      "Iteration 20, loss = 1.283e-06, Jres = 7.386e-06, alpha = 0.001087, improvement_ratio = 1.0\n",
      "Iteration 30, loss = 1.328e-07, Jres = 2.149e-06, alpha = 0.0001755, improvement_ratio = 1.0\n",
      "Iteration 40, loss = 1.095e-08, Jres = 1.319e-07, alpha = 2.835e-05, improvement_ratio = 1.0\n",
      "Iteration 50, loss = 1.474e-09, Jres = 1.318e-08, alpha = 4.579e-06, improvement_ratio = 1.0\n"
     ]
    },
    {
     "data": {
      "application/vnd.jupyter.widget-view+json": {
       "model_id": "ef306cb9907a4d0a9ba8de081d03151d",
       "version_major": 2,
       "version_minor": 0
      },
      "text/plain": [
       "  0%|          | 0/150 [00:00<?, ?it/s]"
      ]
     },
     "metadata": {},
     "output_type": "display_data"
    },
    {
     "name": "stdout",
     "output_type": "stream",
     "text": [
      "Iteration 0, loss = 1.953429000881505e-09\n",
      "Iteration 4 Step Failed\n",
      "Iteration 6 Step Failed\n",
      "Iteration 7 Step Failed\n",
      "Iteration 8 Step Failed\n",
      "Iteration 9 Step Failed\n",
      "Iteration 10 Step Failed\n",
      "Iteration 11 Step Failed\n",
      "Iteration 12 Step Failed\n",
      "Iteration 13 Step Failed\n",
      "Iteration 14 Step Failed\n",
      "Iteration 16 Step Failed\n",
      "Iteration 17 Step Failed\n",
      "Iteration 18 Step Failed\n",
      "Iteration 19 Step Failed\n",
      "Iteration 20 Step Failed\n",
      "Iteration 21 Step Failed\n",
      "Iteration 22 Step Failed\n",
      "Iteration 23 Step Failed\n",
      "Iteration 25 Step Failed\n",
      "Converged by no improvement\n"
     ]
    },
    {
     "data": {
      "application/vnd.jupyter.widget-view+json": {
       "model_id": "9e160eaaa3b1490295ae5ab84b2dddd1",
       "version_major": 2,
       "version_minor": 0
      },
      "text/plain": [
       "  0%|          | 0/101 [00:00<?, ?it/s]"
      ]
     },
     "metadata": {},
     "output_type": "display_data"
    },
    {
     "name": "stdout",
     "output_type": "stream",
     "text": [
      "Iteration 0, loss = 2.455e-06, Jres = 117.6, alpha = 0.04167, improvement_ratio = 1.0\n",
      "Iteration 1, loss = 1.039e-06, Jres = 6.873e-05, alpha = 0.03472, improvement_ratio = 1.0\n",
      "Iteration 2, loss = 6.879e-07, Jres = 4.975e-06, alpha = 0.02894, improvement_ratio = 1.0\n",
      "Iteration 3, loss = 5.319e-07, Jres = 3.51e-06, alpha = 0.02411, improvement_ratio = 1.0\n",
      "Iteration 4, loss = 4.396e-07, Jres = 3.228e-06, alpha = 0.02009, improvement_ratio = 1.0\n",
      "Iteration 5, loss = 3.755e-07, Jres = 3.133e-06, alpha = 0.01674, improvement_ratio = 1.0\n",
      "Iteration 10, loss = 2.348e-07, Jres = 2.89e-06, alpha = 0.006729, improvement_ratio = 1.0\n",
      "Iteration 20, loss = 1.2e-07, Jres = 2.07e-06, alpha = 0.001087, improvement_ratio = 1.0\n",
      "Iteration 30, loss = 1.854e-08, Jres = 5.865e-07, alpha = 0.0001755, improvement_ratio = 1.0\n",
      "Iteration 40, loss = 5.596e-09, Jres = 1.728e-08, alpha = 2.835e-05, improvement_ratio = 1.0\n"
     ]
    },
    {
     "data": {
      "application/vnd.jupyter.widget-view+json": {
       "model_id": "0e48d0b6d84f46aabfb3ef699a8ab675",
       "version_major": 2,
       "version_minor": 0
      },
      "text/plain": [
       "  0%|          | 0/150 [00:00<?, ?it/s]"
      ]
     },
     "metadata": {},
     "output_type": "display_data"
    },
    {
     "name": "stdout",
     "output_type": "stream",
     "text": [
      "Iteration 0, loss = 8.760685274288138e-09\n",
      "Converged by no improvement\n"
     ]
    },
    {
     "data": {
      "application/vnd.jupyter.widget-view+json": {
       "model_id": "e916ecc5a9e04b87aecd33a027c185cd",
       "version_major": 2,
       "version_minor": 0
      },
      "text/plain": [
       "  0%|          | 0/101 [00:00<?, ?it/s]"
      ]
     },
     "metadata": {},
     "output_type": "display_data"
    },
    {
     "name": "stdout",
     "output_type": "stream",
     "text": [
      "Iteration 0, loss = 8.551e-07, Jres = 80.52, alpha = 0.04167, improvement_ratio = 1.0\n",
      "Iteration 1, loss = 4.474e-07, Jres = 3.078e-05, alpha = 0.03472, improvement_ratio = 1.0\n",
      "Iteration 2, loss = 3.277e-07, Jres = 3.998e-06, alpha = 0.02894, improvement_ratio = 1.0\n",
      "Iteration 3, loss = 2.667e-07, Jres = 3.109e-06, alpha = 0.02411, improvement_ratio = 1.0\n",
      "Iteration 4, loss = 2.284e-07, Jres = 2.717e-06, alpha = 0.02009, improvement_ratio = 1.0\n",
      "Iteration 5, loss = 2.004e-07, Jres = 2.499e-06, alpha = 0.01674, improvement_ratio = 1.0\n",
      "Iteration 10, loss = 1.076e-07, Jres = 1.921e-06, alpha = 0.006729, improvement_ratio = 1.0\n",
      "Iteration 20, loss = 2.531e-08, Jres = 9.076e-07, alpha = 0.001087, improvement_ratio = 1.0\n",
      "Iteration 30, loss = 7.149e-09, Jres = 2.67e-07, alpha = 0.0001755, improvement_ratio = 1.0\n",
      "Iteration 40, loss = 3.179e-09, Jres = 2.662e-08, alpha = 2.835e-05, improvement_ratio = 1.0\n"
     ]
    },
    {
     "data": {
      "application/vnd.jupyter.widget-view+json": {
       "model_id": "32c2185e6c4046b9b38e8a4923b88f20",
       "version_major": 2,
       "version_minor": 0
      },
      "text/plain": [
       "  0%|          | 0/150 [00:00<?, ?it/s]"
      ]
     },
     "metadata": {},
     "output_type": "display_data"
    },
    {
     "name": "stdout",
     "output_type": "stream",
     "text": [
      "Iteration 0, loss = 2.2018636589422637e-09\n",
      "Iteration 132 Step Failed\n",
      "Converged by no improvement\n"
     ]
    },
    {
     "data": {
      "application/vnd.jupyter.widget-view+json": {
       "model_id": "6f066f7f010c4cc9ac1f05a58c60cc08",
       "version_major": 2,
       "version_minor": 0
      },
      "text/plain": [
       "  0%|          | 0/101 [00:00<?, ?it/s]"
      ]
     },
     "metadata": {},
     "output_type": "display_data"
    },
    {
     "name": "stdout",
     "output_type": "stream",
     "text": [
      "Iteration 0, loss = 4.07e-06, Jres = 225.7, alpha = 0.04167, improvement_ratio = 1.0\n",
      "Iteration 1, loss = 1.829e-06, Jres = 8.998e-05, alpha = 0.03472, improvement_ratio = 1.0\n",
      "Iteration 2, loss = 1.196e-06, Jres = 1.07e-05, alpha = 0.02894, improvement_ratio = 1.0\n",
      "Iteration 3, loss = 8.72e-07, Jres = 7.388e-06, alpha = 0.02411, improvement_ratio = 1.0\n",
      "Iteration 4, loss = 6.921e-07, Jres = 5.779e-06, alpha = 0.02009, improvement_ratio = 1.0\n",
      "Iteration 5, loss = 5.869e-07, Jres = 4.914e-06, alpha = 0.01674, improvement_ratio = 1.0\n",
      "Iteration 10, loss = 3.59e-07, Jres = 3.863e-06, alpha = 0.006729, improvement_ratio = 1.0\n",
      "Iteration 20, loss = 1.482e-07, Jres = 2.264e-06, alpha = 0.001087, improvement_ratio = 1.0\n",
      "Iteration 30, loss = 2.055e-08, Jres = 6.537e-07, alpha = 0.0001755, improvement_ratio = 1.0\n",
      "Iteration 40, loss = 3.033e-09, Jres = 2.737e-08, alpha = 2.835e-05, improvement_ratio = 1.0\n"
     ]
    },
    {
     "data": {
      "application/vnd.jupyter.widget-view+json": {
       "model_id": "4cc3c6d438bf437e9b1a3a237376affd",
       "version_major": 2,
       "version_minor": 0
      },
      "text/plain": [
       "  0%|          | 0/150 [00:00<?, ?it/s]"
      ]
     },
     "metadata": {},
     "output_type": "display_data"
    },
    {
     "name": "stdout",
     "output_type": "stream",
     "text": [
      "Iteration 0, loss = 4.160233581644047e-09\n",
      "Iteration 131 Step Failed\n",
      "Iteration 132 Step Failed\n",
      "Converged by no improvement\n"
     ]
    },
    {
     "data": {
      "application/vnd.jupyter.widget-view+json": {
       "model_id": "a6357aa2e83f4124873ee2cc6ebd3bc3",
       "version_major": 2,
       "version_minor": 0
      },
      "text/plain": [
       "  0%|          | 0/101 [00:00<?, ?it/s]"
      ]
     },
     "metadata": {},
     "output_type": "display_data"
    },
    {
     "name": "stdout",
     "output_type": "stream",
     "text": [
      "Iteration 0, loss = 1.558e-05, Jres = 147.9, alpha = 0.04167, improvement_ratio = 1.0\n",
      "Iteration 1, loss = 1.008e-05, Jres = 0.0001301, alpha = 0.03472, improvement_ratio = 1.0\n",
      "Iteration 2, loss = 8.394e-06, Jres = 2.69e-05, alpha = 0.02894, improvement_ratio = 1.0\n",
      "Iteration 3, loss = 7.373e-06, Jres = 2.03e-05, alpha = 0.02411, improvement_ratio = 1.0\n",
      "Iteration 4, loss = 6.711e-06, Jres = 1.818e-05, alpha = 0.02009, improvement_ratio = 1.0\n",
      "Iteration 5, loss = 6.248e-06, Jres = 1.718e-05, alpha = 0.01674, improvement_ratio = 1.0\n",
      "Iteration 10, loss = 4.673e-06, Jres = 1.495e-05, alpha = 0.006729, improvement_ratio = 1.0\n",
      "Iteration 20, loss = 2.117e-06, Jres = 9.529e-06, alpha = 0.001087, improvement_ratio = 1.0\n",
      "Iteration 30, loss = 2.092e-07, Jres = 2.754e-06, alpha = 0.0001755, improvement_ratio = 1.0\n",
      "Iteration 40, loss = 1.638e-08, Jres = 1.633e-07, alpha = 2.835e-05, improvement_ratio = 1.0\n",
      "Iteration 50, loss = 2.062e-09, Jres = 1.569e-08, alpha = 4.579e-06, improvement_ratio = 1.0\n"
     ]
    },
    {
     "data": {
      "application/vnd.jupyter.widget-view+json": {
       "model_id": "90353d30fab642bdab807bf9207f3a8b",
       "version_major": 2,
       "version_minor": 0
      },
      "text/plain": [
       "  0%|          | 0/150 [00:00<?, ?it/s]"
      ]
     },
     "metadata": {},
     "output_type": "display_data"
    },
    {
     "name": "stdout",
     "output_type": "stream",
     "text": [
      "Iteration 0, loss = 2.2684402493433317e-09\n",
      "Iteration 1 Step Failed\n",
      "Iteration 2 Step Failed\n",
      "Iteration 3 Step Failed\n",
      "Iteration 4 Step Failed\n",
      "Iteration 5 Step Failed\n",
      "Iteration 6 Step Failed\n",
      "Iteration 7 Step Failed\n",
      "Iteration 9 Step Failed\n",
      "Iteration 10 Step Failed\n",
      "Iteration 11 Step Failed\n",
      "Iteration 12 Step Failed\n",
      "Iteration 13 Step Failed\n",
      "Iteration 14 Step Failed\n",
      "Iteration 15 Step Failed\n",
      "Iteration 16 Step Failed\n",
      "Iteration 17 Step Failed\n",
      "Iteration 18 Step Failed\n",
      "Iteration 20 Step Failed\n",
      "Iteration 21 Step Failed\n",
      "Iteration 22 Step Failed\n",
      "Iteration 23 Step Failed\n",
      "Iteration 24 Step Failed\n",
      "Converged by no improvement\n"
     ]
    },
    {
     "data": {
      "application/vnd.jupyter.widget-view+json": {
       "model_id": "70ae0d42d09a426988408f2bc6a1141f",
       "version_major": 2,
       "version_minor": 0
      },
      "text/plain": [
       "  0%|          | 0/101 [00:00<?, ?it/s]"
      ]
     },
     "metadata": {},
     "output_type": "display_data"
    },
    {
     "name": "stdout",
     "output_type": "stream",
     "text": [
      "Iteration 0, loss = 4.279e-05, Jres = 165.4, alpha = 0.04167, improvement_ratio = 1.0\n",
      "Iteration 1, loss = 2.652e-05, Jres = 0.0002717, alpha = 0.03472, improvement_ratio = 1.0\n",
      "Iteration 2, loss = 2.2e-05, Jres = 4.451e-05, alpha = 0.02894, improvement_ratio = 1.0\n",
      "Iteration 3, loss = 1.929e-05, Jres = 3.288e-05, alpha = 0.02411, improvement_ratio = 1.0\n",
      "Iteration 4, loss = 1.752e-05, Jres = 2.938e-05, alpha = 0.02009, improvement_ratio = 1.0\n",
      "Iteration 5, loss = 1.628e-05, Jres = 2.775e-05, alpha = 0.01674, improvement_ratio = 1.0\n",
      "Iteration 10, loss = 1.239e-05, Jres = 2.424e-05, alpha = 0.006729, improvement_ratio = 1.0\n",
      "Iteration 20, loss = 5.844e-06, Jres = 1.577e-05, alpha = 0.001087, improvement_ratio = 1.0\n",
      "Iteration 30, loss = 5.552e-07, Jres = 4.538e-06, alpha = 0.0001755, improvement_ratio = 1.0\n",
      "Iteration 40, loss = 3.552e-08, Jres = 2.552e-07, alpha = 2.835e-05, improvement_ratio = 1.0\n",
      "Iteration 50, loss = 4.76e-09, Jres = 2.393e-08, alpha = 4.579e-06, improvement_ratio = 1.0\n"
     ]
    },
    {
     "data": {
      "application/vnd.jupyter.widget-view+json": {
       "model_id": "f88c0417e04a44f68fee20f72ca23552",
       "version_major": 2,
       "version_minor": 0
      },
      "text/plain": [
       "  0%|          | 0/150 [00:00<?, ?it/s]"
      ]
     },
     "metadata": {},
     "output_type": "display_data"
    },
    {
     "name": "stdout",
     "output_type": "stream",
     "text": [
      "Iteration 0, loss = 3.931382152002598e-09\n",
      "Iteration 1 Step Failed\n",
      "Iteration 2 Step Failed\n",
      "Iteration 3 Step Failed\n",
      "Iteration 4 Step Failed\n",
      "Iteration 5 Step Failed\n",
      "Iteration 6 Step Failed\n",
      "Iteration 7 Step Failed\n",
      "Iteration 8 Step Failed\n",
      "Iteration 9 Step Failed\n",
      "Iteration 11 Step Failed\n",
      "Iteration 12 Step Failed\n",
      "Iteration 13 Step Failed\n",
      "Iteration 14 Step Failed\n",
      "Iteration 16 Step Failed\n",
      "Iteration 17 Step Failed\n",
      "Iteration 18 Step Failed\n",
      "Iteration 19 Step Failed\n",
      "Iteration 20 Step Failed\n",
      "Iteration 22 Step Failed\n",
      "Iteration 23 Step Failed\n",
      "Iteration 24 Step Failed\n",
      "Iteration 25 Step Failed\n",
      "Converged by no improvement\n"
     ]
    },
    {
     "data": {
      "application/vnd.jupyter.widget-view+json": {
       "model_id": "ac7b83a9f4d14918aae79145ba80710a",
       "version_major": 2,
       "version_minor": 0
      },
      "text/plain": [
       "  0%|          | 0/101 [00:00<?, ?it/s]"
      ]
     },
     "metadata": {},
     "output_type": "display_data"
    },
    {
     "name": "stdout",
     "output_type": "stream",
     "text": [
      "Iteration 0, loss = 4.246e-05, Jres = 224.9, alpha = 0.04167, improvement_ratio = 1.0\n",
      "Iteration 1, loss = 2.551e-05, Jres = 0.0003247, alpha = 0.03472, improvement_ratio = 1.0\n",
      "Iteration 2, loss = 2.13e-05, Jres = 4.365e-05, alpha = 0.02894, improvement_ratio = 1.0\n",
      "Iteration 3, loss = 1.878e-05, Jres = 3.194e-05, alpha = 0.02411, improvement_ratio = 1.0\n",
      "Iteration 4, loss = 1.713e-05, Jres = 2.863e-05, alpha = 0.02009, improvement_ratio = 1.0\n",
      "Iteration 5, loss = 1.597e-05, Jres = 2.715e-05, alpha = 0.01674, improvement_ratio = 1.0\n",
      "Iteration 10, loss = 1.249e-05, Jres = 2.401e-05, alpha = 0.006729, improvement_ratio = 1.0\n",
      "Iteration 20, loss = 6.157e-06, Jres = 1.609e-05, alpha = 0.001087, improvement_ratio = 1.0\n",
      "Iteration 30, loss = 6.031e-07, Jres = 4.665e-06, alpha = 0.0001755, improvement_ratio = 1.0\n",
      "Iteration 40, loss = 4.62e-08, Jres = 2.761e-07, alpha = 2.835e-05, improvement_ratio = 1.0\n",
      "Iteration 50, loss = 7.535e-09, Jres = 3.072e-08, alpha = 4.579e-06, improvement_ratio = 1.0\n"
     ]
    },
    {
     "data": {
      "application/vnd.jupyter.widget-view+json": {
       "model_id": "5a64a576b859462da9cb05aa7de10c3b",
       "version_major": 2,
       "version_minor": 0
      },
      "text/plain": [
       "  0%|          | 0/150 [00:00<?, ?it/s]"
      ]
     },
     "metadata": {},
     "output_type": "display_data"
    },
    {
     "name": "stdout",
     "output_type": "stream",
     "text": [
      "Iteration 0, loss = 4.067114701075925e-09\n",
      "Iteration 3 Step Failed\n",
      "Iteration 4 Step Failed\n",
      "Iteration 5 Step Failed\n",
      "Iteration 6 Step Failed\n",
      "Iteration 7 Step Failed\n",
      "Iteration 8 Step Failed\n",
      "Iteration 9 Step Failed\n",
      "Iteration 10 Step Failed\n",
      "Iteration 11 Step Failed\n",
      "Iteration 12 Step Failed\n",
      "Iteration 13 Step Failed\n",
      "Iteration 14 Step Failed\n",
      "Iteration 16 Step Failed\n",
      "Iteration 17 Step Failed\n",
      "Iteration 18 Step Failed\n",
      "Iteration 19 Step Failed\n",
      "Iteration 20 Step Failed\n",
      "Iteration 21 Step Failed\n",
      "Iteration 22 Step Failed\n",
      "Iteration 23 Step Failed\n",
      "Iteration 24 Step Failed\n",
      "Iteration 25 Step Failed\n",
      "Converged by no improvement\n"
     ]
    },
    {
     "data": {
      "application/vnd.jupyter.widget-view+json": {
       "model_id": "a73427966722441eb464de5f0a3bb41e",
       "version_major": 2,
       "version_minor": 0
      },
      "text/plain": [
       "  0%|          | 0/10099 [00:00<?, ?it/s]"
      ]
     },
     "metadata": {},
     "output_type": "display_data"
    },
    {
     "data": {
      "application/vnd.jupyter.widget-view+json": {
       "model_id": "abfefacdd7a24e05bbb3249d7a9ec1a1",
       "version_major": 2,
       "version_minor": 0
      },
      "text/plain": [
       "  0%|          | 0/501 [00:00<?, ?it/s]"
      ]
     },
     "metadata": {},
     "output_type": "display_data"
    },
    {
     "name": "stdout",
     "output_type": "stream",
     "text": [
      "Iteration 0, loss = 0.4439, Jres = 44.89, alpha = 0.08333, improvement_ratio = 0.9712\n",
      "Iteration 1, loss = 0.2334, Jres = 7.763, alpha = 0.06944, improvement_ratio = 1.006\n",
      "Iteration 2, loss = 0.1549, Jres = 2.457, alpha = 0.05787, improvement_ratio = 1.018\n",
      "Iteration 3, loss = 0.115, Jres = 1.103, alpha = 0.04823, improvement_ratio = 1.031\n",
      "Iteration 4, loss = 0.09098, Jres = 0.7302, alpha = 0.04019, improvement_ratio = 1.053\n",
      "Iteration 5, loss = 0.07271, Jres = 0.6387, alpha = 0.03349, improvement_ratio = 1.072\n",
      "Iteration 100, loss = 0.006384, Jres = 0.000123, alpha = 8.333e-07, improvement_ratio = 1.0\n",
      "Iteration 200, loss = 0.006171, Jres = 9.157e-06, alpha = 8.333e-07, improvement_ratio = 1.0\n",
      "Iteration 300, loss = 0.00606, Jres = 5.466e-06, alpha = 8.333e-07, improvement_ratio = 1.0\n",
      "Iteration 400, loss = 0.005981, Jres = 5.766e-06, alpha = 8.333e-07, improvement_ratio = 1.0\n",
      "Iteration 500, loss = 0.005919, Jres = 5.734e-06, alpha = 8.333e-07, improvement_ratio = 1.0\n"
     ]
    },
    {
     "data": {
      "application/vnd.jupyter.widget-view+json": {
       "model_id": "c255f460803a4433b38472fdfff5e74b",
       "version_major": 2,
       "version_minor": 0
      },
      "text/plain": [
       "  0%|          | 0/500 [00:00<?, ?it/s]"
      ]
     },
     "metadata": {},
     "output_type": "display_data"
    },
    {
     "name": "stdout",
     "output_type": "stream",
     "text": [
      "Iteration 0, loss = 0.005917640246862752\n",
      "Iteration 93 Step Failed\n",
      "Iteration 234 Step Failed\n",
      "Iteration 306 Step Failed\n",
      "Iteration 318 Step Failed\n",
      "Iteration 360 Step Failed\n",
      "Iteration 385 Step Failed\n",
      "Iteration 412 Step Failed\n",
      "Iteration 422 Step Failed\n",
      "Iteration 423 Step Failed\n",
      "Iteration 443 Step Failed\n",
      "Iteration 452 Step Failed\n",
      "Iteration 456 Step Failed\n",
      "Iteration 462 Step Failed\n",
      "Iteration 475 Step Failed\n",
      "Iteration 494 Step Failed\n",
      "Iteration 496 Step Failed\n",
      "Iteration 497 Step Failed\n",
      "Iteration 498 Step Failed\n",
      "Iteration 499 Step Failed\n"
     ]
    },
    {
     "data": {
      "application/vnd.jupyter.widget-view+json": {
       "model_id": "840e7c3480524ea9a0b5d02b35828caa",
       "version_major": 2,
       "version_minor": 0
      },
      "text/plain": [
       "  0%|          | 0/10099 [00:00<?, ?it/s]"
      ]
     },
     "metadata": {},
     "output_type": "display_data"
    },
    {
     "data": {
      "application/vnd.jupyter.widget-view+json": {
       "model_id": "f68d7db1a6b3461ca93a381ac8f14f1f",
       "version_major": 2,
       "version_minor": 0
      },
      "text/plain": [
       "  0%|          | 0/10099 [00:00<?, ?it/s]"
      ]
     },
     "metadata": {},
     "output_type": "display_data"
    },
    {
     "data": {
      "application/vnd.jupyter.widget-view+json": {
       "model_id": "ad5ebeaa791e4a3abbe2ca086472aa8a",
       "version_major": 2,
       "version_minor": 0
      },
      "text/plain": [
       "  0%|          | 0/10099 [00:00<?, ?it/s]"
      ]
     },
     "metadata": {},
     "output_type": "display_data"
    },
    {
     "data": {
      "application/vnd.jupyter.widget-view+json": {
       "model_id": "17c87ed21ae5488d8236d69d1dd4ebb7",
       "version_major": 2,
       "version_minor": 0
      },
      "text/plain": [
       "  0%|          | 0/10099 [00:00<?, ?it/s]"
      ]
     },
     "metadata": {},
     "output_type": "display_data"
    },
    {
     "data": {
      "application/vnd.jupyter.widget-view+json": {
       "model_id": "64e99bb73a2245f096c7dc1485fc888a",
       "version_major": 2,
       "version_minor": 0
      },
      "text/plain": [
       "  0%|          | 0/10099 [00:00<?, ?it/s]"
      ]
     },
     "metadata": {},
     "output_type": "display_data"
    },
    {
     "data": {
      "application/vnd.jupyter.widget-view+json": {
       "model_id": "9f17f9267cbb4ac6badb52fde38de83c",
       "version_major": 2,
       "version_minor": 0
      },
      "text/plain": [
       "  0%|          | 0/10099 [00:00<?, ?it/s]"
      ]
     },
     "metadata": {},
     "output_type": "display_data"
    },
    {
     "data": {
      "application/vnd.jupyter.widget-view+json": {
       "model_id": "2e08173f91bb4038a953bc52d319d7e2",
       "version_major": 2,
       "version_minor": 0
      },
      "text/plain": [
       "  0%|          | 0/10099 [00:00<?, ?it/s]"
      ]
     },
     "metadata": {},
     "output_type": "display_data"
    },
    {
     "data": {
      "application/vnd.jupyter.widget-view+json": {
       "model_id": "88e28816238e4ad3be6e2069e200377f",
       "version_major": 2,
       "version_minor": 0
      },
      "text/plain": [
       "  0%|          | 0/10099 [00:00<?, ?it/s]"
      ]
     },
     "metadata": {},
     "output_type": "display_data"
    },
    {
     "data": {
      "application/vnd.jupyter.widget-view+json": {
       "model_id": "f1870a6d4bf74fa1ad460a6c99998325",
       "version_major": 2,
       "version_minor": 0
      },
      "text/plain": [
       "  0%|          | 0/10099 [00:00<?, ?it/s]"
      ]
     },
     "metadata": {},
     "output_type": "display_data"
    },
    {
     "data": {
      "application/vnd.jupyter.widget-view+json": {
       "model_id": "1a174e459d634f0d89db16ed7952ad88",
       "version_major": 2,
       "version_minor": 0
      },
      "text/plain": [
       "  0%|          | 0/10099 [00:00<?, ?it/s]"
      ]
     },
     "metadata": {},
     "output_type": "display_data"
    },
    {
     "data": {
      "application/vnd.jupyter.widget-view+json": {
       "model_id": "15c825b842274c0da63564f3acd14f95",
       "version_major": 2,
       "version_minor": 0
      },
      "text/plain": [
       "  0%|          | 0/10099 [00:00<?, ?it/s]"
      ]
     },
     "metadata": {},
     "output_type": "display_data"
    },
    {
     "data": {
      "application/vnd.jupyter.widget-view+json": {
       "model_id": "c8830be5b2d24591b76760d33fc53e14",
       "version_major": 2,
       "version_minor": 0
      },
      "text/plain": [
       "  0%|          | 0/10099 [00:00<?, ?it/s]"
      ]
     },
     "metadata": {},
     "output_type": "display_data"
    },
    {
     "data": {
      "application/vnd.jupyter.widget-view+json": {
       "model_id": "d0a9e49493b84626912a1b85f323808c",
       "version_major": 2,
       "version_minor": 0
      },
      "text/plain": [
       "  0%|          | 0/10099 [00:00<?, ?it/s]"
      ]
     },
     "metadata": {},
     "output_type": "display_data"
    },
    {
     "data": {
      "application/vnd.jupyter.widget-view+json": {
       "model_id": "f137dd84eb7c4f9e8b20a7c0cbd4209c",
       "version_major": 2,
       "version_minor": 0
      },
      "text/plain": [
       "  0%|          | 0/10099 [00:00<?, ?it/s]"
      ]
     },
     "metadata": {},
     "output_type": "display_data"
    },
    {
     "data": {
      "application/vnd.jupyter.widget-view+json": {
       "model_id": "119cd32144d64f87812fa03ca2a63062",
       "version_major": 2,
       "version_minor": 0
      },
      "text/plain": [
       "  0%|          | 0/10099 [00:00<?, ?it/s]"
      ]
     },
     "metadata": {},
     "output_type": "display_data"
    },
    {
     "data": {
      "application/vnd.jupyter.widget-view+json": {
       "model_id": "fc55edc031354df08dbf277c95bd4eae",
       "version_major": 2,
       "version_minor": 0
      },
      "text/plain": [
       "  0%|          | 0/101 [00:00<?, ?it/s]"
      ]
     },
     "metadata": {},
     "output_type": "display_data"
    },
    {
     "name": "stdout",
     "output_type": "stream",
     "text": [
      "Iteration 0, loss = 1.712, Jres = 234.7, alpha = 0.04167, improvement_ratio = 0.9933\n",
      "Iteration 1, loss = 0.3022, Jres = 4.36, alpha = 0.03472, improvement_ratio = 0.844\n",
      "Iteration 2, loss = 0.04883, Jres = 1.512, alpha = 0.02894, improvement_ratio = 0.9658\n",
      "Iteration 3, loss = 0.0358, Jres = 0.1568, alpha = 0.02411, improvement_ratio = 0.9918\n",
      "Iteration 4, loss = 0.03401, Jres = 0.01296, alpha = 0.02009, improvement_ratio = 1.001\n",
      "Iteration 5, loss = 0.03273, Jres = 0.001776, alpha = 0.01674, improvement_ratio = 1.001\n",
      "Iteration 10, loss = 0.02876, Jres = 0.000875, alpha = 0.006729, improvement_ratio = 1.0\n",
      "Iteration 20, loss = 0.02338, Jres = 0.0007709, alpha = 0.001087, improvement_ratio = 1.005\n",
      "Iteration 30, loss = 0.01741, Jres = 0.002167, alpha = 0.0001755, improvement_ratio = 1.031\n",
      "Iteration 40, loss = 0.008623, Jres = 0.004123, alpha = 2.835e-05, improvement_ratio = 0.9979\n",
      "Iteration 50, loss = 0.006547, Jres = 0.01005, alpha = 2.297e-05, improvement_ratio = 0.7389\n",
      "Iteration 60, loss = 0.005463, Jres = 0.002761, alpha = 5.342e-06, improvement_ratio = 1.005\n",
      "Iteration 70, loss = 0.004743, Jres = 0.0002877, alpha = 1.449e-06, improvement_ratio = 1.009\n",
      "Iteration 80, loss = 0.004145, Jres = 0.0006669, alpha = 8.333e-07, improvement_ratio = 0.9965\n",
      "Iteration 90, loss = 0.003988, Jres = 0.0006583, alpha = 0.0002614, improvement_ratio = 0.1393\n",
      "Iteration 100, loss = 0.003986, Jres = 0.0002146, alpha = 0.0002614, improvement_ratio = 0.4497\n"
     ]
    },
    {
     "data": {
      "application/vnd.jupyter.widget-view+json": {
       "model_id": "8518e123a9eb4155ab7a0a6d14756ba8",
       "version_major": 2,
       "version_minor": 0
      },
      "text/plain": [
       "  0%|          | 0/150 [00:00<?, ?it/s]"
      ]
     },
     "metadata": {},
     "output_type": "display_data"
    },
    {
     "name": "stdout",
     "output_type": "stream",
     "text": [
      "Iteration 0, loss = 0.007972485682894772\n",
      "Iteration 79 Step Failed\n",
      "Iteration 98 Step Failed\n",
      "Iteration 103 Step Failed\n",
      "Iteration 108 Step Failed\n",
      "Iteration 115 Step Failed\n",
      "Iteration 122 Step Failed\n",
      "Iteration 123 Step Failed\n"
     ]
    },
    {
     "data": {
      "application/vnd.jupyter.widget-view+json": {
       "model_id": "97bfd7c3a0b54546b817ac3c8454e987",
       "version_major": 2,
       "version_minor": 0
      },
      "text/plain": [
       "  0%|          | 0/101 [00:00<?, ?it/s]"
      ]
     },
     "metadata": {},
     "output_type": "display_data"
    },
    {
     "name": "stdout",
     "output_type": "stream",
     "text": [
      "Iteration 0, loss = 2.404, Jres = 240.3, alpha = 0.04167, improvement_ratio = 0.9909\n",
      "Iteration 1, loss = 0.1765, Jres = 6.115, alpha = 0.03472, improvement_ratio = 0.9578\n",
      "Iteration 2, loss = 0.08101, Jres = 0.6179, alpha = 0.02894, improvement_ratio = 0.9875\n",
      "Iteration 3, loss = 0.07047, Jres = 0.04497, alpha = 0.02411, improvement_ratio = 1.001\n",
      "Iteration 4, loss = 0.06334, Jres = 0.00574, alpha = 0.02009, improvement_ratio = 0.9969\n",
      "Iteration 5, loss = 0.05726, Jres = 0.003521, alpha = 0.01674, improvement_ratio = 0.9964\n",
      "Iteration 10, loss = 0.03467, Jres = 0.002622, alpha = 0.006729, improvement_ratio = 0.9983\n",
      "Iteration 20, loss = 0.01372, Jres = 0.001135, alpha = 0.001087, improvement_ratio = 1.001\n",
      "Iteration 30, loss = 0.008624, Jres = 0.0007912, alpha = 0.0001755, improvement_ratio = 1.004\n",
      "Iteration 40, loss = 0.006913, Jres = 0.001908, alpha = 0.0003162, improvement_ratio = 1.193\n",
      "Iteration 50, loss = 0.005516, Jres = 0.0004558, alpha = 5.106e-05, improvement_ratio = 0.9988\n",
      "Iteration 60, loss = 0.004563, Jres = 0.0008966, alpha = 1.188e-05, improvement_ratio = 1.099\n",
      "Iteration 70, loss = 0.003807, Jres = 0.002595, alpha = 3.977e-06, improvement_ratio = 0.7651\n",
      "Iteration 80, loss = 0.002924, Jres = 0.000604, alpha = 8.333e-07, improvement_ratio = 0.9974\n",
      "Iteration 90, loss = 0.002278, Jres = 0.001733, alpha = 8.333e-07, improvement_ratio = 0.9525\n",
      "Iteration 100, loss = 0.001903, Jres = 0.0001678, alpha = 8.333e-07, improvement_ratio = 1.002\n"
     ]
    },
    {
     "data": {
      "application/vnd.jupyter.widget-view+json": {
       "model_id": "e9096819460a4f208e29d8d86f227224",
       "version_major": 2,
       "version_minor": 0
      },
      "text/plain": [
       "  0%|          | 0/150 [00:00<?, ?it/s]"
      ]
     },
     "metadata": {},
     "output_type": "display_data"
    },
    {
     "name": "stdout",
     "output_type": "stream",
     "text": [
      "Iteration 0, loss = 0.0038054074101108344\n"
     ]
    },
    {
     "data": {
      "application/vnd.jupyter.widget-view+json": {
       "model_id": "0e51a57de7ac4d7cb0380145b63345c3",
       "version_major": 2,
       "version_minor": 0
      },
      "text/plain": [
       "  0%|          | 0/101 [00:00<?, ?it/s]"
      ]
     },
     "metadata": {},
     "output_type": "display_data"
    },
    {
     "name": "stdout",
     "output_type": "stream",
     "text": [
      "Iteration 0, loss = 0.1559, Jres = 73.77, alpha = 0.04167, improvement_ratio = 0.9967\n",
      "Iteration 1, loss = 0.03293, Jres = 0.7007, alpha = 0.03472, improvement_ratio = 0.9676\n",
      "Iteration 2, loss = 0.02783, Jres = 0.08813, alpha = 0.02894, improvement_ratio = 0.9975\n",
      "Iteration 3, loss = 0.02651, Jres = 0.005699, alpha = 0.02411, improvement_ratio = 0.9941\n",
      "Iteration 4, loss = 0.02537, Jres = 0.002226, alpha = 0.02009, improvement_ratio = 0.9851\n",
      "Iteration 5, loss = 0.02432, Jres = 0.002743, alpha = 0.01674, improvement_ratio = 0.9897\n",
      "Iteration 10, loss = 0.02012, Jres = 0.001601, alpha = 0.006729, improvement_ratio = 0.9943\n",
      "Iteration 20, loss = 0.01592, Jres = 0.0008846, alpha = 0.001087, improvement_ratio = 0.9977\n",
      "Iteration 30, loss = 0.01333, Jres = 0.0008993, alpha = 0.0001755, improvement_ratio = 0.9999\n",
      "Iteration 40, loss = 0.009972, Jres = 0.005489, alpha = 2.835e-05, improvement_ratio = 0.9214\n",
      "Iteration 50, loss = 0.005906, Jres = 0.03674, alpha = 1.595e-05, improvement_ratio = 0.9863\n",
      "Iteration 60, loss = 0.003985, Jres = 0.001976, alpha = 2.576e-06, improvement_ratio = 0.9836\n",
      "Iteration 70, loss = 0.002525, Jres = 0.002631, alpha = 8.333e-07, improvement_ratio = 0.8969\n",
      "Iteration 80, loss = 0.00213, Jres = 0.0001287, alpha = 8.333e-07, improvement_ratio = 1.002\n",
      "Iteration 90, loss = 0.001986, Jres = 7.214e-05, alpha = 8.333e-07, improvement_ratio = 1.004\n",
      "Iteration 100, loss = 0.001891, Jres = 6.903e-05, alpha = 8.333e-07, improvement_ratio = 1.006\n"
     ]
    },
    {
     "data": {
      "application/vnd.jupyter.widget-view+json": {
       "model_id": "41e538ff837a427e9f9f79f1ff0a7626",
       "version_major": 2,
       "version_minor": 0
      },
      "text/plain": [
       "  0%|          | 0/150 [00:00<?, ?it/s]"
      ]
     },
     "metadata": {},
     "output_type": "display_data"
    },
    {
     "name": "stdout",
     "output_type": "stream",
     "text": [
      "Iteration 0, loss = 0.0037813122686013363\n",
      "Iteration 6 Step Failed\n",
      "Iteration 8 Step Failed\n",
      "Iteration 9 Step Failed\n",
      "Iteration 10 Step Failed\n",
      "Iteration 12 Step Failed\n",
      "Iteration 13 Step Failed\n",
      "Iteration 14 Step Failed\n",
      "Iteration 15 Step Failed\n",
      "Iteration 16 Step Failed\n",
      "Iteration 17 Step Failed\n",
      "Iteration 18 Step Failed\n",
      "Iteration 20 Step Failed\n",
      "Iteration 21 Step Failed\n",
      "Iteration 22 Step Failed\n",
      "Iteration 23 Step Failed\n",
      "Iteration 24 Step Failed\n",
      "Iteration 25 Step Failed\n",
      "Iteration 26 Step Failed\n",
      "Iteration 27 Step Failed\n",
      "Iteration 28 Step Failed\n",
      "Iteration 29 Step Failed\n",
      "Converged by no improvement\n"
     ]
    },
    {
     "data": {
      "application/vnd.jupyter.widget-view+json": {
       "model_id": "ba52866fdac14b9da0d6cfb9a24af503",
       "version_major": 2,
       "version_minor": 0
      },
      "text/plain": [
       "  0%|          | 0/101 [00:00<?, ?it/s]"
      ]
     },
     "metadata": {},
     "output_type": "display_data"
    },
    {
     "name": "stdout",
     "output_type": "stream",
     "text": [
      "Iteration 0, loss = 0.5369, Jres = 105.4, alpha = 0.04167, improvement_ratio = 0.9921\n",
      "Iteration 1, loss = 0.152, Jres = 1.454, alpha = 0.03472, improvement_ratio = 0.9211\n",
      "Iteration 2, loss = 0.09969, Jres = 0.1809, alpha = 0.02894, improvement_ratio = 1.004\n",
      "Iteration 3, loss = 0.07465, Jres = 0.07639, alpha = 0.02411, improvement_ratio = 1.004\n",
      "Iteration 4, loss = 0.05858, Jres = 0.01752, alpha = 0.02009, improvement_ratio = 1.034\n",
      "Iteration 5, loss = 0.04698, Jres = 0.02015, alpha = 0.01674, improvement_ratio = 1.038\n",
      "Iteration 10, loss = 0.03032, Jres = 0.002503, alpha = 0.006729, improvement_ratio = 1.004\n",
      "Iteration 20, loss = 0.02479, Jres = 0.0005866, alpha = 0.001087, improvement_ratio = 1.004\n",
      "Iteration 30, loss = 0.02108, Jres = 0.003459, alpha = 0.0001755, improvement_ratio = 0.9682\n",
      "Iteration 40, loss = 0.01573, Jres = 0.02129, alpha = 0.0001659, improvement_ratio = 1.124\n",
      "Iteration 50, loss = 0.01228, Jres = 4.404e-05, alpha = 0.005002, improvement_ratio = 0.999\n",
      "Iteration 60, loss = 0.01215, Jres = 5.104e-05, alpha = 0.0008079, improvement_ratio = 0.9996\n",
      "Iteration 70, loss = 0.0117, Jres = 0.0001343, alpha = 0.0001305, improvement_ratio = 0.999\n",
      "Iteration 80, loss = 0.01061, Jres = 0.0003037, alpha = 2.107e-05, improvement_ratio = 1.002\n",
      "Iteration 90, loss = 0.008533, Jres = 0.002325, alpha = 3.403e-06, improvement_ratio = 0.9522\n",
      "Iteration 100, loss = 0.006201, Jres = 0.008415, alpha = 1e-06, improvement_ratio = 0.7817\n"
     ]
    },
    {
     "data": {
      "application/vnd.jupyter.widget-view+json": {
       "model_id": "428da5106b0a4631991c1c1129a8bfd3",
       "version_major": 2,
       "version_minor": 0
      },
      "text/plain": [
       "  0%|          | 0/150 [00:00<?, ?it/s]"
      ]
     },
     "metadata": {},
     "output_type": "display_data"
    },
    {
     "name": "stdout",
     "output_type": "stream",
     "text": [
      "Iteration 0, loss = 0.01240225091612719\n",
      "Iteration 44 Step Failed\n",
      "Iteration 45 Step Failed\n",
      "Iteration 55 Step Failed\n",
      "Iteration 86 Step Failed\n"
     ]
    },
    {
     "data": {
      "application/vnd.jupyter.widget-view+json": {
       "model_id": "5906d435aba5433998a8429f565cb68a",
       "version_major": 2,
       "version_minor": 0
      },
      "text/plain": [
       "  0%|          | 0/101 [00:00<?, ?it/s]"
      ]
     },
     "metadata": {},
     "output_type": "display_data"
    },
    {
     "name": "stdout",
     "output_type": "stream",
     "text": [
      "Iteration 0, loss = 0.6915, Jres = 154.2, alpha = 0.04167, improvement_ratio = 0.9943\n",
      "Iteration 1, loss = 0.1615, Jres = 2.552, alpha = 0.04167, improvement_ratio = 0.7729\n",
      "Iteration 2, loss = 0.02761, Jres = 0.9217, alpha = 0.03472, improvement_ratio = 0.8726\n",
      "Iteration 3, loss = 0.007842, Jres = 0.2587, alpha = 0.02894, improvement_ratio = 0.9858\n",
      "Iteration 4, loss = 0.007119, Jres = 0.02848, alpha = 0.02411, improvement_ratio = 1.005\n",
      "Iteration 5, loss = 0.006808, Jres = 0.0006753, alpha = 0.02009, improvement_ratio = 1.006\n",
      "Iteration 10, loss = 0.00551, Jres = 0.0004543, alpha = 0.008075, improvement_ratio = 1.002\n",
      "Iteration 20, loss = 0.003812, Jres = 0.0006827, alpha = 0.001304, improvement_ratio = 1.005\n",
      "Iteration 30, loss = 0.003036, Jres = 0.0006056, alpha = 0.0002106, improvement_ratio = 1.025\n",
      "Iteration 40, loss = 0.002517, Jres = 0.001078, alpha = 0.06244, improvement_ratio = 0.1182\n",
      "Iteration 50, loss = 0.002512, Jres = 6.8e-05, alpha = 0.07493, improvement_ratio = 0.7921\n",
      "Iteration 60, loss = 0.002509, Jres = 5.04e-05, alpha = 0.0121, improvement_ratio = 0.989\n",
      "Iteration 70, loss = 0.002492, Jres = 0.0001412, alpha = 0.002345, improvement_ratio = 0.7529\n",
      "Iteration 80, loss = 0.002482, Jres = 0.0001066, alpha = 0.08374, improvement_ratio = 0.4946\n",
      "Iteration 90, loss = 0.002481, Jres = 4.968e-05, alpha = 0.01947, improvement_ratio = 0.9902\n",
      "Iteration 100, loss = 0.002471, Jres = 6.96e-05, alpha = 0.003145, improvement_ratio = 0.9387\n"
     ]
    },
    {
     "data": {
      "application/vnd.jupyter.widget-view+json": {
       "model_id": "0ed8a5eb18f94cd4b4245bf30be80f41",
       "version_major": 2,
       "version_minor": 0
      },
      "text/plain": [
       "  0%|          | 0/150 [00:00<?, ?it/s]"
      ]
     },
     "metadata": {},
     "output_type": "display_data"
    },
    {
     "name": "stdout",
     "output_type": "stream",
     "text": [
      "Iteration 0, loss = 0.00494243485499669\n",
      "Iteration 45 Step Failed\n"
     ]
    },
    {
     "data": {
      "application/vnd.jupyter.widget-view+json": {
       "model_id": "cca5f89b619e440f81835c81c25bd271",
       "version_major": 2,
       "version_minor": 0
      },
      "text/plain": [
       "  0%|          | 0/101 [00:00<?, ?it/s]"
      ]
     },
     "metadata": {},
     "output_type": "display_data"
    },
    {
     "name": "stdout",
     "output_type": "stream",
     "text": [
      "Iteration 0, loss = 0.3588, Jres = 122.3, alpha = 0.04167, improvement_ratio = 0.9958\n",
      "Iteration 1, loss = 0.1101, Jres = 1.049, alpha = 0.03472, improvement_ratio = 0.8464\n",
      "Iteration 2, loss = 0.05994, Jres = 0.4791, alpha = 0.02894, improvement_ratio = 0.9215\n",
      "Iteration 3, loss = 0.04944, Jres = 0.0975, alpha = 0.02411, improvement_ratio = 0.9968\n",
      "Iteration 4, loss = 0.04395, Jres = 0.005019, alpha = 0.02009, improvement_ratio = 0.9979\n",
      "Iteration 5, loss = 0.03884, Jres = 0.002809, alpha = 0.01674, improvement_ratio = 0.9982\n",
      "Iteration 10, loss = 0.02068, Jres = 0.002223, alpha = 0.006729, improvement_ratio = 0.9946\n",
      "Iteration 20, loss = 0.01104, Jres = 0.0009653, alpha = 0.001087, improvement_ratio = 0.9975\n",
      "Iteration 30, loss = 0.008439, Jres = 0.0005401, alpha = 0.0001755, improvement_ratio = 0.9985\n",
      "Iteration 40, loss = 0.006619, Jres = 0.000792, alpha = 2.835e-05, improvement_ratio = 1.009\n",
      "Iteration 50, loss = 0.00431, Jres = 0.00201, alpha = 4.579e-06, improvement_ratio = 0.8995\n",
      "Iteration 60, loss = 0.004004, Jres = 0.002014, alpha = 0.006809, improvement_ratio = 0.3426\n",
      "Iteration 70, loss = 0.003998, Jres = 6.749e-05, alpha = 0.01177, improvement_ratio = 0.4855\n",
      "Iteration 80, loss = 0.003996, Jres = 1.385e-05, alpha = 0.003284, improvement_ratio = 0.9832\n",
      "Iteration 90, loss = 0.003987, Jres = 1.728e-05, alpha = 0.0005303, improvement_ratio = 0.9902\n",
      "Iteration 100, loss = 0.003938, Jres = 0.0003778, alpha = 0.0001233, improvement_ratio = 0.63\n"
     ]
    },
    {
     "data": {
      "application/vnd.jupyter.widget-view+json": {
       "model_id": "d945e6cc95a24ea49b746f298618bbc5",
       "version_major": 2,
       "version_minor": 0
      },
      "text/plain": [
       "  0%|          | 0/150 [00:00<?, ?it/s]"
      ]
     },
     "metadata": {},
     "output_type": "display_data"
    },
    {
     "name": "stdout",
     "output_type": "stream",
     "text": [
      "Iteration 0, loss = 0.007875511741868802\n",
      "Iteration 53 Step Failed\n",
      "Iteration 54 Step Failed\n",
      "Iteration 68 Step Failed\n",
      "Iteration 69 Step Failed\n",
      "Iteration 80 Step Failed\n",
      "Iteration 81 Step Failed\n",
      "Iteration 82 Step Failed\n",
      "Iteration 83 Step Failed\n",
      "Iteration 108 Step Failed\n"
     ]
    },
    {
     "data": {
      "application/vnd.jupyter.widget-view+json": {
       "model_id": "b05acae441474ea5ac9ae746c38cc387",
       "version_major": 2,
       "version_minor": 0
      },
      "text/plain": [
       "  0%|          | 0/101 [00:00<?, ?it/s]"
      ]
     },
     "metadata": {},
     "output_type": "display_data"
    },
    {
     "name": "stdout",
     "output_type": "stream",
     "text": [
      "Iteration 0, loss = 1.548, Jres = 129.8, alpha = 0.04167, improvement_ratio = 0.9828\n",
      "Iteration 1, loss = 0.3507, Jres = 2.98, alpha = 0.03472, improvement_ratio = 0.9292\n",
      "Iteration 2, loss = 0.2635, Jres = 0.2366, alpha = 0.02894, improvement_ratio = 0.9934\n",
      "Iteration 3, loss = 0.2188, Jres = 0.04116, alpha = 0.02411, improvement_ratio = 0.968\n",
      "Iteration 4, loss = 0.1835, Jres = 0.03979, alpha = 0.02009, improvement_ratio = 0.9867\n",
      "Iteration 5, loss = 0.1565, Jres = 0.02415, alpha = 0.01674, improvement_ratio = 0.9805\n",
      "Iteration 10, loss = 0.08592, Jres = 0.01369, alpha = 0.006729, improvement_ratio = 1.002\n",
      "Iteration 20, loss = 0.04069, Jres = 0.002441, alpha = 0.001087, improvement_ratio = 1.021\n",
      "Iteration 30, loss = 0.03017, Jres = 0.004329, alpha = 0.0001755, improvement_ratio = 0.9919\n",
      "Iteration 40, loss = 0.02036, Jres = 0.003282, alpha = 2.835e-05, improvement_ratio = 0.9917\n",
      "Iteration 50, loss = 0.006223, Jres = 0.003978, alpha = 4.579e-06, improvement_ratio = 1.051\n",
      "Iteration 60, loss = 0.004619, Jres = 0.0001755, alpha = 5.322e-05, improvement_ratio = 1.003\n",
      "Iteration 70, loss = 0.004288, Jres = 0.002123, alpha = 8.596e-06, improvement_ratio = 1.001\n",
      "Iteration 80, loss = 0.003593, Jres = 0.001937, alpha = 1.388e-06, improvement_ratio = 0.8991\n",
      "Iteration 90, loss = 0.003163, Jres = 0.003353, alpha = 1.084e-05, improvement_ratio = 0.5533\n",
      "Iteration 100, loss = 0.003103, Jres = 0.0004157, alpha = 4.357e-06, improvement_ratio = 0.914\n"
     ]
    },
    {
     "data": {
      "application/vnd.jupyter.widget-view+json": {
       "model_id": "44990dad6ecd412b942b85bb58b0d8a1",
       "version_major": 2,
       "version_minor": 0
      },
      "text/plain": [
       "  0%|          | 0/150 [00:00<?, ?it/s]"
      ]
     },
     "metadata": {},
     "output_type": "display_data"
    },
    {
     "name": "stdout",
     "output_type": "stream",
     "text": [
      "Iteration 0, loss = 0.006205404561056459\n",
      "Iteration 98 Step Failed\n",
      "Iteration 99 Step Failed\n",
      "Iteration 121 Step Failed\n",
      "Iteration 123 Step Failed\n",
      "Iteration 125 Step Failed\n"
     ]
    },
    {
     "data": {
      "application/vnd.jupyter.widget-view+json": {
       "model_id": "711b507126e24ac9a579a6845a5a76ed",
       "version_major": 2,
       "version_minor": 0
      },
      "text/plain": [
       "  0%|          | 0/101 [00:00<?, ?it/s]"
      ]
     },
     "metadata": {},
     "output_type": "display_data"
    },
    {
     "name": "stdout",
     "output_type": "stream",
     "text": [
      "Iteration 0, loss = 0.5058, Jres = 99.27, alpha = 0.04167, improvement_ratio = 0.9915\n",
      "Iteration 1, loss = 0.1389, Jres = 1.256, alpha = 0.03472, improvement_ratio = 0.9262\n",
      "Iteration 2, loss = 0.1136, Jres = 0.2406, alpha = 0.02894, improvement_ratio = 0.9885\n",
      "Iteration 3, loss = 0.1049, Jres = 0.0203, alpha = 0.02411, improvement_ratio = 0.9924\n",
      "Iteration 4, loss = 0.09709, Jres = 0.00961, alpha = 0.02009, improvement_ratio = 1.003\n",
      "Iteration 5, loss = 0.08967, Jres = 0.007972, alpha = 0.01674, improvement_ratio = 1.006\n",
      "Iteration 10, loss = 0.05673, Jres = 0.005983, alpha = 0.006729, improvement_ratio = 1.026\n",
      "Iteration 20, loss = 0.02426, Jres = 0.001614, alpha = 0.001087, improvement_ratio = 1.004\n",
      "Iteration 30, loss = 0.01782, Jres = 0.003842, alpha = 0.0002106, improvement_ratio = 0.7994\n",
      "Iteration 40, loss = 0.01733, Jres = 0.001603, alpha = 0.005222, improvement_ratio = 0.5434\n",
      "Iteration 50, loss = 0.01721, Jres = 0.0003947, alpha = 0.002518, improvement_ratio = 0.9009\n",
      "Iteration 60, loss = 0.01692, Jres = 0.002877, alpha = 0.001215, improvement_ratio = 0.5558\n",
      "Iteration 70, loss = 0.01655, Jres = 0.0009384, alpha = 0.0004881, improvement_ratio = 0.9322\n",
      "Iteration 80, loss = 0.01558, Jres = 0.0004902, alpha = 7.883e-05, improvement_ratio = 1.01\n",
      "Iteration 90, loss = 0.01308, Jres = 0.001663, alpha = 1.273e-05, improvement_ratio = 1.028\n",
      "Iteration 100, loss = 0.01121, Jres = 0.004571, alpha = 2.467e-06, improvement_ratio = 0.8754\n"
     ]
    },
    {
     "data": {
      "application/vnd.jupyter.widget-view+json": {
       "model_id": "83a93d99bea941afa9ecaaa8ad78f852",
       "version_major": 2,
       "version_minor": 0
      },
      "text/plain": [
       "  0%|          | 0/150 [00:00<?, ?it/s]"
      ]
     },
     "metadata": {},
     "output_type": "display_data"
    },
    {
     "name": "stdout",
     "output_type": "stream",
     "text": [
      "Iteration 0, loss = 0.02241032224191026\n",
      "Iteration 43 Step Failed\n",
      "Iteration 66 Step Failed\n",
      "Iteration 67 Step Failed\n",
      "Iteration 68 Step Failed\n",
      "Iteration 89 Step Failed\n",
      "Iteration 112 Step Failed\n",
      "Iteration 126 Step Failed\n",
      "Iteration 128 Step Failed\n"
     ]
    },
    {
     "data": {
      "application/vnd.jupyter.widget-view+json": {
       "model_id": "3fb79307e025478fb9423a97a8cbfb83",
       "version_major": 2,
       "version_minor": 0
      },
      "text/plain": [
       "  0%|          | 0/101 [00:00<?, ?it/s]"
      ]
     },
     "metadata": {},
     "output_type": "display_data"
    },
    {
     "name": "stdout",
     "output_type": "stream",
     "text": [
      "Iteration 0, loss = 0.8928, Jres = 126.3, alpha = 0.04167, improvement_ratio = 0.9908\n",
      "Iteration 1, loss = 0.6135, Jres = 2.266, alpha = 0.04167, improvement_ratio = 0.3646\n",
      "Iteration 2, loss = 0.1705, Jres = 0.9283, alpha = 0.03472, improvement_ratio = 0.9376\n",
      "Iteration 3, loss = 0.1603, Jres = 0.1328, alpha = 0.03472, improvement_ratio = 0.2522\n",
      "Iteration 4, loss = 0.1204, Jres = 0.2763, alpha = 0.02894, improvement_ratio = 0.9608\n",
      "Iteration 5, loss = 0.1114, Jres = 0.033, alpha = 0.02411, improvement_ratio = 0.9997\n",
      "Iteration 10, loss = 0.08519, Jres = 0.008165, alpha = 0.00969, improvement_ratio = 1.036\n",
      "Iteration 20, loss = 0.01141, Jres = 0.003353, alpha = 0.001565, improvement_ratio = 1.013\n",
      "Iteration 30, loss = 0.006822, Jres = 0.0009171, alpha = 0.0002528, improvement_ratio = 1.005\n",
      "Iteration 40, loss = 0.0041, Jres = 0.007866, alpha = 5.878e-05, improvement_ratio = 0.8993\n",
      "Iteration 50, loss = 0.002651, Jres = 0.0008272, alpha = 1.367e-05, improvement_ratio = 0.9973\n",
      "Iteration 60, loss = 0.002022, Jres = 0.002089, alpha = 2.208e-06, improvement_ratio = 0.8167\n",
      "Iteration 70, loss = 0.001493, Jres = 0.002898, alpha = 8.627e-07, improvement_ratio = 0.8763\n",
      "Iteration 80, loss = 0.001291, Jres = 0.001237, alpha = 2.522e-06, improvement_ratio = 1.039\n",
      "Iteration 90, loss = 0.0009629, Jres = 0.003166, alpha = 8.445e-07, improvement_ratio = 0.8247\n",
      "Iteration 100, loss = 0.0008785, Jres = 8.089e-05, alpha = 8.333e-07, improvement_ratio = 0.9992\n"
     ]
    },
    {
     "data": {
      "application/vnd.jupyter.widget-view+json": {
       "model_id": "1552c330bc4e4f7185aa16c2e60dfd7b",
       "version_major": 2,
       "version_minor": 0
      },
      "text/plain": [
       "  0%|          | 0/150 [00:00<?, ?it/s]"
      ]
     },
     "metadata": {},
     "output_type": "display_data"
    },
    {
     "name": "stdout",
     "output_type": "stream",
     "text": [
      "Iteration 0, loss = 0.001756932915215282\n",
      "Iteration 17 Step Failed\n",
      "Iteration 18 Step Failed\n",
      "Iteration 19 Step Failed\n",
      "Iteration 20 Step Failed\n",
      "Iteration 21 Step Failed\n",
      "Iteration 23 Step Failed\n",
      "Iteration 24 Step Failed\n",
      "Iteration 25 Step Failed\n",
      "Iteration 26 Step Failed\n",
      "Iteration 27 Step Failed\n",
      "Iteration 28 Step Failed\n",
      "Iteration 29 Step Failed\n",
      "Iteration 30 Step Failed\n",
      "Iteration 31 Step Failed\n",
      "Iteration 32 Step Failed\n",
      "Converged by no improvement\n"
     ]
    },
    {
     "data": {
      "application/vnd.jupyter.widget-view+json": {
       "model_id": "0f6597f40ea54839b377dcc8414afbdb",
       "version_major": 2,
       "version_minor": 0
      },
      "text/plain": [
       "  0%|          | 0/101 [00:00<?, ?it/s]"
      ]
     },
     "metadata": {},
     "output_type": "display_data"
    },
    {
     "name": "stdout",
     "output_type": "stream",
     "text": [
      "Iteration 0, loss = 0.2107, Jres = 114.2, alpha = 0.04167, improvement_ratio = 0.9969\n",
      "Iteration 1, loss = 0.04527, Jres = 0.7188, alpha = 0.03472, improvement_ratio = 0.9541\n",
      "Iteration 2, loss = 0.03508, Jres = 0.09015, alpha = 0.02894, improvement_ratio = 0.988\n",
      "Iteration 3, loss = 0.03104, Jres = 0.008084, alpha = 0.02411, improvement_ratio = 0.9963\n",
      "Iteration 4, loss = 0.02746, Jres = 0.002277, alpha = 0.02009, improvement_ratio = 0.9955\n",
      "Iteration 5, loss = 0.02418, Jres = 0.002072, alpha = 0.01674, improvement_ratio = 0.9943\n",
      "Iteration 10, loss = 0.01321, Jres = 0.001634, alpha = 0.006729, improvement_ratio = 0.9925\n",
      "Iteration 20, loss = 0.006827, Jres = 0.006171, alpha = 0.001565, improvement_ratio = 0.7728\n",
      "Iteration 30, loss = 0.004145, Jres = 0.001014, alpha = 0.0002528, improvement_ratio = 1.001\n",
      "Iteration 40, loss = 0.002169, Jres = 0.0004941, alpha = 4.082e-05, improvement_ratio = 1.001\n",
      "Iteration 50, loss = 0.001587, Jres = 0.001714, alpha = 7.912e-06, improvement_ratio = 0.7994\n",
      "Iteration 60, loss = 0.001061, Jres = 0.003166, alpha = 1.84e-06, improvement_ratio = 0.7622\n",
      "Iteration 70, loss = 0.0007319, Jres = 0.0005311, alpha = 8.333e-07, improvement_ratio = 0.9697\n",
      "Iteration 80, loss = 0.0006424, Jres = 0.0004252, alpha = 8.333e-07, improvement_ratio = 0.9921\n",
      "Iteration 90, loss = 0.0005956, Jres = 0.0009802, alpha = 5.378e-06, improvement_ratio = 0.2734\n",
      "Iteration 100, loss = 0.0005718, Jres = 0.000198, alpha = 1.251e-06, improvement_ratio = 0.9963\n"
     ]
    },
    {
     "data": {
      "application/vnd.jupyter.widget-view+json": {
       "model_id": "c030bf7854264881896b9a8795c4b8c5",
       "version_major": 2,
       "version_minor": 0
      },
      "text/plain": [
       "  0%|          | 0/150 [00:00<?, ?it/s]"
      ]
     },
     "metadata": {},
     "output_type": "display_data"
    },
    {
     "name": "stdout",
     "output_type": "stream",
     "text": [
      "Iteration 0, loss = 0.0011436759179641693\n",
      "Iteration 55 Step Failed\n"
     ]
    },
    {
     "data": {
      "application/vnd.jupyter.widget-view+json": {
       "model_id": "ec565c06548a48b6bb7858b89b915fa5",
       "version_major": 2,
       "version_minor": 0
      },
      "text/plain": [
       "  0%|          | 0/101 [00:00<?, ?it/s]"
      ]
     },
     "metadata": {},
     "output_type": "display_data"
    },
    {
     "name": "stdout",
     "output_type": "stream",
     "text": [
      "Iteration 0, loss = 0.6942, Jres = 104.6, alpha = 0.04167, improvement_ratio = 0.9878\n",
      "Iteration 1, loss = 0.1769, Jres = 1.921, alpha = 0.03472, improvement_ratio = 0.9064\n",
      "Iteration 2, loss = 0.131, Jres = 0.1634, alpha = 0.02894, improvement_ratio = 0.9837\n",
      "Iteration 3, loss = 0.105, Jres = 0.03303, alpha = 0.02411, improvement_ratio = 0.9099\n",
      "Iteration 4, loss = 0.08234, Jres = 0.04806, alpha = 0.02009, improvement_ratio = 0.8831\n",
      "Iteration 5, loss = 0.06248, Jres = 0.05952, alpha = 0.01674, improvement_ratio = 0.9852\n",
      "Iteration 10, loss = 0.02979, Jres = 0.06324, alpha = 0.01163, improvement_ratio = 0.6267\n",
      "Iteration 20, loss = 0.02772, Jres = 0.006682, alpha = 17.29, improvement_ratio = 0.3309\n",
      "Iteration 30, loss = 0.02763, Jres = 0.0009015, alpha = 17.29, improvement_ratio = 0.6268\n",
      "Iteration 40, loss = 0.02758, Jres = 0.0007556, alpha = 4.022, improvement_ratio = 0.8446\n",
      "Iteration 50, loss = 0.02752, Jres = 0.001035, alpha = 11.04, improvement_ratio = 0.4563\n",
      "Iteration 60, loss = 0.02748, Jres = 0.0007283, alpha = 4.435, improvement_ratio = 0.8919\n",
      "Iteration 70, loss = 0.02742, Jres = 0.002638, alpha = 8.941, improvement_ratio = 0.1936\n",
      "Iteration 80, loss = 0.02738, Jres = 0.0007723, alpha = 8.941, improvement_ratio = 0.6994\n",
      "Iteration 90, loss = 0.02732, Jres = 0.0007511, alpha = 2.495, improvement_ratio = 0.7822\n",
      "Iteration 100, loss = 0.02726, Jres = 0.001465, alpha = 7.043, improvement_ratio = 0.3253\n"
     ]
    },
    {
     "data": {
      "application/vnd.jupyter.widget-view+json": {
       "model_id": "036cd36426994e0c9a94cf3e90c1ef01",
       "version_major": 2,
       "version_minor": 0
      },
      "text/plain": [
       "  0%|          | 0/150 [00:00<?, ?it/s]"
      ]
     },
     "metadata": {},
     "output_type": "display_data"
    },
    {
     "name": "stdout",
     "output_type": "stream",
     "text": [
      "Iteration 0, loss = 0.05452631138392669\n",
      "Iteration 66 Step Failed\n",
      "Iteration 115 Step Failed\n",
      "Iteration 116 Step Failed\n",
      "Iteration 122 Step Failed\n"
     ]
    },
    {
     "data": {
      "application/vnd.jupyter.widget-view+json": {
       "model_id": "5a4639b3199a4c8f84149ddea0037056",
       "version_major": 2,
       "version_minor": 0
      },
      "text/plain": [
       "  0%|          | 0/101 [00:00<?, ?it/s]"
      ]
     },
     "metadata": {},
     "output_type": "display_data"
    },
    {
     "name": "stdout",
     "output_type": "stream",
     "text": [
      "Iteration 0, loss = 1.113, Jres = 146.0, alpha = 0.04167, improvement_ratio = 0.9893\n",
      "Iteration 1, loss = 0.3493, Jres = 2.402, alpha = 0.03472, improvement_ratio = 0.8725\n",
      "Iteration 2, loss = 0.2432, Jres = 0.3277, alpha = 0.02894, improvement_ratio = 0.9764\n",
      "Iteration 3, loss = 0.1876, Jres = 0.09333, alpha = 0.02411, improvement_ratio = 0.9639\n",
      "Iteration 4, loss = 0.1506, Jres = 0.06836, alpha = 0.02009, improvement_ratio = 0.9258\n",
      "Iteration 5, loss = 0.1261, Jres = 0.08727, alpha = 0.01674, improvement_ratio = 0.8588\n",
      "Iteration 10, loss = 0.06475, Jres = 0.08189, alpha = 0.01163, improvement_ratio = 0.9492\n",
      "Iteration 20, loss = 0.0183, Jres = 0.007412, alpha = 0.001878, improvement_ratio = 1.009\n",
      "Iteration 30, loss = 0.009101, Jres = 0.003899, alpha = 0.0003033, improvement_ratio = 0.9923\n",
      "Iteration 40, loss = 0.004351, Jres = 0.03271, alpha = 0.0001016, improvement_ratio = 0.7079\n",
      "Iteration 50, loss = 0.001245, Jres = 0.00854, alpha = 1.969e-05, improvement_ratio = 0.8902\n",
      "Iteration 60, loss = 0.0004873, Jres = 0.003031, alpha = 9.494e-06, improvement_ratio = 0.9652\n",
      "Iteration 70, loss = 0.0003507, Jres = 0.0005799, alpha = 1.533e-06, improvement_ratio = 0.9087\n",
      "Iteration 80, loss = 0.0002142, Jres = 0.002855, alpha = 1e-06, improvement_ratio = 0.7309\n",
      "Iteration 90, loss = 0.0001488, Jres = 0.0004141, alpha = 8.333e-07, improvement_ratio = 0.9853\n",
      "Iteration 100, loss = 0.00012, Jres = 0.0001557, alpha = 8.333e-07, improvement_ratio = 0.9967\n"
     ]
    },
    {
     "data": {
      "application/vnd.jupyter.widget-view+json": {
       "model_id": "002e2a8d374540c5bb9b709bb6096b72",
       "version_major": 2,
       "version_minor": 0
      },
      "text/plain": [
       "  0%|          | 0/150 [00:00<?, ?it/s]"
      ]
     },
     "metadata": {},
     "output_type": "display_data"
    },
    {
     "name": "stdout",
     "output_type": "stream",
     "text": [
      "Iteration 0, loss = 0.0002399033894024942\n",
      "Iteration 100 Step Failed\n"
     ]
    },
    {
     "data": {
      "application/vnd.jupyter.widget-view+json": {
       "model_id": "a373fe2242aa47f396152c6032351e95",
       "version_major": 2,
       "version_minor": 0
      },
      "text/plain": [
       "  0%|          | 0/101 [00:00<?, ?it/s]"
      ]
     },
     "metadata": {},
     "output_type": "display_data"
    },
    {
     "name": "stdout",
     "output_type": "stream",
     "text": [
      "Iteration 0, loss = 5.552, Jres = 303.4, alpha = 0.04167, improvement_ratio = 0.9871\n",
      "Iteration 1, loss = 4.987, Jres = 11.39, alpha = 7.778, improvement_ratio = 0.1073\n",
      "Iteration 2, loss = 0.5093, Jres = 12.82, alpha = 6.482, improvement_ratio = 0.9604\n",
      "Iteration 3, loss = 0.3028, Jres = 1.528, alpha = 5.402, improvement_ratio = 1.009\n",
      "Iteration 4, loss = 0.2726, Jres = 0.1564, alpha = 4.501, improvement_ratio = 1.015\n",
      "Iteration 5, loss = 0.2542, Jres = 0.02944, alpha = 3.751, improvement_ratio = 1.02\n",
      "Iteration 10, loss = 0.1985, Jres = 0.008265, alpha = 1.508, improvement_ratio = 1.01\n",
      "Iteration 20, loss = 0.155, Jres = 0.006458, alpha = 0.2435, improvement_ratio = 1.01\n",
      "Iteration 30, loss = 0.1182, Jres = 0.003512, alpha = 0.03932, improvement_ratio = 1.003\n",
      "Iteration 40, loss = 0.0872, Jres = 0.01838, alpha = 0.006351, improvement_ratio = 1.002\n",
      "Iteration 50, loss = 0.07565, Jres = 0.001763, alpha = 0.001026, improvement_ratio = 1.012\n",
      "Iteration 60, loss = 0.0636, Jres = 0.003868, alpha = 0.0001657, improvement_ratio = 0.9975\n",
      "Iteration 70, loss = 0.05229, Jres = 0.00149, alpha = 2.675e-05, improvement_ratio = 1.007\n",
      "Iteration 80, loss = 0.04165, Jres = 0.005491, alpha = 4.321e-06, improvement_ratio = 0.9499\n",
      "Iteration 90, loss = 0.03536, Jres = 0.00508, alpha = 1.206e-06, improvement_ratio = 0.9638\n",
      "Iteration 100, loss = 0.03217, Jres = 0.0013, alpha = 8.333e-07, improvement_ratio = 0.9673\n"
     ]
    },
    {
     "data": {
      "application/vnd.jupyter.widget-view+json": {
       "model_id": "2f2aaec6289e43718d8004b9d68f0b3b",
       "version_major": 2,
       "version_minor": 0
      },
      "text/plain": [
       "  0%|          | 0/150 [00:00<?, ?it/s]"
      ]
     },
     "metadata": {},
     "output_type": "display_data"
    },
    {
     "name": "stdout",
     "output_type": "stream",
     "text": [
      "Iteration 0, loss = 0.0643409478535419\n",
      "Iteration 67 Step Failed\n"
     ]
    },
    {
     "data": {
      "application/vnd.jupyter.widget-view+json": {
       "model_id": "13e35619776645d598ce3f71f0a6025b",
       "version_major": 2,
       "version_minor": 0
      },
      "text/plain": [
       "  0%|          | 0/101 [00:00<?, ?it/s]"
      ]
     },
     "metadata": {},
     "output_type": "display_data"
    },
    {
     "name": "stdout",
     "output_type": "stream",
     "text": [
      "Iteration 0, loss = 1.515, Jres = 197.1, alpha = 0.04167, improvement_ratio = 0.9926\n",
      "Iteration 1, loss = 0.6125, Jres = 3.718, alpha = 0.04167, improvement_ratio = 0.635\n",
      "Iteration 2, loss = 0.1175, Jres = 1.869, alpha = 0.03472, improvement_ratio = 0.9685\n",
      "Iteration 3, loss = 0.09005, Jres = 0.2054, alpha = 0.02894, improvement_ratio = 1.017\n",
      "Iteration 4, loss = 0.08236, Jres = 0.01628, alpha = 0.02411, improvement_ratio = 1.054\n",
      "Iteration 5, loss = 0.07609, Jres = 0.009146, alpha = 0.02009, improvement_ratio = 1.048\n",
      "Iteration 10, loss = 0.05177, Jres = 0.006648, alpha = 0.008075, improvement_ratio = 1.099\n",
      "Iteration 20, loss = 0.03429, Jres = 0.007696, alpha = 0.001304, improvement_ratio = 0.946\n",
      "Iteration 30, loss = 0.02488, Jres = 0.001001, alpha = 0.0002528, improvement_ratio = 1.01\n",
      "Iteration 40, loss = 0.01988, Jres = 0.001585, alpha = 4.082e-05, improvement_ratio = 0.9992\n",
      "Iteration 50, loss = 0.01641, Jres = 0.001609, alpha = 7.912e-06, improvement_ratio = 0.969\n",
      "Iteration 60, loss = 0.01167, Jres = 0.01074, alpha = 1.278e-06, improvement_ratio = 0.8693\n",
      "Iteration 70, loss = 0.008763, Jres = 0.001189, alpha = 8.333e-07, improvement_ratio = 1.008\n",
      "Iteration 80, loss = 0.007431, Jres = 0.0003825, alpha = 8.333e-07, improvement_ratio = 1.007\n",
      "Iteration 90, loss = 0.006494, Jres = 0.0007027, alpha = 8.333e-07, improvement_ratio = 1.02\n",
      "Iteration 100, loss = 0.005906, Jres = 0.0005739, alpha = 7.937e-05, improvement_ratio = 0.5708\n"
     ]
    },
    {
     "data": {
      "application/vnd.jupyter.widget-view+json": {
       "model_id": "c8c2110606554c769c2aab311a207bab",
       "version_major": 2,
       "version_minor": 0
      },
      "text/plain": [
       "  0%|          | 0/150 [00:00<?, ?it/s]"
      ]
     },
     "metadata": {},
     "output_type": "display_data"
    },
    {
     "name": "stdout",
     "output_type": "stream",
     "text": [
      "Iteration 0, loss = 0.011811160723273692\n",
      "Iteration 53 Step Failed\n",
      "Iteration 56 Step Failed\n",
      "Iteration 92 Step Failed\n",
      "Iteration 113 Step Failed\n",
      "Iteration 115 Step Failed\n"
     ]
    },
    {
     "data": {
      "application/vnd.jupyter.widget-view+json": {
       "model_id": "8d0b56fd6b5248e9910b9ad502157ff7",
       "version_major": 2,
       "version_minor": 0
      },
      "text/plain": [
       "  0%|          | 0/101 [00:00<?, ?it/s]"
      ]
     },
     "metadata": {},
     "output_type": "display_data"
    },
    {
     "name": "stdout",
     "output_type": "stream",
     "text": [
      "Iteration 0, loss = 1.26, Jres = 126.9, alpha = 0.04167, improvement_ratio = 0.9865\n",
      "Iteration 1, loss = 0.2843, Jres = 2.949, alpha = 0.03472, improvement_ratio = 0.9475\n",
      "Iteration 2, loss = 0.2013, Jres = 0.1734, alpha = 0.02894, improvement_ratio = 1.034\n",
      "Iteration 3, loss = 0.1629, Jres = 0.08404, alpha = 0.02411, improvement_ratio = 1.012\n",
      "Iteration 4, loss = 0.1395, Jres = 0.01884, alpha = 0.02009, improvement_ratio = 1.026\n",
      "Iteration 5, loss = 0.1237, Jres = 0.01452, alpha = 0.01674, improvement_ratio = 1.07\n",
      "Iteration 10, loss = 0.1027, Jres = 0.003062, alpha = 0.006729, improvement_ratio = 1.001\n",
      "Iteration 20, loss = 0.08927, Jres = 0.00248, alpha = 0.001087, improvement_ratio = 1.004\n",
      "Iteration 30, loss = 0.059, Jres = 0.01934, alpha = 0.0001755, improvement_ratio = 1.074\n",
      "Iteration 40, loss = 0.03769, Jres = 0.003846, alpha = 0.2799, improvement_ratio = 0.1678\n",
      "Iteration 50, loss = 0.03766, Jres = 0.0005891, alpha = 0.6964, improvement_ratio = 0.2495\n",
      "Iteration 60, loss = 0.03765, Jres = 0.0001728, alpha = 0.6964, improvement_ratio = 0.6393\n",
      "Iteration 70, loss = 0.03765, Jres = 0.0001396, alpha = 0.1943, improvement_ratio = 0.895\n",
      "Iteration 80, loss = 0.03763, Jres = 0.00086, alpha = 0.6399, improvement_ratio = 0.2487\n",
      "Iteration 90, loss = 0.03763, Jres = 0.0001718, alpha = 0.6399, improvement_ratio = 0.621\n",
      "Iteration 100, loss = 0.03762, Jres = 0.0001324, alpha = 0.1786, improvement_ratio = 0.9039\n"
     ]
    },
    {
     "data": {
      "application/vnd.jupyter.widget-view+json": {
       "model_id": "24cbdcc90e364d599f98a1f25dc1947f",
       "version_major": 2,
       "version_minor": 0
      },
      "text/plain": [
       "  0%|          | 0/150 [00:00<?, ?it/s]"
      ]
     },
     "metadata": {},
     "output_type": "display_data"
    },
    {
     "name": "stdout",
     "output_type": "stream",
     "text": [
      "Iteration 0, loss = 0.07523683712360568\n",
      "Iteration 43 Step Failed\n",
      "Iteration 44 Step Failed\n",
      "Iteration 101 Step Failed\n",
      "Iteration 108 Step Failed\n",
      "Iteration 115 Step Failed\n",
      "Iteration 122 Step Failed\n"
     ]
    },
    {
     "data": {
      "application/vnd.jupyter.widget-view+json": {
       "model_id": "4f59cb6e35b846e49d5bf1060bcffa3e",
       "version_major": 2,
       "version_minor": 0
      },
      "text/plain": [
       "  0%|          | 0/101 [00:00<?, ?it/s]"
      ]
     },
     "metadata": {},
     "output_type": "display_data"
    },
    {
     "name": "stdout",
     "output_type": "stream",
     "text": [
      "Iteration 0, loss = 3.481e-05, Jres = 234.7, alpha = 0.04167, improvement_ratio = 1.0\n",
      "Iteration 1, loss = 2.072e-05, Jres = 0.0002972, alpha = 0.03472, improvement_ratio = 1.0\n",
      "Iteration 2, loss = 1.724e-05, Jres = 3.964e-05, alpha = 0.02894, improvement_ratio = 1.0\n",
      "Iteration 3, loss = 1.514e-05, Jres = 2.876e-05, alpha = 0.02411, improvement_ratio = 1.0\n",
      "Iteration 4, loss = 1.375e-05, Jres = 2.568e-05, alpha = 0.02009, improvement_ratio = 1.0\n",
      "Iteration 5, loss = 1.278e-05, Jres = 2.428e-05, alpha = 0.01674, improvement_ratio = 1.0\n",
      "Iteration 10, loss = 9.915e-06, Jres = 2.134e-05, alpha = 0.006729, improvement_ratio = 1.0\n",
      "Iteration 20, loss = 4.849e-06, Jres = 1.425e-05, alpha = 0.001087, improvement_ratio = 1.0\n",
      "Iteration 30, loss = 4.73e-07, Jres = 4.112e-06, alpha = 0.0001755, improvement_ratio = 1.0\n",
      "Iteration 40, loss = 3.156e-08, Jres = 2.356e-07, alpha = 2.835e-05, improvement_ratio = 1.0\n",
      "Iteration 50, loss = 5.596e-09, Jres = 2.286e-08, alpha = 4.579e-06, improvement_ratio = 1.0\n"
     ]
    },
    {
     "data": {
      "application/vnd.jupyter.widget-view+json": {
       "model_id": "34919262491d4630b4f7743d10581d23",
       "version_major": 2,
       "version_minor": 0
      },
      "text/plain": [
       "  0%|          | 0/150 [00:00<?, ?it/s]"
      ]
     },
     "metadata": {},
     "output_type": "display_data"
    },
    {
     "name": "stdout",
     "output_type": "stream",
     "text": [
      "Iteration 0, loss = 4.637055266643835e-09\n",
      "Iteration 1 Step Failed\n",
      "Iteration 2 Step Failed\n",
      "Iteration 4 Step Failed\n",
      "Iteration 5 Step Failed\n",
      "Iteration 6 Step Failed\n",
      "Iteration 7 Step Failed\n",
      "Iteration 9 Step Failed\n",
      "Iteration 11 Step Failed\n",
      "Iteration 12 Step Failed\n",
      "Iteration 13 Step Failed\n",
      "Iteration 14 Step Failed\n",
      "Iteration 15 Step Failed\n",
      "Iteration 16 Step Failed\n",
      "Iteration 17 Step Failed\n",
      "Iteration 18 Step Failed\n",
      "Iteration 19 Step Failed\n",
      "Iteration 20 Step Failed\n",
      "Iteration 21 Step Failed\n",
      "Iteration 22 Step Failed\n",
      "Iteration 23 Step Failed\n",
      "Iteration 24 Step Failed\n",
      "Iteration 26 Step Failed\n",
      "Iteration 27 Step Failed\n",
      "Iteration 28 Step Failed\n",
      "Iteration 29 Step Failed\n",
      "Iteration 31 Step Failed\n",
      "Iteration 32 Step Failed\n",
      "Iteration 33 Step Failed\n",
      "Iteration 34 Step Failed\n",
      "Iteration 35 Step Failed\n",
      "Converged by no improvement\n"
     ]
    },
    {
     "data": {
      "application/vnd.jupyter.widget-view+json": {
       "model_id": "54177249b3724c1798436fe7120684e2",
       "version_major": 2,
       "version_minor": 0
      },
      "text/plain": [
       "  0%|          | 0/101 [00:00<?, ?it/s]"
      ]
     },
     "metadata": {},
     "output_type": "display_data"
    },
    {
     "name": "stdout",
     "output_type": "stream",
     "text": [
      "Iteration 0, loss = 1.831e-05, Jres = 240.3, alpha = 0.04167, improvement_ratio = 1.0\n",
      "Iteration 1, loss = 1.023e-05, Jres = 0.0002716, alpha = 0.03472, improvement_ratio = 1.0\n",
      "Iteration 2, loss = 8.605e-06, Jres = 2.718e-05, alpha = 0.02894, improvement_ratio = 1.0\n",
      "Iteration 3, loss = 7.651e-06, Jres = 1.97e-05, alpha = 0.02411, improvement_ratio = 1.0\n",
      "Iteration 4, loss = 6.996e-06, Jres = 1.784e-05, alpha = 0.02009, improvement_ratio = 1.0\n",
      "Iteration 5, loss = 6.524e-06, Jres = 1.703e-05, alpha = 0.01674, improvement_ratio = 1.0\n",
      "Iteration 10, loss = 5.138e-06, Jres = 1.513e-05, alpha = 0.006729, improvement_ratio = 1.0\n",
      "Iteration 20, loss = 2.57e-06, Jres = 1.031e-05, alpha = 0.001087, improvement_ratio = 1.0\n",
      "Iteration 30, loss = 2.518e-07, Jres = 2.977e-06, alpha = 0.0001755, improvement_ratio = 1.0\n",
      "Iteration 40, loss = 1.894e-08, Jres = 1.697e-07, alpha = 2.835e-05, improvement_ratio = 1.0\n",
      "Iteration 50, loss = 3.902e-09, Jres = 1.693e-08, alpha = 4.579e-06, improvement_ratio = 1.0\n"
     ]
    },
    {
     "data": {
      "application/vnd.jupyter.widget-view+json": {
       "model_id": "69fd81211757449e827f6290cfe5d797",
       "version_major": 2,
       "version_minor": 0
      },
      "text/plain": [
       "  0%|          | 0/150 [00:00<?, ?it/s]"
      ]
     },
     "metadata": {},
     "output_type": "display_data"
    },
    {
     "name": "stdout",
     "output_type": "stream",
     "text": [
      "Iteration 0, loss = 4.339501554992113e-09\n",
      "Iteration 1 Step Failed\n",
      "Iteration 3 Step Failed\n",
      "Iteration 4 Step Failed\n",
      "Iteration 5 Step Failed\n",
      "Iteration 6 Step Failed\n",
      "Iteration 7 Step Failed\n",
      "Iteration 8 Step Failed\n",
      "Iteration 9 Step Failed\n",
      "Iteration 10 Step Failed\n",
      "Iteration 11 Step Failed\n",
      "Iteration 13 Step Failed\n",
      "Iteration 14 Step Failed\n",
      "Iteration 15 Step Failed\n",
      "Iteration 16 Step Failed\n",
      "Iteration 17 Step Failed\n",
      "Iteration 18 Step Failed\n",
      "Iteration 19 Step Failed\n",
      "Iteration 20 Step Failed\n",
      "Iteration 21 Step Failed\n",
      "Iteration 22 Step Failed\n",
      "Iteration 23 Step Failed\n",
      "Iteration 24 Step Failed\n",
      "Iteration 25 Step Failed\n",
      "Converged by no improvement\n"
     ]
    },
    {
     "data": {
      "application/vnd.jupyter.widget-view+json": {
       "model_id": "b046b346a6f3446ab0ce8715bbf10395",
       "version_major": 2,
       "version_minor": 0
      },
      "text/plain": [
       "  0%|          | 0/101 [00:00<?, ?it/s]"
      ]
     },
     "metadata": {},
     "output_type": "display_data"
    },
    {
     "name": "stdout",
     "output_type": "stream",
     "text": [
      "Iteration 0, loss = 9.477e-06, Jres = 73.76, alpha = 0.04167, improvement_ratio = 1.0\n",
      "Iteration 1, loss = 5.808e-06, Jres = 8.631e-05, alpha = 0.03472, improvement_ratio = 1.0\n",
      "Iteration 2, loss = 4.666e-06, Jres = 1.992e-05, alpha = 0.02894, improvement_ratio = 1.0\n",
      "Iteration 3, loss = 4.003e-06, Jres = 1.487e-05, alpha = 0.02411, improvement_ratio = 1.0\n",
      "Iteration 4, loss = 3.584e-06, Jres = 1.317e-05, alpha = 0.02009, improvement_ratio = 1.0\n",
      "Iteration 5, loss = 3.298e-06, Jres = 1.235e-05, alpha = 0.01674, improvement_ratio = 1.0\n",
      "Iteration 10, loss = 2.417e-06, Jres = 1.067e-05, alpha = 0.006729, improvement_ratio = 1.0\n",
      "Iteration 20, loss = 1.104e-06, Jres = 6.826e-06, alpha = 0.001087, improvement_ratio = 1.0\n",
      "Iteration 30, loss = 1.267e-07, Jres = 1.997e-06, alpha = 0.0001755, improvement_ratio = 1.0\n",
      "Iteration 40, loss = 1.637e-08, Jres = 1.359e-07, alpha = 2.835e-05, improvement_ratio = 1.0\n",
      "Iteration 50, loss = 2.204e-09, Jres = 1.508e-08, alpha = 4.579e-06, improvement_ratio = 1.0\n"
     ]
    },
    {
     "data": {
      "application/vnd.jupyter.widget-view+json": {
       "model_id": "699ba37a290046bd9b2fd6e8d7ff6e96",
       "version_major": 2,
       "version_minor": 0
      },
      "text/plain": [
       "  0%|          | 0/150 [00:00<?, ?it/s]"
      ]
     },
     "metadata": {},
     "output_type": "display_data"
    },
    {
     "name": "stdout",
     "output_type": "stream",
     "text": [
      "Iteration 0, loss = 2.838846367659506e-09\n",
      "Iteration 0 Step Failed\n",
      "Iteration 4 Step Failed\n",
      "Iteration 6 Step Failed\n",
      "Iteration 7 Step Failed\n",
      "Iteration 8 Step Failed\n",
      "Iteration 9 Step Failed\n",
      "Iteration 10 Step Failed\n",
      "Iteration 11 Step Failed\n",
      "Iteration 12 Step Failed\n",
      "Iteration 13 Step Failed\n",
      "Iteration 14 Step Failed\n",
      "Iteration 15 Step Failed\n",
      "Iteration 16 Step Failed\n",
      "Iteration 17 Step Failed\n",
      "Iteration 18 Step Failed\n",
      "Iteration 19 Step Failed\n",
      "Iteration 20 Step Failed\n",
      "Iteration 21 Step Failed\n",
      "Iteration 22 Step Failed\n",
      "Iteration 23 Step Failed\n",
      "Iteration 24 Step Failed\n",
      "Iteration 25 Step Failed\n",
      "Converged by no improvement\n"
     ]
    },
    {
     "data": {
      "application/vnd.jupyter.widget-view+json": {
       "model_id": "6034795114644fa995c0f20610f10a20",
       "version_major": 2,
       "version_minor": 0
      },
      "text/plain": [
       "  0%|          | 0/101 [00:00<?, ?it/s]"
      ]
     },
     "metadata": {},
     "output_type": "display_data"
    },
    {
     "name": "stdout",
     "output_type": "stream",
     "text": [
      "Iteration 0, loss = 8.354e-05, Jres = 105.4, alpha = 0.04167, improvement_ratio = 1.0\n",
      "Iteration 1, loss = 5.326e-05, Jres = 0.00032, alpha = 0.03472, improvement_ratio = 1.0\n",
      "Iteration 2, loss = 4.396e-05, Jres = 6.343e-05, alpha = 0.02894, improvement_ratio = 1.0\n",
      "Iteration 3, loss = 3.832e-05, Jres = 4.714e-05, alpha = 0.02411, improvement_ratio = 1.0\n",
      "Iteration 4, loss = 3.467e-05, Jres = 4.188e-05, alpha = 0.02009, improvement_ratio = 1.0\n",
      "Iteration 5, loss = 3.215e-05, Jres = 3.938e-05, alpha = 0.01674, improvement_ratio = 1.0\n",
      "Iteration 10, loss = 2.409e-05, Jres = 3.408e-05, alpha = 0.006729, improvement_ratio = 1.0\n",
      "Iteration 20, loss = 1.109e-05, Jres = 2.183e-05, alpha = 0.001087, improvement_ratio = 1.0\n",
      "Iteration 30, loss = 1.074e-06, Jres = 6.291e-06, alpha = 0.0001755, improvement_ratio = 1.0\n",
      "Iteration 40, loss = 8.448e-08, Jres = 3.756e-07, alpha = 2.835e-05, improvement_ratio = 1.0\n",
      "Iteration 50, loss = 1.095e-08, Jres = 4.229e-08, alpha = 4.579e-06, improvement_ratio = 1.0\n"
     ]
    },
    {
     "data": {
      "application/vnd.jupyter.widget-view+json": {
       "model_id": "94a5ee772203460e8be2c1a96cd29229",
       "version_major": 2,
       "version_minor": 0
      },
      "text/plain": [
       "  0%|          | 0/150 [00:00<?, ?it/s]"
      ]
     },
     "metadata": {},
     "output_type": "display_data"
    },
    {
     "name": "stdout",
     "output_type": "stream",
     "text": [
      "Iteration 0, loss = 4.821676585450315e-09\n",
      "Iteration 2 Step Failed\n",
      "Iteration 3 Step Failed\n",
      "Iteration 4 Step Failed\n",
      "Iteration 5 Step Failed\n",
      "Iteration 6 Step Failed\n",
      "Iteration 7 Step Failed\n",
      "Iteration 8 Step Failed\n",
      "Iteration 10 Step Failed\n",
      "Iteration 11 Step Failed\n",
      "Iteration 12 Step Failed\n",
      "Iteration 13 Step Failed\n",
      "Iteration 14 Step Failed\n",
      "Iteration 15 Step Failed\n",
      "Iteration 16 Step Failed\n",
      "Iteration 17 Step Failed\n",
      "Iteration 18 Step Failed\n",
      "Iteration 19 Step Failed\n",
      "Iteration 20 Step Failed\n",
      "Iteration 21 Step Failed\n",
      "Iteration 22 Step Failed\n",
      "Iteration 23 Step Failed\n",
      "Iteration 24 Step Failed\n",
      "Iteration 25 Step Failed\n",
      "Converged by no improvement\n"
     ]
    },
    {
     "data": {
      "application/vnd.jupyter.widget-view+json": {
       "model_id": "affde89abeab47cfa11be279228802b5",
       "version_major": 2,
       "version_minor": 0
      },
      "text/plain": [
       "  0%|          | 0/101 [00:00<?, ?it/s]"
      ]
     },
     "metadata": {},
     "output_type": "display_data"
    },
    {
     "name": "stdout",
     "output_type": "stream",
     "text": [
      "Iteration 0, loss = 4.031e-06, Jres = 154.2, alpha = 0.04167, improvement_ratio = 1.0\n",
      "Iteration 1, loss = 2.31e-06, Jres = 9.786e-05, alpha = 0.03472, improvement_ratio = 1.0\n",
      "Iteration 2, loss = 1.881e-06, Jres = 1.299e-05, alpha = 0.02894, improvement_ratio = 1.0\n",
      "Iteration 3, loss = 1.626e-06, Jres = 9.214e-06, alpha = 0.02411, improvement_ratio = 1.0\n",
      "Iteration 4, loss = 1.458e-06, Jres = 8.115e-06, alpha = 0.02009, improvement_ratio = 1.0\n",
      "Iteration 5, loss = 1.343e-06, Jres = 7.614e-06, alpha = 0.01674, improvement_ratio = 1.0\n",
      "Iteration 10, loss = 1.049e-06, Jres = 6.722e-06, alpha = 0.006729, improvement_ratio = 1.0\n",
      "Iteration 20, loss = 5.303e-07, Jres = 4.646e-06, alpha = 0.001087, improvement_ratio = 1.0\n",
      "Iteration 30, loss = 5.7e-08, Jres = 1.352e-06, alpha = 0.0001755, improvement_ratio = 1.0\n",
      "Iteration 40, loss = 5.655e-09, Jres = 8.311e-08, alpha = 2.835e-05, improvement_ratio = 1.0\n"
     ]
    },
    {
     "data": {
      "application/vnd.jupyter.widget-view+json": {
       "model_id": "99bd2f16a70e462eb29e9de51a1b8ef3",
       "version_major": 2,
       "version_minor": 0
      },
      "text/plain": [
       "  0%|          | 0/150 [00:00<?, ?it/s]"
      ]
     },
     "metadata": {},
     "output_type": "display_data"
    },
    {
     "name": "stdout",
     "output_type": "stream",
     "text": [
      "Iteration 0, loss = 2.3524809992303056e-09\n",
      "Iteration 132 Step Failed\n",
      "Iteration 133 Step Failed\n",
      "Iteration 135 Step Failed\n",
      "Converged by no improvement\n"
     ]
    },
    {
     "data": {
      "application/vnd.jupyter.widget-view+json": {
       "model_id": "306bf123a5824e8ebb9a84ff1040b567",
       "version_major": 2,
       "version_minor": 0
      },
      "text/plain": [
       "  0%|          | 0/101 [00:00<?, ?it/s]"
      ]
     },
     "metadata": {},
     "output_type": "display_data"
    },
    {
     "name": "stdout",
     "output_type": "stream",
     "text": [
      "Iteration 0, loss = 1.3e-06, Jres = 122.3, alpha = 0.04167, improvement_ratio = 1.0\n",
      "Iteration 1, loss = 6.654e-07, Jres = 2.705e-05, alpha = 0.03472, improvement_ratio = 1.0\n",
      "Iteration 2, loss = 4.727e-07, Jres = 6.604e-06, alpha = 0.02894, improvement_ratio = 1.0\n",
      "Iteration 3, loss = 3.698e-07, Jres = 4.73e-06, alpha = 0.02411, improvement_ratio = 1.0\n",
      "Iteration 4, loss = 3.112e-07, Jres = 3.923e-06, alpha = 0.02009, improvement_ratio = 1.0\n",
      "Iteration 5, loss = 2.761e-07, Jres = 3.515e-06, alpha = 0.01674, improvement_ratio = 1.0\n",
      "Iteration 10, loss = 1.894e-07, Jres = 2.922e-06, alpha = 0.006729, improvement_ratio = 1.0\n",
      "Iteration 20, loss = 8.459e-08, Jres = 1.782e-06, alpha = 0.001087, improvement_ratio = 1.0\n",
      "Iteration 30, loss = 8.908e-09, Jres = 4.983e-07, alpha = 0.0001755, improvement_ratio = 1.0\n",
      "Iteration 40, loss = 1.465e-09, Jres = 1.886e-08, alpha = 2.835e-05, improvement_ratio = 1.0\n"
     ]
    },
    {
     "data": {
      "application/vnd.jupyter.widget-view+json": {
       "model_id": "9a5a133314824d58bcf3c5bd714fbffe",
       "version_major": 2,
       "version_minor": 0
      },
      "text/plain": [
       "  0%|          | 0/150 [00:00<?, ?it/s]"
      ]
     },
     "metadata": {},
     "output_type": "display_data"
    },
    {
     "name": "stdout",
     "output_type": "stream",
     "text": [
      "Iteration 0, loss = 2.1105578355956968e-09\n",
      "Iteration 7 Step Failed\n",
      "Iteration 144 Step Failed\n",
      "Iteration 145 Step Failed\n",
      "Iteration 146 Step Failed\n",
      "Iteration 147 Step Failed\n",
      "Iteration 148 Step Failed\n",
      "Converged by no improvement\n"
     ]
    },
    {
     "data": {
      "application/vnd.jupyter.widget-view+json": {
       "model_id": "9f13fbc1cc8c42b0b5b7150dfbb6d4e6",
       "version_major": 2,
       "version_minor": 0
      },
      "text/plain": [
       "  0%|          | 0/101 [00:00<?, ?it/s]"
      ]
     },
     "metadata": {},
     "output_type": "display_data"
    },
    {
     "name": "stdout",
     "output_type": "stream",
     "text": [
      "Iteration 0, loss = 7.38e-05, Jres = 129.8, alpha = 0.04167, improvement_ratio = 1.0\n",
      "Iteration 1, loss = 4.609e-05, Jres = 0.0003146, alpha = 0.03472, improvement_ratio = 1.0\n",
      "Iteration 2, loss = 3.785e-05, Jres = 5.891e-05, alpha = 0.02894, improvement_ratio = 1.0\n",
      "Iteration 3, loss = 3.291e-05, Jres = 4.339e-05, alpha = 0.02411, improvement_ratio = 1.0\n",
      "Iteration 4, loss = 2.974e-05, Jres = 3.846e-05, alpha = 0.02009, improvement_ratio = 1.0\n",
      "Iteration 5, loss = 2.758e-05, Jres = 3.615e-05, alpha = 0.01674, improvement_ratio = 1.0\n",
      "Iteration 10, loss = 2.097e-05, Jres = 3.154e-05, alpha = 0.006729, improvement_ratio = 1.0\n",
      "Iteration 20, loss = 9.931e-06, Jres = 2.056e-05, alpha = 0.001087, improvement_ratio = 1.0\n",
      "Iteration 30, loss = 9.837e-07, Jres = 5.953e-06, alpha = 0.0001755, improvement_ratio = 1.0\n",
      "Iteration 40, loss = 8.332e-08, Jres = 3.615e-07, alpha = 2.835e-05, improvement_ratio = 1.0\n",
      "Iteration 50, loss = 1.154e-08, Jres = 3.876e-08, alpha = 4.579e-06, improvement_ratio = 1.0\n"
     ]
    },
    {
     "data": {
      "application/vnd.jupyter.widget-view+json": {
       "model_id": "38b898606c8c4fb4aed7e7a92c18c18c",
       "version_major": 2,
       "version_minor": 0
      },
      "text/plain": [
       "  0%|          | 0/150 [00:00<?, ?it/s]"
      ]
     },
     "metadata": {},
     "output_type": "display_data"
    },
    {
     "name": "stdout",
     "output_type": "stream",
     "text": [
      "Iteration 0, loss = 5.0609275275845e-09\n",
      "Iteration 1 Step Failed\n",
      "Iteration 2 Step Failed\n",
      "Iteration 3 Step Failed\n",
      "Iteration 4 Step Failed\n",
      "Iteration 5 Step Failed\n",
      "Iteration 6 Step Failed\n",
      "Iteration 7 Step Failed\n",
      "Iteration 8 Step Failed\n",
      "Iteration 9 Step Failed\n",
      "Iteration 10 Step Failed\n",
      "Iteration 12 Step Failed\n",
      "Iteration 13 Step Failed\n",
      "Iteration 14 Step Failed\n",
      "Iteration 15 Step Failed\n",
      "Iteration 16 Step Failed\n",
      "Iteration 17 Step Failed\n",
      "Iteration 18 Step Failed\n",
      "Iteration 19 Step Failed\n",
      "Iteration 20 Step Failed\n",
      "Iteration 21 Step Failed\n",
      "Iteration 23 Step Failed\n",
      "Iteration 24 Step Failed\n",
      "Iteration 25 Step Failed\n",
      "Converged by no improvement\n"
     ]
    },
    {
     "data": {
      "application/vnd.jupyter.widget-view+json": {
       "model_id": "998736eb80734c72bdd97c3d94349231",
       "version_major": 2,
       "version_minor": 0
      },
      "text/plain": [
       "  0%|          | 0/101 [00:00<?, ?it/s]"
      ]
     },
     "metadata": {},
     "output_type": "display_data"
    },
    {
     "name": "stdout",
     "output_type": "stream",
     "text": [
      "Iteration 0, loss = 1.307e-05, Jres = 99.28, alpha = 0.04167, improvement_ratio = 1.0\n",
      "Iteration 1, loss = 7.898e-06, Jres = 0.0001055, alpha = 0.03472, improvement_ratio = 1.0\n",
      "Iteration 2, loss = 6.277e-06, Jres = 2.388e-05, alpha = 0.02894, improvement_ratio = 1.0\n",
      "Iteration 3, loss = 5.331e-06, Jres = 1.752e-05, alpha = 0.02411, improvement_ratio = 1.0\n",
      "Iteration 4, loss = 4.742e-06, Jres = 1.534e-05, alpha = 0.02009, improvement_ratio = 1.0\n",
      "Iteration 5, loss = 4.355e-06, Jres = 1.43e-05, alpha = 0.01674, improvement_ratio = 1.0\n",
      "Iteration 10, loss = 3.252e-06, Jres = 1.242e-05, alpha = 0.006729, improvement_ratio = 1.0\n",
      "Iteration 20, loss = 1.512e-06, Jres = 8.043e-06, alpha = 0.001087, improvement_ratio = 1.0\n",
      "Iteration 30, loss = 1.35e-07, Jres = 2.286e-06, alpha = 0.0001755, improvement_ratio = 1.0\n",
      "Iteration 40, loss = 8.936e-09, Jres = 1.124e-07, alpha = 2.835e-05, improvement_ratio = 1.0\n"
     ]
    },
    {
     "data": {
      "application/vnd.jupyter.widget-view+json": {
       "model_id": "b0693dd40b06437880470f63c3f9c762",
       "version_major": 2,
       "version_minor": 0
      },
      "text/plain": [
       "  0%|          | 0/150 [00:00<?, ?it/s]"
      ]
     },
     "metadata": {},
     "output_type": "display_data"
    },
    {
     "name": "stdout",
     "output_type": "stream",
     "text": [
      "Iteration 0, loss = 3.2787572623496195e-09\n",
      "Iteration 1 Step Failed\n",
      "Iteration 5 Step Failed\n",
      "Iteration 6 Step Failed\n",
      "Iteration 7 Step Failed\n",
      "Iteration 8 Step Failed\n",
      "Iteration 10 Step Failed\n",
      "Iteration 12 Step Failed\n",
      "Iteration 13 Step Failed\n",
      "Iteration 14 Step Failed\n",
      "Iteration 15 Step Failed\n",
      "Iteration 16 Step Failed\n",
      "Iteration 17 Step Failed\n",
      "Iteration 18 Step Failed\n",
      "Iteration 20 Step Failed\n",
      "Iteration 21 Step Failed\n",
      "Iteration 23 Step Failed\n",
      "Iteration 24 Step Failed\n",
      "Iteration 25 Step Failed\n",
      "Converged by no improvement\n"
     ]
    },
    {
     "data": {
      "application/vnd.jupyter.widget-view+json": {
       "model_id": "a384cff757624cdeaae2cc059be0d4ea",
       "version_major": 2,
       "version_minor": 0
      },
      "text/plain": [
       "  0%|          | 0/101 [00:00<?, ?it/s]"
      ]
     },
     "metadata": {},
     "output_type": "display_data"
    },
    {
     "name": "stdout",
     "output_type": "stream",
     "text": [
      "Iteration 0, loss = 4.846e-05, Jres = 126.3, alpha = 0.04167, improvement_ratio = 1.0\n",
      "Iteration 1, loss = 3.075e-05, Jres = 0.0002175, alpha = 0.03472, improvement_ratio = 1.0\n",
      "Iteration 2, loss = 2.519e-05, Jres = 4.76e-05, alpha = 0.02894, improvement_ratio = 1.0\n",
      "Iteration 3, loss = 2.184e-05, Jres = 3.544e-05, alpha = 0.02411, improvement_ratio = 1.0\n",
      "Iteration 4, loss = 1.969e-05, Jres = 3.143e-05, alpha = 0.02009, improvement_ratio = 1.0\n",
      "Iteration 5, loss = 1.821e-05, Jres = 2.951e-05, alpha = 0.01674, improvement_ratio = 1.0\n",
      "Iteration 10, loss = 1.347e-05, Jres = 2.547e-05, alpha = 0.006729, improvement_ratio = 1.0\n",
      "Iteration 20, loss = 6.027e-06, Jres = 1.613e-05, alpha = 0.001087, improvement_ratio = 1.0\n",
      "Iteration 30, loss = 5.669e-07, Jres = 4.614e-06, alpha = 0.0001755, improvement_ratio = 1.0\n",
      "Iteration 40, loss = 3.87e-08, Jres = 2.547e-07, alpha = 2.835e-05, improvement_ratio = 1.0\n",
      "Iteration 50, loss = 4.879e-09, Jres = 2.192e-08, alpha = 4.579e-06, improvement_ratio = 1.0\n"
     ]
    },
    {
     "data": {
      "application/vnd.jupyter.widget-view+json": {
       "model_id": "644b06a86d924eb08d919556af281056",
       "version_major": 2,
       "version_minor": 0
      },
      "text/plain": [
       "  0%|          | 0/150 [00:00<?, ?it/s]"
      ]
     },
     "metadata": {},
     "output_type": "display_data"
    },
    {
     "name": "stdout",
     "output_type": "stream",
     "text": [
      "Iteration 0, loss = 4.55882345136132e-09\n",
      "Iteration 1 Step Failed\n",
      "Iteration 5 Step Failed\n",
      "Iteration 6 Step Failed\n",
      "Iteration 7 Step Failed\n",
      "Iteration 8 Step Failed\n",
      "Iteration 9 Step Failed\n",
      "Iteration 10 Step Failed\n",
      "Iteration 11 Step Failed\n",
      "Iteration 12 Step Failed\n",
      "Iteration 13 Step Failed\n",
      "Iteration 14 Step Failed\n",
      "Iteration 15 Step Failed\n",
      "Iteration 16 Step Failed\n",
      "Iteration 17 Step Failed\n",
      "Iteration 18 Step Failed\n",
      "Iteration 19 Step Failed\n",
      "Iteration 20 Step Failed\n",
      "Iteration 21 Step Failed\n",
      "Iteration 22 Step Failed\n",
      "Iteration 23 Step Failed\n",
      "Iteration 24 Step Failed\n",
      "Iteration 25 Step Failed\n",
      "Converged by no improvement\n"
     ]
    },
    {
     "data": {
      "application/vnd.jupyter.widget-view+json": {
       "model_id": "e0422c00c4f943be94f6489adcb9ec1f",
       "version_major": 2,
       "version_minor": 0
      },
      "text/plain": [
       "  0%|          | 0/101 [00:00<?, ?it/s]"
      ]
     },
     "metadata": {},
     "output_type": "display_data"
    },
    {
     "name": "stdout",
     "output_type": "stream",
     "text": [
      "Iteration 0, loss = 1.245e-06, Jres = 114.2, alpha = 0.04167, improvement_ratio = 1.0\n",
      "Iteration 1, loss = 4.929e-07, Jres = 5.644e-05, alpha = 0.03472, improvement_ratio = 1.0\n",
      "Iteration 2, loss = 3.066e-07, Jres = 4.889e-06, alpha = 0.02894, improvement_ratio = 1.0\n",
      "Iteration 3, loss = 2.137e-07, Jres = 3.354e-06, alpha = 0.02411, improvement_ratio = 1.0\n",
      "Iteration 4, loss = 1.624e-07, Jres = 2.553e-06, alpha = 0.02009, improvement_ratio = 1.0\n",
      "Iteration 5, loss = 1.326e-07, Jres = 2.101e-06, alpha = 0.01674, improvement_ratio = 1.0\n",
      "Iteration 10, loss = 7.45e-08, Jres = 1.592e-06, alpha = 0.006729, improvement_ratio = 1.0\n",
      "Iteration 20, loss = 3.01e-08, Jres = 9.022e-07, alpha = 0.001087, improvement_ratio = 1.0\n",
      "Iteration 30, loss = 5.133e-09, Jres = 2.507e-07, alpha = 0.0001755, improvement_ratio = 1.0\n"
     ]
    },
    {
     "data": {
      "application/vnd.jupyter.widget-view+json": {
       "model_id": "52e8894a3d4f4c1aa7e033732cb62b84",
       "version_major": 2,
       "version_minor": 0
      },
      "text/plain": [
       "  0%|          | 0/150 [00:00<?, ?it/s]"
      ]
     },
     "metadata": {},
     "output_type": "display_data"
    },
    {
     "name": "stdout",
     "output_type": "stream",
     "text": [
      "Iteration 0, loss = 2.779432336861984e-09\n",
      "Iteration 129 Step Failed\n",
      "Iteration 130 Step Failed\n",
      "Iteration 131 Step Failed\n",
      "Iteration 132 Step Failed\n",
      "Iteration 133 Step Failed\n",
      "Iteration 134 Step Failed\n",
      "Converged by no improvement\n"
     ]
    },
    {
     "data": {
      "application/vnd.jupyter.widget-view+json": {
       "model_id": "a3b818d3a7554a45adc059073c692a15",
       "version_major": 2,
       "version_minor": 0
      },
      "text/plain": [
       "  0%|          | 0/101 [00:00<?, ?it/s]"
      ]
     },
     "metadata": {},
     "output_type": "display_data"
    },
    {
     "name": "stdout",
     "output_type": "stream",
     "text": [
      "Iteration 0, loss = 4.318e-05, Jres = 104.6, alpha = 0.04167, improvement_ratio = 1.0\n",
      "Iteration 1, loss = 2.769e-05, Jres = 0.0001924, alpha = 0.03472, improvement_ratio = 1.0\n",
      "Iteration 2, loss = 2.265e-05, Jres = 4.556e-05, alpha = 0.02894, improvement_ratio = 1.0\n",
      "Iteration 3, loss = 1.96e-05, Jres = 3.392e-05, alpha = 0.02411, improvement_ratio = 1.0\n",
      "Iteration 4, loss = 1.765e-05, Jres = 2.996e-05, alpha = 0.02009, improvement_ratio = 1.0\n",
      "Iteration 5, loss = 1.632e-05, Jres = 2.805e-05, alpha = 0.01674, improvement_ratio = 1.0\n",
      "Iteration 10, loss = 1.21e-05, Jres = 2.418e-05, alpha = 0.006729, improvement_ratio = 1.0\n",
      "Iteration 20, loss = 5.456e-06, Jres = 1.534e-05, alpha = 0.001087, improvement_ratio = 1.0\n",
      "Iteration 30, loss = 5.252e-07, Jres = 4.416e-06, alpha = 0.0001755, improvement_ratio = 1.0\n",
      "Iteration 40, loss = 3.834e-08, Jres = 2.581e-07, alpha = 2.835e-05, improvement_ratio = 1.0\n",
      "Iteration 50, loss = 4.802e-09, Jres = 2.52e-08, alpha = 4.579e-06, improvement_ratio = 1.0\n"
     ]
    },
    {
     "data": {
      "application/vnd.jupyter.widget-view+json": {
       "model_id": "e7475320541845638885da54d40b6e3e",
       "version_major": 2,
       "version_minor": 0
      },
      "text/plain": [
       "  0%|          | 0/150 [00:00<?, ?it/s]"
      ]
     },
     "metadata": {},
     "output_type": "display_data"
    },
    {
     "name": "stdout",
     "output_type": "stream",
     "text": [
      "Iteration 0, loss = 3.810610188861697e-09\n",
      "Iteration 0 Step Failed\n",
      "Iteration 1 Step Failed\n",
      "Iteration 2 Step Failed\n",
      "Iteration 4 Step Failed\n",
      "Iteration 5 Step Failed\n",
      "Iteration 6 Step Failed\n",
      "Iteration 7 Step Failed\n",
      "Iteration 8 Step Failed\n",
      "Iteration 9 Step Failed\n",
      "Iteration 10 Step Failed\n",
      "Iteration 12 Step Failed\n",
      "Iteration 13 Step Failed\n",
      "Iteration 14 Step Failed\n",
      "Iteration 15 Step Failed\n",
      "Iteration 16 Step Failed\n",
      "Iteration 18 Step Failed\n",
      "Iteration 19 Step Failed\n",
      "Iteration 20 Step Failed\n",
      "Iteration 21 Step Failed\n",
      "Iteration 23 Step Failed\n",
      "Iteration 24 Step Failed\n",
      "Iteration 25 Step Failed\n",
      "Converged by no improvement\n"
     ]
    },
    {
     "data": {
      "application/vnd.jupyter.widget-view+json": {
       "model_id": "ab4a1efc7809474da3f27f81240790f2",
       "version_major": 2,
       "version_minor": 0
      },
      "text/plain": [
       "  0%|          | 0/101 [00:00<?, ?it/s]"
      ]
     },
     "metadata": {},
     "output_type": "display_data"
    },
    {
     "name": "stdout",
     "output_type": "stream",
     "text": [
      "Iteration 0, loss = 2.999e-05, Jres = 146.0, alpha = 0.04167, improvement_ratio = 1.0\n",
      "Iteration 1, loss = 1.838e-05, Jres = 0.0002174, alpha = 0.03472, improvement_ratio = 1.0\n",
      "Iteration 2, loss = 1.511e-05, Jres = 3.639e-05, alpha = 0.02894, improvement_ratio = 1.0\n",
      "Iteration 3, loss = 1.317e-05, Jres = 2.708e-05, alpha = 0.02411, improvement_ratio = 1.0\n",
      "Iteration 4, loss = 1.19e-05, Jres = 2.423e-05, alpha = 0.02009, improvement_ratio = 1.0\n",
      "Iteration 5, loss = 1.1e-05, Jres = 2.287e-05, alpha = 0.01674, improvement_ratio = 1.0\n",
      "Iteration 10, loss = 8.14e-06, Jres = 1.975e-05, alpha = 0.006729, improvement_ratio = 1.0\n",
      "Iteration 20, loss = 3.685e-06, Jres = 1.255e-05, alpha = 0.001087, improvement_ratio = 1.0\n",
      "Iteration 30, loss = 3.429e-07, Jres = 3.567e-06, alpha = 0.0001755, improvement_ratio = 1.0\n",
      "Iteration 40, loss = 2.749e-08, Jres = 1.889e-07, alpha = 2.835e-05, improvement_ratio = 1.0\n",
      "Iteration 50, loss = 4.475e-09, Jres = 1.676e-08, alpha = 4.579e-06, improvement_ratio = 1.0\n"
     ]
    },
    {
     "data": {
      "application/vnd.jupyter.widget-view+json": {
       "model_id": "4bb5fef7135d47af98c047229a8737e6",
       "version_major": 2,
       "version_minor": 0
      },
      "text/plain": [
       "  0%|          | 0/150 [00:00<?, ?it/s]"
      ]
     },
     "metadata": {},
     "output_type": "display_data"
    },
    {
     "name": "stdout",
     "output_type": "stream",
     "text": [
      "Iteration 0, loss = 5.9246754254016595e-09\n",
      "Iteration 0 Step Failed\n",
      "Iteration 1 Step Failed\n",
      "Iteration 3 Step Failed\n",
      "Iteration 4 Step Failed\n",
      "Iteration 5 Step Failed\n",
      "Iteration 6 Step Failed\n",
      "Iteration 7 Step Failed\n",
      "Iteration 8 Step Failed\n",
      "Iteration 10 Step Failed\n",
      "Iteration 11 Step Failed\n",
      "Iteration 12 Step Failed\n",
      "Iteration 13 Step Failed\n",
      "Iteration 14 Step Failed\n",
      "Iteration 15 Step Failed\n",
      "Iteration 16 Step Failed\n",
      "Iteration 17 Step Failed\n",
      "Iteration 18 Step Failed\n",
      "Iteration 20 Step Failed\n",
      "Iteration 21 Step Failed\n",
      "Iteration 22 Step Failed\n",
      "Iteration 23 Step Failed\n",
      "Iteration 24 Step Failed\n",
      "Iteration 25 Step Failed\n",
      "Converged by no improvement\n"
     ]
    },
    {
     "data": {
      "application/vnd.jupyter.widget-view+json": {
       "model_id": "7076d7978c2b4ddaaff2ecc978aa5fd3",
       "version_major": 2,
       "version_minor": 0
      },
      "text/plain": [
       "  0%|          | 0/101 [00:00<?, ?it/s]"
      ]
     },
     "metadata": {},
     "output_type": "display_data"
    },
    {
     "name": "stdout",
     "output_type": "stream",
     "text": [
      "Iteration 0, loss = 9.74e-05, Jres = 303.5, alpha = 0.04167, improvement_ratio = 1.0\n",
      "Iteration 1, loss = 5.955e-05, Jres = 0.0004538, alpha = 0.03472, improvement_ratio = 1.0\n",
      "Iteration 2, loss = 4.945e-05, Jres = 6.745e-05, alpha = 0.02894, improvement_ratio = 1.0\n",
      "Iteration 3, loss = 4.332e-05, Jres = 4.923e-05, alpha = 0.02411, improvement_ratio = 1.0\n",
      "Iteration 4, loss = 3.929e-05, Jres = 4.382e-05, alpha = 0.02009, improvement_ratio = 1.0\n",
      "Iteration 5, loss = 3.653e-05, Jres = 4.134e-05, alpha = 0.01674, improvement_ratio = 1.0\n",
      "Iteration 10, loss = 2.835e-05, Jres = 3.633e-05, alpha = 0.006729, improvement_ratio = 1.0\n",
      "Iteration 20, loss = 1.382e-05, Jres = 2.418e-05, alpha = 0.001087, improvement_ratio = 1.0\n",
      "Iteration 30, loss = 1.306e-06, Jres = 6.97e-06, alpha = 0.0001755, improvement_ratio = 1.0\n",
      "Iteration 40, loss = 8.81e-08, Jres = 3.984e-07, alpha = 2.835e-05, improvement_ratio = 1.0\n",
      "Iteration 50, loss = 1.476e-08, Jres = 3.9e-08, alpha = 4.579e-06, improvement_ratio = 1.0\n",
      "Iteration 60, loss = 3.366e-09, Jres = 1.15e-08, alpha = 8.333e-07, improvement_ratio = 1.0\n"
     ]
    },
    {
     "data": {
      "application/vnd.jupyter.widget-view+json": {
       "model_id": "32d5b137c7e0458e884db07ddb490561",
       "version_major": 2,
       "version_minor": 0
      },
      "text/plain": [
       "  0%|          | 0/150 [00:00<?, ?it/s]"
      ]
     },
     "metadata": {},
     "output_type": "display_data"
    },
    {
     "name": "stdout",
     "output_type": "stream",
     "text": [
      "Iteration 0, loss = 6.038495675371517e-09\n",
      "Iteration 0 Step Failed\n",
      "Iteration 3 Step Failed\n",
      "Iteration 5 Step Failed\n",
      "Iteration 6 Step Failed\n",
      "Iteration 7 Step Failed\n",
      "Iteration 8 Step Failed\n",
      "Iteration 9 Step Failed\n",
      "Iteration 10 Step Failed\n",
      "Iteration 11 Step Failed\n",
      "Iteration 12 Step Failed\n",
      "Iteration 13 Step Failed\n",
      "Iteration 14 Step Failed\n",
      "Iteration 15 Step Failed\n",
      "Iteration 16 Step Failed\n",
      "Iteration 17 Step Failed\n",
      "Iteration 18 Step Failed\n",
      "Iteration 19 Step Failed\n",
      "Iteration 20 Step Failed\n",
      "Iteration 21 Step Failed\n",
      "Iteration 22 Step Failed\n",
      "Iteration 23 Step Failed\n",
      "Iteration 24 Step Failed\n",
      "Iteration 25 Step Failed\n",
      "Converged by no improvement\n"
     ]
    },
    {
     "data": {
      "application/vnd.jupyter.widget-view+json": {
       "model_id": "7183bd25b01f41b5bef66eeec86ef633",
       "version_major": 2,
       "version_minor": 0
      },
      "text/plain": [
       "  0%|          | 0/101 [00:00<?, ?it/s]"
      ]
     },
     "metadata": {},
     "output_type": "display_data"
    },
    {
     "name": "stdout",
     "output_type": "stream",
     "text": [
      "Iteration 0, loss = 0.0001117, Jres = 197.1, alpha = 0.04167, improvement_ratio = 1.0\n",
      "Iteration 1, loss = 7.13e-05, Jres = 0.0004047, alpha = 0.03472, improvement_ratio = 1.0\n",
      "Iteration 2, loss = 5.94e-05, Jres = 7.33e-05, alpha = 0.02894, improvement_ratio = 1.0\n",
      "Iteration 3, loss = 5.215e-05, Jres = 5.465e-05, alpha = 0.02411, improvement_ratio = 1.0\n",
      "Iteration 4, loss = 4.738e-05, Jres = 4.882e-05, alpha = 0.02009, improvement_ratio = 1.0\n",
      "Iteration 5, loss = 4.405e-05, Jres = 4.606e-05, alpha = 0.01674, improvement_ratio = 1.0\n",
      "Iteration 10, loss = 3.313e-05, Jres = 3.994e-05, alpha = 0.006729, improvement_ratio = 1.0\n",
      "Iteration 20, loss = 1.529e-05, Jres = 2.561e-05, alpha = 0.001087, improvement_ratio = 1.0\n",
      "Iteration 30, loss = 1.469e-06, Jres = 7.377e-06, alpha = 0.0001755, improvement_ratio = 1.0\n",
      "Iteration 40, loss = 1.016e-07, Jres = 4.317e-07, alpha = 2.835e-05, improvement_ratio = 1.0\n",
      "Iteration 50, loss = 1.289e-08, Jres = 4.367e-08, alpha = 4.579e-06, improvement_ratio = 1.0\n"
     ]
    },
    {
     "data": {
      "application/vnd.jupyter.widget-view+json": {
       "model_id": "3d7284d277f34d6198e6ec2b0aa9ffa8",
       "version_major": 2,
       "version_minor": 0
      },
      "text/plain": [
       "  0%|          | 0/150 [00:00<?, ?it/s]"
      ]
     },
     "metadata": {},
     "output_type": "display_data"
    },
    {
     "name": "stdout",
     "output_type": "stream",
     "text": [
      "Iteration 0, loss = 6.961830134071825e-09\n",
      "Iteration 1 Step Failed\n",
      "Iteration 2 Step Failed\n",
      "Iteration 4 Step Failed\n",
      "Iteration 5 Step Failed\n",
      "Iteration 6 Step Failed\n",
      "Iteration 7 Step Failed\n",
      "Iteration 8 Step Failed\n",
      "Iteration 9 Step Failed\n",
      "Iteration 10 Step Failed\n",
      "Iteration 11 Step Failed\n",
      "Iteration 12 Step Failed\n",
      "Iteration 13 Step Failed\n",
      "Iteration 14 Step Failed\n",
      "Iteration 16 Step Failed\n",
      "Iteration 17 Step Failed\n",
      "Iteration 18 Step Failed\n",
      "Iteration 19 Step Failed\n",
      "Iteration 20 Step Failed\n",
      "Iteration 21 Step Failed\n",
      "Iteration 22 Step Failed\n",
      "Iteration 23 Step Failed\n",
      "Iteration 24 Step Failed\n",
      "Converged by no improvement\n"
     ]
    },
    {
     "data": {
      "application/vnd.jupyter.widget-view+json": {
       "model_id": "bf8ae91883bb4ba5b344818904b25936",
       "version_major": 2,
       "version_minor": 0
      },
      "text/plain": [
       "  0%|          | 0/101 [00:00<?, ?it/s]"
      ]
     },
     "metadata": {},
     "output_type": "display_data"
    },
    {
     "name": "stdout",
     "output_type": "stream",
     "text": [
      "Iteration 0, loss = 9.502e-05, Jres = 126.8, alpha = 0.04167, improvement_ratio = 1.0\n",
      "Iteration 1, loss = 5.998e-05, Jres = 0.000356, alpha = 0.03472, improvement_ratio = 1.0\n",
      "Iteration 2, loss = 4.955e-05, Jres = 6.677e-05, alpha = 0.02894, improvement_ratio = 1.0\n",
      "Iteration 3, loss = 4.325e-05, Jres = 4.963e-05, alpha = 0.02411, improvement_ratio = 1.0\n",
      "Iteration 4, loss = 3.918e-05, Jres = 4.421e-05, alpha = 0.02009, improvement_ratio = 1.0\n",
      "Iteration 5, loss = 3.637e-05, Jres = 4.166e-05, alpha = 0.01674, improvement_ratio = 1.0\n",
      "Iteration 10, loss = 2.741e-05, Jres = 3.625e-05, alpha = 0.006729, improvement_ratio = 1.0\n",
      "Iteration 20, loss = 1.266e-05, Jres = 2.332e-05, alpha = 0.001087, improvement_ratio = 1.0\n",
      "Iteration 30, loss = 1.157e-06, Jres = 6.677e-06, alpha = 0.0001755, improvement_ratio = 1.0\n",
      "Iteration 40, loss = 7.064e-08, Jres = 3.603e-07, alpha = 2.835e-05, improvement_ratio = 1.0\n",
      "Iteration 50, loss = 1.001e-08, Jres = 3.158e-08, alpha = 4.579e-06, improvement_ratio = 1.0\n"
     ]
    },
    {
     "data": {
      "application/vnd.jupyter.widget-view+json": {
       "model_id": "86a2c9fef24d489eac2160d1097b4aef",
       "version_major": 2,
       "version_minor": 0
      },
      "text/plain": [
       "  0%|          | 0/150 [00:00<?, ?it/s]"
      ]
     },
     "metadata": {},
     "output_type": "display_data"
    },
    {
     "name": "stdout",
     "output_type": "stream",
     "text": [
      "Iteration 0, loss = 6.0819736471854065e-09\n",
      "Iteration 0 Step Failed\n",
      "Iteration 1 Step Failed\n",
      "Iteration 3 Step Failed\n",
      "Iteration 4 Step Failed\n",
      "Iteration 5 Step Failed\n",
      "Iteration 6 Step Failed\n",
      "Iteration 8 Step Failed\n",
      "Iteration 9 Step Failed\n",
      "Iteration 10 Step Failed\n",
      "Iteration 11 Step Failed\n",
      "Iteration 12 Step Failed\n",
      "Iteration 13 Step Failed\n",
      "Iteration 14 Step Failed\n",
      "Iteration 15 Step Failed\n",
      "Iteration 16 Step Failed\n",
      "Iteration 17 Step Failed\n",
      "Iteration 19 Step Failed\n",
      "Iteration 20 Step Failed\n",
      "Iteration 21 Step Failed\n",
      "Iteration 22 Step Failed\n",
      "Iteration 23 Step Failed\n",
      "Iteration 24 Step Failed\n",
      "Iteration 25 Step Failed\n",
      "Iteration 26 Step Failed\n",
      "Iteration 27 Step Failed\n",
      "Iteration 28 Step Failed\n",
      "Converged by no improvement\n"
     ]
    },
    {
     "data": {
      "application/vnd.jupyter.widget-view+json": {
       "model_id": "d42063211f8742deb7a14b460428b846",
       "version_major": 2,
       "version_minor": 0
      },
      "text/plain": [
       "  0%|          | 0/10099 [00:00<?, ?it/s]"
      ]
     },
     "metadata": {},
     "output_type": "display_data"
    },
    {
     "data": {
      "application/vnd.jupyter.widget-view+json": {
       "model_id": "f19fd9d9e7db4a11b62325a7fb7d80d5",
       "version_major": 2,
       "version_minor": 0
      },
      "text/plain": [
       "  0%|          | 0/501 [00:00<?, ?it/s]"
      ]
     },
     "metadata": {},
     "output_type": "display_data"
    },
    {
     "name": "stdout",
     "output_type": "stream",
     "text": [
      "Iteration 0, loss = 0.4439, Jres = 44.89, alpha = 0.08333, improvement_ratio = 0.9712\n",
      "Iteration 1, loss = 0.2334, Jres = 7.763, alpha = 0.06944, improvement_ratio = 1.006\n",
      "Iteration 2, loss = 0.1549, Jres = 2.457, alpha = 0.05787, improvement_ratio = 1.018\n",
      "Iteration 3, loss = 0.115, Jres = 1.103, alpha = 0.04823, improvement_ratio = 1.031\n",
      "Iteration 4, loss = 0.09098, Jres = 0.7302, alpha = 0.04019, improvement_ratio = 1.053\n",
      "Iteration 5, loss = 0.07271, Jres = 0.6387, alpha = 0.03349, improvement_ratio = 1.072\n",
      "Iteration 100, loss = 0.006384, Jres = 0.000123, alpha = 8.333e-07, improvement_ratio = 1.0\n",
      "Iteration 200, loss = 0.006171, Jres = 9.157e-06, alpha = 8.333e-07, improvement_ratio = 1.0\n",
      "Iteration 300, loss = 0.00606, Jres = 5.466e-06, alpha = 8.333e-07, improvement_ratio = 1.0\n",
      "Iteration 400, loss = 0.005981, Jres = 5.766e-06, alpha = 8.333e-07, improvement_ratio = 1.0\n",
      "Iteration 500, loss = 0.005919, Jres = 5.734e-06, alpha = 8.333e-07, improvement_ratio = 1.0\n"
     ]
    },
    {
     "data": {
      "application/vnd.jupyter.widget-view+json": {
       "model_id": "f21f44d8c82241d194a43b5c1084585d",
       "version_major": 2,
       "version_minor": 0
      },
      "text/plain": [
       "  0%|          | 0/500 [00:00<?, ?it/s]"
      ]
     },
     "metadata": {},
     "output_type": "display_data"
    },
    {
     "name": "stdout",
     "output_type": "stream",
     "text": [
      "Iteration 0, loss = 0.005917640246862752\n",
      "Iteration 93 Step Failed\n",
      "Iteration 234 Step Failed\n",
      "Iteration 306 Step Failed\n",
      "Iteration 318 Step Failed\n",
      "Iteration 360 Step Failed\n",
      "Iteration 385 Step Failed\n",
      "Iteration 412 Step Failed\n",
      "Iteration 422 Step Failed\n",
      "Iteration 423 Step Failed\n",
      "Iteration 443 Step Failed\n",
      "Iteration 452 Step Failed\n",
      "Iteration 456 Step Failed\n",
      "Iteration 462 Step Failed\n",
      "Iteration 475 Step Failed\n",
      "Iteration 494 Step Failed\n",
      "Iteration 496 Step Failed\n",
      "Iteration 497 Step Failed\n",
      "Iteration 498 Step Failed\n",
      "Iteration 499 Step Failed\n"
     ]
    },
    {
     "data": {
      "application/vnd.jupyter.widget-view+json": {
       "model_id": "c12ac00fab994d9099120c0fcf10bc4d",
       "version_major": 2,
       "version_minor": 0
      },
      "text/plain": [
       "  0%|          | 0/10099 [00:00<?, ?it/s]"
      ]
     },
     "metadata": {},
     "output_type": "display_data"
    },
    {
     "data": {
      "application/vnd.jupyter.widget-view+json": {
       "model_id": "086e11f350584f4580c9adf4c58e3d12",
       "version_major": 2,
       "version_minor": 0
      },
      "text/plain": [
       "  0%|          | 0/10099 [00:00<?, ?it/s]"
      ]
     },
     "metadata": {},
     "output_type": "display_data"
    },
    {
     "data": {
      "application/vnd.jupyter.widget-view+json": {
       "model_id": "c3f4ab5a86f54f25a0441975ae0b05ec",
       "version_major": 2,
       "version_minor": 0
      },
      "text/plain": [
       "  0%|          | 0/10099 [00:00<?, ?it/s]"
      ]
     },
     "metadata": {},
     "output_type": "display_data"
    },
    {
     "data": {
      "application/vnd.jupyter.widget-view+json": {
       "model_id": "3752be04844e44a6a9848d1b95c7b7d4",
       "version_major": 2,
       "version_minor": 0
      },
      "text/plain": [
       "  0%|          | 0/10099 [00:00<?, ?it/s]"
      ]
     },
     "metadata": {},
     "output_type": "display_data"
    },
    {
     "data": {
      "application/vnd.jupyter.widget-view+json": {
       "model_id": "ab7bccd4bc324333b420cdd85dcd6656",
       "version_major": 2,
       "version_minor": 0
      },
      "text/plain": [
       "  0%|          | 0/10099 [00:00<?, ?it/s]"
      ]
     },
     "metadata": {},
     "output_type": "display_data"
    },
    {
     "data": {
      "application/vnd.jupyter.widget-view+json": {
       "model_id": "9844ec8886a84405a0058c788d893d38",
       "version_major": 2,
       "version_minor": 0
      },
      "text/plain": [
       "  0%|          | 0/10099 [00:00<?, ?it/s]"
      ]
     },
     "metadata": {},
     "output_type": "display_data"
    },
    {
     "data": {
      "application/vnd.jupyter.widget-view+json": {
       "model_id": "ba09dd04aff64a168b69eca8c13f9ba9",
       "version_major": 2,
       "version_minor": 0
      },
      "text/plain": [
       "  0%|          | 0/10099 [00:00<?, ?it/s]"
      ]
     },
     "metadata": {},
     "output_type": "display_data"
    },
    {
     "data": {
      "application/vnd.jupyter.widget-view+json": {
       "model_id": "026015902cd44fb78f5c3ebd3f90e801",
       "version_major": 2,
       "version_minor": 0
      },
      "text/plain": [
       "  0%|          | 0/10099 [00:00<?, ?it/s]"
      ]
     },
     "metadata": {},
     "output_type": "display_data"
    },
    {
     "data": {
      "application/vnd.jupyter.widget-view+json": {
       "model_id": "3b2a6ecd33d1421895d39465631e0cf4",
       "version_major": 2,
       "version_minor": 0
      },
      "text/plain": [
       "  0%|          | 0/10099 [00:00<?, ?it/s]"
      ]
     },
     "metadata": {},
     "output_type": "display_data"
    },
    {
     "data": {
      "application/vnd.jupyter.widget-view+json": {
       "model_id": "250add89a3944ba9b0f11a05d477df61",
       "version_major": 2,
       "version_minor": 0
      },
      "text/plain": [
       "  0%|          | 0/10099 [00:00<?, ?it/s]"
      ]
     },
     "metadata": {},
     "output_type": "display_data"
    },
    {
     "data": {
      "application/vnd.jupyter.widget-view+json": {
       "model_id": "613d580bc81347e8aec105cc45250514",
       "version_major": 2,
       "version_minor": 0
      },
      "text/plain": [
       "  0%|          | 0/10099 [00:00<?, ?it/s]"
      ]
     },
     "metadata": {},
     "output_type": "display_data"
    },
    {
     "data": {
      "application/vnd.jupyter.widget-view+json": {
       "model_id": "ed63e791319945c98f55f783bc939a2b",
       "version_major": 2,
       "version_minor": 0
      },
      "text/plain": [
       "  0%|          | 0/10099 [00:00<?, ?it/s]"
      ]
     },
     "metadata": {},
     "output_type": "display_data"
    },
    {
     "data": {
      "application/vnd.jupyter.widget-view+json": {
       "model_id": "d146426704d54885ace9dbad9196cad6",
       "version_major": 2,
       "version_minor": 0
      },
      "text/plain": [
       "  0%|          | 0/10099 [00:00<?, ?it/s]"
      ]
     },
     "metadata": {},
     "output_type": "display_data"
    },
    {
     "data": {
      "application/vnd.jupyter.widget-view+json": {
       "model_id": "a3fd10e4c16a4295a3752efb1221f2a3",
       "version_major": 2,
       "version_minor": 0
      },
      "text/plain": [
       "  0%|          | 0/10099 [00:00<?, ?it/s]"
      ]
     },
     "metadata": {},
     "output_type": "display_data"
    },
    {
     "data": {
      "application/vnd.jupyter.widget-view+json": {
       "model_id": "12eb9e3d1c7647678e785249c97dd667",
       "version_major": 2,
       "version_minor": 0
      },
      "text/plain": [
       "  0%|          | 0/10099 [00:00<?, ?it/s]"
      ]
     },
     "metadata": {},
     "output_type": "display_data"
    },
    {
     "data": {
      "application/vnd.jupyter.widget-view+json": {
       "model_id": "6c93b1476dd14119b4df3949303327c6",
       "version_major": 2,
       "version_minor": 0
      },
      "text/plain": [
       "  0%|          | 0/101 [00:00<?, ?it/s]"
      ]
     },
     "metadata": {},
     "output_type": "display_data"
    },
    {
     "name": "stdout",
     "output_type": "stream",
     "text": [
      "Iteration 0, loss = 0.3991, Jres = 90.2, alpha = 0.04167, improvement_ratio = 0.991\n",
      "Iteration 1, loss = 0.1001, Jres = 1.156, alpha = 0.03472, improvement_ratio = 0.9385\n",
      "Iteration 2, loss = 0.07842, Jres = 0.1006, alpha = 0.02894, improvement_ratio = 1.003\n",
      "Iteration 3, loss = 0.06494, Jres = 0.0119, alpha = 0.02411, improvement_ratio = 0.9906\n",
      "Iteration 4, loss = 0.05331, Jres = 0.007316, alpha = 0.02009, improvement_ratio = 0.9875\n",
      "Iteration 5, loss = 0.04351, Jres = 0.007074, alpha = 0.01674, improvement_ratio = 0.9827\n",
      "Iteration 10, loss = 0.01741, Jres = 0.02028, alpha = 0.006729, improvement_ratio = 0.9831\n",
      "Iteration 20, loss = 0.003756, Jres = 0.001051, alpha = 0.001087, improvement_ratio = 0.9961\n",
      "Iteration 30, loss = 0.001579, Jres = 0.0001834, alpha = 0.0001755, improvement_ratio = 0.9987\n",
      "Iteration 40, loss = 0.0007468, Jres = 0.004694, alpha = 4.082e-05, improvement_ratio = 0.8843\n",
      "Iteration 50, loss = 0.0004075, Jres = 0.001016, alpha = 6.593e-06, improvement_ratio = 0.8964\n",
      "Iteration 60, loss = 0.0002664, Jres = 0.001455, alpha = 1.278e-06, improvement_ratio = 0.5571\n",
      "Iteration 70, loss = 0.0002013, Jres = 0.0002603, alpha = 8.333e-07, improvement_ratio = 0.9717\n",
      "Iteration 80, loss = 0.0001763, Jres = 0.0002781, alpha = 8.333e-07, improvement_ratio = 0.9638\n",
      "Iteration 90, loss = 0.0001621, Jres = 9.343e-05, alpha = 8.333e-07, improvement_ratio = 0.9979\n",
      "Iteration 100, loss = 0.0001534, Jres = 3.137e-05, alpha = 8.333e-07, improvement_ratio = 1.001\n"
     ]
    },
    {
     "data": {
      "application/vnd.jupyter.widget-view+json": {
       "model_id": "19b83e4419f149f29b0bed8c9d5574ad",
       "version_major": 2,
       "version_minor": 0
      },
      "text/plain": [
       "  0%|          | 0/150 [00:00<?, ?it/s]"
      ]
     },
     "metadata": {},
     "output_type": "display_data"
    },
    {
     "name": "stdout",
     "output_type": "stream",
     "text": [
      "Iteration 0, loss = 0.0003067291831559219\n",
      "Iteration 1 Step Failed\n",
      "Iteration 5 Step Failed\n",
      "Iteration 6 Step Failed\n",
      "Iteration 7 Step Failed\n",
      "Iteration 8 Step Failed\n",
      "Iteration 9 Step Failed\n",
      "Iteration 10 Step Failed\n",
      "Iteration 11 Step Failed\n",
      "Iteration 12 Step Failed\n",
      "Iteration 13 Step Failed\n",
      "Iteration 14 Step Failed\n",
      "Iteration 15 Step Failed\n",
      "Iteration 16 Step Failed\n",
      "Iteration 17 Step Failed\n",
      "Iteration 18 Step Failed\n",
      "Iteration 19 Step Failed\n",
      "Iteration 20 Step Failed\n",
      "Iteration 21 Step Failed\n",
      "Iteration 22 Step Failed\n",
      "Iteration 23 Step Failed\n",
      "Iteration 24 Step Failed\n",
      "Iteration 25 Step Failed\n",
      "Converged by no improvement\n"
     ]
    },
    {
     "data": {
      "application/vnd.jupyter.widget-view+json": {
       "model_id": "388cdeccae244028944a48283c412f97",
       "version_major": 2,
       "version_minor": 0
      },
      "text/plain": [
       "  0%|          | 0/101 [00:00<?, ?it/s]"
      ]
     },
     "metadata": {},
     "output_type": "display_data"
    },
    {
     "name": "stdout",
     "output_type": "stream",
     "text": [
      "Iteration 0, loss = 0.1861, Jres = 133.0, alpha = 0.04167, improvement_ratio = 0.9979\n",
      "Iteration 1, loss = 0.01983, Jres = 0.7845, alpha = 0.03472, improvement_ratio = 0.9438\n",
      "Iteration 2, loss = 0.009234, Jres = 0.1471, alpha = 0.02894, improvement_ratio = 0.9892\n",
      "Iteration 3, loss = 0.008495, Jres = 0.01113, alpha = 0.02411, improvement_ratio = 0.9987\n",
      "Iteration 4, loss = 0.00795, Jres = 0.0007127, alpha = 0.02009, improvement_ratio = 0.9966\n",
      "Iteration 5, loss = 0.007435, Jres = 0.0006341, alpha = 0.01674, improvement_ratio = 0.996\n",
      "Iteration 10, loss = 0.005251, Jres = 0.0004904, alpha = 0.006729, improvement_ratio = 0.9948\n",
      "Iteration 20, loss = 0.003078, Jres = 0.0001611, alpha = 0.001087, improvement_ratio = 0.9979\n",
      "Iteration 30, loss = 0.002588, Jres = 0.001051, alpha = 0.0001755, improvement_ratio = 0.9688\n",
      "Iteration 40, loss = 0.002207, Jres = 0.0008662, alpha = 2.835e-05, improvement_ratio = 0.9614\n",
      "Iteration 50, loss = 0.002024, Jres = 0.0003432, alpha = 4.579e-06, improvement_ratio = 0.9955\n",
      "Iteration 60, loss = 0.001745, Jres = 0.0005944, alpha = 8.333e-07, improvement_ratio = 0.9932\n",
      "Iteration 70, loss = 0.001549, Jres = 0.000159, alpha = 8.333e-07, improvement_ratio = 1.001\n",
      "Iteration 80, loss = 0.001416, Jres = 0.0001774, alpha = 8.333e-07, improvement_ratio = 1.006\n",
      "Iteration 90, loss = 0.001281, Jres = 0.0002365, alpha = 8.333e-07, improvement_ratio = 1.001\n",
      "Iteration 100, loss = 0.00119, Jres = 7.19e-05, alpha = 8.333e-07, improvement_ratio = 1.001\n"
     ]
    },
    {
     "data": {
      "application/vnd.jupyter.widget-view+json": {
       "model_id": "a8caaec5c3794256b9a2248249e82885",
       "version_major": 2,
       "version_minor": 0
      },
      "text/plain": [
       "  0%|          | 0/150 [00:00<?, ?it/s]"
      ]
     },
     "metadata": {},
     "output_type": "display_data"
    },
    {
     "name": "stdout",
     "output_type": "stream",
     "text": [
      "Iteration 0, loss = 0.0023808286216831067\n",
      "Iteration 5 Step Failed\n",
      "Iteration 6 Step Failed\n",
      "Iteration 7 Step Failed\n",
      "Iteration 8 Step Failed\n",
      "Iteration 10 Step Failed\n",
      "Iteration 11 Step Failed\n",
      "Iteration 12 Step Failed\n",
      "Iteration 13 Step Failed\n",
      "Iteration 14 Step Failed\n",
      "Iteration 15 Step Failed\n",
      "Iteration 16 Step Failed\n",
      "Iteration 17 Step Failed\n",
      "Iteration 18 Step Failed\n",
      "Iteration 20 Step Failed\n",
      "Iteration 21 Step Failed\n",
      "Iteration 22 Step Failed\n",
      "Iteration 23 Step Failed\n",
      "Iteration 24 Step Failed\n",
      "Iteration 25 Step Failed\n",
      "Iteration 26 Step Failed\n",
      "Iteration 27 Step Failed\n",
      "Iteration 28 Step Failed\n",
      "Iteration 29 Step Failed\n",
      "Converged by no improvement\n"
     ]
    },
    {
     "data": {
      "application/vnd.jupyter.widget-view+json": {
       "model_id": "bcd3d71b3a73443b939bebd1bc097dea",
       "version_major": 2,
       "version_minor": 0
      },
      "text/plain": [
       "  0%|          | 0/101 [00:00<?, ?it/s]"
      ]
     },
     "metadata": {},
     "output_type": "display_data"
    },
    {
     "name": "stdout",
     "output_type": "stream",
     "text": [
      "Iteration 0, loss = 0.9722, Jres = 149.5, alpha = 0.04167, improvement_ratio = 0.9918\n",
      "Iteration 1, loss = 0.2693, Jres = 3.271, alpha = 0.04167, improvement_ratio = 0.728\n",
      "Iteration 2, loss = 0.02203, Jres = 1.656, alpha = 0.03472, improvement_ratio = 0.9515\n",
      "Iteration 3, loss = 0.008113, Jres = 0.1617, alpha = 0.02894, improvement_ratio = 0.9906\n",
      "Iteration 4, loss = 0.007445, Jres = 0.01271, alpha = 0.02411, improvement_ratio = 1.001\n",
      "Iteration 5, loss = 0.006993, Jres = 0.0007072, alpha = 0.02009, improvement_ratio = 0.9969\n",
      "Iteration 10, loss = 0.005256, Jres = 0.0003677, alpha = 0.008075, improvement_ratio = 0.9971\n",
      "Iteration 20, loss = 0.004118, Jres = 0.000133, alpha = 0.001304, improvement_ratio = 0.9983\n",
      "Iteration 30, loss = 0.003317, Jres = 0.0003927, alpha = 0.0002106, improvement_ratio = 1.007\n",
      "Iteration 40, loss = 0.001909, Jres = 0.01053, alpha = 3.402e-05, improvement_ratio = 0.9445\n",
      "Iteration 50, loss = 0.001162, Jres = 0.001542, alpha = 6.593e-06, improvement_ratio = 0.9835\n",
      "Iteration 60, loss = 0.0006748, Jres = 0.00113, alpha = 1.84e-06, improvement_ratio = 0.9831\n",
      "Iteration 70, loss = 0.000415, Jres = 0.005554, alpha = 1e-06, improvement_ratio = 0.7836\n",
      "Iteration 80, loss = 0.0003265, Jres = 0.0001451, alpha = 8.333e-07, improvement_ratio = 1.01\n",
      "Iteration 90, loss = 0.000302, Jres = 5.297e-05, alpha = 8.333e-07, improvement_ratio = 1.005\n",
      "Iteration 100, loss = 0.0002863, Jres = 6.165e-05, alpha = 8.333e-07, improvement_ratio = 1.001\n"
     ]
    },
    {
     "data": {
      "application/vnd.jupyter.widget-view+json": {
       "model_id": "3f3e3c021dc940579c080088f45eb611",
       "version_major": 2,
       "version_minor": 0
      },
      "text/plain": [
       "  0%|          | 0/150 [00:00<?, ?it/s]"
      ]
     },
     "metadata": {},
     "output_type": "display_data"
    },
    {
     "name": "stdout",
     "output_type": "stream",
     "text": [
      "Iteration 0, loss = 0.0005725485217565791\n",
      "Iteration 95 Step Failed\n"
     ]
    },
    {
     "data": {
      "application/vnd.jupyter.widget-view+json": {
       "model_id": "e8ac152c2d2e4c89bb7d222e5de7b2a6",
       "version_major": 2,
       "version_minor": 0
      },
      "text/plain": [
       "  0%|          | 0/101 [00:00<?, ?it/s]"
      ]
     },
     "metadata": {},
     "output_type": "display_data"
    },
    {
     "name": "stdout",
     "output_type": "stream",
     "text": [
      "Iteration 0, loss = 1.274, Jres = 131.2, alpha = 0.04167, improvement_ratio = 0.9866\n",
      "Iteration 1, loss = 0.2728, Jres = 2.746, alpha = 0.03472, improvement_ratio = 0.9472\n",
      "Iteration 2, loss = 0.1983, Jres = 0.3054, alpha = 0.02894, improvement_ratio = 0.9717\n",
      "Iteration 3, loss = 0.1716, Jres = 0.05106, alpha = 0.02411, improvement_ratio = 1.0\n",
      "Iteration 4, loss = 0.1557, Jres = 0.01418, alpha = 0.02009, improvement_ratio = 1.002\n",
      "Iteration 5, loss = 0.1436, Jres = 0.01144, alpha = 0.01674, improvement_ratio = 1.013\n",
      "Iteration 10, loss = 0.09178, Jres = 0.01798, alpha = 0.006729, improvement_ratio = 0.9211\n",
      "Iteration 20, loss = 0.04006, Jres = 0.008322, alpha = 0.001087, improvement_ratio = 0.9146\n",
      "Iteration 30, loss = 0.03459, Jres = 0.002676, alpha = 0.0001755, improvement_ratio = 0.9498\n",
      "Iteration 40, loss = 0.03156, Jres = 0.0008251, alpha = 2.835e-05, improvement_ratio = 0.9979\n",
      "Iteration 50, loss = 0.02861, Jres = 0.002241, alpha = 4.579e-06, improvement_ratio = 0.9638\n",
      "Iteration 60, loss = 0.02714, Jres = 0.006607, alpha = 9.896e-06, improvement_ratio = 0.1635\n",
      "Iteration 70, loss = 0.02676, Jres = 0.0008673, alpha = 4.891e-05, improvement_ratio = 0.8341\n",
      "Iteration 80, loss = 0.02646, Jres = 0.001657, alpha = 1.638e-05, improvement_ratio = 0.8211\n",
      "Iteration 90, loss = 0.02601, Jres = 0.001332, alpha = 0.0005374, improvement_ratio = 0.2923\n",
      "Iteration 100, loss = 0.02599, Jres = 0.0007125, alpha = 0.0006449, improvement_ratio = 0.3552\n"
     ]
    },
    {
     "data": {
      "application/vnd.jupyter.widget-view+json": {
       "model_id": "5a3651a1973144ad9de0814c505e1d5b",
       "version_major": 2,
       "version_minor": 0
      },
      "text/plain": [
       "  0%|          | 0/150 [00:00<?, ?it/s]"
      ]
     },
     "metadata": {},
     "output_type": "display_data"
    },
    {
     "name": "stdout",
     "output_type": "stream",
     "text": [
      "Iteration 0, loss = 0.05198625607982073\n",
      "Iteration 47 Step Failed\n",
      "Iteration 79 Step Failed\n",
      "Iteration 99 Step Failed\n"
     ]
    },
    {
     "data": {
      "application/vnd.jupyter.widget-view+json": {
       "model_id": "241af6396a904b06afe308c75c4845d2",
       "version_major": 2,
       "version_minor": 0
      },
      "text/plain": [
       "  0%|          | 0/101 [00:00<?, ?it/s]"
      ]
     },
     "metadata": {},
     "output_type": "display_data"
    },
    {
     "name": "stdout",
     "output_type": "stream",
     "text": [
      "Iteration 0, loss = 0.5124, Jres = 131.4, alpha = 0.04167, improvement_ratio = 0.9942\n",
      "Iteration 1, loss = 0.09311, Jres = 1.917, alpha = 0.03472, improvement_ratio = 0.8423\n",
      "Iteration 2, loss = 0.01887, Jres = 0.5406, alpha = 0.02894, improvement_ratio = 0.9324\n",
      "Iteration 3, loss = 0.0119, Jres = 0.1018, alpha = 0.02411, improvement_ratio = 0.988\n",
      "Iteration 4, loss = 0.01059, Jres = 0.009432, alpha = 0.02009, improvement_ratio = 0.9948\n",
      "Iteration 5, loss = 0.009452, Jres = 0.0009292, alpha = 0.01674, improvement_ratio = 0.9935\n",
      "Iteration 10, loss = 0.005424, Jres = 0.0006857, alpha = 0.006729, improvement_ratio = 0.9915\n",
      "Iteration 20, loss = 0.002961, Jres = 0.0005432, alpha = 0.001087, improvement_ratio = 1.002\n",
      "Iteration 30, loss = 0.001869, Jres = 0.001034, alpha = 0.0001755, improvement_ratio = 1.01\n",
      "Iteration 40, loss = 0.001157, Jres = 0.001453, alpha = 2.835e-05, improvement_ratio = 0.9854\n",
      "Iteration 50, loss = 0.0006905, Jres = 0.0007054, alpha = 4.579e-06, improvement_ratio = 0.9888\n",
      "Iteration 60, loss = 0.000388, Jres = 0.001934, alpha = 8.333e-07, improvement_ratio = 0.9668\n",
      "Iteration 70, loss = 0.0003055, Jres = 0.001495, alpha = 0.0001111, improvement_ratio = 0.5608\n",
      "Iteration 80, loss = 0.0003028, Jres = 0.000242, alpha = 8.51e-05, improvement_ratio = 0.2411\n",
      "Iteration 90, loss = 0.000302, Jres = 0.0001993, alpha = 9.928e-05, improvement_ratio = 0.3676\n",
      "Iteration 100, loss = 0.0003013, Jres = 9.2e-05, alpha = 0.000139, improvement_ratio = 0.7056\n"
     ]
    },
    {
     "data": {
      "application/vnd.jupyter.widget-view+json": {
       "model_id": "34dc875f3cca4a589464e98482245f8c",
       "version_major": 2,
       "version_minor": 0
      },
      "text/plain": [
       "  0%|          | 0/150 [00:00<?, ?it/s]"
      ]
     },
     "metadata": {},
     "output_type": "display_data"
    },
    {
     "name": "stdout",
     "output_type": "stream",
     "text": [
      "Iteration 0, loss = 0.0006026131801705275\n",
      "Iteration 133 Step Failed\n"
     ]
    },
    {
     "data": {
      "application/vnd.jupyter.widget-view+json": {
       "model_id": "82fc16e851ff4a8e98d2340b88cd2866",
       "version_major": 2,
       "version_minor": 0
      },
      "text/plain": [
       "  0%|          | 0/101 [00:00<?, ?it/s]"
      ]
     },
     "metadata": {},
     "output_type": "display_data"
    },
    {
     "name": "stdout",
     "output_type": "stream",
     "text": [
      "Iteration 0, loss = 0.386, Jres = 132.7, alpha = 0.04167, improvement_ratio = 0.996\n",
      "Iteration 1, loss = 0.03441, Jres = 1.527, alpha = 0.03472, improvement_ratio = 0.9631\n",
      "Iteration 2, loss = 0.02103, Jres = 0.1257, alpha = 0.02894, improvement_ratio = 0.947\n",
      "Iteration 3, loss = 0.01881, Jres = 0.02692, alpha = 0.02411, improvement_ratio = 0.9982\n",
      "Iteration 4, loss = 0.01754, Jres = 0.001742, alpha = 0.02009, improvement_ratio = 0.9997\n",
      "Iteration 5, loss = 0.01638, Jres = 0.001419, alpha = 0.01674, improvement_ratio = 0.9995\n",
      "Iteration 10, loss = 0.01154, Jres = 0.001364, alpha = 0.006729, improvement_ratio = 1.001\n",
      "Iteration 20, loss = 0.007399, Jres = 0.0003815, alpha = 0.001087, improvement_ratio = 0.9988\n",
      "Iteration 30, loss = 0.006338, Jres = 0.0003903, alpha = 0.0001755, improvement_ratio = 1.0\n",
      "Iteration 40, loss = 0.004971, Jres = 0.001284, alpha = 2.835e-05, improvement_ratio = 1.003\n",
      "Iteration 50, loss = 0.004239, Jres = 0.008625, alpha = 1.139e-05, improvement_ratio = 0.5843\n",
      "Iteration 60, loss = 0.003656, Jres = 0.001555, alpha = 1.84e-06, improvement_ratio = 0.9719\n",
      "Iteration 70, loss = 0.002968, Jres = 0.005272, alpha = 8.333e-07, improvement_ratio = 1.003\n",
      "Iteration 80, loss = 0.002654, Jres = 0.0006013, alpha = 8.333e-07, improvement_ratio = 1.039\n",
      "Iteration 90, loss = 0.002382, Jres = 0.004867, alpha = 8.333e-07, improvement_ratio = 0.9877\n",
      "Iteration 100, loss = 0.002275, Jres = 0.01412, alpha = 2.223e-06, improvement_ratio = 0.2176\n"
     ]
    },
    {
     "data": {
      "application/vnd.jupyter.widget-view+json": {
       "model_id": "d9c1584f468546ab84154f57c53c948f",
       "version_major": 2,
       "version_minor": 0
      },
      "text/plain": [
       "  0%|          | 0/150 [00:00<?, ?it/s]"
      ]
     },
     "metadata": {},
     "output_type": "display_data"
    },
    {
     "name": "stdout",
     "output_type": "stream",
     "text": [
      "Iteration 0, loss = 0.004550999121308844\n",
      "Iteration 54 Step Failed\n",
      "Iteration 76 Step Failed\n",
      "Iteration 85 Step Failed\n",
      "Iteration 88 Step Failed\n"
     ]
    },
    {
     "data": {
      "application/vnd.jupyter.widget-view+json": {
       "model_id": "c639a9a098b24459adc844af6460231a",
       "version_major": 2,
       "version_minor": 0
      },
      "text/plain": [
       "  0%|          | 0/101 [00:00<?, ?it/s]"
      ]
     },
     "metadata": {},
     "output_type": "display_data"
    },
    {
     "name": "stdout",
     "output_type": "stream",
     "text": [
      "Iteration 0, loss = 0.9442, Jres = 189.1, alpha = 0.04167, improvement_ratio = 0.995\n",
      "Iteration 1, loss = 0.2294, Jres = 2.825, alpha = 0.04167, improvement_ratio = 0.7789\n",
      "Iteration 2, loss = 0.03579, Jres = 1.389, alpha = 0.03472, improvement_ratio = 0.9525\n",
      "Iteration 3, loss = 0.02494, Jres = 0.1712, alpha = 0.02894, improvement_ratio = 0.9995\n",
      "Iteration 4, loss = 0.02439, Jres = 0.00673, alpha = 0.02411, improvement_ratio = 0.9996\n",
      "Iteration 5, loss = 0.02398, Jres = 0.0007087, alpha = 0.02009, improvement_ratio = 0.9993\n",
      "Iteration 10, loss = 0.02222, Jres = 0.0005097, alpha = 0.008075, improvement_ratio = 1.003\n",
      "Iteration 20, loss = 0.01845, Jres = 0.000867, alpha = 0.001304, improvement_ratio = 1.007\n",
      "Iteration 30, loss = 0.01538, Jres = 0.00153, alpha = 0.0002106, improvement_ratio = 0.9988\n",
      "Iteration 40, loss = 0.01334, Jres = 0.0006526, alpha = 3.402e-05, improvement_ratio = 0.9981\n",
      "Iteration 50, loss = 0.009917, Jres = 0.001685, alpha = 5.494e-06, improvement_ratio = 0.9993\n",
      "Iteration 60, loss = 0.006567, Jres = 0.003634, alpha = 1.278e-06, improvement_ratio = 0.7565\n",
      "Iteration 70, loss = 0.005099, Jres = 0.0007507, alpha = 8.333e-07, improvement_ratio = 1.018\n",
      "Iteration 80, loss = 0.004012, Jres = 0.00127, alpha = 8.333e-07, improvement_ratio = 1.013\n",
      "Iteration 90, loss = 0.003411, Jres = 0.0002435, alpha = 8.333e-07, improvement_ratio = 1.001\n",
      "Iteration 100, loss = 0.00309, Jres = 0.000104, alpha = 8.333e-07, improvement_ratio = 1.002\n"
     ]
    },
    {
     "data": {
      "application/vnd.jupyter.widget-view+json": {
       "model_id": "72e85a5fcc5648858dd764985822dc5c",
       "version_major": 2,
       "version_minor": 0
      },
      "text/plain": [
       "  0%|          | 0/150 [00:00<?, ?it/s]"
      ]
     },
     "metadata": {},
     "output_type": "display_data"
    },
    {
     "name": "stdout",
     "output_type": "stream",
     "text": [
      "Iteration 0, loss = 0.006179012802661612\n",
      "Iteration 63 Step Failed\n",
      "Iteration 78 Step Failed\n",
      "Iteration 92 Step Failed\n",
      "Iteration 123 Step Failed\n",
      "Iteration 138 Step Failed\n"
     ]
    },
    {
     "data": {
      "application/vnd.jupyter.widget-view+json": {
       "model_id": "ced9c75d7efa463091f65ef04ac41ce4",
       "version_major": 2,
       "version_minor": 0
      },
      "text/plain": [
       "  0%|          | 0/101 [00:00<?, ?it/s]"
      ]
     },
     "metadata": {},
     "output_type": "display_data"
    },
    {
     "name": "stdout",
     "output_type": "stream",
     "text": [
      "Iteration 0, loss = 1.741, Jres = 211.2, alpha = 0.04167, improvement_ratio = 0.9915\n",
      "Iteration 1, loss = 1.493, Jres = 4.548, alpha = 0.05, improvement_ratio = 0.1443\n",
      "Iteration 2, loss = 0.09379, Jres = 3.691, alpha = 0.04167, improvement_ratio = 0.9661\n",
      "Iteration 3, loss = 0.02572, Jres = 0.4047, alpha = 0.03472, improvement_ratio = 0.9552\n",
      "Iteration 4, loss = 0.01861, Jres = 0.06227, alpha = 0.02894, improvement_ratio = 0.9945\n",
      "Iteration 5, loss = 0.01633, Jres = 0.03084, alpha = 0.02411, improvement_ratio = 0.9392\n",
      "Iteration 10, loss = 0.0128, Jres = 0.003289, alpha = 0.00969, improvement_ratio = 1.127\n",
      "Iteration 20, loss = 0.009452, Jres = 0.0003556, alpha = 0.001565, improvement_ratio = 0.9973\n",
      "Iteration 30, loss = 0.007487, Jres = 0.0004317, alpha = 0.0002528, improvement_ratio = 0.9996\n",
      "Iteration 40, loss = 0.005451, Jres = 0.0007798, alpha = 4.082e-05, improvement_ratio = 1.025\n",
      "Iteration 50, loss = 0.003987, Jres = 0.01091, alpha = 0.000249, improvement_ratio = 0.3055\n",
      "Iteration 60, loss = 0.003674, Jres = 0.0002802, alpha = 6.95e-05, improvement_ratio = 0.9942\n",
      "Iteration 70, loss = 0.002971, Jres = 0.0008832, alpha = 1.122e-05, improvement_ratio = 1.017\n",
      "Iteration 80, loss = 0.002265, Jres = 0.0008713, alpha = 8.841e-06, improvement_ratio = 1.053\n",
      "Iteration 90, loss = 0.001588, Jres = 0.002333, alpha = 1.428e-06, improvement_ratio = 0.9633\n",
      "Iteration 100, loss = 0.00137, Jres = 0.003006, alpha = 2.744e-06, improvement_ratio = 0.6889\n"
     ]
    },
    {
     "data": {
      "application/vnd.jupyter.widget-view+json": {
       "model_id": "630a7babda554cc0b13f2a1440e434df",
       "version_major": 2,
       "version_minor": 0
      },
      "text/plain": [
       "  0%|          | 0/150 [00:00<?, ?it/s]"
      ]
     },
     "metadata": {},
     "output_type": "display_data"
    },
    {
     "name": "stdout",
     "output_type": "stream",
     "text": [
      "Iteration 0, loss = 0.0027390786639566234\n",
      "Iteration 74 Step Failed\n",
      "Iteration 75 Step Failed\n",
      "Iteration 116 Step Failed\n"
     ]
    },
    {
     "data": {
      "application/vnd.jupyter.widget-view+json": {
       "model_id": "81fe884a8da74399ab86c5d7d020daa8",
       "version_major": 2,
       "version_minor": 0
      },
      "text/plain": [
       "  0%|          | 0/101 [00:00<?, ?it/s]"
      ]
     },
     "metadata": {},
     "output_type": "display_data"
    },
    {
     "name": "stdout",
     "output_type": "stream",
     "text": [
      "Iteration 0, loss = 0.5603, Jres = 121.7, alpha = 0.04167, improvement_ratio = 0.9932\n",
      "Iteration 1, loss = 0.05505, Jres = 2.148, alpha = 0.03472, improvement_ratio = 0.9219\n",
      "Iteration 2, loss = 0.01542, Jres = 0.2928, alpha = 0.02894, improvement_ratio = 0.908\n",
      "Iteration 3, loss = 0.009892, Jres = 0.08786, alpha = 0.02411, improvement_ratio = 1.007\n",
      "Iteration 4, loss = 0.00874, Jres = 0.003955, alpha = 0.02009, improvement_ratio = 1.038\n",
      "Iteration 5, loss = 0.007704, Jres = 0.001991, alpha = 0.01674, improvement_ratio = 1.05\n",
      "Iteration 10, loss = 0.004523, Jres = 0.0006206, alpha = 0.006729, improvement_ratio = 0.9978\n",
      "Iteration 20, loss = 0.002756, Jres = 0.0002992, alpha = 0.001087, improvement_ratio = 0.9972\n",
      "Iteration 30, loss = 0.002209, Jres = 0.0002443, alpha = 0.0001755, improvement_ratio = 0.9999\n",
      "Iteration 40, loss = 0.001602, Jres = 0.00454, alpha = 3.402e-05, improvement_ratio = 0.8356\n",
      "Iteration 50, loss = 0.0009733, Jres = 0.004324, alpha = 3.546e-05, improvement_ratio = 0.5451\n",
      "Iteration 60, loss = 0.0007646, Jres = 0.0005588, alpha = 5.727e-06, improvement_ratio = 0.9775\n",
      "Iteration 70, loss = 0.0005219, Jres = 0.000715, alpha = 9.249e-07, improvement_ratio = 0.993\n",
      "Iteration 80, loss = 0.0004008, Jres = 0.0001336, alpha = 8.333e-07, improvement_ratio = 1.002\n",
      "Iteration 90, loss = 0.0003544, Jres = 7.789e-05, alpha = 8.333e-07, improvement_ratio = 1.002\n",
      "Iteration 100, loss = 0.0003308, Jres = 5.904e-05, alpha = 8.333e-07, improvement_ratio = 1.004\n"
     ]
    },
    {
     "data": {
      "application/vnd.jupyter.widget-view+json": {
       "model_id": "38d820c66d3d4468b94ad08fbbf4a8d7",
       "version_major": 2,
       "version_minor": 0
      },
      "text/plain": [
       "  0%|          | 0/150 [00:00<?, ?it/s]"
      ]
     },
     "metadata": {},
     "output_type": "display_data"
    },
    {
     "name": "stdout",
     "output_type": "stream",
     "text": [
      "Iteration 0, loss = 0.0006615328486713275\n",
      "Iteration 11 Step Failed\n",
      "Iteration 12 Step Failed\n",
      "Iteration 100 Step Failed\n"
     ]
    },
    {
     "data": {
      "application/vnd.jupyter.widget-view+json": {
       "model_id": "6af3650251554a2a861bc96898599ad8",
       "version_major": 2,
       "version_minor": 0
      },
      "text/plain": [
       "  0%|          | 0/101 [00:00<?, ?it/s]"
      ]
     },
     "metadata": {},
     "output_type": "display_data"
    },
    {
     "name": "stdout",
     "output_type": "stream",
     "text": [
      "Iteration 0, loss = 1.161, Jres = 180.9, alpha = 0.04167, improvement_ratio = 0.9934\n",
      "Iteration 1, loss = 1.041, Jres = 2.871, alpha = 0.7379, improvement_ratio = 0.1146\n",
      "Iteration 2, loss = 0.1442, Jres = 3.545, alpha = 0.6149, improvement_ratio = 0.9756\n",
      "Iteration 3, loss = 0.1189, Jres = 0.2823, alpha = 0.5124, improvement_ratio = 0.9423\n",
      "Iteration 4, loss = 0.1143, Jres = 0.1383, alpha = 0.427, improvement_ratio = 0.9441\n",
      "Iteration 5, loss = 0.1121, Jres = 0.01199, alpha = 0.3559, improvement_ratio = 0.9855\n",
      "Iteration 10, loss = 0.1061, Jres = 0.004498, alpha = 0.143, improvement_ratio = 1.054\n",
      "Iteration 20, loss = 0.09499, Jres = 0.003115, alpha = 0.0231, improvement_ratio = 1.015\n",
      "Iteration 30, loss = 0.06065, Jres = 0.008036, alpha = 0.00373, improvement_ratio = 1.052\n",
      "Iteration 40, loss = 0.0389, Jres = 0.005426, alpha = 0.0006025, improvement_ratio = 1.037\n",
      "Iteration 50, loss = 0.03003, Jres = 0.002549, alpha = 0.0001168, improvement_ratio = 1.001\n",
      "Iteration 60, loss = 0.02472, Jres = 0.02143, alpha = 3.259e-05, improvement_ratio = 0.9234\n",
      "Iteration 70, loss = 0.0204, Jres = 0.001994, alpha = 9.094e-06, improvement_ratio = 0.5787\n",
      "Iteration 80, loss = 0.01976, Jres = 0.0007791, alpha = 6.657e-05, improvement_ratio = 0.8938\n",
      "Iteration 90, loss = 0.01906, Jres = 0.00246, alpha = 5.548e-05, improvement_ratio = 0.7258\n",
      "Iteration 100, loss = 0.01839, Jres = 0.001982, alpha = 5.548e-05, improvement_ratio = 0.7343\n"
     ]
    },
    {
     "data": {
      "application/vnd.jupyter.widget-view+json": {
       "model_id": "ac6edaa0768c452bbdacc4369bb007a6",
       "version_major": 2,
       "version_minor": 0
      },
      "text/plain": [
       "  0%|          | 0/150 [00:00<?, ?it/s]"
      ]
     },
     "metadata": {},
     "output_type": "display_data"
    },
    {
     "name": "stdout",
     "output_type": "stream",
     "text": [
      "Iteration 0, loss = 0.03677571753389362\n",
      "Iteration 51 Step Failed\n",
      "Iteration 56 Step Failed\n",
      "Iteration 68 Step Failed\n",
      "Iteration 69 Step Failed\n",
      "Iteration 113 Step Failed\n"
     ]
    },
    {
     "data": {
      "application/vnd.jupyter.widget-view+json": {
       "model_id": "7476080bf7d14105a8dc8654f8303046",
       "version_major": 2,
       "version_minor": 0
      },
      "text/plain": [
       "  0%|          | 0/101 [00:00<?, ?it/s]"
      ]
     },
     "metadata": {},
     "output_type": "display_data"
    },
    {
     "name": "stdout",
     "output_type": "stream",
     "text": [
      "Iteration 0, loss = 0.4684, Jres = 118.5, alpha = 0.04167, improvement_ratio = 0.9943\n",
      "Iteration 1, loss = 0.07296, Jres = 1.617, alpha = 0.03472, improvement_ratio = 0.9263\n",
      "Iteration 2, loss = 0.04267, Jres = 0.2667, alpha = 0.02894, improvement_ratio = 0.9895\n",
      "Iteration 3, loss = 0.04075, Jres = 0.04016, alpha = 0.02411, improvement_ratio = 0.9984\n",
      "Iteration 4, loss = 0.03975, Jres = 0.001583, alpha = 0.02009, improvement_ratio = 1.002\n",
      "Iteration 5, loss = 0.03885, Jres = 0.001164, alpha = 0.01674, improvement_ratio = 1.002\n",
      "Iteration 10, loss = 0.035, Jres = 0.0007775, alpha = 0.006729, improvement_ratio = 1.005\n",
      "Iteration 20, loss = 0.02516, Jres = 0.00587, alpha = 0.001087, improvement_ratio = 1.106\n",
      "Iteration 30, loss = 0.01532, Jres = 0.006334, alpha = 0.0001755, improvement_ratio = 0.9417\n",
      "Iteration 40, loss = 0.01269, Jres = 0.002657, alpha = 0.0001463, improvement_ratio = 0.8368\n",
      "Iteration 50, loss = 0.01054, Jres = 0.001487, alpha = 2.362e-05, improvement_ratio = 0.9517\n",
      "Iteration 60, loss = 0.008339, Jres = 0.01897, alpha = 6.593e-06, improvement_ratio = 0.9677\n",
      "Iteration 70, loss = 0.007389, Jres = 0.001239, alpha = 5.193e-06, improvement_ratio = 0.7188\n",
      "Iteration 80, loss = 0.006878, Jres = 0.002691, alpha = 5.193e-06, improvement_ratio = 0.6881\n",
      "Iteration 90, loss = 0.006429, Jres = 0.001288, alpha = 3.005e-06, improvement_ratio = 0.9478\n",
      "Iteration 100, loss = 0.005537, Jres = 0.0005533, alpha = 8.333e-07, improvement_ratio = 1.004\n"
     ]
    },
    {
     "data": {
      "application/vnd.jupyter.widget-view+json": {
       "model_id": "fc0dad24e92b4a018c5b6413bf53cedf",
       "version_major": 2,
       "version_minor": 0
      },
      "text/plain": [
       "  0%|          | 0/150 [00:00<?, ?it/s]"
      ]
     },
     "metadata": {},
     "output_type": "display_data"
    },
    {
     "name": "stdout",
     "output_type": "stream",
     "text": [
      "Iteration 0, loss = 0.011073114227361002\n",
      "Iteration 59 Step Failed\n",
      "Iteration 60 Step Failed\n",
      "Iteration 71 Step Failed\n",
      "Iteration 78 Step Failed\n",
      "Iteration 104 Step Failed\n",
      "Iteration 110 Step Failed\n",
      "Iteration 123 Step Failed\n",
      "Iteration 132 Step Failed\n",
      "Iteration 147 Step Failed\n"
     ]
    },
    {
     "data": {
      "application/vnd.jupyter.widget-view+json": {
       "model_id": "fee8bd5988204d2d811f67981eedbf38",
       "version_major": 2,
       "version_minor": 0
      },
      "text/plain": [
       "  0%|          | 0/101 [00:00<?, ?it/s]"
      ]
     },
     "metadata": {},
     "output_type": "display_data"
    },
    {
     "name": "stdout",
     "output_type": "stream",
     "text": [
      "Iteration 0, loss = 2.36, Jres = 168.3, alpha = 0.04167, improvement_ratio = 0.9848\n",
      "Iteration 1, loss = 2.078, Jres = 6.397, alpha = 0.3765, improvement_ratio = 0.1239\n",
      "Iteration 2, loss = 0.3073, Jres = 5.376, alpha = 0.3137, improvement_ratio = 0.8986\n",
      "Iteration 3, loss = 0.107, Jres = 0.89, alpha = 0.2614, improvement_ratio = 0.9789\n",
      "Iteration 4, loss = 0.09383, Jres = 0.115, alpha = 0.2179, improvement_ratio = 1.029\n",
      "Iteration 5, loss = 0.08963, Jres = 0.02067, alpha = 0.1816, improvement_ratio = 1.074\n",
      "Iteration 10, loss = 0.07357, Jres = 0.008718, alpha = 0.07296, improvement_ratio = 1.134\n",
      "Iteration 20, loss = 0.0326, Jres = 0.005357, alpha = 0.01178, improvement_ratio = 1.031\n",
      "Iteration 30, loss = 0.01708, Jres = 0.001071, alpha = 0.001903, improvement_ratio = 1.008\n",
      "Iteration 40, loss = 0.01153, Jres = 0.004432, alpha = 0.0003074, improvement_ratio = 1.056\n",
      "Iteration 50, loss = 0.007135, Jres = 0.00224, alpha = 4.964e-05, improvement_ratio = 0.9992\n",
      "Iteration 60, loss = 0.002689, Jres = 0.009547, alpha = 8.018e-06, improvement_ratio = 0.9263\n",
      "Iteration 70, loss = 0.0009979, Jres = 0.002794, alpha = 1.554e-06, improvement_ratio = 0.9885\n",
      "Iteration 80, loss = 0.0005857, Jres = 0.0002756, alpha = 8.333e-07, improvement_ratio = 1.002\n",
      "Iteration 90, loss = 0.0004896, Jres = 0.0003065, alpha = 8.333e-07, improvement_ratio = 0.9956\n",
      "Iteration 100, loss = 0.0004234, Jres = 0.0004718, alpha = 8.333e-07, improvement_ratio = 1.014\n"
     ]
    },
    {
     "data": {
      "application/vnd.jupyter.widget-view+json": {
       "model_id": "2cfdd3d28ece470ba2b5fefca20a0371",
       "version_major": 2,
       "version_minor": 0
      },
      "text/plain": [
       "  0%|          | 0/150 [00:00<?, ?it/s]"
      ]
     },
     "metadata": {},
     "output_type": "display_data"
    },
    {
     "name": "stdout",
     "output_type": "stream",
     "text": [
      "Iteration 0, loss = 0.0008467624094278777\n",
      "Iteration 102 Step Failed\n",
      "Iteration 108 Step Failed\n",
      "Iteration 130 Step Failed\n",
      "Iteration 149 Step Failed\n"
     ]
    },
    {
     "data": {
      "application/vnd.jupyter.widget-view+json": {
       "model_id": "a54d93261b0947888fb8103477cc8a38",
       "version_major": 2,
       "version_minor": 0
      },
      "text/plain": [
       "  0%|          | 0/101 [00:00<?, ?it/s]"
      ]
     },
     "metadata": {},
     "output_type": "display_data"
    },
    {
     "name": "stdout",
     "output_type": "stream",
     "text": [
      "Iteration 0, loss = 1.174, Jres = 162.4, alpha = 0.04167, improvement_ratio = 0.9917\n",
      "Iteration 1, loss = 0.253, Jres = 3.795, alpha = 0.04167, improvement_ratio = 0.7924\n",
      "Iteration 2, loss = 0.02352, Jres = 1.556, alpha = 0.03472, improvement_ratio = 0.9792\n",
      "Iteration 3, loss = 0.01574, Jres = 0.1687, alpha = 0.02894, improvement_ratio = 1.025\n",
      "Iteration 4, loss = 0.01499, Jres = 0.01968, alpha = 0.02411, improvement_ratio = 1.067\n",
      "Iteration 5, loss = 0.01451, Jres = 0.002834, alpha = 0.02009, improvement_ratio = 1.107\n",
      "Iteration 10, loss = 0.01208, Jres = 0.0005399, alpha = 0.008075, improvement_ratio = 1.004\n",
      "Iteration 20, loss = 0.009484, Jres = 0.0005917, alpha = 0.001304, improvement_ratio = 0.9985\n",
      "Iteration 30, loss = 0.007828, Jres = 0.001075, alpha = 0.0002106, improvement_ratio = 0.9932\n",
      "Iteration 40, loss = 0.005921, Jres = 0.001229, alpha = 3.402e-05, improvement_ratio = 0.9968\n",
      "Iteration 50, loss = 0.004462, Jres = 0.0006213, alpha = 5.494e-06, improvement_ratio = 1.006\n",
      "Iteration 60, loss = 0.003432, Jres = 0.004394, alpha = 1.278e-06, improvement_ratio = 0.6224\n",
      "Iteration 70, loss = 0.002977, Jres = 0.003029, alpha = 3.506e-06, improvement_ratio = 0.2782\n",
      "Iteration 80, loss = 0.002905, Jres = 0.0009473, alpha = 1.155e-05, improvement_ratio = 0.276\n",
      "Iteration 90, loss = 0.002869, Jres = 0.0008952, alpha = 1.94e-05, improvement_ratio = 0.362\n",
      "Iteration 100, loss = 0.002845, Jres = 0.001045, alpha = 2.328e-05, improvement_ratio = 0.33\n"
     ]
    },
    {
     "data": {
      "application/vnd.jupyter.widget-view+json": {
       "model_id": "215a9013be24421989b518403600e21f",
       "version_major": 2,
       "version_minor": 0
      },
      "text/plain": [
       "  0%|          | 0/150 [00:00<?, ?it/s]"
      ]
     },
     "metadata": {},
     "output_type": "display_data"
    },
    {
     "name": "stdout",
     "output_type": "stream",
     "text": [
      "Iteration 0, loss = 0.005690107234280282\n",
      "Iteration 68 Step Failed\n",
      "Iteration 70 Step Failed\n",
      "Iteration 71 Step Failed\n",
      "Iteration 80 Step Failed\n",
      "Iteration 81 Step Failed\n",
      "Iteration 89 Step Failed\n"
     ]
    },
    {
     "data": {
      "application/vnd.jupyter.widget-view+json": {
       "model_id": "b5ac1810dc9c4e33a30e2cb61b5036a9",
       "version_major": 2,
       "version_minor": 0
      },
      "text/plain": [
       "  0%|          | 0/101 [00:00<?, ?it/s]"
      ]
     },
     "metadata": {},
     "output_type": "display_data"
    },
    {
     "name": "stdout",
     "output_type": "stream",
     "text": [
      "Iteration 0, loss = 0.1872, Jres = 86.27, alpha = 0.04167, improvement_ratio = 0.9965\n",
      "Iteration 1, loss = 0.01448, Jres = 0.9788, alpha = 0.03472, improvement_ratio = 0.9547\n",
      "Iteration 2, loss = 0.006497, Jres = 0.1214, alpha = 0.02894, improvement_ratio = 0.9316\n",
      "Iteration 3, loss = 0.005584, Jres = 0.03297, alpha = 0.02411, improvement_ratio = 1.002\n",
      "Iteration 4, loss = 0.005388, Jres = 0.0006231, alpha = 0.02009, improvement_ratio = 1.003\n",
      "Iteration 5, loss = 0.00524, Jres = 0.0002522, alpha = 0.01674, improvement_ratio = 1.002\n",
      "Iteration 10, loss = 0.004718, Jres = 0.0001984, alpha = 0.006729, improvement_ratio = 1.001\n",
      "Iteration 20, loss = 0.003922, Jres = 0.0001023, alpha = 0.001087, improvement_ratio = 1.0\n",
      "Iteration 30, loss = 0.003093, Jres = 0.0001557, alpha = 0.0001755, improvement_ratio = 0.9991\n",
      "Iteration 40, loss = 0.002493, Jres = 0.0004173, alpha = 2.835e-05, improvement_ratio = 1.009\n",
      "Iteration 50, loss = 0.001654, Jres = 0.01782, alpha = 2.171e-05, improvement_ratio = 0.1257\n",
      "Iteration 60, loss = 0.0007525, Jres = 0.001184, alpha = 5.049e-06, improvement_ratio = 0.934\n",
      "Iteration 70, loss = 0.0005037, Jres = 0.0006429, alpha = 8.333e-07, improvement_ratio = 0.9876\n",
      "Iteration 80, loss = 0.0003293, Jres = 0.0002376, alpha = 8.333e-07, improvement_ratio = 1.005\n",
      "Iteration 90, loss = 0.000242, Jres = 0.0001087, alpha = 8.333e-07, improvement_ratio = 1.002\n",
      "Iteration 100, loss = 0.0001994, Jres = 4.939e-05, alpha = 8.333e-07, improvement_ratio = 1.003\n"
     ]
    },
    {
     "data": {
      "application/vnd.jupyter.widget-view+json": {
       "model_id": "4085a46f9be4433291c547f113079982",
       "version_major": 2,
       "version_minor": 0
      },
      "text/plain": [
       "  0%|          | 0/150 [00:00<?, ?it/s]"
      ]
     },
     "metadata": {},
     "output_type": "display_data"
    },
    {
     "name": "stdout",
     "output_type": "stream",
     "text": [
      "Iteration 0, loss = 0.00039886613389122054\n",
      "Iteration 10 Step Failed\n",
      "Iteration 11 Step Failed\n",
      "Iteration 12 Step Failed\n",
      "Iteration 13 Step Failed\n",
      "Iteration 14 Step Failed\n",
      "Iteration 16 Step Failed\n",
      "Iteration 17 Step Failed\n",
      "Iteration 18 Step Failed\n",
      "Iteration 19 Step Failed\n",
      "Iteration 20 Step Failed\n",
      "Iteration 21 Step Failed\n",
      "Iteration 22 Step Failed\n",
      "Iteration 23 Step Failed\n",
      "Iteration 24 Step Failed\n",
      "Iteration 26 Step Failed\n",
      "Iteration 27 Step Failed\n",
      "Iteration 29 Step Failed\n",
      "Iteration 30 Step Failed\n",
      "Iteration 31 Step Failed\n",
      "Iteration 32 Step Failed\n",
      "Iteration 33 Step Failed\n",
      "Iteration 34 Step Failed\n",
      "Iteration 35 Step Failed\n",
      "Iteration 36 Step Failed\n",
      "Iteration 37 Step Failed\n",
      "Iteration 38 Step Failed\n",
      "Converged by no improvement\n"
     ]
    },
    {
     "data": {
      "application/vnd.jupyter.widget-view+json": {
       "model_id": "2594ebb229f24443a1d26f75480c69ea",
       "version_major": 2,
       "version_minor": 0
      },
      "text/plain": [
       "  0%|          | 0/101 [00:00<?, ?it/s]"
      ]
     },
     "metadata": {},
     "output_type": "display_data"
    },
    {
     "name": "stdout",
     "output_type": "stream",
     "text": [
      "Iteration 0, loss = 0.08556, Jres = 66.76, alpha = 0.04167, improvement_ratio = 0.9973\n",
      "Iteration 1, loss = 0.01718, Jres = 0.5012, alpha = 0.03472, improvement_ratio = 0.9767\n",
      "Iteration 2, loss = 0.01461, Jres = 0.03864, alpha = 0.02894, improvement_ratio = 0.9912\n",
      "Iteration 3, loss = 0.01407, Jres = 0.003923, alpha = 0.02411, improvement_ratio = 0.9996\n",
      "Iteration 4, loss = 0.01367, Jres = 0.000613, alpha = 0.02009, improvement_ratio = 0.9994\n",
      "Iteration 5, loss = 0.01333, Jres = 0.0004652, alpha = 0.01674, improvement_ratio = 0.9994\n",
      "Iteration 10, loss = 0.01183, Jres = 0.0003492, alpha = 0.006729, improvement_ratio = 0.9988\n",
      "Iteration 20, loss = 0.009481, Jres = 0.0002125, alpha = 0.001087, improvement_ratio = 0.9968\n",
      "Iteration 30, loss = 0.007551, Jres = 0.0008416, alpha = 0.0001755, improvement_ratio = 0.9983\n",
      "Iteration 40, loss = 0.005797, Jres = 0.0006913, alpha = 2.835e-05, improvement_ratio = 0.9943\n",
      "Iteration 50, loss = 0.003857, Jres = 0.007188, alpha = 4.579e-06, improvement_ratio = 0.8717\n",
      "Iteration 60, loss = 0.003164, Jres = 0.00133, alpha = 0.002481, improvement_ratio = 0.1423\n",
      "Iteration 70, loss = 0.003151, Jres = 0.0001865, alpha = 0.01067, improvement_ratio = 0.1691\n",
      "Iteration 80, loss = 0.003149, Jres = 3.583e-05, alpha = 0.01067, improvement_ratio = 0.6551\n",
      "Iteration 90, loss = 0.003148, Jres = 1.526e-05, alpha = 0.002481, improvement_ratio = 0.9767\n",
      "Iteration 100, loss = 0.003141, Jres = 4.479e-05, alpha = 0.0004007, improvement_ratio = 0.8573\n"
     ]
    },
    {
     "data": {
      "application/vnd.jupyter.widget-view+json": {
       "model_id": "2f836a938b9346418567aa23cd805c51",
       "version_major": 2,
       "version_minor": 0
      },
      "text/plain": [
       "  0%|          | 0/150 [00:00<?, ?it/s]"
      ]
     },
     "metadata": {},
     "output_type": "display_data"
    },
    {
     "name": "stdout",
     "output_type": "stream",
     "text": [
      "Iteration 0, loss = 0.006281061536052012\n",
      "Iteration 42 Step Failed\n",
      "Iteration 44 Step Failed\n",
      "Iteration 89 Step Failed\n",
      "Iteration 101 Step Failed\n",
      "Iteration 112 Step Failed\n"
     ]
    },
    {
     "data": {
      "application/vnd.jupyter.widget-view+json": {
       "model_id": "0d2b8048d71d439b9d7f2bb5c8b4942b",
       "version_major": 2,
       "version_minor": 0
      },
      "text/plain": [
       "  0%|          | 0/101 [00:00<?, ?it/s]"
      ]
     },
     "metadata": {},
     "output_type": "display_data"
    },
    {
     "name": "stdout",
     "output_type": "stream",
     "text": [
      "Iteration 0, loss = 5.907e-05, Jres = 90.2, alpha = 0.04167, improvement_ratio = 1.0\n",
      "Iteration 1, loss = 3.784e-05, Jres = 0.000255, alpha = 0.03472, improvement_ratio = 1.0\n",
      "Iteration 2, loss = 3.125e-05, Jres = 5.335e-05, alpha = 0.02894, improvement_ratio = 1.0\n",
      "Iteration 3, loss = 2.725e-05, Jres = 3.968e-05, alpha = 0.02411, improvement_ratio = 1.0\n",
      "Iteration 4, loss = 2.465e-05, Jres = 3.523e-05, alpha = 0.02009, improvement_ratio = 1.0\n",
      "Iteration 5, loss = 2.285e-05, Jres = 3.31e-05, alpha = 0.01674, improvement_ratio = 1.0\n",
      "Iteration 10, loss = 1.702e-05, Jres = 2.859e-05, alpha = 0.006729, improvement_ratio = 1.0\n",
      "Iteration 20, loss = 7.726e-06, Jres = 1.82e-05, alpha = 0.001087, improvement_ratio = 1.0\n",
      "Iteration 30, loss = 7.668e-07, Jres = 5.256e-06, alpha = 0.0001755, improvement_ratio = 1.0\n",
      "Iteration 40, loss = 5.937e-08, Jres = 3.172e-07, alpha = 2.835e-05, improvement_ratio = 1.0\n",
      "Iteration 50, loss = 7.228e-09, Jres = 3.221e-08, alpha = 4.579e-06, improvement_ratio = 1.0\n"
     ]
    },
    {
     "data": {
      "application/vnd.jupyter.widget-view+json": {
       "model_id": "6d273435100648e2a4dcd35c6120a8b8",
       "version_major": 2,
       "version_minor": 0
      },
      "text/plain": [
       "  0%|          | 0/150 [00:00<?, ?it/s]"
      ]
     },
     "metadata": {},
     "output_type": "display_data"
    },
    {
     "name": "stdout",
     "output_type": "stream",
     "text": [
      "Iteration 0, loss = 4.1089595144849236e-09\n",
      "Iteration 1 Step Failed\n",
      "Iteration 4 Step Failed\n",
      "Iteration 5 Step Failed\n",
      "Iteration 6 Step Failed\n",
      "Iteration 7 Step Failed\n",
      "Iteration 8 Step Failed\n",
      "Iteration 10 Step Failed\n",
      "Iteration 11 Step Failed\n",
      "Iteration 12 Step Failed\n",
      "Iteration 13 Step Failed\n",
      "Iteration 14 Step Failed\n",
      "Iteration 15 Step Failed\n",
      "Iteration 16 Step Failed\n",
      "Iteration 17 Step Failed\n",
      "Iteration 18 Step Failed\n",
      "Iteration 19 Step Failed\n",
      "Iteration 20 Step Failed\n",
      "Iteration 21 Step Failed\n",
      "Iteration 22 Step Failed\n",
      "Iteration 23 Step Failed\n",
      "Iteration 24 Step Failed\n",
      "Iteration 25 Step Failed\n",
      "Converged by no improvement\n"
     ]
    },
    {
     "data": {
      "application/vnd.jupyter.widget-view+json": {
       "model_id": "ec6fc5af12e14273b2e4a57ed696932e",
       "version_major": 2,
       "version_minor": 0
      },
      "text/plain": [
       "  0%|          | 0/101 [00:00<?, ?it/s]"
      ]
     },
     "metadata": {},
     "output_type": "display_data"
    },
    {
     "name": "stdout",
     "output_type": "stream",
     "text": [
      "Iteration 0, loss = 3.544e-06, Jres = 133.0, alpha = 0.04167, improvement_ratio = 1.0\n",
      "Iteration 1, loss = 2.063e-06, Jres = 5.573e-05, alpha = 0.03472, improvement_ratio = 1.0\n",
      "Iteration 2, loss = 1.615e-06, Jres = 1.237e-05, alpha = 0.02894, improvement_ratio = 1.0\n",
      "Iteration 3, loss = 1.353e-06, Jres = 8.847e-06, alpha = 0.02411, improvement_ratio = 1.0\n",
      "Iteration 4, loss = 1.193e-06, Jres = 7.609e-06, alpha = 0.02009, improvement_ratio = 1.0\n",
      "Iteration 5, loss = 1.091e-06, Jres = 7.022e-06, alpha = 0.01674, improvement_ratio = 1.0\n",
      "Iteration 10, loss = 8.384e-07, Jres = 6.141e-06, alpha = 0.006729, improvement_ratio = 1.0\n",
      "Iteration 20, loss = 4.183e-07, Jres = 4.155e-06, alpha = 0.001087, improvement_ratio = 1.0\n",
      "Iteration 30, loss = 4.278e-08, Jres = 1.206e-06, alpha = 0.0001755, improvement_ratio = 1.0\n",
      "Iteration 40, loss = 4.029e-09, Jres = 7.067e-08, alpha = 2.835e-05, improvement_ratio = 1.0\n"
     ]
    },
    {
     "data": {
      "application/vnd.jupyter.widget-view+json": {
       "model_id": "a9b14e76bdbc404392427f8e5a9fb477",
       "version_major": 2,
       "version_minor": 0
      },
      "text/plain": [
       "  0%|          | 0/150 [00:00<?, ?it/s]"
      ]
     },
     "metadata": {},
     "output_type": "display_data"
    },
    {
     "name": "stdout",
     "output_type": "stream",
     "text": [
      "Iteration 0, loss = 1.7577894819921418e-09\n",
      "Iteration 134 Step Failed\n",
      "Iteration 135 Step Failed\n",
      "Converged by no improvement\n"
     ]
    },
    {
     "data": {
      "application/vnd.jupyter.widget-view+json": {
       "model_id": "0f137b044c8d40f6b8f862ded9f82b7b",
       "version_major": 2,
       "version_minor": 0
      },
      "text/plain": [
       "  0%|          | 0/101 [00:00<?, ?it/s]"
      ]
     },
     "metadata": {},
     "output_type": "display_data"
    },
    {
     "name": "stdout",
     "output_type": "stream",
     "text": [
      "Iteration 0, loss = 3.709e-05, Jres = 149.5, alpha = 0.04167, improvement_ratio = 1.0\n",
      "Iteration 1, loss = 2.387e-05, Jres = 0.0002341, alpha = 0.03472, improvement_ratio = 1.0\n",
      "Iteration 2, loss = 1.998e-05, Jres = 4.206e-05, alpha = 0.02894, improvement_ratio = 1.0\n",
      "Iteration 3, loss = 1.76e-05, Jres = 3.159e-05, alpha = 0.02411, improvement_ratio = 1.0\n",
      "Iteration 4, loss = 1.602e-05, Jres = 2.834e-05, alpha = 0.02009, improvement_ratio = 1.0\n",
      "Iteration 5, loss = 1.49e-05, Jres = 2.678e-05, alpha = 0.01674, improvement_ratio = 1.0\n",
      "Iteration 10, loss = 1.113e-05, Jres = 2.319e-05, alpha = 0.006729, improvement_ratio = 1.0\n",
      "Iteration 20, loss = 5.055e-06, Jres = 1.475e-05, alpha = 0.001087, improvement_ratio = 1.0\n",
      "Iteration 30, loss = 4.845e-07, Jres = 4.239e-06, alpha = 0.0001755, improvement_ratio = 1.0\n",
      "Iteration 40, loss = 3.415e-08, Jres = 2.464e-07, alpha = 2.835e-05, improvement_ratio = 1.0\n",
      "Iteration 50, loss = 4.253e-09, Jres = 2.343e-08, alpha = 4.579e-06, improvement_ratio = 1.0\n"
     ]
    },
    {
     "data": {
      "application/vnd.jupyter.widget-view+json": {
       "model_id": "40b92c13abf64423a47b31b95af302e1",
       "version_major": 2,
       "version_minor": 0
      },
      "text/plain": [
       "  0%|          | 0/150 [00:00<?, ?it/s]"
      ]
     },
     "metadata": {},
     "output_type": "display_data"
    },
    {
     "name": "stdout",
     "output_type": "stream",
     "text": [
      "Iteration 0, loss = 3.54428065025697e-09\n",
      "Iteration 1 Step Failed\n",
      "Iteration 2 Step Failed\n",
      "Iteration 3 Step Failed\n",
      "Iteration 4 Step Failed\n",
      "Iteration 5 Step Failed\n",
      "Iteration 8 Step Failed\n",
      "Iteration 9 Step Failed\n",
      "Iteration 10 Step Failed\n",
      "Iteration 11 Step Failed\n",
      "Iteration 12 Step Failed\n",
      "Iteration 13 Step Failed\n",
      "Iteration 14 Step Failed\n",
      "Iteration 15 Step Failed\n",
      "Iteration 16 Step Failed\n",
      "Iteration 17 Step Failed\n",
      "Iteration 18 Step Failed\n",
      "Iteration 19 Step Failed\n",
      "Iteration 20 Step Failed\n",
      "Iteration 22 Step Failed\n",
      "Iteration 23 Step Failed\n",
      "Iteration 24 Step Failed\n",
      "Iteration 25 Step Failed\n",
      "Converged by no improvement\n"
     ]
    },
    {
     "data": {
      "application/vnd.jupyter.widget-view+json": {
       "model_id": "e3a4416d2aa649b28b43efae93a65b72",
       "version_major": 2,
       "version_minor": 0
      },
      "text/plain": [
       "  0%|          | 0/101 [00:00<?, ?it/s]"
      ]
     },
     "metadata": {},
     "output_type": "display_data"
    },
    {
     "name": "stdout",
     "output_type": "stream",
     "text": [
      "Iteration 0, loss = 0.0001857, Jres = 131.2, alpha = 0.04167, improvement_ratio = 1.0\n",
      "Iteration 1, loss = 0.0001182, Jres = 0.0004816, alpha = 0.03472, improvement_ratio = 1.0\n",
      "Iteration 2, loss = 9.779e-05, Jres = 9.438e-05, alpha = 0.02894, improvement_ratio = 1.0\n",
      "Iteration 3, loss = 8.54e-05, Jres = 7.01e-05, alpha = 0.02411, improvement_ratio = 1.0\n",
      "Iteration 4, loss = 7.735e-05, Jres = 6.234e-05, alpha = 0.02009, improvement_ratio = 1.0\n",
      "Iteration 5, loss = 7.178e-05, Jres = 5.865e-05, alpha = 0.01674, improvement_ratio = 1.0\n",
      "Iteration 10, loss = 5.39e-05, Jres = 5.084e-05, alpha = 0.006729, improvement_ratio = 1.0\n",
      "Iteration 20, loss = 2.489e-05, Jres = 3.264e-05, alpha = 0.001087, improvement_ratio = 1.0\n",
      "Iteration 30, loss = 2.464e-06, Jres = 9.439e-06, alpha = 0.0001755, improvement_ratio = 1.0\n",
      "Iteration 40, loss = 1.895e-07, Jres = 5.703e-07, alpha = 2.835e-05, improvement_ratio = 1.0\n",
      "Iteration 50, loss = 2.389e-08, Jres = 5.782e-08, alpha = 4.579e-06, improvement_ratio = 1.0\n",
      "Iteration 60, loss = 4.61e-09, Jres = 1.692e-08, alpha = 8.333e-07, improvement_ratio = 1.0\n"
     ]
    },
    {
     "data": {
      "application/vnd.jupyter.widget-view+json": {
       "model_id": "7a742fd624174dc291c58f2fd6b07641",
       "version_major": 2,
       "version_minor": 0
      },
      "text/plain": [
       "  0%|          | 0/150 [00:00<?, ?it/s]"
      ]
     },
     "metadata": {},
     "output_type": "display_data"
    },
    {
     "name": "stdout",
     "output_type": "stream",
     "text": [
      "Iteration 0, loss = 7.360947590910071e-09\n",
      "Iteration 0 Step Failed\n",
      "Iteration 3 Step Failed\n",
      "Iteration 4 Step Failed\n",
      "Iteration 5 Step Failed\n",
      "Iteration 7 Step Failed\n",
      "Iteration 8 Step Failed\n",
      "Iteration 9 Step Failed\n",
      "Iteration 10 Step Failed\n",
      "Iteration 11 Step Failed\n",
      "Iteration 13 Step Failed\n",
      "Iteration 14 Step Failed\n",
      "Iteration 15 Step Failed\n",
      "Iteration 16 Step Failed\n",
      "Iteration 17 Step Failed\n",
      "Iteration 18 Step Failed\n",
      "Iteration 19 Step Failed\n",
      "Iteration 21 Step Failed\n",
      "Iteration 22 Step Failed\n",
      "Iteration 23 Step Failed\n",
      "Iteration 24 Step Failed\n",
      "Iteration 25 Step Failed\n",
      "Converged by no improvement\n"
     ]
    },
    {
     "data": {
      "application/vnd.jupyter.widget-view+json": {
       "model_id": "4f8f924643a84592a21070364ff6304e",
       "version_major": 2,
       "version_minor": 0
      },
      "text/plain": [
       "  0%|          | 0/101 [00:00<?, ?it/s]"
      ]
     },
     "metadata": {},
     "output_type": "display_data"
    },
    {
     "name": "stdout",
     "output_type": "stream",
     "text": [
      "Iteration 0, loss = 2.644e-05, Jres = 131.4, alpha = 0.04167, improvement_ratio = 1.0\n",
      "Iteration 1, loss = 1.654e-05, Jres = 0.0001946, alpha = 0.03472, improvement_ratio = 1.0\n",
      "Iteration 2, loss = 1.364e-05, Jres = 3.558e-05, alpha = 0.02894, improvement_ratio = 1.0\n",
      "Iteration 3, loss = 1.187e-05, Jres = 2.621e-05, alpha = 0.02411, improvement_ratio = 1.0\n",
      "Iteration 4, loss = 1.073e-05, Jres = 2.324e-05, alpha = 0.02009, improvement_ratio = 1.0\n",
      "Iteration 5, loss = 9.942e-06, Jres = 2.183e-05, alpha = 0.01674, improvement_ratio = 1.0\n",
      "Iteration 10, loss = 7.528e-06, Jres = 1.896e-05, alpha = 0.006729, improvement_ratio = 1.0\n",
      "Iteration 20, loss = 3.531e-06, Jres = 1.228e-05, alpha = 0.001087, improvement_ratio = 1.0\n",
      "Iteration 30, loss = 3.327e-07, Jres = 3.529e-06, alpha = 0.0001755, improvement_ratio = 1.0\n",
      "Iteration 40, loss = 2.178e-08, Jres = 2.002e-07, alpha = 2.835e-05, improvement_ratio = 1.0\n",
      "Iteration 50, loss = 3.109e-09, Jres = 1.951e-08, alpha = 4.579e-06, improvement_ratio = 1.0\n"
     ]
    },
    {
     "data": {
      "application/vnd.jupyter.widget-view+json": {
       "model_id": "c6123b8f31954f8ca8bf611017f5d227",
       "version_major": 2,
       "version_minor": 0
      },
      "text/plain": [
       "  0%|          | 0/150 [00:00<?, ?it/s]"
      ]
     },
     "metadata": {},
     "output_type": "display_data"
    },
    {
     "name": "stdout",
     "output_type": "stream",
     "text": [
      "Iteration 0, loss = 2.832234987307274e-09\n",
      "Iteration 0 Step Failed\n",
      "Iteration 1 Step Failed\n",
      "Iteration 2 Step Failed\n",
      "Iteration 3 Step Failed\n",
      "Iteration 5 Step Failed\n",
      "Iteration 6 Step Failed\n",
      "Iteration 7 Step Failed\n",
      "Iteration 8 Step Failed\n",
      "Iteration 9 Step Failed\n",
      "Iteration 10 Step Failed\n",
      "Iteration 11 Step Failed\n",
      "Iteration 12 Step Failed\n",
      "Iteration 13 Step Failed\n",
      "Iteration 14 Step Failed\n",
      "Iteration 15 Step Failed\n",
      "Iteration 16 Step Failed\n",
      "Iteration 17 Step Failed\n",
      "Iteration 18 Step Failed\n",
      "Iteration 19 Step Failed\n",
      "Iteration 20 Step Failed\n",
      "Iteration 21 Step Failed\n",
      "Iteration 22 Step Failed\n",
      "Iteration 23 Step Failed\n",
      "Iteration 24 Step Failed\n",
      "Iteration 25 Step Failed\n",
      "Converged by no improvement\n"
     ]
    },
    {
     "data": {
      "application/vnd.jupyter.widget-view+json": {
       "model_id": "9d9b3efcdacb4cbca7b3f4f3d2c44aec",
       "version_major": 2,
       "version_minor": 0
      },
      "text/plain": [
       "  0%|          | 0/101 [00:00<?, ?it/s]"
      ]
     },
     "metadata": {},
     "output_type": "display_data"
    },
    {
     "name": "stdout",
     "output_type": "stream",
     "text": [
      "Iteration 0, loss = 2.814e-06, Jres = 132.7, alpha = 0.04167, improvement_ratio = 1.0\n",
      "Iteration 1, loss = 1.642e-06, Jres = 4.12e-05, alpha = 0.03472, improvement_ratio = 1.0\n",
      "Iteration 2, loss = 1.273e-06, Jres = 1.11e-05, alpha = 0.02894, improvement_ratio = 1.0\n",
      "Iteration 3, loss = 1.059e-06, Jres = 8.062e-06, alpha = 0.02411, improvement_ratio = 1.0\n",
      "Iteration 4, loss = 9.291e-07, Jres = 6.906e-06, alpha = 0.02009, improvement_ratio = 1.0\n",
      "Iteration 5, loss = 8.462e-07, Jres = 6.333e-06, alpha = 0.01674, improvement_ratio = 1.0\n",
      "Iteration 10, loss = 6.156e-07, Jres = 5.377e-06, alpha = 0.006729, improvement_ratio = 1.0\n",
      "Iteration 20, loss = 2.831e-07, Jres = 3.413e-06, alpha = 0.001087, improvement_ratio = 1.0\n",
      "Iteration 30, loss = 3.17e-08, Jres = 9.971e-07, alpha = 0.0001755, improvement_ratio = 1.0\n",
      "Iteration 40, loss = 2.534e-09, Jres = 6.173e-08, alpha = 2.835e-05, improvement_ratio = 1.0\n"
     ]
    },
    {
     "data": {
      "application/vnd.jupyter.widget-view+json": {
       "model_id": "ead0d551ceb547398ab91e9135d0d805",
       "version_major": 2,
       "version_minor": 0
      },
      "text/plain": [
       "  0%|          | 0/150 [00:00<?, ?it/s]"
      ]
     },
     "metadata": {},
     "output_type": "display_data"
    },
    {
     "name": "stdout",
     "output_type": "stream",
     "text": [
      "Iteration 0, loss = 1.1112055023100538e-09\n",
      "Iteration 132 Step Failed\n",
      "Iteration 133 Step Failed\n",
      "Iteration 134 Step Failed\n",
      "Converged by no improvement\n"
     ]
    },
    {
     "data": {
      "application/vnd.jupyter.widget-view+json": {
       "model_id": "d90c39274d3849ecabcbd5c13f1812fc",
       "version_major": 2,
       "version_minor": 0
      },
      "text/plain": [
       "  0%|          | 0/101 [00:00<?, ?it/s]"
      ]
     },
     "metadata": {},
     "output_type": "display_data"
    },
    {
     "name": "stdout",
     "output_type": "stream",
     "text": [
      "Iteration 0, loss = 5.597e-05, Jres = 189.1, alpha = 0.04167, improvement_ratio = 1.0\n",
      "Iteration 1, loss = 3.572e-05, Jres = 0.0002833, alpha = 0.03472, improvement_ratio = 1.0\n",
      "Iteration 2, loss = 2.975e-05, Jres = 5.155e-05, alpha = 0.02894, improvement_ratio = 1.0\n",
      "Iteration 3, loss = 2.609e-05, Jres = 3.838e-05, alpha = 0.02411, improvement_ratio = 1.0\n",
      "Iteration 4, loss = 2.369e-05, Jres = 3.428e-05, alpha = 0.02009, improvement_ratio = 1.0\n",
      "Iteration 5, loss = 2.202e-05, Jres = 3.234e-05, alpha = 0.01674, improvement_ratio = 1.0\n",
      "Iteration 10, loss = 1.667e-05, Jres = 2.817e-05, alpha = 0.006729, improvement_ratio = 1.0\n",
      "Iteration 20, loss = 7.723e-06, Jres = 1.821e-05, alpha = 0.001087, improvement_ratio = 1.0\n",
      "Iteration 30, loss = 7.384e-07, Jres = 5.238e-06, alpha = 0.0001755, improvement_ratio = 1.0\n",
      "Iteration 40, loss = 4.851e-08, Jres = 3.051e-07, alpha = 2.835e-05, improvement_ratio = 1.0\n",
      "Iteration 50, loss = 6.274e-09, Jres = 2.908e-08, alpha = 4.579e-06, improvement_ratio = 1.0\n"
     ]
    },
    {
     "data": {
      "application/vnd.jupyter.widget-view+json": {
       "model_id": "4291c3db9a33490ca8359fa0162f3bda",
       "version_major": 2,
       "version_minor": 0
      },
      "text/plain": [
       "  0%|          | 0/150 [00:00<?, ?it/s]"
      ]
     },
     "metadata": {},
     "output_type": "display_data"
    },
    {
     "name": "stdout",
     "output_type": "stream",
     "text": [
      "Iteration 0, loss = 3.4561715065307437e-09\n",
      "Iteration 4 Step Failed\n",
      "Iteration 5 Step Failed\n",
      "Iteration 6 Step Failed\n",
      "Iteration 8 Step Failed\n",
      "Iteration 9 Step Failed\n",
      "Iteration 11 Step Failed\n",
      "Iteration 12 Step Failed\n",
      "Iteration 14 Step Failed\n",
      "Iteration 15 Step Failed\n",
      "Iteration 16 Step Failed\n",
      "Iteration 17 Step Failed\n",
      "Iteration 18 Step Failed\n",
      "Iteration 19 Step Failed\n",
      "Iteration 20 Step Failed\n",
      "Iteration 21 Step Failed\n",
      "Iteration 22 Step Failed\n",
      "Iteration 23 Step Failed\n",
      "Iteration 24 Step Failed\n",
      "Iteration 25 Step Failed\n",
      "Converged by no improvement\n"
     ]
    },
    {
     "data": {
      "application/vnd.jupyter.widget-view+json": {
       "model_id": "5bce12c9e0154fd289d4df147eebea6d",
       "version_major": 2,
       "version_minor": 0
      },
      "text/plain": [
       "  0%|          | 0/101 [00:00<?, ?it/s]"
      ]
     },
     "metadata": {},
     "output_type": "display_data"
    },
    {
     "name": "stdout",
     "output_type": "stream",
     "text": [
      "Iteration 0, loss = 1.976e-05, Jres = 211.2, alpha = 0.04167, improvement_ratio = 1.0\n",
      "Iteration 1, loss = 1.219e-05, Jres = 0.0002023, alpha = 0.03472, improvement_ratio = 1.0\n",
      "Iteration 2, loss = 1.028e-05, Jres = 2.971e-05, alpha = 0.02894, improvement_ratio = 1.0\n",
      "Iteration 3, loss = 9.13e-06, Jres = 2.23e-05, alpha = 0.02411, improvement_ratio = 1.0\n",
      "Iteration 4, loss = 8.363e-06, Jres = 2.018e-05, alpha = 0.02009, improvement_ratio = 1.0\n",
      "Iteration 5, loss = 7.809e-06, Jres = 1.92e-05, alpha = 0.01674, improvement_ratio = 1.0\n",
      "Iteration 10, loss = 5.918e-06, Jres = 1.679e-05, alpha = 0.006729, improvement_ratio = 1.0\n",
      "Iteration 20, loss = 2.741e-06, Jres = 1.08e-05, alpha = 0.001087, improvement_ratio = 1.0\n",
      "Iteration 30, loss = 2.572e-07, Jres = 3.099e-06, alpha = 0.0001755, improvement_ratio = 1.0\n",
      "Iteration 40, loss = 1.63e-08, Jres = 1.697e-07, alpha = 2.835e-05, improvement_ratio = 1.0\n",
      "Iteration 50, loss = 2.347e-09, Jres = 1.545e-08, alpha = 4.579e-06, improvement_ratio = 1.0\n"
     ]
    },
    {
     "data": {
      "application/vnd.jupyter.widget-view+json": {
       "model_id": "788760bde7984d9ba09399fe628d051f",
       "version_major": 2,
       "version_minor": 0
      },
      "text/plain": [
       "  0%|          | 0/150 [00:00<?, ?it/s]"
      ]
     },
     "metadata": {},
     "output_type": "display_data"
    },
    {
     "name": "stdout",
     "output_type": "stream",
     "text": [
      "Iteration 0, loss = 2.9896163748833948e-09\n",
      "Iteration 1 Step Failed\n",
      "Iteration 2 Step Failed\n",
      "Iteration 3 Step Failed\n",
      "Iteration 4 Step Failed\n",
      "Iteration 6 Step Failed\n",
      "Iteration 7 Step Failed\n",
      "Iteration 9 Step Failed\n",
      "Iteration 10 Step Failed\n",
      "Iteration 12 Step Failed\n",
      "Iteration 13 Step Failed\n",
      "Iteration 14 Step Failed\n",
      "Iteration 15 Step Failed\n",
      "Iteration 16 Step Failed\n",
      "Iteration 17 Step Failed\n",
      "Iteration 18 Step Failed\n",
      "Iteration 19 Step Failed\n",
      "Iteration 20 Step Failed\n",
      "Iteration 21 Step Failed\n",
      "Iteration 22 Step Failed\n",
      "Iteration 23 Step Failed\n",
      "Iteration 24 Step Failed\n",
      "Iteration 25 Step Failed\n",
      "Converged by no improvement\n"
     ]
    },
    {
     "data": {
      "application/vnd.jupyter.widget-view+json": {
       "model_id": "88b2a43ef03745a28257e529043fc22a",
       "version_major": 2,
       "version_minor": 0
      },
      "text/plain": [
       "  0%|          | 0/101 [00:00<?, ?it/s]"
      ]
     },
     "metadata": {},
     "output_type": "display_data"
    },
    {
     "name": "stdout",
     "output_type": "stream",
     "text": [
      "Iteration 0, loss = 4.577e-05, Jres = 121.7, alpha = 0.04167, improvement_ratio = 1.0\n",
      "Iteration 1, loss = 2.891e-05, Jres = 0.0002519, alpha = 0.03472, improvement_ratio = 1.0\n",
      "Iteration 2, loss = 2.39e-05, Jres = 4.693e-05, alpha = 0.02894, improvement_ratio = 1.0\n",
      "Iteration 3, loss = 2.085e-05, Jres = 3.469e-05, alpha = 0.02411, improvement_ratio = 1.0\n",
      "Iteration 4, loss = 1.887e-05, Jres = 3.081e-05, alpha = 0.02009, improvement_ratio = 1.0\n",
      "Iteration 5, loss = 1.751e-05, Jres = 2.898e-05, alpha = 0.01674, improvement_ratio = 1.0\n",
      "Iteration 10, loss = 1.327e-05, Jres = 2.52e-05, alpha = 0.006729, improvement_ratio = 1.0\n",
      "Iteration 20, loss = 6.206e-06, Jres = 1.631e-05, alpha = 0.001087, improvement_ratio = 1.0\n",
      "Iteration 30, loss = 5.834e-07, Jres = 4.688e-06, alpha = 0.0001755, improvement_ratio = 1.0\n",
      "Iteration 40, loss = 3.692e-08, Jres = 2.679e-07, alpha = 2.835e-05, improvement_ratio = 1.0\n",
      "Iteration 50, loss = 5.041e-09, Jres = 2.507e-08, alpha = 4.579e-06, improvement_ratio = 1.0\n"
     ]
    },
    {
     "data": {
      "application/vnd.jupyter.widget-view+json": {
       "model_id": "da9f1cb1c2104d2e8e4981c963d759ad",
       "version_major": 2,
       "version_minor": 0
      },
      "text/plain": [
       "  0%|          | 0/150 [00:00<?, ?it/s]"
      ]
     },
     "metadata": {},
     "output_type": "display_data"
    },
    {
     "name": "stdout",
     "output_type": "stream",
     "text": [
      "Iteration 0, loss = 4.4352099479330945e-09\n",
      "Iteration 7 Step Failed\n",
      "Iteration 8 Step Failed\n",
      "Iteration 9 Step Failed\n",
      "Iteration 10 Step Failed\n",
      "Iteration 11 Step Failed\n",
      "Iteration 12 Step Failed\n",
      "Iteration 13 Step Failed\n",
      "Iteration 14 Step Failed\n",
      "Iteration 15 Step Failed\n",
      "Iteration 16 Step Failed\n",
      "Iteration 17 Step Failed\n",
      "Iteration 18 Step Failed\n",
      "Iteration 19 Step Failed\n",
      "Iteration 20 Step Failed\n",
      "Iteration 21 Step Failed\n",
      "Iteration 22 Step Failed\n",
      "Iteration 23 Step Failed\n",
      "Iteration 24 Step Failed\n",
      "Iteration 25 Step Failed\n",
      "Converged by no improvement\n"
     ]
    },
    {
     "data": {
      "application/vnd.jupyter.widget-view+json": {
       "model_id": "8d30d7c96c7441bbae1a29f809fc95a5",
       "version_major": 2,
       "version_minor": 0
      },
      "text/plain": [
       "  0%|          | 0/101 [00:00<?, ?it/s]"
      ]
     },
     "metadata": {},
     "output_type": "display_data"
    },
    {
     "name": "stdout",
     "output_type": "stream",
     "text": [
      "Iteration 0, loss = 5.259e-05, Jres = 180.9, alpha = 0.04167, improvement_ratio = 1.0\n",
      "Iteration 1, loss = 3.294e-05, Jres = 0.000273, alpha = 0.03472, improvement_ratio = 1.0\n",
      "Iteration 2, loss = 2.722e-05, Jres = 4.943e-05, alpha = 0.02894, improvement_ratio = 1.0\n",
      "Iteration 3, loss = 2.374e-05, Jres = 3.669e-05, alpha = 0.02411, improvement_ratio = 1.0\n",
      "Iteration 4, loss = 2.146e-05, Jres = 3.27e-05, alpha = 0.02009, improvement_ratio = 1.0\n",
      "Iteration 5, loss = 1.986e-05, Jres = 3.08e-05, alpha = 0.01674, improvement_ratio = 1.0\n",
      "Iteration 10, loss = 1.483e-05, Jres = 2.664e-05, alpha = 0.006729, improvement_ratio = 1.0\n",
      "Iteration 20, loss = 6.762e-06, Jres = 1.704e-05, alpha = 0.001087, improvement_ratio = 1.0\n",
      "Iteration 30, loss = 6.354e-07, Jres = 4.869e-06, alpha = 0.0001755, improvement_ratio = 1.0\n",
      "Iteration 40, loss = 4.093e-08, Jres = 2.686e-07, alpha = 2.835e-05, improvement_ratio = 1.0\n",
      "Iteration 50, loss = 5.933e-09, Jres = 2.346e-08, alpha = 4.579e-06, improvement_ratio = 1.0\n"
     ]
    },
    {
     "data": {
      "application/vnd.jupyter.widget-view+json": {
       "model_id": "619ea0ddf3bd4762a8aaf2e4c0bbd2d2",
       "version_major": 2,
       "version_minor": 0
      },
      "text/plain": [
       "  0%|          | 0/150 [00:00<?, ?it/s]"
      ]
     },
     "metadata": {},
     "output_type": "display_data"
    },
    {
     "name": "stdout",
     "output_type": "stream",
     "text": [
      "Iteration 0, loss = 5.307877271238484e-09\n",
      "Iteration 1 Step Failed\n",
      "Iteration 5 Step Failed\n",
      "Iteration 6 Step Failed\n",
      "Iteration 7 Step Failed\n",
      "Iteration 8 Step Failed\n",
      "Iteration 9 Step Failed\n",
      "Iteration 11 Step Failed\n",
      "Iteration 12 Step Failed\n",
      "Iteration 13 Step Failed\n",
      "Iteration 14 Step Failed\n",
      "Iteration 15 Step Failed\n",
      "Iteration 16 Step Failed\n",
      "Iteration 17 Step Failed\n",
      "Iteration 18 Step Failed\n",
      "Iteration 19 Step Failed\n",
      "Iteration 20 Step Failed\n",
      "Iteration 21 Step Failed\n",
      "Iteration 22 Step Failed\n",
      "Iteration 23 Step Failed\n",
      "Iteration 24 Step Failed\n",
      "Iteration 25 Step Failed\n",
      "Converged by no improvement\n"
     ]
    },
    {
     "data": {
      "application/vnd.jupyter.widget-view+json": {
       "model_id": "d7d931e8af2443bd8406f1430cd0d08f",
       "version_major": 2,
       "version_minor": 0
      },
      "text/plain": [
       "  0%|          | 0/101 [00:00<?, ?it/s]"
      ]
     },
     "metadata": {},
     "output_type": "display_data"
    },
    {
     "name": "stdout",
     "output_type": "stream",
     "text": [
      "Iteration 0, loss = 3.098e-05, Jres = 118.5, alpha = 0.04167, improvement_ratio = 1.0\n",
      "Iteration 1, loss = 1.95e-05, Jres = 0.000219, alpha = 0.03472, improvement_ratio = 1.0\n",
      "Iteration 2, loss = 1.623e-05, Jres = 3.817e-05, alpha = 0.02894, improvement_ratio = 1.0\n",
      "Iteration 3, loss = 1.424e-05, Jres = 2.831e-05, alpha = 0.02411, improvement_ratio = 1.0\n",
      "Iteration 4, loss = 1.292e-05, Jres = 2.528e-05, alpha = 0.02009, improvement_ratio = 1.0\n",
      "Iteration 5, loss = 1.2e-05, Jres = 2.386e-05, alpha = 0.01674, improvement_ratio = 1.0\n",
      "Iteration 10, loss = 9.05e-06, Jres = 2.071e-05, alpha = 0.006729, improvement_ratio = 1.0\n",
      "Iteration 20, loss = 4.221e-06, Jres = 1.338e-05, alpha = 0.001087, improvement_ratio = 1.0\n",
      "Iteration 30, loss = 4.361e-07, Jres = 3.887e-06, alpha = 0.0001755, improvement_ratio = 1.0\n",
      "Iteration 40, loss = 3.515e-08, Jres = 2.43e-07, alpha = 2.835e-05, improvement_ratio = 1.0\n",
      "Iteration 50, loss = 4.6e-09, Jres = 2.511e-08, alpha = 4.579e-06, improvement_ratio = 1.0\n"
     ]
    },
    {
     "data": {
      "application/vnd.jupyter.widget-view+json": {
       "model_id": "815fe2fbb9124181a5a8d8967960f303",
       "version_major": 2,
       "version_minor": 0
      },
      "text/plain": [
       "  0%|          | 0/150 [00:00<?, ?it/s]"
      ]
     },
     "metadata": {},
     "output_type": "display_data"
    },
    {
     "name": "stdout",
     "output_type": "stream",
     "text": [
      "Iteration 0, loss = 3.57558533967466e-09\n",
      "Iteration 1 Step Failed\n",
      "Iteration 3 Step Failed\n",
      "Iteration 4 Step Failed\n",
      "Iteration 5 Step Failed\n",
      "Iteration 6 Step Failed\n",
      "Iteration 7 Step Failed\n",
      "Iteration 8 Step Failed\n",
      "Iteration 9 Step Failed\n",
      "Iteration 10 Step Failed\n",
      "Iteration 11 Step Failed\n",
      "Iteration 12 Step Failed\n",
      "Iteration 13 Step Failed\n",
      "Iteration 14 Step Failed\n",
      "Iteration 15 Step Failed\n",
      "Iteration 16 Step Failed\n",
      "Iteration 17 Step Failed\n",
      "Iteration 18 Step Failed\n",
      "Iteration 19 Step Failed\n",
      "Iteration 20 Step Failed\n",
      "Iteration 21 Step Failed\n",
      "Iteration 22 Step Failed\n",
      "Iteration 23 Step Failed\n",
      "Iteration 24 Step Failed\n",
      "Iteration 25 Step Failed\n",
      "Converged by no improvement\n"
     ]
    },
    {
     "data": {
      "application/vnd.jupyter.widget-view+json": {
       "model_id": "d348a780f57144aab1b1d7638e68b538",
       "version_major": 2,
       "version_minor": 0
      },
      "text/plain": [
       "  0%|          | 0/101 [00:00<?, ?it/s]"
      ]
     },
     "metadata": {},
     "output_type": "display_data"
    },
    {
     "name": "stdout",
     "output_type": "stream",
     "text": [
      "Iteration 0, loss = 1.494e-05, Jres = 168.4, alpha = 0.04167, improvement_ratio = 1.0\n",
      "Iteration 1, loss = 8.884e-06, Jres = 0.0002161, alpha = 0.03472, improvement_ratio = 1.0\n",
      "Iteration 2, loss = 7.47e-06, Jres = 2.565e-05, alpha = 0.02894, improvement_ratio = 1.0\n",
      "Iteration 3, loss = 6.615e-06, Jres = 1.879e-05, alpha = 0.02411, improvement_ratio = 1.0\n",
      "Iteration 4, loss = 6.04e-06, Jres = 1.693e-05, alpha = 0.02009, improvement_ratio = 1.0\n",
      "Iteration 5, loss = 5.633e-06, Jres = 1.609e-05, alpha = 0.01674, improvement_ratio = 1.0\n",
      "Iteration 10, loss = 4.415e-06, Jres = 1.423e-05, alpha = 0.006729, improvement_ratio = 1.0\n",
      "Iteration 20, loss = 2.181e-06, Jres = 9.584e-06, alpha = 0.001087, improvement_ratio = 1.0\n",
      "Iteration 30, loss = 2.025e-07, Jres = 2.753e-06, alpha = 0.0001755, improvement_ratio = 1.0\n",
      "Iteration 40, loss = 1.351e-08, Jres = 1.518e-07, alpha = 2.835e-05, improvement_ratio = 1.0\n",
      "Iteration 50, loss = 2.622e-09, Jres = 1.512e-08, alpha = 4.579e-06, improvement_ratio = 1.0\n"
     ]
    },
    {
     "data": {
      "application/vnd.jupyter.widget-view+json": {
       "model_id": "e0bd327d1f4b4824b3849cfbbc775c00",
       "version_major": 2,
       "version_minor": 0
      },
      "text/plain": [
       "  0%|          | 0/150 [00:00<?, ?it/s]"
      ]
     },
     "metadata": {},
     "output_type": "display_data"
    },
    {
     "name": "stdout",
     "output_type": "stream",
     "text": [
      "Iteration 0, loss = 3.372289092544996e-09\n",
      "Iteration 1 Step Failed\n",
      "Iteration 2 Step Failed\n",
      "Iteration 3 Step Failed\n",
      "Iteration 4 Step Failed\n",
      "Iteration 6 Step Failed\n",
      "Iteration 7 Step Failed\n",
      "Iteration 8 Step Failed\n",
      "Iteration 9 Step Failed\n",
      "Iteration 10 Step Failed\n",
      "Iteration 11 Step Failed\n",
      "Iteration 12 Step Failed\n",
      "Iteration 13 Step Failed\n",
      "Iteration 14 Step Failed\n",
      "Iteration 15 Step Failed\n",
      "Iteration 16 Step Failed\n",
      "Iteration 17 Step Failed\n",
      "Iteration 18 Step Failed\n",
      "Iteration 19 Step Failed\n",
      "Iteration 20 Step Failed\n",
      "Iteration 21 Step Failed\n",
      "Iteration 22 Step Failed\n",
      "Iteration 23 Step Failed\n",
      "Iteration 24 Step Failed\n",
      "Converged by no improvement\n"
     ]
    },
    {
     "data": {
      "application/vnd.jupyter.widget-view+json": {
       "model_id": "87556dfd0a4748e4b93b33966a222782",
       "version_major": 2,
       "version_minor": 0
      },
      "text/plain": [
       "  0%|          | 0/101 [00:00<?, ?it/s]"
      ]
     },
     "metadata": {},
     "output_type": "display_data"
    },
    {
     "name": "stdout",
     "output_type": "stream",
     "text": [
      "Iteration 0, loss = 1.428e-05, Jres = 162.4, alpha = 0.04167, improvement_ratio = 1.0\n",
      "Iteration 1, loss = 8.748e-06, Jres = 0.0001625, alpha = 0.03472, improvement_ratio = 1.0\n",
      "Iteration 2, loss = 7.219e-06, Jres = 2.568e-05, alpha = 0.02894, improvement_ratio = 1.0\n",
      "Iteration 3, loss = 6.293e-06, Jres = 1.876e-05, alpha = 0.02411, improvement_ratio = 1.0\n",
      "Iteration 4, loss = 5.696e-06, Jres = 1.665e-05, alpha = 0.02009, improvement_ratio = 1.0\n",
      "Iteration 5, loss = 5.294e-06, Jres = 1.569e-05, alpha = 0.01674, improvement_ratio = 1.0\n",
      "Iteration 10, loss = 4.135e-06, Jres = 1.385e-05, alpha = 0.006729, improvement_ratio = 1.0\n",
      "Iteration 20, loss = 2.037e-06, Jres = 9.29e-06, alpha = 0.001087, improvement_ratio = 1.0\n",
      "Iteration 30, loss = 1.861e-07, Jres = 2.673e-06, alpha = 0.0001755, improvement_ratio = 1.0\n",
      "Iteration 40, loss = 1.069e-08, Jres = 1.453e-07, alpha = 2.835e-05, improvement_ratio = 1.0\n",
      "Iteration 50, loss = 1.851e-09, Jres = 1.312e-08, alpha = 4.579e-06, improvement_ratio = 1.0\n"
     ]
    },
    {
     "data": {
      "application/vnd.jupyter.widget-view+json": {
       "model_id": "38fc0afd8ab7424580555537bad94368",
       "version_major": 2,
       "version_minor": 0
      },
      "text/plain": [
       "  0%|          | 0/150 [00:00<?, ?it/s]"
      ]
     },
     "metadata": {},
     "output_type": "display_data"
    },
    {
     "name": "stdout",
     "output_type": "stream",
     "text": [
      "Iteration 0, loss = 2.780285428662079e-09\n",
      "Iteration 1 Step Failed\n",
      "Iteration 2 Step Failed\n",
      "Iteration 3 Step Failed\n",
      "Iteration 4 Step Failed\n",
      "Iteration 5 Step Failed\n",
      "Iteration 6 Step Failed\n",
      "Iteration 7 Step Failed\n",
      "Iteration 8 Step Failed\n",
      "Iteration 9 Step Failed\n",
      "Iteration 10 Step Failed\n",
      "Iteration 11 Step Failed\n",
      "Iteration 14 Step Failed\n",
      "Iteration 15 Step Failed\n",
      "Iteration 16 Step Failed\n",
      "Iteration 17 Step Failed\n",
      "Iteration 18 Step Failed\n",
      "Iteration 19 Step Failed\n",
      "Iteration 20 Step Failed\n",
      "Iteration 21 Step Failed\n",
      "Iteration 22 Step Failed\n",
      "Iteration 23 Step Failed\n",
      "Iteration 24 Step Failed\n",
      "Iteration 25 Step Failed\n",
      "Converged by no improvement\n"
     ]
    },
    {
     "data": {
      "application/vnd.jupyter.widget-view+json": {
       "model_id": "64c4d899319e494ebac99fc0085fad34",
       "version_major": 2,
       "version_minor": 0
      },
      "text/plain": [
       "  0%|          | 0/101 [00:00<?, ?it/s]"
      ]
     },
     "metadata": {},
     "output_type": "display_data"
    },
    {
     "name": "stdout",
     "output_type": "stream",
     "text": [
      "Iteration 0, loss = 1.686e-06, Jres = 86.27, alpha = 0.04167, improvement_ratio = 1.0\n",
      "Iteration 1, loss = 9.689e-07, Jres = 3.3e-05, alpha = 0.03472, improvement_ratio = 1.0\n",
      "Iteration 2, loss = 7.451e-07, Jres = 7.701e-06, alpha = 0.02894, improvement_ratio = 1.0\n",
      "Iteration 3, loss = 6.216e-07, Jres = 5.795e-06, alpha = 0.02411, improvement_ratio = 1.0\n",
      "Iteration 4, loss = 5.449e-07, Jres = 5.045e-06, alpha = 0.02009, improvement_ratio = 1.0\n",
      "Iteration 5, loss = 4.916e-07, Jres = 4.657e-06, alpha = 0.01674, improvement_ratio = 1.0\n",
      "Iteration 10, loss = 3.101e-07, Jres = 3.786e-06, alpha = 0.006729, improvement_ratio = 1.0\n",
      "Iteration 20, loss = 1.065e-07, Jres = 2.09e-06, alpha = 0.001087, improvement_ratio = 1.0\n",
      "Iteration 30, loss = 1.442e-08, Jres = 5.975e-07, alpha = 0.0001755, improvement_ratio = 1.0\n",
      "Iteration 40, loss = 2.903e-09, Jres = 3.346e-08, alpha = 2.835e-05, improvement_ratio = 1.0\n"
     ]
    },
    {
     "data": {
      "application/vnd.jupyter.widget-view+json": {
       "model_id": "303f780566994691b7aa0bfef8c2f553",
       "version_major": 2,
       "version_minor": 0
      },
      "text/plain": [
       "  0%|          | 0/150 [00:00<?, ?it/s]"
      ]
     },
     "metadata": {},
     "output_type": "display_data"
    },
    {
     "name": "stdout",
     "output_type": "stream",
     "text": [
      "Iteration 0, loss = 3.0055716958298683e-09\n",
      "Iteration 129 Step Failed\n",
      "Iteration 130 Step Failed\n",
      "Iteration 131 Step Failed\n",
      "Iteration 132 Step Failed\n",
      "Iteration 133 Step Failed\n",
      "Iteration 134 Step Failed\n",
      "Iteration 135 Step Failed\n",
      "Converged by no improvement\n"
     ]
    },
    {
     "data": {
      "application/vnd.jupyter.widget-view+json": {
       "model_id": "a7d14dab924d462081f263f57e1ab3b9",
       "version_major": 2,
       "version_minor": 0
      },
      "text/plain": [
       "  0%|          | 0/101 [00:00<?, ?it/s]"
      ]
     },
     "metadata": {},
     "output_type": "display_data"
    },
    {
     "name": "stdout",
     "output_type": "stream",
     "text": [
      "Iteration 0, loss = 5.507e-06, Jres = 66.76, alpha = 0.04167, improvement_ratio = 1.0\n",
      "Iteration 1, loss = 3.488e-06, Jres = 8.652e-05, alpha = 0.03472, improvement_ratio = 1.0\n",
      "Iteration 2, loss = 2.908e-06, Jres = 1.605e-05, alpha = 0.02894, improvement_ratio = 1.0\n",
      "Iteration 3, loss = 2.555e-06, Jres = 1.195e-05, alpha = 0.02411, improvement_ratio = 1.0\n",
      "Iteration 4, loss = 2.325e-06, Jres = 1.069e-05, alpha = 0.02009, improvement_ratio = 1.0\n",
      "Iteration 5, loss = 2.165e-06, Jres = 1.011e-05, alpha = 0.01674, improvement_ratio = 1.0\n",
      "Iteration 10, loss = 1.647e-06, Jres = 8.842e-06, alpha = 0.006729, improvement_ratio = 1.0\n",
      "Iteration 20, loss = 7.711e-07, Jres = 5.734e-06, alpha = 0.001087, improvement_ratio = 1.0\n",
      "Iteration 30, loss = 7.586e-08, Jres = 1.661e-06, alpha = 0.0001755, improvement_ratio = 1.0\n",
      "Iteration 40, loss = 4.314e-09, Jres = 9.51e-08, alpha = 2.835e-05, improvement_ratio = 1.0\n"
     ]
    },
    {
     "data": {
      "application/vnd.jupyter.widget-view+json": {
       "model_id": "6a6ffd0d8f1749358f6e54e75c4fe522",
       "version_major": 2,
       "version_minor": 0
      },
      "text/plain": [
       "  0%|          | 0/150 [00:00<?, ?it/s]"
      ]
     },
     "metadata": {},
     "output_type": "display_data"
    },
    {
     "name": "stdout",
     "output_type": "stream",
     "text": [
      "Iteration 0, loss = 1.0829551759012553e-09\n",
      "Iteration 2 Step Failed\n",
      "Iteration 5 Step Failed\n",
      "Iteration 8 Step Failed\n",
      "Iteration 9 Step Failed\n",
      "Iteration 10 Step Failed\n",
      "Iteration 11 Step Failed\n",
      "Iteration 13 Step Failed\n",
      "Iteration 14 Step Failed\n",
      "Iteration 15 Step Failed\n",
      "Iteration 16 Step Failed\n",
      "Iteration 17 Step Failed\n",
      "Iteration 18 Step Failed\n",
      "Iteration 20 Step Failed\n",
      "Iteration 21 Step Failed\n",
      "Iteration 22 Step Failed\n",
      "Iteration 23 Step Failed\n",
      "Iteration 24 Step Failed\n",
      "Iteration 25 Step Failed\n",
      "Converged by no improvement\n"
     ]
    },
    {
     "data": {
      "application/vnd.jupyter.widget-view+json": {
       "model_id": "e347d2ec02864a5d979c51007236c1bd",
       "version_major": 2,
       "version_minor": 0
      },
      "text/plain": [
       "  0%|          | 0/10099 [00:00<?, ?it/s]"
      ]
     },
     "metadata": {},
     "output_type": "display_data"
    },
    {
     "data": {
      "application/vnd.jupyter.widget-view+json": {
       "model_id": "4cb9b3d04e4e4fe0a326453070fc0131",
       "version_major": 2,
       "version_minor": 0
      },
      "text/plain": [
       "  0%|          | 0/501 [00:00<?, ?it/s]"
      ]
     },
     "metadata": {},
     "output_type": "display_data"
    },
    {
     "name": "stdout",
     "output_type": "stream",
     "text": [
      "Iteration 0, loss = 0.003529, Jres = 17.11, alpha = 0.08333, improvement_ratio = 0.9843\n",
      "Iteration 1, loss = 0.002264, Jres = 1.658, alpha = 0.06944, improvement_ratio = 1.023\n",
      "Iteration 2, loss = 0.001946, Jres = 0.2361, alpha = 0.05787, improvement_ratio = 0.99\n",
      "Iteration 3, loss = 0.001771, Jres = 0.5464, alpha = 0.04823, improvement_ratio = 1.004\n",
      "Iteration 4, loss = 0.001643, Jres = 0.1903, alpha = 0.04019, improvement_ratio = 1.008\n",
      "Iteration 5, loss = 0.00153, Jres = 0.08389, alpha = 0.03349, improvement_ratio = 1.012\n",
      "Iteration 100, loss = 2.15e-05, Jres = 4.769e-05, alpha = 8.333e-07, improvement_ratio = 1.0\n",
      "Iteration 200, loss = 1.677e-05, Jres = 3.484e-06, alpha = 8.333e-07, improvement_ratio = 1.0\n",
      "Iteration 300, loss = 1.594e-05, Jres = 1.078e-06, alpha = 8.333e-07, improvement_ratio = 1.0\n",
      "Iteration 400, loss = 1.557e-05, Jres = 4.521e-07, alpha = 8.333e-07, improvement_ratio = 1.0\n",
      "Iteration 500, loss = 1.531e-05, Jres = 4.053e-07, alpha = 8.333e-07, improvement_ratio = 1.0\n"
     ]
    },
    {
     "data": {
      "application/vnd.jupyter.widget-view+json": {
       "model_id": "69e6835aeac444d3a51afbad12bda49d",
       "version_major": 2,
       "version_minor": 0
      },
      "text/plain": [
       "  0%|          | 0/500 [00:00<?, ?it/s]"
      ]
     },
     "metadata": {},
     "output_type": "display_data"
    },
    {
     "name": "stdout",
     "output_type": "stream",
     "text": [
      "Iteration 0, loss = 1.5297336508948364e-05\n",
      "Iteration 91 Step Failed\n",
      "Iteration 108 Step Failed\n",
      "Iteration 147 Step Failed\n",
      "Iteration 200 Step Failed\n",
      "Iteration 248 Step Failed\n",
      "Iteration 268 Step Failed\n",
      "Iteration 339 Step Failed\n",
      "Iteration 366 Step Failed\n",
      "Iteration 374 Step Failed\n",
      "Iteration 384 Step Failed\n",
      "Iteration 393 Step Failed\n",
      "Iteration 405 Step Failed\n",
      "Iteration 478 Step Failed\n",
      "Iteration 482 Step Failed\n"
     ]
    },
    {
     "data": {
      "application/vnd.jupyter.widget-view+json": {
       "model_id": "48d6b1c56cd4445bad0c1644e8452589",
       "version_major": 2,
       "version_minor": 0
      },
      "text/plain": [
       "  0%|          | 0/10099 [00:00<?, ?it/s]"
      ]
     },
     "metadata": {},
     "output_type": "display_data"
    },
    {
     "data": {
      "application/vnd.jupyter.widget-view+json": {
       "model_id": "b91db98a015145e3a2b6113d6b754e25",
       "version_major": 2,
       "version_minor": 0
      },
      "text/plain": [
       "  0%|          | 0/10099 [00:00<?, ?it/s]"
      ]
     },
     "metadata": {},
     "output_type": "display_data"
    },
    {
     "data": {
      "application/vnd.jupyter.widget-view+json": {
       "model_id": "88a5387d985e41798b27177b84f4a9e9",
       "version_major": 2,
       "version_minor": 0
      },
      "text/plain": [
       "  0%|          | 0/10099 [00:00<?, ?it/s]"
      ]
     },
     "metadata": {},
     "output_type": "display_data"
    },
    {
     "data": {
      "application/vnd.jupyter.widget-view+json": {
       "model_id": "ee63869a8d7e4e99a68b8348afbdeab8",
       "version_major": 2,
       "version_minor": 0
      },
      "text/plain": [
       "  0%|          | 0/10099 [00:00<?, ?it/s]"
      ]
     },
     "metadata": {},
     "output_type": "display_data"
    },
    {
     "data": {
      "application/vnd.jupyter.widget-view+json": {
       "model_id": "52198b746bac44e1a85b9ff3146a545d",
       "version_major": 2,
       "version_minor": 0
      },
      "text/plain": [
       "  0%|          | 0/10099 [00:00<?, ?it/s]"
      ]
     },
     "metadata": {},
     "output_type": "display_data"
    },
    {
     "data": {
      "application/vnd.jupyter.widget-view+json": {
       "model_id": "ecf4a92ddff84d98905513dc2c51466a",
       "version_major": 2,
       "version_minor": 0
      },
      "text/plain": [
       "  0%|          | 0/10099 [00:00<?, ?it/s]"
      ]
     },
     "metadata": {},
     "output_type": "display_data"
    },
    {
     "data": {
      "application/vnd.jupyter.widget-view+json": {
       "model_id": "40807f564ace470888527efdf01349e0",
       "version_major": 2,
       "version_minor": 0
      },
      "text/plain": [
       "  0%|          | 0/10099 [00:00<?, ?it/s]"
      ]
     },
     "metadata": {},
     "output_type": "display_data"
    },
    {
     "data": {
      "application/vnd.jupyter.widget-view+json": {
       "model_id": "92e8acf119d740c98840a17d1084e7f4",
       "version_major": 2,
       "version_minor": 0
      },
      "text/plain": [
       "  0%|          | 0/10099 [00:00<?, ?it/s]"
      ]
     },
     "metadata": {},
     "output_type": "display_data"
    },
    {
     "data": {
      "application/vnd.jupyter.widget-view+json": {
       "model_id": "3af9bf75e93e48059f7d19571147a79f",
       "version_major": 2,
       "version_minor": 0
      },
      "text/plain": [
       "  0%|          | 0/10099 [00:00<?, ?it/s]"
      ]
     },
     "metadata": {},
     "output_type": "display_data"
    },
    {
     "data": {
      "application/vnd.jupyter.widget-view+json": {
       "model_id": "d0ef03920cba4833b803c31cb497af00",
       "version_major": 2,
       "version_minor": 0
      },
      "text/plain": [
       "  0%|          | 0/10099 [00:00<?, ?it/s]"
      ]
     },
     "metadata": {},
     "output_type": "display_data"
    },
    {
     "data": {
      "application/vnd.jupyter.widget-view+json": {
       "model_id": "ad65a15dc416498e8ab6b1fb7de88081",
       "version_major": 2,
       "version_minor": 0
      },
      "text/plain": [
       "  0%|          | 0/10099 [00:00<?, ?it/s]"
      ]
     },
     "metadata": {},
     "output_type": "display_data"
    },
    {
     "data": {
      "application/vnd.jupyter.widget-view+json": {
       "model_id": "be0b5531e7544d1897253a36de5ae8cc",
       "version_major": 2,
       "version_minor": 0
      },
      "text/plain": [
       "  0%|          | 0/10099 [00:00<?, ?it/s]"
      ]
     },
     "metadata": {},
     "output_type": "display_data"
    },
    {
     "data": {
      "application/vnd.jupyter.widget-view+json": {
       "model_id": "0b6d8935a5d445838063958981f6a576",
       "version_major": 2,
       "version_minor": 0
      },
      "text/plain": [
       "  0%|          | 0/10099 [00:00<?, ?it/s]"
      ]
     },
     "metadata": {},
     "output_type": "display_data"
    },
    {
     "data": {
      "application/vnd.jupyter.widget-view+json": {
       "model_id": "d147680c86044dfd9995cca39afc74a3",
       "version_major": 2,
       "version_minor": 0
      },
      "text/plain": [
       "  0%|          | 0/10099 [00:00<?, ?it/s]"
      ]
     },
     "metadata": {},
     "output_type": "display_data"
    },
    {
     "data": {
      "application/vnd.jupyter.widget-view+json": {
       "model_id": "0d3691dddeda4d4ab1d1a11184344a92",
       "version_major": 2,
       "version_minor": 0
      },
      "text/plain": [
       "  0%|          | 0/10099 [00:00<?, ?it/s]"
      ]
     },
     "metadata": {},
     "output_type": "display_data"
    },
    {
     "data": {
      "application/vnd.jupyter.widget-view+json": {
       "model_id": "b613ed81b14b4cf6b1825993378d373e",
       "version_major": 2,
       "version_minor": 0
      },
      "text/plain": [
       "  0%|          | 0/101 [00:00<?, ?it/s]"
      ]
     },
     "metadata": {},
     "output_type": "display_data"
    },
    {
     "name": "stdout",
     "output_type": "stream",
     "text": [
      "Iteration 0, loss = 2.539, Jres = 228.0, alpha = 0.04167, improvement_ratio = 0.9869\n",
      "Iteration 1, loss = 0.5532, Jres = 6.181, alpha = 0.03472, improvement_ratio = 0.9352\n",
      "Iteration 2, loss = 0.3777, Jres = 0.958, alpha = 0.02894, improvement_ratio = 0.8467\n",
      "Iteration 3, loss = 0.3429, Jres = 0.1713, alpha = 0.02411, improvement_ratio = 0.9334\n",
      "Iteration 4, loss = 0.3337, Jres = 0.03396, alpha = 0.02009, improvement_ratio = 1.027\n",
      "Iteration 5, loss = 0.3282, Jres = 0.007511, alpha = 0.01674, improvement_ratio = 1.01\n",
      "Iteration 10, loss = 0.3095, Jres = 0.002014, alpha = 0.006729, improvement_ratio = 1.003\n",
      "Iteration 20, loss = 0.2832, Jres = 0.002691, alpha = 0.001087, improvement_ratio = 1.004\n",
      "Iteration 30, loss = 0.2567, Jres = 0.003307, alpha = 0.0001755, improvement_ratio = 1.006\n",
      "Iteration 40, loss = 0.2264, Jres = 0.01177, alpha = 2.835e-05, improvement_ratio = 1.072\n",
      "Iteration 50, loss = 0.2055, Jres = 0.005816, alpha = 4.579e-06, improvement_ratio = 1.032\n",
      "Iteration 60, loss = 0.1861, Jres = 0.003755, alpha = 8.333e-07, improvement_ratio = 1.021\n",
      "Iteration 70, loss = 0.1713, Jres = 0.00111, alpha = 8.333e-07, improvement_ratio = 1.004\n",
      "Iteration 80, loss = 0.1632, Jres = 0.0005222, alpha = 8.333e-07, improvement_ratio = 1.002\n",
      "Iteration 90, loss = 0.1573, Jres = 0.0003069, alpha = 8.333e-07, improvement_ratio = 1.001\n",
      "Iteration 100, loss = 0.1528, Jres = 0.0002278, alpha = 8.333e-07, improvement_ratio = 1.001\n"
     ]
    },
    {
     "data": {
      "application/vnd.jupyter.widget-view+json": {
       "model_id": "ea2391de82f4495992259ceda7861c2b",
       "version_major": 2,
       "version_minor": 0
      },
      "text/plain": [
       "  0%|          | 0/150 [00:00<?, ?it/s]"
      ]
     },
     "metadata": {},
     "output_type": "display_data"
    },
    {
     "name": "stdout",
     "output_type": "stream",
     "text": [
      "Iteration 0, loss = 0.30553846075771873\n",
      "Iteration 2 Step Failed\n",
      "Iteration 3 Step Failed\n",
      "Iteration 4 Step Failed\n",
      "Iteration 5 Step Failed\n",
      "Iteration 6 Step Failed\n",
      "Iteration 7 Step Failed\n",
      "Iteration 8 Step Failed\n",
      "Iteration 9 Step Failed\n",
      "Iteration 10 Step Failed\n",
      "Iteration 11 Step Failed\n",
      "Iteration 12 Step Failed\n",
      "Iteration 13 Step Failed\n",
      "Iteration 14 Step Failed\n",
      "Iteration 15 Step Failed\n",
      "Iteration 17 Step Failed\n",
      "Iteration 18 Step Failed\n",
      "Iteration 19 Step Failed\n",
      "Iteration 20 Step Failed\n",
      "Iteration 21 Step Failed\n",
      "Iteration 23 Step Failed\n",
      "Iteration 24 Step Failed\n",
      "Iteration 25 Step Failed\n",
      "Iteration 27 Step Failed\n",
      "Iteration 28 Step Failed\n",
      "Iteration 29 Step Failed\n",
      "Iteration 30 Step Failed\n",
      "Iteration 31 Step Failed\n",
      "Iteration 33 Step Failed\n",
      "Iteration 34 Step Failed\n",
      "Iteration 35 Step Failed\n",
      "Iteration 36 Step Failed\n",
      "Iteration 38 Step Failed\n",
      "Iteration 39 Step Failed\n",
      "Iteration 40 Step Failed\n",
      "Iteration 41 Step Failed\n",
      "Iteration 42 Step Failed\n",
      "Iteration 43 Step Failed\n",
      "Iteration 44 Step Failed\n",
      "Iteration 45 Step Failed\n",
      "Iteration 46 Step Failed\n",
      "Iteration 47 Step Failed\n",
      "Converged by no improvement\n"
     ]
    },
    {
     "data": {
      "application/vnd.jupyter.widget-view+json": {
       "model_id": "27a4c2ba808f428897d80839de2647a1",
       "version_major": 2,
       "version_minor": 0
      },
      "text/plain": [
       "  0%|          | 0/101 [00:00<?, ?it/s]"
      ]
     },
     "metadata": {},
     "output_type": "display_data"
    },
    {
     "name": "stdout",
     "output_type": "stream",
     "text": [
      "Iteration 0, loss = 1.014, Jres = 151.1, alpha = 0.04167, improvement_ratio = 0.9904\n",
      "Iteration 1, loss = 0.6545, Jres = 3.771, alpha = 0.04167, improvement_ratio = 0.3979\n",
      "Iteration 2, loss = 0.1341, Jres = 2.643, alpha = 0.03472, improvement_ratio = 0.9662\n",
      "Iteration 3, loss = 0.1142, Jres = 0.2106, alpha = 0.02894, improvement_ratio = 1.009\n",
      "Iteration 4, loss = 0.1101, Jres = 0.01561, alpha = 0.02411, improvement_ratio = 1.021\n",
      "Iteration 5, loss = 0.1072, Jres = 0.003398, alpha = 0.02009, improvement_ratio = 1.013\n",
      "Iteration 10, loss = 0.0961, Jres = 0.001276, alpha = 0.008075, improvement_ratio = 1.003\n",
      "Iteration 20, loss = 0.0773, Jres = 0.001619, alpha = 0.001304, improvement_ratio = 1.158\n",
      "Iteration 30, loss = 0.07006, Jres = 0.0004193, alpha = 0.0002106, improvement_ratio = 1.001\n",
      "Iteration 40, loss = 0.06444, Jres = 0.0006604, alpha = 3.402e-05, improvement_ratio = 1.001\n",
      "Iteration 50, loss = 0.05598, Jres = 0.000828, alpha = 5.494e-06, improvement_ratio = 1.004\n",
      "Iteration 60, loss = 0.04784, Jres = 0.0006578, alpha = 8.874e-07, improvement_ratio = 1.004\n",
      "Iteration 70, loss = 0.04555, Jres = 0.0001992, alpha = 8.333e-07, improvement_ratio = 1.001\n",
      "Iteration 80, loss = 0.04441, Jres = 0.0002008, alpha = 8.333e-07, improvement_ratio = 1.003\n",
      "Iteration 90, loss = 0.04351, Jres = 0.0004083, alpha = 8.333e-07, improvement_ratio = 1.143\n",
      "Iteration 100, loss = 0.04273, Jres = 0.0001444, alpha = 8.333e-07, improvement_ratio = 1.001\n"
     ]
    },
    {
     "data": {
      "application/vnd.jupyter.widget-view+json": {
       "model_id": "779e3dddcbeb478abdb60ca13d73f1b1",
       "version_major": 2,
       "version_minor": 0
      },
      "text/plain": [
       "  0%|          | 0/150 [00:00<?, ?it/s]"
      ]
     },
     "metadata": {},
     "output_type": "display_data"
    },
    {
     "name": "stdout",
     "output_type": "stream",
     "text": [
      "Iteration 0, loss = 0.08545414703007075\n",
      "Iteration 1 Step Failed\n",
      "Iteration 3 Step Failed\n",
      "Iteration 4 Step Failed\n",
      "Iteration 5 Step Failed\n",
      "Iteration 6 Step Failed\n",
      "Iteration 7 Step Failed\n",
      "Iteration 8 Step Failed\n",
      "Iteration 10 Step Failed\n",
      "Iteration 11 Step Failed\n",
      "Iteration 12 Step Failed\n",
      "Iteration 14 Step Failed\n",
      "Iteration 15 Step Failed\n",
      "Iteration 16 Step Failed\n",
      "Iteration 17 Step Failed\n",
      "Iteration 18 Step Failed\n",
      "Iteration 19 Step Failed\n",
      "Iteration 20 Step Failed\n",
      "Iteration 21 Step Failed\n",
      "Iteration 23 Step Failed\n",
      "Iteration 24 Step Failed\n",
      "Iteration 25 Step Failed\n",
      "Iteration 26 Step Failed\n",
      "Iteration 27 Step Failed\n",
      "Iteration 28 Step Failed\n",
      "Iteration 29 Step Failed\n",
      "Iteration 30 Step Failed\n",
      "Iteration 32 Step Failed\n",
      "Iteration 33 Step Failed\n",
      "Iteration 34 Step Failed\n",
      "Iteration 35 Step Failed\n",
      "Iteration 36 Step Failed\n",
      "Iteration 37 Step Failed\n",
      "Iteration 38 Step Failed\n",
      "Iteration 39 Step Failed\n",
      "Iteration 40 Step Failed\n",
      "Iteration 41 Step Failed\n",
      "Converged by no improvement\n"
     ]
    },
    {
     "data": {
      "application/vnd.jupyter.widget-view+json": {
       "model_id": "483b37734b044bc79512710593ae1e94",
       "version_major": 2,
       "version_minor": 0
      },
      "text/plain": [
       "  0%|          | 0/101 [00:00<?, ?it/s]"
      ]
     },
     "metadata": {},
     "output_type": "display_data"
    },
    {
     "name": "stdout",
     "output_type": "stream",
     "text": [
      "Iteration 0, loss = 1.533, Jres = 239.3, alpha = 0.04167, improvement_ratio = 0.9922\n",
      "Iteration 1, loss = 0.2564, Jres = 4.333, alpha = 0.03472, improvement_ratio = 0.9497\n",
      "Iteration 2, loss = 0.1794, Jres = 0.5415, alpha = 0.02894, improvement_ratio = 0.9913\n",
      "Iteration 3, loss = 0.1722, Jres = 0.03711, alpha = 0.02411, improvement_ratio = 1.026\n",
      "Iteration 4, loss = 0.1691, Jres = 0.007738, alpha = 0.02009, improvement_ratio = 1.01\n",
      "Iteration 5, loss = 0.1664, Jres = 0.002804, alpha = 0.01674, improvement_ratio = 1.001\n",
      "Iteration 10, loss = 0.155, Jres = 0.001039, alpha = 0.006729, improvement_ratio = 1.001\n",
      "Iteration 20, loss = 0.1388, Jres = 0.0009619, alpha = 0.001087, improvement_ratio = 1.004\n",
      "Iteration 30, loss = 0.1316, Jres = 0.001516, alpha = 0.0001755, improvement_ratio = 1.007\n",
      "Iteration 40, loss = 0.1219, Jres = 0.001476, alpha = 2.835e-05, improvement_ratio = 1.014\n",
      "Iteration 50, loss = 0.1047, Jres = 0.001843, alpha = 4.579e-06, improvement_ratio = 1.016\n",
      "Iteration 60, loss = 0.08923, Jres = 0.00116, alpha = 8.333e-07, improvement_ratio = 1.016\n",
      "Line Search Failed!\n",
      "Final Iteration Results\n",
      "Iteration 64, loss = 0.08765, Jres = 0.001814, alpha = 0.001004\n"
     ]
    },
    {
     "data": {
      "application/vnd.jupyter.widget-view+json": {
       "model_id": "b4ec74343a6d4086992ea416f361b999",
       "version_major": 2,
       "version_minor": 0
      },
      "text/plain": [
       "  0%|          | 0/150 [00:00<?, ?it/s]"
      ]
     },
     "metadata": {},
     "output_type": "display_data"
    },
    {
     "name": "stdout",
     "output_type": "stream",
     "text": [
      "Iteration 0, loss = 0.17529980507935605\n",
      "Iteration 65 Step Failed\n",
      "Iteration 97 Step Failed\n",
      "Iteration 114 Step Failed\n",
      "Iteration 134 Step Failed\n",
      "Iteration 137 Step Failed\n",
      "Iteration 138 Step Failed\n",
      "Iteration 139 Step Failed\n",
      "Iteration 147 Step Failed\n"
     ]
    },
    {
     "data": {
      "application/vnd.jupyter.widget-view+json": {
       "model_id": "3d2a049e2ed14d90aedd2d31ed9b6e3f",
       "version_major": 2,
       "version_minor": 0
      },
      "text/plain": [
       "  0%|          | 0/101 [00:00<?, ?it/s]"
      ]
     },
     "metadata": {},
     "output_type": "display_data"
    },
    {
     "name": "stdout",
     "output_type": "stream",
     "text": [
      "Iteration 0, loss = 0.3952, Jres = 142.6, alpha = 0.04167, improvement_ratio = 0.9947\n",
      "Iteration 1, loss = 0.1043, Jres = 1.402, alpha = 0.03472, improvement_ratio = 0.9539\n",
      "Iteration 2, loss = 0.08592, Jres = 0.1364, alpha = 0.02894, improvement_ratio = 0.9964\n",
      "Iteration 3, loss = 0.08351, Jres = 0.01152, alpha = 0.02411, improvement_ratio = 1.009\n",
      "Iteration 4, loss = 0.08205, Jres = 0.002632, alpha = 0.02009, improvement_ratio = 1.001\n",
      "Iteration 5, loss = 0.08087, Jres = 0.001073, alpha = 0.01674, improvement_ratio = 1.001\n",
      "Iteration 10, loss = 0.07605, Jres = 0.001017, alpha = 0.006729, improvement_ratio = 1.002\n",
      "Iteration 20, loss = 0.06729, Jres = 0.001064, alpha = 0.001087, improvement_ratio = 1.005\n",
      "Iteration 30, loss = 0.05982, Jres = 0.002277, alpha = 0.0001755, improvement_ratio = 1.041\n",
      "Iteration 40, loss = 0.0525, Jres = 0.0004539, alpha = 2.835e-05, improvement_ratio = 1.002\n",
      "Iteration 50, loss = 0.04471, Jres = 0.000841, alpha = 4.579e-06, improvement_ratio = 1.005\n",
      "Iteration 60, loss = 0.0394, Jres = 0.0007528, alpha = 8.333e-07, improvement_ratio = 1.02\n",
      "Iteration 70, loss = 0.03627, Jres = 0.0005464, alpha = 8.333e-07, improvement_ratio = 1.022\n",
      "Iteration 80, loss = 0.03497, Jres = 7.217e-05, alpha = 8.333e-07, improvement_ratio = 1.0\n",
      "Iteration 90, loss = 0.03396, Jres = 5.883e-05, alpha = 8.333e-07, improvement_ratio = 1.0\n",
      "Iteration 100, loss = 0.03313, Jres = 5.118e-05, alpha = 8.333e-07, improvement_ratio = 1.0\n"
     ]
    },
    {
     "data": {
      "application/vnd.jupyter.widget-view+json": {
       "model_id": "757053b20ca44537b3661dec6142d758",
       "version_major": 2,
       "version_minor": 0
      },
      "text/plain": [
       "  0%|          | 0/150 [00:00<?, ?it/s]"
      ]
     },
     "metadata": {},
     "output_type": "display_data"
    },
    {
     "name": "stdout",
     "output_type": "stream",
     "text": [
      "Iteration 0, loss = 0.06625284171044114\n",
      "Iteration 1 Step Failed\n",
      "Iteration 2 Step Failed\n",
      "Iteration 3 Step Failed\n",
      "Iteration 4 Step Failed\n",
      "Iteration 5 Step Failed\n",
      "Iteration 6 Step Failed\n",
      "Iteration 7 Step Failed\n",
      "Iteration 8 Step Failed\n",
      "Iteration 9 Step Failed\n",
      "Iteration 10 Step Failed\n",
      "Iteration 12 Step Failed\n",
      "Iteration 13 Step Failed\n",
      "Iteration 14 Step Failed\n",
      "Iteration 15 Step Failed\n",
      "Iteration 16 Step Failed\n",
      "Iteration 17 Step Failed\n",
      "Iteration 18 Step Failed\n",
      "Iteration 19 Step Failed\n",
      "Iteration 20 Step Failed\n",
      "Iteration 21 Step Failed\n",
      "Iteration 23 Step Failed\n",
      "Iteration 24 Step Failed\n",
      "Iteration 25 Step Failed\n",
      "Iteration 26 Step Failed\n",
      "Iteration 27 Step Failed\n",
      "Iteration 28 Step Failed\n",
      "Iteration 29 Step Failed\n",
      "Iteration 30 Step Failed\n",
      "Iteration 31 Step Failed\n",
      "Iteration 32 Step Failed\n",
      "Converged by no improvement\n"
     ]
    },
    {
     "data": {
      "application/vnd.jupyter.widget-view+json": {
       "model_id": "139f99f9442c4c63880769fc49d13403",
       "version_major": 2,
       "version_minor": 0
      },
      "text/plain": [
       "  0%|          | 0/101 [00:00<?, ?it/s]"
      ]
     },
     "metadata": {},
     "output_type": "display_data"
    },
    {
     "name": "stdout",
     "output_type": "stream",
     "text": [
      "Iteration 0, loss = 0.65, Jres = 135.3, alpha = 0.04167, improvement_ratio = 0.9923\n",
      "Iteration 1, loss = 0.2071, Jres = 1.787, alpha = 0.03472, improvement_ratio = 0.8885\n",
      "Iteration 2, loss = 0.1277, Jres = 0.6189, alpha = 0.02894, improvement_ratio = 0.9908\n",
      "Iteration 3, loss = 0.12, Jres = 0.06547, alpha = 0.02411, improvement_ratio = 0.9838\n",
      "Iteration 4, loss = 0.1177, Jres = 0.0111, alpha = 0.02009, improvement_ratio = 1.001\n",
      "Iteration 5, loss = 0.1163, Jres = 0.004259, alpha = 0.01674, improvement_ratio = 1.002\n",
      "Iteration 10, loss = 0.1119, Jres = 0.0008427, alpha = 0.006729, improvement_ratio = 1.002\n",
      "Iteration 20, loss = 0.09851, Jres = 0.001138, alpha = 0.001087, improvement_ratio = 1.0\n",
      "Iteration 30, loss = 0.0822, Jres = 0.001172, alpha = 0.0001755, improvement_ratio = 1.0\n",
      "Iteration 40, loss = 0.07522, Jres = 0.0006311, alpha = 2.835e-05, improvement_ratio = 1.002\n",
      "Iteration 50, loss = 0.07011, Jres = 0.0005908, alpha = 4.579e-06, improvement_ratio = 1.004\n",
      "Iteration 60, loss = 0.06499, Jres = 0.0004588, alpha = 8.333e-07, improvement_ratio = 1.001\n",
      "Iteration 70, loss = 0.06152, Jres = 0.0001844, alpha = 8.333e-07, improvement_ratio = 1.0\n",
      "Iteration 80, loss = 0.05988, Jres = 0.0001074, alpha = 8.333e-07, improvement_ratio = 1.0\n",
      "Iteration 90, loss = 0.0589, Jres = 7.023e-05, alpha = 8.333e-07, improvement_ratio = 1.0\n",
      "Iteration 100, loss = 0.05823, Jres = 5.023e-05, alpha = 8.333e-07, improvement_ratio = 1.001\n"
     ]
    },
    {
     "data": {
      "application/vnd.jupyter.widget-view+json": {
       "model_id": "51332d19c5fc4b2bbdda197370317cf7",
       "version_major": 2,
       "version_minor": 0
      },
      "text/plain": [
       "  0%|          | 0/150 [00:00<?, ?it/s]"
      ]
     },
     "metadata": {},
     "output_type": "display_data"
    },
    {
     "name": "stdout",
     "output_type": "stream",
     "text": [
      "Iteration 0, loss = 0.11646461958106694\n",
      "Iteration 0 Step Failed\n",
      "Iteration 1 Step Failed\n",
      "Iteration 3 Step Failed\n",
      "Iteration 4 Step Failed\n",
      "Iteration 5 Step Failed\n",
      "Iteration 6 Step Failed\n",
      "Iteration 7 Step Failed\n",
      "Iteration 8 Step Failed\n",
      "Iteration 9 Step Failed\n",
      "Iteration 10 Step Failed\n",
      "Iteration 11 Step Failed\n",
      "Iteration 12 Step Failed\n",
      "Iteration 13 Step Failed\n",
      "Iteration 15 Step Failed\n",
      "Iteration 16 Step Failed\n",
      "Iteration 17 Step Failed\n",
      "Iteration 18 Step Failed\n",
      "Iteration 19 Step Failed\n",
      "Iteration 20 Step Failed\n",
      "Iteration 21 Step Failed\n",
      "Iteration 22 Step Failed\n",
      "Iteration 23 Step Failed\n",
      "Iteration 24 Step Failed\n",
      "Iteration 25 Step Failed\n",
      "Converged by no improvement\n"
     ]
    },
    {
     "data": {
      "application/vnd.jupyter.widget-view+json": {
       "model_id": "a67849df64f2414aa3e4872c0c56878d",
       "version_major": 2,
       "version_minor": 0
      },
      "text/plain": [
       "  0%|          | 0/101 [00:00<?, ?it/s]"
      ]
     },
     "metadata": {},
     "output_type": "display_data"
    },
    {
     "name": "stdout",
     "output_type": "stream",
     "text": [
      "Iteration 0, loss = 1.265, Jres = 208.5, alpha = 0.04167, improvement_ratio = 0.9919\n",
      "Iteration 1, loss = 0.6885, Jres = 3.611, alpha = 0.04167, improvement_ratio = 0.5299\n",
      "Iteration 2, loss = 0.1945, Jres = 2.469, alpha = 0.03472, improvement_ratio = 0.9556\n",
      "Iteration 3, loss = 0.1669, Jres = 0.2623, alpha = 0.02894, improvement_ratio = 1.036\n",
      "Iteration 4, loss = 0.1622, Jres = 0.02174, alpha = 0.02411, improvement_ratio = 1.055\n",
      "Iteration 5, loss = 0.1601, Jres = 0.00562, alpha = 0.02009, improvement_ratio = 1.013\n",
      "Iteration 10, loss = 0.1542, Jres = 0.0009862, alpha = 0.008075, improvement_ratio = 1.002\n",
      "Iteration 20, loss = 0.1393, Jres = 0.0008643, alpha = 0.001304, improvement_ratio = 1.001\n",
      "Iteration 30, loss = 0.1152, Jres = 0.002179, alpha = 0.0002106, improvement_ratio = 1.003\n",
      "Iteration 40, loss = 0.1029, Jres = 0.0008259, alpha = 3.402e-05, improvement_ratio = 1.007\n",
      "Iteration 50, loss = 0.09404, Jres = 0.001027, alpha = 5.494e-06, improvement_ratio = 1.002\n",
      "Iteration 60, loss = 0.08415, Jres = 0.0004111, alpha = 8.874e-07, improvement_ratio = 1.001\n",
      "Iteration 70, loss = 0.07521, Jres = 0.0003339, alpha = 8.333e-07, improvement_ratio = 1.002\n",
      "Iteration 80, loss = 0.07061, Jres = 0.0001682, alpha = 8.333e-07, improvement_ratio = 1.0\n",
      "Iteration 90, loss = 0.06791, Jres = 0.0001088, alpha = 8.333e-07, improvement_ratio = 1.0\n",
      "Iteration 100, loss = 0.06618, Jres = 7.87e-05, alpha = 8.333e-07, improvement_ratio = 1.0\n"
     ]
    },
    {
     "data": {
      "application/vnd.jupyter.widget-view+json": {
       "model_id": "aa3ab22df3dc4bc58a21512e42683449",
       "version_major": 2,
       "version_minor": 0
      },
      "text/plain": [
       "  0%|          | 0/150 [00:00<?, ?it/s]"
      ]
     },
     "metadata": {},
     "output_type": "display_data"
    },
    {
     "name": "stdout",
     "output_type": "stream",
     "text": [
      "Iteration 0, loss = 0.13235526967319156\n",
      "Iteration 1 Step Failed\n",
      "Iteration 2 Step Failed\n",
      "Iteration 3 Step Failed\n",
      "Iteration 4 Step Failed\n",
      "Iteration 5 Step Failed\n",
      "Iteration 6 Step Failed\n",
      "Iteration 7 Step Failed\n",
      "Iteration 8 Step Failed\n",
      "Iteration 9 Step Failed\n",
      "Iteration 10 Step Failed\n",
      "Iteration 11 Step Failed\n",
      "Iteration 12 Step Failed\n",
      "Iteration 13 Step Failed\n",
      "Iteration 14 Step Failed\n",
      "Iteration 15 Step Failed\n",
      "Iteration 16 Step Failed\n",
      "Iteration 17 Step Failed\n",
      "Iteration 18 Step Failed\n",
      "Iteration 19 Step Failed\n",
      "Iteration 20 Step Failed\n",
      "Iteration 21 Step Failed\n",
      "Iteration 22 Step Failed\n",
      "Iteration 23 Step Failed\n",
      "Iteration 24 Step Failed\n",
      "Iteration 25 Step Failed\n",
      "Converged by no improvement\n"
     ]
    },
    {
     "data": {
      "application/vnd.jupyter.widget-view+json": {
       "model_id": "6627b2ded60548f99c9dcd6d08ab9655",
       "version_major": 2,
       "version_minor": 0
      },
      "text/plain": [
       "  0%|          | 0/101 [00:00<?, ?it/s]"
      ]
     },
     "metadata": {},
     "output_type": "display_data"
    },
    {
     "name": "stdout",
     "output_type": "stream",
     "text": [
      "Iteration 0, loss = 1.135, Jres = 221.8, alpha = 0.04167, improvement_ratio = 0.9935\n",
      "Iteration 1, loss = 0.219, Jres = 3.802, alpha = 0.03472, improvement_ratio = 0.9\n",
      "Iteration 2, loss = 0.1098, Jres = 0.5457, alpha = 0.02894, improvement_ratio = 0.986\n",
      "Iteration 3, loss = 0.1041, Jres = 0.03337, alpha = 0.02411, improvement_ratio = 1.005\n",
      "Iteration 4, loss = 0.1012, Jres = 0.002388, alpha = 0.02009, improvement_ratio = 1.005\n",
      "Iteration 5, loss = 0.09906, Jres = 0.001384, alpha = 0.01674, improvement_ratio = 1.003\n",
      "Iteration 10, loss = 0.09151, Jres = 0.0005871, alpha = 0.006729, improvement_ratio = 1.0\n",
      "Iteration 20, loss = 0.07866, Jres = 0.001073, alpha = 0.001087, improvement_ratio = 1.0\n",
      "Iteration 30, loss = 0.06978, Jres = 0.0007573, alpha = 0.0001755, improvement_ratio = 1.001\n",
      "Iteration 40, loss = 0.06479, Jres = 0.0003526, alpha = 2.835e-05, improvement_ratio = 1.0\n",
      "Iteration 50, loss = 0.05529, Jres = 0.0007307, alpha = 4.579e-06, improvement_ratio = 1.001\n",
      "Iteration 60, loss = 0.04543, Jres = 0.000771, alpha = 8.333e-07, improvement_ratio = 0.9993\n",
      "Iteration 70, loss = 0.04215, Jres = 0.0001613, alpha = 8.333e-07, improvement_ratio = 0.9999\n",
      "Iteration 80, loss = 0.04042, Jres = 9.241e-05, alpha = 8.333e-07, improvement_ratio = 1.002\n",
      "Iteration 90, loss = 0.03906, Jres = 7.473e-05, alpha = 8.333e-07, improvement_ratio = 1.0\n",
      "Iteration 100, loss = 0.03815, Jres = 6.535e-05, alpha = 8.333e-07, improvement_ratio = 1.0\n"
     ]
    },
    {
     "data": {
      "application/vnd.jupyter.widget-view+json": {
       "model_id": "4a59b0fc65e94faa8b36e1ccb6d819ef",
       "version_major": 2,
       "version_minor": 0
      },
      "text/plain": [
       "  0%|          | 0/150 [00:00<?, ?it/s]"
      ]
     },
     "metadata": {},
     "output_type": "display_data"
    },
    {
     "name": "stdout",
     "output_type": "stream",
     "text": [
      "Iteration 0, loss = 0.07629141062307923\n",
      "Iteration 2 Step Failed\n",
      "Iteration 3 Step Failed\n",
      "Iteration 4 Step Failed\n",
      "Iteration 5 Step Failed\n",
      "Iteration 7 Step Failed\n",
      "Iteration 8 Step Failed\n",
      "Iteration 9 Step Failed\n",
      "Iteration 10 Step Failed\n",
      "Iteration 11 Step Failed\n",
      "Iteration 12 Step Failed\n",
      "Iteration 13 Step Failed\n",
      "Iteration 14 Step Failed\n",
      "Iteration 15 Step Failed\n",
      "Iteration 16 Step Failed\n",
      "Iteration 17 Step Failed\n",
      "Iteration 18 Step Failed\n",
      "Iteration 19 Step Failed\n",
      "Iteration 20 Step Failed\n",
      "Iteration 21 Step Failed\n",
      "Iteration 22 Step Failed\n",
      "Iteration 24 Step Failed\n",
      "Iteration 25 Step Failed\n",
      "Iteration 26 Step Failed\n",
      "Iteration 27 Step Failed\n",
      "Iteration 29 Step Failed\n",
      "Iteration 30 Step Failed\n",
      "Iteration 31 Step Failed\n",
      "Iteration 32 Step Failed\n",
      "Iteration 34 Step Failed\n",
      "Iteration 35 Step Failed\n",
      "Iteration 36 Step Failed\n",
      "Iteration 37 Step Failed\n",
      "Iteration 39 Step Failed\n",
      "Iteration 40 Step Failed\n",
      "Iteration 41 Step Failed\n",
      "Iteration 42 Step Failed\n",
      "Iteration 43 Step Failed\n",
      "Iteration 44 Step Failed\n",
      "Iteration 45 Step Failed\n",
      "Iteration 46 Step Failed\n",
      "Iteration 47 Step Failed\n",
      "Iteration 48 Step Failed\n",
      "Converged by no improvement\n"
     ]
    },
    {
     "data": {
      "application/vnd.jupyter.widget-view+json": {
       "model_id": "201d21d757874099a8534d3cfcc5cfa4",
       "version_major": 2,
       "version_minor": 0
      },
      "text/plain": [
       "  0%|          | 0/101 [00:00<?, ?it/s]"
      ]
     },
     "metadata": {},
     "output_type": "display_data"
    },
    {
     "name": "stdout",
     "output_type": "stream",
     "text": [
      "Iteration 0, loss = 1.401, Jres = 163.0, alpha = 0.04167, improvement_ratio = 0.987\n",
      "Iteration 1, loss = 0.3736, Jres = 3.607, alpha = 0.03472, improvement_ratio = 0.9467\n",
      "Iteration 2, loss = 0.2944, Jres = 0.4389, alpha = 0.02894, improvement_ratio = 0.8862\n",
      "Iteration 3, loss = 0.2795, Jres = 0.08124, alpha = 0.02411, improvement_ratio = 0.9154\n",
      "Iteration 4, loss = 0.2721, Jres = 0.02346, alpha = 0.02009, improvement_ratio = 0.9945\n",
      "Iteration 5, loss = 0.2666, Jres = 0.005236, alpha = 0.01674, improvement_ratio = 0.989\n",
      "Iteration 10, loss = 0.2487, Jres = 0.002416, alpha = 0.006729, improvement_ratio = 1.004\n",
      "Iteration 20, loss = 0.2153, Jres = 0.001944, alpha = 0.001087, improvement_ratio = 1.004\n",
      "Iteration 30, loss = 0.1903, Jres = 0.02231, alpha = 0.003109, improvement_ratio = 0.9519\n",
      "Iteration 40, loss = 0.1858, Jres = 0.0005092, alpha = 0.000502, improvement_ratio = 1.001\n",
      "Iteration 50, loss = 0.1726, Jres = 0.00122, alpha = 8.108e-05, improvement_ratio = 1.0\n",
      "Iteration 60, loss = 0.1495, Jres = 0.001464, alpha = 1.31e-05, improvement_ratio = 0.9974\n",
      "Iteration 70, loss = 0.1267, Jres = 0.0013, alpha = 2.115e-06, improvement_ratio = 1.003\n",
      "Iteration 80, loss = 0.11, Jres = 0.0005929, alpha = 8.333e-07, improvement_ratio = 1.003\n",
      "Iteration 90, loss = 0.1022, Jres = 0.0004172, alpha = 8.333e-07, improvement_ratio = 1.005\n",
      "Iteration 100, loss = 0.09698, Jres = 0.0002632, alpha = 8.333e-07, improvement_ratio = 1.001\n"
     ]
    },
    {
     "data": {
      "application/vnd.jupyter.widget-view+json": {
       "model_id": "7de03067385448028e64aca09384c648",
       "version_major": 2,
       "version_minor": 0
      },
      "text/plain": [
       "  0%|          | 0/150 [00:00<?, ?it/s]"
      ]
     },
     "metadata": {},
     "output_type": "display_data"
    },
    {
     "name": "stdout",
     "output_type": "stream",
     "text": [
      "Iteration 0, loss = 0.19395636115246767\n",
      "Iteration 2 Step Failed\n",
      "Iteration 4 Step Failed\n",
      "Iteration 5 Step Failed\n",
      "Iteration 6 Step Failed\n",
      "Iteration 8 Step Failed\n",
      "Iteration 9 Step Failed\n",
      "Iteration 10 Step Failed\n",
      "Iteration 11 Step Failed\n",
      "Iteration 12 Step Failed\n",
      "Iteration 13 Step Failed\n",
      "Iteration 14 Step Failed\n",
      "Iteration 15 Step Failed\n",
      "Iteration 16 Step Failed\n",
      "Iteration 17 Step Failed\n",
      "Iteration 18 Step Failed\n",
      "Iteration 19 Step Failed\n",
      "Iteration 20 Step Failed\n",
      "Iteration 21 Step Failed\n",
      "Iteration 22 Step Failed\n",
      "Iteration 23 Step Failed\n",
      "Iteration 24 Step Failed\n",
      "Iteration 25 Step Failed\n",
      "Converged by no improvement\n"
     ]
    },
    {
     "data": {
      "application/vnd.jupyter.widget-view+json": {
       "model_id": "6d3f238f96ea4479b260b982a630d3fd",
       "version_major": 2,
       "version_minor": 0
      },
      "text/plain": [
       "  0%|          | 0/101 [00:00<?, ?it/s]"
      ]
     },
     "metadata": {},
     "output_type": "display_data"
    },
    {
     "name": "stdout",
     "output_type": "stream",
     "text": [
      "Iteration 0, loss = 0.1505, Jres = 83.75, alpha = 0.04167, improvement_ratio = 0.996\n",
      "Iteration 1, loss = 0.07234, Jres = 0.4335, alpha = 0.03472, improvement_ratio = 1.003\n",
      "Iteration 2, loss = 0.06462, Jres = 0.03033, alpha = 0.02894, improvement_ratio = 1.067\n",
      "Iteration 3, loss = 0.06175, Jres = 0.01242, alpha = 0.02411, improvement_ratio = 1.028\n",
      "Iteration 4, loss = 0.05981, Jres = 0.004207, alpha = 0.02009, improvement_ratio = 1.007\n",
      "Iteration 5, loss = 0.05816, Jres = 0.001464, alpha = 0.01674, improvement_ratio = 1.002\n",
      "Iteration 10, loss = 0.05174, Jres = 0.0005077, alpha = 0.006729, improvement_ratio = 0.9999\n",
      "Iteration 20, loss = 0.04509, Jres = 0.0008788, alpha = 0.001087, improvement_ratio = 1.005\n",
      "Iteration 30, loss = 0.04153, Jres = 0.0002922, alpha = 0.0001755, improvement_ratio = 1.004\n",
      "Iteration 40, loss = 0.03382, Jres = 0.06657, alpha = 3.402e-05, improvement_ratio = 0.9905\n",
      "Iteration 50, loss = 0.02822, Jres = 0.0009322, alpha = 5.494e-06, improvement_ratio = 1.0\n",
      "Iteration 60, loss = 0.02597, Jres = 0.0002177, alpha = 8.874e-07, improvement_ratio = 0.9995\n",
      "Iteration 70, loss = 0.0243, Jres = 0.0001517, alpha = 8.333e-07, improvement_ratio = 1.0\n",
      "Iteration 80, loss = 0.02351, Jres = 0.0001086, alpha = 8.333e-07, improvement_ratio = 1.0\n",
      "Iteration 90, loss = 0.02305, Jres = 8.635e-05, alpha = 8.333e-07, improvement_ratio = 1.001\n",
      "Line Search Failed!\n",
      "Final Iteration Results\n",
      "Iteration 100, loss = 0.02279, Jres = 0.0006639, alpha = 0.001004\n"
     ]
    },
    {
     "data": {
      "application/vnd.jupyter.widget-view+json": {
       "model_id": "e1a709b68eaf44f0bcdf10f288405189",
       "version_major": 2,
       "version_minor": 0
      },
      "text/plain": [
       "  0%|          | 0/150 [00:00<?, ?it/s]"
      ]
     },
     "metadata": {},
     "output_type": "display_data"
    },
    {
     "name": "stdout",
     "output_type": "stream",
     "text": [
      "Iteration 0, loss = 0.045570405222270044\n",
      "Iteration 93 Step Failed\n",
      "Iteration 94 Step Failed\n",
      "Iteration 101 Step Failed\n"
     ]
    },
    {
     "data": {
      "application/vnd.jupyter.widget-view+json": {
       "model_id": "d2350a6a3a51427a82a2dbb4e7816c16",
       "version_major": 2,
       "version_minor": 0
      },
      "text/plain": [
       "  0%|          | 0/101 [00:00<?, ?it/s]"
      ]
     },
     "metadata": {},
     "output_type": "display_data"
    },
    {
     "name": "stdout",
     "output_type": "stream",
     "text": [
      "Iteration 0, loss = 0.6425, Jres = 139.2, alpha = 0.04167, improvement_ratio = 0.9923\n",
      "Iteration 1, loss = 0.1982, Jres = 1.887, alpha = 0.03472, improvement_ratio = 0.9393\n",
      "Iteration 2, loss = 0.16, Jres = 0.2478, alpha = 0.02894, improvement_ratio = 1.003\n",
      "Iteration 3, loss = 0.1548, Jres = 0.01862, alpha = 0.02411, improvement_ratio = 0.9781\n",
      "Iteration 4, loss = 0.1525, Jres = 0.008538, alpha = 0.02009, improvement_ratio = 1.006\n",
      "Iteration 5, loss = 0.1509, Jres = 0.003134, alpha = 0.01674, improvement_ratio = 1.002\n",
      "Iteration 10, loss = 0.1449, Jres = 0.001647, alpha = 0.006729, improvement_ratio = 1.002\n",
      "Iteration 20, loss = 0.1324, Jres = 0.001462, alpha = 0.001087, improvement_ratio = 1.001\n",
      "Iteration 30, loss = 0.1247, Jres = 0.0008727, alpha = 0.0001755, improvement_ratio = 1.002\n",
      "Iteration 40, loss = 0.1207, Jres = 0.0006683, alpha = 2.835e-05, improvement_ratio = 1.002\n",
      "Iteration 50, loss = 0.117, Jres = 0.0005588, alpha = 4.579e-06, improvement_ratio = 1.002\n",
      "Iteration 60, loss = 0.1126, Jres = 0.0004803, alpha = 8.333e-07, improvement_ratio = 1.001\n",
      "Iteration 70, loss = 0.1095, Jres = 0.0001955, alpha = 8.333e-07, improvement_ratio = 1.0\n",
      "Iteration 80, loss = 0.1075, Jres = 0.000129, alpha = 8.333e-07, improvement_ratio = 1.0\n",
      "Iteration 90, loss = 0.1059, Jres = 0.0001069, alpha = 8.333e-07, improvement_ratio = 1.0\n",
      "Iteration 100, loss = 0.1044, Jres = 9.889e-05, alpha = 8.333e-07, improvement_ratio = 1.0\n"
     ]
    },
    {
     "data": {
      "application/vnd.jupyter.widget-view+json": {
       "model_id": "56742fcef83442c7a5d68ff06bf25414",
       "version_major": 2,
       "version_minor": 0
      },
      "text/plain": [
       "  0%|          | 0/150 [00:00<?, ?it/s]"
      ]
     },
     "metadata": {},
     "output_type": "display_data"
    },
    {
     "name": "stdout",
     "output_type": "stream",
     "text": [
      "Iteration 0, loss = 0.2087986324672432\n",
      "Iteration 0 Step Failed\n",
      "Iteration 1 Step Failed\n",
      "Iteration 3 Step Failed\n",
      "Iteration 4 Step Failed\n",
      "Iteration 8 Step Failed\n",
      "Iteration 9 Step Failed\n",
      "Iteration 10 Step Failed\n",
      "Iteration 11 Step Failed\n",
      "Iteration 12 Step Failed\n",
      "Iteration 14 Step Failed\n",
      "Iteration 15 Step Failed\n",
      "Iteration 16 Step Failed\n",
      "Iteration 17 Step Failed\n",
      "Iteration 18 Step Failed\n",
      "Iteration 19 Step Failed\n",
      "Iteration 20 Step Failed\n",
      "Iteration 21 Step Failed\n",
      "Iteration 22 Step Failed\n",
      "Iteration 23 Step Failed\n",
      "Iteration 24 Step Failed\n",
      "Iteration 25 Step Failed\n",
      "Converged by no improvement\n"
     ]
    },
    {
     "name": "stderr",
     "output_type": "stream",
     "text": [
      "2024-09-27 09:37:23.526881: W external/xla/xla/tsl/framework/bfc_allocator.cc:482] Allocator (GPU_0_bfc) ran out of memory trying to allocate 8.65GiB (rounded to 9285121024)requested by op \n",
      "2024-09-27 09:37:23.528051: W external/xla/xla/tsl/framework/bfc_allocator.cc:494] ****************************************************________________________________________________\n",
      "E0927 09:37:23.528070 2835149 pjrt_stream_executor_client.cc:2985] Execution of replica 0 failed: RESOURCE_EXHAUSTED: Out of memory while trying to allocate 9285120928 bytes.\n"
     ]
    },
    {
     "ename": "XlaRuntimeError",
     "evalue": "RESOURCE_EXHAUSTED: Out of memory while trying to allocate 9285120928 bytes.",
     "output_type": "error",
     "traceback": [
      "\u001b[0;31m---------------------------------------------------------------------------\u001b[0m",
      "\u001b[0;31mXlaRuntimeError\u001b[0m                           Traceback (most recent call last)",
      "Cell \u001b[0;32mIn[4], line 8\u001b[0m\n\u001b[1;32m      5\u001b[0m i_opt_2 \u001b[38;5;241m=\u001b[39m []\n\u001b[1;32m      6\u001b[0m \u001b[38;5;28;01mfor\u001b[39;00m run \u001b[38;5;129;01min\u001b[39;00m \u001b[38;5;28mrange\u001b[39m(NUM_RUNS):\n\u001b[1;32m      7\u001b[0m     \u001b[38;5;66;03m# Run\u001b[39;00m\n\u001b[0;32m----> 8\u001b[0m     res \u001b[38;5;241m=\u001b[39m \u001b[43mrun_exp_opt_err\u001b[49m\u001b[43m(\u001b[49m\u001b[43malpha\u001b[49m\u001b[43m,\u001b[49m\u001b[38;5;241;43m60\u001b[39;49m\u001b[43m,\u001b[49m\u001b[43mrun\u001b[49m\u001b[43m)\u001b[49m\n\u001b[1;32m      9\u001b[0m     \u001b[38;5;66;03m# Append\u001b[39;00m\n\u001b[1;32m     10\u001b[0m     i_opt_1_5\u001b[38;5;241m.\u001b[39mappend(res[\u001b[38;5;241m0\u001b[39m])\n",
      "Cell \u001b[0;32mIn[2], line 314\u001b[0m, in \u001b[0;36mrun_exp_opt_err\u001b[0;34m(alpha, n_obs, run)\u001b[0m\n\u001b[1;32m    303\u001b[0m     u_params_pde,pde_convergence_data \u001b[38;5;241m=\u001b[39m LevenbergMarquadtMinimize(\n\u001b[1;32m    304\u001b[0m         new_u_init\u001b[38;5;241m.\u001b[39mcopy(),\n\u001b[1;32m    305\u001b[0m         PdeModel,\n\u001b[0;32m   (...)\u001b[0m\n\u001b[1;32m    310\u001b[0m         print_every \u001b[38;5;241m=\u001b[39m \u001b[38;5;241m10\u001b[39m\n\u001b[1;32m    311\u001b[0m     )\n\u001b[1;32m    312\u001b[0m     u_pde_adj,pde_refine_conv_data \u001b[38;5;241m=\u001b[39m adaptive_refine_solution(u_params_pde,PdeModel,\u001b[38;5;241m1e-1\u001b[39m,\u001b[38;5;241m150\u001b[39m)\n\u001b[0;32m--> 314\u001b[0m     new_u_eval_fines\u001b[38;5;241m.\u001b[39mappend(\u001b[43mu_model\u001b[49m\u001b[38;5;241;43m.\u001b[39;49m\u001b[43mpoint_evaluate\u001b[49m\u001b[43m(\u001b[49m\u001b[43mtx_fine\u001b[49m\u001b[43m,\u001b[49m\u001b[43mu_pde_adj\u001b[49m\u001b[43m)\u001b[49m)\n\u001b[1;32m    316\u001b[0m \u001b[38;5;66;03m# True\u001b[39;00m\n\u001b[1;32m    317\u001b[0m new_u_true_eval_fines \u001b[38;5;241m=\u001b[39m [u(tx_fine) \u001b[38;5;28;01mfor\u001b[39;00m u \u001b[38;5;129;01min\u001b[39;00m u_new_true_functions]\n",
      "    \u001b[0;31m[... skipping hidden 10 frame]\u001b[0m\n",
      "File \u001b[0;32m~/miniconda3/envs/myjaxenv/lib/python3.12/site-packages/jax/_src/interpreters/pxla.py:1253\u001b[0m, in \u001b[0;36mExecuteReplicated.__call__\u001b[0;34m(self, *args)\u001b[0m\n\u001b[1;32m   1251\u001b[0m   \u001b[38;5;28mself\u001b[39m\u001b[38;5;241m.\u001b[39m_handle_token_bufs(result_token_bufs, sharded_runtime_token)\n\u001b[1;32m   1252\u001b[0m \u001b[38;5;28;01melse\u001b[39;00m:\n\u001b[0;32m-> 1253\u001b[0m   results \u001b[38;5;241m=\u001b[39m \u001b[38;5;28;43mself\u001b[39;49m\u001b[38;5;241;43m.\u001b[39;49m\u001b[43mxla_executable\u001b[49m\u001b[38;5;241;43m.\u001b[39;49m\u001b[43mexecute_sharded\u001b[49m\u001b[43m(\u001b[49m\u001b[43minput_bufs\u001b[49m\u001b[43m)\u001b[49m\n\u001b[1;32m   1255\u001b[0m \u001b[38;5;28;01mif\u001b[39;00m dispatch\u001b[38;5;241m.\u001b[39mneeds_check_special():\n\u001b[1;32m   1256\u001b[0m   out_arrays \u001b[38;5;241m=\u001b[39m results\u001b[38;5;241m.\u001b[39mdisassemble_into_single_device_arrays()\n",
      "\u001b[0;31mXlaRuntimeError\u001b[0m: RESOURCE_EXHAUSTED: Out of memory while trying to allocate 9285120928 bytes."
     ]
    }
   ],
   "source": [
    "NUM_RUNS = 3\n",
    "REGULARITY = [1,2,3,4]\n",
    "for alpha in REGULARITY:\n",
    "    i_opt_1_5 = []\n",
    "    i_opt_2 = []\n",
    "    for run in range(NUM_RUNS):\n",
    "        # Run\n",
    "        res = run_exp_opt_err(alpha,60,run)\n",
    "        # Append\n",
    "        i_opt_1_5.append(res[0])\n",
    "        i_opt_2.append(res[1])\n",
    "    # Append each list    \n",
    "    err['1_5_mthd'].append(i_opt_1_5)\n",
    "    err['2_mthd'].append(i_opt_2)   \n",
    "# Save after\n",
    "jnp.save('errors_opt/err_vs_smooth', err)"
   ]
  }
 ],
 "metadata": {
  "kernelspec": {
   "display_name": "keqlenv",
   "language": "python",
   "name": "python3"
  },
  "language_info": {
   "codemirror_mode": {
    "name": "ipython",
    "version": 3
   },
   "file_extension": ".py",
   "mimetype": "text/x-python",
   "name": "python",
   "nbconvert_exporter": "python",
   "pygments_lexer": "ipython3",
   "version": "3.12.4"
  }
 },
 "nbformat": 4,
 "nbformat_minor": 2
}
