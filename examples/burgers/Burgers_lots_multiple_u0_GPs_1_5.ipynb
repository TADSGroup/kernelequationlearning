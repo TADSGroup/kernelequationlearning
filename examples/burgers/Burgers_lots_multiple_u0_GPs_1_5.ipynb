{
 "cells": [
  {
   "cell_type": "code",
   "execution_count": null,
   "metadata": {},
   "outputs": [],
   "source": [
    "# jax\n",
    "import jax\n",
    "# jax.config.update(\"jax_default_device\",jax.devices()[1])\n",
    "jax.config.update(\"jax_enable_x64\", True)\n",
    "import jax.numpy as jnp\n",
    "from jax import jit,grad,jacfwd,jacrev,vmap\n",
    "from jax.random import PRNGKey as pkey\n",
    "from jax.scipy.linalg import solve\n",
    "# Other libraries\n",
    "import numpy as np\n",
    "import matplotlib.pyplot as plt\n",
    "from tqdm.auto import tqdm\n",
    "plt.style.use(\"ggplot\")\n",
    "from importlib import reload\n",
    "\n",
    "# Our libraries\n",
    "import KernelTools\n",
    "reload(KernelTools)\n",
    "from KernelTools import *\n",
    "from EquationModel import OperatorModel, OperatorPDEModel,CholInducedRKHS\n",
    "from plotting import plot_obs,plot_compare_error\n",
    "from evaluation_metrics import get_nrmse,table_u_errors\n",
    "from data_utils import (\n",
    "    get_xy_grid_pairs,\n",
    "    GP_sampler,\n",
    "    build_xy_grid,\n",
    "    sample_xy_grid_latin,\n",
    "    build_input_observations,\n",
    "    build_u_obs_single,\n",
    "    build_u_obs_all,\n",
    "    sample_multiple_xy_grids_latin\n",
    ")\n",
    "\n",
    "from Kernels import (\n",
    "    get_gaussianRBF,\n",
    "    get_centered_scaled_poly_kernel\n",
    ")"
   ]
  }
 ],
 "metadata": {
  "language_info": {
   "name": "python"
  }
 },
 "nbformat": 4,
 "nbformat_minor": 2
}
