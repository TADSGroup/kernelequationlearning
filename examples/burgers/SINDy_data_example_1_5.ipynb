{
 "cells": [
  {
   "cell_type": "code",
   "execution_count": 48,
   "metadata": {},
   "outputs": [],
   "source": [
    "import jax.numpy as jnp\n",
    "import jax\n",
    "jax.config.update(\"jax_enable_x64\", True)\n",
    "from jax import jit,grad,hessian,jacfwd,jacrev\n",
    "import numpy as np\n",
    "import matplotlib.pyplot as plt\n",
    "import jax\n",
    "from tqdm.auto import tqdm\n",
    "plt.style.use(\"ggplot\")\n",
    "\n",
    "from importlib import reload\n",
    "import KernelTools\n",
    "reload(KernelTools)\n",
    "from KernelTools import *\n",
    "from EquationModel import InducedRKHS,OperatorModel,CholOperatorModel\n",
    "from parabolic_data_utils import (\n",
    "    build_burgers_data,build_tx_grid,\n",
    "    build_tx_grid_chebyshev,setup_problem_data\n",
    ")\n",
    "from plotting import plot_input_data,plot_compare_error\n",
    "from evaluation_metrics import compute_results    \n",
    "from data_utils import MinMaxScaler\n",
    "from evaluation_metrics import get_nrmse\n",
    "\n",
    "from Kernels import log1pexp,inv_log1pexp\n",
    "from Kernels import (\n",
    "    get_centered_scaled_poly_kernel,\n",
    "    get_anisotropic_gaussianRBF,\n",
    "    fit_kernel_params\n",
    ")\n",
    "from EquationModel import CholInducedRKHS, CholOperatorModel, OperatorPDEModel\n",
    "from functools import partial\n",
    "\n",
    "import LM_Solve\n",
    "import importlib\n",
    "importlib.reload(LM_Solve)\n",
    "from LM_Solve import LevenbergMarquadtMinimize,adaptive_refine_solution"
   ]
  },
  {
   "cell_type": "code",
   "execution_count": 45,
   "metadata": {},
   "outputs": [],
   "source": [
    "# import tensorflow as tf\n",
    "import numpy as np\n",
    "import matplotlib.pyplot as plt\n",
    "import scipy.io\n",
    "from scipy.interpolate import griddata\n",
    "from scipy.spatial import distance\n",
    "from matplotlib import cm\n",
    "import time\n",
    "from mpl_toolkits.mplot3d import Axes3D\n",
    "from pyDOE import lhs\n",
    "#    import sobol_seq\n",
    "import os\n",
    "# from sklearn.preprocessing import MinMaxScaler"
   ]
  },
  {
   "cell_type": "code",
   "execution_count": 30,
   "metadata": {},
   "outputs": [],
   "source": [
    "np.random.seed(1234)\n",
    "\n",
    "data = scipy.io.loadmat('/home/juanfelipe/Desktop/research/keql/examples/burgers/data/burgers.mat')\n",
    "t = np.real(data['t'].flatten()[:,None])\n",
    "scaler_t = MinMaxScaler()\n",
    "t = scaler_t.fit_transform(t)\n",
    "x = np.real(data['x'].flatten()[:,None])\n",
    "scaler_x = MinMaxScaler()\n",
    "x = scaler_x.fit_transform(x)\n",
    "Exact = np.real(data['usol'])\n",
    "\n",
    "T, X = np.meshgrid(t,x)\n",
    "\n",
    "X_star = np.hstack((T.flatten()[:,None], X.flatten()[:,None]))\n",
    "u_star = Exact.flatten()[:,None]\n",
    "\n",
    "\n",
    "np.random.seed(2025)\n",
    "triplets_fine = np.hstack([X_star,u_star])\n",
    "N_all = 800\n",
    "idx_all = np.random.choice(triplets_fine.shape[0], N_all, replace=False)\n",
    "triplets_all = triplets_fine[idx_all,:]\n",
    "\n",
    "# Collocation point set\n",
    "tx_all = triplets_all[:,:2]\n",
    "\n",
    "\n",
    "N_obs = 100\n",
    "idx_obs = np.random.choice(triplets_all.shape[0], N_obs, replace=False)\n",
    "triplets_obs = triplets_all[idx_obs,:] # Choose data point set from collocation point set\n",
    "# Data point set\n",
    "tx_obs = triplets_obs[:,:2]\n",
    "u_obs = triplets_obs[:,-1]"
   ]
  },
  {
   "cell_type": "code",
   "execution_count": null,
   "metadata": {},
   "outputs": [],
   "source": [
    "# True contour on fine grid\n",
    "plt.tricontourf(*triplets_fine[:,:2].T,triplets_fine[:,-1],200)\n",
    "# Collocation point set\n",
    "plt.scatter(*tx_all.T,marker='.', s=10, color = 'gray',label = 'collocation point')\n",
    "# Data point set\n",
    "plt.scatter(*tx_obs.T, marker = 'x', s=30, color = 'red', alpha=0.3,label = 'data point')\n",
    "\n",
    "\n",
    "plt.xlabel('t')\n",
    "plt.ylabel('x')\n",
    "plt.colorbar()\n",
    "plt.legend(loc = 'upper right')\n",
    "plt.show()"
   ]
  },
  {
   "cell_type": "code",
   "execution_count": 37,
   "metadata": {},
   "outputs": [
    {
     "name": "stdout",
     "output_type": "stream",
     "text": [
      "[0.34661498 0.07031898]\n"
     ]
    }
   ],
   "source": [
    "from Kernels import (\n",
    "    get_centered_scaled_poly_kernel,\n",
    "    get_anisotropic_gaussianRBF,\n",
    "    fit_kernel_params\n",
    ")\n",
    "from EquationModel import CholInducedRKHS, CholOperatorModel, OperatorPDEModel\n",
    "from functools import partial\n",
    "\n",
    "\n",
    "u_operators = (eval_k,)\n",
    "feature_operators = (eval_k,dx_k,dxx_k)\n",
    "\n",
    "from Kernels import log1pexp,inv_log1pexp\n",
    "\n",
    "def param_ani_gaussian_RBF(x,y,params):\n",
    "    lengthscales = log1pexp(params)\n",
    "    return get_anisotropic_gaussianRBF(1.,jnp.diag(lengthscales))(x,y)\n",
    "\n",
    "fitted_params,ml_value = fit_kernel_params(param_ani_gaussian_RBF,tx_obs,u_obs,jnp.zeros(2))\n",
    "ML_lengthscales = log1pexp(fitted_params)\n",
    "print(1/(jnp.sqrt(ML_lengthscales)))\n",
    "\n",
    "k_u = get_anisotropic_gaussianRBF(1.,jnp.diag(log1pexp(fitted_params)))\n",
    "# k_u = get_anisotropic_gaussianRBF(1.,jnp.diag(jnp.array([1.,2.])))\n",
    "\n",
    "u_model = CholInducedRKHS(\n",
    "    tx_all,\n",
    "    u_operators,\n",
    "    k_u,\n",
    "    nugget_size = 1e-8\n",
    "    )\n",
    "\n",
    "u_params_init = u_model.get_fitted_params(tx_obs,u_obs)\n",
    "\n",
    "grid_features_init = (\n",
    "    (u_model.evaluate_operators(feature_operators,tx_all,u_params_init))\n",
    "    .reshape(\n",
    "            len(tx_all),\n",
    "            len(feature_operators),\n",
    "            order = 'F'\n",
    "        )\n",
    ")\n",
    "\n",
    "k_P_u_part = get_centered_scaled_poly_kernel(2,grid_features_init,c=1.,scaling = 'diagonal')\n",
    "\n",
    "@vectorize_kfunc\n",
    "def k_P(x,y):\n",
    "    return k_P_u_part(x[2:],y[2:])\n",
    "\n",
    "P_model = OperatorModel(k_P)    \n",
    "    \n",
    "\n",
    "EqnModel = OperatorPDEModel(\n",
    "    P_model,\n",
    "    (u_model,),\n",
    "    (tx_obs,),\n",
    "    (u_obs,),\n",
    "    (tx_all,),\n",
    "    feature_operators,\n",
    "    rhs_operator=dt_k,\n",
    "    datafit_weight = 10\n",
    ")"
   ]
  },
  {
   "cell_type": "code",
   "execution_count": null,
   "metadata": {},
   "outputs": [],
   "source": [
    "params_init = jnp.hstack([u_params_init,jnp.zeros(len(grid_features_init))])\n",
    "\n",
    "params,convergence_data = LevenbergMarquadtMinimize(\n",
    "    params_init.copy(),\n",
    "    EqnModel,\n",
    "    beta = 1e-11,\n",
    "    max_iter = 501,\n",
    "    init_alpha=0.1,\n",
    "    line_search_increase_ratio=1.4,\n",
    "    print_every = 100\n",
    ")\n",
    "p_adjusted,refine_convergence_data = adaptive_refine_solution(params,EqnModel,1e-3,500)\n",
    "plt.plot(jnp.hstack([convergence_data['loss_vals'],refine_convergence_data['loss_vals']]))\n",
    "plt.yscale('log')\n",
    "plt.show()"
   ]
  },
  {
   "cell_type": "code",
   "execution_count": 39,
   "metadata": {},
   "outputs": [],
   "source": [
    "u_sol = p_adjusted[:u_model.num_params]"
   ]
  },
  {
   "cell_type": "code",
   "execution_count": null,
   "metadata": {},
   "outputs": [],
   "source": [
    "# Using obs build the following functions\n",
    "X = tx_obs\n",
    "values = u_obs\n",
    "\n",
    "u_operators = (eval_k,)\n",
    "feature_operators = (eval_k,dt_k,dx_k,dxx_k)\n",
    "\n",
    "def param_ani_gaussian_RBF(x,y,params):\n",
    "    lengthscales = log1pexp(params)\n",
    "    return get_anisotropic_gaussianRBF(1.,jnp.diag(lengthscales))(x,y)\n",
    "\n",
    "fitted_params,ml_value = fit_kernel_params(param_ani_gaussian_RBF,tx_obs,u_obs,jnp.zeros(2))\n",
    "ML_lengthscales = log1pexp(fitted_params)\n",
    "\n",
    "k_u = get_anisotropic_gaussianRBF(1.,jnp.diag(log1pexp(fitted_params)))\n",
    "\n",
    "# print(1/(jnp.sqrt(ML_lengthscales)))\n",
    "\n",
    "u_model = CholInducedRKHS(\n",
    "    tx_obs,\n",
    "    u_operators,\n",
    "    k_u,\n",
    "    nugget_size = 1e-8\n",
    "    )\n",
    "\n",
    "u_params = u_model.get_fitted_params(tx_obs,u_obs)\n",
    "\n",
    "S = (\n",
    "    (u_model.evaluate_operators(feature_operators,tx_all,u_params))\n",
    "    .reshape(\n",
    "            len(tx_all), \n",
    "            len(feature_operators),\n",
    "            order = 'F'\n",
    "        )\n",
    ")\n",
    "\n",
    "U_t = S[:,1]\n",
    "UU_x = jnp.multiply(S[:,0],S[:,2])\n",
    "U_xx = S[:,3]\n",
    "\n",
    "Theta = jnp.vstack([UU_x, U_xx]).T"
   ]
  },
  {
   "cell_type": "code",
   "execution_count": 48,
   "metadata": {},
   "outputs": [
    {
     "data": {
      "image/png": "[encoded data removed]",
      "text/plain": [
       "<Figure size 1000x200 with 6 Axes>"
      ]
     },
     "metadata": {},
     "output_type": "display_data"
    }
   ],
   "source": [
    "plt.figure(1,figsize=(10,2))\n",
    "plt.subplot(131)\n",
    "plt.title('^u : True')\n",
    "plt.tricontourf(*X_star.T,u_star.flatten())\n",
    "plt.colorbar()\n",
    "plt.subplot(132)\n",
    "plt.title('^u : 1_5 method')\n",
    "plt.tricontourf(*X_star.T,u_pred.flatten())\n",
    "plt.colorbar()\n",
    "plt.subplot(133)\n",
    "plt.title('^u : PINN-SR')\n",
    "data_pinnsr = scipy.io.loadmat('/home/juanfelipe/Desktop/research/keql/examples/burgers/Pred.mat')\n",
    "u_pred_pinnsr = data_pinnsr['u_FullField_Pred']\n",
    "data = scipy.io.loadmat('/home/juanfelipe/Desktop/research/keql/examples/burgers/data/burgers.mat')\n",
    "t = np.real(data['t'].flatten()[:,None])\n",
    "x = np.real(data['x'].flatten()[:,None])\n",
    "Exact = np.real(data['usol']).T\n",
    "X, T = np.meshgrid(x,t)\n",
    "X_star2 = np.hstack((X.flatten()[:,None], T.flatten()[:,None]))\n",
    "X_star2[:,[1,0]] = X_star2[:,[0,1]]\n",
    "u_star2 = Exact.flatten()[:,None] \n",
    "plt.tricontourf(*X_star2.T,u_pred_pinnsr.flatten())\n",
    "plt.colorbar()\n",
    "plt.show()"
   ]
  },
  {
   "cell_type": "code",
   "execution_count": 52,
   "metadata": {},
   "outputs": [
    {
     "name": "stdout",
     "output_type": "stream",
     "text": [
      "Error 1_5 step method:  0.07045521017059002\n",
      "Error PINN method:  0.051997983805839754\n"
     ]
    }
   ],
   "source": [
    "from evaluation_metrics import get_nrmse\n",
    "true = u_star.flatten()\n",
    "true_flipped = u_star2.flatten()\n",
    "u_error_1_5 = get_nrmse(true,u_pred)\n",
    "u_error_pinn = get_nrmse(true_flipped,u_pred_pinnsr.flatten())\n",
    "print('Error 1_5 step method: ', u_error_1_5)\n",
    "print('Error PINN method: ', u_error_pinn)"
   ]
  },
  {
   "cell_type": "code",
   "execution_count": 59,
   "metadata": {},
   "outputs": [
    {
     "data": {
      "text/plain": [
       "<matplotlib.tri._tricontour.TriContourSet at 0x7ff1bc24fd70>"
      ]
     },
     "execution_count": 59,
     "metadata": {},
     "output_type": "execute_result"
    },
    {
     "data": {
      "image/png": "[encoded data removed]",
      "text/plain": [
       "<Figure size 640x480 with 1 Axes>"
      ]
     },
     "metadata": {},
     "output_type": "display_data"
    }
   ],
   "source": [
    "plt.tricontourf(*X_star2.T, u_star2.flatten())"
   ]
  },
  {
   "cell_type": "code",
   "execution_count": 49,
   "metadata": {},
   "outputs": [],
   "source": [
    "def get_error_1_5(n_obs, n_coll, run):\n",
    "    # Generate data\n",
    "\n",
    "    data = scipy.io.loadmat('/home/juanfelipe/Desktop/research/keql/examples/burgers/data/burgers.mat')\n",
    "    # t\n",
    "    t = jnp.real(data['t'].flatten()[:,None])\n",
    "    # Scale t\n",
    "    scaler_t = MinMaxScaler()\n",
    "    t = scaler_t.fit_transform(t)\n",
    "    # x\n",
    "    x = np.real(data['x'].flatten()[:,None])\n",
    "    # Scale x\n",
    "    scaler_x = MinMaxScaler()\n",
    "    x = scaler_x.fit_transform(x)\n",
    "    # u true values\n",
    "    Exact = np.real(data['usol'])\n",
    "\n",
    "    # Fine meshgrid\n",
    "    T, X = np.meshgrid(t,x)\n",
    "\n",
    "    # Fine pairs (t,x)\n",
    "    X_star = np.hstack((T.flatten()[:,None], X.flatten()[:,None]))\n",
    "    # Fine u values\n",
    "    u_star = Exact.flatten()[:,None]\n",
    "    \n",
    "    # Triples at collocation point set\n",
    "    N_all = n_coll\n",
    "    triplets_fine = np.hstack([X_star,u_star])\n",
    "    triplets_all = jax.random.choice(key = jax.random.PRNGKey(0), a = triplets_fine, shape = (N_all,), replace=False)\n",
    "    \n",
    "    # Collocation point set\n",
    "    tx_all = triplets_all[:,:2]\n",
    "    print(tx_all.shape)\n",
    "\n",
    "\n",
    "    N_obs = n_obs\n",
    "    triplets_obs = jax.random.choice(key = jax.random.PRNGKey(run), a = triplets_all, shape = (N_obs,), replace=False)\n",
    "    # triplets_obs = triplets_all[idx_obs,:] # Choose data point set from collocation point set\n",
    "    # Data point set\n",
    "    tx_obs = triplets_obs[:,:2]\n",
    "    u_obs = triplets_obs[:,-1]\n",
    "\n",
    "    # Run 1_5 step method\n",
    "\n",
    "    u_operators = (eval_k,)\n",
    "    feature_operators = (eval_k,dx_k,dxx_k)\n",
    "\n",
    "    # Choose u kernel\n",
    "    def param_ani_gaussian_RBF(x,y,params):\n",
    "        lengthscales = log1pexp(params)\n",
    "        return get_anisotropic_gaussianRBF(1.,jnp.diag(lengthscales))(x,y)\n",
    "    \n",
    "    fitted_params,ml_value = fit_kernel_params(param_ani_gaussian_RBF,tx_obs,u_obs,jnp.zeros(2))\n",
    "    ML_lengthscales = log1pexp(fitted_params)\n",
    "    print(1/(jnp.sqrt(ML_lengthscales)))\n",
    "    k_u = get_anisotropic_gaussianRBF(1.,jnp.diag(log1pexp(fitted_params)))\n",
    "\n",
    "    # RKHS class for u\n",
    "    u_model = CholInducedRKHS(\n",
    "        tx_all,\n",
    "        u_operators,\n",
    "        k_u,\n",
    "        nugget_size = 1e-8\n",
    "        )\n",
    "    u_params_init = u_model.get_fitted_params(tx_obs,u_obs)\n",
    "\n",
    "    grid_features_init = (\n",
    "        (u_model.evaluate_operators(feature_operators,tx_all,u_params_init))\n",
    "        .reshape(\n",
    "                len(tx_all),\n",
    "                len(feature_operators),\n",
    "                order = 'F'\n",
    "            )\n",
    "    )\n",
    "\n",
    "    # Choose kernel for P\n",
    "    k_P_u_part = get_centered_scaled_poly_kernel(2,grid_features_init,c=1.,scaling = 'diagonal')\n",
    "    @vectorize_kfunc\n",
    "    def k_P(x,y):\n",
    "        return k_P_u_part(x[2:],y[2:])\n",
    "    P_model = OperatorModel(k_P)    \n",
    "        \n",
    "    # Equation model that has u and P object\n",
    "    EqnModel = OperatorPDEModel(\n",
    "        P_model,\n",
    "        (u_model,),\n",
    "        (tx_obs,),\n",
    "        (u_obs,),\n",
    "        (tx_all,),\n",
    "        feature_operators,\n",
    "        rhs_operator=dt_k,\n",
    "        datafit_weight = 10\n",
    "    )\n",
    "\n",
    "    # Optimize - LM\n",
    "    params_init = jnp.hstack([u_params_init,jnp.zeros(len(grid_features_init))])\n",
    "    params,convergence_data = LevenbergMarquadtMinimize(\n",
    "        params_init.copy(),\n",
    "        EqnModel,\n",
    "        beta = 1e-11,\n",
    "        max_iter = 501,\n",
    "        init_alpha=0.1,\n",
    "        line_search_increase_ratio=1.4,\n",
    "        print_every = 100\n",
    "    )\n",
    "    p_adjusted,refine_convergence_data = adaptive_refine_solution(params,EqnModel,1e-3,500)\n",
    "    # u_params\n",
    "    u_sol = p_adjusted[:u_model.num_params]\n",
    "    # u_true \n",
    "    u_true = u_star.flatten()\n",
    "    # get error\n",
    "    error_u_field = get_nrmse(u_true, u_model.point_evaluate(X_star,u_sol))\n",
    "    \n",
    "    return error_u_field"
   ]
  },
  {
   "cell_type": "code",
   "execution_count": 52,
   "metadata": {},
   "outputs": [
    {
     "name": "stdout",
     "output_type": "stream",
     "text": [
      "(900, 2)\n",
      "[0.17829865 0.1103618 ]\n"
     ]
    },
    {
     "data": {
      "application/vnd.jupyter.widget-view+json": {
       "model_id": "cf44c31c2c7041c5852af13f31dd7cca",
       "version_major": 2,
       "version_minor": 0
      },
      "text/plain": [
       "  0%|          | 0/501 [00:00<?, ?it/s]"
      ]
     },
     "metadata": {},
     "output_type": "display_data"
    },
    {
     "name": "stdout",
     "output_type": "stream",
     "text": [
      "Iteration 0, loss = 0.2261, Jres = 192.9, alpha = 0.08333, improvement_ratio = 0.9106\n",
      "Iteration 1, loss = 0.1094, Jres = 18.71, alpha = 0.06944, improvement_ratio = 1.007\n",
      "Iteration 2, loss = 0.06627, Jres = 13.18, alpha = 0.05787, improvement_ratio = 1.041\n",
      "Iteration 3, loss = 0.04381, Jres = 2.676, alpha = 0.04823, improvement_ratio = 0.9967\n",
      "Iteration 4, loss = 0.03094, Jres = 2.658, alpha = 0.04019, improvement_ratio = 0.985\n",
      "Iteration 5, loss = 0.02305, Jres = 1.751, alpha = 0.03349, improvement_ratio = 0.9787\n",
      "Iteration 100, loss = 0.0004474, Jres = 0.293, alpha = 8.333e-07, improvement_ratio = 0.9839\n",
      "Iteration 200, loss = 0.0003904, Jres = 0.08409, alpha = 8.333e-07, improvement_ratio = 0.9915\n",
      "Iteration 300, loss = 0.000375, Jres = 0.002871, alpha = 8.333e-07, improvement_ratio = 1.0\n",
      "Iteration 400, loss = 0.0003666, Jres = 0.007746, alpha = 8.333e-07, improvement_ratio = 0.9998\n",
      "Iteration 500, loss = 0.0003603, Jres = 0.007804, alpha = 8.333e-07, improvement_ratio = 0.9997\n"
     ]
    },
    {
     "data": {
      "application/vnd.jupyter.widget-view+json": {
       "model_id": "995f735d8ec048bfb29a3add05f7c5a8",
       "version_major": 2,
       "version_minor": 0
      },
      "text/plain": [
       "  0%|          | 0/500 [00:00<?, ?it/s]"
      ]
     },
     "metadata": {},
     "output_type": "display_data"
    },
    {
     "name": "stdout",
     "output_type": "stream",
     "text": [
      "Iteration 0, loss = 0.00036013307358552505\n",
      "Iteration 190 Step Failed\n",
      "Iteration 248 Step Failed\n",
      "Iteration 250 Step Failed\n",
      "Iteration 251 Step Failed\n",
      "Iteration 252 Step Failed\n",
      "Iteration 254 Step Failed\n",
      "Iteration 255 Step Failed\n"
     ]
    }
   ],
   "source": [
    "res = get_error_1_5(100,900,1)"
   ]
  },
  {
   "cell_type": "code",
   "execution_count": 53,
   "metadata": {},
   "outputs": [
    {
     "data": {
      "text/plain": [
       "Array(0.0735728, dtype=float64)"
      ]
     },
     "execution_count": 53,
     "metadata": {},
     "output_type": "execute_result"
    }
   ],
   "source": [
    "res"
   ]
  },
  {
   "cell_type": "code",
   "execution_count": null,
   "metadata": {},
   "outputs": [],
   "source": []
  }
 ],
 "metadata": {
  "kernelspec": {
   "display_name": "sindy",
   "language": "python",
   "name": "python3"
  },
  "language_info": {
   "codemirror_mode": {
    "name": "ipython",
    "version": 3
   },
   "file_extension": ".py",
   "mimetype": "text/x-python",
   "name": "python",
   "nbconvert_exporter": "python",
   "pygments_lexer": "ipython3",
   "version": "3.12.3"
  }
 },
 "nbformat": 4,
 "nbformat_minor": 2
}
