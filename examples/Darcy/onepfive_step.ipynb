{
  "cells": [
    {
      "attachments": {},
      "cell_type": "markdown",
      "metadata": {
        "id": "_Lr5zZpo4oaV"
      },
      "source": [
        "## Burgers: One-pfive step Method"
      ]
    },
    {
      "cell_type": "code",
      "execution_count": 1,
      "metadata": {},
      "outputs": [],
      "source": [
        "# Import packages\n",
        "import sys\n",
        "import os\n",
        "import numpy as np\n",
        "import matplotlib.pyplot as plt\n",
        "plt.style.use(\"ggplot\")\n",
        "from sklearn.kernel_ridge import KernelRidge\n",
        "from sklearn.metrics.pairwise import polynomial_kernel\n",
        "from tqdm import tqdm\n",
        "import jax.numpy as jnp\n",
        "from jax import grad, jit\n",
        "from jaxopt import LBFGS\n",
        "from jaxopt import GradientDescent\n",
        "from functools import partial\n",
        "from jax.config import config;\n",
        "sys.path.append('/home/juanfelipe/Desktop/research/keql/source')\n",
        "from parameter_learning import *\n",
        "from plotlib import *\n",
        "from models import * \n",
        "from kernels import *\n",
        "from data_loader_Darcy import *\n",
        "from loss import *\n",
        "from utils import *\n",
        "from jax import clear_caches\n",
        "\n",
        "clear_caches()\n",
        "os.environ[\"XLA_PYTHON_CLIENT_PREALLOCATE\"] = \"false\"\n",
        "config.update(\"jax_enable_x64\", True)"
      ]
    },
    {
      "cell_type": "code",
      "execution_count": 2,
      "metadata": {},
      "outputs": [],
      "source": [
        "# Import values from 2-step\n",
        "two_step_dict = np.load('data/two_step_dict.npy', allow_pickle=True)\n",
        "two_step_dict = two_step_dict.item()"
      ]
    },
    {
      "attachments": {},
      "cell_type": "markdown",
      "metadata": {
        "id": "R0dMsZlmnk27"
      },
      "source": [
        "### Cost function"
      ]
    },
    {
      "attachments": {},
      "cell_type": "markdown",
      "metadata": {},
      "source": [
        "Create objective function `L`"
      ]
    },
    {
      "cell_type": "markdown",
      "metadata": {},
      "source": [
        "$$\n",
        "L(Z_0) = f(X_N)^T \\Gamma(S_N,S_N)^{-1} f(X_N) + \\lambda \\sum_{i=1}^m (Z_{0,i*N:(i+1)*N})^T K(X_N,X_N)^{-1}(Z_{0,i*N:(i+1)*N})\n",
        "$$\n",
        "where\n",
        "$$\n",
        "Z_0[M] = U[M].\n",
        "$$"
      ]
    },
    {
      "cell_type": "code",
      "execution_count": 3,
      "metadata": {},
      "outputs": [],
      "source": [
        "# First column in Gamma(S_N_gh_tr,S_N_gh_tr)\n",
        "#X = X_gh_tr # (N_gh_tr*m, 2)\n",
        "\n",
        "# Second column in Gamma(S_N_gh_tr,S_N_gh_tr)\n",
        "U_gh_tr = U_gh_tr.reshape(N_gh_tr*m,) # (N_gh_tr*m, )\n",
        "\n",
        "# f(X_N)\n",
        "f_gh_tr_pred = two_step_dict['f_gh_tr_pred']"
      ]
    },
    {
      "cell_type": "code",
      "execution_count": 4,
      "metadata": {},
      "outputs": [],
      "source": [
        "# Load values of U predicted from 2-step at gh_tr points\n",
        "U_gh_tr_pred = np.load('data/U_gh_tr_pred.npy')\n",
        "U_x_gh_tr_pred = np.load('data/U_x_gh_tr_pred.npy')\n",
        "U_xx_gh_tr_pred = np.load('data/U_xx_gh_tr_pred.npy')\n",
        "# Build Z_warm\n",
        "Z_warm = jnp.array(U_gh_tr_pred.T.reshape(N_gh_tr*m,)) "
      ]
    },
    {
      "cell_type": "markdown",
      "metadata": {},
      "source": [
        "First iteration RKHS norm of P "
      ]
    },
    {
      "cell_type": "markdown",
      "metadata": {},
      "source": [
        "Gaussian"
      ]
    },
    {
      "cell_type": "code",
      "execution_count": 5,
      "metadata": {},
      "outputs": [],
      "source": [
        "# S = jnp.zeros((N_gh_tr*m, 5))\n",
        "\n",
        "# # Split Z\n",
        "# for i in range(m):\n",
        "#     Zi = Z_warm[i*N_gh_tr:(i+1)*N_gh_tr]\n",
        "#     optim_sgm = two_step_dict.get('optim_sgm_u')[i]\n",
        "#     optim_nugget = two_step_dict.get('optim_nugget_u')[i]\n",
        "#     G = K_2D(Gaussian2D, X[:N_gh_tr], X[:N_gh_tr], optim_sgm) \n",
        "#     alphas = jnp.linalg.solve(G + optim_nugget*jnp.eye(N_gh_tr),Zi)\n",
        "\n",
        "#     Zi_x = jnp.dot(K_dot2D(Gaussian2D, X[:N_gh_tr], X[:N_gh_tr], optim_sgm, 1), alphas)\n",
        "#     Zi_xx = jnp.dot(K_2dot2D(Gaussian2D, X[:N_gh_tr], X[:N_gh_tr], optim_sgm, 1,1), alphas)\n",
        "\n",
        "#     Si = jnp.vstack((X[:N_gh_tr].T, Zi, Zi_x,Zi_xx)).T\n",
        "#     # print shapes and values here\n",
        "#     S = S.at[i*N_gh_tr:(i+1)*N_gh_tr,:].set(Si)\n",
        "# # Scaling S_N\n",
        "# scaler_S_gh_tr = MinMaxScaler()\n",
        "# S = scaler_S_gh_tr.fit_transform(S)\n",
        "# S = jnp.array(S)\n",
        "# # Gamma(S_N,S_N)\n",
        "# optim_sgm_P = two_step_dict.get('optim_sgm_P')\n",
        "# Gamma = K(Gaussian, S, S, optim_sgm_P)\n",
        "# nugget_P = two_step_dict.get('optim_nugget_P') \n",
        "# Gamma = Gamma + nugget_P*jnp.eye(jnp.size(Gamma,0))\n",
        "# #print(\"cond(Gamma) = \", jnp.linalg.cond(Gamma))\n",
        "\n",
        "# # (Gamma(S_N,S_N) + alpha_Gamma*I)^-1 * f\n",
        "# b = jnp.linalg.solve(Gamma,f)\n",
        "\n",
        "# rkhs_P_first_iter = jnp.dot(f.T , b)"
      ]
    },
    {
      "cell_type": "markdown",
      "metadata": {},
      "source": [
        "Poly2"
      ]
    },
    {
      "cell_type": "code",
      "execution_count": 6,
      "metadata": {},
      "outputs": [],
      "source": [
        "S_gh_tr = jnp.zeros((N_gh_tr*m, 7))\n",
        "\n",
        "# Split Z\n",
        "for i in range(m):\n",
        "    Zi = Z_warm[i*N_gh_tr:(i+1)*N_gh_tr]\n",
        "    optim_sgm = two_step_dict.get('optim_sgm_u')[i]\n",
        "    optim_nugget = two_step_dict.get('optim_nugget_u')[i]\n",
        "    G = K_2D(Gaussian2D, X_gh_tr[i*N_gh_tr:(i+1)*N_gh_tr], X_gh_tr[i*N_gh_tr:(i+1)*N_gh_tr], optim_sgm) \n",
        "    alphas = jnp.linalg.solve(G + optim_nugget*jnp.eye(N_gh_tr),Zi)\n",
        "\n",
        "\n",
        "    Zi_x1 = jnp.dot(K_dot2D(Gaussian2D, X_gh_tr[i*N_gh_tr:(i+1)*N_gh_tr], X_gh_tr[i*N_gh_tr:(i+1)*N_gh_tr], optim_sgm, 0), alphas)\n",
        "    Zi_x2 = jnp.dot(K_dot2D(Gaussian2D, X_gh_tr[i*N_gh_tr:(i+1)*N_gh_tr], X_gh_tr[i*N_gh_tr:(i+1)*N_gh_tr], optim_sgm, 1), alphas)\n",
        "    Zi_x1x1 = jnp.dot(K_2dot2D(Gaussian2D, X_gh_tr[i*N_gh_tr:(i+1)*N_gh_tr], X_gh_tr[i*N_gh_tr:(i+1)*N_gh_tr], optim_sgm, 0,0), alphas)\n",
        "    Zi_x2x2 = jnp.dot(K_2dot2D(Gaussian2D, X_gh_tr[i*N_gh_tr:(i+1)*N_gh_tr], X_gh_tr[i*N_gh_tr:(i+1)*N_gh_tr], optim_sgm, 1,1), alphas)\n",
        "\n",
        "    S_gh_tri = jnp.vstack((X_gh_tr[i*N_gh_tr:(i+1)*N_gh_tr].T, Zi, Zi_x1,Zi_x2, Zi_x1x1, Zi_x2x2)).T\n",
        "    # print shapes and values here\n",
        "    S_gh_tr = S_gh_tr.at[i*N_gh_tr:(i+1)*N_gh_tr,:].set(S_gh_tri)\n",
        "# Scaling S_N_gh_tr\n",
        "scaler_S_gh_tr = MinMaxScaler()\n",
        "S_gh_tr = scaler_S_gh_tr.fit_transform(S_gh_tr)\n",
        "S_gh_tr = jnp.array(S_gh_tr)\n",
        "# Gamma(S_gh_tr,S_gh_tr)\n",
        "optim_sgm_P = two_step_dict.get('optim_sgm_P')\n",
        "#Gamma = K(Gaussian, S_gh_tr, S_gh_tr, optim_sgm_P)\n",
        "Gamma = K(Polynomial,S_gh_tr, S_gh_tr, np.array([1,2]))\n",
        "nugget_P = two_step_dict.get('optim_nugget_P') \n",
        "Gamma = Gamma + nugget_P*jnp.eye(jnp.size(Gamma,0))\n",
        "#print(\"cond(Gamma) = \", jnp.linalg.cond(Gamma))\n",
        "\n",
        "# (Gamma(S_N,S_N) + alpha_Gamma*I)^-1 * f\n",
        "b = jnp.linalg.solve(Gamma,f_gh_tr_pred)\n",
        "rkhs_P_first_iter = jnp.dot(f_gh_tr_pred.T , b)\n",
        "two_step_dict['rkhs_P_train'] = rkhs_P_first_iter"
      ]
    },
    {
      "cell_type": "markdown",
      "metadata": {},
      "source": [
        "First iteration RKHS norm of u"
      ]
    },
    {
      "cell_type": "code",
      "execution_count": 7,
      "metadata": {},
      "outputs": [
        {
          "name": "stdout",
          "output_type": "stream",
          "text": [
            "[Array(3108.94452701, dtype=float64), Array(160.23385262, dtype=float64)]\n"
          ]
        }
      ],
      "source": [
        "# Second term\n",
        "sigma_K = jnp.array(two_step_dict.get('optim_sgm_u'))\n",
        "nugget_K = two_step_dict.get('optim_nugget_u')\n",
        "K_XNs = []\n",
        "for i in range(m):\n",
        "    K_XN = K_2D(Gaussian2D,X_gh_tr[:N_gh_tr],X_gh_tr[:N_gh_tr],sigma_K[i]) \n",
        "    K_XNs.append(K_XN + nugget_K[i]*jnp.eye(N_gh_tr))\n",
        "\n",
        "rkhs_u_first_iter = []\n",
        "for i in range(m):\n",
        "    Zi = Z_warm[i*N_gh_tr:(i+1)*N_gh_tr]\n",
        "    c = jnp.linalg.solve(K_XNs[i],Zi)\n",
        "    rkhs_u_first_iter.append(jnp.reshape(jnp.dot(Zi.T , c),()))\n",
        "\n",
        "print(rkhs_u_first_iter)"
      ]
    },
    {
      "cell_type": "code",
      "execution_count": 8,
      "metadata": {},
      "outputs": [],
      "source": [
        "# Define loss function\n",
        "def L(Z, X_gh_tr, U_gh_tr, M_gh_tr, f_gh_tr_pred, two_step_dict, lmbd):\n",
        "    \"\"\"Cost function for 1.5-step method.\n",
        "    \n",
        "    Args:\n",
        "        Z: Vector [Z^1 Z^2 Z^3]^T. m*N\n",
        "        X: List of mN points of dimension d.\n",
        "        U: List of N1+N2+N3 values of functions u^(1),...u^(N).\n",
        "        M: Bolean array which contains where true values reside.\n",
        "        f: List of mN values of functions u^(1),...u^(N).\n",
        "        two_step_dict: Dictionary with values from 2-step.\n",
        "        lmbd: Lagrange multiplier in the loss function.\n",
        "    Returns:\n",
        "        scalar: a cost of this solution.    \n",
        "    \"\"\" \n",
        "\n",
        "    ### Set up\n",
        "    # N = 7*7\n",
        "    m = 2\n",
        "    #print('Z:', Z)\n",
        "    # Constrain the value of Z with known info\n",
        "    #Z = jnp.where(M_gh_tr, U_gh_tr, Z)\n",
        "    # Just use Z_warm instead of using line 21.\n",
        "    # Cd + 1 = 4\n",
        "    S_gh_tr = jnp.zeros((N_gh_tr*m, 7))\n",
        "    \n",
        "    # Split Z\n",
        "    for i in range(m):\n",
        "        Zi = Z[i*N_gh_tr:(i+1)*N_gh_tr]\n",
        "        optim_sgm = two_step_dict.get('optim_sgm_u')[i]\n",
        "        optim_nugget = two_step_dict.get('optim_nugget_u')[i]\n",
        "        G = K_2D(Gaussian2D, X_gh_tr[i*N_gh_tr:(i+1)*N_gh_tr], X_gh_tr[i*N_gh_tr:(i+1)*N_gh_tr], optim_sgm) \n",
        "        alphas = jnp.linalg.solve(G + optim_nugget*jnp.eye(N_gh_tr),Zi)\n",
        "\n",
        "        Zi_x1 = jnp.dot(K_dot2D(Gaussian2D, X_gh_tr[i*N_gh_tr:(i+1)*N_gh_tr], X_gh_tr[i*N_gh_tr:(i+1)*N_gh_tr], optim_sgm, 0), alphas)\n",
        "        Zi_x2 = jnp.dot(K_dot2D(Gaussian2D, X_gh_tr[i*N_gh_tr:(i+1)*N_gh_tr], X_gh_tr[i*N_gh_tr:(i+1)*N_gh_tr], optim_sgm, 1), alphas)\n",
        "        Zi_x1x1 = jnp.dot(K_2dot2D(Gaussian2D, X_gh_tr[i*N_gh_tr:(i+1)*N_gh_tr], X_gh_tr[i*N_gh_tr:(i+1)*N_gh_tr], optim_sgm, 0,0), alphas)\n",
        "        Zi_x2x2 = jnp.dot(K_2dot2D(Gaussian2D, X_gh_tr[i*N_gh_tr:(i+1)*N_gh_tr], X_gh_tr[i*N_gh_tr:(i+1)*N_gh_tr], optim_sgm, 1,1), alphas)\n",
        "\n",
        "        Si = jnp.vstack((X_gh_tr[i*N_gh_tr:(i+1)*N_gh_tr].T,Zi, Zi_x1,Zi_x2, Zi_x1x1,Zi_x2x2)).T\n",
        "        # print shapes and values here\n",
        "        S_gh_tr = S_gh_tr.at[i*N_gh_tr:(i+1)*N_gh_tr,:].set(Si)\n",
        "    # Scaling S_gh_tr\n",
        "    scaler_S_gh_tr = MinMaxScaler()\n",
        "    S_gh_tr = scaler_S_gh_tr.fit_transform(S_gh_tr)\n",
        "    S_gh_tr = jnp.array(S_gh_tr)\n",
        "    # Gamma(S_gh_tr,S_gh_tr)\n",
        "    optim_sgm_P = two_step_dict.get('optim_sgm_P')\n",
        "    #Gamma = K(Gaussian, S_gh_tr, S_gh_tr, optim_sgm_P)\n",
        "    Gamma = K(Polynomial,S_gh_tr, S_gh_tr, jnp.array([1,2]))\n",
        "    nugget_P = two_step_dict.get('optim_nugget_P') \n",
        "    Gamma = Gamma + nugget_P*jnp.eye(jnp.size(Gamma,0))\n",
        "    #print(\"cond(Gamma) = \", jnp.linalg.cond(Gamma))\n",
        "\n",
        "    # (Gamma(S_N,S_N) + alpha_Gamma*I)^-1 * f\n",
        "    b = jnp.linalg.solve(Gamma,f_gh_tr_pred)\n",
        "\n",
        "    # First term\n",
        "    L1 = jnp.dot(f_gh_tr_pred.T , b) / two_step_dict.get('rkhs_P_train')\n",
        "    #print('L1: ', L1)\n",
        "\n",
        "    # Second term\n",
        "    sigma_K = jnp.array(two_step_dict.get('optim_sgm_u'))\n",
        "    nugget_K = two_step_dict.get('optim_nugget_u')\n",
        "    K_XNs = []\n",
        "    for i in range(m):\n",
        "        K_XN = K_2D(Gaussian2D,X_gh_tr[:N_gh_tr],X_gh_tr[:N_gh_tr],sigma_K[i]) \n",
        "        K_XNs.append(K_XN + nugget_K[i]*jnp.eye(N_gh_tr))\n",
        "    \n",
        "    L2 = 0.\n",
        "    \n",
        "    for i in range(m):\n",
        "        Zi = Z[i*N_gh_tr:(i+1)*N_gh_tr]\n",
        "        c = jnp.linalg.solve(K_XNs[i],Zi)\n",
        "        L2 += jnp.reshape(jnp.dot(Zi.T , c),()) / rkhs_u_first_iter[i]\n",
        "        \n",
        "        #print('L2_',i+1,':',jnp.reshape(jnp.dot(Zi.T , c),()) / rkhs_u_first_iter[i])      \n",
        "    return L1 + lmbd*L2\n",
        "    "
      ]
    },
    {
      "cell_type": "code",
      "execution_count": 9,
      "metadata": {},
      "outputs": [
        {
          "data": {
            "text/plain": [
              "(3200,)"
            ]
          },
          "execution_count": 9,
          "metadata": {},
          "output_type": "execute_result"
        }
      ],
      "source": [
        "U_gh_tr.shape"
      ]
    },
    {
      "attachments": {},
      "cell_type": "markdown",
      "metadata": {
        "id": "zDReXRvPnk27"
      },
      "source": [
        "#### Gradient descent"
      ]
    },
    {
      "attachments": {},
      "cell_type": "markdown",
      "metadata": {
        "id": "3SObhiRznk27"
      },
      "source": [
        "Training data"
      ]
    },
    {
      "cell_type": "code",
      "execution_count": 10,
      "metadata": {
        "id": "E9BVaRatnk27"
      },
      "outputs": [],
      "source": [
        "# First column in Gamma(S_N,S_N)\n",
        "X = X_gh_tr # (N_gh_tr*m, 2)\n",
        "\n",
        "# Second column in Gamma(S_N,S_N)\n",
        "U = U_gh_tr.reshape(N_gh_tr*m,) # N*m x 1\n",
        "\n",
        "# f(X_N)\n",
        "f = two_step_dict['f_gh_tr_pred']"
      ]
    },
    {
      "attachments": {},
      "cell_type": "markdown",
      "metadata": {
        "id": "lA8nCyg_nk28"
      },
      "source": [
        "Initial guess: `Z_warm`"
      ]
    },
    {
      "cell_type": "code",
      "execution_count": 11,
      "metadata": {},
      "outputs": [],
      "source": [
        "# Load values of U predicted from 2-step at gh_tr points\n",
        "U_gh_tr_pred = np.load('data/U_gh_tr_pred.npy')\n",
        "U_x1_gh_tr_pred = np.load('data/U_x1_gh_tr_pred.npy')\n",
        "U_x1x1_gh_tr_pred = np.load('data/U_x1x1_gh_tr_pred.npy')\n",
        "U_x2_gh_tr_pred = np.load('data/U_x2_gh_tr_pred.npy')\n",
        "U_x2x2_gh_tr_pred = np.load('data/U_x2x2_gh_tr_pred.npy')\n",
        "# Build Z_warm\n",
        "Z_warm = jnp.array(U_gh_tr_pred.T.reshape(N_gh_tr*m,)) "
      ]
    },
    {
      "cell_type": "code",
      "execution_count": 12,
      "metadata": {},
      "outputs": [],
      "source": [
        "lmbda = 1/m"
      ]
    },
    {
      "cell_type": "code",
      "execution_count": 13,
      "metadata": {},
      "outputs": [
        {
          "data": {
            "text/plain": [
              "Array(2., dtype=float64)"
            ]
          },
          "execution_count": 13,
          "metadata": {},
          "output_type": "execute_result"
        }
      ],
      "source": [
        "L(Z_warm, X_gh_tr, U_gh_tr, M_gh_tr, f_gh_tr_pred, two_step_dict, lmbd=lmbda)"
      ]
    },
    {
      "cell_type": "markdown",
      "metadata": {},
      "source": [
        "### Optimization of L"
      ]
    },
    {
      "cell_type": "code",
      "execution_count": 14,
      "metadata": {},
      "outputs": [],
      "source": [
        "solver = LBFGS(fun=L, maxiter=1000, linesearch='backtracking', history_size = 20)\n",
        "#solver = GradientDescent(fun=L, maxiter=1000, stepsize=1e-8)\n",
        "res = solver.run(Z_warm, X_gh_tr, U_gh_tr, M_gh_tr, f_gh_tr_pred , two_step_dict=two_step_dict, lmbd=lmbda)"
      ]
    },
    {
      "cell_type": "code",
      "execution_count": 15,
      "metadata": {},
      "outputs": [],
      "source": [
        "Z = res.params"
      ]
    },
    {
      "cell_type": "code",
      "execution_count": 16,
      "metadata": {},
      "outputs": [
        {
          "data": {
            "text/plain": [
              "Array(False, dtype=bool)"
            ]
          },
          "execution_count": 16,
          "metadata": {},
          "output_type": "execute_result"
        }
      ],
      "source": [
        "np.all(Z_warm==Z)"
      ]
    },
    {
      "cell_type": "markdown",
      "metadata": {},
      "source": [
        "Evaluate `Z`"
      ]
    },
    {
      "cell_type": "code",
      "execution_count": 17,
      "metadata": {},
      "outputs": [],
      "source": [
        "clear_caches()\n",
        "S = jnp.zeros((N_gh_tr*m, 7))\n",
        "\n",
        "# Split Z\n",
        "for i in range(m):\n",
        "    Zi = Z[i*N_gh_tr:(i+1)*N_gh_tr]\n",
        "    optim_sgm = two_step_dict.get('optim_sgm_u')[i]\n",
        "    optim_nugget = two_step_dict.get('optim_nugget_u')[i]\n",
        "    G = K_2D(Gaussian2D, X_gh_tr[:N_gh_tr], X_gh_tr[:N_gh_tr], optim_sgm) \n",
        "    alphas = jnp.linalg.solve(G + optim_nugget*jnp.eye(N_gh_tr),Zi)\n",
        "    Zi_x1 = jnp.dot(K_dot2D(Gaussian2D, X_gh_tr[:N_gh_tr], X_gh_tr[:N_gh_tr], optim_sgm, 0), alphas)\n",
        "    Zi_x1x1 = jnp.dot(K_2dot2D(Gaussian2D, X_gh_tr[:N_gh_tr], X_gh_tr[:N_gh_tr], optim_sgm, 0,0), alphas)\n",
        "    Zi_x2 = jnp.dot(K_dot2D(Gaussian2D, X_gh_tr[:N_gh_tr], X_gh_tr[:N_gh_tr], optim_sgm, 1), alphas)\n",
        "    Zi_x2x2 = jnp.dot(K_2dot2D(Gaussian2D, X_gh_tr[:N_gh_tr], X_gh_tr[:N_gh_tr], optim_sgm, 1,1), alphas)\n",
        "    Si = jnp.vstack((X_gh_tr[:N_gh_tr].T,Zi, Zi_x1, Zi_x2, Zi_x1x1,Zi_x2x2)).T\n",
        "    S = S.at[i*N_gh_tr:(i+1)*N_gh_tr,:].set(Si)\n",
        "\n",
        "\n",
        "\n",
        "# Load gradients from 2-step\n",
        "U_te_pred = np.load('data/U_te_pred.npy')\n",
        "U_x1_te_pred = np.load('data/U_x1_te_pred.npy')\n",
        "U_x1x1_te_pred = np.load('data/U_x1x1_te_pred.npy')\n",
        "U_x2_te_pred = np.load('data/U_x2_te_pred.npy')\n",
        "U_x2x2_te_pred = np.load('data/U_x2x2_te_pred.npy')\n",
        "S_gh_tr = S\n",
        "S_tr = S[M_gh_tr]\n",
        "S_te = np.hstack((X_te, U_te.T.reshape(-1,1), U_x1_te_pred.T.reshape(-1,1),U_x2_te_pred.T.reshape(-1,1), U_x1x1_te_pred.T.reshape(-1,1), U_x2x2_te_pred.T.reshape(-1,1))) # (N_te*m, 7)\n",
        "\n",
        "f_gh_tr_pred = two_step_dict['f_gh_tr_pred']\n",
        "f_te = F_te.T.flatten()\n",
        "f_gh_tr2 = -2*(S_gh_tr[:,5] + S_gh_tr[:,6])\n",
        "f_tr2 = -2*(S_tr[:,5] + S_tr[:,6])\n",
        "f_te2 = -2*(S_te[:,5] + S_te[:,6])\n",
        "\n",
        "scaler_S_gh_tr = MinMaxScaler()\n",
        "S_gh_tr_s = scaler_S_gh_tr.fit_transform(S_gh_tr)\n",
        "S_tr_s = scaler_S_gh_tr.transform(S_tr)\n",
        "S_te_s = scaler_S_gh_tr.transform(S_te)\n",
        "\n",
        "#optim_sgm_P, optim_nugget_P = grid_search_RBF(S_gh_tr_s , f_gh_tr)\n",
        "\n",
        "#krr_optimal_P = KernelRidge(kernel='rbf', alpha = two_step_dict.get('optim_nugget_P'), gamma=1/(2*(two_step_dict.get('optim_sgm_P')**2))) \n",
        "krr_optimal_P = KernelRidge(kernel='polynomial', degree = 2, coef0=1) \n",
        "krr_optimal_P.fit(S_gh_tr_s, f_gh_tr_pred) \n",
        "f_gh_tr_pred = krr_optimal_P.predict(S_gh_tr_s)\n",
        "f_tr_pred = krr_optimal_P.predict(S_tr_s) \n",
        "f_te_pred = krr_optimal_P.predict(S_te_s) "
      ]
    },
    {
      "cell_type": "code",
      "execution_count": null,
      "metadata": {},
      "outputs": [],
      "source": []
    },
    {
      "cell_type": "code",
      "execution_count": 18,
      "metadata": {},
      "outputs": [
        {
          "data": {
            "image/png": "[encoded data removed]",
            "text/plain": [
              "<Figure size 700x200 with 8 Axes>"
            ]
          },
          "metadata": {},
          "output_type": "display_data"
        }
      ],
      "source": [
        "# Interpolant P^* at tr points : P^*(hat S_tr) vs. P(hat S_tr)\n",
        "fig, axs = plt.subplots(figsize = (7,m), nrows = m, ncols = 2, sharex = True, sharey = True)\n",
        "fig.subplots_adjust(hspace=0.2, wspace=0.1)\n",
        "fig.suptitle('Second step: P ({}) predictions at tr points'.format(m))\n",
        "for i in range(m):\n",
        "        axsi0 = axs[i,0].tricontourf(S_tr[i*N_tr:(i+1)*N_tr,0], S_tr[i*N_tr:(i+1)*N_tr,1], f_tr2[i*N_tr:(i+1)*N_tr])\n",
        "        plt.colorbar(axsi0, ax = axs[i,0])\n",
        "        axsi1 = axs[i,1].tricontourf(S_tr[i*N_tr:(i+1)*N_tr,0], S_tr[i*N_tr:(i+1)*N_tr,1], f_tr_pred[i*N_tr:(i+1)*N_tr])\n",
        "        plt.colorbar(axsi1, ax = axs[i,1])\n",
        "        axs[i,0].set_yticklabels([])\n",
        "        axs[i,0].set_xticklabels([])\n",
        "        axs[i,0].set_yticks([])\n",
        "        axs[i,0].set_xticks([])\n",
        "        axs[i,1].set_yticklabels([])\n",
        "        axs[i,1].set_xticklabels([])\n",
        "        axs[i,1].set_yticks([])\n",
        "        axs[i,1].set_xticks([])"
      ]
    },
    {
      "cell_type": "code",
      "execution_count": 19,
      "metadata": {},
      "outputs": [
        {
          "name": "stderr",
          "output_type": "stream",
          "text": [
            "/home/juanfelipe/anaconda3/envs/jaxenv/lib/python3.11/site-packages/jax/_src/array.py:360: RuntimeWarning: invalid value encountered in cast\n",
            "  return np.asarray(self._value, dtype=dtype)\n"
          ]
        },
        {
          "data": {
            "image/png": "[encoded data removed]",
            "text/plain": [
              "<Figure size 700x200 with 8 Axes>"
            ]
          },
          "metadata": {},
          "output_type": "display_data"
        }
      ],
      "source": [
        "# Interpolant P^* at gh_tr points : P^*(hat S_gh_tr) vs. P(hat S_gh_tr)\n",
        "fig, axs = plt.subplots(figsize = (7,m), nrows = m, ncols = 2, sharex = True, sharey = True)\n",
        "fig.subplots_adjust(hspace=0.2, wspace=0.1)\n",
        "fig.suptitle('Second step: P ({}) predictions at gh_tr points'.format(m))\n",
        "for i in range(m):\n",
        "        axsi0 = axs[i,0].tricontourf(S[i*N_gh_tr:(i+1)*N_gh_tr,0], S[i*N_gh_tr:(i+1)*N_gh_tr,1], f_gh_tr2[i*N_gh_tr:(i+1)*N_gh_tr])\n",
        "        plt.colorbar(axsi0, ax = axs[i,0])\n",
        "        axsi1 = axs[i,1].tricontourf(S[i*N_gh_tr:(i+1)*N_gh_tr,0], S[i*N_gh_tr:(i+1)*N_gh_tr,1], f_gh_tr_pred[i*N_gh_tr:(i+1)*N_gh_tr])\n",
        "        plt.colorbar(axsi1, ax = axs[i,1])\n",
        "        axs[i,0].set_yticklabels([])\n",
        "        axs[i,0].set_xticklabels([])\n",
        "        axs[i,0].set_yticks([])\n",
        "        axs[i,0].set_xticks([])\n",
        "        axs[i,1].set_yticklabels([])\n",
        "        axs[i,1].set_xticklabels([])\n",
        "        axs[i,1].set_yticks([])\n",
        "        axs[i,1].set_xticks([])"
      ]
    },
    {
      "cell_type": "code",
      "execution_count": 20,
      "metadata": {},
      "outputs": [
        {
          "data": {
            "image/png": "[encoded data removed]",
            "text/plain": [
              "<Figure size 700x200 with 12 Axes>"
            ]
          },
          "metadata": {},
          "output_type": "display_data"
        }
      ],
      "source": [
        "# Interpolant P^* at testing points : P^*(hat S) vs. P(hat S)\n",
        "fig, axs = plt.subplots(figsize = (7,m), nrows = m, ncols = 3, sharex = True, sharey = True)\n",
        "fig.subplots_adjust(hspace=0.2, wspace=0.1)\n",
        "fig.suptitle('P predictions with m = {} at testing points'.format(m))\n",
        "for i in range(m):\n",
        "        axsi0 = axs[i,0].tricontourf(X_te[i*N_te:(i+1)*N_te,0], X_te[i*N_te:(i+1)*N_te,1], f_te2[i*N_te:(i+1)*N_te])\n",
        "        plt.colorbar(axsi0, ax = axs[i,0])\n",
        "        axsi1 = axs[i,1].tricontourf(X_te[i*N_te:(i+1)*N_te,0], X_te[i*N_te:(i+1)*N_te,1], f_te_pred[i*N_te:(i+1)*N_te])\n",
        "        plt.colorbar(axsi1, ax = axs[i,1])\n",
        "        axsi2 = axs[i,2].tricontourf(X_te[i*N_te:(i+1)*N_te,0], X_te[i*N_te:(i+1)*N_te,1], np.abs(f_te2[i*N_te:(i+1)*N_te]-f_te_pred[i*N_te:(i+1)*N_te]))\n",
        "        plt.colorbar(axsi2, ax = axs[i,2])\n",
        "        axs[i,0].set_yticklabels([])\n",
        "        axs[i,0].set_xticklabels([])\n",
        "        axs[i,0].set_yticks([])\n",
        "        axs[i,0].set_xticks([])\n",
        "        axs[i,1].set_yticklabels([])\n",
        "        axs[i,1].set_xticklabels([])\n",
        "        axs[i,1].set_yticks([])\n",
        "        axs[i,1].set_xticks([])\n",
        "        axs[i,2].set_yticklabels([])\n",
        "        axs[i,2].set_xticklabels([])\n",
        "        axs[i,2].set_yticks([])\n",
        "        axs[i,2].set_xticks([])"
      ]
    },
    {
      "cell_type": "code",
      "execution_count": 21,
      "metadata": {},
      "outputs": [
        {
          "name": "stdout",
          "output_type": "stream",
          "text": [
            "Normalized MSEs between P and P^ for 2 functions\n",
            "m = 0 nmse_ghost_train = 0.9999999898665871\n",
            "m = 0 nmse_train = 0.9999999764795587\n",
            "m = 0 nmse_test = 0.7060597356353279\n",
            "m = 1 nmse_ghost_train = 0.9999999986722459\n",
            "m = 1 nmse_train = 0.9999999987397551\n",
            "m = 1 nmse_test = 0.7058677316752493\n"
          ]
        }
      ],
      "source": [
        "# NMSEs: P at training points and testing points\n",
        "print('Normalized MSEs between P and P^ for {} functions'.format(m))\n",
        "for i in range(m):\n",
        "    n_mse_gh_train = rel_mse(f_gh_tr2[i*N_gh_tr:(i+1)*N_gh_tr],f_gh_tr_pred[i*N_gh_tr:(i+1)*N_gh_tr])\n",
        "    n_mse_train = rel_mse(f_tr2[i*N_tr:(i+1)*N_tr], f_tr_pred[i*N_tr:(i+1)*N_tr])\n",
        "    n_mse_test = rel_mse(f_te2[i*N_te:(i+1)*N_te], f_te_pred[i*N_te:(i+1)*N_te])\n",
        "    print('m = {} nmse_ghost_train = {}'.format(i,n_mse_gh_train))\n",
        "    print('m = {} nmse_train = {}'.format(i,n_mse_train))\n",
        "    print('m = {} nmse_test = {}'.format(i,n_mse_test))"
      ]
    }
  ],
  "metadata": {
    "colab": {
      "provenance": []
    },
    "kernelspec": {
      "display_name": "base",
      "language": "python",
      "name": "python3"
    },
    "language_info": {
      "codemirror_mode": {
        "name": "ipython",
        "version": 3
      },
      "file_extension": ".py",
      "mimetype": "text/x-python",
      "name": "python",
      "nbconvert_exporter": "python",
      "pygments_lexer": "ipython3",
      "version": "3.11.3"
    },
    "vscode": {
      "interpreter": {
        "hash": "9f30f608a882a0e3e1ee7bdaf111a2fb524766c624535f9d75a6d8e97b170942"
      }
    }
  },
  "nbformat": 4,
  "nbformat_minor": 0
}
