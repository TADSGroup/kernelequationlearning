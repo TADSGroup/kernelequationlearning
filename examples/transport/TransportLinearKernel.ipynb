{
 "cells": [
  {
   "cell_type": "code",
   "execution_count": 1,
   "metadata": {},
   "outputs": [],
   "source": [
    "import jax.numpy as jnp\n",
    "from jax import jit,grad,hessian,jacfwd,jacrev\n",
    "from jax.config import config\n",
    "config.update(\"jax_enable_x64\", True)\n",
    "import numpy as np\n",
    "import matplotlib.pyplot as plt\n",
    "import jax\n",
    "from tqdm.auto import tqdm\n",
    "plt.style.use(\"ggplot\")\n",
    "\n",
    "from importlib import reload\n",
    "import KernelTools\n",
    "reload(KernelTools)\n",
    "from KernelTools import *\n",
    "\n",
    "from scipy.integrate import solve_ivp\n",
    "from jax.scipy.linalg import block_diag\n",
    "\n",
    "from jax.scipy.linalg import solve\n"
   ]
  },
  {
   "cell_type": "code",
   "execution_count": 2,
   "metadata": {},
   "outputs": [
    {
     "data": {
      "image/png": "[encoded data removed]",
      "text/plain": [
       "<Figure size 432x288 with 1 Axes>"
      ]
     },
     "metadata": {
      "needs_background": "light"
     },
     "output_type": "display_data"
    }
   ],
   "source": [
    "def f(x):\n",
    "    return jnp.sin(2*jnp.pi*x)-3*jnp.cos(jnp.pi*x)*x - x\n",
    "plt.plot(np.linspace(0,1,50),f(np.linspace(0,1,50)))\n",
    "\n",
    "c = 2.1\n",
    "def u_true_solution(tx):\n",
    "    return f(tx[1] - c*tx[0])\n",
    "u_true_function = jax.vmap(u_true_solution)\n",
    "\n",
    "num_grid_points = 21\n",
    "t,x = np.meshgrid(np.linspace(0,2,num_grid_points),np.linspace(0,1,num_grid_points))\n",
    "tx_grid = np.vstack([t.flatten(),x.flatten()]).T\n",
    "\n",
    "u_true = u_true_function(tx_grid)\n",
    "\n",
    "x_t_vals = tx_grid\n",
    "#Give data on left boundary\n",
    "\n",
    "num_obs = 50\n",
    "\n",
    "np.random.seed(15)\n",
    "x_t_sample_inds = np.random.choice(range(20,len(tx_grid)),num_obs,replace = False)\n",
    "obs_inds = x_t_sample_inds\n",
    "\n",
    "\n",
    "tx_obs = tx_grid[obs_inds]\n",
    "\n",
    "u_obs = u_true[obs_inds]\n",
    "# plt.tricontourf(tx_obs[:,0],tx_obs[:,1],u_obs)\n",
    "# plt.scatter(tx_obs[:,0],tx_obs[:,1])\n",
    "\n",
    "\n",
    "k_u = get_gaussianRBF(0.1)"
   ]
  },
  {
   "cell_type": "code",
   "execution_count": 4,
   "metadata": {},
   "outputs": [],
   "source": [
    "u_operators = [eval_k,dx_k,dt_k]\n",
    "feature_operators = [eval_k,dx_k,dxx_k]\n",
    "\n",
    "u_model = InducedRKHS(\n",
    "    tx_grid,\n",
    "    feature_operators,\n",
    "    get_gaussianRBF(0.1)\n",
    "    )\n",
    "\n",
    "k_P = linear_kernel\n",
    "class P_model():\n",
    "    kernel_function = jit(\n",
    "        get_kernel_block_ops(k_P,[eval_k],[eval_k])\n",
    "    )\n",
    "\n",
    "    @jit\n",
    "    def predict(input_data,params):\n",
    "        K = P_model.kernel_function(input_data,input_data)\n",
    "        return K@params\n",
    "\n",
    "\n",
    "class EqnModel():\n",
    "    datafit_weight = 100\n",
    "\n",
    "    @jit\n",
    "    def get_grid_features(u_params):\n",
    "        evaluation = u_model.evaluate_operators(feature_operators,tx_grid,u_params)\n",
    "        grid_features = evaluation.reshape(len(tx_grid),len(feature_operators),order = 'F')\n",
    "        return grid_features\n",
    "    \n",
    "    @jit\n",
    "    def get_grid_target(u_params):\n",
    "        return u_model.evaluate_operators([dt_k],tx_grid,u_params)\n",
    "    \n",
    "    @jit\n",
    "    def eval_obs_points(u_params):\n",
    "        return u_model.point_evaluate(tx_obs,u_params)\n",
    "    \n",
    "    @jit\n",
    "    def datafit_residual(u_params):\n",
    "        obs_preds = EqnModel.eval_obs_points(u_params)\n",
    "        return u_obs - obs_preds\n",
    "    \n",
    "    @jit\n",
    "    def equation_residual(full_params):\n",
    "        u_params = full_params[:u_model.num_params]\n",
    "        P_params = full_params[u_model.num_params:]\n",
    "        P_features = EqnModel.get_grid_features(u_params)\n",
    "        P_model_preds = P_model.predict(P_features,P_params)\n",
    "        ugrid_target = EqnModel.get_grid_target(u_params)\n",
    "        return (ugrid_target - P_model_preds)\n",
    "    \n",
    "    @jit\n",
    "    def F(full_params):\n",
    "        u_params = full_params[:u_model.num_params]\n",
    "        eqn_res = EqnModel.equation_residual(full_params)\n",
    "        data_res = EqnModel.datafit_residual(u_params)\n",
    "        return jnp.hstack([\n",
    "            EqnModel.datafit_weight * data_res/jnp.sqrt(len(data_res)),\n",
    "            eqn_res/jnp.sqrt(len(eqn_res))\n",
    "            ])\n",
    "    \n",
    "    jac = jit(jacrev(F))\n",
    "\n",
    "    def loss(full_params):\n",
    "        return jnp.linalg.norm(EqnModel.F(full_params))**2\n",
    "    \n",
    "    @jit\n",
    "    def damping_matrix(full_params):\n",
    "        u_params = full_params[:u_model.num_params]\n",
    "        grid_feats = EqnModel.get_grid_features(u_params)\n",
    "        kmat_P = P_model.kernel_function(grid_feats,grid_feats)\n",
    "        dmat = block_diag(\n",
    "            u_model.kmat+1e-3 * diagpart(u_model.kmat),\n",
    "            1e-2 * (kmat_P+1e-1 * jnp.identity(len(kmat_P)))\n",
    "        )\n",
    "        return dmat"
   ]
  },
  {
   "cell_type": "code",
   "execution_count": 5,
   "metadata": {},
   "outputs": [
    {
     "data": {
      "application/vnd.jupyter.widget-view+json": {
       "model_id": "1f9cd7b97d634427a28ccd40ca22fe0d",
       "version_major": 2,
       "version_minor": 0
      },
      "text/plain": [
       "  0%|          | 0/501 [00:00<?, ?it/s]"
      ]
     },
     "metadata": {},
     "output_type": "display_data"
    },
    {
     "name": "stdout",
     "output_type": "stream",
     "text": [
      "Iteration 0, loss = 2.705e+03, Jres = 8.11e+05, alpha = 18.18\n",
      "Iteration 1, loss = 2.048e+03, Jres = 3.937e+05, alpha = 92.05\n",
      "Iteration 2, loss = 668.2, Jres = 3.8e+06, alpha = 18.18\n",
      "Iteration 3, loss = 477.3, Jres = 6.378e+05, alpha = 16.53\n",
      "Iteration 4, loss = 392.4, Jres = 4.623e+05, alpha = 15.03\n",
      "Iteration 5, loss = 345.0, Jres = 1.451e+05, alpha = 13.66\n",
      "Iteration 50, loss = 1.86, Jres = 746.1, alpha = 0.1874\n",
      "Iteration 100, loss = 0.0177, Jres = 127.8, alpha = 0.001596\n",
      "Iteration 150, loss = 0.004697, Jres = 32.3, alpha = 0.0005613\n",
      "Iteration 200, loss = 0.003035, Jres = 36.07, alpha = 0.0007152\n",
      "Iteration 250, loss = 0.002373, Jres = 115.9, alpha = 0.0005658\n",
      "Iteration 300, loss = 0.002038, Jres = 9.951, alpha = 0.0006104\n",
      "Iteration 350, loss = 0.001822, Jres = 22.21, alpha = 0.0007968\n",
      "Iteration 400, loss = 0.001667, Jres = 19.87, alpha = 0.0006458\n",
      "Iteration 450, loss = 0.001544, Jres = 10.64, alpha = 0.0006967\n",
      "Iteration 500, loss = 0.001447, Jres = 1.666, alpha = 0.0006832\n"
     ]
    }
   ],
   "source": [
    "import LM_Solve\n",
    "import importlib\n",
    "importlib.reload(LM_Solve)\n",
    "from LM_Solve import LevenbergMarquadtMinimize\n",
    "params_init = jnp.zeros(u_model.num_params + len(tx_grid))\n",
    "\n",
    "params,loss_vals,JtRes,improvement_ratios,alpha_vals,iterate_history = LevenbergMarquadtMinimize(\n",
    "    params_init.copy(),\n",
    "    EqnModel,\n",
    "    0.,\n",
    "    max_iter = 501,\n",
    "    init_alpha=200\n",
    ")"
   ]
  },
  {
   "cell_type": "code",
   "execution_count": 6,
   "metadata": {},
   "outputs": [],
   "source": [
    "u_sol = params[:u_model.num_params]\n",
    "P_sol = params[u_model.num_params:]"
   ]
  },
  {
   "cell_type": "code",
   "execution_count": 7,
   "metadata": {},
   "outputs": [],
   "source": [
    "u_eval =u_model.point_evaluate(tx_grid,u_sol)"
   ]
  },
  {
   "cell_type": "code",
   "execution_count": 8,
   "metadata": {},
   "outputs": [
    {
     "data": {
      "image/png": "[encoded data removed]",
      "text/plain": [
       "<Figure size 432x288 with 1 Axes>"
      ]
     },
     "metadata": {
      "needs_background": "light"
     },
     "output_type": "display_data"
    },
    {
     "data": {
      "text/plain": [
       "<matplotlib.tri._tricontour.TriContourSet at 0x7fcb46f302e0>"
      ]
     },
     "execution_count": 8,
     "metadata": {},
     "output_type": "execute_result"
    },
    {
     "data": {
      "image/png": "[encoded data removed]",
      "text/plain": [
       "<Figure size 432x288 with 1 Axes>"
      ]
     },
     "metadata": {
      "needs_background": "light"
     },
     "output_type": "display_data"
    }
   ],
   "source": [
    "plt.tricontourf(tx_grid[:,0],tx_grid[:,1],u_eval)\n",
    "plt.show()\n",
    "plt.tricontourf(tx_grid[:,0],tx_grid[:,1],u_true)"
   ]
  },
  {
   "cell_type": "code",
   "execution_count": 9,
   "metadata": {},
   "outputs": [],
   "source": [
    "grad_u_true = jax.vmap(grad(u_true_solution))(tx_grid)\n",
    "hess_u_true = jax.vmap(hessian(u_true_solution))(tx_grid)\n",
    "\n",
    "ut_true = grad_u_true[:,0]\n",
    "\n",
    "\n",
    "ux_true = grad_u_true[:,1]\n",
    "uxx_true = hess_u_true[:,1,1]\n",
    "\n",
    "true_features = jnp.vstack([u_true,ux_true,uxx_true]).T\n",
    "\n",
    "preds_ut = P_model.predict(EqnModel.get_grid_features(u_sol),P_sol)"
   ]
  },
  {
   "cell_type": "code",
   "execution_count": 10,
   "metadata": {},
   "outputs": [
    {
     "data": {
      "text/plain": [
       "Array(8.87083817e-05, dtype=float64)"
      ]
     },
     "execution_count": 10,
     "metadata": {},
     "output_type": "execute_result"
    }
   ],
   "source": [
    "jnp.mean((preds_ut-ut_true)**2)/jnp.var(ut_true)"
   ]
  },
  {
   "cell_type": "code",
   "execution_count": null,
   "metadata": {},
   "outputs": [],
   "source": []
  }
 ],
 "metadata": {
  "kernelspec": {
   "display_name": "base",
   "language": "python",
   "name": "python3"
  },
  "language_info": {
   "codemirror_mode": {
    "name": "ipython",
    "version": 3
   },
   "file_extension": ".py",
   "mimetype": "text/x-python",
   "name": "python",
   "nbconvert_exporter": "python",
   "pygments_lexer": "ipython3",
   "version": "3.9.0"
  }
 },
 "nbformat": 4,
 "nbformat_minor": 2
}
