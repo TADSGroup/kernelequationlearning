{
 "cells": [
  {
   "cell_type": "code",
   "execution_count": 1,
   "metadata": {},
   "outputs": [
    {
     "name": "stderr",
     "output_type": "stream",
     "text": [
      "/home/josorior/miniconda3/envs/myjaxenv/lib/python3.12/site-packages/tqdm/auto.py:21: TqdmWarning: IProgress not found. Please update jupyter and ipywidgets. See https://ipywidgets.readthedocs.io/en/stable/user_install.html\n",
      "  from .autonotebook import tqdm as notebook_tqdm\n"
     ]
    }
   ],
   "source": [
    "import jax\n",
    "jax.config.update(\"jax_default_device\",jax.devices()[1])\n",
    "jax.config.update(\"jax_enable_x64\", True)\n",
    "import jax.numpy as jnp\n",
    "from jax import jit,grad,jacfwd,jacrev,vmap\n",
    "import numpy as np\n",
    "import matplotlib.pyplot as plt\n",
    "import jax\n",
    "from tqdm.auto import tqdm\n",
    "plt.style.use(\"ggplot\")\n",
    "\n",
    "from importlib import reload\n",
    "#import keql_tools\n",
    "#reload(keql_tools)\n",
    "#from keql_tools import *\n",
    "from Kernels import *\n",
    "from EquationModel import *\n",
    "from jax.scipy.linalg import solve\n",
    "from EquationModel import *\n",
    "from GP_sampler import *\n",
    "from plotting import *\n",
    "from evaluation_metrics import *\n",
    "\n",
    "import LM_Solve\n",
    "import importlib\n",
    "importlib.reload(LM_Solve)\n",
    "from LM_Solve import LevenbergMarquadtMinimize\n",
    "\n",
    "from LM_Solve import adaptive_refine_solution"
   ]
  },
  {
   "cell_type": "markdown",
   "metadata": {},
   "source": [
    "## Utils"
   ]
  },
  {
   "cell_type": "code",
   "execution_count": 2,
   "metadata": {},
   "outputs": [],
   "source": [
    "## Utils\n",
    "# Build interior and boundary grids\n",
    "def build_xy_grid(x_range,y_range,num_grid_x,num_grid_y):\n",
    "    full_x_grid = jnp.linspace(x_range[0],x_range[1],num_grid_x)\n",
    "    full_y_grid = jnp.linspace(y_range[0],y_range[1],num_grid_y)\n",
    "\n",
    "    x_interior = full_x_grid[1:-1]\n",
    "    y_interior = full_y_grid[1:-1]\n",
    "    \n",
    "    x_boundary = full_x_grid[jnp.array([0,-1])]\n",
    "    y_boundary = full_y_grid[jnp.array([0,-1])]\n",
    "\n",
    "    #Get interior points\n",
    "    x,y = jnp.meshgrid(x_interior,y_interior)\n",
    "    xy_interior = jnp.vstack([x.flatten(),y.flatten()]).T\n",
    "\n",
    "    #I'm doing this with meshgrid to handle more general higher dimensions, ie circular domain in 2d\n",
    "    #Get boundary points\n",
    "    x,y = jnp.meshgrid(x_interior,y_boundary)\n",
    "    xy_boundary_1 = jnp.vstack([x.flatten(),y.flatten()]).T\n",
    "\n",
    "    x,y = jnp.meshgrid(x_boundary,y_interior)\n",
    "    xy_boundary_2 = jnp.vstack([x.flatten(),y.flatten()]).T\n",
    "\n",
    "    x,y = jnp.meshgrid(x_boundary,y_boundary)\n",
    "    xy_boundary_3 = jnp.vstack([x.flatten(),y.flatten()]).T\n",
    "\n",
    "    xy_boundary = jnp.vstack([xy_boundary_1,xy_boundary_2,xy_boundary_3])\n",
    "    return xy_interior,xy_boundary"
   ]
  },
  {
   "cell_type": "code",
   "execution_count": 3,
   "metadata": {},
   "outputs": [],
   "source": [
    "def get_obs(num_obs, xy_int, xy_bdy,vmapped_u_true_functions, vmapped_rhs, seed):\n",
    "    \"\"\"\n",
    "        Gets samples(functions) of GP. \n",
    "\n",
    "        Args:\n",
    "            num_obs (list): List of integers of number of observed points per function.\n",
    "            xy_int (jnp.array): Interior domain to get the sample.\n",
    "            xy_bdy (jnp.array): Boundary domain.\n",
    "            vmapped_u_true_functions (list): List of vmapped u true functions.\n",
    "            vmapped_u_true_functions (list): List of vmapped f true functions.\n",
    "            seed (int): Integer to fix the simulation.\n",
    "\n",
    "        Returns:\n",
    "            list: List of lists xy_obs, u_obs, f_obs.   \n",
    "    \"\"\"\n",
    "\n",
    "    if len(num_obs) != len(vmapped_u_true_functions):\n",
    "        raise Exception(\"len of list of provided observed points not same as len of list of provided functions.\")\n",
    "    \n",
    "    num_f = len(vmapped_rhs)\n",
    "    key = jax.random.PRNGKey(seed)\n",
    "    seed = jax.random.randint(key=key, shape=(num_f,), minval=1, maxval=40)\n",
    "    xy_obs, u_obs, f_obs =  [], [], []\n",
    "    for i, num_ob in enumerate(num_obs):\n",
    "        np.random.seed(seed[i])\n",
    "        xy_sample_indsi = np.random.choice(list(np.arange(len(xy_int))),num_ob,replace = False)\n",
    "        xy_obsi = jnp.vstack([xy_bdy,xy_int[xy_sample_indsi]])\n",
    "        xy_obs.append(xy_obsi)\n",
    "        u_obs.append(vmapped_u_true_functions[i](xy_obsi))\n",
    "        f_obs.append(vmapped_rhs[i](xy_obsi))\n",
    "    return xy_obs, u_obs, f_obs"
   ]
  },
  {
   "cell_type": "code",
   "execution_count": 4,
   "metadata": {},
   "outputs": [],
   "source": [
    "# Build operator features\n",
    "def diff_x_op(k,index):\n",
    "    return get_selected_grad(k,index,0)\n",
    "\n",
    "def diff_xx_op(k,index):\n",
    "    return get_selected_grad(get_selected_grad(k,index,0),index,0)\n",
    "\n",
    "def diff_y_op(k,index):\n",
    "    return get_selected_grad(k,index,1)\n",
    "\n",
    "def diff_yy_op(k,index):\n",
    "    return get_selected_grad(get_selected_grad(k,index,1),index,1)\n",
    "\n",
    "def diff_xy_op(k,index):\n",
    "    return get_selected_grad(get_selected_grad(k,index,0),index,1)\n",
    "\n",
    "feature_operators = tuple([eval_k,diff_x_op,diff_xx_op,diff_y_op,diff_yy_op,diff_xy_op])"
   ]
  },
  {
   "cell_type": "code",
   "execution_count": 5,
   "metadata": {},
   "outputs": [],
   "source": [
    "def run_exp(m, obs_pts,run):\n",
    "    # Define grid to get samples from GP\n",
    "    x_grid=jnp.linspace(0,1,25)\n",
    "    y_grid=jnp.linspace(0,1,25)\n",
    "    X,Y=jnp.meshgrid(x_grid,y_grid)\n",
    "    pairs = jnp.vstack([X.ravel(), Y.ravel()]).T\n",
    "\n",
    "    # Sample m training functions from a GP\n",
    "    kernel_GP = get_gaussianRBF(0.5)\n",
    "    u_true_functions = tuple(GP_sampler(num_samples = m,\n",
    "                                            X = pairs, \n",
    "                                            kernel = kernel_GP,\n",
    "                                            reg = 1e-12,\n",
    "                                            seed = run\n",
    "                                        )  \n",
    "                                        )\n",
    "\n",
    "    # Permeability field A\n",
    "    def A(xy):\n",
    "        x = xy[0]\n",
    "        y = xy[1]\n",
    "        return jnp.exp(2*(jnp.sin(jnp.cos(2*x) + jnp.cos(2*y))))\n",
    "\n",
    "    # Compute f = Pu for any u\n",
    "    def get_rhs_darcy(u):\n",
    "        def Agradu(xy):\n",
    "            return A(xy)*jax.grad(u)(xy)\n",
    "        def Pu(xy):\n",
    "            return jnp.trace(jax.jacfwd(Agradu)(xy))\n",
    "        return Pu\n",
    "\n",
    "    # Lists of m true u's and f's\n",
    "    vmapped_u_true_functions = tuple([jax.vmap(u) for u in u_true_functions]) # vmap'ed\n",
    "    rhs_functions = tuple([jax.vmap(get_rhs_darcy(u)) for u in u_true_functions]) #vmap'ed\n",
    "\n",
    "    # Define the num of ghost points for each u\n",
    "    num_grid_points = 8\n",
    "    # Ghost grid - Same per function\n",
    "    xy_int,xy_bdy = build_xy_grid([0,1],[0,1],num_grid_points,num_grid_points)\n",
    "    xy_all = jnp.vstack([xy_bdy,xy_int])\n",
    "\n",
    "    # Number of observed points per u\n",
    "    num_obs = [obs_pts]*m\n",
    "\n",
    "    xy_obs, u_obs, f_obs = get_obs(num_obs, xy_int, xy_bdy,vmapped_u_true_functions, rhs_functions, seed=2024)\n",
    "\n",
    "    # Build interpolants for u's\n",
    "    k_u = get_gaussianRBF(0.5)\n",
    "    u_models = tuple([InducedRKHS(\n",
    "        xy_all,\n",
    "        feature_operators,\n",
    "        k_u\n",
    "        ) for i in range(m)])\n",
    "    \n",
    "    # Get necessary tuples\n",
    "    observation_points = tuple(xy_obs)\n",
    "    observation_values = tuple(u_obs)\n",
    "    collocation_points = (xy_int,)*m\n",
    "\n",
    "    rhs_values = tuple(rhs_func(xy_int) for rhs_func in rhs_functions)\n",
    "\n",
    "    all_u_params_init = tuple([model.get_fitted_params(obs_loc,obs_val) for obs_loc,obs_val,model in zip(observation_points,observation_values,u_models)])\n",
    "\n",
    "    grid_features_u_init = jnp.vstack([(model.evaluate_operators(feature_operators,xy_int,model_params)).reshape(\n",
    "                len(xy_int),\n",
    "                len(feature_operators),\n",
    "                order = 'F'\n",
    "            ) for model,model_params in zip(u_models,all_u_params_init) ])\n",
    "\n",
    "\n",
    "    k_P_u_part = get_centered_scaled_poly_kernel(2,grid_features_u_init,c=1)\n",
    "    k_P_x_part = get_gaussianRBF(0.4)\n",
    "    def k_P(x,y):\n",
    "        return k_P_x_part(x[:2],y[:2]) * k_P_u_part(x[2:],y[2:])\n",
    "    \n",
    "\n",
    "    class P_model():\n",
    "\n",
    "        kernel_function = jit(\n",
    "            get_kernel_block_ops(k_P,[eval_k],[eval_k])\n",
    "        )\n",
    "\n",
    "        num_params = len(grid_features_u_init)\n",
    "\n",
    "        @jit\n",
    "        def predict(input_data,params):\n",
    "            K = P_model.kernel_function(input_data,input_data)\n",
    "            return K@params\n",
    "        \n",
    "        def get_P_eval(input_data,params):\n",
    "            def predict(prediction_points):\n",
    "                K = P_model.kernel_function(prediction_points,input_data)\n",
    "                return K@params\n",
    "            return predict\n",
    "        \n",
    "    collocation_points = tuple([xy_int]*m)\n",
    "    \n",
    "    EqnModel  = OperatorPDEModel(\n",
    "        P_model,\n",
    "        u_models,\n",
    "        observation_points,\n",
    "        observation_values,\n",
    "        collocation_points,\n",
    "        feature_operators,\n",
    "        rhs_values,\n",
    "        datafit_weight = 5.,\n",
    "    )\n",
    "\n",
    "    params_init = jnp.hstack(list(all_u_params_init)+[jnp.zeros(m*len(xy_int))])\n",
    "\n",
    "    params,loss_vals,JtRes,improvement_ratios,alpha_vals,iterate_history = LevenbergMarquadtMinimize(\n",
    "        params_init.copy(),\n",
    "        EqnModel,\n",
    "        beta = 1e-8,\n",
    "        max_iter = 501,\n",
    "        init_alpha=3,\n",
    "        line_search_increase_ratio=2.\n",
    "    )\n",
    "\n",
    "    p_adjusted,refinement_losses,reg_sequence = adaptive_refine_solution(params,EqnModel,1e-1,500)\n",
    "\n",
    "    u_sols = EqnModel.get_u_params(p_adjusted)\n",
    "    P_sol = EqnModel.get_P_params(p_adjusted)\n",
    "\n",
    "    # Testing grid\n",
    "    num_fine_grid = 50\n",
    "    x_fine,y_fine = np.meshgrid(np.linspace(0,1,num_fine_grid+4)[2:-2],np.linspace(0,1,num_fine_grid+4)[2:-2])\n",
    "    xy_fine_int = np.vstack([x_fine.flatten(),y_fine.flatten()]).T\n",
    "\n",
    "    # Estimated P from 1.5 step method\n",
    "    model_grid_features_all = EqnModel.get_stacked_eqn_features(u_sols)    \n",
    "    S_train = model_grid_features_all\n",
    "    P_func = P_model.get_P_eval(S_train,P_sol)\n",
    "\n",
    "    # Estimated P from 2 step method\n",
    "    init_P_features = EqnModel.get_stacked_eqn_features(all_u_params_init)\n",
    "    S_train_2 = init_P_features \n",
    "    K = P_model.kernel_function(S_train_2,S_train_2)\n",
    "    P_params_naive = solve(K+1e-5*diagpart(K),EqnModel.stacked_collocation_rhs)\n",
    "    P_func2 = P_model.get_P_eval(S_train_2,P_params_naive)\n",
    "\n",
    "    # P[\\phi(w)](fine_grid)\n",
    "    def evaluate_hatP(P_func, w, fine_grid, feature_operators):\n",
    "\n",
    "        # Build S_test\n",
    "        w_features = jnp.array([jax.vmap(operator(w,0))(xy_fine_int) for operator in feature_operators]).T\n",
    "        model_fine_features = jnp.hstack([fine_grid, w_features])\n",
    "        S_test = model_fine_features\n",
    "\n",
    "\n",
    "        #P_preds_model_features = P_model.kernel_function(S_test,S_train)@P_sol \n",
    "        P_preds = P_func(S_test)\n",
    "        return P_preds\n",
    "    \n",
    "    ########### Errors ################\n",
    "    \n",
    "    # In sample\n",
    "\n",
    "    # Get list of approximated functions ^U = [^u_1, ^u_2, ^u_3]\n",
    "    true = [f(xy_fine_int) for f in rhs_functions]\n",
    "\n",
    "    u_approx_funcs = [u_models[ind].get_eval_function(u_sols[ind]) \n",
    "                    for ind in range(m)]\n",
    "    pred1_5 = [\n",
    "        evaluate_hatP(\n",
    "        P_func,\n",
    "        u, xy_fine_int,feature_operators) for u in u_approx_funcs\n",
    "    ]\n",
    "\n",
    "    twostep_u_approx_funcs = [u_models[ind].get_eval_function(all_u_params_init[ind]) \n",
    "                    for ind in range(m)]\n",
    "    pred2 = [\n",
    "        evaluate_hatP(\n",
    "        P_func2,\n",
    "        u, xy_fine_int,feature_operators) for u in twostep_u_approx_funcs\n",
    "    ]\n",
    "    i_smpl_1_5 = jnp.mean(jnp.array([get_nrmse(t,p) for t,p in zip(true,pred1_5)])) # RMSE\n",
    "    i_smpl_2 = jnp.mean(jnp.array([get_nrmse(t,p) for t,p in zip(true,pred2)]))\n",
    "\n",
    "\n",
    "\n",
    "    # In distribution\n",
    "\n",
    "    M = 50\n",
    "    kernel_GP = get_gaussianRBF(0.5)\n",
    "    # Sample M training functions from GP(0,K)\n",
    "    w_train_functions = GP_sampler(num_samples = M,\n",
    "                    X = pairs, \n",
    "                    kernel = kernel_GP,\n",
    "                    reg = 1e-12,\n",
    "                    seed = run\n",
    "                    )\n",
    "    vmapped_w_train_functions = tuple([jax.vmap(w) for w in w_train_functions]) # vmap'ed\n",
    "    w_rhs_functions = tuple([jax.vmap(get_rhs_darcy(w)) for w in w_train_functions]) #vmap'ed\n",
    "\n",
    "    # mean \n",
    "    true = [f_w(xy_fine_int) for f_w in w_rhs_functions]\n",
    "    #pred = [evaluate_hatP(w, xy_fine_int, u_sols, P_sol,feature_operators) for w in w_test_functions]\n",
    "    pred1_5 = [\n",
    "        evaluate_hatP(\n",
    "        lambda x:P_model.kernel_function(x,S_train)@P_sol,\n",
    "        w, xy_fine_int,feature_operators) for w in w_train_functions\n",
    "    ]\n",
    "\n",
    "    pred2 = [\n",
    "        evaluate_hatP(\n",
    "        P_func2,\n",
    "        u, xy_fine_int,feature_operators) for u in w_train_functions\n",
    "    ]\n",
    "\n",
    "    i_dis_1_5 = jnp.mean(jnp.array([get_nrmse(t,p) for t,p in zip(true,pred1_5)]))\n",
    "    i_dis_2 = jnp.mean(jnp.array([get_nrmse(t,p) for t,p in zip(true,pred2)]))\n",
    "\n",
    "\n",
    "    \n",
    "\n",
    "    # Out of sample\n",
    "    M = 50\n",
    "    kernel_GP = get_gaussianRBF(0.2)\n",
    "    # Sample M test functions from GP(0,K)\n",
    "    w_test_functions = GP_sampler(num_samples = M,\n",
    "                    X = pairs, \n",
    "                    kernel = kernel_GP,\n",
    "                    reg = 1e-12,\n",
    "                    seed = run\n",
    "                    )\n",
    "    vmapped_w_test_functions = tuple([jax.vmap(w) for w in w_test_functions]) # vmap'ed\n",
    "    w_rhs_functions = tuple([jax.vmap(get_rhs_darcy(w)) for w in w_test_functions]) #vmap'ed\n",
    "\n",
    "    # mean \n",
    "    true = [f_w(xy_fine_int) for f_w in w_rhs_functions]\n",
    "    #pred = [evaluate_hatP(w, xy_fine_int, u_sols, P_sol,feature_operators) for w in w_test_functions]\n",
    "    pred1_5 = [\n",
    "        evaluate_hatP(\n",
    "        lambda x:P_model.kernel_function(x,S_train)@P_sol,\n",
    "        w, xy_fine_int,feature_operators) for w in w_test_functions\n",
    "    ]\n",
    "\n",
    "    pred2 = [\n",
    "        evaluate_hatP(\n",
    "        P_func2,\n",
    "        u, xy_fine_int,feature_operators) for u in w_test_functions\n",
    "    ]\n",
    "\n",
    "    o_dis_1_5 = jnp.mean(jnp.array([get_nrmse(t,p) for t,p in zip(true,pred1_5)]))\n",
    "    o_dis_2 = jnp.mean(jnp.array([get_nrmse(t,p) for t,p in zip(true,pred2)]))\n",
    "\n",
    "    return i_dis_1_5, i_dis_2, o_dis_1_5, o_dis_2, i_smpl_1_5, i_smpl_2"
   ]
  },
  {
   "cell_type": "markdown",
   "metadata": {},
   "source": [
    "## Structure to store the errors"
   ]
  },
  {
   "cell_type": "markdown",
   "metadata": {},
   "source": [
    "We create a dictionary called `err` to store errors (nrmse) where we denote the keys as follows:\n",
    "\n",
    ">  `1_5_mthd`: This is the main algorithm.\n",
    "\n",
    ">  `2_obs`: This means that its parent method was trained using the observed functions at 2 points.\n",
    "\n",
    ">  `i_dis`: List of list which contains the errors for P at the training functions.\n",
    "\n",
    ">  `o_dis`: List of list which contains the errors for P at the testing functions."
   ]
  },
  {
   "cell_type": "code",
   "execution_count": 6,
   "metadata": {},
   "outputs": [],
   "source": [
    "err = {\n",
    "    '1_5_mthd': {\n",
    "        '2_obs': {'i_dis': [],'o_dis': [], 'i_smpl' : []},\n",
    "        '4_obs': {'i_dis': [],'o_dis': [], 'i_smpl' : []},\n",
    "        '8_obs': {'i_dis': [],'o_dis': [], 'i_smpl' : []}\n",
    "                  },\n",
    "    '2_mthd':   {\n",
    "        '2_obs': {'i_dis': [],'o_dis': [], 'i_smpl' : []},\n",
    "        '4_obs': {'i_dis': [],'o_dis': [], 'i_smpl' : []},\n",
    "        '8_obs': {'i_dis': [],'o_dis': [], 'i_smpl' : []}\n",
    "                }\n",
    "}"
   ]
  },
  {
   "cell_type": "code",
   "execution_count": 7,
   "metadata": {},
   "outputs": [
    {
     "name": "stderr",
     "output_type": "stream",
     "text": [
      "  2%|▏         | 11/501 [00:00<00:14, 33.26it/s]"
     ]
    },
    {
     "name": "stdout",
     "output_type": "stream",
     "text": [
      "Iteration 0, loss = 895.7, Jres = 2.963e+03, alpha = 2.5, improvement_ratio = 1.0\n",
      "Iteration 1, loss = 808.1, Jres = 3.73e+04, alpha = 48.0, improvement_ratio = 0.1251\n",
      "Iteration 2, loss = 80.66, Jres = 1.449e+05, alpha = 16.67, improvement_ratio = 0.9352\n",
      "Iteration 3, loss = 18.77, Jres = 2.825e+04, alpha = 13.89, improvement_ratio = 0.9783\n",
      "Iteration 4, loss = 13.07, Jres = 3.69e+03, alpha = 11.57, improvement_ratio = 1.002\n",
      "Iteration 5, loss = 10.15, Jres = 443.0, alpha = 9.645, improvement_ratio = 1.011\n"
     ]
    },
    {
     "name": "stderr",
     "output_type": "stream",
     "text": [
      " 14%|█▍        | 72/501 [00:00<00:02, 145.89it/s]"
     ]
    },
    {
     "name": "stdout",
     "output_type": "stream",
     "text": [
      "Iteration 50, loss = 0.01793, Jres = 27.78, alpha = 0.003165, improvement_ratio = 0.8394\n"
     ]
    },
    {
     "name": "stderr",
     "output_type": "stream",
     "text": [
      " 27%|██▋       | 137/501 [00:01<00:01, 188.79it/s]"
     ]
    },
    {
     "name": "stdout",
     "output_type": "stream",
     "text": [
      "Iteration 100, loss = 0.000627, Jres = 7.731, alpha = 0.0002958, improvement_ratio = 0.7513\n"
     ]
    },
    {
     "name": "stderr",
     "output_type": "stream",
     "text": [
      " 36%|███▌      | 179/501 [00:01<00:01, 199.08it/s]"
     ]
    },
    {
     "name": "stdout",
     "output_type": "stream",
     "text": [
      "Iteration 150, loss = 3.577e-05, Jres = 0.7416, alpha = 3.981e-05, improvement_ratio = 0.7823\n"
     ]
    },
    {
     "name": "stderr",
     "output_type": "stream",
     "text": [
      " 45%|████▍     | 223/501 [00:01<00:01, 206.36it/s]"
     ]
    },
    {
     "name": "stdout",
     "output_type": "stream",
     "text": [
      "Iteration 200, loss = 1.124e-05, Jres = 0.2712, alpha = 5.358e-06, improvement_ratio = 0.7889\n"
     ]
    },
    {
     "name": "stderr",
     "output_type": "stream",
     "text": [
      " 58%|█████▊    | 289/501 [00:01<00:01, 209.90it/s]"
     ]
    },
    {
     "name": "stdout",
     "output_type": "stream",
     "text": [
      "Iteration 250, loss = 1.022e-05, Jres = 0.3506, alpha = 4.465e-06, improvement_ratio = 0.6273\n"
     ]
    },
    {
     "name": "stderr",
     "output_type": "stream",
     "text": [
      " 67%|██████▋   | 335/501 [00:01<00:00, 217.64it/s]"
     ]
    },
    {
     "name": "stdout",
     "output_type": "stream",
     "text": [
      "Iteration 300, loss = 9.82e-06, Jres = 0.3493, alpha = 4.465e-06, improvement_ratio = 0.5856\n"
     ]
    },
    {
     "name": "stderr",
     "output_type": "stream",
     "text": [
      " 76%|███████▌  | 381/501 [00:02<00:00, 221.15it/s]"
     ]
    },
    {
     "name": "stdout",
     "output_type": "stream",
     "text": [
      "Iteration 350, loss = 9.511e-06, Jres = 0.3506, alpha = 4.465e-06, improvement_ratio = 0.561\n"
     ]
    },
    {
     "name": "stderr",
     "output_type": "stream",
     "text": [
      " 85%|████████▌ | 427/501 [00:02<00:00, 223.19it/s]"
     ]
    },
    {
     "name": "stdout",
     "output_type": "stream",
     "text": [
      "Iteration 400, loss = 9.25e-06, Jres = 0.3546, alpha = 4.465e-06, improvement_ratio = 0.5345\n"
     ]
    },
    {
     "name": "stderr",
     "output_type": "stream",
     "text": [
      " 99%|█████████▉| 496/501 [00:02<00:00, 223.60it/s]"
     ]
    },
    {
     "name": "stdout",
     "output_type": "stream",
     "text": [
      "Iteration 450, loss = 9.029e-06, Jres = 0.3598, alpha = 4.465e-06, improvement_ratio = 0.5061\n"
     ]
    },
    {
     "name": "stderr",
     "output_type": "stream",
     "text": [
      "100%|██████████| 501/501 [00:02<00:00, 186.04it/s]\n"
     ]
    },
    {
     "name": "stdout",
     "output_type": "stream",
     "text": [
      "Iteration 500, loss = 8.84e-06, Jres = 0.3649, alpha = 4.465e-06, improvement_ratio = 0.4777\n"
     ]
    },
    {
     "name": "stderr",
     "output_type": "stream",
     "text": [
      "100%|██████████| 500/500 [00:36<00:00, 13.89it/s]\n",
      "  1%|▏         | 7/501 [00:00<00:17, 28.77it/s]"
     ]
    },
    {
     "name": "stdout",
     "output_type": "stream",
     "text": [
      "Iteration 0, loss = 607.9, Jres = 2.372e+03, alpha = 2.5, improvement_ratio = 1.0\n",
      "Iteration 1, loss = 495.7, Jres = 1.506e+04, alpha = 20.0, improvement_ratio = 0.2313\n",
      "Iteration 2, loss = 60.35, Jres = 6.136e+04, alpha = 16.67, improvement_ratio = 0.9368\n",
      "Iteration 3, loss = 28.48, Jres = 9.162e+03, alpha = 13.89, improvement_ratio = 0.9736\n",
      "Iteration 4, loss = 21.33, Jres = 1.008e+03, alpha = 11.57, improvement_ratio = 1.015\n",
      "Iteration 5, loss = 16.58, Jres = 224.6, alpha = 9.645, improvement_ratio = 1.03\n"
     ]
    },
    {
     "name": "stderr",
     "output_type": "stream",
     "text": [
      " 13%|█▎        | 63/501 [00:01<00:05, 73.00it/s]"
     ]
    },
    {
     "name": "stdout",
     "output_type": "stream",
     "text": [
      "Iteration 50, loss = 0.01587, Jres = 20.42, alpha = 0.002637, improvement_ratio = 0.8342\n"
     ]
    },
    {
     "name": "stderr",
     "output_type": "stream",
     "text": [
      " 22%|██▏       | 111/501 [00:01<00:05, 76.33it/s]"
     ]
    },
    {
     "name": "stdout",
     "output_type": "stream",
     "text": [
      "Iteration 100, loss = 0.0009914, Jres = 9.332, alpha = 0.0002054, improvement_ratio = 0.7469\n"
     ]
    },
    {
     "name": "stderr",
     "output_type": "stream",
     "text": [
      " 32%|███▏      | 159/501 [00:02<00:04, 76.59it/s]"
     ]
    },
    {
     "name": "stdout",
     "output_type": "stream",
     "text": [
      "Iteration 150, loss = 0.0001135, Jres = 2.581, alpha = 5.732e-05, improvement_ratio = 0.7687\n"
     ]
    },
    {
     "name": "stderr",
     "output_type": "stream",
     "text": [
      " 43%|████▎     | 215/501 [00:03<00:03, 76.20it/s]"
     ]
    },
    {
     "name": "stdout",
     "output_type": "stream",
     "text": [
      "Iteration 200, loss = 2.859e-05, Jres = 0.9355, alpha = 1.92e-05, improvement_ratio = 0.6747\n"
     ]
    },
    {
     "name": "stderr",
     "output_type": "stream",
     "text": [
      " 52%|█████▏    | 263/501 [00:03<00:03, 76.60it/s]"
     ]
    },
    {
     "name": "stdout",
     "output_type": "stream",
     "text": [
      "Iteration 250, loss = 1.64e-05, Jres = 0.2507, alpha = 7.715e-06, improvement_ratio = 0.7671\n"
     ]
    },
    {
     "name": "stderr",
     "output_type": "stream",
     "text": [
      " 62%|██████▏   | 311/501 [00:04<00:02, 78.06it/s]"
     ]
    },
    {
     "name": "stdout",
     "output_type": "stream",
     "text": [
      "Iteration 300, loss = 1.449e-05, Jres = 0.3169, alpha = 4.465e-06, improvement_ratio = 0.7172\n"
     ]
    },
    {
     "name": "stderr",
     "output_type": "stream",
     "text": [
      " 72%|███████▏  | 359/501 [00:04<00:01, 76.55it/s]"
     ]
    },
    {
     "name": "stdout",
     "output_type": "stream",
     "text": [
      "Iteration 350, loss = 1.366e-05, Jres = 0.2176, alpha = 3.101e-06, improvement_ratio = 0.7507\n"
     ]
    },
    {
     "name": "stderr",
     "output_type": "stream",
     "text": [
      " 83%|████████▎ | 415/501 [00:05<00:01, 76.24it/s]"
     ]
    },
    {
     "name": "stdout",
     "output_type": "stream",
     "text": [
      "Iteration 400, loss = 1.314e-05, Jres = 0.1215, alpha = 2.153e-06, improvement_ratio = 0.7177\n"
     ]
    },
    {
     "name": "stderr",
     "output_type": "stream",
     "text": [
      " 92%|█████████▏| 463/501 [00:06<00:00, 76.07it/s]"
     ]
    },
    {
     "name": "stdout",
     "output_type": "stream",
     "text": [
      "Iteration 450, loss = 1.282e-05, Jres = 0.05955, alpha = 2.153e-06, improvement_ratio = 0.7586\n"
     ]
    },
    {
     "name": "stderr",
     "output_type": "stream",
     "text": [
      "100%|██████████| 501/501 [00:06<00:00, 74.28it/s]\n"
     ]
    },
    {
     "name": "stdout",
     "output_type": "stream",
     "text": [
      "Iteration 500, loss = 1.26e-05, Jres = 0.06521, alpha = 2.153e-06, improvement_ratio = 0.7598\n"
     ]
    },
    {
     "name": "stderr",
     "output_type": "stream",
     "text": [
      "100%|██████████| 500/500 [00:12<00:00, 41.65it/s]\n",
      "  0%|          | 2/501 [00:00<01:19,  6.25it/s]"
     ]
    },
    {
     "name": "stdout",
     "output_type": "stream",
     "text": [
      "Iteration 0, loss = 577.1, Jres = 2.898e+03, alpha = 2.5, improvement_ratio = 1.0\n",
      "Iteration 1, loss = 515.9, Jres = 7.279e+03, alpha = 12.0, improvement_ratio = 0.1424\n",
      "Iteration 2, loss = 66.53, Jres = 5.723e+04, alpha = 10.0, improvement_ratio = 0.9662\n"
     ]
    },
    {
     "name": "stderr",
     "output_type": "stream",
     "text": [
      "  1%|          | 6/501 [00:00<00:37, 13.09it/s]"
     ]
    },
    {
     "name": "stdout",
     "output_type": "stream",
     "text": [
      "Iteration 3, loss = 31.51, Jres = 5.516e+03, alpha = 8.333, improvement_ratio = 1.01\n",
      "Iteration 4, loss = 20.46, Jres = 1.066e+03, alpha = 6.944, improvement_ratio = 1.044\n",
      "Iteration 5, loss = 14.2, Jres = 238.3, alpha = 5.787, improvement_ratio = 1.043\n"
     ]
    },
    {
     "name": "stderr",
     "output_type": "stream",
     "text": [
      " 11%|█         | 54/501 [00:03<00:24, 18.22it/s]"
     ]
    },
    {
     "name": "stdout",
     "output_type": "stream",
     "text": [
      "Iteration 50, loss = 0.02061, Jres = 72.12, alpha = 0.001899, improvement_ratio = 0.8086\n"
     ]
    },
    {
     "name": "stderr",
     "output_type": "stream",
     "text": [
      " 21%|██        | 104/501 [00:05<00:21, 18.27it/s]"
     ]
    },
    {
     "name": "stdout",
     "output_type": "stream",
     "text": [
      "Iteration 100, loss = 0.001193, Jres = 4.85, alpha = 0.000213, improvement_ratio = 0.6999\n"
     ]
    },
    {
     "name": "stderr",
     "output_type": "stream",
     "text": [
      " 31%|███       | 154/501 [00:08<00:19, 18.23it/s]"
     ]
    },
    {
     "name": "stdout",
     "output_type": "stream",
     "text": [
      "Iteration 150, loss = 0.0002379, Jres = 5.07, alpha = 5.943e-05, improvement_ratio = 0.7622\n"
     ]
    },
    {
     "name": "stderr",
     "output_type": "stream",
     "text": [
      " 41%|████      | 204/501 [00:11<00:16, 18.22it/s]"
     ]
    },
    {
     "name": "stdout",
     "output_type": "stream",
     "text": [
      "Iteration 200, loss = 8.137e-05, Jres = 2.609, alpha = 2.389e-05, improvement_ratio = 0.7517\n"
     ]
    },
    {
     "name": "stderr",
     "output_type": "stream",
     "text": [
      " 51%|█████     | 254/501 [00:14<00:13, 18.24it/s]"
     ]
    },
    {
     "name": "stdout",
     "output_type": "stream",
     "text": [
      "Iteration 250, loss = 4.208e-05, Jres = 1.6, alpha = 1.659e-05, improvement_ratio = 0.7868\n"
     ]
    },
    {
     "name": "stderr",
     "output_type": "stream",
     "text": [
      " 61%|██████    | 304/501 [00:16<00:10, 18.21it/s]"
     ]
    },
    {
     "name": "stdout",
     "output_type": "stream",
     "text": [
      "Iteration 300, loss = 2.901e-05, Jres = 1.064, alpha = 7.999e-06, improvement_ratio = 0.7615\n"
     ]
    },
    {
     "name": "stderr",
     "output_type": "stream",
     "text": [
      " 71%|███████   | 354/501 [00:19<00:08, 18.28it/s]"
     ]
    },
    {
     "name": "stdout",
     "output_type": "stream",
     "text": [
      "Iteration 350, loss = 2.382e-05, Jres = 0.5636, alpha = 3.858e-06, improvement_ratio = 0.7477\n"
     ]
    },
    {
     "name": "stderr",
     "output_type": "stream",
     "text": [
      " 81%|████████  | 404/501 [00:22<00:05, 18.28it/s]"
     ]
    },
    {
     "name": "stdout",
     "output_type": "stream",
     "text": [
      "Iteration 400, loss = 2.218e-05, Jres = 0.1367, alpha = 2.232e-06, improvement_ratio = 0.7934\n"
     ]
    },
    {
     "name": "stderr",
     "output_type": "stream",
     "text": [
      " 91%|█████████ | 454/501 [00:25<00:02, 18.25it/s]"
     ]
    },
    {
     "name": "stdout",
     "output_type": "stream",
     "text": [
      "Iteration 450, loss = 2.163e-05, Jres = 0.2385, alpha = 1.86e-06, improvement_ratio = 0.694\n"
     ]
    },
    {
     "name": "stderr",
     "output_type": "stream",
     "text": [
      "100%|██████████| 501/501 [00:27<00:00, 18.09it/s]\n"
     ]
    },
    {
     "name": "stdout",
     "output_type": "stream",
     "text": [
      "Iteration 500, loss = 2.139e-05, Jres = 0.1972, alpha = 1.86e-06, improvement_ratio = 0.7269\n"
     ]
    },
    {
     "name": "stderr",
     "output_type": "stream",
     "text": [
      "100%|██████████| 500/500 [00:36<00:00, 13.69it/s]\n",
      "  0%|          | 1/501 [00:00<04:37,  1.80it/s]"
     ]
    },
    {
     "name": "stdout",
     "output_type": "stream",
     "text": [
      "Iteration 0, loss = 884.7, Jres = 5.098e+03, alpha = 2.5, improvement_ratio = 1.0\n"
     ]
    },
    {
     "name": "stderr",
     "output_type": "stream",
     "text": [
      "  0%|          | 2/501 [00:01<04:11,  1.99it/s]"
     ]
    },
    {
     "name": "stdout",
     "output_type": "stream",
     "text": [
      "Iteration 1, loss = 585.4, Jres = 9.376e+03, alpha = 5.0, improvement_ratio = 0.4197\n"
     ]
    },
    {
     "name": "stderr",
     "output_type": "stream",
     "text": [
      "  1%|          | 3/501 [00:01<03:27,  2.40it/s]"
     ]
    },
    {
     "name": "stdout",
     "output_type": "stream",
     "text": [
      "Iteration 2, loss = 70.64, Jres = 2.895e+04, alpha = 4.167, improvement_ratio = 0.9516\n"
     ]
    },
    {
     "name": "stderr",
     "output_type": "stream",
     "text": [
      "  1%|          | 4/501 [00:01<03:07,  2.66it/s]"
     ]
    },
    {
     "name": "stdout",
     "output_type": "stream",
     "text": [
      "Iteration 3, loss = 33.12, Jres = 4.213e+03, alpha = 3.472, improvement_ratio = 1.002\n"
     ]
    },
    {
     "name": "stderr",
     "output_type": "stream",
     "text": [
      "  1%|          | 5/501 [00:01<02:55,  2.82it/s]"
     ]
    },
    {
     "name": "stdout",
     "output_type": "stream",
     "text": [
      "Iteration 4, loss = 22.22, Jres = 522.4, alpha = 2.894, improvement_ratio = 1.032\n"
     ]
    },
    {
     "name": "stderr",
     "output_type": "stream",
     "text": [
      "  1%|          | 6/501 [00:02<02:48,  2.94it/s]"
     ]
    },
    {
     "name": "stdout",
     "output_type": "stream",
     "text": [
      "Iteration 5, loss = 16.47, Jres = 173.8, alpha = 2.411, improvement_ratio = 1.021\n"
     ]
    },
    {
     "name": "stderr",
     "output_type": "stream",
     "text": [
      " 10%|█         | 51/501 [00:16<02:21,  3.18it/s]"
     ]
    },
    {
     "name": "stdout",
     "output_type": "stream",
     "text": [
      "Iteration 50, loss = 0.02899, Jres = 34.2, alpha = 0.001367, improvement_ratio = 0.6626\n"
     ]
    },
    {
     "name": "stderr",
     "output_type": "stream",
     "text": [
      " 20%|██        | 101/501 [00:32<02:05,  3.18it/s]"
     ]
    },
    {
     "name": "stdout",
     "output_type": "stream",
     "text": [
      "Iteration 100, loss = 0.003315, Jres = 17.63, alpha = 0.0002208, improvement_ratio = 0.7599\n"
     ]
    },
    {
     "name": "stderr",
     "output_type": "stream",
     "text": [
      " 30%|███       | 151/501 [00:47<01:50,  3.18it/s]"
     ]
    },
    {
     "name": "stdout",
     "output_type": "stream",
     "text": [
      "Iteration 150, loss = 0.001199, Jres = 26.7, alpha = 8.874e-05, improvement_ratio = 0.7233\n"
     ]
    },
    {
     "name": "stderr",
     "output_type": "stream",
     "text": [
      " 40%|████      | 201/501 [01:03<01:34,  3.18it/s]"
     ]
    },
    {
     "name": "stdout",
     "output_type": "stream",
     "text": [
      "Iteration 200, loss = 0.000538, Jres = 7.452, alpha = 3.566e-05, improvement_ratio = 0.8048\n"
     ]
    },
    {
     "name": "stderr",
     "output_type": "stream",
     "text": [
      " 50%|█████     | 251/501 [01:19<01:18,  3.18it/s]"
     ]
    },
    {
     "name": "stdout",
     "output_type": "stream",
     "text": [
      "Iteration 250, loss = 0.0002656, Jres = 8.425, alpha = 2.064e-05, improvement_ratio = 0.7703\n"
     ]
    },
    {
     "name": "stderr",
     "output_type": "stream",
     "text": [
      " 60%|██████    | 301/501 [01:34<01:02,  3.18it/s]"
     ]
    },
    {
     "name": "stdout",
     "output_type": "stream",
     "text": [
      "Iteration 300, loss = 0.0001635, Jres = 8.384, alpha = 1.72e-05, improvement_ratio = 0.7977\n"
     ]
    },
    {
     "name": "stderr",
     "output_type": "stream",
     "text": [
      " 70%|███████   | 351/501 [01:50<00:47,  3.18it/s]"
     ]
    },
    {
     "name": "stdout",
     "output_type": "stream",
     "text": [
      "Iteration 350, loss = 0.000117, Jres = 9.03, alpha = 9.952e-06, improvement_ratio = 0.7247\n"
     ]
    },
    {
     "name": "stderr",
     "output_type": "stream",
     "text": [
      " 80%|████████  | 401/501 [02:06<00:31,  3.18it/s]"
     ]
    },
    {
     "name": "stdout",
     "output_type": "stream",
     "text": [
      "Iteration 400, loss = 8.968e-05, Jres = 3.709, alpha = 5.759e-06, improvement_ratio = 0.7611\n"
     ]
    },
    {
     "name": "stderr",
     "output_type": "stream",
     "text": [
      " 90%|█████████ | 451/501 [02:22<00:15,  3.18it/s]"
     ]
    },
    {
     "name": "stdout",
     "output_type": "stream",
     "text": [
      "Iteration 450, loss = 7.485e-05, Jres = 1.326, alpha = 4.799e-06, improvement_ratio = 0.7994\n"
     ]
    },
    {
     "name": "stderr",
     "output_type": "stream",
     "text": [
      "100%|██████████| 501/501 [02:37<00:00,  3.17it/s]"
     ]
    },
    {
     "name": "stdout",
     "output_type": "stream",
     "text": [
      "Iteration 500, loss = 6.766e-05, Jres = 1.164, alpha = 4e-06, improvement_ratio = 0.7936\n"
     ]
    },
    {
     "name": "stderr",
     "output_type": "stream",
     "text": [
      "\n",
      "100%|██████████| 500/500 [02:22<00:00,  3.51it/s]\n",
      "  5%|▌         | 26/501 [00:00<00:03, 140.21it/s]"
     ]
    },
    {
     "name": "stdout",
     "output_type": "stream",
     "text": [
      "Iteration 0, loss = 890.4, Jres = 2.986e+03, alpha = 2.5, improvement_ratio = 1.0\n",
      "Iteration 1, loss = 742.0, Jres = 3.598e+04, alpha = 40.0, improvement_ratio = 0.2158\n",
      "Iteration 2, loss = 80.27, Jres = 1.3e+05, alpha = 16.67, improvement_ratio = 0.938\n",
      "Iteration 3, loss = 20.25, Jres = 2.614e+04, alpha = 13.89, improvement_ratio = 0.976\n",
      "Iteration 4, loss = 14.15, Jres = 3.848e+03, alpha = 11.57, improvement_ratio = 0.9971\n",
      "Iteration 5, loss = 11.32, Jres = 474.6, alpha = 9.645, improvement_ratio = 1.006\n"
     ]
    },
    {
     "name": "stderr",
     "output_type": "stream",
     "text": [
      " 18%|█▊        | 89/501 [00:00<00:02, 191.00it/s]"
     ]
    },
    {
     "name": "stdout",
     "output_type": "stream",
     "text": [
      "Iteration 50, loss = 0.02451, Jres = 19.44, alpha = 0.003798, improvement_ratio = 0.7218\n"
     ]
    },
    {
     "name": "stderr",
     "output_type": "stream",
     "text": [
      " 27%|██▋       | 133/501 [00:00<00:01, 202.12it/s]"
     ]
    },
    {
     "name": "stdout",
     "output_type": "stream",
     "text": [
      "Iteration 100, loss = 0.001181, Jres = 4.281, alpha = 0.0002054, improvement_ratio = 0.7597\n"
     ]
    },
    {
     "name": "stderr",
     "output_type": "stream",
     "text": [
      " 35%|███▌      | 177/501 [00:00<00:01, 208.18it/s]"
     ]
    },
    {
     "name": "stdout",
     "output_type": "stream",
     "text": [
      "Iteration 150, loss = 0.0001099, Jres = 3.076, alpha = 5.732e-05, improvement_ratio = 0.7662\n"
     ]
    },
    {
     "name": "stderr",
     "output_type": "stream",
     "text": [
      " 49%|████▊     | 243/501 [00:01<00:01, 211.83it/s]"
     ]
    },
    {
     "name": "stdout",
     "output_type": "stream",
     "text": [
      "Iteration 200, loss = 3.73e-05, Jres = 0.5066, alpha = 1.333e-05, improvement_ratio = 0.7881\n"
     ]
    },
    {
     "name": "stderr",
     "output_type": "stream",
     "text": [
      " 57%|█████▋    | 287/501 [00:01<00:01, 212.10it/s]"
     ]
    },
    {
     "name": "stdout",
     "output_type": "stream",
     "text": [
      "Iteration 250, loss = 2.565e-05, Jres = 0.2801, alpha = 9.258e-06, improvement_ratio = 0.761\n"
     ]
    },
    {
     "name": "stderr",
     "output_type": "stream",
     "text": [
      " 66%|██████▌   | 331/501 [00:01<00:00, 212.27it/s]"
     ]
    },
    {
     "name": "stdout",
     "output_type": "stream",
     "text": [
      "Iteration 300, loss = 2.07e-05, Jres = 0.1621, alpha = 5.358e-06, improvement_ratio = 0.8012\n"
     ]
    },
    {
     "name": "stderr",
     "output_type": "stream",
     "text": [
      " 75%|███████▍  | 375/501 [00:01<00:00, 212.33it/s]"
     ]
    },
    {
     "name": "stdout",
     "output_type": "stream",
     "text": [
      "Iteration 350, loss = 1.833e-05, Jres = 0.1867, alpha = 4.465e-06, improvement_ratio = 0.7022\n"
     ]
    },
    {
     "name": "stderr",
     "output_type": "stream",
     "text": [
      " 89%|████████▊ | 444/501 [00:02<00:00, 219.87it/s]"
     ]
    },
    {
     "name": "stdout",
     "output_type": "stream",
     "text": [
      "Iteration 400, loss = 1.717e-05, Jres = 0.178, alpha = 4.465e-06, improvement_ratio = 0.6919\n"
     ]
    },
    {
     "name": "stderr",
     "output_type": "stream",
     "text": [
      " 98%|█████████▊| 490/501 [00:02<00:00, 221.89it/s]"
     ]
    },
    {
     "name": "stdout",
     "output_type": "stream",
     "text": [
      "Iteration 450, loss = 1.653e-05, Jres = 0.1766, alpha = 4.465e-06, improvement_ratio = 0.6986\n"
     ]
    },
    {
     "name": "stderr",
     "output_type": "stream",
     "text": [
      "100%|██████████| 501/501 [00:02<00:00, 206.84it/s]\n"
     ]
    },
    {
     "name": "stdout",
     "output_type": "stream",
     "text": [
      "Iteration 500, loss = 1.604e-05, Jres = 0.1865, alpha = 4.465e-06, improvement_ratio = 0.7122\n"
     ]
    },
    {
     "name": "stderr",
     "output_type": "stream",
     "text": [
      "100%|██████████| 500/500 [00:35<00:00, 14.00it/s]\n",
      "  2%|▏         | 10/501 [00:00<00:10, 48.79it/s]"
     ]
    },
    {
     "name": "stdout",
     "output_type": "stream",
     "text": [
      "Iteration 0, loss = 585.9, Jres = 2.28e+03, alpha = 2.5, improvement_ratio = 1.0\n",
      "Iteration 1, loss = 520.3, Jres = 1.582e+04, alpha = 24.0, improvement_ratio = 0.137\n",
      "Iteration 2, loss = 56.63, Jres = 6.462e+04, alpha = 16.67, improvement_ratio = 0.9493\n",
      "Iteration 3, loss = 26.97, Jres = 8.805e+03, alpha = 13.89, improvement_ratio = 0.9746\n",
      "Iteration 4, loss = 20.2, Jres = 997.8, alpha = 11.57, improvement_ratio = 1.009\n",
      "Iteration 5, loss = 15.86, Jres = 237.9, alpha = 9.645, improvement_ratio = 1.019\n"
     ]
    },
    {
     "name": "stderr",
     "output_type": "stream",
     "text": [
      " 13%|█▎        | 66/501 [00:00<00:05, 77.22it/s]"
     ]
    },
    {
     "name": "stdout",
     "output_type": "stream",
     "text": [
      "Iteration 50, loss = 0.0156, Jres = 20.13, alpha = 0.002637, improvement_ratio = 0.8379\n"
     ]
    },
    {
     "name": "stderr",
     "output_type": "stream",
     "text": [
      " 23%|██▎       | 114/501 [00:01<00:04, 77.94it/s]"
     ]
    },
    {
     "name": "stdout",
     "output_type": "stream",
     "text": [
      "Iteration 100, loss = 0.001285, Jres = 7.194, alpha = 0.0002465, improvement_ratio = 0.7655\n"
     ]
    },
    {
     "name": "stderr",
     "output_type": "stream",
     "text": [
      " 32%|███▏      | 162/501 [00:02<00:04, 76.67it/s]"
     ]
    },
    {
     "name": "stdout",
     "output_type": "stream",
     "text": [
      "Iteration 150, loss = 0.0002731, Jres = 5.043, alpha = 8.255e-05, improvement_ratio = 0.775\n"
     ]
    },
    {
     "name": "stderr",
     "output_type": "stream",
     "text": [
      " 42%|████▏     | 210/501 [00:02<00:03, 76.17it/s]"
     ]
    },
    {
     "name": "stdout",
     "output_type": "stream",
     "text": [
      "Iteration 200, loss = 6.017e-05, Jres = 2.475, alpha = 2.765e-05, improvement_ratio = 0.7423\n"
     ]
    },
    {
     "name": "stderr",
     "output_type": "stream",
     "text": [
      " 53%|█████▎    | 266/501 [00:03<00:03, 76.29it/s]"
     ]
    },
    {
     "name": "stdout",
     "output_type": "stream",
     "text": [
      "Iteration 250, loss = 2.926e-05, Jres = 0.6925, alpha = 9.258e-06, improvement_ratio = 0.8012\n"
     ]
    },
    {
     "name": "stderr",
     "output_type": "stream",
     "text": [
      " 63%|██████▎   | 314/501 [00:04<00:02, 77.57it/s]"
     ]
    },
    {
     "name": "stdout",
     "output_type": "stream",
     "text": [
      "Iteration 300, loss = 2.272e-05, Jres = 0.4352, alpha = 7.715e-06, improvement_ratio = 0.7859\n"
     ]
    },
    {
     "name": "stderr",
     "output_type": "stream",
     "text": [
      " 72%|███████▏  | 362/501 [00:04<00:01, 77.97it/s]"
     ]
    },
    {
     "name": "stdout",
     "output_type": "stream",
     "text": [
      "Iteration 350, loss = 2.038e-05, Jres = 0.4015, alpha = 5.358e-06, improvement_ratio = 0.7312\n"
     ]
    },
    {
     "name": "stderr",
     "output_type": "stream",
     "text": [
      " 82%|████████▏ | 410/501 [00:05<00:01, 77.86it/s]"
     ]
    },
    {
     "name": "stdout",
     "output_type": "stream",
     "text": [
      "Iteration 400, loss = 1.908e-05, Jres = 0.2518, alpha = 3.101e-06, improvement_ratio = 0.8035\n"
     ]
    },
    {
     "name": "stderr",
     "output_type": "stream",
     "text": [
      " 93%|█████████▎| 466/501 [00:06<00:00, 78.38it/s]"
     ]
    },
    {
     "name": "stdout",
     "output_type": "stream",
     "text": [
      "Iteration 450, loss = 1.82e-05, Jres = 0.188, alpha = 2.153e-06, improvement_ratio = 0.7872\n"
     ]
    },
    {
     "name": "stderr",
     "output_type": "stream",
     "text": [
      "100%|██████████| 501/501 [00:06<00:00, 76.38it/s]\n"
     ]
    },
    {
     "name": "stdout",
     "output_type": "stream",
     "text": [
      "Iteration 500, loss = 1.759e-05, Jres = 0.1257, alpha = 1.794e-06, improvement_ratio = 0.7233\n"
     ]
    },
    {
     "name": "stderr",
     "output_type": "stream",
     "text": [
      "100%|██████████| 500/500 [00:12<00:00, 41.13it/s]\n",
      "  0%|          | 2/501 [00:00<00:59,  8.33it/s]"
     ]
    },
    {
     "name": "stdout",
     "output_type": "stream",
     "text": [
      "Iteration 0, loss = 567.3, Jres = 2.412e+03, alpha = 2.5, improvement_ratio = 1.0\n",
      "Iteration 1, loss = 392.8, Jres = 7.708e+03, alpha = 10.0, improvement_ratio = 0.3989\n",
      "Iteration 2, loss = 52.37, Jres = 4.585e+04, alpha = 8.333, improvement_ratio = 0.9639\n"
     ]
    },
    {
     "name": "stderr",
     "output_type": "stream",
     "text": [
      "  1%|          | 6/501 [00:00<00:33, 14.56it/s]"
     ]
    },
    {
     "name": "stdout",
     "output_type": "stream",
     "text": [
      "Iteration 3, loss = 25.06, Jres = 5.066e+03, alpha = 6.944, improvement_ratio = 1.014\n",
      "Iteration 4, loss = 16.36, Jres = 742.5, alpha = 5.787, improvement_ratio = 1.05\n",
      "Iteration 5, loss = 11.42, Jres = 190.3, alpha = 4.823, improvement_ratio = 1.039\n"
     ]
    },
    {
     "name": "stderr",
     "output_type": "stream",
     "text": [
      " 11%|█         | 54/501 [00:03<00:24, 18.05it/s]"
     ]
    },
    {
     "name": "stdout",
     "output_type": "stream",
     "text": [
      "Iteration 50, loss = 0.01844, Jres = 53.82, alpha = 0.001582, improvement_ratio = 0.7221\n"
     ]
    },
    {
     "name": "stderr",
     "output_type": "stream",
     "text": [
      " 21%|██        | 104/501 [00:05<00:22, 18.03it/s]"
     ]
    },
    {
     "name": "stdout",
     "output_type": "stream",
     "text": [
      "Iteration 100, loss = 0.001109, Jres = 6.806, alpha = 0.000213, improvement_ratio = 0.7968\n"
     ]
    },
    {
     "name": "stderr",
     "output_type": "stream",
     "text": [
      " 31%|███       | 154/501 [00:08<00:19, 18.04it/s]"
     ]
    },
    {
     "name": "stdout",
     "output_type": "stream",
     "text": [
      "Iteration 150, loss = 0.0002985, Jres = 3.667, alpha = 5.943e-05, improvement_ratio = 0.7394\n"
     ]
    },
    {
     "name": "stderr",
     "output_type": "stream",
     "text": [
      " 41%|████      | 204/501 [00:11<00:16, 18.03it/s]"
     ]
    },
    {
     "name": "stdout",
     "output_type": "stream",
     "text": [
      "Iteration 200, loss = 0.0001052, Jres = 1.07, alpha = 2.389e-05, improvement_ratio = 0.7809\n"
     ]
    },
    {
     "name": "stderr",
     "output_type": "stream",
     "text": [
      " 51%|█████     | 254/501 [00:14<00:13, 18.02it/s]"
     ]
    },
    {
     "name": "stdout",
     "output_type": "stream",
     "text": [
      "Iteration 250, loss = 5.29e-05, Jres = 0.8218, alpha = 1.152e-05, improvement_ratio = 0.7795\n"
     ]
    },
    {
     "name": "stderr",
     "output_type": "stream",
     "text": [
      " 61%|██████    | 304/501 [00:16<00:10, 18.01it/s]"
     ]
    },
    {
     "name": "stdout",
     "output_type": "stream",
     "text": [
      "Iteration 300, loss = 3.443e-05, Jres = 0.6622, alpha = 6.666e-06, improvement_ratio = 0.7353\n"
     ]
    },
    {
     "name": "stderr",
     "output_type": "stream",
     "text": [
      " 71%|███████   | 354/501 [00:19<00:08, 18.02it/s]"
     ]
    },
    {
     "name": "stdout",
     "output_type": "stream",
     "text": [
      "Iteration 350, loss = 2.764e-05, Jres = 0.3277, alpha = 3.858e-06, improvement_ratio = 0.7674\n"
     ]
    },
    {
     "name": "stderr",
     "output_type": "stream",
     "text": [
      " 81%|████████  | 404/501 [00:22<00:05, 18.03it/s]"
     ]
    },
    {
     "name": "stdout",
     "output_type": "stream",
     "text": [
      "Iteration 400, loss = 2.525e-05, Jres = 0.3527, alpha = 2.679e-06, improvement_ratio = 0.7817\n"
     ]
    },
    {
     "name": "stderr",
     "output_type": "stream",
     "text": [
      " 91%|█████████ | 454/501 [00:25<00:02, 18.03it/s]"
     ]
    },
    {
     "name": "stdout",
     "output_type": "stream",
     "text": [
      "Iteration 450, loss = 2.437e-05, Jres = 0.2885, alpha = 1.86e-06, improvement_ratio = 0.7256\n"
     ]
    },
    {
     "name": "stderr",
     "output_type": "stream",
     "text": [
      "100%|██████████| 501/501 [00:27<00:00, 17.95it/s]\n"
     ]
    },
    {
     "name": "stdout",
     "output_type": "stream",
     "text": [
      "Iteration 500, loss = 2.392e-05, Jres = 0.1565, alpha = 1.55e-06, improvement_ratio = 0.7811\n"
     ]
    },
    {
     "name": "stderr",
     "output_type": "stream",
     "text": [
      "100%|██████████| 500/500 [00:37<00:00, 13.21it/s]\n",
      "  0%|          | 1/501 [00:00<03:56,  2.11it/s]"
     ]
    },
    {
     "name": "stdout",
     "output_type": "stream",
     "text": [
      "Iteration 0, loss = 867.5, Jres = 5.097e+03, alpha = 2.5, improvement_ratio = 1.0\n"
     ]
    },
    {
     "name": "stderr",
     "output_type": "stream",
     "text": [
      "  0%|          | 2/501 [00:00<03:55,  2.12it/s]"
     ]
    },
    {
     "name": "stdout",
     "output_type": "stream",
     "text": [
      "Iteration 1, loss = 522.4, Jres = 9.109e+03, alpha = 5.0, improvement_ratio = 0.4914\n"
     ]
    },
    {
     "name": "stderr",
     "output_type": "stream",
     "text": [
      "  1%|          | 3/501 [00:01<03:20,  2.49it/s]"
     ]
    },
    {
     "name": "stdout",
     "output_type": "stream",
     "text": [
      "Iteration 2, loss = 65.19, Jres = 2.593e+04, alpha = 4.167, improvement_ratio = 0.9549\n"
     ]
    },
    {
     "name": "stderr",
     "output_type": "stream",
     "text": [
      "  1%|          | 4/501 [00:01<03:03,  2.71it/s]"
     ]
    },
    {
     "name": "stdout",
     "output_type": "stream",
     "text": [
      "Iteration 3, loss = 30.95, Jres = 3.64e+03, alpha = 3.472, improvement_ratio = 1.006\n"
     ]
    },
    {
     "name": "stderr",
     "output_type": "stream",
     "text": [
      "  1%|          | 5/501 [00:01<02:54,  2.85it/s]"
     ]
    },
    {
     "name": "stdout",
     "output_type": "stream",
     "text": [
      "Iteration 4, loss = 20.68, Jres = 489.8, alpha = 2.894, improvement_ratio = 1.028\n"
     ]
    },
    {
     "name": "stderr",
     "output_type": "stream",
     "text": [
      "  1%|          | 6/501 [00:02<02:48,  2.94it/s]"
     ]
    },
    {
     "name": "stdout",
     "output_type": "stream",
     "text": [
      "Iteration 5, loss = 15.45, Jres = 187.0, alpha = 2.411, improvement_ratio = 1.016\n"
     ]
    },
    {
     "name": "stderr",
     "output_type": "stream",
     "text": [
      " 10%|█         | 51/501 [00:16<02:23,  3.14it/s]"
     ]
    },
    {
     "name": "stdout",
     "output_type": "stream",
     "text": [
      "Iteration 50, loss = 0.0335, Jres = 38.38, alpha = 0.001367, improvement_ratio = 0.6622\n"
     ]
    },
    {
     "name": "stderr",
     "output_type": "stream",
     "text": [
      " 20%|██        | 101/501 [00:32<02:07,  3.14it/s]"
     ]
    },
    {
     "name": "stdout",
     "output_type": "stream",
     "text": [
      "Iteration 100, loss = 0.004261, Jres = 23.66, alpha = 0.0002208, improvement_ratio = 0.7995\n"
     ]
    },
    {
     "name": "stderr",
     "output_type": "stream",
     "text": [
      " 30%|███       | 151/501 [00:48<01:51,  3.14it/s]"
     ]
    },
    {
     "name": "stdout",
     "output_type": "stream",
     "text": [
      "Iteration 150, loss = 0.001517, Jres = 18.81, alpha = 7.395e-05, improvement_ratio = 0.6627\n"
     ]
    },
    {
     "name": "stderr",
     "output_type": "stream",
     "text": [
      " 40%|████      | 201/501 [01:04<01:35,  3.14it/s]"
     ]
    },
    {
     "name": "stdout",
     "output_type": "stream",
     "text": [
      "Iteration 200, loss = 0.0007142, Jres = 11.64, alpha = 4.279e-05, improvement_ratio = 0.7937\n"
     ]
    },
    {
     "name": "stderr",
     "output_type": "stream",
     "text": [
      " 50%|█████     | 251/501 [01:20<01:19,  3.14it/s]"
     ]
    },
    {
     "name": "stdout",
     "output_type": "stream",
     "text": [
      "Iteration 250, loss = 0.000387, Jres = 5.628, alpha = 1.72e-05, improvement_ratio = 0.8074\n"
     ]
    },
    {
     "name": "stderr",
     "output_type": "stream",
     "text": [
      " 60%|██████    | 301/501 [01:36<01:03,  3.14it/s]"
     ]
    },
    {
     "name": "stdout",
     "output_type": "stream",
     "text": [
      "Iteration 300, loss = 0.0002247, Jres = 2.696, alpha = 1.194e-05, improvement_ratio = 0.7871\n"
     ]
    },
    {
     "name": "stderr",
     "output_type": "stream",
     "text": [
      " 70%|███████   | 351/501 [01:52<00:47,  3.14it/s]"
     ]
    },
    {
     "name": "stdout",
     "output_type": "stream",
     "text": [
      "Iteration 350, loss = 0.0001583, Jres = 4.151, alpha = 6.911e-06, improvement_ratio = 0.7215\n"
     ]
    },
    {
     "name": "stderr",
     "output_type": "stream",
     "text": [
      " 80%|████████  | 401/501 [02:08<00:31,  3.14it/s]"
     ]
    },
    {
     "name": "stdout",
     "output_type": "stream",
     "text": [
      "Iteration 400, loss = 0.0001249, Jres = 2.291, alpha = 5.759e-06, improvement_ratio = 0.7937\n"
     ]
    },
    {
     "name": "stderr",
     "output_type": "stream",
     "text": [
      " 90%|█████████ | 451/501 [02:23<00:15,  3.14it/s]"
     ]
    },
    {
     "name": "stdout",
     "output_type": "stream",
     "text": [
      "Iteration 450, loss = 0.0001065, Jres = 2.998, alpha = 4.799e-06, improvement_ratio = 0.7915\n"
     ]
    },
    {
     "name": "stderr",
     "output_type": "stream",
     "text": [
      "100%|██████████| 501/501 [02:39<00:00,  3.13it/s]"
     ]
    },
    {
     "name": "stdout",
     "output_type": "stream",
     "text": [
      "Iteration 500, loss = 9.543e-05, Jres = 3.068, alpha = 3.333e-06, improvement_ratio = 0.653\n"
     ]
    },
    {
     "name": "stderr",
     "output_type": "stream",
     "text": [
      "\n",
      "100%|██████████| 500/500 [02:26<00:00,  3.41it/s]\n",
      "  6%|▌         | 29/501 [00:00<00:03, 153.78it/s]"
     ]
    },
    {
     "name": "stdout",
     "output_type": "stream",
     "text": [
      "Iteration 0, loss = 919.4, Jres = 3.072e+03, alpha = 2.5, improvement_ratio = 1.0\n",
      "Iteration 1, loss = 672.0, Jres = 3.482e+04, alpha = 80.0, improvement_ratio = 0.3761\n",
      "Iteration 2, loss = 89.92, Jres = 1.082e+05, alpha = 16.67, improvement_ratio = 0.9541\n",
      "Iteration 3, loss = 22.1, Jres = 2.6e+04, alpha = 13.89, improvement_ratio = 0.9601\n",
      "Iteration 4, loss = 14.39, Jres = 4.916e+03, alpha = 11.57, improvement_ratio = 0.9979\n",
      "Iteration 5, loss = 11.38, Jres = 557.7, alpha = 9.645, improvement_ratio = 1.011\n"
     ]
    },
    {
     "name": "stderr",
     "output_type": "stream",
     "text": [
      " 15%|█▍        | 75/501 [00:00<00:02, 199.47it/s]"
     ]
    },
    {
     "name": "stdout",
     "output_type": "stream",
     "text": [
      "Iteration 50, loss = 0.03153, Jres = 50.95, alpha = 0.003165, improvement_ratio = 0.81\n"
     ]
    },
    {
     "name": "stderr",
     "output_type": "stream",
     "text": [
      " 28%|██▊       | 142/501 [00:00<00:01, 209.91it/s]"
     ]
    },
    {
     "name": "stdout",
     "output_type": "stream",
     "text": [
      "Iteration 100, loss = 0.001759, Jres = 8.39, alpha = 0.0002465, improvement_ratio = 0.7991\n"
     ]
    },
    {
     "name": "stderr",
     "output_type": "stream",
     "text": [
      " 37%|███▋      | 185/501 [00:00<00:01, 210.94it/s]"
     ]
    },
    {
     "name": "stdout",
     "output_type": "stream",
     "text": [
      "Iteration 150, loss = 0.0003013, Jres = 3.643, alpha = 6.879e-05, improvement_ratio = 0.7777\n"
     ]
    },
    {
     "name": "stderr",
     "output_type": "stream",
     "text": [
      " 46%|████▌     | 229/501 [00:01<00:01, 211.66it/s]"
     ]
    },
    {
     "name": "stdout",
     "output_type": "stream",
     "text": [
      "Iteration 200, loss = 6.948e-05, Jres = 1.933, alpha = 2.304e-05, improvement_ratio = 0.7443\n"
     ]
    },
    {
     "name": "stderr",
     "output_type": "stream",
     "text": [
      " 55%|█████▍    | 275/501 [00:01<00:01, 216.82it/s]"
     ]
    },
    {
     "name": "stdout",
     "output_type": "stream",
     "text": [
      "Iteration 250, loss = 3.07e-05, Jres = 0.2938, alpha = 6.429e-06, improvement_ratio = 0.7978\n"
     ]
    },
    {
     "name": "stderr",
     "output_type": "stream",
     "text": [
      " 69%|██████▊   | 344/501 [00:01<00:00, 220.00it/s]"
     ]
    },
    {
     "name": "stdout",
     "output_type": "stream",
     "text": [
      "Iteration 300, loss = 2.628e-05, Jres = 0.1539, alpha = 3.721e-06, improvement_ratio = 0.7409\n"
     ]
    },
    {
     "name": "stderr",
     "output_type": "stream",
     "text": [
      " 78%|███████▊  | 390/501 [00:01<00:00, 220.98it/s]"
     ]
    },
    {
     "name": "stdout",
     "output_type": "stream",
     "text": [
      "Iteration 350, loss = 2.528e-05, Jres = 0.04603, alpha = 3.101e-06, improvement_ratio = 0.7552\n"
     ]
    },
    {
     "name": "stderr",
     "output_type": "stream",
     "text": [
      " 87%|████████▋ | 436/501 [00:02<00:00, 221.22it/s]"
     ]
    },
    {
     "name": "stdout",
     "output_type": "stream",
     "text": [
      "Iteration 400, loss = 2.485e-05, Jres = 0.03274, alpha = 2.584e-06, improvement_ratio = 0.8007\n"
     ]
    },
    {
     "name": "stderr",
     "output_type": "stream",
     "text": [
      " 96%|█████████▌| 482/501 [00:02<00:00, 220.83it/s]"
     ]
    },
    {
     "name": "stdout",
     "output_type": "stream",
     "text": [
      "Iteration 450, loss = 2.457e-05, Jres = 0.03736, alpha = 2.584e-06, improvement_ratio = 0.7685\n"
     ]
    },
    {
     "name": "stderr",
     "output_type": "stream",
     "text": [
      "100%|██████████| 501/501 [00:02<00:00, 211.69it/s]\n"
     ]
    },
    {
     "name": "stdout",
     "output_type": "stream",
     "text": [
      "Iteration 500, loss = 2.441e-05, Jres = 0.03666, alpha = 2.153e-06, improvement_ratio = 0.7592\n"
     ]
    },
    {
     "name": "stderr",
     "output_type": "stream",
     "text": [
      "100%|██████████| 500/500 [00:36<00:00, 13.77it/s]\n",
      "  2%|▏         | 10/501 [00:00<00:10, 48.10it/s]"
     ]
    },
    {
     "name": "stdout",
     "output_type": "stream",
     "text": [
      "Iteration 0, loss = 604.7, Jres = 2.199e+03, alpha = 2.5, improvement_ratio = 1.0\n",
      "Iteration 1, loss = 226.7, Jres = 1.574e+04, alpha = 33.33, improvement_ratio = 0.8337\n",
      "Iteration 2, loss = 57.56, Jres = 2.943e+04, alpha = 16.67, improvement_ratio = 0.892\n",
      "Iteration 3, loss = 30.74, Jres = 6.056e+03, alpha = 13.89, improvement_ratio = 0.9753\n",
      "Iteration 4, loss = 21.86, Jres = 992.8, alpha = 11.57, improvement_ratio = 1.007\n",
      "Iteration 5, loss = 16.55, Jres = 342.3, alpha = 9.645, improvement_ratio = 1.018\n"
     ]
    },
    {
     "name": "stderr",
     "output_type": "stream",
     "text": [
      " 13%|█▎        | 66/501 [00:00<00:05, 74.55it/s]"
     ]
    },
    {
     "name": "stdout",
     "output_type": "stream",
     "text": [
      "Iteration 50, loss = 0.0216, Jres = 30.34, alpha = 0.003165, improvement_ratio = 0.8623\n"
     ]
    },
    {
     "name": "stderr",
     "output_type": "stream",
     "text": [
      " 23%|██▎       | 114/501 [00:01<00:05, 73.99it/s]"
     ]
    },
    {
     "name": "stdout",
     "output_type": "stream",
     "text": [
      "Iteration 100, loss = 0.00158, Jres = 11.83, alpha = 0.0002465, improvement_ratio = 0.7645\n"
     ]
    },
    {
     "name": "stderr",
     "output_type": "stream",
     "text": [
      " 32%|███▏      | 162/501 [00:02<00:04, 74.21it/s]"
     ]
    },
    {
     "name": "stdout",
     "output_type": "stream",
     "text": [
      "Iteration 150, loss = 0.0002052, Jres = 3.915, alpha = 6.879e-05, improvement_ratio = 0.7995\n"
     ]
    },
    {
     "name": "stderr",
     "output_type": "stream",
     "text": [
      " 42%|████▏     | 210/501 [00:02<00:03, 76.51it/s]"
     ]
    },
    {
     "name": "stdout",
     "output_type": "stream",
     "text": [
      "Iteration 200, loss = 5.297e-05, Jres = 1.063, alpha = 1.92e-05, improvement_ratio = 0.7929\n"
     ]
    },
    {
     "name": "stderr",
     "output_type": "stream",
     "text": [
      " 53%|█████▎    | 266/501 [00:03<00:03, 76.67it/s]"
     ]
    },
    {
     "name": "stdout",
     "output_type": "stream",
     "text": [
      "Iteration 250, loss = 3.322e-05, Jres = 0.6196, alpha = 1.111e-05, improvement_ratio = 0.7777\n"
     ]
    },
    {
     "name": "stderr",
     "output_type": "stream",
     "text": [
      " 63%|██████▎   | 314/501 [00:04<00:02, 75.25it/s]"
     ]
    },
    {
     "name": "stdout",
     "output_type": "stream",
     "text": [
      "Iteration 300, loss = 2.694e-05, Jres = 0.3805, alpha = 7.715e-06, improvement_ratio = 0.7641\n"
     ]
    },
    {
     "name": "stderr",
     "output_type": "stream",
     "text": [
      " 72%|███████▏  | 362/501 [00:04<00:01, 73.85it/s]"
     ]
    },
    {
     "name": "stdout",
     "output_type": "stream",
     "text": [
      "Iteration 350, loss = 2.374e-05, Jres = 0.2449, alpha = 5.358e-06, improvement_ratio = 0.7599\n"
     ]
    },
    {
     "name": "stderr",
     "output_type": "stream",
     "text": [
      " 82%|████████▏ | 410/501 [00:05<00:01, 74.26it/s]"
     ]
    },
    {
     "name": "stdout",
     "output_type": "stream",
     "text": [
      "Iteration 400, loss = 2.199e-05, Jres = 0.1778, alpha = 3.721e-06, improvement_ratio = 0.7517\n"
     ]
    },
    {
     "name": "stderr",
     "output_type": "stream",
     "text": [
      " 91%|█████████▏| 458/501 [00:06<00:00, 74.45it/s]"
     ]
    },
    {
     "name": "stdout",
     "output_type": "stream",
     "text": [
      "Iteration 450, loss = 2.097e-05, Jres = 0.1266, alpha = 2.584e-06, improvement_ratio = 0.7667\n"
     ]
    },
    {
     "name": "stderr",
     "output_type": "stream",
     "text": [
      "100%|██████████| 501/501 [00:06<00:00, 73.94it/s]\n"
     ]
    },
    {
     "name": "stdout",
     "output_type": "stream",
     "text": [
      "Iteration 500, loss = 2.039e-05, Jres = 0.08661, alpha = 1.794e-06, improvement_ratio = 0.7999\n"
     ]
    },
    {
     "name": "stderr",
     "output_type": "stream",
     "text": [
      "100%|██████████| 500/500 [00:12<00:00, 39.74it/s]\n",
      "  0%|          | 2/501 [00:00<00:59,  8.45it/s]"
     ]
    },
    {
     "name": "stdout",
     "output_type": "stream",
     "text": [
      "Iteration 0, loss = 550.4, Jres = 2.409e+03, alpha = 2.5, improvement_ratio = 1.0\n",
      "Iteration 1, loss = 355.3, Jres = 7.703e+03, alpha = 10.0, improvement_ratio = 0.4448\n",
      "Iteration 2, loss = 49.56, Jres = 3.887e+04, alpha = 8.333, improvement_ratio = 0.9611\n"
     ]
    },
    {
     "name": "stderr",
     "output_type": "stream",
     "text": [
      "  1%|          | 6/501 [00:00<00:34, 14.51it/s]"
     ]
    },
    {
     "name": "stdout",
     "output_type": "stream",
     "text": [
      "Iteration 3, loss = 24.68, Jres = 4.337e+03, alpha = 6.944, improvement_ratio = 1.012\n",
      "Iteration 4, loss = 16.76, Jres = 629.2, alpha = 5.787, improvement_ratio = 1.043\n",
      "Iteration 5, loss = 12.06, Jres = 183.2, alpha = 4.823, improvement_ratio = 1.038\n"
     ]
    },
    {
     "name": "stderr",
     "output_type": "stream",
     "text": [
      " 11%|█         | 54/501 [00:03<00:25, 17.71it/s]"
     ]
    },
    {
     "name": "stdout",
     "output_type": "stream",
     "text": [
      "Iteration 50, loss = 0.02223, Jres = 40.83, alpha = 0.001899, improvement_ratio = 0.7632\n"
     ]
    },
    {
     "name": "stderr",
     "output_type": "stream",
     "text": [
      " 21%|██        | 104/501 [00:05<00:22, 17.69it/s]"
     ]
    },
    {
     "name": "stdout",
     "output_type": "stream",
     "text": [
      "Iteration 100, loss = 0.001198, Jres = 8.621, alpha = 0.0001775, improvement_ratio = 0.6814\n"
     ]
    },
    {
     "name": "stderr",
     "output_type": "stream",
     "text": [
      " 31%|███       | 154/501 [00:08<00:19, 17.73it/s]"
     ]
    },
    {
     "name": "stdout",
     "output_type": "stream",
     "text": [
      "Iteration 150, loss = 0.0002777, Jres = 2.675, alpha = 5.943e-05, improvement_ratio = 0.7585\n"
     ]
    },
    {
     "name": "stderr",
     "output_type": "stream",
     "text": [
      " 41%|████      | 204/501 [00:11<00:16, 17.71it/s]"
     ]
    },
    {
     "name": "stdout",
     "output_type": "stream",
     "text": [
      "Iteration 200, loss = 0.0001078, Jres = 1.284, alpha = 2.389e-05, improvement_ratio = 0.7846\n"
     ]
    },
    {
     "name": "stderr",
     "output_type": "stream",
     "text": [
      " 51%|█████     | 254/501 [00:14<00:13, 17.70it/s]"
     ]
    },
    {
     "name": "stdout",
     "output_type": "stream",
     "text": [
      "Iteration 250, loss = 6.004e-05, Jres = 0.9483, alpha = 1.152e-05, improvement_ratio = 0.7309\n"
     ]
    },
    {
     "name": "stderr",
     "output_type": "stream",
     "text": [
      " 61%|██████    | 304/501 [00:17<00:11, 17.71it/s]"
     ]
    },
    {
     "name": "stdout",
     "output_type": "stream",
     "text": [
      "Iteration 300, loss = 4.254e-05, Jres = 0.5484, alpha = 7.999e-06, improvement_ratio = 0.76\n"
     ]
    },
    {
     "name": "stderr",
     "output_type": "stream",
     "text": [
      " 71%|███████   | 354/501 [00:20<00:08, 17.76it/s]"
     ]
    },
    {
     "name": "stdout",
     "output_type": "stream",
     "text": [
      "Iteration 350, loss = 3.518e-05, Jres = 0.4624, alpha = 5.555e-06, improvement_ratio = 0.7419\n"
     ]
    },
    {
     "name": "stderr",
     "output_type": "stream",
     "text": [
      " 81%|████████  | 404/501 [00:22<00:05, 17.75it/s]"
     ]
    },
    {
     "name": "stdout",
     "output_type": "stream",
     "text": [
      "Iteration 400, loss = 3.146e-05, Jres = 0.3562, alpha = 3.858e-06, improvement_ratio = 0.7253\n"
     ]
    },
    {
     "name": "stderr",
     "output_type": "stream",
     "text": [
      " 91%|█████████ | 454/501 [00:25<00:02, 17.70it/s]"
     ]
    },
    {
     "name": "stdout",
     "output_type": "stream",
     "text": [
      "Iteration 450, loss = 2.949e-05, Jres = 0.2339, alpha = 3.215e-06, improvement_ratio = 0.7835\n"
     ]
    },
    {
     "name": "stderr",
     "output_type": "stream",
     "text": [
      "100%|██████████| 501/501 [00:28<00:00, 17.65it/s]\n"
     ]
    },
    {
     "name": "stdout",
     "output_type": "stream",
     "text": [
      "Iteration 500, loss = 2.838e-05, Jres = 0.1987, alpha = 2.232e-06, improvement_ratio = 0.7663\n"
     ]
    },
    {
     "name": "stderr",
     "output_type": "stream",
     "text": [
      "100%|██████████| 500/500 [00:40<00:00, 12.29it/s]\n",
      "  0%|          | 1/501 [00:00<04:02,  2.06it/s]"
     ]
    },
    {
     "name": "stdout",
     "output_type": "stream",
     "text": [
      "Iteration 0, loss = 848.4, Jres = 5.031e+03, alpha = 2.5, improvement_ratio = 1.0\n"
     ]
    },
    {
     "name": "stderr",
     "output_type": "stream",
     "text": [
      "  0%|          | 2/501 [00:00<04:00,  2.07it/s]"
     ]
    },
    {
     "name": "stdout",
     "output_type": "stream",
     "text": [
      "Iteration 1, loss = 548.1, Jres = 9.136e+03, alpha = 5.0, improvement_ratio = 0.4334\n"
     ]
    },
    {
     "name": "stderr",
     "output_type": "stream",
     "text": [
      "  1%|          | 3/501 [00:01<03:25,  2.43it/s]"
     ]
    },
    {
     "name": "stdout",
     "output_type": "stream",
     "text": [
      "Iteration 2, loss = 66.17, Jres = 2.827e+04, alpha = 4.167, improvement_ratio = 0.9535\n"
     ]
    },
    {
     "name": "stderr",
     "output_type": "stream",
     "text": [
      "  1%|          | 4/501 [00:01<03:08,  2.64it/s]"
     ]
    },
    {
     "name": "stdout",
     "output_type": "stream",
     "text": [
      "Iteration 3, loss = 30.9, Jres = 3.83e+03, alpha = 3.472, improvement_ratio = 1.001\n"
     ]
    },
    {
     "name": "stderr",
     "output_type": "stream",
     "text": [
      "  1%|          | 5/501 [00:01<02:58,  2.77it/s]"
     ]
    },
    {
     "name": "stdout",
     "output_type": "stream",
     "text": [
      "Iteration 4, loss = 20.86, Jres = 407.6, alpha = 2.894, improvement_ratio = 1.025\n"
     ]
    },
    {
     "name": "stderr",
     "output_type": "stream",
     "text": [
      "  1%|          | 6/501 [00:02<02:53,  2.86it/s]"
     ]
    },
    {
     "name": "stdout",
     "output_type": "stream",
     "text": [
      "Iteration 5, loss = 15.74, Jres = 163.4, alpha = 2.411, improvement_ratio = 1.016\n"
     ]
    },
    {
     "name": "stderr",
     "output_type": "stream",
     "text": [
      " 10%|█         | 51/501 [00:17<02:27,  3.05it/s]"
     ]
    },
    {
     "name": "stdout",
     "output_type": "stream",
     "text": [
      "Iteration 50, loss = 0.03365, Jres = 53.18, alpha = 0.001641, improvement_ratio = 0.7962\n"
     ]
    },
    {
     "name": "stderr",
     "output_type": "stream",
     "text": [
      " 20%|██        | 101/501 [00:33<02:11,  3.05it/s]"
     ]
    },
    {
     "name": "stdout",
     "output_type": "stream",
     "text": [
      "Iteration 100, loss = 0.005166, Jres = 21.14, alpha = 0.000265, improvement_ratio = 0.7936\n"
     ]
    },
    {
     "name": "stderr",
     "output_type": "stream",
     "text": [
      " 30%|███       | 151/501 [00:49<01:54,  3.05it/s]"
     ]
    },
    {
     "name": "stdout",
     "output_type": "stream",
     "text": [
      "Iteration 150, loss = 0.001924, Jres = 13.42, alpha = 7.395e-05, improvement_ratio = 0.6719\n"
     ]
    },
    {
     "name": "stderr",
     "output_type": "stream",
     "text": [
      " 40%|████      | 201/501 [01:06<01:38,  3.05it/s]"
     ]
    },
    {
     "name": "stdout",
     "output_type": "stream",
     "text": [
      "Iteration 200, loss = 0.0008215, Jres = 7.941, alpha = 3.566e-05, improvement_ratio = 0.7843\n"
     ]
    },
    {
     "name": "stderr",
     "output_type": "stream",
     "text": [
      " 50%|█████     | 251/501 [01:22<01:21,  3.05it/s]"
     ]
    },
    {
     "name": "stdout",
     "output_type": "stream",
     "text": [
      "Iteration 250, loss = 0.000443, Jres = 7.314, alpha = 2.064e-05, improvement_ratio = 0.741\n"
     ]
    },
    {
     "name": "stderr",
     "output_type": "stream",
     "text": [
      " 60%|██████    | 301/501 [01:39<01:05,  3.05it/s]"
     ]
    },
    {
     "name": "stdout",
     "output_type": "stream",
     "text": [
      "Iteration 300, loss = 0.0002959, Jres = 5.673, alpha = 1.433e-05, improvement_ratio = 0.7541\n"
     ]
    },
    {
     "name": "stderr",
     "output_type": "stream",
     "text": [
      " 70%|███████   | 351/501 [01:55<00:49,  3.05it/s]"
     ]
    },
    {
     "name": "stdout",
     "output_type": "stream",
     "text": [
      "Iteration 350, loss = 0.0002134, Jres = 4.161, alpha = 8.294e-06, improvement_ratio = 0.7511\n"
     ]
    },
    {
     "name": "stderr",
     "output_type": "stream",
     "text": [
      " 80%|████████  | 401/501 [02:11<00:32,  3.05it/s]"
     ]
    },
    {
     "name": "stdout",
     "output_type": "stream",
     "text": [
      "Iteration 400, loss = 0.0001633, Jres = 5.918, alpha = 5.759e-06, improvement_ratio = 0.7467\n"
     ]
    },
    {
     "name": "stderr",
     "output_type": "stream",
     "text": [
      " 90%|█████████ | 451/501 [02:28<00:16,  3.05it/s]"
     ]
    },
    {
     "name": "stdout",
     "output_type": "stream",
     "text": [
      "Iteration 450, loss = 0.0001367, Jres = 5.74, alpha = 4.799e-06, improvement_ratio = 0.7536\n"
     ]
    },
    {
     "name": "stderr",
     "output_type": "stream",
     "text": [
      "100%|██████████| 501/501 [02:44<00:00,  3.04it/s]"
     ]
    },
    {
     "name": "stdout",
     "output_type": "stream",
     "text": [
      "Iteration 500, loss = 0.0001211, Jres = 4.557, alpha = 4e-06, improvement_ratio = 0.762\n"
     ]
    },
    {
     "name": "stderr",
     "output_type": "stream",
     "text": [
      "\n",
      "100%|██████████| 500/500 [02:37<00:00,  3.17it/s]\n"
     ]
    }
   ],
   "source": [
    "NUM_FUN_LIST = [2,4,8,16]\n",
    "NUM_RUNS = 1\n",
    "OBS_PTS_LIST = [2,4,8]\n",
    "\n",
    "for obs_pt in OBS_PTS_LIST:\n",
    "    for m in NUM_FUN_LIST:\n",
    "        i_dis_1_5 = []\n",
    "        i_dis_2 = []\n",
    "        o_dis_1_5 = []\n",
    "        o_dis_2 = []\n",
    "        i_smpl_1_5 = []\n",
    "        i_smpl_2 = []\n",
    "        for run in range(NUM_RUNS):\n",
    "            # Run\n",
    "            res = run_exp(m, obs_pt, run)\n",
    "            # Append\n",
    "            i_dis_1_5.append(res[0])\n",
    "            i_dis_2.append(res[1])\n",
    "            o_dis_1_5.append(res[2])\n",
    "            o_dis_2.append(res[3])\n",
    "            i_smpl_1_5.append(res[4])\n",
    "            i_smpl_2.append(res[5])\n",
    "        # Append each list    \n",
    "        err['1_5_mthd'][f'{obs_pt}_obs']['i_dis'].append(i_dis_1_5)\n",
    "        err['2_mthd'][f'{obs_pt}_obs']['i_dis'].append(i_dis_2)\n",
    "        err['1_5_mthd'][f'{obs_pt}_obs']['o_dis'].append(o_dis_1_5)\n",
    "        err['2_mthd'][f'{obs_pt}_obs']['o_dis'].append(o_dis_2)\n",
    "        err['1_5_mthd'][f'{obs_pt}_obs']['i_smpl'].append(i_smpl_1_5)\n",
    "        err['2_mthd'][f'{obs_pt}_obs']['i_smpl'].append(i_smpl_2)    \n",
    "    # Save after \n",
    "    jnp.save('errors/err', err)"
   ]
  },
  {
   "cell_type": "markdown",
   "metadata": {},
   "source": [
    "## Plots"
   ]
  },
  {
   "cell_type": "code",
   "execution_count": 8,
   "metadata": {},
   "outputs": [],
   "source": [
    "err = jnp.load('errors/err.npy', allow_pickle=True).item()"
   ]
  },
  {
   "cell_type": "code",
   "execution_count": 9,
   "metadata": {},
   "outputs": [],
   "source": [
    "NUM_FUN_LIST = [2,4,8,16]\n",
    "NUM_RUNS = 1\n",
    "OBS_PTS_LIST = [2,4,8]"
   ]
  },
  {
   "cell_type": "code",
   "execution_count": 10,
   "metadata": {},
   "outputs": [
    {
     "data": {
      "image/png": "[encoded data removed]",
      "text/plain": [
       "<Figure size 640x480 with 1 Axes>"
      ]
     },
     "metadata": {},
     "output_type": "display_data"
    }
   ],
   "source": [
    "# In sample plot\n",
    "plt.title('In sample error: GP(0,RBF(0.5))')\n",
    "ms = NUM_FUN_LIST\n",
    "OBS_PTS_LIST = [2,4,8]\n",
    "for obs_pt in OBS_PTS_LIST:\n",
    "    # 1_5 method\n",
    "    mean_i_smpl_1_5 = jnp.array([jnp.mean(e) for e in jnp.array(err['1_5_mthd'][f'{obs_pt}_obs']['i_smpl'])])\n",
    "    sd_i_smpl_1_5 = jnp.array([jnp.std(e) for e in jnp.array(err['1_5_mthd'][f'{obs_pt}_obs']['i_smpl'])])\n",
    "    # 2 method\n",
    "    mean_i_smpl_2 = jnp.array([jnp.mean(e) for e in jnp.array(err['2_mthd'][f'{obs_pt}_obs']['i_smpl'])])\n",
    "    sd_i_smpl_2 = jnp.array([jnp.std(e) for e in jnp.array(err['2_mthd'][f'{obs_pt}_obs']['i_smpl'])])\n",
    "    # Plot 2 method\n",
    "    plt.plot(ms, mean_i_smpl_2, label = f'2 step : {obs_pt} pts')\n",
    "    plt.fill_between(ms, mean_i_smpl_2 - sd_i_smpl_2, mean_i_smpl_2 + sd_i_smpl_2, alpha=.2)\n",
    "    plt.yscale('log')\n",
    "    # Plot 1_5 method\n",
    "    plt.plot(ms, mean_i_smpl_1_5, label = f'1_5 step : {obs_pt} pts')\n",
    "    plt.fill_between(ms, mean_i_smpl_1_5 - sd_i_smpl_1_5, mean_i_smpl_1_5 + sd_i_smpl_1_5, alpha=.2)\n",
    "    plt.yscale('log')\n",
    "plt.ylabel('NRMSE')\n",
    "plt.xlabel('Number of functions')\n",
    "plt.legend()\n",
    "plt.show()"
   ]
  },
  {
   "cell_type": "code",
   "execution_count": 11,
   "metadata": {},
   "outputs": [
    {
     "data": {
      "image/png": "[encoded data removed]",
      "text/plain": [
       "<Figure size 640x480 with 1 Axes>"
      ]
     },
     "metadata": {},
     "output_type": "display_data"
    }
   ],
   "source": [
    "# In distribution plot\n",
    "plt.title('In distribution error: GP(0,RBF(0.5))')\n",
    "ms = NUM_FUN_LIST\n",
    "OBS_PTS_LIST = [2,4,8]\n",
    "for obs_pt in OBS_PTS_LIST:\n",
    "    # 1_5 method\n",
    "    mean_i_dis_1_5 = jnp.array([jnp.mean(e) for e in jnp.array(err['1_5_mthd'][f'{obs_pt}_obs']['i_dis'])])\n",
    "    sd_i_dis_1_5 = jnp.array([jnp.std(e) for e in jnp.array(err['1_5_mthd'][f'{obs_pt}_obs']['i_dis'])])\n",
    "    # 2 method\n",
    "    mean_i_dis_2 = jnp.array([jnp.mean(e) for e in jnp.array(err['2_mthd'][f'{obs_pt}_obs']['i_dis'])])\n",
    "    sd_i_dis_2 = jnp.array([jnp.std(e) for e in jnp.array(err['2_mthd'][f'{obs_pt}_obs']['i_dis'])])\n",
    "    # Plot 2 method\n",
    "    plt.plot(ms, mean_i_dis_2, label = f'2 step : {obs_pt} pts')\n",
    "    plt.fill_between(ms, mean_i_dis_2 - sd_i_dis_2, mean_i_dis_2 + sd_i_dis_2, alpha=.2)\n",
    "    plt.yscale('log')\n",
    "    # Plot 1_5 method\n",
    "    plt.plot(ms, mean_i_dis_1_5, label = f'1_5 step : {obs_pt} pts')\n",
    "    plt.fill_between(ms, mean_i_dis_1_5 - sd_i_dis_1_5, mean_i_dis_1_5 + sd_i_dis_1_5, alpha=.2)\n",
    "    plt.yscale('log')\n",
    "plt.ylabel('NRMSE')\n",
    "plt.xlabel('Number of functions')\n",
    "plt.legend()\n",
    "plt.show()"
   ]
  },
  {
   "cell_type": "code",
   "execution_count": 12,
   "metadata": {},
   "outputs": [
    {
     "data": {
      "image/png": "[encoded data removed]",
      "text/plain": [
       "<Figure size 640x480 with 1 Axes>"
      ]
     },
     "metadata": {},
     "output_type": "display_data"
    }
   ],
   "source": [
    "# Out of distribution\n",
    "plt.title('Out of distribution error: GP(0,RBF(0.2))')\n",
    "ms = NUM_FUN_LIST\n",
    "OBS_PTS_LIST = [2,4,8]\n",
    "for obs_pt in OBS_PTS_LIST:\n",
    "    # 1_5 method\n",
    "    mean_o_dis_1_5 = jnp.array([jnp.mean(e) for e in jnp.array(err['1_5_mthd'][f'{obs_pt}_obs']['o_dis'])])\n",
    "    sd_o_dis_1_5 = jnp.array([jnp.std(e) for e in jnp.array(err['1_5_mthd'][f'{obs_pt}_obs']['o_dis'])])\n",
    "    # 2 method\n",
    "    mean_o_dis_2 = jnp.array([jnp.mean(e) for e in jnp.array(err['2_mthd'][f'{obs_pt}_obs']['o_dis'])])\n",
    "    sd_o_dis_2 = jnp.array([jnp.std(e) for e in jnp.array(err['2_mthd'][f'{obs_pt}_obs']['o_dis'])])\n",
    "    # Plot 2 method\n",
    "    plt.plot(ms, mean_o_dis_2, label = f'2 step : {obs_pt} pts')\n",
    "    plt.fill_between(ms, mean_o_dis_2 - sd_o_dis_2, mean_o_dis_2 + sd_o_dis_2, alpha=.2)\n",
    "    plt.yscale('log')\n",
    "    # Plot 1_5 method\n",
    "    plt.plot(ms, mean_o_dis_1_5, label = f'1_5 step : {obs_pt} pts')\n",
    "    plt.fill_between(ms, mean_o_dis_1_5 - sd_o_dis_1_5, mean_o_dis_1_5 + sd_o_dis_1_5, alpha=.2)\n",
    "    plt.yscale('log')\n",
    "plt.ylabel('NRMSE')\n",
    "plt.xlabel('Number of functions')\n",
    "plt.legend()\n",
    "plt.show()"
   ]
  },
  {
   "cell_type": "code",
   "execution_count": null,
   "metadata": {},
   "outputs": [],
   "source": []
  }
 ],
 "metadata": {
  "kernelspec": {
   "display_name": "keql",
   "language": "python",
   "name": "python3"
  },
  "language_info": {
   "codemirror_mode": {
    "name": "ipython",
    "version": 3
   },
   "file_extension": ".py",
   "mimetype": "text/x-python",
   "name": "python",
   "nbconvert_exporter": "python",
   "pygments_lexer": "ipython3",
   "version": "3.12.4"
  }
 },
 "nbformat": 4,
 "nbformat_minor": 2
}
