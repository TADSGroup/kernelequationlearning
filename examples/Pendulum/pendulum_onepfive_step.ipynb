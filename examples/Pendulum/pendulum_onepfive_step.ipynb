{
  "cells": [
    {
      "attachments": {},
      "cell_type": "markdown",
      "metadata": {
        "id": "_Lr5zZpo4oaV"
      },
      "source": [
        "### Pendulum: One-pfive step Method + Gradient Descent"
      ]
    },
    {
      "cell_type": "code",
      "execution_count": 1,
      "metadata": {},
      "outputs": [],
      "source": [
        "import sys\n",
        "#sys.path.append('/home/juanfelipe/Desktop/research/keql/source')\n",
        "sys.path.append('/Users/yasaminjalalian/Repos/keql/source')"
      ]
    },
    {
      "cell_type": "code",
      "execution_count": 2,
      "metadata": {
        "id": "0XfbL3pvnk27"
      },
      "outputs": [],
      "source": [
        "import numpy as np\n",
        "from tqdm import tqdm\n",
        "import matplotlib.pyplot as plt \n",
        "from sklearn.kernel_ridge import KernelRidge\n",
        "from sklearn.metrics import mean_squared_error\n",
        "from parameter_learning import * \n",
        "from plotlib import *\n",
        "from models import * \n",
        "from kernels import *\n",
        "from data_loader import *\n",
        "from loss import *\n",
        "from utils import *\n",
        "\n",
        "import jax\n",
        "import jax.numpy as jnp\n",
        "from jax import grad, jit\n",
        "from jax.scipy.optimize import minimize\n",
        "\n",
        "from functools import partial # for jit to make codes faster"
      ]
    },
    {
      "cell_type": "code",
      "execution_count": 3,
      "metadata": {},
      "outputs": [],
      "source": [
        "import os\n",
        "os.environ[\"XLA_PYTHON_CLIENT_PREALLOCATE\"] = \"false\"\n",
        "\n",
        "from jax.config import config; \n",
        "config.update(\"jax_enable_x64\", True)"
      ]
    },
    {
      "cell_type": "code",
      "execution_count": 4,
      "metadata": {},
      "outputs": [],
      "source": [
        "model = 'pendulum'"
      ]
    },
    {
      "cell_type": "code",
      "execution_count": 5,
      "metadata": {},
      "outputs": [],
      "source": [
        "# Import values from 2-step\n",
        "two_step_dict = np.load('data/two_step_dict.npy', allow_pickle=True)\n",
        "two_step_dict = two_step_dict.item()"
      ]
    },
    {
      "cell_type": "code",
      "execution_count": 6,
      "metadata": {},
      "outputs": [
        {
          "data": {
            "text/plain": [
              "{'optim_sgm_u': array([0.14840741, 0.88888889, 0.88888889]),\n",
              " 'optim_nugget_u': array([1.e-14, 1.e-08, 1.e-14]),\n",
              " 'rkhs_u': [1.1833129901359858, 10.115344144667745, 136.21275744971464],\n",
              " 'optim_sgm_P': 0.8152750039562016,\n",
              " 'optim_nugget_P': 1e-08,\n",
              " 'nugget_P': 1e-07,\n",
              " 'rkhs_P': 4038.900702619145,\n",
              " 'f_pred_test': array([  4.52012592,   6.21651415,   7.78734153,   0.0677476 ,\n",
              "        -13.1670231 , -10.84996918,  10.14056579,  38.04548527,\n",
              "         24.77680788,   4.03514364,   2.39721262,   2.15514416,\n",
              "          2.18068307,   2.53098877,   3.19260485,   4.06413591,\n",
              "          4.96255826,   5.66164536,   5.95623916,   5.73084622,\n",
              "          3.45693687,   3.49929028,   3.9472561 ,   4.93767004,\n",
              "          6.38396929,   7.94897049,   9.13204699,   9.36459357,\n",
              "          8.12846995,   5.23276092])}"
            ]
          },
          "execution_count": 6,
          "metadata": {},
          "output_type": "execute_result"
        }
      ],
      "source": [
        "two_step_dict"
      ]
    },
    {
      "attachments": {},
      "cell_type": "markdown",
      "metadata": {
        "id": "R0dMsZlmnk27"
      },
      "source": [
        "### Cost function"
      ]
    },
    {
      "cell_type": "markdown",
      "metadata": {},
      "source": [
        "1. Test by M = [True]."
      ]
    },
    {
      "cell_type": "code",
      "execution_count": 7,
      "metadata": {},
      "outputs": [],
      "source": [
        "def L(Z, X, U, M, f, two_step_dict, lmbd):\n",
        "    \"\"\"Cost function for 1.5-step method.\n",
        "    \n",
        "    Args:\n",
        "        Z: Vector [Z^1 Z^2 Z^3]^T. m*N\n",
        "        X: List of mN points of dimension d.\n",
        "        U: List of N1+N2+N3 values of functions u^(1),...u^(N).\n",
        "        M: Bolean array which contains where true values reside.\n",
        "        f: List of mN values of functions u^(1),...u^(N).\n",
        "        two_step_dict: Dictionary with values from 2-step.\n",
        "        lmbd: Lagrange multiplier in the loss function.\n",
        "    Returns:\n",
        "        scalar: a cost of this solution.    \n",
        "    \"\"\" \n",
        "\n",
        "    ### Set up\n",
        "    N = 10 \n",
        "    m = 3 \n",
        "    #print('Z:', Z)\n",
        "    # Constrain the value of Z with known info\n",
        "    #Z = jnp.where(M, U, Z)\n",
        "    # Just use Z_warm instead of using line 21.\n",
        "    # Cd + 1 = 4\n",
        "    S = jnp.zeros((N*m,4))\n",
        "    \n",
        "    # Split Z\n",
        "    for i in range(m):\n",
        "        Zi = Z[i*N:(i+1)*N]\n",
        "        optim_sgm = two_step_dict.get('optim_sgm_u')[i]\n",
        "        optim_nugget = two_step_dict.get('optim_nugget_u')[i]\n",
        "        G = K(Gaussian, X[:N], X[:N], optim_sgm) \n",
        "        alphas = jnp.linalg.solve(G + optim_nugget*jnp.eye(N),Zi)\n",
        "\n",
        "        Zi_x = jnp.dot(K_dot(Gaussian, X[:N], X[:N], optim_sgm, 0), alphas)\n",
        "        Zi_xx = jnp.dot(K_2dot(Gaussian, X[:N], X[:N], optim_sgm, 0,0), alphas)\n",
        "\n",
        "        Si = jnp.vstack((X[:N],Zi, Zi_x,Zi_xx)).T\n",
        "        # print shapes and values here\n",
        "        S = S.at[i*N:(i+1)*N,:].set(Si)\n",
        "    # Scaling S_N\n",
        "    scaler_s_train = MinMaxScaler()\n",
        "    S = scaler_s_train.fit_transform(S)\n",
        "    # Gamma(S_N,S_N)\n",
        "    optim_sgm_P = two_step_dict.get('optim_sgm_P') \n",
        "    Gamma = K(Gaussian, S, S, optim_sgm_P)\n",
        "    nugget_P = two_step_dict.get('nugget_P') \n",
        "    Gamma = Gamma + nugget_P*jnp.eye(jnp.size(Gamma,0))\n",
        "    #print(\"cond(Gamma) = \", jnp.linalg.cond(Gamma))\n",
        "\n",
        "    # (Gamma(S_N,S_N) + alpha_Gamma*I)^-1 * f\n",
        "    b = jnp.linalg.solve(Gamma,f)\n",
        "\n",
        "    # First term\n",
        "    L1 = jnp.dot(f.T , b) / two_step_dict.get('rkhs_P')\n",
        "    #print('L1: ', L1)\n",
        "\n",
        "    # Second term\n",
        "    sigma_K = jnp.array(two_step_dict.get('optim_sgm_u'))\n",
        "    nugget_K = two_step_dict.get('optim_nugget_u')\n",
        "    K_XNs = []\n",
        "    for i in range(m):\n",
        "        K_XN = K(Gaussian,X[:N],X[:N],sigma_K[i]) \n",
        "        K_XNs.append(K_XN + nugget_K[i]*jnp.eye(N))\n",
        "    \n",
        "    L2 = 0.\n",
        "    \n",
        "    for i in range(m):\n",
        "        #print('Z_constrained:', Z_warm)\n",
        "        Zi = Z[i*N:(i+1)*N] # print out each of these and display the graphs here ! \n",
        "        c = jnp.linalg.solve(K_XNs[i],Zi)\n",
        "        #print(K_XNs[i][:5,:5])\n",
        "        #print(Zi)\n",
        "        #print(Zi.shape)\n",
        "        #print(c)\n",
        "        L2 += jnp.reshape(jnp.dot(Zi.T , c),()) / two_step_dict.get('rkhs_u')[i]\n",
        "        #print('L2_',i,':',jnp.reshape(jnp.dot(Zi.T , c),()) / two_step_dict.get('rkhs_u')[i] )      \n",
        "    \n",
        "    return L1 + lmbd*L2\n",
        "    "
      ]
    },
    {
      "attachments": {},
      "cell_type": "markdown",
      "metadata": {
        "id": "zDReXRvPnk27"
      },
      "source": [
        "#### Gradient descent"
      ]
    },
    {
      "attachments": {},
      "cell_type": "markdown",
      "metadata": {
        "id": "3SObhiRznk27"
      },
      "source": [
        "Training data"
      ]
    },
    {
      "cell_type": "code",
      "execution_count": 8,
      "metadata": {
        "id": "E9BVaRatnk27"
      },
      "outputs": [],
      "source": [
        "# First column in Gamma(S_N,S_N)\n",
        "X = x_test.flatten() # N*m * 1\n",
        "\n",
        "# Second column in Gamma(S_N,S_N)\n",
        "U = u_test.T.reshape(N*m,) # N*m * 1\n",
        "\n",
        "# f(X_N)\n",
        "#f = f_Test(model,e_test)\n",
        "f = two_step_dict['f_pred_test']"
      ]
    },
    {
      "attachments": {},
      "cell_type": "markdown",
      "metadata": {
        "id": "lA8nCyg_nk28"
      },
      "source": [
        "Initial guess: `Z_warm`"
      ]
    },
    {
      "cell_type": "code",
      "execution_count": 9,
      "metadata": {},
      "outputs": [
        {
          "name": "stderr",
          "output_type": "stream",
          "text": [
            "WARNING:absl:No GPU/TPU found, falling back to CPU. (Set TF_CPP_MIN_LOG_LEVEL=0 and rerun for more info.)\n"
          ]
        }
      ],
      "source": [
        "# Load values of U predicted from 2-step\n",
        "u_pred_test = np.load('data/u_pred_test.npy')\n",
        "u_x_pred_test = np.load('data/u_x_pred_test.npy')\n",
        "u_xx_pred_test = np.load('data/u_xx_pred_test.npy')\n",
        "# Build Z_warm\n",
        "Z_warm = jnp.array(u_pred_test.T.reshape(N*m,)) "
      ]
    },
    {
      "cell_type": "code",
      "execution_count": 10,
      "metadata": {},
      "outputs": [],
      "source": [
        "lmbda = 1e5"
      ]
    },
    {
      "cell_type": "code",
      "execution_count": 11,
      "metadata": {},
      "outputs": [
        {
          "data": {
            "text/plain": [
              "DeviceArray(300001.5862481, dtype=float64)"
            ]
          },
          "execution_count": 11,
          "metadata": {},
          "output_type": "execute_result"
        }
      ],
      "source": [
        "L(Z_warm, X, U, M, f, two_step_dict, lmbd=lmbda)"
      ]
    },
    {
      "attachments": {},
      "cell_type": "markdown",
      "metadata": {
        "id": "w_MgRkiDnk28"
      },
      "source": [
        "Initialize the grad functions with `jit` to be efficient"
      ]
    },
    {
      "cell_type": "code",
      "execution_count": 12,
      "metadata": {
        "colab": {
          "base_uri": "https://localhost:8080/"
        },
        "id": "lbXfnabQnk28",
        "outputId": "3877f2f6-f6ca-41b4-eebb-aaec41004fd0"
      },
      "outputs": [
        {
          "data": {
            "text/plain": [
              "DeviceArray([ 3.08269173e+01, -8.27407638e+01,  8.42692156e+01,\n",
              "             -3.02349214e+01,  7.40307777e+04,  7.98210492e+00,\n",
              "             -7.15267764e+00, -2.08974800e+05,  4.84229404e+04,\n",
              "             -7.11664364e-01,  3.32363743e+03, -1.38479461e+04,\n",
              "              2.22024010e+05,  1.68280196e+05, -1.40899931e+05,\n",
              "             -3.84025623e+05, -2.84089894e+05,  1.33000122e+05,\n",
              "              4.41880859e+05, -8.24337278e+04, -1.86820012e+02,\n",
              "              7.80180906e+04, -5.86256715e+03, -1.05888512e+05,\n",
              "             -1.79450822e+04,  1.66447241e+04, -1.01942455e+04,\n",
              "              6.37882386e+04, -8.79406597e+02,  8.46036757e+01],            dtype=float64)"
            ]
          },
          "execution_count": 12,
          "metadata": {},
          "output_type": "execute_result"
        }
      ],
      "source": [
        "grad_Z = grad(L, argnums=0)\n",
        "\n",
        "# Run once to trigger JIT compilation.\n",
        "grad_Z(Z_warm, X, U, M, f, two_step_dict, lmbda)\n",
        "# Warm start here !!!"
      ]
    },
    {
      "attachments": {},
      "cell_type": "markdown",
      "metadata": {
        "id": "KWnglrOmnk28"
      },
      "source": [
        "Run the gradient descent for `100` epochs"
      ]
    },
    {
      "cell_type": "markdown",
      "metadata": {},
      "source": [
        "### Optimization of L"
      ]
    },
    {
      "cell_type": "code",
      "execution_count": 13,
      "metadata": {},
      "outputs": [],
      "source": [
        "# Load the warm-up\n",
        "Z = np.copy(Z_warm)"
      ]
    },
    {
      "cell_type": "code",
      "execution_count": 14,
      "metadata": {},
      "outputs": [],
      "source": [
        "# u_t = u_train.T.reshape(N*m,1)\n",
        "# # Load true gradients from 2-step\n",
        "# u_x_train = np.load('data/u_x_train.npy')\n",
        "# u_xx_train = np.load('data/u_xx_train.npy')\n",
        "# # Build true Z\n",
        "# Z_true = np.hstack([u_t, u_x_train.T.reshape(N*m,1),u_xx_train.T.reshape(N*m,1)])"
      ]
    },
    {
      "cell_type": "code",
      "execution_count": 15,
      "metadata": {},
      "outputs": [],
      "source": [
        "# Only do this for the first time - \n",
        "#Z = np.copy(Z_warm)\n",
        "#Z = np.load('data/Z.npy')"
      ]
    },
    {
      "cell_type": "markdown",
      "metadata": {},
      "source": [
        "0. Run it for more iterations until it actually converges to a minimum!!!\n",
        "1. Line search (using $p_k = - \\nabla f$) using Armijo condition. Pick $\\alpha_k$ such that satisfy the two Wolfe conditions. Test: Loss must always goes down here. \n",
        "2. Newton-Armijo.\n",
        "3. Read Quasi-Newton algorithm in Nocedal, when the Hessian is not PD.  "
      ]
    },
    {
      "cell_type": "code",
      "execution_count": 16,
      "metadata": {
        "colab": {
          "base_uri": "https://localhost:8080/"
        },
        "id": "Z9zAYK3Onk28",
        "outputId": "4fd3b5ca-7ba7-48ea-a37a-5bd73f86e8e7"
      },
      "outputs": [
        {
          "name": "stdout",
          "output_type": "stream",
          "text": [
            "iter: 0\n",
            "loss:  300001.5862300035\n",
            "iter: 10\n",
            "loss:  300001.5861063895\n",
            "iter: 20\n",
            "loss:  300001.5860190572\n",
            "iter: 30\n",
            "loss:  300001.5859317657\n",
            "iter: 40\n",
            "loss:  300001.58584447583\n",
            "iter: 50\n",
            "loss:  300001.5857571872\n",
            "iter: 60\n",
            "loss:  300001.58566990105\n",
            "iter: 70\n",
            "loss:  300001.5855826173\n",
            "iter: 80\n",
            "loss:  300001.5854953358\n",
            "iter: 90\n",
            "loss:  300001.5854080552\n",
            "iter: 100\n",
            "loss:  300001.5853207776\n",
            "iter: 110\n",
            "loss:  300001.58523349714\n",
            "iter: 120\n",
            "loss:  300001.585146218\n",
            "iter: 130\n",
            "loss:  300001.58505894087\n",
            "iter: 140\n",
            "loss:  300001.58497166366\n",
            "iter: 150\n",
            "loss:  300001.584884392\n",
            "iter: 160\n",
            "loss:  300001.58479711815\n",
            "iter: 170\n",
            "loss:  300001.5847098503\n",
            "iter: 180\n",
            "loss:  300001.5846225816\n",
            "iter: 190\n",
            "loss:  300001.58453531505\n",
            "iter: 200\n",
            "loss:  300001.5844480445\n",
            "iter: 210\n",
            "loss:  300001.58436077746\n",
            "iter: 220\n",
            "loss:  300001.58427351236\n",
            "iter: 230\n",
            "loss:  300001.5841862487\n",
            "iter: 240\n",
            "loss:  300001.5840989878\n",
            "iter: 250\n",
            "loss:  300001.5840117246\n",
            "iter: 260\n",
            "loss:  300001.5839244649\n",
            "iter: 270\n",
            "loss:  300001.58383720415\n",
            "iter: 280\n",
            "loss:  300001.58374994673\n",
            "iter: 290\n",
            "loss:  300001.5836626912\n",
            "iter: 300\n",
            "loss:  300001.5835754354\n",
            "iter: 310\n",
            "loss:  300001.58348818263\n",
            "iter: 320\n",
            "loss:  300001.58340092713\n",
            "iter: 330\n",
            "loss:  300001.58331367245\n",
            "iter: 340\n",
            "loss:  300001.5832264218\n",
            "iter: 350\n",
            "loss:  300001.5831391714\n",
            "iter: 360\n",
            "loss:  300001.5830519213\n",
            "iter: 370\n",
            "loss:  300001.582964673\n",
            "iter: 380\n",
            "loss:  300001.58287742716\n",
            "iter: 390\n",
            "loss:  300001.58279018523\n",
            "iter: 400\n",
            "loss:  300001.5827029411\n",
            "iter: 410\n",
            "loss:  300001.5826156968\n",
            "iter: 420\n",
            "loss:  300001.5825284545\n",
            "iter: 430\n",
            "loss:  300001.5824412169\n",
            "iter: 440\n",
            "loss:  300001.5823539756\n",
            "iter: 450\n",
            "loss:  300001.5822667406\n",
            "iter: 460\n",
            "loss:  300001.58217950177\n",
            "iter: 470\n",
            "loss:  300001.58209226595\n",
            "iter: 480\n",
            "loss:  300001.5820050336\n",
            "iter: 490\n",
            "loss:  300001.58191779983\n",
            "iter: 500\n",
            "loss:  300001.58183056745\n",
            "iter: 510\n",
            "loss:  300001.5817433371\n",
            "iter: 520\n",
            "loss:  300001.5816561066\n",
            "iter: 530\n",
            "loss:  300001.58156887925\n",
            "iter: 540\n",
            "loss:  300001.58148165065\n",
            "iter: 550\n",
            "loss:  300001.5813944236\n",
            "iter: 560\n",
            "loss:  300001.5813071984\n",
            "iter: 570\n",
            "loss:  300001.5812199745\n",
            "iter: 580\n",
            "loss:  300001.5811327488\n",
            "iter: 590\n",
            "loss:  300001.5810455242\n",
            "iter: 600\n",
            "loss:  300001.5809583038\n",
            "iter: 610\n",
            "loss:  300001.5808710831\n",
            "iter: 620\n",
            "loss:  300001.5807838618\n",
            "iter: 630\n",
            "loss:  300001.58069664415\n",
            "iter: 640\n",
            "loss:  300001.58060942515\n",
            "iter: 650\n",
            "loss:  300001.5805222086\n",
            "iter: 660\n",
            "loss:  300001.58043499425\n",
            "iter: 670\n",
            "loss:  300001.5803477789\n",
            "iter: 680\n",
            "loss:  300001.58026056184\n",
            "iter: 690\n",
            "loss:  300001.5801733482\n",
            "iter: 700\n",
            "loss:  300001.58008613833\n",
            "iter: 710\n",
            "loss:  300001.57999892865\n",
            "iter: 720\n",
            "loss:  300001.57991171867\n",
            "iter: 730\n",
            "loss:  300001.57982451166\n",
            "iter: 740\n",
            "loss:  300001.57973730285\n",
            "iter: 750\n",
            "loss:  300001.5796500973\n",
            "iter: 760\n",
            "loss:  300001.57956288924\n",
            "iter: 770\n",
            "loss:  300001.57947568595\n",
            "iter: 780\n",
            "loss:  300001.5793884813\n",
            "iter: 790\n",
            "loss:  300001.57930127636\n",
            "iter: 800\n",
            "loss:  300001.57921407453\n",
            "iter: 810\n",
            "loss:  300001.57912687364\n",
            "iter: 820\n",
            "loss:  300001.5790396736\n",
            "iter: 830\n",
            "loss:  300001.5789524761\n",
            "iter: 840\n",
            "loss:  300001.5788652779\n",
            "iter: 850\n",
            "loss:  300001.5787780809\n",
            "iter: 860\n",
            "loss:  300001.5786908808\n",
            "iter: 870\n",
            "loss:  300001.57860368845\n",
            "iter: 880\n",
            "loss:  300001.5785164939\n",
            "iter: 890\n",
            "loss:  300001.5784293012\n",
            "iter: 900\n",
            "loss:  300001.5783421089\n",
            "iter: 910\n",
            "loss:  300001.57825491915\n",
            "iter: 920\n",
            "loss:  300001.57816773007\n",
            "iter: 930\n",
            "loss:  300001.57808053715\n",
            "iter: 940\n",
            "loss:  300001.5779933509\n",
            "iter: 950\n",
            "loss:  300001.5779061646\n",
            "iter: 960\n",
            "loss:  300001.5778189799\n",
            "iter: 970\n",
            "loss:  300001.57773179194\n",
            "iter: 980\n",
            "loss:  300001.5776446086\n",
            "iter: 990\n",
            "loss:  300001.57755742205\n"
          ]
        }
      ],
      "source": [
        "# mses = []\n",
        "# S = jnp.zeros((N*m,4))\n",
        "# kernel = Gaussian\n",
        "# If trained previously use Z\n",
        "# if np.all(Z != Z_warm):\n",
        "#     Z = np.load('data/Z.npy')\n",
        "# else:\n",
        "#     Z = np.copy(Z_warm)\n",
        "Z = np.copy(Z_warm)\n",
        "learning_rate = 1e-12\n",
        "for i in range(1000):\n",
        "    delta_Z = grad_Z(Z, X, U, M, f, two_step_dict, lmbda)\n",
        "    lr = jnp.linalg.norm(Z)/jnp.linalg.norm(delta_Z)*learning_rate\n",
        "    Z -= lr * delta_Z\n",
        "    \n",
        "    # # Pred\n",
        "    # for j in range(m):\n",
        "    #     Zi = Z[j*N:(j+1)*N]\n",
        "    #     #optim_sgm , optim_lmbd = grid_search_RBF_JAX(X[:N].reshape(N,1),Zi.reshape(-1,1))\n",
        "    #     optim_sgm , optim_lmbd = 0.5, 1e-4\n",
        "    #     G = K(kernel, X[:N], X[:N], optim_sgm) \n",
        "    #     alphas = jnp.linalg.solve(G + optim_lmbd*jnp.eye(N),Zi)\n",
        "    #     Zi_x = jnp.dot(K_dot(kernel, X[:N], X[:N], optim_sgm, 0), alphas)\n",
        "    #     Zi_xx = jnp.dot(K_2dot(kernel, X[:N], X[:N], optim_sgm, 0,0), alphas)\n",
        "    #     Si = jnp.vstack((X[:N],Zi, Zi_x,Zi_xx)).T\n",
        "    #     S = S.at[j*N:(j+1)*N,:].set(Si)\n",
        "    # Spred = S[:,-3:]\n",
        "    # mse = mean_squared_error(Spred,Z_true)/mean_squared_error(0*Spred,Z_true)\n",
        "    # mses.append(mse)\n",
        "    if i % 10 == 0:\n",
        "        print('iter:', i )\n",
        "        print('loss: ',L(Z, X, U, M, f, two_step_dict, lmbda))\n",
        "        #print('mse:', mse)\n",
        "    \n",
        "# Save at the end of iterations\n",
        "#np.save('data/Z.npy',Z)"
      ]
    },
    {
      "cell_type": "markdown",
      "metadata": {},
      "source": [
        "- If it does decrease the loss for 10 steps then look for a different alpha, say alpha bigger than it was to make the algorithm more efficient ( if we find for example a flat region)."
      ]
    },
    {
      "cell_type": "code",
      "execution_count": 17,
      "metadata": {},
      "outputs": [
        {
          "data": {
            "text/plain": [
              "DeviceArray(False, dtype=bool)"
            ]
          },
          "execution_count": 17,
          "metadata": {},
          "output_type": "execute_result"
        }
      ],
      "source": [
        "np.all(Z_warm==Z)"
      ]
    },
    {
      "cell_type": "markdown",
      "metadata": {},
      "source": [
        "Evaluate `Z`"
      ]
    },
    {
      "cell_type": "code",
      "execution_count": 18,
      "metadata": {},
      "outputs": [
        {
          "name": "stderr",
          "output_type": "stream",
          "text": [
            "  0%|          | 0/3 [00:00<?, ?it/s]"
          ]
        },
        {
          "name": "stderr",
          "output_type": "stream",
          "text": [
            "100%|██████████| 3/3 [00:00<00:00, 11.47it/s]\n"
          ]
        }
      ],
      "source": [
        "# Build S_N - Training data\n",
        "S = jnp.zeros((N*m,4))\n",
        "kernel = Gaussian\n",
        "# Split Z\n",
        "for i in tqdm(range(m)):\n",
        "    Zi = Z[i*N:(i+1)*N]\n",
        "    optim_sgm , optim_lmbd = two_step_dict.get('optim_sgm_u')[i], two_step_dict.get('optim_nugget_u')[i]\n",
        "    G = K(kernel, X[:N], X[:N], optim_sgm) \n",
        "    alphas = jnp.linalg.solve(G + optim_lmbd*jnp.eye(N),Zi)\n",
        "    Zi_x = jnp.dot(K_dot(kernel, X[:N], X[:N], optim_sgm, 0), alphas)\n",
        "    Zi_xx = jnp.dot(K_2dot(kernel, X[:N], X[:N], optim_sgm, 0,0), alphas)\n",
        "    Si = jnp.vstack((X[:N],Zi, Zi_x,Zi_xx)).T\n",
        "    S = S.at[i*N:(i+1)*N,:].set(Si)\n",
        "\n",
        "# Load gradients from 2-step\n",
        "u_x_pred_test  = np.load('data/u_x_pred_test.npy')\n",
        "u_xx_pred_test = np.load('data/u_xx_pred_test.npy')\n",
        "s_test = np.hstack((x_test.reshape(-1,1),u_test.T.reshape(-1,1),u_x_pred_test.T.reshape(-1,1),u_xx_pred_test.T.reshape(-1,1)))  # 30 * 4\n",
        "f_train = f_Train(model)\n",
        "f_test = f_Test(model)\n",
        "scaler_s_train = MinMaxScaler()\n",
        "s_train_s = scaler_s_train.fit_transform(S)\n",
        "s_test_s = scaler_s_train.transform(s_test)\n",
        "\n",
        "optim_sgm_P, optim_nugget_P = grid_search_RBF(s_train_s,f_test)\n",
        "\n",
        "krr_optimal_P = KernelRidge(kernel='rbf', alpha = two_step_dict.get('optim_nugget_P'), gamma=1/(2*(two_step_dict.get('optim_sgm_P')**2))) \n",
        "krr_optimal_P.fit(s_train_s, f_test) \n",
        "f_pred_train = krr_optimal_P.predict(s_train_s) \n",
        "f_pred_test = krr_optimal_P.predict(s_test_s)"
      ]
    },
    {
      "cell_type": "code",
      "execution_count": 19,
      "metadata": {},
      "outputs": [
        {
          "name": "stderr",
          "output_type": "stream",
          "text": [
            "/Users/yasaminjalalian/opt/anaconda3/envs/CG/lib/python3.7/site-packages/ipykernel_launcher.py:10: UserWarning: Matplotlib is currently using module://matplotlib_inline.backend_inline, which is a non-GUI backend, so cannot show the figure.\n",
            "  # Remove the CWD from sys.path while we load stuff.\n"
          ]
        },
        {
          "data": {
            "image/png": "[encoded data removed]",
            "text/plain": [
              "<Figure size 720x144 with 3 Axes>"
            ]
          },
          "metadata": {
            "needs_background": "light"
          },
          "output_type": "display_data"
        }
      ],
      "source": [
        "# Plot at testing points\n",
        "fig, axs = plt.subplots(nrows = 1, ncols=3 , figsize = (10, 2),constrained_layout=True)\n",
        "\n",
        "for i in range(m):\n",
        "    axs[i].plot(x_test[i*N_test:(i+1)*N_test], f_pred_test[i*N_test:(i+1)*N_test], marker= 'o', markevery = idx[i], label = 'pred')\n",
        "    axs[i].plot(x_test[i*N_test:(i+1)*N_test], f_test[i*N_test:(i+1)*N_test] ,     marker= 'o', markevery = idx[i], label = 'true')\n",
        "    axs[i].legend()\n",
        "    axs[i].set_title('$P_{true}$ vs $P_{pred}$')\n",
        "\n",
        "fig.show()"
      ]
    }
  ],
  "metadata": {
    "colab": {
      "provenance": []
    },
    "kernelspec": {
      "display_name": "base",
      "language": "python",
      "name": "python3"
    },
    "language_info": {
      "codemirror_mode": {
        "name": "ipython",
        "version": 3
      },
      "file_extension": ".py",
      "mimetype": "text/x-python",
      "name": "python",
      "nbconvert_exporter": "python",
      "pygments_lexer": "ipython3",
      "version": "3.7.13"
    },
    "vscode": {
      "interpreter": {
        "hash": "9f30f608a882a0e3e1ee7bdaf111a2fb524766c624535f9d75a6d8e97b170942"
      }
    }
  },
  "nbformat": 4,
  "nbformat_minor": 0
}
