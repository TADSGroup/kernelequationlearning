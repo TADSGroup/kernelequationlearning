{
 "cells": [
  {
   "cell_type": "code",
   "execution_count": 4,
   "metadata": {},
   "outputs": [],
   "source": [
    "import jax.numpy as jnp\n",
    "import jax\n",
    "from jax.random import PRNGKey as pkey"
   ]
  },
  {
   "cell_type": "code",
   "execution_count": 2,
   "metadata": {},
   "outputs": [
    {
     "name": "stdout",
     "output_type": "stream",
     "text": [
      "\u001b[0;31mSignature:\u001b[0m\n",
      "\u001b[0mjnp\u001b[0m\u001b[0;34m.\u001b[0m\u001b[0mlinalg\u001b[0m\u001b[0;34m.\u001b[0m\u001b[0mlstsq\u001b[0m\u001b[0;34m(\u001b[0m\u001b[0;34m\u001b[0m\n",
      "\u001b[0;34m\u001b[0m    \u001b[0ma\u001b[0m\u001b[0;34m:\u001b[0m \u001b[0;34m'ArrayLike'\u001b[0m\u001b[0;34m,\u001b[0m\u001b[0;34m\u001b[0m\n",
      "\u001b[0;34m\u001b[0m    \u001b[0mb\u001b[0m\u001b[0;34m:\u001b[0m \u001b[0;34m'ArrayLike'\u001b[0m\u001b[0;34m,\u001b[0m\u001b[0;34m\u001b[0m\n",
      "\u001b[0;34m\u001b[0m    \u001b[0mrcond\u001b[0m\u001b[0;34m:\u001b[0m \u001b[0;34m'float | None'\u001b[0m \u001b[0;34m=\u001b[0m \u001b[0;32mNone\u001b[0m\u001b[0;34m,\u001b[0m\u001b[0;34m\u001b[0m\n",
      "\u001b[0;34m\u001b[0m    \u001b[0;34m*\u001b[0m\u001b[0;34m,\u001b[0m\u001b[0;34m\u001b[0m\n",
      "\u001b[0;34m\u001b[0m    \u001b[0mnumpy_resid\u001b[0m\u001b[0;34m:\u001b[0m \u001b[0;34m'bool'\u001b[0m \u001b[0;34m=\u001b[0m \u001b[0;32mFalse\u001b[0m\u001b[0;34m,\u001b[0m\u001b[0;34m\u001b[0m\n",
      "\u001b[0;34m\u001b[0m\u001b[0;34m)\u001b[0m \u001b[0;34m->\u001b[0m \u001b[0;34m'tuple[Array, Array, Array, Array]'\u001b[0m\u001b[0;34m\u001b[0m\u001b[0;34m\u001b[0m\u001b[0m\n",
      "\u001b[0;31mDocstring:\u001b[0m\n",
      "Return the least-squares solution to a linear equation.\n",
      "\n",
      "JAX implementation of :func:`numpy.linalg.lstsq`.\n",
      "\n",
      "Args:\n",
      "  a: array of shape ``(M, N)`` representing the coefficient matrix.\n",
      "  b: array of shape ``(M,)`` or ``(M, K)`` representing the right-hand side.\n",
      "  rcond: Cut-off ratio for small singular values. Singular values smaller than\n",
      "    ``rcond * largest_singular_value`` are treated as zero. If None (default),\n",
      "    the optimal value will be used to reduce floating point errors.\n",
      "  numpy_resid: If True, compute and return residuals in the same way as NumPy's\n",
      "    `linalg.lstsq`. This is necessary if you want to precisely replicate NumPy's\n",
      "    behavior. If False (default), a more efficient method is used to compute residuals.\n",
      "\n",
      "Returns:\n",
      "  Tuple of arrays ``(x, resid, rank, s)`` where\n",
      "\n",
      "  - ``x`` is a shape ``(N,)`` or ``(N, K)`` array containing the least-squares solution.\n",
      "  - ``resid`` is the sum of squared residual of shape ``()`` or ``(K,)``.\n",
      "  - ``rank`` is the rank of the matrix ``a``.\n",
      "  - ``s`` is the singular values of the matrix ``a``.\n",
      "\n",
      "Examples:\n",
      "  >>> a = jnp.array([[1, 2],\n",
      "  ...                [3, 4]])\n",
      "  >>> b = jnp.array([5, 6])\n",
      "  >>> x, _, _, _ = jnp.linalg.lstsq(a, b)\n",
      "  >>> with jnp.printoptions(precision=3):\n",
      "  ...   print(x)\n",
      "  [-4.   4.5]\n",
      "\u001b[0;31mFile:\u001b[0m      ~/miniconda3/envs/keql/lib/python3.12/site-packages/jax/_src/numpy/linalg.py\n",
      "\u001b[0;31mType:\u001b[0m      function"
     ]
    }
   ],
   "source": []
  }
 ],
 "metadata": {
  "kernelspec": {
   "display_name": "keql",
   "language": "python",
   "name": "python3"
  },
  "language_info": {
   "codemirror_mode": {
    "name": "ipython",
    "version": 3
   },
   "file_extension": ".py",
   "mimetype": "text/x-python",
   "name": "python",
   "nbconvert_exporter": "python",
   "pygments_lexer": "ipython3",
   "version": "3.12.3"
  }
 },
 "nbformat": 4,
 "nbformat_minor": 2
}
