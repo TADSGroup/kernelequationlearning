{
 "cells": [
  {
   "cell_type": "code",
   "execution_count": 2,
   "metadata": {},
   "outputs": [],
   "source": [
    "import jax.numpy as jnp\n",
    "import jax\n",
    "jax.config.update(\"jax_enable_x64\", True)\n",
    "from jax import jit,grad,hessian,jacfwd,jacrev\n",
    "import numpy as np\n",
    "import matplotlib.pyplot as plt\n",
    "import jax\n",
    "from tqdm.auto import tqdm\n",
    "plt.style.use(\"ggplot\")\n",
    "\n",
    "from importlib import reload\n",
    "import KernelTools\n",
    "reload(KernelTools)\n",
    "from KernelTools import *\n",
    "from EquationModel import InducedRKHS,OperatorModel,CholOperatorModel\n",
    "from parabolic_data_utils import (\n",
    "    build_burgers_data,build_tx_grid,\n",
    "    build_tx_grid_chebyshev,setup_problem_data\n",
    ")\n",
    "from plotting import plot_input_data,plot_compare_error\n",
    "from evaluation_metrics import compute_results    \n",
    "\n",
    "\n",
    "from Kernels import (\n",
    "    get_centered_scaled_poly_kernel,\n",
    "    get_anisotropic_gaussianRBF,\n",
    "    fit_kernel_params,\n",
    "    setup_matern,log1pexp,inv_log1pexp,get_gaussianRBF\n",
    ")"
   ]
  },
  {
   "cell_type": "code",
   "execution_count": 3,
   "metadata": {},
   "outputs": [
    {
     "ename": "KeyboardInterrupt",
     "evalue": "",
     "output_type": "error",
     "traceback": [
      "\u001b[0;31m---------------------------------------------------------------------------\u001b[0m",
      "\u001b[0;31mKeyboardInterrupt\u001b[0m                         Traceback (most recent call last)",
      "Cell \u001b[0;32mIn[3], line 1\u001b[0m\n\u001b[0;32m----> 1\u001b[0m base_matern_family \u001b[38;5;241m=\u001b[39m setup_matern(\u001b[38;5;241m20\u001b[39m)\n\u001b[1;32m      3\u001b[0m base_kernel_family \u001b[38;5;241m=\u001b[39m setup_matern(\u001b[38;5;241m3\u001b[39m)\u001b[38;5;66;03m#get_gaussianRBF\u001b[39;00m\n\u001b[1;32m      4\u001b[0m \u001b[38;5;28;01mdef\u001b[39;00m \u001b[38;5;21mparam_kernel\u001b[39m(x,y,params):\n",
      "File \u001b[0;32m~/keql/keql_tools/Kernels.py:211\u001b[0m, in \u001b[0;36msetup_matern\u001b[0;34m(p, eps)\u001b[0m\n\u001b[1;32m    209\u001b[0m d \u001b[38;5;241m=\u001b[39m sym\u001b[38;5;241m.\u001b[39msymbols(\u001b[38;5;124m'\u001b[39m\u001b[38;5;124md\u001b[39m\u001b[38;5;124m'\u001b[39m)\n\u001b[1;32m    210\u001b[0m matern \u001b[38;5;241m=\u001b[39m \u001b[38;5;28msum\u001b[39m([c \u001b[38;5;241m*\u001b[39m (d\u001b[38;5;241m*\u001b[39m\u001b[38;5;241m*\u001b[39mpower) \u001b[38;5;28;01mfor\u001b[39;00m c,power \u001b[38;5;129;01min\u001b[39;00m \u001b[38;5;28mzip\u001b[39m(coefficients,powers)])\u001b[38;5;241m*\u001b[39msym\u001b[38;5;241m.\u001b[39mexp(exp_multiplier \u001b[38;5;241m*\u001b[39m d)\n\u001b[0;32m--> 211\u001b[0m S \u001b[38;5;241m=\u001b[39m series(sym\u001b[38;5;241m.\u001b[39mlog(matern),d,\u001b[38;5;241m0\u001b[39m,\u001b[38;5;241m2\u001b[39m\u001b[38;5;241m*\u001b[39mp\u001b[38;5;241m+\u001b[39m\u001b[38;5;241m1\u001b[39m)\u001b[38;5;241m.\u001b[39mremoveO()\n\u001b[1;32m    212\u001b[0m polyS \u001b[38;5;241m=\u001b[39m sym\u001b[38;5;241m.\u001b[39mPoly(S,d)\n\u001b[1;32m    213\u001b[0m asy_coeffs \u001b[38;5;241m=\u001b[39m polyS\u001b[38;5;241m.\u001b[39mcoeffs()\n",
      "File \u001b[0;32m~/miniconda3/envs/alex_keql/lib/python3.12/site-packages/sympy/series/series.py:63\u001b[0m, in \u001b[0;36mseries\u001b[0;34m(expr, x, x0, n, dir)\u001b[0m\n\u001b[1;32m      5\u001b[0m \u001b[38;5;250m\u001b[39m\u001b[38;5;124;03m\"\"\"Series expansion of expr around point `x = x0`.\u001b[39;00m\n\u001b[1;32m      6\u001b[0m \n\u001b[1;32m      7\u001b[0m \u001b[38;5;124;03mParameters\u001b[39;00m\n\u001b[0;32m   (...)\u001b[0m\n\u001b[1;32m     60\u001b[0m \u001b[38;5;124;03msympy.core.expr.Expr.series: See the docstring of Expr.series() for complete details of this wrapper.\u001b[39;00m\n\u001b[1;32m     61\u001b[0m \u001b[38;5;124;03m\"\"\"\u001b[39;00m\n\u001b[1;32m     62\u001b[0m expr \u001b[38;5;241m=\u001b[39m sympify(expr)\n\u001b[0;32m---> 63\u001b[0m \u001b[38;5;28;01mreturn\u001b[39;00m expr\u001b[38;5;241m.\u001b[39mseries(x, x0, n, \u001b[38;5;28mdir\u001b[39m)\n",
      "File \u001b[0;32m~/miniconda3/envs/alex_keql/lib/python3.12/site-packages/sympy/core/expr.py:3015\u001b[0m, in \u001b[0;36mExpr.series\u001b[0;34m(self, x, x0, n, dir, logx, cdir)\u001b[0m\n\u001b[1;32m   3012\u001b[0m \u001b[38;5;28;01mif\u001b[39;00m x\u001b[38;5;241m.\u001b[39mis_positive \u001b[38;5;129;01mis\u001b[39;00m x\u001b[38;5;241m.\u001b[39mis_negative \u001b[38;5;129;01mis\u001b[39;00m \u001b[38;5;28;01mNone\u001b[39;00m \u001b[38;5;129;01mor\u001b[39;00m x\u001b[38;5;241m.\u001b[39mis_Symbol \u001b[38;5;129;01mis\u001b[39;00m \u001b[38;5;129;01mnot\u001b[39;00m \u001b[38;5;28;01mTrue\u001b[39;00m:\n\u001b[1;32m   3013\u001b[0m     \u001b[38;5;66;03m# replace x with an x that has a positive assumption\u001b[39;00m\n\u001b[1;32m   3014\u001b[0m     xpos \u001b[38;5;241m=\u001b[39m Dummy(\u001b[38;5;124m'\u001b[39m\u001b[38;5;124mx\u001b[39m\u001b[38;5;124m'\u001b[39m, positive\u001b[38;5;241m=\u001b[39m\u001b[38;5;28;01mTrue\u001b[39;00m)\n\u001b[0;32m-> 3015\u001b[0m     rv \u001b[38;5;241m=\u001b[39m \u001b[38;5;28mself\u001b[39m\u001b[38;5;241m.\u001b[39msubs(x, xpos)\u001b[38;5;241m.\u001b[39mseries(xpos, x0, n, \u001b[38;5;28mdir\u001b[39m, logx\u001b[38;5;241m=\u001b[39mlogx, cdir\u001b[38;5;241m=\u001b[39mcdir)\n\u001b[1;32m   3016\u001b[0m     \u001b[38;5;28;01mif\u001b[39;00m n \u001b[38;5;129;01mis\u001b[39;00m \u001b[38;5;28;01mNone\u001b[39;00m:\n\u001b[1;32m   3017\u001b[0m         \u001b[38;5;28;01mreturn\u001b[39;00m (s\u001b[38;5;241m.\u001b[39msubs(xpos, x) \u001b[38;5;28;01mfor\u001b[39;00m s \u001b[38;5;129;01min\u001b[39;00m rv)\n",
      "File \u001b[0;32m~/miniconda3/envs/alex_keql/lib/python3.12/site-packages/sympy/core/expr.py:3023\u001b[0m, in \u001b[0;36mExpr.series\u001b[0;34m(self, x, x0, n, dir, logx, cdir)\u001b[0m\n\u001b[1;32m   3021\u001b[0m \u001b[38;5;28;01mfrom\u001b[39;00m \u001b[38;5;21;01msympy\u001b[39;00m\u001b[38;5;21;01m.\u001b[39;00m\u001b[38;5;21;01mseries\u001b[39;00m\u001b[38;5;21;01m.\u001b[39;00m\u001b[38;5;21;01morder\u001b[39;00m \u001b[38;5;28;01mimport\u001b[39;00m Order\n\u001b[1;32m   3022\u001b[0m \u001b[38;5;28;01mif\u001b[39;00m n \u001b[38;5;129;01mis\u001b[39;00m \u001b[38;5;129;01mnot\u001b[39;00m \u001b[38;5;28;01mNone\u001b[39;00m:  \u001b[38;5;66;03m# nseries handling\u001b[39;00m\n\u001b[0;32m-> 3023\u001b[0m     s1 \u001b[38;5;241m=\u001b[39m \u001b[38;5;28mself\u001b[39m\u001b[38;5;241m.\u001b[39m_eval_nseries(x, n\u001b[38;5;241m=\u001b[39mn, logx\u001b[38;5;241m=\u001b[39mlogx, cdir\u001b[38;5;241m=\u001b[39mcdir)\n\u001b[1;32m   3024\u001b[0m     o \u001b[38;5;241m=\u001b[39m s1\u001b[38;5;241m.\u001b[39mgetO() \u001b[38;5;129;01mor\u001b[39;00m S\u001b[38;5;241m.\u001b[39mZero\n\u001b[1;32m   3025\u001b[0m     \u001b[38;5;28;01mif\u001b[39;00m o:\n\u001b[1;32m   3026\u001b[0m         \u001b[38;5;66;03m# make sure the requested order is returned\u001b[39;00m\n",
      "File \u001b[0;32m~/miniconda3/envs/alex_keql/lib/python3.12/site-packages/sympy/functions/elementary/exponential.py:1005\u001b[0m, in \u001b[0;36mlog._eval_nseries\u001b[0;34m(self, x, n, logx, cdir)\u001b[0m\n\u001b[1;32m   1002\u001b[0m     \u001b[38;5;28;01mexcept\u001b[39;00m \u001b[38;5;167;01mValueError\u001b[39;00m:\n\u001b[1;32m   1003\u001b[0m         a, b \u001b[38;5;241m=\u001b[39m s\u001b[38;5;241m.\u001b[39mremoveO()\u001b[38;5;241m.\u001b[39mas_leading_term(t, cdir\u001b[38;5;241m=\u001b[39m\u001b[38;5;241m1\u001b[39m), S\u001b[38;5;241m.\u001b[39mZero\n\u001b[0;32m-> 1005\u001b[0m p \u001b[38;5;241m=\u001b[39m (z\u001b[38;5;241m/\u001b[39m(a\u001b[38;5;241m*\u001b[39mt\u001b[38;5;241m*\u001b[39m\u001b[38;5;241m*\u001b[39mb) \u001b[38;5;241m-\u001b[39m \u001b[38;5;241m1\u001b[39m)\u001b[38;5;241m.\u001b[39m_eval_nseries(t, n\u001b[38;5;241m=\u001b[39mn, logx\u001b[38;5;241m=\u001b[39mlogx, cdir\u001b[38;5;241m=\u001b[39m\u001b[38;5;241m1\u001b[39m)\n\u001b[1;32m   1006\u001b[0m \u001b[38;5;28;01mif\u001b[39;00m p\u001b[38;5;241m.\u001b[39mhas(exp):\n\u001b[1;32m   1007\u001b[0m     p \u001b[38;5;241m=\u001b[39m logcombine(p)\n",
      "File \u001b[0;32m~/miniconda3/envs/alex_keql/lib/python3.12/site-packages/sympy/core/add.py:507\u001b[0m, in \u001b[0;36mAdd._eval_nseries\u001b[0;34m(self, x, n, logx, cdir)\u001b[0m\n\u001b[1;32m    506\u001b[0m \u001b[38;5;28;01mdef\u001b[39;00m \u001b[38;5;21m_eval_nseries\u001b[39m(\u001b[38;5;28mself\u001b[39m, x, n, logx, cdir\u001b[38;5;241m=\u001b[39m\u001b[38;5;241m0\u001b[39m):\n\u001b[0;32m--> 507\u001b[0m     terms \u001b[38;5;241m=\u001b[39m [t\u001b[38;5;241m.\u001b[39mnseries(x, n\u001b[38;5;241m=\u001b[39mn, logx\u001b[38;5;241m=\u001b[39mlogx, cdir\u001b[38;5;241m=\u001b[39mcdir) \u001b[38;5;28;01mfor\u001b[39;00m t \u001b[38;5;129;01min\u001b[39;00m \u001b[38;5;28mself\u001b[39m\u001b[38;5;241m.\u001b[39margs]\n\u001b[1;32m    508\u001b[0m     \u001b[38;5;28;01mreturn\u001b[39;00m \u001b[38;5;28mself\u001b[39m\u001b[38;5;241m.\u001b[39mfunc(\u001b[38;5;241m*\u001b[39mterms)\n",
      "File \u001b[0;32m~/miniconda3/envs/alex_keql/lib/python3.12/site-packages/sympy/core/expr.py:3396\u001b[0m, in \u001b[0;36mExpr.nseries\u001b[0;34m(self, x, x0, n, dir, logx, cdir)\u001b[0m\n\u001b[1;32m   3394\u001b[0m     \u001b[38;5;28;01mreturn\u001b[39;00m \u001b[38;5;28mself\u001b[39m\u001b[38;5;241m.\u001b[39mseries(x, x0, n, \u001b[38;5;28mdir\u001b[39m, cdir\u001b[38;5;241m=\u001b[39mcdir)\n\u001b[1;32m   3395\u001b[0m \u001b[38;5;28;01melse\u001b[39;00m:\n\u001b[0;32m-> 3396\u001b[0m     \u001b[38;5;28;01mreturn\u001b[39;00m \u001b[38;5;28mself\u001b[39m\u001b[38;5;241m.\u001b[39m_eval_nseries(x, n\u001b[38;5;241m=\u001b[39mn, logx\u001b[38;5;241m=\u001b[39mlogx, cdir\u001b[38;5;241m=\u001b[39mcdir)\n",
      "File \u001b[0;32m~/miniconda3/envs/alex_keql/lib/python3.12/site-packages/sympy/core/mul.py:1972\u001b[0m, in \u001b[0;36mMul._eval_nseries\u001b[0;34m(self, x, n, logx, cdir)\u001b[0m\n\u001b[1;32m   1970\u001b[0m \u001b[38;5;28;01mfor\u001b[39;00m t, m \u001b[38;5;129;01min\u001b[39;00m ords:\n\u001b[1;32m   1971\u001b[0m     n1 \u001b[38;5;241m=\u001b[39m ceiling(n \u001b[38;5;241m-\u001b[39m n0 \u001b[38;5;241m+\u001b[39m (m \u001b[38;5;28;01mif\u001b[39;00m m\u001b[38;5;241m.\u001b[39mis_number \u001b[38;5;28;01melse\u001b[39;00m \u001b[38;5;241m0\u001b[39m))\n\u001b[0;32m-> 1972\u001b[0m     s \u001b[38;5;241m=\u001b[39m t\u001b[38;5;241m.\u001b[39mnseries(x, n\u001b[38;5;241m=\u001b[39mn1, logx\u001b[38;5;241m=\u001b[39mlogx, cdir\u001b[38;5;241m=\u001b[39mcdir)\n\u001b[1;32m   1973\u001b[0m     ns \u001b[38;5;241m=\u001b[39m s\u001b[38;5;241m.\u001b[39mgetn()\n\u001b[1;32m   1974\u001b[0m     \u001b[38;5;28;01mif\u001b[39;00m ns \u001b[38;5;129;01mis\u001b[39;00m \u001b[38;5;129;01mnot\u001b[39;00m \u001b[38;5;28;01mNone\u001b[39;00m:\n",
      "File \u001b[0;32m~/miniconda3/envs/alex_keql/lib/python3.12/site-packages/sympy/core/expr.py:3396\u001b[0m, in \u001b[0;36mExpr.nseries\u001b[0;34m(self, x, x0, n, dir, logx, cdir)\u001b[0m\n\u001b[1;32m   3394\u001b[0m     \u001b[38;5;28;01mreturn\u001b[39;00m \u001b[38;5;28mself\u001b[39m\u001b[38;5;241m.\u001b[39mseries(x, x0, n, \u001b[38;5;28mdir\u001b[39m, cdir\u001b[38;5;241m=\u001b[39mcdir)\n\u001b[1;32m   3395\u001b[0m \u001b[38;5;28;01melse\u001b[39;00m:\n\u001b[0;32m-> 3396\u001b[0m     \u001b[38;5;28;01mreturn\u001b[39;00m \u001b[38;5;28mself\u001b[39m\u001b[38;5;241m.\u001b[39m_eval_nseries(x, n\u001b[38;5;241m=\u001b[39mn, logx\u001b[38;5;241m=\u001b[39mlogx, cdir\u001b[38;5;241m=\u001b[39mcdir)\n",
      "File \u001b[0;32m~/miniconda3/envs/alex_keql/lib/python3.12/site-packages/sympy/core/add.py:507\u001b[0m, in \u001b[0;36mAdd._eval_nseries\u001b[0;34m(self, x, n, logx, cdir)\u001b[0m\n\u001b[1;32m    506\u001b[0m \u001b[38;5;28;01mdef\u001b[39;00m \u001b[38;5;21m_eval_nseries\u001b[39m(\u001b[38;5;28mself\u001b[39m, x, n, logx, cdir\u001b[38;5;241m=\u001b[39m\u001b[38;5;241m0\u001b[39m):\n\u001b[0;32m--> 507\u001b[0m     terms \u001b[38;5;241m=\u001b[39m [t\u001b[38;5;241m.\u001b[39mnseries(x, n\u001b[38;5;241m=\u001b[39mn, logx\u001b[38;5;241m=\u001b[39mlogx, cdir\u001b[38;5;241m=\u001b[39mcdir) \u001b[38;5;28;01mfor\u001b[39;00m t \u001b[38;5;129;01min\u001b[39;00m \u001b[38;5;28mself\u001b[39m\u001b[38;5;241m.\u001b[39margs]\n\u001b[1;32m    508\u001b[0m     \u001b[38;5;28;01mreturn\u001b[39;00m \u001b[38;5;28mself\u001b[39m\u001b[38;5;241m.\u001b[39mfunc(\u001b[38;5;241m*\u001b[39mterms)\n",
      "File \u001b[0;32m~/miniconda3/envs/alex_keql/lib/python3.12/site-packages/sympy/core/expr.py:3396\u001b[0m, in \u001b[0;36mExpr.nseries\u001b[0;34m(self, x, x0, n, dir, logx, cdir)\u001b[0m\n\u001b[1;32m   3394\u001b[0m     \u001b[38;5;28;01mreturn\u001b[39;00m \u001b[38;5;28mself\u001b[39m\u001b[38;5;241m.\u001b[39mseries(x, x0, n, \u001b[38;5;28mdir\u001b[39m, cdir\u001b[38;5;241m=\u001b[39mcdir)\n\u001b[1;32m   3395\u001b[0m \u001b[38;5;28;01melse\u001b[39;00m:\n\u001b[0;32m-> 3396\u001b[0m     \u001b[38;5;28;01mreturn\u001b[39;00m \u001b[38;5;28mself\u001b[39m\u001b[38;5;241m.\u001b[39m_eval_nseries(x, n\u001b[38;5;241m=\u001b[39mn, logx\u001b[38;5;241m=\u001b[39mlogx, cdir\u001b[38;5;241m=\u001b[39mcdir)\n",
      "File \u001b[0;32m~/miniconda3/envs/alex_keql/lib/python3.12/site-packages/sympy/core/mul.py:1962\u001b[0m, in \u001b[0;36mMul._eval_nseries\u001b[0;34m(self, x, n, logx, cdir)\u001b[0m\n\u001b[1;32m   1960\u001b[0m \u001b[38;5;28;01mtry\u001b[39;00m:\n\u001b[1;32m   1961\u001b[0m     \u001b[38;5;28;01mfor\u001b[39;00m t \u001b[38;5;129;01min\u001b[39;00m \u001b[38;5;28mself\u001b[39m\u001b[38;5;241m.\u001b[39margs:\n\u001b[0;32m-> 1962\u001b[0m         coeff, exp \u001b[38;5;241m=\u001b[39m t\u001b[38;5;241m.\u001b[39mleadterm(x)\n\u001b[1;32m   1963\u001b[0m         \u001b[38;5;28;01mif\u001b[39;00m \u001b[38;5;129;01mnot\u001b[39;00m coeff\u001b[38;5;241m.\u001b[39mhas(x):\n\u001b[1;32m   1964\u001b[0m             ords\u001b[38;5;241m.\u001b[39mappend((t, exp))\n",
      "File \u001b[0;32m~/miniconda3/envs/alex_keql/lib/python3.12/site-packages/sympy/core/expr.py:3531\u001b[0m, in \u001b[0;36mExpr.leadterm\u001b[0;34m(self, x, logx, cdir)\u001b[0m\n\u001b[1;32m   3529\u001b[0m \u001b[38;5;28;01mif\u001b[39;00m l\u001b[38;5;241m.\u001b[39mhas(log(x)):\n\u001b[1;32m   3530\u001b[0m     l \u001b[38;5;241m=\u001b[39m l\u001b[38;5;241m.\u001b[39msubs(log(x), d)\n\u001b[0;32m-> 3531\u001b[0m c, e \u001b[38;5;241m=\u001b[39m l\u001b[38;5;241m.\u001b[39mas_coeff_exponent(x)\n\u001b[1;32m   3532\u001b[0m \u001b[38;5;28;01mif\u001b[39;00m x \u001b[38;5;129;01min\u001b[39;00m c\u001b[38;5;241m.\u001b[39mfree_symbols:\n\u001b[1;32m   3533\u001b[0m     \u001b[38;5;28;01mraise\u001b[39;00m \u001b[38;5;167;01mValueError\u001b[39;00m(filldedent(\u001b[38;5;124m\"\"\"\u001b[39m\n\u001b[1;32m   3534\u001b[0m \u001b[38;5;124m        cannot compute leadterm(\u001b[39m\u001b[38;5;132;01m%s\u001b[39;00m\u001b[38;5;124m, \u001b[39m\u001b[38;5;132;01m%s\u001b[39;00m\u001b[38;5;124m). The coefficient\u001b[39m\n\u001b[1;32m   3535\u001b[0m \u001b[38;5;124m        should have been free of \u001b[39m\u001b[38;5;132;01m%s\u001b[39;00m\u001b[38;5;124m but got \u001b[39m\u001b[38;5;132;01m%s\u001b[39;00m\u001b[38;5;124m\"\"\"\u001b[39m \u001b[38;5;241m%\u001b[39m (\u001b[38;5;28mself\u001b[39m, x, x, c)))\n",
      "File \u001b[0;32m~/miniconda3/envs/alex_keql/lib/python3.12/site-packages/sympy/core/expr.py:3503\u001b[0m, in \u001b[0;36mExpr.as_coeff_exponent\u001b[0;34m(self, x)\u001b[0m\n\u001b[1;32m   3500\u001b[0m \u001b[38;5;250m\u001b[39m\u001b[38;5;124;03m\"\"\" ``c*x**e -> c,e`` where x can be any symbolic expression.\u001b[39;00m\n\u001b[1;32m   3501\u001b[0m \u001b[38;5;124;03m\"\"\"\u001b[39;00m\n\u001b[1;32m   3502\u001b[0m \u001b[38;5;28;01mfrom\u001b[39;00m \u001b[38;5;21;01msympy\u001b[39;00m\u001b[38;5;21;01m.\u001b[39;00m\u001b[38;5;21;01msimplify\u001b[39;00m\u001b[38;5;21;01m.\u001b[39;00m\u001b[38;5;21;01mradsimp\u001b[39;00m \u001b[38;5;28;01mimport\u001b[39;00m collect\n\u001b[0;32m-> 3503\u001b[0m s \u001b[38;5;241m=\u001b[39m collect(\u001b[38;5;28mself\u001b[39m, x)\n\u001b[1;32m   3504\u001b[0m c, p \u001b[38;5;241m=\u001b[39m s\u001b[38;5;241m.\u001b[39mas_coeff_mul(x)\n\u001b[1;32m   3505\u001b[0m \u001b[38;5;28;01mif\u001b[39;00m \u001b[38;5;28mlen\u001b[39m(p) \u001b[38;5;241m==\u001b[39m \u001b[38;5;241m1\u001b[39m:\n",
      "File \u001b[0;32m~/miniconda3/envs/alex_keql/lib/python3.12/site-packages/sympy/simplify/radsimp.py:395\u001b[0m, in \u001b[0;36mcollect\u001b[0;34m(expr, syms, func, evaluate, exact, distribute_order_term)\u001b[0m\n\u001b[1;32m    391\u001b[0m         \u001b[38;5;28;01mreturn\u001b[39;00m expr\u001b[38;5;241m.\u001b[39mfunc(\u001b[38;5;241m*\u001b[39m[\n\u001b[1;32m    392\u001b[0m             collect(term, syms, func, \u001b[38;5;28;01mTrue\u001b[39;00m, exact, distribute_order_term)\n\u001b[1;32m    393\u001b[0m             \u001b[38;5;28;01mfor\u001b[39;00m term \u001b[38;5;129;01min\u001b[39;00m expr\u001b[38;5;241m.\u001b[39margs])\n\u001b[1;32m    394\u001b[0m     \u001b[38;5;28;01melif\u001b[39;00m expr\u001b[38;5;241m.\u001b[39mis_Pow:\n\u001b[0;32m--> 395\u001b[0m         b \u001b[38;5;241m=\u001b[39m collect(\n\u001b[1;32m    396\u001b[0m             expr\u001b[38;5;241m.\u001b[39mbase, syms, func, \u001b[38;5;28;01mTrue\u001b[39;00m, exact, distribute_order_term)\n\u001b[1;32m    397\u001b[0m         \u001b[38;5;28;01mreturn\u001b[39;00m Pow(b, expr\u001b[38;5;241m.\u001b[39mexp)\n\u001b[1;32m    399\u001b[0m syms \u001b[38;5;241m=\u001b[39m [expand_power_base(i, deep\u001b[38;5;241m=\u001b[39m\u001b[38;5;28;01mFalse\u001b[39;00m) \u001b[38;5;28;01mfor\u001b[39;00m i \u001b[38;5;129;01min\u001b[39;00m syms]\n",
      "File \u001b[0;32m~/miniconda3/envs/alex_keql/lib/python3.12/site-packages/sympy/simplify/radsimp.py:412\u001b[0m, in \u001b[0;36mcollect\u001b[0;34m(expr, syms, func, evaluate, exact, distribute_order_term)\u001b[0m\n\u001b[1;32m    409\u001b[0m         \u001b[38;5;28;01melse\u001b[39;00m:\n\u001b[1;32m    410\u001b[0m             expr \u001b[38;5;241m=\u001b[39m expr\u001b[38;5;241m.\u001b[39mremoveO()\n\u001b[0;32m--> 412\u001b[0m summa \u001b[38;5;241m=\u001b[39m [expand_power_base(i, deep\u001b[38;5;241m=\u001b[39m\u001b[38;5;28;01mFalse\u001b[39;00m) \u001b[38;5;28;01mfor\u001b[39;00m i \u001b[38;5;129;01min\u001b[39;00m Add\u001b[38;5;241m.\u001b[39mmake_args(expr)]\n\u001b[1;32m    414\u001b[0m collected, disliked \u001b[38;5;241m=\u001b[39m defaultdict(\u001b[38;5;28mlist\u001b[39m), S\u001b[38;5;241m.\u001b[39mZero\n\u001b[1;32m    415\u001b[0m \u001b[38;5;28;01mfor\u001b[39;00m product \u001b[38;5;129;01min\u001b[39;00m summa:\n",
      "File \u001b[0;32m~/miniconda3/envs/alex_keql/lib/python3.12/site-packages/sympy/core/function.py:3057\u001b[0m, in \u001b[0;36mexpand_power_base\u001b[0;34m(expr, deep, force)\u001b[0m\n\u001b[1;32m   2977\u001b[0m \u001b[38;5;28;01mdef\u001b[39;00m \u001b[38;5;21mexpand_power_base\u001b[39m(expr, deep\u001b[38;5;241m=\u001b[39m\u001b[38;5;28;01mTrue\u001b[39;00m, force\u001b[38;5;241m=\u001b[39m\u001b[38;5;28;01mFalse\u001b[39;00m):\n\u001b[1;32m   2978\u001b[0m \u001b[38;5;250m    \u001b[39m\u001b[38;5;124;03m\"\"\"\u001b[39;00m\n\u001b[1;32m   2979\u001b[0m \u001b[38;5;124;03m    Wrapper around expand that only uses the power_base hint.\u001b[39;00m\n\u001b[1;32m   2980\u001b[0m \n\u001b[0;32m   (...)\u001b[0m\n\u001b[1;32m   3055\u001b[0m \n\u001b[1;32m   3056\u001b[0m \u001b[38;5;124;03m    \"\"\"\u001b[39;00m\n\u001b[0;32m-> 3057\u001b[0m     \u001b[38;5;28;01mreturn\u001b[39;00m sympify(expr)\u001b[38;5;241m.\u001b[39mexpand(deep\u001b[38;5;241m=\u001b[39mdeep, log\u001b[38;5;241m=\u001b[39m\u001b[38;5;28;01mFalse\u001b[39;00m, mul\u001b[38;5;241m=\u001b[39m\u001b[38;5;28;01mFalse\u001b[39;00m,\n\u001b[1;32m   3058\u001b[0m         power_exp\u001b[38;5;241m=\u001b[39m\u001b[38;5;28;01mFalse\u001b[39;00m, power_base\u001b[38;5;241m=\u001b[39m\u001b[38;5;28;01mTrue\u001b[39;00m, multinomial\u001b[38;5;241m=\u001b[39m\u001b[38;5;28;01mFalse\u001b[39;00m,\n\u001b[1;32m   3059\u001b[0m         basic\u001b[38;5;241m=\u001b[39m\u001b[38;5;28;01mFalse\u001b[39;00m, force\u001b[38;5;241m=\u001b[39mforce)\n",
      "File \u001b[0;32m~/miniconda3/envs/alex_keql/lib/python3.12/site-packages/sympy/core/cache.py:72\u001b[0m, in \u001b[0;36m__cacheit.<locals>.func_wrapper.<locals>.wrapper\u001b[0;34m(*args, **kwargs)\u001b[0m\n\u001b[1;32m     69\u001b[0m \u001b[38;5;129m@wraps\u001b[39m(func)\n\u001b[1;32m     70\u001b[0m \u001b[38;5;28;01mdef\u001b[39;00m \u001b[38;5;21mwrapper\u001b[39m(\u001b[38;5;241m*\u001b[39margs, \u001b[38;5;241m*\u001b[39m\u001b[38;5;241m*\u001b[39mkwargs):\n\u001b[1;32m     71\u001b[0m     \u001b[38;5;28;01mtry\u001b[39;00m:\n\u001b[0;32m---> 72\u001b[0m         retval \u001b[38;5;241m=\u001b[39m cfunc(\u001b[38;5;241m*\u001b[39margs, \u001b[38;5;241m*\u001b[39m\u001b[38;5;241m*\u001b[39mkwargs)\n\u001b[1;32m     73\u001b[0m     \u001b[38;5;28;01mexcept\u001b[39;00m \u001b[38;5;167;01mTypeError\u001b[39;00m \u001b[38;5;28;01mas\u001b[39;00m e:\n\u001b[1;32m     74\u001b[0m         \u001b[38;5;28;01mif\u001b[39;00m \u001b[38;5;129;01mnot\u001b[39;00m e\u001b[38;5;241m.\u001b[39margs \u001b[38;5;129;01mor\u001b[39;00m \u001b[38;5;129;01mnot\u001b[39;00m e\u001b[38;5;241m.\u001b[39margs[\u001b[38;5;241m0\u001b[39m]\u001b[38;5;241m.\u001b[39mstartswith(\u001b[38;5;124m'\u001b[39m\u001b[38;5;124munhashable type:\u001b[39m\u001b[38;5;124m'\u001b[39m):\n",
      "File \u001b[0;32m~/miniconda3/envs/alex_keql/lib/python3.12/site-packages/sympy/core/expr.py:3618\u001b[0m, in \u001b[0;36mExpr.expand\u001b[0;34m(self, deep, modulus, power_base, power_exp, mul, log, multinomial, basic, **hints)\u001b[0m\n\u001b[1;32m   3614\u001b[0m             \u001b[38;5;28;01mreturn\u001b[39;00m (newexpr, \u001b[38;5;28;01mTrue\u001b[39;00m)\n\u001b[1;32m   3616\u001b[0m     \u001b[38;5;28;01mreturn\u001b[39;00m (expr, hit)\n\u001b[0;32m-> 3618\u001b[0m \u001b[38;5;129m@cacheit\u001b[39m\n\u001b[1;32m   3619\u001b[0m \u001b[38;5;28;01mdef\u001b[39;00m \u001b[38;5;21mexpand\u001b[39m(\u001b[38;5;28mself\u001b[39m, deep\u001b[38;5;241m=\u001b[39m\u001b[38;5;28;01mTrue\u001b[39;00m, modulus\u001b[38;5;241m=\u001b[39m\u001b[38;5;28;01mNone\u001b[39;00m, power_base\u001b[38;5;241m=\u001b[39m\u001b[38;5;28;01mTrue\u001b[39;00m, power_exp\u001b[38;5;241m=\u001b[39m\u001b[38;5;28;01mTrue\u001b[39;00m,\n\u001b[1;32m   3620\u001b[0m         mul\u001b[38;5;241m=\u001b[39m\u001b[38;5;28;01mTrue\u001b[39;00m, log\u001b[38;5;241m=\u001b[39m\u001b[38;5;28;01mTrue\u001b[39;00m, multinomial\u001b[38;5;241m=\u001b[39m\u001b[38;5;28;01mTrue\u001b[39;00m, basic\u001b[38;5;241m=\u001b[39m\u001b[38;5;28;01mTrue\u001b[39;00m, \u001b[38;5;241m*\u001b[39m\u001b[38;5;241m*\u001b[39mhints):\n\u001b[1;32m   3621\u001b[0m \u001b[38;5;250m    \u001b[39m\u001b[38;5;124;03m\"\"\"\u001b[39;00m\n\u001b[1;32m   3622\u001b[0m \u001b[38;5;124;03m    Expand an expression using hints.\u001b[39;00m\n\u001b[1;32m   3623\u001b[0m \n\u001b[0;32m   (...)\u001b[0m\n\u001b[1;32m   3626\u001b[0m \n\u001b[1;32m   3627\u001b[0m \u001b[38;5;124;03m    \"\"\"\u001b[39;00m\n\u001b[1;32m   3628\u001b[0m     \u001b[38;5;28;01mfrom\u001b[39;00m \u001b[38;5;21;01msympy\u001b[39;00m\u001b[38;5;21;01m.\u001b[39;00m\u001b[38;5;21;01msimplify\u001b[39;00m\u001b[38;5;21;01m.\u001b[39;00m\u001b[38;5;21;01mradsimp\u001b[39;00m \u001b[38;5;28;01mimport\u001b[39;00m fraction\n",
      "\u001b[0;31mKeyboardInterrupt\u001b[0m: "
     ]
    }
   ],
   "source": [
    "base_matern_family = setup_matern(20)\n",
    "\n",
    "base_kernel_family = setup_matern(3)#get_gaussianRBF\n",
    "def param_kernel(x,y,params):\n",
    "    lengthscales = log1pexp(params)\n",
    "    rootD = jnp.diag(jnp.sqrt(lengthscales))\n",
    "    return base_kernel_family(1.)(rootD@x,rootD@y)\n",
    "\n",
    "\n",
    "\n",
    "fitted_params = fit_kernel_params(param_kernel,tx_obs,u_obs,jnp.zeros(2))\n",
    "ML_lengthscales = log1pexp(fitted_params)\n",
    "print(1/(jnp.sqrt(ML_lengthscales)))"
   ]
  },
  {
   "cell_type": "code",
   "execution_count": null,
   "metadata": {},
   "outputs": [],
   "source": [
    "from jax import value_and_grad\n",
    "\n",
    "\n",
    "\n",
    "def fit_kernel_params(parametrized_kernel,X,y,init_params,nugget = 1e-7):\n",
    "    \n",
    "    @jit\n",
    "    @value_and_grad\n",
    "    def marginal_like(params):\n",
    "        vmapped_kfunc = vectorize_kfunc(partial(parametrized_kernel,params = params))\n",
    "        K = vmapped_kfunc(X,X)\n",
    "        K = K + nugget * diagpart(K)\n",
    "        return (1/2) * y.T@jnp.linalg.inv(K)@y + (1/2) * jnp.linalg.slogdet(K).logabsdet\n",
    "    solver = GradientDescent(marginal_like,value_and_grad=True,jit = True,tol = 1e-5)\n",
    "    result = solver.run(init_params)\n",
    "    optimized_params = result.params\n",
    "    return optimized_params#,partial(parametrized_kernel,params = optimized_params)\n"
   ]
  },
  {
   "cell_type": "code",
   "execution_count": null,
   "metadata": {},
   "outputs": [],
   "source": [
    "def parametrized_kernel(x,y,params):\n",
    "    lengthscales = log1pexp(params)\n",
    "    D = jnp.diag(lengthscales)\n",
    "    return base_kernel_family(1.)(D@x,D@y)\n",
    "\n",
    "nugget = 1e-8\n",
    "X = tx_obs\n",
    "y = u_obs\n",
    "\n",
    "\n",
    "from jax import value_and_grad\n",
    "@jit\n",
    "@value_and_grad\n",
    "def marginal_like(params):\n",
    "        vmapped_kfunc = vectorize_kfunc(partial(parametrized_kernel,params = params))\n",
    "        K = vmapped_kfunc(X,X)\n",
    "        K = K + nugget * diagpart(K)\n",
    "        return (1/2) * y.T@jnp.linalg.inv(K)@y + (1/2) * jnp.linalg.slogdet(K).logabsdet"
   ]
  },
  {
   "cell_type": "code",
   "execution_count": null,
   "metadata": {},
   "outputs": [],
   "source": [
    "params = jnp.array([0.,0])\n",
    "func_vals = []\n",
    "for i in range(1000):\n",
    "    val,gradval = marginal_like(params)\n",
    "    func_vals.append(val)\n",
    "    params = params - 0.0001 * gradval"
   ]
  },
  {
   "cell_type": "code",
   "execution_count": null,
   "metadata": {},
   "outputs": [],
   "source": [
    "params = jnp.array([5.,5])\n",
    "val,gradval = marginal_like(params)"
   ]
  },
  {
   "cell_type": "code",
   "execution_count": null,
   "metadata": {},
   "outputs": [],
   "source": [
    "example_X = jnp.array([[0.,0]])\n",
    "\n",
    "def get_mat(params):\n",
    "    vmapped_kfunc = vectorize_kfunc(partial(parametrized_kernel,params = params))\n",
    "    K = vmapped_kfunc(X,X)\n",
    "    return jnp.sum(K)"
   ]
  },
  {
   "cell_type": "code",
   "execution_count": null,
   "metadata": {},
   "outputs": [],
   "source": [
    "k = partial(parametrized_kernel,params = params)"
   ]
  },
  {
   "cell_type": "code",
   "execution_count": null,
   "metadata": {},
   "outputs": [],
   "source": [
    "jax.grad(k,argnums = 0)(jnp.array([0.,0]),jnp.array([0.,1]))"
   ]
  },
  {
   "cell_type": "code",
   "execution_count": null,
   "metadata": {},
   "outputs": [],
   "source": [
    "example_X = jnp.array([[0.,0]])\n",
    "\n",
    "\n",
    "def param_func(params):\n",
    "    new_function = partial(parametrized_kernel,params = params)\n",
    "    return new_function(example_X[0],example_X[0]+1e-100)\n",
    "\n",
    "jax.grad(param_func)(params)"
   ]
  },
  {
   "cell_type": "code",
   "execution_count": null,
   "metadata": {},
   "outputs": [],
   "source": [
    "from functools import partial\n",
    "vectorize_kfunc(partial(param_kernel,params = 3 * jnp.ones(2)))(tx_obs,tx_obs)"
   ]
  }
 ],
 "metadata": {
  "kernelspec": {
   "display_name": "alex_keql",
   "language": "python",
   "name": "python3"
  },
  "language_info": {
   "codemirror_mode": {
    "name": "ipython",
    "version": 3
   },
   "file_extension": ".py",
   "mimetype": "text/x-python",
   "name": "python",
   "nbconvert_exporter": "python",
   "pygments_lexer": "ipython3",
   "version": "3.12.4"
  }
 },
 "nbformat": 4,
 "nbformat_minor": 2
}
