{
 "cells": [
  {
   "cell_type": "code",
   "execution_count": 4,
   "metadata": {},
   "outputs": [],
   "source": [
    "import jax.numpy as jnp\n",
    "import jax\n",
    "jax.config.update(\"jax_enable_x64\", True)\n",
    "from jax import jit,grad,hessian,jacfwd,jacrev\n",
    "import numpy as np\n",
    "import matplotlib.pyplot as plt\n",
    "import jax\n",
    "from tqdm.auto import tqdm\n",
    "plt.style.use(\"ggplot\")\n",
    "\n",
    "from importlib import reload\n",
    "import KernelTools\n",
    "reload(KernelTools)\n",
    "from KernelTools import *\n",
    "from EquationModel import InducedRKHS,OperatorModel,CholOperatorModel\n",
    "from parabolic_data_utils import (\n",
    "    build_burgers_data,build_tx_grid,\n",
    "    build_tx_grid_chebyshev,setup_problem_data\n",
    ")\n",
    "from plotting import plot_input_data,plot_compare_error\n",
    "from evaluation_metrics import compute_results    "
   ]
  },
  {
   "cell_type": "code",
   "execution_count": 5,
   "metadata": {},
   "outputs": [],
   "source": [
    "import sympy as sym\n",
    "from sympy import factorial\n",
    "from sympy.series.series import series\n",
    "\n",
    "def setup_matern(p,eps = 1e-8):\n",
    "    exp_multiplier = -sym.sqrt(2 * p + 1)\n",
    "    coefficients = [\n",
    "        (factorial(p)/factorial(2*p)) * (factorial(p + i) / (factorial(i) * factorial(p - i)))\n",
    "        * (sym.sqrt(8 * p + 4))**(p - i) \n",
    "        for i in range(p + 1)]\n",
    "    powers = list(range(p,-1,-1))\n",
    "\n",
    "    jax_coefficients = jnp.array(list(map(float,coefficients)))\n",
    "    jax_powers = jnp.array(powers)\n",
    "    jax_exp_multiplier = float(exp_multiplier)\n",
    "\n",
    "    d = sym.symbols('d')\n",
    "    matern = sum([c * (d**power) for c,power in zip(coefficients,powers)])*sym.exp(exp_multiplier * d)\n",
    "    S = series(sym.log(matern),d,0,2*p+1).removeO()\n",
    "    polyS = sym.Poly(S,d)\n",
    "    asy_coeffs = polyS.coeffs()\n",
    "    asy_coeffs = jnp.array(list(map(float,asy_coeffs)))\n",
    "\n",
    "    asy_powers = polyS.monoms()\n",
    "    half_asy_powers = jnp.array(asy_powers)[:,0]//2\n",
    "\n",
    "    def matern_p_factory(rho):\n",
    "        def matern_func(x,y):\n",
    "            d2 = jnp.sum((x-y)**2)/(rho**2)\n",
    "            d = jnp.sqrt(d2+1e-100)\n",
    "            true = jnp.sum(jax_coefficients*jnp.power(d,jax_powers))*jnp.exp(jax_exp_multiplier * d)\n",
    "            asymptotic = jnp.exp(jnp.sum(asy_coeffs * jnp.power(d2,half_asy_powers)))\n",
    "            return jnp.where(d2<eps, asymptotic, true)\n",
    "        return matern_func\n",
    "    \n",
    "    return matern_p_factory"
   ]
  },
  {
   "cell_type": "code",
   "execution_count": 15,
   "metadata": {},
   "outputs": [],
   "source": [
    "X = jax.random.uniform(jax.random.PRNGKey(10),(500,2))\n",
    "y = X[:,0]**2 + 4*(X[:,0]) + X[:,1] - X[:,0]*X[:,1]"
   ]
  },
  {
   "cell_type": "code",
   "execution_count": 17,
   "metadata": {},
   "outputs": [
    {
     "name": "stdout",
     "output_type": "stream",
     "text": [
      "[1.32455791 5.62427105]\n"
     ]
    },
    {
     "ename": "",
     "evalue": "",
     "output_type": "error",
     "traceback": [
      "\u001b[1;31mThe Kernel crashed while executing code in the current cell or a previous cell. \n",
      "\u001b[1;31mPlease review the code in the cell(s) to identify a possible cause of the failure. \n",
      "\u001b[1;31mClick <a href='https://aka.ms/vscodeJupyterKernelCrash'>here</a> for more info. \n",
      "\u001b[1;31mView Jupyter <a href='command:jupyter.viewOutput'>log</a> for further details."
     ]
    }
   ],
   "source": [
    "from Kernels import fit_kernel_params,log1pexp,inv_log1pexp\n",
    "\n",
    "base_kernel_family = setup_matern(3)\n",
    "def param_kernel(x,y,params):\n",
    "    lengthscales = log1pexp(params)\n",
    "    rootD = jnp.diag(jnp.sqrt(lengthscales))\n",
    "    return base_kernel_family(1.)(rootD@x,rootD@y)\n",
    "\n",
    "\n",
    "\n",
    "fitted_params = fit_kernel_params(param_kernel,X,y,jnp.zeros(2))\n",
    "ML_lengthscales = log1pexp(fitted_params)\n",
    "print(1/(jnp.sqrt(ML_lengthscales)))"
   ]
  },
  {
   "cell_type": "code",
   "execution_count": 17,
   "metadata": {},
   "outputs": [
    {
     "data": {
      "text/plain": [
       "Array(-0., dtype=float64, weak_type=True)"
      ]
     },
     "execution_count": 17,
     "metadata": {},
     "output_type": "execute_result"
    }
   ],
   "source": [
    "jax.grad(k,argnums=0)(0.,0.)"
   ]
  },
  {
   "cell_type": "code",
   "execution_count": 21,
   "metadata": {},
   "outputs": [],
   "source": [
    "def f(x):\n",
    "    return jnp.where(x<0,1.,jnp.sqrt(jnp.abs(x+1)))"
   ]
  },
  {
   "cell_type": "code",
   "execution_count": 29,
   "metadata": {},
   "outputs": [
    {
     "data": {
      "text/plain": [
       "[<matplotlib.lines.Line2D at 0x7ee4a4741ca0>]"
      ]
     },
     "execution_count": 29,
     "metadata": {},
     "output_type": "execute_result"
    },
    {
     "data": {
      "image/png": "[encoded data removed]",
      "text/plain": [
       "<Figure size 640x480 with 1 Axes>"
      ]
     },
     "metadata": {},
     "output_type": "display_data"
    }
   ],
   "source": [
    "grid = jnp.linspace(-5,5,501)\n",
    "plt.plot(grid,f(grid))"
   ]
  },
  {
   "cell_type": "code",
   "execution_count": 30,
   "metadata": {},
   "outputs": [
    {
     "data": {
      "text/plain": [
       "Array([-5.  , -4.98, -4.96, -4.94, -4.92, -4.9 , -4.88, -4.86, -4.84,\n",
       "       -4.82, -4.8 , -4.78, -4.76, -4.74, -4.72, -4.7 , -4.68, -4.66,\n",
       "       -4.64, -4.62, -4.6 , -4.58, -4.56, -4.54, -4.52, -4.5 , -4.48,\n",
       "       -4.46, -4.44, -4.42, -4.4 , -4.38, -4.36, -4.34, -4.32, -4.3 ,\n",
       "       -4.28, -4.26, -4.24, -4.22, -4.2 , -4.18, -4.16, -4.14, -4.12,\n",
       "       -4.1 , -4.08, -4.06, -4.04, -4.02, -4.  , -3.98, -3.96, -3.94,\n",
       "       -3.92, -3.9 , -3.88, -3.86, -3.84, -3.82, -3.8 , -3.78, -3.76,\n",
       "       -3.74, -3.72, -3.7 , -3.68, -3.66, -3.64, -3.62, -3.6 , -3.58,\n",
       "       -3.56, -3.54, -3.52, -3.5 , -3.48, -3.46, -3.44, -3.42, -3.4 ,\n",
       "       -3.38, -3.36, -3.34, -3.32, -3.3 , -3.28, -3.26, -3.24, -3.22,\n",
       "       -3.2 , -3.18, -3.16, -3.14, -3.12, -3.1 , -3.08, -3.06, -3.04,\n",
       "       -3.02, -3.  , -2.98, -2.96, -2.94, -2.92, -2.9 , -2.88, -2.86,\n",
       "       -2.84, -2.82, -2.8 , -2.78, -2.76, -2.74, -2.72, -2.7 , -2.68,\n",
       "       -2.66, -2.64, -2.62, -2.6 , -2.58, -2.56, -2.54, -2.52, -2.5 ,\n",
       "       -2.48, -2.46, -2.44, -2.42, -2.4 , -2.38, -2.36, -2.34, -2.32,\n",
       "       -2.3 , -2.28, -2.26, -2.24, -2.22, -2.2 , -2.18, -2.16, -2.14,\n",
       "       -2.12, -2.1 , -2.08, -2.06, -2.04, -2.02, -2.  , -1.98, -1.96,\n",
       "       -1.94, -1.92, -1.9 , -1.88, -1.86, -1.84, -1.82, -1.8 , -1.78,\n",
       "       -1.76, -1.74, -1.72, -1.7 , -1.68, -1.66, -1.64, -1.62, -1.6 ,\n",
       "       -1.58, -1.56, -1.54, -1.52, -1.5 , -1.48, -1.46, -1.44, -1.42,\n",
       "       -1.4 , -1.38, -1.36, -1.34, -1.32, -1.3 , -1.28, -1.26, -1.24,\n",
       "       -1.22, -1.2 , -1.18, -1.16, -1.14, -1.12, -1.1 , -1.08, -1.06,\n",
       "       -1.04, -1.02, -1.  , -0.98, -0.96, -0.94, -0.92, -0.9 , -0.88,\n",
       "       -0.86, -0.84, -0.82, -0.8 , -0.78, -0.76, -0.74, -0.72, -0.7 ,\n",
       "       -0.68, -0.66, -0.64, -0.62, -0.6 , -0.58, -0.56, -0.54, -0.52,\n",
       "       -0.5 , -0.48, -0.46, -0.44, -0.42, -0.4 , -0.38, -0.36, -0.34,\n",
       "       -0.32, -0.3 , -0.28, -0.26, -0.24, -0.22, -0.2 , -0.18, -0.16,\n",
       "       -0.14, -0.12, -0.1 , -0.08, -0.06, -0.04, -0.02,  0.  ,  0.02,\n",
       "        0.04,  0.06,  0.08,  0.1 ,  0.12,  0.14,  0.16,  0.18,  0.2 ,\n",
       "        0.22,  0.24,  0.26,  0.28,  0.3 ,  0.32,  0.34,  0.36,  0.38,\n",
       "        0.4 ,  0.42,  0.44,  0.46,  0.48,  0.5 ,  0.52,  0.54,  0.56,\n",
       "        0.58,  0.6 ,  0.62,  0.64,  0.66,  0.68,  0.7 ,  0.72,  0.74,\n",
       "        0.76,  0.78,  0.8 ,  0.82,  0.84,  0.86,  0.88,  0.9 ,  0.92,\n",
       "        0.94,  0.96,  0.98,  1.  ,  1.02,  1.04,  1.06,  1.08,  1.1 ,\n",
       "        1.12,  1.14,  1.16,  1.18,  1.2 ,  1.22,  1.24,  1.26,  1.28,\n",
       "        1.3 ,  1.32,  1.34,  1.36,  1.38,  1.4 ,  1.42,  1.44,  1.46,\n",
       "        1.48,  1.5 ,  1.52,  1.54,  1.56,  1.58,  1.6 ,  1.62,  1.64,\n",
       "        1.66,  1.68,  1.7 ,  1.72,  1.74,  1.76,  1.78,  1.8 ,  1.82,\n",
       "        1.84,  1.86,  1.88,  1.9 ,  1.92,  1.94,  1.96,  1.98,  2.  ,\n",
       "        2.02,  2.04,  2.06,  2.08,  2.1 ,  2.12,  2.14,  2.16,  2.18,\n",
       "        2.2 ,  2.22,  2.24,  2.26,  2.28,  2.3 ,  2.32,  2.34,  2.36,\n",
       "        2.38,  2.4 ,  2.42,  2.44,  2.46,  2.48,  2.5 ,  2.52,  2.54,\n",
       "        2.56,  2.58,  2.6 ,  2.62,  2.64,  2.66,  2.68,  2.7 ,  2.72,\n",
       "        2.74,  2.76,  2.78,  2.8 ,  2.82,  2.84,  2.86,  2.88,  2.9 ,\n",
       "        2.92,  2.94,  2.96,  2.98,  3.  ,  3.02,  3.04,  3.06,  3.08,\n",
       "        3.1 ,  3.12,  3.14,  3.16,  3.18,  3.2 ,  3.22,  3.24,  3.26,\n",
       "        3.28,  3.3 ,  3.32,  3.34,  3.36,  3.38,  3.4 ,  3.42,  3.44,\n",
       "        3.46,  3.48,  3.5 ,  3.52,  3.54,  3.56,  3.58,  3.6 ,  3.62,\n",
       "        3.64,  3.66,  3.68,  3.7 ,  3.72,  3.74,  3.76,  3.78,  3.8 ,\n",
       "        3.82,  3.84,  3.86,  3.88,  3.9 ,  3.92,  3.94,  3.96,  3.98,\n",
       "        4.  ,  4.02,  4.04,  4.06,  4.08,  4.1 ,  4.12,  4.14,  4.16,\n",
       "        4.18,  4.2 ,  4.22,  4.24,  4.26,  4.28,  4.3 ,  4.32,  4.34,\n",
       "        4.36,  4.38,  4.4 ,  4.42,  4.44,  4.46,  4.48,  4.5 ,  4.52,\n",
       "        4.54,  4.56,  4.58,  4.6 ,  4.62,  4.64,  4.66,  4.68,  4.7 ,\n",
       "        4.72,  4.74,  4.76,  4.78,  4.8 ,  4.82,  4.84,  4.86,  4.88,\n",
       "        4.9 ,  4.92,  4.94,  4.96,  4.98,  5.  ], dtype=float64)"
      ]
     },
     "execution_count": 30,
     "metadata": {},
     "output_type": "execute_result"
    }
   ],
   "source": [
    "grid"
   ]
  },
  {
   "cell_type": "code",
   "execution_count": 31,
   "metadata": {},
   "outputs": [
    {
     "data": {
      "text/plain": [
       "[<matplotlib.lines.Line2D at 0x7ee4a47dde50>]"
      ]
     },
     "execution_count": 31,
     "metadata": {},
     "output_type": "execute_result"
    },
    {
     "data": {
      "image/png": "[encoded data removed]",
      "text/plain": [
       "<Figure size 640x480 with 1 Axes>"
      ]
     },
     "metadata": {},
     "output_type": "display_data"
    }
   ],
   "source": [
    "plt.plot(grid,jax.vmap(jax.grad(f))(grid))"
   ]
  },
  {
   "cell_type": "code",
   "execution_count": 32,
   "metadata": {},
   "outputs": [
    {
     "data": {
      "text/plain": [
       "Array([0.        , 0.        , 0.        , 0.        , 0.        ,\n",
       "       0.        , 0.        , 0.        , 0.        , 0.        ,\n",
       "       0.        , 0.        , 0.        , 0.        , 0.        ,\n",
       "       0.        , 0.        , 0.        , 0.        , 0.        ,\n",
       "       0.        , 0.        , 0.        , 0.        , 0.        ,\n",
       "       0.        , 0.        , 0.        , 0.        , 0.        ,\n",
       "       0.        , 0.        , 0.        , 0.        , 0.        ,\n",
       "       0.        , 0.        , 0.        , 0.        , 0.        ,\n",
       "       0.        , 0.        , 0.        , 0.        , 0.        ,\n",
       "       0.        , 0.        , 0.        , 0.        , 0.        ,\n",
       "       0.        , 0.        , 0.        , 0.        , 0.        ,\n",
       "       0.        , 0.        , 0.        , 0.        , 0.        ,\n",
       "       0.        , 0.        , 0.        , 0.        , 0.        ,\n",
       "       0.        , 0.        , 0.        , 0.        , 0.        ,\n",
       "       0.        , 0.        , 0.        , 0.        , 0.        ,\n",
       "       0.        , 0.        , 0.        , 0.        , 0.        ,\n",
       "       0.        , 0.        , 0.        , 0.        , 0.        ,\n",
       "       0.        , 0.        , 0.        , 0.        , 0.        ,\n",
       "       0.        , 0.        , 0.        , 0.        , 0.        ,\n",
       "       0.        , 0.        , 0.        , 0.        , 0.        ,\n",
       "       0.        , 0.        , 0.        , 0.        , 0.        ,\n",
       "       0.        , 0.        , 0.        , 0.        , 0.        ,\n",
       "       0.        , 0.        , 0.        , 0.        , 0.        ,\n",
       "       0.        , 0.        , 0.        , 0.        , 0.        ,\n",
       "       0.        , 0.        , 0.        , 0.        , 0.        ,\n",
       "       0.        , 0.        , 0.        , 0.        , 0.        ,\n",
       "       0.        , 0.        , 0.        , 0.        , 0.        ,\n",
       "       0.        , 0.        , 0.        , 0.        , 0.        ,\n",
       "       0.        , 0.        , 0.        , 0.        , 0.        ,\n",
       "       0.        , 0.        , 0.        , 0.        , 0.        ,\n",
       "       0.        , 0.        , 0.        , 0.        , 0.        ,\n",
       "       0.        , 0.        , 0.        , 0.        , 0.        ,\n",
       "       0.        , 0.        , 0.        , 0.        , 0.        ,\n",
       "       0.        , 0.        , 0.        , 0.        , 0.        ,\n",
       "       0.        , 0.        , 0.        , 0.        , 0.        ,\n",
       "       0.        , 0.        , 0.        , 0.        , 0.        ,\n",
       "       0.        , 0.        , 0.        , 0.        , 0.        ,\n",
       "       0.        , 0.        , 0.        , 0.        , 0.        ,\n",
       "       0.        , 0.        , 0.        , 0.        , 0.        ,\n",
       "       0.        , 0.        , 0.        , 0.        , 0.        ,\n",
       "              nan, 0.        , 0.        , 0.        , 0.        ,\n",
       "       0.        , 0.        , 0.        , 0.        , 0.        ,\n",
       "       0.        , 0.        , 0.        , 0.        , 0.        ,\n",
       "       0.        , 0.        , 0.        , 0.        , 0.        ,\n",
       "       0.        , 0.        , 0.        , 0.        , 0.        ,\n",
       "       0.        , 0.        , 0.        , 0.        , 0.        ,\n",
       "       0.        , 0.        , 0.        , 0.        , 0.        ,\n",
       "       0.        , 0.        , 0.        , 0.        , 0.        ,\n",
       "       0.        , 0.        , 0.        , 0.        , 0.        ,\n",
       "       0.        , 0.        , 0.        , 0.        , 0.        ,\n",
       "       0.5       , 0.49507377, 0.49029034, 0.48564293, 0.48112522,\n",
       "       0.47673129, 0.47245559, 0.46829291, 0.46423835, 0.46028731,\n",
       "       0.45643546, 0.45267873, 0.44901326, 0.4454354 , 0.44194174,\n",
       "       0.43852901, 0.43519414, 0.43193421, 0.42874646, 0.42562827,\n",
       "       0.42257713, 0.41959068, 0.41666667, 0.41380294, 0.41099747,\n",
       "       0.40824829, 0.40555355, 0.40291148, 0.40032038, 0.39777864,\n",
       "       0.39528471, 0.3928371 , 0.3904344 , 0.38807526, 0.38575837,\n",
       "       0.38348249, 0.38124643, 0.37904902, 0.37688918, 0.37476584,\n",
       "       0.372678  , 0.37062466, 0.36860489, 0.36661779, 0.36466248,\n",
       "       0.36273813, 0.36084392, 0.35897908, 0.35714286, 0.35533453,\n",
       "       0.35355339, 0.35179877, 0.35007002, 0.34836651, 0.34668762,\n",
       "       0.34503278, 0.34340141, 0.34179296, 0.34020691, 0.33864273,\n",
       "       0.33709993, 0.33557803, 0.33407655, 0.33259505, 0.33113309,\n",
       "       0.32969024, 0.32826608, 0.32686023, 0.32547228, 0.32410186,\n",
       "       0.32274861, 0.32141217, 0.3200922 , 0.31878836, 0.31750032,\n",
       "       0.31622777, 0.31497039, 0.3137279 , 0.3125    , 0.3112864 ,\n",
       "       0.31008684, 0.30890103, 0.30772873, 0.30656967, 0.30542361,\n",
       "       0.30429031, 0.30316953, 0.30206105, 0.30096463, 0.29988007,\n",
       "       0.29880715, 0.29774567, 0.29669541, 0.2956562 , 0.29462783,\n",
       "       0.29361011, 0.29260287, 0.29160592, 0.2906191 , 0.28964222,\n",
       "       0.28867513, 0.28771767, 0.28676967, 0.28583098, 0.28490144,\n",
       "       0.28398092, 0.28306926, 0.28216632, 0.28127198, 0.28038608,\n",
       "       0.2795085 , 0.27863911, 0.27777778, 0.27692439, 0.27607882,\n",
       "       0.27524094, 0.27441065, 0.27358783, 0.27277236, 0.27196415,\n",
       "       0.27116307, 0.27036904, 0.26958193, 0.26880167, 0.26802813,\n",
       "       0.26726124, 0.2665009 , 0.265747  , 0.26499947, 0.26425821,\n",
       "       0.26352314, 0.26279417, 0.26207121, 0.26135419, 0.26064302,\n",
       "       0.25993762, 0.25923792, 0.25854384, 0.25785531, 0.25717225,\n",
       "       0.25649459, 0.25582226, 0.25515518, 0.2544933 , 0.25383654,\n",
       "       0.25318484, 0.25253814, 0.25189636, 0.25125945, 0.25062735,\n",
       "       0.25      , 0.24937733, 0.2487593 , 0.24814583, 0.24753689,\n",
       "       0.2469324 , 0.24633232, 0.24573659, 0.24514517, 0.24455799,\n",
       "       0.24397502, 0.24339619, 0.24282147, 0.24225079, 0.24168412,\n",
       "       0.24112141, 0.24056261, 0.24000768, 0.23945657, 0.23890924,\n",
       "       0.23836565, 0.23782575, 0.2372895 , 0.23675686, 0.2362278 ,\n",
       "       0.23570226, 0.23518022, 0.23466163, 0.23414645, 0.23363466,\n",
       "       0.2331262 , 0.23262105, 0.23211917, 0.23162053, 0.23112508,\n",
       "       0.2306328 , 0.23014365, 0.22965761, 0.22917462, 0.22869468,\n",
       "       0.22821773, 0.22774376, 0.22727273, 0.22680461, 0.22633937,\n",
       "       0.22587698, 0.22541741, 0.22496064, 0.22450663, 0.22405536,\n",
       "       0.2236068 , 0.22316092, 0.2227177 , 0.22227711, 0.22183913,\n",
       "       0.22140372, 0.22097087, 0.22054055, 0.22011273, 0.21968739,\n",
       "       0.2192645 , 0.21884405, 0.21842601, 0.21801036, 0.21759707,\n",
       "       0.21718612, 0.21677749, 0.21637116, 0.21596711, 0.21556531,\n",
       "       0.21516574, 0.21476839, 0.21437323, 0.21398025, 0.21358941,\n",
       "       0.21320072, 0.21281413, 0.21242964, 0.21204723, 0.21166688,\n",
       "       0.21128856, 0.21091227, 0.21053798, 0.21016568, 0.20979534,\n",
       "       0.20942695, 0.2090605 , 0.20869597, 0.20833333, 0.20797258,\n",
       "       0.2076137 , 0.20725667, 0.20690147, 0.2065481 , 0.20619652,\n",
       "       0.20584674, 0.20549873, 0.20515248, 0.20480798, 0.20446521,\n",
       "       0.20412415], dtype=float64)"
      ]
     },
     "execution_count": 32,
     "metadata": {},
     "output_type": "execute_result"
    }
   ],
   "source": [
    "jax.vmap(jax.grad(f))(grid)"
   ]
  }
 ],
 "metadata": {
  "kernelspec": {
   "display_name": "alex_keql",
   "language": "python",
   "name": "python3"
  },
  "language_info": {
   "codemirror_mode": {
    "name": "ipython",
    "version": 3
   },
   "file_extension": ".py",
   "mimetype": "text/x-python",
   "name": "python",
   "nbconvert_exporter": "python",
   "pygments_lexer": "ipython3",
   "version": "3.12.4"
  }
 },
 "nbformat": 4,
 "nbformat_minor": 2
}
