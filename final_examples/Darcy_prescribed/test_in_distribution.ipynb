{
 "cells": [
  {
   "cell_type": "code",
   "execution_count": 1,
   "metadata": {},
   "outputs": [
    {
     "name": "stderr",
     "output_type": "stream",
     "text": [
      "2025-01-22 21:54:55.123157: W external/xla/xla/service/platform_util.cc:206] unable to create StreamExecutor for CUDA:0: : CUDA_ERROR_OUT_OF_MEMORY: out of memory\n",
      "/home/juanfelipe/anaconda3/envs/myenv/lib/python3.12/site-packages/tqdm/auto.py:21: TqdmWarning: IProgress not found. Please update jupyter and ipywidgets. See https://ipywidgets.readthedocs.io/en/stable/user_install.html\n",
      "  from .autonotebook import tqdm as notebook_tqdm\n"
     ]
    }
   ],
   "source": [
    "# imports\n",
    "import jax\n",
    "jax.config.update(\"jax_default_device\",jax.devices()[2])\n",
    "jax.config.update(\"jax_enable_x64\", True)\n",
    "import jax.numpy as jnp\n",
    "from jax import jit,grad,jacfwd,jacrev,vmap\n",
    "from jax.random import PRNGKey as pkey\n",
    "from jax.scipy.linalg import solve\n",
    "# Other libraries\n",
    "import numpy as np\n",
    "import matplotlib.pyplot as plt\n",
    "from labellines import labelLines\n",
    "from matplotlib.lines import Line2D\n",
    "from tqdm.auto import tqdm\n",
    "# plt.style.use(\"ggplot\")\n",
    "from importlib import reload\n",
    "\n",
    "# Our libraries\n",
    "import KernelTools\n",
    "reload(KernelTools)\n",
    "from KernelTools import *\n",
    "from EquationModel import OperatorModel, OperatorPDEModel,CholInducedRKHS,InducedOperatorModel,SharedOperatorPDEModel\n",
    "from plotting import plot_obs,plot_compare_error\n",
    "from evaluation_metrics import get_nrmse,table_u_errors\n",
    "from data_utils import (\n",
    "    get_xy_grid_pairs,\n",
    "    GP_sampler,\n",
    "    build_xy_grid,\n",
    "    sample_xy_grid_latin,\n",
    "    build_input_observations,\n",
    "    build_u_obs_single,\n",
    "    build_u_obs_all,\n",
    "    sample_multiple_xy_grids_latin\n",
    ")\n",
    "\n",
    "from Kernels import (\n",
    "    get_gaussianRBF,\n",
    "    get_centered_scaled_poly_kernel\n",
    ")\n",
    "\n",
    "import Optimizers\n",
    "import importlib\n",
    "importlib.reload(Optimizers)\n",
    "from Optimizers import CholeskyLM,SVD_LM\n",
    "from Optimizers.solvers_base import *\n",
    "\n",
    "from Optimizers import BlockArrowLM,LMParams\n"
   ]
  },
  {
   "cell_type": "code",
   "execution_count": 2,
   "metadata": {},
   "outputs": [],
   "source": [
    "m = 16\n",
    "obs_pts = 2\n",
    "run = 2\n",
    "\n",
    "kernel_GP = get_gaussianRBF(0.5)\n",
    "xy_pairs = get_xy_grid_pairs(50,0,1,0,1) # Pairs to build interpolants\n",
    "u_true_functions = tuple(GP_sampler(num_samples = m,\n",
    "                                        X = xy_pairs, \n",
    "                                        kernel = kernel_GP,\n",
    "                                        reg = 1e-12,\n",
    "                                        seed = run\n",
    "                                    )\n",
    "                                    )\n",
    "# Permeability field A\n",
    "def A(xy):\n",
    "    x = xy[0]\n",
    "    y = xy[1]\n",
    "    return jnp.exp(jnp.sin(jnp.cos(x) + jnp.cos(y)))\n",
    "\n",
    "# Compute f = Pu for a given u\n",
    "def get_rhs_darcy(u):\n",
    "    def Agradu(xy):\n",
    "        return A(xy)*jax.grad(u)(xy)\n",
    "    def Pu(xy):\n",
    "        return jnp.trace(jax.jacfwd(Agradu)(xy))\n",
    "    return Pu\n",
    "\n",
    "# Lists of m true u's and f's\n",
    "vmapped_u_true_functions = tuple([jax.vmap(u) for u in u_true_functions]) # vmap'ed\n",
    "rhs_functions = tuple([jax.vmap(get_rhs_darcy(u)) for u in u_true_functions]) #vmap'ed\n",
    "\n",
    "\n",
    "# Sample collocation points for f using same uniform grid for every function\n",
    "xy_int_single,xy_bdy_single = build_xy_grid([0,1],[0,1],15,15)\n",
    "xy_ints = (xy_int_single,)*m\n",
    "xy_bdys = (xy_bdy_single,)*m\n",
    "\n",
    "\n",
    "xy_all = tuple(jnp.vstack([xy_int,xy_bdy]) for xy_int,xy_bdy in zip(xy_ints,xy_bdys))\n",
    "\n",
    "# List of number of observation points per u\n",
    "num_obs = [obs_pts]*m\n",
    "\n",
    "# Get (X^m, u^m(X^m))\n",
    "xy_obs,u_obs = build_u_obs_all(\n",
    "    num_obs,\n",
    "    xy_ints,\n",
    "    xy_bdys,\n",
    "    vmapped_u_true_functions,\n",
    "    pkey(run)\n",
    ")\n",
    "\n",
    "# Build operator features\n",
    "def diff_x_op(k,index):\n",
    "    return get_selected_grad(k,index,0)\n",
    "\n",
    "def diff_xx_op(k,index):\n",
    "    return get_selected_grad(get_selected_grad(k,index,0),index,0)\n",
    "\n",
    "def diff_y_op(k,index):\n",
    "    return get_selected_grad(k,index,1)\n",
    "\n",
    "def diff_yy_op(k,index):\n",
    "    return get_selected_grad(get_selected_grad(k,index,1),index,1)\n",
    "\n",
    "def diff_xy_op(k,index):\n",
    "    return get_selected_grad(get_selected_grad(k,index,0),index,1)\n",
    "\n",
    "feature_operators = tuple([eval_k,diff_x_op,diff_xx_op,diff_y_op,diff_yy_op,diff_xy_op])\n",
    "\n",
    "# Build interpolants for u's\n",
    "k_u = get_gaussianRBF(0.5)\n",
    "u_operators = (eval_k,)\n",
    "\n",
    "# u_models = tuple([CholInducedRKHS(\n",
    "#     xy_all[i],\n",
    "#     u_operators,\n",
    "#     k_u\n",
    "#     ) for i in range(m)])\n",
    "\n",
    "u_model = CholInducedRKHS(xy_all[0],u_operators,k_u)\n",
    "\n",
    "# Get necessary tuples\n",
    "observation_points = tuple(xy_obs)\n",
    "observation_values = tuple(u_obs)\n",
    "collocation_points = xy_ints\n",
    "\n",
    "\n",
    "rhs_values = tuple(rhs_func(xy_int) for xy_int,rhs_func in zip(xy_ints,rhs_functions))\n",
    "\n",
    "all_u_params_init = tuple([\n",
    "    u_model.get_fitted_params(obs_loc,obs_val,lam = 1e-8)\n",
    "    for obs_loc,obs_val in zip(observation_points,observation_values)])\n",
    "\n",
    "grid_features_u_init = jnp.vstack([(\n",
    "    u_model.evaluate_operators(feature_operators,xy_int,model_params)).reshape(\n",
    "            len(xy_int),\n",
    "            len(feature_operators),\n",
    "            order = 'F'\n",
    "        ) for xy_int,model_params in zip(xy_ints,all_u_params_init) ])\n",
    "\n",
    "grid_features_u_init = jnp.hstack([jnp.vstack(xy_ints),grid_features_u_init])\n",
    "\n",
    "# P kernel\n",
    "k_P_u_part = get_centered_scaled_poly_kernel(1,grid_features_u_init[:,2:],c=1)\n",
    "k_P_x_part = get_gaussianRBF(0.4)\n",
    "\n",
    "def k_P(x,y):\n",
    "    return k_P_x_part(x[:2],y[:2]) * k_P_u_part(x[2:],y[2:])\n",
    "    \n",
    "\n",
    "# P object        \n",
    "P_model = InducedOperatorModel(grid_features_u_init,k_P)\n",
    "num_P_params = len(grid_features_u_init)\n",
    "\n",
    "# P, u, f object\n",
    "collocation_points = xy_ints\n",
    "EqnModel  = SharedOperatorPDEModel(\n",
    "    P_model,\n",
    "    u_model,\n",
    "    observation_points,\n",
    "    observation_values,\n",
    "    collocation_points,\n",
    "    feature_operators,\n",
    "    rhs_values,\n",
    "    datafit_weight = 5.,\n",
    "    num_P_operator_params = num_P_params\n",
    ")\n"
   ]
  },
  {
   "cell_type": "code",
   "execution_count": 3,
   "metadata": {},
   "outputs": [
    {
     "name": "stderr",
     "output_type": "stream",
     "text": [
      "  0%|          | 2/501 [00:10<34:38,  4.17s/it]  "
     ]
    },
    {
     "name": "stdout",
     "output_type": "stream",
     "text": [
      "Iteration 0, loss = 0.7828, gradnorm = 15.15, alpha = 0.08333, improvement_ratio = 1.001\n",
      "Iteration 1, loss = 0.5569, gradnorm = 0.3158, alpha = 0.06944, improvement_ratio = 1.007\n"
     ]
    },
    {
     "name": "stderr",
     "output_type": "stream",
     "text": [
      "  1%|          | 4/501 [00:10<12:24,  1.50s/it]"
     ]
    },
    {
     "name": "stdout",
     "output_type": "stream",
     "text": [
      "Iteration 2, loss = 0.4588, gradnorm = 0.1151, alpha = 0.05787, improvement_ratio = 1.006\n",
      "Iteration 3, loss = 0.3939, gradnorm = 0.07765, alpha = 0.04823, improvement_ratio = 1.006\n"
     ]
    },
    {
     "name": "stderr",
     "output_type": "stream",
     "text": [
      "  1%|          | 6/501 [00:10<06:08,  1.34it/s]"
     ]
    },
    {
     "name": "stdout",
     "output_type": "stream",
     "text": [
      "Iteration 4, loss = 0.3466, gradnorm = 0.05938, alpha = 0.04019, improvement_ratio = 1.005\n",
      "Iteration 5, loss = 0.3103, gradnorm = 0.04738, alpha = 0.03349, improvement_ratio = 1.004\n"
     ]
    },
    {
     "name": "stderr",
     "output_type": "stream",
     "text": [
      " 20%|██        | 102/501 [00:29<01:16,  5.20it/s]"
     ]
    },
    {
     "name": "stdout",
     "output_type": "stream",
     "text": [
      "Iteration 100, loss = 8.514e-05, gradnorm = 0.008196, alpha = 6.666e-08, improvement_ratio = 0.8426\n"
     ]
    },
    {
     "name": "stderr",
     "output_type": "stream",
     "text": [
      " 24%|██▎       | 118/501 [00:32<01:45,  3.63it/s]\n"
     ]
    }
   ],
   "source": [
    "u_init = jnp.stack(all_u_params_init)\n",
    "P_init = P_model.get_fitted_params(grid_features_u_init,jnp.hstack(rhs_values),lam = 1e-4)\n",
    "\n",
    "beta_reg = 1e-8\n",
    "\n",
    "\n",
    "lm_params = LMParams(max_iter = 501,init_alpha = 1e-1,min_alpha = 1e-12,print_every = 100)\n",
    "u_sols,P_sol,arrow_conv = BlockArrowLM(\n",
    "    u_init,P_init,EqnModel,beta_reg,beta_reg,\n",
    "    optParams=lm_params\n",
    "    )\n"
   ]
  },
  {
   "cell_type": "code",
   "execution_count": 4,
   "metadata": {},
   "outputs": [],
   "source": [
    "all_u_params_init = tuple([\n",
    "    u_model.get_fitted_params(obs_loc,obs_val,lam = 1e-8)\n",
    "    for obs_loc,obs_val in zip(observation_points,observation_values)])"
   ]
  },
  {
   "cell_type": "code",
   "execution_count": 5,
   "metadata": {},
   "outputs": [
    {
     "data": {
      "text/html": [
       "<div>\n",
       "<style scoped>\n",
       "    .dataframe tbody tr th:only-of-type {\n",
       "        vertical-align: middle;\n",
       "    }\n",
       "\n",
       "    .dataframe tbody tr th {\n",
       "        vertical-align: top;\n",
       "    }\n",
       "\n",
       "    .dataframe thead th {\n",
       "        text-align: right;\n",
       "    }\n",
       "</style>\n",
       "<table border=\"1\" class=\"dataframe\">\n",
       "  <thead>\n",
       "    <tr style=\"text-align: right;\">\n",
       "      <th></th>\n",
       "      <th>Percent error 1 step</th>\n",
       "      <th>Percent error 2 step (at init)</th>\n",
       "    </tr>\n",
       "  </thead>\n",
       "  <tbody>\n",
       "    <tr>\n",
       "      <th>0</th>\n",
       "      <td>1.075012</td>\n",
       "      <td>12.637611</td>\n",
       "    </tr>\n",
       "    <tr>\n",
       "      <th>1</th>\n",
       "      <td>0.440330</td>\n",
       "      <td>8.482654</td>\n",
       "    </tr>\n",
       "    <tr>\n",
       "      <th>2</th>\n",
       "      <td>0.371686</td>\n",
       "      <td>3.251326</td>\n",
       "    </tr>\n",
       "    <tr>\n",
       "      <th>3</th>\n",
       "      <td>0.418550</td>\n",
       "      <td>7.155374</td>\n",
       "    </tr>\n",
       "    <tr>\n",
       "      <th>4</th>\n",
       "      <td>0.672695</td>\n",
       "      <td>6.166170</td>\n",
       "    </tr>\n",
       "    <tr>\n",
       "      <th>5</th>\n",
       "      <td>0.763925</td>\n",
       "      <td>6.933226</td>\n",
       "    </tr>\n",
       "    <tr>\n",
       "      <th>6</th>\n",
       "      <td>0.236818</td>\n",
       "      <td>4.113556</td>\n",
       "    </tr>\n",
       "    <tr>\n",
       "      <th>7</th>\n",
       "      <td>0.129958</td>\n",
       "      <td>0.877900</td>\n",
       "    </tr>\n",
       "    <tr>\n",
       "      <th>8</th>\n",
       "      <td>0.543039</td>\n",
       "      <td>4.197539</td>\n",
       "    </tr>\n",
       "    <tr>\n",
       "      <th>9</th>\n",
       "      <td>0.381268</td>\n",
       "      <td>4.265628</td>\n",
       "    </tr>\n",
       "    <tr>\n",
       "      <th>10</th>\n",
       "      <td>0.193789</td>\n",
       "      <td>1.769603</td>\n",
       "    </tr>\n",
       "    <tr>\n",
       "      <th>11</th>\n",
       "      <td>0.261222</td>\n",
       "      <td>7.071666</td>\n",
       "    </tr>\n",
       "    <tr>\n",
       "      <th>12</th>\n",
       "      <td>0.420018</td>\n",
       "      <td>12.968127</td>\n",
       "    </tr>\n",
       "    <tr>\n",
       "      <th>13</th>\n",
       "      <td>0.457066</td>\n",
       "      <td>1.565129</td>\n",
       "    </tr>\n",
       "    <tr>\n",
       "      <th>14</th>\n",
       "      <td>0.746793</td>\n",
       "      <td>13.826236</td>\n",
       "    </tr>\n",
       "    <tr>\n",
       "      <th>15</th>\n",
       "      <td>0.239149</td>\n",
       "      <td>8.223942</td>\n",
       "    </tr>\n",
       "  </tbody>\n",
       "</table>\n",
       "</div>"
      ],
      "text/plain": [
       "    Percent error 1 step  Percent error 2 step (at init)\n",
       "0               1.075012                       12.637611\n",
       "1               0.440330                        8.482654\n",
       "2               0.371686                        3.251326\n",
       "3               0.418550                        7.155374\n",
       "4               0.672695                        6.166170\n",
       "5               0.763925                        6.933226\n",
       "6               0.236818                        4.113556\n",
       "7               0.129958                        0.877900\n",
       "8               0.543039                        4.197539\n",
       "9               0.381268                        4.265628\n",
       "10              0.193789                        1.769603\n",
       "11              0.261222                        7.071666\n",
       "12              0.420018                       12.968127\n",
       "13              0.457066                        1.565129\n",
       "14              0.746793                       13.826236\n",
       "15              0.239149                        8.223942"
      ]
     },
     "execution_count": 5,
     "metadata": {},
     "output_type": "execute_result"
    }
   ],
   "source": [
    "# Include this line \n",
    "xy_fine = jnp.vstack(build_xy_grid([0,1],[0,1],100,100))\n",
    "table_u_errors(xy_fine,(u_model,)*m,u_sols,list(map(jax.vmap,u_true_functions)),all_u_params_init)"
   ]
  },
  {
   "cell_type": "code",
   "execution_count": 6,
   "metadata": {},
   "outputs": [
    {
     "data": {
      "image/png": "[encoded data removed]",
      "text/plain": [
       "<Figure size 1200x500 with 3 Axes>"
      ]
     },
     "metadata": {},
     "output_type": "display_data"
    },
    {
     "data": {
      "image/png": "[encoded data removed]",
      "text/plain": [
       "<Figure size 1200x500 with 3 Axes>"
      ]
     },
     "metadata": {},
     "output_type": "display_data"
    },
    {
     "data": {
      "image/png": "[encoded data removed]",
      "text/plain": [
       "<Figure size 1200x500 with 3 Axes>"
      ]
     },
     "metadata": {},
     "output_type": "display_data"
    }
   ],
   "source": [
    "for i in range(m):\n",
    "    xy_fine = jnp.vstack(build_xy_grid([0,1],[0,1],100,100))\n",
    "    solution_index = i\n",
    "    true_func_vals = jax.vmap(u_true_functions[solution_index])(xy_fine)\n",
    "    onestep_vals = u_model.point_evaluate(xy_fine,u_sols[solution_index])\n",
    "    interpolant_vals = u_model.point_evaluate(xy_fine,u_init[solution_index])\n",
    "    # print(\"1step NRMSE: \",get_nrmse(true_func_vals,onestep_vals),\"interpolant NRMSE: \",get_nrmse(true_func_vals,interpolant_vals))\n",
    "    if i<3:\n",
    "        plt.figure(figsize=(12,5))\n",
    "        plt.subplot(1,3,1)\n",
    "        \n",
    "        plt.tricontourf(*xy_fine.T,true_func_vals)\n",
    "        plt.scatter(*xy_obs[i].T)\n",
    "        plt.scatter(*collocation_points[0].T,c='black',s = 4)\n",
    "        plt.title(\"Truth\")\n",
    "        plt.subplot(1,3,2)\n",
    "        plt.tricontourf(*xy_fine.T,onestep_vals)\n",
    "        plt.title(\"Onestep\")\n",
    "        plt.subplot(1,3,3)\n",
    "        plt.tricontourf(*xy_fine.T,interpolant_vals)\n",
    "        plt.title(\"Twostep\")\n",
    "        plt.show()\n"
   ]
  },
  {
   "cell_type": "code",
   "execution_count": 7,
   "metadata": {},
   "outputs": [],
   "source": [
    "## Errors\n",
    "\n",
    "# Testing grid\n",
    "xy_fine = jnp.vstack(build_xy_grid([0,1],[0,1],100,100))\n",
    "\n",
    "# Phat[S] - 1 step    \n",
    "P_func = lambda x: P_model.predict(x,P_sol)\n",
    "\n",
    "# Phat[S] - 2 step\n",
    "init_P_features = jnp.vstack([EqnModel.single_eqn_features(u_params,eval_points) \n",
    "                                        for u_params,eval_points in zip(\n",
    "                                        all_u_params_init,\n",
    "                                        EqnModel.collocation_points)])\n",
    "rhs_stacked = EqnModel.stacked_collocation_rhs\n",
    "P_params_naive = P_model.get_fitted_params(init_P_features,rhs_stacked)\n",
    "P_func2 = lambda x: P_model.predict(x,P_params_naive)\n",
    "\n",
    "# P[\\phi(w)](fine_grid)\n",
    "def evaluate_hatP(P_func, w, fine_grid, feature_operators):\n",
    "\n",
    "    # Build S_test\n",
    "    w_features = jnp.array([jax.vmap(operator(w,0))(xy_fine) for operator in feature_operators]).T\n",
    "    model_fine_features = jnp.hstack([fine_grid, w_features])\n",
    "    S_test = model_fine_features\n",
    "\n",
    "\n",
    "    #P_preds_model_features = P_model.kernel_function(S_test,S_train)@P_sol \n",
    "    P_preds = P_func(S_test)\n",
    "    return P_preds\n",
    "\n",
    "# In distribution\n",
    "\n",
    "M = 5\n",
    "\n",
    "kernel_GP = get_gaussianRBF(0.5) # Same regularity as training u's\n",
    "# Sample M training functions from GP(0,K)\n",
    "w_train_functions = GP_sampler(num_samples = M,\n",
    "                X = xy_pairs, \n",
    "                kernel = kernel_GP,\n",
    "                reg = 1e-12,\n",
    "                seed = run\n",
    "                )\n",
    "vmapped_w_train_functions = tuple([jax.vmap(w) for w in w_train_functions]) # vmap'ed\n",
    "w_rhs_functions = tuple([jax.vmap(get_rhs_darcy(w)) for w in w_train_functions]) #vmap'ed\n",
    "\n",
    "# mean \n",
    "true = [f_w(xy_fine) for f_w in w_rhs_functions]\n",
    "\n",
    "\n",
    "pred1_5 = [\n",
    "    evaluate_hatP(\n",
    "    P_func,\n",
    "    w, xy_fine,feature_operators) for w in w_train_functions\n",
    "]\n",
    "pred2 = [\n",
    "    evaluate_hatP(\n",
    "    P_func2,\n",
    "    w, xy_fine,feature_operators) for w in w_train_functions\n",
    "]\n",
    "\n",
    "i_dis_1_5 = jnp.mean(jnp.array([get_nrmse(t,p) for t,p in zip(true,pred1_5)]))\n",
    "i_dis_2 = jnp.mean(jnp.array([get_nrmse(t,p) for t,p in zip(true,pred2)]))"
   ]
  },
  {
   "cell_type": "code",
   "execution_count": 8,
   "metadata": {},
   "outputs": [
    {
     "data": {
      "text/plain": [
       "Array(0.0398225, dtype=float64)"
      ]
     },
     "execution_count": 8,
     "metadata": {},
     "output_type": "execute_result"
    }
   ],
   "source": [
    "i_dis_1_5"
   ]
  },
  {
   "cell_type": "code",
   "execution_count": 9,
   "metadata": {},
   "outputs": [
    {
     "data": {
      "text/plain": [
       "Array(0.22583883, dtype=float64)"
      ]
     },
     "execution_count": 9,
     "metadata": {},
     "output_type": "execute_result"
    }
   ],
   "source": [
    "i_dis_2"
   ]
  },
  {
   "cell_type": "code",
   "execution_count": 2,
   "metadata": {},
   "outputs": [],
   "source": [
    "# In-distribution error\n",
    "def run_exp_i_dis_err(m,obs_pts,run):\n",
    "    '''\n",
    "    Computes in-distribution error for 1 step and 2 step methods.\n",
    "\n",
    "    Args:\n",
    "        m (int): Number of functions.\n",
    "        obs_pts (int): Number of observed points.\n",
    "        run (int): seed.\n",
    "    \n",
    "    Returns:\n",
    "        i_opt_1_5 (float): Error for Phat (1 step) for in-sample functions.\n",
    "        i_opt_2 (float): Error for Phat (2 step) for in-sample functions.\n",
    "\n",
    "    '''   \n",
    "    # Sample m training functions from a GP\n",
    "    kernel_GP = get_gaussianRBF(0.5)\n",
    "    xy_pairs = get_xy_grid_pairs(50,0,1,0,1) # Pairs to build interpolants\n",
    "    u_true_functions = tuple(GP_sampler(num_samples = m,\n",
    "                                            X = xy_pairs, \n",
    "                                            kernel = kernel_GP,\n",
    "                                            reg = 1e-12,\n",
    "                                            seed = run\n",
    "                                        )\n",
    "                                        )\n",
    "    # Permeability field A\n",
    "    def A(xy):\n",
    "        x = xy[0]\n",
    "        y = xy[1]\n",
    "        return jnp.exp(jnp.sin(jnp.cos(x) + jnp.cos(y)))\n",
    "\n",
    "    # Compute f = Pu for a given u\n",
    "    def get_rhs_darcy(u):\n",
    "        def Agradu(xy):\n",
    "            return A(xy)*jax.grad(u)(xy)\n",
    "        def Pu(xy):\n",
    "            return jnp.trace(jax.jacfwd(Agradu)(xy))\n",
    "        return Pu\n",
    "\n",
    "    # Lists of m true u's and f's\n",
    "    vmapped_u_true_functions = tuple([jax.vmap(u) for u in u_true_functions]) # vmap'ed\n",
    "    rhs_functions = tuple([jax.vmap(get_rhs_darcy(u)) for u in u_true_functions]) #vmap'ed\n",
    "\n",
    "\n",
    "    # Sample collocation points for f using same uniform grid for every function\n",
    "    xy_int_single,xy_bdy_single = build_xy_grid([0,1],[0,1],15,15)\n",
    "    xy_ints = (xy_int_single,)*m\n",
    "    xy_bdys = (xy_bdy_single,)*m\n",
    "\n",
    "\n",
    "    xy_all = tuple(jnp.vstack([xy_int,xy_bdy]) for xy_int,xy_bdy in zip(xy_ints,xy_bdys))\n",
    "\n",
    "    # List of number of observation points per u\n",
    "    num_obs = [obs_pts]*m\n",
    "\n",
    "    # Get (X^m, u^m(X^m))\n",
    "    xy_obs,u_obs = build_u_obs_all(\n",
    "        num_obs,\n",
    "        xy_ints,\n",
    "        xy_bdys,\n",
    "        vmapped_u_true_functions,\n",
    "        pkey(run)\n",
    "    )\n",
    "\n",
    "    # Build operator features\n",
    "    def diff_x_op(k,index):\n",
    "        return get_selected_grad(k,index,0)\n",
    "\n",
    "    def diff_xx_op(k,index):\n",
    "        return get_selected_grad(get_selected_grad(k,index,0),index,0)\n",
    "\n",
    "    def diff_y_op(k,index):\n",
    "        return get_selected_grad(k,index,1)\n",
    "\n",
    "    def diff_yy_op(k,index):\n",
    "        return get_selected_grad(get_selected_grad(k,index,1),index,1)\n",
    "\n",
    "    def diff_xy_op(k,index):\n",
    "        return get_selected_grad(get_selected_grad(k,index,0),index,1)\n",
    "\n",
    "    feature_operators = tuple([eval_k,diff_x_op,diff_xx_op,diff_y_op,diff_yy_op,diff_xy_op])\n",
    "\n",
    "    # Build interpolants for u's\n",
    "    k_u = get_gaussianRBF(0.5)\n",
    "    u_operators = (eval_k,)\n",
    "\n",
    "    # u_models = tuple([CholInducedRKHS(\n",
    "    #     xy_all[i],\n",
    "    #     u_operators,\n",
    "    #     k_u\n",
    "    #     ) for i in range(m)])\n",
    "\n",
    "    u_model = CholInducedRKHS(xy_all[0],u_operators,k_u)\n",
    "\n",
    "    # Get necessary tuples\n",
    "    observation_points = tuple(xy_obs)\n",
    "    observation_values = tuple(u_obs)\n",
    "    collocation_points = xy_ints\n",
    "\n",
    "\n",
    "    rhs_values = tuple(rhs_func(xy_int) for xy_int,rhs_func in zip(xy_ints,rhs_functions))\n",
    "\n",
    "    all_u_params_init = tuple([\n",
    "        u_model.get_fitted_params(obs_loc,obs_val,lam = 1e-8)\n",
    "        for obs_loc,obs_val in zip(observation_points,observation_values)])\n",
    "\n",
    "    grid_features_u_init = jnp.vstack([(\n",
    "        u_model.evaluate_operators(feature_operators,xy_int,model_params)).reshape(\n",
    "                len(xy_int),\n",
    "                len(feature_operators),\n",
    "                order = 'F'\n",
    "            ) for xy_int,model_params in zip(xy_ints,all_u_params_init) ])\n",
    "\n",
    "    grid_features_u_init = jnp.hstack([jnp.vstack(xy_ints),grid_features_u_init])\n",
    "\n",
    "    # P kernel\n",
    "    k_P_u_part = get_centered_scaled_poly_kernel(1,grid_features_u_init[:,2:],c=1)\n",
    "    k_P_x_part = get_gaussianRBF(0.4)\n",
    "\n",
    "    def k_P(x,y):\n",
    "        return k_P_x_part(x[:2],y[:2]) * k_P_u_part(x[2:],y[2:])\n",
    "        \n",
    "\n",
    "    # P object        \n",
    "    P_model = InducedOperatorModel(grid_features_u_init,k_P)\n",
    "    num_P_params = len(grid_features_u_init)\n",
    "\n",
    "    # P, u, f object\n",
    "    collocation_points = xy_ints\n",
    "    EqnModel  = SharedOperatorPDEModel(\n",
    "        P_model,\n",
    "        u_model,\n",
    "        observation_points,\n",
    "        observation_values,\n",
    "        collocation_points,\n",
    "        feature_operators,\n",
    "        rhs_values,\n",
    "        datafit_weight = 5.,\n",
    "        num_P_operator_params = num_P_params\n",
    "    )\n",
    "\n",
    "    # OPTIMIZE\n",
    "\n",
    "    u_init = jnp.stack(all_u_params_init)\n",
    "    P_init = P_model.get_fitted_params(grid_features_u_init,jnp.hstack(rhs_values),lam = 1e-4)\n",
    "\n",
    "    beta_reg = 1e-8\n",
    "\n",
    "\n",
    "    lm_params = LMParams(max_iter = 501,init_alpha = 1e-1,min_alpha = 1e-12,print_every = 100)\n",
    "    u_sols,P_sol,arrow_conv = BlockArrowLM(\n",
    "        u_init,P_init,EqnModel,beta_reg,beta_reg,\n",
    "        optParams=lm_params\n",
    "        )\n",
    "    \n",
    "    ## Errors\n",
    "\n",
    "    # Testing grid\n",
    "    xy_fine = jnp.vstack(build_xy_grid([0,1],[0,1],100,100))\n",
    "\n",
    "    # Phat[S] - 1 step    \n",
    "    P_func = lambda x: P_model.predict(x,P_sol)\n",
    "\n",
    "    # Phat[S] - 2 step\n",
    "    init_P_features = jnp.vstack([EqnModel.single_eqn_features(u_params,eval_points) \n",
    "                                            for u_params,eval_points in zip(\n",
    "                                            all_u_params_init,\n",
    "                                            EqnModel.collocation_points)])\n",
    "    rhs_stacked = EqnModel.stacked_collocation_rhs\n",
    "    P_params_naive = P_model.get_fitted_params(init_P_features,rhs_stacked)\n",
    "    P_func2 = lambda x: P_model.predict(x,P_params_naive)\n",
    "\n",
    "    # P[\\phi(w)](fine_grid)\n",
    "    def evaluate_hatP(P_func, w, fine_grid, feature_operators):\n",
    "\n",
    "        # Build S_test\n",
    "        w_features = jnp.array([jax.vmap(operator(w,0))(xy_fine) for operator in feature_operators]).T\n",
    "        model_fine_features = jnp.hstack([fine_grid, w_features])\n",
    "        S_test = model_fine_features\n",
    "\n",
    "\n",
    "        #P_preds_model_features = P_model.kernel_function(S_test,S_train)@P_sol \n",
    "        P_preds = P_func(S_test)\n",
    "        return P_preds\n",
    "\n",
    "    # In distribution\n",
    "\n",
    "    M = 5\n",
    "\n",
    "    kernel_GP = get_gaussianRBF(0.5) # Same regularity as training u's\n",
    "    # Sample M training functions from GP(0,K)\n",
    "    w_train_functions = GP_sampler(num_samples = M,\n",
    "                    X = xy_pairs, \n",
    "                    kernel = kernel_GP,\n",
    "                    reg = 1e-12,\n",
    "                    seed = run\n",
    "                    )\n",
    "    vmapped_w_train_functions = tuple([jax.vmap(w) for w in w_train_functions]) # vmap'ed\n",
    "    w_rhs_functions = tuple([jax.vmap(get_rhs_darcy(w)) for w in w_train_functions]) #vmap'ed\n",
    "\n",
    "    # mean \n",
    "    true = [f_w(xy_fine) for f_w in w_rhs_functions]\n",
    "\n",
    "\n",
    "    pred1_5 = [\n",
    "        evaluate_hatP(\n",
    "        P_func,\n",
    "        w, xy_fine,feature_operators) for w in w_train_functions\n",
    "    ]\n",
    "    pred2 = [\n",
    "        evaluate_hatP(\n",
    "        P_func2,\n",
    "        w, xy_fine,feature_operators) for w in w_train_functions\n",
    "    ]\n",
    "\n",
    "    i_dis_1_5 = jnp.mean(jnp.array([get_nrmse(t,p) for t,p in zip(true,pred1_5)]))\n",
    "    i_dis_2 = jnp.mean(jnp.array([get_nrmse(t,p) for t,p in zip(true,pred2)]))\n",
    "\n",
    "    return i_dis_1_5, i_dis_2"
   ]
  },
  {
   "cell_type": "code",
   "execution_count": 3,
   "metadata": {},
   "outputs": [
    {
     "name": "stderr",
     "output_type": "stream",
     "text": [
      "  0%|          | 2/501 [00:10<35:35,  4.28s/it]  "
     ]
    },
    {
     "name": "stdout",
     "output_type": "stream",
     "text": [
      "Iteration 0, loss = 0.1336, gradnorm = 2.424, alpha = 0.08333, improvement_ratio = 0.9997\n",
      "Iteration 1, loss = 0.09372, gradnorm = 0.1278, alpha = 0.06944, improvement_ratio = 1.0\n"
     ]
    },
    {
     "name": "stderr",
     "output_type": "stream",
     "text": [
      "  1%|          | 4/501 [00:10<12:45,  1.54s/it]"
     ]
    },
    {
     "name": "stdout",
     "output_type": "stream",
     "text": [
      "Iteration 2, loss = 0.07716, gradnorm = 0.04668, alpha = 0.05787, improvement_ratio = 1.001\n",
      "Iteration 3, loss = 0.06662, gradnorm = 0.03098, alpha = 0.04823, improvement_ratio = 1.001\n"
     ]
    },
    {
     "name": "stderr",
     "output_type": "stream",
     "text": [
      "  1%|          | 6/501 [00:11<06:18,  1.31it/s]"
     ]
    },
    {
     "name": "stdout",
     "output_type": "stream",
     "text": [
      "Iteration 4, loss = 0.05938, gradnorm = 0.02296, alpha = 0.04019, improvement_ratio = 1.001\n",
      "Iteration 5, loss = 0.05412, gradnorm = 0.01748, alpha = 0.03349, improvement_ratio = 1.001\n"
     ]
    },
    {
     "name": "stderr",
     "output_type": "stream",
     "text": [
      " 19%|█▉        | 95/501 [00:28<02:03,  3.28it/s]\n"
     ]
    }
   ],
   "source": [
    "a,b = run_exp_i_dis_err(m = 16, obs_pts = 8, run = 1)"
   ]
  },
  {
   "cell_type": "code",
   "execution_count": 4,
   "metadata": {},
   "outputs": [
    {
     "data": {
      "text/plain": [
       "(Array(0.02382148, dtype=float64), Array(0.08313728, dtype=float64))"
      ]
     },
     "execution_count": 4,
     "metadata": {},
     "output_type": "execute_result"
    }
   ],
   "source": [
    "a, b"
   ]
  },
  {
   "cell_type": "code",
   "execution_count": null,
   "metadata": {},
   "outputs": [],
   "source": []
  }
 ],
 "metadata": {
  "kernelspec": {
   "display_name": "kernel_eq",
   "language": "python",
   "name": "python3"
  },
  "language_info": {
   "codemirror_mode": {
    "name": "ipython",
    "version": 3
   },
   "file_extension": ".py",
   "mimetype": "text/x-python",
   "name": "python",
   "nbconvert_exporter": "python",
   "pygments_lexer": "ipython3",
   "version": "3.12.8"
  }
 },
 "nbformat": 4,
 "nbformat_minor": 2
}
