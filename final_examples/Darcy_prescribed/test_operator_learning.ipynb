{
 "cells": [
  {
   "cell_type": "code",
   "execution_count": 1,
   "metadata": {},
   "outputs": [
    {
     "name": "stderr",
     "output_type": "stream",
     "text": [
      "/home/juanfelipe/anaconda3/envs/myenv/lib/python3.12/site-packages/tqdm/auto.py:21: TqdmWarning: IProgress not found. Please update jupyter and ipywidgets. See https://ipywidgets.readthedocs.io/en/stable/user_install.html\n",
      "  from .autonotebook import tqdm as notebook_tqdm\n"
     ]
    }
   ],
   "source": [
    "# imports\n",
    "import jax\n",
    "jax.config.update(\"jax_default_device\",jax.devices()[0])\n",
    "jax.config.update(\"jax_enable_x64\", True)\n",
    "import jax.numpy as jnp\n",
    "from jax import jit,grad,jacfwd,jacrev,vmap\n",
    "from jax.random import PRNGKey as pkey\n",
    "from jax.scipy.linalg import solve\n",
    "# Other libraries\n",
    "import numpy as np\n",
    "import matplotlib.pyplot as plt\n",
    "from labellines import labelLines\n",
    "from matplotlib.lines import Line2D\n",
    "from tqdm.auto import tqdm\n",
    "# plt.style.use(\"ggplot\")\n",
    "from importlib import reload\n",
    "\n",
    "# Our libraries\n",
    "import KernelTools\n",
    "reload(KernelTools)\n",
    "from KernelTools import *\n",
    "from EquationModel import OperatorModel, OperatorPDEModel,CholInducedRKHS,InducedOperatorModel,SharedOperatorPDEModel\n",
    "from plotting import plot_obs,plot_compare_error\n",
    "from evaluation_metrics import get_nrmse,table_u_errors\n",
    "from data_utils import (\n",
    "    get_xy_grid_pairs,\n",
    "    GP_sampler,\n",
    "    build_xy_grid,\n",
    "    sample_xy_grid_latin,\n",
    "    build_input_observations,\n",
    "    build_u_obs_single,\n",
    "    build_u_obs_all,\n",
    "    sample_multiple_xy_grids_latin\n",
    ")\n",
    "\n",
    "from Kernels import (\n",
    "    get_gaussianRBF,\n",
    "    get_centered_scaled_poly_kernel\n",
    ")\n",
    "\n",
    "import Optimizers\n",
    "import importlib\n",
    "importlib.reload(Optimizers)\n",
    "from Optimizers import CholeskyLM,SVD_LM\n",
    "from Optimizers.solvers_base import *\n"
   ]
  },
  {
   "cell_type": "code",
   "execution_count": 9,
   "metadata": {},
   "outputs": [],
   "source": [
    "m = 32\n",
    "obs_pts = 8\n",
    "run = 10\n",
    "\n",
    "kernel_GP = get_gaussianRBF(0.5)\n",
    "xy_pairs = get_xy_grid_pairs(50,0,1,0,1) # Pairs to build interpolants\n",
    "u_true_functions = tuple(GP_sampler(num_samples = m,\n",
    "                                        X = xy_pairs, \n",
    "                                        kernel = kernel_GP,\n",
    "                                        reg = 1e-12,\n",
    "                                        seed = run\n",
    "                                    )\n",
    "                                    )\n",
    "# Permeability field A\n",
    "def A(xy):\n",
    "    x = xy[0]\n",
    "    y = xy[1]\n",
    "    return jnp.exp(jnp.sin(jnp.cos(x) + jnp.cos(y)))\n",
    "\n",
    "# Compute f = Pu for a given u\n",
    "def get_rhs_darcy(u):\n",
    "    def Agradu(xy):\n",
    "        return A(xy)*jax.grad(u)(xy)\n",
    "    def Pu(xy):\n",
    "        return jnp.trace(jax.jacfwd(Agradu)(xy))\n",
    "    return Pu\n",
    "\n",
    "# Lists of m true u's and f's\n",
    "vmapped_u_true_functions = tuple([jax.vmap(u) for u in u_true_functions]) # vmap'ed\n",
    "rhs_functions = tuple([jax.vmap(get_rhs_darcy(u)) for u in u_true_functions]) #vmap'ed\n",
    "\n",
    "\n",
    "# Sample collocation points for f using same uniform grid for every function\n",
    "xy_int_single,xy_bdy_single = build_xy_grid([0,1],[0,1],10,10)\n",
    "xy_ints = (xy_int_single,)*m\n",
    "xy_bdys = (xy_bdy_single,)*m\n",
    "\n",
    "\n",
    "xy_all = tuple(jnp.vstack([xy_int,xy_bdy]) for xy_int,xy_bdy in zip(xy_ints,xy_bdys))\n",
    "\n",
    "# List of number of observation points per u\n",
    "num_obs = [obs_pts]*m\n",
    "\n",
    "# Get (X^m, u^m(X^m))\n",
    "xy_obs,u_obs = build_u_obs_all(\n",
    "    num_obs,\n",
    "    xy_ints,\n",
    "    xy_bdys,\n",
    "    vmapped_u_true_functions,\n",
    "    pkey(run)\n",
    ")\n",
    "\n",
    "# Build operator features\n",
    "def diff_x_op(k,index):\n",
    "    return get_selected_grad(k,index,0)\n",
    "\n",
    "def diff_xx_op(k,index):\n",
    "    return get_selected_grad(get_selected_grad(k,index,0),index,0)\n",
    "\n",
    "def diff_y_op(k,index):\n",
    "    return get_selected_grad(k,index,1)\n",
    "\n",
    "def diff_yy_op(k,index):\n",
    "    return get_selected_grad(get_selected_grad(k,index,1),index,1)\n",
    "\n",
    "def diff_xy_op(k,index):\n",
    "    return get_selected_grad(get_selected_grad(k,index,0),index,1)\n",
    "\n",
    "feature_operators = tuple([eval_k,diff_x_op,diff_xx_op,diff_y_op,diff_yy_op,diff_xy_op])\n",
    "\n",
    "# Build interpolants for u's\n",
    "k_u = get_gaussianRBF(0.5)\n",
    "u_operators = (eval_k,)\n",
    "\n",
    "# u_models = tuple([CholInducedRKHS(\n",
    "#     xy_all[i],\n",
    "#     u_operators,\n",
    "#     k_u\n",
    "#     ) for i in range(m)])\n",
    "\n",
    "u_model = CholInducedRKHS(xy_all[0],u_operators,k_u)\n",
    "\n",
    "# Get necessary tuples\n",
    "observation_points = tuple(xy_obs)\n",
    "observation_values = tuple(u_obs)\n",
    "collocation_points = xy_ints\n",
    "\n",
    "\n",
    "rhs_values = tuple(rhs_func(xy_int) for xy_int,rhs_func in zip(xy_ints,rhs_functions))\n",
    "\n",
    "all_u_params_init = tuple([\n",
    "    u_model.get_fitted_params(obs_loc,obs_val,lam = 1e-8)\n",
    "    for obs_loc,obs_val in zip(observation_points,observation_values)])\n",
    "\n",
    "grid_features_u_init = jnp.vstack([(\n",
    "    u_model.evaluate_operators(feature_operators,xy_int,model_params)).reshape(\n",
    "            len(xy_int),\n",
    "            len(feature_operators),\n",
    "            order = 'F'\n",
    "        ) for xy_int,model_params in zip(xy_ints,all_u_params_init) ])\n",
    "\n",
    "grid_features_u_init = jnp.hstack([jnp.vstack(xy_ints),grid_features_u_init])\n",
    "\n",
    "# P kernel\n",
    "k_P_u_part = get_centered_scaled_poly_kernel(1,grid_features_u_init[:,2:],c=1)\n",
    "k_P_x_part = get_gaussianRBF(0.4)\n",
    "\n",
    "def k_P(x,y):\n",
    "    return k_P_x_part(x[:2],y[:2]) * k_P_u_part(x[2:],y[2:])\n",
    "    \n",
    "\n",
    "# P object        \n",
    "P_model = InducedOperatorModel(grid_features_u_init,k_P)\n",
    "num_P_params = len(grid_features_u_init)\n",
    "\n",
    "# P, u, f object\n",
    "collocation_points = xy_ints\n",
    "EqnModel  = SharedOperatorPDEModel(\n",
    "    P_model,\n",
    "    u_model,\n",
    "    observation_points,\n",
    "    observation_values,\n",
    "    collocation_points,\n",
    "    feature_operators,\n",
    "    rhs_values,\n",
    "    datafit_weight = 5.,\n",
    "    num_P_operator_params = 200\n",
    ")\n"
   ]
  },
  {
   "cell_type": "code",
   "execution_count": 10,
   "metadata": {},
   "outputs": [
    {
     "name": "stderr",
     "output_type": "stream",
     "text": [
      "  1%|          | 3/501 [00:06<13:32,  1.63s/it]"
     ]
    },
    {
     "name": "stdout",
     "output_type": "stream",
     "text": [
      "Iteration 0, loss = 0.1538, gradnorm = 1.692, alpha = 0.08333, improvement_ratio = 0.9998\n",
      "Iteration 1, loss = 0.08635, gradnorm = 0.1553, alpha = 0.06944, improvement_ratio = 1.0\n",
      "Iteration 2, loss = 0.06599, gradnorm = 0.05883, alpha = 0.05787, improvement_ratio = 1.0\n",
      "Iteration 3, loss = 0.05453, gradnorm = 0.03289, alpha = 0.04823, improvement_ratio = 1.001\n"
     ]
    },
    {
     "name": "stderr",
     "output_type": "stream",
     "text": [
      "  1%|▏         | 7/501 [00:06<04:04,  2.02it/s]"
     ]
    },
    {
     "name": "stdout",
     "output_type": "stream",
     "text": [
      "Iteration 4, loss = 0.0458, gradnorm = 0.02406, alpha = 0.04019, improvement_ratio = 1.001\n",
      "Iteration 5, loss = 0.03871, gradnorm = 0.01953, alpha = 0.03349, improvement_ratio = 1.001\n"
     ]
    },
    {
     "name": "stderr",
     "output_type": "stream",
     "text": [
      " 18%|█▊        | 92/501 [00:11<00:49,  8.29it/s]\n"
     ]
    }
   ],
   "source": [
    "u_init = jnp.stack(all_u_params_init)\n",
    "P_init = P_model.get_fitted_params(grid_features_u_init,jnp.hstack(rhs_values),lam = 1e-4)\n",
    "\n",
    "beta_reg = 1e-8\n",
    "\n",
    "from Optimizers import BlockArrowLM,LMParams\n",
    "lm_params = LMParams(max_iter = 501,init_alpha = 1e-1,min_alpha = 1e-12,print_every = 100)\n",
    "u_sol,P_sol,arrow_conv = BlockArrowLM(\n",
    "    u_init,P_init,EqnModel,beta_reg,beta_reg,\n",
    "    optParams=lm_params\n",
    "    )\n"
   ]
  },
  {
   "cell_type": "code",
   "execution_count": 11,
   "metadata": {},
   "outputs": [],
   "source": [
    "all_u_params_init = tuple([\n",
    "    u_model.get_fitted_params(obs_loc,obs_val,lam = 1e-8)\n",
    "    for obs_loc,obs_val in zip(observation_points,observation_values)])\n"
   ]
  },
  {
   "cell_type": "code",
   "execution_count": 12,
   "metadata": {},
   "outputs": [
    {
     "data": {
      "text/html": [
       "<div>\n",
       "<style scoped>\n",
       "    .dataframe tbody tr th:only-of-type {\n",
       "        vertical-align: middle;\n",
       "    }\n",
       "\n",
       "    .dataframe tbody tr th {\n",
       "        vertical-align: top;\n",
       "    }\n",
       "\n",
       "    .dataframe thead th {\n",
       "        text-align: right;\n",
       "    }\n",
       "</style>\n",
       "<table border=\"1\" class=\"dataframe\">\n",
       "  <thead>\n",
       "    <tr style=\"text-align: right;\">\n",
       "      <th></th>\n",
       "      <th>Percent error 1 step</th>\n",
       "      <th>Percent error 2 step (at init)</th>\n",
       "    </tr>\n",
       "  </thead>\n",
       "  <tbody>\n",
       "    <tr>\n",
       "      <th>0</th>\n",
       "      <td>0.119572</td>\n",
       "      <td>0.341600</td>\n",
       "    </tr>\n",
       "    <tr>\n",
       "      <th>1</th>\n",
       "      <td>0.166481</td>\n",
       "      <td>0.413986</td>\n",
       "    </tr>\n",
       "    <tr>\n",
       "      <th>2</th>\n",
       "      <td>0.083387</td>\n",
       "      <td>0.419387</td>\n",
       "    </tr>\n",
       "    <tr>\n",
       "      <th>3</th>\n",
       "      <td>0.096609</td>\n",
       "      <td>0.244763</td>\n",
       "    </tr>\n",
       "    <tr>\n",
       "      <th>4</th>\n",
       "      <td>0.086089</td>\n",
       "      <td>0.387169</td>\n",
       "    </tr>\n",
       "    <tr>\n",
       "      <th>5</th>\n",
       "      <td>0.176502</td>\n",
       "      <td>0.431386</td>\n",
       "    </tr>\n",
       "    <tr>\n",
       "      <th>6</th>\n",
       "      <td>0.105073</td>\n",
       "      <td>0.329043</td>\n",
       "    </tr>\n",
       "    <tr>\n",
       "      <th>7</th>\n",
       "      <td>0.146167</td>\n",
       "      <td>0.610359</td>\n",
       "    </tr>\n",
       "    <tr>\n",
       "      <th>8</th>\n",
       "      <td>0.184844</td>\n",
       "      <td>0.700610</td>\n",
       "    </tr>\n",
       "    <tr>\n",
       "      <th>9</th>\n",
       "      <td>0.112746</td>\n",
       "      <td>0.302225</td>\n",
       "    </tr>\n",
       "    <tr>\n",
       "      <th>10</th>\n",
       "      <td>0.112048</td>\n",
       "      <td>1.256010</td>\n",
       "    </tr>\n",
       "    <tr>\n",
       "      <th>11</th>\n",
       "      <td>0.118429</td>\n",
       "      <td>1.427872</td>\n",
       "    </tr>\n",
       "    <tr>\n",
       "      <th>12</th>\n",
       "      <td>0.056600</td>\n",
       "      <td>0.126272</td>\n",
       "    </tr>\n",
       "    <tr>\n",
       "      <th>13</th>\n",
       "      <td>0.082464</td>\n",
       "      <td>0.309650</td>\n",
       "    </tr>\n",
       "    <tr>\n",
       "      <th>14</th>\n",
       "      <td>0.107866</td>\n",
       "      <td>0.365993</td>\n",
       "    </tr>\n",
       "    <tr>\n",
       "      <th>15</th>\n",
       "      <td>0.148569</td>\n",
       "      <td>0.933654</td>\n",
       "    </tr>\n",
       "    <tr>\n",
       "      <th>16</th>\n",
       "      <td>0.071884</td>\n",
       "      <td>0.675813</td>\n",
       "    </tr>\n",
       "    <tr>\n",
       "      <th>17</th>\n",
       "      <td>0.076133</td>\n",
       "      <td>0.273521</td>\n",
       "    </tr>\n",
       "    <tr>\n",
       "      <th>18</th>\n",
       "      <td>0.246156</td>\n",
       "      <td>2.269420</td>\n",
       "    </tr>\n",
       "    <tr>\n",
       "      <th>19</th>\n",
       "      <td>0.093144</td>\n",
       "      <td>1.225038</td>\n",
       "    </tr>\n",
       "    <tr>\n",
       "      <th>20</th>\n",
       "      <td>0.077894</td>\n",
       "      <td>0.497711</td>\n",
       "    </tr>\n",
       "    <tr>\n",
       "      <th>21</th>\n",
       "      <td>0.122628</td>\n",
       "      <td>0.622252</td>\n",
       "    </tr>\n",
       "    <tr>\n",
       "      <th>22</th>\n",
       "      <td>0.305003</td>\n",
       "      <td>0.820641</td>\n",
       "    </tr>\n",
       "    <tr>\n",
       "      <th>23</th>\n",
       "      <td>0.080013</td>\n",
       "      <td>0.391617</td>\n",
       "    </tr>\n",
       "    <tr>\n",
       "      <th>24</th>\n",
       "      <td>0.150050</td>\n",
       "      <td>0.877426</td>\n",
       "    </tr>\n",
       "    <tr>\n",
       "      <th>25</th>\n",
       "      <td>0.168215</td>\n",
       "      <td>0.462498</td>\n",
       "    </tr>\n",
       "    <tr>\n",
       "      <th>26</th>\n",
       "      <td>0.097032</td>\n",
       "      <td>0.466844</td>\n",
       "    </tr>\n",
       "    <tr>\n",
       "      <th>27</th>\n",
       "      <td>0.118155</td>\n",
       "      <td>0.998479</td>\n",
       "    </tr>\n",
       "    <tr>\n",
       "      <th>28</th>\n",
       "      <td>0.090034</td>\n",
       "      <td>0.133057</td>\n",
       "    </tr>\n",
       "    <tr>\n",
       "      <th>29</th>\n",
       "      <td>0.127175</td>\n",
       "      <td>0.481384</td>\n",
       "    </tr>\n",
       "    <tr>\n",
       "      <th>30</th>\n",
       "      <td>0.120124</td>\n",
       "      <td>0.223185</td>\n",
       "    </tr>\n",
       "    <tr>\n",
       "      <th>31</th>\n",
       "      <td>0.200370</td>\n",
       "      <td>0.554892</td>\n",
       "    </tr>\n",
       "  </tbody>\n",
       "</table>\n",
       "</div>"
      ],
      "text/plain": [
       "    Percent error 1 step  Percent error 2 step (at init)\n",
       "0               0.119572                        0.341600\n",
       "1               0.166481                        0.413986\n",
       "2               0.083387                        0.419387\n",
       "3               0.096609                        0.244763\n",
       "4               0.086089                        0.387169\n",
       "5               0.176502                        0.431386\n",
       "6               0.105073                        0.329043\n",
       "7               0.146167                        0.610359\n",
       "8               0.184844                        0.700610\n",
       "9               0.112746                        0.302225\n",
       "10              0.112048                        1.256010\n",
       "11              0.118429                        1.427872\n",
       "12              0.056600                        0.126272\n",
       "13              0.082464                        0.309650\n",
       "14              0.107866                        0.365993\n",
       "15              0.148569                        0.933654\n",
       "16              0.071884                        0.675813\n",
       "17              0.076133                        0.273521\n",
       "18              0.246156                        2.269420\n",
       "19              0.093144                        1.225038\n",
       "20              0.077894                        0.497711\n",
       "21              0.122628                        0.622252\n",
       "22              0.305003                        0.820641\n",
       "23              0.080013                        0.391617\n",
       "24              0.150050                        0.877426\n",
       "25              0.168215                        0.462498\n",
       "26              0.097032                        0.466844\n",
       "27              0.118155                        0.998479\n",
       "28              0.090034                        0.133057\n",
       "29              0.127175                        0.481384\n",
       "30              0.120124                        0.223185\n",
       "31              0.200370                        0.554892"
      ]
     },
     "execution_count": 12,
     "metadata": {},
     "output_type": "execute_result"
    }
   ],
   "source": [
    "xy_fine = jnp.vstack(build_xy_grid([0,1],[0,1],100,100))\n",
    "table_u_errors(xy_fine,(u_model,)*m,u_sol,list(map(jax.vmap,u_true_functions)),all_u_params_init)"
   ]
  },
  {
   "cell_type": "code",
   "execution_count": 13,
   "metadata": {},
   "outputs": [
    {
     "data": {
      "image/png": "[encoded data removed]",
      "text/plain": [
       "<Figure size 1200x500 with 3 Axes>"
      ]
     },
     "metadata": {},
     "output_type": "display_data"
    },
    {
     "data": {
      "image/png": "[encoded data removed]",
      "text/plain": [
       "<Figure size 1200x500 with 3 Axes>"
      ]
     },
     "metadata": {},
     "output_type": "display_data"
    },
    {
     "data": {
      "image/png": "[encoded data removed]",
      "text/plain": [
       "<Figure size 1200x500 with 3 Axes>"
      ]
     },
     "metadata": {},
     "output_type": "display_data"
    }
   ],
   "source": [
    "for i in range(m):\n",
    "    xy_fine = jnp.vstack(build_xy_grid([0,1],[0,1],100,100))\n",
    "    solution_index = i\n",
    "    true_func_vals = jax.vmap(u_true_functions[solution_index])(xy_fine)\n",
    "    onestep_vals = u_model.point_evaluate(xy_fine,u_sol[solution_index])\n",
    "    interpolant_vals = u_model.point_evaluate(xy_fine,u_init[solution_index])\n",
    "    # print(\"1step NRMSE: \",get_nrmse(true_func_vals,onestep_vals),\"interpolant NRMSE: \",get_nrmse(true_func_vals,interpolant_vals))\n",
    "    if i<3:\n",
    "        plt.figure(figsize=(12,5))\n",
    "        plt.subplot(1,3,1)\n",
    "        \n",
    "        plt.tricontourf(*xy_fine.T,true_func_vals)\n",
    "        plt.scatter(*xy_obs[i].T)\n",
    "        plt.scatter(*collocation_points[0].T,c='black',s = 4)\n",
    "        plt.title(\"Truth\")\n",
    "        plt.subplot(1,3,2)\n",
    "        plt.tricontourf(*xy_fine.T,onestep_vals)\n",
    "        plt.title(\"Onestep\")\n",
    "        plt.subplot(1,3,3)\n",
    "        plt.tricontourf(*xy_fine.T,interpolant_vals)\n",
    "        plt.title(\"Twostep\")\n",
    "        plt.show()\n"
   ]
  },
  {
   "cell_type": "code",
   "execution_count": 14,
   "metadata": {},
   "outputs": [
    {
     "name": "stderr",
     "output_type": "stream",
     "text": [
      "  0%|          | 1/301 [00:30<2:32:22, 30.47s/it]"
     ]
    },
    {
     "name": "stdout",
     "output_type": "stream",
     "text": [
      "Iteration 0, loss = 0.0003474, gradnorm = 1.364e+03, alpha = 2.5, improvement_ratio = 1.0\n"
     ]
    },
    {
     "name": "stderr",
     "output_type": "stream",
     "text": [
      "  1%|          | 2/301 [00:31<1:04:14, 12.89s/it]"
     ]
    },
    {
     "name": "stdout",
     "output_type": "stream",
     "text": [
      "Iteration 1, loss = 0.0002005, gradnorm = 0.0003313, alpha = 2.083, improvement_ratio = 1.0\n"
     ]
    },
    {
     "name": "stderr",
     "output_type": "stream",
     "text": [
      "  1%|          | 3/301 [00:31<36:06,  7.27s/it]  "
     ]
    },
    {
     "name": "stdout",
     "output_type": "stream",
     "text": [
      "Iteration 2, loss = 0.0001468, gradnorm = 0.0001065, alpha = 1.736, improvement_ratio = 1.0\n"
     ]
    },
    {
     "name": "stderr",
     "output_type": "stream",
     "text": [
      "  1%|▏         | 4/301 [00:32<22:54,  4.63s/it]"
     ]
    },
    {
     "name": "stdout",
     "output_type": "stream",
     "text": [
      "Iteration 3, loss = 0.0001185, gradnorm = 7.058e-05, alpha = 1.447, improvement_ratio = 1.0\n"
     ]
    },
    {
     "name": "stderr",
     "output_type": "stream",
     "text": [
      "  2%|▏         | 5/301 [00:32<15:38,  3.17s/it]"
     ]
    },
    {
     "name": "stdout",
     "output_type": "stream",
     "text": [
      "Iteration 4, loss = 0.0001028, gradnorm = 4.839e-05, alpha = 1.206, improvement_ratio = 1.0\n"
     ]
    },
    {
     "name": "stderr",
     "output_type": "stream",
     "text": [
      "  2%|▏         | 6/301 [00:33<11:15,  2.29s/it]"
     ]
    },
    {
     "name": "stdout",
     "output_type": "stream",
     "text": [
      "Iteration 5, loss = 9.303e-05, gradnorm = 3.441e-05, alpha = 1.005, improvement_ratio = 1.0\n"
     ]
    },
    {
     "name": "stderr",
     "output_type": "stream",
     "text": [
      " 34%|███▎      | 101/301 [01:28<01:56,  1.72it/s]"
     ]
    },
    {
     "name": "stdout",
     "output_type": "stream",
     "text": [
      "Iteration 100, loss = 1.6e-06, gradnorm = 1.38e-07, alpha = 3.019e-08, improvement_ratio = 1.0\n"
     ]
    },
    {
     "name": "stderr",
     "output_type": "stream",
     "text": [
      " 67%|██████▋   | 201/301 [02:26<00:58,  1.72it/s]"
     ]
    },
    {
     "name": "stdout",
     "output_type": "stream",
     "text": [
      "Iteration 200, loss = 9.211e-07, gradnorm = 5.232e-07, alpha = 8.333e-09, improvement_ratio = 0.9983\n"
     ]
    },
    {
     "name": "stderr",
     "output_type": "stream",
     "text": [
      "100%|██████████| 301/301 [03:24<00:00,  1.47it/s]"
     ]
    },
    {
     "name": "stdout",
     "output_type": "stream",
     "text": [
      "Iteration 300, loss = 8.892e-07, gradnorm = 2.621e-06, alpha = 8.333e-09, improvement_ratio = 1.009\n"
     ]
    },
    {
     "name": "stderr",
     "output_type": "stream",
     "text": [
      "\n",
      "  0%|          | 1/301 [00:32<2:41:34, 32.32s/it]"
     ]
    },
    {
     "name": "stdout",
     "output_type": "stream",
     "text": [
      "Iteration 0, loss = 0.009521, gradnorm = 1.36e+03, alpha = 2.5, improvement_ratio = 1.0\n"
     ]
    },
    {
     "name": "stderr",
     "output_type": "stream",
     "text": [
      "  1%|          | 2/301 [00:33<1:09:39, 13.98s/it]"
     ]
    },
    {
     "name": "stdout",
     "output_type": "stream",
     "text": [
      "Iteration 1, loss = 0.006909, gradnorm = 0.0009825, alpha = 2.083, improvement_ratio = 1.0\n"
     ]
    },
    {
     "name": "stderr",
     "output_type": "stream",
     "text": [
      "  1%|          | 3/301 [00:34<40:18,  8.12s/it]  "
     ]
    },
    {
     "name": "stdout",
     "output_type": "stream",
     "text": [
      "Iteration 2, loss = 0.005547, gradnorm = 0.0005425, alpha = 1.736, improvement_ratio = 1.0\n"
     ]
    },
    {
     "name": "stderr",
     "output_type": "stream",
     "text": [
      "  1%|▏         | 4/301 [00:35<26:32,  5.36s/it]"
     ]
    },
    {
     "name": "stdout",
     "output_type": "stream",
     "text": [
      "Iteration 3, loss = 0.00474, gradnorm = 0.000388, alpha = 1.447, improvement_ratio = 1.0\n"
     ]
    },
    {
     "name": "stderr",
     "output_type": "stream",
     "text": [
      "  2%|▏         | 5/301 [00:36<18:56,  3.84s/it]"
     ]
    },
    {
     "name": "stdout",
     "output_type": "stream",
     "text": [
      "Iteration 4, loss = 0.004247, gradnorm = 0.0002869, alpha = 1.206, improvement_ratio = 1.0\n"
     ]
    },
    {
     "name": "stderr",
     "output_type": "stream",
     "text": [
      "  2%|▏         | 6/301 [00:38<14:21,  2.92s/it]"
     ]
    },
    {
     "name": "stdout",
     "output_type": "stream",
     "text": [
      "Iteration 5, loss = 0.003936, gradnorm = 0.0002189, alpha = 1.005, improvement_ratio = 1.0\n"
     ]
    },
    {
     "name": "stderr",
     "output_type": "stream",
     "text": [
      " 34%|███▎      | 101/301 [02:26<03:47,  1.14s/it]"
     ]
    },
    {
     "name": "stdout",
     "output_type": "stream",
     "text": [
      "Iteration 100, loss = 6.471e-05, gradnorm = 1.163e-06, alpha = 3.019e-08, improvement_ratio = 1.0\n"
     ]
    },
    {
     "name": "stderr",
     "output_type": "stream",
     "text": [
      " 67%|██████▋   | 201/301 [04:20<01:53,  1.14s/it]"
     ]
    },
    {
     "name": "stdout",
     "output_type": "stream",
     "text": [
      "Iteration 200, loss = 2.858e-05, gradnorm = 8.695e-06, alpha = 8.333e-09, improvement_ratio = 1.001\n"
     ]
    },
    {
     "name": "stderr",
     "output_type": "stream",
     "text": [
      "100%|██████████| 301/301 [06:14<00:00,  1.24s/it]"
     ]
    },
    {
     "name": "stdout",
     "output_type": "stream",
     "text": [
      "Iteration 300, loss = 2.43e-05, gradnorm = 1.36e-05, alpha = 8.333e-09, improvement_ratio = 0.9999\n"
     ]
    },
    {
     "name": "stderr",
     "output_type": "stream",
     "text": [
      "\n"
     ]
    }
   ],
   "source": [
    "# Backward operator error\n",
    "\n",
    "# Testing grid\n",
    "xy_fine = jnp.vstack(build_xy_grid([0,1],[0,1],100,100))\n",
    "\n",
    "# Simulate u\n",
    "M = 1\n",
    "\n",
    "kernel_GP = get_gaussianRBF(0.5) # Same regularity as training u's\n",
    "# Sample M training functions from GP(0,K)\n",
    "u_news_ = GP_sampler(num_samples = M,\n",
    "                X = xy_pairs, \n",
    "                kernel = kernel_GP,\n",
    "                reg = 1e-12,\n",
    "                seed = run\n",
    "                )\n",
    "u_news = tuple([jax.vmap(u_new_) for u_new_ in u_news_]) # vmap'ed\n",
    "f_news = tuple([jax.vmap(get_rhs_darcy(u_new_)) for u_new_ in u_news_]) #vmap'ed\n",
    "\n",
    "# 1_5 step\n",
    "\n",
    "# Collocation points where to solve for \\hat P (u) = f_new\n",
    "num_interior_points = 256\n",
    "num_grid_points = 20\n",
    "# Sample collocation points for learning u\n",
    "xy_interiors,xy_boundarys = sample_multiple_xy_grids_latin(\n",
    "        num_functions = 1,\n",
    "        num_interior = num_interior_points,\n",
    "        x_range = [0,1],\n",
    "        y_range = [0,1],\n",
    "        num_grid_x_bdy = num_grid_points,\n",
    "        num_grid_y_bdy = num_grid_points,\n",
    "        key = pkey(0)\n",
    "    )\n",
    "# Boundary pairs\n",
    "xy_bdy = xy_boundarys[0]\n",
    "# Interior pairs (where PDE is satisfied)\n",
    "xy_int = xy_interiors[0]\n",
    "# Union of xy_bdy\n",
    "xy_all = jnp.vstack([xy_int,xy_bdy])\n",
    "\n",
    "# u_new object\n",
    "u_model = CholInducedRKHS(\n",
    "    xy_all,\n",
    "    feature_operators,\n",
    "    k_u\n",
    "    )\n",
    "\n",
    "def get_u_pde_adj(u_new,f_new,method):\n",
    "    \n",
    "    @jit\n",
    "    def get_pred_hatP(input_features):\n",
    "        return P_model.predict(input_features,P_sol)\n",
    "                \n",
    "    @jit\n",
    "    def get_pred_hatP2step(input_features):\n",
    "        init_P_features = jnp.vstack([EqnModel.single_eqn_features(u_params,eval_points) \n",
    "                                                for u_params,eval_points in zip(\n",
    "                                                all_u_params_init,\n",
    "                                                EqnModel.collocation_points)])\n",
    "        rhs_stacked = EqnModel.stacked_collocation_rhs\n",
    "        P_params_naive = P_model.get_fitted_params(init_P_features,rhs_stacked)\n",
    "        return P_model.predict(input_features,P_params_naive)\n",
    "\n",
    "    \n",
    "\n",
    "    new_obs = u_new(xy_bdy) # Boundary conditions values that need to be satisfied\n",
    "\n",
    "\n",
    "    class PdeModel():\n",
    "\n",
    "        datafit_weight = 50.\n",
    "\n",
    "        @jit\n",
    "        def get_grid_features(u_params):\n",
    "            evaluation = u_model.evaluate_operators(feature_operators,xy_int,u_params)\n",
    "            grid_features = evaluation.reshape(len(xy_int),len(feature_operators),order = 'F')\n",
    "            return jnp.hstack([xy_int,grid_features])\n",
    "        \n",
    "        @jit\n",
    "        def get_grid_target(u_params):\n",
    "            return f_new(xy_int)\n",
    "        \n",
    "        @jit\n",
    "        def eval_obs_points(u_params):\n",
    "            return u_model.point_evaluate(xy_bdy,u_params)\n",
    "        \n",
    "        @jit\n",
    "        def datafit_residual(u_params):\n",
    "            obs_preds = PdeModel.eval_obs_points(u_params)\n",
    "            return new_obs - obs_preds\n",
    "        \n",
    "        @jit\n",
    "        def equation_residual(u_params):\n",
    "            P_features = PdeModel.get_grid_features(u_params)\n",
    "            P_model_preds = jnp.where(method == 1, get_pred_hatP(P_features), get_pred_hatP2step(P_features))\n",
    "            ugrid_target = PdeModel.get_grid_target(u_params)\n",
    "            return (ugrid_target - P_model_preds)\n",
    "        \n",
    "        @jit\n",
    "        def F(u_params):\n",
    "            eqn_res = PdeModel.equation_residual(u_params)\n",
    "            data_res = PdeModel.datafit_residual(u_params)\n",
    "            return jnp.hstack([\n",
    "                PdeModel.datafit_weight * data_res/jnp.sqrt(len(data_res)),\n",
    "                eqn_res/jnp.sqrt(len(eqn_res))\n",
    "                ])\n",
    "        \n",
    "        jac = jit(jacrev(F))\n",
    "\n",
    "        def loss(u_params):\n",
    "            return jnp.linalg.norm(PdeModel.F(u_params))**2\n",
    "        \n",
    "        @jit\n",
    "        def damping_matrix(u_params):\n",
    "            return u_model.kmat+1e-5 * diagpart(u_model.kmat)\n",
    "    \n",
    "    # Optimize\n",
    "    new_u_init = jnp.zeros(xy_all.shape[0]*len(feature_operators))\n",
    "\n",
    "    # Optimizer hyperparameters\n",
    "    optparams = LMParams(max_iter = 301,\n",
    "                        line_search_increase_ratio = 1.4,\n",
    "                        print_every = 100,\n",
    "                        tol = 1e-10)\n",
    "    \n",
    "    u_params_pde, _ = CholeskyLM(\n",
    "        new_u_init.copy(),\n",
    "        PdeModel,\n",
    "        beta = 0,\n",
    "        optParams = optparams\n",
    "    )\n",
    "\n",
    "    # u_params_pde,_ = CholeskyLM(\n",
    "    #     new_u_init.copy(),\n",
    "    #     PdeModel,\n",
    "    #     beta = 0.,\n",
    "    #     max_iter = 101,\n",
    "    #     init_alpha=0.05,\n",
    "    #     line_search_increase_ratio=1.4,\n",
    "    #     print_every = 10\n",
    "    # )\n",
    "\n",
    "    # u_pde_adj,_ = SVD_LM(u_params_pde,PdeModel,1e-1,150)\n",
    "\n",
    "#     u_pde_adj,_ = SVD_LM(\n",
    "#     u_params_pde,\n",
    "#     EqnModel,\n",
    "#     beta = 1e-13,\n",
    "#     optParams = optparams\n",
    "# )\n",
    "\n",
    "    return u_params_pde\n",
    "\n",
    "\n",
    "\n",
    "# # Define fine grid to test\n",
    "# num_fine_grid = 50\n",
    "# x_fine,y_fine = np.meshgrid(np.linspace(0,1,num_fine_grid),np.linspace(0,1,num_fine_grid))\n",
    "# xy_fine = np.vstack([x_fine.flatten(),y_fine.flatten()]).T\n",
    "\n",
    "true = [u_new(xy_fine) for u_new in u_news]\n",
    "\n",
    "pred1_5 = [\n",
    "    u_model.point_evaluate(xy_fine,get_u_pde_adj(u_new,f_new,method=1))\n",
    "    for u_new,f_new in zip(u_news,f_news)\n",
    "]    \n",
    "\n",
    "pred2 = [\n",
    "    u_model.point_evaluate(xy_fine,get_u_pde_adj(u_new,f_new,method=2))\n",
    "    for u_new,f_new in zip(u_news,f_news)\n",
    "]\n",
    "\n",
    "i_opt_1_5 = jnp.mean(jnp.array([get_nrmse(t,p) for t,p in zip(true,pred1_5)]))\n",
    "i_opt_2 = jnp.mean(jnp.array([get_nrmse(t,p) for t,p in zip(true,pred2)]))"
   ]
  },
  {
   "cell_type": "code",
   "execution_count": 15,
   "metadata": {},
   "outputs": [
    {
     "data": {
      "text/plain": [
       "Array(0.00119738, dtype=float64)"
      ]
     },
     "execution_count": 15,
     "metadata": {},
     "output_type": "execute_result"
    }
   ],
   "source": [
    "i_opt_1_5"
   ]
  },
  {
   "cell_type": "code",
   "execution_count": 16,
   "metadata": {},
   "outputs": [
    {
     "data": {
      "text/plain": [
       "Array(0.00649349, dtype=float64)"
      ]
     },
     "execution_count": 16,
     "metadata": {},
     "output_type": "execute_result"
    },
    {
     "ename": "",
     "evalue": "",
     "output_type": "error",
     "traceback": [
      "\u001b[1;31mThe Kernel crashed while executing code in the the current cell or a previous cell. Please review the code in the cell(s) to identify a possible cause of the failure. Click <a href='https://aka.ms/vscodeJupyterKernelCrash'>here</a> for more info. View Jupyter <a href='command:jupyter.viewOutput'>log</a> for further details."
     ]
    }
   ],
   "source": [
    "i_opt_2"
   ]
  },
  {
   "cell_type": "code",
   "execution_count": null,
   "metadata": {},
   "outputs": [],
   "source": [
    "# Operator learning error \n",
    "def run_exp_opt_err(m,obs_pts,run):\n",
    "    '''\n",
    "    Computes operator learning error for 1 step and 2 step methods.\n",
    "\n",
    "    Args:\n",
    "        m (int): Number of functions.\n",
    "        obs_pts (int): Number of observed points.\n",
    "        run (int): seed.\n",
    "    \n",
    "    Returns:\n",
    "        i_opt_1_5 (float): Error for Phat (1 step) for in-sample functions.\n",
    "        i_opt_2 (float): Error for Phat (2 step) for in-sample functions.\n",
    "\n",
    "    '''\n",
    "    \n",
    "    # Sample m training functions from a GP\n",
    "    kernel_GP = get_gaussianRBF(0.5)\n",
    "    xy_pairs = get_xy_grid_pairs(50,0,1,0,1) # Pairs to build interpolants\n",
    "    u_true_functions = tuple(GP_sampler(num_samples = m,\n",
    "                                            X = xy_pairs, \n",
    "                                            kernel = kernel_GP,\n",
    "                                            reg = 1e-12,\n",
    "                                            seed = run\n",
    "                                        )\n",
    "                                        )\n",
    "    # Permeability field A\n",
    "    def A(xy):\n",
    "        x = xy[0]\n",
    "        y = xy[1]\n",
    "        return jnp.exp(jnp.sin(jnp.cos(x) + jnp.cos(y)))\n",
    "\n",
    "    # Compute f = Pu for a given u\n",
    "    def get_rhs_darcy(u):\n",
    "        def Agradu(xy):\n",
    "            return A(xy)*jax.grad(u)(xy)\n",
    "        def Pu(xy):\n",
    "            return jnp.trace(jax.jacfwd(Agradu)(xy))\n",
    "        return Pu\n",
    "\n",
    "    # Lists of m true u's and f's\n",
    "    vmapped_u_true_functions = tuple([jax.vmap(u) for u in u_true_functions]) # vmap'ed\n",
    "    rhs_functions = tuple([jax.vmap(get_rhs_darcy(u)) for u in u_true_functions]) #vmap'ed\n",
    "\n",
    "\n",
    "    # Sample collocation points for f using same uniform grid for every function\n",
    "    xy_int_single,xy_bdy_single = build_xy_grid([0,1],[0,1],10,10)\n",
    "    xy_ints = (xy_int_single,)*m\n",
    "    xy_bdys = (xy_bdy_single,)*m\n",
    "\n",
    "\n",
    "    xy_all = tuple(jnp.vstack([xy_int,xy_bdy]) for xy_int,xy_bdy in zip(xy_ints,xy_bdys))\n",
    "\n",
    "    # List of number of observation points per u\n",
    "    num_obs = [obs_pts]*m\n",
    "\n",
    "    # Get (X^m, u^m(X^m))\n",
    "    xy_obs,u_obs = build_u_obs_all(\n",
    "        num_obs,\n",
    "        xy_ints,\n",
    "        xy_bdys,\n",
    "        vmapped_u_true_functions,\n",
    "        pkey(run)\n",
    "    )\n",
    "\n",
    "    # Build operator features\n",
    "    def diff_x_op(k,index):\n",
    "        return get_selected_grad(k,index,0)\n",
    "\n",
    "    def diff_xx_op(k,index):\n",
    "        return get_selected_grad(get_selected_grad(k,index,0),index,0)\n",
    "\n",
    "    def diff_y_op(k,index):\n",
    "        return get_selected_grad(k,index,1)\n",
    "\n",
    "    def diff_yy_op(k,index):\n",
    "        return get_selected_grad(get_selected_grad(k,index,1),index,1)\n",
    "\n",
    "    def diff_xy_op(k,index):\n",
    "        return get_selected_grad(get_selected_grad(k,index,0),index,1)\n",
    "\n",
    "    feature_operators = tuple([eval_k,diff_x_op,diff_xx_op,diff_y_op,diff_yy_op,diff_xy_op])\n",
    "\n",
    "    # Build interpolants for u's\n",
    "    k_u = get_gaussianRBF(0.5)\n",
    "    u_operators = (eval_k,)\n",
    "\n",
    "    # u_models = tuple([CholInducedRKHS(\n",
    "    #     xy_all[i],\n",
    "    #     u_operators,\n",
    "    #     k_u\n",
    "    #     ) for i in range(m)])\n",
    "\n",
    "    u_model = CholInducedRKHS(xy_all[0],u_operators,k_u)\n",
    "\n",
    "    # Get necessary tuples\n",
    "    observation_points = tuple(xy_obs)\n",
    "    observation_values = tuple(u_obs)\n",
    "    collocation_points = xy_ints\n",
    "\n",
    "\n",
    "    rhs_values = tuple(rhs_func(xy_int) for xy_int,rhs_func in zip(xy_ints,rhs_functions))\n",
    "\n",
    "    all_u_params_init = tuple([\n",
    "        u_model.get_fitted_params(obs_loc,obs_val,lam = 1e-8)\n",
    "        for obs_loc,obs_val in zip(observation_points,observation_values)])\n",
    "\n",
    "    grid_features_u_init = jnp.vstack([(\n",
    "        u_model.evaluate_operators(feature_operators,xy_int,model_params)).reshape(\n",
    "                len(xy_int),\n",
    "                len(feature_operators),\n",
    "                order = 'F'\n",
    "            ) for xy_int,model_params in zip(xy_ints,all_u_params_init) ])\n",
    "\n",
    "    grid_features_u_init = jnp.hstack([jnp.vstack(xy_ints),grid_features_u_init])\n",
    "\n",
    "    # P kernel\n",
    "    k_P_u_part = get_centered_scaled_poly_kernel(1,grid_features_u_init[:,2:],c=1)\n",
    "    k_P_x_part = get_gaussianRBF(0.4)\n",
    "\n",
    "    def k_P(x,y):\n",
    "        return k_P_x_part(x[:2],y[:2]) * k_P_u_part(x[2:],y[2:])\n",
    "        \n",
    "\n",
    "    # P object        \n",
    "    P_model = InducedOperatorModel(grid_features_u_init,k_P)\n",
    "    num_P_params = len(grid_features_u_init) \n",
    "\n",
    "    # P, u, f object\n",
    "    collocation_points = xy_ints\n",
    "    EqnModel  = SharedOperatorPDEModel(\n",
    "        P_model,\n",
    "        u_model,\n",
    "        observation_points,\n",
    "        observation_values,\n",
    "        collocation_points,\n",
    "        feature_operators,\n",
    "        rhs_values,\n",
    "        datafit_weight = 5.,\n",
    "        num_P_operator_params = 200\n",
    "    )\n",
    "\n",
    "    # OPTIMIZE\n",
    "\n",
    "    u_init = jnp.stack(all_u_params_init)\n",
    "    P_init = P_model.get_fitted_params(grid_features_u_init,jnp.hstack(rhs_values),lam = 1e-4)\n",
    "\n",
    "    beta_reg = 1e-8\n",
    "\n",
    "    from Optimizers import BlockArrowLM,LMParams\n",
    "    lm_params = LMParams(max_iter = 501,init_alpha = 1e-1,min_alpha = 1e-12,print_every = 100)\n",
    "    u_sol,P_sol,arrow_conv = BlockArrowLM(\n",
    "        u_init,P_init,EqnModel,beta_reg,beta_reg,\n",
    "        optParams=lm_params\n",
    "        )\n",
    "    \n",
    "    # Backward operator error\n",
    "\n",
    "    # Testing grid\n",
    "    xy_fine = jnp.vstack(build_xy_grid([0,1],[0,1],100,100))\n",
    "\n",
    "    # Simulate u\n",
    "    M = 5\n",
    "\n",
    "    kernel_GP = get_gaussianRBF(0.5) # Same regularity as training u's\n",
    "    # Sample M training functions from GP(0,K)\n",
    "    u_news_ = GP_sampler(num_samples = M,\n",
    "                    X = xy_pairs, \n",
    "                    kernel = kernel_GP,\n",
    "                    reg = 1e-12,\n",
    "                    seed = run\n",
    "                    )\n",
    "    u_news = tuple([jax.vmap(u_new_) for u_new_ in u_news_]) # vmap'ed\n",
    "    f_news = tuple([jax.vmap(get_rhs_darcy(u_new_)) for u_new_ in u_news_]) #vmap'ed\n",
    "\n",
    "    # 1_5 step\n",
    "\n",
    "    # Collocation points where to solve for \\hat P (u) = f_new\n",
    "    num_interior_points = 256\n",
    "    num_grid_points = 20\n",
    "    # Sample collocation points for learning u\n",
    "    xy_interiors,xy_boundarys = sample_multiple_xy_grids_latin(\n",
    "            num_functions = 1,\n",
    "            num_interior = num_interior_points,\n",
    "            x_range = [0,1],\n",
    "            y_range = [0,1],\n",
    "            num_grid_x_bdy = num_grid_points,\n",
    "            num_grid_y_bdy = num_grid_points,\n",
    "            key = pkey(0)\n",
    "        )\n",
    "    # Boundary pairs\n",
    "    xy_bdy = xy_boundarys[0]\n",
    "    # Interior pairs (where PDE is satisfied)\n",
    "    xy_int = xy_interiors[0]\n",
    "    # Union of xy_bdy\n",
    "    xy_all = jnp.vstack([xy_int,xy_bdy])\n",
    "\n",
    "    # u_new object\n",
    "    u_model = CholInducedRKHS(\n",
    "        xy_all,\n",
    "        feature_operators,\n",
    "        k_u\n",
    "        )\n",
    "\n",
    "    def get_u_pde_adj(u_new,f_new,method):\n",
    "        \n",
    "        @jit\n",
    "        def get_pred_hatP(input_features):\n",
    "            return P_model.predict(input_features,P_sol)\n",
    "                    \n",
    "        @jit\n",
    "        def get_pred_hatP2step(input_features):\n",
    "            init_P_features = jnp.vstack([EqnModel.single_eqn_features(u_params,eval_points) \n",
    "                                                    for u_params,eval_points in zip(\n",
    "                                                    all_u_params_init,\n",
    "                                                    EqnModel.collocation_points)])\n",
    "            rhs_stacked = EqnModel.stacked_collocation_rhs\n",
    "            P_params_naive = P_model.get_fitted_params(init_P_features,rhs_stacked)\n",
    "            return P_model.predict(input_features,P_params_naive)\n",
    "\n",
    "        \n",
    "\n",
    "        new_obs = u_new(xy_bdy) # Boundary conditions values that need to be satisfied\n",
    "\n",
    "\n",
    "        class PdeModel():\n",
    "\n",
    "            datafit_weight = 50.\n",
    "\n",
    "            @jit\n",
    "            def get_grid_features(u_params):\n",
    "                evaluation = u_model.evaluate_operators(feature_operators,xy_int,u_params)\n",
    "                grid_features = evaluation.reshape(len(xy_int),len(feature_operators),order = 'F')\n",
    "                return jnp.hstack([xy_int,grid_features])\n",
    "            \n",
    "            @jit\n",
    "            def get_grid_target(u_params):\n",
    "                return f_new(xy_int)\n",
    "            \n",
    "            @jit\n",
    "            def eval_obs_points(u_params):\n",
    "                return u_model.point_evaluate(xy_bdy,u_params)\n",
    "            \n",
    "            @jit\n",
    "            def datafit_residual(u_params):\n",
    "                obs_preds = PdeModel.eval_obs_points(u_params)\n",
    "                return new_obs - obs_preds\n",
    "            \n",
    "            @jit\n",
    "            def equation_residual(u_params):\n",
    "                P_features = PdeModel.get_grid_features(u_params)\n",
    "                P_model_preds = jnp.where(method == 1, get_pred_hatP(P_features), get_pred_hatP2step(P_features))\n",
    "                ugrid_target = PdeModel.get_grid_target(u_params)\n",
    "                return (ugrid_target - P_model_preds)\n",
    "            \n",
    "            @jit\n",
    "            def F(u_params):\n",
    "                eqn_res = PdeModel.equation_residual(u_params)\n",
    "                data_res = PdeModel.datafit_residual(u_params)\n",
    "                return jnp.hstack([\n",
    "                    PdeModel.datafit_weight * data_res/jnp.sqrt(len(data_res)),\n",
    "                    eqn_res/jnp.sqrt(len(eqn_res))\n",
    "                    ])\n",
    "            \n",
    "            jac = jit(jacrev(F))\n",
    "\n",
    "            def loss(u_params):\n",
    "                return jnp.linalg.norm(PdeModel.F(u_params))**2\n",
    "            \n",
    "            @jit\n",
    "            def damping_matrix(u_params):\n",
    "                return u_model.kmat+1e-5 * diagpart(u_model.kmat)\n",
    "        \n",
    "        # Optimize\n",
    "        new_u_init = jnp.zeros(xy_all.shape[0]*len(feature_operators))\n",
    "\n",
    "        # Optimizer hyperparameters\n",
    "        optparams = LMParams(max_iter = 301,\n",
    "                            line_search_increase_ratio = 1.4,\n",
    "                            print_every = 100,\n",
    "                            tol = 1e-10)\n",
    "        \n",
    "        u_params_pde, _ = CholeskyLM(\n",
    "            new_u_init.copy(),\n",
    "            PdeModel,\n",
    "            beta = 0,\n",
    "            optParams = optparams\n",
    "        )\n",
    "\n",
    "\n",
    "        return u_params_pde\n",
    "\n",
    "    true = [u_new(xy_fine) for u_new in u_news]\n",
    "\n",
    "    pred1_5 = [\n",
    "        u_model.point_evaluate(xy_fine,get_u_pde_adj(u_new,f_new,method=1))\n",
    "        for u_new,f_new in zip(u_news,f_news)\n",
    "    ]    \n",
    "\n",
    "    pred2 = [\n",
    "        u_model.point_evaluate(xy_fine,get_u_pde_adj(u_new,f_new,method=2))\n",
    "        for u_new,f_new in zip(u_news,f_news)\n",
    "    ]\n",
    "\n",
    "    i_opt_1_5 = jnp.mean(jnp.array([get_nrmse(t,p) for t,p in zip(true,pred1_5)]))\n",
    "    i_opt_2 = jnp.mean(jnp.array([get_nrmse(t,p) for t,p in zip(true,pred2)]))\n",
    "    \n",
    "\n",
    "\n",
    "\n",
    "    return i_opt_1_5, i_opt_2"
   ]
  },
  {
   "cell_type": "code",
   "execution_count": null,
   "metadata": {},
   "outputs": [],
   "source": []
  },
  {
   "cell_type": "code",
   "execution_count": null,
   "metadata": {},
   "outputs": [],
   "source": []
  }
 ],
 "metadata": {
  "kernelspec": {
   "display_name": "kernel_eq",
   "language": "python",
   "name": "python3"
  },
  "language_info": {
   "codemirror_mode": {
    "name": "ipython",
    "version": 3
   },
   "file_extension": ".py",
   "mimetype": "text/x-python",
   "name": "python",
   "nbconvert_exporter": "python",
   "pygments_lexer": "ipython3",
   "version": "3.12.8"
  }
 },
 "nbformat": 4,
 "nbformat_minor": 2
}
