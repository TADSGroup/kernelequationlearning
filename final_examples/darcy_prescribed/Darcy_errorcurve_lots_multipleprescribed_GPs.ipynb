{
 "cells": [
  {
   "cell_type": "code",
   "execution_count": 1,
   "metadata": {},
   "outputs": [
    {
     "name": "stderr",
     "output_type": "stream",
     "text": [
      "/home/juanfelipe/anaconda3/envs/myenv/lib/python3.12/site-packages/tqdm/auto.py:21: TqdmWarning: IProgress not found. Please update jupyter and ipywidgets. See https://ipywidgets.readthedocs.io/en/stable/user_install.html\n",
      "  from .autonotebook import tqdm as notebook_tqdm\n"
     ]
    }
   ],
   "source": [
    "# imports\n",
    "import jax\n",
    "# jax.config.update(\"jax_default_device\",jax.devices()[1])\n",
    "jax.config.update(\"jax_enable_x64\", True)\n",
    "import jax.numpy as jnp\n",
    "from jax import jit,grad,jacfwd,jacrev,vmap\n",
    "from jax.random import PRNGKey as pkey\n",
    "from jax.scipy.linalg import solve\n",
    "# Other libraries\n",
    "import numpy as np\n",
    "import matplotlib.pyplot as plt\n",
    "from labellines import labelLines\n",
    "from matplotlib.lines import Line2D\n",
    "from tqdm.auto import tqdm\n",
    "# plt.style.use(\"ggplot\")\n",
    "from importlib import reload\n",
    "\n",
    "# Our libraries\n",
    "import KernelTools\n",
    "reload(KernelTools)\n",
    "from KernelTools import *\n",
    "from EquationModel import OperatorModel, OperatorPDEModel,CholInducedRKHS,InducedOperatorModel\n",
    "from plotting import plot_obs,plot_compare_error\n",
    "from evaluation_metrics import get_nrmse,table_u_errors\n",
    "from data_utils import (\n",
    "    get_xy_grid_pairs,\n",
    "    GP_sampler,\n",
    "    build_xy_grid,\n",
    "    sample_xy_grid_latin,\n",
    "    build_input_observations,\n",
    "    build_u_obs_single,\n",
    "    build_u_obs_all,\n",
    "    sample_multiple_xy_grids_latin\n",
    ")\n",
    "\n",
    "from Kernels import (\n",
    "    get_gaussianRBF,\n",
    "    get_centered_scaled_poly_kernel\n",
    ")\n",
    "\n",
    "import Optimizers\n",
    "import importlib\n",
    "importlib.reload(Optimizers)\n",
    "from Optimizers import CholeskyLM,SVD_LM\n",
    "from Optimizers.solvers_base import *\n"
   ]
  },
  {
   "cell_type": "markdown",
   "metadata": {},
   "source": [
    "## Operator learning errors"
   ]
  },
  {
   "cell_type": "code",
   "execution_count": 18,
   "metadata": {},
   "outputs": [],
   "source": [
    "def run_exp_opt_err(m,obs_pts,run):\n",
    "    \n",
    "    # Sample m training functions from a GP\n",
    "    kernel_GP = get_gaussianRBF(0.5)\n",
    "    xy_pairs = get_xy_grid_pairs(50,0,1,0,1) # Pairs to build interpolants\n",
    "    u_true_functions = tuple(GP_sampler(num_samples = m,\n",
    "                                            X = xy_pairs, \n",
    "                                            kernel = kernel_GP,\n",
    "                                            reg = 1e-12,\n",
    "                                            seed = 2024\n",
    "                                        )\n",
    "                                        )\n",
    "    # Permeability field A\n",
    "    def A(xy):\n",
    "        x = xy[0]\n",
    "        y = xy[1]\n",
    "        return jnp.exp(jnp.sin(jnp.cos(x) + jnp.cos(y)))\n",
    "\n",
    "    # Compute f = Pu for a given u\n",
    "    def get_rhs_darcy(u):\n",
    "        def Agradu(xy):\n",
    "            return A(xy)*jax.grad(u)(xy)\n",
    "        def Pu(xy):\n",
    "            return jnp.trace(jax.jacfwd(Agradu)(xy))\n",
    "        return Pu\n",
    "\n",
    "    # Lists of m true u's and f's\n",
    "    vmapped_u_true_functions = tuple([jax.vmap(u) for u in u_true_functions]) # vmap'ed\n",
    "    rhs_functions = tuple([jax.vmap(get_rhs_darcy(u)) for u in u_true_functions]) #vmap'ed\n",
    "\n",
    "    # Define the num of ghost points for each u\n",
    "    num_grid_points = 10\n",
    "    num_interior_points = 50\n",
    "\n",
    "    # # Sample collocation points for f using random points different for every function\n",
    "    # xy_ints,xy_bdys = sample_multiple_xy_grids_latin(\n",
    "    #         num_functions = m,\n",
    "    #         num_interior = num_interior_points,\n",
    "    #         x_range = [0,1],\n",
    "    #         y_range = [0,1],\n",
    "    #         num_grid_x_bdy = num_grid_points,\n",
    "    #         num_grid_y_bdy = num_grid_points,\n",
    "    #         key = pkey(23)\n",
    "    #     )\n",
    "    \n",
    "    # Sample collocation points for f using same uniform grid for every function\n",
    "    xy_ints = tuple(build_xy_grid([0,1],[0,1],7,7)[0] for m in range(m))\n",
    "    xy_bdys = tuple(build_xy_grid([0,1],[0,1],7,7)[1] for m in range(m))\n",
    "\n",
    "    xy_all = tuple(jnp.vstack([xy_int,xy_bdy]) for xy_int,xy_bdy in zip(xy_ints,xy_bdys))\n",
    "\n",
    "    # List of number of observation points per u\n",
    "    num_obs = [obs_pts]*m\n",
    "\n",
    "    # Get (X^m, u^m(X^m))\n",
    "    xy_obs,u_obs = build_u_obs_all(\n",
    "        num_obs,\n",
    "        xy_ints,\n",
    "        xy_bdys,\n",
    "        vmapped_u_true_functions,\n",
    "        pkey(5)\n",
    "    )\n",
    "\n",
    "    # Build operator features\n",
    "    def diff_x_op(k,index):\n",
    "        return get_selected_grad(k,index,0)\n",
    "\n",
    "    def diff_xx_op(k,index):\n",
    "        return get_selected_grad(get_selected_grad(k,index,0),index,0)\n",
    "\n",
    "    def diff_y_op(k,index):\n",
    "        return get_selected_grad(k,index,1)\n",
    "\n",
    "    def diff_yy_op(k,index):\n",
    "        return get_selected_grad(get_selected_grad(k,index,1),index,1)\n",
    "\n",
    "    def diff_xy_op(k,index):\n",
    "        return get_selected_grad(get_selected_grad(k,index,0),index,1)\n",
    "\n",
    "    feature_operators = tuple([eval_k,diff_x_op,diff_xx_op,diff_y_op,diff_yy_op,diff_xy_op])\n",
    "\n",
    "    # Build interpolants for u's\n",
    "    k_u = get_gaussianRBF(0.5)\n",
    "    u_operators = (eval_k,)\n",
    "    u_models = tuple([CholInducedRKHS(\n",
    "        xy_all[i],\n",
    "        u_operators,\n",
    "        k_u\n",
    "        ) for i in range(m)])\n",
    "    \n",
    "    # Get necessary tuples\n",
    "    observation_points = tuple(xy_obs)\n",
    "    observation_values = tuple(u_obs)\n",
    "    collocation_points = xy_ints\n",
    "\n",
    "\n",
    "    rhs_values = tuple(rhs_func(xy_int) for xy_int,rhs_func in zip(xy_ints,rhs_functions))\n",
    "\n",
    "    all_u_params_init = tuple([\n",
    "        model.get_fitted_params(obs_loc,obs_val)\n",
    "        for obs_loc,obs_val,model in zip(observation_points,observation_values,u_models)])\n",
    "\n",
    "    grid_features_u_init = jnp.vstack([(\n",
    "        model.evaluate_operators(feature_operators,xy_int,model_params)).reshape(\n",
    "                len(xy_int),\n",
    "                len(feature_operators),\n",
    "                order = 'F'\n",
    "            ) for xy_int,model,model_params in zip(xy_ints,u_models,all_u_params_init) ])\n",
    "    \n",
    "    grid_features_u_init = jnp.hstack([jnp.vstack(xy_ints),grid_features_u_init])\n",
    "    \n",
    "    # P kernel\n",
    "    k_P_u_part = get_centered_scaled_poly_kernel(1,grid_features_u_init[:,2:],c=1)\n",
    "    k_P_x_part = get_gaussianRBF(0.4)\n",
    "    \n",
    "    def k_P(x,y):\n",
    "        return k_P_x_part(x[:2],y[:2]) * k_P_u_part(x[2:],y[2:])\n",
    "        \n",
    "\n",
    "    # P object        \n",
    "    P_model = InducedOperatorModel(grid_features_u_init,k_P)\n",
    "    num_P_params = len(grid_features_u_init)\n",
    "\n",
    "    # P, u, f object\n",
    "    collocation_points = xy_ints\n",
    "    EqnModel  = OperatorPDEModel(\n",
    "        P_model,\n",
    "        u_models,\n",
    "        observation_points,\n",
    "        observation_values,\n",
    "        collocation_points,\n",
    "        feature_operators,\n",
    "        rhs_values,\n",
    "        datafit_weight = 5.,\n",
    "        num_P_operator_params = num_P_params\n",
    "    )\n",
    "\n",
    "    ### Optimize LM - new\n",
    "\n",
    "    # Initialize\n",
    "    rhs_values = tuple(rhs_func(int_points) for rhs_func,int_points in zip(rhs_functions,collocation_points))\n",
    "    print(jnp.hstack(rhs_values).shape)\n",
    "    print(grid_features_u_init.shape)\n",
    "    P_init = P_model.get_fitted_params(grid_features_u_init,jnp.hstack(rhs_values))\n",
    "    params_init = jnp.hstack(list(all_u_params_init)+[P_init])\n",
    "    # params_init = jnp.hstack(list(all_u_params_init)+[jnp.zeros(m*len(xy_ints[0]))])\n",
    "    \n",
    "    \n",
    "    # Optimizer hyperparameters\n",
    "    optparams = LMParams(max_iter = 301,\n",
    "                         line_search_increase_ratio = 1.4,\n",
    "                         print_every = 100,\n",
    "                         tol = 1e-10)\n",
    "    # Run CholeskyLM \n",
    "    params,convergence_data = CholeskyLM(\n",
    "        params_init.copy(),\n",
    "        EqnModel,\n",
    "        beta = 1e-8,\n",
    "        optParams = optparams\n",
    "    )\n",
    "    \n",
    "    p_adjusted,refine_convergence_data = SVD_LM(\n",
    "        params,\n",
    "        EqnModel,\n",
    "        beta = 1e-13,\n",
    "        optParams = optparams\n",
    "    )\n",
    "\n",
    "    # Optimized parameters\n",
    "    u_sols = EqnModel.get_u_params(p_adjusted)\n",
    "    P_sol = EqnModel.get_P_params(p_adjusted)\n",
    "\n",
    "\n",
    "    ### Errors loop\n",
    "\n",
    "    # Testing grid\n",
    "    num_fine_grid = 50\n",
    "    x_fine,y_fine = np.meshgrid(np.linspace(0,1,num_fine_grid+4)[2:-2],np.linspace(0,1,num_fine_grid+4)[2:-2])\n",
    "    xy_fine_int = np.vstack([x_fine.flatten(),y_fine.flatten()]).T\n",
    "    \n",
    "    # S_train for 1.5 step method\n",
    "    # model_grid_features_all = EqnModel.get_stacked_eqn_features(u_sols)\n",
    "    model_grid_features_all = jnp.vstack([EqnModel.single_eqn_features(u_model,u_params,eval_points) \n",
    "                                          for u_model,u_params,eval_points in zip(\n",
    "                                            EqnModel.u_models,\n",
    "                                            u_sols,\n",
    "                                            EqnModel.collocation_points)])\n",
    "\n",
    "    # S_train for 2 step method\n",
    "    #init_P_features = EqnModel.get_stacked_eqn_features(all_u_params_init)\n",
    "    init_P_features = jnp.vstack([EqnModel.single_eqn_features(u_model,u_params,eval_points) \n",
    "                                          for u_model,u_params,eval_points in zip(\n",
    "                                            EqnModel.u_models,\n",
    "                                            all_u_params_init,\n",
    "                                            EqnModel.collocation_points)])\n",
    "\n",
    "    # Backward operator error\n",
    "    \n",
    "    # Simulate u\n",
    "    M = 3\n",
    "    #M = 20\n",
    "    kernel_GP = get_gaussianRBF(0.5) # Same regularity as training u's\n",
    "    # Sample M training functions from GP(0,K)\n",
    "    u_news_ = GP_sampler(num_samples = M,\n",
    "                    X = xy_pairs, \n",
    "                    kernel = kernel_GP,\n",
    "                    reg = 1e-12,\n",
    "                    seed = run\n",
    "                    )\n",
    "    u_news = tuple([jax.vmap(u_new_) for u_new_ in u_news_]) # vmap'ed\n",
    "    f_news = tuple([jax.vmap(get_rhs_darcy(u_new_)) for u_new_ in u_news_]) #vmap'ed\n",
    "\n",
    "    # 1_5 step\n",
    "\n",
    "    # Collocation points where to solve for \\hat P (u) = f_new\n",
    "    #num_interior_points = 500\n",
    "    num_interior_points = 256\n",
    "    num_grid_points = 20\n",
    "    # Sample collocation points for learning u\n",
    "    xy_interiors,xy_boundarys = sample_multiple_xy_grids_latin(\n",
    "            num_functions = 1,\n",
    "            num_interior = num_interior_points,\n",
    "            x_range = [0,1],\n",
    "            y_range = [0,1],\n",
    "            num_grid_x_bdy = num_grid_points,\n",
    "            num_grid_y_bdy = num_grid_points,\n",
    "            key = pkey(24)\n",
    "        )\n",
    "    # Boundary pairs\n",
    "    xy_bdy = xy_boundarys[0]\n",
    "    # Interior pairs (where PDE is satisfied)\n",
    "    xy_int = xy_interiors[0]\n",
    "    # Union of xy_bdy\n",
    "    xy_all = jnp.vstack([xy_int,xy_bdy])\n",
    "\n",
    "    # u_new object\n",
    "    u_model = CholInducedRKHS(\n",
    "        xy_all,\n",
    "        feature_operators,\n",
    "        k_u\n",
    "        )\n",
    "\n",
    "    def get_u_pde_adj(u_new,f_new,method):\n",
    "        \n",
    "        @jit\n",
    "        def get_pred_hatP(input_features):\n",
    "            # return P_model.predict_new(input_features,model_grid_features_all,P_sol)\n",
    "            return P_model.predict(input_features,P_sol)\n",
    "        \n",
    "        @jit\n",
    "        def get_pred_hatP2step(input_features):\n",
    "            # init_P_features = EqnModel.get_stacked_eqn_features(all_u_params_init)\n",
    "            init_P_features = jnp.vstack([EqnModel.single_eqn_features(u_model,u_params,eval_points) \n",
    "                                          for u_model,u_params,eval_points in zip(\n",
    "                                            EqnModel.u_models,\n",
    "                                            all_u_params_init,\n",
    "                                            EqnModel.collocation_points)])\n",
    "            rhs_stacked = EqnModel.stacked_collocation_rhs\n",
    "            P_params_naive = P_model.get_fitted_params(init_P_features,rhs_stacked)\n",
    "            return P_model.predict(input_features,P_params_naive)\n",
    "\n",
    "        \n",
    "\n",
    "        new_obs = u_new(xy_bdy) # Boundary conditions values that need to be satisfied\n",
    "\n",
    "\n",
    "        class PdeModel():\n",
    "\n",
    "            datafit_weight = 50.\n",
    "\n",
    "            @jit\n",
    "            def get_grid_features(u_params):\n",
    "                evaluation = u_model.evaluate_operators(feature_operators,xy_int,u_params)\n",
    "                grid_features = evaluation.reshape(len(xy_int),len(feature_operators),order = 'F')\n",
    "                return jnp.hstack([xy_int,grid_features])\n",
    "            \n",
    "            @jit\n",
    "            def get_grid_target(u_params):\n",
    "                return f_new(xy_int)\n",
    "            \n",
    "            @jit\n",
    "            def eval_obs_points(u_params):\n",
    "                return u_model.point_evaluate(xy_bdy,u_params)\n",
    "            \n",
    "            @jit\n",
    "            def datafit_residual(u_params):\n",
    "                obs_preds = PdeModel.eval_obs_points(u_params)\n",
    "                return new_obs - obs_preds\n",
    "            \n",
    "            @jit\n",
    "            def equation_residual(u_params):\n",
    "                P_features = PdeModel.get_grid_features(u_params)\n",
    "                P_model_preds = jnp.where(method == 1, get_pred_hatP(P_features), get_pred_hatP2step(P_features))\n",
    "                ugrid_target = PdeModel.get_grid_target(u_params)\n",
    "                return (ugrid_target - P_model_preds)\n",
    "            \n",
    "            @jit\n",
    "            def F(u_params):\n",
    "                eqn_res = PdeModel.equation_residual(u_params)\n",
    "                data_res = PdeModel.datafit_residual(u_params)\n",
    "                return jnp.hstack([\n",
    "                    PdeModel.datafit_weight * data_res/jnp.sqrt(len(data_res)),\n",
    "                    eqn_res/jnp.sqrt(len(eqn_res))\n",
    "                    ])\n",
    "            \n",
    "            jac = jit(jacrev(F))\n",
    "\n",
    "            def loss(u_params):\n",
    "                return jnp.linalg.norm(PdeModel.F(u_params))**2\n",
    "            \n",
    "            @jit\n",
    "            def damping_matrix(u_params):\n",
    "                return u_model.kmat+1e-5 * diagpart(u_model.kmat)\n",
    "        \n",
    "        # Optimize\n",
    "        new_u_init = jnp.zeros(xy_all.shape[0]*len(feature_operators))\n",
    "\n",
    "        # Optimizer hyperparameters\n",
    "        optparams = LMParams(max_iter = 301,\n",
    "                         line_search_increase_ratio = 1.4,\n",
    "                         print_every = 100,\n",
    "                         tol = 1e-10)\n",
    "        \n",
    "        u_params_pde, _ = CholeskyLM(\n",
    "            new_u_init.copy(),\n",
    "            PdeModel,\n",
    "            beta = 0,\n",
    "            optParams = optparams\n",
    "        )\n",
    "\n",
    "        # u_params_pde,_ = CholeskyLM(\n",
    "        #     new_u_init.copy(),\n",
    "        #     PdeModel,\n",
    "        #     beta = 0.,\n",
    "        #     max_iter = 101,\n",
    "        #     init_alpha=0.05,\n",
    "        #     line_search_increase_ratio=1.4,\n",
    "        #     print_every = 10\n",
    "        # )\n",
    "\n",
    "        # u_pde_adj,_ = SVD_LM(u_params_pde,PdeModel,1e-1,150)\n",
    "\n",
    "        u_pde_adj,_ = SVD_LM(\n",
    "        u_params_pde,\n",
    "        EqnModel,\n",
    "        beta = 1e-13,\n",
    "        optParams = optparams\n",
    "    )\n",
    "\n",
    "        return u_pde_adj\n",
    "\n",
    "\n",
    "    \n",
    "    # Define fine grid to test\n",
    "    num_fine_grid = 50\n",
    "    x_fine,y_fine = np.meshgrid(np.linspace(0,1,num_fine_grid),np.linspace(0,1,num_fine_grid))\n",
    "    xy_fine = np.vstack([x_fine.flatten(),y_fine.flatten()]).T\n",
    "\n",
    "    true = [u_new(xy_fine) for u_new in u_news]\n",
    "\n",
    "    pred1_5 = [\n",
    "        u_model.point_evaluate(xy_fine,get_u_pde_adj(u_new,f_new,method=1))\n",
    "        for u_new,f_new in zip(u_news,f_news)\n",
    "    ]    \n",
    "\n",
    "    pred2 = [\n",
    "        u_model.point_evaluate(xy_fine,get_u_pde_adj(u_new,f_new,method=2))\n",
    "        for u_new,f_new in zip(u_news,f_news)\n",
    "    ]\n",
    "\n",
    "    i_opt_1_5 = jnp.mean(jnp.array([get_nrmse(t,p) for t,p in zip(true,pred1_5)]))\n",
    "    i_opt_2 = jnp.mean(jnp.array([get_nrmse(t,p) for t,p in zip(true,pred2)]))\n",
    "\n",
    "    return i_opt_1_5, i_opt_2"
   ]
  },
  {
   "cell_type": "code",
   "execution_count": 19,
   "metadata": {},
   "outputs": [
    {
     "name": "stdout",
     "output_type": "stream",
     "text": [
      "(50,)\n",
      "(50, 8)\n"
     ]
    },
    {
     "name": "stderr",
     "output_type": "stream",
     "text": [
      " 17%|█▋        | 52/301 [00:02<00:07, 31.58it/s]"
     ]
    },
    {
     "name": "stdout",
     "output_type": "stream",
     "text": [
      "Iteration 0, loss = 5.98e-06, gradnorm = 1.298e-05, alpha = 2.5, improvement_ratio = 1.0\n",
      "Iteration 1, loss = 5.98e-06, gradnorm = 6.041e-06, alpha = 2.083, improvement_ratio = 1.0\n",
      "Iteration 2, loss = 5.98e-06, gradnorm = 5.075e-06, alpha = 1.736, improvement_ratio = 1.0\n",
      "Iteration 3, loss = 5.98e-06, gradnorm = 4.499e-06, alpha = 1.447, improvement_ratio = 1.0\n",
      "Iteration 4, loss = 5.98e-06, gradnorm = 4.1e-06, alpha = 1.206, improvement_ratio = 1.0\n",
      "Iteration 5, loss = 5.98e-06, gradnorm = 3.813e-06, alpha = 1.005, improvement_ratio = 1.0\n"
     ]
    },
    {
     "name": "stderr",
     "output_type": "stream",
     "text": [
      " 64%|██████▍   | 193/301 [00:02<00:01, 75.04it/s] \n"
     ]
    },
    {
     "name": "stdout",
     "output_type": "stream",
     "text": [
      "Iteration 100, loss = 3.989e-06, gradnorm = 0.00104, alpha = 5.581e-07, improvement_ratio = 0.7643\n"
     ]
    },
    {
     "name": "stderr",
     "output_type": "stream",
     "text": [
      "  3%|▎         | 10/301 [00:02<00:47,  6.17it/s]"
     ]
    },
    {
     "name": "stdout",
     "output_type": "stream",
     "text": [
      "Iteration 0, loss = 6.173e-08, gradnorm = 2.158e-07, alpha = 2.5, improvement_ratio = 1.001\n",
      "Iteration 1, loss = 6.173e-08, gradnorm = 2.012e-07, alpha = 2.083, improvement_ratio = 1.0\n",
      "Iteration 2, loss = 6.173e-08, gradnorm = 1.966e-07, alpha = 1.736, improvement_ratio = 1.002\n",
      "Iteration 3, loss = 6.173e-08, gradnorm = 1.936e-07, alpha = 1.447, improvement_ratio = 1.0\n",
      "Iteration 4, loss = 6.173e-08, gradnorm = 1.914e-07, alpha = 1.206, improvement_ratio = 0.9974\n",
      "Iteration 5, loss = 6.173e-08, gradnorm = 1.897e-07, alpha = 1.005, improvement_ratio = 0.9992\n"
     ]
    },
    {
     "name": "stderr",
     "output_type": "stream",
     "text": [
      " 39%|███▉      | 118/301 [00:03<00:02, 86.11it/s]"
     ]
    },
    {
     "name": "stdout",
     "output_type": "stream",
     "text": [
      "Iteration 100, loss = 3.359e-09, gradnorm = 8.395e-05, alpha = 3.622e-08, improvement_ratio = 0.8104\n"
     ]
    },
    {
     "name": "stderr",
     "output_type": "stream",
     "text": [
      " 40%|███▉      | 119/301 [00:03<00:05, 34.92it/s]\n",
      "  3%|▎         | 9/301 [00:27<10:51,  2.23s/it]  "
     ]
    },
    {
     "name": "stdout",
     "output_type": "stream",
     "text": [
      "Iteration 0, loss = 0.05717, gradnorm = 989.2, alpha = 2.5, improvement_ratio = 1.0\n",
      "Iteration 1, loss = 0.03695, gradnorm = 0.002692, alpha = 2.083, improvement_ratio = 1.0\n",
      "Iteration 2, loss = 0.0307, gradnorm = 0.001101, alpha = 1.736, improvement_ratio = 1.0\n",
      "Iteration 3, loss = 0.02734, gradnorm = 0.000686, alpha = 1.447, improvement_ratio = 1.0\n",
      "Iteration 4, loss = 0.02504, gradnorm = 0.0005162, alpha = 1.206, improvement_ratio = 1.0\n",
      "Iteration 5, loss = 0.02323, gradnorm = 0.0004197, alpha = 1.005, improvement_ratio = 1.0\n"
     ]
    },
    {
     "name": "stderr",
     "output_type": "stream",
     "text": [
      " 38%|███▊      | 115/301 [00:28<00:03, 47.39it/s]"
     ]
    },
    {
     "name": "stdout",
     "output_type": "stream",
     "text": [
      "Iteration 100, loss = 0.001102, gradnorm = 8.078e-06, alpha = 3.019e-08, improvement_ratio = 1.0\n"
     ]
    },
    {
     "name": "stderr",
     "output_type": "stream",
     "text": [
      " 71%|███████   | 214/301 [00:30<00:01, 82.75it/s]"
     ]
    },
    {
     "name": "stdout",
     "output_type": "stream",
     "text": [
      "Iteration 200, loss = 0.0006516, gradnorm = 2.921e-05, alpha = 8.333e-09, improvement_ratio = 1.001\n"
     ]
    },
    {
     "name": "stderr",
     "output_type": "stream",
     "text": [
      "100%|██████████| 301/301 [00:31<00:00,  9.65it/s]\n"
     ]
    },
    {
     "name": "stdout",
     "output_type": "stream",
     "text": [
      "Iteration 300, loss = 0.000602, gradnorm = 2.041e-05, alpha = 8.333e-09, improvement_ratio = 0.9996\n"
     ]
    },
    {
     "name": "stderr",
     "output_type": "stream",
     "text": [
      "  3%|▎         | 10/301 [00:02<00:49,  5.94it/s]"
     ]
    },
    {
     "name": "stdout",
     "output_type": "stream",
     "text": [
      "Iteration 0, loss = 1.248e+11, gradnorm = 2.62e+09, alpha = 2.5, improvement_ratio = 0.9119\n",
      "Iteration 1, loss = 3.901e+09, gradnorm = 6.713e+08, alpha = 2.083, improvement_ratio = 0.9688\n",
      "Iteration 2, loss = 1.304e+08, gradnorm = 8.054e+07, alpha = 1.736, improvement_ratio = 0.9669\n",
      "Iteration 3, loss = 2.382e+07, gradnorm = 2.721e+07, alpha = 1.447, improvement_ratio = 0.8236\n",
      "Iteration 4, loss = 1.481e+07, gradnorm = 9.463e+06, alpha = 1.447, improvement_ratio = 0.3893\n",
      "Iteration 5, loss = 6.313e+06, gradnorm = 6.829e+06, alpha = 1.447, improvement_ratio = 0.5934\n"
     ]
    },
    {
     "name": "stderr",
     "output_type": "stream",
     "text": [
      " 39%|███▉      | 117/301 [00:03<00:02, 89.42it/s]"
     ]
    },
    {
     "name": "stdout",
     "output_type": "stream",
     "text": [
      "Iteration 100, loss = 7.874e+03, gradnorm = 6.982e+03, alpha = 0.2337, improvement_ratio = 0.8111\n"
     ]
    },
    {
     "name": "stderr",
     "output_type": "stream",
     "text": [
      " 71%|███████   | 214/301 [00:04<00:00, 100.48it/s]"
     ]
    },
    {
     "name": "stdout",
     "output_type": "stream",
     "text": [
      "Iteration 200, loss = 1.482e+03, gradnorm = 2.611e+03, alpha = 0.03145, improvement_ratio = 0.7617\n"
     ]
    },
    {
     "name": "stderr",
     "output_type": "stream",
     "text": [
      "100%|██████████| 301/301 [00:05<00:00, 58.01it/s] \n"
     ]
    },
    {
     "name": "stdout",
     "output_type": "stream",
     "text": [
      "Iteration 300, loss = 210.6, gradnorm = 982.1, alpha = 0.008777, improvement_ratio = 0.7907\n"
     ]
    },
    {
     "name": "stderr",
     "output_type": "stream",
     "text": [
      "  3%|▎         | 9/301 [00:27<10:50,  2.23s/it]  "
     ]
    },
    {
     "name": "stdout",
     "output_type": "stream",
     "text": [
      "Iteration 0, loss = 0.0934, gradnorm = 975.7, alpha = 2.5, improvement_ratio = 1.0\n",
      "Iteration 1, loss = 0.06355, gradnorm = 0.002759, alpha = 2.083, improvement_ratio = 1.0\n",
      "Iteration 2, loss = 0.05071, gradnorm = 0.001479, alpha = 1.736, improvement_ratio = 1.0\n",
      "Iteration 3, loss = 0.04381, gradnorm = 0.000981, alpha = 1.447, improvement_ratio = 1.0\n",
      "Iteration 4, loss = 0.0396, gradnorm = 0.0007075, alpha = 1.206, improvement_ratio = 1.0\n",
      "Iteration 5, loss = 0.03672, gradnorm = 0.0005433, alpha = 1.005, improvement_ratio = 1.0\n"
     ]
    },
    {
     "name": "stderr",
     "output_type": "stream",
     "text": [
      " 39%|███▉      | 117/301 [00:28<00:03, 47.73it/s]"
     ]
    },
    {
     "name": "stdout",
     "output_type": "stream",
     "text": [
      "Iteration 100, loss = 0.001552, gradnorm = 4.464e-06, alpha = 3.019e-08, improvement_ratio = 1.0\n"
     ]
    },
    {
     "name": "stderr",
     "output_type": "stream",
     "text": [
      " 72%|███████▏  | 216/301 [00:30<00:01, 82.51it/s]"
     ]
    },
    {
     "name": "stdout",
     "output_type": "stream",
     "text": [
      "Iteration 200, loss = 0.0009212, gradnorm = 6.398e-05, alpha = 8.333e-09, improvement_ratio = 1.0\n"
     ]
    },
    {
     "name": "stderr",
     "output_type": "stream",
     "text": [
      "100%|██████████| 301/301 [00:31<00:00,  9.67it/s]\n"
     ]
    },
    {
     "name": "stdout",
     "output_type": "stream",
     "text": [
      "Iteration 300, loss = 0.0008347, gradnorm = 3.134e-05, alpha = 8.333e-09, improvement_ratio = 1.005\n"
     ]
    },
    {
     "name": "stderr",
     "output_type": "stream",
     "text": [
      "  4%|▍         | 12/301 [00:02<00:41,  6.98it/s]"
     ]
    },
    {
     "name": "stdout",
     "output_type": "stream",
     "text": [
      "Iteration 0, loss = 8.028e+11, gradnorm = 7.77e+09, alpha = 2.5, improvement_ratio = 0.9177\n",
      "Iteration 1, loss = 6.21e+10, gradnorm = 1.906e+09, alpha = 2.083, improvement_ratio = 0.9227\n",
      "Iteration 2, loss = 6.162e+08, gradnorm = 5.892e+08, alpha = 1.736, improvement_ratio = 0.9901\n",
      "Iteration 3, loss = 2.163e+07, gradnorm = 2.525e+07, alpha = 1.447, improvement_ratio = 0.9672\n",
      "Iteration 4, loss = 1.302e+07, gradnorm = 7.86e+06, alpha = 1.447, improvement_ratio = 0.4176\n",
      "Iteration 5, loss = 8.163e+06, gradnorm = 7.267e+06, alpha = 1.447, improvement_ratio = 0.396\n"
     ]
    },
    {
     "name": "stderr",
     "output_type": "stream",
     "text": [
      " 38%|███▊      | 113/301 [00:03<00:02, 83.96it/s]"
     ]
    },
    {
     "name": "stdout",
     "output_type": "stream",
     "text": [
      "Iteration 100, loss = 1.453e+04, gradnorm = 8.42e+03, alpha = 0.4038, improvement_ratio = 0.7846\n"
     ]
    },
    {
     "name": "stderr",
     "output_type": "stream",
     "text": [
      " 73%|███████▎  | 220/301 [00:04<00:00, 100.30it/s]"
     ]
    },
    {
     "name": "stdout",
     "output_type": "stream",
     "text": [
      "Iteration 200, loss = 3.657e+03, gradnorm = 3.945e+03, alpha = 0.06521, improvement_ratio = 0.7224\n"
     ]
    },
    {
     "name": "stderr",
     "output_type": "stream",
     "text": [
      "100%|██████████| 301/301 [00:05<00:00, 56.96it/s] \n"
     ]
    },
    {
     "name": "stdout",
     "output_type": "stream",
     "text": [
      "Iteration 300, loss = 969.3, gradnorm = 1.358e+03, alpha = 0.02621, improvement_ratio = 0.6762\n"
     ]
    },
    {
     "name": "stderr",
     "output_type": "stream",
     "text": [
      "  3%|▎         | 9/301 [00:28<11:01,  2.27s/it]  "
     ]
    },
    {
     "name": "stdout",
     "output_type": "stream",
     "text": [
      "Iteration 0, loss = 0.1862, gradnorm = 1.214e+03, alpha = 2.5, improvement_ratio = 1.0\n",
      "Iteration 1, loss = 0.152, gradnorm = 0.003148, alpha = 2.083, improvement_ratio = 1.0\n",
      "Iteration 2, loss = 0.1348, gradnorm = 0.001682, alpha = 1.736, improvement_ratio = 1.0\n",
      "Iteration 3, loss = 0.1234, gradnorm = 0.001264, alpha = 1.447, improvement_ratio = 1.0\n",
      "Iteration 4, loss = 0.1146, gradnorm = 0.001029, alpha = 1.206, improvement_ratio = 1.0\n",
      "Iteration 5, loss = 0.1072, gradnorm = 0.000884, alpha = 1.005, improvement_ratio = 1.0\n"
     ]
    },
    {
     "name": "stderr",
     "output_type": "stream",
     "text": [
      " 38%|███▊      | 115/301 [00:29<00:03, 46.91it/s]"
     ]
    },
    {
     "name": "stdout",
     "output_type": "stream",
     "text": [
      "Iteration 100, loss = 0.004965, gradnorm = 2.57e-05, alpha = 3.019e-08, improvement_ratio = 1.0\n"
     ]
    },
    {
     "name": "stderr",
     "output_type": "stream",
     "text": [
      " 71%|███████   | 214/301 [00:30<00:01, 79.95it/s]"
     ]
    },
    {
     "name": "stdout",
     "output_type": "stream",
     "text": [
      "Iteration 200, loss = 0.002855, gradnorm = 7.93e-05, alpha = 8.333e-09, improvement_ratio = 1.002\n"
     ]
    },
    {
     "name": "stderr",
     "output_type": "stream",
     "text": [
      "100%|██████████| 301/301 [00:31<00:00,  9.50it/s]\n"
     ]
    },
    {
     "name": "stdout",
     "output_type": "stream",
     "text": [
      "Iteration 300, loss = 0.002741, gradnorm = 8.936e-05, alpha = 8.333e-09, improvement_ratio = 0.996\n"
     ]
    },
    {
     "name": "stderr",
     "output_type": "stream",
     "text": [
      "  3%|▎         | 10/301 [00:02<00:47,  6.13it/s]"
     ]
    },
    {
     "name": "stdout",
     "output_type": "stream",
     "text": [
      "Iteration 0, loss = 9.705e+12, gradnorm = 6.953e+10, alpha = 2.5, improvement_ratio = 0.9408\n",
      "Iteration 1, loss = 5.805e+11, gradnorm = 1.055e+10, alpha = 2.083, improvement_ratio = 0.9402\n",
      "Iteration 2, loss = 1.987e+10, gradnorm = 1.385e+09, alpha = 1.736, improvement_ratio = 0.9658\n",
      "Iteration 3, loss = 8.011e+08, gradnorm = 2.152e+08, alpha = 1.447, improvement_ratio = 0.9597\n",
      "Iteration 4, loss = 6.929e+06, gradnorm = 7.31e+07, alpha = 1.206, improvement_ratio = 0.9921\n",
      "Iteration 5, loss = 3.096e+06, gradnorm = 6.048e+06, alpha = 1.206, improvement_ratio = 0.6019\n"
     ]
    },
    {
     "name": "stderr",
     "output_type": "stream",
     "text": [
      " 38%|███▊      | 114/301 [00:03<00:02, 89.14it/s]"
     ]
    },
    {
     "name": "stdout",
     "output_type": "stream",
     "text": [
      "Iteration 100, loss = 3.92e+04, gradnorm = 2.599e+04, alpha = 0.4038, improvement_ratio = 0.6805\n"
     ]
    },
    {
     "name": "stderr",
     "output_type": "stream",
     "text": [
      " 73%|███████▎  | 220/301 [00:04<00:00, 97.84it/s]"
     ]
    },
    {
     "name": "stdout",
     "output_type": "stream",
     "text": [
      "Iteration 200, loss = 7.459e+03, gradnorm = 1.015e+04, alpha = 0.1352, improvement_ratio = 0.7689\n"
     ]
    },
    {
     "name": "stderr",
     "output_type": "stream",
     "text": [
      "100%|██████████| 301/301 [00:05<00:00, 58.19it/s]\n"
     ]
    },
    {
     "name": "stdout",
     "output_type": "stream",
     "text": [
      "Iteration 300, loss = 1.733e+03, gradnorm = 2.818e+03, alpha = 0.0182, improvement_ratio = 0.7346\n"
     ]
    },
    {
     "name": "stderr",
     "output_type": "stream",
     "text": [
      "  3%|▎         | 8/301 [00:28<12:30,  2.56s/it]  "
     ]
    },
    {
     "name": "stdout",
     "output_type": "stream",
     "text": [
      "Iteration 0, loss = 0.01072, gradnorm = 1.067e+03, alpha = 2.5, improvement_ratio = 1.0\n",
      "Iteration 1, loss = 0.005542, gradnorm = 0.001769, alpha = 2.083, improvement_ratio = 1.0\n",
      "Iteration 2, loss = 0.004253, gradnorm = 0.0005629, alpha = 1.736, improvement_ratio = 1.0\n",
      "Iteration 3, loss = 0.003483, gradnorm = 0.0003636, alpha = 1.447, improvement_ratio = 1.0\n",
      "Iteration 4, loss = 0.002953, gradnorm = 0.0002779, alpha = 1.206, improvement_ratio = 1.0\n",
      "Iteration 5, loss = 0.002565, gradnorm = 0.0002199, alpha = 1.005, improvement_ratio = 1.0\n"
     ]
    },
    {
     "name": "stderr",
     "output_type": "stream",
     "text": [
      " 37%|███▋      | 111/301 [00:29<00:03, 49.19it/s]"
     ]
    },
    {
     "name": "stdout",
     "output_type": "stream",
     "text": [
      "Iteration 100, loss = 0.0001627, gradnorm = 1.568e-06, alpha = 3.019e-08, improvement_ratio = 1.0\n"
     ]
    },
    {
     "name": "stderr",
     "output_type": "stream",
     "text": [
      " 71%|███████▏  | 215/301 [00:30<00:01, 75.78it/s]"
     ]
    },
    {
     "name": "stdout",
     "output_type": "stream",
     "text": [
      "Iteration 200, loss = 8.726e-05, gradnorm = 2.478e-05, alpha = 8.333e-09, improvement_ratio = 1.005\n"
     ]
    },
    {
     "name": "stderr",
     "output_type": "stream",
     "text": [
      "100%|██████████| 301/301 [00:31<00:00,  9.41it/s]\n"
     ]
    },
    {
     "name": "stdout",
     "output_type": "stream",
     "text": [
      "Iteration 300, loss = 8.349e-05, gradnorm = 4.213e-05, alpha = 8.333e-09, improvement_ratio = 0.9978\n"
     ]
    },
    {
     "name": "stderr",
     "output_type": "stream",
     "text": [
      "  4%|▎         | 11/301 [00:02<00:41,  6.99it/s]"
     ]
    },
    {
     "name": "stdout",
     "output_type": "stream",
     "text": [
      "Iteration 0, loss = 2.547e+09, gradnorm = 1.575e+08, alpha = 2.5, improvement_ratio = 0.9347\n",
      "Iteration 1, loss = 1.692e+08, gradnorm = 2.604e+07, alpha = 2.083, improvement_ratio = 0.9336\n",
      "Iteration 2, loss = 3.976e+06, gradnorm = 6.196e+06, alpha = 1.736, improvement_ratio = 0.9769\n",
      "Iteration 3, loss = 1.25e+05, gradnorm = 8.719e+05, alpha = 1.447, improvement_ratio = 0.9778\n",
      "Iteration 4, loss = 4.496e+04, gradnorm = 1.139e+05, alpha = 1.206, improvement_ratio = 0.8057\n",
      "Iteration 5, loss = 2.818e+04, gradnorm = 4.85e+04, alpha = 1.206, improvement_ratio = 0.6203\n"
     ]
    },
    {
     "name": "stderr",
     "output_type": "stream",
     "text": [
      " 38%|███▊      | 115/301 [00:03<00:02, 89.50it/s]"
     ]
    },
    {
     "name": "stdout",
     "output_type": "stream",
     "text": [
      "Iteration 100, loss = 26.67, gradnorm = 117.2, alpha = 0.007314, improvement_ratio = 0.6854\n"
     ]
    },
    {
     "name": "stderr",
     "output_type": "stream",
     "text": [
      " 71%|███████   | 213/301 [00:04<00:00, 100.66it/s]"
     ]
    },
    {
     "name": "stdout",
     "output_type": "stream",
     "text": [
      "Iteration 200, loss = 1.103, gradnorm = 19.47, alpha = 0.0003956, improvement_ratio = 0.818\n"
     ]
    },
    {
     "name": "stderr",
     "output_type": "stream",
     "text": [
      "100%|██████████| 301/301 [00:05<00:00, 59.89it/s] \n"
     ]
    },
    {
     "name": "stdout",
     "output_type": "stream",
     "text": [
      "Iteration 300, loss = 0.07825, gradnorm = 4.163, alpha = 4.437e-05, improvement_ratio = 0.7924\n"
     ]
    },
    {
     "name": "stderr",
     "output_type": "stream",
     "text": [
      "  3%|▎         | 8/301 [00:27<12:22,  2.53s/it]  "
     ]
    },
    {
     "name": "stdout",
     "output_type": "stream",
     "text": [
      "Iteration 0, loss = 0.02489, gradnorm = 1.025e+03, alpha = 2.5, improvement_ratio = 1.0\n",
      "Iteration 1, loss = 0.01388, gradnorm = 0.002049, alpha = 2.083, improvement_ratio = 1.0\n",
      "Iteration 2, loss = 0.01014, gradnorm = 0.0008822, alpha = 1.736, improvement_ratio = 1.0\n",
      "Iteration 3, loss = 0.008469, gradnorm = 0.0005401, alpha = 1.447, improvement_ratio = 1.0\n",
      "Iteration 4, loss = 0.00766, gradnorm = 0.0003553, alpha = 1.206, improvement_ratio = 1.0\n",
      "Iteration 5, loss = 0.007221, gradnorm = 0.000249, alpha = 1.005, improvement_ratio = 1.0\n"
     ]
    },
    {
     "name": "stderr",
     "output_type": "stream",
     "text": [
      " 37%|███▋      | 111/301 [00:29<00:03, 49.44it/s]"
     ]
    },
    {
     "name": "stdout",
     "output_type": "stream",
     "text": [
      "Iteration 100, loss = 0.0001694, gradnorm = 1.658e-06, alpha = 3.019e-08, improvement_ratio = 1.0\n"
     ]
    },
    {
     "name": "stderr",
     "output_type": "stream",
     "text": [
      " 71%|███████▏  | 215/301 [00:30<00:01, 75.76it/s]"
     ]
    },
    {
     "name": "stdout",
     "output_type": "stream",
     "text": [
      "Iteration 200, loss = 8.731e-05, gradnorm = 2.072e-05, alpha = 8.333e-09, improvement_ratio = 0.9998\n"
     ]
    },
    {
     "name": "stderr",
     "output_type": "stream",
     "text": [
      "100%|██████████| 301/301 [00:31<00:00,  9.50it/s]\n"
     ]
    },
    {
     "name": "stdout",
     "output_type": "stream",
     "text": [
      "Iteration 300, loss = 8.259e-05, gradnorm = 2.327e-05, alpha = 8.333e-09, improvement_ratio = 1.0\n"
     ]
    },
    {
     "name": "stderr",
     "output_type": "stream",
     "text": [
      "  4%|▎         | 11/301 [00:02<00:42,  6.83it/s]"
     ]
    },
    {
     "name": "stdout",
     "output_type": "stream",
     "text": [
      "Iteration 0, loss = 2.532e+10, gradnorm = 8.638e+08, alpha = 2.5, improvement_ratio = 0.9401\n",
      "Iteration 1, loss = 1.25e+09, gradnorm = 1.352e+08, alpha = 2.083, improvement_ratio = 0.9506\n",
      "Iteration 2, loss = 5.809e+07, gradnorm = 2.373e+07, alpha = 1.736, improvement_ratio = 0.9536\n",
      "Iteration 3, loss = 6.696e+05, gradnorm = 4.183e+06, alpha = 1.447, improvement_ratio = 0.9894\n",
      "Iteration 4, loss = 4.73e+04, gradnorm = 1.953e+05, alpha = 1.206, improvement_ratio = 0.9825\n",
      "Iteration 5, loss = 3.053e+04, gradnorm = 3.804e+04, alpha = 1.005, improvement_ratio = 0.9105\n"
     ]
    },
    {
     "name": "stderr",
     "output_type": "stream",
     "text": [
      " 39%|███▊      | 116/301 [00:03<00:02, 88.41it/s]"
     ]
    },
    {
     "name": "stdout",
     "output_type": "stream",
     "text": [
      "Iteration 100, loss = 176.7, gradnorm = 374.1, alpha = 0.01264, improvement_ratio = 0.7361\n"
     ]
    },
    {
     "name": "stderr",
     "output_type": "stream",
     "text": [
      " 70%|███████   | 212/301 [00:04<00:00, 100.58it/s]"
     ]
    },
    {
     "name": "stdout",
     "output_type": "stream",
     "text": [
      "Iteration 200, loss = 8.103, gradnorm = 55.2, alpha = 0.001417, improvement_ratio = 0.7657\n"
     ]
    },
    {
     "name": "stderr",
     "output_type": "stream",
     "text": [
      "100%|██████████| 301/301 [00:05<00:00, 59.25it/s] \n"
     ]
    },
    {
     "name": "stdout",
     "output_type": "stream",
     "text": [
      "Iteration 300, loss = 0.5416, gradnorm = 10.06, alpha = 0.0001104, improvement_ratio = 0.6712\n"
     ]
    },
    {
     "name": "stderr",
     "output_type": "stream",
     "text": [
      "  3%|▎         | 8/301 [00:27<12:22,  2.53s/it]  "
     ]
    },
    {
     "name": "stdout",
     "output_type": "stream",
     "text": [
      "Iteration 0, loss = 0.06977, gradnorm = 1.326e+03, alpha = 2.5, improvement_ratio = 1.0\n",
      "Iteration 1, loss = 0.05509, gradnorm = 0.002026, alpha = 2.083, improvement_ratio = 1.0\n",
      "Iteration 2, loss = 0.04908, gradnorm = 0.001028, alpha = 1.736, improvement_ratio = 1.0\n",
      "Iteration 3, loss = 0.04522, gradnorm = 0.0007465, alpha = 1.447, improvement_ratio = 1.0\n",
      "Iteration 4, loss = 0.0422, gradnorm = 0.0005982, alpha = 1.206, improvement_ratio = 1.0\n",
      "Iteration 5, loss = 0.03962, gradnorm = 0.0005008, alpha = 1.005, improvement_ratio = 1.0\n"
     ]
    },
    {
     "name": "stderr",
     "output_type": "stream",
     "text": [
      " 37%|███▋      | 111/301 [00:29<00:03, 49.26it/s]"
     ]
    },
    {
     "name": "stdout",
     "output_type": "stream",
     "text": [
      "Iteration 100, loss = 0.003662, gradnorm = 1.331e-05, alpha = 3.019e-08, improvement_ratio = 1.0\n"
     ]
    },
    {
     "name": "stderr",
     "output_type": "stream",
     "text": [
      " 71%|███████▏  | 215/301 [00:30<00:01, 75.68it/s]"
     ]
    },
    {
     "name": "stdout",
     "output_type": "stream",
     "text": [
      "Iteration 200, loss = 0.002574, gradnorm = 3.364e-05, alpha = 8.333e-09, improvement_ratio = 1.004\n"
     ]
    },
    {
     "name": "stderr",
     "output_type": "stream",
     "text": [
      "100%|██████████| 301/301 [00:31<00:00,  9.49it/s]\n"
     ]
    },
    {
     "name": "stdout",
     "output_type": "stream",
     "text": [
      "Iteration 300, loss = 0.002509, gradnorm = 6.375e-05, alpha = 8.333e-09, improvement_ratio = 0.9697\n"
     ]
    },
    {
     "name": "stderr",
     "output_type": "stream",
     "text": [
      "  4%|▎         | 11/301 [00:02<00:40,  7.08it/s]"
     ]
    },
    {
     "name": "stdout",
     "output_type": "stream",
     "text": [
      "Iteration 0, loss = 2.127e+12, gradnorm = 2.201e+10, alpha = 2.5, improvement_ratio = 0.9363\n",
      "Iteration 1, loss = 1.332e+11, gradnorm = 3.535e+09, alpha = 2.083, improvement_ratio = 0.9374\n",
      "Iteration 2, loss = 5.768e+09, gradnorm = 5.52e+08, alpha = 1.736, improvement_ratio = 0.9567\n",
      "Iteration 3, loss = 4.697e+08, gradnorm = 9.083e+07, alpha = 1.447, improvement_ratio = 0.9186\n",
      "Iteration 4, loss = 1.191e+07, gradnorm = 2.838e+07, alpha = 1.206, improvement_ratio = 0.975\n",
      "Iteration 5, loss = 3.272e+05, gradnorm = 4.585e+06, alpha = 1.005, improvement_ratio = 0.983\n"
     ]
    },
    {
     "name": "stderr",
     "output_type": "stream",
     "text": [
      " 39%|███▉      | 117/301 [00:03<00:02, 89.65it/s]"
     ]
    },
    {
     "name": "stdout",
     "output_type": "stream",
     "text": [
      "Iteration 100, loss = 4.245e+03, gradnorm = 3.712e+03, alpha = 0.1947, improvement_ratio = 0.6597\n"
     ]
    },
    {
     "name": "stderr",
     "output_type": "stream",
     "text": [
      " 73%|███████▎  | 220/301 [00:04<00:00, 99.09it/s]"
     ]
    },
    {
     "name": "stdout",
     "output_type": "stream",
     "text": [
      "Iteration 200, loss = 1.099e+03, gradnorm = 2.783e+03, alpha = 0.02184, improvement_ratio = 0.7584\n"
     ]
    },
    {
     "name": "stderr",
     "output_type": "stream",
     "text": [
      "100%|██████████| 301/301 [00:05<00:00, 59.87it/s] \n"
     ]
    },
    {
     "name": "stdout",
     "output_type": "stream",
     "text": [
      "Iteration 300, loss = 259.0, gradnorm = 1.042e+03, alpha = 0.01053, improvement_ratio = 0.7987\n"
     ]
    }
   ],
   "source": [
    "a, b = run_exp_opt_err(m = 2, obs_pts = 4, run = 2)"
   ]
  },
  {
   "cell_type": "code",
   "execution_count": 20,
   "metadata": {},
   "outputs": [
    {
     "data": {
      "text/plain": [
       "Array(94.32917385, dtype=float64)"
      ]
     },
     "execution_count": 20,
     "metadata": {},
     "output_type": "execute_result"
    }
   ],
   "source": [
    "a"
   ]
  },
  {
   "cell_type": "code",
   "execution_count": 21,
   "metadata": {},
   "outputs": [
    {
     "data": {
      "text/plain": [
       "Array(43.17142787, dtype=float64)"
      ]
     },
     "execution_count": 21,
     "metadata": {},
     "output_type": "execute_result"
    }
   ],
   "source": [
    "b"
   ]
  },
  {
   "cell_type": "code",
   "execution_count": 6,
   "metadata": {},
   "outputs": [
    {
     "name": "stdout",
     "output_type": "stream",
     "text": [
      "(50,)\n",
      "(50, 8)\n",
      "(148,)\n",
      "(50,)\n"
     ]
    }
   ],
   "source": [
    "m = 2\n",
    "obs_pts = 4\n",
    "run = 2\n",
    "\n",
    "# Sample m training functions from a GP\n",
    "kernel_GP = get_gaussianRBF(0.5)\n",
    "xy_pairs = get_xy_grid_pairs(50,0,1,0,1) # Pairs to build interpolants\n",
    "u_true_functions = tuple(GP_sampler(num_samples = m,\n",
    "                                        X = xy_pairs, \n",
    "                                        kernel = kernel_GP,\n",
    "                                        reg = 1e-12,\n",
    "                                        seed = 2024\n",
    "                                    )\n",
    "                                    )\n",
    "# Permeability field A\n",
    "def A(xy):\n",
    "    x = xy[0]\n",
    "    y = xy[1]\n",
    "    return jnp.exp(jnp.sin(jnp.cos(x) + jnp.cos(y)))\n",
    "\n",
    "# Compute f = Pu for a given u\n",
    "def get_rhs_darcy(u):\n",
    "    def Agradu(xy):\n",
    "        return A(xy)*jax.grad(u)(xy)\n",
    "    def Pu(xy):\n",
    "        return jnp.trace(jax.jacfwd(Agradu)(xy))\n",
    "    return Pu\n",
    "\n",
    "# Lists of m true u's and f's\n",
    "vmapped_u_true_functions = tuple([jax.vmap(u) for u in u_true_functions]) # vmap'ed\n",
    "rhs_functions = tuple([jax.vmap(get_rhs_darcy(u)) for u in u_true_functions]) #vmap'ed\n",
    "\n",
    "# Define the num of ghost points for each u\n",
    "num_grid_points = 10\n",
    "num_interior_points = 50\n",
    "\n",
    "# # Sample collocation points for f using random points different for every function\n",
    "# xy_ints,xy_bdys = sample_multiple_xy_grids_latin(\n",
    "#         num_functions = m,\n",
    "#         num_interior = num_interior_points,\n",
    "#         x_range = [0,1],\n",
    "#         y_range = [0,1],\n",
    "#         num_grid_x_bdy = num_grid_points,\n",
    "#         num_grid_y_bdy = num_grid_points,\n",
    "#         key = pkey(23)\n",
    "#     )\n",
    "\n",
    "# Sample collocation points for f using same uniform grid for every function\n",
    "xy_ints = tuple(build_xy_grid([0,1],[0,1],7,7)[0] for m in range(m))\n",
    "xy_bdys = tuple(build_xy_grid([0,1],[0,1],7,7)[1] for m in range(m))\n",
    "\n",
    "xy_all = tuple(jnp.vstack([xy_int,xy_bdy]) for xy_int,xy_bdy in zip(xy_ints,xy_bdys))\n",
    "\n",
    "# List of number of observation points per u\n",
    "num_obs = [obs_pts]*m\n",
    "\n",
    "# Get (X^m, u^m(X^m))\n",
    "xy_obs,u_obs = build_u_obs_all(\n",
    "    num_obs,\n",
    "    xy_ints,\n",
    "    xy_bdys,\n",
    "    vmapped_u_true_functions,\n",
    "    pkey(5)\n",
    ")\n",
    "\n",
    "# Build operator features\n",
    "def diff_x_op(k,index):\n",
    "    return get_selected_grad(k,index,0)\n",
    "\n",
    "def diff_xx_op(k,index):\n",
    "    return get_selected_grad(get_selected_grad(k,index,0),index,0)\n",
    "\n",
    "def diff_y_op(k,index):\n",
    "    return get_selected_grad(k,index,1)\n",
    "\n",
    "def diff_yy_op(k,index):\n",
    "    return get_selected_grad(get_selected_grad(k,index,1),index,1)\n",
    "\n",
    "def diff_xy_op(k,index):\n",
    "    return get_selected_grad(get_selected_grad(k,index,0),index,1)\n",
    "\n",
    "feature_operators = tuple([eval_k,diff_x_op,diff_xx_op,diff_y_op,diff_yy_op,diff_xy_op])\n",
    "\n",
    "# Build interpolants for u's\n",
    "k_u = get_gaussianRBF(0.5)\n",
    "u_operators = (eval_k,)\n",
    "u_models = tuple([CholInducedRKHS(\n",
    "    xy_all[i],\n",
    "    u_operators,\n",
    "    k_u\n",
    "    ) for i in range(m)])\n",
    "\n",
    "# Get necessary tuples\n",
    "observation_points = tuple(xy_obs)\n",
    "observation_values = tuple(u_obs)\n",
    "collocation_points = xy_ints\n",
    "\n",
    "\n",
    "rhs_values = tuple(rhs_func(xy_int) for xy_int,rhs_func in zip(xy_ints,rhs_functions))\n",
    "\n",
    "all_u_params_init = tuple([\n",
    "    model.get_fitted_params(obs_loc,obs_val)\n",
    "    for obs_loc,obs_val,model in zip(observation_points,observation_values,u_models)])\n",
    "\n",
    "grid_features_u_init = jnp.vstack([(\n",
    "    model.evaluate_operators(feature_operators,xy_int,model_params)).reshape(\n",
    "            len(xy_int),\n",
    "            len(feature_operators),\n",
    "            order = 'F'\n",
    "        ) for xy_int,model,model_params in zip(xy_ints,u_models,all_u_params_init) ])\n",
    "\n",
    "grid_features_u_init = jnp.hstack([jnp.vstack(xy_ints),grid_features_u_init])\n",
    "\n",
    "\n",
    "\n",
    "### Optimize LM - new\n",
    "\n",
    "# P kernel\n",
    "k_P_u_part = get_centered_scaled_poly_kernel(1,grid_features_u_init[:,2:],c=1)\n",
    "k_P_x_part = get_gaussianRBF(0.4)\n",
    "\n",
    "def k_P(x,y):\n",
    "    return k_P_x_part(x[:2],y[:2]) * k_P_u_part(x[2:],y[2:])\n",
    "    \n",
    "\n",
    "\n",
    "\n",
    "# Initialize\n",
    "rhs_values = tuple(rhs_func(int_points) for rhs_func,int_points in zip(rhs_functions,collocation_points))\n",
    "print(jnp.hstack(rhs_values).shape)\n",
    "print(grid_features_u_init.shape)\n",
    "\n",
    "# P object        \n",
    "P_model = InducedOperatorModel(grid_features_u_init,k_P)\n",
    "num_P_params = len(grid_features_u_init)\n",
    "                               \n",
    "\n",
    "P_init = P_model.get_fitted_params(grid_features_u_init,jnp.hstack(rhs_values))\n",
    "params_init = jnp.hstack(list(all_u_params_init)+[P_init])\n",
    "print(params_init.shape)\n",
    "print(P_init.shape)\n",
    "params_init = jnp.hstack(list(all_u_params_init)+[jnp.zeros(m*len(xy_ints[0]))])\n",
    "\n",
    "\n",
    "\n",
    "# P, u, f object\n",
    "collocation_points = xy_ints\n",
    "EqnModel  = OperatorPDEModel(\n",
    "    P_model,\n",
    "    u_models,\n",
    "    observation_points,\n",
    "    observation_values,\n",
    "    collocation_points,\n",
    "    feature_operators,\n",
    "    rhs_values,\n",
    "    datafit_weight = 5.,\n",
    "    num_P_operator_params = num_P_params\n",
    ")\n",
    "\n",
    "\n",
    "# Optimizer hyperparameters\n",
    "optparams = LMParams(max_iter = 301,\n",
    "                    line_search_increase_ratio = 1.4,\n",
    "                    print_every = 100,\n",
    "                    tol = 1e-10\n",
    "                    )\n",
    "\n"
   ]
  },
  {
   "cell_type": "code",
   "execution_count": 36,
   "metadata": {},
   "outputs": [
    {
     "data": {
      "application/vnd.jupyter.widget-view+json": {
       "model_id": "21f5db24bc084cbea34eba23acbd0b59",
       "version_major": 2,
       "version_minor": 0
      },
      "text/plain": [
       "  0%|          | 0/301 [00:00<?, ?it/s]"
      ]
     },
     "metadata": {},
     "output_type": "display_data"
    },
    {
     "name": "stdout",
     "output_type": "stream",
     "text": [
      "Iteration 0, loss = 82.83, gradnorm = 23.75, alpha = 2.5, improvement_ratio = 1.0\n",
      "Iteration 1, loss = 12.33, gradnorm = 35.7, alpha = 2.083, improvement_ratio = 1.084\n",
      "Iteration 2, loss = 5.053, gradnorm = 8.162, alpha = 1.736, improvement_ratio = 1.047\n",
      "Iteration 3, loss = 3.189, gradnorm = 3.274, alpha = 1.447, improvement_ratio = 1.017\n",
      "Iteration 4, loss = 2.311, gradnorm = 1.555, alpha = 1.206, improvement_ratio = 1.008\n",
      "Iteration 5, loss = 1.711, gradnorm = 1.056, alpha = 1.005, improvement_ratio = 1.008\n",
      "Iteration 100, loss = 2.417e-06, gradnorm = 0.0001554, alpha = 2.243e-07, improvement_ratio = 0.8121\n"
     ]
    },
    {
     "data": {
      "application/vnd.jupyter.widget-view+json": {
       "model_id": "369c3e1e5ee74c388445de1a38cd9bdc",
       "version_major": 2,
       "version_minor": 0
      },
      "text/plain": [
       "  0%|          | 0/301 [00:00<?, ?it/s]"
      ]
     },
     "metadata": {},
     "output_type": "display_data"
    },
    {
     "name": "stdout",
     "output_type": "stream",
     "text": [
      "Iteration 0, loss = 6.173e-08, gradnorm = 2.158e-07, alpha = 2.5, improvement_ratio = 1.002\n",
      "Iteration 1, loss = 6.173e-08, gradnorm = 2.012e-07, alpha = 2.083, improvement_ratio = 0.998\n",
      "Iteration 2, loss = 6.173e-08, gradnorm = 1.966e-07, alpha = 1.736, improvement_ratio = 0.9998\n",
      "Iteration 3, loss = 6.173e-08, gradnorm = 1.936e-07, alpha = 1.447, improvement_ratio = 1.0\n",
      "Iteration 4, loss = 6.173e-08, gradnorm = 1.914e-07, alpha = 1.206, improvement_ratio = 0.9986\n",
      "Iteration 5, loss = 6.173e-08, gradnorm = 1.897e-07, alpha = 1.005, improvement_ratio = 1.002\n",
      "Iteration 100, loss = 3.359e-09, gradnorm = 8.395e-05, alpha = 3.622e-08, improvement_ratio = 0.8104\n"
     ]
    }
   ],
   "source": [
    "# Run CholeskyLM \n",
    "params,convergence_data = CholeskyLM(\n",
    "    params_init.copy(),\n",
    "    EqnModel,\n",
    "    beta = 1e-8,\n",
    "    optParams = optparams\n",
    ")\n",
    "\n",
    "p_adjusted,refine_convergence_data = SVD_LM(\n",
    "    params,\n",
    "    EqnModel,\n",
    "    beta = 1e-13,\n",
    "    optParams = optparams\n",
    ")\n",
    "\n",
    "# Optimized parameters\n",
    "u_sols = EqnModel.get_u_params(p_adjusted)\n",
    "P_sol = EqnModel.get_P_params(p_adjusted)\n"
   ]
  },
  {
   "cell_type": "code",
   "execution_count": 3,
   "metadata": {},
   "outputs": [],
   "source": [
    "err = {\n",
    "    '1_5_mthd': {\n",
    "        '2_obs': {'i_opt': []},\n",
    "        '4_obs': {'i_opt': []},\n",
    "        '6_obs': {'i_opt': []},\n",
    "        '8_obs': {'i_opt': []},\n",
    "        '10_obs': {'i_opt': []}\n",
    "                  },\n",
    "    '2_mthd':   {\n",
    "        '2_obs': {'i_opt': []},\n",
    "        '4_obs': {'i_opt': []},\n",
    "        '6_obs': {'i_opt': []},\n",
    "        '8_obs': {'i_opt': []},\n",
    "        '10_obs': {'i_opt': []}\n",
    "                }\n",
    "}"
   ]
  },
  {
   "cell_type": "code",
   "execution_count": null,
   "metadata": {},
   "outputs": [],
   "source": [
    "NUM_FUN_LIST = [2,4,6,8]\n",
    "NUM_RUNS = 3\n",
    "OBS_PTS_LIST = [2,4,6,8,10]\n",
    "for obs_pt in OBS_PTS_LIST:\n",
    "    for m in NUM_FUN_LIST:\n",
    "        i_opt_1_5 = []\n",
    "        i_opt_2 = []\n",
    "        for run in range(NUM_RUNS):\n",
    "            # Run\n",
    "            res = run_exp_opt_err(m, obs_pt, run)\n",
    "            # Append\n",
    "            i_opt_1_5.append(res[0])\n",
    "            i_opt_2.append(res[1])\n",
    "        # Append each list    \n",
    "        err['1_5_mthd'][f'{obs_pt}_obs']['i_opt'].append(i_opt_1_5)\n",
    "        err['2_mthd'][f'{obs_pt}_obs']['i_opt'].append(i_opt_2)   \n",
    "    # Save after\n",
    "    jnp.save('errors_opt/err_rndm_grids_246810_1_5', err)"
   ]
  },
  {
   "cell_type": "code",
   "execution_count": 4,
   "metadata": {},
   "outputs": [],
   "source": [
    "err = jnp.load('errors_opt/err_unif_grids_246810_1_5.npy', allow_pickle=True).item()"
   ]
  },
  {
   "cell_type": "code",
   "execution_count": 5,
   "metadata": {},
   "outputs": [
    {
     "data": {
      "text/plain": [
       "{'1_5_mthd': {'2_obs': {'i_opt': [[Array(0.10706994, dtype=float64),\n",
       "     Array(0.1065423, dtype=float64),\n",
       "     Array(0.29683795, dtype=float64)],\n",
       "    [Array(0.02172732, dtype=float64),\n",
       "     Array(0.02458626, dtype=float64),\n",
       "     Array(0.03781029, dtype=float64)],\n",
       "    [Array(0.02312203, dtype=float64),\n",
       "     Array(0.01615728, dtype=float64),\n",
       "     Array(0.02212406, dtype=float64)],\n",
       "    [Array(0.01051447, dtype=float64),\n",
       "     Array(0.01901893, dtype=float64),\n",
       "     Array(0.01916618, dtype=float64)]]},\n",
       "  '4_obs': {'i_opt': [[Array(0.07332755, dtype=float64),\n",
       "     Array(0.06205022, dtype=float64),\n",
       "     Array(0.16891295, dtype=float64)],\n",
       "    [Array(0.0245208, dtype=float64),\n",
       "     Array(0.01701029, dtype=float64),\n",
       "     Array(0.02572246, dtype=float64)],\n",
       "    [Array(0.01164215, dtype=float64),\n",
       "     Array(0.01476634, dtype=float64),\n",
       "     Array(0.01542454, dtype=float64)],\n",
       "    [Array(0.0106653, dtype=float64),\n",
       "     Array(0.0129918, dtype=float64),\n",
       "     Array(0.01416241, dtype=float64)]]},\n",
       "  '6_obs': {'i_opt': [[Array(0.10965507, dtype=float64),\n",
       "     Array(0.04451765, dtype=float64),\n",
       "     Array(0.14655734, dtype=float64)],\n",
       "    [Array(0.01448369, dtype=float64),\n",
       "     Array(0.01300355, dtype=float64),\n",
       "     Array(0.01782779, dtype=float64)],\n",
       "    [Array(0.01289136, dtype=float64),\n",
       "     Array(0.01036091, dtype=float64),\n",
       "     Array(0.00837643, dtype=float64)],\n",
       "    [Array(0.0059448, dtype=float64),\n",
       "     Array(0.00443741, dtype=float64),\n",
       "     Array(0.00623814, dtype=float64)]]},\n",
       "  '8_obs': {'i_opt': [[Array(0.10265107, dtype=float64),\n",
       "     Array(0.04724583, dtype=float64),\n",
       "     Array(0.16062015, dtype=float64)],\n",
       "    [Array(0.02015783, dtype=float64),\n",
       "     Array(0.01601788, dtype=float64),\n",
       "     Array(0.0169909, dtype=float64)],\n",
       "    [Array(0.00422198, dtype=float64),\n",
       "     Array(0.00339575, dtype=float64),\n",
       "     Array(0.00539409, dtype=float64)],\n",
       "    [Array(0.00277708, dtype=float64),\n",
       "     Array(0.00179604, dtype=float64),\n",
       "     Array(0.00339644, dtype=float64)]]},\n",
       "  '10_obs': {'i_opt': [[Array(0.11089261, dtype=float64),\n",
       "     Array(0.04879207, dtype=float64),\n",
       "     Array(0.16341404, dtype=float64)],\n",
       "    [Array(0.01826693, dtype=float64),\n",
       "     Array(0.01726022, dtype=float64),\n",
       "     Array(0.01784436, dtype=float64)],\n",
       "    [Array(0.00386638, dtype=float64),\n",
       "     Array(0.00359626, dtype=float64),\n",
       "     Array(0.00558088, dtype=float64)],\n",
       "    [Array(0.00210547, dtype=float64),\n",
       "     Array(0.00237336, dtype=float64),\n",
       "     Array(0.00393763, dtype=float64)]]}},\n",
       " '2_mthd': {'2_obs': {'i_opt': [[Array(0.1293183, dtype=float64),\n",
       "     Array(0.0487705, dtype=float64),\n",
       "     Array(0.26508826, dtype=float64)],\n",
       "    [Array(0.26038917, dtype=float64),\n",
       "     Array(0.24054015, dtype=float64),\n",
       "     Array(0.40511544, dtype=float64)],\n",
       "    [Array(0.30035985, dtype=float64),\n",
       "     Array(0.25165007, dtype=float64),\n",
       "     Array(0.35289361, dtype=float64)],\n",
       "    [Array(0.08664252, dtype=float64),\n",
       "     Array(0.09409098, dtype=float64),\n",
       "     Array(0.09938384, dtype=float64)]]},\n",
       "  '4_obs': {'i_opt': [[Array(0.16006434, dtype=float64),\n",
       "     Array(0.07402395, dtype=float64),\n",
       "     Array(0.31879022, dtype=float64)],\n",
       "    [Array(0.08509252, dtype=float64),\n",
       "     Array(0.0570901, dtype=float64),\n",
       "     Array(0.10204816, dtype=float64)],\n",
       "    [Array(0.18143062, dtype=float64),\n",
       "     Array(0.25630006, dtype=float64),\n",
       "     Array(0.1597604, dtype=float64)],\n",
       "    [Array(0.10933745, dtype=float64),\n",
       "     Array(0.09032408, dtype=float64),\n",
       "     Array(0.1246682, dtype=float64)]]},\n",
       "  '6_obs': {'i_opt': [[Array(0.11726166, dtype=float64),\n",
       "     Array(0.04791092, dtype=float64),\n",
       "     Array(0.17061881, dtype=float64)],\n",
       "    [Array(0.0655223, dtype=float64),\n",
       "     Array(0.04428838, dtype=float64),\n",
       "     Array(0.04074302, dtype=float64)],\n",
       "    [Array(0.15386888, dtype=float64),\n",
       "     Array(0.18016585, dtype=float64),\n",
       "     Array(0.12470283, dtype=float64)],\n",
       "    [Array(0.0445591, dtype=float64),\n",
       "     Array(0.05294587, dtype=float64),\n",
       "     Array(0.07294158, dtype=float64)]]},\n",
       "  '8_obs': {'i_opt': [[Array(0.11977823, dtype=float64),\n",
       "     Array(0.04959211, dtype=float64),\n",
       "     Array(0.19453029, dtype=float64)],\n",
       "    [Array(0.02944177, dtype=float64),\n",
       "     Array(0.01166257, dtype=float64),\n",
       "     Array(0.01971432, dtype=float64)],\n",
       "    [Array(0.05011859, dtype=float64),\n",
       "     Array(0.06169846, dtype=float64),\n",
       "     Array(0.10335954, dtype=float64)],\n",
       "    [Array(0.02815614, dtype=float64),\n",
       "     Array(0.0236178, dtype=float64),\n",
       "     Array(0.03745074, dtype=float64)]]},\n",
       "  '10_obs': {'i_opt': [[Array(0.10457334, dtype=float64),\n",
       "     Array(0.04346857, dtype=float64),\n",
       "     Array(0.16700932, dtype=float64)],\n",
       "    [Array(0.01601192, dtype=float64),\n",
       "     Array(0.01351276, dtype=float64),\n",
       "     Array(0.02822078, dtype=float64)],\n",
       "    [Array(0.06296487, dtype=float64),\n",
       "     Array(0.06120811, dtype=float64),\n",
       "     Array(0.11618804, dtype=float64)],\n",
       "    [Array(0.01892744, dtype=float64),\n",
       "     Array(0.01721925, dtype=float64),\n",
       "     Array(0.02322295, dtype=float64)]]}}}"
      ]
     },
     "execution_count": 5,
     "metadata": {},
     "output_type": "execute_result"
    }
   ],
   "source": [
    "err"
   ]
  },
  {
   "cell_type": "code",
   "execution_count": 29,
   "metadata": {},
   "outputs": [
    {
     "data": {
      "image/png": "[encoded data removed]",
      "text/plain": [
       "<Figure size 640x480 with 1 Axes>"
      ]
     },
     "metadata": {},
     "output_type": "display_data"
    }
   ],
   "source": [
    "# Operator learning errors plot\n",
    "NUM_FUN_LIST = [2,4,6,8]\n",
    "NUM_RUNS = 3\n",
    "OBS_PTS_LIST = [2,4,6,8,10]\n",
    "# plt.title('Operator learning error: u_new ~ GP(0,RBF(0.5))')\n",
    "ms = NUM_FUN_LIST\n",
    "# Colors\n",
    "c2 = 'black'\n",
    "c1 = 'black'\n",
    "# 2-step method plot\n",
    "for obs_pt in OBS_PTS_LIST:\n",
    "    # 2 method\n",
    "    mean_i_opt_2 = jnp.array([jnp.mean(e) for e in jnp.array(err['2_mthd'][f'{obs_pt}_obs']['i_opt'])])\n",
    "    sd_i_opt_2 = jnp.array([jnp.std(e) for e in jnp.array(err['2_mthd'][f'{obs_pt}_obs']['i_opt'])])\n",
    "    # Plot 2 method\n",
    "    plt.plot(ms, mean_i_opt_2, label = f'{obs_pt} pts', marker= 's', linestyle = 'dashed',markersize = 4, color = c2)\n",
    "    plt.fill_between(ms, mean_i_opt_2 - sd_i_opt_2, mean_i_opt_2 + sd_i_opt_2, alpha=.1, color = c2)\n",
    "    plt.yscale('log')\n",
    "    plt.minorticks_off()\n",
    "# 1-step method plot\n",
    "for obs_pt in OBS_PTS_LIST:\n",
    "    # 1_5 method\n",
    "    mean_i_opt_1_5 = jnp.array([jnp.mean(e) for e in jnp.array(err['1_5_mthd'][f'{obs_pt}_obs']['i_opt'])])\n",
    "    sd_i_opt_1_5 = jnp.array([jnp.std(e) for e in jnp.array(err['1_5_mthd'][f'{obs_pt}_obs']['i_opt'])])\n",
    "    # Plot 1_5 method\n",
    "    plt.plot(ms, mean_i_opt_1_5, label = f'{obs_pt} pts', marker= 'o',markersize = 4, color = c1)\n",
    "    plt.fill_between(ms, mean_i_opt_1_5 - sd_i_opt_1_5, mean_i_opt_1_5 + sd_i_opt_1_5, alpha=.1, color = c1)\n",
    "    plt.yscale('log')\n",
    "    plt.minorticks_off()\n",
    "\n",
    "plt.ylabel('Operator learning error')\n",
    "plt.xlabel('M')\n",
    "\n",
    "\n",
    "# adding labels to the plotlines\n",
    "xvals_2step = [5]*4 + [7.5]\n",
    "xvals_1step = [6.5]+[7]*4\n",
    "xvals = xvals_2step + xvals_1step\n",
    "lines = plt.gca().get_lines()\n",
    "labelLines(lines, align=True, xvals = xvals)\n",
    "# add legend box\n",
    "legend_elements = [Line2D([0], [0], color= c2, linestyle='dashed', label='2-step'),\n",
    "                   Line2D([0], [0], color= c1, label='1.5-step')]\n",
    "plt.legend(handles = legend_elements, loc = 'upper right')\n",
    "plt.show()"
   ]
  },
  {
   "cell_type": "markdown",
   "metadata": {},
   "source": [
    "## In sample errors"
   ]
  },
  {
   "cell_type": "code",
   "execution_count": 2,
   "metadata": {},
   "outputs": [],
   "source": [
    "def run_exp_i_smpl_err(m,obs_pts,run):\n",
    "    \n",
    "    # Sample m training functions from a GP\n",
    "    kernel_GP = get_gaussianRBF(0.5)\n",
    "    xy_pairs = get_xy_grid_pairs(50,0,1,0,1) # Pairs to build interpolants\n",
    "    u_true_functions = tuple(GP_sampler(num_samples = m,\n",
    "                                            X = xy_pairs, \n",
    "                                            kernel = kernel_GP,\n",
    "                                            reg = 1e-12,\n",
    "                                            seed = 2024\n",
    "                                        )\n",
    "                                        )\n",
    "    # Permeability field A\n",
    "    def A(xy):\n",
    "        x = xy[0]\n",
    "        y = xy[1]\n",
    "        return jnp.exp(jnp.sin(jnp.cos(x) + jnp.cos(y)))\n",
    "\n",
    "    # Compute f = Pu for a given u\n",
    "    def get_rhs_darcy(u):\n",
    "        def Agradu(xy):\n",
    "            return A(xy)*jax.grad(u)(xy)\n",
    "        def Pu(xy):\n",
    "            return jnp.trace(jax.jacfwd(Agradu)(xy))\n",
    "        return Pu\n",
    "\n",
    "    # Lists of m true u's and f's\n",
    "    vmapped_u_true_functions = tuple([jax.vmap(u) for u in u_true_functions]) # vmap'ed\n",
    "    rhs_functions = tuple([jax.vmap(get_rhs_darcy(u)) for u in u_true_functions]) #vmap'ed\n",
    "\n",
    "    # Define the num of ghost points for each u\n",
    "    num_grid_points = 10\n",
    "    num_interior_points = 50\n",
    "\n",
    "    # Sample collocation points for f using random points different for every function\n",
    "    xy_ints,xy_bdys = sample_multiple_xy_grids_latin(\n",
    "            num_functions = m,\n",
    "            num_interior = num_interior_points,\n",
    "            x_range = [0,1],\n",
    "            y_range = [0,1],\n",
    "            num_grid_x_bdy = num_grid_points,\n",
    "            num_grid_y_bdy = num_grid_points,\n",
    "            key = pkey(23)\n",
    "        )\n",
    "    \n",
    "    # # Sample collocation points for f using same uniform grid for every function\n",
    "    # xy_ints = tuple(build_xy_grid([0,1],[0,1],7,7)[0] for m in range(m))\n",
    "    # xy_bdys = tuple(build_xy_grid([0,1],[0,1],7,7)[1] for m in range(m))\n",
    "\n",
    "    xy_all = tuple(jnp.vstack([xy_int,xy_bdy]) for xy_int,xy_bdy in zip(xy_ints,xy_bdys))\n",
    "\n",
    "    # List of number of observation points per u\n",
    "    num_obs = [obs_pts]*m\n",
    "\n",
    "    # Get (X^m, u^m(X^m))\n",
    "    xy_obs,u_obs = build_u_obs_all(\n",
    "        num_obs,\n",
    "        xy_ints,\n",
    "        xy_bdys,\n",
    "        vmapped_u_true_functions,\n",
    "        pkey(5)\n",
    "    )\n",
    "\n",
    "    # Build operator features\n",
    "    def diff_x_op(k,index):\n",
    "        return get_selected_grad(k,index,0)\n",
    "\n",
    "    def diff_xx_op(k,index):\n",
    "        return get_selected_grad(get_selected_grad(k,index,0),index,0)\n",
    "\n",
    "    def diff_y_op(k,index):\n",
    "        return get_selected_grad(k,index,1)\n",
    "\n",
    "    def diff_yy_op(k,index):\n",
    "        return get_selected_grad(get_selected_grad(k,index,1),index,1)\n",
    "\n",
    "    def diff_xy_op(k,index):\n",
    "        return get_selected_grad(get_selected_grad(k,index,0),index,1)\n",
    "\n",
    "    feature_operators = tuple([eval_k,diff_x_op,diff_xx_op,diff_y_op,diff_yy_op,diff_xy_op])\n",
    "\n",
    "    # Build interpolants for u's\n",
    "    k_u = get_gaussianRBF(0.5)\n",
    "    u_operators = (eval_k,)\n",
    "    u_models = tuple([CholInducedRKHS(\n",
    "        xy_all[i],\n",
    "        u_operators,\n",
    "        k_u\n",
    "        ) for i in range(m)])\n",
    "    \n",
    "    # Get necessary tuples\n",
    "    observation_points = tuple(xy_obs)\n",
    "    observation_values = tuple(u_obs)\n",
    "    collocation_points = xy_ints\n",
    "\n",
    "    rhs_values = tuple(rhs_func(xy_int) for xy_int,rhs_func in zip(xy_ints,rhs_functions))\n",
    "\n",
    "    all_u_params_init = tuple([\n",
    "        model.get_fitted_params(obs_loc,obs_val)\n",
    "        for obs_loc,obs_val,model in zip(observation_points,observation_values,u_models)])\n",
    "\n",
    "    grid_features_u_init = jnp.vstack([(\n",
    "        model.evaluate_operators(feature_operators,xy_int,model_params)).reshape(\n",
    "                len(xy_int),\n",
    "                len(feature_operators),\n",
    "                order = 'F'\n",
    "            ) for xy_int,model,model_params in zip(xy_ints,u_models,all_u_params_init) ])\n",
    "    \n",
    "    # P kernel\n",
    "    k_P_u_part = get_centered_scaled_poly_kernel(1,grid_features_u_init,c=1)\n",
    "    k_P_x_part = get_gaussianRBF(0.4)\n",
    "    @vectorize_kfunc\n",
    "    def k_P(x,y):\n",
    "        return k_P_x_part(x[:2],y[:2]) * k_P_u_part(x[2:],y[2:])\n",
    "\n",
    "    # P object        \n",
    "    P_model = OperatorModel(k_P)\n",
    "\n",
    "    # P, u, f object\n",
    "    collocation_points = xy_ints\n",
    "    EqnModel  = OperatorPDEModel(\n",
    "        P_model,\n",
    "        u_models,\n",
    "        observation_points,\n",
    "        observation_values,\n",
    "        collocation_points,\n",
    "        feature_operators,\n",
    "        rhs_values,\n",
    "        datafit_weight = 5.,\n",
    "    )\n",
    "\n",
    "    ### Optimize LM\n",
    "    params_init = jnp.hstack(list(all_u_params_init)+[jnp.zeros(m*len(xy_ints[0]))])\n",
    "    params,convergence_data = CholeskyLM(\n",
    "        params_init.copy(),\n",
    "        EqnModel,\n",
    "        beta = 1e-8,\n",
    "        max_iter = 301,\n",
    "        init_alpha=3,\n",
    "        line_search_increase_ratio=1.4,\n",
    "        print_every = 100\n",
    "    )\n",
    "    p_adjusted,_ = SVD_LM(params,EqnModel,1e-3,500)\n",
    "\n",
    "    # Optimized parameters\n",
    "    u_sols = EqnModel.get_u_params(p_adjusted)\n",
    "    P_sol = EqnModel.get_P_params(p_adjusted)\n",
    "\n",
    "    ## Errors\n",
    "\n",
    "    # Testing grid\n",
    "    num_fine_grid = 50\n",
    "    x_fine,y_fine = np.meshgrid(np.linspace(0,1,num_fine_grid+4)[2:-2],np.linspace(0,1,num_fine_grid+4)[2:-2])\n",
    "    xy_fine_int = np.vstack([x_fine.flatten(),y_fine.flatten()]).T\n",
    "\n",
    "    # Estimated P from 1.5 step method\n",
    "    model_grid_features_all = EqnModel.get_stacked_eqn_features(u_sols)    \n",
    "    S_train = model_grid_features_all\n",
    "    P_func = lambda x: P_model.predict_new(x,S_train,P_sol)\n",
    "\n",
    "    # Estimated P from 2 step method\n",
    "    init_P_features = EqnModel.get_stacked_eqn_features(all_u_params_init)\n",
    "    S_train_2 = init_P_features \n",
    "    K = P_model.kernel_function(S_train_2,S_train_2)\n",
    "    P_params_naive = solve(K+1e-5*diagpart(K),EqnModel.stacked_collocation_rhs)\n",
    "    P_func2 = lambda x: P_model.predict_new(x,S_train_2,P_params_naive)\n",
    "\n",
    "    # P[\\phi(w)](fine_grid)\n",
    "    def evaluate_hatP(P_func, w, fine_grid, feature_operators):\n",
    "\n",
    "        # Build S_test\n",
    "        w_features = jnp.array([jax.vmap(operator(w,0))(xy_fine_int) for operator in feature_operators]).T\n",
    "        model_fine_features = jnp.hstack([fine_grid, w_features])\n",
    "        S_test = model_fine_features\n",
    "\n",
    "\n",
    "        #P_preds_model_features = P_model.kernel_function(S_test,S_train)@P_sol \n",
    "        P_preds = P_func(S_test)\n",
    "        return P_preds\n",
    "    \n",
    "    # In sample\n",
    "\n",
    "    # Get list of approximated functions ^U = [^u_1, ^u_2, ^u_3]\n",
    "    true = [f(xy_fine_int) for f in rhs_functions]\n",
    "\n",
    "    # u_approx_funcs = [u_models[ind].get_eval_function(u_sols[ind]) \n",
    "    #                 for ind in range(m)]\n",
    "    # pred1_5 = [\n",
    "    #     evaluate_hatP(\n",
    "    #     P_func,\n",
    "    #     u, xy_fine_int,feature_operators) for u in u_approx_funcs\n",
    "    # ]\n",
    "\n",
    "    pred1_5 = [\n",
    "        evaluate_hatP(\n",
    "        P_func,\n",
    "        u, xy_fine_int,feature_operators) for u in u_true_functions\n",
    "    ]\n",
    "\n",
    "    # twostep_u_approx_funcs = [u_models[ind].get_eval_function(all_u_params_init[ind]) \n",
    "    #                 for ind in range(m)]\n",
    "    # pred2 = [\n",
    "    #     evaluate_hatP(\n",
    "    #     P_func2,\n",
    "    #     u, xy_fine_int,feature_operators) for u in twostep_u_approx_funcs\n",
    "    # ]\n",
    "\n",
    "    pred2 = [\n",
    "        evaluate_hatP(\n",
    "        P_func2,\n",
    "        u, xy_fine_int,feature_operators) for u in u_true_functions\n",
    "    ]\n",
    "\n",
    "    i_smpl_1_5 = jnp.mean(jnp.array([get_nrmse(t,p) for t,p in zip(true,pred1_5)])) # RMSE\n",
    "    i_smpl_2 = jnp.mean(jnp.array([get_nrmse(t,p) for t,p in zip(true,pred2)]))\n",
    "\n",
    "    return i_smpl_1_5, i_smpl_2\n",
    "    "
   ]
  },
  {
   "cell_type": "code",
   "execution_count": 3,
   "metadata": {},
   "outputs": [],
   "source": [
    "err = {\n",
    "    '1_5_mthd': {\n",
    "        '2_obs': {'i_smpl': []},\n",
    "        '4_obs': {'i_smpl': []},\n",
    "        '6_obs': {'i_smpl': []},\n",
    "        '8_obs': {'i_smpl': []},\n",
    "        '10_obs': {'i_smpl': []}\n",
    "                  },\n",
    "    '2_mthd':   {\n",
    "        '2_obs': {'i_smpl': []},\n",
    "        '4_obs': {'i_smpl': []},\n",
    "        '6_obs': {'i_smpl': []},\n",
    "        '8_obs': {'i_smpl': []},\n",
    "        '10_obs': {'i_smpl': []}\n",
    "                }\n",
    "}"
   ]
  },
  {
   "cell_type": "code",
   "execution_count": null,
   "metadata": {},
   "outputs": [],
   "source": [
    "NUM_FUN_LIST = [2,4,6,8]\n",
    "NUM_RUNS = 3\n",
    "OBS_PTS_LIST = [2,4,6,8,10]\n",
    "for obs_pt in OBS_PTS_LIST:\n",
    "    for m in NUM_FUN_LIST:\n",
    "        i_smpl_1_5 = []\n",
    "        i_smpl_2 = []\n",
    "        for run in range(NUM_RUNS):\n",
    "            # Run\n",
    "            res = run_exp_i_smpl_err(m, obs_pt, run)\n",
    "            # Append\n",
    "            i_smpl_1_5.append(res[0])\n",
    "            i_smpl_2.append(res[1])\n",
    "        # Append each list    \n",
    "        err['1_5_mthd'][f'{obs_pt}_obs']['i_smpl'].append(i_smpl_1_5)\n",
    "        err['2_mthd'][f'{obs_pt}_obs']['i_smpl'].append(i_smpl_2)   \n",
    "    # Save after\n",
    "    jnp.save('errors_i_smpl/err_rndm_grids_246810_1_5_with_true_features', err)"
   ]
  },
  {
   "cell_type": "code",
   "execution_count": 5,
   "metadata": {},
   "outputs": [],
   "source": [
    "# err = jnp.load('errors_i_smpl/err_rndm_grids_246810_1_5.npy', allow_pickle=True).item()\n",
    "err = jnp.load('errors_i_smpl/err_rndm_grids_246810_1_5_with_true_features.npy', allow_pickle=True).item()"
   ]
  },
  {
   "cell_type": "code",
   "execution_count": 6,
   "metadata": {},
   "outputs": [
    {
     "data": {
      "image/png": "[encoded data removed]",
      "text/plain": [
       "<Figure size 640x480 with 1 Axes>"
      ]
     },
     "metadata": {},
     "output_type": "display_data"
    }
   ],
   "source": [
    "# In sample errors plot\n",
    "NUM_FUN_LIST = [2,4,6,8]\n",
    "NUM_RUNS = 3\n",
    "OBS_PTS_LIST = [2,4,6,8,10]\n",
    "# plt.title('In sample error: u_new ~ GP(0,RBF(0.5))')\n",
    "ms = NUM_FUN_LIST\n",
    "# Colors\n",
    "c2 = 'black'\n",
    "c1 = 'black'\n",
    "# 2-step method plot\n",
    "for obs_pt in OBS_PTS_LIST:\n",
    "    # 2 method\n",
    "    mean_i_opt_2 = jnp.array([jnp.mean(e) for e in jnp.array(err['2_mthd'][f'{obs_pt}_obs']['i_smpl'])])\n",
    "    sd_i_opt_2 = jnp.array([jnp.std(e) for e in jnp.array(err['2_mthd'][f'{obs_pt}_obs']['i_smpl'])])\n",
    "    # Plot 2 method\n",
    "    plt.plot(ms, mean_i_opt_2, label = f'{obs_pt} pts', marker= 's', linestyle = 'dashed',markersize = 4, color = c2)\n",
    "    plt.fill_between(ms, mean_i_opt_2 - sd_i_opt_2, mean_i_opt_2 + sd_i_opt_2, alpha=.1, color = c2)\n",
    "    plt.yscale('log')\n",
    "    plt.minorticks_off()\n",
    "# 1-step method plot\n",
    "for obs_pt in OBS_PTS_LIST:\n",
    "    # 1_5 method\n",
    "    mean_i_opt_1_5 = jnp.array([jnp.mean(e) for e in jnp.array(err['1_5_mthd'][f'{obs_pt}_obs']['i_smpl'])])\n",
    "    sd_i_opt_1_5 = jnp.array([jnp.std(e) for e in jnp.array(err['1_5_mthd'][f'{obs_pt}_obs']['i_smpl'])])\n",
    "    # Plot 1_5 method\n",
    "    plt.plot(ms, mean_i_opt_1_5, label = f'{obs_pt} pts', marker= 'o',markersize = 4, color = c1)\n",
    "    plt.fill_between(ms, mean_i_opt_1_5 - sd_i_opt_1_5, mean_i_opt_1_5 + sd_i_opt_1_5, alpha=.1, color = c1)\n",
    "    plt.yscale('log')\n",
    "    plt.minorticks_off()\n",
    "\n",
    "plt.ylabel('In-sample error')\n",
    "plt.xlabel('M')\n",
    "# adding labels to the plotlines\n",
    "xvals_2step = [5]*4 + [7.5]\n",
    "xvals_1step = [6.5]+[7]*4\n",
    "xvals = xvals_2step + xvals_1step\n",
    "lines = plt.gca().get_lines()\n",
    "labelLines(lines, align=True, xvals = xvals)\n",
    "# add legend box\n",
    "legend_elements = [Line2D([0], [0], color= c2, linestyle = 'dashed', label='2-step'),\n",
    "                   Line2D([0], [0], color= c1, label='1.5-step')]\n",
    "plt.legend(handles = legend_elements, loc = 'upper right')\n",
    "plt.show()"
   ]
  },
  {
   "cell_type": "markdown",
   "metadata": {},
   "source": [
    "## In distribution errors"
   ]
  },
  {
   "cell_type": "code",
   "execution_count": 66,
   "metadata": {},
   "outputs": [],
   "source": [
    "def run_exp_i_dis_err(m,obs_pts,run):\n",
    "    \n",
    "    # Sample m training functions from a GP\n",
    "    kernel_GP = get_gaussianRBF(0.5)\n",
    "    xy_pairs = get_xy_grid_pairs(50,0,1,0,1) # Pairs to build interpolants\n",
    "    u_true_functions = tuple(GP_sampler(num_samples = m,\n",
    "                                            X = xy_pairs, \n",
    "                                            kernel = kernel_GP,\n",
    "                                            reg = 1e-12,\n",
    "                                            seed = 2024\n",
    "                                        )\n",
    "                                        )\n",
    "    # Permeability field A\n",
    "    def A(xy):\n",
    "        x = xy[0]\n",
    "        y = xy[1]\n",
    "        return jnp.exp(jnp.sin(jnp.cos(x) + jnp.cos(y)))\n",
    "\n",
    "    # Compute f = Pu for a given u\n",
    "    def get_rhs_darcy(u):\n",
    "        def Agradu(xy):\n",
    "            return A(xy)*jax.grad(u)(xy)\n",
    "        def Pu(xy):\n",
    "            return jnp.trace(jax.jacfwd(Agradu)(xy))\n",
    "        return Pu\n",
    "\n",
    "    # Lists of m true u's and f's\n",
    "    vmapped_u_true_functions = tuple([jax.vmap(u) for u in u_true_functions]) # vmap'ed\n",
    "    rhs_functions = tuple([jax.vmap(get_rhs_darcy(u)) for u in u_true_functions]) #vmap'ed\n",
    "\n",
    "    # Define the num of ghost points for each u\n",
    "    num_grid_points = 10\n",
    "    num_interior_points = 50\n",
    "\n",
    "    # Sample collocation points for f using random points different for every function\n",
    "    xy_ints,xy_bdys = sample_multiple_xy_grids_latin(\n",
    "            num_functions = m,\n",
    "            num_interior = num_interior_points,\n",
    "            x_range = [0,1],\n",
    "            y_range = [0,1],\n",
    "            num_grid_x_bdy = num_grid_points,\n",
    "            num_grid_y_bdy = num_grid_points,\n",
    "            key = pkey(23)\n",
    "        )\n",
    "    \n",
    "    # # Sample collocation points for f using same uniform grid for every function\n",
    "    # xy_ints = tuple(build_xy_grid([0,1],[0,1],7,7)[0] for m in range(m))\n",
    "    # xy_bdys = tuple(build_xy_grid([0,1],[0,1],7,7)[1] for m in range(m))\n",
    "\n",
    "    xy_all = tuple(jnp.vstack([xy_int,xy_bdy]) for xy_int,xy_bdy in zip(xy_ints,xy_bdys))\n",
    "\n",
    "    # List of number of observation points per u\n",
    "    num_obs = [obs_pts]*m\n",
    "\n",
    "    # Get (X^m, u^m(X^m))\n",
    "    xy_obs,u_obs = build_u_obs_all(\n",
    "        num_obs,\n",
    "        xy_ints,\n",
    "        xy_bdys,\n",
    "        vmapped_u_true_functions,\n",
    "        pkey(5)\n",
    "    )\n",
    "\n",
    "    # Build operator features\n",
    "    def diff_x_op(k,index):\n",
    "        return get_selected_grad(k,index,0)\n",
    "\n",
    "    def diff_xx_op(k,index):\n",
    "        return get_selected_grad(get_selected_grad(k,index,0),index,0)\n",
    "\n",
    "    def diff_y_op(k,index):\n",
    "        return get_selected_grad(k,index,1)\n",
    "\n",
    "    def diff_yy_op(k,index):\n",
    "        return get_selected_grad(get_selected_grad(k,index,1),index,1)\n",
    "\n",
    "    def diff_xy_op(k,index):\n",
    "        return get_selected_grad(get_selected_grad(k,index,0),index,1)\n",
    "\n",
    "    feature_operators = tuple([eval_k,diff_x_op,diff_xx_op,diff_y_op,diff_yy_op,diff_xy_op])\n",
    "\n",
    "    # Build interpolants for u's\n",
    "    k_u = get_gaussianRBF(0.5)\n",
    "    u_operators = (eval_k,)\n",
    "    u_models = tuple([CholInducedRKHS(\n",
    "        xy_all[i],\n",
    "        u_operators,\n",
    "        k_u\n",
    "        ) for i in range(m)])\n",
    "    \n",
    "    # Get necessary tuples\n",
    "    observation_points = tuple(xy_obs)\n",
    "    observation_values = tuple(u_obs)\n",
    "    collocation_points = xy_ints\n",
    "\n",
    "    rhs_values = tuple(rhs_func(xy_int) for xy_int,rhs_func in zip(xy_ints,rhs_functions))\n",
    "\n",
    "    all_u_params_init = tuple([\n",
    "        model.get_fitted_params(obs_loc,obs_val)\n",
    "        for obs_loc,obs_val,model in zip(observation_points,observation_values,u_models)])\n",
    "\n",
    "    grid_features_u_init = jnp.vstack([(\n",
    "        model.evaluate_operators(feature_operators,xy_int,model_params)).reshape(\n",
    "                len(xy_int),\n",
    "                len(feature_operators),\n",
    "                order = 'F'\n",
    "            ) for xy_int,model,model_params in zip(xy_ints,u_models,all_u_params_init) ])\n",
    "    \n",
    "    # P kernel\n",
    "    k_P_u_part = get_centered_scaled_poly_kernel(1,grid_features_u_init[:,2:],c=1)\n",
    "    k_P_x_part = get_gaussianRBF(0.4)\n",
    "    @vectorize_kfunc\n",
    "    def k_P(x,y):\n",
    "        return k_P_x_part(x[:2],y[:2]) * k_P_u_part(x[2:],y[2:])\n",
    "\n",
    "    # P object        \n",
    "    P_model = OperatorModel(k_P)\n",
    "\n",
    "    # P, u, f object\n",
    "    collocation_points = xy_ints\n",
    "    EqnModel  = OperatorPDEModel(\n",
    "        P_model,\n",
    "        u_models,\n",
    "        observation_points,\n",
    "        observation_values,\n",
    "        collocation_points,\n",
    "        feature_operators,\n",
    "        rhs_values,\n",
    "        datafit_weight = 5.,\n",
    "    )\n",
    "\n",
    "    ### Optimize LM\n",
    "    params_init = jnp.hstack(list(all_u_params_init)+[jnp.zeros(m*len(xy_ints[0]))])\n",
    "    params,convergence_data = CholeskyLM(\n",
    "        params_init.copy(),\n",
    "        EqnModel,\n",
    "        beta = 1e-8,\n",
    "        max_iter = 301,\n",
    "        init_alpha=3,\n",
    "        line_search_increase_ratio=1.4,\n",
    "        print_every = 100\n",
    "    )\n",
    "    p_adjusted,_ = SVD_LM(params,EqnModel,1e-3,500)\n",
    "\n",
    "    # Optimized parameters\n",
    "    u_sols = EqnModel.get_u_params(p_adjusted)\n",
    "    P_sol = EqnModel.get_P_params(p_adjusted)\n",
    "\n",
    "    ## Errors\n",
    "\n",
    "    # Testing grid\n",
    "    num_fine_grid = 50\n",
    "    x_fine,y_fine = np.meshgrid(np.linspace(0,1,num_fine_grid+4)[2:-2],np.linspace(0,1,num_fine_grid+4)[2:-2])\n",
    "    xy_fine_int = np.vstack([x_fine.flatten(),y_fine.flatten()]).T\n",
    "\n",
    "    # Estimated P from 1.5 step method\n",
    "    model_grid_features_all = EqnModel.get_stacked_eqn_features(u_sols)    \n",
    "    S_train = model_grid_features_all\n",
    "    P_func = lambda x: P_model.predict_new(x,S_train,P_sol)\n",
    "\n",
    "    # Estimated P from 2 step method\n",
    "    init_P_features = EqnModel.get_stacked_eqn_features(all_u_params_init)\n",
    "    S_train_2 = init_P_features \n",
    "    K = P_model.kernel_function(S_train_2,S_train_2)\n",
    "    P_params_naive = solve(K+1e-5*diagpart(K),EqnModel.stacked_collocation_rhs)\n",
    "    P_func2 = lambda x: P_model.predict_new(x,S_train_2,P_params_naive)\n",
    "\n",
    "    # P[\\phi(w)](fine_grid)\n",
    "    def evaluate_hatP(P_func, w, fine_grid, feature_operators):\n",
    "\n",
    "        # Build S_test\n",
    "        w_features = jnp.array([jax.vmap(operator(w,0))(xy_fine_int) for operator in feature_operators]).T\n",
    "        model_fine_features = jnp.hstack([fine_grid, w_features])\n",
    "        S_test = model_fine_features\n",
    "\n",
    "\n",
    "        #P_preds_model_features = P_model.kernel_function(S_test,S_train)@P_sol \n",
    "        P_preds = P_func(S_test)\n",
    "        return P_preds\n",
    "    \n",
    "    # In distribution\n",
    "\n",
    "    M = 3\n",
    "    kernel_GP = get_gaussianRBF(0.5)\n",
    "    # Sample M training functions from GP(0,K)\n",
    "    w_train_functions = GP_sampler(num_samples = M,\n",
    "                    X = xy_pairs, \n",
    "                    kernel = kernel_GP,\n",
    "                    reg = 1e-12,\n",
    "                    seed = run\n",
    "                    )\n",
    "    vmapped_w_train_functions = tuple([jax.vmap(w) for w in w_train_functions]) # vmap'ed\n",
    "    w_rhs_functions = tuple([jax.vmap(get_rhs_darcy(w)) for w in w_train_functions]) #vmap'ed\n",
    "\n",
    "    # mean \n",
    "    true = [f_w(xy_fine_int) for f_w in w_rhs_functions]\n",
    "    #pred = [evaluate_hatP(w, xy_fine_int, u_sols, P_sol,feature_operators) for w in w_test_functions]\n",
    "    pred1_5 = [\n",
    "        evaluate_hatP(\n",
    "        lambda x:P_model.kernel_function(x,S_train)@P_sol,\n",
    "        w, xy_fine_int,feature_operators) for w in w_train_functions\n",
    "    ]\n",
    "\n",
    "    pred2 = [\n",
    "        evaluate_hatP(\n",
    "        P_func2,\n",
    "        u, xy_fine_int,feature_operators) for u in w_train_functions\n",
    "    ]\n",
    "\n",
    "    i_dis_1_5 = jnp.mean(jnp.array([get_nrmse(t,p) for t,p in zip(true,pred1_5)]))\n",
    "    i_dis_2 = jnp.mean(jnp.array([get_nrmse(t,p) for t,p in zip(true,pred2)]))\n",
    "\n",
    "    return i_dis_1_5, i_dis_2"
   ]
  },
  {
   "cell_type": "code",
   "execution_count": 67,
   "metadata": {},
   "outputs": [],
   "source": [
    "err = {\n",
    "    '1_5_mthd': {\n",
    "        '2_obs': {'i_dis': []},\n",
    "        '4_obs': {'i_dis': []},\n",
    "        '6_obs': {'i_dis': []},\n",
    "        '8_obs': {'i_dis': []},\n",
    "        '10_obs': {'i_dis': []}\n",
    "                  },\n",
    "    '2_mthd':   {\n",
    "        '2_obs': {'i_dis': []},\n",
    "        '4_obs': {'i_dis': []},\n",
    "        '6_obs': {'i_dis': []},\n",
    "        '8_obs': {'i_dis': []},\n",
    "        '10_obs': {'i_dis': []}\n",
    "                }\n",
    "}"
   ]
  },
  {
   "cell_type": "code",
   "execution_count": null,
   "metadata": {},
   "outputs": [],
   "source": [
    "NUM_FUN_LIST = [2,4,6,8]\n",
    "NUM_RUNS = 3\n",
    "OBS_PTS_LIST = [2,4,6,8,10]\n",
    "for obs_pt in OBS_PTS_LIST:\n",
    "    for m in NUM_FUN_LIST:\n",
    "        i_dis_1_5 = []\n",
    "        i_dis_2 = []\n",
    "        for run in range(NUM_RUNS):\n",
    "            # Run\n",
    "            res = run_exp_i_dis_err(m, obs_pt, run)\n",
    "            # Append\n",
    "            i_dis_1_5.append(res[0])\n",
    "            i_dis_2.append(res[1])\n",
    "        # Append each list    \n",
    "        err['1_5_mthd'][f'{obs_pt}_obs']['i_dis'].append(i_dis_1_5)\n",
    "        err['2_mthd'][f'{obs_pt}_obs']['i_dis'].append(i_dis_2)   \n",
    "    # Save after\n",
    "    jnp.save('errors_i_dis/err_rndm_grids_246810_1_5', err)"
   ]
  },
  {
   "cell_type": "code",
   "execution_count": 32,
   "metadata": {},
   "outputs": [],
   "source": [
    "err = jnp.load('errors_i_dis/err_rndm_grids_246810_1_5.npy', allow_pickle=True).item()"
   ]
  },
  {
   "cell_type": "code",
   "execution_count": 33,
   "metadata": {},
   "outputs": [
    {
     "data": {
      "image/png": "[encoded data removed]",
      "text/plain": [
       "<Figure size 640x480 with 1 Axes>"
      ]
     },
     "metadata": {},
     "output_type": "display_data"
    }
   ],
   "source": [
    "# In distribution errors plot\n",
    "NUM_FUN_LIST = [2,4,6,8]\n",
    "NUM_RUNS = 3\n",
    "OBS_PTS_LIST = [2,4,6,8,10]\n",
    "# plt.title('In distribution error: u_new ~ GP(0,RBF(0.5))')\n",
    "ms = NUM_FUN_LIST\n",
    "# Colors\n",
    "c2 = 'black'\n",
    "c1 = 'black'\n",
    "# 2-step method plot\n",
    "for obs_pt in OBS_PTS_LIST:\n",
    "    # 2 method\n",
    "    mean_i_opt_2 = jnp.array([jnp.mean(e) for e in jnp.array(err['2_mthd'][f'{obs_pt}_obs']['i_dis'])])\n",
    "    sd_i_opt_2 = jnp.array([jnp.std(e) for e in jnp.array(err['2_mthd'][f'{obs_pt}_obs']['i_dis'])])\n",
    "    # Plot 2 method\n",
    "    plt.plot(ms, mean_i_opt_2, label = f'{obs_pt} pts', marker= 's',linestyle='dashed',markersize = 4, color = c2)\n",
    "    plt.fill_between(ms, mean_i_opt_2 - sd_i_opt_2, mean_i_opt_2 + sd_i_opt_2, alpha=.1, color = c2)\n",
    "    plt.yscale('log')\n",
    "    plt.minorticks_off()\n",
    "# 1-step method plot\n",
    "for obs_pt in OBS_PTS_LIST:\n",
    "    # 1_5 method\n",
    "    mean_i_opt_1_5 = jnp.array([jnp.mean(e) for e in jnp.array(err['1_5_mthd'][f'{obs_pt}_obs']['i_dis'])])\n",
    "    sd_i_opt_1_5 = jnp.array([jnp.std(e) for e in jnp.array(err['1_5_mthd'][f'{obs_pt}_obs']['i_dis'])])\n",
    "    # Plot 1_5 method\n",
    "    plt.plot(ms, mean_i_opt_1_5, label = f'{obs_pt} pts', marker= 'o',markersize = 4, color = c1)\n",
    "    plt.fill_between(ms, mean_i_opt_1_5 - sd_i_opt_1_5, mean_i_opt_1_5 + sd_i_opt_1_5, alpha=.1, color = c1)\n",
    "    plt.yscale('log')\n",
    "    plt.minorticks_off()\n",
    "\n",
    "plt.ylabel('In-distribution error')\n",
    "plt.xlabel('M')\n",
    "# adding labels to the plotlines\n",
    "xvals_2step = [5]*4 + [7.5]\n",
    "xvals_1step = [6.5]+[7]*4\n",
    "xvals = xvals_2step + xvals_1step\n",
    "lines = plt.gca().get_lines()\n",
    "labelLines(lines, align=True, xvals = xvals)\n",
    "# add legend box\n",
    "legend_elements = [Line2D([0], [0], color= c2, linestyle='dashed', label='2-step'),\n",
    "                   Line2D([0], [0], color= c1, label='1.5-step')]\n",
    "plt.legend(handles = legend_elements, loc = 'upper right')\n",
    "plt.show()"
   ]
  },
  {
   "cell_type": "markdown",
   "metadata": {},
   "source": [
    "## Out of distribution errors"
   ]
  },
  {
   "cell_type": "code",
   "execution_count": 11,
   "metadata": {},
   "outputs": [],
   "source": [
    "def run_exp_o_dis_err(m,obs_pts,run):\n",
    "    \n",
    "    # Sample m training functions from a GP\n",
    "    kernel_GP = get_gaussianRBF(0.5)\n",
    "    xy_pairs = get_xy_grid_pairs(50,0,1,0,1) # Pairs to build interpolants\n",
    "    u_true_functions = tuple(GP_sampler(num_samples = m,\n",
    "                                            X = xy_pairs, \n",
    "                                            kernel = kernel_GP,\n",
    "                                            reg = 1e-12,\n",
    "                                            seed = 2024\n",
    "                                        )\n",
    "                                        )\n",
    "    # Permeability field A\n",
    "    def A(xy):\n",
    "        x = xy[0]\n",
    "        y = xy[1]\n",
    "        return jnp.exp(jnp.sin(jnp.cos(x) + jnp.cos(y)))\n",
    "\n",
    "    # Compute f = Pu for a given u\n",
    "    def get_rhs_darcy(u):\n",
    "        def Agradu(xy):\n",
    "            return A(xy)*jax.grad(u)(xy)\n",
    "        def Pu(xy):\n",
    "            return jnp.trace(jax.jacfwd(Agradu)(xy))\n",
    "        return Pu\n",
    "\n",
    "    # Lists of m true u's and f's\n",
    "    vmapped_u_true_functions = tuple([jax.vmap(u) for u in u_true_functions]) # vmap'ed\n",
    "    rhs_functions = tuple([jax.vmap(get_rhs_darcy(u)) for u in u_true_functions]) #vmap'ed\n",
    "\n",
    "    # Define the num of ghost points for each u\n",
    "    num_grid_points = 10\n",
    "    num_interior_points = 50\n",
    "\n",
    "    # Sample collocation points for f using random points different for every function\n",
    "    xy_ints,xy_bdys = sample_multiple_xy_grids_latin(\n",
    "            num_functions = m,\n",
    "            num_interior = num_interior_points,\n",
    "            x_range = [0,1],\n",
    "            y_range = [0,1],\n",
    "            num_grid_x_bdy = num_grid_points,\n",
    "            num_grid_y_bdy = num_grid_points,\n",
    "            key = pkey(23)\n",
    "        )\n",
    "    \n",
    "    # # Sample collocation points for f using same uniform grid for every function\n",
    "    # xy_ints = tuple(build_xy_grid([0,1],[0,1],7,7)[0] for m in range(m))\n",
    "    # xy_bdys = tuple(build_xy_grid([0,1],[0,1],7,7)[1] for m in range(m))\n",
    "\n",
    "    xy_all = tuple(jnp.vstack([xy_int,xy_bdy]) for xy_int,xy_bdy in zip(xy_ints,xy_bdys))\n",
    "\n",
    "    # List of number of observation points per u\n",
    "    num_obs = [obs_pts]*m\n",
    "\n",
    "    # Get (X^m, u^m(X^m))\n",
    "    xy_obs,u_obs = build_u_obs_all(\n",
    "        num_obs,\n",
    "        xy_ints,\n",
    "        xy_bdys,\n",
    "        vmapped_u_true_functions,\n",
    "        pkey(5)\n",
    "    )\n",
    "\n",
    "    # Build operator features\n",
    "    def diff_x_op(k,index):\n",
    "        return get_selected_grad(k,index,0)\n",
    "\n",
    "    def diff_xx_op(k,index):\n",
    "        return get_selected_grad(get_selected_grad(k,index,0),index,0)\n",
    "\n",
    "    def diff_y_op(k,index):\n",
    "        return get_selected_grad(k,index,1)\n",
    "\n",
    "    def diff_yy_op(k,index):\n",
    "        return get_selected_grad(get_selected_grad(k,index,1),index,1)\n",
    "\n",
    "    def diff_xy_op(k,index):\n",
    "        return get_selected_grad(get_selected_grad(k,index,0),index,1)\n",
    "\n",
    "    feature_operators = tuple([eval_k,diff_x_op,diff_xx_op,diff_y_op,diff_yy_op,diff_xy_op])\n",
    "\n",
    "    # Build interpolants for u's\n",
    "    k_u = get_gaussianRBF(0.5)\n",
    "    u_operators = (eval_k,)\n",
    "    u_models = tuple([CholInducedRKHS(\n",
    "        xy_all[i],\n",
    "        u_operators,\n",
    "        k_u\n",
    "        ) for i in range(m)])\n",
    "    \n",
    "    # Get necessary tuples\n",
    "    observation_points = tuple(xy_obs)\n",
    "    observation_values = tuple(u_obs)\n",
    "    collocation_points = xy_ints\n",
    "\n",
    "    rhs_values = tuple(rhs_func(xy_int) for xy_int,rhs_func in zip(xy_ints,rhs_functions))\n",
    "\n",
    "    all_u_params_init = tuple([\n",
    "        model.get_fitted_params(obs_loc,obs_val)\n",
    "        for obs_loc,obs_val,model in zip(observation_points,observation_values,u_models)])\n",
    "\n",
    "    grid_features_u_init = jnp.vstack([(\n",
    "        model.evaluate_operators(feature_operators,xy_int,model_params)).reshape(\n",
    "                len(xy_int),\n",
    "                len(feature_operators),\n",
    "                order = 'F'\n",
    "            ) for xy_int,model,model_params in zip(xy_ints,u_models,all_u_params_init) ])\n",
    "    \n",
    "    # P kernel\n",
    "    k_P_u_part = get_centered_scaled_poly_kernel(1,grid_features_u_init,c=1)\n",
    "    k_P_x_part = get_gaussianRBF(0.4)\n",
    "    @vectorize_kfunc\n",
    "    def k_P(x,y):\n",
    "        return k_P_x_part(x[:2],y[:2]) * k_P_u_part(x[2:],y[2:])\n",
    "\n",
    "    # P object        \n",
    "    P_model = OperatorModel(k_P)\n",
    "\n",
    "    # P, u, f object\n",
    "    collocation_points = xy_ints\n",
    "    EqnModel  = OperatorPDEModel(\n",
    "        P_model,\n",
    "        u_models,\n",
    "        observation_points,\n",
    "        observation_values,\n",
    "        collocation_points,\n",
    "        feature_operators,\n",
    "        rhs_values,\n",
    "        datafit_weight = 5.,\n",
    "    )\n",
    "\n",
    "    ### Optimize LM\n",
    "    params_init = jnp.hstack(list(all_u_params_init)+[jnp.zeros(m*len(xy_ints[0]))])\n",
    "    params,convergence_data = CholeskyLM(\n",
    "        params_init.copy(),\n",
    "        EqnModel,\n",
    "        beta = 1e-8,\n",
    "        max_iter = 301,\n",
    "        init_alpha=3,\n",
    "        line_search_increase_ratio=1.4,\n",
    "        print_every = 100\n",
    "    )\n",
    "    p_adjusted,_ = SVD_LM(params,EqnModel,1e-3,500)\n",
    "\n",
    "    # Optimized parameters\n",
    "    u_sols = EqnModel.get_u_params(p_adjusted)\n",
    "    P_sol = EqnModel.get_P_params(p_adjusted)\n",
    "\n",
    "    ## Errors\n",
    "\n",
    "    # Testing grid\n",
    "    num_fine_grid = 50\n",
    "    x_fine,y_fine = np.meshgrid(np.linspace(0,1,num_fine_grid+4)[2:-2],np.linspace(0,1,num_fine_grid+4)[2:-2])\n",
    "    xy_fine_int = np.vstack([x_fine.flatten(),y_fine.flatten()]).T\n",
    "\n",
    "    # Estimated P from 1.5 step method\n",
    "    model_grid_features_all = EqnModel.get_stacked_eqn_features(u_sols)    \n",
    "    S_train = model_grid_features_all\n",
    "    P_func = lambda x: P_model.predict_new(x,S_train,P_sol)\n",
    "\n",
    "    # Estimated P from 2 step method\n",
    "    init_P_features = EqnModel.get_stacked_eqn_features(all_u_params_init)\n",
    "    S_train_2 = init_P_features \n",
    "    K = P_model.kernel_function(S_train_2,S_train_2)\n",
    "    P_params_naive = solve(K+1e-5*diagpart(K),EqnModel.stacked_collocation_rhs)\n",
    "    P_func2 = lambda x: P_model.predict_new(x,S_train_2,P_params_naive)\n",
    "\n",
    "    # P[\\phi(w)](fine_grid)\n",
    "    def evaluate_hatP(P_func, w, fine_grid, feature_operators):\n",
    "\n",
    "        # Build S_test\n",
    "        w_features = jnp.array([jax.vmap(operator(w,0))(xy_fine_int) for operator in feature_operators]).T\n",
    "        model_fine_features = jnp.hstack([fine_grid, w_features])\n",
    "        S_test = model_fine_features\n",
    "\n",
    "\n",
    "        #P_preds_model_features = P_model.kernel_function(S_test,S_train)@P_sol \n",
    "        P_preds = P_func(S_test)\n",
    "        return P_preds\n",
    "    \n",
    "    # Out of distribution\n",
    "    M = 3\n",
    "    kernel_GP = get_gaussianRBF(0.2)\n",
    "    # Sample M test functions from GP(0,K)\n",
    "    w_test_functions = GP_sampler(num_samples = M,\n",
    "                    X = xy_pairs, \n",
    "                    kernel = kernel_GP,\n",
    "                    reg = 1e-12,\n",
    "                    seed = run\n",
    "                    )\n",
    "    vmapped_w_test_functions = tuple([jax.vmap(w) for w in w_test_functions]) # vmap'ed\n",
    "    w_rhs_functions = tuple([jax.vmap(get_rhs_darcy(w)) for w in w_test_functions]) #vmap'ed\n",
    "\n",
    "    # mean \n",
    "    true = [f_w(xy_fine_int) for f_w in w_rhs_functions]\n",
    "    #pred = [evaluate_hatP(w, xy_fine_int, u_sols, P_sol,feature_operators) for w in w_test_functions]\n",
    "    pred1_5 = [\n",
    "        evaluate_hatP(\n",
    "        lambda x:P_model.kernel_function(x,S_train)@P_sol,\n",
    "        w, xy_fine_int,feature_operators) for w in w_test_functions\n",
    "    ]\n",
    "\n",
    "    pred2 = [\n",
    "        evaluate_hatP(\n",
    "        P_func2,\n",
    "        u, xy_fine_int,feature_operators) for u in w_test_functions\n",
    "    ]\n",
    "\n",
    "    o_dis_1_5 = jnp.mean(jnp.array([get_nrmse(t,p) for t,p in zip(true,pred1_5)]))\n",
    "    o_dis_2 = jnp.mean(jnp.array([get_nrmse(t,p) for t,p in zip(true,pred2)]))\n",
    "\n",
    "    return o_dis_1_5, o_dis_2"
   ]
  },
  {
   "cell_type": "code",
   "execution_count": 12,
   "metadata": {},
   "outputs": [],
   "source": [
    "err = {\n",
    "    '1_5_mthd': {\n",
    "        '2_obs': {'o_dis': []},\n",
    "        '4_obs': {'o_dis': []},\n",
    "        '6_obs': {'o_dis': []},\n",
    "        '8_obs': {'o_dis': []},\n",
    "        '10_obs': {'o_dis': []}\n",
    "                  },\n",
    "    '2_mthd':   {\n",
    "        '2_obs': {'o_dis': []},\n",
    "        '4_obs': {'o_dis': []},\n",
    "        '6_obs': {'o_dis': []},\n",
    "        '8_obs': {'o_dis': []},\n",
    "        '10_obs': {'o_dis': []}\n",
    "                }\n",
    "}"
   ]
  },
  {
   "cell_type": "code",
   "execution_count": null,
   "metadata": {},
   "outputs": [],
   "source": [
    "NUM_FUN_LIST = [2,4,6,8]\n",
    "NUM_RUNS = 3\n",
    "OBS_PTS_LIST = [2,4,6,8,10]\n",
    "for obs_pt in OBS_PTS_LIST:\n",
    "    for m in NUM_FUN_LIST:\n",
    "        o_dis_1_5 = []\n",
    "        o_dis_2 = []\n",
    "        for run in range(NUM_RUNS):\n",
    "            # Run\n",
    "            res = run_exp_o_dis_err(m, obs_pt, run)\n",
    "            # Append\n",
    "            o_dis_1_5.append(res[0])\n",
    "            o_dis_2.append(res[1])\n",
    "        # Append each list    \n",
    "        err['1_5_mthd'][f'{obs_pt}_obs']['o_dis'].append(o_dis_1_5)\n",
    "        err['2_mthd'][f'{obs_pt}_obs']['o_dis'].append(o_dis_2)   \n",
    "    # Save after\n",
    "    jnp.save('errors_o_dis/err_rndm_grids_246810_1_5', err)"
   ]
  },
  {
   "cell_type": "code",
   "execution_count": 35,
   "metadata": {},
   "outputs": [],
   "source": [
    "err = jnp.load('errors_o_dis/err_rndm_grids_246810_1_5.npy', allow_pickle=True).item()"
   ]
  },
  {
   "cell_type": "code",
   "execution_count": 37,
   "metadata": {},
   "outputs": [
    {
     "data": {
      "image/png": "[encoded data removed]",
      "text/plain": [
       "<Figure size 640x480 with 1 Axes>"
      ]
     },
     "metadata": {},
     "output_type": "display_data"
    }
   ],
   "source": [
    "# Out of distribution errors plot\n",
    "NUM_FUN_LIST = [2,4,6,8]\n",
    "NUM_RUNS = 3\n",
    "OBS_PTS_LIST = [2,4,6,8,10]\n",
    "# plt.title('Out of distribution error: u_new ~ GP(0,RBF(0.2))')\n",
    "ms = NUM_FUN_LIST\n",
    "# Colors\n",
    "c2 = 'black'\n",
    "c1 = 'black'\n",
    "# 2-step method plot\n",
    "for obs_pt in OBS_PTS_LIST:\n",
    "    # 2 method\n",
    "    mean_i_opt_2 = jnp.array([jnp.mean(e) for e in jnp.array(err['2_mthd'][f'{obs_pt}_obs']['o_dis'])])\n",
    "    sd_i_opt_2 = jnp.array([jnp.std(e) for e in jnp.array(err['2_mthd'][f'{obs_pt}_obs']['o_dis'])])\n",
    "    # Plot 2 method\n",
    "    plt.plot(ms, mean_i_opt_2, label = f'{obs_pt} pts', marker= 's', linestyle = 'dashed',markersize = 4,color = c2)\n",
    "    plt.fill_between(ms, mean_i_opt_2 - sd_i_opt_2, mean_i_opt_2 + sd_i_opt_2, alpha=.1, color = c2)\n",
    "    plt.yscale('log')\n",
    "    plt.minorticks_off()\n",
    "# 1-step method plot\n",
    "for obs_pt in OBS_PTS_LIST:\n",
    "    # 1_5 method\n",
    "    mean_i_opt_1_5 = jnp.array([jnp.mean(e) for e in jnp.array(err['1_5_mthd'][f'{obs_pt}_obs']['o_dis'])])\n",
    "    sd_i_opt_1_5 = jnp.array([jnp.std(e) for e in jnp.array(err['1_5_mthd'][f'{obs_pt}_obs']['o_dis'])])\n",
    "    # Plot 1_5 method\n",
    "    plt.plot(ms, mean_i_opt_1_5, label = f'{obs_pt} pts', marker= 'o',markersize = 4, color = c1)\n",
    "    plt.fill_between(ms, mean_i_opt_1_5 - sd_i_opt_1_5, mean_i_opt_1_5 + sd_i_opt_1_5, alpha=.1, color = c1)\n",
    "    plt.yscale('log')\n",
    "    plt.minorticks_off()\n",
    "\n",
    "plt.ylabel('Out-of-distribution error')\n",
    "plt.xlabel('M')\n",
    "# adding labels to the plotlines\n",
    "xvals_2step = [5]*4 + [7.5]\n",
    "xvals_1step = [6.5]+[7]*4\n",
    "xvals = xvals_2step + xvals_1step\n",
    "lines = plt.gca().get_lines()\n",
    "labelLines(lines, align=True, xvals = xvals)\n",
    "# add legend box\n",
    "legend_elements = [Line2D([0], [0], color= c2, linestyle='dashed',label='2-step'),\n",
    "                   Line2D([0], [0], color= c1, label='1.5-step')]\n",
    "plt.legend(handles = legend_elements, loc = 'upper right')\n",
    "plt.show()"
   ]
  }
 ],
 "metadata": {
  "kernelspec": {
   "display_name": "kernel_eq",
   "language": "python",
   "name": "python3"
  },
  "language_info": {
   "codemirror_mode": {
    "name": "ipython",
    "version": 3
   },
   "file_extension": ".py",
   "mimetype": "text/x-python",
   "name": "python",
   "nbconvert_exporter": "python",
   "pygments_lexer": "ipython3",
   "version": "3.12.8"
  }
 },
 "nbformat": 4,
 "nbformat_minor": 2
}
