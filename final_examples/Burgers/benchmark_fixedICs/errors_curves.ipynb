{
 "cells": [
  {
   "cell_type": "code",
   "execution_count": 1,
   "metadata": {},
   "outputs": [
    {
     "name": "stderr",
     "output_type": "stream",
     "text": [
      "/home/juanfelipe/anaconda3/envs/myenv/lib/python3.12/site-packages/tqdm/auto.py:21: TqdmWarning: IProgress not found. Please update jupyter and ipywidgets. See https://ipywidgets.readthedocs.io/en/stable/user_install.html\n",
      "  from .autonotebook import tqdm as notebook_tqdm\n"
     ]
    }
   ],
   "source": [
    "import jax.numpy as jnp\n",
    "import numpy as np\n",
    "import jax\n",
    "jax.config.update(\"jax_enable_x64\", True)\n",
    "jax.config.update(\"jax_default_device\", jax.devices()[1])\n",
    "\n",
    "import numpy as np\n",
    "import matplotlib.pyplot as plt\n",
    "import jax\n",
    "from tqdm.auto import tqdm\n",
    "\n",
    "from importlib import reload\n",
    "import KernelTools\n",
    "reload(KernelTools)\n",
    "from KernelTools import *\n",
    "from EquationModel import OperatorModel,OperatorPDEModel\n",
    "from evaluation_metrics import compute_results    \n",
    "from data_utils import MinMaxScaler\n",
    "from evaluation_metrics import get_nrmse\n",
    "\n",
    "from Kernels import log1pexp,inv_log1pexp, get_gaussianRBF\n",
    "from Kernels import (\n",
    "    get_centered_scaled_poly_kernel,\n",
    "    get_anisotropic_gaussianRBF,\n",
    "    fit_kernel_params\n",
    ")\n",
    "from EquationModel import CholInducedRKHS, OperatorPDEModel\n",
    "from functools import partial\n",
    "\n",
    "from Optimizers.full_jacobian import CholeskyLM, SVD_LM\n",
    "from Optimizers.solvers_base import *\n",
    "\n",
    "# import Optimizers\n",
    "# import importlib\n",
    "# importlib.reload(Optimizers)\n",
    "# from Optimizers import CholeskyLM,SVD_LM,SketchedLM\n",
    "\n",
    "import time\n",
    "from jax.scipy.sparse.linalg import cg\n",
    "from jax.scipy.linalg import solve,cho_factor,cho_solve\n",
    "\n",
    "# import tensorflow as tf\n",
    "import numpy as np\n",
    "import matplotlib.pyplot as plt\n",
    "import scipy.io\n",
    "from scipy.interpolate import griddata\n",
    "from scipy.spatial import distance\n",
    "from matplotlib import cm\n",
    "import time\n",
    "from mpl_toolkits.mplot3d import Axes3D\n",
    "# from pyDOE import lhs\n",
    "# #    import sobol_seq\n",
    "import os\n",
    "from parabolic_data_utils import (\n",
    "    build_burgers_data,build_tx_grid,\n",
    "    build_tx_grid_chebyshev,setup_problem_data,\n",
    "    GP_Sampler_1D_Pinned\n",
    ")\n",
    "from plotting import plot_input_data,plot_compare_error\n",
    "from evaluation_metrics import compute_results\n",
    "from matplotlib import ticker\n",
    "\n",
    "plt.style.use(\"default\")\n",
    "plt.rcParams.update({\n",
    "    \"text.usetex\": True,\n",
    "    \"font.family\": \"Helvetica\",\n",
    "    'font.size': 20\n",
    "})"
   ]
  },
  {
   "cell_type": "code",
   "execution_count": 2,
   "metadata": {},
   "outputs": [],
   "source": [
    "def get_burgers_data(gamma,n_obs, n_coll_t, n_coll_x,run):\n",
    "    kernel_GP = get_gaussianRBF(0.2)\n",
    "    xy_pts = jnp.linspace(0,1,50) # Pts to build interpolants\n",
    "    u0_true_function = GP_Sampler_1D_Pinned(num_samples = 1,\n",
    "                                            X = xy_pts, \n",
    "                                            smooth = gamma,\n",
    "                                            kernel = kernel_GP,\n",
    "                                            reg = 1e-8,\n",
    "                                            seed = 2\n",
    "                                        )\n",
    "    vec_u0_true_function = np.vectorize(u0_true_function[0])\n",
    "                            \n",
    "    # Solve Burgers' equations with IC u_0_true_function\n",
    "    kappa = 0.01\n",
    "    alpha = 1.\n",
    "    u_true_function,ut_true_function, interp,_,_ = (\n",
    "    build_burgers_data(func_u0=vec_u0_true_function,kappa = kappa,alpha = alpha,k_timestep=0.0001,n_finite_diff=1999)\n",
    "                        )\n",
    "    # # Plot\n",
    "    # num_fine = 500\n",
    "    # plt.title(\"True initial and final\")\n",
    "    # grid_points = jnp.linspace(0,1,num_fine)\n",
    "    # plt.plot(grid_points,u_true_function(jnp.vstack([0.0*jnp.ones(num_fine),grid_points]).T),label = 't=0')\n",
    "    # plt.plot(grid_points,u_true_function(jnp.vstack([1.*jnp.ones(num_fine),grid_points]).T),label = 't=1')\n",
    "    # plt.legend()\n",
    "    # plt.show()\n",
    "\n",
    "    # Collocation point set size\n",
    "    num_grid_x = n_coll_x\n",
    "    num_grid_t = n_coll_t\n",
    "    tx_int,tx_bdy = build_tx_grid_chebyshev([0,1],[0,1],num_grid_t,num_grid_x,alpha = 0.5)\n",
    "\n",
    "    # Collocation point set\n",
    "\n",
    "    # Get (X^m, u^m(X^m))\n",
    "    num_obs = n_obs\n",
    "    tx_all,tx_obs = setup_problem_data(\n",
    "        tx_int,\n",
    "        tx_bdy,\n",
    "        num_obs,\n",
    "        jax.random.PRNGKey(run),\n",
    "        times_to_observe = (0,)\n",
    "    )\n",
    "\n",
    "    u_obs = u_true_function(tx_obs)\n",
    "    t_fine,x_fine = jnp.meshgrid(jnp.linspace(0,1,300),jnp.linspace(0,1,300))\n",
    "    tx_fine = jnp.vstack([t_fine.flatten(),x_fine.flatten()]).T\n",
    "    # plot_input_data(\n",
    "    #     tx_obs,\n",
    "    #     tx_all,\n",
    "    #     u_true_function,\n",
    "    #     tx_fine,\n",
    "    #             )\n",
    "\n",
    "    return tx_obs, u_obs, tx_all, tx_int, tx_fine, u_true_function, ut_true_function, interp"
   ]
  },
  {
   "cell_type": "markdown",
   "metadata": {},
   "source": [
    "## In-sample errors"
   ]
  },
  {
   "cell_type": "markdown",
   "metadata": {},
   "source": [
    "### 1.5 step method"
   ]
  },
  {
   "cell_type": "code",
   "execution_count": 7,
   "metadata": {},
   "outputs": [],
   "source": [
    "def get_1_5_error(n_obs,run):\n",
    "    tx_obs, u_obs, tx_all, tx_int, tx_fine, u_true_function, ut_true_function, interp = get_burgers_data(gamma=2,n_obs=n_obs,n_coll_t=26, n_coll_x=31, run=run)\n",
    "    # Run 1_5 step method\n",
    "    # u_operators = (eval_k,)\n",
    "    u_operators = (eval_k,dx_k,dt_k)\n",
    "    feature_operators = (eval_k,dx_k,dxx_k)\n",
    "\n",
    "    # Choose u kernel\n",
    "    def param_ani_gaussian_RBF(x,y,params):\n",
    "        lengthscales = log1pexp(params)\n",
    "        return get_anisotropic_gaussianRBF(1.,jnp.diag(lengthscales))(x,y)\n",
    "\n",
    "    fitted_params,ml_value = fit_kernel_params(param_ani_gaussian_RBF,tx_obs,u_obs,jnp.zeros(2))\n",
    "    ML_lengthscales = log1pexp(fitted_params)\n",
    "    print(1/(jnp.sqrt(ML_lengthscales)))\n",
    "    k_u = get_anisotropic_gaussianRBF(0.75,jnp.diag(log1pexp(fitted_params)))\n",
    "\n",
    "    # RKHS class for u\n",
    "    u_model = CholInducedRKHS(\n",
    "        tx_all,\n",
    "        u_operators,\n",
    "        k_u,\n",
    "        nugget_size = 1e-8\n",
    "        )\n",
    "    u_params_init = u_model.get_fitted_params(tx_obs,u_obs)\n",
    "\n",
    "    grid_features_init = (\n",
    "        (u_model.evaluate_operators(feature_operators,tx_int,u_params_init))\n",
    "        .reshape(\n",
    "                len(tx_int),\n",
    "                len(feature_operators),\n",
    "                order = 'F'\n",
    "            )\n",
    "    )\n",
    "\n",
    "    # Choose kernel for P\n",
    "    k_P_u_part = get_centered_scaled_poly_kernel(2,grid_features_init,c=1.,scaling = 'diagonal')\n",
    "    @vectorize_kfunc\n",
    "    def k_P(x,y):\n",
    "        return k_P_u_part(x[2:],y[2:])\n",
    "    P_model = OperatorModel(k_P)\n",
    "\n",
    "    # Equation model that has u and P object\n",
    "    EqnModel = OperatorPDEModel(\n",
    "        P_model,\n",
    "        (u_model,),\n",
    "        (tx_obs,),\n",
    "        (u_obs,),\n",
    "        (tx_int,),\n",
    "        feature_operators,\n",
    "        rhs_operator=dt_k,\n",
    "        datafit_weight = 100\n",
    "    )\n",
    "    params_init = jnp.hstack([u_params_init,jnp.zeros(len(grid_features_init))])\n",
    "    optparams = LMParams(max_iter = 201)\n",
    "\n",
    "    params,convergence_data = CholeskyLM(\n",
    "        params_init.copy(),\n",
    "        EqnModel,\n",
    "        beta = 1e-11,\n",
    "        optParams = optparams\n",
    "    )\n",
    "\n",
    "    p_adjusted,refine_convergence_data = SVD_LM(\n",
    "        params,\n",
    "        EqnModel,\n",
    "        beta = 1e-11,\n",
    "        optParams = optparams\n",
    "    )\n",
    "\n",
    "    u_sol = p_adjusted[:u_model.num_params]\n",
    "    P_sol = p_adjusted[u_model.num_params:]\n",
    "\n",
    "    # u_true \n",
    "    u_true = u_true_function(tx_fine)\n",
    "    # get error\n",
    "    error_u = get_nrmse(u_true, u_model.point_evaluate(tx_fine,u_sol))\n",
    "    \n",
    "    num_fine_grid = 100\n",
    "    t_fine,x_fine = np.meshgrid(np.linspace(0,1,num_fine_grid+4)[2:-2],np.linspace(0,1,num_fine_grid+4)[2:-2])\n",
    "    tx_fine_int = np.vstack([t_fine.flatten(),x_fine.flatten()]).T\n",
    "\n",
    "    # Estimated P from 1.5 step method\n",
    "    # input_features = EqnModel.get_stacked_eqn_features((u_sol,)) # before\n",
    "    input_features = EqnModel.single_eqn_features(u_model,u_sol,tx_int) # now\n",
    "    Phat = lambda x: P_model.predict_new(x,input_features,P_sol)\n",
    "\n",
    "    # In-sample\n",
    "    \n",
    "    # P[\\phi(w)](fine_grid)\n",
    "    def evaluate_Phat(Phat, interp, fine_grid):\n",
    "\n",
    "        # Build S_test\n",
    "        def u_true_function(x):\n",
    "            return interp(x[:,0],x[:,1],grid = False)\n",
    "        def ux_true_function(x):\n",
    "            ux_interp = interp.partial_derivative(0,1)\n",
    "            return ux_interp(x[:,0],x[:,1],grid = False)\n",
    "        def uxx_true_function(x):\n",
    "            uxx_interp = interp.partial_derivative(0,2)\n",
    "            return uxx_interp(x[:,0],x[:,1],grid = False)\n",
    "        \n",
    "        # By hand since the truth is taken as interp from scipy and not an induced RKHS class where we can apply usual feature operators\n",
    "        feat_funcs = [u_true_function, ux_true_function, uxx_true_function]\n",
    "        w_features = jnp.array([feat_func(fine_grid) for feat_func in feat_funcs]).T\n",
    "        fine_features = jnp.hstack([fine_grid, w_features])\n",
    "        S_test = fine_features\n",
    "        \n",
    "        P_preds = Phat(S_test)\n",
    "        return P_preds\n",
    "\n",
    "    Phat_u = evaluate_Phat(Phat, interp, tx_fine_int)\n",
    "    u_t = ut_true_function(tx_fine_int)\n",
    "\n",
    "    error_Phat = get_nrmse(u_t, Phat_u)\n",
    "\n",
    "    return error_u, error_Phat"
   ]
  },
  {
   "cell_type": "code",
   "execution_count": 14,
   "metadata": {},
   "outputs": [],
   "source": [
    "e_ismpl_1_5 = {'u': [], 'Phat':[]}"
   ]
  },
  {
   "cell_type": "code",
   "execution_count": null,
   "metadata": {},
   "outputs": [],
   "source": [
    "N_OBS = [10,30,50,100,200,300,400,500,600]\n",
    "for n_obs in N_OBS:\n",
    "    u_errs = []\n",
    "    P_errs = []\n",
    "    for run in range(10):\n",
    "        res = get_1_5_error(n_obs,run)\n",
    "        u_errs.append(res[0])\n",
    "        P_errs.append(res[1])\n",
    "    e_ismpl_1_5['u'].append(u_errs)\n",
    "    e_ismpl_1_5['Phat'].append(P_errs)\n",
    "    # Save after\n",
    "    jnp.save('i_smpl_errors/e_ismpl_1_5', e_ismpl_1_5)"
   ]
  },
  {
   "cell_type": "markdown",
   "metadata": {},
   "source": [
    "Load data from here"
   ]
  },
  {
   "cell_type": "code",
   "execution_count": 16,
   "metadata": {},
   "outputs": [],
   "source": [
    "errors_1_5 = jnp.load('i_smpl_errors/e_ismpl_1_5.npy', allow_pickle=True).item()"
   ]
  },
  {
   "cell_type": "code",
   "execution_count": 17,
   "metadata": {},
   "outputs": [],
   "source": [
    "u_s = jnp.array([jnp.mean(jnp.array(el)) for el in errors_1_5['u']])\n",
    "u_stds = jnp.array([jnp.std(jnp.array(el)) for el in errors_1_5['u']])\n",
    "P_s = jnp.array([jnp.mean(jnp.array(el)) for el in errors_1_5['Phat']])\n",
    "P_stds = jnp.array([jnp.std(jnp.array(el)) for el in errors_1_5['Phat']])"
   ]
  },
  {
   "cell_type": "code",
   "execution_count": 22,
   "metadata": {},
   "outputs": [
    {
     "data": {
      "image/png": "[encoded data removed]",
      "text/plain": [
       "<Figure size 640x480 with 1 Axes>"
      ]
     },
     "metadata": {},
     "output_type": "display_data"
    }
   ],
   "source": [
    "# u errors\n",
    "N_OBS = [10,30,50,100,200,300,400,500,600]\n",
    "plt.title(r'$\\|\\hat{u}^1 - u^1\\|/\\|u^1\\|$')\n",
    "plt.plot(N_OBS,u_s, color = 'black')\n",
    "plt.fill_between(N_OBS, u_s - u_stds, u_s + u_stds, alpha=.1, color = 'black')\n",
    "plt.yscale('log')\n",
    "plt.show()"
   ]
  },
  {
   "cell_type": "code",
   "execution_count": 23,
   "metadata": {},
   "outputs": [
    {
     "data": {
      "image/png": "[encoded data removed]",
      "text/plain": [
       "<Figure size 640x480 with 1 Axes>"
      ]
     },
     "metadata": {},
     "output_type": "display_data"
    }
   ],
   "source": [
    "# P errors\n",
    "N_OBS = [10,30,50,100,200,300,400,500,600]\n",
    "plt.title(r'$\\|\\hat{P}(u^1) - P(u^1)\\|/\\|P(u^1)\\|$')\n",
    "plt.plot(N_OBS,P_s,color = 'black')\n",
    "plt.fill_between(N_OBS, P_s - P_stds, P_s + P_stds, alpha=.1, color = 'black')\n",
    "plt.yscale('log')\n",
    "plt.show()"
   ]
  },
  {
   "cell_type": "markdown",
   "metadata": {},
   "source": [
    "### SINDy"
   ]
  },
  {
   "cell_type": "code",
   "execution_count": 10,
   "metadata": {},
   "outputs": [],
   "source": [
    "def sparsifyDynamics(Theta,dXdt,lamb,n):\n",
    "    # Initial guess: Least-squares\n",
    "    Xi = np.linalg.lstsq(Theta,dXdt,rcond=None)[0]\n",
    "\n",
    "    for k in range(10):\n",
    "        smallinds = np.abs(Xi) < lamb # Find small coeffs.\n",
    "        Xi[smallinds]=0 # and threshold\n",
    "        for ind in range(n): # n is state dimension\n",
    "            biginds = smallinds[:,ind] == 0\n",
    "            # Regress onto remaining terms to find sparse Xi\n",
    "            Xi[biginds,ind] = np.linalg.lstsq(Theta[:,\n",
    "                biginds],dXdt[:,ind],rcond=None)[0]\n",
    "        return Xi"
   ]
  },
  {
   "cell_type": "code",
   "execution_count": 11,
   "metadata": {},
   "outputs": [],
   "source": [
    "def get_SINDy_error(n_obs,run):\n",
    "    tx_obs, u_obs, tx_all, tx_int, tx_fine, u_true_function, ut_true_function, interp = get_burgers_data(gamma=2,n_obs=n_obs,n_coll_t=26, n_coll_x=31, run=run)\n",
    "    # Run SINDy\n",
    "    # u_operators = (eval_k,)\n",
    "    u_operators = (eval_k,)\n",
    "    feature_operators = (eval_k,dt_k,dx_k,dxx_k)\n",
    "    \n",
    "    # Choose u kernel\n",
    "    def param_ani_gaussian_RBF(x,y,params):\n",
    "        lengthscales = log1pexp(params)\n",
    "        return get_anisotropic_gaussianRBF(1.,jnp.diag(lengthscales))(x,y)\n",
    "\n",
    "    fitted_params,ml_value = fit_kernel_params(param_ani_gaussian_RBF,tx_obs,u_obs,jnp.zeros(2))\n",
    "    ML_lengthscales = log1pexp(fitted_params)\n",
    "    print(1/(jnp.sqrt(ML_lengthscales)))\n",
    "    k_u = get_anisotropic_gaussianRBF(0.75,jnp.diag(log1pexp(fitted_params)))\n",
    "\n",
    "    # RKHS class for u\n",
    "    u_model = CholInducedRKHS(\n",
    "        tx_all,\n",
    "        u_operators,\n",
    "        k_u,\n",
    "        nugget_size = 1e-8\n",
    "        )\n",
    "    u_params = u_model.get_fitted_params(tx_obs,u_obs)\n",
    "\n",
    "    # Get necessary tuples\n",
    "    u_sol = u_model.get_fitted_params(tx_obs,u_obs)\n",
    "\n",
    "    S = (u_model.evaluate_operators(feature_operators,tx_int,u_params).reshape(\n",
    "                len(tx_int), \n",
    "                len(feature_operators),\n",
    "                order = 'F'\n",
    "                    ))\n",
    "    \n",
    "    CONST = jnp.ones(len(S[:,0]))\n",
    "    U = S[:,0]\n",
    "    U_t = S[:,1]\n",
    "    U_x = S[:,2]\n",
    "    U_xx = S[:,3]\n",
    "    UU = jnp.multiply(S[:,0],S[:,0])\n",
    "    UU_x = jnp.multiply(S[:,0],S[:,2])\n",
    "    UU_xx = jnp.multiply(S[:,0],S[:,3])\n",
    "    U_xU_x = jnp.multiply(S[:,2],S[:,2])\n",
    "    U_xU_xx = jnp.multiply(S[:,2],S[:,3])\n",
    "    U_xxU_xx = jnp.multiply(S[:,3],S[:,3])\n",
    "    \n",
    "    \n",
    "\n",
    "    Theta = jnp.vstack([CONST,U,U_x,U_xx,\n",
    "                        UU,UU_x,UU_xx,U_xU_x,\n",
    "                        U_xU_xx,U_xxU_xx]).T\n",
    "\n",
    "\n",
    "    res_SINDy = sparsifyDynamics(Theta,U_t.reshape(-1,1),lamb = 1e-8, n = 1)\n",
    "\n",
    "    # u_true \n",
    "    u_true = u_true_function(tx_fine)\n",
    "    # get error\n",
    "    error_u = get_nrmse(u_true, u_model.point_evaluate(tx_fine,u_sol))\n",
    "    \n",
    "    num_fine_grid = 100\n",
    "    t_fine,x_fine = np.meshgrid(np.linspace(0,1,num_fine_grid+4)[2:-2],np.linspace(0,1,num_fine_grid+4)[2:-2])\n",
    "    tx_fine_int = np.vstack([t_fine.flatten(),x_fine.flatten()]).T\n",
    "\n",
    "    \n",
    "    def Phat(s,coeffs):\n",
    "        return jnp.dot(s,coeffs)\n",
    "\n",
    "    # In-sample\n",
    "        \n",
    "    # P[\\phi(w)](fine_grid)\n",
    "    def evaluate_Phat(Phat, interp, fine_grid):\n",
    "\n",
    "        # Build S_test\n",
    "        def one_func(x):\n",
    "            return jnp.ones(len(x))\n",
    "        def u_true_function(x):\n",
    "            return interp(x[:,0],x[:,1],grid = False)\n",
    "        def ux_true_function(x):\n",
    "            ux_interp = interp.partial_derivative(0,1)\n",
    "            return ux_interp(x[:,0],x[:,1],grid = False)\n",
    "        def uxx_true_function(x):\n",
    "            uxx_interp = interp.partial_derivative(0,2)\n",
    "            return uxx_interp(x[:,0],x[:,1],grid = False)\n",
    "        def uu_true_function(x):\n",
    "            return u_true_function(x)**2\n",
    "        def uux_true_function(x):\n",
    "            return u_true_function(x)*ux_true_function(x)\n",
    "        def uuxx_true_function(x):\n",
    "            return u_true_function(x)*uxx_true_function(x)\n",
    "        def uxux_true_function(x):\n",
    "            return ux_true_function(x)*ux_true_function(x)\n",
    "        def uxuxx_true_function(x):\n",
    "            return ux_true_function(x)*uxx_true_function(x)\n",
    "        def uxxuxx_true_function(x):\n",
    "            return uxx_true_function(x)*uxx_true_function(x)\n",
    "    \n",
    "        \n",
    "        # By hand since the truth is taken as interp from scipy and not an induced RKHS class where we can apply usual feature operators\n",
    "        feat_funcs = [one_func,u_true_function, ux_true_function, uxx_true_function,\n",
    "                      uu_true_function,uux_true_function,uuxx_true_function,\n",
    "                      uxux_true_function,uxuxx_true_function,uxxuxx_true_function]\n",
    "        fine_features = jnp.array([feat_func(fine_grid) for feat_func in feat_funcs]).T\n",
    "        S_test = fine_features\n",
    "        \n",
    "        P_preds = Phat(S_test,res_SINDy)\n",
    "        return P_preds\n",
    "\n",
    "    Phat_u = evaluate_Phat(Phat, interp, tx_fine_int)\n",
    "    u_t = ut_true_function(tx_fine_int)\n",
    "\n",
    "    error_Phat = get_nrmse(u_t, Phat_u.flatten())\n",
    "\n",
    "    return error_u, error_Phat"
   ]
  },
  {
   "cell_type": "code",
   "execution_count": 26,
   "metadata": {},
   "outputs": [],
   "source": [
    "e_ismpl_SINDy = {'u': [], 'Phat':[]}"
   ]
  },
  {
   "cell_type": "code",
   "execution_count": null,
   "metadata": {},
   "outputs": [],
   "source": [
    "N_OBS = [10,30,50,100,200,300,400,500,600]\n",
    "for n_obs in N_OBS:\n",
    "    u_errs = []\n",
    "    P_errs = []\n",
    "    for run in range(10):\n",
    "        res = get_SINDy_error(n_obs,run)\n",
    "        u_errs.append(res[0])\n",
    "        P_errs.append(res[1])\n",
    "    e_ismpl_SINDy['u'].append(u_errs)\n",
    "    e_ismpl_SINDy['Phat'].append(P_errs)\n",
    "    # Save after\n",
    "    jnp.save('i_smpl_errors/e_ismpl_SINDy', e_ismpl_SINDy)"
   ]
  },
  {
   "cell_type": "markdown",
   "metadata": {},
   "source": [
    "Load from here"
   ]
  },
  {
   "cell_type": "code",
   "execution_count": 28,
   "metadata": {},
   "outputs": [],
   "source": [
    "errors_SINDy = jnp.load('i_smpl_errors/e_ismpl_SINDy.npy', allow_pickle=True).item()"
   ]
  },
  {
   "cell_type": "code",
   "execution_count": 29,
   "metadata": {},
   "outputs": [],
   "source": [
    "u_s = jnp.array([jnp.mean(jnp.array(el)) for el in errors_SINDy['u']])\n",
    "u_stds = jnp.array([jnp.std(jnp.array(el)) for el in errors_SINDy['u']])\n",
    "P_s = jnp.array([jnp.mean(jnp.array(el)) for el in errors_SINDy['Phat']])\n",
    "P_stds = jnp.array([jnp.std(jnp.array(el)) for el in errors_SINDy['Phat']])"
   ]
  },
  {
   "cell_type": "code",
   "execution_count": 30,
   "metadata": {},
   "outputs": [
    {
     "data": {
      "image/png": "[encoded data removed]",
      "text/plain": [
       "<Figure size 640x480 with 1 Axes>"
      ]
     },
     "metadata": {},
     "output_type": "display_data"
    }
   ],
   "source": [
    "# u errors\n",
    "N_OBS = [10,30,50,100,200,300,400,500,600]\n",
    "plt.title(r'$\\|\\hat{u}^1 - u^1\\|/\\|u^1\\|$')\n",
    "plt.plot(N_OBS,u_s, color = 'black')\n",
    "plt.fill_between(N_OBS, u_s - u_stds, u_s + u_stds, alpha=.1, color = 'black')\n",
    "plt.show()"
   ]
  },
  {
   "cell_type": "code",
   "execution_count": 31,
   "metadata": {},
   "outputs": [
    {
     "data": {
      "image/png": "[encoded data removed]",
      "text/plain": [
       "<Figure size 640x480 with 1 Axes>"
      ]
     },
     "metadata": {},
     "output_type": "display_data"
    }
   ],
   "source": [
    "# P errors\n",
    "N_OBS = [10,30,50,100,200,300,400,500,600]\n",
    "plt.title(r'$\\|\\hat{P}(u^1) - P(u^1)\\|/\\|P(u^1)\\|$')\n",
    "plt.plot(N_OBS,P_s,color = 'black')\n",
    "plt.fill_between(N_OBS, P_s - P_stds, P_s + P_stds, alpha=.1, color = 'black')\n",
    "# plt.yscale('log')\n",
    "plt.show()"
   ]
  },
  {
   "cell_type": "markdown",
   "metadata": {},
   "source": [
    "### PINNSR"
   ]
  },
  {
   "cell_type": "code",
   "execution_count": 15,
   "metadata": {},
   "outputs": [],
   "source": [
    "def get_data_for_pinns(gamma,n_obs, n_coll_t, n_coll_x,run):\n",
    "    kernel_GP = get_gaussianRBF(0.2)\n",
    "    xy_pts = jnp.linspace(0,1,50) # Pts to build interpolants\n",
    "    u0_true_function = GP_Sampler_1D_Pinned(num_samples = 1,\n",
    "                                            X = xy_pts, \n",
    "                                            smooth = gamma,\n",
    "                                            kernel = kernel_GP,\n",
    "                                            reg = 1e-8,\n",
    "                                            #seed = run\n",
    "                                            seed = 2\n",
    "                                        )\n",
    "    vec_u0_true_function = np.vectorize(u0_true_function[0])\n",
    "    \n",
    "    # Solve Burgers' equations with IC u_0_true_function\n",
    "    kappa = 0.01\n",
    "    alpha = 1.\n",
    "    u_true_function,ut_true_function, interp,_,_ = (\n",
    "    build_burgers_data(func_u0=vec_u0_true_function,kappa = kappa,alpha = alpha, k_timestep=0.0001,n_finite_diff=1999)\n",
    "                        )\n",
    "    \n",
    "    # # Plot\n",
    "    # num_fine = 500\n",
    "    # plt.title(\"True initial and final\")\n",
    "    # grid_points = jnp.linspace(0,1,num_fine)\n",
    "    # plt.plot(grid_points,u_true_function(jnp.vstack([0.0*jnp.ones(num_fine),grid_points]).T),label = 't=0')\n",
    "    # plt.plot(grid_points,u_true_function(jnp.vstack([1.*jnp.ones(num_fine),grid_points]).T),label = 't=1')\n",
    "    # plt.legend()\n",
    "    # plt.show()\n",
    "\n",
    "    # Collocation point set\n",
    "    num_grid_x = n_coll_x\n",
    "    num_grid_t = n_coll_t\n",
    "    tx_int,tx_bdy = build_tx_grid_chebyshev([0,1],[0,1],num_grid_t,num_grid_x,alpha = 0.5)\n",
    "\n",
    "    # Get (X^m, u^m(X^m))\n",
    "    num_obs = n_obs\n",
    "    tx_all,tx_obs = setup_problem_data(\n",
    "        tx_int,\n",
    "        tx_bdy,\n",
    "        num_obs,\n",
    "        jax.random.PRNGKey(run),\n",
    "        times_to_observe = (0,)\n",
    "    )\n",
    "\n",
    "    u_obs = u_true_function(tx_obs)\n",
    "    t_fine,x_fine = jnp.meshgrid(jnp.linspace(0,1,300),jnp.linspace(0,1,300))\n",
    "    tx_fine = jnp.vstack([t_fine.flatten(),x_fine.flatten()]).T\n",
    "    \n",
    "    # Invert them to be ready for PINNSR \n",
    "    tx_train = tx_obs\n",
    "    u_train = u_true_function(tx_train)\n",
    "    tx_val = jax.random.choice(key = jax.random.PRNGKey(0), a = tx_fine, shape = (int(jnp.ceil(tx_train.shape[0]*(1-0.8)/0.8)),), replace=False)\n",
    "    # plt.scatter(*tx_val.T,c = 'green')\n",
    "    u_val = u_true_function(tx_val)\n",
    "    lb = tx_fine.min(0)\n",
    "    ub = tx_fine.max(0)\n",
    "    \n",
    "    # plot_input_data(\n",
    "    #     tx_train, \n",
    "    #     tx_all,\n",
    "    #     u_true_function,\n",
    "    #     tx_fine,\n",
    "    #             )\n",
    "    \n",
    "    # def plot_input_data(\n",
    "    #     obs_points,\n",
    "    #     all_points,\n",
    "    #     func_to_plot,\n",
    "    #     fine_grid,\n",
    "    #     xlabel = r'$t$',\n",
    "    #     ylabel = r'$x$',\n",
    "    #     include_collocation = True\n",
    "    # ):\n",
    "    #     plt.figure(figsize=(8,6))\n",
    "\n",
    "    #     x_bounds = jnp.min(fine_grid[:,0]),jnp.max(fine_grid[:,0])\n",
    "    #     y_bounds = jnp.min(fine_grid[:,1]),jnp.max(fine_grid[:,1])\n",
    "    #     plt.tricontourf(fine_grid[:,0],fine_grid[:,1],func_to_plot(fine_grid),200)\n",
    "    #     cb = plt.colorbar()\n",
    "    #     tick_locator = ticker.MaxNLocator(nbins=4)\n",
    "    #     cb.locator = tick_locator\n",
    "    #     cb.update_ticks()\n",
    "    #     plt.xlabel(xlabel)\n",
    "    #     plt.ylabel(ylabel)\n",
    "    #     plt.xlim(x_bounds[0] - 0.02,x_bounds[1] + 0.02)\n",
    "    #     plt.ylim(y_bounds[0] - 0.02,y_bounds[1] + 0.02)\n",
    "    #     plt.scatter(obs_points[:,0],obs_points[:,1],c='red', s = 50, alpha = 0.5,label = \"Function Value Observed\")\n",
    "    #     if include_collocation is True:\n",
    "    #         plt.scatter(all_points[:,0],all_points[:,1],c='gray',s = 5,label = \"Collocation Point\")\n",
    "    #     #plt.figlegend(loc = 'upper center')\n",
    "\n",
    "\n",
    "    # plot_input_data(\n",
    "    #     tx_obs,\n",
    "    #     tx_all,\n",
    "    #     u_true_function,\n",
    "    #     tx_fine,\n",
    "    # )\n",
    "    # plt.gca().spines['bottom'].set_visible(False)\n",
    "    # plt.gca().spines['right'].set_visible(False)\n",
    "    # plt.gca().spines['left'].set_visible(False)\n",
    "    # plt.gca().spines['top'].set_visible(False)\n",
    "    # plt.tight_layout()\n",
    "    # plt.locator_params(nbins=4)\n",
    "    # plt.savefig('burgers_smooth',dpi = 300)\n",
    "    # plt.show()\n",
    "\n",
    "    # plt.figure(figsize=(7,6))\n",
    "    # num_fine_grid = 500\n",
    "    # grid_points = jnp.linspace(0,1,num_fine_grid)\n",
    "    # plt.plot(grid_points,u_true_function(jnp.vstack([0.0*jnp.ones(num_fine_grid),grid_points]).T),color = 'black',label = r'$t=0$')\n",
    "    # plt.plot(grid_points,u_true_function(jnp.vstack([1.*jnp.ones(num_fine_grid),grid_points]).T),linestyle = '--',color = 'black',label = r'$t=1$')\n",
    "    # # Number of tick major labels\n",
    "    # plt.locator_params(axis=\"x\", nbins=4)\n",
    "    # plt.locator_params(axis=\"y\", nbins=4)\n",
    "    # # Remove top and right spines\n",
    "    # plt.gca().spines['top'].set_visible(False)\n",
    "    # plt.gca().spines['right'].set_visible(False)\n",
    "    # # More settings\n",
    "    # plt.xlabel('$x$')\n",
    "    # plt.ylabel('$u(t,x)$')\n",
    "    # plt.legend(loc=\"upper right\",fontsize = 'x-small')\n",
    "    # plt.tight_layout()\n",
    "    # plt.savefig('burgers_smooth_init_final',dpi = 300)\n",
    "    # plt.show()\n",
    "\n",
    "\n",
    "    tx_train = tx_train.at[:,[1,0]].set(tx_train[:,[0,1]])\n",
    "\n",
    "    tx_val = tx_val.at[:,[1,0]].set(tx_val[:,[0,1]])\n",
    "\n",
    "    tx_all = tx_all.at[:,[1,0]].set(tx_all[:,[0,1]])\n",
    "\n",
    "    tx_all = jnp.vstack([tx_all,tx_train])\n",
    "\n",
    "    \n",
    "\n",
    "    return [tx_train, u_train, tx_all, tx_val, u_val, lb, ub]"
   ]
  },
  {
   "cell_type": "code",
   "execution_count": null,
   "metadata": {},
   "outputs": [],
   "source": [
    "q = get_data_for_pinns(gamma=2,n_obs=20, n_coll_t=26, n_coll_x=31,run=0)"
   ]
  },
  {
   "cell_type": "markdown",
   "metadata": {},
   "source": [
    "#### Generate data"
   ]
  },
  {
   "cell_type": "code",
   "execution_count": null,
   "metadata": {},
   "outputs": [],
   "source": [
    "data_in_PINNSR = []\n",
    "# Run loop\n",
    "NUM_RUNS = 10\n",
    "N_OBS = [10,30,50,100,200,300,400,500,600]\n",
    "for n_obs in N_OBS:\n",
    "    for run in range(NUM_RUNS):\n",
    "        element = []\n",
    "        element.append(n_obs)\n",
    "        element.append(run)\n",
    "        # Run\n",
    "        data_list = get_data_for_pinns(gamma=2,n_obs=n_obs, n_coll_t=26, n_coll_x=31,run=run) # small\n",
    "        # data_list = get_data_for_pinns(gamma=2,n_obs=n_obs, n_coll_t=223, n_coll_x=225,run=run)\n",
    "        data_list = list(map(np.array,data_list))\n",
    "        element.append(data_list)\n",
    "        data_in_PINNSR.append(element)\n",
    "np.save('data_in_PINNSR.npy', np.array(data_in_PINNSR, dtype=object), allow_pickle=True)"
   ]
  },
  {
   "cell_type": "code",
   "execution_count": 18,
   "metadata": {},
   "outputs": [],
   "source": [
    "data_in_PINNSR =  np.load('data_in_PINNSR.npy', allow_pickle=True)"
   ]
  },
  {
   "cell_type": "code",
   "execution_count": 24,
   "metadata": {},
   "outputs": [
    {
     "data": {
      "text/plain": [
       "(50854, 2)"
      ]
     },
     "execution_count": 24,
     "metadata": {},
     "output_type": "execute_result"
    }
   ],
   "source": [
    "data_in_PINNSR[0][2][2].shape"
   ]
  },
  {
   "cell_type": "markdown",
   "metadata": {},
   "source": [
    "Read out coefficients by PINNSR"
   ]
  },
  {
   "cell_type": "code",
   "execution_count": 3,
   "metadata": {},
   "outputs": [],
   "source": [
    "data_out_PINNSR = np.load('data_out_PINNSR.npy', allow_pickle=True)"
   ]
  },
  {
   "cell_type": "code",
   "execution_count": 8,
   "metadata": {},
   "outputs": [],
   "source": [
    "for element in data_out_PINNSR:\n",
    "    if isinstance(element[2],str):\n",
    "        print(element[0],element[1])"
   ]
  },
  {
   "cell_type": "code",
   "execution_count": 14,
   "metadata": {},
   "outputs": [],
   "source": [
    "for element in data_out_PINNSR:\n",
    "    if element[0]==30 and element[1]==0:\n",
    "        num_fine_grid = 100\n",
    "        t_fine,x_fine = np.meshgrid(np.linspace(0,1,num_fine_grid+4)[2:-2],np.linspace(0,1,num_fine_grid+4)[2:-2])\n",
    "        tx_fine_int = np.vstack([t_fine.flatten(),x_fine.flatten()]).T\n",
    "        plt.title('u_pred_PINNSR50kcoll')\n",
    "        plt.tricontourf(*tx_fine_int.T,element[3].flatten(),200)\n",
    "        plt.colorbar()\n",
    "        plt.xlabel('t')\n",
    "        plt.ylabel('x')"
   ]
  },
  {
   "cell_type": "code",
   "execution_count": 16,
   "metadata": {},
   "outputs": [],
   "source": [
    "def get_PINNSR_error(n_obs,run):\n",
    "    kernel_GP = get_gaussianRBF(0.2)\n",
    "    xy_pts = jnp.linspace(0,1,50) # Pts to build interpolants\n",
    "    u0_true_function = GP_Sampler_1D_Pinned(num_samples = 1,\n",
    "                                            X = xy_pts, \n",
    "                                            smooth = 2,\n",
    "                                            kernel = kernel_GP,\n",
    "                                            reg = 1e-8,\n",
    "                                            seed = 2\n",
    "                                        )\n",
    "    vec_u0_true_function = np.vectorize(u0_true_function[0])\n",
    "                            \n",
    "    # Solve Burgers' equations with IC u_0_true_function\n",
    "    kappa = 0.01\n",
    "    alpha = 1.\n",
    "    u_true_function,ut_true_function, interp,_,_ = (\n",
    "    build_burgers_data(func_u0=vec_u0_true_function,kappa = kappa,alpha = alpha,k_timestep=0.0001,n_finite_diff=1999)\n",
    "                        )\n",
    "    \n",
    "    # Run PINNSR step method\n",
    "    data_out_PINNSR = np.load('data_out_PINNSR.npy', allow_pickle=True)\n",
    "    for element in data_out_PINNSR:\n",
    "        if element[0] == n_obs and element[1] == run and isinstance(element[2],str) == False:\n",
    "            coef = jnp.array(element[2].flatten().astype(np.float64))\n",
    "            u_pred = jnp.array(element[3].flatten().astype(np.float64))\n",
    "        elif element[0] == n_obs and element[1] == run and isinstance(element[2],str) == True:\n",
    "            return np.nan, np.nan\n",
    "        else:\n",
    "            pass\n",
    "            \n",
    "    \n",
    "    num_fine_grid = 100\n",
    "    t_fine,x_fine = np.meshgrid(np.linspace(0,1,num_fine_grid+4)[2:-2],np.linspace(0,1,num_fine_grid+4)[2:-2])\n",
    "    tx_fine_int = np.vstack([t_fine.flatten(),x_fine.flatten()]).T\n",
    "\n",
    "    \n",
    "    def Phat(s):\n",
    "        return jnp.dot(s,coef)\n",
    "\n",
    "    # In-sample\n",
    "        \n",
    "    # P[\\phi(w)](fine_grid)\n",
    "    def evaluate_Phat(Phat, interp, fine_grid):\n",
    "\n",
    "        # Build S_test\n",
    "        def one_func(x):\n",
    "            return jnp.ones(len(x))\n",
    "        def u_true_function(x):\n",
    "            return interp(x[:,0],x[:,1],grid = False)\n",
    "        def ux_true_function(x):\n",
    "            ux_interp = interp.partial_derivative(0,1)\n",
    "            return ux_interp(x[:,0],x[:,1],grid = False)\n",
    "        def uxx_true_function(x):\n",
    "            uxx_interp = interp.partial_derivative(0,2)\n",
    "            return uxx_interp(x[:,0],x[:,1],grid = False)\n",
    "        def uu_true_function(x):\n",
    "            return u_true_function(x)**2\n",
    "        def uux_true_function(x):\n",
    "            return u_true_function(x)*ux_true_function(x)\n",
    "        def uuxx_true_function(x):\n",
    "            return u_true_function(x)*uxx_true_function(x)\n",
    "        def uxux_true_function(x):\n",
    "            return ux_true_function(x)*ux_true_function(x)\n",
    "        def uxuxx_true_function(x):\n",
    "            return ux_true_function(x)*uxx_true_function(x)\n",
    "        def uxxuxx_true_function(x):\n",
    "            return uxx_true_function(x)*uxx_true_function(x)\n",
    "    \n",
    "        \n",
    "        # By hand since the truth is taken as interp from scipy and not an induced RKHS class where we can apply usual feature operators\n",
    "        feat_funcs = [one_func,u_true_function, ux_true_function, uxx_true_function,\n",
    "                      uu_true_function,uux_true_function,uuxx_true_function,\n",
    "                      uxux_true_function,uxuxx_true_function,uxxuxx_true_function]\n",
    "        fine_features = jnp.array([feat_func(fine_grid) for feat_func in feat_funcs]).T\n",
    "        S_test = fine_features\n",
    "        \n",
    "        P_preds = Phat(S_test)\n",
    "        return P_preds\n",
    "\n",
    "    Phat_u = evaluate_Phat(Phat, interp, tx_fine_int)\n",
    "    u_t = ut_true_function(tx_fine_int)\n",
    "\n",
    "    # u error\n",
    "    num_fine_grid = 100\n",
    "    t_fine,x_fine = np.meshgrid(np.linspace(0,1,num_fine_grid+4)[2:-2],np.linspace(0,1,num_fine_grid+4)[2:-2])\n",
    "    tx_fine_int = np.vstack([t_fine.flatten(),x_fine.flatten()]).T\n",
    "    # u_true \n",
    "    u_true = u_true_function(tx_fine_int)\n",
    "    # get error\n",
    "    error_u = get_nrmse(u_true, u_pred)\n",
    "    \n",
    "    # fig = plt.figure()\n",
    "    # plt.title('P error')\n",
    "    # plt.tricontourf(*tx_fine_int.T,(Phat_u.flatten() - u_t)/jnp.linalg.norm(u_t))\n",
    "    # plt.colorbar()\n",
    "\n",
    "    error_Phat = get_nrmse(u_t, Phat_u.flatten())\n",
    "\n",
    "    return error_u, error_Phat"
   ]
  },
  {
   "cell_type": "code",
   "execution_count": 4,
   "metadata": {},
   "outputs": [],
   "source": [
    "e_ismpl_PINNSR = {'u': [], 'Phat':[]}"
   ]
  },
  {
   "cell_type": "code",
   "execution_count": null,
   "metadata": {},
   "outputs": [],
   "source": [
    "N_OBS = [10,30,50,100,200,300,400,500,600]\n",
    "N_RUNS = 10\n",
    "for n_obs in N_OBS:\n",
    "    u_errs = []\n",
    "    P_errs = []\n",
    "    for run in range(N_RUNS):\n",
    "        res = get_PINNSR_error(n_obs,run)\n",
    "        u_errs.append(res[0])\n",
    "        P_errs.append(res[1])\n",
    "    e_ismpl_PINNSR['u'].append(u_errs)\n",
    "    e_ismpl_PINNSR['Phat'].append(P_errs)"
   ]
  },
  {
   "cell_type": "code",
   "execution_count": 6,
   "metadata": {},
   "outputs": [],
   "source": [
    "# Save after\n",
    "jnp.save('i_smpl_errors/e_ismpl_PINNSR', e_ismpl_PINNSR)"
   ]
  },
  {
   "cell_type": "markdown",
   "metadata": {},
   "source": [
    "Load from here"
   ]
  },
  {
   "cell_type": "code",
   "execution_count": 2,
   "metadata": {},
   "outputs": [],
   "source": [
    "errors_PINNSR = jnp.load('i_smpl_errors/e_ismpl_PINNSR.npy', allow_pickle=True).item()"
   ]
  },
  {
   "cell_type": "code",
   "execution_count": 6,
   "metadata": {},
   "outputs": [],
   "source": [
    "u_s = jnp.array([jnp.mean(jnp.array(el)) for el in errors_PINNSR['u']])\n",
    "u_stds = jnp.array([jnp.std(jnp.array(el)) for el in errors_PINNSR['u']])\n",
    "P_s = jnp.array([jnp.nanmean(jnp.array(el)) for el in errors_PINNSR['Phat']])\n",
    "P_stds = jnp.array([jnp.nanstd(jnp.array(el)) for el in errors_PINNSR['Phat']])"
   ]
  },
  {
   "cell_type": "code",
   "execution_count": 7,
   "metadata": {},
   "outputs": [
    {
     "data": {
      "image/png": "[encoded data removed]",
      "text/plain": [
       "<Figure size 640x480 with 1 Axes>"
      ]
     },
     "metadata": {},
     "output_type": "display_data"
    }
   ],
   "source": [
    "# u errors\n",
    "N_OBS = [10,30,50,100,200,300,400,500,600]\n",
    "plt.title(r'$\\|\\hat{u}^1 - u^1\\|/\\|u^1\\|$')\n",
    "plt.plot(N_OBS,u_s, color = 'black')\n",
    "plt.fill_between(N_OBS, u_s - u_stds, u_s + u_stds, alpha=.1, color = 'black')\n",
    "plt.show()"
   ]
  },
  {
   "cell_type": "code",
   "execution_count": 11,
   "metadata": {},
   "outputs": [
    {
     "data": {
      "image/png": "[encoded data removed]",
      "text/plain": [
       "<Figure size 640x480 with 1 Axes>"
      ]
     },
     "metadata": {},
     "output_type": "display_data"
    }
   ],
   "source": [
    "# P errors\n",
    "N_OBS = [10,30,50,100,200,300,400,500,600]\n",
    "plt.title(r'$\\|\\hat{P}(u^1) - P(u^1)\\|/\\|P(u^1)\\|$')\n",
    "plt.plot(N_OBS,P_s,color = 'black')\n",
    "plt.fill_between(N_OBS, P_s - P_stds, P_s + P_stds, alpha=.1, color = 'black')\n",
    "plt.xlabel('n_obs')\n",
    "plt.ylabel('relative error')\n",
    "# plt.yscale('log')\n",
    "plt.show()"
   ]
  }
 ],
 "metadata": {
  "kernelspec": {
   "display_name": "keql",
   "language": "python",
   "name": "python3"
  },
  "language_info": {
   "codemirror_mode": {
    "name": "ipython",
    "version": 3
   },
   "file_extension": ".py",
   "mimetype": "text/x-python",
   "name": "python",
   "nbconvert_exporter": "python",
   "pygments_lexer": "ipython3",
   "version": "3.12.8"
  }
 },
 "nbformat": 4,
 "nbformat_minor": 2
}
